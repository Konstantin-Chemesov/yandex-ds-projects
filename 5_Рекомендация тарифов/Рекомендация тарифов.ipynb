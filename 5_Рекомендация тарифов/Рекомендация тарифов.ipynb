{
 "cells": [
  {
   "cell_type": "markdown",
   "metadata": {},
   "source": [
    "**Рекомендация тарифов**"
   ]
  },
  {
   "cell_type": "markdown",
   "metadata": {
    "tags": []
   },
   "source": [
    "**Постановка задачи:**\n",
    "\n",
    "Даны сведения о поведении клиентов, которые уже перешли на тарифы \"Смарт\" и \"Ультра\". \n",
    "\n",
    "Нужно построить модель для задачи классификации, которая выберет подходящий тариф. Предобработка данных не требуется."
   ]
  },
  {
   "cell_type": "markdown",
   "metadata": {},
   "source": [
    "**Содержание:**\n",
    "\n",
    "1. Загрузка требуемых библиотек и датасета\n",
    "2. Разбиение данных на обучающую и тестовую выборки\n",
    "3. Создание, обучение и описание моделей\n",
    "4. Проверка качества полученных моделей на тестовой выборке\n",
    "5. Проверка адекватности моделей\n",
    "6. Вывод по проекту"
   ]
  },
  {
   "cell_type": "markdown",
   "metadata": {},
   "source": [
    "# Загрузка требуемых библиотек и датасета"
   ]
  },
  {
   "cell_type": "code",
   "execution_count": 20,
   "metadata": {},
   "outputs": [],
   "source": [
    "# Подгружаем требуемые для работы инструменты\n",
    "\n",
    "import pandas as pd\n",
    "\n",
    "from sklearn.tree import DecisionTreeClassifier\n",
    "from sklearn.ensemble import RandomForestClassifier\n",
    "from sklearn.linear_model import LogisticRegression\n",
    "\n",
    "from sklearn.model_selection import train_test_split\n",
    "from sklearn.metrics import accuracy_score\n",
    "from sklearn.dummy import DummyClassifier\n",
    "\n",
    "import warnings\n",
    "warnings.simplefilter('ignore')"
   ]
  },
  {
   "cell_type": "code",
   "execution_count": 8,
   "metadata": {},
   "outputs": [],
   "source": [
    "# Для работы из тренажера или с локальной машины подгружаем датасет с помощью конструкции try-except\n",
    "\n",
    "try:\n",
    "    df = pd.read_csv('/datasets/users_behavior.csv')\n",
    "except:\n",
    "    df = pd.read_csv('users_behavior.csv')"
   ]
  },
  {
   "cell_type": "code",
   "execution_count": 9,
   "metadata": {},
   "outputs": [
    {
     "data": {
      "text/html": [
       "<div>\n",
       "<style scoped>\n",
       "    .dataframe tbody tr th:only-of-type {\n",
       "        vertical-align: middle;\n",
       "    }\n",
       "\n",
       "    .dataframe tbody tr th {\n",
       "        vertical-align: top;\n",
       "    }\n",
       "\n",
       "    .dataframe thead th {\n",
       "        text-align: right;\n",
       "    }\n",
       "</style>\n",
       "<table border=\"1\" class=\"dataframe\">\n",
       "  <thead>\n",
       "    <tr style=\"text-align: right;\">\n",
       "      <th></th>\n",
       "      <th>calls</th>\n",
       "      <th>minutes</th>\n",
       "      <th>messages</th>\n",
       "      <th>mb_used</th>\n",
       "      <th>is_ultra</th>\n",
       "    </tr>\n",
       "  </thead>\n",
       "  <tbody>\n",
       "    <tr>\n",
       "      <th>0</th>\n",
       "      <td>40.0</td>\n",
       "      <td>311.90</td>\n",
       "      <td>83.0</td>\n",
       "      <td>19915.42</td>\n",
       "      <td>0</td>\n",
       "    </tr>\n",
       "    <tr>\n",
       "      <th>1</th>\n",
       "      <td>85.0</td>\n",
       "      <td>516.75</td>\n",
       "      <td>56.0</td>\n",
       "      <td>22696.96</td>\n",
       "      <td>0</td>\n",
       "    </tr>\n",
       "    <tr>\n",
       "      <th>2</th>\n",
       "      <td>77.0</td>\n",
       "      <td>467.66</td>\n",
       "      <td>86.0</td>\n",
       "      <td>21060.45</td>\n",
       "      <td>0</td>\n",
       "    </tr>\n",
       "    <tr>\n",
       "      <th>3</th>\n",
       "      <td>106.0</td>\n",
       "      <td>745.53</td>\n",
       "      <td>81.0</td>\n",
       "      <td>8437.39</td>\n",
       "      <td>1</td>\n",
       "    </tr>\n",
       "    <tr>\n",
       "      <th>4</th>\n",
       "      <td>66.0</td>\n",
       "      <td>418.74</td>\n",
       "      <td>1.0</td>\n",
       "      <td>14502.75</td>\n",
       "      <td>0</td>\n",
       "    </tr>\n",
       "  </tbody>\n",
       "</table>\n",
       "</div>"
      ],
      "text/plain": [
       "   calls  minutes  messages   mb_used  is_ultra\n",
       "0   40.0   311.90      83.0  19915.42         0\n",
       "1   85.0   516.75      56.0  22696.96         0\n",
       "2   77.0   467.66      86.0  21060.45         0\n",
       "3  106.0   745.53      81.0   8437.39         1\n",
       "4   66.0   418.74       1.0  14502.75         0"
      ]
     },
     "execution_count": 9,
     "metadata": {},
     "output_type": "execute_result"
    }
   ],
   "source": [
    "# Осматриваем имеющийся датасет\n",
    "\n",
    "df.head()"
   ]
  },
  {
   "cell_type": "code",
   "execution_count": 10,
   "metadata": {},
   "outputs": [
    {
     "name": "stdout",
     "output_type": "stream",
     "text": [
      "<class 'pandas.core.frame.DataFrame'>\n",
      "RangeIndex: 3214 entries, 0 to 3213\n",
      "Data columns (total 5 columns):\n",
      " #   Column    Non-Null Count  Dtype  \n",
      "---  ------    --------------  -----  \n",
      " 0   calls     3214 non-null   float64\n",
      " 1   minutes   3214 non-null   float64\n",
      " 2   messages  3214 non-null   float64\n",
      " 3   mb_used   3214 non-null   float64\n",
      " 4   is_ultra  3214 non-null   int64  \n",
      "dtypes: float64(4), int64(1)\n",
      "memory usage: 125.7 KB\n"
     ]
    }
   ],
   "source": [
    "df.info()"
   ]
  },
  {
   "cell_type": "markdown",
   "metadata": {},
   "source": [
    "**Выводы по первичному изучению данных**\n",
    "\n",
    "Датафрейм состоит из 3214 строк и 5 столбцов. Пропусков нет, форматирования данных не требуется.\n",
    "        \n",
    "1. сalls — количество звонков;\n",
    "2. minutes — суммарная длительность звонков в минутах;\n",
    "3. messages — количество sms-сообщений;\n",
    "4. mb_used — израсходованный интернет-трафик в Мб;\n",
    "5. is_ultra — каким тарифом пользовался в течение месяца («Ультра» — 1, «Смарт» — 0).   \n",
    "</div>"
   ]
  },
  {
   "cell_type": "markdown",
   "metadata": {},
   "source": [
    "## Вывод по разделу\n",
    "\n",
    "На данном этапе были подгружены необходимые библиотеки и инструменты для создания, обучения, тестирования ML-моделей. \n",
    "Скачан исходный датасет, дано описание его содержимого. Можно двигаться дальше.\n"
   ]
  },
  {
   "cell_type": "markdown",
   "metadata": {},
   "source": [
    "# Разбиение данных на выборки"
   ]
  },
  {
   "cell_type": "code",
   "execution_count": 11,
   "metadata": {},
   "outputs": [],
   "source": [
    "# Создаем датафрейм обучающих признаков\n",
    "\n",
    "features = df.drop('is_ultra', axis = 1)"
   ]
  },
  {
   "cell_type": "code",
   "execution_count": 12,
   "metadata": {},
   "outputs": [],
   "source": [
    "# записываем целевой призанак в отдельный датасет\n",
    "\n",
    "target = df['is_ultra'] "
   ]
  },
  {
   "cell_type": "code",
   "execution_count": 13,
   "metadata": {},
   "outputs": [],
   "source": [
    "# Делим исходный датасет на обучающую, валидационную и тестовую выборку в соотношении 3:1:1, для чего используем метод train_test_split два раза \n",
    "# со значениями test_size = 0.2 ...\n",
    "\n",
    "features_eighty, features_valid, target_eighty, target_valid = train_test_split(\n",
    "    features, target, test_size=0.2, random_state=12345) "
   ]
  },
  {
   "cell_type": "code",
   "execution_count": 14,
   "metadata": {},
   "outputs": [],
   "source": [
    "# и 0.25 (сначала исходный датасет делим на 80 и 20 процентов, а затем полученные 80 процентов на 75 и 25)\n",
    "\n",
    "features_train, features_test, target_train, target_test = train_test_split(\n",
    "    features_eighty, target_eighty, test_size=0.25, random_state=12345) "
   ]
  },
  {
   "cell_type": "code",
   "execution_count": 15,
   "metadata": {},
   "outputs": [
    {
     "data": {
      "text/plain": [
       "(1928, 4)"
      ]
     },
     "execution_count": 15,
     "metadata": {},
     "output_type": "execute_result"
    }
   ],
   "source": [
    "# Смотрим размеры тренировочного набора признаков\n",
    "\n",
    "features_train.shape"
   ]
  },
  {
   "cell_type": "code",
   "execution_count": 16,
   "metadata": {},
   "outputs": [
    {
     "data": {
      "text/plain": [
       "(643, 4)"
      ]
     },
     "execution_count": 16,
     "metadata": {},
     "output_type": "execute_result"
    }
   ],
   "source": [
    "# Смотрим размеры валидационного набора признаков\n",
    "\n",
    "features_valid.shape"
   ]
  },
  {
   "cell_type": "code",
   "execution_count": 17,
   "metadata": {},
   "outputs": [
    {
     "data": {
      "text/plain": [
       "(643, 4)"
      ]
     },
     "execution_count": 17,
     "metadata": {},
     "output_type": "execute_result"
    }
   ],
   "source": [
    "# Смотрим размеры тестового набора признаков\n",
    "\n",
    "features_test.shape"
   ]
  },
  {
   "cell_type": "markdown",
   "metadata": {},
   "source": [
    "## Вывод по разделу\n",
    "\n",
    "В этом разделе исходный набор объектов был разделен на тренировочную, валидационную и тестовую выборки в соотношении 3:1:1. \n",
    "Это позволит нам в дальнейшем обучить модель, исследовать ее точность, а затем проверить результаты обучения."
   ]
  },
  {
   "cell_type": "markdown",
   "metadata": {},
   "source": [
    "# Исследование моделей"
   ]
  },
  {
   "cell_type": "markdown",
   "metadata": {},
   "source": [
    "## Решающее дерево"
   ]
  },
  {
   "cell_type": "code",
   "execution_count": 18,
   "metadata": {},
   "outputs": [
    {
     "name": "stdout",
     "output_type": "stream",
     "text": [
      "Accuracy лучшего дерева: 0.7962674961119751\n",
      "Глубина лучшего дерева: 4\n",
      "Количество листьев лучшего дерева: 4\n"
     ]
    }
   ],
   "source": [
    "# Для начала сформируем, обучим модель решающего дерева на тренировочной выборке. Затем рассчитаем метрику accuracy. \n",
    "# Все это будем делать для различных гиперпараметров max_depth и min_samples_leaf. \n",
    "\n",
    "# Цикл for будет перебирать различные значения глубины дерева\n",
    "# на отрезке от 1 до 99. Второй цикл для каждой глубины переберет различное количество листьев от 1 до 19.\n",
    "\n",
    "# В конце каждой итерации цикла полученное значение точности модели \n",
    "# будет сравниваться с предыдущим и, в случае его увеличения,\n",
    "# записываться в переменную best_result. Сама модель - в best_tree,\n",
    "# ее глубина в best_depth.\n",
    "\n",
    "best_tree = None\n",
    "best_result = 0\n",
    "\n",
    "for depth in range(1, 100):\n",
    "    for leafs in range(1, 20):\n",
    "    \n",
    "        model = DecisionTreeClassifier(random_state=12345, max_depth=depth, min_samples_leaf=leafs) \n",
    "        \n",
    "        model.fit(features_train, target_train) \n",
    "        \n",
    "        predictions = model.predict(features_valid) \n",
    "        \n",
    "        result = accuracy_score(target_valid, predictions) \n",
    "\n",
    "        if result > best_result:\n",
    "            best_tree = model\n",
    "            best_result = result\n",
    "            best_depth = depth\n",
    "            best_leafs = leafs\n",
    "        \n",
    "print(\"Accuracy лучшего дерева:\", best_result)\n",
    "print('Глубина лучшего дерева:', best_depth)\n",
    "print('Количество листьев лучшего дерева:', best_leafs)"
   ]
  },
  {
   "cell_type": "markdown",
   "metadata": {},
   "source": [
    "## Случайный лес"
   ]
  },
  {
   "cell_type": "code",
   "execution_count": 19,
   "metadata": {},
   "outputs": [
    {
     "name": "stdout",
     "output_type": "stream",
     "text": [
      "Accuracy наилучшей модели на валидационной выборке: 0.7931570762052877\n",
      "Количество деревьев в лучшей модели: 84\n"
     ]
    }
   ],
   "source": [
    "# Следующей моделью для проверки берем случайный лес. Алгоритм действий тот же, что для решающего дерева.\n",
    "\n",
    "# Цикл for будет перебирать различные значения количества деревьев\n",
    "# в лесу на отрезке от 1 до 100. \n",
    "\n",
    "# В конце каждой итерации цикла полученное значение точности\n",
    "# модели будет сравниваться с предыдущим и, в случае его увеличения,\n",
    "# записываться в переменную best_result, сама модель в best_forest,\n",
    "# а количество деревьев в ней в best_forest_est.\n",
    "\n",
    "best_model = None\n",
    "best_result = 0\n",
    "\n",
    "for est in range(1, 100):\n",
    "    \n",
    "    model = RandomForestClassifier(random_state=12345, n_estimators=est) \n",
    "    \n",
    "    model.fit(features_train, target_train) \n",
    "    \n",
    "    result = model.score(features_valid, target_valid) \n",
    "    \n",
    "    if result > best_result:\n",
    "        best_forest = model \n",
    "        best_result = result\n",
    "        best_forest_est = est\n",
    "        \n",
    "print(\"Accuracy наилучшей модели на валидационной выборке:\", best_result)\n",
    "print('Количество деревьев в лучшей модели:', best_forest_est)"
   ]
  },
  {
   "cell_type": "markdown",
   "metadata": {},
   "source": [
    "## Логистическая регрессия"
   ]
  },
  {
   "cell_type": "code",
   "execution_count": 21,
   "metadata": {},
   "outputs": [
    {
     "name": "stdout",
     "output_type": "stream",
     "text": [
      "Accuracy модели логистической регрессии на валидационной выборке: 0.7589424572317263\n"
     ]
    }
   ],
   "source": [
    "# Следующей моделью для проверки берем логистическую регрессию. Алгоритм действий тот же, что и для первых двух моделей, но без циклов\n",
    "\n",
    "model_log_reg = LogisticRegression(random_state=12345) \n",
    "\n",
    "model_log_reg.fit(features_train, target_train) \n",
    "\n",
    "result = model_log_reg.score(features_valid, target_valid) \n",
    "\n",
    "print(\"Accuracy модели логистической регрессии на валидационной выборке:\", result)"
   ]
  },
  {
   "cell_type": "markdown",
   "metadata": {},
   "source": [
    "# Проверка моделей на тестовой выборке"
   ]
  },
  {
   "cell_type": "markdown",
   "metadata": {},
   "source": [
    "## Решающее дерево"
   ]
  },
  {
   "cell_type": "code",
   "execution_count": 22,
   "metadata": {},
   "outputs": [
    {
     "data": {
      "text/plain": [
       "0.7667185069984448"
      ]
     },
     "execution_count": 22,
     "metadata": {},
     "output_type": "execute_result"
    }
   ],
   "source": [
    "# Проверим качество предсказаний лучшей модели решающего дерева на тестовой выборке\n",
    "\n",
    "best_tree.score(features_test, target_test) "
   ]
  },
  {
   "cell_type": "markdown",
   "metadata": {},
   "source": [
    "## Случайный лес"
   ]
  },
  {
   "cell_type": "code",
   "execution_count": 23,
   "metadata": {},
   "outputs": [
    {
     "data": {
      "text/plain": [
       "0.7978227060653188"
      ]
     },
     "execution_count": 23,
     "metadata": {},
     "output_type": "execute_result"
    }
   ],
   "source": [
    "# Проверим качество предсказаний лучшей модели решающего дерева на тестовой выборке\n",
    "\n",
    "best_forest.score(features_test, target_test) "
   ]
  },
  {
   "cell_type": "markdown",
   "metadata": {},
   "source": [
    "## Логистическая регрессия"
   ]
  },
  {
   "cell_type": "code",
   "execution_count": 17,
   "metadata": {},
   "outputs": [
    {
     "data": {
      "text/plain": [
       "0.6967340590979783"
      ]
     },
     "execution_count": 17,
     "metadata": {},
     "output_type": "execute_result"
    }
   ],
   "source": [
    "# Проверим качество предсказаний лучшей модели решающего дерева на тестовой выборке\n",
    "\n",
    "model_log_reg.score(features_test, target_test) "
   ]
  },
  {
   "cell_type": "markdown",
   "metadata": {},
   "source": [
    "## Вывод по разделу\n",
    "\n",
    "На текущем этапе проекта все три полученные модели с наилучшими параметрами были проверены на тестовой выборке. \n",
    "\n",
    "Сформированная модель решающего дерева вошла в стадию переобучения, в связи с чем показатель ее точности на тестовой выборке упал, по-сравнению с валидационной (0.796 против 0.766). \n",
    "\n",
    "Случайный лес показал себя с лучшей стороны. Его показатель accuracy на валидационной выборке оказался даже слегка ниже, чем на тестовой (0.793 против 0.797).\n",
    "\n",
    "Логистическая регрессия оказалась в состоянии недообучения - результаты на валидационной выборке не могли похвастаться высоким показателем точности, а на тестовой совсем скатились вниз (0.702 против 0.696)"
   ]
  },
  {
   "cell_type": "markdown",
   "metadata": {},
   "source": [
    "## (бонус) Проверьте модели на адекватность"
   ]
  },
  {
   "cell_type": "code",
   "execution_count": 18,
   "metadata": {},
   "outputs": [
    {
     "name": "stdout",
     "output_type": "stream",
     "text": [
      "Показатель точности для стратегии most_frequent: 0.6889580093312597\n",
      "Показатель точности для стратегии stratified: 0.5909797822706065\n",
      "Показатель точности для стратегии uniform: 0.48833592534992226\n"
     ]
    }
   ],
   "source": [
    "# А проверку на адекватность будем делать с помощью инструмента Dummy Models (спасибо за наводку на этот метод, Алексей!) \n",
    "# При этом для широты эксперимента попробуем применить метод формирования предсказаний по самому частотному параметру (most_frequent),\n",
    "# c учетом распределения по классам (stratified), при равномерном распределении вероятности прогноза (uniform). Стратегию предсказания по константам\n",
    "# можно не рассматривать, так как она будет частным случаем для самого частотного параметра.\n",
    "\n",
    "strategies = ['most_frequent', 'stratified', 'uniform']\n",
    "  \n",
    "scores = []\n",
    "for strat in strategies:\n",
    "    model = DummyClassifier(strategy = strat, random_state = 0)\n",
    "    model.fit(features_train, target_train)\n",
    "    score = model.score(features_test, target_test)\n",
    "    print('Показатель точности для стратегии {}: {}'.format(strat, score) )\n"
   ]
  },
  {
   "cell_type": "markdown",
   "metadata": {},
   "source": [
    "## Вывод по проверке модели на адекватность\n",
    "    \n",
    "В данном разделе модель DummyClassifier при разных параметрах стратегий (most_frequent, stratified, uniform) была обучена на тренировочной выборке, а затем ее работоспособность проверена на тестовой выборке. \n",
    "\n",
    "Результаты продемонстрировали, что все три стратегии оказались \"слабее\" по значению accuracy, чем любая из наших исследованных ранее моделей. Только показатели логистической регрессии немногим превзошли лучший показатель DummyClassifier (0.6967340590979783 против 0.6889580093312597). Таким образом можно уверенно заявить, что наши модели оказались более эффективными, чем простейший классификатор. \n",
    "    С этим можно работать.  \n",
    "\n",
    "\n",
    "</div>"
   ]
  },
  {
   "cell_type": "markdown",
   "metadata": {},
   "source": [
    "# Вывод по проекту\n",
    "   \n",
    "В данном проекте были отработаны навыки загрузки необходимых для машинного обучения библиотек, формирования моделей классификации и перебора их гиперпараметров. Проверка качества модели на валидационной выборке, а затем на тестовой.\n",
    "\n",
    "Для данного датасета **лучше всего себя показала модель случайного леса (accuracy = 0.798)**, показывая одинаково хорошие результаты на обеих проверках. Несколько хуже отработало решающее дерево (accuracy = 0.767), а в самом конце плелась логистическая регрессия (accuracy = 0.697).\n",
    "\n",
    "Таким образом, для решения задачи по выбору подходящего тарифа для клиента следовало бы брать модель случайного леса.\n",
    "\n",
    "В заключительном разделе была проведена проверка моделей на адекватность путем сравнения их показателей Accuracy  с аналогичной метрикой инструмента DummyClassifier. Результаты показали, что полученные нами модели оказались эффективнее проверочной системы.  "
   ]
  }
 ],
 "metadata": {
  "ExecuteTimeLog": [
   {
    "duration": 329,
    "start_time": "2021-06-21T20:25:43.103Z"
   },
   {
    "duration": 978,
    "start_time": "2021-06-21T20:25:47.097Z"
   },
   {
    "duration": 22,
    "start_time": "2021-06-21T20:27:08.416Z"
   },
   {
    "duration": 27,
    "start_time": "2021-06-21T20:27:13.206Z"
   },
   {
    "duration": 5,
    "start_time": "2021-06-21T20:27:29.383Z"
   },
   {
    "duration": 308,
    "start_time": "2021-06-21T20:27:31.934Z"
   },
   {
    "duration": 13,
    "start_time": "2021-06-21T20:27:34.950Z"
   },
   {
    "duration": 10,
    "start_time": "2021-06-21T20:27:43.646Z"
   },
   {
    "duration": 37,
    "start_time": "2021-06-21T20:27:53.801Z"
   },
   {
    "duration": 268,
    "start_time": "2021-06-21T20:29:49.152Z"
   },
   {
    "duration": 362,
    "start_time": "2021-06-21T20:30:04.324Z"
   },
   {
    "duration": 21,
    "start_time": "2021-06-21T20:30:05.196Z"
   },
   {
    "duration": 18,
    "start_time": "2021-06-21T20:30:05.438Z"
   },
   {
    "duration": 10,
    "start_time": "2021-06-21T20:30:05.701Z"
   },
   {
    "duration": 52,
    "start_time": "2021-06-21T20:30:05.902Z"
   },
   {
    "duration": 9,
    "start_time": "2021-06-21T20:30:07.614Z"
   },
   {
    "duration": 316,
    "start_time": "2021-06-21T20:31:39.363Z"
   },
   {
    "duration": 5,
    "start_time": "2021-06-21T20:31:52.381Z"
   },
   {
    "duration": 22,
    "start_time": "2021-06-21T20:31:53.357Z"
   },
   {
    "duration": 12,
    "start_time": "2021-06-21T20:31:53.598Z"
   },
   {
    "duration": 9,
    "start_time": "2021-06-21T20:31:53.780Z"
   },
   {
    "duration": 33,
    "start_time": "2021-06-21T20:31:53.900Z"
   },
   {
    "duration": 8,
    "start_time": "2021-06-21T20:31:55.030Z"
   },
   {
    "duration": 45,
    "start_time": "2021-06-21T20:31:55.965Z"
   },
   {
    "duration": 37,
    "start_time": "2021-06-21T20:32:52.007Z"
   },
   {
    "duration": 264,
    "start_time": "2021-06-21T20:33:43.644Z"
   },
   {
    "duration": 6,
    "start_time": "2021-06-21T20:33:54.804Z"
   },
   {
    "duration": 376,
    "start_time": "2021-06-21T20:33:57.190Z"
   },
   {
    "duration": 387,
    "start_time": "2021-06-21T20:34:30.443Z"
   },
   {
    "duration": 389,
    "start_time": "2021-06-22T20:14:20.083Z"
   },
   {
    "duration": 320,
    "start_time": "2021-06-22T20:15:30.878Z"
   },
   {
    "duration": -12130,
    "start_time": "2021-06-22T20:15:52.826Z"
   },
   {
    "duration": -12131,
    "start_time": "2021-06-22T20:15:52.829Z"
   },
   {
    "duration": -12133,
    "start_time": "2021-06-22T20:15:52.832Z"
   },
   {
    "duration": -12136,
    "start_time": "2021-06-22T20:15:52.836Z"
   },
   {
    "duration": -12137,
    "start_time": "2021-06-22T20:15:52.839Z"
   },
   {
    "duration": -12140,
    "start_time": "2021-06-22T20:15:52.843Z"
   },
   {
    "duration": -12142,
    "start_time": "2021-06-22T20:15:52.846Z"
   },
   {
    "duration": -12144,
    "start_time": "2021-06-22T20:15:52.850Z"
   },
   {
    "duration": -12147,
    "start_time": "2021-06-22T20:15:52.854Z"
   },
   {
    "duration": 4,
    "start_time": "2021-06-22T20:15:56.726Z"
   },
   {
    "duration": 20,
    "start_time": "2021-06-22T20:15:57.293Z"
   },
   {
    "duration": 13,
    "start_time": "2021-06-22T20:15:57.637Z"
   },
   {
    "duration": 9,
    "start_time": "2021-06-22T20:15:58.326Z"
   },
   {
    "duration": 32,
    "start_time": "2021-06-22T20:15:58.686Z"
   },
   {
    "duration": 9,
    "start_time": "2021-06-22T20:15:59.693Z"
   },
   {
    "duration": 37,
    "start_time": "2021-06-22T20:16:01.966Z"
   },
   {
    "duration": 400,
    "start_time": "2021-06-22T20:16:02.918Z"
   },
   {
    "duration": 6908,
    "start_time": "2021-06-22T20:16:04.654Z"
   },
   {
    "duration": 308,
    "start_time": "2021-06-22T20:16:52.614Z"
   },
   {
    "duration": 4,
    "start_time": "2021-06-22T20:17:15.877Z"
   },
   {
    "duration": 20,
    "start_time": "2021-06-22T20:17:16.156Z"
   },
   {
    "duration": 13,
    "start_time": "2021-06-22T20:17:16.461Z"
   },
   {
    "duration": 11,
    "start_time": "2021-06-22T20:17:16.669Z"
   },
   {
    "duration": 52,
    "start_time": "2021-06-22T20:17:16.917Z"
   },
   {
    "duration": 12,
    "start_time": "2021-06-22T20:17:17.501Z"
   },
   {
    "duration": 58,
    "start_time": "2021-06-22T20:17:17.989Z"
   },
   {
    "duration": 625,
    "start_time": "2021-06-22T20:17:18.366Z"
   },
   {
    "duration": 32,
    "start_time": "2021-06-22T20:17:19.012Z"
   },
   {
    "duration": 978,
    "start_time": "2021-06-29T20:27:24.436Z"
   },
   {
    "duration": 18,
    "start_time": "2021-06-29T20:27:25.416Z"
   },
   {
    "duration": 59,
    "start_time": "2021-06-29T20:27:25.436Z"
   },
   {
    "duration": 7,
    "start_time": "2021-06-29T20:27:25.497Z"
   },
   {
    "duration": 4,
    "start_time": "2021-06-29T20:27:25.506Z"
   },
   {
    "duration": 5,
    "start_time": "2021-06-29T20:27:25.511Z"
   },
   {
    "duration": 6,
    "start_time": "2021-06-29T20:27:25.517Z"
   },
   {
    "duration": 5,
    "start_time": "2021-06-29T20:27:25.525Z"
   },
   {
    "duration": 4,
    "start_time": "2021-06-29T20:27:25.584Z"
   },
   {
    "duration": 5,
    "start_time": "2021-06-29T20:27:25.589Z"
   },
   {
    "duration": 4,
    "start_time": "2021-06-29T20:27:25.595Z"
   },
   {
    "duration": 15036,
    "start_time": "2021-06-29T20:27:25.601Z"
   },
   {
    "duration": 18987,
    "start_time": "2021-06-29T20:27:40.638Z"
   },
   {
    "duration": -645,
    "start_time": "2021-06-29T20:28:00.272Z"
   },
   {
    "duration": -646,
    "start_time": "2021-06-29T20:28:00.274Z"
   },
   {
    "duration": -647,
    "start_time": "2021-06-29T20:28:00.276Z"
   },
   {
    "duration": -648,
    "start_time": "2021-06-29T20:28:00.278Z"
   },
   {
    "duration": 2,
    "start_time": "2021-06-29T20:28:20.073Z"
   },
   {
    "duration": 2,
    "start_time": "2021-06-29T20:28:42.126Z"
   },
   {
    "duration": 17378,
    "start_time": "2021-06-29T20:29:01.900Z"
   },
   {
    "duration": 11,
    "start_time": "2021-06-29T20:29:22.092Z"
   },
   {
    "duration": 5,
    "start_time": "2021-06-29T20:29:29.060Z"
   },
   {
    "duration": 20,
    "start_time": "2021-06-29T20:29:30.731Z"
   },
   {
    "duration": 5,
    "start_time": "2021-06-29T20:29:31.755Z"
   },
   {
    "duration": 977,
    "start_time": "2021-06-29T20:30:25.850Z"
   },
   {
    "duration": 20,
    "start_time": "2021-06-29T20:30:26.829Z"
   },
   {
    "duration": 16,
    "start_time": "2021-06-29T20:30:26.851Z"
   },
   {
    "duration": 7,
    "start_time": "2021-06-29T20:30:26.868Z"
   },
   {
    "duration": 3,
    "start_time": "2021-06-29T20:30:26.885Z"
   },
   {
    "duration": 4,
    "start_time": "2021-06-29T20:30:26.890Z"
   },
   {
    "duration": 7,
    "start_time": "2021-06-29T20:30:26.896Z"
   },
   {
    "duration": 7,
    "start_time": "2021-06-29T20:30:26.904Z"
   },
   {
    "duration": 4,
    "start_time": "2021-06-29T20:30:26.913Z"
   },
   {
    "duration": 4,
    "start_time": "2021-06-29T20:30:26.919Z"
   },
   {
    "duration": 4,
    "start_time": "2021-06-29T20:30:26.924Z"
   },
   {
    "duration": 13820,
    "start_time": "2021-06-29T20:30:26.930Z"
   },
   {
    "duration": 17181,
    "start_time": "2021-06-29T20:30:40.752Z"
   },
   {
    "duration": 11,
    "start_time": "2021-06-29T20:30:57.934Z"
   },
   {
    "duration": 5,
    "start_time": "2021-06-29T20:30:57.946Z"
   },
   {
    "duration": 44,
    "start_time": "2021-06-29T20:30:57.952Z"
   },
   {
    "duration": 5,
    "start_time": "2021-06-29T20:30:57.997Z"
   },
   {
    "duration": 1313,
    "start_time": "2021-07-01T18:21:50.517Z"
   },
   {
    "duration": 79,
    "start_time": "2021-07-01T18:21:51.832Z"
   },
   {
    "duration": 21,
    "start_time": "2021-07-01T18:21:51.914Z"
   },
   {
    "duration": 13,
    "start_time": "2021-07-01T18:21:51.938Z"
   },
   {
    "duration": 11,
    "start_time": "2021-07-01T18:21:51.954Z"
   },
   {
    "duration": 6,
    "start_time": "2021-07-01T18:21:51.968Z"
   },
   {
    "duration": 10,
    "start_time": "2021-07-01T18:21:51.983Z"
   },
   {
    "duration": 8,
    "start_time": "2021-07-01T18:21:51.998Z"
   },
   {
    "duration": 8,
    "start_time": "2021-07-01T18:21:52.009Z"
   },
   {
    "duration": 9,
    "start_time": "2021-07-01T18:21:52.019Z"
   },
   {
    "duration": 8,
    "start_time": "2021-07-01T18:21:52.030Z"
   },
   {
    "duration": 20752,
    "start_time": "2021-07-01T18:21:52.040Z"
   },
   {
    "duration": 26644,
    "start_time": "2021-07-01T18:22:12.795Z"
   },
   {
    "duration": 19,
    "start_time": "2021-07-01T18:22:39.442Z"
   },
   {
    "duration": 26,
    "start_time": "2021-07-01T18:22:39.463Z"
   },
   {
    "duration": 34,
    "start_time": "2021-07-01T18:22:39.493Z"
   },
   {
    "duration": 8,
    "start_time": "2021-07-01T18:22:39.530Z"
   },
   {
    "duration": 405,
    "start_time": "2021-07-01T18:23:00.818Z"
   },
   {
    "duration": 5,
    "start_time": "2021-07-01T18:23:35.281Z"
   },
   {
    "duration": 309,
    "start_time": "2021-07-01T18:23:40.841Z"
   },
   {
    "duration": 355,
    "start_time": "2021-07-01T18:23:55.833Z"
   },
   {
    "duration": 14,
    "start_time": "2021-07-01T18:25:09.953Z"
   },
   {
    "duration": 14,
    "start_time": "2021-07-01T18:25:20.898Z"
   },
   {
    "duration": 4,
    "start_time": "2021-07-01T18:25:36.065Z"
   },
   {
    "duration": 16,
    "start_time": "2021-07-01T18:29:38.795Z"
   },
   {
    "duration": 4,
    "start_time": "2021-07-01T18:29:40.377Z"
   },
   {
    "duration": 92,
    "start_time": "2021-07-01T18:35:32.325Z"
   },
   {
    "duration": 264,
    "start_time": "2021-07-01T18:35:45.368Z"
   },
   {
    "duration": 13,
    "start_time": "2021-07-01T18:36:09.952Z"
   },
   {
    "duration": 10,
    "start_time": "2021-07-01T18:38:15.135Z"
   },
   {
    "duration": 4,
    "start_time": "2021-07-01T18:38:16.206Z"
   },
   {
    "duration": 16,
    "start_time": "2021-07-01T18:38:31.978Z"
   },
   {
    "duration": 5,
    "start_time": "2021-07-01T18:38:32.270Z"
   },
   {
    "duration": 5,
    "start_time": "2021-07-01T18:38:35.462Z"
   },
   {
    "duration": 12,
    "start_time": "2021-07-01T18:38:36.543Z"
   },
   {
    "duration": 5,
    "start_time": "2021-07-01T18:38:36.749Z"
   },
   {
    "duration": 15,
    "start_time": "2021-07-01T18:39:50.771Z"
   },
   {
    "duration": 12,
    "start_time": "2021-07-01T18:40:06.430Z"
   },
   {
    "duration": 12,
    "start_time": "2021-07-01T18:40:17.366Z"
   },
   {
    "duration": 13,
    "start_time": "2021-07-01T18:40:23.367Z"
   },
   {
    "duration": 19,
    "start_time": "2021-07-01T18:40:28.583Z"
   },
   {
    "duration": 260,
    "start_time": "2021-07-01T18:41:08.216Z"
   },
   {
    "duration": 18,
    "start_time": "2021-07-01T18:41:11.382Z"
   },
   {
    "duration": 12,
    "start_time": "2021-07-01T18:41:17.357Z"
   },
   {
    "duration": 12,
    "start_time": "2021-07-01T18:41:22.863Z"
   },
   {
    "duration": 1366,
    "start_time": "2021-07-01T19:02:16.853Z"
   },
   {
    "duration": 22,
    "start_time": "2021-07-01T19:02:18.222Z"
   },
   {
    "duration": 42,
    "start_time": "2021-07-01T19:02:18.249Z"
   },
   {
    "duration": 12,
    "start_time": "2021-07-01T19:02:18.296Z"
   },
   {
    "duration": 10,
    "start_time": "2021-07-01T19:02:18.310Z"
   },
   {
    "duration": 8,
    "start_time": "2021-07-01T19:02:18.322Z"
   },
   {
    "duration": 54,
    "start_time": "2021-07-01T19:02:18.333Z"
   },
   {
    "duration": 10,
    "start_time": "2021-07-01T19:02:18.391Z"
   },
   {
    "duration": 9,
    "start_time": "2021-07-01T19:02:18.404Z"
   },
   {
    "duration": 17,
    "start_time": "2021-07-01T19:02:18.416Z"
   },
   {
    "duration": 17,
    "start_time": "2021-07-01T19:02:18.435Z"
   },
   {
    "duration": 20131,
    "start_time": "2021-07-01T19:02:18.455Z"
   },
   {
    "duration": 31833,
    "start_time": "2021-07-01T19:02:38.589Z"
   },
   {
    "duration": 20,
    "start_time": "2021-07-01T19:03:10.425Z"
   },
   {
    "duration": 34,
    "start_time": "2021-07-01T19:03:10.448Z"
   },
   {
    "duration": 41,
    "start_time": "2021-07-01T19:03:10.485Z"
   },
   {
    "duration": 9,
    "start_time": "2021-07-01T19:03:10.529Z"
   },
   {
    "duration": 21,
    "start_time": "2021-07-01T19:03:10.584Z"
   }
  ],
  "kernelspec": {
   "display_name": "Python 3",
   "language": "python",
   "name": "python3"
  },
  "language_info": {
   "codemirror_mode": {
    "name": "ipython",
    "version": 3
   },
   "file_extension": ".py",
   "mimetype": "text/x-python",
   "name": "python",
   "nbconvert_exporter": "python",
   "pygments_lexer": "ipython3",
   "version": "3.9.2"
  },
  "toc": {
   "base_numbering": 1,
   "nav_menu": {},
   "number_sections": true,
   "sideBar": true,
   "skip_h1_title": true,
   "title_cell": "Table of Contents",
   "title_sidebar": "Contents",
   "toc_cell": false,
   "toc_position": {
    "height": "calc(100% - 180px)",
    "left": "10px",
    "top": "150px",
    "width": "512px"
   },
   "toc_section_display": true,
   "toc_window_display": true
  }
 },
 "nbformat": 4,
 "nbformat_minor": 4
}
