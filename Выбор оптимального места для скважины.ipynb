{
 "cells": [
  {
   "cell_type": "markdown",
   "metadata": {},
   "source": [
    "**Выбор локации для скважины**"
   ]
  },
  {
   "cell_type": "markdown",
   "metadata": {},
   "source": [
    "**Постановка задачи:**\n",
    "\n",
    "Допустим, вы работаете в добывающей компании «ГлавРосГосНефть». Нужно решить, где бурить новую скважину.\n",
    "\n",
    "Вам предоставлены пробы нефти в трёх регионах: в каждом 10 000 месторождений, где измерили качество нефти и объём её запасов. Постройте модель машинного обучения, которая поможет определить регион, где добыча принесёт наибольшую прибыль. Проанализируйте возможную прибыль и риски техникой *Bootstrap.*\n",
    "\n",
    "Шаги для выбора локации:\n",
    "\n",
    "- В избранном регионе ищут месторождения, для каждого определяют значения признаков;\n",
    "- Строят модель и оценивают объём запасов;\n",
    "- Выбирают месторождения с самым высокими оценками значений. Количество месторождений зависит от бюджета компании и стоимости разработки одной скважины;\n",
    "- Прибыль равна суммарной прибыли отобранных месторождений."
   ]
  },
  {
   "cell_type": "markdown",
   "metadata": {},
   "source": [
    "**Содержание:**\n",
    "    \n",
    "    1. Загрузка и подготовка данных\n",
    "        1.1. Загрузка библиотек\n",
    "        1.2. Загрузка данных\n",
    "        1.3. Первичное изучение массивов данных\n",
    "        1.4. Удаление неинформативных признаков\n",
    "        1.5. Создание обучающей и валидационной выборок\n",
    "        1.6. Вывод по первому разделу\n",
    "    2. Обучение и проверка ML моделей\n",
    "        2.1. Формирование функции для обучения и проверки моделей\n",
    "        2.2. Обучение и моделей и валидация для каждого региона\n",
    "            2.2.1 Регион номер РАЗ\n",
    "            2.2.2 Регион номер ДВА\n",
    "            2.2.3 Регион номер ТРИ\n",
    "        2.4. Вывод по второму разделу\n",
    "    3. Подготовка к расчету прибыли\n",
    "        3.1. Формирование минимального набора переменных для расчета прибыли\n",
    "        3.2. Расчет минимального значения сырья для безубыточной разработки\n",
    "        3.3. Сравнение полученного значения со средним значением запасов в регионе\n",
    "        3.4. Вывод по разделу\n",
    "     4. Расчет прибыли и рисков\n",
    "         4.1. Подготовка функции для отбора самых перспективных скважин\n",
    "         4.2. Расчет потенциальной прибыли с 200 лучших скважин региона\n",
    "         4.3. Расчет рисков убытка при разработке\n",
    "     5. Вывод по проекту"
   ]
  },
  {
   "cell_type": "markdown",
   "metadata": {},
   "source": [
    "# Загрузка и подготовка данных"
   ]
  },
  {
   "cell_type": "markdown",
   "metadata": {},
   "source": [
    "## Загрузка библиотек"
   ]
  },
  {
   "cell_type": "code",
   "execution_count": 1,
   "metadata": {},
   "outputs": [],
   "source": [
    "# Для начала подгружаем необходимые библиотеки и инструменты\n",
    "\n",
    "import pandas as pd\n",
    "import numpy as np\n",
    "\n",
    "from sklearn.model_selection import train_test_split\n",
    "\n",
    "from sklearn.linear_model import LinearRegression\n",
    "from sklearn.metrics import mean_squared_error\n",
    "from sklearn.metrics import r2_score\n",
    "\n",
    "# Отключим предупреждения в проекте\n",
    "\n",
    "import warnings\n",
    "warnings.filterwarnings('ignore')"
   ]
  },
  {
   "cell_type": "markdown",
   "metadata": {},
   "source": [
    "## Загрузка данных"
   ]
  },
  {
   "cell_type": "code",
   "execution_count": 2,
   "metadata": {},
   "outputs": [],
   "source": [
    "# Загружаем исходные массивы данных в отдельные переменные. Сначала для первого региона.\n",
    "\n",
    "df_1 = pd.read_csv('geo_data_0.csv')"
   ]
  },
  {
   "cell_type": "code",
   "execution_count": 3,
   "metadata": {},
   "outputs": [
    {
     "data": {
      "text/html": [
       "<div>\n",
       "<style scoped>\n",
       "    .dataframe tbody tr th:only-of-type {\n",
       "        vertical-align: middle;\n",
       "    }\n",
       "\n",
       "    .dataframe tbody tr th {\n",
       "        vertical-align: top;\n",
       "    }\n",
       "\n",
       "    .dataframe thead th {\n",
       "        text-align: right;\n",
       "    }\n",
       "</style>\n",
       "<table border=\"1\" class=\"dataframe\">\n",
       "  <thead>\n",
       "    <tr style=\"text-align: right;\">\n",
       "      <th></th>\n",
       "      <th>id</th>\n",
       "      <th>f0</th>\n",
       "      <th>f1</th>\n",
       "      <th>f2</th>\n",
       "      <th>product</th>\n",
       "    </tr>\n",
       "  </thead>\n",
       "  <tbody>\n",
       "    <tr>\n",
       "      <th>0</th>\n",
       "      <td>txEyH</td>\n",
       "      <td>0.705745</td>\n",
       "      <td>-0.497823</td>\n",
       "      <td>1.221170</td>\n",
       "      <td>105.280062</td>\n",
       "    </tr>\n",
       "    <tr>\n",
       "      <th>1</th>\n",
       "      <td>2acmU</td>\n",
       "      <td>1.334711</td>\n",
       "      <td>-0.340164</td>\n",
       "      <td>4.365080</td>\n",
       "      <td>73.037750</td>\n",
       "    </tr>\n",
       "    <tr>\n",
       "      <th>2</th>\n",
       "      <td>409Wp</td>\n",
       "      <td>1.022732</td>\n",
       "      <td>0.151990</td>\n",
       "      <td>1.419926</td>\n",
       "      <td>85.265647</td>\n",
       "    </tr>\n",
       "    <tr>\n",
       "      <th>3</th>\n",
       "      <td>iJLyR</td>\n",
       "      <td>-0.032172</td>\n",
       "      <td>0.139033</td>\n",
       "      <td>2.978566</td>\n",
       "      <td>168.620776</td>\n",
       "    </tr>\n",
       "    <tr>\n",
       "      <th>4</th>\n",
       "      <td>Xdl7t</td>\n",
       "      <td>1.988431</td>\n",
       "      <td>0.155413</td>\n",
       "      <td>4.751769</td>\n",
       "      <td>154.036647</td>\n",
       "    </tr>\n",
       "  </tbody>\n",
       "</table>\n",
       "</div>"
      ],
      "text/plain": [
       "      id        f0        f1        f2     product\n",
       "0  txEyH  0.705745 -0.497823  1.221170  105.280062\n",
       "1  2acmU  1.334711 -0.340164  4.365080   73.037750\n",
       "2  409Wp  1.022732  0.151990  1.419926   85.265647\n",
       "3  iJLyR -0.032172  0.139033  2.978566  168.620776\n",
       "4  Xdl7t  1.988431  0.155413  4.751769  154.036647"
      ]
     },
     "execution_count": 3,
     "metadata": {},
     "output_type": "execute_result"
    }
   ],
   "source": [
    "# Выводим его часть для визуального осмотра\n",
    "\n",
    "df_1.head()"
   ]
  },
  {
   "cell_type": "code",
   "execution_count": 4,
   "metadata": {},
   "outputs": [],
   "source": [
    "# Теперь грузим второй датасет\n",
    "\n",
    "df_2 = pd.read_csv('geo_data_1.csv')"
   ]
  },
  {
   "cell_type": "code",
   "execution_count": 5,
   "metadata": {},
   "outputs": [
    {
     "data": {
      "text/html": [
       "<div>\n",
       "<style scoped>\n",
       "    .dataframe tbody tr th:only-of-type {\n",
       "        vertical-align: middle;\n",
       "    }\n",
       "\n",
       "    .dataframe tbody tr th {\n",
       "        vertical-align: top;\n",
       "    }\n",
       "\n",
       "    .dataframe thead th {\n",
       "        text-align: right;\n",
       "    }\n",
       "</style>\n",
       "<table border=\"1\" class=\"dataframe\">\n",
       "  <thead>\n",
       "    <tr style=\"text-align: right;\">\n",
       "      <th></th>\n",
       "      <th>id</th>\n",
       "      <th>f0</th>\n",
       "      <th>f1</th>\n",
       "      <th>f2</th>\n",
       "      <th>product</th>\n",
       "    </tr>\n",
       "  </thead>\n",
       "  <tbody>\n",
       "    <tr>\n",
       "      <th>0</th>\n",
       "      <td>kBEdx</td>\n",
       "      <td>-15.001348</td>\n",
       "      <td>-8.276000</td>\n",
       "      <td>-0.005876</td>\n",
       "      <td>3.179103</td>\n",
       "    </tr>\n",
       "    <tr>\n",
       "      <th>1</th>\n",
       "      <td>62mP7</td>\n",
       "      <td>14.272088</td>\n",
       "      <td>-3.475083</td>\n",
       "      <td>0.999183</td>\n",
       "      <td>26.953261</td>\n",
       "    </tr>\n",
       "    <tr>\n",
       "      <th>2</th>\n",
       "      <td>vyE1P</td>\n",
       "      <td>6.263187</td>\n",
       "      <td>-5.948386</td>\n",
       "      <td>5.001160</td>\n",
       "      <td>134.766305</td>\n",
       "    </tr>\n",
       "    <tr>\n",
       "      <th>3</th>\n",
       "      <td>KcrkZ</td>\n",
       "      <td>-13.081196</td>\n",
       "      <td>-11.506057</td>\n",
       "      <td>4.999415</td>\n",
       "      <td>137.945408</td>\n",
       "    </tr>\n",
       "    <tr>\n",
       "      <th>4</th>\n",
       "      <td>AHL4O</td>\n",
       "      <td>12.702195</td>\n",
       "      <td>-8.147433</td>\n",
       "      <td>5.004363</td>\n",
       "      <td>134.766305</td>\n",
       "    </tr>\n",
       "  </tbody>\n",
       "</table>\n",
       "</div>"
      ],
      "text/plain": [
       "      id         f0         f1        f2     product\n",
       "0  kBEdx -15.001348  -8.276000 -0.005876    3.179103\n",
       "1  62mP7  14.272088  -3.475083  0.999183   26.953261\n",
       "2  vyE1P   6.263187  -5.948386  5.001160  134.766305\n",
       "3  KcrkZ -13.081196 -11.506057  4.999415  137.945408\n",
       "4  AHL4O  12.702195  -8.147433  5.004363  134.766305"
      ]
     },
     "execution_count": 5,
     "metadata": {},
     "output_type": "execute_result"
    }
   ],
   "source": [
    "# Смотрим на него\n",
    "\n",
    "df_2.head()"
   ]
  },
  {
   "cell_type": "code",
   "execution_count": 6,
   "metadata": {},
   "outputs": [],
   "source": [
    "# Подгружаем третий набор данных\n",
    "\n",
    "df_3 = pd.read_csv('geo_data_2.csv')"
   ]
  },
  {
   "cell_type": "code",
   "execution_count": 7,
   "metadata": {},
   "outputs": [
    {
     "data": {
      "text/html": [
       "<div>\n",
       "<style scoped>\n",
       "    .dataframe tbody tr th:only-of-type {\n",
       "        vertical-align: middle;\n",
       "    }\n",
       "\n",
       "    .dataframe tbody tr th {\n",
       "        vertical-align: top;\n",
       "    }\n",
       "\n",
       "    .dataframe thead th {\n",
       "        text-align: right;\n",
       "    }\n",
       "</style>\n",
       "<table border=\"1\" class=\"dataframe\">\n",
       "  <thead>\n",
       "    <tr style=\"text-align: right;\">\n",
       "      <th></th>\n",
       "      <th>id</th>\n",
       "      <th>f0</th>\n",
       "      <th>f1</th>\n",
       "      <th>f2</th>\n",
       "      <th>product</th>\n",
       "    </tr>\n",
       "  </thead>\n",
       "  <tbody>\n",
       "    <tr>\n",
       "      <th>0</th>\n",
       "      <td>fwXo0</td>\n",
       "      <td>-1.146987</td>\n",
       "      <td>0.963328</td>\n",
       "      <td>-0.828965</td>\n",
       "      <td>27.758673</td>\n",
       "    </tr>\n",
       "    <tr>\n",
       "      <th>1</th>\n",
       "      <td>WJtFt</td>\n",
       "      <td>0.262778</td>\n",
       "      <td>0.269839</td>\n",
       "      <td>-2.530187</td>\n",
       "      <td>56.069697</td>\n",
       "    </tr>\n",
       "    <tr>\n",
       "      <th>2</th>\n",
       "      <td>ovLUW</td>\n",
       "      <td>0.194587</td>\n",
       "      <td>0.289035</td>\n",
       "      <td>-5.586433</td>\n",
       "      <td>62.871910</td>\n",
       "    </tr>\n",
       "    <tr>\n",
       "      <th>3</th>\n",
       "      <td>q6cA6</td>\n",
       "      <td>2.236060</td>\n",
       "      <td>-0.553760</td>\n",
       "      <td>0.930038</td>\n",
       "      <td>114.572842</td>\n",
       "    </tr>\n",
       "    <tr>\n",
       "      <th>4</th>\n",
       "      <td>WPMUX</td>\n",
       "      <td>-0.515993</td>\n",
       "      <td>1.716266</td>\n",
       "      <td>5.899011</td>\n",
       "      <td>149.600746</td>\n",
       "    </tr>\n",
       "  </tbody>\n",
       "</table>\n",
       "</div>"
      ],
      "text/plain": [
       "      id        f0        f1        f2     product\n",
       "0  fwXo0 -1.146987  0.963328 -0.828965   27.758673\n",
       "1  WJtFt  0.262778  0.269839 -2.530187   56.069697\n",
       "2  ovLUW  0.194587  0.289035 -5.586433   62.871910\n",
       "3  q6cA6  2.236060 -0.553760  0.930038  114.572842\n",
       "4  WPMUX -0.515993  1.716266  5.899011  149.600746"
      ]
     },
     "execution_count": 7,
     "metadata": {},
     "output_type": "execute_result"
    }
   ],
   "source": [
    "# Делаем внешнее ознакомление\n",
    "\n",
    "df_3.head()"
   ]
  },
  {
   "cell_type": "markdown",
   "metadata": {},
   "source": [
    "## Первичное изучение массивов данных"
   ]
  },
  {
   "cell_type": "code",
   "execution_count": 8,
   "metadata": {},
   "outputs": [
    {
     "name": "stdout",
     "output_type": "stream",
     "text": [
      "<class 'pandas.core.frame.DataFrame'>\n",
      "RangeIndex: 100000 entries, 0 to 99999\n",
      "Data columns (total 5 columns):\n",
      " #   Column   Non-Null Count   Dtype  \n",
      "---  ------   --------------   -----  \n",
      " 0   id       100000 non-null  object \n",
      " 1   f0       100000 non-null  float64\n",
      " 2   f1       100000 non-null  float64\n",
      " 3   f2       100000 non-null  float64\n",
      " 4   product  100000 non-null  float64\n",
      "dtypes: float64(4), object(1)\n",
      "memory usage: 3.8+ MB\n"
     ]
    }
   ],
   "source": [
    "# Для изучения наличия пропусков в данных и получения их количественной характеристики применяем медот info()\n",
    "\n",
    "df_1.info()"
   ]
  },
  {
   "cell_type": "code",
   "execution_count": 9,
   "metadata": {},
   "outputs": [
    {
     "name": "stdout",
     "output_type": "stream",
     "text": [
      "<class 'pandas.core.frame.DataFrame'>\n",
      "RangeIndex: 100000 entries, 0 to 99999\n",
      "Data columns (total 5 columns):\n",
      " #   Column   Non-Null Count   Dtype  \n",
      "---  ------   --------------   -----  \n",
      " 0   id       100000 non-null  object \n",
      " 1   f0       100000 non-null  float64\n",
      " 2   f1       100000 non-null  float64\n",
      " 3   f2       100000 non-null  float64\n",
      " 4   product  100000 non-null  float64\n",
      "dtypes: float64(4), object(1)\n",
      "memory usage: 3.8+ MB\n"
     ]
    }
   ],
   "source": [
    "# Аналогично поступаем для второго датасета\n",
    "\n",
    "df_2.info()"
   ]
  },
  {
   "cell_type": "code",
   "execution_count": 10,
   "metadata": {},
   "outputs": [
    {
     "name": "stdout",
     "output_type": "stream",
     "text": [
      "<class 'pandas.core.frame.DataFrame'>\n",
      "RangeIndex: 100000 entries, 0 to 99999\n",
      "Data columns (total 5 columns):\n",
      " #   Column   Non-Null Count   Dtype  \n",
      "---  ------   --------------   -----  \n",
      " 0   id       100000 non-null  object \n",
      " 1   f0       100000 non-null  float64\n",
      " 2   f1       100000 non-null  float64\n",
      " 3   f2       100000 non-null  float64\n",
      " 4   product  100000 non-null  float64\n",
      "dtypes: float64(4), object(1)\n",
      "memory usage: 3.8+ MB\n"
     ]
    }
   ],
   "source": [
    "# Ну и третий не обходим стороной\n",
    "\n",
    "df_3.info()"
   ]
  },
  {
   "cell_type": "markdown",
   "metadata": {},
   "source": [
    "**Выводы по первичному изучению данных**\n",
    "\n",
    "Каждый из датасетов состоит из 100000 строк и 5 столбцов. Пропуски в данных отсутсвуют, что несколько облегчает их обработку. Каждый датасет содержит следующие столбцы:\n",
    "1. id — уникальный идентификатор скважины:\n",
    "    - формат данных Object корректировки не требует;\n",
    "    - данный столбец является неинформативным с точки зрения машинного обучения, а потому его нужно будет отбросить;\n",
    "2. f0, f1, f2 — три признака точек (неважно, что они означают, но сами признаки значимы):\n",
    "    - формат данных float не требует корректировки;\n",
    "3. product — объём запасов в скважине (тыс. баррелей):\n",
    "    - формат данных float не требует коррекции."
   ]
  },
  {
   "cell_type": "markdown",
   "metadata": {},
   "source": [
    "## Удаление неинформативных признаков"
   ]
  },
  {
   "cell_type": "code",
   "execution_count": 11,
   "metadata": {},
   "outputs": [],
   "source": [
    "# Для машинного обучения признак, определяющий название скважины, не играет роли, \n",
    "# но усложняет работу модели. Поэтому от этих признаков можно без зазрения совести избавиться\n",
    "\n",
    "df_1 = df_1.drop('id', axis=1)"
   ]
  },
  {
   "cell_type": "code",
   "execution_count": 12,
   "metadata": {},
   "outputs": [
    {
     "data": {
      "text/html": [
       "<div>\n",
       "<style scoped>\n",
       "    .dataframe tbody tr th:only-of-type {\n",
       "        vertical-align: middle;\n",
       "    }\n",
       "\n",
       "    .dataframe tbody tr th {\n",
       "        vertical-align: top;\n",
       "    }\n",
       "\n",
       "    .dataframe thead th {\n",
       "        text-align: right;\n",
       "    }\n",
       "</style>\n",
       "<table border=\"1\" class=\"dataframe\">\n",
       "  <thead>\n",
       "    <tr style=\"text-align: right;\">\n",
       "      <th></th>\n",
       "      <th>f0</th>\n",
       "      <th>f1</th>\n",
       "      <th>f2</th>\n",
       "      <th>product</th>\n",
       "    </tr>\n",
       "  </thead>\n",
       "  <tbody>\n",
       "    <tr>\n",
       "      <th>0</th>\n",
       "      <td>0.705745</td>\n",
       "      <td>-0.497823</td>\n",
       "      <td>1.221170</td>\n",
       "      <td>105.280062</td>\n",
       "    </tr>\n",
       "    <tr>\n",
       "      <th>1</th>\n",
       "      <td>1.334711</td>\n",
       "      <td>-0.340164</td>\n",
       "      <td>4.365080</td>\n",
       "      <td>73.037750</td>\n",
       "    </tr>\n",
       "    <tr>\n",
       "      <th>2</th>\n",
       "      <td>1.022732</td>\n",
       "      <td>0.151990</td>\n",
       "      <td>1.419926</td>\n",
       "      <td>85.265647</td>\n",
       "    </tr>\n",
       "    <tr>\n",
       "      <th>3</th>\n",
       "      <td>-0.032172</td>\n",
       "      <td>0.139033</td>\n",
       "      <td>2.978566</td>\n",
       "      <td>168.620776</td>\n",
       "    </tr>\n",
       "    <tr>\n",
       "      <th>4</th>\n",
       "      <td>1.988431</td>\n",
       "      <td>0.155413</td>\n",
       "      <td>4.751769</td>\n",
       "      <td>154.036647</td>\n",
       "    </tr>\n",
       "  </tbody>\n",
       "</table>\n",
       "</div>"
      ],
      "text/plain": [
       "         f0        f1        f2     product\n",
       "0  0.705745 -0.497823  1.221170  105.280062\n",
       "1  1.334711 -0.340164  4.365080   73.037750\n",
       "2  1.022732  0.151990  1.419926   85.265647\n",
       "3 -0.032172  0.139033  2.978566  168.620776\n",
       "4  1.988431  0.155413  4.751769  154.036647"
      ]
     },
     "execution_count": 12,
     "metadata": {},
     "output_type": "execute_result"
    }
   ],
   "source": [
    "# Проверяем результат\n",
    "\n",
    "df_1.head()"
   ]
  },
  {
   "cell_type": "code",
   "execution_count": 13,
   "metadata": {},
   "outputs": [],
   "source": [
    "# То же делаем для второго датасета\n",
    "\n",
    "df_2 = df_2.drop('id', axis=1)"
   ]
  },
  {
   "cell_type": "code",
   "execution_count": 14,
   "metadata": {},
   "outputs": [
    {
     "data": {
      "text/html": [
       "<div>\n",
       "<style scoped>\n",
       "    .dataframe tbody tr th:only-of-type {\n",
       "        vertical-align: middle;\n",
       "    }\n",
       "\n",
       "    .dataframe tbody tr th {\n",
       "        vertical-align: top;\n",
       "    }\n",
       "\n",
       "    .dataframe thead th {\n",
       "        text-align: right;\n",
       "    }\n",
       "</style>\n",
       "<table border=\"1\" class=\"dataframe\">\n",
       "  <thead>\n",
       "    <tr style=\"text-align: right;\">\n",
       "      <th></th>\n",
       "      <th>f0</th>\n",
       "      <th>f1</th>\n",
       "      <th>f2</th>\n",
       "      <th>product</th>\n",
       "    </tr>\n",
       "  </thead>\n",
       "  <tbody>\n",
       "    <tr>\n",
       "      <th>0</th>\n",
       "      <td>-15.001348</td>\n",
       "      <td>-8.276000</td>\n",
       "      <td>-0.005876</td>\n",
       "      <td>3.179103</td>\n",
       "    </tr>\n",
       "    <tr>\n",
       "      <th>1</th>\n",
       "      <td>14.272088</td>\n",
       "      <td>-3.475083</td>\n",
       "      <td>0.999183</td>\n",
       "      <td>26.953261</td>\n",
       "    </tr>\n",
       "    <tr>\n",
       "      <th>2</th>\n",
       "      <td>6.263187</td>\n",
       "      <td>-5.948386</td>\n",
       "      <td>5.001160</td>\n",
       "      <td>134.766305</td>\n",
       "    </tr>\n",
       "    <tr>\n",
       "      <th>3</th>\n",
       "      <td>-13.081196</td>\n",
       "      <td>-11.506057</td>\n",
       "      <td>4.999415</td>\n",
       "      <td>137.945408</td>\n",
       "    </tr>\n",
       "    <tr>\n",
       "      <th>4</th>\n",
       "      <td>12.702195</td>\n",
       "      <td>-8.147433</td>\n",
       "      <td>5.004363</td>\n",
       "      <td>134.766305</td>\n",
       "    </tr>\n",
       "  </tbody>\n",
       "</table>\n",
       "</div>"
      ],
      "text/plain": [
       "          f0         f1        f2     product\n",
       "0 -15.001348  -8.276000 -0.005876    3.179103\n",
       "1  14.272088  -3.475083  0.999183   26.953261\n",
       "2   6.263187  -5.948386  5.001160  134.766305\n",
       "3 -13.081196 -11.506057  4.999415  137.945408\n",
       "4  12.702195  -8.147433  5.004363  134.766305"
      ]
     },
     "execution_count": 14,
     "metadata": {},
     "output_type": "execute_result"
    }
   ],
   "source": [
    "df_2.head()"
   ]
  },
  {
   "cell_type": "code",
   "execution_count": 15,
   "metadata": {},
   "outputs": [],
   "source": [
    "# И, конечно, не обходим стороной третий набор данных\n",
    "\n",
    "df_3 = df_3.drop('id', axis=1)"
   ]
  },
  {
   "cell_type": "code",
   "execution_count": 16,
   "metadata": {},
   "outputs": [
    {
     "data": {
      "text/html": [
       "<div>\n",
       "<style scoped>\n",
       "    .dataframe tbody tr th:only-of-type {\n",
       "        vertical-align: middle;\n",
       "    }\n",
       "\n",
       "    .dataframe tbody tr th {\n",
       "        vertical-align: top;\n",
       "    }\n",
       "\n",
       "    .dataframe thead th {\n",
       "        text-align: right;\n",
       "    }\n",
       "</style>\n",
       "<table border=\"1\" class=\"dataframe\">\n",
       "  <thead>\n",
       "    <tr style=\"text-align: right;\">\n",
       "      <th></th>\n",
       "      <th>f0</th>\n",
       "      <th>f1</th>\n",
       "      <th>f2</th>\n",
       "      <th>product</th>\n",
       "    </tr>\n",
       "  </thead>\n",
       "  <tbody>\n",
       "    <tr>\n",
       "      <th>0</th>\n",
       "      <td>-1.146987</td>\n",
       "      <td>0.963328</td>\n",
       "      <td>-0.828965</td>\n",
       "      <td>27.758673</td>\n",
       "    </tr>\n",
       "    <tr>\n",
       "      <th>1</th>\n",
       "      <td>0.262778</td>\n",
       "      <td>0.269839</td>\n",
       "      <td>-2.530187</td>\n",
       "      <td>56.069697</td>\n",
       "    </tr>\n",
       "    <tr>\n",
       "      <th>2</th>\n",
       "      <td>0.194587</td>\n",
       "      <td>0.289035</td>\n",
       "      <td>-5.586433</td>\n",
       "      <td>62.871910</td>\n",
       "    </tr>\n",
       "    <tr>\n",
       "      <th>3</th>\n",
       "      <td>2.236060</td>\n",
       "      <td>-0.553760</td>\n",
       "      <td>0.930038</td>\n",
       "      <td>114.572842</td>\n",
       "    </tr>\n",
       "    <tr>\n",
       "      <th>4</th>\n",
       "      <td>-0.515993</td>\n",
       "      <td>1.716266</td>\n",
       "      <td>5.899011</td>\n",
       "      <td>149.600746</td>\n",
       "    </tr>\n",
       "  </tbody>\n",
       "</table>\n",
       "</div>"
      ],
      "text/plain": [
       "         f0        f1        f2     product\n",
       "0 -1.146987  0.963328 -0.828965   27.758673\n",
       "1  0.262778  0.269839 -2.530187   56.069697\n",
       "2  0.194587  0.289035 -5.586433   62.871910\n",
       "3  2.236060 -0.553760  0.930038  114.572842\n",
       "4 -0.515993  1.716266  5.899011  149.600746"
      ]
     },
     "execution_count": 16,
     "metadata": {},
     "output_type": "execute_result"
    }
   ],
   "source": [
    "# Разглядываем его\n",
    "\n",
    "df_3.head()"
   ]
  },
  {
   "cell_type": "markdown",
   "metadata": {},
   "source": [
    "## Создание обучающей и валидационной выборок"
   ]
  },
  {
   "cell_type": "code",
   "execution_count": 17,
   "metadata": {},
   "outputs": [],
   "source": [
    "# Для того, чтобы иметь возможность обучить модель, а затем проверить ее знания на другом наборе данных,\n",
    "# разделим полученные наборы признаков и целевых признаков первого региона на тестовую и валидационную выборки\n",
    "\n",
    "df_train_1, df_valid_1 = train_test_split(df_1, random_state = 12345, test_size = 0.25)"
   ]
  },
  {
   "cell_type": "code",
   "execution_count": 18,
   "metadata": {},
   "outputs": [],
   "source": [
    "# Аналогичные преобразования осуществляем с данными по второму региону\n",
    "\n",
    "df_train_2, df_valid_2 = train_test_split(df_2, random_state = 12345, test_size = 0.25)"
   ]
  },
  {
   "cell_type": "code",
   "execution_count": 19,
   "metadata": {},
   "outputs": [],
   "source": [
    "# Ну и о третьем регионе не забываем\n",
    "\n",
    "df_train_3, df_valid_3 = train_test_split(df_3, random_state = 12345, test_size = 0.25)"
   ]
  },
  {
   "cell_type": "markdown",
   "metadata": {},
   "source": [
    "## Отделение целевого признака от исходного набора"
   ]
  },
  {
   "cell_type": "code",
   "execution_count": 20,
   "metadata": {},
   "outputs": [],
   "source": [
    "# Получим признаки тренировочного набора данных для первого региона\n",
    "\n",
    "features_train_1 = df_train_1.drop('product', axis = 1) \n",
    "\n",
    "# Отделим целевой признак для первого региона\n",
    "\n",
    "target_train_1 = df_train_1['product']"
   ]
  },
  {
   "cell_type": "code",
   "execution_count": 21,
   "metadata": {},
   "outputs": [],
   "source": [
    "# То же для второго региона\n",
    "\n",
    "features_train_2 = df_train_2.drop('product', axis = 1) \n",
    "\n",
    "# - || -\n",
    "\n",
    "target_train_2 = df_train_2['product']"
   ]
  },
  {
   "cell_type": "code",
   "execution_count": 22,
   "metadata": {},
   "outputs": [],
   "source": [
    "# И для третьего\n",
    "\n",
    "features_train_3 = df_train_3.drop('product', axis = 1) \n",
    "\n",
    "### Готово!\n",
    "\n",
    "target_train_3 = df_train_3['product']"
   ]
  },
  {
   "cell_type": "code",
   "execution_count": 23,
   "metadata": {},
   "outputs": [],
   "source": [
    "### Получим признаки для валидационной выборки первого региона...\n",
    "\n",
    "features_valid_1 = df_valid_1.drop('product', axis = 1) \n",
    "\n",
    "### Отделим целевой признак для первого региона\n",
    "\n",
    "target_valid_1 = df_valid_1['product']"
   ]
  },
  {
   "cell_type": "code",
   "execution_count": 24,
   "metadata": {},
   "outputs": [],
   "source": [
    "### То же для второго региона\n",
    "\n",
    "features_valid_2 = df_valid_2.drop('product', axis = 1) \n",
    "\n",
    "### ...\n",
    "\n",
    "target_valid_2 = df_valid_2['product']"
   ]
  },
  {
   "cell_type": "code",
   "execution_count": 25,
   "metadata": {},
   "outputs": [],
   "source": [
    "### И для третьего\n",
    "\n",
    "features_valid_3 = df_valid_3.drop('product', axis = 1) \n",
    "\n",
    "### Есть!\n",
    "\n",
    "target_valid_3 = df_valid_3['product']"
   ]
  },
  {
   "cell_type": "markdown",
   "metadata": {},
   "source": [
    "## Вывод по первому разделу"
   ]
  },
  {
   "cell_type": "markdown",
   "metadata": {},
   "source": [
    "В первой части работы были осуществлены подготовительные действия для последующей обработки данных. \n",
    "В частности, сделано следующее:\n",
    "    \n",
    "    1. загружены необходимые библиотеки и инструменты;\n",
    "    2. исходные датасеты записаны в переменные;\n",
    "    3. произведен визуальный осмотр данных, дано описание их содержимого;\n",
    "    4. произведено удаление неинформативного признака - названия скважины;\n",
    "    5. датафреймы разбиты на тренировочную и валидационную выборки для каждого региона.\n",
    "    6. целевой признак отделен от исходного набора данных.\n",
    "Теперь можно приступать к обучению ML моделей.\n",
    " \n",
    "</div>"
   ]
  },
  {
   "cell_type": "markdown",
   "metadata": {},
   "source": [
    "# Обучение и проверка ML моделей"
   ]
  },
  {
   "cell_type": "markdown",
   "metadata": {},
   "source": [
    "## Формирование функции для обучения и проверки моделей"
   ]
  },
  {
   "cell_type": "markdown",
   "metadata": {},
   "source": [
    "По условию задачи, мы имеем право пользоваться только линейной регрессией. Что ж, приступим..."
   ]
  },
  {
   "cell_type": "code",
   "execution_count": 26,
   "metadata": {},
   "outputs": [],
   "source": [
    "# Для уменьшения объемов кода на странице создадим функцию, которая сможет обучить модель линейной регрессии на тренировочной выборке,\n",
    "# сделать предсказания на валидационной и выдать на-гора некоторые метрики \n",
    "\n",
    "def train_and_validate(data, features_train, target_train, features_valid, target_valid, number_of_reg):\n",
    "    \n",
    "    model = LinearRegression(fit_intercept = True, normalize = False)\n",
    "    model.fit(features_train, target_train)\n",
    "    \n",
    "    predictions = pd.Series(model.predict(features_valid))\n",
    "    \n",
    "    mse = mean_squared_error(target_valid, predictions)\n",
    "    r2 = r2_score(target_valid, predictions)\n",
    "    \n",
    "    print('Полученные значения метрик для {} региона:'.format(number_of_reg))\n",
    "    print('Метрика MSE = {:.4f}'.format(mse))\n",
    "    print('Метрика RMSE = {:.4f}'.format(mse ** 0.5))\n",
    "    print('Метрика R2 = {:.4f}'.format(r2))\n",
    "    print('Среднее значение предсказанного объема сырья = {:.4f}'.format(predictions.mean()))\n",
    "    return model, mse, r2"
   ]
  },
  {
   "cell_type": "markdown",
   "metadata": {},
   "source": [
    "## Обучение моделей и валидация для каждого региона"
   ]
  },
  {
   "cell_type": "markdown",
   "metadata": {},
   "source": [
    "### Регион номер РАЗ"
   ]
  },
  {
   "cell_type": "code",
   "execution_count": 27,
   "metadata": {},
   "outputs": [
    {
     "name": "stdout",
     "output_type": "stream",
     "text": [
      "Полученные значения метрик для 1 региона:\n",
      "Метрика MSE = 1412.2129\n",
      "Метрика RMSE = 37.5794\n",
      "Метрика R2 = 0.2799\n",
      "Среднее значение предсказанного объема сырья = 92.5926\n"
     ]
    }
   ],
   "source": [
    "# Используем подготовленную функцию train_and_validate для того, чтобы обучить и в отдельную переменную записать \n",
    "# саму модель, сделать предсказания на валидационной выборке, а также вывести метрики MSE, RMSE, R2 \n",
    "# и среднее количество предсказанного объема сырья в скважинах\n",
    "\n",
    "model_1, mse_1, r2_1 = train_and_validate(df_1, features_train_1, target_train_1, features_valid_1, target_valid_1, 1)"
   ]
  },
  {
   "cell_type": "code",
   "execution_count": 28,
   "metadata": {},
   "outputs": [],
   "source": [
    "# В исходный валидационный датасет добавляем столбец с предсказанными значениями объемов сырья\n",
    "\n",
    "df_valid_1['predictions'] = model_1.predict(features_valid_1)"
   ]
  },
  {
   "cell_type": "code",
   "execution_count": 29,
   "metadata": {},
   "outputs": [
    {
     "data": {
      "text/html": [
       "<div>\n",
       "<style scoped>\n",
       "    .dataframe tbody tr th:only-of-type {\n",
       "        vertical-align: middle;\n",
       "    }\n",
       "\n",
       "    .dataframe tbody tr th {\n",
       "        vertical-align: top;\n",
       "    }\n",
       "\n",
       "    .dataframe thead th {\n",
       "        text-align: right;\n",
       "    }\n",
       "</style>\n",
       "<table border=\"1\" class=\"dataframe\">\n",
       "  <thead>\n",
       "    <tr style=\"text-align: right;\">\n",
       "      <th></th>\n",
       "      <th>f0</th>\n",
       "      <th>f1</th>\n",
       "      <th>f2</th>\n",
       "      <th>product</th>\n",
       "      <th>predictions</th>\n",
       "    </tr>\n",
       "  </thead>\n",
       "  <tbody>\n",
       "    <tr>\n",
       "      <th>71751</th>\n",
       "      <td>0.948970</td>\n",
       "      <td>-0.057547</td>\n",
       "      <td>2.095727</td>\n",
       "      <td>10.038645</td>\n",
       "      <td>95.894952</td>\n",
       "    </tr>\n",
       "    <tr>\n",
       "      <th>80493</th>\n",
       "      <td>0.992974</td>\n",
       "      <td>0.206671</td>\n",
       "      <td>-0.142278</td>\n",
       "      <td>114.551489</td>\n",
       "      <td>77.572583</td>\n",
       "    </tr>\n",
       "    <tr>\n",
       "      <th>2655</th>\n",
       "      <td>1.199854</td>\n",
       "      <td>-0.563356</td>\n",
       "      <td>-1.852991</td>\n",
       "      <td>132.603635</td>\n",
       "      <td>77.892640</td>\n",
       "    </tr>\n",
       "    <tr>\n",
       "      <th>53233</th>\n",
       "      <td>0.691422</td>\n",
       "      <td>-0.433347</td>\n",
       "      <td>0.564974</td>\n",
       "      <td>169.072125</td>\n",
       "      <td>90.175134</td>\n",
       "    </tr>\n",
       "    <tr>\n",
       "      <th>91141</th>\n",
       "      <td>0.420772</td>\n",
       "      <td>0.972638</td>\n",
       "      <td>0.736190</td>\n",
       "      <td>122.325180</td>\n",
       "      <td>70.510088</td>\n",
       "    </tr>\n",
       "  </tbody>\n",
       "</table>\n",
       "</div>"
      ],
      "text/plain": [
       "             f0        f1        f2     product  predictions\n",
       "71751  0.948970 -0.057547  2.095727   10.038645    95.894952\n",
       "80493  0.992974  0.206671 -0.142278  114.551489    77.572583\n",
       "2655   1.199854 -0.563356 -1.852991  132.603635    77.892640\n",
       "53233  0.691422 -0.433347  0.564974  169.072125    90.175134\n",
       "91141  0.420772  0.972638  0.736190  122.325180    70.510088"
      ]
     },
     "execution_count": 29,
     "metadata": {},
     "output_type": "execute_result"
    }
   ],
   "source": [
    "# И, конечно, визуальный осмотр результатов\n",
    "\n",
    "df_valid_1.head()"
   ]
  },
  {
   "cell_type": "markdown",
   "metadata": {},
   "source": [
    "### Регион номер ДВА"
   ]
  },
  {
   "cell_type": "code",
   "execution_count": 30,
   "metadata": {},
   "outputs": [
    {
     "name": "stdout",
     "output_type": "stream",
     "text": [
      "Полученные значения метрик для 2 региона:\n",
      "Метрика MSE = 0.7976\n",
      "Метрика RMSE = 0.8931\n",
      "Метрика R2 = 0.9996\n",
      "Среднее значение предсказанного объема сырья = 68.7285\n"
     ]
    }
   ],
   "source": [
    "# Повторяем совершенные действия для 2 региона\n",
    "\n",
    "model_2, mse_2, r2_2 = train_and_validate(df_2, features_train_2, target_train_2, features_valid_2, target_valid_2, 2)"
   ]
  },
  {
   "cell_type": "code",
   "execution_count": 31,
   "metadata": {},
   "outputs": [],
   "source": [
    "# В исходный валидационный датасет добавляем столбец с предсказанными значениями объемов сырья\n",
    "\n",
    "df_valid_2['predictions'] = model_2.predict(features_valid_2)"
   ]
  },
  {
   "cell_type": "code",
   "execution_count": 32,
   "metadata": {},
   "outputs": [
    {
     "data": {
      "text/html": [
       "<div>\n",
       "<style scoped>\n",
       "    .dataframe tbody tr th:only-of-type {\n",
       "        vertical-align: middle;\n",
       "    }\n",
       "\n",
       "    .dataframe tbody tr th {\n",
       "        vertical-align: top;\n",
       "    }\n",
       "\n",
       "    .dataframe thead th {\n",
       "        text-align: right;\n",
       "    }\n",
       "</style>\n",
       "<table border=\"1\" class=\"dataframe\">\n",
       "  <thead>\n",
       "    <tr style=\"text-align: right;\">\n",
       "      <th></th>\n",
       "      <th>f0</th>\n",
       "      <th>f1</th>\n",
       "      <th>f2</th>\n",
       "      <th>product</th>\n",
       "      <th>predictions</th>\n",
       "    </tr>\n",
       "  </thead>\n",
       "  <tbody>\n",
       "    <tr>\n",
       "      <th>71751</th>\n",
       "      <td>-0.371866</td>\n",
       "      <td>-1.862494</td>\n",
       "      <td>3.002210</td>\n",
       "      <td>80.859783</td>\n",
       "      <td>82.663314</td>\n",
       "    </tr>\n",
       "    <tr>\n",
       "      <th>80493</th>\n",
       "      <td>9.015122</td>\n",
       "      <td>-13.881455</td>\n",
       "      <td>1.995363</td>\n",
       "      <td>53.906522</td>\n",
       "      <td>54.431786</td>\n",
       "    </tr>\n",
       "    <tr>\n",
       "      <th>2655</th>\n",
       "      <td>-6.507568</td>\n",
       "      <td>-4.817448</td>\n",
       "      <td>1.003449</td>\n",
       "      <td>30.132364</td>\n",
       "      <td>29.748760</td>\n",
       "    </tr>\n",
       "    <tr>\n",
       "      <th>53233</th>\n",
       "      <td>14.560845</td>\n",
       "      <td>-10.667755</td>\n",
       "      <td>1.995175</td>\n",
       "      <td>53.906522</td>\n",
       "      <td>53.552133</td>\n",
       "    </tr>\n",
       "    <tr>\n",
       "      <th>91141</th>\n",
       "      <td>6.090476</td>\n",
       "      <td>-4.494723</td>\n",
       "      <td>0.013815</td>\n",
       "      <td>0.000000</td>\n",
       "      <td>1.243856</td>\n",
       "    </tr>\n",
       "  </tbody>\n",
       "</table>\n",
       "</div>"
      ],
      "text/plain": [
       "              f0         f1        f2    product  predictions\n",
       "71751  -0.371866  -1.862494  3.002210  80.859783    82.663314\n",
       "80493   9.015122 -13.881455  1.995363  53.906522    54.431786\n",
       "2655   -6.507568  -4.817448  1.003449  30.132364    29.748760\n",
       "53233  14.560845 -10.667755  1.995175  53.906522    53.552133\n",
       "91141   6.090476  -4.494723  0.013815   0.000000     1.243856"
      ]
     },
     "execution_count": 32,
     "metadata": {},
     "output_type": "execute_result"
    }
   ],
   "source": [
    "# Осмотрим результаты\n",
    "\n",
    "df_valid_2.head()"
   ]
  },
  {
   "cell_type": "markdown",
   "metadata": {},
   "source": [
    "### Регион номер ТРИ"
   ]
  },
  {
   "cell_type": "code",
   "execution_count": 33,
   "metadata": {},
   "outputs": [
    {
     "name": "stdout",
     "output_type": "stream",
     "text": [
      "Полученные значения метрик для 3 региона:\n",
      "Метрика MSE = 1602.3776\n",
      "Метрика RMSE = 40.0297\n",
      "Метрика R2 = 0.2052\n",
      "Среднее значение предсказанного объема сырья = 94.9650\n"
     ]
    }
   ],
   "source": [
    "# Третий регоин хоть и в самом конце, но про него тоже не забываем\n",
    "\n",
    "model_3, mse_3, r2_3 = train_and_validate(df_3, features_train_3, target_train_3, features_valid_3, target_valid_3, 3)"
   ]
  },
  {
   "cell_type": "code",
   "execution_count": 34,
   "metadata": {},
   "outputs": [],
   "source": [
    "# В исходный валидационный датасет добавляем столбец с предсказанными значениями объемов сырья\n",
    "\n",
    "df_valid_3['predictions'] = model_3.predict(features_valid_3)"
   ]
  },
  {
   "cell_type": "code",
   "execution_count": 35,
   "metadata": {},
   "outputs": [
    {
     "data": {
      "text/html": [
       "<div>\n",
       "<style scoped>\n",
       "    .dataframe tbody tr th:only-of-type {\n",
       "        vertical-align: middle;\n",
       "    }\n",
       "\n",
       "    .dataframe tbody tr th {\n",
       "        vertical-align: top;\n",
       "    }\n",
       "\n",
       "    .dataframe thead th {\n",
       "        text-align: right;\n",
       "    }\n",
       "</style>\n",
       "<table border=\"1\" class=\"dataframe\">\n",
       "  <thead>\n",
       "    <tr style=\"text-align: right;\">\n",
       "      <th></th>\n",
       "      <th>f0</th>\n",
       "      <th>f1</th>\n",
       "      <th>f2</th>\n",
       "      <th>product</th>\n",
       "      <th>predictions</th>\n",
       "    </tr>\n",
       "  </thead>\n",
       "  <tbody>\n",
       "    <tr>\n",
       "      <th>71751</th>\n",
       "      <td>-1.444717</td>\n",
       "      <td>-3.861599</td>\n",
       "      <td>2.225805</td>\n",
       "      <td>61.212375</td>\n",
       "      <td>93.599633</td>\n",
       "    </tr>\n",
       "    <tr>\n",
       "      <th>80493</th>\n",
       "      <td>-1.418617</td>\n",
       "      <td>1.276544</td>\n",
       "      <td>-0.976433</td>\n",
       "      <td>41.850118</td>\n",
       "      <td>75.105159</td>\n",
       "    </tr>\n",
       "    <tr>\n",
       "      <th>2655</th>\n",
       "      <td>-4.587649</td>\n",
       "      <td>-0.413199</td>\n",
       "      <td>1.649268</td>\n",
       "      <td>57.776581</td>\n",
       "      <td>90.066809</td>\n",
       "    </tr>\n",
       "    <tr>\n",
       "      <th>53233</th>\n",
       "      <td>1.871584</td>\n",
       "      <td>1.619101</td>\n",
       "      <td>4.273555</td>\n",
       "      <td>100.053761</td>\n",
       "      <td>105.162375</td>\n",
       "    </tr>\n",
       "    <tr>\n",
       "      <th>91141</th>\n",
       "      <td>-2.028785</td>\n",
       "      <td>4.128167</td>\n",
       "      <td>6.089547</td>\n",
       "      <td>109.897122</td>\n",
       "      <td>115.303310</td>\n",
       "    </tr>\n",
       "  </tbody>\n",
       "</table>\n",
       "</div>"
      ],
      "text/plain": [
       "             f0        f1        f2     product  predictions\n",
       "71751 -1.444717 -3.861599  2.225805   61.212375    93.599633\n",
       "80493 -1.418617  1.276544 -0.976433   41.850118    75.105159\n",
       "2655  -4.587649 -0.413199  1.649268   57.776581    90.066809\n",
       "53233  1.871584  1.619101  4.273555  100.053761   105.162375\n",
       "91141 -2.028785  4.128167  6.089547  109.897122   115.303310"
      ]
     },
     "execution_count": 35,
     "metadata": {},
     "output_type": "execute_result"
    }
   ],
   "source": [
    "# Осмотрим результаты\n",
    "\n",
    "df_valid_3.head()"
   ]
  },
  {
   "cell_type": "markdown",
   "metadata": {},
   "source": [
    "## Вывод по второму разделу"
   ]
  },
  {
   "cell_type": "markdown",
   "metadata": {},
   "source": [
    "На текущем этапе работы была обучена модель линейной регрессии для каждого из регионов, сделаны предсказания на валидационной выборке, получены метрики MSE, RMSE, R2 моделей и рассчитано среднее значение предсказанных объемов топлива.\n",
    "    \n",
    "Лучше всего модель обучилась на втором датасете - ее значени RMSE = 0,89 (против 37,6 у первой и 40 у третьей). Таким образом, вторая модель даст самые точные прогнозы по региону. \n",
    "\n",
    "При этом во втором регионе средние запасы сырья по скважинам самые скромные - 68,7 тыс. баррелей против 92,6 в первом и 94,9 в третьем. \n",
    "\n",
    "Двигаемся дальше."
   ]
  },
  {
   "cell_type": "markdown",
   "metadata": {},
   "source": [
    "# Подготовка к расчёту прибыли"
   ]
  },
  {
   "cell_type": "markdown",
   "metadata": {},
   "source": [
    "## Формирование набора переменных для расчёта прибыли"
   ]
  },
  {
   "cell_type": "code",
   "execution_count": 36,
   "metadata": {},
   "outputs": [],
   "source": [
    "# Количество исследуемых скважин в каждом регионе\n",
    "\n",
    "RESEARCH_PLACES = 500\n",
    "\n",
    "# Количество скважин для разработки в каждом регионе\n",
    "\n",
    "DEVELOPMENT_PLACES = 200\n",
    "\n",
    "# Бюджет на разработку скважин (тыс. руб.)\n",
    "\n",
    "DEVELOPMENT_BUDGET = 10000000\n",
    "\n",
    "# Доход с тысячи баррелей нефти (тыс. руб.)\n",
    "\n",
    "REVENUE_PER_1000_BARREL = 450"
   ]
  },
  {
   "cell_type": "markdown",
   "metadata": {},
   "source": [
    "## Расчет минимального значения сырья в скважине для безубыточной добычи"
   ]
  },
  {
   "cell_type": "code",
   "execution_count": 37,
   "metadata": {},
   "outputs": [
    {
     "name": "stdout",
     "output_type": "stream",
     "text": [
      "Бюджет на разработку одной скважины: 50000.0\n"
     ]
    }
   ],
   "source": [
    "# Бюджет на одну скважину (тыс. руб.)\n",
    "\n",
    "budget_per_place = DEVELOPMENT_BUDGET / DEVELOPMENT_PLACES\n",
    "print('Бюджет на разработку одной скважины:', budget_per_place)"
   ]
  },
  {
   "cell_type": "code",
   "execution_count": 38,
   "metadata": {},
   "outputs": [
    {
     "name": "stdout",
     "output_type": "stream",
     "text": [
      "Минимальное среднее значение добычи сырья:  111.11111111111111\n"
     ]
    }
   ],
   "source": [
    "# Рассчитаем, какое минимальное значение сырья должно быть добыто из скважины в среднем, чтобы добыча оказалась безубыточной\n",
    "\n",
    "oil_min = DEVELOPMENT_BUDGET / (DEVELOPMENT_PLACES * REVENUE_PER_1000_BARREL)\n",
    "\n",
    "print('Минимальное среднее значение добычи сырья: ', oil_min)"
   ]
  },
  {
   "cell_type": "markdown",
   "metadata": {},
   "source": [
    "## Сравнение полученного значения со средним запасом сырья по регионам"
   ]
  },
  {
   "cell_type": "code",
   "execution_count": 39,
   "metadata": {},
   "outputs": [
    {
     "name": "stdout",
     "output_type": "stream",
     "text": [
      "Средний запас сырья по первому региону: 92.59256778438035 тыс. баррелей\n"
     ]
    }
   ],
   "source": [
    "# Для наглядности снова вызываем среднее количество предсказанных запасов сырья в 1 регионе\n",
    "\n",
    "print('Средний запас сырья по первому региону: {} тыс. баррелей'.format(df_valid_1['predictions'].mean()))"
   ]
  },
  {
   "cell_type": "code",
   "execution_count": 40,
   "metadata": {},
   "outputs": [
    {
     "name": "stdout",
     "output_type": "stream",
     "text": [
      "Средний запас сырья по второму региону: 68.72854689544602 тыс. баррелей\n"
     ]
    }
   ],
   "source": [
    "# То же по 2 региону\n",
    "\n",
    "print('Средний запас сырья по второму региону: {} тыс. баррелей'.format(df_valid_2['predictions'].mean()))"
   ]
  },
  {
   "cell_type": "code",
   "execution_count": 41,
   "metadata": {},
   "outputs": [
    {
     "name": "stdout",
     "output_type": "stream",
     "text": [
      "Средний запас сырья по третьему региону: 94.96504596800489 тыс. баррелей\n"
     ]
    }
   ],
   "source": [
    "# И не забываем про 3 регион\n",
    "\n",
    "print('Средний запас сырья по третьему региону: {} тыс. баррелей'.format(df_valid_3['predictions'].mean()))"
   ]
  },
  {
   "cell_type": "markdown",
   "metadata": {},
   "source": [
    "## Вывод по разделу"
   ]
  },
  {
   "cell_type": "markdown",
   "metadata": {},
   "source": [
    "В данной главе проекта был рассчитан важный показатель - минимальное среднее количество добычи нефти для безубыточной разработки, который составил 111.1 тыс. баррелей сырья. \n",
    "    \n",
    "Этот параметр оказался выше параметров средних запасов сырья в скважинах по каждому из регионов. Таким образом, нет очевидного понимания, что можно рассчитывать на доходы в какой-либо из областей добычи. \n",
    "    \n",
    "Вот здесь-то и вступят в дело модели машинного обучения, с помощью которых можно сделать предположение о перспективности каждого из регионов и отобрать те скважины, которы должны принести доход."
   ]
  },
  {
   "cell_type": "markdown",
   "metadata": {},
   "source": [
    "# Расчёт прибыли и рисков "
   ]
  },
  {
   "cell_type": "markdown",
   "metadata": {},
   "source": [
    "## Подготовка функции для отбора самых перспективных скважин в регионе "
   ]
  },
  {
   "cell_type": "code",
   "execution_count": 42,
   "metadata": {},
   "outputs": [],
   "source": [
    "def profit_func(data, number_of_places):\n",
    "\n",
    "    data_sorted = data.sort_values(by = 'predictions', ascending = False) # сортируем предсказания объемов по убыванию\n",
    "    best_predictions = data_sorted['predictions'][:number_of_places] # отбираем в новую переменную первые number_of_points предсказанных значений\n",
    "    best_places = data_sorted['product'][best_predictions.index] # отбираем реальные значения по индексам лучших предсказаний из переменной best_predictions\n",
    "    best_places_sum = best_places.sum() # суммируем полученные значения\n",
    "    profit = best_places_sum * REVENUE_PER_1000_BARREL - DEVELOPMENT_BUDGET # рассчитываем прибыль с разработки реальных месторождений\n",
    "    \n",
    "    return profit"
   ]
  },
  {
   "cell_type": "markdown",
   "metadata": {},
   "source": [
    "## Расчет потенциальной прибыли с 200 лучших скважин каждого региона"
   ]
  },
  {
   "cell_type": "code",
   "execution_count": 43,
   "metadata": {},
   "outputs": [
    {
     "name": "stdout",
     "output_type": "stream",
     "text": [
      "Рассчетная прибыль с 200 лучших скважин первого региона: 3320826.04 тыс. руб.\n"
     ]
    }
   ],
   "source": [
    "print('Рассчетная прибыль с 200 лучших скважин первого региона: {:.2f} тыс. руб.'.format(profit_func(df_valid_1, 200)))"
   ]
  },
  {
   "cell_type": "code",
   "execution_count": 44,
   "metadata": {},
   "outputs": [
    {
     "name": "stdout",
     "output_type": "stream",
     "text": [
      "Рассчетная прибыль с 200 лучших скважин второго региона: 2415086.70 тыс. руб.\n"
     ]
    }
   ],
   "source": [
    "print('Рассчетная прибыль с 200 лучших скважин второго региона: {:.2f} тыс. руб.'.format(profit_func(df_valid_2, 200)))"
   ]
  },
  {
   "cell_type": "code",
   "execution_count": 45,
   "metadata": {},
   "outputs": [
    {
     "name": "stdout",
     "output_type": "stream",
     "text": [
      "Рассчетная прибыль с 200 лучших скважин третьего региона: 2710349.96 тыс. руб.\n"
     ]
    }
   ],
   "source": [
    "print('Рассчетная прибыль с 200 лучших скважин третьего региона: {:.2f} тыс. руб.'.format(profit_func(df_valid_3, 200)))"
   ]
  },
  {
   "cell_type": "markdown",
   "metadata": {},
   "source": [
    "# Расчет рисков убытка при разработке"
   ]
  },
  {
   "cell_type": "code",
   "execution_count": 46,
   "metadata": {},
   "outputs": [],
   "source": [
    "# Сформируем функцию для применения методики бутстрепа на 1000 выборок\n",
    "\n",
    "state = np.random.RandomState(12345)\n",
    "\n",
    "def bootstrap_1000(data):\n",
    "    values = []\n",
    "    lost = 0\n",
    "    for i in range(1000):\n",
    "        data_sample = data.sample(replace=True, random_state=state, n=500)\n",
    "        profit = profit_func(data_sample, 200)\n",
    "        \n",
    "        if profit < 0:\n",
    "            lost += 1\n",
    "        values.append(profit)\n",
    "       \n",
    "    values = pd.Series(values)\n",
    "    lower = values.quantile(0.025)\n",
    "    upper = values.quantile(0.975)\n",
    "    profit_mean = values.mean()\n",
    "    risk = lost / 1000\n",
    "    return profit_mean, lower, upper, risk"
   ]
  },
  {
   "cell_type": "code",
   "execution_count": 47,
   "metadata": {},
   "outputs": [
    {
     "name": "stdout",
     "output_type": "stream",
     "text": [
      "Регион номер 1.\n",
      "Средняя прибыль по региону = 600.74 млн.руб.\n",
      "95% доверительный интервал: от 12.95 до 1231.16 млн.руб.\n",
      "Процент риска 2.00%\n"
     ]
    }
   ],
   "source": [
    "# Вызываем бутстреп для первого региона\n",
    "\n",
    "mean_1, lower_1, upper_1, risk_1 = bootstrap_1000(df_valid_1)\n",
    "\n",
    "print('Регион номер 1.')\n",
    "print('Средняя прибыль по региону = {:.2f} млн.руб.'.format(mean_1/1000))\n",
    "print('95% доверительный интервал: от {:.2f} до {:.2f} млн.руб.'.format(lower_1/1000, upper_1/1000))\n",
    "print('Процент риска {:.2%}'.format(risk_1))"
   ]
  },
  {
   "cell_type": "code",
   "execution_count": 48,
   "metadata": {},
   "outputs": [
    {
     "name": "stdout",
     "output_type": "stream",
     "text": [
      "Регион номер 2.\n",
      "Средняя прибыль по региону = 663.96 млн.руб.\n",
      "95% доверительный интервал: от 206.48 до 1191.20 млн.руб.\n",
      "Процент риска 0.10%\n"
     ]
    }
   ],
   "source": [
    "# Теперь для второго\n",
    "\n",
    "mean_2, lower_2, upper_2, risk_2 = bootstrap_1000(df_valid_2)\n",
    "\n",
    "print('Регион номер 2.')\n",
    "print('Средняя прибыль по региону = {:.2f} млн.руб.'.format(mean_2/1000))\n",
    "print('95% доверительный интервал: от {:.2f} до {:.2f} млн.руб.'.format(lower_2/1000, upper_2/1000))\n",
    "print('Процент риска {:.2%}'.format(risk_2))"
   ]
  },
  {
   "cell_type": "code",
   "execution_count": 49,
   "metadata": {
    "scrolled": true
   },
   "outputs": [
    {
     "name": "stdout",
     "output_type": "stream",
     "text": [
      "Регион номер 3.\n",
      "Средняя прибыль по региону = 597.38 млн.руб.\n",
      "95% доверительный интервал: от 1.73 до 1246.22 млн.руб.\n",
      "Процент риска 2.50%\n"
     ]
    }
   ],
   "source": [
    "# И, конечно же, для третьего\n",
    "\n",
    "mean_3, lower_3, upper_3, risk_3 = bootstrap_1000(df_valid_3)\n",
    "\n",
    "print('Регион номер 3.')\n",
    "print('Средняя прибыль по региону = {:.2f} млн.руб.'.format(mean_3/1000))\n",
    "print('95% доверительный интервал: от {:.2f} до {:.2f} млн.руб.'.format(lower_3/1000, upper_3/1000))\n",
    "print('Процент риска {:.2%}'.format(risk_3))"
   ]
  },
  {
   "cell_type": "code",
   "execution_count": 53,
   "metadata": {},
   "outputs": [],
   "source": [
    "# Для наглядности представления результатов наших трудов оформим итоговую таблицу\n",
    "\n",
    "final_table = pd.DataFrame({'Номер региона': ['Первый', 'Второй', 'Третий'],\n",
    "        'RMSE модели': ['{:.2f}'.format(mse_1**0.5), '{:.2f}'.format(mse_2**0.5), '{:.2f}'.format(mse_3**0.5)],\n",
    "        'Средняя прибыль, млн. руб.': ['{:.2f}'.format(mean_1/1000), '{:.2f}'.format(mean_2/1000), '{:.2f}'.format(mean_3/1000)], \n",
    "        'Доверительный интервал, млн. руб.': ['от {:.2f} до {:.2f}'.format(lower_1/1000, upper_1/1000), \n",
    "                                              'от {:.2f} до {:.2f}'.format(lower_2/1000, upper_2/1000),\n",
    "                                              'от {:.2f} до {:.2f}'.format(lower_3/1000, upper_3/1000)],\n",
    "       'Вероятность убытка': ['{:.2%}'.format(risk_1), '{:.2%}'.format(risk_2), '{:.2%}'.format(risk_3)]})"
   ]
  },
  {
   "cell_type": "code",
   "execution_count": 54,
   "metadata": {},
   "outputs": [
    {
     "data": {
      "text/html": [
       "<div>\n",
       "<style scoped>\n",
       "    .dataframe tbody tr th:only-of-type {\n",
       "        vertical-align: middle;\n",
       "    }\n",
       "\n",
       "    .dataframe tbody tr th {\n",
       "        vertical-align: top;\n",
       "    }\n",
       "\n",
       "    .dataframe thead th {\n",
       "        text-align: right;\n",
       "    }\n",
       "</style>\n",
       "<table border=\"1\" class=\"dataframe\">\n",
       "  <thead>\n",
       "    <tr style=\"text-align: right;\">\n",
       "      <th></th>\n",
       "      <th>Номер региона</th>\n",
       "      <th>RMSE модели</th>\n",
       "      <th>Средняя прибыль, млн. руб.</th>\n",
       "      <th>Доверительный интервал, млн. руб.</th>\n",
       "      <th>Вероятность убытка</th>\n",
       "    </tr>\n",
       "  </thead>\n",
       "  <tbody>\n",
       "    <tr>\n",
       "      <th>0</th>\n",
       "      <td>Первый</td>\n",
       "      <td>37.58</td>\n",
       "      <td>600.74</td>\n",
       "      <td>от 12.95 до 1231.16</td>\n",
       "      <td>2.00%</td>\n",
       "    </tr>\n",
       "    <tr>\n",
       "      <th>1</th>\n",
       "      <td>Второй</td>\n",
       "      <td>0.89</td>\n",
       "      <td>663.96</td>\n",
       "      <td>от 206.48 до 1191.20</td>\n",
       "      <td>0.10%</td>\n",
       "    </tr>\n",
       "    <tr>\n",
       "      <th>2</th>\n",
       "      <td>Третий</td>\n",
       "      <td>40.03</td>\n",
       "      <td>597.38</td>\n",
       "      <td>от 1.73 до 1246.22</td>\n",
       "      <td>2.50%</td>\n",
       "    </tr>\n",
       "  </tbody>\n",
       "</table>\n",
       "</div>"
      ],
      "text/plain": [
       "  Номер региона RMSE модели Средняя прибыль, млн. руб.  \\\n",
       "0        Первый       37.58                     600.74   \n",
       "1        Второй        0.89                     663.96   \n",
       "2        Третий       40.03                     597.38   \n",
       "\n",
       "  Доверительный интервал, млн. руб. Вероятность убытка  \n",
       "0               от 12.95 до 1231.16              2.00%  \n",
       "1              от 206.48 до 1191.20              0.10%  \n",
       "2                от 1.73 до 1246.22              2.50%  "
      ]
     },
     "execution_count": 54,
     "metadata": {},
     "output_type": "execute_result"
    }
   ],
   "source": [
    "# Выводим таблицу на обозрение... барабанная дробь!\n",
    "\n",
    "final_table"
   ]
  },
  {
   "cell_type": "markdown",
   "metadata": {},
   "source": [
    "# Вывод по проекту"
   ]
  },
  {
   "cell_type": "markdown",
   "metadata": {},
   "source": [
    "В данной работе были отточены навыки загрузки и подготовки данных к анализу, разбиения исходного датафрейма на тренировочный и валидационный, обучения модели линейной регрессии и определения ее метрик, расчета прогнозируемой прибыли, получения параметров доверительного интервала.\n",
    "    \n",
    "По итогам проекта стало ясно, что самым рискованным регионом с точки зрения возможных убытков является третий (вероятность убытка 2.5%, средняя прибыль 597.38 млн. руб.). Его мы отбрасываем автоматически, так как условия задачи требуют поиска риска меньше 2.5%. \n",
    "    \n",
    "Далее по \"ненадежности\" идет первый регион (вероятность убытка 2.0%, средняя прибыль 600.74 млн. руб.). Вариант лучше третьего, но все же есть над чем работать!\n",
    "    \n",
    "Лучшим по всем показателям показал себя второй регион (вероятность убытка всего 0.1%, средняя прибыль самая большая - 663.96 млн. руб.). Таким образом, именно второй регион является предпочтительным для инвестирования денег в его разработку. \n",
    "</div>"
   ]
  }
 ],
 "metadata": {
  "ExecuteTimeLog": [
   {
    "duration": 215,
    "start_time": "2021-07-21T19:07:21.906Z"
   },
   {
    "duration": 543,
    "start_time": "2021-07-21T19:07:24.720Z"
   },
   {
    "duration": 131,
    "start_time": "2021-07-21T19:07:25.265Z"
   },
   {
    "duration": 14,
    "start_time": "2021-07-21T19:07:37.174Z"
   },
   {
    "duration": 125,
    "start_time": "2021-07-21T19:08:29.931Z"
   },
   {
    "duration": 8,
    "start_time": "2021-07-21T19:08:30.230Z"
   },
   {
    "duration": 1606,
    "start_time": "2021-07-21T19:08:31.061Z"
   },
   {
    "duration": 197,
    "start_time": "2021-07-21T19:08:45.373Z"
   },
   {
    "duration": 9,
    "start_time": "2021-07-21T19:08:49.590Z"
   },
   {
    "duration": 120,
    "start_time": "2021-07-21T19:09:16.173Z"
   },
   {
    "duration": 9,
    "start_time": "2021-07-21T19:09:30.117Z"
   },
   {
    "duration": 3,
    "start_time": "2021-07-21T19:10:50.954Z"
   },
   {
    "duration": 2,
    "start_time": "2021-07-21T19:10:55.485Z"
   },
   {
    "duration": 121,
    "start_time": "2021-07-21T19:10:57.156Z"
   },
   {
    "duration": 10,
    "start_time": "2021-07-21T19:10:57.364Z"
   },
   {
    "duration": 116,
    "start_time": "2021-07-21T19:10:57.540Z"
   },
   {
    "duration": 10,
    "start_time": "2021-07-21T19:10:57.764Z"
   },
   {
    "duration": 118,
    "start_time": "2021-07-21T19:10:58.149Z"
   },
   {
    "duration": 10,
    "start_time": "2021-07-21T19:10:59.588Z"
   },
   {
    "duration": 8,
    "start_time": "2021-07-21T19:11:46.670Z"
   },
   {
    "duration": 122,
    "start_time": "2021-07-21T19:12:44.271Z"
   },
   {
    "duration": 9,
    "start_time": "2021-07-21T19:12:44.917Z"
   },
   {
    "duration": 9,
    "start_time": "2021-07-21T19:12:49.892Z"
   },
   {
    "duration": 10,
    "start_time": "2021-07-21T19:13:07.978Z"
   },
   {
    "duration": 10,
    "start_time": "2021-07-21T19:13:26.620Z"
   },
   {
    "duration": 10,
    "start_time": "2021-07-21T19:13:36.491Z"
   },
   {
    "duration": 218,
    "start_time": "2021-07-21T19:13:49.020Z"
   },
   {
    "duration": 176,
    "start_time": "2021-07-21T19:13:54.457Z"
   },
   {
    "duration": 37,
    "start_time": "2021-07-21T19:14:03.299Z"
   },
   {
    "duration": 2,
    "start_time": "2021-07-21T19:25:43.663Z"
   },
   {
    "duration": 399,
    "start_time": "2021-07-21T19:26:59.197Z"
   },
   {
    "duration": 9,
    "start_time": "2021-07-21T19:31:21.809Z"
   },
   {
    "duration": 206,
    "start_time": "2021-07-21T19:31:47.432Z"
   },
   {
    "duration": 3,
    "start_time": "2021-07-21T19:32:01.472Z"
   },
   {
    "duration": 8,
    "start_time": "2021-07-21T19:33:09.650Z"
   },
   {
    "duration": 2,
    "start_time": "2021-07-21T19:33:09.961Z"
   },
   {
    "duration": 6,
    "start_time": "2021-07-21T19:33:10.103Z"
   },
   {
    "duration": 2,
    "start_time": "2021-07-21T19:33:10.247Z"
   },
   {
    "duration": 8,
    "start_time": "2021-07-21T19:33:10.385Z"
   },
   {
    "duration": 180,
    "start_time": "2021-07-21T19:33:10.872Z"
   },
   {
    "duration": 3,
    "start_time": "2021-07-21T19:33:15.631Z"
   },
   {
    "duration": 9,
    "start_time": "2021-07-21T19:34:48.386Z"
   },
   {
    "duration": 2,
    "start_time": "2021-07-21T19:34:48.558Z"
   },
   {
    "duration": 6,
    "start_time": "2021-07-21T19:34:48.655Z"
   },
   {
    "duration": 2,
    "start_time": "2021-07-21T19:34:48.816Z"
   },
   {
    "duration": 6,
    "start_time": "2021-07-21T19:34:49.014Z"
   },
   {
    "duration": 3,
    "start_time": "2021-07-21T19:34:49.399Z"
   },
   {
    "duration": 6,
    "start_time": "2021-07-21T19:35:40.856Z"
   },
   {
    "duration": 3,
    "start_time": "2021-07-21T19:35:41.014Z"
   },
   {
    "duration": 6,
    "start_time": "2021-07-21T19:35:41.158Z"
   },
   {
    "duration": 2,
    "start_time": "2021-07-21T19:35:41.302Z"
   },
   {
    "duration": 6,
    "start_time": "2021-07-21T19:35:41.663Z"
   },
   {
    "duration": 3,
    "start_time": "2021-07-21T19:35:41.886Z"
   },
   {
    "duration": 20,
    "start_time": "2021-07-21T19:36:32.368Z"
   },
   {
    "duration": 13,
    "start_time": "2021-07-21T19:36:46.487Z"
   },
   {
    "duration": 18,
    "start_time": "2021-07-21T19:36:58.294Z"
   },
   {
    "duration": 11,
    "start_time": "2021-07-21T19:37:06.486Z"
   },
   {
    "duration": 10,
    "start_time": "2021-07-21T19:37:11.799Z"
   },
   {
    "duration": 21,
    "start_time": "2021-07-21T19:38:08.743Z"
   },
   {
    "duration": 21,
    "start_time": "2021-07-21T19:38:39.862Z"
   },
   {
    "duration": 16,
    "start_time": "2021-07-21T19:39:45.723Z"
   },
   {
    "duration": 2,
    "start_time": "2021-07-21T19:41:48.160Z"
   },
   {
    "duration": 209,
    "start_time": "2021-07-21T19:42:10.805Z"
   },
   {
    "duration": 191,
    "start_time": "2021-07-21T19:42:52.790Z"
   },
   {
    "duration": 12,
    "start_time": "2021-07-21T19:43:01.909Z"
   },
   {
    "duration": 8,
    "start_time": "2021-07-21T19:43:05.629Z"
   },
   {
    "duration": 2,
    "start_time": "2021-07-21T19:43:05.814Z"
   },
   {
    "duration": 12,
    "start_time": "2021-07-21T19:43:05.948Z"
   },
   {
    "duration": 2,
    "start_time": "2021-07-21T19:43:06.070Z"
   },
   {
    "duration": 6,
    "start_time": "2021-07-21T19:43:06.230Z"
   },
   {
    "duration": 2,
    "start_time": "2021-07-21T19:43:06.398Z"
   },
   {
    "duration": 19,
    "start_time": "2021-07-21T19:43:06.693Z"
   },
   {
    "duration": 23,
    "start_time": "2021-07-21T19:43:06.812Z"
   },
   {
    "duration": 19,
    "start_time": "2021-07-21T19:43:07.077Z"
   },
   {
    "duration": 212,
    "start_time": "2021-07-21T19:43:08.189Z"
   },
   {
    "duration": 5,
    "start_time": "2021-07-21T19:43:21.083Z"
   },
   {
    "duration": 7,
    "start_time": "2021-07-21T19:43:21.461Z"
   },
   {
    "duration": 3,
    "start_time": "2021-07-21T19:43:21.645Z"
   },
   {
    "duration": 7,
    "start_time": "2021-07-21T19:43:21.780Z"
   },
   {
    "duration": 3,
    "start_time": "2021-07-21T19:43:22.044Z"
   },
   {
    "duration": 7,
    "start_time": "2021-07-21T19:43:22.213Z"
   },
   {
    "duration": 2,
    "start_time": "2021-07-21T19:43:22.373Z"
   },
   {
    "duration": 14,
    "start_time": "2021-07-21T19:43:22.717Z"
   },
   {
    "duration": 23,
    "start_time": "2021-07-21T19:43:22.876Z"
   },
   {
    "duration": 20,
    "start_time": "2021-07-21T19:43:23.020Z"
   },
   {
    "duration": 300,
    "start_time": "2021-07-21T19:43:24.733Z"
   },
   {
    "duration": 13,
    "start_time": "2021-07-21T19:45:09.626Z"
   },
   {
    "duration": 19,
    "start_time": "2021-07-21T19:45:10.309Z"
   },
   {
    "duration": 20,
    "start_time": "2021-07-21T19:45:10.516Z"
   },
   {
    "duration": 11,
    "start_time": "2021-07-21T19:45:11.181Z"
   },
   {
    "duration": 4,
    "start_time": "2021-07-21T19:45:49.470Z"
   },
   {
    "duration": 225,
    "start_time": "2021-07-21T19:46:25.957Z"
   },
   {
    "duration": 273,
    "start_time": "2021-07-21T19:47:09.669Z"
   },
   {
    "duration": 250,
    "start_time": "2021-07-21T19:47:14.902Z"
   },
   {
    "duration": 14,
    "start_time": "2021-07-21T19:48:32.964Z"
   },
   {
    "duration": 13,
    "start_time": "2021-07-21T19:48:37.812Z"
   },
   {
    "duration": 3,
    "start_time": "2021-07-21T19:49:49.060Z"
   },
   {
    "duration": 4,
    "start_time": "2021-07-21T19:50:45.644Z"
   },
   {
    "duration": 19,
    "start_time": "2021-07-21T19:51:38.457Z"
   },
   {
    "duration": 20,
    "start_time": "2021-07-21T19:52:00.484Z"
   },
   {
    "duration": 195,
    "start_time": "2021-07-21T19:52:34.213Z"
   },
   {
    "duration": 186,
    "start_time": "2021-07-21T19:53:29.345Z"
   },
   {
    "duration": 177,
    "start_time": "2021-07-21T19:53:55.483Z"
   },
   {
    "duration": 3,
    "start_time": "2021-07-21T19:54:05.351Z"
   },
   {
    "duration": 117,
    "start_time": "2021-07-21T19:54:05.356Z"
   },
   {
    "duration": 11,
    "start_time": "2021-07-21T19:54:05.475Z"
   },
   {
    "duration": 123,
    "start_time": "2021-07-21T19:54:05.488Z"
   },
   {
    "duration": 10,
    "start_time": "2021-07-21T19:54:05.612Z"
   },
   {
    "duration": 122,
    "start_time": "2021-07-21T19:54:05.624Z"
   },
   {
    "duration": 9,
    "start_time": "2021-07-21T19:54:05.748Z"
   },
   {
    "duration": 12,
    "start_time": "2021-07-21T19:54:05.759Z"
   },
   {
    "duration": 9,
    "start_time": "2021-07-21T19:54:05.785Z"
   },
   {
    "duration": 9,
    "start_time": "2021-07-21T19:54:05.796Z"
   },
   {
    "duration": 12,
    "start_time": "2021-07-21T19:54:10.363Z"
   },
   {
    "duration": 5,
    "start_time": "2021-07-21T19:54:12.354Z"
   },
   {
    "duration": 3,
    "start_time": "2021-07-21T19:54:12.498Z"
   },
   {
    "duration": 5,
    "start_time": "2021-07-21T19:54:12.642Z"
   },
   {
    "duration": 3,
    "start_time": "2021-07-21T19:54:12.826Z"
   },
   {
    "duration": 5,
    "start_time": "2021-07-21T19:54:12.986Z"
   },
   {
    "duration": 3,
    "start_time": "2021-07-21T19:54:14.243Z"
   },
   {
    "duration": 14,
    "start_time": "2021-07-21T19:54:14.666Z"
   },
   {
    "duration": 14,
    "start_time": "2021-07-21T19:54:14.906Z"
   },
   {
    "duration": 15,
    "start_time": "2021-07-21T19:54:15.594Z"
   },
   {
    "duration": 10,
    "start_time": "2021-07-21T19:54:16.498Z"
   },
   {
    "duration": 4,
    "start_time": "2021-07-21T19:54:24.179Z"
   },
   {
    "duration": 5,
    "start_time": "2021-07-21T19:54:24.978Z"
   },
   {
    "duration": 11,
    "start_time": "2021-07-21T19:54:26.210Z"
   },
   {
    "duration": 5,
    "start_time": "2021-07-21T19:54:31.914Z"
   },
   {
    "duration": 4,
    "start_time": "2021-07-21T19:54:33.347Z"
   },
   {
    "duration": 12,
    "start_time": "2021-07-21T19:55:15.076Z"
   },
   {
    "duration": 4,
    "start_time": "2021-07-21T19:55:15.753Z"
   },
   {
    "duration": 4,
    "start_time": "2021-07-21T19:55:16.522Z"
   },
   {
    "duration": 15,
    "start_time": "2021-07-21T19:58:07.340Z"
   },
   {
    "duration": 14,
    "start_time": "2021-07-21T19:58:17.610Z"
   },
   {
    "duration": 13,
    "start_time": "2021-07-21T19:58:17.793Z"
   },
   {
    "duration": 15,
    "start_time": "2021-07-21T19:58:17.929Z"
   },
   {
    "duration": 12,
    "start_time": "2021-07-21T19:58:18.601Z"
   },
   {
    "duration": 4,
    "start_time": "2021-07-21T19:58:19.145Z"
   },
   {
    "duration": 5,
    "start_time": "2021-07-21T19:58:19.649Z"
   },
   {
    "duration": 10,
    "start_time": "2021-07-21T19:58:19.929Z"
   },
   {
    "duration": 5,
    "start_time": "2021-07-21T19:58:20.457Z"
   },
   {
    "duration": 4,
    "start_time": "2021-07-21T19:58:20.842Z"
   },
   {
    "duration": 10,
    "start_time": "2021-07-21T19:58:21.226Z"
   },
   {
    "duration": 4,
    "start_time": "2021-07-21T19:58:21.689Z"
   },
   {
    "duration": 4,
    "start_time": "2021-07-21T19:58:22.289Z"
   },
   {
    "duration": 10,
    "start_time": "2021-07-21T19:58:58.169Z"
   },
   {
    "duration": 4,
    "start_time": "2021-07-21T19:58:58.465Z"
   },
   {
    "duration": 4,
    "start_time": "2021-07-21T19:58:58.969Z"
   },
   {
    "duration": 11,
    "start_time": "2021-07-21T19:59:03.489Z"
   },
   {
    "duration": 4,
    "start_time": "2021-07-21T19:59:03.794Z"
   },
   {
    "duration": 5,
    "start_time": "2021-07-21T19:59:04.778Z"
   },
   {
    "duration": 11,
    "start_time": "2021-07-21T19:59:25.130Z"
   },
   {
    "duration": 4,
    "start_time": "2021-07-21T19:59:25.715Z"
   },
   {
    "duration": 6,
    "start_time": "2021-07-21T19:59:26.481Z"
   },
   {
    "duration": 11,
    "start_time": "2021-07-21T19:59:31.345Z"
   },
   {
    "duration": 5,
    "start_time": "2021-07-21T19:59:31.641Z"
   },
   {
    "duration": 5,
    "start_time": "2021-07-21T19:59:32.609Z"
   },
   {
    "duration": 181,
    "start_time": "2021-07-21T20:00:26.568Z"
   },
   {
    "duration": 5,
    "start_time": "2021-07-21T20:00:26.913Z"
   },
   {
    "duration": 9,
    "start_time": "2021-07-21T20:00:55.545Z"
   },
   {
    "duration": 4,
    "start_time": "2021-07-21T20:00:56.177Z"
   },
   {
    "duration": 5,
    "start_time": "2021-07-21T20:00:56.576Z"
   },
   {
    "duration": 10,
    "start_time": "2021-07-21T20:00:56.841Z"
   },
   {
    "duration": 4,
    "start_time": "2021-07-21T20:00:57.265Z"
   },
   {
    "duration": 4,
    "start_time": "2021-07-21T20:00:57.529Z"
   },
   {
    "duration": 1389,
    "start_time": "2021-07-29T15:30:50.817Z"
   },
   {
    "duration": 161,
    "start_time": "2021-07-29T15:30:52.209Z"
   },
   {
    "duration": 22,
    "start_time": "2021-07-29T15:30:52.373Z"
   },
   {
    "duration": 164,
    "start_time": "2021-07-29T15:30:52.397Z"
   },
   {
    "duration": 11,
    "start_time": "2021-07-29T15:30:52.564Z"
   },
   {
    "duration": 157,
    "start_time": "2021-07-29T15:30:52.578Z"
   },
   {
    "duration": 19,
    "start_time": "2021-07-29T15:30:52.737Z"
   },
   {
    "duration": 19,
    "start_time": "2021-07-29T15:30:52.760Z"
   },
   {
    "duration": 13,
    "start_time": "2021-07-29T15:30:52.782Z"
   },
   {
    "duration": 14,
    "start_time": "2021-07-29T15:30:52.798Z"
   },
   {
    "duration": 51,
    "start_time": "2021-07-29T15:30:52.815Z"
   },
   {
    "duration": 25,
    "start_time": "2021-07-29T15:30:52.868Z"
   },
   {
    "duration": 11,
    "start_time": "2021-07-29T15:30:52.896Z"
   },
   {
    "duration": 11,
    "start_time": "2021-07-29T15:30:52.909Z"
   },
   {
    "duration": 9,
    "start_time": "2021-07-29T15:30:52.922Z"
   },
   {
    "duration": 30,
    "start_time": "2021-07-29T15:30:52.933Z"
   },
   {
    "duration": 13,
    "start_time": "2021-07-29T15:30:52.965Z"
   },
   {
    "duration": 33,
    "start_time": "2021-07-29T15:30:52.980Z"
   },
   {
    "duration": 19,
    "start_time": "2021-07-29T15:30:53.016Z"
   },
   {
    "duration": 22,
    "start_time": "2021-07-29T15:30:53.038Z"
   },
   {
    "duration": 99,
    "start_time": "2021-07-29T15:30:53.063Z"
   },
   {
    "duration": 92,
    "start_time": "2021-07-29T15:30:53.166Z"
   },
   {
    "duration": 9,
    "start_time": "2021-07-29T15:30:53.263Z"
   },
   {
    "duration": 81,
    "start_time": "2021-07-29T15:30:53.275Z"
   },
   {
    "duration": 99,
    "start_time": "2021-07-29T15:30:53.359Z"
   },
   {
    "duration": 7,
    "start_time": "2021-07-29T15:30:53.461Z"
   },
   {
    "duration": 21,
    "start_time": "2021-07-29T15:30:53.471Z"
   },
   {
    "duration": 64,
    "start_time": "2021-07-29T15:30:53.495Z"
   },
   {
    "duration": 95,
    "start_time": "2021-07-29T15:30:53.562Z"
   },
   {
    "duration": 20,
    "start_time": "2021-07-29T15:31:03.232Z"
   },
   {
    "duration": 7,
    "start_time": "2021-07-29T15:31:03.606Z"
   },
   {
    "duration": 7,
    "start_time": "2021-07-29T15:31:05.006Z"
   },
   {
    "duration": 97,
    "start_time": "2021-07-29T15:31:07.060Z"
   },
   {
    "duration": 6,
    "start_time": "2021-07-29T15:31:07.341Z"
   },
   {
    "duration": 6,
    "start_time": "2021-07-29T15:31:07.741Z"
   },
   {
    "duration": 7,
    "start_time": "2021-07-29T15:35:49.780Z"
   },
   {
    "duration": 5,
    "start_time": "2021-07-29T15:36:22.846Z"
   },
   {
    "duration": 6,
    "start_time": "2021-07-29T15:36:28.021Z"
   },
   {
    "duration": 6,
    "start_time": "2021-07-29T15:36:32.061Z"
   },
   {
    "duration": 5,
    "start_time": "2021-07-29T15:36:50.901Z"
   },
   {
    "duration": 6,
    "start_time": "2021-07-29T15:37:33.941Z"
   },
   {
    "duration": 1290,
    "start_time": "2021-07-29T19:00:13.988Z"
   },
   {
    "duration": 240,
    "start_time": "2021-07-29T19:00:15.281Z"
   },
   {
    "duration": 25,
    "start_time": "2021-07-29T19:00:15.524Z"
   },
   {
    "duration": 861,
    "start_time": "2021-07-29T19:00:15.564Z"
   },
   {
    "duration": 13,
    "start_time": "2021-07-29T19:00:16.427Z"
   },
   {
    "duration": 587,
    "start_time": "2021-07-29T19:00:16.442Z"
   },
   {
    "duration": 11,
    "start_time": "2021-07-29T19:00:17.032Z"
   },
   {
    "duration": 31,
    "start_time": "2021-07-29T19:00:17.047Z"
   },
   {
    "duration": 29,
    "start_time": "2021-07-29T19:00:17.081Z"
   },
   {
    "duration": 43,
    "start_time": "2021-07-29T19:00:17.113Z"
   },
   {
    "duration": 21,
    "start_time": "2021-07-29T19:00:17.158Z"
   },
   {
    "duration": 38,
    "start_time": "2021-07-29T19:00:17.182Z"
   },
   {
    "duration": 30,
    "start_time": "2021-07-29T19:00:17.223Z"
   },
   {
    "duration": 33,
    "start_time": "2021-07-29T19:00:17.255Z"
   },
   {
    "duration": 39,
    "start_time": "2021-07-29T19:00:17.292Z"
   },
   {
    "duration": 25,
    "start_time": "2021-07-29T19:00:17.334Z"
   },
   {
    "duration": 14,
    "start_time": "2021-07-29T19:00:17.363Z"
   },
   {
    "duration": 43,
    "start_time": "2021-07-29T19:00:17.380Z"
   },
   {
    "duration": 26,
    "start_time": "2021-07-29T19:00:17.426Z"
   },
   {
    "duration": 29,
    "start_time": "2021-07-29T19:00:17.455Z"
   },
   {
    "duration": 74,
    "start_time": "2021-07-29T19:00:17.488Z"
   },
   {
    "duration": 4,
    "start_time": "2021-07-29T19:00:17.565Z"
   },
   {
    "duration": 13,
    "start_time": "2021-07-29T19:00:17.662Z"
   },
   {
    "duration": 21,
    "start_time": "2021-07-29T19:00:17.678Z"
   },
   {
    "duration": 63,
    "start_time": "2021-07-29T19:00:17.702Z"
   },
   {
    "duration": 113,
    "start_time": "2021-07-29T19:00:17.767Z"
   },
   {
    "duration": 24,
    "start_time": "2021-07-29T19:00:17.882Z"
   },
   {
    "duration": 54,
    "start_time": "2021-07-29T19:00:17.910Z"
   },
   {
    "duration": 98,
    "start_time": "2021-07-29T19:00:17.967Z"
   },
   {
    "duration": 14,
    "start_time": "2021-07-29T19:00:18.069Z"
   },
   {
    "duration": 51,
    "start_time": "2021-07-29T19:03:33.557Z"
   },
   {
    "duration": 53,
    "start_time": "2021-07-29T19:03:39.144Z"
   },
   {
    "duration": 7,
    "start_time": "2021-07-29T19:04:18.700Z"
   },
   {
    "duration": 402,
    "start_time": "2021-07-29T19:04:57.808Z"
   },
   {
    "duration": 246,
    "start_time": "2021-07-29T19:06:08.672Z"
   },
   {
    "duration": 252,
    "start_time": "2021-07-29T19:06:23.823Z"
   },
   {
    "duration": 302,
    "start_time": "2021-07-29T19:06:33.479Z"
   },
   {
    "duration": 268,
    "start_time": "2021-07-29T19:06:41.488Z"
   },
   {
    "duration": 264,
    "start_time": "2021-07-29T19:09:37.831Z"
   },
   {
    "duration": 228,
    "start_time": "2021-07-29T19:09:55.024Z"
   },
   {
    "duration": 235,
    "start_time": "2021-07-29T19:10:03.008Z"
   },
   {
    "duration": 348,
    "start_time": "2021-07-29T19:12:54.184Z"
   },
   {
    "duration": 23,
    "start_time": "2021-07-29T19:12:58.544Z"
   },
   {
    "duration": 8,
    "start_time": "2021-07-29T19:13:06.547Z"
   },
   {
    "duration": 7,
    "start_time": "2021-07-29T19:13:10.190Z"
   },
   {
    "duration": 297,
    "start_time": "2021-07-29T19:13:12.878Z"
   },
   {
    "duration": 253,
    "start_time": "2021-07-29T19:13:28.622Z"
   },
   {
    "duration": 264,
    "start_time": "2021-07-29T19:13:43.398Z"
   },
   {
    "duration": 208,
    "start_time": "2021-07-29T19:14:04.622Z"
   },
   {
    "duration": 231,
    "start_time": "2021-07-29T19:14:16.278Z"
   },
   {
    "duration": 276,
    "start_time": "2021-07-29T19:14:24.822Z"
   },
   {
    "duration": 47,
    "start_time": "2021-07-29T19:15:03.829Z"
   },
   {
    "duration": 316,
    "start_time": "2021-07-29T19:15:04.678Z"
   },
   {
    "duration": 245,
    "start_time": "2021-07-29T19:15:07.518Z"
   },
   {
    "duration": 18,
    "start_time": "2021-07-29T19:15:10.765Z"
   },
   {
    "duration": 6,
    "start_time": "2021-07-29T19:15:11.086Z"
   },
   {
    "duration": 210,
    "start_time": "2021-07-29T19:15:11.509Z"
   },
   {
    "duration": 16,
    "start_time": "2021-07-29T19:48:38.746Z"
   },
   {
    "duration": 6,
    "start_time": "2021-07-29T19:48:39.108Z"
   },
   {
    "duration": 6,
    "start_time": "2021-07-29T19:48:40.500Z"
   },
   {
    "duration": 17,
    "start_time": "2021-07-29T19:48:41.149Z"
   },
   {
    "duration": 5,
    "start_time": "2021-07-29T19:48:41.388Z"
   },
   {
    "duration": 6,
    "start_time": "2021-07-29T19:48:41.798Z"
   },
   {
    "duration": 17,
    "start_time": "2021-07-29T19:48:42.196Z"
   },
   {
    "duration": 7,
    "start_time": "2021-07-29T19:48:42.420Z"
   },
   {
    "duration": 6,
    "start_time": "2021-07-29T19:48:42.620Z"
   },
   {
    "duration": 5,
    "start_time": "2021-07-29T19:48:43.533Z"
   },
   {
    "duration": 17,
    "start_time": "2021-07-29T20:28:36.768Z"
   },
   {
    "duration": 6,
    "start_time": "2021-07-29T20:28:37.162Z"
   },
   {
    "duration": 6,
    "start_time": "2021-07-29T20:28:37.627Z"
   },
   {
    "duration": 19,
    "start_time": "2021-07-29T20:28:38.171Z"
   },
   {
    "duration": 6,
    "start_time": "2021-07-29T20:28:38.458Z"
   },
   {
    "duration": 7,
    "start_time": "2021-07-29T20:28:38.978Z"
   },
   {
    "duration": 20,
    "start_time": "2021-07-29T20:28:39.603Z"
   },
   {
    "duration": 8,
    "start_time": "2021-07-29T20:28:40.051Z"
   },
   {
    "duration": 5,
    "start_time": "2021-07-29T20:28:40.611Z"
   },
   {
    "duration": 5,
    "start_time": "2021-07-29T20:29:09.227Z"
   },
   {
    "duration": 18,
    "start_time": "2021-07-29T20:29:11.699Z"
   },
   {
    "duration": 6,
    "start_time": "2021-07-29T20:29:11.922Z"
   },
   {
    "duration": 5,
    "start_time": "2021-07-29T20:29:12.315Z"
   },
   {
    "duration": 17,
    "start_time": "2021-07-29T20:29:33.819Z"
   },
   {
    "duration": 5,
    "start_time": "2021-07-29T20:29:34.042Z"
   },
   {
    "duration": 6,
    "start_time": "2021-07-29T20:29:34.826Z"
   },
   {
    "duration": 18,
    "start_time": "2021-07-29T20:29:59.218Z"
   },
   {
    "duration": 6,
    "start_time": "2021-07-29T20:29:59.514Z"
   },
   {
    "duration": 6,
    "start_time": "2021-07-29T20:29:59.778Z"
   },
   {
    "duration": 18,
    "start_time": "2021-07-29T20:29:59.962Z"
   },
   {
    "duration": 6,
    "start_time": "2021-07-29T20:30:00.283Z"
   },
   {
    "duration": 6,
    "start_time": "2021-07-29T20:30:07.222Z"
   },
   {
    "duration": 17,
    "start_time": "2021-07-29T20:30:09.690Z"
   },
   {
    "duration": 7,
    "start_time": "2021-07-29T20:30:10.274Z"
   },
   {
    "duration": 6,
    "start_time": "2021-07-29T20:30:27.850Z"
   },
   {
    "duration": 17,
    "start_time": "2021-07-29T20:30:32.522Z"
   },
   {
    "duration": 6,
    "start_time": "2021-07-29T20:30:32.722Z"
   },
   {
    "duration": 6,
    "start_time": "2021-07-29T20:30:32.906Z"
   },
   {
    "duration": 16,
    "start_time": "2021-07-29T20:30:33.202Z"
   },
   {
    "duration": 5,
    "start_time": "2021-07-29T20:30:33.490Z"
   },
   {
    "duration": 6,
    "start_time": "2021-07-29T20:30:33.834Z"
   },
   {
    "duration": 23,
    "start_time": "2021-07-29T20:30:46.755Z"
   },
   {
    "duration": 8,
    "start_time": "2021-07-29T20:30:46.963Z"
   },
   {
    "duration": 8,
    "start_time": "2021-07-29T20:30:47.114Z"
   },
   {
    "duration": 23,
    "start_time": "2021-07-29T20:30:47.274Z"
   },
   {
    "duration": 7,
    "start_time": "2021-07-29T20:30:47.803Z"
   },
   {
    "duration": 7,
    "start_time": "2021-07-29T20:30:48.042Z"
   },
   {
    "duration": 6,
    "start_time": "2021-07-29T20:32:13.312Z"
   },
   {
    "duration": 7,
    "start_time": "2021-07-29T20:34:22.828Z"
   },
   {
    "duration": 23,
    "start_time": "2021-07-29T20:35:27.009Z"
   },
   {
    "duration": 22,
    "start_time": "2021-07-29T20:35:58.472Z"
   },
   {
    "duration": 21,
    "start_time": "2021-07-29T20:36:20.345Z"
   },
   {
    "duration": 6,
    "start_time": "2021-07-29T20:37:27.589Z"
   },
   {
    "duration": 20,
    "start_time": "2021-07-29T20:37:28.489Z"
   },
   {
    "duration": 101,
    "start_time": "2021-07-29T20:37:29.961Z"
   },
   {
    "duration": 20,
    "start_time": "2021-07-29T20:37:30.865Z"
   },
   {
    "duration": 6,
    "start_time": "2021-07-29T20:38:21.248Z"
   },
   {
    "duration": 19,
    "start_time": "2021-07-29T20:39:48.144Z"
   },
   {
    "duration": 29,
    "start_time": "2021-07-29T20:40:20.124Z"
   },
   {
    "duration": 19,
    "start_time": "2021-07-29T20:40:37.008Z"
   },
   {
    "duration": 19,
    "start_time": "2021-07-29T20:40:39.008Z"
   },
   {
    "duration": 19,
    "start_time": "2021-07-29T20:40:39.287Z"
   },
   {
    "duration": 20,
    "start_time": "2021-07-29T20:40:40.096Z"
   },
   {
    "duration": 23,
    "start_time": "2021-07-29T20:43:31.696Z"
   },
   {
    "duration": 18,
    "start_time": "2021-07-29T20:43:38.112Z"
   },
   {
    "duration": 343,
    "start_time": "2021-07-29T20:44:04.879Z"
   },
   {
    "duration": 116,
    "start_time": "2021-07-29T20:44:30.247Z"
   },
   {
    "duration": 17,
    "start_time": "2021-07-29T20:44:31.595Z"
   },
   {
    "duration": 556,
    "start_time": "2021-07-29T20:44:41.959Z"
   },
   {
    "duration": 6,
    "start_time": "2021-07-29T20:45:01.767Z"
   },
   {
    "duration": 532,
    "start_time": "2021-07-29T20:45:02.616Z"
   },
   {
    "duration": 5,
    "start_time": "2021-07-29T20:45:30.247Z"
   },
   {
    "duration": 528,
    "start_time": "2021-07-29T20:45:31.191Z"
   },
   {
    "duration": 515,
    "start_time": "2021-07-29T20:45:44.335Z"
   },
   {
    "duration": 5,
    "start_time": "2021-07-29T20:45:46.526Z"
   },
   {
    "duration": 554,
    "start_time": "2021-07-29T20:45:47.048Z"
   },
   {
    "duration": 583,
    "start_time": "2021-07-29T20:45:50.815Z"
   },
   {
    "duration": 547,
    "start_time": "2021-07-29T20:46:03.247Z"
   },
   {
    "duration": 7,
    "start_time": "2021-07-29T20:46:05.039Z"
   },
   {
    "duration": 555,
    "start_time": "2021-07-29T20:46:05.543Z"
   },
   {
    "duration": 7,
    "start_time": "2021-07-29T20:46:15.951Z"
   },
   {
    "duration": 509,
    "start_time": "2021-07-29T20:46:16.775Z"
   },
   {
    "duration": 1354,
    "start_time": "2021-07-29T20:46:23.525Z"
   },
   {
    "duration": 167,
    "start_time": "2021-07-29T20:46:24.882Z"
   },
   {
    "duration": 28,
    "start_time": "2021-07-29T20:46:25.052Z"
   },
   {
    "duration": 175,
    "start_time": "2021-07-29T20:46:25.083Z"
   },
   {
    "duration": 14,
    "start_time": "2021-07-29T20:46:25.261Z"
   },
   {
    "duration": 185,
    "start_time": "2021-07-29T20:46:25.278Z"
   },
   {
    "duration": 13,
    "start_time": "2021-07-29T20:46:25.465Z"
   },
   {
    "duration": 21,
    "start_time": "2021-07-29T20:46:25.481Z"
   },
   {
    "duration": 13,
    "start_time": "2021-07-29T20:46:25.505Z"
   },
   {
    "duration": 50,
    "start_time": "2021-07-29T20:46:25.521Z"
   },
   {
    "duration": 17,
    "start_time": "2021-07-29T20:46:25.574Z"
   },
   {
    "duration": 26,
    "start_time": "2021-07-29T20:46:25.593Z"
   },
   {
    "duration": 16,
    "start_time": "2021-07-29T20:46:25.621Z"
   },
   {
    "duration": 19,
    "start_time": "2021-07-29T20:46:25.663Z"
   },
   {
    "duration": 6,
    "start_time": "2021-07-29T20:46:25.684Z"
   },
   {
    "duration": 20,
    "start_time": "2021-07-29T20:46:25.692Z"
   },
   {
    "duration": 18,
    "start_time": "2021-07-29T20:46:25.714Z"
   },
   {
    "duration": 22,
    "start_time": "2021-07-29T20:46:25.734Z"
   },
   {
    "duration": 27,
    "start_time": "2021-07-29T20:46:25.759Z"
   },
   {
    "duration": 11,
    "start_time": "2021-07-29T20:46:25.788Z"
   },
   {
    "duration": 27,
    "start_time": "2021-07-29T20:46:25.801Z"
   },
   {
    "duration": 25,
    "start_time": "2021-07-29T20:46:25.830Z"
   },
   {
    "duration": 18,
    "start_time": "2021-07-29T20:46:25.859Z"
   },
   {
    "duration": 8,
    "start_time": "2021-07-29T20:46:25.879Z"
   },
   {
    "duration": 30,
    "start_time": "2021-07-29T20:46:25.889Z"
   },
   {
    "duration": 104,
    "start_time": "2021-07-29T20:46:25.966Z"
   },
   {
    "duration": 92,
    "start_time": "2021-07-29T20:46:26.072Z"
   },
   {
    "duration": 111,
    "start_time": "2021-07-29T20:46:26.170Z"
   },
   {
    "duration": 5,
    "start_time": "2021-07-29T20:46:26.363Z"
   },
   {
    "duration": 6,
    "start_time": "2021-07-29T20:46:51.234Z"
   },
   {
    "duration": 19,
    "start_time": "2021-07-29T20:46:51.790Z"
   },
   {
    "duration": 6,
    "start_time": "2021-07-29T20:48:02.381Z"
   },
   {
    "duration": 4621,
    "start_time": "2021-07-29T20:48:03.693Z"
   },
   {
    "duration": 5,
    "start_time": "2021-07-29T20:48:20.981Z"
   },
   {
    "duration": 23,
    "start_time": "2021-07-29T20:48:21.245Z"
   },
   {
    "duration": 5,
    "start_time": "2021-07-29T20:48:29.172Z"
   },
   {
    "duration": 20,
    "start_time": "2021-07-29T20:48:29.886Z"
   },
   {
    "duration": 15,
    "start_time": "2021-07-29T20:48:30.349Z"
   },
   {
    "duration": 19,
    "start_time": "2021-07-29T20:48:35.796Z"
   },
   {
    "duration": 24,
    "start_time": "2021-07-29T20:48:36.845Z"
   },
   {
    "duration": 82,
    "start_time": "2021-07-29T20:49:56.980Z"
   },
   {
    "duration": 219,
    "start_time": "2021-07-29T20:50:38.860Z"
   },
   {
    "duration": 249,
    "start_time": "2021-07-29T20:50:46.907Z"
   },
   {
    "duration": 6,
    "start_time": "2021-07-29T20:50:56.692Z"
   },
   {
    "duration": 20,
    "start_time": "2021-07-29T20:50:57.780Z"
   },
   {
    "duration": 8,
    "start_time": "2021-07-29T20:50:59.628Z"
   },
   {
    "duration": 18,
    "start_time": "2021-07-29T20:51:08.324Z"
   },
   {
    "duration": 101,
    "start_time": "2021-07-30T08:46:18.681Z"
   },
   {
    "duration": 83,
    "start_time": "2021-07-30T08:46:25.359Z"
   },
   {
    "duration": 6,
    "start_time": "2021-07-30T08:46:29.787Z"
   },
   {
    "duration": 300,
    "start_time": "2021-07-30T08:46:30.472Z"
   },
   {
    "duration": 1315,
    "start_time": "2021-07-30T08:46:36.183Z"
   },
   {
    "duration": 175,
    "start_time": "2021-07-30T08:46:37.500Z"
   },
   {
    "duration": 22,
    "start_time": "2021-07-30T08:46:37.678Z"
   },
   {
    "duration": 198,
    "start_time": "2021-07-30T08:46:37.703Z"
   },
   {
    "duration": 12,
    "start_time": "2021-07-30T08:46:37.904Z"
   },
   {
    "duration": 165,
    "start_time": "2021-07-30T08:46:37.918Z"
   },
   {
    "duration": 14,
    "start_time": "2021-07-30T08:46:38.085Z"
   },
   {
    "duration": 16,
    "start_time": "2021-07-30T08:46:38.102Z"
   },
   {
    "duration": 47,
    "start_time": "2021-07-30T08:46:38.122Z"
   },
   {
    "duration": 25,
    "start_time": "2021-07-30T08:46:38.172Z"
   },
   {
    "duration": 15,
    "start_time": "2021-07-30T08:46:38.200Z"
   },
   {
    "duration": 20,
    "start_time": "2021-07-30T08:46:38.218Z"
   },
   {
    "duration": 42,
    "start_time": "2021-07-30T08:46:38.240Z"
   },
   {
    "duration": 17,
    "start_time": "2021-07-30T08:46:38.284Z"
   },
   {
    "duration": 6,
    "start_time": "2021-07-30T08:46:38.304Z"
   },
   {
    "duration": 7,
    "start_time": "2021-07-30T08:46:38.313Z"
   },
   {
    "duration": 45,
    "start_time": "2021-07-30T08:46:38.322Z"
   },
   {
    "duration": 32,
    "start_time": "2021-07-30T08:46:38.372Z"
   },
   {
    "duration": 9,
    "start_time": "2021-07-30T08:46:38.406Z"
   },
   {
    "duration": 9,
    "start_time": "2021-07-30T08:46:38.417Z"
   },
   {
    "duration": 19,
    "start_time": "2021-07-30T08:46:38.429Z"
   },
   {
    "duration": 19,
    "start_time": "2021-07-30T08:46:38.450Z"
   },
   {
    "duration": 23,
    "start_time": "2021-07-30T08:46:38.472Z"
   },
   {
    "duration": 7,
    "start_time": "2021-07-30T08:46:38.497Z"
   },
   {
    "duration": 71,
    "start_time": "2021-07-30T08:46:38.507Z"
   },
   {
    "duration": 422,
    "start_time": "2021-07-30T08:46:38.665Z"
   },
   {
    "duration": 405,
    "start_time": "2021-07-30T08:46:38.685Z"
   },
   {
    "duration": 405,
    "start_time": "2021-07-30T08:46:38.687Z"
   },
   {
    "duration": 404,
    "start_time": "2021-07-30T08:46:38.690Z"
   },
   {
    "duration": 404,
    "start_time": "2021-07-30T08:46:38.693Z"
   },
   {
    "duration": 23,
    "start_time": "2021-07-30T08:47:01.803Z"
   },
   {
    "duration": 26,
    "start_time": "2021-07-30T08:47:04.250Z"
   },
   {
    "duration": 11,
    "start_time": "2021-07-30T08:48:27.394Z"
   },
   {
    "duration": 87,
    "start_time": "2021-07-30T08:48:27.778Z"
   },
   {
    "duration": 27,
    "start_time": "2021-07-30T08:48:28.962Z"
   },
   {
    "duration": 20,
    "start_time": "2021-07-30T08:48:29.226Z"
   },
   {
    "duration": 6,
    "start_time": "2021-07-30T08:48:53.329Z"
   },
   {
    "duration": 19,
    "start_time": "2021-07-30T08:48:53.585Z"
   },
   {
    "duration": 80,
    "start_time": "2021-07-30T08:48:53.793Z"
   },
   {
    "duration": 20,
    "start_time": "2021-07-30T08:48:54.321Z"
   },
   {
    "duration": 440,
    "start_time": "2021-07-30T09:47:14.249Z"
   },
   {
    "duration": 207,
    "start_time": "2021-07-30T09:47:29.450Z"
   },
   {
    "duration": 278,
    "start_time": "2021-07-30T09:47:56.732Z"
   },
   {
    "duration": 243,
    "start_time": "2021-07-30T09:48:05.461Z"
   },
   {
    "duration": 277,
    "start_time": "2021-07-30T09:48:08.900Z"
   },
   {
    "duration": 290,
    "start_time": "2021-07-30T09:48:23.116Z"
   },
   {
    "duration": 284,
    "start_time": "2021-07-30T09:48:34.595Z"
   },
   {
    "duration": 663,
    "start_time": "2021-07-30T09:48:46.995Z"
   },
   {
    "duration": 757,
    "start_time": "2021-07-30T09:48:59.387Z"
   },
   {
    "duration": 851,
    "start_time": "2021-07-30T09:49:56.218Z"
   },
   {
    "duration": 664,
    "start_time": "2021-07-30T09:50:02.331Z"
   },
   {
    "duration": 7,
    "start_time": "2021-07-30T09:51:21.531Z"
   },
   {
    "duration": 7,
    "start_time": "2021-07-30T09:51:35.636Z"
   },
   {
    "duration": 6,
    "start_time": "2021-07-30T09:51:40.595Z"
   },
   {
    "duration": 7,
    "start_time": "2021-07-30T09:51:43.963Z"
   },
   {
    "duration": 6,
    "start_time": "2021-07-30T09:52:02.779Z"
   },
   {
    "duration": 13,
    "start_time": "2021-07-30T09:57:34.366Z"
   },
   {
    "duration": 5,
    "start_time": "2021-07-30T09:57:41.442Z"
   },
   {
    "duration": 6,
    "start_time": "2021-07-30T09:57:44.817Z"
   },
   {
    "duration": 6,
    "start_time": "2021-07-30T09:57:55.433Z"
   },
   {
    "duration": 20,
    "start_time": "2021-07-30T09:57:55.977Z"
   },
   {
    "duration": 5,
    "start_time": "2021-07-30T09:57:56.786Z"
   },
   {
    "duration": 229,
    "start_time": "2021-07-30T09:58:12.905Z"
   },
   {
    "duration": 21,
    "start_time": "2021-07-30T09:58:20.442Z"
   },
   {
    "duration": 25,
    "start_time": "2021-07-30T09:58:27.025Z"
   },
   {
    "duration": 15,
    "start_time": "2021-07-30T09:59:40.263Z"
   },
   {
    "duration": 10,
    "start_time": "2021-07-30T09:59:46.650Z"
   },
   {
    "duration": 229,
    "start_time": "2021-07-30T09:59:51.860Z"
   },
   {
    "duration": 434,
    "start_time": "2021-07-30T09:59:55.561Z"
   },
   {
    "duration": 421,
    "start_time": "2021-07-30T10:00:07.553Z"
   },
   {
    "duration": 9,
    "start_time": "2021-07-30T10:00:27.641Z"
   },
   {
    "duration": 9,
    "start_time": "2021-07-30T10:00:32.529Z"
   },
   {
    "duration": 9,
    "start_time": "2021-07-30T10:01:01.098Z"
   },
   {
    "duration": 104,
    "start_time": "2021-07-30T10:01:01.257Z"
   },
   {
    "duration": 4,
    "start_time": "2021-07-30T10:01:01.463Z"
   },
   {
    "duration": 22,
    "start_time": "2021-07-30T10:01:01.817Z"
   },
   {
    "duration": 64,
    "start_time": "2021-07-30T10:01:02.200Z"
   },
   {
    "duration": 1519,
    "start_time": "2021-07-30T10:01:32.681Z"
   },
   {
    "duration": 22,
    "start_time": "2021-07-30T10:01:55.585Z"
   },
   {
    "duration": 4,
    "start_time": "2021-07-30T10:01:57.824Z"
   },
   {
    "duration": 19,
    "start_time": "2021-07-30T10:01:57.983Z"
   },
   {
    "duration": 18,
    "start_time": "2021-07-30T10:01:58.162Z"
   },
   {
    "duration": 6,
    "start_time": "2021-07-30T10:02:01.113Z"
   },
   {
    "duration": 10,
    "start_time": "2021-07-30T10:02:01.736Z"
   },
   {
    "duration": 8,
    "start_time": "2021-07-30T10:02:02.200Z"
   },
   {
    "duration": 248,
    "start_time": "2021-07-30T10:02:21.088Z"
   },
   {
    "duration": 18,
    "start_time": "2021-07-30T10:02:31.680Z"
   },
   {
    "duration": 18,
    "start_time": "2021-07-30T10:02:34.194Z"
   },
   {
    "duration": 5,
    "start_time": "2021-07-30T10:02:34.363Z"
   },
   {
    "duration": 17,
    "start_time": "2021-07-30T10:02:34.495Z"
   },
   {
    "duration": 16,
    "start_time": "2021-07-30T10:02:34.696Z"
   },
   {
    "duration": 7,
    "start_time": "2021-07-30T10:02:35.080Z"
   },
   {
    "duration": 6,
    "start_time": "2021-07-30T10:02:35.601Z"
   },
   {
    "duration": 7,
    "start_time": "2021-07-30T10:02:35.764Z"
   },
   {
    "duration": 7,
    "start_time": "2021-07-30T10:02:35.969Z"
   },
   {
    "duration": 11,
    "start_time": "2021-07-30T10:02:52.482Z"
   },
   {
    "duration": 11,
    "start_time": "2021-07-30T10:02:52.662Z"
   },
   {
    "duration": 10,
    "start_time": "2021-07-30T10:02:52.863Z"
   },
   {
    "duration": 22,
    "start_time": "2021-07-30T10:02:53.097Z"
   },
   {
    "duration": 23,
    "start_time": "2021-07-30T10:02:53.344Z"
   },
   {
    "duration": 25,
    "start_time": "2021-07-30T10:02:53.744Z"
   },
   {
    "duration": 64,
    "start_time": "2021-07-30T10:04:25.798Z"
   },
   {
    "duration": 7,
    "start_time": "2021-07-30T10:04:26.015Z"
   },
   {
    "duration": 6,
    "start_time": "2021-07-30T10:04:26.175Z"
   },
   {
    "duration": 18,
    "start_time": "2021-07-30T10:04:26.520Z"
   },
   {
    "duration": 25,
    "start_time": "2021-07-30T10:04:47.337Z"
   },
   {
    "duration": 1306,
    "start_time": "2021-07-30T10:05:36.193Z"
   },
   {
    "duration": 165,
    "start_time": "2021-07-30T10:05:37.501Z"
   },
   {
    "duration": 23,
    "start_time": "2021-07-30T10:05:37.672Z"
   },
   {
    "duration": 173,
    "start_time": "2021-07-30T10:05:37.697Z"
   },
   {
    "duration": 13,
    "start_time": "2021-07-30T10:05:37.872Z"
   },
   {
    "duration": 171,
    "start_time": "2021-07-30T10:05:37.887Z"
   },
   {
    "duration": 12,
    "start_time": "2021-07-30T10:05:38.061Z"
   },
   {
    "duration": 18,
    "start_time": "2021-07-30T10:05:38.078Z"
   },
   {
    "duration": 14,
    "start_time": "2021-07-30T10:05:38.100Z"
   },
   {
    "duration": 49,
    "start_time": "2021-07-30T10:05:38.116Z"
   },
   {
    "duration": 17,
    "start_time": "2021-07-30T10:05:38.168Z"
   },
   {
    "duration": 24,
    "start_time": "2021-07-30T10:05:38.188Z"
   },
   {
    "duration": 425,
    "start_time": "2021-07-30T10:05:38.214Z"
   },
   {
    "duration": 29,
    "start_time": "2021-07-30T10:05:38.641Z"
   },
   {
    "duration": 724,
    "start_time": "2021-07-30T10:05:38.673Z"
   },
   {
    "duration": 17,
    "start_time": "2021-07-30T10:05:39.399Z"
   },
   {
    "duration": 706,
    "start_time": "2021-07-30T10:05:39.418Z"
   },
   {
    "duration": 5,
    "start_time": "2021-07-30T10:05:40.127Z"
   },
   {
    "duration": 27,
    "start_time": "2021-07-30T10:05:40.135Z"
   },
   {
    "duration": 28,
    "start_time": "2021-07-30T10:05:40.164Z"
   },
   {
    "duration": 22,
    "start_time": "2021-07-30T10:05:40.195Z"
   },
   {
    "duration": 12,
    "start_time": "2021-07-30T10:05:40.220Z"
   },
   {
    "duration": 22,
    "start_time": "2021-07-30T10:05:40.235Z"
   },
   {
    "duration": 42,
    "start_time": "2021-07-30T10:05:40.260Z"
   },
   {
    "duration": 19,
    "start_time": "2021-07-30T10:05:40.305Z"
   },
   {
    "duration": 22,
    "start_time": "2021-07-30T10:05:40.329Z"
   },
   {
    "duration": 8,
    "start_time": "2021-07-30T10:05:40.354Z"
   },
   {
    "duration": 104,
    "start_time": "2021-07-30T10:05:40.364Z"
   },
   {
    "duration": 96,
    "start_time": "2021-07-30T10:05:40.471Z"
   },
   {
    "duration": 95,
    "start_time": "2021-07-30T10:05:40.570Z"
   },
   {
    "duration": 108,
    "start_time": "2021-07-30T10:05:40.669Z"
   },
   {
    "duration": 185,
    "start_time": "2021-07-30T10:05:40.780Z"
   },
   {
    "duration": 23,
    "start_time": "2021-07-30T10:05:40.968Z"
   },
   {
    "duration": 103,
    "start_time": "2021-07-30T10:05:41.064Z"
   },
   {
    "duration": 193,
    "start_time": "2021-07-30T10:05:41.172Z"
   },
   {
    "duration": 201,
    "start_time": "2021-07-30T10:05:41.370Z"
   },
   {
    "duration": 42,
    "start_time": "2021-07-30T10:05:41.574Z"
   },
   {
    "duration": 46,
    "start_time": "2021-07-30T10:05:41.619Z"
   },
   {
    "duration": 47,
    "start_time": "2021-07-30T10:05:41.668Z"
   },
   {
    "duration": 5,
    "start_time": "2021-07-30T10:09:23.942Z"
   },
   {
    "duration": 58,
    "start_time": "2021-07-30T10:09:24.304Z"
   },
   {
    "duration": 357,
    "start_time": "2021-07-30T10:09:25.337Z"
   },
   {
    "duration": 291,
    "start_time": "2021-07-30T10:09:29.440Z"
   },
   {
    "duration": 8,
    "start_time": "2021-07-30T10:09:56.769Z"
   },
   {
    "duration": 23,
    "start_time": "2021-07-30T10:10:22.904Z"
   },
   {
    "duration": 286,
    "start_time": "2021-07-30T10:11:05.386Z"
   },
   {
    "duration": 25,
    "start_time": "2021-07-30T10:11:20.437Z"
   },
   {
    "duration": 16,
    "start_time": "2021-07-30T10:11:26.640Z"
   },
   {
    "duration": 7,
    "start_time": "2021-07-30T10:15:02.857Z"
   },
   {
    "duration": 830,
    "start_time": "2021-07-30T10:15:12.423Z"
   },
   {
    "duration": 17,
    "start_time": "2021-07-30T10:15:24.662Z"
   },
   {
    "duration": 21,
    "start_time": "2021-07-30T10:36:38.556Z"
   },
   {
    "duration": 103,
    "start_time": "2021-07-30T10:38:12.618Z"
   },
   {
    "duration": 62,
    "start_time": "2021-07-30T10:38:24.329Z"
   },
   {
    "duration": 86,
    "start_time": "2021-07-30T10:38:37.907Z"
   },
   {
    "duration": 19,
    "start_time": "2021-07-30T10:38:51.937Z"
   },
   {
    "duration": 256,
    "start_time": "2021-07-30T10:39:25.494Z"
   },
   {
    "duration": 28,
    "start_time": "2021-07-30T10:39:39.569Z"
   },
   {
    "duration": 26,
    "start_time": "2021-07-30T10:39:44.217Z"
   },
   {
    "duration": 26,
    "start_time": "2021-07-30T10:39:47.786Z"
   },
   {
    "duration": 24,
    "start_time": "2021-07-30T10:39:52.482Z"
   },
   {
    "duration": 25,
    "start_time": "2021-07-30T10:39:55.857Z"
   },
   {
    "duration": 27,
    "start_time": "2021-07-30T10:39:58.985Z"
   },
   {
    "duration": 24,
    "start_time": "2021-07-30T10:40:05.730Z"
   },
   {
    "duration": 25,
    "start_time": "2021-07-30T10:40:24.377Z"
   },
   {
    "duration": 24,
    "start_time": "2021-07-30T10:40:28.337Z"
   },
   {
    "duration": 24,
    "start_time": "2021-07-30T10:40:38.121Z"
   },
   {
    "duration": 25,
    "start_time": "2021-07-30T10:40:44.297Z"
   },
   {
    "duration": 25,
    "start_time": "2021-07-30T10:40:50.649Z"
   },
   {
    "duration": 24,
    "start_time": "2021-07-30T10:40:53.833Z"
   },
   {
    "duration": 27,
    "start_time": "2021-07-30T10:40:56.737Z"
   },
   {
    "duration": 26,
    "start_time": "2021-07-30T10:40:59.337Z"
   },
   {
    "duration": 25,
    "start_time": "2021-07-30T10:41:03.057Z"
   },
   {
    "duration": 25,
    "start_time": "2021-07-30T10:41:05.649Z"
   },
   {
    "duration": 26,
    "start_time": "2021-07-30T10:41:08.680Z"
   },
   {
    "duration": 25,
    "start_time": "2021-07-30T10:41:12.305Z"
   },
   {
    "duration": 25,
    "start_time": "2021-07-30T10:41:15.161Z"
   },
   {
    "duration": 26,
    "start_time": "2021-07-30T10:41:17.809Z"
   },
   {
    "duration": 27,
    "start_time": "2021-07-30T10:41:20.216Z"
   },
   {
    "duration": 37,
    "start_time": "2021-07-30T10:41:25.600Z"
   },
   {
    "duration": 26,
    "start_time": "2021-07-30T10:41:32.361Z"
   },
   {
    "duration": 18,
    "start_time": "2021-07-30T10:41:45.664Z"
   },
   {
    "duration": 16,
    "start_time": "2021-07-30T10:41:51.933Z"
   },
   {
    "duration": 17,
    "start_time": "2021-07-30T10:42:31.005Z"
   },
   {
    "duration": 23,
    "start_time": "2021-07-30T10:42:40.760Z"
   },
   {
    "duration": 23,
    "start_time": "2021-07-30T10:43:03.721Z"
   },
   {
    "duration": 18,
    "start_time": "2021-07-30T10:43:20.485Z"
   },
   {
    "duration": 17,
    "start_time": "2021-07-30T10:43:28.569Z"
   },
   {
    "duration": 19,
    "start_time": "2021-07-30T10:43:33.675Z"
   },
   {
    "duration": 19,
    "start_time": "2021-07-30T10:43:38.440Z"
   },
   {
    "duration": 21,
    "start_time": "2021-07-30T10:43:43.760Z"
   },
   {
    "duration": 22,
    "start_time": "2021-07-30T10:43:46.817Z"
   },
   {
    "duration": 25,
    "start_time": "2021-07-30T10:43:50.345Z"
   },
   {
    "duration": 21,
    "start_time": "2021-07-30T10:43:54.464Z"
   },
   {
    "duration": 19,
    "start_time": "2021-07-30T10:43:59.184Z"
   },
   {
    "duration": 19,
    "start_time": "2021-07-30T10:44:04.112Z"
   },
   {
    "duration": 18,
    "start_time": "2021-07-30T10:44:07.112Z"
   },
   {
    "duration": 19,
    "start_time": "2021-07-30T10:44:09.825Z"
   },
   {
    "duration": 19,
    "start_time": "2021-07-30T10:44:12.240Z"
   },
   {
    "duration": 20,
    "start_time": "2021-07-30T10:44:17.048Z"
   },
   {
    "duration": 24,
    "start_time": "2021-07-30T10:44:20.347Z"
   },
   {
    "duration": 19,
    "start_time": "2021-07-30T10:44:24.601Z"
   },
   {
    "duration": 18,
    "start_time": "2021-07-30T10:44:27.191Z"
   },
   {
    "duration": 17,
    "start_time": "2021-07-30T10:44:39.673Z"
   },
   {
    "duration": 427,
    "start_time": "2021-07-30T10:44:58.983Z"
   },
   {
    "duration": 611,
    "start_time": "2021-07-30T10:45:01.487Z"
   },
   {
    "duration": 6,
    "start_time": "2021-07-30T10:45:17.317Z"
   },
   {
    "duration": 665,
    "start_time": "2021-07-30T10:45:17.583Z"
   },
   {
    "duration": 402,
    "start_time": "2021-07-30T10:45:17.849Z"
   },
   {
    "duration": 1701,
    "start_time": "2021-07-30T10:45:25.388Z"
   },
   {
    "duration": 237,
    "start_time": "2021-07-30T10:45:27.093Z"
   },
   {
    "duration": 43,
    "start_time": "2021-07-30T10:45:27.335Z"
   },
   {
    "duration": 153,
    "start_time": "2021-07-30T10:45:27.381Z"
   },
   {
    "duration": 12,
    "start_time": "2021-07-30T10:45:27.536Z"
   },
   {
    "duration": 157,
    "start_time": "2021-07-30T10:45:27.551Z"
   },
   {
    "duration": 12,
    "start_time": "2021-07-30T10:45:27.711Z"
   },
   {
    "duration": 18,
    "start_time": "2021-07-30T10:45:27.725Z"
   },
   {
    "duration": 26,
    "start_time": "2021-07-30T10:45:27.746Z"
   },
   {
    "duration": 17,
    "start_time": "2021-07-30T10:45:27.776Z"
   },
   {
    "duration": 16,
    "start_time": "2021-07-30T10:45:27.796Z"
   },
   {
    "duration": 62,
    "start_time": "2021-07-30T10:45:27.815Z"
   },
   {
    "duration": 421,
    "start_time": "2021-07-30T10:45:27.879Z"
   },
   {
    "duration": 18,
    "start_time": "2021-07-30T10:45:28.303Z"
   },
   {
    "duration": 780,
    "start_time": "2021-07-30T10:45:28.323Z"
   },
   {
    "duration": 17,
    "start_time": "2021-07-30T10:45:29.106Z"
   },
   {
    "duration": 726,
    "start_time": "2021-07-30T10:45:29.125Z"
   },
   {
    "duration": 11,
    "start_time": "2021-07-30T10:45:29.853Z"
   },
   {
    "duration": 15,
    "start_time": "2021-07-30T10:45:29.867Z"
   },
   {
    "duration": 23,
    "start_time": "2021-07-30T10:45:29.884Z"
   },
   {
    "duration": 12,
    "start_time": "2021-07-30T10:45:29.910Z"
   },
   {
    "duration": 24,
    "start_time": "2021-07-30T10:45:29.924Z"
   },
   {
    "duration": 21,
    "start_time": "2021-07-30T10:45:29.950Z"
   },
   {
    "duration": 30,
    "start_time": "2021-07-30T10:45:29.974Z"
   },
   {
    "duration": 18,
    "start_time": "2021-07-30T10:45:30.007Z"
   },
   {
    "duration": 30,
    "start_time": "2021-07-30T10:45:30.027Z"
   },
   {
    "duration": 8,
    "start_time": "2021-07-30T10:45:30.065Z"
   },
   {
    "duration": 99,
    "start_time": "2021-07-30T10:45:30.076Z"
   },
   {
    "duration": 100,
    "start_time": "2021-07-30T10:45:30.179Z"
   },
   {
    "duration": 198,
    "start_time": "2021-07-30T10:45:30.282Z"
   },
   {
    "duration": 26,
    "start_time": "2021-07-30T10:45:30.483Z"
   },
   {
    "duration": 30,
    "start_time": "2021-07-30T10:45:30.512Z"
   },
   {
    "duration": 68,
    "start_time": "2021-07-30T10:45:30.545Z"
   },
   {
    "duration": 158,
    "start_time": "2021-07-30T10:45:30.617Z"
   },
   {
    "duration": 260,
    "start_time": "2021-07-30T10:45:30.778Z"
   },
   {
    "duration": 57,
    "start_time": "2021-07-30T10:45:31.041Z"
   },
   {
    "duration": 43,
    "start_time": "2021-07-30T10:45:31.101Z"
   },
   {
    "duration": 94,
    "start_time": "2021-07-30T10:45:31.173Z"
   },
   {
    "duration": 97,
    "start_time": "2021-07-30T10:45:31.270Z"
   },
   {
    "duration": 9,
    "start_time": "2021-07-30T10:45:31.376Z"
   },
   {
    "duration": 90,
    "start_time": "2021-07-30T10:45:31.387Z"
   },
   {
    "duration": 193,
    "start_time": "2021-07-30T10:45:31.480Z"
   },
   {
    "duration": 6287,
    "start_time": "2021-07-30T10:45:31.676Z"
   },
   {
    "duration": 396,
    "start_time": "2021-07-30T10:45:37.569Z"
   },
   {
    "duration": 394,
    "start_time": "2021-07-30T10:45:37.572Z"
   },
   {
    "duration": 19,
    "start_time": "2021-07-30T10:46:01.997Z"
   },
   {
    "duration": 18,
    "start_time": "2021-07-30T10:46:06.416Z"
   },
   {
    "duration": 103,
    "start_time": "2021-07-30T10:46:09.416Z"
   },
   {
    "duration": 19,
    "start_time": "2021-07-30T10:46:12.648Z"
   },
   {
    "duration": 19,
    "start_time": "2021-07-30T10:46:15.703Z"
   },
   {
    "duration": 18,
    "start_time": "2021-07-30T10:46:18.551Z"
   },
   {
    "duration": 20,
    "start_time": "2021-07-30T10:46:21.223Z"
   },
   {
    "duration": 18,
    "start_time": "2021-07-30T10:46:25.799Z"
   },
   {
    "duration": 20,
    "start_time": "2021-07-30T10:46:28.767Z"
   },
   {
    "duration": 19,
    "start_time": "2021-07-30T10:46:31.775Z"
   },
   {
    "duration": 24,
    "start_time": "2021-07-30T10:46:34.447Z"
   },
   {
    "duration": 22,
    "start_time": "2021-07-30T10:46:37.847Z"
   },
   {
    "duration": 19,
    "start_time": "2021-07-30T10:46:42.121Z"
   },
   {
    "duration": 19,
    "start_time": "2021-07-30T10:46:44.623Z"
   },
   {
    "duration": 18,
    "start_time": "2021-07-30T10:46:47.335Z"
   },
   {
    "duration": 18,
    "start_time": "2021-07-30T10:46:50.279Z"
   },
   {
    "duration": 17,
    "start_time": "2021-07-30T10:46:59.735Z"
   },
   {
    "duration": 18,
    "start_time": "2021-07-30T10:48:11.004Z"
   },
   {
    "duration": 19,
    "start_time": "2021-07-30T10:48:15.631Z"
   },
   {
    "duration": 19,
    "start_time": "2021-07-30T10:48:19.799Z"
   },
   {
    "duration": 18,
    "start_time": "2021-07-30T10:48:25.623Z"
   },
   {
    "duration": 18,
    "start_time": "2021-07-30T10:48:28.519Z"
   },
   {
    "duration": 25,
    "start_time": "2021-07-30T10:48:30.815Z"
   },
   {
    "duration": 18,
    "start_time": "2021-07-30T10:48:33.127Z"
   },
   {
    "duration": 20,
    "start_time": "2021-07-30T10:48:35.655Z"
   },
   {
    "duration": 18,
    "start_time": "2021-07-30T10:48:40.023Z"
   },
   {
    "duration": 19,
    "start_time": "2021-07-30T10:48:44.301Z"
   },
   {
    "duration": 19,
    "start_time": "2021-07-30T10:48:47.190Z"
   },
   {
    "duration": 18,
    "start_time": "2021-07-30T10:48:50.312Z"
   },
   {
    "duration": 24,
    "start_time": "2021-07-30T10:48:52.799Z"
   },
   {
    "duration": 18,
    "start_time": "2021-07-30T10:48:55.679Z"
   },
   {
    "duration": 19,
    "start_time": "2021-07-30T10:48:57.773Z"
   },
   {
    "duration": 19,
    "start_time": "2021-07-30T10:49:00.183Z"
   },
   {
    "duration": 19,
    "start_time": "2021-07-30T10:49:03.590Z"
   },
   {
    "duration": 19,
    "start_time": "2021-07-30T10:49:06.206Z"
   },
   {
    "duration": 19,
    "start_time": "2021-07-30T10:49:08.590Z"
   },
   {
    "duration": 19,
    "start_time": "2021-07-30T10:49:11.710Z"
   },
   {
    "duration": 18,
    "start_time": "2021-07-30T10:49:14.215Z"
   },
   {
    "duration": 18,
    "start_time": "2021-07-30T10:49:17.742Z"
   },
   {
    "duration": 19,
    "start_time": "2021-07-30T10:49:20.670Z"
   },
   {
    "duration": 19,
    "start_time": "2021-07-30T10:49:23.431Z"
   },
   {
    "duration": 19,
    "start_time": "2021-07-30T10:49:26.422Z"
   },
   {
    "duration": 18,
    "start_time": "2021-07-30T10:49:30.775Z"
   },
   {
    "duration": 19,
    "start_time": "2021-07-30T10:49:35.159Z"
   },
   {
    "duration": 22,
    "start_time": "2021-07-30T10:49:39.943Z"
   },
   {
    "duration": 23,
    "start_time": "2021-07-30T10:49:42.493Z"
   },
   {
    "duration": 18,
    "start_time": "2021-07-30T10:49:44.798Z"
   },
   {
    "duration": 23,
    "start_time": "2021-07-30T10:49:47.958Z"
   },
   {
    "duration": 18,
    "start_time": "2021-07-30T10:50:00.014Z"
   },
   {
    "duration": 4,
    "start_time": "2021-07-30T10:53:18.803Z"
   },
   {
    "duration": 294,
    "start_time": "2021-07-30T10:55:01.300Z"
   },
   {
    "duration": 1288,
    "start_time": "2021-07-30T10:56:09.079Z"
   },
   {
    "duration": 1317,
    "start_time": "2021-07-30T10:58:37.261Z"
   },
   {
    "duration": 239,
    "start_time": "2021-07-30T11:23:06.161Z"
   },
   {
    "duration": 222,
    "start_time": "2021-07-30T11:23:28.056Z"
   },
   {
    "duration": 281,
    "start_time": "2021-07-30T11:23:40.766Z"
   },
   {
    "duration": 19,
    "start_time": "2021-07-30T11:23:49.119Z"
   },
   {
    "duration": 18,
    "start_time": "2021-07-30T11:23:54.142Z"
   },
   {
    "duration": 27,
    "start_time": "2021-07-30T11:23:56.150Z"
   },
   {
    "duration": 17,
    "start_time": "2021-07-30T11:24:16.127Z"
   },
   {
    "duration": 18,
    "start_time": "2021-07-30T11:24:59.366Z"
   },
   {
    "duration": 5,
    "start_time": "2021-07-30T11:26:53.575Z"
   },
   {
    "duration": 5,
    "start_time": "2021-07-30T11:27:00.379Z"
   },
   {
    "duration": 6,
    "start_time": "2021-07-30T11:28:50.144Z"
   },
   {
    "duration": 6,
    "start_time": "2021-07-30T11:29:03.869Z"
   },
   {
    "duration": 298,
    "start_time": "2021-07-30T11:29:26.790Z"
   },
   {
    "duration": 4,
    "start_time": "2021-07-30T11:29:33.042Z"
   },
   {
    "duration": 14,
    "start_time": "2021-07-30T11:29:33.204Z"
   },
   {
    "duration": 6,
    "start_time": "2021-07-30T11:30:30.285Z"
   },
   {
    "duration": 17,
    "start_time": "2021-07-30T11:30:30.605Z"
   },
   {
    "duration": 23,
    "start_time": "2021-07-30T11:30:47.253Z"
   },
   {
    "duration": 25,
    "start_time": "2021-07-30T11:30:53.956Z"
   },
   {
    "duration": 18,
    "start_time": "2021-07-30T11:31:00.853Z"
   },
   {
    "duration": 6,
    "start_time": "2021-07-30T11:31:28.236Z"
   },
   {
    "duration": 14,
    "start_time": "2021-07-30T11:31:29.668Z"
   },
   {
    "duration": 6,
    "start_time": "2021-07-30T11:31:52.204Z"
   },
   {
    "duration": 14,
    "start_time": "2021-07-30T11:31:53.908Z"
   },
   {
    "duration": 6,
    "start_time": "2021-07-30T11:32:20.045Z"
   },
   {
    "duration": 14,
    "start_time": "2021-07-30T11:32:20.421Z"
   },
   {
    "duration": 5,
    "start_time": "2021-07-30T11:32:50.284Z"
   },
   {
    "duration": 12,
    "start_time": "2021-07-30T11:32:50.844Z"
   },
   {
    "duration": 4,
    "start_time": "2021-07-30T11:32:59.508Z"
   },
   {
    "duration": 12,
    "start_time": "2021-07-30T11:33:00.756Z"
   },
   {
    "duration": 5,
    "start_time": "2021-07-30T11:33:31.996Z"
   },
   {
    "duration": 13,
    "start_time": "2021-07-30T11:33:32.860Z"
   },
   {
    "duration": 12,
    "start_time": "2021-07-30T11:33:55.241Z"
   },
   {
    "duration": 13,
    "start_time": "2021-07-30T11:33:55.420Z"
   },
   {
    "duration": 11,
    "start_time": "2021-07-30T11:33:55.820Z"
   },
   {
    "duration": 5,
    "start_time": "2021-07-30T11:35:26.889Z"
   },
   {
    "duration": 12,
    "start_time": "2021-07-30T11:35:27.163Z"
   },
   {
    "duration": 12,
    "start_time": "2021-07-30T11:35:27.603Z"
   },
   {
    "duration": 12,
    "start_time": "2021-07-30T11:35:27.812Z"
   },
   {
    "duration": 6,
    "start_time": "2021-07-30T11:35:34.907Z"
   },
   {
    "duration": 12,
    "start_time": "2021-07-30T11:35:35.068Z"
   },
   {
    "duration": 13,
    "start_time": "2021-07-30T11:35:35.387Z"
   },
   {
    "duration": 12,
    "start_time": "2021-07-30T11:35:35.691Z"
   },
   {
    "duration": 24,
    "start_time": "2021-07-30T11:36:41.452Z"
   },
   {
    "duration": 1734,
    "start_time": "2021-07-30T11:49:28.177Z"
   },
   {
    "duration": 14,
    "start_time": "2021-07-30T11:49:29.914Z"
   },
   {
    "duration": 4,
    "start_time": "2021-07-30T11:51:46.506Z"
   },
   {
    "duration": 7708,
    "start_time": "2021-07-30T11:52:06.120Z"
   },
   {
    "duration": 5,
    "start_time": "2021-07-30T11:52:37.401Z"
   },
   {
    "duration": 5689,
    "start_time": "2021-07-30T11:52:37.863Z"
   },
   {
    "duration": 16,
    "start_time": "2021-07-30T11:53:14.477Z"
   },
   {
    "duration": 16,
    "start_time": "2021-07-30T11:53:22.664Z"
   },
   {
    "duration": 5679,
    "start_time": "2021-07-30T11:54:13.413Z"
   },
   {
    "duration": 5663,
    "start_time": "2021-07-30T11:54:24.769Z"
   },
   {
    "duration": 5811,
    "start_time": "2021-07-30T11:54:30.435Z"
   },
   {
    "duration": 5,
    "start_time": "2021-07-30T11:56:43.328Z"
   },
   {
    "duration": 11,
    "start_time": "2021-07-30T11:56:44.696Z"
   },
   {
    "duration": 267,
    "start_time": "2021-07-30T12:36:26.791Z"
   },
   {
    "duration": 2284,
    "start_time": "2021-07-30T12:36:51.780Z"
   },
   {
    "duration": 5447,
    "start_time": "2021-07-30T12:37:06.244Z"
   },
   {
    "duration": 253,
    "start_time": "2021-07-30T12:39:48.524Z"
   },
   {
    "duration": 227,
    "start_time": "2021-07-30T12:40:04.588Z"
   },
   {
    "duration": 13,
    "start_time": "2021-07-30T12:40:11.532Z"
   },
   {
    "duration": 63,
    "start_time": "2021-07-30T12:41:42.569Z"
   },
   {
    "duration": 49,
    "start_time": "2021-07-30T12:41:47.083Z"
   },
   {
    "duration": 52,
    "start_time": "2021-07-30T12:41:52.187Z"
   },
   {
    "duration": 38,
    "start_time": "2021-07-30T12:41:56.291Z"
   },
   {
    "duration": 59,
    "start_time": "2021-07-30T12:42:00.219Z"
   },
   {
    "duration": 51,
    "start_time": "2021-07-30T12:42:08.948Z"
   },
   {
    "duration": 6095,
    "start_time": "2021-07-30T12:42:21.563Z"
   },
   {
    "duration": 1714,
    "start_time": "2021-07-30T12:42:39.201Z"
   },
   {
    "duration": 169,
    "start_time": "2021-07-30T12:42:40.918Z"
   },
   {
    "duration": 23,
    "start_time": "2021-07-30T12:42:41.090Z"
   },
   {
    "duration": 180,
    "start_time": "2021-07-30T12:42:41.115Z"
   },
   {
    "duration": 12,
    "start_time": "2021-07-30T12:42:41.298Z"
   },
   {
    "duration": 178,
    "start_time": "2021-07-30T12:42:41.313Z"
   },
   {
    "duration": 12,
    "start_time": "2021-07-30T12:42:41.494Z"
   },
   {
    "duration": 33,
    "start_time": "2021-07-30T12:42:41.509Z"
   },
   {
    "duration": 15,
    "start_time": "2021-07-30T12:42:41.565Z"
   },
   {
    "duration": 79,
    "start_time": "2021-07-30T12:42:41.583Z"
   },
   {
    "duration": 22,
    "start_time": "2021-07-30T12:42:41.665Z"
   },
   {
    "duration": 75,
    "start_time": "2021-07-30T12:42:41.689Z"
   },
   {
    "duration": 38,
    "start_time": "2021-07-30T12:42:41.766Z"
   },
   {
    "duration": 649,
    "start_time": "2021-07-30T12:42:41.807Z"
   },
   {
    "duration": 16,
    "start_time": "2021-07-30T12:42:42.458Z"
   },
   {
    "duration": 688,
    "start_time": "2021-07-30T12:42:42.476Z"
   },
   {
    "duration": 17,
    "start_time": "2021-07-30T12:42:43.166Z"
   },
   {
    "duration": 681,
    "start_time": "2021-07-30T12:42:43.186Z"
   },
   {
    "duration": 5,
    "start_time": "2021-07-30T12:42:43.870Z"
   },
   {
    "duration": 32,
    "start_time": "2021-07-30T12:42:43.877Z"
   },
   {
    "duration": 31,
    "start_time": "2021-07-30T12:42:43.912Z"
   },
   {
    "duration": 28,
    "start_time": "2021-07-30T12:42:43.945Z"
   },
   {
    "duration": 30,
    "start_time": "2021-07-30T12:42:43.976Z"
   },
   {
    "duration": 22,
    "start_time": "2021-07-30T12:42:44.009Z"
   },
   {
    "duration": 33,
    "start_time": "2021-07-30T12:42:44.033Z"
   },
   {
    "duration": 32,
    "start_time": "2021-07-30T12:42:44.068Z"
   },
   {
    "duration": 17,
    "start_time": "2021-07-30T12:42:44.106Z"
   },
   {
    "duration": 14,
    "start_time": "2021-07-30T12:42:44.126Z"
   },
   {
    "duration": 49,
    "start_time": "2021-07-30T12:42:44.143Z"
   },
   {
    "duration": 6,
    "start_time": "2021-07-30T12:42:44.263Z"
   },
   {
    "duration": 211,
    "start_time": "2021-07-30T12:42:44.271Z"
   },
   {
    "duration": 79,
    "start_time": "2021-07-30T12:42:44.485Z"
   },
   {
    "duration": 110,
    "start_time": "2021-07-30T12:42:44.568Z"
   },
   {
    "duration": 183,
    "start_time": "2021-07-30T12:42:44.681Z"
   },
   {
    "duration": 94,
    "start_time": "2021-07-30T12:42:44.868Z"
   },
   {
    "duration": 8,
    "start_time": "2021-07-30T12:42:44.966Z"
   },
   {
    "duration": 97,
    "start_time": "2021-07-30T12:42:44.976Z"
   },
   {
    "duration": 5,
    "start_time": "2021-07-30T12:42:45.164Z"
   },
   {
    "duration": 18,
    "start_time": "2021-07-30T12:42:45.172Z"
   },
   {
    "duration": 23,
    "start_time": "2021-07-30T12:42:45.193Z"
   },
   {
    "duration": 11,
    "start_time": "2021-07-30T12:42:45.218Z"
   },
   {
    "duration": 33,
    "start_time": "2021-07-30T12:42:45.231Z"
   },
   {
    "duration": 16,
    "start_time": "2021-07-30T12:42:45.266Z"
   },
   {
    "duration": 5454,
    "start_time": "2021-07-30T12:42:45.285Z"
   },
   {
    "duration": 5424,
    "start_time": "2021-07-30T12:42:50.742Z"
   },
   {
    "duration": 5537,
    "start_time": "2021-07-30T12:42:56.169Z"
   },
   {
    "duration": 13,
    "start_time": "2021-07-30T12:43:01.709Z"
   },
   {
    "duration": 41,
    "start_time": "2021-07-30T12:43:01.725Z"
   },
   {
    "duration": 25,
    "start_time": "2021-07-30T12:43:01.768Z"
   },
   {
    "duration": 5,
    "start_time": "2021-07-30T12:43:22.002Z"
   },
   {
    "duration": 169,
    "start_time": "2021-07-30T12:43:22.010Z"
   },
   {
    "duration": 14,
    "start_time": "2021-07-30T12:43:22.182Z"
   },
   {
    "duration": 170,
    "start_time": "2021-07-30T12:43:22.199Z"
   },
   {
    "duration": 12,
    "start_time": "2021-07-30T12:43:22.372Z"
   },
   {
    "duration": 169,
    "start_time": "2021-07-30T12:43:22.386Z"
   },
   {
    "duration": 13,
    "start_time": "2021-07-30T12:43:22.557Z"
   },
   {
    "duration": 18,
    "start_time": "2021-07-30T12:43:22.572Z"
   },
   {
    "duration": 15,
    "start_time": "2021-07-30T12:43:22.593Z"
   },
   {
    "duration": 54,
    "start_time": "2021-07-30T12:43:22.611Z"
   },
   {
    "duration": 21,
    "start_time": "2021-07-30T12:43:22.668Z"
   },
   {
    "duration": 32,
    "start_time": "2021-07-30T12:43:22.691Z"
   },
   {
    "duration": 22,
    "start_time": "2021-07-30T12:43:25.618Z"
   },
   {
    "duration": 22,
    "start_time": "2021-07-30T12:43:35.258Z"
   },
   {
    "duration": 29,
    "start_time": "2021-07-30T12:43:46.484Z"
   },
   {
    "duration": 19,
    "start_time": "2021-07-30T12:45:32.383Z"
   },
   {
    "duration": 15,
    "start_time": "2021-07-30T12:45:37.729Z"
   },
   {
    "duration": 18,
    "start_time": "2021-07-30T12:45:38.514Z"
   },
   {
    "duration": 288,
    "start_time": "2021-07-30T12:45:39.201Z"
   },
   {
    "duration": 17,
    "start_time": "2021-07-30T12:45:41.570Z"
   },
   {
    "duration": 753,
    "start_time": "2021-07-30T12:45:42.690Z"
   },
   {
    "duration": 18,
    "start_time": "2021-07-30T12:45:44.249Z"
   },
   {
    "duration": 698,
    "start_time": "2021-07-30T12:45:44.721Z"
   },
   {
    "duration": 6,
    "start_time": "2021-07-30T12:45:52.084Z"
   },
   {
    "duration": 5,
    "start_time": "2021-07-30T12:45:57.121Z"
   },
   {
    "duration": 7,
    "start_time": "2021-07-30T12:45:57.425Z"
   },
   {
    "duration": 4,
    "start_time": "2021-07-30T12:45:57.688Z"
   },
   {
    "duration": 5,
    "start_time": "2021-07-30T12:45:57.970Z"
   },
   {
    "duration": 4,
    "start_time": "2021-07-30T12:45:58.210Z"
   },
   {
    "duration": 16,
    "start_time": "2021-07-30T12:46:41.250Z"
   },
   {
    "duration": 18,
    "start_time": "2021-07-30T12:46:41.465Z"
   },
   {
    "duration": 17,
    "start_time": "2021-07-30T12:46:41.649Z"
   },
   {
    "duration": 6,
    "start_time": "2021-07-30T12:46:44.145Z"
   },
   {
    "duration": 68,
    "start_time": "2021-07-30T12:46:45.193Z"
   },
   {
    "duration": 9,
    "start_time": "2021-07-30T12:46:47.937Z"
   },
   {
    "duration": 23,
    "start_time": "2021-07-30T12:46:48.762Z"
   },
   {
    "duration": 19,
    "start_time": "2021-07-30T12:47:13.225Z"
   },
   {
    "duration": 6023,
    "start_time": "2021-07-30T12:47:30.135Z"
   },
   {
    "duration": 21,
    "start_time": "2021-07-30T12:47:49.842Z"
   },
   {
    "duration": 12,
    "start_time": "2021-07-30T12:47:52.085Z"
   },
   {
    "duration": 19,
    "start_time": "2021-07-30T12:47:54.185Z"
   },
   {
    "duration": 11,
    "start_time": "2021-07-30T12:47:57.673Z"
   },
   {
    "duration": 16,
    "start_time": "2021-07-30T12:48:03.785Z"
   },
   {
    "duration": 17,
    "start_time": "2021-07-30T12:48:07.201Z"
   },
   {
    "duration": 12,
    "start_time": "2021-07-30T12:49:00.329Z"
   },
   {
    "duration": 12,
    "start_time": "2021-07-30T12:49:03.721Z"
   },
   {
    "duration": 21,
    "start_time": "2021-07-30T12:49:26.825Z"
   },
   {
    "duration": 18,
    "start_time": "2021-07-30T12:50:09.185Z"
   },
   {
    "duration": 17,
    "start_time": "2021-07-30T12:50:59.544Z"
   },
   {
    "duration": 1390,
    "start_time": "2021-07-30T12:52:04.797Z"
   },
   {
    "duration": 172,
    "start_time": "2021-07-30T12:52:06.190Z"
   },
   {
    "duration": 24,
    "start_time": "2021-07-30T12:52:06.365Z"
   },
   {
    "duration": 170,
    "start_time": "2021-07-30T12:52:06.392Z"
   },
   {
    "duration": 12,
    "start_time": "2021-07-30T12:52:06.565Z"
   },
   {
    "duration": 175,
    "start_time": "2021-07-30T12:52:06.580Z"
   },
   {
    "duration": 13,
    "start_time": "2021-07-30T12:52:06.757Z"
   },
   {
    "duration": 18,
    "start_time": "2021-07-30T12:52:06.775Z"
   },
   {
    "duration": 13,
    "start_time": "2021-07-30T12:52:06.796Z"
   },
   {
    "duration": 51,
    "start_time": "2021-07-30T12:52:06.811Z"
   },
   {
    "duration": 16,
    "start_time": "2021-07-30T12:52:06.864Z"
   },
   {
    "duration": 32,
    "start_time": "2021-07-30T12:52:06.883Z"
   },
   {
    "duration": 402,
    "start_time": "2021-07-30T12:52:06.918Z"
   },
   {
    "duration": 18,
    "start_time": "2021-07-30T12:52:07.322Z"
   },
   {
    "duration": 687,
    "start_time": "2021-07-30T12:52:07.342Z"
   },
   {
    "duration": 32,
    "start_time": "2021-07-30T12:52:08.031Z"
   },
   {
    "duration": 1031,
    "start_time": "2021-07-30T12:52:08.066Z"
   },
   {
    "duration": 5,
    "start_time": "2021-07-30T12:52:09.100Z"
   },
   {
    "duration": 27,
    "start_time": "2021-07-30T12:52:09.108Z"
   },
   {
    "duration": 37,
    "start_time": "2021-07-30T12:52:09.138Z"
   },
   {
    "duration": 13,
    "start_time": "2021-07-30T12:52:09.177Z"
   },
   {
    "duration": 17,
    "start_time": "2021-07-30T12:52:09.192Z"
   },
   {
    "duration": 11,
    "start_time": "2021-07-30T12:52:09.214Z"
   },
   {
    "duration": 25,
    "start_time": "2021-07-30T12:52:09.228Z"
   },
   {
    "duration": 18,
    "start_time": "2021-07-30T12:52:09.255Z"
   },
   {
    "duration": 17,
    "start_time": "2021-07-30T12:52:09.276Z"
   },
   {
    "duration": 6,
    "start_time": "2021-07-30T12:52:09.295Z"
   },
   {
    "duration": 61,
    "start_time": "2021-07-30T12:52:09.303Z"
   },
   {
    "duration": 97,
    "start_time": "2021-07-30T12:52:09.366Z"
   },
   {
    "duration": 108,
    "start_time": "2021-07-30T12:52:09.465Z"
   },
   {
    "duration": 17,
    "start_time": "2021-07-30T12:52:09.576Z"
   },
   {
    "duration": 71,
    "start_time": "2021-07-30T12:52:09.595Z"
   },
   {
    "duration": 95,
    "start_time": "2021-07-30T12:52:09.670Z"
   },
   {
    "duration": 112,
    "start_time": "2021-07-30T12:52:09.768Z"
   },
   {
    "duration": 93,
    "start_time": "2021-07-30T12:52:09.883Z"
   },
   {
    "duration": 84,
    "start_time": "2021-07-30T12:52:09.979Z"
   },
   {
    "duration": 98,
    "start_time": "2021-07-30T12:52:10.066Z"
   },
   {
    "duration": 97,
    "start_time": "2021-07-30T12:52:10.166Z"
   },
   {
    "duration": 15,
    "start_time": "2021-07-30T12:52:10.265Z"
   },
   {
    "duration": 19,
    "start_time": "2021-07-30T12:52:10.282Z"
   },
   {
    "duration": 10,
    "start_time": "2021-07-30T12:52:10.304Z"
   },
   {
    "duration": 20,
    "start_time": "2021-07-30T12:52:10.316Z"
   },
   {
    "duration": 4,
    "start_time": "2021-07-30T12:52:10.362Z"
   },
   {
    "duration": 23,
    "start_time": "2021-07-30T12:52:10.369Z"
   },
   {
    "duration": 5595,
    "start_time": "2021-07-30T12:52:10.395Z"
   },
   {
    "duration": 5428,
    "start_time": "2021-07-30T12:52:15.992Z"
   },
   {
    "duration": 5485,
    "start_time": "2021-07-30T12:52:21.422Z"
   },
   {
    "duration": 14,
    "start_time": "2021-07-30T12:52:26.910Z"
   },
   {
    "duration": 39,
    "start_time": "2021-07-30T12:52:26.926Z"
   },
   {
    "duration": 13,
    "start_time": "2021-07-30T12:52:26.968Z"
   },
   {
    "duration": 5,
    "start_time": "2021-07-30T12:52:37.333Z"
   },
   {
    "duration": 12,
    "start_time": "2021-07-30T12:52:37.661Z"
   },
   {
    "duration": 11,
    "start_time": "2021-07-30T12:52:38.524Z"
   },
   {
    "duration": 11,
    "start_time": "2021-07-30T12:52:39.596Z"
   },
   {
    "duration": 86,
    "start_time": "2021-07-30T13:00:16.542Z"
   },
   {
    "duration": 7,
    "start_time": "2021-07-30T13:00:19.387Z"
   },
   {
    "duration": 6,
    "start_time": "2021-07-30T13:00:27.939Z"
   },
   {
    "duration": 7,
    "start_time": "2021-07-30T13:00:49.715Z"
   },
   {
    "duration": 101,
    "start_time": "2021-07-30T13:01:18.333Z"
   },
   {
    "duration": 21,
    "start_time": "2021-07-30T13:01:22.163Z"
   },
   {
    "duration": 13,
    "start_time": "2021-07-30T13:01:31.912Z"
   },
   {
    "duration": 15,
    "start_time": "2021-07-30T13:01:37.675Z"
   },
   {
    "duration": 13,
    "start_time": "2021-07-30T13:01:43.102Z"
   },
   {
    "duration": 13,
    "start_time": "2021-07-30T13:01:49.627Z"
   },
   {
    "duration": 11,
    "start_time": "2021-07-30T13:02:17.235Z"
   },
   {
    "duration": 10,
    "start_time": "2021-07-30T13:04:42.920Z"
   },
   {
    "duration": 5,
    "start_time": "2021-07-30T13:05:29.227Z"
   },
   {
    "duration": 410,
    "start_time": "2021-07-30T13:06:07.826Z"
   },
   {
    "duration": 6,
    "start_time": "2021-07-30T13:06:13.849Z"
   },
   {
    "duration": 11,
    "start_time": "2021-07-30T13:06:24.177Z"
   },
   {
    "duration": 6,
    "start_time": "2021-07-30T13:07:00.443Z"
   },
   {
    "duration": 6,
    "start_time": "2021-07-30T13:15:19.437Z"
   },
   {
    "duration": 7,
    "start_time": "2021-07-30T13:15:34.167Z"
   },
   {
    "duration": 11,
    "start_time": "2021-07-30T13:16:49.116Z"
   },
   {
    "duration": 11,
    "start_time": "2021-07-30T13:16:59.983Z"
   },
   {
    "duration": 10,
    "start_time": "2021-07-30T13:17:04.513Z"
   },
   {
    "duration": 12,
    "start_time": "2021-07-30T13:17:16.292Z"
   },
   {
    "duration": 11,
    "start_time": "2021-07-30T13:17:20.415Z"
   },
   {
    "duration": 11,
    "start_time": "2021-07-30T13:17:24.919Z"
   },
   {
    "duration": 12,
    "start_time": "2021-07-30T13:17:25.078Z"
   },
   {
    "duration": 5,
    "start_time": "2021-07-30T13:24:21.800Z"
   },
   {
    "duration": 15,
    "start_time": "2021-07-30T13:24:22.212Z"
   },
   {
    "duration": 8620,
    "start_time": "2021-07-30T13:24:40.749Z"
   },
   {
    "duration": 8150,
    "start_time": "2021-07-30T13:25:41.591Z"
   },
   {
    "duration": 443,
    "start_time": "2021-07-30T14:17:49.507Z"
   },
   {
    "duration": 10,
    "start_time": "2021-07-30T14:20:45.079Z"
   },
   {
    "duration": 290,
    "start_time": "2021-07-30T14:21:57.831Z"
   },
   {
    "duration": 7,
    "start_time": "2021-07-30T14:22:00.938Z"
   },
   {
    "duration": 273,
    "start_time": "2021-07-30T14:22:01.226Z"
   },
   {
    "duration": 6279,
    "start_time": "2021-07-30T14:22:06.002Z"
   },
   {
    "duration": 6332,
    "start_time": "2021-07-30T14:24:23.441Z"
   },
   {
    "duration": 3516,
    "start_time": "2021-07-30T14:24:45.777Z"
   },
   {
    "duration": 16,
    "start_time": "2021-07-30T14:25:22.501Z"
   },
   {
    "duration": 7,
    "start_time": "2021-07-30T14:25:29.369Z"
   },
   {
    "duration": 4,
    "start_time": "2021-07-30T14:25:54.026Z"
   },
   {
    "duration": 3519,
    "start_time": "2021-07-30T14:25:59.138Z"
   },
   {
    "duration": 8,
    "start_time": "2021-07-30T14:26:17.585Z"
   },
   {
    "duration": 4,
    "start_time": "2021-07-30T14:26:18.337Z"
   },
   {
    "duration": 570,
    "start_time": "2021-07-30T14:26:18.817Z"
   },
   {
    "duration": 5,
    "start_time": "2021-07-30T14:26:28.017Z"
   },
   {
    "duration": 14,
    "start_time": "2021-07-30T14:26:31.016Z"
   },
   {
    "duration": 16,
    "start_time": "2021-07-30T14:26:32.009Z"
   },
   {
    "duration": 16,
    "start_time": "2021-07-30T14:26:32.217Z"
   },
   {
    "duration": 5,
    "start_time": "2021-07-30T14:26:32.391Z"
   },
   {
    "duration": 13,
    "start_time": "2021-07-30T14:26:33.060Z"
   },
   {
    "duration": 7,
    "start_time": "2021-07-30T14:26:35.050Z"
   },
   {
    "duration": 4,
    "start_time": "2021-07-30T14:26:35.825Z"
   },
   {
    "duration": 533,
    "start_time": "2021-07-30T14:26:36.576Z"
   },
   {
    "duration": 8,
    "start_time": "2021-07-30T14:27:09.396Z"
   },
   {
    "duration": 4,
    "start_time": "2021-07-30T14:27:09.977Z"
   },
   {
    "duration": 435,
    "start_time": "2021-07-30T14:27:10.241Z"
   },
   {
    "duration": 1025,
    "start_time": "2021-07-31T08:57:49.272Z"
   },
   {
    "duration": 112,
    "start_time": "2021-07-31T08:57:50.299Z"
   },
   {
    "duration": 13,
    "start_time": "2021-07-31T08:57:50.413Z"
   },
   {
    "duration": 114,
    "start_time": "2021-07-31T08:57:50.428Z"
   },
   {
    "duration": 8,
    "start_time": "2021-07-31T08:57:50.544Z"
   },
   {
    "duration": 111,
    "start_time": "2021-07-31T08:57:50.554Z"
   },
   {
    "duration": 9,
    "start_time": "2021-07-31T08:57:50.666Z"
   },
   {
    "duration": 21,
    "start_time": "2021-07-31T08:57:50.677Z"
   },
   {
    "duration": 8,
    "start_time": "2021-07-31T08:57:50.701Z"
   },
   {
    "duration": 9,
    "start_time": "2021-07-31T08:57:50.711Z"
   },
   {
    "duration": 11,
    "start_time": "2021-07-31T08:57:50.721Z"
   },
   {
    "duration": 14,
    "start_time": "2021-07-31T08:57:50.734Z"
   },
   {
    "duration": 243,
    "start_time": "2021-07-31T08:57:50.750Z"
   },
   {
    "duration": 11,
    "start_time": "2021-07-31T08:57:50.994Z"
   },
   {
    "duration": 363,
    "start_time": "2021-07-31T08:57:51.007Z"
   },
   {
    "duration": 20,
    "start_time": "2021-07-31T08:57:51.372Z"
   },
   {
    "duration": 373,
    "start_time": "2021-07-31T08:57:51.393Z"
   },
   {
    "duration": 4,
    "start_time": "2021-07-31T08:57:51.767Z"
   },
   {
    "duration": 5,
    "start_time": "2021-07-31T08:57:51.773Z"
   },
   {
    "duration": 17,
    "start_time": "2021-07-31T08:57:51.780Z"
   },
   {
    "duration": 6,
    "start_time": "2021-07-31T08:57:51.799Z"
   },
   {
    "duration": 6,
    "start_time": "2021-07-31T08:57:51.807Z"
   },
   {
    "duration": 4,
    "start_time": "2021-07-31T08:57:51.815Z"
   },
   {
    "duration": 18,
    "start_time": "2021-07-31T08:57:51.820Z"
   },
   {
    "duration": 14,
    "start_time": "2021-07-31T08:57:51.839Z"
   },
   {
    "duration": 14,
    "start_time": "2021-07-31T08:57:51.854Z"
   },
   {
    "duration": 4,
    "start_time": "2021-07-31T08:57:51.871Z"
   },
   {
    "duration": 114,
    "start_time": "2021-07-31T08:57:51.876Z"
   },
   {
    "duration": 106,
    "start_time": "2021-07-31T08:57:51.993Z"
   },
   {
    "duration": 98,
    "start_time": "2021-07-31T08:57:52.101Z"
   },
   {
    "duration": 15,
    "start_time": "2021-07-31T08:57:52.200Z"
   },
   {
    "duration": 81,
    "start_time": "2021-07-31T08:57:52.216Z"
   },
   {
    "duration": 96,
    "start_time": "2021-07-31T08:57:52.299Z"
   },
   {
    "duration": 101,
    "start_time": "2021-07-31T08:57:52.397Z"
   },
   {
    "duration": 100,
    "start_time": "2021-07-31T08:57:52.500Z"
   },
   {
    "duration": 13,
    "start_time": "2021-07-31T08:57:52.601Z"
   },
   {
    "duration": 77,
    "start_time": "2021-07-31T08:57:52.616Z"
   },
   {
    "duration": 6,
    "start_time": "2021-07-31T08:57:52.697Z"
   },
   {
    "duration": 8,
    "start_time": "2021-07-31T08:57:52.792Z"
   },
   {
    "duration": 7,
    "start_time": "2021-07-31T08:57:52.801Z"
   },
   {
    "duration": 7,
    "start_time": "2021-07-31T08:57:52.810Z"
   },
   {
    "duration": 4,
    "start_time": "2021-07-31T08:57:52.818Z"
   },
   {
    "duration": 14,
    "start_time": "2021-07-31T08:57:52.823Z"
   },
   {
    "duration": 9,
    "start_time": "2021-07-31T08:57:52.839Z"
   },
   {
    "duration": 47,
    "start_time": "2021-07-31T08:57:52.849Z"
   },
   {
    "duration": 3,
    "start_time": "2021-07-31T08:57:52.897Z"
   },
   {
    "duration": 11,
    "start_time": "2021-07-31T08:57:52.902Z"
   },
   {
    "duration": 6,
    "start_time": "2021-07-31T08:57:52.915Z"
   },
   {
    "duration": 7,
    "start_time": "2021-07-31T08:57:52.923Z"
   },
   {
    "duration": 586,
    "start_time": "2021-07-31T08:57:52.932Z"
   },
   {
    "duration": -435,
    "start_time": "2021-07-31T08:57:53.955Z"
   },
   {
    "duration": -437,
    "start_time": "2021-07-31T08:57:53.958Z"
   },
   {
    "duration": -439,
    "start_time": "2021-07-31T08:57:53.961Z"
   },
   {
    "duration": -441,
    "start_time": "2021-07-31T08:57:53.964Z"
   },
   {
    "duration": -443,
    "start_time": "2021-07-31T08:57:53.967Z"
   },
   {
    "duration": -444,
    "start_time": "2021-07-31T08:57:53.969Z"
   },
   {
    "duration": 1000,
    "start_time": "2021-07-31T08:59:47.594Z"
   },
   {
    "duration": 115,
    "start_time": "2021-07-31T08:59:48.596Z"
   },
   {
    "duration": 14,
    "start_time": "2021-07-31T08:59:48.713Z"
   },
   {
    "duration": 114,
    "start_time": "2021-07-31T08:59:48.729Z"
   },
   {
    "duration": 8,
    "start_time": "2021-07-31T08:59:48.844Z"
   },
   {
    "duration": 111,
    "start_time": "2021-07-31T08:59:48.853Z"
   },
   {
    "duration": 7,
    "start_time": "2021-07-31T08:59:48.966Z"
   },
   {
    "duration": 16,
    "start_time": "2021-07-31T08:59:48.975Z"
   },
   {
    "duration": 9,
    "start_time": "2021-07-31T08:59:48.992Z"
   },
   {
    "duration": 9,
    "start_time": "2021-07-31T08:59:49.002Z"
   },
   {
    "duration": 11,
    "start_time": "2021-07-31T08:59:49.012Z"
   },
   {
    "duration": 13,
    "start_time": "2021-07-31T08:59:49.024Z"
   },
   {
    "duration": 232,
    "start_time": "2021-07-31T08:59:49.039Z"
   },
   {
    "duration": 11,
    "start_time": "2021-07-31T08:59:49.273Z"
   },
   {
    "duration": 352,
    "start_time": "2021-07-31T08:59:49.291Z"
   },
   {
    "duration": 11,
    "start_time": "2021-07-31T08:59:49.644Z"
   },
   {
    "duration": 353,
    "start_time": "2021-07-31T08:59:49.656Z"
   },
   {
    "duration": 4,
    "start_time": "2021-07-31T08:59:50.011Z"
   },
   {
    "duration": 8,
    "start_time": "2021-07-31T08:59:50.016Z"
   },
   {
    "duration": 10,
    "start_time": "2021-07-31T08:59:50.025Z"
   },
   {
    "duration": 4,
    "start_time": "2021-07-31T08:59:50.036Z"
   },
   {
    "duration": 6,
    "start_time": "2021-07-31T08:59:50.042Z"
   },
   {
    "duration": 4,
    "start_time": "2021-07-31T08:59:50.051Z"
   },
   {
    "duration": 19,
    "start_time": "2021-07-31T08:59:50.057Z"
   },
   {
    "duration": 22,
    "start_time": "2021-07-31T08:59:50.078Z"
   },
   {
    "duration": 14,
    "start_time": "2021-07-31T08:59:50.101Z"
   },
   {
    "duration": 3,
    "start_time": "2021-07-31T08:59:50.117Z"
   },
   {
    "duration": 74,
    "start_time": "2021-07-31T08:59:50.122Z"
   },
   {
    "duration": 100,
    "start_time": "2021-07-31T08:59:50.199Z"
   },
   {
    "duration": 100,
    "start_time": "2021-07-31T08:59:50.301Z"
   },
   {
    "duration": 14,
    "start_time": "2021-07-31T08:59:50.402Z"
   },
   {
    "duration": 85,
    "start_time": "2021-07-31T08:59:50.417Z"
   },
   {
    "duration": 89,
    "start_time": "2021-07-31T08:59:50.504Z"
   },
   {
    "duration": 98,
    "start_time": "2021-07-31T08:59:50.595Z"
   },
   {
    "duration": 11,
    "start_time": "2021-07-31T08:59:50.695Z"
   },
   {
    "duration": 13,
    "start_time": "2021-07-31T08:59:50.707Z"
   },
   {
    "duration": 172,
    "start_time": "2021-07-31T08:59:50.721Z"
   },
   {
    "duration": 97,
    "start_time": "2021-07-31T08:59:50.895Z"
   },
   {
    "duration": 8,
    "start_time": "2021-07-31T08:59:50.993Z"
   },
   {
    "duration": 9,
    "start_time": "2021-07-31T08:59:51.003Z"
   },
   {
    "duration": 7,
    "start_time": "2021-07-31T08:59:51.013Z"
   },
   {
    "duration": 3,
    "start_time": "2021-07-31T08:59:51.022Z"
   },
   {
    "duration": 11,
    "start_time": "2021-07-31T08:59:51.027Z"
   },
   {
    "duration": 9,
    "start_time": "2021-07-31T08:59:51.039Z"
   },
   {
    "duration": 49,
    "start_time": "2021-07-31T08:59:51.050Z"
   },
   {
    "duration": 3,
    "start_time": "2021-07-31T08:59:51.100Z"
   },
   {
    "duration": 12,
    "start_time": "2021-07-31T08:59:51.104Z"
   },
   {
    "duration": 4,
    "start_time": "2021-07-31T08:59:51.118Z"
   },
   {
    "duration": 8,
    "start_time": "2021-07-31T08:59:51.124Z"
   },
   {
    "duration": 554,
    "start_time": "2021-07-31T08:59:51.133Z"
   },
   {
    "duration": -451,
    "start_time": "2021-07-31T08:59:52.139Z"
   },
   {
    "duration": -453,
    "start_time": "2021-07-31T08:59:52.142Z"
   },
   {
    "duration": -455,
    "start_time": "2021-07-31T08:59:52.145Z"
   },
   {
    "duration": -458,
    "start_time": "2021-07-31T08:59:52.149Z"
   },
   {
    "duration": -460,
    "start_time": "2021-07-31T08:59:52.152Z"
   },
   {
    "duration": -462,
    "start_time": "2021-07-31T08:59:52.155Z"
   },
   {
    "duration": 3,
    "start_time": "2021-07-31T09:03:38.616Z"
   },
   {
    "duration": 77,
    "start_time": "2021-07-31T09:08:45.199Z"
   },
   {
    "duration": 3,
    "start_time": "2021-07-31T09:09:15.303Z"
   },
   {
    "duration": 2,
    "start_time": "2021-07-31T09:09:15.956Z"
   },
   {
    "duration": 111,
    "start_time": "2021-07-31T09:09:36.075Z"
   },
   {
    "duration": 9,
    "start_time": "2021-07-31T09:09:36.607Z"
   },
   {
    "duration": 8,
    "start_time": "2021-07-31T09:09:47.122Z"
   },
   {
    "duration": 114,
    "start_time": "2021-07-31T09:09:58.450Z"
   },
   {
    "duration": 9,
    "start_time": "2021-07-31T09:09:58.849Z"
   },
   {
    "duration": 2,
    "start_time": "2021-07-31T09:12:50.219Z"
   },
   {
    "duration": 225,
    "start_time": "2021-07-31T09:14:29.309Z"
   },
   {
    "duration": 953,
    "start_time": "2021-07-31T09:14:50.146Z"
   },
   {
    "duration": 3,
    "start_time": "2021-07-31T09:14:51.101Z"
   },
   {
    "duration": 114,
    "start_time": "2021-07-31T09:14:51.106Z"
   },
   {
    "duration": 13,
    "start_time": "2021-07-31T09:14:51.222Z"
   },
   {
    "duration": 115,
    "start_time": "2021-07-31T09:14:51.237Z"
   },
   {
    "duration": 7,
    "start_time": "2021-07-31T09:14:51.354Z"
   },
   {
    "duration": 115,
    "start_time": "2021-07-31T09:14:51.363Z"
   },
   {
    "duration": 8,
    "start_time": "2021-07-31T09:14:51.480Z"
   },
   {
    "duration": 13,
    "start_time": "2021-07-31T09:14:51.490Z"
   },
   {
    "duration": 8,
    "start_time": "2021-07-31T09:14:51.505Z"
   },
   {
    "duration": 8,
    "start_time": "2021-07-31T09:14:51.515Z"
   },
   {
    "duration": 9,
    "start_time": "2021-07-31T09:14:51.524Z"
   },
   {
    "duration": 14,
    "start_time": "2021-07-31T09:14:51.534Z"
   },
   {
    "duration": 243,
    "start_time": "2021-07-31T09:14:51.550Z"
   },
   {
    "duration": 12,
    "start_time": "2021-07-31T09:14:51.794Z"
   },
   {
    "duration": 371,
    "start_time": "2021-07-31T09:14:51.807Z"
   },
   {
    "duration": 21,
    "start_time": "2021-07-31T09:14:52.180Z"
   },
   {
    "duration": 551,
    "start_time": "2021-07-31T09:14:52.203Z"
   },
   {
    "duration": 5,
    "start_time": "2021-07-31T09:14:52.756Z"
   },
   {
    "duration": 5,
    "start_time": "2021-07-31T09:14:52.763Z"
   },
   {
    "duration": 27,
    "start_time": "2021-07-31T09:14:52.769Z"
   },
   {
    "duration": 6,
    "start_time": "2021-07-31T09:14:52.797Z"
   },
   {
    "duration": 8,
    "start_time": "2021-07-31T09:14:52.804Z"
   },
   {
    "duration": 5,
    "start_time": "2021-07-31T09:14:52.813Z"
   },
   {
    "duration": 22,
    "start_time": "2021-07-31T09:14:52.819Z"
   },
   {
    "duration": 20,
    "start_time": "2021-07-31T09:14:52.842Z"
   },
   {
    "duration": 36,
    "start_time": "2021-07-31T09:14:52.866Z"
   },
   {
    "duration": 4,
    "start_time": "2021-07-31T09:14:52.904Z"
   },
   {
    "duration": 631,
    "start_time": "2021-07-31T09:14:52.909Z"
   },
   {
    "duration": -441,
    "start_time": "2021-07-31T09:14:53.982Z"
   },
   {
    "duration": -443,
    "start_time": "2021-07-31T09:14:53.985Z"
   },
   {
    "duration": -445,
    "start_time": "2021-07-31T09:14:53.988Z"
   },
   {
    "duration": -447,
    "start_time": "2021-07-31T09:14:53.991Z"
   },
   {
    "duration": -449,
    "start_time": "2021-07-31T09:14:53.994Z"
   },
   {
    "duration": -451,
    "start_time": "2021-07-31T09:14:53.996Z"
   },
   {
    "duration": -453,
    "start_time": "2021-07-31T09:14:53.999Z"
   },
   {
    "duration": -454,
    "start_time": "2021-07-31T09:14:54.001Z"
   },
   {
    "duration": -456,
    "start_time": "2021-07-31T09:14:54.004Z"
   },
   {
    "duration": -457,
    "start_time": "2021-07-31T09:14:54.006Z"
   },
   {
    "duration": -459,
    "start_time": "2021-07-31T09:14:54.009Z"
   },
   {
    "duration": -461,
    "start_time": "2021-07-31T09:14:54.012Z"
   },
   {
    "duration": -464,
    "start_time": "2021-07-31T09:14:54.015Z"
   },
   {
    "duration": -465,
    "start_time": "2021-07-31T09:14:54.017Z"
   },
   {
    "duration": -467,
    "start_time": "2021-07-31T09:14:54.020Z"
   },
   {
    "duration": -469,
    "start_time": "2021-07-31T09:14:54.023Z"
   },
   {
    "duration": -470,
    "start_time": "2021-07-31T09:14:54.025Z"
   },
   {
    "duration": -471,
    "start_time": "2021-07-31T09:14:54.027Z"
   },
   {
    "duration": -476,
    "start_time": "2021-07-31T09:14:54.032Z"
   },
   {
    "duration": -479,
    "start_time": "2021-07-31T09:14:54.036Z"
   },
   {
    "duration": -481,
    "start_time": "2021-07-31T09:14:54.039Z"
   },
   {
    "duration": -482,
    "start_time": "2021-07-31T09:14:54.041Z"
   },
   {
    "duration": -484,
    "start_time": "2021-07-31T09:14:54.044Z"
   },
   {
    "duration": -486,
    "start_time": "2021-07-31T09:14:54.047Z"
   },
   {
    "duration": -488,
    "start_time": "2021-07-31T09:14:54.050Z"
   },
   {
    "duration": -490,
    "start_time": "2021-07-31T09:14:54.053Z"
   },
   {
    "duration": -492,
    "start_time": "2021-07-31T09:14:54.055Z"
   },
   {
    "duration": -495,
    "start_time": "2021-07-31T09:14:54.059Z"
   },
   {
    "duration": 3,
    "start_time": "2021-07-31T09:15:04.297Z"
   },
   {
    "duration": 13,
    "start_time": "2021-07-31T09:15:10.801Z"
   },
   {
    "duration": 4,
    "start_time": "2021-07-31T09:15:27.049Z"
   },
   {
    "duration": 10,
    "start_time": "2021-07-31T09:15:38.865Z"
   },
   {
    "duration": 31,
    "start_time": "2021-07-31T09:16:39.679Z"
   },
   {
    "duration": 4,
    "start_time": "2021-07-31T09:16:45.945Z"
   },
   {
    "duration": 3,
    "start_time": "2021-07-31T09:17:35.729Z"
   },
   {
    "duration": 3,
    "start_time": "2021-07-31T09:18:01.962Z"
   },
   {
    "duration": 7,
    "start_time": "2021-07-31T09:18:04.386Z"
   },
   {
    "duration": 11,
    "start_time": "2021-07-31T09:18:06.340Z"
   },
   {
    "duration": 7,
    "start_time": "2021-07-31T09:18:17.913Z"
   },
   {
    "duration": 11,
    "start_time": "2021-07-31T09:18:18.377Z"
   },
   {
    "duration": 5,
    "start_time": "2021-07-31T09:19:09.473Z"
   },
   {
    "duration": 11,
    "start_time": "2021-07-31T09:19:14.016Z"
   },
   {
    "duration": 6,
    "start_time": "2021-07-31T09:19:41.253Z"
   },
   {
    "duration": 9,
    "start_time": "2021-07-31T09:19:45.477Z"
   },
   {
    "duration": 8,
    "start_time": "2021-07-31T09:20:40.434Z"
   },
   {
    "duration": 9,
    "start_time": "2021-07-31T09:20:57.741Z"
   },
   {
    "duration": 8,
    "start_time": "2021-07-31T09:21:32.088Z"
   },
   {
    "duration": 5,
    "start_time": "2021-07-31T09:21:35.208Z"
   },
   {
    "duration": 7,
    "start_time": "2021-07-31T09:21:35.552Z"
   },
   {
    "duration": 27,
    "start_time": "2021-07-31T09:38:08.844Z"
   },
   {
    "duration": 25,
    "start_time": "2021-07-31T09:38:22.429Z"
   },
   {
    "duration": 88,
    "start_time": "2021-07-31T09:43:48.103Z"
   },
   {
    "duration": 34,
    "start_time": "2021-07-31T09:47:11.142Z"
   },
   {
    "duration": 11,
    "start_time": "2021-07-31T09:53:12.010Z"
   },
   {
    "duration": 5,
    "start_time": "2021-07-31T09:53:16.233Z"
   },
   {
    "duration": 250,
    "start_time": "2021-07-31T09:53:37.456Z"
   },
   {
    "duration": 6,
    "start_time": "2021-07-31T09:53:39.904Z"
   },
   {
    "duration": 252,
    "start_time": "2021-07-31T09:53:53.153Z"
   },
   {
    "duration": 4,
    "start_time": "2021-07-31T09:53:56.776Z"
   },
   {
    "duration": 4,
    "start_time": "2021-07-31T09:54:04.832Z"
   },
   {
    "duration": 2,
    "start_time": "2021-07-31T09:54:05.072Z"
   },
   {
    "duration": 6,
    "start_time": "2021-07-31T09:54:05.454Z"
   },
   {
    "duration": 3,
    "start_time": "2021-07-31T09:54:05.719Z"
   },
   {
    "duration": 5,
    "start_time": "2021-07-31T09:54:05.879Z"
   },
   {
    "duration": 3,
    "start_time": "2021-07-31T09:54:06.183Z"
   },
   {
    "duration": 16,
    "start_time": "2021-07-31T09:55:22.616Z"
   },
   {
    "duration": 24,
    "start_time": "2021-07-31T09:57:11.369Z"
   },
   {
    "duration": 15,
    "start_time": "2021-07-31T09:57:36.863Z"
   },
   {
    "duration": 4,
    "start_time": "2021-07-31T10:10:34.905Z"
   },
   {
    "duration": 360,
    "start_time": "2021-07-31T10:10:45.324Z"
   },
   {
    "duration": 3,
    "start_time": "2021-07-31T10:10:54.955Z"
   },
   {
    "duration": 5,
    "start_time": "2021-07-31T10:10:54.960Z"
   },
   {
    "duration": 118,
    "start_time": "2021-07-31T10:10:54.967Z"
   },
   {
    "duration": 8,
    "start_time": "2021-07-31T10:10:55.088Z"
   },
   {
    "duration": 117,
    "start_time": "2021-07-31T10:10:55.098Z"
   },
   {
    "duration": 8,
    "start_time": "2021-07-31T10:10:55.217Z"
   },
   {
    "duration": 115,
    "start_time": "2021-07-31T10:10:55.227Z"
   },
   {
    "duration": 8,
    "start_time": "2021-07-31T10:10:55.344Z"
   },
   {
    "duration": 13,
    "start_time": "2021-07-31T10:10:55.354Z"
   },
   {
    "duration": 9,
    "start_time": "2021-07-31T10:10:55.369Z"
   },
   {
    "duration": 9,
    "start_time": "2021-07-31T10:10:55.392Z"
   },
   {
    "duration": 4,
    "start_time": "2021-07-31T10:10:55.403Z"
   },
   {
    "duration": 9,
    "start_time": "2021-07-31T10:10:55.409Z"
   },
   {
    "duration": 8,
    "start_time": "2021-07-31T10:10:55.420Z"
   },
   {
    "duration": 14,
    "start_time": "2021-07-31T10:10:55.430Z"
   },
   {
    "duration": 9,
    "start_time": "2021-07-31T10:10:55.446Z"
   },
   {
    "duration": 12,
    "start_time": "2021-07-31T10:10:55.456Z"
   },
   {
    "duration": 8,
    "start_time": "2021-07-31T10:10:55.469Z"
   },
   {
    "duration": 2,
    "start_time": "2021-07-31T10:10:55.491Z"
   },
   {
    "duration": 10,
    "start_time": "2021-07-31T10:10:55.495Z"
   },
   {
    "duration": 8,
    "start_time": "2021-07-31T10:10:55.506Z"
   },
   {
    "duration": 9,
    "start_time": "2021-07-31T10:10:55.515Z"
   },
   {
    "duration": 8,
    "start_time": "2021-07-31T10:10:55.526Z"
   },
   {
    "duration": 19,
    "start_time": "2021-07-31T10:10:55.535Z"
   },
   {
    "duration": 16,
    "start_time": "2021-07-31T10:10:55.555Z"
   },
   {
    "duration": 11,
    "start_time": "2021-07-31T10:10:55.572Z"
   },
   {
    "duration": 4,
    "start_time": "2021-07-31T10:10:55.590Z"
   },
   {
    "duration": 4,
    "start_time": "2021-07-31T10:10:59.476Z"
   },
   {
    "duration": 536,
    "start_time": "2021-07-31T10:10:59.779Z"
   },
   {
    "duration": 4,
    "start_time": "2021-07-31T10:11:14.795Z"
   },
   {
    "duration": 15,
    "start_time": "2021-07-31T10:11:15.283Z"
   },
   {
    "duration": 306,
    "start_time": "2021-07-31T10:15:04.456Z"
   },
   {
    "duration": 4,
    "start_time": "2021-07-31T10:17:29.369Z"
   },
   {
    "duration": 78,
    "start_time": "2021-07-31T10:17:29.714Z"
   },
   {
    "duration": 5,
    "start_time": "2021-07-31T10:17:40.427Z"
   },
   {
    "duration": 13,
    "start_time": "2021-07-31T10:18:10.530Z"
   },
   {
    "duration": 5,
    "start_time": "2021-07-31T10:18:11.482Z"
   },
   {
    "duration": 4,
    "start_time": "2021-07-31T10:18:15.801Z"
   },
   {
    "duration": 15,
    "start_time": "2021-07-31T10:18:16.040Z"
   },
   {
    "duration": 5,
    "start_time": "2021-07-31T10:18:16.585Z"
   },
   {
    "duration": 14,
    "start_time": "2021-07-31T10:19:37.786Z"
   },
   {
    "duration": 5,
    "start_time": "2021-07-31T10:19:45.146Z"
   },
   {
    "duration": 80,
    "start_time": "2021-07-31T10:19:48.833Z"
   },
   {
    "duration": 5,
    "start_time": "2021-07-31T10:19:50.849Z"
   },
   {
    "duration": 4,
    "start_time": "2021-07-31T10:19:57.274Z"
   },
   {
    "duration": 13,
    "start_time": "2021-07-31T10:20:15.865Z"
   },
   {
    "duration": 22,
    "start_time": "2021-07-31T10:20:24.521Z"
   },
   {
    "duration": 6,
    "start_time": "2021-07-31T10:20:29.265Z"
   },
   {
    "duration": 6,
    "start_time": "2021-07-31T10:20:33.731Z"
   },
   {
    "duration": 3,
    "start_time": "2021-07-31T10:22:36.030Z"
   },
   {
    "duration": 4,
    "start_time": "2021-07-31T10:23:12.821Z"
   },
   {
    "duration": 14,
    "start_time": "2021-07-31T10:23:27.079Z"
   },
   {
    "duration": 5,
    "start_time": "2021-07-31T10:23:27.292Z"
   },
   {
    "duration": 4,
    "start_time": "2021-07-31T10:23:28.784Z"
   },
   {
    "duration": 15,
    "start_time": "2021-07-31T10:23:28.944Z"
   },
   {
    "duration": 6,
    "start_time": "2021-07-31T10:23:29.105Z"
   },
   {
    "duration": 14,
    "start_time": "2021-07-31T10:23:29.272Z"
   },
   {
    "duration": 5,
    "start_time": "2021-07-31T10:23:29.492Z"
   },
   {
    "duration": 14,
    "start_time": "2021-07-31T10:23:29.568Z"
   },
   {
    "duration": 5,
    "start_time": "2021-07-31T10:23:30.136Z"
   },
   {
    "duration": 3,
    "start_time": "2021-07-31T10:23:52.217Z"
   },
   {
    "duration": 45,
    "start_time": "2021-07-31T10:26:10.646Z"
   },
   {
    "duration": 4,
    "start_time": "2021-07-31T10:26:51.056Z"
   },
   {
    "duration": 13,
    "start_time": "2021-07-31T10:26:52.048Z"
   },
   {
    "duration": 4,
    "start_time": "2021-07-31T10:27:00.687Z"
   },
   {
    "duration": 18,
    "start_time": "2021-07-31T10:27:01.016Z"
   },
   {
    "duration": 5,
    "start_time": "2021-07-31T10:27:01.872Z"
   },
   {
    "duration": 13,
    "start_time": "2021-07-31T10:27:02.535Z"
   },
   {
    "duration": 5,
    "start_time": "2021-07-31T10:27:03.103Z"
   },
   {
    "duration": 90,
    "start_time": "2021-07-31T10:27:03.505Z"
   },
   {
    "duration": 4,
    "start_time": "2021-07-31T10:28:05.165Z"
   },
   {
    "duration": 24,
    "start_time": "2021-07-31T10:28:10.766Z"
   },
   {
    "duration": 5,
    "start_time": "2021-07-31T10:28:12.639Z"
   },
   {
    "duration": 14,
    "start_time": "2021-07-31T10:28:13.806Z"
   },
   {
    "duration": 4,
    "start_time": "2021-07-31T10:28:20.142Z"
   },
   {
    "duration": 13,
    "start_time": "2021-07-31T10:28:21.175Z"
   },
   {
    "duration": 5,
    "start_time": "2021-07-31T10:28:25.079Z"
   },
   {
    "duration": 280,
    "start_time": "2021-07-31T10:28:25.262Z"
   },
   {
    "duration": 18,
    "start_time": "2021-07-31T10:28:32.431Z"
   },
   {
    "duration": 7,
    "start_time": "2021-07-31T10:28:33.601Z"
   },
   {
    "duration": 101,
    "start_time": "2021-07-31T10:28:36.991Z"
   },
   {
    "duration": 5,
    "start_time": "2021-07-31T10:28:38.406Z"
   },
   {
    "duration": 5,
    "start_time": "2021-07-31T10:29:09.007Z"
   },
   {
    "duration": 5,
    "start_time": "2021-07-31T10:29:14.648Z"
   },
   {
    "duration": 34,
    "start_time": "2021-07-31T10:29:18.958Z"
   },
   {
    "duration": 5,
    "start_time": "2021-07-31T10:29:30.062Z"
   },
   {
    "duration": 82,
    "start_time": "2021-07-31T10:29:31.311Z"
   },
   {
    "duration": 5,
    "start_time": "2021-07-31T10:29:32.806Z"
   },
   {
    "duration": 84,
    "start_time": "2021-07-31T10:30:16.017Z"
   },
   {
    "duration": 5,
    "start_time": "2021-07-31T10:30:28.278Z"
   },
   {
    "duration": 4,
    "start_time": "2021-07-31T10:30:47.679Z"
   },
   {
    "duration": 291,
    "start_time": "2021-07-31T10:31:47.108Z"
   },
   {
    "duration": 299,
    "start_time": "2021-07-31T10:32:08.414Z"
   },
   {
    "duration": 245,
    "start_time": "2021-07-31T10:32:21.695Z"
   },
   {
    "duration": 10,
    "start_time": "2021-07-31T10:36:35.336Z"
   },
   {
    "duration": 5,
    "start_time": "2021-07-31T10:37:11.282Z"
   },
   {
    "duration": 13,
    "start_time": "2021-07-31T10:37:41.518Z"
   },
   {
    "duration": 16,
    "start_time": "2021-07-31T10:37:41.692Z"
   },
   {
    "duration": 16,
    "start_time": "2021-07-31T10:37:41.813Z"
   },
   {
    "duration": 3,
    "start_time": "2021-07-31T10:37:51.580Z"
   },
   {
    "duration": 5,
    "start_time": "2021-07-31T10:38:49.326Z"
   },
   {
    "duration": 3,
    "start_time": "2021-07-31T10:38:49.766Z"
   },
   {
    "duration": 6,
    "start_time": "2021-07-31T10:38:50.067Z"
   },
   {
    "duration": 2,
    "start_time": "2021-07-31T10:38:50.309Z"
   },
   {
    "duration": 4,
    "start_time": "2021-07-31T10:38:50.613Z"
   },
   {
    "duration": 3,
    "start_time": "2021-07-31T10:38:50.933Z"
   },
   {
    "duration": 4,
    "start_time": "2021-07-31T10:40:18.055Z"
   },
   {
    "duration": 3,
    "start_time": "2021-07-31T10:40:18.212Z"
   },
   {
    "duration": 5,
    "start_time": "2021-07-31T10:40:18.371Z"
   },
   {
    "duration": 8,
    "start_time": "2021-07-31T10:40:18.508Z"
   },
   {
    "duration": 6,
    "start_time": "2021-07-31T10:40:18.627Z"
   },
   {
    "duration": 3,
    "start_time": "2021-07-31T10:40:18.796Z"
   },
   {
    "duration": 4,
    "start_time": "2021-07-31T10:40:18.931Z"
   },
   {
    "duration": 3,
    "start_time": "2021-07-31T10:40:19.635Z"
   },
   {
    "duration": 4,
    "start_time": "2021-07-31T10:40:19.828Z"
   },
   {
    "duration": 3,
    "start_time": "2021-07-31T10:40:19.970Z"
   },
   {
    "duration": 5,
    "start_time": "2021-07-31T10:40:20.492Z"
   },
   {
    "duration": 3,
    "start_time": "2021-07-31T10:40:20.827Z"
   },
   {
    "duration": 5,
    "start_time": "2021-07-31T10:40:23.003Z"
   },
   {
    "duration": 84,
    "start_time": "2021-07-31T10:40:25.708Z"
   },
   {
    "duration": 238,
    "start_time": "2021-07-31T10:40:28.301Z"
   },
   {
    "duration": 5,
    "start_time": "2021-07-31T10:40:38.668Z"
   },
   {
    "duration": 18,
    "start_time": "2021-07-31T10:40:42.580Z"
   },
   {
    "duration": 4,
    "start_time": "2021-07-31T10:40:43.805Z"
   },
   {
    "duration": 14,
    "start_time": "2021-07-31T10:40:46.717Z"
   },
   {
    "duration": 6,
    "start_time": "2021-07-31T10:40:47.643Z"
   },
   {
    "duration": 275,
    "start_time": "2021-07-31T10:42:19.489Z"
   },
   {
    "duration": 5,
    "start_time": "2021-07-31T10:42:24.569Z"
   },
   {
    "duration": 5,
    "start_time": "2021-07-31T10:42:39.067Z"
   },
   {
    "duration": 708,
    "start_time": "2021-07-31T10:42:39.884Z"
   },
   {
    "duration": 266,
    "start_time": "2021-07-31T10:42:51.540Z"
   },
   {
    "duration": 262,
    "start_time": "2021-07-31T10:43:01.261Z"
   },
   {
    "duration": 3,
    "start_time": "2021-07-31T10:43:46.781Z"
   },
   {
    "duration": 7,
    "start_time": "2021-07-31T10:43:46.786Z"
   },
   {
    "duration": 112,
    "start_time": "2021-07-31T10:43:46.795Z"
   },
   {
    "duration": 8,
    "start_time": "2021-07-31T10:43:46.909Z"
   },
   {
    "duration": 120,
    "start_time": "2021-07-31T10:43:46.919Z"
   },
   {
    "duration": 8,
    "start_time": "2021-07-31T10:43:47.041Z"
   },
   {
    "duration": 112,
    "start_time": "2021-07-31T10:43:47.050Z"
   },
   {
    "duration": 8,
    "start_time": "2021-07-31T10:43:47.163Z"
   },
   {
    "duration": 10,
    "start_time": "2021-07-31T10:43:47.173Z"
   },
   {
    "duration": 13,
    "start_time": "2021-07-31T10:43:47.185Z"
   },
   {
    "duration": 10,
    "start_time": "2021-07-31T10:43:47.200Z"
   },
   {
    "duration": 5,
    "start_time": "2021-07-31T10:43:47.212Z"
   },
   {
    "duration": 11,
    "start_time": "2021-07-31T10:43:47.219Z"
   },
   {
    "duration": 6,
    "start_time": "2021-07-31T10:43:47.232Z"
   },
   {
    "duration": 16,
    "start_time": "2021-07-31T10:43:47.239Z"
   },
   {
    "duration": 10,
    "start_time": "2021-07-31T10:43:47.256Z"
   },
   {
    "duration": 8,
    "start_time": "2021-07-31T10:43:47.291Z"
   },
   {
    "duration": 11,
    "start_time": "2021-07-31T10:43:47.301Z"
   },
   {
    "duration": 11,
    "start_time": "2021-07-31T10:43:47.313Z"
   },
   {
    "duration": 12,
    "start_time": "2021-07-31T10:43:47.326Z"
   },
   {
    "duration": 5,
    "start_time": "2021-07-31T10:43:47.339Z"
   },
   {
    "duration": 8,
    "start_time": "2021-07-31T10:43:47.346Z"
   },
   {
    "duration": 36,
    "start_time": "2021-07-31T10:43:47.355Z"
   },
   {
    "duration": 5,
    "start_time": "2021-07-31T10:43:47.393Z"
   },
   {
    "duration": 12,
    "start_time": "2021-07-31T10:43:47.399Z"
   },
   {
    "duration": 9,
    "start_time": "2021-07-31T10:43:47.413Z"
   },
   {
    "duration": 6,
    "start_time": "2021-07-31T10:43:47.426Z"
   },
   {
    "duration": 12,
    "start_time": "2021-07-31T10:43:47.434Z"
   },
   {
    "duration": 8,
    "start_time": "2021-07-31T10:43:47.447Z"
   },
   {
    "duration": 9,
    "start_time": "2021-07-31T10:43:47.456Z"
   },
   {
    "duration": 10,
    "start_time": "2021-07-31T10:43:47.466Z"
   },
   {
    "duration": 9,
    "start_time": "2021-07-31T10:43:47.478Z"
   },
   {
    "duration": 9,
    "start_time": "2021-07-31T10:43:47.488Z"
   },
   {
    "duration": 24,
    "start_time": "2021-07-31T10:43:47.499Z"
   },
   {
    "duration": 96,
    "start_time": "2021-07-31T10:43:47.595Z"
   },
   {
    "duration": 14,
    "start_time": "2021-07-31T10:43:47.693Z"
   },
   {
    "duration": 84,
    "start_time": "2021-07-31T10:43:47.709Z"
   },
   {
    "duration": 109,
    "start_time": "2021-07-31T10:43:47.796Z"
   },
   {
    "duration": 94,
    "start_time": "2021-07-31T10:43:47.907Z"
   },
   {
    "duration": 17,
    "start_time": "2021-07-31T10:44:54.892Z"
   },
   {
    "duration": 12,
    "start_time": "2021-07-31T10:45:05.764Z"
   },
   {
    "duration": 1380,
    "start_time": "2021-07-31T13:56:54.397Z"
   },
   {
    "duration": 3,
    "start_time": "2021-07-31T13:56:55.779Z"
   },
   {
    "duration": 168,
    "start_time": "2021-07-31T13:56:55.788Z"
   },
   {
    "duration": 23,
    "start_time": "2021-07-31T13:56:55.958Z"
   },
   {
    "duration": 163,
    "start_time": "2021-07-31T13:56:55.984Z"
   },
   {
    "duration": 14,
    "start_time": "2021-07-31T13:56:56.149Z"
   },
   {
    "duration": 181,
    "start_time": "2021-07-31T13:56:56.168Z"
   },
   {
    "duration": 20,
    "start_time": "2021-07-31T13:56:56.352Z"
   },
   {
    "duration": 17,
    "start_time": "2021-07-31T13:56:56.375Z"
   },
   {
    "duration": 14,
    "start_time": "2021-07-31T13:56:56.394Z"
   },
   {
    "duration": 15,
    "start_time": "2021-07-31T13:56:56.410Z"
   },
   {
    "duration": 7,
    "start_time": "2021-07-31T13:56:56.463Z"
   },
   {
    "duration": 27,
    "start_time": "2021-07-31T13:56:56.472Z"
   },
   {
    "duration": 21,
    "start_time": "2021-07-31T13:56:56.502Z"
   },
   {
    "duration": 17,
    "start_time": "2021-07-31T13:56:56.525Z"
   },
   {
    "duration": 18,
    "start_time": "2021-07-31T13:56:56.545Z"
   },
   {
    "duration": 32,
    "start_time": "2021-07-31T13:56:56.565Z"
   },
   {
    "duration": 26,
    "start_time": "2021-07-31T13:56:56.600Z"
   },
   {
    "duration": 20,
    "start_time": "2021-07-31T13:56:56.629Z"
   },
   {
    "duration": 25,
    "start_time": "2021-07-31T13:56:56.652Z"
   },
   {
    "duration": 7,
    "start_time": "2021-07-31T13:56:56.681Z"
   },
   {
    "duration": 4,
    "start_time": "2021-07-31T13:56:56.698Z"
   },
   {
    "duration": 9,
    "start_time": "2021-07-31T13:56:56.707Z"
   },
   {
    "duration": 43,
    "start_time": "2021-07-31T13:56:56.719Z"
   },
   {
    "duration": 9,
    "start_time": "2021-07-31T13:56:56.765Z"
   },
   {
    "duration": 6,
    "start_time": "2021-07-31T13:56:56.777Z"
   },
   {
    "duration": 10,
    "start_time": "2021-07-31T13:56:56.785Z"
   },
   {
    "duration": 13,
    "start_time": "2021-07-31T13:56:56.798Z"
   },
   {
    "duration": 11,
    "start_time": "2021-07-31T13:56:56.813Z"
   },
   {
    "duration": 8,
    "start_time": "2021-07-31T13:56:56.827Z"
   },
   {
    "duration": 26,
    "start_time": "2021-07-31T13:56:56.837Z"
   },
   {
    "duration": 10,
    "start_time": "2021-07-31T13:56:56.866Z"
   },
   {
    "duration": 10,
    "start_time": "2021-07-31T13:56:56.878Z"
   },
   {
    "duration": 75,
    "start_time": "2021-07-31T13:56:56.890Z"
   },
   {
    "duration": 106,
    "start_time": "2021-07-31T13:56:56.969Z"
   },
   {
    "duration": 84,
    "start_time": "2021-07-31T13:56:57.078Z"
   },
   {
    "duration": 99,
    "start_time": "2021-07-31T13:56:57.165Z"
   },
   {
    "duration": 96,
    "start_time": "2021-07-31T13:56:57.266Z"
   },
   {
    "duration": 103,
    "start_time": "2021-07-31T13:56:57.365Z"
   },
   {
    "duration": 22,
    "start_time": "2021-07-31T13:56:57.471Z"
   },
   {
    "duration": 430,
    "start_time": "2021-07-31T13:56:57.495Z"
   },
   {
    "duration": -1216,
    "start_time": "2021-07-31T13:56:59.143Z"
   },
   {
    "duration": -1218,
    "start_time": "2021-07-31T13:56:59.147Z"
   },
   {
    "duration": -1218,
    "start_time": "2021-07-31T13:56:59.149Z"
   },
   {
    "duration": -1220,
    "start_time": "2021-07-31T13:56:59.152Z"
   },
   {
    "duration": -1223,
    "start_time": "2021-07-31T13:56:59.157Z"
   },
   {
    "duration": -1224,
    "start_time": "2021-07-31T13:56:59.160Z"
   },
   {
    "duration": -1226,
    "start_time": "2021-07-31T13:56:59.163Z"
   },
   {
    "duration": -1226,
    "start_time": "2021-07-31T13:56:59.165Z"
   },
   {
    "duration": -1228,
    "start_time": "2021-07-31T13:56:59.168Z"
   },
   {
    "duration": -1231,
    "start_time": "2021-07-31T13:56:59.173Z"
   },
   {
    "duration": -1233,
    "start_time": "2021-07-31T13:56:59.176Z"
   },
   {
    "duration": -1234,
    "start_time": "2021-07-31T13:56:59.179Z"
   },
   {
    "duration": -1236,
    "start_time": "2021-07-31T13:56:59.182Z"
   },
   {
    "duration": -1239,
    "start_time": "2021-07-31T13:56:59.186Z"
   },
   {
    "duration": -1242,
    "start_time": "2021-07-31T13:56:59.190Z"
   },
   {
    "duration": -1242,
    "start_time": "2021-07-31T13:56:59.192Z"
   },
   {
    "duration": -1244,
    "start_time": "2021-07-31T13:56:59.195Z"
   },
   {
    "duration": 24,
    "start_time": "2021-07-31T13:59:10.703Z"
   },
   {
    "duration": 7,
    "start_time": "2021-07-31T13:59:16.443Z"
   },
   {
    "duration": 7,
    "start_time": "2021-07-31T14:02:19.020Z"
   },
   {
    "duration": 54,
    "start_time": "2021-07-31T14:03:32.109Z"
   },
   {
    "duration": 8,
    "start_time": "2021-07-31T14:03:32.876Z"
   },
   {
    "duration": 18,
    "start_time": "2021-07-31T14:03:47.052Z"
   },
   {
    "duration": 556,
    "start_time": "2021-07-31T14:03:57.108Z"
   },
   {
    "duration": 5,
    "start_time": "2021-07-31T14:04:05.223Z"
   },
   {
    "duration": 14,
    "start_time": "2021-07-31T14:04:05.230Z"
   },
   {
    "duration": 174,
    "start_time": "2021-07-31T14:04:05.247Z"
   },
   {
    "duration": 12,
    "start_time": "2021-07-31T14:04:05.423Z"
   },
   {
    "duration": 176,
    "start_time": "2021-07-31T14:04:05.438Z"
   },
   {
    "duration": 12,
    "start_time": "2021-07-31T14:04:05.616Z"
   },
   {
    "duration": 175,
    "start_time": "2021-07-31T14:04:05.630Z"
   },
   {
    "duration": 13,
    "start_time": "2021-07-31T14:04:05.808Z"
   },
   {
    "duration": 24,
    "start_time": "2021-07-31T14:04:05.825Z"
   },
   {
    "duration": 22,
    "start_time": "2021-07-31T14:04:05.852Z"
   },
   {
    "duration": 27,
    "start_time": "2021-07-31T14:04:05.876Z"
   },
   {
    "duration": 7,
    "start_time": "2021-07-31T14:04:05.906Z"
   },
   {
    "duration": 18,
    "start_time": "2021-07-31T14:04:05.915Z"
   },
   {
    "duration": 28,
    "start_time": "2021-07-31T14:04:05.936Z"
   },
   {
    "duration": 19,
    "start_time": "2021-07-31T14:04:05.966Z"
   },
   {
    "duration": 15,
    "start_time": "2021-07-31T14:04:05.987Z"
   },
   {
    "duration": 23,
    "start_time": "2021-07-31T14:04:06.005Z"
   },
   {
    "duration": 19,
    "start_time": "2021-07-31T14:04:06.030Z"
   },
   {
    "duration": 25,
    "start_time": "2021-07-31T14:04:06.061Z"
   },
   {
    "duration": 25,
    "start_time": "2021-07-31T14:04:06.089Z"
   },
   {
    "duration": 25,
    "start_time": "2021-07-31T14:04:06.116Z"
   },
   {
    "duration": 21,
    "start_time": "2021-07-31T14:04:06.143Z"
   },
   {
    "duration": 11,
    "start_time": "2021-07-31T14:04:06.167Z"
   },
   {
    "duration": 15,
    "start_time": "2021-07-31T14:04:06.180Z"
   },
   {
    "duration": 15,
    "start_time": "2021-07-31T14:04:06.198Z"
   },
   {
    "duration": 15,
    "start_time": "2021-07-31T14:04:06.215Z"
   },
   {
    "duration": 21,
    "start_time": "2021-07-31T14:04:06.234Z"
   },
   {
    "duration": 17,
    "start_time": "2021-07-31T14:04:06.257Z"
   },
   {
    "duration": 13,
    "start_time": "2021-07-31T14:04:06.277Z"
   },
   {
    "duration": 16,
    "start_time": "2021-07-31T14:04:06.293Z"
   },
   {
    "duration": 15,
    "start_time": "2021-07-31T14:04:06.311Z"
   },
   {
    "duration": 8,
    "start_time": "2021-07-31T14:04:06.328Z"
   },
   {
    "duration": 11,
    "start_time": "2021-07-31T14:04:06.339Z"
   },
   {
    "duration": 22,
    "start_time": "2021-07-31T14:04:08.524Z"
   },
   {
    "duration": 8,
    "start_time": "2021-07-31T14:04:50.683Z"
   },
   {
    "duration": 379,
    "start_time": "2021-07-31T14:05:15.432Z"
   },
   {
    "duration": 6,
    "start_time": "2021-07-31T14:05:56.659Z"
   },
   {
    "duration": 10,
    "start_time": "2021-07-31T14:06:03.835Z"
   },
   {
    "duration": 6,
    "start_time": "2021-07-31T14:06:12.693Z"
   },
   {
    "duration": 13,
    "start_time": "2021-07-31T14:06:12.971Z"
   },
   {
    "duration": 7,
    "start_time": "2021-07-31T14:06:36.620Z"
   },
   {
    "duration": 4,
    "start_time": "2021-07-31T14:06:36.908Z"
   },
   {
    "duration": 9,
    "start_time": "2021-07-31T14:06:37.107Z"
   },
   {
    "duration": 4,
    "start_time": "2021-07-31T14:06:37.347Z"
   },
   {
    "duration": 6,
    "start_time": "2021-07-31T14:06:37.571Z"
   },
   {
    "duration": 5,
    "start_time": "2021-07-31T14:06:37.747Z"
   },
   {
    "duration": 7,
    "start_time": "2021-07-31T14:06:37.956Z"
   },
   {
    "duration": 4,
    "start_time": "2021-07-31T14:06:38.130Z"
   },
   {
    "duration": 6,
    "start_time": "2021-07-31T14:06:38.579Z"
   },
   {
    "duration": 4,
    "start_time": "2021-07-31T14:06:38.956Z"
   },
   {
    "duration": 7,
    "start_time": "2021-07-31T14:06:39.723Z"
   },
   {
    "duration": 4,
    "start_time": "2021-07-31T14:06:39.946Z"
   },
   {
    "duration": 313,
    "start_time": "2021-07-31T14:06:51.107Z"
   },
   {
    "duration": 4,
    "start_time": "2021-07-31T14:07:15.971Z"
   },
   {
    "duration": 6,
    "start_time": "2021-07-31T14:07:20.356Z"
   },
   {
    "duration": 7,
    "start_time": "2021-07-31T14:08:02.114Z"
   },
   {
    "duration": 6,
    "start_time": "2021-07-31T14:08:08.400Z"
   },
   {
    "duration": 7,
    "start_time": "2021-07-31T14:08:25.411Z"
   },
   {
    "duration": 8,
    "start_time": "2021-07-31T14:10:10.483Z"
   },
   {
    "duration": 216,
    "start_time": "2021-07-31T14:11:22.649Z"
   },
   {
    "duration": 249,
    "start_time": "2021-07-31T14:11:35.074Z"
   },
   {
    "duration": 237,
    "start_time": "2021-07-31T14:11:40.651Z"
   },
   {
    "duration": 62,
    "start_time": "2021-07-31T14:12:37.100Z"
   },
   {
    "duration": 203,
    "start_time": "2021-07-31T14:12:37.345Z"
   },
   {
    "duration": 21,
    "start_time": "2021-07-31T14:12:44.578Z"
   },
   {
    "duration": 8,
    "start_time": "2021-07-31T14:12:45.362Z"
   },
   {
    "duration": 87,
    "start_time": "2021-07-31T14:12:46.474Z"
   },
   {
    "duration": 6,
    "start_time": "2021-07-31T14:12:46.873Z"
   },
   {
    "duration": 8,
    "start_time": "2021-07-31T14:13:36.887Z"
   },
   {
    "duration": 5,
    "start_time": "2021-07-31T14:13:56.395Z"
   },
   {
    "duration": 92,
    "start_time": "2021-07-31T14:14:03.016Z"
   },
   {
    "duration": 419,
    "start_time": "2021-07-31T14:14:06.249Z"
   },
   {
    "duration": 82,
    "start_time": "2021-07-31T14:14:16.505Z"
   },
   {
    "duration": 8,
    "start_time": "2021-07-31T14:14:19.977Z"
   },
   {
    "duration": 16,
    "start_time": "2021-07-31T14:14:26.617Z"
   },
   {
    "duration": 242,
    "start_time": "2021-07-31T14:14:52.464Z"
   },
   {
    "duration": 270,
    "start_time": "2021-07-31T14:15:07.977Z"
   },
   {
    "duration": 219,
    "start_time": "2021-07-31T14:15:29.801Z"
   },
   {
    "duration": 6981,
    "start_time": "2021-07-31T14:15:54.338Z"
   },
   {
    "duration": 5,
    "start_time": "2021-07-31T14:16:11.514Z"
   },
   {
    "duration": 20,
    "start_time": "2021-07-31T14:16:18.705Z"
   },
   {
    "duration": 7,
    "start_time": "2021-07-31T14:16:33.305Z"
   },
   {
    "duration": 1785,
    "start_time": "2021-07-31T14:16:49.834Z"
   },
   {
    "duration": 4,
    "start_time": "2021-07-31T14:16:51.623Z"
   },
   {
    "duration": 240,
    "start_time": "2021-07-31T14:16:51.631Z"
   },
   {
    "duration": 34,
    "start_time": "2021-07-31T14:16:51.874Z"
   },
   {
    "duration": 236,
    "start_time": "2021-07-31T14:16:51.911Z"
   },
   {
    "duration": 21,
    "start_time": "2021-07-31T14:16:52.150Z"
   },
   {
    "duration": 232,
    "start_time": "2021-07-31T14:16:52.174Z"
   },
   {
    "duration": 12,
    "start_time": "2021-07-31T14:16:52.409Z"
   },
   {
    "duration": 23,
    "start_time": "2021-07-31T14:16:52.425Z"
   },
   {
    "duration": 15,
    "start_time": "2021-07-31T14:16:52.463Z"
   },
   {
    "duration": 15,
    "start_time": "2021-07-31T14:16:52.480Z"
   },
   {
    "duration": 8,
    "start_time": "2021-07-31T14:16:52.497Z"
   },
   {
    "duration": 15,
    "start_time": "2021-07-31T14:16:52.508Z"
   },
   {
    "duration": 8,
    "start_time": "2021-07-31T14:16:52.562Z"
   },
   {
    "duration": 16,
    "start_time": "2021-07-31T14:16:52.572Z"
   },
   {
    "duration": 9,
    "start_time": "2021-07-31T14:16:52.591Z"
   },
   {
    "duration": 16,
    "start_time": "2021-07-31T14:16:52.602Z"
   },
   {
    "duration": 46,
    "start_time": "2021-07-31T14:16:52.621Z"
   },
   {
    "duration": 15,
    "start_time": "2021-07-31T14:16:52.670Z"
   },
   {
    "duration": 18,
    "start_time": "2021-07-31T14:16:52.688Z"
   },
   {
    "duration": 6,
    "start_time": "2021-07-31T14:16:52.708Z"
   },
   {
    "duration": 8,
    "start_time": "2021-07-31T14:16:52.717Z"
   },
   {
    "duration": 40,
    "start_time": "2021-07-31T14:16:52.728Z"
   },
   {
    "duration": 8,
    "start_time": "2021-07-31T14:16:52.771Z"
   },
   {
    "duration": 11,
    "start_time": "2021-07-31T14:16:52.781Z"
   },
   {
    "duration": 6,
    "start_time": "2021-07-31T14:16:52.795Z"
   },
   {
    "duration": 8,
    "start_time": "2021-07-31T14:16:52.807Z"
   },
   {
    "duration": 9,
    "start_time": "2021-07-31T14:16:52.818Z"
   },
   {
    "duration": 33,
    "start_time": "2021-07-31T14:16:52.830Z"
   },
   {
    "duration": 21,
    "start_time": "2021-07-31T14:16:52.866Z"
   },
   {
    "duration": 11,
    "start_time": "2021-07-31T14:16:52.889Z"
   },
   {
    "duration": 7,
    "start_time": "2021-07-31T14:16:52.902Z"
   },
   {
    "duration": 7,
    "start_time": "2021-07-31T14:16:52.911Z"
   },
   {
    "duration": 141,
    "start_time": "2021-07-31T14:16:52.920Z"
   },
   {
    "duration": 7,
    "start_time": "2021-07-31T14:16:53.063Z"
   },
   {
    "duration": 4,
    "start_time": "2021-07-31T14:16:53.078Z"
   },
   {
    "duration": 94,
    "start_time": "2021-07-31T14:16:53.084Z"
   },
   {
    "duration": 84,
    "start_time": "2021-07-31T14:16:53.180Z"
   },
   {
    "duration": 96,
    "start_time": "2021-07-31T14:16:53.267Z"
   },
   {
    "duration": 21,
    "start_time": "2021-07-31T14:16:53.366Z"
   },
   {
    "duration": 99,
    "start_time": "2021-07-31T14:16:53.464Z"
   },
   {
    "duration": 6,
    "start_time": "2021-07-31T14:16:53.565Z"
   },
   {
    "duration": 404,
    "start_time": "2021-07-31T14:16:53.573Z"
   },
   {
    "duration": -1220,
    "start_time": "2021-07-31T14:16:55.199Z"
   },
   {
    "duration": -1221,
    "start_time": "2021-07-31T14:16:55.202Z"
   },
   {
    "duration": -1222,
    "start_time": "2021-07-31T14:16:55.205Z"
   },
   {
    "duration": -1224,
    "start_time": "2021-07-31T14:16:55.208Z"
   },
   {
    "duration": -1227,
    "start_time": "2021-07-31T14:16:55.212Z"
   },
   {
    "duration": -1230,
    "start_time": "2021-07-31T14:16:55.216Z"
   },
   {
    "duration": -1231,
    "start_time": "2021-07-31T14:16:55.218Z"
   },
   {
    "duration": -1232,
    "start_time": "2021-07-31T14:16:55.221Z"
   },
   {
    "duration": -1234,
    "start_time": "2021-07-31T14:16:55.224Z"
   },
   {
    "duration": -1236,
    "start_time": "2021-07-31T14:16:55.227Z"
   },
   {
    "duration": -1238,
    "start_time": "2021-07-31T14:16:55.230Z"
   },
   {
    "duration": -1240,
    "start_time": "2021-07-31T14:16:55.234Z"
   },
   {
    "duration": -1243,
    "start_time": "2021-07-31T14:16:55.238Z"
   },
   {
    "duration": -1246,
    "start_time": "2021-07-31T14:16:55.242Z"
   },
   {
    "duration": -1248,
    "start_time": "2021-07-31T14:16:55.245Z"
   },
   {
    "duration": -1249,
    "start_time": "2021-07-31T14:16:55.247Z"
   },
   {
    "duration": -1251,
    "start_time": "2021-07-31T14:16:55.250Z"
   },
   {
    "duration": 7,
    "start_time": "2021-07-31T14:17:12.065Z"
   },
   {
    "duration": 278,
    "start_time": "2021-07-31T14:17:59.594Z"
   },
   {
    "duration": 451,
    "start_time": "2021-07-31T14:18:06.510Z"
   },
   {
    "duration": 1386,
    "start_time": "2021-07-31T14:18:17.460Z"
   },
   {
    "duration": 3,
    "start_time": "2021-07-31T14:18:18.848Z"
   },
   {
    "duration": 180,
    "start_time": "2021-07-31T14:18:18.854Z"
   },
   {
    "duration": 29,
    "start_time": "2021-07-31T14:18:19.037Z"
   },
   {
    "duration": 169,
    "start_time": "2021-07-31T14:18:19.069Z"
   },
   {
    "duration": 12,
    "start_time": "2021-07-31T14:18:19.240Z"
   },
   {
    "duration": 169,
    "start_time": "2021-07-31T14:18:19.262Z"
   },
   {
    "duration": 13,
    "start_time": "2021-07-31T14:18:19.435Z"
   },
   {
    "duration": 15,
    "start_time": "2021-07-31T14:18:19.462Z"
   },
   {
    "duration": 14,
    "start_time": "2021-07-31T14:18:19.479Z"
   },
   {
    "duration": 14,
    "start_time": "2021-07-31T14:18:19.496Z"
   },
   {
    "duration": 8,
    "start_time": "2021-07-31T14:18:19.512Z"
   },
   {
    "duration": 11,
    "start_time": "2021-07-31T14:18:19.562Z"
   },
   {
    "duration": 11,
    "start_time": "2021-07-31T14:18:19.576Z"
   },
   {
    "duration": 16,
    "start_time": "2021-07-31T14:18:19.590Z"
   },
   {
    "duration": 9,
    "start_time": "2021-07-31T14:18:19.609Z"
   },
   {
    "duration": 42,
    "start_time": "2021-07-31T14:18:19.621Z"
   },
   {
    "duration": 27,
    "start_time": "2021-07-31T14:18:19.666Z"
   },
   {
    "duration": 16,
    "start_time": "2021-07-31T14:18:19.695Z"
   },
   {
    "duration": 19,
    "start_time": "2021-07-31T14:18:19.714Z"
   },
   {
    "duration": 28,
    "start_time": "2021-07-31T14:18:19.737Z"
   },
   {
    "duration": 5,
    "start_time": "2021-07-31T14:18:19.768Z"
   },
   {
    "duration": 8,
    "start_time": "2021-07-31T14:18:19.782Z"
   },
   {
    "duration": 4,
    "start_time": "2021-07-31T14:18:19.795Z"
   },
   {
    "duration": 10,
    "start_time": "2021-07-31T14:18:19.801Z"
   },
   {
    "duration": 8,
    "start_time": "2021-07-31T14:18:19.814Z"
   },
   {
    "duration": 5,
    "start_time": "2021-07-31T14:18:19.863Z"
   },
   {
    "duration": 7,
    "start_time": "2021-07-31T14:18:19.871Z"
   },
   {
    "duration": 8,
    "start_time": "2021-07-31T14:18:19.881Z"
   },
   {
    "duration": 22,
    "start_time": "2021-07-31T14:18:19.892Z"
   },
   {
    "duration": 11,
    "start_time": "2021-07-31T14:18:19.917Z"
   },
   {
    "duration": 17,
    "start_time": "2021-07-31T14:18:19.930Z"
   },
   {
    "duration": 14,
    "start_time": "2021-07-31T14:18:19.950Z"
   },
   {
    "duration": 94,
    "start_time": "2021-07-31T14:18:19.968Z"
   },
   {
    "duration": 98,
    "start_time": "2021-07-31T14:18:20.064Z"
   },
   {
    "duration": 98,
    "start_time": "2021-07-31T14:18:20.166Z"
   },
   {
    "duration": 6,
    "start_time": "2021-07-31T14:18:20.267Z"
   },
   {
    "duration": 27,
    "start_time": "2021-07-31T14:18:20.276Z"
   },
   {
    "duration": 162,
    "start_time": "2021-07-31T14:18:20.305Z"
   },
   {
    "duration": 94,
    "start_time": "2021-07-31T14:18:20.470Z"
   },
   {
    "duration": 96,
    "start_time": "2021-07-31T14:18:20.566Z"
   },
   {
    "duration": 9,
    "start_time": "2021-07-31T14:18:20.665Z"
   },
   {
    "duration": 19,
    "start_time": "2021-07-31T14:18:20.763Z"
   },
   {
    "duration": 488,
    "start_time": "2021-07-31T14:18:20.785Z"
   },
   {
    "duration": -1211,
    "start_time": "2021-07-31T14:18:22.486Z"
   },
   {
    "duration": -1212,
    "start_time": "2021-07-31T14:18:22.489Z"
   },
   {
    "duration": -1213,
    "start_time": "2021-07-31T14:18:22.491Z"
   },
   {
    "duration": -1228,
    "start_time": "2021-07-31T14:18:22.507Z"
   },
   {
    "duration": -1234,
    "start_time": "2021-07-31T14:18:22.514Z"
   },
   {
    "duration": -1234,
    "start_time": "2021-07-31T14:18:22.516Z"
   },
   {
    "duration": -1238,
    "start_time": "2021-07-31T14:18:22.521Z"
   },
   {
    "duration": -1241,
    "start_time": "2021-07-31T14:18:22.525Z"
   },
   {
    "duration": -1253,
    "start_time": "2021-07-31T14:18:22.538Z"
   },
   {
    "duration": -1255,
    "start_time": "2021-07-31T14:18:22.542Z"
   },
   {
    "duration": -1257,
    "start_time": "2021-07-31T14:18:22.545Z"
   },
   {
    "duration": -1259,
    "start_time": "2021-07-31T14:18:22.548Z"
   },
   {
    "duration": -1261,
    "start_time": "2021-07-31T14:18:22.551Z"
   },
   {
    "duration": -1262,
    "start_time": "2021-07-31T14:18:22.554Z"
   },
   {
    "duration": -1265,
    "start_time": "2021-07-31T14:18:22.558Z"
   },
   {
    "duration": -1268,
    "start_time": "2021-07-31T14:18:22.562Z"
   },
   {
    "duration": -1270,
    "start_time": "2021-07-31T14:18:22.565Z"
   },
   {
    "duration": 13,
    "start_time": "2021-07-31T14:18:42.375Z"
   },
   {
    "duration": 19,
    "start_time": "2021-07-31T14:19:29.823Z"
   },
   {
    "duration": 11,
    "start_time": "2021-07-31T14:19:30.981Z"
   },
   {
    "duration": 7,
    "start_time": "2021-07-31T14:19:32.014Z"
   },
   {
    "duration": 15,
    "start_time": "2021-07-31T14:19:34.490Z"
   },
   {
    "duration": 6002,
    "start_time": "2021-07-31T14:19:55.582Z"
   },
   {
    "duration": 6146,
    "start_time": "2021-07-31T14:20:09.830Z"
   },
   {
    "duration": 6231,
    "start_time": "2021-07-31T14:20:17.181Z"
   },
   {
    "duration": -1203,
    "start_time": "2021-07-31T14:20:39.680Z"
   },
   {
    "duration": 7,
    "start_time": "2021-07-31T14:20:39.604Z"
   },
   {
    "duration": 28,
    "start_time": "2021-07-31T14:21:27.742Z"
   },
   {
    "duration": 8,
    "start_time": "2021-07-31T14:21:30.397Z"
   },
   {
    "duration": 5,
    "start_time": "2021-07-31T14:21:30.837Z"
   },
   {
    "duration": 14,
    "start_time": "2021-07-31T14:21:31.325Z"
   },
   {
    "duration": 3,
    "start_time": "2021-07-31T14:23:27.334Z"
   },
   {
    "duration": 14,
    "start_time": "2021-07-31T14:24:32.833Z"
   },
   {
    "duration": 11,
    "start_time": "2021-07-31T14:24:36.941Z"
   },
   {
    "duration": 12,
    "start_time": "2021-07-31T14:24:40.461Z"
   },
   {
    "duration": 6,
    "start_time": "2021-07-31T14:24:47.236Z"
   },
   {
    "duration": 15,
    "start_time": "2021-07-31T14:25:03.421Z"
   },
   {
    "duration": 16,
    "start_time": "2021-07-31T14:25:03.603Z"
   },
   {
    "duration": 16,
    "start_time": "2021-07-31T14:25:03.740Z"
   },
   {
    "duration": 4,
    "start_time": "2021-07-31T14:25:19.532Z"
   },
   {
    "duration": 13,
    "start_time": "2021-07-31T14:25:23.519Z"
   },
   {
    "duration": 9,
    "start_time": "2021-07-31T14:25:26.205Z"
   },
   {
    "duration": 4,
    "start_time": "2021-07-31T14:25:35.596Z"
   },
   {
    "duration": 2413,
    "start_time": "2021-07-31T14:25:44.606Z"
   },
   {
    "duration": 7,
    "start_time": "2021-07-31T14:25:57.692Z"
   },
   {
    "duration": 4,
    "start_time": "2021-07-31T14:25:58.357Z"
   },
   {
    "duration": 491,
    "start_time": "2021-07-31T14:25:58.899Z"
   },
   {
    "duration": 7,
    "start_time": "2021-07-31T14:28:01.593Z"
   },
   {
    "duration": 723,
    "start_time": "2021-07-31T14:28:02.835Z"
   },
   {
    "duration": 1384,
    "start_time": "2021-07-31T14:28:09.537Z"
   },
   {
    "duration": 3,
    "start_time": "2021-07-31T14:28:10.924Z"
   },
   {
    "duration": 266,
    "start_time": "2021-07-31T14:28:10.932Z"
   },
   {
    "duration": 37,
    "start_time": "2021-07-31T14:28:11.202Z"
   },
   {
    "duration": 179,
    "start_time": "2021-07-31T14:28:11.242Z"
   },
   {
    "duration": 14,
    "start_time": "2021-07-31T14:28:11.424Z"
   },
   {
    "duration": 181,
    "start_time": "2021-07-31T14:28:11.441Z"
   },
   {
    "duration": 11,
    "start_time": "2021-07-31T14:28:11.624Z"
   },
   {
    "duration": 14,
    "start_time": "2021-07-31T14:28:11.663Z"
   },
   {
    "duration": 14,
    "start_time": "2021-07-31T14:28:11.681Z"
   },
   {
    "duration": 66,
    "start_time": "2021-07-31T14:28:11.698Z"
   },
   {
    "duration": 8,
    "start_time": "2021-07-31T14:28:11.766Z"
   },
   {
    "duration": 14,
    "start_time": "2021-07-31T14:28:11.776Z"
   },
   {
    "duration": 10,
    "start_time": "2021-07-31T14:28:11.792Z"
   },
   {
    "duration": 63,
    "start_time": "2021-07-31T14:28:11.804Z"
   },
   {
    "duration": 21,
    "start_time": "2021-07-31T14:28:11.870Z"
   },
   {
    "duration": 71,
    "start_time": "2021-07-31T14:28:11.894Z"
   },
   {
    "duration": 32,
    "start_time": "2021-07-31T14:28:11.968Z"
   },
   {
    "duration": 77,
    "start_time": "2021-07-31T14:28:12.003Z"
   },
   {
    "duration": 22,
    "start_time": "2021-07-31T14:28:12.083Z"
   },
   {
    "duration": 8,
    "start_time": "2021-07-31T14:28:12.163Z"
   },
   {
    "duration": 11,
    "start_time": "2021-07-31T14:28:12.175Z"
   },
   {
    "duration": 12,
    "start_time": "2021-07-31T14:28:12.189Z"
   },
   {
    "duration": 9,
    "start_time": "2021-07-31T14:28:12.204Z"
   },
   {
    "duration": 9,
    "start_time": "2021-07-31T14:28:12.263Z"
   },
   {
    "duration": 10,
    "start_time": "2021-07-31T14:28:12.275Z"
   },
   {
    "duration": 7,
    "start_time": "2021-07-31T14:28:12.295Z"
   },
   {
    "duration": 56,
    "start_time": "2021-07-31T14:28:12.306Z"
   },
   {
    "duration": 11,
    "start_time": "2021-07-31T14:28:12.365Z"
   },
   {
    "duration": 12,
    "start_time": "2021-07-31T14:28:12.379Z"
   },
   {
    "duration": 19,
    "start_time": "2021-07-31T14:28:12.394Z"
   },
   {
    "duration": 51,
    "start_time": "2021-07-31T14:28:12.416Z"
   },
   {
    "duration": 17,
    "start_time": "2021-07-31T14:28:12.470Z"
   },
   {
    "duration": 675,
    "start_time": "2021-07-31T14:28:12.490Z"
   },
   {
    "duration": -1211,
    "start_time": "2021-07-31T14:28:14.380Z"
   },
   {
    "duration": -1212,
    "start_time": "2021-07-31T14:28:14.383Z"
   },
   {
    "duration": -1213,
    "start_time": "2021-07-31T14:28:14.386Z"
   },
   {
    "duration": -1213,
    "start_time": "2021-07-31T14:28:14.388Z"
   },
   {
    "duration": -1215,
    "start_time": "2021-07-31T14:28:14.391Z"
   },
   {
    "duration": -1216,
    "start_time": "2021-07-31T14:28:14.394Z"
   },
   {
    "duration": -1217,
    "start_time": "2021-07-31T14:28:14.397Z"
   },
   {
    "duration": -1218,
    "start_time": "2021-07-31T14:28:14.400Z"
   },
   {
    "duration": -1219,
    "start_time": "2021-07-31T14:28:14.403Z"
   },
   {
    "duration": -1221,
    "start_time": "2021-07-31T14:28:14.407Z"
   },
   {
    "duration": -1223,
    "start_time": "2021-07-31T14:28:14.411Z"
   },
   {
    "duration": -1223,
    "start_time": "2021-07-31T14:28:14.413Z"
   },
   {
    "duration": -1226,
    "start_time": "2021-07-31T14:28:14.417Z"
   },
   {
    "duration": -1226,
    "start_time": "2021-07-31T14:28:14.420Z"
   },
   {
    "duration": -1227,
    "start_time": "2021-07-31T14:28:14.423Z"
   },
   {
    "duration": -1227,
    "start_time": "2021-07-31T14:28:14.425Z"
   },
   {
    "duration": -1229,
    "start_time": "2021-07-31T14:28:14.428Z"
   },
   {
    "duration": -1230,
    "start_time": "2021-07-31T14:28:14.431Z"
   },
   {
    "duration": -1230,
    "start_time": "2021-07-31T14:28:14.433Z"
   },
   {
    "duration": -1252,
    "start_time": "2021-07-31T14:28:14.457Z"
   },
   {
    "duration": -1200,
    "start_time": "2021-07-31T14:28:14.463Z"
   },
   {
    "duration": -1201,
    "start_time": "2021-07-31T14:28:14.466Z"
   },
   {
    "duration": -1203,
    "start_time": "2021-07-31T14:28:14.470Z"
   },
   {
    "duration": -1203,
    "start_time": "2021-07-31T14:28:14.472Z"
   },
   {
    "duration": -1204,
    "start_time": "2021-07-31T14:28:14.475Z"
   },
   {
    "duration": -1205,
    "start_time": "2021-07-31T14:28:14.478Z"
   },
   {
    "duration": -1207,
    "start_time": "2021-07-31T14:28:14.482Z"
   },
   {
    "duration": -1209,
    "start_time": "2021-07-31T14:28:14.485Z"
   },
   {
    "duration": -1213,
    "start_time": "2021-07-31T14:28:14.491Z"
   },
   {
    "duration": -1214,
    "start_time": "2021-07-31T14:28:14.494Z"
   },
   {
    "duration": 9,
    "start_time": "2021-07-31T14:28:30.688Z"
   },
   {
    "duration": 344,
    "start_time": "2021-07-31T14:28:31.392Z"
   },
   {
    "duration": 70,
    "start_time": "2021-07-31T14:28:45.192Z"
   },
   {
    "duration": 6,
    "start_time": "2021-07-31T14:28:46.738Z"
   },
   {
    "duration": 4,
    "start_time": "2021-07-31T14:28:47.992Z"
   },
   {
    "duration": 13,
    "start_time": "2021-07-31T14:28:49.465Z"
   },
   {
    "duration": 18,
    "start_time": "2021-07-31T14:29:07.080Z"
   },
   {
    "duration": 14,
    "start_time": "2021-07-31T14:29:13.368Z"
   },
   {
    "duration": 416,
    "start_time": "2021-07-31T14:30:19.294Z"
   },
   {
    "duration": 15,
    "start_time": "2021-07-31T14:31:21.551Z"
   },
   {
    "duration": 397,
    "start_time": "2021-07-31T14:31:44.192Z"
   },
   {
    "duration": 4,
    "start_time": "2021-07-31T14:31:53.085Z"
   },
   {
    "duration": 19,
    "start_time": "2021-07-31T14:31:53.092Z"
   },
   {
    "duration": 179,
    "start_time": "2021-07-31T14:31:53.115Z"
   },
   {
    "duration": 13,
    "start_time": "2021-07-31T14:31:53.296Z"
   },
   {
    "duration": 165,
    "start_time": "2021-07-31T14:31:53.311Z"
   },
   {
    "duration": 13,
    "start_time": "2021-07-31T14:31:53.478Z"
   },
   {
    "duration": 166,
    "start_time": "2021-07-31T14:31:53.493Z"
   },
   {
    "duration": 12,
    "start_time": "2021-07-31T14:31:53.661Z"
   },
   {
    "duration": 21,
    "start_time": "2021-07-31T14:31:53.677Z"
   },
   {
    "duration": 14,
    "start_time": "2021-07-31T14:31:53.701Z"
   },
   {
    "duration": 46,
    "start_time": "2021-07-31T14:31:53.717Z"
   },
   {
    "duration": 8,
    "start_time": "2021-07-31T14:31:53.765Z"
   },
   {
    "duration": 16,
    "start_time": "2021-07-31T14:31:53.775Z"
   },
   {
    "duration": 9,
    "start_time": "2021-07-31T14:31:53.794Z"
   },
   {
    "duration": 13,
    "start_time": "2021-07-31T14:31:53.805Z"
   },
   {
    "duration": 43,
    "start_time": "2021-07-31T14:31:53.821Z"
   },
   {
    "duration": 14,
    "start_time": "2021-07-31T14:31:53.867Z"
   },
   {
    "duration": 18,
    "start_time": "2021-07-31T14:31:53.884Z"
   },
   {
    "duration": 14,
    "start_time": "2021-07-31T14:31:53.904Z"
   },
   {
    "duration": 49,
    "start_time": "2021-07-31T14:31:53.921Z"
   },
   {
    "duration": 6,
    "start_time": "2021-07-31T14:31:53.973Z"
   },
   {
    "duration": 8,
    "start_time": "2021-07-31T14:31:53.981Z"
   },
   {
    "duration": 12,
    "start_time": "2021-07-31T14:31:53.991Z"
   },
   {
    "duration": 6,
    "start_time": "2021-07-31T14:31:54.006Z"
   },
   {
    "duration": 10,
    "start_time": "2021-07-31T14:31:54.014Z"
   },
   {
    "duration": 7,
    "start_time": "2021-07-31T14:31:54.027Z"
   },
   {
    "duration": 27,
    "start_time": "2021-07-31T14:31:54.038Z"
   },
   {
    "duration": 6,
    "start_time": "2021-07-31T14:31:54.067Z"
   },
   {
    "duration": 8,
    "start_time": "2021-07-31T14:31:54.076Z"
   },
   {
    "duration": 10,
    "start_time": "2021-07-31T14:31:54.086Z"
   },
   {
    "duration": 6,
    "start_time": "2021-07-31T14:31:54.099Z"
   },
   {
    "duration": 6,
    "start_time": "2021-07-31T14:31:54.108Z"
   },
   {
    "duration": 46,
    "start_time": "2021-07-31T14:31:54.116Z"
   },
   {
    "duration": 101,
    "start_time": "2021-07-31T14:31:54.165Z"
   },
   {
    "duration": 21,
    "start_time": "2021-07-31T14:31:55.918Z"
   },
   {
    "duration": 14,
    "start_time": "2021-07-31T14:32:06.583Z"
   },
   {
    "duration": 6,
    "start_time": "2021-07-31T14:33:06.135Z"
   },
   {
    "duration": 14,
    "start_time": "2021-07-31T14:33:31.379Z"
   },
   {
    "duration": 260,
    "start_time": "2021-07-31T14:34:01.068Z"
   },
   {
    "duration": -1211,
    "start_time": "2021-07-31T14:34:02.542Z"
   },
   {
    "duration": 19,
    "start_time": "2021-07-31T14:34:06.447Z"
   },
   {
    "duration": 13,
    "start_time": "2021-07-31T14:34:07.374Z"
   },
   {
    "duration": 14,
    "start_time": "2021-07-31T14:34:07.758Z"
   },
   {
    "duration": 68,
    "start_time": "2021-07-31T14:35:00.807Z"
   },
   {
    "duration": 22,
    "start_time": "2021-07-31T14:35:02.519Z"
   },
   {
    "duration": 13,
    "start_time": "2021-07-31T14:35:02.894Z"
   },
   {
    "duration": 275,
    "start_time": "2021-07-31T14:46:26.885Z"
   },
   {
    "duration": 4,
    "start_time": "2021-07-31T14:46:31.163Z"
   },
   {
    "duration": 4,
    "start_time": "2021-07-31T14:46:31.361Z"
   },
   {
    "duration": 4,
    "start_time": "2021-07-31T14:46:31.524Z"
   },
   {
    "duration": 4,
    "start_time": "2021-07-31T14:46:31.682Z"
   },
   {
    "duration": 4,
    "start_time": "2021-07-31T14:46:32.088Z"
   },
   {
    "duration": 6,
    "start_time": "2021-07-31T14:46:44.323Z"
   },
   {
    "duration": 265,
    "start_time": "2021-07-31T14:48:00.192Z"
   },
   {
    "duration": 290,
    "start_time": "2021-07-31T14:49:39.244Z"
   },
   {
    "duration": 6,
    "start_time": "2021-07-31T14:49:41.915Z"
   },
   {
    "duration": 221,
    "start_time": "2021-07-31T14:49:42.137Z"
   },
   {
    "duration": 271,
    "start_time": "2021-07-31T14:49:52.563Z"
   },
   {
    "duration": 7,
    "start_time": "2021-07-31T14:50:02.867Z"
   },
   {
    "duration": 4,
    "start_time": "2021-07-31T14:50:41.146Z"
   },
   {
    "duration": 5,
    "start_time": "2021-07-31T14:50:53.971Z"
   },
   {
    "duration": 5,
    "start_time": "2021-07-31T14:51:30.787Z"
   },
   {
    "duration": 236,
    "start_time": "2021-07-31T14:51:33.426Z"
   },
   {
    "duration": 12,
    "start_time": "2021-07-31T14:51:59.194Z"
   },
   {
    "duration": 12,
    "start_time": "2021-07-31T14:52:02.954Z"
   },
   {
    "duration": 12,
    "start_time": "2021-07-31T14:52:05.673Z"
   },
   {
    "duration": 16,
    "start_time": "2021-07-31T14:53:00.202Z"
   },
   {
    "duration": 12,
    "start_time": "2021-07-31T14:53:03.395Z"
   },
   {
    "duration": 4,
    "start_time": "2021-07-31T14:53:50.044Z"
   },
   {
    "duration": 11,
    "start_time": "2021-07-31T14:54:59.375Z"
   },
   {
    "duration": 88,
    "start_time": "2021-07-31T14:56:28.935Z"
   },
   {
    "duration": 7,
    "start_time": "2021-07-31T14:56:32.273Z"
   },
   {
    "duration": 7,
    "start_time": "2021-07-31T14:56:37.329Z"
   },
   {
    "duration": 6,
    "start_time": "2021-07-31T14:56:42.088Z"
   },
   {
    "duration": 5,
    "start_time": "2021-07-31T15:13:18.054Z"
   },
   {
    "duration": 5,
    "start_time": "2021-07-31T15:13:42.645Z"
   },
   {
    "duration": 6,
    "start_time": "2021-07-31T15:13:53.461Z"
   },
   {
    "duration": 3,
    "start_time": "2021-07-31T15:19:50.829Z"
   },
   {
    "duration": 5,
    "start_time": "2021-07-31T15:19:51.939Z"
   },
   {
    "duration": 437,
    "start_time": "2021-07-31T15:19:52.323Z"
   },
   {
    "duration": 7,
    "start_time": "2021-07-31T15:20:06.570Z"
   },
   {
    "duration": 470,
    "start_time": "2021-07-31T15:20:06.851Z"
   },
   {
    "duration": 486,
    "start_time": "2021-07-31T15:20:22.002Z"
   },
   {
    "duration": 6,
    "start_time": "2021-07-31T15:20:26.243Z"
   },
   {
    "duration": 487,
    "start_time": "2021-07-31T15:20:26.451Z"
   },
   {
    "duration": 5,
    "start_time": "2021-07-31T15:20:50.715Z"
   },
   {
    "duration": 15,
    "start_time": "2021-07-31T15:20:51.235Z"
   },
   {
    "duration": 416,
    "start_time": "2021-07-31T15:25:22.455Z"
   },
   {
    "duration": 17,
    "start_time": "2021-07-31T15:25:31.528Z"
   },
   {
    "duration": 16,
    "start_time": "2021-07-31T15:25:32.776Z"
   },
   {
    "duration": 3,
    "start_time": "2021-07-31T15:25:59.047Z"
   },
   {
    "duration": 7,
    "start_time": "2021-07-31T15:26:11.279Z"
   },
   {
    "duration": 14,
    "start_time": "2021-07-31T15:26:11.596Z"
   },
   {
    "duration": 12,
    "start_time": "2021-07-31T15:26:12.177Z"
   },
   {
    "duration": 14,
    "start_time": "2021-07-31T15:26:12.441Z"
   },
   {
    "duration": 3,
    "start_time": "2021-07-31T15:27:07.742Z"
   },
   {
    "duration": 6,
    "start_time": "2021-07-31T15:29:12.811Z"
   },
   {
    "duration": 12,
    "start_time": "2021-07-31T15:29:14.640Z"
   },
   {
    "duration": 11,
    "start_time": "2021-07-31T15:29:17.184Z"
   },
   {
    "duration": 11,
    "start_time": "2021-07-31T15:29:17.704Z"
   },
   {
    "duration": 8,
    "start_time": "2021-07-31T15:32:33.874Z"
   },
   {
    "duration": 6072,
    "start_time": "2021-07-31T15:32:34.696Z"
   },
   {
    "duration": 15,
    "start_time": "2021-07-31T15:33:40.305Z"
   },
   {
    "duration": 238,
    "start_time": "2021-07-31T15:38:13.624Z"
   },
   {
    "duration": 18,
    "start_time": "2021-07-31T15:38:56.343Z"
   },
   {
    "duration": 11,
    "start_time": "2021-07-31T15:39:09.779Z"
   },
   {
    "duration": 10,
    "start_time": "2021-07-31T15:39:42.368Z"
   },
   {
    "duration": 10,
    "start_time": "2021-07-31T15:39:43.261Z"
   },
   {
    "duration": 10,
    "start_time": "2021-07-31T15:39:49.195Z"
   },
   {
    "duration": 11,
    "start_time": "2021-07-31T15:40:32.999Z"
   },
   {
    "duration": 12,
    "start_time": "2021-07-31T15:40:42.758Z"
   },
   {
    "duration": 10,
    "start_time": "2021-07-31T15:40:47.719Z"
   },
   {
    "duration": 274,
    "start_time": "2021-07-31T15:42:16.760Z"
   },
   {
    "duration": 3,
    "start_time": "2021-07-31T15:42:24.166Z"
   },
   {
    "duration": 486,
    "start_time": "2021-07-31T15:42:25.677Z"
   },
   {
    "duration": 4,
    "start_time": "2021-07-31T15:42:30.038Z"
   },
   {
    "duration": 535,
    "start_time": "2021-07-31T15:42:33.270Z"
   },
   {
    "duration": 12,
    "start_time": "2021-07-31T15:42:42.310Z"
   },
   {
    "duration": 7,
    "start_time": "2021-07-31T15:42:45.725Z"
   },
   {
    "duration": 4,
    "start_time": "2021-07-31T15:42:47.269Z"
   },
   {
    "duration": 1111,
    "start_time": "2021-07-31T15:42:48.149Z"
   },
   {
    "duration": 507,
    "start_time": "2021-07-31T15:43:44.038Z"
   },
   {
    "duration": 8,
    "start_time": "2021-07-31T15:51:27.832Z"
   },
   {
    "duration": 475,
    "start_time": "2021-07-31T15:51:31.048Z"
   },
   {
    "duration": 7,
    "start_time": "2021-07-31T15:52:38.513Z"
   },
   {
    "duration": 275,
    "start_time": "2021-07-31T15:52:39.059Z"
   },
   {
    "duration": 3,
    "start_time": "2021-07-31T15:52:39.539Z"
   },
   {
    "duration": 498,
    "start_time": "2021-07-31T15:52:40.523Z"
   },
   {
    "duration": 7,
    "start_time": "2021-07-31T15:53:49.017Z"
   },
   {
    "duration": 340,
    "start_time": "2021-07-31T15:53:49.979Z"
   },
   {
    "duration": 3,
    "start_time": "2021-07-31T15:53:50.939Z"
   },
   {
    "duration": 490,
    "start_time": "2021-07-31T15:53:51.611Z"
   },
   {
    "duration": 7,
    "start_time": "2021-07-31T15:54:10.659Z"
   },
   {
    "duration": 3,
    "start_time": "2021-07-31T15:54:11.628Z"
   },
   {
    "duration": 493,
    "start_time": "2021-07-31T15:54:12.012Z"
   },
   {
    "duration": 14,
    "start_time": "2021-07-31T15:54:37.434Z"
   },
   {
    "duration": 6,
    "start_time": "2021-07-31T15:54:58.668Z"
   },
   {
    "duration": 7,
    "start_time": "2021-07-31T15:55:02.227Z"
   },
   {
    "duration": 14,
    "start_time": "2021-07-31T15:55:03.498Z"
   },
   {
    "duration": 4,
    "start_time": "2021-07-31T15:55:06.131Z"
   },
   {
    "duration": 10198,
    "start_time": "2021-07-31T15:55:07.164Z"
   },
   {
    "duration": 5,
    "start_time": "2021-07-31T15:55:50.472Z"
   },
   {
    "duration": 7,
    "start_time": "2021-07-31T15:55:53.067Z"
   },
   {
    "duration": 5,
    "start_time": "2021-07-31T15:55:53.506Z"
   },
   {
    "duration": 7,
    "start_time": "2021-07-31T15:55:54.153Z"
   },
   {
    "duration": 11,
    "start_time": "2021-07-31T15:55:54.994Z"
   },
   {
    "duration": 3,
    "start_time": "2021-07-31T15:55:55.963Z"
   },
   {
    "duration": 9890,
    "start_time": "2021-07-31T15:55:57.396Z"
   },
   {
    "duration": 7,
    "start_time": "2021-07-31T15:57:19.636Z"
   },
   {
    "duration": 11,
    "start_time": "2021-07-31T15:57:20.379Z"
   },
   {
    "duration": 3,
    "start_time": "2021-07-31T15:57:21.339Z"
   },
   {
    "duration": 8685,
    "start_time": "2021-07-31T15:57:24.450Z"
   },
   {
    "duration": 7,
    "start_time": "2021-07-31T16:02:42.695Z"
   },
   {
    "duration": 12,
    "start_time": "2021-07-31T16:02:42.992Z"
   },
   {
    "duration": 4,
    "start_time": "2021-07-31T16:02:43.842Z"
   },
   {
    "duration": 758,
    "start_time": "2021-07-31T16:02:44.730Z"
   },
   {
    "duration": 8,
    "start_time": "2021-07-31T16:04:54.333Z"
   },
   {
    "duration": 10,
    "start_time": "2021-07-31T16:04:54.672Z"
   },
   {
    "duration": 3,
    "start_time": "2021-07-31T16:04:55.200Z"
   },
   {
    "duration": 568,
    "start_time": "2021-07-31T16:04:56.409Z"
   },
   {
    "duration": 7,
    "start_time": "2021-07-31T16:05:07.545Z"
   },
   {
    "duration": 11,
    "start_time": "2021-07-31T16:05:08.139Z"
   },
   {
    "duration": 4,
    "start_time": "2021-07-31T16:05:08.280Z"
   },
   {
    "duration": 3527,
    "start_time": "2021-07-31T16:05:09.256Z"
   },
   {
    "duration": 8,
    "start_time": "2021-07-31T16:05:45.918Z"
   },
   {
    "duration": 14,
    "start_time": "2021-07-31T16:05:47.994Z"
   },
   {
    "duration": 4,
    "start_time": "2021-07-31T16:05:48.159Z"
   },
   {
    "duration": 3486,
    "start_time": "2021-07-31T16:05:48.545Z"
   },
   {
    "duration": 7,
    "start_time": "2021-07-31T16:45:36.063Z"
   },
   {
    "duration": 11,
    "start_time": "2021-07-31T16:45:36.585Z"
   },
   {
    "duration": 4,
    "start_time": "2021-07-31T16:45:37.022Z"
   },
   {
    "duration": 2806,
    "start_time": "2021-07-31T16:45:37.344Z"
   },
   {
    "duration": 7,
    "start_time": "2021-07-31T16:46:22.668Z"
   },
   {
    "duration": 12,
    "start_time": "2021-07-31T16:46:23.271Z"
   },
   {
    "duration": 4,
    "start_time": "2021-07-31T16:46:23.750Z"
   },
   {
    "duration": 2037,
    "start_time": "2021-07-31T16:46:24.215Z"
   },
   {
    "duration": 7,
    "start_time": "2021-07-31T16:46:38.831Z"
   },
   {
    "duration": 12,
    "start_time": "2021-07-31T16:46:39.039Z"
   },
   {
    "duration": 4,
    "start_time": "2021-07-31T16:46:39.198Z"
   },
   {
    "duration": 2088,
    "start_time": "2021-07-31T16:46:39.623Z"
   },
   {
    "duration": 2089,
    "start_time": "2021-07-31T16:47:26.451Z"
   },
   {
    "duration": 2069,
    "start_time": "2021-07-31T16:47:32.039Z"
   },
   {
    "duration": 2040,
    "start_time": "2021-07-31T16:47:37.518Z"
   },
   {
    "duration": 7,
    "start_time": "2021-07-31T16:50:12.806Z"
   },
   {
    "duration": 12,
    "start_time": "2021-07-31T16:50:13.198Z"
   },
   {
    "duration": 3,
    "start_time": "2021-07-31T16:50:14.286Z"
   },
   {
    "duration": 2280,
    "start_time": "2021-07-31T16:50:14.710Z"
   },
   {
    "duration": 8,
    "start_time": "2021-07-31T16:50:35.856Z"
   },
   {
    "duration": 11,
    "start_time": "2021-07-31T16:50:36.302Z"
   },
   {
    "duration": 3,
    "start_time": "2021-07-31T16:50:36.758Z"
   },
   {
    "duration": 254,
    "start_time": "2021-07-31T16:50:37.046Z"
   },
   {
    "duration": 7,
    "start_time": "2021-07-31T16:51:06.438Z"
   },
   {
    "duration": 15,
    "start_time": "2021-07-31T16:51:06.622Z"
   },
   {
    "duration": 4,
    "start_time": "2021-07-31T16:51:06.966Z"
   },
   {
    "duration": 272,
    "start_time": "2021-07-31T16:51:07.430Z"
   },
   {
    "duration": 7,
    "start_time": "2021-07-31T16:51:22.590Z"
   },
   {
    "duration": 11,
    "start_time": "2021-07-31T16:51:22.893Z"
   },
   {
    "duration": 3,
    "start_time": "2021-07-31T16:51:25.086Z"
   },
   {
    "duration": 257,
    "start_time": "2021-07-31T16:51:25.949Z"
   },
   {
    "duration": 7,
    "start_time": "2021-07-31T16:51:43.774Z"
   },
   {
    "duration": 11,
    "start_time": "2021-07-31T16:51:44.013Z"
   },
   {
    "duration": 3,
    "start_time": "2021-07-31T16:51:44.373Z"
   },
   {
    "duration": 1672,
    "start_time": "2021-07-31T16:51:44.718Z"
   },
   {
    "duration": 219,
    "start_time": "2021-07-31T16:51:56.021Z"
   },
   {
    "duration": 1687,
    "start_time": "2021-07-31T16:52:03.558Z"
   },
   {
    "duration": 1707,
    "start_time": "2021-07-31T16:52:12.663Z"
   },
   {
    "duration": 17,
    "start_time": "2021-07-31T17:07:55.115Z"
   },
   {
    "duration": 16,
    "start_time": "2021-07-31T17:08:09.359Z"
   },
   {
    "duration": 20,
    "start_time": "2021-07-31T17:08:10.937Z"
   },
   {
    "duration": 7,
    "start_time": "2021-07-31T17:09:17.793Z"
   },
   {
    "duration": 18,
    "start_time": "2021-07-31T17:09:18.361Z"
   },
   {
    "duration": 1691,
    "start_time": "2021-07-31T17:09:18.945Z"
   },
   {
    "duration": 7,
    "start_time": "2021-07-31T17:09:32.682Z"
   },
   {
    "duration": 17,
    "start_time": "2021-07-31T17:09:33.201Z"
   },
   {
    "duration": 1704,
    "start_time": "2021-07-31T17:09:33.648Z"
   },
   {
    "duration": 808,
    "start_time": "2021-07-31T17:10:19.505Z"
   },
   {
    "duration": 6,
    "start_time": "2021-07-31T17:10:59.177Z"
   },
   {
    "duration": 7,
    "start_time": "2021-07-31T17:11:04.505Z"
   },
   {
    "duration": 17,
    "start_time": "2021-07-31T17:11:04.884Z"
   },
   {
    "duration": 1940,
    "start_time": "2021-07-31T17:11:08.859Z"
   },
   {
    "duration": 1726,
    "start_time": "2021-07-31T17:11:23.305Z"
   },
   {
    "duration": 1733,
    "start_time": "2021-07-31T17:11:36.448Z"
   },
   {
    "duration": 1778,
    "start_time": "2021-07-31T17:11:40.313Z"
   },
   {
    "duration": 5,
    "start_time": "2021-07-31T17:12:19.041Z"
   },
   {
    "duration": 4,
    "start_time": "2021-07-31T17:17:26.097Z"
   },
   {
    "duration": 3,
    "start_time": "2021-07-31T17:17:27.800Z"
   },
   {
    "duration": 4,
    "start_time": "2021-07-31T17:17:27.959Z"
   },
   {
    "duration": 4,
    "start_time": "2021-07-31T17:17:28.343Z"
   },
   {
    "duration": 3,
    "start_time": "2021-07-31T17:17:28.647Z"
   },
   {
    "duration": 6,
    "start_time": "2021-07-31T17:17:29.551Z"
   },
   {
    "duration": 6,
    "start_time": "2021-07-31T17:17:30.280Z"
   },
   {
    "duration": 7,
    "start_time": "2021-07-31T17:17:34.070Z"
   },
   {
    "duration": 13,
    "start_time": "2021-07-31T17:17:34.862Z"
   },
   {
    "duration": 13,
    "start_time": "2021-07-31T17:17:35.687Z"
   },
   {
    "duration": 13,
    "start_time": "2021-07-31T17:17:35.862Z"
   },
   {
    "duration": 6,
    "start_time": "2021-07-31T17:17:44.366Z"
   },
   {
    "duration": 7,
    "start_time": "2021-07-31T17:17:44.606Z"
   },
   {
    "duration": 7,
    "start_time": "2021-07-31T17:17:54.686Z"
   },
   {
    "duration": 4,
    "start_time": "2021-07-31T17:18:09.488Z"
   },
   {
    "duration": 11,
    "start_time": "2021-07-31T17:18:10.358Z"
   },
   {
    "duration": 11,
    "start_time": "2021-07-31T17:18:15.998Z"
   },
   {
    "duration": 10,
    "start_time": "2021-07-31T17:18:19.015Z"
   },
   {
    "duration": 6,
    "start_time": "2021-07-31T17:18:21.767Z"
   },
   {
    "duration": 17,
    "start_time": "2021-07-31T17:18:23.755Z"
   },
   {
    "duration": 786,
    "start_time": "2021-07-31T17:18:25.071Z"
   },
   {
    "duration": 2282,
    "start_time": "2021-07-31T17:18:32.496Z"
   },
   {
    "duration": 7,
    "start_time": "2021-07-31T17:18:57.023Z"
   },
   {
    "duration": 19,
    "start_time": "2021-07-31T17:18:57.424Z"
   },
   {
    "duration": 1516,
    "start_time": "2021-07-31T17:18:58.031Z"
   },
   {
    "duration": 724,
    "start_time": "2021-07-31T17:19:01.566Z"
   },
   {
    "duration": 1544,
    "start_time": "2021-07-31T17:19:09.959Z"
   },
   {
    "duration": 1542,
    "start_time": "2021-07-31T17:19:13.559Z"
   },
   {
    "duration": 7,
    "start_time": "2021-07-31T17:20:16.022Z"
   },
   {
    "duration": 18,
    "start_time": "2021-07-31T17:20:16.184Z"
   },
   {
    "duration": 1500,
    "start_time": "2021-07-31T17:20:16.318Z"
   },
   {
    "duration": 1526,
    "start_time": "2021-07-31T17:20:17.820Z"
   },
   {
    "duration": 1555,
    "start_time": "2021-07-31T17:20:20.366Z"
   },
   {
    "duration": 7,
    "start_time": "2021-07-31T17:20:27.534Z"
   },
   {
    "duration": 17,
    "start_time": "2021-07-31T17:20:28.222Z"
   },
   {
    "duration": 1568,
    "start_time": "2021-07-31T17:20:28.381Z"
   },
   {
    "duration": 1563,
    "start_time": "2021-07-31T17:20:29.953Z"
   },
   {
    "duration": 1550,
    "start_time": "2021-07-31T17:20:31.519Z"
   },
   {
    "duration": 3,
    "start_time": "2021-07-31T17:21:58.188Z"
   },
   {
    "duration": 4,
    "start_time": "2021-07-31T17:21:58.349Z"
   },
   {
    "duration": 4,
    "start_time": "2021-07-31T17:21:58.484Z"
   },
   {
    "duration": 4,
    "start_time": "2021-07-31T17:21:58.628Z"
   },
   {
    "duration": 5,
    "start_time": "2021-07-31T17:21:59.293Z"
   },
   {
    "duration": 5,
    "start_time": "2021-07-31T17:22:00.461Z"
   },
   {
    "duration": 6,
    "start_time": "2021-07-31T17:22:02.133Z"
   },
   {
    "duration": 6,
    "start_time": "2021-07-31T17:22:02.533Z"
   },
   {
    "duration": 7,
    "start_time": "2021-07-31T17:22:03.971Z"
   },
   {
    "duration": 5,
    "start_time": "2021-07-31T17:22:07.669Z"
   },
   {
    "duration": 15,
    "start_time": "2021-07-31T17:22:08.797Z"
   },
   {
    "duration": 14,
    "start_time": "2021-07-31T17:22:09.486Z"
   },
   {
    "duration": 14,
    "start_time": "2021-07-31T17:22:10.110Z"
   },
   {
    "duration": 8,
    "start_time": "2021-07-31T17:22:12.605Z"
   },
   {
    "duration": 17,
    "start_time": "2021-07-31T17:22:13.354Z"
   },
   {
    "duration": 1501,
    "start_time": "2021-07-31T17:22:13.717Z"
   },
   {
    "duration": 1572,
    "start_time": "2021-07-31T17:22:15.221Z"
   },
   {
    "duration": 1529,
    "start_time": "2021-07-31T17:22:16.796Z"
   },
   {
    "duration": 1796,
    "start_time": "2021-07-31T17:27:10.195Z"
   },
   {
    "duration": 1532,
    "start_time": "2021-07-31T17:27:39.733Z"
   },
   {
    "duration": 1525,
    "start_time": "2021-07-31T17:28:15.332Z"
   },
   {
    "duration": 1556,
    "start_time": "2021-07-31T17:28:39.949Z"
   },
   {
    "duration": 1519,
    "start_time": "2021-07-31T17:30:17.345Z"
   },
   {
    "duration": 1773,
    "start_time": "2021-07-31T17:30:29.780Z"
   },
   {
    "duration": 69,
    "start_time": "2021-07-31T17:30:54.180Z"
   },
   {
    "duration": 1763,
    "start_time": "2021-07-31T17:31:09.932Z"
   },
   {
    "duration": 2356,
    "start_time": "2021-07-31T17:31:19.587Z"
   },
   {
    "duration": 1540,
    "start_time": "2021-07-31T17:31:25.524Z"
   },
   {
    "duration": 1525,
    "start_time": "2021-07-31T17:32:16.347Z"
   },
   {
    "duration": 1525,
    "start_time": "2021-07-31T17:32:31.691Z"
   },
   {
    "duration": 1538,
    "start_time": "2021-07-31T17:32:34.651Z"
   },
   {
    "duration": 1517,
    "start_time": "2021-07-31T17:32:37.090Z"
   },
   {
    "duration": 1933,
    "start_time": "2021-07-31T17:32:39.915Z"
   },
   {
    "duration": 1503,
    "start_time": "2021-07-31T17:32:43.539Z"
   },
   {
    "duration": 1528,
    "start_time": "2021-07-31T17:32:55.435Z"
   },
   {
    "duration": 1518,
    "start_time": "2021-07-31T17:33:19.915Z"
   },
   {
    "duration": 1532,
    "start_time": "2021-07-31T17:33:26.090Z"
   },
   {
    "duration": 1536,
    "start_time": "2021-07-31T17:33:29.251Z"
   },
   {
    "duration": 1512,
    "start_time": "2021-07-31T17:33:52.291Z"
   },
   {
    "duration": 1345,
    "start_time": "2021-07-31T17:33:58.393Z"
   },
   {
    "duration": 3,
    "start_time": "2021-07-31T17:33:59.741Z"
   },
   {
    "duration": 168,
    "start_time": "2021-07-31T17:33:59.750Z"
   },
   {
    "duration": 22,
    "start_time": "2021-07-31T17:33:59.921Z"
   },
   {
    "duration": 170,
    "start_time": "2021-07-31T17:33:59.946Z"
   },
   {
    "duration": 14,
    "start_time": "2021-07-31T17:34:00.119Z"
   },
   {
    "duration": 182,
    "start_time": "2021-07-31T17:34:00.137Z"
   },
   {
    "duration": 11,
    "start_time": "2021-07-31T17:34:00.322Z"
   },
   {
    "duration": 39,
    "start_time": "2021-07-31T17:34:00.336Z"
   },
   {
    "duration": 44,
    "start_time": "2021-07-31T17:34:00.378Z"
   },
   {
    "duration": 31,
    "start_time": "2021-07-31T17:34:00.425Z"
   },
   {
    "duration": 15,
    "start_time": "2021-07-31T17:34:00.458Z"
   },
   {
    "duration": 19,
    "start_time": "2021-07-31T17:34:00.475Z"
   },
   {
    "duration": 40,
    "start_time": "2021-07-31T17:34:00.497Z"
   },
   {
    "duration": 20,
    "start_time": "2021-07-31T17:34:00.539Z"
   },
   {
    "duration": 19,
    "start_time": "2021-07-31T17:34:00.561Z"
   },
   {
    "duration": 28,
    "start_time": "2021-07-31T17:34:00.582Z"
   },
   {
    "duration": 26,
    "start_time": "2021-07-31T17:34:00.613Z"
   },
   {
    "duration": 26,
    "start_time": "2021-07-31T17:34:00.642Z"
   },
   {
    "duration": 33,
    "start_time": "2021-07-31T17:34:00.670Z"
   },
   {
    "duration": 8,
    "start_time": "2021-07-31T17:34:00.705Z"
   },
   {
    "duration": 40,
    "start_time": "2021-07-31T17:34:00.719Z"
   },
   {
    "duration": 18,
    "start_time": "2021-07-31T17:34:00.762Z"
   },
   {
    "duration": 13,
    "start_time": "2021-07-31T17:34:00.782Z"
   },
   {
    "duration": 16,
    "start_time": "2021-07-31T17:34:00.797Z"
   },
   {
    "duration": 13,
    "start_time": "2021-07-31T17:34:00.815Z"
   },
   {
    "duration": 10,
    "start_time": "2021-07-31T17:34:00.831Z"
   },
   {
    "duration": 9,
    "start_time": "2021-07-31T17:34:00.843Z"
   },
   {
    "duration": 28,
    "start_time": "2021-07-31T17:34:00.854Z"
   },
   {
    "duration": 11,
    "start_time": "2021-07-31T17:34:00.885Z"
   },
   {
    "duration": 17,
    "start_time": "2021-07-31T17:34:00.899Z"
   },
   {
    "duration": 13,
    "start_time": "2021-07-31T17:34:00.918Z"
   },
   {
    "duration": 17,
    "start_time": "2021-07-31T17:34:00.933Z"
   },
   {
    "duration": 43,
    "start_time": "2021-07-31T17:34:00.952Z"
   },
   {
    "duration": 100,
    "start_time": "2021-07-31T17:34:01.065Z"
   },
   {
    "duration": 112,
    "start_time": "2021-07-31T17:34:01.168Z"
   },
   {
    "duration": 22,
    "start_time": "2021-07-31T17:34:01.363Z"
   },
   {
    "duration": 99,
    "start_time": "2021-07-31T17:34:01.469Z"
   },
   {
    "duration": 193,
    "start_time": "2021-07-31T17:34:01.571Z"
   },
   {
    "duration": 97,
    "start_time": "2021-07-31T17:34:01.766Z"
   },
   {
    "duration": 96,
    "start_time": "2021-07-31T17:34:01.866Z"
   },
   {
    "duration": 101,
    "start_time": "2021-07-31T17:34:01.971Z"
   },
   {
    "duration": 19,
    "start_time": "2021-07-31T17:34:02.075Z"
   },
   {
    "duration": 19,
    "start_time": "2021-07-31T17:34:02.097Z"
   },
   {
    "duration": 51,
    "start_time": "2021-07-31T17:34:02.118Z"
   },
   {
    "duration": 28,
    "start_time": "2021-07-31T17:34:02.172Z"
   },
   {
    "duration": 18,
    "start_time": "2021-07-31T17:34:02.202Z"
   },
   {
    "duration": 31,
    "start_time": "2021-07-31T17:34:02.222Z"
   },
   {
    "duration": 52,
    "start_time": "2021-07-31T17:34:02.255Z"
   },
   {
    "duration": 18,
    "start_time": "2021-07-31T17:34:02.309Z"
   },
   {
    "duration": 16,
    "start_time": "2021-07-31T17:34:02.329Z"
   },
   {
    "duration": 13,
    "start_time": "2021-07-31T17:34:02.348Z"
   },
   {
    "duration": 16,
    "start_time": "2021-07-31T17:34:02.363Z"
   },
   {
    "duration": 12,
    "start_time": "2021-07-31T17:34:02.382Z"
   },
   {
    "duration": 11,
    "start_time": "2021-07-31T17:34:02.396Z"
   },
   {
    "duration": 7,
    "start_time": "2021-07-31T17:34:02.410Z"
   },
   {
    "duration": 1570,
    "start_time": "2021-07-31T17:34:02.419Z"
   },
   {
    "duration": 1570,
    "start_time": "2021-07-31T17:34:03.992Z"
   },
   {
    "duration": 1996,
    "start_time": "2021-07-31T17:34:05.564Z"
   },
   {
    "duration": 1558,
    "start_time": "2021-07-31T17:34:12.645Z"
   },
   {
    "duration": 1616,
    "start_time": "2021-07-31T17:34:56.844Z"
   },
   {
    "duration": 1551,
    "start_time": "2021-07-31T17:35:12.589Z"
   },
   {
    "duration": 2323,
    "start_time": "2021-07-31T17:35:23.988Z"
   },
   {
    "duration": 2331,
    "start_time": "2021-07-31T17:35:28.566Z"
   },
   {
    "duration": 2314,
    "start_time": "2021-07-31T17:35:32.733Z"
   },
   {
    "duration": 2297,
    "start_time": "2021-07-31T17:36:20.557Z"
   },
   {
    "duration": 2318,
    "start_time": "2021-07-31T17:36:22.863Z"
   },
   {
    "duration": 10,
    "start_time": "2021-07-31T17:39:12.886Z"
   },
   {
    "duration": 509,
    "start_time": "2021-07-31T17:39:13.541Z"
   },
   {
    "duration": 5,
    "start_time": "2021-07-31T17:39:19.507Z"
   },
   {
    "duration": 11,
    "start_time": "2021-07-31T17:39:20.155Z"
   },
   {
    "duration": 12,
    "start_time": "2021-07-31T17:39:20.595Z"
   },
   {
    "duration": 11,
    "start_time": "2021-07-31T17:39:25.651Z"
   },
   {
    "duration": 12,
    "start_time": "2021-07-31T17:39:25.866Z"
   },
   {
    "duration": 7,
    "start_time": "2021-07-31T17:39:27.995Z"
   },
   {
    "duration": 1528,
    "start_time": "2021-07-31T17:39:28.459Z"
   },
   {
    "duration": 1529,
    "start_time": "2021-07-31T17:39:36.052Z"
   },
   {
    "duration": 1571,
    "start_time": "2021-07-31T17:39:37.584Z"
   },
   {
    "duration": 3,
    "start_time": "2021-07-31T17:42:10.229Z"
   },
   {
    "duration": 4,
    "start_time": "2021-07-31T17:42:10.402Z"
   },
   {
    "duration": 1376,
    "start_time": "2021-07-31T17:42:17.762Z"
   },
   {
    "duration": 4,
    "start_time": "2021-07-31T17:42:19.140Z"
   },
   {
    "duration": 161,
    "start_time": "2021-07-31T17:42:19.146Z"
   },
   {
    "duration": 21,
    "start_time": "2021-07-31T17:42:19.310Z"
   },
   {
    "duration": 166,
    "start_time": "2021-07-31T17:42:19.333Z"
   },
   {
    "duration": 12,
    "start_time": "2021-07-31T17:42:19.501Z"
   },
   {
    "duration": 163,
    "start_time": "2021-07-31T17:42:19.515Z"
   },
   {
    "duration": 12,
    "start_time": "2021-07-31T17:42:19.681Z"
   },
   {
    "duration": 15,
    "start_time": "2021-07-31T17:42:19.697Z"
   },
   {
    "duration": 13,
    "start_time": "2021-07-31T17:42:19.715Z"
   },
   {
    "duration": 13,
    "start_time": "2021-07-31T17:42:19.763Z"
   },
   {
    "duration": 10,
    "start_time": "2021-07-31T17:42:19.779Z"
   },
   {
    "duration": 37,
    "start_time": "2021-07-31T17:42:19.792Z"
   },
   {
    "duration": 10,
    "start_time": "2021-07-31T17:42:19.832Z"
   },
   {
    "duration": 22,
    "start_time": "2021-07-31T17:42:19.845Z"
   },
   {
    "duration": 9,
    "start_time": "2021-07-31T17:42:19.869Z"
   },
   {
    "duration": 16,
    "start_time": "2021-07-31T17:42:19.881Z"
   },
   {
    "duration": 19,
    "start_time": "2021-07-31T17:42:19.899Z"
   },
   {
    "duration": 48,
    "start_time": "2021-07-31T17:42:19.920Z"
   },
   {
    "duration": 15,
    "start_time": "2021-07-31T17:42:19.971Z"
   },
   {
    "duration": 6,
    "start_time": "2021-07-31T17:42:19.989Z"
   },
   {
    "duration": 14,
    "start_time": "2021-07-31T17:42:19.997Z"
   },
   {
    "duration": 15,
    "start_time": "2021-07-31T17:42:20.013Z"
   },
   {
    "duration": 10,
    "start_time": "2021-07-31T17:42:20.031Z"
   },
   {
    "duration": 26,
    "start_time": "2021-07-31T17:42:20.043Z"
   },
   {
    "duration": 9,
    "start_time": "2021-07-31T17:42:20.072Z"
   },
   {
    "duration": 11,
    "start_time": "2021-07-31T17:42:20.087Z"
   },
   {
    "duration": 6,
    "start_time": "2021-07-31T17:42:20.102Z"
   },
   {
    "duration": 15,
    "start_time": "2021-07-31T17:42:20.111Z"
   },
   {
    "duration": 6,
    "start_time": "2021-07-31T17:42:20.128Z"
   },
   {
    "duration": 26,
    "start_time": "2021-07-31T17:42:20.136Z"
   },
   {
    "duration": 16,
    "start_time": "2021-07-31T17:42:20.165Z"
   },
   {
    "duration": 7,
    "start_time": "2021-07-31T17:42:20.183Z"
   },
   {
    "duration": 76,
    "start_time": "2021-07-31T17:42:20.192Z"
   },
   {
    "duration": 97,
    "start_time": "2021-07-31T17:42:20.271Z"
   },
   {
    "duration": 194,
    "start_time": "2021-07-31T17:42:20.372Z"
   },
   {
    "duration": 93,
    "start_time": "2021-07-31T17:42:20.569Z"
   },
   {
    "duration": 97,
    "start_time": "2021-07-31T17:42:20.665Z"
   },
   {
    "duration": 110,
    "start_time": "2021-07-31T17:42:20.765Z"
   },
   {
    "duration": 85,
    "start_time": "2021-07-31T17:42:20.878Z"
   },
   {
    "duration": 98,
    "start_time": "2021-07-31T17:42:20.967Z"
   },
   {
    "duration": 104,
    "start_time": "2021-07-31T17:42:21.069Z"
   },
   {
    "duration": 15,
    "start_time": "2021-07-31T17:42:21.176Z"
   },
   {
    "duration": 3,
    "start_time": "2021-07-31T17:42:21.262Z"
   },
   {
    "duration": 15,
    "start_time": "2021-07-31T17:42:21.268Z"
   },
   {
    "duration": 10,
    "start_time": "2021-07-31T17:42:21.285Z"
   },
   {
    "duration": 13,
    "start_time": "2021-07-31T17:42:21.297Z"
   },
   {
    "duration": 13,
    "start_time": "2021-07-31T17:42:21.312Z"
   },
   {
    "duration": 12,
    "start_time": "2021-07-31T17:42:21.328Z"
   },
   {
    "duration": 22,
    "start_time": "2021-07-31T17:42:21.342Z"
   },
   {
    "duration": 6,
    "start_time": "2021-07-31T17:42:21.367Z"
   },
   {
    "duration": 19,
    "start_time": "2021-07-31T17:42:21.376Z"
   },
   {
    "duration": 17,
    "start_time": "2021-07-31T17:42:21.397Z"
   },
   {
    "duration": 12,
    "start_time": "2021-07-31T17:42:21.417Z"
   },
   {
    "duration": 36,
    "start_time": "2021-07-31T17:42:21.432Z"
   },
   {
    "duration": 6,
    "start_time": "2021-07-31T17:42:21.471Z"
   },
   {
    "duration": 1485,
    "start_time": "2021-07-31T17:42:21.480Z"
   },
   {
    "duration": 1474,
    "start_time": "2021-07-31T17:42:22.967Z"
   },
   {
    "duration": 1493,
    "start_time": "2021-07-31T17:42:24.444Z"
   },
   {
    "duration": 1465,
    "start_time": "2021-07-31T17:43:12.603Z"
   },
   {
    "duration": 3,
    "start_time": "2021-07-31T17:43:14.071Z"
   },
   {
    "duration": 172,
    "start_time": "2021-07-31T17:43:14.077Z"
   },
   {
    "duration": 26,
    "start_time": "2021-07-31T17:43:14.252Z"
   },
   {
    "duration": 170,
    "start_time": "2021-07-31T17:43:14.281Z"
   },
   {
    "duration": 16,
    "start_time": "2021-07-31T17:43:14.453Z"
   },
   {
    "duration": 167,
    "start_time": "2021-07-31T17:43:14.471Z"
   },
   {
    "duration": 21,
    "start_time": "2021-07-31T17:43:14.641Z"
   },
   {
    "duration": 16,
    "start_time": "2021-07-31T17:43:14.667Z"
   },
   {
    "duration": 15,
    "start_time": "2021-07-31T17:43:14.687Z"
   },
   {
    "duration": 59,
    "start_time": "2021-07-31T17:43:14.704Z"
   },
   {
    "duration": 9,
    "start_time": "2021-07-31T17:43:14.765Z"
   },
   {
    "duration": 19,
    "start_time": "2021-07-31T17:43:14.776Z"
   },
   {
    "duration": 10,
    "start_time": "2021-07-31T17:43:14.798Z"
   },
   {
    "duration": 52,
    "start_time": "2021-07-31T17:43:14.810Z"
   },
   {
    "duration": 8,
    "start_time": "2021-07-31T17:43:14.865Z"
   },
   {
    "duration": 17,
    "start_time": "2021-07-31T17:43:14.876Z"
   },
   {
    "duration": 18,
    "start_time": "2021-07-31T17:43:14.896Z"
   },
   {
    "duration": 48,
    "start_time": "2021-07-31T17:43:14.916Z"
   },
   {
    "duration": 17,
    "start_time": "2021-07-31T17:43:14.967Z"
   },
   {
    "duration": 6,
    "start_time": "2021-07-31T17:43:14.987Z"
   },
   {
    "duration": 16,
    "start_time": "2021-07-31T17:43:14.996Z"
   },
   {
    "duration": 25,
    "start_time": "2021-07-31T17:43:15.015Z"
   },
   {
    "duration": 14,
    "start_time": "2021-07-31T17:43:15.043Z"
   },
   {
    "duration": 24,
    "start_time": "2021-07-31T17:43:15.059Z"
   },
   {
    "duration": 13,
    "start_time": "2021-07-31T17:43:15.085Z"
   },
   {
    "duration": 16,
    "start_time": "2021-07-31T17:43:15.103Z"
   },
   {
    "duration": 24,
    "start_time": "2021-07-31T17:43:15.122Z"
   },
   {
    "duration": 10,
    "start_time": "2021-07-31T17:43:15.148Z"
   },
   {
    "duration": 14,
    "start_time": "2021-07-31T17:43:15.160Z"
   },
   {
    "duration": 32,
    "start_time": "2021-07-31T17:43:15.176Z"
   },
   {
    "duration": 13,
    "start_time": "2021-07-31T17:43:15.210Z"
   },
   {
    "duration": 8,
    "start_time": "2021-07-31T17:43:15.226Z"
   },
   {
    "duration": 32,
    "start_time": "2021-07-31T17:43:15.237Z"
   },
   {
    "duration": 94,
    "start_time": "2021-07-31T17:43:15.271Z"
   },
   {
    "duration": 193,
    "start_time": "2021-07-31T17:43:15.369Z"
   },
   {
    "duration": 103,
    "start_time": "2021-07-31T17:43:15.564Z"
   },
   {
    "duration": 13,
    "start_time": "2021-07-31T17:43:15.762Z"
   },
   {
    "duration": 103,
    "start_time": "2021-07-31T17:43:15.861Z"
   },
   {
    "duration": 95,
    "start_time": "2021-07-31T17:43:15.967Z"
   },
   {
    "duration": 97,
    "start_time": "2021-07-31T17:43:16.066Z"
   },
   {
    "duration": 106,
    "start_time": "2021-07-31T17:43:16.167Z"
   },
   {
    "duration": 9,
    "start_time": "2021-07-31T17:43:16.276Z"
   },
   {
    "duration": 10,
    "start_time": "2021-07-31T17:43:16.287Z"
   },
   {
    "duration": 5,
    "start_time": "2021-07-31T17:43:16.300Z"
   },
   {
    "duration": 7,
    "start_time": "2021-07-31T17:43:16.308Z"
   },
   {
    "duration": 11,
    "start_time": "2021-07-31T17:43:16.317Z"
   },
   {
    "duration": 32,
    "start_time": "2021-07-31T17:43:16.331Z"
   },
   {
    "duration": 6,
    "start_time": "2021-07-31T17:43:16.365Z"
   },
   {
    "duration": 8,
    "start_time": "2021-07-31T17:43:16.373Z"
   },
   {
    "duration": 8,
    "start_time": "2021-07-31T17:43:16.383Z"
   },
   {
    "duration": 6,
    "start_time": "2021-07-31T17:43:16.393Z"
   },
   {
    "duration": 17,
    "start_time": "2021-07-31T17:43:16.402Z"
   },
   {
    "duration": 51,
    "start_time": "2021-07-31T17:43:16.421Z"
   },
   {
    "duration": 11,
    "start_time": "2021-07-31T17:43:16.475Z"
   },
   {
    "duration": 7,
    "start_time": "2021-07-31T17:43:16.489Z"
   },
   {
    "duration": 1541,
    "start_time": "2021-07-31T17:43:16.498Z"
   },
   {
    "duration": 1859,
    "start_time": "2021-07-31T17:43:18.041Z"
   },
   {
    "duration": 1534,
    "start_time": "2021-07-31T17:43:19.903Z"
   },
   {
    "duration": 87,
    "start_time": "2021-07-31T17:46:59.276Z"
   },
   {
    "duration": 11,
    "start_time": "2021-07-31T17:47:04.937Z"
   },
   {
    "duration": 88,
    "start_time": "2021-07-31T17:47:22.896Z"
   },
   {
    "duration": 98,
    "start_time": "2021-07-31T17:47:27.208Z"
   },
   {
    "duration": 10,
    "start_time": "2021-07-31T17:47:34.881Z"
   },
   {
    "duration": 406,
    "start_time": "2021-07-31T17:47:51.120Z"
   },
   {
    "duration": 10,
    "start_time": "2021-07-31T17:47:55.673Z"
   },
   {
    "duration": 96,
    "start_time": "2021-07-31T17:48:10.560Z"
   },
   {
    "duration": 11,
    "start_time": "2021-07-31T17:48:13.409Z"
   },
   {
    "duration": 78,
    "start_time": "2021-07-31T17:48:25.320Z"
   },
   {
    "duration": 101,
    "start_time": "2021-07-31T17:48:27.361Z"
   },
   {
    "duration": 10,
    "start_time": "2021-07-31T17:48:29.601Z"
   },
   {
    "duration": 10,
    "start_time": "2021-07-31T17:48:51.520Z"
   },
   {
    "duration": 11,
    "start_time": "2021-07-31T17:49:05.361Z"
   },
   {
    "duration": 10,
    "start_time": "2021-07-31T17:49:26.640Z"
   },
   {
    "duration": 13,
    "start_time": "2021-07-31T17:50:11.888Z"
   },
   {
    "duration": 13,
    "start_time": "2021-07-31T17:50:27.776Z"
   },
   {
    "duration": 13,
    "start_time": "2021-07-31T17:50:33.344Z"
   },
   {
    "duration": 2295,
    "start_time": "2021-07-31T17:56:08.373Z"
   },
   {
    "duration": 2253,
    "start_time": "2021-07-31T17:56:12.622Z"
   },
   {
    "duration": 2272,
    "start_time": "2021-07-31T17:56:15.862Z"
   },
   {
    "duration": 6,
    "start_time": "2021-07-31T18:38:35.620Z"
   },
   {
    "duration": 14,
    "start_time": "2021-07-31T18:38:36.329Z"
   },
   {
    "duration": 13,
    "start_time": "2021-07-31T18:38:37.815Z"
   },
   {
    "duration": 13,
    "start_time": "2021-07-31T18:38:38.438Z"
   },
   {
    "duration": 1362,
    "start_time": "2021-07-31T18:51:28.013Z"
   },
   {
    "duration": 3,
    "start_time": "2021-07-31T18:51:29.377Z"
   },
   {
    "duration": 493,
    "start_time": "2021-07-31T18:51:29.384Z"
   },
   {
    "duration": 83,
    "start_time": "2021-07-31T18:51:29.881Z"
   },
   {
    "duration": 331,
    "start_time": "2021-07-31T18:51:29.967Z"
   },
   {
    "duration": 16,
    "start_time": "2021-07-31T18:51:30.301Z"
   },
   {
    "duration": 252,
    "start_time": "2021-07-31T18:51:30.320Z"
   },
   {
    "duration": 17,
    "start_time": "2021-07-31T18:51:30.575Z"
   },
   {
    "duration": 32,
    "start_time": "2021-07-31T18:51:30.598Z"
   },
   {
    "duration": 36,
    "start_time": "2021-07-31T18:51:30.634Z"
   },
   {
    "duration": 20,
    "start_time": "2021-07-31T18:51:30.673Z"
   },
   {
    "duration": 21,
    "start_time": "2021-07-31T18:51:30.696Z"
   },
   {
    "duration": 44,
    "start_time": "2021-07-31T18:51:30.720Z"
   },
   {
    "duration": 22,
    "start_time": "2021-07-31T18:51:30.767Z"
   },
   {
    "duration": 45,
    "start_time": "2021-07-31T18:51:30.792Z"
   },
   {
    "duration": 30,
    "start_time": "2021-07-31T18:51:30.840Z"
   },
   {
    "duration": 33,
    "start_time": "2021-07-31T18:51:30.873Z"
   },
   {
    "duration": 29,
    "start_time": "2021-07-31T18:51:30.909Z"
   },
   {
    "duration": 21,
    "start_time": "2021-07-31T18:51:30.941Z"
   },
   {
    "duration": 25,
    "start_time": "2021-07-31T18:51:30.965Z"
   },
   {
    "duration": 7,
    "start_time": "2021-07-31T18:51:30.992Z"
   },
   {
    "duration": 27,
    "start_time": "2021-07-31T18:51:31.001Z"
   },
   {
    "duration": 26,
    "start_time": "2021-07-31T18:51:31.030Z"
   },
   {
    "duration": 13,
    "start_time": "2021-07-31T18:51:31.058Z"
   },
   {
    "duration": 26,
    "start_time": "2021-07-31T18:51:31.074Z"
   },
   {
    "duration": 24,
    "start_time": "2021-07-31T18:51:31.103Z"
   },
   {
    "duration": 17,
    "start_time": "2021-07-31T18:51:31.133Z"
   },
   {
    "duration": 23,
    "start_time": "2021-07-31T18:51:31.153Z"
   },
   {
    "duration": 20,
    "start_time": "2021-07-31T18:51:31.179Z"
   },
   {
    "duration": 32,
    "start_time": "2021-07-31T18:51:31.201Z"
   },
   {
    "duration": 28,
    "start_time": "2021-07-31T18:51:31.235Z"
   },
   {
    "duration": 24,
    "start_time": "2021-07-31T18:51:31.265Z"
   },
   {
    "duration": 16,
    "start_time": "2021-07-31T18:51:31.292Z"
   },
   {
    "duration": 56,
    "start_time": "2021-07-31T18:51:31.310Z"
   },
   {
    "duration": 99,
    "start_time": "2021-07-31T18:51:31.370Z"
   },
   {
    "duration": 200,
    "start_time": "2021-07-31T18:51:31.472Z"
   },
   {
    "duration": 90,
    "start_time": "2021-07-31T18:51:31.675Z"
   },
   {
    "duration": 97,
    "start_time": "2021-07-31T18:51:31.769Z"
   },
   {
    "duration": 191,
    "start_time": "2021-07-31T18:51:31.870Z"
   },
   {
    "duration": 23,
    "start_time": "2021-07-31T18:51:32.064Z"
   },
   {
    "duration": 97,
    "start_time": "2021-07-31T18:51:32.165Z"
   },
   {
    "duration": 103,
    "start_time": "2021-07-31T18:51:32.270Z"
   },
   {
    "duration": 16,
    "start_time": "2021-07-31T18:51:32.375Z"
   },
   {
    "duration": 15,
    "start_time": "2021-07-31T18:51:32.393Z"
   },
   {
    "duration": 19,
    "start_time": "2021-07-31T18:51:32.411Z"
   },
   {
    "duration": 21,
    "start_time": "2021-07-31T18:51:32.433Z"
   },
   {
    "duration": 11,
    "start_time": "2021-07-31T18:51:32.457Z"
   },
   {
    "duration": 16,
    "start_time": "2021-07-31T18:51:32.470Z"
   },
   {
    "duration": 34,
    "start_time": "2021-07-31T18:51:32.488Z"
   },
   {
    "duration": 19,
    "start_time": "2021-07-31T18:51:32.525Z"
   },
   {
    "duration": 9,
    "start_time": "2021-07-31T18:51:32.546Z"
   },
   {
    "duration": 22,
    "start_time": "2021-07-31T18:51:32.558Z"
   },
   {
    "duration": 18,
    "start_time": "2021-07-31T18:51:32.583Z"
   },
   {
    "duration": 24,
    "start_time": "2021-07-31T18:51:32.604Z"
   },
   {
    "duration": 34,
    "start_time": "2021-07-31T18:51:32.630Z"
   },
   {
    "duration": 12,
    "start_time": "2021-07-31T18:51:32.667Z"
   },
   {
    "duration": 615,
    "start_time": "2021-07-31T18:51:32.682Z"
   },
   {
    "duration": 703,
    "start_time": "2021-07-31T18:51:32.596Z"
   },
   {
    "duration": 701,
    "start_time": "2021-07-31T18:51:32.600Z"
   },
   {
    "duration": 25,
    "start_time": "2021-07-31T18:59:21.742Z"
   },
   {
    "duration": 5,
    "start_time": "2021-07-31T19:49:45.609Z"
   },
   {
    "duration": 11,
    "start_time": "2021-07-31T19:49:52.195Z"
   },
   {
    "duration": 10,
    "start_time": "2021-07-31T19:49:52.660Z"
   },
   {
    "duration": 11,
    "start_time": "2021-07-31T19:49:53.019Z"
   },
   {
    "duration": 8,
    "start_time": "2021-07-31T19:50:00.443Z"
   },
   {
    "duration": 518,
    "start_time": "2021-07-31T19:50:01.140Z"
   },
   {
    "duration": 252,
    "start_time": "2021-07-31T19:50:35.060Z"
   },
   {
    "duration": 7,
    "start_time": "2021-07-31T19:51:08.124Z"
   },
   {
    "duration": 529,
    "start_time": "2021-07-31T19:51:09.694Z"
   },
   {
    "duration": 7,
    "start_time": "2021-07-31T19:51:39.245Z"
   },
   {
    "duration": 273,
    "start_time": "2021-07-31T19:51:39.710Z"
   },
   {
    "duration": 1488,
    "start_time": "2021-07-31T19:51:47.619Z"
   },
   {
    "duration": 1563,
    "start_time": "2021-07-31T19:52:02.212Z"
   },
   {
    "duration": 1514,
    "start_time": "2021-07-31T19:52:18.675Z"
   },
   {
    "duration": 1512,
    "start_time": "2021-07-31T19:52:20.192Z"
   },
   {
    "duration": 1401,
    "start_time": "2021-07-31T19:52:30.724Z"
   },
   {
    "duration": 4,
    "start_time": "2021-07-31T19:52:32.128Z"
   },
   {
    "duration": 178,
    "start_time": "2021-07-31T19:52:32.135Z"
   },
   {
    "duration": 26,
    "start_time": "2021-07-31T19:52:32.317Z"
   },
   {
    "duration": 167,
    "start_time": "2021-07-31T19:52:32.346Z"
   },
   {
    "duration": 13,
    "start_time": "2021-07-31T19:52:32.516Z"
   },
   {
    "duration": 169,
    "start_time": "2021-07-31T19:52:32.532Z"
   },
   {
    "duration": 13,
    "start_time": "2021-07-31T19:52:32.705Z"
   },
   {
    "duration": 16,
    "start_time": "2021-07-31T19:52:32.721Z"
   },
   {
    "duration": 35,
    "start_time": "2021-07-31T19:52:32.740Z"
   },
   {
    "duration": 13,
    "start_time": "2021-07-31T19:52:32.795Z"
   },
   {
    "duration": 13,
    "start_time": "2021-07-31T19:52:32.811Z"
   },
   {
    "duration": 36,
    "start_time": "2021-07-31T19:52:32.827Z"
   },
   {
    "duration": 10,
    "start_time": "2021-07-31T19:52:32.866Z"
   },
   {
    "duration": 14,
    "start_time": "2021-07-31T19:52:32.880Z"
   },
   {
    "duration": 9,
    "start_time": "2021-07-31T19:52:32.897Z"
   },
   {
    "duration": 15,
    "start_time": "2021-07-31T19:52:32.909Z"
   },
   {
    "duration": 49,
    "start_time": "2021-07-31T19:52:32.927Z"
   },
   {
    "duration": 17,
    "start_time": "2021-07-31T19:52:32.979Z"
   },
   {
    "duration": 17,
    "start_time": "2021-07-31T19:52:32.999Z"
   },
   {
    "duration": 44,
    "start_time": "2021-07-31T19:52:33.018Z"
   },
   {
    "duration": 17,
    "start_time": "2021-07-31T19:52:33.065Z"
   },
   {
    "duration": 21,
    "start_time": "2021-07-31T19:52:33.088Z"
   },
   {
    "duration": 18,
    "start_time": "2021-07-31T19:52:33.112Z"
   },
   {
    "duration": 29,
    "start_time": "2021-07-31T19:52:33.133Z"
   },
   {
    "duration": 19,
    "start_time": "2021-07-31T19:52:33.164Z"
   },
   {
    "duration": 24,
    "start_time": "2021-07-31T19:52:33.185Z"
   },
   {
    "duration": 17,
    "start_time": "2021-07-31T19:52:33.211Z"
   },
   {
    "duration": 18,
    "start_time": "2021-07-31T19:52:33.231Z"
   },
   {
    "duration": 17,
    "start_time": "2021-07-31T19:52:33.252Z"
   },
   {
    "duration": 22,
    "start_time": "2021-07-31T19:52:33.271Z"
   },
   {
    "duration": 18,
    "start_time": "2021-07-31T19:52:33.295Z"
   },
   {
    "duration": 9,
    "start_time": "2021-07-31T19:52:33.315Z"
   },
   {
    "duration": 39,
    "start_time": "2021-07-31T19:52:33.326Z"
   },
   {
    "duration": 97,
    "start_time": "2021-07-31T19:52:33.368Z"
   },
   {
    "duration": 193,
    "start_time": "2021-07-31T19:52:33.469Z"
   },
   {
    "duration": 98,
    "start_time": "2021-07-31T19:52:33.665Z"
   },
   {
    "duration": 101,
    "start_time": "2021-07-31T19:52:33.767Z"
   },
   {
    "duration": 191,
    "start_time": "2021-07-31T19:52:33.872Z"
   },
   {
    "duration": 99,
    "start_time": "2021-07-31T19:52:34.066Z"
   },
   {
    "duration": 98,
    "start_time": "2021-07-31T19:52:34.168Z"
   },
   {
    "duration": 192,
    "start_time": "2021-07-31T19:52:34.270Z"
   },
   {
    "duration": 13,
    "start_time": "2021-07-31T19:52:34.466Z"
   },
   {
    "duration": 33,
    "start_time": "2021-07-31T19:52:34.483Z"
   },
   {
    "duration": 15,
    "start_time": "2021-07-31T19:52:34.520Z"
   },
   {
    "duration": 5,
    "start_time": "2021-07-31T19:52:34.563Z"
   },
   {
    "duration": 27,
    "start_time": "2021-07-31T19:52:34.571Z"
   },
   {
    "duration": 20,
    "start_time": "2021-07-31T19:52:34.602Z"
   },
   {
    "duration": 7,
    "start_time": "2021-07-31T19:52:34.664Z"
   },
   {
    "duration": 18,
    "start_time": "2021-07-31T19:52:34.675Z"
   },
   {
    "duration": 66,
    "start_time": "2021-07-31T19:52:34.696Z"
   },
   {
    "duration": 7,
    "start_time": "2021-07-31T19:52:34.765Z"
   },
   {
    "duration": 33,
    "start_time": "2021-07-31T19:52:34.775Z"
   },
   {
    "duration": 63,
    "start_time": "2021-07-31T19:52:34.811Z"
   },
   {
    "duration": 17,
    "start_time": "2021-07-31T19:52:34.877Z"
   },
   {
    "duration": 15,
    "start_time": "2021-07-31T19:52:34.896Z"
   },
   {
    "duration": 1770,
    "start_time": "2021-07-31T19:52:34.913Z"
   },
   {
    "duration": 1523,
    "start_time": "2021-07-31T19:52:36.685Z"
   },
   {
    "duration": 2281,
    "start_time": "2021-07-31T19:52:38.211Z"
   },
   {
    "duration": 1336,
    "start_time": "2021-07-31T19:59:22.350Z"
   },
   {
    "duration": 3,
    "start_time": "2021-07-31T19:59:23.689Z"
   },
   {
    "duration": 179,
    "start_time": "2021-07-31T19:59:23.699Z"
   },
   {
    "duration": 23,
    "start_time": "2021-07-31T19:59:23.881Z"
   },
   {
    "duration": 175,
    "start_time": "2021-07-31T19:59:23.906Z"
   },
   {
    "duration": 13,
    "start_time": "2021-07-31T19:59:24.083Z"
   },
   {
    "duration": 175,
    "start_time": "2021-07-31T19:59:24.098Z"
   },
   {
    "duration": 17,
    "start_time": "2021-07-31T19:59:24.277Z"
   },
   {
    "duration": 30,
    "start_time": "2021-07-31T19:59:24.298Z"
   },
   {
    "duration": 36,
    "start_time": "2021-07-31T19:59:24.331Z"
   },
   {
    "duration": 21,
    "start_time": "2021-07-31T19:59:24.370Z"
   },
   {
    "duration": 11,
    "start_time": "2021-07-31T19:59:24.394Z"
   },
   {
    "duration": 22,
    "start_time": "2021-07-31T19:59:24.408Z"
   },
   {
    "duration": 39,
    "start_time": "2021-07-31T19:59:24.432Z"
   },
   {
    "duration": 28,
    "start_time": "2021-07-31T19:59:24.474Z"
   },
   {
    "duration": 11,
    "start_time": "2021-07-31T19:59:24.505Z"
   },
   {
    "duration": 19,
    "start_time": "2021-07-31T19:59:24.519Z"
   },
   {
    "duration": 21,
    "start_time": "2021-07-31T19:59:24.561Z"
   },
   {
    "duration": 21,
    "start_time": "2021-07-31T19:59:24.585Z"
   },
   {
    "duration": 21,
    "start_time": "2021-07-31T19:59:24.609Z"
   },
   {
    "duration": 9,
    "start_time": "2021-07-31T19:59:24.662Z"
   },
   {
    "duration": 20,
    "start_time": "2021-07-31T19:59:24.674Z"
   },
   {
    "duration": 14,
    "start_time": "2021-07-31T19:59:24.698Z"
   },
   {
    "duration": 8,
    "start_time": "2021-07-31T19:59:24.715Z"
   },
   {
    "duration": 14,
    "start_time": "2021-07-31T19:59:24.726Z"
   },
   {
    "duration": 13,
    "start_time": "2021-07-31T19:59:24.748Z"
   },
   {
    "duration": 6,
    "start_time": "2021-07-31T19:59:24.766Z"
   },
   {
    "duration": 7,
    "start_time": "2021-07-31T19:59:24.775Z"
   },
   {
    "duration": 15,
    "start_time": "2021-07-31T19:59:24.785Z"
   },
   {
    "duration": 9,
    "start_time": "2021-07-31T19:59:24.803Z"
   },
   {
    "duration": 8,
    "start_time": "2021-07-31T19:59:24.815Z"
   },
   {
    "duration": 6,
    "start_time": "2021-07-31T19:59:24.826Z"
   },
   {
    "duration": 33,
    "start_time": "2021-07-31T19:59:24.835Z"
   },
   {
    "duration": 92,
    "start_time": "2021-07-31T19:59:24.871Z"
   },
   {
    "duration": 99,
    "start_time": "2021-07-31T19:59:24.966Z"
   },
   {
    "duration": 105,
    "start_time": "2021-07-31T19:59:25.068Z"
   },
   {
    "duration": 95,
    "start_time": "2021-07-31T19:59:25.176Z"
   },
   {
    "duration": 96,
    "start_time": "2021-07-31T19:59:25.274Z"
   },
   {
    "duration": 105,
    "start_time": "2021-07-31T19:59:25.464Z"
   },
   {
    "duration": 93,
    "start_time": "2021-07-31T19:59:25.571Z"
   },
   {
    "duration": 99,
    "start_time": "2021-07-31T19:59:25.667Z"
   },
   {
    "duration": 193,
    "start_time": "2021-07-31T19:59:25.769Z"
   },
   {
    "duration": 3,
    "start_time": "2021-07-31T19:59:25.964Z"
   },
   {
    "duration": 7,
    "start_time": "2021-07-31T19:59:25.970Z"
   },
   {
    "duration": 7,
    "start_time": "2021-07-31T19:59:25.979Z"
   },
   {
    "duration": 6,
    "start_time": "2021-07-31T19:59:25.989Z"
   },
   {
    "duration": 8,
    "start_time": "2021-07-31T19:59:25.998Z"
   },
   {
    "duration": 16,
    "start_time": "2021-07-31T19:59:26.008Z"
   },
   {
    "duration": 44,
    "start_time": "2021-07-31T19:59:26.026Z"
   },
   {
    "duration": 7,
    "start_time": "2021-07-31T19:59:26.073Z"
   },
   {
    "duration": 7,
    "start_time": "2021-07-31T19:59:26.082Z"
   },
   {
    "duration": 6,
    "start_time": "2021-07-31T19:59:26.092Z"
   },
   {
    "duration": 19,
    "start_time": "2021-07-31T19:59:26.101Z"
   },
   {
    "duration": 51,
    "start_time": "2021-07-31T19:59:26.123Z"
   },
   {
    "duration": 14,
    "start_time": "2021-07-31T19:59:26.178Z"
   },
   {
    "duration": 9,
    "start_time": "2021-07-31T19:59:26.196Z"
   },
   {
    "duration": 1954,
    "start_time": "2021-07-31T19:59:26.208Z"
   },
   {
    "duration": 1515,
    "start_time": "2021-07-31T19:59:28.165Z"
   },
   {
    "duration": 1531,
    "start_time": "2021-07-31T19:59:29.682Z"
   },
   {
    "duration": 4,
    "start_time": "2021-08-01T06:28:10.783Z"
   },
   {
    "duration": 4,
    "start_time": "2021-08-01T06:28:10.960Z"
   },
   {
    "duration": 4,
    "start_time": "2021-08-01T06:28:11.134Z"
   },
   {
    "duration": 3,
    "start_time": "2021-08-01T06:28:11.318Z"
   },
   {
    "duration": 4,
    "start_time": "2021-08-01T06:28:12.342Z"
   },
   {
    "duration": 535,
    "start_time": "2021-08-01T06:28:12.935Z"
   },
   {
    "duration": 4,
    "start_time": "2021-08-01T06:28:21.859Z"
   },
   {
    "duration": 5,
    "start_time": "2021-08-01T06:33:22.111Z"
   },
   {
    "duration": 425,
    "start_time": "2021-08-01T06:33:25.222Z"
   },
   {
    "duration": 1389,
    "start_time": "2021-08-01T06:33:33.060Z"
   },
   {
    "duration": 5,
    "start_time": "2021-08-01T06:33:34.451Z"
   },
   {
    "duration": 157,
    "start_time": "2021-08-01T06:33:34.459Z"
   },
   {
    "duration": 21,
    "start_time": "2021-08-01T06:33:34.619Z"
   },
   {
    "duration": 154,
    "start_time": "2021-08-01T06:33:34.642Z"
   },
   {
    "duration": 12,
    "start_time": "2021-08-01T06:33:34.798Z"
   },
   {
    "duration": 153,
    "start_time": "2021-08-01T06:33:34.812Z"
   },
   {
    "duration": 11,
    "start_time": "2021-08-01T06:33:34.967Z"
   },
   {
    "duration": 16,
    "start_time": "2021-08-01T06:33:34.982Z"
   },
   {
    "duration": 17,
    "start_time": "2021-08-01T06:33:35.001Z"
   },
   {
    "duration": 44,
    "start_time": "2021-08-01T06:33:35.020Z"
   },
   {
    "duration": 7,
    "start_time": "2021-08-01T06:33:35.067Z"
   },
   {
    "duration": 16,
    "start_time": "2021-08-01T06:33:35.077Z"
   },
   {
    "duration": 11,
    "start_time": "2021-08-01T06:33:35.095Z"
   },
   {
    "duration": 18,
    "start_time": "2021-08-01T06:33:35.109Z"
   },
   {
    "duration": 29,
    "start_time": "2021-08-01T06:33:35.130Z"
   },
   {
    "duration": 14,
    "start_time": "2021-08-01T06:33:35.162Z"
   },
   {
    "duration": 19,
    "start_time": "2021-08-01T06:33:35.178Z"
   },
   {
    "duration": 13,
    "start_time": "2021-08-01T06:33:35.200Z"
   },
   {
    "duration": 40,
    "start_time": "2021-08-01T06:33:35.216Z"
   },
   {
    "duration": 6,
    "start_time": "2021-08-01T06:33:35.258Z"
   },
   {
    "duration": 27,
    "start_time": "2021-08-01T06:33:35.267Z"
   },
   {
    "duration": 16,
    "start_time": "2021-08-01T06:33:35.296Z"
   },
   {
    "duration": 13,
    "start_time": "2021-08-01T06:33:35.314Z"
   },
   {
    "duration": 12,
    "start_time": "2021-08-01T06:33:35.330Z"
   },
   {
    "duration": 10,
    "start_time": "2021-08-01T06:33:35.345Z"
   },
   {
    "duration": 18,
    "start_time": "2021-08-01T06:33:35.361Z"
   },
   {
    "duration": 12,
    "start_time": "2021-08-01T06:33:35.382Z"
   },
   {
    "duration": 11,
    "start_time": "2021-08-01T06:33:35.397Z"
   },
   {
    "duration": 10,
    "start_time": "2021-08-01T06:33:35.410Z"
   },
   {
    "duration": 8,
    "start_time": "2021-08-01T06:33:35.422Z"
   },
   {
    "duration": 10,
    "start_time": "2021-08-01T06:33:35.432Z"
   },
   {
    "duration": 17,
    "start_time": "2021-08-01T06:33:35.444Z"
   },
   {
    "duration": 94,
    "start_time": "2021-08-01T06:33:35.463Z"
   },
   {
    "duration": 98,
    "start_time": "2021-08-01T06:33:35.561Z"
   },
   {
    "duration": 111,
    "start_time": "2021-08-01T06:33:35.662Z"
   },
   {
    "duration": 182,
    "start_time": "2021-08-01T06:33:35.775Z"
   },
   {
    "duration": 7,
    "start_time": "2021-08-01T06:33:35.959Z"
   },
   {
    "duration": 191,
    "start_time": "2021-08-01T06:33:35.969Z"
   },
   {
    "duration": 95,
    "start_time": "2021-08-01T06:33:36.162Z"
   },
   {
    "duration": 196,
    "start_time": "2021-08-01T06:33:36.261Z"
   },
   {
    "duration": 14,
    "start_time": "2021-08-01T06:33:36.460Z"
   },
   {
    "duration": 11,
    "start_time": "2021-08-01T06:33:36.476Z"
   },
   {
    "duration": 15,
    "start_time": "2021-08-01T06:33:36.489Z"
   },
   {
    "duration": 3,
    "start_time": "2021-08-01T06:33:36.555Z"
   },
   {
    "duration": 6,
    "start_time": "2021-08-01T06:33:36.561Z"
   },
   {
    "duration": 12,
    "start_time": "2021-08-01T06:33:36.569Z"
   },
   {
    "duration": 12,
    "start_time": "2021-08-01T06:33:36.584Z"
   },
   {
    "duration": 12,
    "start_time": "2021-08-01T06:33:36.598Z"
   },
   {
    "duration": 5,
    "start_time": "2021-08-01T06:33:36.612Z"
   },
   {
    "duration": 37,
    "start_time": "2021-08-01T06:33:36.619Z"
   },
   {
    "duration": 5,
    "start_time": "2021-08-01T06:33:36.658Z"
   },
   {
    "duration": 949,
    "start_time": "2021-08-01T06:33:36.666Z"
   },
   {
    "duration": 6,
    "start_time": "2021-08-01T06:33:43.261Z"
   },
   {
    "duration": 13,
    "start_time": "2021-08-01T06:33:44.109Z"
   },
   {
    "duration": 6,
    "start_time": "2021-08-01T06:34:18.269Z"
   },
   {
    "duration": 12,
    "start_time": "2021-08-01T06:34:19.197Z"
   },
   {
    "duration": 14,
    "start_time": "2021-08-01T06:34:20.469Z"
   },
   {
    "duration": 13,
    "start_time": "2021-08-01T06:34:21.493Z"
   },
   {
    "duration": 7,
    "start_time": "2021-08-01T06:34:25.101Z"
   },
   {
    "duration": 2910,
    "start_time": "2021-08-01T06:34:30.253Z"
   },
   {
    "duration": 2774,
    "start_time": "2021-08-01T06:34:35.973Z"
   },
   {
    "duration": 2886,
    "start_time": "2021-08-01T06:34:42.037Z"
   },
   {
    "duration": 1499,
    "start_time": "2021-08-01T06:35:20.451Z"
   },
   {
    "duration": 5,
    "start_time": "2021-08-01T06:35:48.615Z"
   },
   {
    "duration": 16,
    "start_time": "2021-08-01T06:35:49.645Z"
   },
   {
    "duration": 5,
    "start_time": "2021-08-01T06:36:08.965Z"
   },
   {
    "duration": 14,
    "start_time": "2021-08-01T06:36:09.772Z"
   },
   {
    "duration": 1409,
    "start_time": "2021-08-01T06:39:30.224Z"
   },
   {
    "duration": 5,
    "start_time": "2021-08-01T06:39:31.635Z"
   },
   {
    "duration": 159,
    "start_time": "2021-08-01T06:39:31.644Z"
   },
   {
    "duration": 21,
    "start_time": "2021-08-01T06:39:31.806Z"
   },
   {
    "duration": 148,
    "start_time": "2021-08-01T06:39:31.829Z"
   },
   {
    "duration": 12,
    "start_time": "2021-08-01T06:39:31.979Z"
   },
   {
    "duration": 156,
    "start_time": "2021-08-01T06:39:31.993Z"
   },
   {
    "duration": 13,
    "start_time": "2021-08-01T06:39:32.156Z"
   },
   {
    "duration": 49,
    "start_time": "2021-08-01T06:39:32.173Z"
   },
   {
    "duration": 14,
    "start_time": "2021-08-01T06:39:32.224Z"
   },
   {
    "duration": 18,
    "start_time": "2021-08-01T06:39:32.240Z"
   },
   {
    "duration": 12,
    "start_time": "2021-08-01T06:39:32.261Z"
   },
   {
    "duration": 14,
    "start_time": "2021-08-01T06:39:32.275Z"
   },
   {
    "duration": 15,
    "start_time": "2021-08-01T06:39:32.292Z"
   },
   {
    "duration": 20,
    "start_time": "2021-08-01T06:39:32.309Z"
   },
   {
    "duration": 29,
    "start_time": "2021-08-01T06:39:32.331Z"
   },
   {
    "duration": 15,
    "start_time": "2021-08-01T06:39:32.362Z"
   },
   {
    "duration": 17,
    "start_time": "2021-08-01T06:39:32.379Z"
   },
   {
    "duration": 14,
    "start_time": "2021-08-01T06:39:32.398Z"
   },
   {
    "duration": 43,
    "start_time": "2021-08-01T06:39:32.414Z"
   },
   {
    "duration": 6,
    "start_time": "2021-08-01T06:39:32.459Z"
   },
   {
    "duration": 7,
    "start_time": "2021-08-01T06:39:32.467Z"
   },
   {
    "duration": 9,
    "start_time": "2021-08-01T06:39:32.480Z"
   },
   {
    "duration": 5,
    "start_time": "2021-08-01T06:39:32.493Z"
   },
   {
    "duration": 13,
    "start_time": "2021-08-01T06:39:32.500Z"
   },
   {
    "duration": 9,
    "start_time": "2021-08-01T06:39:32.515Z"
   },
   {
    "duration": 32,
    "start_time": "2021-08-01T06:39:32.526Z"
   },
   {
    "duration": 9,
    "start_time": "2021-08-01T06:39:32.561Z"
   },
   {
    "duration": 11,
    "start_time": "2021-08-01T06:39:32.572Z"
   },
   {
    "duration": 10,
    "start_time": "2021-08-01T06:39:32.585Z"
   },
   {
    "duration": 8,
    "start_time": "2021-08-01T06:39:32.598Z"
   },
   {
    "duration": 9,
    "start_time": "2021-08-01T06:39:32.608Z"
   },
   {
    "duration": 37,
    "start_time": "2021-08-01T06:39:32.619Z"
   },
   {
    "duration": 101,
    "start_time": "2021-08-01T06:39:32.658Z"
   },
   {
    "duration": 194,
    "start_time": "2021-08-01T06:39:32.762Z"
   },
   {
    "duration": 12,
    "start_time": "2021-08-01T06:39:32.959Z"
   },
   {
    "duration": 84,
    "start_time": "2021-08-01T06:39:32.973Z"
   },
   {
    "duration": 98,
    "start_time": "2021-08-01T06:39:33.060Z"
   },
   {
    "duration": 200,
    "start_time": "2021-08-01T06:39:33.162Z"
   },
   {
    "duration": 99,
    "start_time": "2021-08-01T06:39:33.365Z"
   },
   {
    "duration": 7,
    "start_time": "2021-08-01T06:39:33.557Z"
   },
   {
    "duration": 103,
    "start_time": "2021-08-01T06:39:33.567Z"
   },
   {
    "duration": 4,
    "start_time": "2021-08-01T06:39:33.757Z"
   },
   {
    "duration": 16,
    "start_time": "2021-08-01T06:39:33.763Z"
   },
   {
    "duration": 9,
    "start_time": "2021-08-01T06:39:33.781Z"
   },
   {
    "duration": 10,
    "start_time": "2021-08-01T06:39:33.793Z"
   },
   {
    "duration": 12,
    "start_time": "2021-08-01T06:39:33.805Z"
   },
   {
    "duration": 11,
    "start_time": "2021-08-01T06:39:33.819Z"
   },
   {
    "duration": 8,
    "start_time": "2021-08-01T06:39:33.832Z"
   },
   {
    "duration": 6,
    "start_time": "2021-08-01T06:39:33.857Z"
   },
   {
    "duration": 12,
    "start_time": "2021-08-01T06:39:33.865Z"
   },
   {
    "duration": 7,
    "start_time": "2021-08-01T06:39:33.880Z"
   },
   {
    "duration": 26,
    "start_time": "2021-08-01T06:39:33.889Z"
   },
   {
    "duration": 40,
    "start_time": "2021-08-01T06:39:33.917Z"
   },
   {
    "duration": 13,
    "start_time": "2021-08-01T06:39:33.959Z"
   },
   {
    "duration": 6,
    "start_time": "2021-08-01T06:39:33.975Z"
   },
   {
    "duration": 3220,
    "start_time": "2021-08-01T06:39:33.983Z"
   },
   {
    "duration": 2789,
    "start_time": "2021-08-01T06:39:37.206Z"
   },
   {
    "duration": 2710,
    "start_time": "2021-08-01T06:39:39.998Z"
   },
   {
    "duration": 4,
    "start_time": "2021-08-01T06:49:58.575Z"
   },
   {
    "duration": 5,
    "start_time": "2021-08-01T06:50:14.349Z"
   },
   {
    "duration": 13,
    "start_time": "2021-08-01T06:50:15.537Z"
   },
   {
    "duration": 12,
    "start_time": "2021-08-01T06:50:17.211Z"
   },
   {
    "duration": 12,
    "start_time": "2021-08-01T06:50:18.034Z"
   },
   {
    "duration": 7,
    "start_time": "2021-08-01T06:50:23.739Z"
   },
   {
    "duration": 7,
    "start_time": "2021-08-01T06:50:31.821Z"
   },
   {
    "duration": 2704,
    "start_time": "2021-08-01T06:50:38.802Z"
   },
   {
    "duration": 2738,
    "start_time": "2021-08-01T06:50:50.764Z"
   },
   {
    "duration": 2674,
    "start_time": "2021-08-01T06:50:59.611Z"
   },
   {
    "duration": 2622,
    "start_time": "2021-08-01T06:53:41.387Z"
   },
   {
    "duration": 2718,
    "start_time": "2021-08-01T06:54:08.226Z"
   },
   {
    "duration": 5,
    "start_time": "2021-08-01T06:54:16.241Z"
   },
   {
    "duration": 2642,
    "start_time": "2021-08-01T06:54:45.121Z"
   },
   {
    "duration": 2713,
    "start_time": "2021-08-01T06:55:03.745Z"
   },
   {
    "duration": 4,
    "start_time": "2021-08-01T06:55:42.550Z"
   },
   {
    "duration": 471,
    "start_time": "2021-08-01T06:56:29.357Z"
   },
   {
    "duration": 4,
    "start_time": "2021-08-01T06:56:36.273Z"
   },
   {
    "duration": 378,
    "start_time": "2021-08-01T06:57:01.969Z"
   },
   {
    "duration": 372,
    "start_time": "2021-08-01T06:57:07.058Z"
   },
   {
    "duration": 5,
    "start_time": "2021-08-01T06:57:14.329Z"
   },
   {
    "duration": 5,
    "start_time": "2021-08-01T06:57:21.344Z"
   },
   {
    "duration": 377,
    "start_time": "2021-08-01T06:57:34.832Z"
   },
   {
    "duration": 5,
    "start_time": "2021-08-01T06:57:37.736Z"
   },
   {
    "duration": 6,
    "start_time": "2021-08-01T06:57:52.833Z"
   },
   {
    "duration": 8,
    "start_time": "2021-08-01T06:58:07.624Z"
   },
   {
    "duration": 349,
    "start_time": "2021-08-01T06:58:18.693Z"
   },
   {
    "duration": 10,
    "start_time": "2021-08-01T06:58:22.472Z"
   },
   {
    "duration": 5,
    "start_time": "2021-08-01T06:59:20.544Z"
   },
   {
    "duration": 7,
    "start_time": "2021-08-01T06:59:26.312Z"
   },
   {
    "duration": 9113,
    "start_time": "2021-08-01T06:59:54.096Z"
   },
   {
    "duration": 376,
    "start_time": "2021-08-01T07:00:08.664Z"
   },
   {
    "duration": 5,
    "start_time": "2021-08-01T07:01:09.072Z"
   },
   {
    "duration": 4,
    "start_time": "2021-08-01T07:04:39.864Z"
   },
   {
    "duration": 5,
    "start_time": "2021-08-01T07:04:45.742Z"
   },
   {
    "duration": 4,
    "start_time": "2021-08-01T07:05:02.151Z"
   },
   {
    "duration": 9,
    "start_time": "2021-08-01T07:05:10.271Z"
   },
   {
    "duration": 4,
    "start_time": "2021-08-01T07:05:29.582Z"
   },
   {
    "duration": 5,
    "start_time": "2021-08-01T07:05:30.926Z"
   },
   {
    "duration": 9,
    "start_time": "2021-08-01T07:05:31.109Z"
   },
   {
    "duration": 4,
    "start_time": "2021-08-01T07:06:00.854Z"
   },
   {
    "duration": 5,
    "start_time": "2021-08-01T07:06:01.592Z"
   },
   {
    "duration": 9,
    "start_time": "2021-08-01T07:06:01.752Z"
   },
   {
    "duration": 4,
    "start_time": "2021-08-01T07:06:09.135Z"
   },
   {
    "duration": 5,
    "start_time": "2021-08-01T07:06:09.301Z"
   },
   {
    "duration": 9,
    "start_time": "2021-08-01T07:06:09.758Z"
   },
   {
    "duration": 4,
    "start_time": "2021-08-01T07:06:16.814Z"
   },
   {
    "duration": 4,
    "start_time": "2021-08-01T07:06:16.884Z"
   },
   {
    "duration": 10,
    "start_time": "2021-08-01T07:06:17.077Z"
   },
   {
    "duration": 5,
    "start_time": "2021-08-01T07:07:47.427Z"
   },
   {
    "duration": 6,
    "start_time": "2021-08-01T07:07:47.661Z"
   },
   {
    "duration": 10,
    "start_time": "2021-08-01T07:07:48.006Z"
   },
   {
    "duration": 4,
    "start_time": "2021-08-01T07:41:10.964Z"
   },
   {
    "duration": 6,
    "start_time": "2021-08-01T07:41:11.157Z"
   },
   {
    "duration": 12,
    "start_time": "2021-08-01T07:41:11.438Z"
   },
   {
    "duration": 5,
    "start_time": "2021-08-01T07:41:33.614Z"
   },
   {
    "duration": 5,
    "start_time": "2021-08-01T07:41:34.190Z"
   },
   {
    "duration": 12,
    "start_time": "2021-08-01T07:41:34.349Z"
   },
   {
    "duration": 5,
    "start_time": "2021-08-01T07:42:29.438Z"
   },
   {
    "duration": 5,
    "start_time": "2021-08-01T07:42:29.845Z"
   },
   {
    "duration": 11,
    "start_time": "2021-08-01T07:42:30.165Z"
   },
   {
    "duration": 4,
    "start_time": "2021-08-01T07:42:38.758Z"
   },
   {
    "duration": 5,
    "start_time": "2021-08-01T07:42:39.053Z"
   },
   {
    "duration": 11,
    "start_time": "2021-08-01T07:42:39.382Z"
   },
   {
    "duration": 4,
    "start_time": "2021-08-01T07:43:23.118Z"
   },
   {
    "duration": 6,
    "start_time": "2021-08-01T07:43:23.565Z"
   },
   {
    "duration": 11,
    "start_time": "2021-08-01T07:43:23.782Z"
   },
   {
    "duration": 4,
    "start_time": "2021-08-01T07:43:51.902Z"
   },
   {
    "duration": 5,
    "start_time": "2021-08-01T07:43:52.286Z"
   },
   {
    "duration": 11,
    "start_time": "2021-08-01T07:43:52.685Z"
   },
   {
    "duration": 4,
    "start_time": "2021-08-01T07:44:28.495Z"
   },
   {
    "duration": 5,
    "start_time": "2021-08-01T07:44:28.877Z"
   },
   {
    "duration": 25,
    "start_time": "2021-08-01T07:44:29.278Z"
   },
   {
    "duration": 5,
    "start_time": "2021-08-01T07:45:14.942Z"
   },
   {
    "duration": 5,
    "start_time": "2021-08-01T07:45:15.287Z"
   },
   {
    "duration": 11,
    "start_time": "2021-08-01T07:45:16.013Z"
   },
   {
    "duration": 371,
    "start_time": "2021-08-01T07:45:48.525Z"
   },
   {
    "duration": 897,
    "start_time": "2021-08-01T07:45:48.001Z"
   },
   {
    "duration": 5,
    "start_time": "2021-08-01T07:46:14.381Z"
   },
   {
    "duration": 5,
    "start_time": "2021-08-01T07:46:14.542Z"
   },
   {
    "duration": 11,
    "start_time": "2021-08-01T07:46:14.965Z"
   },
   {
    "duration": 5,
    "start_time": "2021-08-01T07:46:42.950Z"
   },
   {
    "duration": 5,
    "start_time": "2021-08-01T07:46:43.108Z"
   },
   {
    "duration": 11,
    "start_time": "2021-08-01T07:46:43.469Z"
   },
   {
    "duration": 5,
    "start_time": "2021-08-01T07:47:26.845Z"
   },
   {
    "duration": 4,
    "start_time": "2021-08-01T07:47:27.261Z"
   },
   {
    "duration": 11,
    "start_time": "2021-08-01T07:47:27.629Z"
   },
   {
    "duration": 5,
    "start_time": "2021-08-01T07:47:37.453Z"
   },
   {
    "duration": 5,
    "start_time": "2021-08-01T07:47:37.652Z"
   },
   {
    "duration": 12,
    "start_time": "2021-08-01T07:47:37.972Z"
   },
   {
    "duration": 6,
    "start_time": "2021-08-01T07:47:50.116Z"
   },
   {
    "duration": 5,
    "start_time": "2021-08-01T07:47:50.252Z"
   },
   {
    "duration": 11,
    "start_time": "2021-08-01T07:47:50.581Z"
   },
   {
    "duration": 5,
    "start_time": "2021-08-01T07:48:40.323Z"
   },
   {
    "duration": 5,
    "start_time": "2021-08-01T07:48:40.700Z"
   },
   {
    "duration": 10,
    "start_time": "2021-08-01T07:48:41.068Z"
   },
   {
    "duration": 4,
    "start_time": "2021-08-01T07:49:59.925Z"
   },
   {
    "duration": 388,
    "start_time": "2021-08-01T07:50:00.147Z"
   },
   {
    "duration": 10,
    "start_time": "2021-08-01T07:50:00.575Z"
   },
   {
    "duration": 5,
    "start_time": "2021-08-01T07:50:19.172Z"
   },
   {
    "duration": 6,
    "start_time": "2021-08-01T07:50:19.371Z"
   },
   {
    "duration": 12,
    "start_time": "2021-08-01T07:50:21.500Z"
   },
   {
    "duration": 5,
    "start_time": "2021-08-01T07:50:33.373Z"
   },
   {
    "duration": 11,
    "start_time": "2021-08-01T07:50:33.380Z"
   },
   {
    "duration": 13,
    "start_time": "2021-08-01T07:50:33.394Z"
   },
   {
    "duration": 6,
    "start_time": "2021-08-01T07:50:44.452Z"
   },
   {
    "duration": 4,
    "start_time": "2021-08-01T07:50:44.627Z"
   },
   {
    "duration": 12,
    "start_time": "2021-08-01T07:50:45.012Z"
   },
   {
    "duration": 5,
    "start_time": "2021-08-01T07:51:40.900Z"
   },
   {
    "duration": 3,
    "start_time": "2021-08-01T07:52:21.691Z"
   },
   {
    "duration": 21,
    "start_time": "2021-08-01T07:52:30.844Z"
   },
   {
    "duration": 2707,
    "start_time": "2021-08-01T07:54:33.575Z"
   },
   {
    "duration": 2786,
    "start_time": "2021-08-01T07:55:01.795Z"
   },
   {
    "duration": 1333,
    "start_time": "2021-08-01T07:56:46.031Z"
   },
   {
    "duration": 4,
    "start_time": "2021-08-01T07:56:47.367Z"
   },
   {
    "duration": 161,
    "start_time": "2021-08-01T07:56:47.375Z"
   },
   {
    "duration": 25,
    "start_time": "2021-08-01T07:56:47.539Z"
   },
   {
    "duration": 148,
    "start_time": "2021-08-01T07:56:47.567Z"
   },
   {
    "duration": 11,
    "start_time": "2021-08-01T07:56:47.717Z"
   },
   {
    "duration": 150,
    "start_time": "2021-08-01T07:56:47.731Z"
   },
   {
    "duration": 11,
    "start_time": "2021-08-01T07:56:47.885Z"
   },
   {
    "duration": 24,
    "start_time": "2021-08-01T07:56:47.899Z"
   },
   {
    "duration": 14,
    "start_time": "2021-08-01T07:56:47.925Z"
   },
   {
    "duration": 26,
    "start_time": "2021-08-01T07:56:47.941Z"
   },
   {
    "duration": 10,
    "start_time": "2021-08-01T07:56:47.969Z"
   },
   {
    "duration": 24,
    "start_time": "2021-08-01T07:56:47.981Z"
   },
   {
    "duration": 15,
    "start_time": "2021-08-01T07:56:48.008Z"
   },
   {
    "duration": 29,
    "start_time": "2021-08-01T07:56:48.025Z"
   },
   {
    "duration": 7,
    "start_time": "2021-08-01T07:56:48.157Z"
   },
   {
    "duration": 17,
    "start_time": "2021-08-01T07:56:48.167Z"
   },
   {
    "duration": 22,
    "start_time": "2021-08-01T07:56:48.186Z"
   },
   {
    "duration": 13,
    "start_time": "2021-08-01T07:56:48.210Z"
   },
   {
    "duration": 38,
    "start_time": "2021-08-01T07:56:48.226Z"
   },
   {
    "duration": 9,
    "start_time": "2021-08-01T07:56:48.266Z"
   },
   {
    "duration": 8,
    "start_time": "2021-08-01T07:56:48.277Z"
   },
   {
    "duration": 13,
    "start_time": "2021-08-01T07:56:48.291Z"
   },
   {
    "duration": 7,
    "start_time": "2021-08-01T07:56:48.307Z"
   },
   {
    "duration": 12,
    "start_time": "2021-08-01T07:56:48.317Z"
   },
   {
    "duration": 24,
    "start_time": "2021-08-01T07:56:48.331Z"
   },
   {
    "duration": 11,
    "start_time": "2021-08-01T07:56:48.357Z"
   },
   {
    "duration": 14,
    "start_time": "2021-08-01T07:56:48.370Z"
   },
   {
    "duration": 20,
    "start_time": "2021-08-01T07:56:48.386Z"
   },
   {
    "duration": 10,
    "start_time": "2021-08-01T07:56:48.409Z"
   },
   {
    "duration": 16,
    "start_time": "2021-08-01T07:56:48.421Z"
   },
   {
    "duration": 15,
    "start_time": "2021-08-01T07:56:48.439Z"
   },
   {
    "duration": 14,
    "start_time": "2021-08-01T07:56:48.456Z"
   },
   {
    "duration": 84,
    "start_time": "2021-08-01T07:56:48.472Z"
   },
   {
    "duration": 97,
    "start_time": "2021-08-01T07:56:48.559Z"
   },
   {
    "duration": 106,
    "start_time": "2021-08-01T07:56:48.660Z"
   },
   {
    "duration": 88,
    "start_time": "2021-08-01T07:56:48.768Z"
   },
   {
    "duration": 196,
    "start_time": "2021-08-01T07:56:48.860Z"
   },
   {
    "duration": 13,
    "start_time": "2021-08-01T07:56:49.059Z"
   },
   {
    "duration": 187,
    "start_time": "2021-08-01T07:56:49.075Z"
   },
   {
    "duration": 95,
    "start_time": "2021-08-01T07:56:49.265Z"
   },
   {
    "duration": 196,
    "start_time": "2021-08-01T07:56:49.364Z"
   },
   {
    "duration": 3,
    "start_time": "2021-08-01T07:56:49.562Z"
   },
   {
    "duration": 13,
    "start_time": "2021-08-01T07:56:49.567Z"
   },
   {
    "duration": 6,
    "start_time": "2021-08-01T07:56:49.583Z"
   },
   {
    "duration": 6,
    "start_time": "2021-08-01T07:56:49.592Z"
   },
   {
    "duration": 56,
    "start_time": "2021-08-01T07:56:49.600Z"
   },
   {
    "duration": 16,
    "start_time": "2021-08-01T07:56:49.659Z"
   },
   {
    "duration": 14,
    "start_time": "2021-08-01T07:56:49.677Z"
   },
   {
    "duration": 27,
    "start_time": "2021-08-01T07:56:49.693Z"
   },
   {
    "duration": 41,
    "start_time": "2021-08-01T07:56:49.722Z"
   },
   {
    "duration": 9,
    "start_time": "2021-08-01T07:56:49.765Z"
   },
   {
    "duration": 31,
    "start_time": "2021-08-01T07:56:49.777Z"
   },
   {
    "duration": 54,
    "start_time": "2021-08-01T07:56:49.811Z"
   },
   {
    "duration": 11,
    "start_time": "2021-08-01T07:56:49.868Z"
   },
   {
    "duration": 8,
    "start_time": "2021-08-01T07:56:49.881Z"
   },
   {
    "duration": 2938,
    "start_time": "2021-08-01T07:56:49.891Z"
   },
   {
    "duration": 2806,
    "start_time": "2021-08-01T07:56:52.832Z"
   },
   {
    "duration": 2700,
    "start_time": "2021-08-01T07:56:55.640Z"
   },
   {
    "duration": 5,
    "start_time": "2021-08-01T07:56:58.342Z"
   },
   {
    "duration": 5,
    "start_time": "2021-08-01T07:56:58.356Z"
   },
   {
    "duration": 20,
    "start_time": "2021-08-01T07:56:58.364Z"
   },
   {
    "duration": 1413,
    "start_time": "2021-08-01T07:57:17.140Z"
   },
   {
    "duration": 4,
    "start_time": "2021-08-01T07:57:18.556Z"
   },
   {
    "duration": 157,
    "start_time": "2021-08-01T07:57:18.563Z"
   },
   {
    "duration": 21,
    "start_time": "2021-08-01T07:57:18.722Z"
   },
   {
    "duration": 152,
    "start_time": "2021-08-01T07:57:18.745Z"
   },
   {
    "duration": 12,
    "start_time": "2021-08-01T07:57:18.899Z"
   },
   {
    "duration": 148,
    "start_time": "2021-08-01T07:57:18.913Z"
   },
   {
    "duration": 11,
    "start_time": "2021-08-01T07:57:19.063Z"
   },
   {
    "duration": 20,
    "start_time": "2021-08-01T07:57:19.078Z"
   },
   {
    "duration": 12,
    "start_time": "2021-08-01T07:57:19.101Z"
   },
   {
    "duration": 44,
    "start_time": "2021-08-01T07:57:19.116Z"
   },
   {
    "duration": 6,
    "start_time": "2021-08-01T07:57:19.163Z"
   },
   {
    "duration": 13,
    "start_time": "2021-08-01T07:57:19.172Z"
   },
   {
    "duration": 13,
    "start_time": "2021-08-01T07:57:19.187Z"
   },
   {
    "duration": 15,
    "start_time": "2021-08-01T07:57:19.202Z"
   },
   {
    "duration": 37,
    "start_time": "2021-08-01T07:57:19.219Z"
   },
   {
    "duration": 15,
    "start_time": "2021-08-01T07:57:19.258Z"
   },
   {
    "duration": 16,
    "start_time": "2021-08-01T07:57:19.275Z"
   },
   {
    "duration": 14,
    "start_time": "2021-08-01T07:57:19.293Z"
   },
   {
    "duration": 48,
    "start_time": "2021-08-01T07:57:19.309Z"
   },
   {
    "duration": 6,
    "start_time": "2021-08-01T07:57:19.359Z"
   },
   {
    "duration": 14,
    "start_time": "2021-08-01T07:57:19.367Z"
   },
   {
    "duration": 14,
    "start_time": "2021-08-01T07:57:19.383Z"
   },
   {
    "duration": 11,
    "start_time": "2021-08-01T07:57:19.399Z"
   },
   {
    "duration": 14,
    "start_time": "2021-08-01T07:57:19.412Z"
   },
   {
    "duration": 7,
    "start_time": "2021-08-01T07:57:19.428Z"
   },
   {
    "duration": 17,
    "start_time": "2021-08-01T07:57:19.441Z"
   },
   {
    "duration": 7,
    "start_time": "2021-08-01T07:57:19.461Z"
   },
   {
    "duration": 8,
    "start_time": "2021-08-01T07:57:19.470Z"
   },
   {
    "duration": 7,
    "start_time": "2021-08-01T07:57:19.480Z"
   },
   {
    "duration": 8,
    "start_time": "2021-08-01T07:57:19.489Z"
   },
   {
    "duration": 13,
    "start_time": "2021-08-01T07:57:19.499Z"
   },
   {
    "duration": 10,
    "start_time": "2021-08-01T07:57:19.515Z"
   },
   {
    "duration": 135,
    "start_time": "2021-08-01T07:57:19.527Z"
   },
   {
    "duration": 95,
    "start_time": "2021-08-01T07:57:19.665Z"
   },
   {
    "duration": 110,
    "start_time": "2021-08-01T07:57:19.764Z"
   },
   {
    "duration": 81,
    "start_time": "2021-08-01T07:57:19.877Z"
   },
   {
    "duration": 98,
    "start_time": "2021-08-01T07:57:19.961Z"
   },
   {
    "duration": 194,
    "start_time": "2021-08-01T07:57:20.063Z"
   },
   {
    "duration": 96,
    "start_time": "2021-08-01T07:57:20.260Z"
   },
   {
    "duration": 99,
    "start_time": "2021-08-01T07:57:20.360Z"
   },
   {
    "duration": 107,
    "start_time": "2021-08-01T07:57:20.463Z"
   },
   {
    "duration": 3,
    "start_time": "2021-08-01T07:57:20.657Z"
   },
   {
    "duration": 9,
    "start_time": "2021-08-01T07:57:20.663Z"
   },
   {
    "duration": 17,
    "start_time": "2021-08-01T07:57:20.674Z"
   },
   {
    "duration": 17,
    "start_time": "2021-08-01T07:57:20.693Z"
   },
   {
    "duration": 22,
    "start_time": "2021-08-01T07:57:20.712Z"
   },
   {
    "duration": 11,
    "start_time": "2021-08-01T07:57:20.736Z"
   },
   {
    "duration": 15,
    "start_time": "2021-08-01T07:57:20.751Z"
   },
   {
    "duration": 9,
    "start_time": "2021-08-01T07:57:20.768Z"
   },
   {
    "duration": 9,
    "start_time": "2021-08-01T07:57:20.779Z"
   },
   {
    "duration": 12,
    "start_time": "2021-08-01T07:57:20.791Z"
   },
   {
    "duration": 28,
    "start_time": "2021-08-01T07:57:20.805Z"
   },
   {
    "duration": 14,
    "start_time": "2021-08-01T07:57:20.836Z"
   },
   {
    "duration": 12,
    "start_time": "2021-08-01T07:57:20.856Z"
   },
   {
    "duration": 7,
    "start_time": "2021-08-01T07:57:20.871Z"
   },
   {
    "duration": 2677,
    "start_time": "2021-08-01T07:57:20.880Z"
   },
   {
    "duration": 2778,
    "start_time": "2021-08-01T07:57:23.560Z"
   },
   {
    "duration": 2778,
    "start_time": "2021-08-01T07:57:26.341Z"
   },
   {
    "duration": 6,
    "start_time": "2021-08-01T07:57:29.122Z"
   },
   {
    "duration": 25,
    "start_time": "2021-08-01T07:57:29.131Z"
   },
   {
    "duration": 24,
    "start_time": "2021-08-01T07:57:29.158Z"
   },
   {
    "duration": 117,
    "start_time": "2021-08-01T07:58:45.411Z"
   },
   {
    "duration": 132,
    "start_time": "2021-08-01T07:59:02.366Z"
   },
   {
    "duration": 6,
    "start_time": "2021-08-01T07:59:09.022Z"
   },
   {
    "duration": 58,
    "start_time": "2021-08-01T07:59:10.597Z"
   },
   {
    "duration": 6,
    "start_time": "2021-08-01T07:59:27.062Z"
   },
   {
    "duration": 18,
    "start_time": "2021-08-01T07:59:27.933Z"
   },
   {
    "duration": 19,
    "start_time": "2021-08-01T07:59:42.653Z"
   },
   {
    "duration": 6,
    "start_time": "2021-08-01T07:59:47.358Z"
   },
   {
    "duration": 19,
    "start_time": "2021-08-01T07:59:49.293Z"
   },
   {
    "duration": 18,
    "start_time": "2021-08-01T08:00:02.549Z"
   },
   {
    "duration": 19,
    "start_time": "2021-08-01T08:00:33.489Z"
   },
   {
    "duration": 146,
    "start_time": "2021-08-01T08:02:20.774Z"
   },
   {
    "duration": 6,
    "start_time": "2021-08-01T08:02:26.548Z"
   },
   {
    "duration": 4,
    "start_time": "2021-08-01T08:02:27.295Z"
   },
   {
    "duration": 11,
    "start_time": "2021-08-01T08:02:27.641Z"
   },
   {
    "duration": 5,
    "start_time": "2021-08-01T08:02:42.757Z"
   },
   {
    "duration": 5,
    "start_time": "2021-08-01T08:02:42.940Z"
   },
   {
    "duration": 13,
    "start_time": "2021-08-01T08:02:43.284Z"
   },
   {
    "duration": 1338,
    "start_time": "2021-08-01T08:04:19.201Z"
   },
   {
    "duration": 4,
    "start_time": "2021-08-01T08:04:20.541Z"
   },
   {
    "duration": 159,
    "start_time": "2021-08-01T08:04:20.548Z"
   },
   {
    "duration": 23,
    "start_time": "2021-08-01T08:04:20.710Z"
   },
   {
    "duration": 159,
    "start_time": "2021-08-01T08:04:20.736Z"
   },
   {
    "duration": 13,
    "start_time": "2021-08-01T08:04:20.897Z"
   },
   {
    "duration": 170,
    "start_time": "2021-08-01T08:04:20.913Z"
   },
   {
    "duration": 14,
    "start_time": "2021-08-01T08:04:21.085Z"
   },
   {
    "duration": 16,
    "start_time": "2021-08-01T08:04:21.104Z"
   },
   {
    "duration": 42,
    "start_time": "2021-08-01T08:04:21.123Z"
   },
   {
    "duration": 14,
    "start_time": "2021-08-01T08:04:21.167Z"
   },
   {
    "duration": 7,
    "start_time": "2021-08-01T08:04:21.183Z"
   },
   {
    "duration": 18,
    "start_time": "2021-08-01T08:04:21.193Z"
   },
   {
    "duration": 9,
    "start_time": "2021-08-01T08:04:21.213Z"
   },
   {
    "duration": 12,
    "start_time": "2021-08-01T08:04:21.256Z"
   },
   {
    "duration": 10,
    "start_time": "2021-08-01T08:04:21.271Z"
   },
   {
    "duration": 20,
    "start_time": "2021-08-01T08:04:21.283Z"
   },
   {
    "duration": 18,
    "start_time": "2021-08-01T08:04:21.306Z"
   },
   {
    "duration": 42,
    "start_time": "2021-08-01T08:04:21.326Z"
   },
   {
    "duration": 17,
    "start_time": "2021-08-01T08:04:21.371Z"
   },
   {
    "duration": 6,
    "start_time": "2021-08-01T08:04:21.390Z"
   },
   {
    "duration": 14,
    "start_time": "2021-08-01T08:04:21.398Z"
   },
   {
    "duration": 11,
    "start_time": "2021-08-01T08:04:21.414Z"
   },
   {
    "duration": 29,
    "start_time": "2021-08-01T08:04:21.427Z"
   },
   {
    "duration": 20,
    "start_time": "2021-08-01T08:04:21.458Z"
   },
   {
    "duration": 11,
    "start_time": "2021-08-01T08:04:21.481Z"
   },
   {
    "duration": 5,
    "start_time": "2021-08-01T08:04:21.498Z"
   },
   {
    "duration": 7,
    "start_time": "2021-08-01T08:04:21.506Z"
   },
   {
    "duration": 17,
    "start_time": "2021-08-01T08:04:21.515Z"
   },
   {
    "duration": 7,
    "start_time": "2021-08-01T08:04:21.534Z"
   },
   {
    "duration": 13,
    "start_time": "2021-08-01T08:04:21.543Z"
   },
   {
    "duration": 6,
    "start_time": "2021-08-01T08:04:21.558Z"
   },
   {
    "duration": 15,
    "start_time": "2021-08-01T08:04:21.566Z"
   },
   {
    "duration": 79,
    "start_time": "2021-08-01T08:04:21.583Z"
   },
   {
    "duration": 9,
    "start_time": "2021-08-01T08:04:21.756Z"
   },
   {
    "duration": 110,
    "start_time": "2021-08-01T08:04:21.856Z"
   },
   {
    "duration": 36,
    "start_time": "2021-08-01T08:04:21.969Z"
   },
   {
    "duration": 7,
    "start_time": "2021-08-01T08:04:22.058Z"
   },
   {
    "duration": 111,
    "start_time": "2021-08-01T08:04:22.156Z"
   },
   {
    "duration": 89,
    "start_time": "2021-08-01T08:04:22.269Z"
   },
   {
    "duration": 99,
    "start_time": "2021-08-01T08:04:22.361Z"
   },
   {
    "duration": 110,
    "start_time": "2021-08-01T08:04:22.464Z"
   },
   {
    "duration": 79,
    "start_time": "2021-08-01T08:04:22.577Z"
   },
   {
    "duration": 9,
    "start_time": "2021-08-01T08:04:22.659Z"
   },
   {
    "duration": 7,
    "start_time": "2021-08-01T08:04:22.670Z"
   },
   {
    "duration": 13,
    "start_time": "2021-08-01T08:04:22.679Z"
   },
   {
    "duration": 12,
    "start_time": "2021-08-01T08:04:22.694Z"
   },
   {
    "duration": 9,
    "start_time": "2021-08-01T08:04:22.708Z"
   },
   {
    "duration": 9,
    "start_time": "2021-08-01T08:04:22.719Z"
   },
   {
    "duration": 8,
    "start_time": "2021-08-01T08:04:22.730Z"
   },
   {
    "duration": 6,
    "start_time": "2021-08-01T08:04:22.756Z"
   },
   {
    "duration": 6,
    "start_time": "2021-08-01T08:04:22.764Z"
   },
   {
    "duration": 22,
    "start_time": "2021-08-01T08:04:22.772Z"
   },
   {
    "duration": 12,
    "start_time": "2021-08-01T08:04:22.796Z"
   },
   {
    "duration": 53,
    "start_time": "2021-08-01T08:04:22.810Z"
   },
   {
    "duration": 6,
    "start_time": "2021-08-01T08:04:22.865Z"
   },
   {
    "duration": 2675,
    "start_time": "2021-08-01T08:04:22.874Z"
   },
   {
    "duration": 2709,
    "start_time": "2021-08-01T08:04:25.555Z"
   },
   {
    "duration": 2677,
    "start_time": "2021-08-01T08:04:28.266Z"
   },
   {
    "duration": 11,
    "start_time": "2021-08-01T08:04:30.945Z"
   },
   {
    "duration": 26,
    "start_time": "2021-08-01T08:04:30.958Z"
   },
   {
    "duration": 27,
    "start_time": "2021-08-01T08:04:30.986Z"
   },
   {
    "duration": 6,
    "start_time": "2021-08-01T08:07:11.890Z"
   },
   {
    "duration": 5,
    "start_time": "2021-08-01T08:07:12.243Z"
   },
   {
    "duration": 12,
    "start_time": "2021-08-01T08:07:13.635Z"
   },
   {
    "duration": 117,
    "start_time": "2021-08-01T08:12:15.396Z"
   },
   {
    "duration": 1315,
    "start_time": "2021-08-01T08:19:31.537Z"
   },
   {
    "duration": 4,
    "start_time": "2021-08-01T08:19:32.856Z"
   },
   {
    "duration": 157,
    "start_time": "2021-08-01T08:19:32.863Z"
   },
   {
    "duration": 20,
    "start_time": "2021-08-01T08:19:33.023Z"
   },
   {
    "duration": 161,
    "start_time": "2021-08-01T08:19:33.045Z"
   },
   {
    "duration": 11,
    "start_time": "2021-08-01T08:19:33.208Z"
   },
   {
    "duration": 152,
    "start_time": "2021-08-01T08:19:33.221Z"
   },
   {
    "duration": 12,
    "start_time": "2021-08-01T08:19:33.377Z"
   },
   {
    "duration": 32,
    "start_time": "2021-08-01T08:19:33.391Z"
   },
   {
    "duration": 14,
    "start_time": "2021-08-01T08:19:33.426Z"
   },
   {
    "duration": 23,
    "start_time": "2021-08-01T08:19:33.442Z"
   },
   {
    "duration": 19,
    "start_time": "2021-08-01T08:19:33.468Z"
   },
   {
    "duration": 29,
    "start_time": "2021-08-01T08:19:33.490Z"
   },
   {
    "duration": 14,
    "start_time": "2021-08-01T08:19:33.521Z"
   },
   {
    "duration": 27,
    "start_time": "2021-08-01T08:19:33.537Z"
   },
   {
    "duration": 19,
    "start_time": "2021-08-01T08:19:33.566Z"
   },
   {
    "duration": 20,
    "start_time": "2021-08-01T08:19:33.588Z"
   },
   {
    "duration": 23,
    "start_time": "2021-08-01T08:19:33.610Z"
   },
   {
    "duration": 20,
    "start_time": "2021-08-01T08:19:33.636Z"
   },
   {
    "duration": 16,
    "start_time": "2021-08-01T08:19:33.658Z"
   },
   {
    "duration": 5,
    "start_time": "2021-08-01T08:19:33.677Z"
   },
   {
    "duration": 13,
    "start_time": "2021-08-01T08:19:33.684Z"
   },
   {
    "duration": 15,
    "start_time": "2021-08-01T08:19:33.703Z"
   },
   {
    "duration": 5,
    "start_time": "2021-08-01T08:19:33.722Z"
   },
   {
    "duration": 26,
    "start_time": "2021-08-01T08:19:33.730Z"
   },
   {
    "duration": 15,
    "start_time": "2021-08-01T08:19:33.758Z"
   },
   {
    "duration": 24,
    "start_time": "2021-08-01T08:19:33.775Z"
   },
   {
    "duration": 12,
    "start_time": "2021-08-01T08:19:33.801Z"
   },
   {
    "duration": 9,
    "start_time": "2021-08-01T08:19:33.815Z"
   },
   {
    "duration": 23,
    "start_time": "2021-08-01T08:19:33.826Z"
   },
   {
    "duration": 8,
    "start_time": "2021-08-01T08:19:33.851Z"
   },
   {
    "duration": 9,
    "start_time": "2021-08-01T08:19:33.862Z"
   },
   {
    "duration": 9,
    "start_time": "2021-08-01T08:19:33.874Z"
   },
   {
    "duration": 73,
    "start_time": "2021-08-01T08:19:33.885Z"
   },
   {
    "duration": 99,
    "start_time": "2021-08-01T08:19:33.960Z"
   },
   {
    "duration": 111,
    "start_time": "2021-08-01T08:19:34.062Z"
   },
   {
    "duration": 86,
    "start_time": "2021-08-01T08:19:34.175Z"
   },
   {
    "duration": 191,
    "start_time": "2021-08-01T08:19:34.265Z"
   },
   {
    "duration": 19,
    "start_time": "2021-08-01T08:19:34.459Z"
   },
   {
    "duration": 99,
    "start_time": "2021-08-01T08:19:34.557Z"
   },
   {
    "duration": 100,
    "start_time": "2021-08-01T08:19:34.660Z"
   },
   {
    "duration": 104,
    "start_time": "2021-08-01T08:19:34.763Z"
   },
   {
    "duration": 3,
    "start_time": "2021-08-01T08:19:34.870Z"
   },
   {
    "duration": 7,
    "start_time": "2021-08-01T08:19:34.876Z"
   },
   {
    "duration": 6,
    "start_time": "2021-08-01T08:19:34.886Z"
   },
   {
    "duration": 67,
    "start_time": "2021-08-01T08:19:34.894Z"
   },
   {
    "duration": 7,
    "start_time": "2021-08-01T08:19:34.963Z"
   },
   {
    "duration": 8,
    "start_time": "2021-08-01T08:19:34.973Z"
   },
   {
    "duration": 14,
    "start_time": "2021-08-01T08:19:34.983Z"
   },
   {
    "duration": 10,
    "start_time": "2021-08-01T08:19:35.000Z"
   },
   {
    "duration": 10,
    "start_time": "2021-08-01T08:19:35.012Z"
   },
   {
    "duration": 34,
    "start_time": "2021-08-01T08:19:35.024Z"
   },
   {
    "duration": 21,
    "start_time": "2021-08-01T08:19:35.060Z"
   },
   {
    "duration": 13,
    "start_time": "2021-08-01T08:19:35.083Z"
   },
   {
    "duration": 11,
    "start_time": "2021-08-01T08:19:35.098Z"
   },
   {
    "duration": 10,
    "start_time": "2021-08-01T08:19:35.111Z"
   },
   {
    "duration": 2878,
    "start_time": "2021-08-01T08:19:35.155Z"
   },
   {
    "duration": 3227,
    "start_time": "2021-08-01T08:19:38.036Z"
   },
   {
    "duration": 2986,
    "start_time": "2021-08-01T08:19:41.267Z"
   },
   {
    "duration": 7,
    "start_time": "2021-08-01T08:19:44.257Z"
   },
   {
    "duration": 18,
    "start_time": "2021-08-01T08:19:44.267Z"
   },
   {
    "duration": 28,
    "start_time": "2021-08-01T08:19:44.288Z"
   }
  ],
  "kernelspec": {
   "display_name": "Python 3",
   "language": "python",
   "name": "python3"
  },
  "language_info": {
   "codemirror_mode": {
    "name": "ipython",
    "version": 3
   },
   "file_extension": ".py",
   "mimetype": "text/x-python",
   "name": "python",
   "nbconvert_exporter": "python",
   "pygments_lexer": "ipython3",
   "version": "3.9.2"
  },
  "toc": {
   "base_numbering": 1,
   "nav_menu": {},
   "number_sections": true,
   "sideBar": true,
   "skip_h1_title": true,
   "title_cell": "Table of Contents",
   "title_sidebar": "Contents",
   "toc_cell": false,
   "toc_position": {
    "height": "calc(100% - 180px)",
    "left": "10px",
    "top": "150px",
    "width": "435px"
   },
   "toc_section_display": true,
   "toc_window_display": true
  },
  "toc-autonumbering": true
 },
 "nbformat": 4,
 "nbformat_minor": 4
}
