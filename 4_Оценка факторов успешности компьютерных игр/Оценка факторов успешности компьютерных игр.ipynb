{
 "cells": [
  {
   "cell_type": "markdown",
   "metadata": {},
   "source": [
    "**Сборный проект № 1 - Оценка факторов успешности компьютерных игр**"
   ]
  },
  {
   "cell_type": "markdown",
   "metadata": {},
   "source": [
    "**Цель проекта:** выявить факторы, которые определяют успешность компьютерной игры. Это позволит сделать ставку на потенциально популярный продукт и спланировать рекламные кампании.\n",
    "\n",
    "**Основные задачи работы:**\n",
    "\n",
    "1. Загрузить файл с данными и изучить информацию\n",
    "2. Осуществить предобработку имеющихся сведений\n",
    "3. Проанализировать данные\n",
    "4. Составить портрет пользователя по регионам\n",
    "5. Осуществить проверку статистических гипотез\n",
    "6. Сформулировать выводы по полученным сведениям"
   ]
  },
  {
   "cell_type": "markdown",
   "metadata": {},
   "source": [
    "**Содержание:**\n",
    "\n",
    "1. Первичное изучение имеющихся данных\n",
    "2. Предобработка данных\n",
    "3. Исследовательский анализ данных\n",
    "4. Составление портрета пользователей разных регионов\n",
    "5. Проверка статистических гипотез\n",
    "6. Общий вывод по проекту"
   ]
  },
  {
   "cell_type": "markdown",
   "metadata": {},
   "source": [
    "# Загрузка и первичное изучение имеющихся данных"
   ]
  },
  {
   "cell_type": "markdown",
   "metadata": {},
   "source": [
    "## Загрузка необходимых библиотек и датасета"
   ]
  },
  {
   "cell_type": "code",
   "execution_count": 1,
   "metadata": {},
   "outputs": [],
   "source": [
    "# Как и всегда, первым делом подгружаем необходимые для работы библиотеки\n",
    "\n",
    "import pandas as pd\n",
    "from scipy import stats as st\n",
    "import matplotlib.pyplot as plt\n",
    "import warnings\n",
    "warnings.simplefilter('ignore')\n",
    "from scipy.stats import ks_2samp"
   ]
  },
  {
   "cell_type": "code",
   "execution_count": 2,
   "metadata": {},
   "outputs": [
    {
     "name": "stdout",
     "output_type": "stream",
     "text": [
      "Загружен файл для локальной работы\n"
     ]
    }
   ],
   "source": [
    "# Загружаем имеющийся датасет с использованием конструкции try-except\n",
    "\n",
    "# для работы в тренажере\n",
    "try:\n",
    "    data = pd.read_csv('/datasets/games.csv')\n",
    "    print('Загружен файл для работы в тренажере')\n",
    "except:\n",
    "    data = pd.read_csv('games.csv')\n",
    "    print('Загружен файл для локальной работы')\n"
   ]
  },
  {
   "cell_type": "code",
   "execution_count": 3,
   "metadata": {},
   "outputs": [
    {
     "data": {
      "text/html": [
       "<div>\n",
       "<style scoped>\n",
       "    .dataframe tbody tr th:only-of-type {\n",
       "        vertical-align: middle;\n",
       "    }\n",
       "\n",
       "    .dataframe tbody tr th {\n",
       "        vertical-align: top;\n",
       "    }\n",
       "\n",
       "    .dataframe thead th {\n",
       "        text-align: right;\n",
       "    }\n",
       "</style>\n",
       "<table border=\"1\" class=\"dataframe\">\n",
       "  <thead>\n",
       "    <tr style=\"text-align: right;\">\n",
       "      <th></th>\n",
       "      <th>Name</th>\n",
       "      <th>Platform</th>\n",
       "      <th>Year_of_Release</th>\n",
       "      <th>Genre</th>\n",
       "      <th>NA_sales</th>\n",
       "      <th>EU_sales</th>\n",
       "      <th>JP_sales</th>\n",
       "      <th>Other_sales</th>\n",
       "      <th>Critic_Score</th>\n",
       "      <th>User_Score</th>\n",
       "      <th>Rating</th>\n",
       "    </tr>\n",
       "  </thead>\n",
       "  <tbody>\n",
       "    <tr>\n",
       "      <th>0</th>\n",
       "      <td>Wii Sports</td>\n",
       "      <td>Wii</td>\n",
       "      <td>2006.0</td>\n",
       "      <td>Sports</td>\n",
       "      <td>41.36</td>\n",
       "      <td>28.96</td>\n",
       "      <td>3.77</td>\n",
       "      <td>8.45</td>\n",
       "      <td>76.0</td>\n",
       "      <td>8</td>\n",
       "      <td>E</td>\n",
       "    </tr>\n",
       "    <tr>\n",
       "      <th>1</th>\n",
       "      <td>Super Mario Bros.</td>\n",
       "      <td>NES</td>\n",
       "      <td>1985.0</td>\n",
       "      <td>Platform</td>\n",
       "      <td>29.08</td>\n",
       "      <td>3.58</td>\n",
       "      <td>6.81</td>\n",
       "      <td>0.77</td>\n",
       "      <td>NaN</td>\n",
       "      <td>NaN</td>\n",
       "      <td>NaN</td>\n",
       "    </tr>\n",
       "    <tr>\n",
       "      <th>2</th>\n",
       "      <td>Mario Kart Wii</td>\n",
       "      <td>Wii</td>\n",
       "      <td>2008.0</td>\n",
       "      <td>Racing</td>\n",
       "      <td>15.68</td>\n",
       "      <td>12.76</td>\n",
       "      <td>3.79</td>\n",
       "      <td>3.29</td>\n",
       "      <td>82.0</td>\n",
       "      <td>8.3</td>\n",
       "      <td>E</td>\n",
       "    </tr>\n",
       "    <tr>\n",
       "      <th>3</th>\n",
       "      <td>Wii Sports Resort</td>\n",
       "      <td>Wii</td>\n",
       "      <td>2009.0</td>\n",
       "      <td>Sports</td>\n",
       "      <td>15.61</td>\n",
       "      <td>10.93</td>\n",
       "      <td>3.28</td>\n",
       "      <td>2.95</td>\n",
       "      <td>80.0</td>\n",
       "      <td>8</td>\n",
       "      <td>E</td>\n",
       "    </tr>\n",
       "    <tr>\n",
       "      <th>4</th>\n",
       "      <td>Pokemon Red/Pokemon Blue</td>\n",
       "      <td>GB</td>\n",
       "      <td>1996.0</td>\n",
       "      <td>Role-Playing</td>\n",
       "      <td>11.27</td>\n",
       "      <td>8.89</td>\n",
       "      <td>10.22</td>\n",
       "      <td>1.00</td>\n",
       "      <td>NaN</td>\n",
       "      <td>NaN</td>\n",
       "      <td>NaN</td>\n",
       "    </tr>\n",
       "  </tbody>\n",
       "</table>\n",
       "</div>"
      ],
      "text/plain": [
       "                       Name Platform  Year_of_Release         Genre  NA_sales  \\\n",
       "0                Wii Sports      Wii           2006.0        Sports     41.36   \n",
       "1         Super Mario Bros.      NES           1985.0      Platform     29.08   \n",
       "2            Mario Kart Wii      Wii           2008.0        Racing     15.68   \n",
       "3         Wii Sports Resort      Wii           2009.0        Sports     15.61   \n",
       "4  Pokemon Red/Pokemon Blue       GB           1996.0  Role-Playing     11.27   \n",
       "\n",
       "   EU_sales  JP_sales  Other_sales  Critic_Score User_Score Rating  \n",
       "0     28.96      3.77         8.45          76.0          8      E  \n",
       "1      3.58      6.81         0.77           NaN        NaN    NaN  \n",
       "2     12.76      3.79         3.29          82.0        8.3      E  \n",
       "3     10.93      3.28         2.95          80.0          8      E  \n",
       "4      8.89     10.22         1.00           NaN        NaN    NaN  "
      ]
     },
     "execution_count": 3,
     "metadata": {},
     "output_type": "execute_result"
    }
   ],
   "source": [
    "# Вызываем таблицу для визуального осмотра\n",
    "\n",
    "data.head()"
   ]
  },
  {
   "cell_type": "markdown",
   "metadata": {},
   "source": [
    "## Изучение состава данных"
   ]
  },
  {
   "cell_type": "code",
   "execution_count": 4,
   "metadata": {
    "scrolled": true
   },
   "outputs": [
    {
     "name": "stdout",
     "output_type": "stream",
     "text": [
      "<class 'pandas.core.frame.DataFrame'>\n",
      "RangeIndex: 16715 entries, 0 to 16714\n",
      "Data columns (total 11 columns):\n",
      " #   Column           Non-Null Count  Dtype  \n",
      "---  ------           --------------  -----  \n",
      " 0   Name             16713 non-null  object \n",
      " 1   Platform         16715 non-null  object \n",
      " 2   Year_of_Release  16446 non-null  float64\n",
      " 3   Genre            16713 non-null  object \n",
      " 4   NA_sales         16715 non-null  float64\n",
      " 5   EU_sales         16715 non-null  float64\n",
      " 6   JP_sales         16715 non-null  float64\n",
      " 7   Other_sales      16715 non-null  float64\n",
      " 8   Critic_Score     8137 non-null   float64\n",
      " 9   User_Score       10014 non-null  object \n",
      " 10  Rating           9949 non-null   object \n",
      "dtypes: float64(6), object(5)\n",
      "memory usage: 1.4+ MB\n"
     ]
    }
   ],
   "source": [
    "# Для оценки состава датасета применяем метод info()\n",
    "\n",
    "data.info()"
   ]
  },
  {
   "cell_type": "code",
   "execution_count": 5,
   "metadata": {},
   "outputs": [
    {
     "data": {
      "text/html": [
       "<div>\n",
       "<style scoped>\n",
       "    .dataframe tbody tr th:only-of-type {\n",
       "        vertical-align: middle;\n",
       "    }\n",
       "\n",
       "    .dataframe tbody tr th {\n",
       "        vertical-align: top;\n",
       "    }\n",
       "\n",
       "    .dataframe thead th {\n",
       "        text-align: right;\n",
       "    }\n",
       "</style>\n",
       "<table border=\"1\" class=\"dataframe\">\n",
       "  <thead>\n",
       "    <tr style=\"text-align: right;\">\n",
       "      <th></th>\n",
       "      <th>Year_of_Release</th>\n",
       "      <th>NA_sales</th>\n",
       "      <th>EU_sales</th>\n",
       "      <th>JP_sales</th>\n",
       "      <th>Other_sales</th>\n",
       "      <th>Critic_Score</th>\n",
       "    </tr>\n",
       "  </thead>\n",
       "  <tbody>\n",
       "    <tr>\n",
       "      <th>count</th>\n",
       "      <td>16446.000000</td>\n",
       "      <td>16715.000000</td>\n",
       "      <td>16715.000000</td>\n",
       "      <td>16715.000000</td>\n",
       "      <td>16715.000000</td>\n",
       "      <td>8137.000000</td>\n",
       "    </tr>\n",
       "    <tr>\n",
       "      <th>mean</th>\n",
       "      <td>2006.484616</td>\n",
       "      <td>0.263377</td>\n",
       "      <td>0.145060</td>\n",
       "      <td>0.077617</td>\n",
       "      <td>0.047342</td>\n",
       "      <td>68.967679</td>\n",
       "    </tr>\n",
       "    <tr>\n",
       "      <th>std</th>\n",
       "      <td>5.877050</td>\n",
       "      <td>0.813604</td>\n",
       "      <td>0.503339</td>\n",
       "      <td>0.308853</td>\n",
       "      <td>0.186731</td>\n",
       "      <td>13.938165</td>\n",
       "    </tr>\n",
       "    <tr>\n",
       "      <th>min</th>\n",
       "      <td>1980.000000</td>\n",
       "      <td>0.000000</td>\n",
       "      <td>0.000000</td>\n",
       "      <td>0.000000</td>\n",
       "      <td>0.000000</td>\n",
       "      <td>13.000000</td>\n",
       "    </tr>\n",
       "    <tr>\n",
       "      <th>25%</th>\n",
       "      <td>2003.000000</td>\n",
       "      <td>0.000000</td>\n",
       "      <td>0.000000</td>\n",
       "      <td>0.000000</td>\n",
       "      <td>0.000000</td>\n",
       "      <td>60.000000</td>\n",
       "    </tr>\n",
       "    <tr>\n",
       "      <th>50%</th>\n",
       "      <td>2007.000000</td>\n",
       "      <td>0.080000</td>\n",
       "      <td>0.020000</td>\n",
       "      <td>0.000000</td>\n",
       "      <td>0.010000</td>\n",
       "      <td>71.000000</td>\n",
       "    </tr>\n",
       "    <tr>\n",
       "      <th>75%</th>\n",
       "      <td>2010.000000</td>\n",
       "      <td>0.240000</td>\n",
       "      <td>0.110000</td>\n",
       "      <td>0.040000</td>\n",
       "      <td>0.030000</td>\n",
       "      <td>79.000000</td>\n",
       "    </tr>\n",
       "    <tr>\n",
       "      <th>max</th>\n",
       "      <td>2016.000000</td>\n",
       "      <td>41.360000</td>\n",
       "      <td>28.960000</td>\n",
       "      <td>10.220000</td>\n",
       "      <td>10.570000</td>\n",
       "      <td>98.000000</td>\n",
       "    </tr>\n",
       "  </tbody>\n",
       "</table>\n",
       "</div>"
      ],
      "text/plain": [
       "       Year_of_Release      NA_sales      EU_sales      JP_sales  \\\n",
       "count     16446.000000  16715.000000  16715.000000  16715.000000   \n",
       "mean       2006.484616      0.263377      0.145060      0.077617   \n",
       "std           5.877050      0.813604      0.503339      0.308853   \n",
       "min        1980.000000      0.000000      0.000000      0.000000   \n",
       "25%        2003.000000      0.000000      0.000000      0.000000   \n",
       "50%        2007.000000      0.080000      0.020000      0.000000   \n",
       "75%        2010.000000      0.240000      0.110000      0.040000   \n",
       "max        2016.000000     41.360000     28.960000     10.220000   \n",
       "\n",
       "        Other_sales  Critic_Score  \n",
       "count  16715.000000   8137.000000  \n",
       "mean       0.047342     68.967679  \n",
       "std        0.186731     13.938165  \n",
       "min        0.000000     13.000000  \n",
       "25%        0.000000     60.000000  \n",
       "50%        0.010000     71.000000  \n",
       "75%        0.030000     79.000000  \n",
       "max       10.570000     98.000000  "
      ]
     },
     "execution_count": 5,
     "metadata": {},
     "output_type": "execute_result"
    }
   ],
   "source": [
    "# Для оценки столбцов с числовыми значениями применим метод describe()\n",
    "\n",
    "data.describe()"
   ]
  },
  {
   "cell_type": "code",
   "execution_count": 6,
   "metadata": {},
   "outputs": [
    {
     "data": {
      "text/html": [
       "<div>\n",
       "<style scoped>\n",
       "    .dataframe tbody tr th:only-of-type {\n",
       "        vertical-align: middle;\n",
       "    }\n",
       "\n",
       "    .dataframe tbody tr th {\n",
       "        vertical-align: top;\n",
       "    }\n",
       "\n",
       "    .dataframe thead th {\n",
       "        text-align: right;\n",
       "    }\n",
       "</style>\n",
       "<table border=\"1\" class=\"dataframe\">\n",
       "  <thead>\n",
       "    <tr style=\"text-align: right;\">\n",
       "      <th></th>\n",
       "      <th>Name</th>\n",
       "      <th>Platform</th>\n",
       "      <th>Year_of_Release</th>\n",
       "      <th>Genre</th>\n",
       "      <th>NA_sales</th>\n",
       "      <th>EU_sales</th>\n",
       "      <th>JP_sales</th>\n",
       "      <th>Other_sales</th>\n",
       "      <th>Critic_Score</th>\n",
       "      <th>User_Score</th>\n",
       "      <th>Rating</th>\n",
       "    </tr>\n",
       "  </thead>\n",
       "  <tbody>\n",
       "    <tr>\n",
       "      <th>659</th>\n",
       "      <td>NaN</td>\n",
       "      <td>GEN</td>\n",
       "      <td>1993.0</td>\n",
       "      <td>NaN</td>\n",
       "      <td>1.78</td>\n",
       "      <td>0.53</td>\n",
       "      <td>0.00</td>\n",
       "      <td>0.08</td>\n",
       "      <td>NaN</td>\n",
       "      <td>NaN</td>\n",
       "      <td>NaN</td>\n",
       "    </tr>\n",
       "    <tr>\n",
       "      <th>14244</th>\n",
       "      <td>NaN</td>\n",
       "      <td>GEN</td>\n",
       "      <td>1993.0</td>\n",
       "      <td>NaN</td>\n",
       "      <td>0.00</td>\n",
       "      <td>0.00</td>\n",
       "      <td>0.03</td>\n",
       "      <td>0.00</td>\n",
       "      <td>NaN</td>\n",
       "      <td>NaN</td>\n",
       "      <td>NaN</td>\n",
       "    </tr>\n",
       "  </tbody>\n",
       "</table>\n",
       "</div>"
      ],
      "text/plain": [
       "      Name Platform  Year_of_Release Genre  NA_sales  EU_sales  JP_sales  \\\n",
       "659    NaN      GEN           1993.0   NaN      1.78      0.53      0.00   \n",
       "14244  NaN      GEN           1993.0   NaN      0.00      0.00      0.03   \n",
       "\n",
       "       Other_sales  Critic_Score User_Score Rating  \n",
       "659           0.08           NaN        NaN    NaN  \n",
       "14244         0.00           NaN        NaN    NaN  "
      ]
     },
     "execution_count": 6,
     "metadata": {},
     "output_type": "execute_result"
    }
   ],
   "source": [
    "# Исследуем пропуски в столбце Name\n",
    "\n",
    "data[data['Name'].isna()]"
   ]
  },
  {
   "cell_type": "code",
   "execution_count": 7,
   "metadata": {},
   "outputs": [
    {
     "data": {
      "text/html": [
       "<div>\n",
       "<style scoped>\n",
       "    .dataframe tbody tr th:only-of-type {\n",
       "        vertical-align: middle;\n",
       "    }\n",
       "\n",
       "    .dataframe tbody tr th {\n",
       "        vertical-align: top;\n",
       "    }\n",
       "\n",
       "    .dataframe thead th {\n",
       "        text-align: right;\n",
       "    }\n",
       "</style>\n",
       "<table border=\"1\" class=\"dataframe\">\n",
       "  <thead>\n",
       "    <tr style=\"text-align: right;\">\n",
       "      <th></th>\n",
       "      <th>Name</th>\n",
       "      <th>Platform</th>\n",
       "      <th>Year_of_Release</th>\n",
       "      <th>Genre</th>\n",
       "      <th>NA_sales</th>\n",
       "      <th>EU_sales</th>\n",
       "      <th>JP_sales</th>\n",
       "      <th>Other_sales</th>\n",
       "      <th>Critic_Score</th>\n",
       "      <th>User_Score</th>\n",
       "      <th>Rating</th>\n",
       "    </tr>\n",
       "  </thead>\n",
       "  <tbody>\n",
       "    <tr>\n",
       "      <th>183</th>\n",
       "      <td>Madden NFL 2004</td>\n",
       "      <td>PS2</td>\n",
       "      <td>NaN</td>\n",
       "      <td>Sports</td>\n",
       "      <td>4.26</td>\n",
       "      <td>0.26</td>\n",
       "      <td>0.01</td>\n",
       "      <td>0.71</td>\n",
       "      <td>94.0</td>\n",
       "      <td>8.5</td>\n",
       "      <td>E</td>\n",
       "    </tr>\n",
       "    <tr>\n",
       "      <th>377</th>\n",
       "      <td>FIFA Soccer 2004</td>\n",
       "      <td>PS2</td>\n",
       "      <td>NaN</td>\n",
       "      <td>Sports</td>\n",
       "      <td>0.59</td>\n",
       "      <td>2.36</td>\n",
       "      <td>0.04</td>\n",
       "      <td>0.51</td>\n",
       "      <td>84.0</td>\n",
       "      <td>6.4</td>\n",
       "      <td>E</td>\n",
       "    </tr>\n",
       "    <tr>\n",
       "      <th>456</th>\n",
       "      <td>LEGO Batman: The Videogame</td>\n",
       "      <td>Wii</td>\n",
       "      <td>NaN</td>\n",
       "      <td>Action</td>\n",
       "      <td>1.80</td>\n",
       "      <td>0.97</td>\n",
       "      <td>0.00</td>\n",
       "      <td>0.29</td>\n",
       "      <td>74.0</td>\n",
       "      <td>7.9</td>\n",
       "      <td>E10+</td>\n",
       "    </tr>\n",
       "    <tr>\n",
       "      <th>475</th>\n",
       "      <td>wwe Smackdown vs. Raw 2006</td>\n",
       "      <td>PS2</td>\n",
       "      <td>NaN</td>\n",
       "      <td>Fighting</td>\n",
       "      <td>1.57</td>\n",
       "      <td>1.02</td>\n",
       "      <td>0.00</td>\n",
       "      <td>0.41</td>\n",
       "      <td>NaN</td>\n",
       "      <td>NaN</td>\n",
       "      <td>NaN</td>\n",
       "    </tr>\n",
       "    <tr>\n",
       "      <th>609</th>\n",
       "      <td>Space Invaders</td>\n",
       "      <td>2600</td>\n",
       "      <td>NaN</td>\n",
       "      <td>Shooter</td>\n",
       "      <td>2.36</td>\n",
       "      <td>0.14</td>\n",
       "      <td>0.00</td>\n",
       "      <td>0.03</td>\n",
       "      <td>NaN</td>\n",
       "      <td>NaN</td>\n",
       "      <td>NaN</td>\n",
       "    </tr>\n",
       "  </tbody>\n",
       "</table>\n",
       "</div>"
      ],
      "text/plain": [
       "                           Name Platform  Year_of_Release     Genre  NA_sales  \\\n",
       "183             Madden NFL 2004      PS2              NaN    Sports      4.26   \n",
       "377            FIFA Soccer 2004      PS2              NaN    Sports      0.59   \n",
       "456  LEGO Batman: The Videogame      Wii              NaN    Action      1.80   \n",
       "475  wwe Smackdown vs. Raw 2006      PS2              NaN  Fighting      1.57   \n",
       "609              Space Invaders     2600              NaN   Shooter      2.36   \n",
       "\n",
       "     EU_sales  JP_sales  Other_sales  Critic_Score User_Score Rating  \n",
       "183      0.26      0.01         0.71          94.0        8.5      E  \n",
       "377      2.36      0.04         0.51          84.0        6.4      E  \n",
       "456      0.97      0.00         0.29          74.0        7.9   E10+  \n",
       "475      1.02      0.00         0.41           NaN        NaN    NaN  \n",
       "609      0.14      0.00         0.03           NaN        NaN    NaN  "
      ]
     },
     "execution_count": 7,
     "metadata": {},
     "output_type": "execute_result"
    }
   ],
   "source": [
    "# Исследуем пропуски в столбце Year_of_Release\n",
    "\n",
    "data[data['Year_of_Release'].isna()].head()"
   ]
  },
  {
   "cell_type": "code",
   "execution_count": 8,
   "metadata": {},
   "outputs": [
    {
     "data": {
      "text/html": [
       "<div>\n",
       "<style scoped>\n",
       "    .dataframe tbody tr th:only-of-type {\n",
       "        vertical-align: middle;\n",
       "    }\n",
       "\n",
       "    .dataframe tbody tr th {\n",
       "        vertical-align: top;\n",
       "    }\n",
       "\n",
       "    .dataframe thead th {\n",
       "        text-align: right;\n",
       "    }\n",
       "</style>\n",
       "<table border=\"1\" class=\"dataframe\">\n",
       "  <thead>\n",
       "    <tr style=\"text-align: right;\">\n",
       "      <th></th>\n",
       "      <th>Name</th>\n",
       "      <th>Platform</th>\n",
       "      <th>Year_of_Release</th>\n",
       "      <th>Genre</th>\n",
       "      <th>NA_sales</th>\n",
       "      <th>EU_sales</th>\n",
       "      <th>JP_sales</th>\n",
       "      <th>Other_sales</th>\n",
       "      <th>Critic_Score</th>\n",
       "      <th>User_Score</th>\n",
       "      <th>Rating</th>\n",
       "    </tr>\n",
       "  </thead>\n",
       "  <tbody>\n",
       "    <tr>\n",
       "      <th>659</th>\n",
       "      <td>NaN</td>\n",
       "      <td>GEN</td>\n",
       "      <td>1993.0</td>\n",
       "      <td>NaN</td>\n",
       "      <td>1.78</td>\n",
       "      <td>0.53</td>\n",
       "      <td>0.00</td>\n",
       "      <td>0.08</td>\n",
       "      <td>NaN</td>\n",
       "      <td>NaN</td>\n",
       "      <td>NaN</td>\n",
       "    </tr>\n",
       "    <tr>\n",
       "      <th>14244</th>\n",
       "      <td>NaN</td>\n",
       "      <td>GEN</td>\n",
       "      <td>1993.0</td>\n",
       "      <td>NaN</td>\n",
       "      <td>0.00</td>\n",
       "      <td>0.00</td>\n",
       "      <td>0.03</td>\n",
       "      <td>0.00</td>\n",
       "      <td>NaN</td>\n",
       "      <td>NaN</td>\n",
       "      <td>NaN</td>\n",
       "    </tr>\n",
       "  </tbody>\n",
       "</table>\n",
       "</div>"
      ],
      "text/plain": [
       "      Name Platform  Year_of_Release Genre  NA_sales  EU_sales  JP_sales  \\\n",
       "659    NaN      GEN           1993.0   NaN      1.78      0.53      0.00   \n",
       "14244  NaN      GEN           1993.0   NaN      0.00      0.00      0.03   \n",
       "\n",
       "       Other_sales  Critic_Score User_Score Rating  \n",
       "659           0.08           NaN        NaN    NaN  \n",
       "14244         0.00           NaN        NaN    NaN  "
      ]
     },
     "execution_count": 8,
     "metadata": {},
     "output_type": "execute_result"
    }
   ],
   "source": [
    "# Исследуем пропуски в столбце Genre\n",
    "\n",
    "data[data['Genre'].isna()]"
   ]
  },
  {
   "cell_type": "code",
   "execution_count": 9,
   "metadata": {},
   "outputs": [
    {
     "data": {
      "text/html": [
       "<div>\n",
       "<style scoped>\n",
       "    .dataframe tbody tr th:only-of-type {\n",
       "        vertical-align: middle;\n",
       "    }\n",
       "\n",
       "    .dataframe tbody tr th {\n",
       "        vertical-align: top;\n",
       "    }\n",
       "\n",
       "    .dataframe thead th {\n",
       "        text-align: right;\n",
       "    }\n",
       "</style>\n",
       "<table border=\"1\" class=\"dataframe\">\n",
       "  <thead>\n",
       "    <tr style=\"text-align: right;\">\n",
       "      <th></th>\n",
       "      <th>Name</th>\n",
       "      <th>Platform</th>\n",
       "      <th>Year_of_Release</th>\n",
       "      <th>Genre</th>\n",
       "      <th>NA_sales</th>\n",
       "      <th>EU_sales</th>\n",
       "      <th>JP_sales</th>\n",
       "      <th>Other_sales</th>\n",
       "      <th>Critic_Score</th>\n",
       "      <th>User_Score</th>\n",
       "      <th>Rating</th>\n",
       "    </tr>\n",
       "  </thead>\n",
       "  <tbody>\n",
       "    <tr>\n",
       "      <th>16676</th>\n",
       "      <td>G1 Jockey 4 2008</td>\n",
       "      <td>PS3</td>\n",
       "      <td>2008.0</td>\n",
       "      <td>Sports</td>\n",
       "      <td>0.0</td>\n",
       "      <td>0.0</td>\n",
       "      <td>0.0</td>\n",
       "      <td>0.0</td>\n",
       "      <td>NaN</td>\n",
       "      <td>NaN</td>\n",
       "      <td>NaN</td>\n",
       "    </tr>\n",
       "    <tr>\n",
       "      <th>16709</th>\n",
       "      <td>SCORE International Baja 1000: The Official Game</td>\n",
       "      <td>PS2</td>\n",
       "      <td>2008.0</td>\n",
       "      <td>Racing</td>\n",
       "      <td>0.0</td>\n",
       "      <td>0.0</td>\n",
       "      <td>0.0</td>\n",
       "      <td>0.0</td>\n",
       "      <td>NaN</td>\n",
       "      <td>NaN</td>\n",
       "      <td>NaN</td>\n",
       "    </tr>\n",
       "  </tbody>\n",
       "</table>\n",
       "</div>"
      ],
      "text/plain": [
       "                                                   Name Platform  \\\n",
       "16676                                  G1 Jockey 4 2008      PS3   \n",
       "16709  SCORE International Baja 1000: The Official Game      PS2   \n",
       "\n",
       "       Year_of_Release   Genre  NA_sales  EU_sales  JP_sales  Other_sales  \\\n",
       "16676           2008.0  Sports       0.0       0.0       0.0          0.0   \n",
       "16709           2008.0  Racing       0.0       0.0       0.0          0.0   \n",
       "\n",
       "       Critic_Score User_Score Rating  \n",
       "16676           NaN        NaN    NaN  \n",
       "16709           NaN        NaN    NaN  "
      ]
     },
     "execution_count": 9,
     "metadata": {},
     "output_type": "execute_result"
    }
   ],
   "source": [
    "# Проверим, какие столбцы не имеюи данных о продажах по всем регионам \n",
    "\n",
    "data[(data['NA_sales'] == 0) & (data['JP_sales'] == 0) & (data['EU_sales'] == 0) & (data['Other_sales'] == 0)]"
   ]
  },
  {
   "cell_type": "markdown",
   "metadata": {},
   "source": [
    "## Выводы по первичному изучению данных"
   ]
  },
  {
   "cell_type": "markdown",
   "metadata": {},
   "source": [
    "Датафрейм состоит из 16715 строк и 11 столбцов. \n",
    "    \n",
    "Сразу бросается в глаза то, что названия столбцов не соответствуют нормам. Необходимо применить к ним метод lower() для перевода всех букв в строчный вид. \n",
    "\n",
    "Подробнее о каждом столбце можно сказать следующее:\n",
    "\n",
    "1. Name — название игры:\n",
    "- в наличии 2 пропуска. Скорее всего, причиной их появления стала ошибка при записи или переносе данных. При этом строки с пропуском в данном столбце не заполнены и в других параметрах. Считаю необходимым избавиться от этих строк, так как они не информативны;\n",
    "- формат данных object корректировки не требует.\n",
    "2. Platform - игровая платформа, на которой выпущена игра: \n",
    "- пропусков не имеется. \n",
    "- формат данных object коррекции не требует.\n",
    "3. Year_of_Release — год выпуска игры:\n",
    "- имеются пропуски в количестве 269 (0,016%) шт. Они могли образоваться из-за ошибки при формировании таблицы, при переносе или сохранении данных. Количество пропусков не является критическим, можно оставить как есть. При этом изучение строк с пропусками в данном столбце показало, что в названиях игр могут встречаться годы их издания. Таким образом, есть возможность восстановить часть данных о годах выпуска путем \"вытаскивания\" этих сведений из названий;\n",
    "- формат данных float64 было бы неплохо заменить на int, но наличие пропусков этого сделать пока не позволит.\n",
    "4. Genre — жанр игры; \n",
    "- 2 пропуска, которые размещены в тех же строках, что и пробелы в названиях игр. Проблема будет решена удалением этих строк;\n",
    "- формат данных object коррекции не требует.\n",
    "5. NA_sales — продажи в Северной Америке (миллионы проданных копий): \n",
    "- пропусков нет;\n",
    "- присутствуют нулевые значения. Их появление может быть обосновано тем, что данные игры не нашли популярности в Северной Америке. Более подробное изучение показало, что только 2 позиции не пользовались спросом во всех регионах, а остальные были распространены либо только в Японии, либо в Европе. Видимо, тематика игры имеет сильное влияние на ареал ее распространения. Данные нули заполнять не нужно, но следует помнить об их наличии;\n",
    "- формат данных float64 не требует коррекции.\n",
    "6. EU_sales — продажи в Европе (миллионы проданных копий):\n",
    "- пропусков нет; \n",
    "- имеются нулевые значения. Объяснение им то же, что и в столбце Na_sales. Обрабатывать не нужно, но помнить будем.\n",
    "- фрмат данных float не требует коррекции.\n",
    "7. JP_sales — продажи в Японии (миллионы проданных копий); \n",
    "- пропусков нет;\n",
    "- есть нулевые значения - то же самое, что и в предыдущих двух столбцах. Обрабатывать не будем;\n",
    "- формат данных float не требует коррекции. \n",
    "8. Other_sales — продажи в других странах (миллионы проданных копий):\n",
    "- пропусков нет;\n",
    "- имеются нули, но объяснение даем то же, что и ранее. Обрабатывать не нужно. Формат данных float не требует коррекции.\n",
    "**Изучение столбцов с продажами по регионам позволило выявить 2 строки, которые в себе не несут практически никакой информации. От них можно будет бескомпромиссно избавиться**\n",
    "\n",
    "9. Critic_Score — оценка критиков (максимум 100):\n",
    "- 8578 (51,3%) пропусков. Появление пробелов в данной ситуации может быть обосновано несколькими причинами: слишком ранний год выпуска, когда рецензии критиков публиковались только в специализированных журналах и найти их для учета не представлявляется возможным; масштаб игры не значителен, а потому критики обошли стороной эту игру; банальная ошибка в записи данных; оценка игры только местными критиками (например, в Японии и на японском языке, что не позволило найти данный рейтинг при сборе информации). Обработать пропуски не представляется возможным ввиду отсутствия данных - будем работать с тем, что есть.\n",
    "- в столбце присутствуют нули. Думаю, это объясняется теми же причинами, но при заполнении таблицы произошел сбой и был записан ноль вместо пропуска. Для приведения данных к единому ранжиру можно заполнить пропуски нулями, а анализ данных проводить имея в виду их наличие;\n",
    "- формат данных float64 требует перевода в int.\n",
    "10. User_Score — оценка пользователей (максимум 10):\n",
    "- 6701 пропуск в данных. Их наличие можно объяснить теми же причинами, что и про отзывы критиков в отношении года выпуска. В остальном возможно, что данные игры имеют специфический характер, поэтому рейтинги для них не попадают на известные площадки, откуда брались данные для таблицы. Можно заполнить пропуски нулями, чтобы было единообразие с предыдущим столбцом; \n",
    "- в столбце присутствуют 2424 значения tbd (To be determined -  будет определено). Чтобы эти записи не мешали обработке данных, заполним их нулями;\n",
    "- формат данных object требует перевода в тип float64. \n",
    "11. Rating — рейтинг от организации ESRB (англ. Entertainment Software Rating Board). Эта ассоциация определяет рейтинг компьютерных игр и присваивает им подходящую возрастную категорию (E - от 6 лет, E10+ - от 10 лет, М - взрослые, Т - то 13 до 29 лет):\n",
    "- 6766 пропусков. Их наличие объясняется тем, что организация была создана в 1994 году, в связи с чем более ранние игры не получили данной оценки, а также тем, что этот рейтинг относится к США и Канаде, а другие регионы пользуются своими аналогами ESRB. Пропуски оставляем как есть;\n",
    "- формат данных object не требует коррекции."
   ]
  },
  {
   "cell_type": "markdown",
   "metadata": {},
   "source": [
    "## Вывод по разделу"
   ]
  },
  {
   "cell_type": "markdown",
   "metadata": {},
   "source": [
    "В данном разделе был подготовлен необходимый инструментарий для проведения анализа данных. Вызваны необходимые библиотеки, функции из которых будут использованы далее в расчетах. Загружен датасет. Проведен первичный анализ имеющихся данных для получения представлении об их качественном составе, наличии ошибок и пропусков, высказаны предложения по последующей работе по подготовке этих сведений к анализу."
   ]
  },
  {
   "cell_type": "markdown",
   "metadata": {},
   "source": [
    "# Предобработка данных"
   ]
  },
  {
   "cell_type": "markdown",
   "metadata": {},
   "source": [
    "## Форматирование названий столбцов"
   ]
  },
  {
   "cell_type": "code",
   "execution_count": 10,
   "metadata": {},
   "outputs": [],
   "source": [
    "# Перепишем названия столбцов так, чтобы там использовались только строчные буквы. \n",
    "# Для этого напишем функцию\n",
    "\n",
    "def list_to_lower(columns):\n",
    "    \n",
    "    new_columns = []\n",
    "\n",
    "    for col in data.columns:\n",
    "        new_columns.append(col.lower())\n",
    "\n",
    "    return new_columns    "
   ]
  },
  {
   "cell_type": "code",
   "execution_count": 11,
   "metadata": {},
   "outputs": [],
   "source": [
    "# Применяем сформированную функцию к списку столбцов\n",
    "\n",
    "data.columns = list_to_lower(data.columns)"
   ]
  },
  {
   "cell_type": "code",
   "execution_count": 12,
   "metadata": {},
   "outputs": [
    {
     "data": {
      "text/html": [
       "<div>\n",
       "<style scoped>\n",
       "    .dataframe tbody tr th:only-of-type {\n",
       "        vertical-align: middle;\n",
       "    }\n",
       "\n",
       "    .dataframe tbody tr th {\n",
       "        vertical-align: top;\n",
       "    }\n",
       "\n",
       "    .dataframe thead th {\n",
       "        text-align: right;\n",
       "    }\n",
       "</style>\n",
       "<table border=\"1\" class=\"dataframe\">\n",
       "  <thead>\n",
       "    <tr style=\"text-align: right;\">\n",
       "      <th></th>\n",
       "      <th>name</th>\n",
       "      <th>platform</th>\n",
       "      <th>year_of_release</th>\n",
       "      <th>genre</th>\n",
       "      <th>na_sales</th>\n",
       "      <th>eu_sales</th>\n",
       "      <th>jp_sales</th>\n",
       "      <th>other_sales</th>\n",
       "      <th>critic_score</th>\n",
       "      <th>user_score</th>\n",
       "      <th>rating</th>\n",
       "    </tr>\n",
       "  </thead>\n",
       "  <tbody>\n",
       "    <tr>\n",
       "      <th>0</th>\n",
       "      <td>Wii Sports</td>\n",
       "      <td>Wii</td>\n",
       "      <td>2006.0</td>\n",
       "      <td>Sports</td>\n",
       "      <td>41.36</td>\n",
       "      <td>28.96</td>\n",
       "      <td>3.77</td>\n",
       "      <td>8.45</td>\n",
       "      <td>76.0</td>\n",
       "      <td>8</td>\n",
       "      <td>E</td>\n",
       "    </tr>\n",
       "    <tr>\n",
       "      <th>1</th>\n",
       "      <td>Super Mario Bros.</td>\n",
       "      <td>NES</td>\n",
       "      <td>1985.0</td>\n",
       "      <td>Platform</td>\n",
       "      <td>29.08</td>\n",
       "      <td>3.58</td>\n",
       "      <td>6.81</td>\n",
       "      <td>0.77</td>\n",
       "      <td>NaN</td>\n",
       "      <td>NaN</td>\n",
       "      <td>NaN</td>\n",
       "    </tr>\n",
       "    <tr>\n",
       "      <th>2</th>\n",
       "      <td>Mario Kart Wii</td>\n",
       "      <td>Wii</td>\n",
       "      <td>2008.0</td>\n",
       "      <td>Racing</td>\n",
       "      <td>15.68</td>\n",
       "      <td>12.76</td>\n",
       "      <td>3.79</td>\n",
       "      <td>3.29</td>\n",
       "      <td>82.0</td>\n",
       "      <td>8.3</td>\n",
       "      <td>E</td>\n",
       "    </tr>\n",
       "    <tr>\n",
       "      <th>3</th>\n",
       "      <td>Wii Sports Resort</td>\n",
       "      <td>Wii</td>\n",
       "      <td>2009.0</td>\n",
       "      <td>Sports</td>\n",
       "      <td>15.61</td>\n",
       "      <td>10.93</td>\n",
       "      <td>3.28</td>\n",
       "      <td>2.95</td>\n",
       "      <td>80.0</td>\n",
       "      <td>8</td>\n",
       "      <td>E</td>\n",
       "    </tr>\n",
       "    <tr>\n",
       "      <th>4</th>\n",
       "      <td>Pokemon Red/Pokemon Blue</td>\n",
       "      <td>GB</td>\n",
       "      <td>1996.0</td>\n",
       "      <td>Role-Playing</td>\n",
       "      <td>11.27</td>\n",
       "      <td>8.89</td>\n",
       "      <td>10.22</td>\n",
       "      <td>1.00</td>\n",
       "      <td>NaN</td>\n",
       "      <td>NaN</td>\n",
       "      <td>NaN</td>\n",
       "    </tr>\n",
       "  </tbody>\n",
       "</table>\n",
       "</div>"
      ],
      "text/plain": [
       "                       name platform  year_of_release         genre  na_sales  \\\n",
       "0                Wii Sports      Wii           2006.0        Sports     41.36   \n",
       "1         Super Mario Bros.      NES           1985.0      Platform     29.08   \n",
       "2            Mario Kart Wii      Wii           2008.0        Racing     15.68   \n",
       "3         Wii Sports Resort      Wii           2009.0        Sports     15.61   \n",
       "4  Pokemon Red/Pokemon Blue       GB           1996.0  Role-Playing     11.27   \n",
       "\n",
       "   eu_sales  jp_sales  other_sales  critic_score user_score rating  \n",
       "0     28.96      3.77         8.45          76.0          8      E  \n",
       "1      3.58      6.81         0.77           NaN        NaN    NaN  \n",
       "2     12.76      3.79         3.29          82.0        8.3      E  \n",
       "3     10.93      3.28         2.95          80.0          8      E  \n",
       "4      8.89     10.22         1.00           NaN        NaN    NaN  "
      ]
     },
     "execution_count": 12,
     "metadata": {},
     "output_type": "execute_result"
    }
   ],
   "source": [
    "# Проверяем результат на датасете\n",
    "\n",
    "data.head()"
   ]
  },
  {
   "cell_type": "markdown",
   "metadata": {},
   "source": [
    "## Удаление неинформативных строк"
   ]
  },
  {
   "cell_type": "code",
   "execution_count": 13,
   "metadata": {},
   "outputs": [],
   "source": [
    "# Удалим \"лишние\" строки (ориентируемся на строки с пропусками в столбце Name)\n",
    "\n",
    "data = data.drop(data[data['name'].isna()].index)"
   ]
  },
  {
   "cell_type": "code",
   "execution_count": 14,
   "metadata": {},
   "outputs": [],
   "source": [
    "# Удалим обнаруженные ранее строки с пропусками в продажах по всем регионам\n",
    "\n",
    "data = data.drop(data[(data['na_sales'] == 0) &\n",
    "                      (data['jp_sales'] == 0) &\n",
    "                      (data['eu_sales'] == 0) &\n",
    "                      (data['other_sales'] == 0)].index)"
   ]
  },
  {
   "cell_type": "code",
   "execution_count": 15,
   "metadata": {},
   "outputs": [],
   "source": [
    "# Сбрасываем нумерацию индексов в датафрейме\n",
    "\n",
    "data = data.reset_index()"
   ]
  },
  {
   "cell_type": "code",
   "execution_count": 16,
   "metadata": {},
   "outputs": [
    {
     "name": "stdout",
     "output_type": "stream",
     "text": [
      "<class 'pandas.core.frame.DataFrame'>\n",
      "RangeIndex: 16711 entries, 0 to 16710\n",
      "Data columns (total 12 columns):\n",
      " #   Column           Non-Null Count  Dtype  \n",
      "---  ------           --------------  -----  \n",
      " 0   index            16711 non-null  int64  \n",
      " 1   name             16711 non-null  object \n",
      " 2   platform         16711 non-null  object \n",
      " 3   year_of_release  16442 non-null  float64\n",
      " 4   genre            16711 non-null  object \n",
      " 5   na_sales         16711 non-null  float64\n",
      " 6   eu_sales         16711 non-null  float64\n",
      " 7   jp_sales         16711 non-null  float64\n",
      " 8   other_sales      16711 non-null  float64\n",
      " 9   critic_score     8137 non-null   float64\n",
      " 10  user_score       10014 non-null  object \n",
      " 11  rating           9949 non-null   object \n",
      "dtypes: float64(6), int64(1), object(5)\n",
      "memory usage: 1.5+ MB\n"
     ]
    }
   ],
   "source": [
    "# Проверяем состав датасета\n",
    "\n",
    "data.info()"
   ]
  },
  {
   "cell_type": "markdown",
   "metadata": {},
   "source": [
    "## Заполнение некоторых пропусков в годах выпуска игр"
   ]
  },
  {
   "cell_type": "code",
   "execution_count": 17,
   "metadata": {},
   "outputs": [
    {
     "data": {
      "text/plain": [
       "1980.0"
      ]
     },
     "execution_count": 17,
     "metadata": {},
     "output_type": "execute_result"
    }
   ],
   "source": [
    "# Найдем самый ранний год выпуска игры\n",
    "\n",
    "data['year_of_release'].min()"
   ]
  },
  {
   "cell_type": "code",
   "execution_count": 18,
   "metadata": {},
   "outputs": [],
   "source": [
    "# Создадим список лет с 1980 г. по 2016 г.\n",
    "\n",
    "period = range(1980, 2016)"
   ]
  },
  {
   "cell_type": "code",
   "execution_count": 19,
   "metadata": {},
   "outputs": [],
   "source": [
    "# Сформируем цикл, который разобьет названия игр построчно на слова, вытащит из этих элементов последний и,\n",
    "# если тот будет числом из сформированного ряда лет, заменит пропуск в столбце year_of_release на полученное значение\n",
    "\n",
    "for i in data[data['year_of_release'].isna()]['name'].index:\n",
    "    year = data[data['year_of_release'].isna()]['name'][i].split()[-1]\n",
    "\n",
    "    try:\n",
    "        if int(year) in period:\n",
    "             data.loc[i, 'year_of_release'] = int(year)\n",
    "\n",
    "    except:\n",
    "        None"
   ]
  },
  {
   "cell_type": "code",
   "execution_count": 20,
   "metadata": {},
   "outputs": [
    {
     "data": {
      "text/plain": [
       "254"
      ]
     },
     "execution_count": 20,
     "metadata": {},
     "output_type": "execute_result"
    }
   ],
   "source": [
    "# Проверяем количество пропусков в столбце (было 269 пропусков)\n",
    "\n",
    "data['year_of_release'].isna().sum()"
   ]
  },
  {
   "cell_type": "markdown",
   "metadata": {},
   "source": [
    "## Замена значений tbd в столбце user_score нулями"
   ]
  },
  {
   "cell_type": "code",
   "execution_count": 21,
   "metadata": {},
   "outputs": [],
   "source": [
    "# Для поиска и аннигиляции значений tbd наймем функцию-киллера\n",
    "\n",
    "def remove_tbd(row):\n",
    "    \n",
    "    score = row['user_score'] \n",
    "    \n",
    "    if score  == 'tbd':\n",
    "        return 0\n",
    "    \n",
    "    else:\n",
    "        return score"
   ]
  },
  {
   "cell_type": "code",
   "execution_count": 22,
   "metadata": {},
   "outputs": [],
   "source": [
    "# Даем наемнику добро на выполнение его гразной работы\n",
    "\n",
    "data['user_score'] = data.apply(remove_tbd, axis = 1) "
   ]
  },
  {
   "cell_type": "code",
   "execution_count": 23,
   "metadata": {},
   "outputs": [
    {
     "data": {
      "text/html": [
       "<div>\n",
       "<style scoped>\n",
       "    .dataframe tbody tr th:only-of-type {\n",
       "        vertical-align: middle;\n",
       "    }\n",
       "\n",
       "    .dataframe tbody tr th {\n",
       "        vertical-align: top;\n",
       "    }\n",
       "\n",
       "    .dataframe thead th {\n",
       "        text-align: right;\n",
       "    }\n",
       "</style>\n",
       "<table border=\"1\" class=\"dataframe\">\n",
       "  <thead>\n",
       "    <tr style=\"text-align: right;\">\n",
       "      <th></th>\n",
       "      <th>index</th>\n",
       "      <th>name</th>\n",
       "      <th>platform</th>\n",
       "      <th>year_of_release</th>\n",
       "      <th>genre</th>\n",
       "      <th>na_sales</th>\n",
       "      <th>eu_sales</th>\n",
       "      <th>jp_sales</th>\n",
       "      <th>other_sales</th>\n",
       "      <th>critic_score</th>\n",
       "      <th>user_score</th>\n",
       "      <th>rating</th>\n",
       "    </tr>\n",
       "  </thead>\n",
       "  <tbody>\n",
       "  </tbody>\n",
       "</table>\n",
       "</div>"
      ],
      "text/plain": [
       "Empty DataFrame\n",
       "Columns: [index, name, platform, year_of_release, genre, na_sales, eu_sales, jp_sales, other_sales, critic_score, user_score, rating]\n",
       "Index: []"
      ]
     },
     "execution_count": 23,
     "metadata": {},
     "output_type": "execute_result"
    }
   ],
   "source": [
    "# Требуем фотографию с доказательствами отсутствия клиента\n",
    "\n",
    "data[data['user_score'] == 'tbd']"
   ]
  },
  {
   "cell_type": "code",
   "execution_count": 24,
   "metadata": {},
   "outputs": [],
   "source": [
    "# Заметаем следы, переписав формат данных столбца на float64\n",
    "\n",
    "data['user_score'] = data['user_score'].astype('float')"
   ]
  },
  {
   "cell_type": "code",
   "execution_count": 25,
   "metadata": {},
   "outputs": [
    {
     "data": {
      "text/plain": [
       "dtype('float64')"
      ]
     },
     "execution_count": 25,
     "metadata": {},
     "output_type": "execute_result"
    }
   ],
   "source": [
    "# Проверяем формат данных\n",
    "\n",
    "data['user_score'].dtypes"
   ]
  },
  {
   "cell_type": "markdown",
   "metadata": {},
   "source": [
    "## Заполнение нулями пропуски в столбцах user_score и critics_score"
   ]
  },
  {
   "cell_type": "code",
   "execution_count": 26,
   "metadata": {},
   "outputs": [],
   "source": [
    "### Заполнение нулями пропуски в столбце user_score\n",
    "\n",
    "data['user_score'].fillna(0, inplace = True)"
   ]
  },
  {
   "cell_type": "code",
   "execution_count": 27,
   "metadata": {},
   "outputs": [
    {
     "data": {
      "text/plain": [
       "False    16711\n",
       "Name: user_score, dtype: int64"
      ]
     },
     "execution_count": 27,
     "metadata": {},
     "output_type": "execute_result"
    }
   ],
   "source": [
    "# Проверяем результат (должно быть равно 16711)\n",
    "\n",
    "data['user_score'].isna().value_counts()"
   ]
  },
  {
   "cell_type": "code",
   "execution_count": 28,
   "metadata": {},
   "outputs": [],
   "source": [
    "### Заполнение нулями пропуски в столбце critics_score\n",
    "\n",
    "data['critic_score'].fillna(0, inplace = True)"
   ]
  },
  {
   "cell_type": "code",
   "execution_count": 29,
   "metadata": {},
   "outputs": [
    {
     "data": {
      "text/plain": [
       "False    16711\n",
       "Name: critic_score, dtype: int64"
      ]
     },
     "execution_count": 29,
     "metadata": {},
     "output_type": "execute_result"
    }
   ],
   "source": [
    "# Проверяем результат (должно быть равно 16711)\n",
    "\n",
    "data['critic_score'].isna().value_counts()"
   ]
  },
  {
   "cell_type": "markdown",
   "metadata": {},
   "source": [
    "## Расчет суммарных продаж во всех регионах"
   ]
  },
  {
   "cell_type": "code",
   "execution_count": 30,
   "metadata": {},
   "outputs": [],
   "source": [
    "# Создадим новый столбец, содержащий сведения о продажах игры во всех областях\n",
    "\n",
    "data['sales_sum'] = data['na_sales'] + data['eu_sales'] + data['jp_sales'] + data['other_sales']"
   ]
  },
  {
   "cell_type": "code",
   "execution_count": 31,
   "metadata": {},
   "outputs": [
    {
     "data": {
      "text/html": [
       "<div>\n",
       "<style scoped>\n",
       "    .dataframe tbody tr th:only-of-type {\n",
       "        vertical-align: middle;\n",
       "    }\n",
       "\n",
       "    .dataframe tbody tr th {\n",
       "        vertical-align: top;\n",
       "    }\n",
       "\n",
       "    .dataframe thead th {\n",
       "        text-align: right;\n",
       "    }\n",
       "</style>\n",
       "<table border=\"1\" class=\"dataframe\">\n",
       "  <thead>\n",
       "    <tr style=\"text-align: right;\">\n",
       "      <th></th>\n",
       "      <th>index</th>\n",
       "      <th>name</th>\n",
       "      <th>platform</th>\n",
       "      <th>year_of_release</th>\n",
       "      <th>genre</th>\n",
       "      <th>na_sales</th>\n",
       "      <th>eu_sales</th>\n",
       "      <th>jp_sales</th>\n",
       "      <th>other_sales</th>\n",
       "      <th>critic_score</th>\n",
       "      <th>user_score</th>\n",
       "      <th>rating</th>\n",
       "      <th>sales_sum</th>\n",
       "    </tr>\n",
       "  </thead>\n",
       "  <tbody>\n",
       "    <tr>\n",
       "      <th>0</th>\n",
       "      <td>0</td>\n",
       "      <td>Wii Sports</td>\n",
       "      <td>Wii</td>\n",
       "      <td>2006.0</td>\n",
       "      <td>Sports</td>\n",
       "      <td>41.36</td>\n",
       "      <td>28.96</td>\n",
       "      <td>3.77</td>\n",
       "      <td>8.45</td>\n",
       "      <td>76.0</td>\n",
       "      <td>8.0</td>\n",
       "      <td>E</td>\n",
       "      <td>82.54</td>\n",
       "    </tr>\n",
       "    <tr>\n",
       "      <th>1</th>\n",
       "      <td>1</td>\n",
       "      <td>Super Mario Bros.</td>\n",
       "      <td>NES</td>\n",
       "      <td>1985.0</td>\n",
       "      <td>Platform</td>\n",
       "      <td>29.08</td>\n",
       "      <td>3.58</td>\n",
       "      <td>6.81</td>\n",
       "      <td>0.77</td>\n",
       "      <td>0.0</td>\n",
       "      <td>0.0</td>\n",
       "      <td>NaN</td>\n",
       "      <td>40.24</td>\n",
       "    </tr>\n",
       "    <tr>\n",
       "      <th>2</th>\n",
       "      <td>2</td>\n",
       "      <td>Mario Kart Wii</td>\n",
       "      <td>Wii</td>\n",
       "      <td>2008.0</td>\n",
       "      <td>Racing</td>\n",
       "      <td>15.68</td>\n",
       "      <td>12.76</td>\n",
       "      <td>3.79</td>\n",
       "      <td>3.29</td>\n",
       "      <td>82.0</td>\n",
       "      <td>8.3</td>\n",
       "      <td>E</td>\n",
       "      <td>35.52</td>\n",
       "    </tr>\n",
       "    <tr>\n",
       "      <th>3</th>\n",
       "      <td>3</td>\n",
       "      <td>Wii Sports Resort</td>\n",
       "      <td>Wii</td>\n",
       "      <td>2009.0</td>\n",
       "      <td>Sports</td>\n",
       "      <td>15.61</td>\n",
       "      <td>10.93</td>\n",
       "      <td>3.28</td>\n",
       "      <td>2.95</td>\n",
       "      <td>80.0</td>\n",
       "      <td>8.0</td>\n",
       "      <td>E</td>\n",
       "      <td>32.77</td>\n",
       "    </tr>\n",
       "    <tr>\n",
       "      <th>4</th>\n",
       "      <td>4</td>\n",
       "      <td>Pokemon Red/Pokemon Blue</td>\n",
       "      <td>GB</td>\n",
       "      <td>1996.0</td>\n",
       "      <td>Role-Playing</td>\n",
       "      <td>11.27</td>\n",
       "      <td>8.89</td>\n",
       "      <td>10.22</td>\n",
       "      <td>1.00</td>\n",
       "      <td>0.0</td>\n",
       "      <td>0.0</td>\n",
       "      <td>NaN</td>\n",
       "      <td>31.38</td>\n",
       "    </tr>\n",
       "  </tbody>\n",
       "</table>\n",
       "</div>"
      ],
      "text/plain": [
       "   index                      name platform  year_of_release         genre  \\\n",
       "0      0                Wii Sports      Wii           2006.0        Sports   \n",
       "1      1         Super Mario Bros.      NES           1985.0      Platform   \n",
       "2      2            Mario Kart Wii      Wii           2008.0        Racing   \n",
       "3      3         Wii Sports Resort      Wii           2009.0        Sports   \n",
       "4      4  Pokemon Red/Pokemon Blue       GB           1996.0  Role-Playing   \n",
       "\n",
       "   na_sales  eu_sales  jp_sales  other_sales  critic_score  user_score rating  \\\n",
       "0     41.36     28.96      3.77         8.45          76.0         8.0      E   \n",
       "1     29.08      3.58      6.81         0.77           0.0         0.0    NaN   \n",
       "2     15.68     12.76      3.79         3.29          82.0         8.3      E   \n",
       "3     15.61     10.93      3.28         2.95          80.0         8.0      E   \n",
       "4     11.27      8.89     10.22         1.00           0.0         0.0    NaN   \n",
       "\n",
       "   sales_sum  \n",
       "0      82.54  \n",
       "1      40.24  \n",
       "2      35.52  \n",
       "3      32.77  \n",
       "4      31.38  "
      ]
     },
     "execution_count": 31,
     "metadata": {},
     "output_type": "execute_result"
    }
   ],
   "source": [
    "# Проверяем результаты наших стараний\n",
    "\n",
    "data.head()"
   ]
  },
  {
   "cell_type": "markdown",
   "metadata": {},
   "source": [
    "## Выводы по разделу"
   ]
  },
  {
   "cell_type": "markdown",
   "metadata": {},
   "source": [
    "На данном этапе была осуществлена предобработка данных, которая в дальнейшем позволит проводить полноценный анализ на их основе:\n",
    "\n",
    "1. названия столбцов переведены в нижний регистр;\n",
    "2. удалены неинформативные строки;\n",
    "3. заполнена часть пропусков в годах выпуска игр значениями из названия;\n",
    "4. значения tbd в столбце user_score переписаны на нули;\n",
    "5. пропуски в столбцах user_score и critics_score заменены нулями\n",
    "6. создан новый столбец, содержащий суммарное количество продаж по регионам."
   ]
  },
  {
   "cell_type": "markdown",
   "metadata": {},
   "source": [
    "# Исследовательский анализ данных"
   ]
  },
  {
   "cell_type": "markdown",
   "metadata": {},
   "source": [
    "## Оценка показателей игростроя за все годы"
   ]
  },
  {
   "cell_type": "code",
   "execution_count": 32,
   "metadata": {},
   "outputs": [
    {
     "data": {
      "image/png": "[encoded data removed]",
      "text/plain": [
       "<Figure size 648x432 with 1 Axes>"
      ]
     },
     "metadata": {
      "needs_background": "light"
     },
     "output_type": "display_data"
    }
   ],
   "source": [
    "# Оценим показатели игростроения за все годы. \n",
    "# Для этого построим гистограмму по cnолбцу year_of_release\n",
    "\n",
    "data['year_of_release'].hist(bins = 35, figsize = (9,6)).set_title('Гистограмма распределения релизов игр по годам')\n",
    "plt.xlabel('Год выпуска', fontsize=12)\n",
    "plt.ylabel('Количество игр, шт.', fontsize=12)\n",
    "plt.show()"
   ]
  },
  {
   "cell_type": "markdown",
   "metadata": {},
   "source": [
    "Из гистограммы видно, что игростроение до 1994 года не показывало особых масштабов. Но далее оно сделало скачок, ежегодно наращивало темпы, а пик пришелся на 2007-2009 годы. После этого периода отмечается спад, вероятно из-за мирового кризиса, а также из-за исчерпания ресурсов старых приставок. Новый подъем в 2015 г. \n",
    "\n",
    "Можно сделать предположение, что информация до 1994 г. по данному вопросу незначительна, так как количество выпущенных до этого срока игр мало. Для оценки же последних веяний и предоставления прогнозов вообще следует использовать только сведения, которые касаются нового периода, когда вышли новые приставки и начался новый \"виток\" производства игр."
   ]
  },
  {
   "cell_type": "markdown",
   "metadata": {},
   "source": [
    "## Исследование развития продаж по платформам"
   ]
  },
  {
   "cell_type": "code",
   "execution_count": 33,
   "metadata": {},
   "outputs": [],
   "source": [
    "# Используем замечательное изобретение человечества - сводные таблицы - для подбора информации\n",
    "# о суммарных продажах игр по платформам\n",
    "\n",
    "platforms_sales  = (data.pivot_table(index = ['platform'],\n",
    "                                                values = ['sales_sum'], \n",
    "                                                aggfunc = 'sum')).sort_values(by = 'sales_sum', ascending = False)"
   ]
  },
  {
   "cell_type": "code",
   "execution_count": 34,
   "metadata": {},
   "outputs": [
    {
     "data": {
      "text/html": [
       "<div>\n",
       "<style scoped>\n",
       "    .dataframe tbody tr th:only-of-type {\n",
       "        vertical-align: middle;\n",
       "    }\n",
       "\n",
       "    .dataframe tbody tr th {\n",
       "        vertical-align: top;\n",
       "    }\n",
       "\n",
       "    .dataframe thead th {\n",
       "        text-align: right;\n",
       "    }\n",
       "</style>\n",
       "<table border=\"1\" class=\"dataframe\">\n",
       "  <thead>\n",
       "    <tr style=\"text-align: right;\">\n",
       "      <th></th>\n",
       "      <th>sales_sum</th>\n",
       "    </tr>\n",
       "    <tr>\n",
       "      <th>platform</th>\n",
       "      <th></th>\n",
       "    </tr>\n",
       "  </thead>\n",
       "  <tbody>\n",
       "    <tr>\n",
       "      <th>PS2</th>\n",
       "      <td>1255.77</td>\n",
       "    </tr>\n",
       "    <tr>\n",
       "      <th>X360</th>\n",
       "      <td>971.42</td>\n",
       "    </tr>\n",
       "    <tr>\n",
       "      <th>PS3</th>\n",
       "      <td>939.65</td>\n",
       "    </tr>\n",
       "    <tr>\n",
       "      <th>Wii</th>\n",
       "      <td>907.51</td>\n",
       "    </tr>\n",
       "    <tr>\n",
       "      <th>DS</th>\n",
       "      <td>806.12</td>\n",
       "    </tr>\n",
       "    <tr>\n",
       "      <th>PS</th>\n",
       "      <td>730.86</td>\n",
       "    </tr>\n",
       "    <tr>\n",
       "      <th>GBA</th>\n",
       "      <td>317.85</td>\n",
       "    </tr>\n",
       "    <tr>\n",
       "      <th>PS4</th>\n",
       "      <td>314.14</td>\n",
       "    </tr>\n",
       "    <tr>\n",
       "      <th>PSP</th>\n",
       "      <td>294.05</td>\n",
       "    </tr>\n",
       "    <tr>\n",
       "      <th>PC</th>\n",
       "      <td>259.52</td>\n",
       "    </tr>\n",
       "  </tbody>\n",
       "</table>\n",
       "</div>"
      ],
      "text/plain": [
       "          sales_sum\n",
       "platform           \n",
       "PS2         1255.77\n",
       "X360         971.42\n",
       "PS3          939.65\n",
       "Wii          907.51\n",
       "DS           806.12\n",
       "PS           730.86\n",
       "GBA          317.85\n",
       "PS4          314.14\n",
       "PSP          294.05\n",
       "PC           259.52"
      ]
     },
     "execution_count": 34,
     "metadata": {},
     "output_type": "execute_result"
    }
   ],
   "source": [
    "# Осмотрим полученный результат, выведя на экран ТОП-10 приставок по продажам\n",
    "\n",
    "platforms_sales.head(10)"
   ]
  },
  {
   "cell_type": "markdown",
   "metadata": {},
   "source": [
    "В абсолютных лидерах, обходя конкурентов на несколько корпусов, выделяется вторая \"плойка\". Затем идет предыдущий \"коробокс\", на третьем месте PS3. "
   ]
  },
  {
   "cell_type": "code",
   "execution_count": 35,
   "metadata": {},
   "outputs": [
    {
     "data": {
      "image/png": "[encoded data removed]",
      "text/plain": [
       "<Figure size 648x432 with 1 Axes>"
      ]
     },
     "metadata": {
      "needs_background": "light"
     },
     "output_type": "display_data"
    }
   ],
   "source": [
    "# Для оценки продаж игр по годам построим графики суммарных продаж по регионам \n",
    "# за каждый год для ТОП-4 платформ\n",
    "\n",
    "plt.figure(figsize=(9, 6))\n",
    "\n",
    "for platf in platforms_sales.head(4).index:\n",
    "    \n",
    "    plt.plot(data.query('platform == @platf').pivot_table(index = ['year_of_release'],\n",
    "                                                          values = ['sales_sum'],\n",
    "                                                          aggfunc = 'sum'), label= platf)\n",
    "plt.xlabel('Год', fontsize=12)\n",
    "plt.ylabel('Суммарные продажи, млн. копий', fontsize=12)\n",
    "plt.legend(loc='best')\n",
    "plt.grid()\n",
    "plt.show()"
   ]
  },
  {
   "cell_type": "markdown",
   "metadata": {},
   "source": [
    "Из построенных графиков видно, что цикл существованя приставки составляет около 10 лет, после чего они почти теряют популярность, вырабатывают свой ресурс, и появляются их сменщики. При этом пик продаж игр приходится примерно на 5-6 год существования платформы. С учетом того, что популярность PS2, Wii, X360, PS3 уже прошли, а на сцену вышли их сменщики - PS4 и XBox One, то актуальным периодом будем считать время с момента их выхода (2013 год) и по настоящее время."
   ]
  },
  {
   "cell_type": "markdown",
   "metadata": {},
   "source": [
    "## Получение среза за актуальный период"
   ]
  },
  {
   "cell_type": "markdown",
   "metadata": {},
   "source": [
    "Для получения рамок актуального периода нужно определить, какие платформы в данный момент являются действующими и когда они появились. Википедия дает информацию, что новые версии наиболее популярных систем PS и XBOX вышли в 2013 году. Это ознаменовало \"новую эру\" в игростроении, так как теперь равнение у всех игроделов будет именно на этих мастодонтов. Значит, актуальный период начинается именно в это время, так как предыдущие приставки теперь будут показывать только регресс по продажам, что хорошо видно по построенным ранее графикам."
   ]
  },
  {
   "cell_type": "code",
   "execution_count": 36,
   "metadata": {},
   "outputs": [],
   "source": [
    "# Сделаем срез по данным актуального периода \n",
    "# и сохраним их в новый датафрейм, который и будем использовать впредь\n",
    "\n",
    "data_actual = data.query('year_of_release >= 2013')"
   ]
  },
  {
   "cell_type": "code",
   "execution_count": 37,
   "metadata": {},
   "outputs": [
    {
     "data": {
      "text/html": [
       "<div>\n",
       "<style scoped>\n",
       "    .dataframe tbody tr th:only-of-type {\n",
       "        vertical-align: middle;\n",
       "    }\n",
       "\n",
       "    .dataframe tbody tr th {\n",
       "        vertical-align: top;\n",
       "    }\n",
       "\n",
       "    .dataframe thead th {\n",
       "        text-align: right;\n",
       "    }\n",
       "</style>\n",
       "<table border=\"1\" class=\"dataframe\">\n",
       "  <thead>\n",
       "    <tr style=\"text-align: right;\">\n",
       "      <th></th>\n",
       "      <th>index</th>\n",
       "      <th>name</th>\n",
       "      <th>platform</th>\n",
       "      <th>year_of_release</th>\n",
       "      <th>genre</th>\n",
       "      <th>na_sales</th>\n",
       "      <th>eu_sales</th>\n",
       "      <th>jp_sales</th>\n",
       "      <th>other_sales</th>\n",
       "      <th>critic_score</th>\n",
       "      <th>user_score</th>\n",
       "      <th>rating</th>\n",
       "      <th>sales_sum</th>\n",
       "    </tr>\n",
       "  </thead>\n",
       "  <tbody>\n",
       "    <tr>\n",
       "      <th>16</th>\n",
       "      <td>16</td>\n",
       "      <td>Grand Theft Auto V</td>\n",
       "      <td>PS3</td>\n",
       "      <td>2013.0</td>\n",
       "      <td>Action</td>\n",
       "      <td>7.02</td>\n",
       "      <td>9.09</td>\n",
       "      <td>0.98</td>\n",
       "      <td>3.96</td>\n",
       "      <td>97.0</td>\n",
       "      <td>8.2</td>\n",
       "      <td>M</td>\n",
       "      <td>21.05</td>\n",
       "    </tr>\n",
       "    <tr>\n",
       "      <th>23</th>\n",
       "      <td>23</td>\n",
       "      <td>Grand Theft Auto V</td>\n",
       "      <td>X360</td>\n",
       "      <td>2013.0</td>\n",
       "      <td>Action</td>\n",
       "      <td>9.66</td>\n",
       "      <td>5.14</td>\n",
       "      <td>0.06</td>\n",
       "      <td>1.41</td>\n",
       "      <td>97.0</td>\n",
       "      <td>8.1</td>\n",
       "      <td>M</td>\n",
       "      <td>16.27</td>\n",
       "    </tr>\n",
       "    <tr>\n",
       "      <th>31</th>\n",
       "      <td>31</td>\n",
       "      <td>Call of Duty: Black Ops 3</td>\n",
       "      <td>PS4</td>\n",
       "      <td>2015.0</td>\n",
       "      <td>Shooter</td>\n",
       "      <td>6.03</td>\n",
       "      <td>5.86</td>\n",
       "      <td>0.36</td>\n",
       "      <td>2.38</td>\n",
       "      <td>0.0</td>\n",
       "      <td>0.0</td>\n",
       "      <td>NaN</td>\n",
       "      <td>14.63</td>\n",
       "    </tr>\n",
       "    <tr>\n",
       "      <th>33</th>\n",
       "      <td>33</td>\n",
       "      <td>Pokemon X/Pokemon Y</td>\n",
       "      <td>3DS</td>\n",
       "      <td>2013.0</td>\n",
       "      <td>Role-Playing</td>\n",
       "      <td>5.28</td>\n",
       "      <td>4.19</td>\n",
       "      <td>4.35</td>\n",
       "      <td>0.78</td>\n",
       "      <td>0.0</td>\n",
       "      <td>0.0</td>\n",
       "      <td>NaN</td>\n",
       "      <td>14.60</td>\n",
       "    </tr>\n",
       "    <tr>\n",
       "      <th>42</th>\n",
       "      <td>42</td>\n",
       "      <td>Grand Theft Auto V</td>\n",
       "      <td>PS4</td>\n",
       "      <td>2014.0</td>\n",
       "      <td>Action</td>\n",
       "      <td>3.96</td>\n",
       "      <td>6.31</td>\n",
       "      <td>0.38</td>\n",
       "      <td>1.97</td>\n",
       "      <td>97.0</td>\n",
       "      <td>8.3</td>\n",
       "      <td>M</td>\n",
       "      <td>12.62</td>\n",
       "    </tr>\n",
       "  </tbody>\n",
       "</table>\n",
       "</div>"
      ],
      "text/plain": [
       "    index                       name platform  year_of_release         genre  \\\n",
       "16     16         Grand Theft Auto V      PS3           2013.0        Action   \n",
       "23     23         Grand Theft Auto V     X360           2013.0        Action   \n",
       "31     31  Call of Duty: Black Ops 3      PS4           2015.0       Shooter   \n",
       "33     33        Pokemon X/Pokemon Y      3DS           2013.0  Role-Playing   \n",
       "42     42         Grand Theft Auto V      PS4           2014.0        Action   \n",
       "\n",
       "    na_sales  eu_sales  jp_sales  other_sales  critic_score  user_score  \\\n",
       "16      7.02      9.09      0.98         3.96          97.0         8.2   \n",
       "23      9.66      5.14      0.06         1.41          97.0         8.1   \n",
       "31      6.03      5.86      0.36         2.38           0.0         0.0   \n",
       "33      5.28      4.19      4.35         0.78           0.0         0.0   \n",
       "42      3.96      6.31      0.38         1.97          97.0         8.3   \n",
       "\n",
       "   rating  sales_sum  \n",
       "16      M      21.05  \n",
       "23      M      16.27  \n",
       "31    NaN      14.63  \n",
       "33    NaN      14.60  \n",
       "42      M      12.62  "
      ]
     },
     "execution_count": 37,
     "metadata": {},
     "output_type": "execute_result"
    }
   ],
   "source": [
    "# Посмотрим результат\n",
    "\n",
    "data_actual.head()"
   ]
  },
  {
   "cell_type": "markdown",
   "metadata": {},
   "source": [
    "## Изучение результатов продаж игр в актуальный период по платформам"
   ]
  },
  {
   "cell_type": "code",
   "execution_count": 38,
   "metadata": {},
   "outputs": [],
   "source": [
    "# Получаем сводную таблицу с данными о глобальных продажах игр по платформам в актуальных период\n",
    "\n",
    "platforms_actual  = (data_actual.pivot_table(index = ['platform'],\n",
    "                                                values = ['sales_sum'], \n",
    "                                                aggfunc = 'sum')).sort_values(by = 'sales_sum', \n",
    "                                                                              ascending = False)"
   ]
  },
  {
   "cell_type": "code",
   "execution_count": 39,
   "metadata": {},
   "outputs": [
    {
     "data": {
      "text/html": [
       "<div>\n",
       "<style scoped>\n",
       "    .dataframe tbody tr th:only-of-type {\n",
       "        vertical-align: middle;\n",
       "    }\n",
       "\n",
       "    .dataframe tbody tr th {\n",
       "        vertical-align: top;\n",
       "    }\n",
       "\n",
       "    .dataframe thead th {\n",
       "        text-align: right;\n",
       "    }\n",
       "</style>\n",
       "<table border=\"1\" class=\"dataframe\">\n",
       "  <thead>\n",
       "    <tr style=\"text-align: right;\">\n",
       "      <th></th>\n",
       "      <th>sales_sum</th>\n",
       "    </tr>\n",
       "    <tr>\n",
       "      <th>platform</th>\n",
       "      <th></th>\n",
       "    </tr>\n",
       "  </thead>\n",
       "  <tbody>\n",
       "    <tr>\n",
       "      <th>PS4</th>\n",
       "      <td>314.14</td>\n",
       "    </tr>\n",
       "    <tr>\n",
       "      <th>PS3</th>\n",
       "      <td>181.43</td>\n",
       "    </tr>\n",
       "    <tr>\n",
       "      <th>XOne</th>\n",
       "      <td>159.32</td>\n",
       "    </tr>\n",
       "    <tr>\n",
       "      <th>3DS</th>\n",
       "      <td>143.25</td>\n",
       "    </tr>\n",
       "    <tr>\n",
       "      <th>X360</th>\n",
       "      <td>136.80</td>\n",
       "    </tr>\n",
       "    <tr>\n",
       "      <th>WiiU</th>\n",
       "      <td>64.63</td>\n",
       "    </tr>\n",
       "    <tr>\n",
       "      <th>PC</th>\n",
       "      <td>39.43</td>\n",
       "    </tr>\n",
       "    <tr>\n",
       "      <th>PSV</th>\n",
       "      <td>32.99</td>\n",
       "    </tr>\n",
       "    <tr>\n",
       "      <th>Wii</th>\n",
       "      <td>13.66</td>\n",
       "    </tr>\n",
       "    <tr>\n",
       "      <th>PSP</th>\n",
       "      <td>3.50</td>\n",
       "    </tr>\n",
       "  </tbody>\n",
       "</table>\n",
       "</div>"
      ],
      "text/plain": [
       "          sales_sum\n",
       "platform           \n",
       "PS4          314.14\n",
       "PS3          181.43\n",
       "XOne         159.32\n",
       "3DS          143.25\n",
       "X360         136.80\n",
       "WiiU          64.63\n",
       "PC            39.43\n",
       "PSV           32.99\n",
       "Wii           13.66\n",
       "PSP            3.50"
      ]
     },
     "execution_count": 39,
     "metadata": {},
     "output_type": "execute_result"
    }
   ],
   "source": [
    "# Посмотрим результат\n",
    "\n",
    "platforms_actual.head(10)"
   ]
  },
  {
   "cell_type": "markdown",
   "metadata": {},
   "source": [
    "Данные в таблице говорят сами за себя. В актуальный период вперед выходят новые платформы, в том числе PS4, XOne, Nintendo 3DS. Хотя PS3 все еще уждерживает неплохие позиции по суммарным продажам за эти годы. Для более детального мониторинга ситуации нужно построить графики продах по годам."
   ]
  },
  {
   "cell_type": "code",
   "execution_count": 40,
   "metadata": {},
   "outputs": [
    {
     "data": {
      "image/png": "[encoded data removed]",
      "text/plain": [
       "<Figure size 864x576 with 1 Axes>"
      ]
     },
     "metadata": {
      "needs_background": "light"
     },
     "output_type": "display_data"
    }
   ],
   "source": [
    "# Строим графики продаж игр по годам для ТОП-10 платформ\n",
    "\n",
    "plt.figure(figsize=(12, 8))\n",
    "\n",
    "for platf in platforms_actual.head(10).index:\n",
    "    \n",
    "    plt.plot(data_actual.query('platform == @platf').pivot_table(index = ['year_of_release'],\n",
    "                                                                 values = ['sales_sum'],\n",
    "                                                                 aggfunc = 'sum'), label= platf)\n",
    "\n",
    "plt.xlabel('Год', fontsize=12)\n",
    "plt.ylabel('Суммарные продажи, млн. копий', fontsize=12)\n",
    "plt.legend(loc='best')\n",
    "plt.grid()\n",
    "plt.show()"
   ]
  },
  {
   "cell_type": "markdown",
   "metadata": {},
   "source": [
    "По построенным графикам отчетливо видно, что все платформы, кроме PS4 и XOne показывают стабильность и уходят на покой. Четвертая \"плойка\" же и новый \"коробокс\" до 2015 года демонстрировали неплохой рост, а затем достаточно сильно просели. Думаю, что просадка может быть временным явлением, так как ресурс консолей еще не выработан, среднее время их существования ище не прошло. Таким образом, можно сделать вывод о перспективности только этих двух платформ."
   ]
  },
  {
   "cell_type": "markdown",
   "metadata": {},
   "source": [
    "## График «ящик с усами» по глобальным продажам игр в разбивке по платформам"
   ]
  },
  {
   "cell_type": "code",
   "execution_count": 41,
   "metadata": {},
   "outputs": [
    {
     "data": {
      "image/png": "[encoded data removed]",
      "text/plain": [
       "<Figure size 936x576 with 1 Axes>"
      ]
     },
     "metadata": {
      "needs_background": "light"
     },
     "output_type": "display_data"
    }
   ],
   "source": [
    "# Построим график \"ящик с усами\" по продажам, распределив данные по платформам\n",
    "\n",
    "data_actual.boxplot(column=['sales_sum'] , by = ['platform'], figsize = (13,8)).set_title('Диаграмма размаха продаж по платформам')\n",
    "plt.show()"
   ]
  },
  {
   "cell_type": "code",
   "execution_count": 42,
   "metadata": {},
   "outputs": [
    {
     "data": {
      "text/html": [
       "<div>\n",
       "<style scoped>\n",
       "    .dataframe tbody tr th:only-of-type {\n",
       "        vertical-align: middle;\n",
       "    }\n",
       "\n",
       "    .dataframe tbody tr th {\n",
       "        vertical-align: top;\n",
       "    }\n",
       "\n",
       "    .dataframe thead th {\n",
       "        text-align: right;\n",
       "    }\n",
       "</style>\n",
       "<table border=\"1\" class=\"dataframe\">\n",
       "  <thead>\n",
       "    <tr style=\"text-align: right;\">\n",
       "      <th></th>\n",
       "      <th>index</th>\n",
       "      <th>name</th>\n",
       "      <th>platform</th>\n",
       "      <th>year_of_release</th>\n",
       "      <th>genre</th>\n",
       "      <th>na_sales</th>\n",
       "      <th>eu_sales</th>\n",
       "      <th>jp_sales</th>\n",
       "      <th>other_sales</th>\n",
       "      <th>critic_score</th>\n",
       "      <th>user_score</th>\n",
       "      <th>rating</th>\n",
       "      <th>sales_sum</th>\n",
       "    </tr>\n",
       "  </thead>\n",
       "  <tbody>\n",
       "    <tr>\n",
       "      <th>16</th>\n",
       "      <td>16</td>\n",
       "      <td>Grand Theft Auto V</td>\n",
       "      <td>PS3</td>\n",
       "      <td>2013.0</td>\n",
       "      <td>Action</td>\n",
       "      <td>7.02</td>\n",
       "      <td>9.09</td>\n",
       "      <td>0.98</td>\n",
       "      <td>3.96</td>\n",
       "      <td>97.0</td>\n",
       "      <td>8.2</td>\n",
       "      <td>M</td>\n",
       "      <td>21.05</td>\n",
       "    </tr>\n",
       "  </tbody>\n",
       "</table>\n",
       "</div>"
      ],
      "text/plain": [
       "    index                name platform  year_of_release   genre  na_sales  \\\n",
       "16     16  Grand Theft Auto V      PS3           2013.0  Action      7.02   \n",
       "\n",
       "    eu_sales  jp_sales  other_sales  critic_score  user_score rating  \\\n",
       "16      9.09      0.98         3.96          97.0         8.2      M   \n",
       "\n",
       "    sales_sum  \n",
       "16      21.05  "
      ]
     },
     "execution_count": 42,
     "metadata": {},
     "output_type": "execute_result"
    }
   ],
   "source": [
    "# Посмотрим, что из себя представляет выброс по платформе PS3\n",
    "\n",
    "data_actual[data_actual['sales_sum'] == data_actual['sales_sum'].max()]"
   ]
  },
  {
   "cell_type": "markdown",
   "metadata": {},
   "source": [
    "На представленном графике диаграм усов, который был построен по значениям глобальных продаж игр по каждой из приставок в актуальный период, заметно, что медианные значения для каждой платформы не сильно отличаются друг от друга. При этом отчетливо видно, что в статистике присутствует значительное количество выбросов, что говорит о неравномерности в популярности игр. К примеру, на графике для PS3 есть значение, превышающее 20 млн. копий. \n",
    "\n",
    "Проверка показывает, что это значение соответствует игре GTA 5, что вполне соответствует истине и не является ошибкой в данных. При этом PSP, PSV и DS показывают близкое к нормальному распределение без \"отклонений\", что может говорить об отсуствии ярко выраженных \"бестселлеров\" для этих платформ. Таким образом, \"выбросы\" на данных графиках демонстрируют игры, которые стали мегапопулярными и выбились из общей массы."
   ]
  },
  {
   "cell_type": "markdown",
   "metadata": {},
   "source": [
    "## Изучение влияния рейтинга на продажи игр для PS4"
   ]
  },
  {
   "cell_type": "code",
   "execution_count": 43,
   "metadata": {},
   "outputs": [],
   "source": [
    "# Получим срез актуальных данных по популярной приставке PS4\n",
    "\n",
    "data_actual_ps4 = data_actual.query('platform == \"PS4\"')"
   ]
  },
  {
   "cell_type": "code",
   "execution_count": 44,
   "metadata": {},
   "outputs": [
    {
     "data": {
      "text/html": [
       "<div>\n",
       "<style scoped>\n",
       "    .dataframe tbody tr th:only-of-type {\n",
       "        vertical-align: middle;\n",
       "    }\n",
       "\n",
       "    .dataframe tbody tr th {\n",
       "        vertical-align: top;\n",
       "    }\n",
       "\n",
       "    .dataframe thead th {\n",
       "        text-align: right;\n",
       "    }\n",
       "</style>\n",
       "<table border=\"1\" class=\"dataframe\">\n",
       "  <thead>\n",
       "    <tr style=\"text-align: right;\">\n",
       "      <th></th>\n",
       "      <th>index</th>\n",
       "      <th>name</th>\n",
       "      <th>platform</th>\n",
       "      <th>year_of_release</th>\n",
       "      <th>genre</th>\n",
       "      <th>na_sales</th>\n",
       "      <th>eu_sales</th>\n",
       "      <th>jp_sales</th>\n",
       "      <th>other_sales</th>\n",
       "      <th>critic_score</th>\n",
       "      <th>user_score</th>\n",
       "      <th>rating</th>\n",
       "      <th>sales_sum</th>\n",
       "    </tr>\n",
       "  </thead>\n",
       "  <tbody>\n",
       "    <tr>\n",
       "      <th>31</th>\n",
       "      <td>31</td>\n",
       "      <td>Call of Duty: Black Ops 3</td>\n",
       "      <td>PS4</td>\n",
       "      <td>2015.0</td>\n",
       "      <td>Shooter</td>\n",
       "      <td>6.03</td>\n",
       "      <td>5.86</td>\n",
       "      <td>0.36</td>\n",
       "      <td>2.38</td>\n",
       "      <td>0.0</td>\n",
       "      <td>0.0</td>\n",
       "      <td>NaN</td>\n",
       "      <td>14.63</td>\n",
       "    </tr>\n",
       "    <tr>\n",
       "      <th>42</th>\n",
       "      <td>42</td>\n",
       "      <td>Grand Theft Auto V</td>\n",
       "      <td>PS4</td>\n",
       "      <td>2014.0</td>\n",
       "      <td>Action</td>\n",
       "      <td>3.96</td>\n",
       "      <td>6.31</td>\n",
       "      <td>0.38</td>\n",
       "      <td>1.97</td>\n",
       "      <td>97.0</td>\n",
       "      <td>8.3</td>\n",
       "      <td>M</td>\n",
       "      <td>12.62</td>\n",
       "    </tr>\n",
       "    <tr>\n",
       "      <th>77</th>\n",
       "      <td>77</td>\n",
       "      <td>FIFA 16</td>\n",
       "      <td>PS4</td>\n",
       "      <td>2015.0</td>\n",
       "      <td>Sports</td>\n",
       "      <td>1.12</td>\n",
       "      <td>6.12</td>\n",
       "      <td>0.06</td>\n",
       "      <td>1.28</td>\n",
       "      <td>82.0</td>\n",
       "      <td>4.3</td>\n",
       "      <td>E</td>\n",
       "      <td>8.58</td>\n",
       "    </tr>\n",
       "    <tr>\n",
       "      <th>87</th>\n",
       "      <td>87</td>\n",
       "      <td>Star Wars Battlefront (2015)</td>\n",
       "      <td>PS4</td>\n",
       "      <td>2015.0</td>\n",
       "      <td>Shooter</td>\n",
       "      <td>2.99</td>\n",
       "      <td>3.49</td>\n",
       "      <td>0.22</td>\n",
       "      <td>1.28</td>\n",
       "      <td>0.0</td>\n",
       "      <td>0.0</td>\n",
       "      <td>NaN</td>\n",
       "      <td>7.98</td>\n",
       "    </tr>\n",
       "    <tr>\n",
       "      <th>92</th>\n",
       "      <td>92</td>\n",
       "      <td>Call of Duty: Advanced Warfare</td>\n",
       "      <td>PS4</td>\n",
       "      <td>2014.0</td>\n",
       "      <td>Shooter</td>\n",
       "      <td>2.81</td>\n",
       "      <td>3.48</td>\n",
       "      <td>0.14</td>\n",
       "      <td>1.23</td>\n",
       "      <td>83.0</td>\n",
       "      <td>5.7</td>\n",
       "      <td>M</td>\n",
       "      <td>7.66</td>\n",
       "    </tr>\n",
       "  </tbody>\n",
       "</table>\n",
       "</div>"
      ],
      "text/plain": [
       "    index                            name platform  year_of_release    genre  \\\n",
       "31     31       Call of Duty: Black Ops 3      PS4           2015.0  Shooter   \n",
       "42     42              Grand Theft Auto V      PS4           2014.0   Action   \n",
       "77     77                         FIFA 16      PS4           2015.0   Sports   \n",
       "87     87    Star Wars Battlefront (2015)      PS4           2015.0  Shooter   \n",
       "92     92  Call of Duty: Advanced Warfare      PS4           2014.0  Shooter   \n",
       "\n",
       "    na_sales  eu_sales  jp_sales  other_sales  critic_score  user_score  \\\n",
       "31      6.03      5.86      0.36         2.38           0.0         0.0   \n",
       "42      3.96      6.31      0.38         1.97          97.0         8.3   \n",
       "77      1.12      6.12      0.06         1.28          82.0         4.3   \n",
       "87      2.99      3.49      0.22         1.28           0.0         0.0   \n",
       "92      2.81      3.48      0.14         1.23          83.0         5.7   \n",
       "\n",
       "   rating  sales_sum  \n",
       "31    NaN      14.63  \n",
       "42      M      12.62  \n",
       "77      E       8.58  \n",
       "87    NaN       7.98  \n",
       "92      M       7.66  "
      ]
     },
     "execution_count": 44,
     "metadata": {},
     "output_type": "execute_result"
    }
   ],
   "source": [
    "# Выводим результат\n",
    "\n",
    "data_actual_ps4.head()"
   ]
  },
  {
   "cell_type": "code",
   "execution_count": 45,
   "metadata": {},
   "outputs": [
    {
     "data": {
      "image/png": "[encoded data removed]",
      "text/plain": [
       "<Figure size 720x432 with 1 Axes>"
      ]
     },
     "metadata": {
      "needs_background": "light"
     },
     "output_type": "display_data"
    }
   ],
   "source": [
    "# Для визуализации зависимости между отзывами пользователей и глобальными продажами\n",
    "# построим диаграмму рассеяния по соответствующим столбцам. При этом будем отсекать нулевые\n",
    "# значения рейтинга\n",
    "\n",
    "data_actual_ps4.query('user_score != 0').plot(x='user_score', y='sales_sum', kind='scatter', alpha=0.2, figsize=(10,6)).set_title('Диаграмма рассеяния зависимости продаж и рейтинга игры')\n",
    "plt.xlabel('Пользовательский рейтинг, баллы', fontsize=12)\n",
    "plt.ylabel('Суммарные продажи, млн шт.', fontsize=12)\n",
    "plt.show()"
   ]
  },
  {
   "cell_type": "code",
   "execution_count": 46,
   "metadata": {},
   "outputs": [
    {
     "data": {
      "text/plain": [
       "-0.03195711020455643"
      ]
     },
     "execution_count": 46,
     "metadata": {},
     "output_type": "execute_result"
    }
   ],
   "source": [
    "# Для тех же данных посчитаем коэффициент корреляции\n",
    "\n",
    "data_actual_ps4.query('user_score != 0')['user_score'].corr(data_actual_ps4.query('user_score != 0')['sales_sum'])"
   ]
  },
  {
   "cell_type": "code",
   "execution_count": 47,
   "metadata": {},
   "outputs": [
    {
     "data": {
      "image/png": "[encoded data removed]",
      "text/plain": [
       "<Figure size 720x432 with 1 Axes>"
      ]
     },
     "metadata": {
      "needs_background": "light"
     },
     "output_type": "display_data"
    }
   ],
   "source": [
    "# Точно те же действия проделаем для столбца с оценками критиков\n",
    "\n",
    "data_actual_ps4.query('critic_score != 0').plot(x='critic_score', y='sales_sum', kind='scatter',alpha=0.3, figsize=(10,6)).set_title('Диаграмма рассеяния зависимости продаж и оценки критиков игры')\n",
    "plt.xlabel('Оценка критиков, баллы', fontsize=12)\n",
    "plt.ylabel('Суммарные продажи, млн шт.', fontsize=12)\n",
    "plt.show()"
   ]
  },
  {
   "cell_type": "code",
   "execution_count": 48,
   "metadata": {},
   "outputs": [
    {
     "data": {
      "text/plain": [
       "0.4065679020617816"
      ]
     },
     "execution_count": 48,
     "metadata": {},
     "output_type": "execute_result"
    }
   ],
   "source": [
    "# И считаем коэффициент корреляции для столбцов critic_score и sales_sum\n",
    "\n",
    "data_actual_ps4.query('critic_score != 0')['critic_score'].corr(data_actual_ps4.query('critic_score != 0')['sales_sum'])"
   ]
  },
  {
   "cell_type": "markdown",
   "metadata": {},
   "source": [
    "Складывается интересная картина. Диаграмма рассеяния для взаимозависимости оценок пользователей и продаж не показывает четкой структуры. Присутствует разброс и шатание, по которому нельзя выявить четкого тренда, а коэффициент корреляции вообще отрицательный, хоть и небольшой (-0.03). Это можно объяснить тем, что такие рейтинги часто накручивают, что меняет истинную картину, игроки не всегда могут объективно дать оценки. Это приводит к тому, что четкой зависимости здесь не проглядвается, если не отсекать по какому-либо критерию неправдоподобные баллы.\n",
    "    \n",
    "По отзывам критиков ситуация иная. Диаграмма рассеяния рисует нам более четкую картину увеличения количества продаж при росте оценки. Это подтверждает положительный коэффициент корреляции (0.4). \n",
    "\n",
    "Поэтому можно говорить о том, что чем выше оценка профессионалов, тем больше будет продаж, а еще о том, что чем лучше игра продается, тем она качественнее и интереснее, а, значит, отзывы критиков лучше."
   ]
  },
  {
   "cell_type": "markdown",
   "metadata": {},
   "source": [
    "## Сравнение выводов предыдущего пункта с продажами по \"коробоксу\""
   ]
  },
  {
   "cell_type": "code",
   "execution_count": 49,
   "metadata": {},
   "outputs": [],
   "source": [
    "# Получим срез актуальных данных по популярной приставке XOne\n",
    "\n",
    "data_actual_xone = data_actual.query('platform == \"XOne\"')"
   ]
  },
  {
   "cell_type": "code",
   "execution_count": 50,
   "metadata": {},
   "outputs": [
    {
     "data": {
      "text/html": [
       "<div>\n",
       "<style scoped>\n",
       "    .dataframe tbody tr th:only-of-type {\n",
       "        vertical-align: middle;\n",
       "    }\n",
       "\n",
       "    .dataframe tbody tr th {\n",
       "        vertical-align: top;\n",
       "    }\n",
       "\n",
       "    .dataframe thead th {\n",
       "        text-align: right;\n",
       "    }\n",
       "</style>\n",
       "<table border=\"1\" class=\"dataframe\">\n",
       "  <thead>\n",
       "    <tr style=\"text-align: right;\">\n",
       "      <th></th>\n",
       "      <th>index</th>\n",
       "      <th>name</th>\n",
       "      <th>platform</th>\n",
       "      <th>year_of_release</th>\n",
       "      <th>genre</th>\n",
       "      <th>na_sales</th>\n",
       "      <th>eu_sales</th>\n",
       "      <th>jp_sales</th>\n",
       "      <th>other_sales</th>\n",
       "      <th>critic_score</th>\n",
       "      <th>user_score</th>\n",
       "      <th>rating</th>\n",
       "      <th>sales_sum</th>\n",
       "    </tr>\n",
       "  </thead>\n",
       "  <tbody>\n",
       "    <tr>\n",
       "      <th>99</th>\n",
       "      <td>99</td>\n",
       "      <td>Call of Duty: Black Ops 3</td>\n",
       "      <td>XOne</td>\n",
       "      <td>2015.0</td>\n",
       "      <td>Shooter</td>\n",
       "      <td>4.59</td>\n",
       "      <td>2.11</td>\n",
       "      <td>0.01</td>\n",
       "      <td>0.68</td>\n",
       "      <td>0.0</td>\n",
       "      <td>0.0</td>\n",
       "      <td>NaN</td>\n",
       "      <td>7.39</td>\n",
       "    </tr>\n",
       "    <tr>\n",
       "      <th>165</th>\n",
       "      <td>165</td>\n",
       "      <td>Grand Theft Auto V</td>\n",
       "      <td>XOne</td>\n",
       "      <td>2014.0</td>\n",
       "      <td>Action</td>\n",
       "      <td>2.81</td>\n",
       "      <td>2.19</td>\n",
       "      <td>0.00</td>\n",
       "      <td>0.47</td>\n",
       "      <td>97.0</td>\n",
       "      <td>7.9</td>\n",
       "      <td>M</td>\n",
       "      <td>5.47</td>\n",
       "    </tr>\n",
       "    <tr>\n",
       "      <th>179</th>\n",
       "      <td>179</td>\n",
       "      <td>Call of Duty: Advanced Warfare</td>\n",
       "      <td>XOne</td>\n",
       "      <td>2014.0</td>\n",
       "      <td>Shooter</td>\n",
       "      <td>3.22</td>\n",
       "      <td>1.55</td>\n",
       "      <td>0.01</td>\n",
       "      <td>0.48</td>\n",
       "      <td>81.0</td>\n",
       "      <td>5.4</td>\n",
       "      <td>M</td>\n",
       "      <td>5.26</td>\n",
       "    </tr>\n",
       "    <tr>\n",
       "      <th>242</th>\n",
       "      <td>242</td>\n",
       "      <td>Halo 5: Guardians</td>\n",
       "      <td>XOne</td>\n",
       "      <td>2015.0</td>\n",
       "      <td>Shooter</td>\n",
       "      <td>2.78</td>\n",
       "      <td>1.27</td>\n",
       "      <td>0.03</td>\n",
       "      <td>0.41</td>\n",
       "      <td>84.0</td>\n",
       "      <td>6.4</td>\n",
       "      <td>T</td>\n",
       "      <td>4.49</td>\n",
       "    </tr>\n",
       "    <tr>\n",
       "      <th>270</th>\n",
       "      <td>270</td>\n",
       "      <td>Fallout 4</td>\n",
       "      <td>XOne</td>\n",
       "      <td>2015.0</td>\n",
       "      <td>Role-Playing</td>\n",
       "      <td>2.51</td>\n",
       "      <td>1.32</td>\n",
       "      <td>0.01</td>\n",
       "      <td>0.38</td>\n",
       "      <td>88.0</td>\n",
       "      <td>6.2</td>\n",
       "      <td>M</td>\n",
       "      <td>4.22</td>\n",
       "    </tr>\n",
       "  </tbody>\n",
       "</table>\n",
       "</div>"
      ],
      "text/plain": [
       "     index                            name platform  year_of_release  \\\n",
       "99      99       Call of Duty: Black Ops 3     XOne           2015.0   \n",
       "165    165              Grand Theft Auto V     XOne           2014.0   \n",
       "179    179  Call of Duty: Advanced Warfare     XOne           2014.0   \n",
       "242    242               Halo 5: Guardians     XOne           2015.0   \n",
       "270    270                       Fallout 4     XOne           2015.0   \n",
       "\n",
       "            genre  na_sales  eu_sales  jp_sales  other_sales  critic_score  \\\n",
       "99        Shooter      4.59      2.11      0.01         0.68           0.0   \n",
       "165        Action      2.81      2.19      0.00         0.47          97.0   \n",
       "179       Shooter      3.22      1.55      0.01         0.48          81.0   \n",
       "242       Shooter      2.78      1.27      0.03         0.41          84.0   \n",
       "270  Role-Playing      2.51      1.32      0.01         0.38          88.0   \n",
       "\n",
       "     user_score rating  sales_sum  \n",
       "99          0.0    NaN       7.39  \n",
       "165         7.9      M       5.47  \n",
       "179         5.4      M       5.26  \n",
       "242         6.4      T       4.49  \n",
       "270         6.2      M       4.22  "
      ]
     },
     "execution_count": 50,
     "metadata": {},
     "output_type": "execute_result"
    }
   ],
   "source": [
    "# Выводим результат\n",
    "\n",
    "data_actual_xone.head()"
   ]
  },
  {
   "cell_type": "code",
   "execution_count": 51,
   "metadata": {},
   "outputs": [
    {
     "data": {
      "image/png": "[encoded data removed]",
      "text/plain": [
       "<Figure size 720x432 with 1 Axes>"
      ]
     },
     "metadata": {
      "needs_background": "light"
     },
     "output_type": "display_data"
    }
   ],
   "source": [
    "# Для визуализации зависимости между отзывами пользователей и глобальными продажами\n",
    "# построим диаграмму рассеяния по соответствующим столбцам. \n",
    "\n",
    "data_actual_xone.query('user_score != 0').plot(x='user_score', y='sales_sum', kind='scatter', alpha=0.2, figsize=(10,6)).set_title('Диаграмма рассеяния зависимости продаж и рейтинга игры')\n",
    "plt.xlabel('Оценка пользователей, баллы', fontsize=12)\n",
    "plt.ylabel('Суммарные продажи, млн шт.', fontsize=12)\n",
    "plt.show()"
   ]
  },
  {
   "cell_type": "code",
   "execution_count": 52,
   "metadata": {},
   "outputs": [
    {
     "data": {
      "text/plain": [
       "-0.06892505328279416"
      ]
     },
     "execution_count": 52,
     "metadata": {},
     "output_type": "execute_result"
    }
   ],
   "source": [
    "# Для тех же данных посчитаем коэффициент корреляции\n",
    "\n",
    "data_actual_xone.query('user_score != 0')['user_score'].corr(data_actual_xone.query('user_score != 0')['sales_sum'])"
   ]
  },
  {
   "cell_type": "code",
   "execution_count": 53,
   "metadata": {},
   "outputs": [
    {
     "data": {
      "image/png": "[encoded data removed]",
      "text/plain": [
       "<Figure size 720x432 with 1 Axes>"
      ]
     },
     "metadata": {
      "needs_background": "light"
     },
     "output_type": "display_data"
    }
   ],
   "source": [
    "# Точно те же действия проделаем для столбца с оценками критиков\n",
    "\n",
    "data_actual_xone.query('critic_score != 0').plot(x='critic_score', y='sales_sum', kind='scatter',alpha=0.3, figsize=(10,6)).set_title('Диаграмма рассеяния зависимости продаж и оценки критиков игры')\n",
    "plt.xlabel('Оценка критиков, баллы', fontsize=12)\n",
    "plt.ylabel('Суммарные продажи, млн шт.', fontsize=12)\n",
    "plt.show() "
   ]
  },
  {
   "cell_type": "code",
   "execution_count": 54,
   "metadata": {},
   "outputs": [
    {
     "data": {
      "text/plain": [
       "0.4169983280084017"
      ]
     },
     "execution_count": 54,
     "metadata": {},
     "output_type": "execute_result"
    }
   ],
   "source": [
    "# И считаем коэффициент корреляции для столбцов critic_score и sales_sum\n",
    "\n",
    "data_actual_xone.query('critic_score != 0')['critic_score'].corr(data_actual_xone.query('critic_score != 0')['sales_sum'])"
   ]
  },
  {
   "cell_type": "markdown",
   "metadata": {},
   "source": [
    "Данные по \"коробоксу\" практически полностью повторяют исследование по \"плойке\". Коэффициенты корреляции близки к показателям по PS4. Таким образом, можно сделать предположение об общем тренде для всех консолей."
   ]
  },
  {
   "cell_type": "markdown",
   "metadata": {},
   "source": [
    "## Анализ зависимости популярности игр от жанра"
   ]
  },
  {
   "cell_type": "code",
   "execution_count": 55,
   "metadata": {},
   "outputs": [
    {
     "data": {
      "text/html": [
       "<div>\n",
       "<style scoped>\n",
       "    .dataframe tbody tr th:only-of-type {\n",
       "        vertical-align: middle;\n",
       "    }\n",
       "\n",
       "    .dataframe tbody tr th {\n",
       "        vertical-align: top;\n",
       "    }\n",
       "\n",
       "    .dataframe thead th {\n",
       "        text-align: right;\n",
       "    }\n",
       "</style>\n",
       "<table border=\"1\" class=\"dataframe\">\n",
       "  <thead>\n",
       "    <tr style=\"text-align: right;\">\n",
       "      <th></th>\n",
       "      <th>sales_sum</th>\n",
       "    </tr>\n",
       "    <tr>\n",
       "      <th>genre</th>\n",
       "      <th></th>\n",
       "    </tr>\n",
       "  </thead>\n",
       "  <tbody>\n",
       "    <tr>\n",
       "      <th>Action</th>\n",
       "      <td>321.87</td>\n",
       "    </tr>\n",
       "    <tr>\n",
       "      <th>Shooter</th>\n",
       "      <td>232.98</td>\n",
       "    </tr>\n",
       "    <tr>\n",
       "      <th>Sports</th>\n",
       "      <td>150.65</td>\n",
       "    </tr>\n",
       "    <tr>\n",
       "      <th>Role-Playing</th>\n",
       "      <td>145.89</td>\n",
       "    </tr>\n",
       "    <tr>\n",
       "      <th>Misc</th>\n",
       "      <td>62.82</td>\n",
       "    </tr>\n",
       "    <tr>\n",
       "      <th>Platform</th>\n",
       "      <td>42.63</td>\n",
       "    </tr>\n",
       "    <tr>\n",
       "      <th>Racing</th>\n",
       "      <td>39.89</td>\n",
       "    </tr>\n",
       "    <tr>\n",
       "      <th>Fighting</th>\n",
       "      <td>35.31</td>\n",
       "    </tr>\n",
       "    <tr>\n",
       "      <th>Adventure</th>\n",
       "      <td>23.64</td>\n",
       "    </tr>\n",
       "    <tr>\n",
       "      <th>Simulation</th>\n",
       "      <td>21.76</td>\n",
       "    </tr>\n",
       "    <tr>\n",
       "      <th>Strategy</th>\n",
       "      <td>10.08</td>\n",
       "    </tr>\n",
       "    <tr>\n",
       "      <th>Puzzle</th>\n",
       "      <td>3.17</td>\n",
       "    </tr>\n",
       "  </tbody>\n",
       "</table>\n",
       "</div>"
      ],
      "text/plain": [
       "              sales_sum\n",
       "genre                  \n",
       "Action           321.87\n",
       "Shooter          232.98\n",
       "Sports           150.65\n",
       "Role-Playing     145.89\n",
       "Misc              62.82\n",
       "Platform          42.63\n",
       "Racing            39.89\n",
       "Fighting          35.31\n",
       "Adventure         23.64\n",
       "Simulation        21.76\n",
       "Strategy          10.08\n",
       "Puzzle             3.17"
      ]
     },
     "execution_count": 55,
     "metadata": {},
     "output_type": "execute_result"
    }
   ],
   "source": [
    "# С помощью сводной таблицы посчитаем суммарное количество продаж по жанрам игры\n",
    "\n",
    "data_actual.pivot_table(index = ['genre'], values = ['sales_sum'], aggfunc = 'sum').sort_values(by = 'sales_sum', ascending = False)"
   ]
  },
  {
   "cell_type": "markdown",
   "metadata": {},
   "source": [
    "Из полученного столбца явно видно, что самым популярным жанром в актуальный период являются Action-игры. Они занимают первое место с достаточно большим отрывом (321.87 млн. проданных копий против 232.98 млн. у жанра Shooter). \n",
    "\n",
    "C остальными же играми даже и сравнивать не приходится, так как в более-менее приемлемых рамках держатся жанры Sports (150.65 млн. копий) и Role-Playing (145.89 млн. копий), а дальше идет резкое падение показателей.\n",
    "    \n",
    "Есть и антипод жанра Action - игры формата Puzzle (3.17 млн. копий). Логика нынче не в почете у игроков. А самое обидное - показатели жанра Strategy (10.08 млн. копий, большая часть из них, наверное, один только StarCraft дает). А ведь это отличный жанр!"
   ]
  },
  {
   "cell_type": "markdown",
   "metadata": {},
   "source": [
    "## Выводы по разделу"
   ]
  },
  {
   "cell_type": "markdown",
   "metadata": {},
   "source": [
    "- В данной части работы были определены лучшие платформы по продажам за все годы (PS2, X360, PS3, Wii  на вершине ТОПа). \n",
    "    \n",
    "- Получено представление о развитии игровой индустрии за все годы, в результате чего выяснено, что массовые производство и продажа игр стали активно развиваться в 1994 году. \n",
    "- Оценен срок популярности игровой приставки, который составляет в среднем 10 лет, сделано предположение о том, что актуальный периодом для изучения и построения прогнозов по его показателем начинается в 2013 году. Дальнейшая часть работы строится исключительно на показателях с этого года.\n",
    "- Построены графики развития уровня продаж по платформам за актуальный период. Выяснено, что перспективными приставками являются PS4 и XOne\n",
    "- Построены \"ящики с усами\" по продажам на каждой платформе. Из их анализа сделан вывод, что выбросами в данной информации являются бестселлеры по продажам. Например, для PS3 - GTA V\n",
    "- Проанализирована зависимость уровня продаж на PS4 b XOne от оценок критиков и пользователей, посчитаны коэффициенты корреляции (-0.03 для оценок пользователей и 0.41 для рецензий критиков для PS4 и -0.06 для оценок пользователей и 0.42 для рецензий критиков для XOne) и построены диаграммы рассеяния. Расчет показал, что зависимость продаж от отзывов игроков по расчетам является отрицательной, но здесь стоит брать поправку на необъективность данных, что делает эти данные нежелательными для анализа без их дополнительной обработки. Для зависимости же продаж от рейтинга критиков все четко и ясно, она является прямой.\n",
    "- Изучены продажи игр по жанрам. Больше всего на сегодняшний день играют в Action-игры, на втором месте Shooter-ы. Хуже всего продаются жанры Puzzle и Strategy."
   ]
  },
  {
   "cell_type": "markdown",
   "metadata": {},
   "source": [
    "# Составление портрета пользователя каждого региона"
   ]
  },
  {
   "cell_type": "markdown",
   "metadata": {},
   "source": [
    "## Определение приоритетов по платформам"
   ]
  },
  {
   "cell_type": "code",
   "execution_count": 56,
   "metadata": {},
   "outputs": [
    {
     "data": {
      "text/html": [
       "<div>\n",
       "<style scoped>\n",
       "    .dataframe tbody tr th:only-of-type {\n",
       "        vertical-align: middle;\n",
       "    }\n",
       "\n",
       "    .dataframe tbody tr th {\n",
       "        vertical-align: top;\n",
       "    }\n",
       "\n",
       "    .dataframe thead th {\n",
       "        text-align: right;\n",
       "    }\n",
       "</style>\n",
       "<table border=\"1\" class=\"dataframe\">\n",
       "  <thead>\n",
       "    <tr style=\"text-align: right;\">\n",
       "      <th></th>\n",
       "      <th>na_sales</th>\n",
       "    </tr>\n",
       "    <tr>\n",
       "      <th>platform</th>\n",
       "      <th></th>\n",
       "    </tr>\n",
       "  </thead>\n",
       "  <tbody>\n",
       "    <tr>\n",
       "      <th>PS4</th>\n",
       "      <td>108.74</td>\n",
       "    </tr>\n",
       "    <tr>\n",
       "      <th>XOne</th>\n",
       "      <td>93.12</td>\n",
       "    </tr>\n",
       "    <tr>\n",
       "      <th>X360</th>\n",
       "      <td>81.66</td>\n",
       "    </tr>\n",
       "    <tr>\n",
       "      <th>PS3</th>\n",
       "      <td>63.50</td>\n",
       "    </tr>\n",
       "    <tr>\n",
       "      <th>3DS</th>\n",
       "      <td>38.20</td>\n",
       "    </tr>\n",
       "  </tbody>\n",
       "</table>\n",
       "</div>"
      ],
      "text/plain": [
       "          na_sales\n",
       "platform          \n",
       "PS4         108.74\n",
       "XOne         93.12\n",
       "X360         81.66\n",
       "PS3          63.50\n",
       "3DS          38.20"
      ]
     },
     "execution_count": 56,
     "metadata": {},
     "output_type": "execute_result"
    }
   ],
   "source": [
    "# С помощью сводной таблицы подсчитаем продажи игр в Северной Америке по платформам\n",
    "\n",
    "data_actual.pivot_table(index = ['platform'],\n",
    "                        values = ['na_sales',],\n",
    "                        aggfunc = 'sum').sort_values(by = ['na_sales'], ascending = False).head()"
   ]
  },
  {
   "cell_type": "code",
   "execution_count": 57,
   "metadata": {},
   "outputs": [
    {
     "data": {
      "text/html": [
       "<div>\n",
       "<style scoped>\n",
       "    .dataframe tbody tr th:only-of-type {\n",
       "        vertical-align: middle;\n",
       "    }\n",
       "\n",
       "    .dataframe tbody tr th {\n",
       "        vertical-align: top;\n",
       "    }\n",
       "\n",
       "    .dataframe thead th {\n",
       "        text-align: right;\n",
       "    }\n",
       "</style>\n",
       "<table border=\"1\" class=\"dataframe\">\n",
       "  <thead>\n",
       "    <tr style=\"text-align: right;\">\n",
       "      <th></th>\n",
       "      <th>eu_sales</th>\n",
       "    </tr>\n",
       "    <tr>\n",
       "      <th>platform</th>\n",
       "      <th></th>\n",
       "    </tr>\n",
       "  </thead>\n",
       "  <tbody>\n",
       "    <tr>\n",
       "      <th>PS4</th>\n",
       "      <td>141.09</td>\n",
       "    </tr>\n",
       "    <tr>\n",
       "      <th>PS3</th>\n",
       "      <td>67.81</td>\n",
       "    </tr>\n",
       "    <tr>\n",
       "      <th>XOne</th>\n",
       "      <td>51.59</td>\n",
       "    </tr>\n",
       "    <tr>\n",
       "      <th>X360</th>\n",
       "      <td>42.52</td>\n",
       "    </tr>\n",
       "    <tr>\n",
       "      <th>3DS</th>\n",
       "      <td>30.96</td>\n",
       "    </tr>\n",
       "  </tbody>\n",
       "</table>\n",
       "</div>"
      ],
      "text/plain": [
       "          eu_sales\n",
       "platform          \n",
       "PS4         141.09\n",
       "PS3          67.81\n",
       "XOne         51.59\n",
       "X360         42.52\n",
       "3DS          30.96"
      ]
     },
     "execution_count": 57,
     "metadata": {},
     "output_type": "execute_result"
    }
   ],
   "source": [
    "# С помощью сводной таблицы подсчитаем продажи игр в Евросоюзе по платформам\n",
    "\n",
    "data_actual.pivot_table(index = ['platform'],\n",
    "                        values = ['eu_sales'],\n",
    "                        aggfunc = 'sum').sort_values(by = 'eu_sales', ascending = False).head()"
   ]
  },
  {
   "cell_type": "code",
   "execution_count": 58,
   "metadata": {
    "tags": []
   },
   "outputs": [
    {
     "data": {
      "text/html": [
       "<div>\n",
       "<style scoped>\n",
       "    .dataframe tbody tr th:only-of-type {\n",
       "        vertical-align: middle;\n",
       "    }\n",
       "\n",
       "    .dataframe tbody tr th {\n",
       "        vertical-align: top;\n",
       "    }\n",
       "\n",
       "    .dataframe thead th {\n",
       "        text-align: right;\n",
       "    }\n",
       "</style>\n",
       "<table border=\"1\" class=\"dataframe\">\n",
       "  <thead>\n",
       "    <tr style=\"text-align: right;\">\n",
       "      <th></th>\n",
       "      <th>jp_sales</th>\n",
       "    </tr>\n",
       "    <tr>\n",
       "      <th>platform</th>\n",
       "      <th></th>\n",
       "    </tr>\n",
       "  </thead>\n",
       "  <tbody>\n",
       "    <tr>\n",
       "      <th>3DS</th>\n",
       "      <td>67.81</td>\n",
       "    </tr>\n",
       "    <tr>\n",
       "      <th>PS3</th>\n",
       "      <td>23.35</td>\n",
       "    </tr>\n",
       "    <tr>\n",
       "      <th>PSV</th>\n",
       "      <td>18.59</td>\n",
       "    </tr>\n",
       "    <tr>\n",
       "      <th>PS4</th>\n",
       "      <td>15.96</td>\n",
       "    </tr>\n",
       "    <tr>\n",
       "      <th>WiiU</th>\n",
       "      <td>10.88</td>\n",
       "    </tr>\n",
       "  </tbody>\n",
       "</table>\n",
       "</div>"
      ],
      "text/plain": [
       "          jp_sales\n",
       "platform          \n",
       "3DS          67.81\n",
       "PS3          23.35\n",
       "PSV          18.59\n",
       "PS4          15.96\n",
       "WiiU         10.88"
      ]
     },
     "execution_count": 58,
     "metadata": {},
     "output_type": "execute_result"
    }
   ],
   "source": [
    "# С помощью сводной таблицы подсчитаем продажи игр в Японии по платформам\n",
    "\n",
    "data_actual.pivot_table(index = ['platform'],\n",
    "                        values = ['jp_sales'],\n",
    "                        aggfunc = 'sum').sort_values(by = 'jp_sales', ascending = False).head()"
   ]
  },
  {
   "cell_type": "markdown",
   "metadata": {},
   "source": [
    "Самой популярной приставкой в СА и ЕС оказалась PS4. Далее с разной степенью успешности в этих регионах идут PS3, XOne и X360. И только пятое место занимает портативная приставка Nintendo 3DS. Это говорит о том, что американцы и европейцы предпочитают проводить время за игрой дома, за большим экраном, а не в дороге или под одеялом с портативной консолью.\n",
    "    \n",
    "Ситуация в Японии выглядит иначе. Первое место по продажам там держит Nintendo 3DS для портативной игры. И только затем идет PS3. Затем снова портативная консоль - PSV, а потом снова стационарная PS4. А пятое место занимает незатронутая в ТОП-5 предыдущих регионов WiiU. Это значит, что японцы любят играть на ходу или в любом удобном для них месте."
   ]
  },
  {
   "cell_type": "markdown",
   "metadata": {},
   "source": [
    "## Определение приоритетов по жанрам"
   ]
  },
  {
   "cell_type": "code",
   "execution_count": 59,
   "metadata": {},
   "outputs": [
    {
     "data": {
      "text/html": [
       "<div>\n",
       "<style scoped>\n",
       "    .dataframe tbody tr th:only-of-type {\n",
       "        vertical-align: middle;\n",
       "    }\n",
       "\n",
       "    .dataframe tbody tr th {\n",
       "        vertical-align: top;\n",
       "    }\n",
       "\n",
       "    .dataframe thead th {\n",
       "        text-align: right;\n",
       "    }\n",
       "</style>\n",
       "<table border=\"1\" class=\"dataframe\">\n",
       "  <thead>\n",
       "    <tr style=\"text-align: right;\">\n",
       "      <th></th>\n",
       "      <th>na_sales</th>\n",
       "    </tr>\n",
       "    <tr>\n",
       "      <th>genre</th>\n",
       "      <th></th>\n",
       "    </tr>\n",
       "  </thead>\n",
       "  <tbody>\n",
       "    <tr>\n",
       "      <th>Action</th>\n",
       "      <td>126.05</td>\n",
       "    </tr>\n",
       "    <tr>\n",
       "      <th>Shooter</th>\n",
       "      <td>109.74</td>\n",
       "    </tr>\n",
       "    <tr>\n",
       "      <th>Sports</th>\n",
       "      <td>65.27</td>\n",
       "    </tr>\n",
       "    <tr>\n",
       "      <th>Role-Playing</th>\n",
       "      <td>46.40</td>\n",
       "    </tr>\n",
       "    <tr>\n",
       "      <th>Misc</th>\n",
       "      <td>27.49</td>\n",
       "    </tr>\n",
       "  </tbody>\n",
       "</table>\n",
       "</div>"
      ],
      "text/plain": [
       "              na_sales\n",
       "genre                 \n",
       "Action          126.05\n",
       "Shooter         109.74\n",
       "Sports           65.27\n",
       "Role-Playing     46.40\n",
       "Misc             27.49"
      ]
     },
     "execution_count": 59,
     "metadata": {},
     "output_type": "execute_result"
    }
   ],
   "source": [
    "# С помощью сводной таблицы подсчитаем продажи игр в Северной Америке по жанрам\n",
    "\n",
    "data_actual.pivot_table(index = ['genre'],\n",
    "                        values = ['na_sales'],\n",
    "                        aggfunc = 'sum').sort_values(by = 'na_sales',\n",
    "                                                     ascending = False).head()"
   ]
  },
  {
   "cell_type": "code",
   "execution_count": 60,
   "metadata": {},
   "outputs": [
    {
     "data": {
      "text/html": [
       "<div>\n",
       "<style scoped>\n",
       "    .dataframe tbody tr th:only-of-type {\n",
       "        vertical-align: middle;\n",
       "    }\n",
       "\n",
       "    .dataframe tbody tr th {\n",
       "        vertical-align: top;\n",
       "    }\n",
       "\n",
       "    .dataframe thead th {\n",
       "        text-align: right;\n",
       "    }\n",
       "</style>\n",
       "<table border=\"1\" class=\"dataframe\">\n",
       "  <thead>\n",
       "    <tr style=\"text-align: right;\">\n",
       "      <th></th>\n",
       "      <th>eu_sales</th>\n",
       "    </tr>\n",
       "    <tr>\n",
       "      <th>genre</th>\n",
       "      <th></th>\n",
       "    </tr>\n",
       "  </thead>\n",
       "  <tbody>\n",
       "    <tr>\n",
       "      <th>Action</th>\n",
       "      <td>118.13</td>\n",
       "    </tr>\n",
       "    <tr>\n",
       "      <th>Shooter</th>\n",
       "      <td>87.86</td>\n",
       "    </tr>\n",
       "    <tr>\n",
       "      <th>Sports</th>\n",
       "      <td>60.52</td>\n",
       "    </tr>\n",
       "    <tr>\n",
       "      <th>Role-Playing</th>\n",
       "      <td>36.97</td>\n",
       "    </tr>\n",
       "    <tr>\n",
       "      <th>Racing</th>\n",
       "      <td>20.19</td>\n",
       "    </tr>\n",
       "  </tbody>\n",
       "</table>\n",
       "</div>"
      ],
      "text/plain": [
       "              eu_sales\n",
       "genre                 \n",
       "Action          118.13\n",
       "Shooter          87.86\n",
       "Sports           60.52\n",
       "Role-Playing     36.97\n",
       "Racing           20.19"
      ]
     },
     "execution_count": 60,
     "metadata": {},
     "output_type": "execute_result"
    }
   ],
   "source": [
    "# С помощью сводной таблицы подсчитаем продажи игр в ЕС по жанрам\n",
    "\n",
    "data_actual.pivot_table(index = ['genre'], \n",
    "                        values = ['eu_sales'], \n",
    "                        aggfunc = 'sum').sort_values(by = 'eu_sales', ascending = False).head()"
   ]
  },
  {
   "cell_type": "code",
   "execution_count": 61,
   "metadata": {
    "tags": []
   },
   "outputs": [
    {
     "data": {
      "text/html": [
       "<div>\n",
       "<style scoped>\n",
       "    .dataframe tbody tr th:only-of-type {\n",
       "        vertical-align: middle;\n",
       "    }\n",
       "\n",
       "    .dataframe tbody tr th {\n",
       "        vertical-align: top;\n",
       "    }\n",
       "\n",
       "    .dataframe thead th {\n",
       "        text-align: right;\n",
       "    }\n",
       "</style>\n",
       "<table border=\"1\" class=\"dataframe\">\n",
       "  <thead>\n",
       "    <tr style=\"text-align: right;\">\n",
       "      <th></th>\n",
       "      <th>jp_sales</th>\n",
       "    </tr>\n",
       "    <tr>\n",
       "      <th>genre</th>\n",
       "      <th></th>\n",
       "    </tr>\n",
       "  </thead>\n",
       "  <tbody>\n",
       "    <tr>\n",
       "      <th>Role-Playing</th>\n",
       "      <td>51.04</td>\n",
       "    </tr>\n",
       "    <tr>\n",
       "      <th>Action</th>\n",
       "      <td>40.49</td>\n",
       "    </tr>\n",
       "    <tr>\n",
       "      <th>Misc</th>\n",
       "      <td>9.20</td>\n",
       "    </tr>\n",
       "    <tr>\n",
       "      <th>Fighting</th>\n",
       "      <td>7.65</td>\n",
       "    </tr>\n",
       "    <tr>\n",
       "      <th>Shooter</th>\n",
       "      <td>6.61</td>\n",
       "    </tr>\n",
       "  </tbody>\n",
       "</table>\n",
       "</div>"
      ],
      "text/plain": [
       "              jp_sales\n",
       "genre                 \n",
       "Role-Playing     51.04\n",
       "Action           40.49\n",
       "Misc              9.20\n",
       "Fighting          7.65\n",
       "Shooter           6.61"
      ]
     },
     "execution_count": 61,
     "metadata": {},
     "output_type": "execute_result"
    }
   ],
   "source": [
    "# С помощью сводной таблицы подсчитаем продажи игр в Японии по жанрам\n",
    "\n",
    "data_actual.pivot_table(index = ['genre'],\n",
    "                        values = ['jp_sales'],\n",
    "                        aggfunc = 'sum').sort_values(by = 'jp_sales', ascending = False).head()"
   ]
  },
  {
   "cell_type": "markdown",
   "metadata": {},
   "source": [
    "И снова очень интересная ситуация, но теперь с жанрами. СА и ЕС снова выступают почти одинаково. У них на первом месте Action, потом по порядку Shooter, Sports и Role-Playing. И только пятая позиция отличается - Misc для СА и Racing для Евросоюза.\n",
    "    \n",
    "Япония же все переиначивает. Более всего в этой стране играют в Role-Playing, на втором месте Action, потом Misc, незатронутый ранее Fighting (ну еще бы, родина каратэ, дзю-до и многих других видов боевых активностей), и в конце ТОП-5 располагается жанр Shooter."
   ]
  },
  {
   "cell_type": "markdown",
   "metadata": {},
   "source": [
    "## Влияние рейтинга ESRB на продажи в отдельном регионе"
   ]
  },
  {
   "cell_type": "code",
   "execution_count": 62,
   "metadata": {},
   "outputs": [
    {
     "data": {
      "text/html": [
       "<div>\n",
       "<style scoped>\n",
       "    .dataframe tbody tr th:only-of-type {\n",
       "        vertical-align: middle;\n",
       "    }\n",
       "\n",
       "    .dataframe tbody tr th {\n",
       "        vertical-align: top;\n",
       "    }\n",
       "\n",
       "    .dataframe thead th {\n",
       "        text-align: right;\n",
       "    }\n",
       "</style>\n",
       "<table border=\"1\" class=\"dataframe\">\n",
       "  <thead>\n",
       "    <tr style=\"text-align: right;\">\n",
       "      <th></th>\n",
       "      <th>na_sales</th>\n",
       "    </tr>\n",
       "    <tr>\n",
       "      <th>rating</th>\n",
       "      <th></th>\n",
       "    </tr>\n",
       "  </thead>\n",
       "  <tbody>\n",
       "    <tr>\n",
       "      <th>M</th>\n",
       "      <td>165.21</td>\n",
       "    </tr>\n",
       "    <tr>\n",
       "      <th>E</th>\n",
       "      <td>79.05</td>\n",
       "    </tr>\n",
       "    <tr>\n",
       "      <th>E10+</th>\n",
       "      <td>54.24</td>\n",
       "    </tr>\n",
       "    <tr>\n",
       "      <th>T</th>\n",
       "      <td>49.79</td>\n",
       "    </tr>\n",
       "  </tbody>\n",
       "</table>\n",
       "</div>"
      ],
      "text/plain": [
       "        na_sales\n",
       "rating          \n",
       "M         165.21\n",
       "E          79.05\n",
       "E10+       54.24\n",
       "T          49.79"
      ]
     },
     "execution_count": 62,
     "metadata": {},
     "output_type": "execute_result"
    }
   ],
   "source": [
    "# Сформируем сводную таблицу суммарных продаж игр в СА в привязке к рейтингу ESRB\n",
    "\n",
    "data_actual.pivot_table(index = ['rating'],\n",
    "                        values = ['na_sales'],\n",
    "                        aggfunc = 'sum').sort_values(by = 'na_sales', ascending = False).head()"
   ]
  },
  {
   "cell_type": "code",
   "execution_count": 63,
   "metadata": {},
   "outputs": [
    {
     "data": {
      "text/html": [
       "<div>\n",
       "<style scoped>\n",
       "    .dataframe tbody tr th:only-of-type {\n",
       "        vertical-align: middle;\n",
       "    }\n",
       "\n",
       "    .dataframe tbody tr th {\n",
       "        vertical-align: top;\n",
       "    }\n",
       "\n",
       "    .dataframe thead th {\n",
       "        text-align: right;\n",
       "    }\n",
       "</style>\n",
       "<table border=\"1\" class=\"dataframe\">\n",
       "  <thead>\n",
       "    <tr style=\"text-align: right;\">\n",
       "      <th></th>\n",
       "      <th>eu_sales</th>\n",
       "    </tr>\n",
       "    <tr>\n",
       "      <th>rating</th>\n",
       "      <th></th>\n",
       "    </tr>\n",
       "  </thead>\n",
       "  <tbody>\n",
       "    <tr>\n",
       "      <th>M</th>\n",
       "      <td>145.32</td>\n",
       "    </tr>\n",
       "    <tr>\n",
       "      <th>E</th>\n",
       "      <td>83.36</td>\n",
       "    </tr>\n",
       "    <tr>\n",
       "      <th>E10+</th>\n",
       "      <td>42.69</td>\n",
       "    </tr>\n",
       "    <tr>\n",
       "      <th>T</th>\n",
       "      <td>41.95</td>\n",
       "    </tr>\n",
       "  </tbody>\n",
       "</table>\n",
       "</div>"
      ],
      "text/plain": [
       "        eu_sales\n",
       "rating          \n",
       "M         145.32\n",
       "E          83.36\n",
       "E10+       42.69\n",
       "T          41.95"
      ]
     },
     "execution_count": 63,
     "metadata": {},
     "output_type": "execute_result"
    }
   ],
   "source": [
    "# # Сформируем сводную таблицу суммарных продаж игр в ЕС в привязке к рейтингу ESRB\n",
    "\n",
    "data_actual.pivot_table(index = ['rating'],\n",
    "                        values = ['eu_sales'],\n",
    "                        aggfunc = 'sum').sort_values(by = 'eu_sales', ascending = False).head()"
   ]
  },
  {
   "cell_type": "code",
   "execution_count": 64,
   "metadata": {},
   "outputs": [
    {
     "data": {
      "text/html": [
       "<div>\n",
       "<style scoped>\n",
       "    .dataframe tbody tr th:only-of-type {\n",
       "        vertical-align: middle;\n",
       "    }\n",
       "\n",
       "    .dataframe tbody tr th {\n",
       "        vertical-align: top;\n",
       "    }\n",
       "\n",
       "    .dataframe thead th {\n",
       "        text-align: right;\n",
       "    }\n",
       "</style>\n",
       "<table border=\"1\" class=\"dataframe\">\n",
       "  <thead>\n",
       "    <tr style=\"text-align: right;\">\n",
       "      <th></th>\n",
       "      <th>jp_sales</th>\n",
       "    </tr>\n",
       "    <tr>\n",
       "      <th>rating</th>\n",
       "      <th></th>\n",
       "    </tr>\n",
       "  </thead>\n",
       "  <tbody>\n",
       "    <tr>\n",
       "      <th>T</th>\n",
       "      <td>20.59</td>\n",
       "    </tr>\n",
       "    <tr>\n",
       "      <th>E</th>\n",
       "      <td>15.14</td>\n",
       "    </tr>\n",
       "    <tr>\n",
       "      <th>M</th>\n",
       "      <td>14.11</td>\n",
       "    </tr>\n",
       "    <tr>\n",
       "      <th>E10+</th>\n",
       "      <td>5.89</td>\n",
       "    </tr>\n",
       "  </tbody>\n",
       "</table>\n",
       "</div>"
      ],
      "text/plain": [
       "        jp_sales\n",
       "rating          \n",
       "T          20.59\n",
       "E          15.14\n",
       "M          14.11\n",
       "E10+        5.89"
      ]
     },
     "execution_count": 64,
     "metadata": {},
     "output_type": "execute_result"
    }
   ],
   "source": [
    "# То же самое для Японии\n",
    "\n",
    "data_actual.pivot_table(index = ['rating'],\n",
    "                        values = ['jp_sales'],\n",
    "                        aggfunc = 'sum').sort_values(by = 'jp_sales', ascending = False).head()"
   ]
  },
  {
   "cell_type": "markdown",
   "metadata": {},
   "source": [
    "Тщательное и скурпулезное исследование (ага) показало, что страны Северной Америки являются побратимами Евросоюза в приложении к рейтингу ESRB.\n",
    "\n",
    "Так, распределение продаж по данному рейтингу имеет совершенно одинаковый вид по позициям, отличается только в цифрах. Видно, что в данных регионах более всего ценятся игры с рейтингом М - для взрослых. Затем те, которые подходят всем - рейтинг Е, далее идут те, кому исполнилось 10 лет - Е10+, и подростки от 13 до 19 лет - рейтинг Т. \n",
    "    \n",
    "Япония же снова показала свой независимый взгляд на вещи. По данной стране больше всего покупок в жанре Т, затем Е, потом М и в конце Е10+. "
   ]
  },
  {
   "cell_type": "markdown",
   "metadata": {},
   "source": [
    "## Вывод по разделу"
   ]
  },
  {
   "cell_type": "markdown",
   "metadata": {},
   "source": [
    "В текущем разделе были определены приоритеты пользователей разных регионов по платформам, жанрам и рейтингу ESRB. Результаты показали, что игроки в Северной Америке и в Евросоюзе мыслят почти во всем одинаково. Самой популярной приставкой там является PS4, любимым жанром Action, а наиболее востребованные игры относятся к рейтигну М. \n",
    "    \n",
    "Япония же идет своим путем. Там в ходу портативные консоли, самая популярная - Nintendo 3DS, играют более всего в ролевые игры, а самый востребованный рейтинг - T."
   ]
  },
  {
   "cell_type": "markdown",
   "metadata": {},
   "source": [
    "# Проверка статистических гипотез"
   ]
  },
  {
   "cell_type": "code",
   "execution_count": 65,
   "metadata": {},
   "outputs": [],
   "source": [
    "# Не отходя от принятых норм, установим уровень статистической значисости в уровень 0.05\n",
    "\n",
    "alpha = 0.05"
   ]
  },
  {
   "cell_type": "markdown",
   "metadata": {},
   "source": [
    "## Гипотеза о равенстве средних пользовательских рейтингов XBoxOne и PC"
   ]
  },
  {
   "cell_type": "code",
   "execution_count": 66,
   "metadata": {},
   "outputs": [
    {
     "data": {
      "text/plain": [
       "<AxesSubplot:>"
      ]
     },
     "execution_count": 66,
     "metadata": {},
     "output_type": "execute_result"
    },
    {
     "data": {
      "image/png": "[encoded data removed]",
      "text/plain": [
       "<Figure size 432x288 with 1 Axes>"
      ]
     },
     "metadata": {
      "needs_background": "light"
     },
     "output_type": "display_data"
    }
   ],
   "source": [
    "# Построим распределение рейтинга для PC\n",
    "\n",
    "data_actual.query('user_score != 0 and platform == \"PC\"')['user_score'].hist()"
   ]
  },
  {
   "cell_type": "code",
   "execution_count": 67,
   "metadata": {},
   "outputs": [
    {
     "data": {
      "text/plain": [
       "<AxesSubplot:>"
      ]
     },
     "execution_count": 67,
     "metadata": {},
     "output_type": "execute_result"
    },
    {
     "data": {
      "image/png": "[encoded data removed]",
      "text/plain": [
       "<Figure size 432x288 with 1 Axes>"
      ]
     },
     "metadata": {
      "needs_background": "light"
     },
     "output_type": "display_data"
    }
   ],
   "source": [
    "# Построим распределение рейтинга для XboxOne\n",
    "\n",
    "data_actual.query('user_score != 0 and platform == \"XOne\"')['user_score'].hist()"
   ]
  },
  {
   "cell_type": "code",
   "execution_count": 68,
   "metadata": {},
   "outputs": [
    {
     "data": {
      "text/plain": [
       "KstestResult(statistic=0.13431407302375045, pvalue=0.0867147328620369)"
      ]
     },
     "execution_count": 68,
     "metadata": {},
     "output_type": "execute_result"
    }
   ],
   "source": [
    "# Перед проверкой гипотез оценим схожесть распределений наших данных с помощью критерия Колмогорова-Смирнова. \n",
    "# Данный тест ставит нулевую гипотезу о равенстве двух распределений.\n",
    "# Выберем статистическую значимость P_value на уровне 0,05\n",
    "\n",
    "ks_2samp(data_actual.query('user_score != 0 and platform == \"PC\"')['user_score'], data_actual.query('user_score != 0 and platform == \"XOne\"')['user_score'])"
   ]
  },
  {
   "cell_type": "markdown",
   "metadata": {},
   "source": [
    "pvalue=0.0867 - выше установленного нами значения. Значит, мы не можем отвергнуть гипотезу о схожести распределений выборок."
   ]
  },
  {
   "cell_type": "code",
   "execution_count": 69,
   "metadata": {},
   "outputs": [
    {
     "name": "stdout",
     "output_type": "stream",
     "text": [
      "P-value = 0.14012658403611647. Уровень статистической значимости выше установленного порога. Не удалось отвергнуть H_0\n"
     ]
    }
   ],
   "source": [
    "# В качестве нулевой гипотезы H0 утверждаем, что средние пользовательские рейтинги \n",
    "# платформ Xbox One и PC равны. Тогда в качестве альтернативы H1 говорим обратное,\n",
    "# что эти показатели разные. При этом отсекаем нулевые показания по столбцу user_score\n",
    "\n",
    "results = st.ttest_ind(data_actual.query('user_score != 0 and platform == \"PC\"')['user_score'], data_actual.query('user_score != 0 and platform == \"XOne\"')['user_score'])\n",
    "\n",
    "if results.pvalue < alpha:\n",
    "    print('P-value = {}. Уровень статистической значимости не достигнут. Есть повод отвергнуть H_0'.format(results.pvalue))\n",
    "else:\n",
    "    print('P-value = {}. Уровень статистической значимости выше установленного порога. Не удалось отвергнуть H_0'.format(results.pvalue))"
   ]
  },
  {
   "cell_type": "markdown",
   "metadata": {},
   "source": [
    "Не удалось отвергнуть нулевую гипотезу. Это говорит о том, что вероятность неравенства средних значений пользовательских рейтингов XBox One и PC крайне мала."
   ]
  },
  {
   "cell_type": "markdown",
   "metadata": {},
   "source": [
    "## Гипотеза о неравенстве средних пользовательских рейтингов жанров Action и Sports"
   ]
  },
  {
   "cell_type": "code",
   "execution_count": 70,
   "metadata": {},
   "outputs": [
    {
     "name": "stdout",
     "output_type": "stream",
     "text": [
      "P-value = 0.0907420711340326. Уровень статистической значимости выше установленного порога. Не удалось отвергнуть H_0\n"
     ]
    }
   ],
   "source": [
    "# В качестве нулевой гипотезы H0 выбираем такую, что средние пользовательские рейтинги жанров Action и Sports равны. \n",
    "# В качестве альтернативной H1 выступит гипотеза об их неравенстве\n",
    "\n",
    "results = st.ttest_ind(data_actual.query('genre == \"Action\"')['user_score'], data_actual.query('genre == \"Sports\"')['user_score'])\n",
    "\n",
    "if results.pvalue < alpha:\n",
    "    print('P-value = {}. Уровень статистической значимости не достигнут. Есть повод отвергнуть H_0'.format(results.pvalue))\n",
    "else:\n",
    "    print('P-value = {}. Уровень статистической значимости выше установленного порога. Не удалось отвергнуть H_0'.format(results.pvalue))"
   ]
  },
  {
   "cell_type": "markdown",
   "metadata": {},
   "source": [
    "Расчет показал, что ситуация с равенством средних пользовательских рейтингов жанров Action и Sports более вероятна, чем их неравенство."
   ]
  },
  {
   "cell_type": "markdown",
   "metadata": {},
   "source": [
    "## Вывод по разделу"
   ]
  },
  {
   "cell_type": "markdown",
   "metadata": {},
   "source": [
    "На данном этапе была произведена проверка статистических гипотез. По ее результатам можно делать предположение о равенстве средних пользовательских рейтингов XBox One и PC и равенстве средних пользовательских рейтингов жанров Action и Sports."
   ]
  },
  {
   "cell_type": "markdown",
   "metadata": {},
   "source": [
    "# Общий вывод по проекту"
   ]
  },
  {
   "cell_type": "markdown",
   "metadata": {},
   "source": [
    "В ходе данного проекта отработаны все этапы анализа данных:\n",
    "\n",
    "- осуществлена загрузка датасета, его осмотр, даны комментарии по составу;\n",
    "- произведена обработка данных, заполнены пропуски, отформатированы названия столбцов, создан новый столбец на основе имеющихся;\n",
    "- проведено исследование показателей продаж для каждой платформы. Выявлены самые популярные за все времена (PS2, X360, PS3, Wii). Оценен срок популярности игровой приставки (10 лет), определе актуальный период для изучения (с 2013 г.);\n",
    "- определены перспективные консоли - PS4 и Xbox One;\n",
    "- построены \"ящики с усами\" по продажам на каждой платформе. Из их анализа сделан вывод, что выбросами в данной информации являются бестселлеры по продажам. Например, для PS3 - GTA V\n",
    "- с помощью диаграмм рассеяния и коэффициентов корреляции показано, что зависимость продаж от отзывов игроков не является объективным фактором, здесь требуются более сложные методы для выяснения зависимостей Для влияния же рейтина критиков на продажи проще - оно прямое.\n",
    "- изучены продажи игр по жанрам. Больше всего на сегодняшний день играют в Action-игры, на втором месте Shooter-ы. Хуже всего продаются жанры Puzzle и Strategy.\n",
    "- определены приоритеты пользователей разных регионов по платформам, жанрам и рейтингу ESRB. В Северной Америке и в Евросоюзе самой популярной приставкой является PS4, любимым жанром Action, а наиболее востребованные игры относятся к рейтигну М. В Японии в ходу портативные консоли, самая популярная - Nintendo 3DS, играют более всего в ролевые игры, а самый востребованный рейтинг - T.\n",
    "- проверка гипотез показала, что средние пользовательские рейтинги XBox One и PC равны, как и пользовательские рейтинги жанров Action и Sports.\n",
    "    \n",
    "Таким образом, при принятии решения об организации рекламы, о количестве закупок в магазин тех или иных игр или приставок можно использовать полученные данные. \n",
    "    \n",
    "Из показанного выше следует, что для Северной Америки и Евросоюза подойдут одни и те же мерки в большей части случаев. Поэтому для них нужно больше внимания уделять приставкам PS4 и Xbox One, играм жанра Action возрастной категории M. Для определения перспективности продаж той или иной игры обращать внимание на отзывы критиков, а не на рейтинг игроков. К тому же, организовывать рекламу лучше через критиков, а не через накрутки рейтингов пользователей. \n",
    "\n",
    "Для Японии же все по-другому. Если работать по меркам СА и ЕС, то можно и разориться. Здесь нужно больше внимания уделять портативным консолям, играм жанра РГП для возрастов категории Т. При этом отзывы критиков так же важны, как и ранее, здесь разночтений нет.\n"
   ]
  }
 ],
 "metadata": {
  "ExecuteTimeLog": [
   {
    "duration": 4,
    "start_time": "2021-06-08T20:31:59.703Z"
   },
   {
    "duration": 3,
    "start_time": "2021-06-08T20:33:46.024Z"
   },
   {
    "duration": 3,
    "start_time": "2021-06-08T20:34:20.437Z"
   },
   {
    "duration": 303,
    "start_time": "2021-06-08T20:34:33.140Z"
   },
   {
    "duration": 1119,
    "start_time": "2021-06-08T20:34:41.153Z"
   },
   {
    "duration": 46,
    "start_time": "2021-06-08T20:34:42.275Z"
   },
   {
    "duration": 33,
    "start_time": "2021-06-08T20:34:42.323Z"
   },
   {
    "duration": 17,
    "start_time": "2021-06-08T20:34:42.359Z"
   },
   {
    "duration": 1905,
    "start_time": "2021-06-08T20:34:42.378Z"
   },
   {
    "duration": 19,
    "start_time": "2021-06-08T20:34:44.285Z"
   },
   {
    "duration": 59,
    "start_time": "2021-06-08T20:34:44.306Z"
   },
   {
    "duration": 19,
    "start_time": "2021-06-08T20:34:44.370Z"
   },
   {
    "duration": 22,
    "start_time": "2021-06-08T20:34:44.393Z"
   },
   {
    "duration": 60,
    "start_time": "2021-06-08T20:34:44.417Z"
   },
   {
    "duration": 30,
    "start_time": "2021-06-08T20:34:44.479Z"
   },
   {
    "duration": 59,
    "start_time": "2021-06-08T20:34:44.512Z"
   },
   {
    "duration": 4,
    "start_time": "2021-06-08T20:34:44.582Z"
   },
   {
    "duration": 6,
    "start_time": "2021-06-08T20:34:44.589Z"
   },
   {
    "duration": 376,
    "start_time": "2021-06-08T20:34:53.910Z"
   },
   {
    "duration": 252,
    "start_time": "2021-06-08T20:34:57.621Z"
   },
   {
    "duration": 5,
    "start_time": "2021-06-08T20:35:02.026Z"
   },
   {
    "duration": 271,
    "start_time": "2021-06-08T20:36:05.786Z"
   },
   {
    "duration": 265,
    "start_time": "2021-06-08T20:36:08.472Z"
   },
   {
    "duration": 5,
    "start_time": "2021-06-08T20:36:13.163Z"
   },
   {
    "duration": 391,
    "start_time": "2021-06-08T20:36:47.647Z"
   },
   {
    "duration": 88,
    "start_time": "2021-06-08T20:36:56.977Z"
   },
   {
    "duration": 94,
    "start_time": "2021-06-08T20:38:04.138Z"
   },
   {
    "duration": 99,
    "start_time": "2021-06-08T20:38:12.486Z"
   },
   {
    "duration": 4,
    "start_time": "2021-06-08T20:38:19.291Z"
   },
   {
    "duration": 4,
    "start_time": "2021-06-08T20:38:30.511Z"
   },
   {
    "duration": 4,
    "start_time": "2021-06-08T20:39:08.341Z"
   },
   {
    "duration": 18,
    "start_time": "2021-06-08T20:39:18.391Z"
   },
   {
    "duration": 4,
    "start_time": "2021-06-08T20:39:38.978Z"
   },
   {
    "duration": 17,
    "start_time": "2021-06-08T20:40:19.806Z"
   },
   {
    "duration": 3,
    "start_time": "2021-06-08T20:40:27.678Z"
   },
   {
    "duration": 3,
    "start_time": "2021-06-08T20:41:20.479Z"
   },
   {
    "duration": 239,
    "start_time": "2021-06-08T20:43:03.169Z"
   },
   {
    "duration": 6672,
    "start_time": "2021-06-08T20:43:10.910Z"
   },
   {
    "duration": 6115,
    "start_time": "2021-06-08T20:43:42.415Z"
   },
   {
    "duration": 6317,
    "start_time": "2021-06-08T20:43:53.279Z"
   },
   {
    "duration": 25,
    "start_time": "2021-06-08T20:44:07.155Z"
   },
   {
    "duration": 259,
    "start_time": "2021-06-08T20:44:11.117Z"
   },
   {
    "duration": 9,
    "start_time": "2021-06-08T20:44:41.412Z"
   },
   {
    "duration": 5954,
    "start_time": "2021-06-08T20:44:46.707Z"
   },
   {
    "duration": 8,
    "start_time": "2021-06-08T20:44:53.500Z"
   },
   {
    "duration": 240,
    "start_time": "2021-06-08T20:45:08.492Z"
   },
   {
    "duration": 17,
    "start_time": "2021-06-08T20:45:12.009Z"
   },
   {
    "duration": 5,
    "start_time": "2021-06-08T20:46:29.701Z"
   },
   {
    "duration": 28,
    "start_time": "2021-06-08T20:46:34.511Z"
   },
   {
    "duration": 8,
    "start_time": "2021-06-08T20:47:06.387Z"
   },
   {
    "duration": 5,
    "start_time": "2021-06-08T20:47:29.759Z"
   },
   {
    "duration": 20,
    "start_time": "2021-06-08T20:47:41.831Z"
   },
   {
    "duration": 19,
    "start_time": "2021-06-08T20:47:53.709Z"
   },
   {
    "duration": 9,
    "start_time": "2021-06-08T20:50:15.047Z"
   },
   {
    "duration": 438,
    "start_time": "2021-06-08T20:50:39.476Z"
   },
   {
    "duration": 272,
    "start_time": "2021-06-08T20:50:49.549Z"
   },
   {
    "duration": 33,
    "start_time": "2021-06-08T20:50:54.650Z"
   },
   {
    "duration": 10,
    "start_time": "2021-06-08T20:50:58.534Z"
   },
   {
    "duration": 9,
    "start_time": "2021-06-08T20:51:11.687Z"
   },
   {
    "duration": 8,
    "start_time": "2021-06-08T20:51:17.539Z"
   },
   {
    "duration": 8,
    "start_time": "2021-06-08T20:53:14.824Z"
   },
   {
    "duration": 7,
    "start_time": "2021-06-08T20:54:10.824Z"
   },
   {
    "duration": 5,
    "start_time": "2021-06-08T20:55:19.772Z"
   },
   {
    "duration": 4,
    "start_time": "2021-06-08T20:55:24.496Z"
   },
   {
    "duration": 5,
    "start_time": "2021-06-08T20:55:34.239Z"
   },
   {
    "duration": 5,
    "start_time": "2021-06-08T20:58:11.876Z"
   },
   {
    "duration": 5,
    "start_time": "2021-06-08T20:58:16.736Z"
   },
   {
    "duration": 5,
    "start_time": "2021-06-08T20:58:32.128Z"
   },
   {
    "duration": 5,
    "start_time": "2021-06-08T20:58:53.704Z"
   },
   {
    "duration": 11,
    "start_time": "2021-06-08T20:59:00.656Z"
   },
   {
    "duration": 9,
    "start_time": "2021-06-08T20:59:49.606Z"
   },
   {
    "duration": 253,
    "start_time": "2021-06-08T21:05:15.568Z"
   },
   {
    "duration": 317,
    "start_time": "2021-06-08T21:05:27.413Z"
   },
   {
    "duration": 304,
    "start_time": "2021-06-08T21:05:39.021Z"
   },
   {
    "duration": 48,
    "start_time": "2021-06-08T21:06:13.347Z"
   },
   {
    "duration": 278,
    "start_time": "2021-06-08T21:06:32.746Z"
   },
   {
    "duration": 509,
    "start_time": "2021-06-08T21:06:39.098Z"
   },
   {
    "duration": 10,
    "start_time": "2021-06-08T21:07:16.936Z"
   },
   {
    "duration": 455,
    "start_time": "2021-06-08T21:07:34.044Z"
   },
   {
    "duration": 93,
    "start_time": "2021-06-08T21:08:59.061Z"
   },
   {
    "duration": 94,
    "start_time": "2021-06-08T21:09:17.311Z"
   },
   {
    "duration": 108,
    "start_time": "2021-06-08T21:10:05.181Z"
   },
   {
    "duration": 95,
    "start_time": "2021-06-08T21:10:13.285Z"
   },
   {
    "duration": 759,
    "start_time": "2021-06-08T21:10:27.826Z"
   },
   {
    "duration": 305,
    "start_time": "2021-06-08T21:10:41.298Z"
   },
   {
    "duration": 6,
    "start_time": "2021-06-08T21:11:15.411Z"
   },
   {
    "duration": 6,
    "start_time": "2021-06-08T21:11:19.510Z"
   },
   {
    "duration": 294,
    "start_time": "2021-06-08T21:11:40.523Z"
   },
   {
    "duration": 11,
    "start_time": "2021-06-08T21:12:02.382Z"
   },
   {
    "duration": 438,
    "start_time": "2021-06-08T21:12:13.126Z"
   },
   {
    "duration": 425,
    "start_time": "2021-06-08T21:12:31.346Z"
   },
   {
    "duration": 4,
    "start_time": "2021-06-10T19:25:14.256Z"
   },
   {
    "duration": 181,
    "start_time": "2021-06-10T19:25:15.444Z"
   },
   {
    "duration": 30,
    "start_time": "2021-06-10T19:25:16.594Z"
   },
   {
    "duration": 1170,
    "start_time": "2021-06-10T19:25:21.827Z"
   },
   {
    "duration": 204,
    "start_time": "2021-06-10T19:25:22.999Z"
   },
   {
    "duration": 28,
    "start_time": "2021-06-10T19:25:23.207Z"
   },
   {
    "duration": 14,
    "start_time": "2021-06-10T19:25:23.238Z"
   },
   {
    "duration": 460,
    "start_time": "2021-06-10T19:25:23.255Z"
   },
   {
    "duration": 20,
    "start_time": "2021-06-10T19:25:23.718Z"
   },
   {
    "duration": 57,
    "start_time": "2021-06-10T19:25:23.740Z"
   },
   {
    "duration": 17,
    "start_time": "2021-06-10T19:25:23.800Z"
   },
   {
    "duration": 20,
    "start_time": "2021-06-10T19:25:23.821Z"
   },
   {
    "duration": 69,
    "start_time": "2021-06-10T19:25:23.844Z"
   },
   {
    "duration": 69,
    "start_time": "2021-06-10T19:25:23.916Z"
   },
   {
    "duration": 44,
    "start_time": "2021-06-10T19:25:23.989Z"
   },
   {
    "duration": 5,
    "start_time": "2021-06-10T19:25:24.036Z"
   },
   {
    "duration": 41,
    "start_time": "2021-06-10T19:25:24.044Z"
   },
   {
    "duration": 19,
    "start_time": "2021-06-10T19:25:24.088Z"
   },
   {
    "duration": 12,
    "start_time": "2021-06-10T19:25:24.109Z"
   },
   {
    "duration": 15,
    "start_time": "2021-06-10T19:25:24.123Z"
   },
   {
    "duration": 5,
    "start_time": "2021-06-10T19:25:24.141Z"
   },
   {
    "duration": 374,
    "start_time": "2021-06-10T19:25:24.148Z"
   },
   {
    "duration": 14,
    "start_time": "2021-06-10T19:25:24.525Z"
   },
   {
    "duration": 46,
    "start_time": "2021-06-10T19:25:24.542Z"
   },
   {
    "duration": 135,
    "start_time": "2021-06-10T19:25:24.591Z"
   },
   {
    "duration": 220,
    "start_time": "2021-06-10T19:27:44.675Z"
   },
   {
    "duration": 4,
    "start_time": "2021-06-10T19:28:16.400Z"
   },
   {
    "duration": 100,
    "start_time": "2021-06-10T19:28:57.518Z"
   },
   {
    "duration": 223,
    "start_time": "2021-06-10T19:29:55.042Z"
   },
   {
    "duration": 8441,
    "start_time": "2021-06-10T19:30:04.759Z"
   },
   {
    "duration": 5,
    "start_time": "2021-06-10T19:31:13.302Z"
   },
   {
    "duration": 4277,
    "start_time": "2021-06-10T19:31:13.408Z"
   },
   {
    "duration": 827,
    "start_time": "2021-06-10T19:31:23.401Z"
   },
   {
    "duration": 9,
    "start_time": "2021-06-10T19:31:33.424Z"
   },
   {
    "duration": 299,
    "start_time": "2021-06-10T19:31:34.191Z"
   },
   {
    "duration": 10,
    "start_time": "2021-06-10T19:31:46.383Z"
   },
   {
    "duration": 1356,
    "start_time": "2021-06-10T19:32:17.052Z"
   },
   {
    "duration": 253,
    "start_time": "2021-06-10T19:32:18.411Z"
   },
   {
    "duration": 28,
    "start_time": "2021-06-10T19:32:18.667Z"
   },
   {
    "duration": 21,
    "start_time": "2021-06-10T19:32:18.698Z"
   },
   {
    "duration": 488,
    "start_time": "2021-06-10T19:32:18.722Z"
   },
   {
    "duration": 20,
    "start_time": "2021-06-10T19:32:19.213Z"
   },
   {
    "duration": 53,
    "start_time": "2021-06-10T19:32:19.237Z"
   },
   {
    "duration": 22,
    "start_time": "2021-06-10T19:32:19.295Z"
   },
   {
    "duration": 23,
    "start_time": "2021-06-10T19:32:19.321Z"
   },
   {
    "duration": 67,
    "start_time": "2021-06-10T19:32:19.347Z"
   },
   {
    "duration": 33,
    "start_time": "2021-06-10T19:32:19.416Z"
   },
   {
    "duration": 56,
    "start_time": "2021-06-10T19:32:19.451Z"
   },
   {
    "duration": 4,
    "start_time": "2021-06-10T19:32:19.510Z"
   },
   {
    "duration": 7,
    "start_time": "2021-06-10T19:32:19.517Z"
   },
   {
    "duration": 24,
    "start_time": "2021-06-10T19:32:19.526Z"
   },
   {
    "duration": 44,
    "start_time": "2021-06-10T19:32:19.553Z"
   },
   {
    "duration": 8,
    "start_time": "2021-06-10T19:32:19.599Z"
   },
   {
    "duration": 11,
    "start_time": "2021-06-10T19:32:19.609Z"
   },
   {
    "duration": 419,
    "start_time": "2021-06-10T19:32:19.623Z"
   },
   {
    "duration": 12,
    "start_time": "2021-06-10T19:32:20.046Z"
   },
   {
    "duration": 34,
    "start_time": "2021-06-10T19:32:20.062Z"
   },
   {
    "duration": 6,
    "start_time": "2021-06-10T19:32:20.099Z"
   },
   {
    "duration": 339,
    "start_time": "2021-06-10T19:32:20.111Z"
   },
   {
    "duration": 12,
    "start_time": "2021-06-10T19:32:20.453Z"
   },
   {
    "duration": 1533,
    "start_time": "2021-06-10T19:34:06.965Z"
   },
   {
    "duration": 328,
    "start_time": "2021-06-10T19:34:08.501Z"
   },
   {
    "duration": 28,
    "start_time": "2021-06-10T19:34:08.833Z"
   },
   {
    "duration": 26,
    "start_time": "2021-06-10T19:34:08.864Z"
   },
   {
    "duration": 466,
    "start_time": "2021-06-10T19:34:08.893Z"
   },
   {
    "duration": 24,
    "start_time": "2021-06-10T19:34:09.361Z"
   },
   {
    "duration": 34,
    "start_time": "2021-06-10T19:34:09.388Z"
   },
   {
    "duration": 19,
    "start_time": "2021-06-10T19:34:09.425Z"
   },
   {
    "duration": 52,
    "start_time": "2021-06-10T19:34:09.447Z"
   },
   {
    "duration": 37,
    "start_time": "2021-06-10T19:34:09.501Z"
   },
   {
    "duration": 52,
    "start_time": "2021-06-10T19:34:09.541Z"
   },
   {
    "duration": 35,
    "start_time": "2021-06-10T19:34:09.596Z"
   },
   {
    "duration": 4,
    "start_time": "2021-06-10T19:34:09.633Z"
   },
   {
    "duration": 10,
    "start_time": "2021-06-10T19:34:09.639Z"
   },
   {
    "duration": 46,
    "start_time": "2021-06-10T19:34:09.651Z"
   },
   {
    "duration": 15,
    "start_time": "2021-06-10T19:34:09.700Z"
   },
   {
    "duration": 9,
    "start_time": "2021-06-10T19:34:09.717Z"
   },
   {
    "duration": 11,
    "start_time": "2021-06-10T19:34:09.729Z"
   },
   {
    "duration": 355,
    "start_time": "2021-06-10T19:34:09.742Z"
   },
   {
    "duration": 9,
    "start_time": "2021-06-10T19:34:10.099Z"
   },
   {
    "duration": 16,
    "start_time": "2021-06-10T19:34:10.111Z"
   },
   {
    "duration": 6,
    "start_time": "2021-06-10T19:34:10.130Z"
   },
   {
    "duration": 353,
    "start_time": "2021-06-10T19:34:10.141Z"
   },
   {
    "duration": 13,
    "start_time": "2021-06-10T19:34:10.497Z"
   },
   {
    "duration": 4331,
    "start_time": "2021-06-10T19:35:00.313Z"
   },
   {
    "duration": 8,
    "start_time": "2021-06-10T19:35:15.825Z"
   },
   {
    "duration": 30,
    "start_time": "2021-06-10T19:39:17.164Z"
   },
   {
    "duration": 13,
    "start_time": "2021-06-10T19:40:04.289Z"
   },
   {
    "duration": 35,
    "start_time": "2021-06-10T19:40:06.414Z"
   },
   {
    "duration": 7208,
    "start_time": "2021-06-10T19:42:18.672Z"
   },
   {
    "duration": 2280,
    "start_time": "2021-06-10T19:42:28.526Z"
   },
   {
    "duration": 388,
    "start_time": "2021-06-10T19:44:06.335Z"
   },
   {
    "duration": 511,
    "start_time": "2021-06-10T19:44:20.478Z"
   },
   {
    "duration": 118,
    "start_time": "2021-06-10T20:17:50.172Z"
   },
   {
    "duration": 16,
    "start_time": "2021-06-10T20:17:56.095Z"
   },
   {
    "duration": 11,
    "start_time": "2021-06-10T20:18:01.460Z"
   },
   {
    "duration": 353,
    "start_time": "2021-06-10T20:18:22.948Z"
   },
   {
    "duration": 19,
    "start_time": "2021-06-10T20:18:34.420Z"
   },
   {
    "duration": 11,
    "start_time": "2021-06-10T20:18:36.065Z"
   },
   {
    "duration": 17,
    "start_time": "2021-06-10T20:18:45.611Z"
   },
   {
    "duration": 10,
    "start_time": "2021-06-10T20:18:46.829Z"
   },
   {
    "duration": 369,
    "start_time": "2021-06-10T20:20:33.326Z"
   },
   {
    "duration": 43,
    "start_time": "2021-06-10T20:20:43.756Z"
   },
   {
    "duration": 11,
    "start_time": "2021-06-10T20:21:24.488Z"
   },
   {
    "duration": 11,
    "start_time": "2021-06-10T20:21:37.483Z"
   },
   {
    "duration": 638,
    "start_time": "2021-06-10T20:21:44.723Z"
   },
   {
    "duration": 13,
    "start_time": "2021-06-10T20:22:10.851Z"
   },
   {
    "duration": 286,
    "start_time": "2021-06-10T20:22:20.979Z"
   },
   {
    "duration": 14,
    "start_time": "2021-06-10T20:22:30.979Z"
   },
   {
    "duration": 14,
    "start_time": "2021-06-10T20:22:54.355Z"
   },
   {
    "duration": 38,
    "start_time": "2021-06-10T20:23:01.483Z"
   },
   {
    "duration": 12,
    "start_time": "2021-06-10T20:23:18.781Z"
   },
   {
    "duration": 306,
    "start_time": "2021-06-10T20:23:26.186Z"
   },
   {
    "duration": 366,
    "start_time": "2021-06-10T20:23:35.195Z"
   },
   {
    "duration": 321,
    "start_time": "2021-06-10T20:23:39.770Z"
   },
   {
    "duration": 287,
    "start_time": "2021-06-10T20:23:44.603Z"
   },
   {
    "duration": 297,
    "start_time": "2021-06-10T20:24:12.395Z"
   },
   {
    "duration": 377,
    "start_time": "2021-06-10T20:25:18.079Z"
   },
   {
    "duration": 14,
    "start_time": "2021-06-10T20:25:37.095Z"
   },
   {
    "duration": 290,
    "start_time": "2021-06-10T20:25:44.818Z"
   },
   {
    "duration": 310,
    "start_time": "2021-06-10T20:26:18.042Z"
   },
   {
    "duration": 13,
    "start_time": "2021-06-10T20:27:01.973Z"
   },
   {
    "duration": 38,
    "start_time": "2021-06-10T20:27:27.129Z"
   },
   {
    "duration": 176,
    "start_time": "2021-06-10T20:27:54.615Z"
   },
   {
    "duration": 107,
    "start_time": "2021-06-10T20:28:01.626Z"
   },
   {
    "duration": 6,
    "start_time": "2021-06-10T20:28:39.609Z"
   },
   {
    "duration": 103,
    "start_time": "2021-06-10T20:29:00.494Z"
   },
   {
    "duration": 99,
    "start_time": "2021-06-10T20:29:13.506Z"
   },
   {
    "duration": 27,
    "start_time": "2021-06-10T20:29:31.218Z"
   },
   {
    "duration": 344,
    "start_time": "2021-06-10T20:29:38.761Z"
   },
   {
    "duration": 31,
    "start_time": "2021-06-10T20:29:54.658Z"
   },
   {
    "duration": 455,
    "start_time": "2021-06-10T20:30:19.687Z"
   },
   {
    "duration": 32,
    "start_time": "2021-06-10T20:30:32.489Z"
   },
   {
    "duration": 309,
    "start_time": "2021-06-10T20:30:59.150Z"
   },
   {
    "duration": 328,
    "start_time": "2021-06-10T20:31:24.983Z"
   },
   {
    "duration": 623,
    "start_time": "2021-06-10T20:31:47.814Z"
   },
   {
    "duration": 1445,
    "start_time": "2021-06-10T20:32:30.098Z"
   },
   {
    "duration": 1351,
    "start_time": "2021-06-10T20:33:00.552Z"
   },
   {
    "duration": 633,
    "start_time": "2021-06-10T20:35:14.678Z"
   },
   {
    "duration": 4,
    "start_time": "2021-06-10T20:35:44.696Z"
   },
   {
    "duration": 5,
    "start_time": "2021-06-10T20:35:52.177Z"
   },
   {
    "duration": 1195,
    "start_time": "2021-06-10T20:35:57.319Z"
   },
   {
    "duration": 937,
    "start_time": "2021-06-10T20:36:14.896Z"
   },
   {
    "duration": 1223,
    "start_time": "2021-06-10T20:36:21.295Z"
   },
   {
    "duration": 1681,
    "start_time": "2021-06-10T20:36:30.631Z"
   },
   {
    "duration": 103,
    "start_time": "2021-06-10T20:37:20.973Z"
   },
   {
    "duration": 1368,
    "start_time": "2021-06-10T20:37:34.622Z"
   },
   {
    "duration": 1380,
    "start_time": "2021-06-10T20:37:43.143Z"
   },
   {
    "duration": 721,
    "start_time": "2021-06-10T20:40:36.695Z"
   },
   {
    "duration": 438,
    "start_time": "2021-06-10T20:40:48.223Z"
   },
   {
    "duration": 539,
    "start_time": "2021-06-10T20:41:27.010Z"
   },
   {
    "duration": 401,
    "start_time": "2021-06-10T20:41:52.542Z"
   },
   {
    "duration": 373,
    "start_time": "2021-06-10T20:42:21.539Z"
   },
   {
    "duration": 492,
    "start_time": "2021-06-10T20:42:50.136Z"
   },
   {
    "duration": 402,
    "start_time": "2021-06-10T20:43:00.110Z"
   },
   {
    "duration": 424,
    "start_time": "2021-06-10T20:43:24.992Z"
   },
   {
    "duration": 707,
    "start_time": "2021-06-10T20:43:43.500Z"
   },
   {
    "duration": 691,
    "start_time": "2021-06-10T20:44:03.364Z"
   },
   {
    "duration": 689,
    "start_time": "2021-06-10T20:44:15.206Z"
   },
   {
    "duration": 694,
    "start_time": "2021-06-10T20:44:27.206Z"
   },
   {
    "duration": 503,
    "start_time": "2021-06-10T20:44:32.789Z"
   },
   {
    "duration": 410,
    "start_time": "2021-06-10T20:44:49.590Z"
   },
   {
    "duration": 402,
    "start_time": "2021-06-10T20:46:52.509Z"
   },
   {
    "duration": 694,
    "start_time": "2021-06-10T20:47:16.195Z"
   },
   {
    "duration": 691,
    "start_time": "2021-06-10T20:47:31.909Z"
   },
   {
    "duration": 687,
    "start_time": "2021-06-10T20:50:43.373Z"
   },
   {
    "duration": 225,
    "start_time": "2021-06-10T20:50:48.687Z"
   },
   {
    "duration": 440,
    "start_time": "2021-06-10T20:50:56.949Z"
   },
   {
    "duration": 695,
    "start_time": "2021-06-10T20:51:05.061Z"
   },
   {
    "duration": 483,
    "start_time": "2021-06-10T20:51:31.685Z"
   },
   {
    "duration": 616,
    "start_time": "2021-06-10T20:51:41.836Z"
   },
   {
    "duration": 751,
    "start_time": "2021-06-10T20:51:58.316Z"
   },
   {
    "duration": 909,
    "start_time": "2021-06-10T20:53:05.739Z"
   },
   {
    "duration": 633,
    "start_time": "2021-06-10T20:53:18.561Z"
   },
   {
    "duration": 721,
    "start_time": "2021-06-10T20:54:03.901Z"
   },
   {
    "duration": 271,
    "start_time": "2021-06-10T20:58:09.936Z"
   },
   {
    "duration": 1384,
    "start_time": "2021-06-13T07:51:06.541Z"
   },
   {
    "duration": 367,
    "start_time": "2021-06-13T07:51:07.928Z"
   },
   {
    "duration": 23,
    "start_time": "2021-06-13T07:51:08.298Z"
   },
   {
    "duration": 20,
    "start_time": "2021-06-13T07:51:08.324Z"
   },
   {
    "duration": 54,
    "start_time": "2021-06-13T07:51:08.346Z"
   },
   {
    "duration": 19,
    "start_time": "2021-06-13T07:51:08.403Z"
   },
   {
    "duration": 45,
    "start_time": "2021-06-13T07:51:08.424Z"
   },
   {
    "duration": 20,
    "start_time": "2021-06-13T07:51:08.474Z"
   },
   {
    "duration": 26,
    "start_time": "2021-06-13T07:51:08.497Z"
   },
   {
    "duration": 4,
    "start_time": "2021-06-13T07:51:08.526Z"
   },
   {
    "duration": 31,
    "start_time": "2021-06-13T07:51:08.533Z"
   },
   {
    "duration": 25,
    "start_time": "2021-06-13T07:51:08.567Z"
   },
   {
    "duration": 12,
    "start_time": "2021-06-13T07:51:08.595Z"
   },
   {
    "duration": 15,
    "start_time": "2021-06-13T07:51:08.610Z"
   },
   {
    "duration": 33,
    "start_time": "2021-06-13T07:51:08.628Z"
   },
   {
    "duration": 15,
    "start_time": "2021-06-13T07:51:08.664Z"
   },
   {
    "duration": 7,
    "start_time": "2021-06-13T07:51:08.681Z"
   },
   {
    "duration": 7,
    "start_time": "2021-06-13T07:51:08.691Z"
   },
   {
    "duration": 334,
    "start_time": "2021-06-13T07:51:08.701Z"
   },
   {
    "duration": 7,
    "start_time": "2021-06-13T07:51:09.037Z"
   },
   {
    "duration": 17,
    "start_time": "2021-06-13T07:51:09.046Z"
   },
   {
    "duration": 311,
    "start_time": "2021-06-13T07:51:09.066Z"
   },
   {
    "duration": 13,
    "start_time": "2021-06-13T07:51:09.384Z"
   },
   {
    "duration": 8,
    "start_time": "2021-06-13T07:51:09.401Z"
   },
   {
    "duration": 13,
    "start_time": "2021-06-13T07:51:09.411Z"
   },
   {
    "duration": 35,
    "start_time": "2021-06-13T07:51:09.427Z"
   },
   {
    "duration": 13,
    "start_time": "2021-06-13T07:51:09.466Z"
   },
   {
    "duration": 6,
    "start_time": "2021-06-13T07:51:09.482Z"
   },
   {
    "duration": 11,
    "start_time": "2021-06-13T07:51:09.491Z"
   },
   {
    "duration": 13,
    "start_time": "2021-06-13T07:51:09.505Z"
   },
   {
    "duration": 64,
    "start_time": "2021-06-13T07:51:09.521Z"
   },
   {
    "duration": 655,
    "start_time": "2021-06-13T07:51:09.588Z"
   },
   {
    "duration": 32,
    "start_time": "2021-06-13T07:51:10.246Z"
   },
   {
    "duration": 13,
    "start_time": "2021-06-13T07:51:10.281Z"
   },
   {
    "duration": 638,
    "start_time": "2021-06-13T07:51:10.297Z"
   },
   {
    "duration": 24,
    "start_time": "2021-06-13T07:51:10.938Z"
   },
   {
    "duration": 32,
    "start_time": "2021-06-13T07:51:10.965Z"
   },
   {
    "duration": 21,
    "start_time": "2021-06-13T07:51:11.000Z"
   },
   {
    "duration": 46,
    "start_time": "2021-06-13T07:51:11.024Z"
   },
   {
    "duration": 628,
    "start_time": "2021-06-13T07:51:11.072Z"
   },
   {
    "duration": 733,
    "start_time": "2021-06-13T07:51:11.703Z"
   },
   {
    "duration": 29,
    "start_time": "2021-06-13T07:51:12.438Z"
   },
   {
    "duration": 11,
    "start_time": "2021-06-13T07:51:12.470Z"
   },
   {
    "duration": 26,
    "start_time": "2021-06-13T07:51:12.484Z"
   },
   {
    "duration": 424,
    "start_time": "2021-06-13T07:51:12.513Z"
   },
   {
    "duration": 6,
    "start_time": "2021-06-13T07:51:12.939Z"
   },
   {
    "duration": 395,
    "start_time": "2021-06-13T07:51:12.947Z"
   },
   {
    "duration": 5,
    "start_time": "2021-06-13T07:51:13.344Z"
   },
   {
    "duration": 7,
    "start_time": "2021-06-13T07:51:13.362Z"
   },
   {
    "duration": 34,
    "start_time": "2021-06-13T07:51:13.371Z"
   },
   {
    "duration": 430,
    "start_time": "2021-06-13T07:51:13.408Z"
   },
   {
    "duration": 6,
    "start_time": "2021-06-13T07:51:13.841Z"
   },
   {
    "duration": 496,
    "start_time": "2021-06-13T07:51:13.849Z"
   },
   {
    "duration": 14,
    "start_time": "2021-06-13T07:51:14.348Z"
   },
   {
    "duration": 25,
    "start_time": "2021-06-13T07:51:14.364Z"
   },
   {
    "duration": 4,
    "start_time": "2021-06-13T07:51:14.391Z"
   },
   {
    "duration": 24,
    "start_time": "2021-06-13T07:51:14.397Z"
   },
   {
    "duration": 50,
    "start_time": "2021-06-13T07:51:14.423Z"
   },
   {
    "duration": 21,
    "start_time": "2021-06-13T07:51:14.476Z"
   },
   {
    "duration": 24,
    "start_time": "2021-06-13T07:51:14.500Z"
   },
   {
    "duration": 61,
    "start_time": "2021-06-13T07:51:14.527Z"
   },
   {
    "duration": 28,
    "start_time": "2021-06-13T07:51:14.591Z"
   },
   {
    "duration": 58,
    "start_time": "2021-06-13T07:51:14.623Z"
   },
   {
    "duration": 28,
    "start_time": "2021-06-13T07:51:14.685Z"
   },
   {
    "duration": 57,
    "start_time": "2021-06-13T07:51:14.716Z"
   },
   {
    "duration": 4,
    "start_time": "2021-06-13T07:51:14.776Z"
   },
   {
    "duration": 24,
    "start_time": "2021-06-13T07:51:14.783Z"
   },
   {
    "duration": 44,
    "start_time": "2021-06-13T07:51:14.818Z"
   },
   {
    "duration": 383,
    "start_time": "2021-06-13T07:57:55.170Z"
   },
   {
    "duration": 5,
    "start_time": "2021-06-13T08:08:39.938Z"
   },
   {
    "duration": 4,
    "start_time": "2021-06-13T08:08:41.840Z"
   },
   {
    "duration": 19,
    "start_time": "2021-06-13T08:08:42.925Z"
   },
   {
    "duration": 9,
    "start_time": "2021-06-13T08:08:48.365Z"
   },
   {
    "duration": 13,
    "start_time": "2021-06-13T08:09:08.987Z"
   },
   {
    "duration": 5,
    "start_time": "2021-06-13T08:09:11.859Z"
   },
   {
    "duration": 14,
    "start_time": "2021-06-13T08:09:13.377Z"
   },
   {
    "duration": 5,
    "start_time": "2021-06-13T08:09:20.417Z"
   },
   {
    "duration": 3,
    "start_time": "2021-06-13T08:09:22.757Z"
   },
   {
    "duration": 463,
    "start_time": "2021-06-13T08:09:25.445Z"
   },
   {
    "duration": 8,
    "start_time": "2021-06-13T08:09:25.912Z"
   },
   {
    "duration": 6,
    "start_time": "2021-06-13T08:09:53.973Z"
   },
   {
    "duration": 300,
    "start_time": "2021-06-13T08:09:54.337Z"
   },
   {
    "duration": 13,
    "start_time": "2021-06-13T08:10:06.977Z"
   },
   {
    "duration": 9,
    "start_time": "2021-06-13T08:10:15.746Z"
   },
   {
    "duration": 8,
    "start_time": "2021-06-13T08:10:16.258Z"
   },
   {
    "duration": 428,
    "start_time": "2021-06-13T08:10:53.426Z"
   },
   {
    "duration": 315,
    "start_time": "2021-06-13T08:11:27.367Z"
   },
   {
    "duration": 5,
    "start_time": "2021-06-13T08:11:30.765Z"
   },
   {
    "duration": 4,
    "start_time": "2021-06-13T08:11:38.785Z"
   },
   {
    "duration": 8,
    "start_time": "2021-06-13T08:11:42.239Z"
   },
   {
    "duration": 5,
    "start_time": "2021-06-13T08:11:44.167Z"
   },
   {
    "duration": 8,
    "start_time": "2021-06-13T08:11:48.165Z"
   },
   {
    "duration": 397,
    "start_time": "2021-06-13T08:12:15.865Z"
   },
   {
    "duration": 8304,
    "start_time": "2021-06-13T08:12:21.825Z"
   },
   {
    "duration": 7,
    "start_time": "2021-06-13T08:12:34.933Z"
   },
   {
    "duration": 7,
    "start_time": "2021-06-13T08:12:35.605Z"
   },
   {
    "duration": 7,
    "start_time": "2021-06-13T08:12:43.654Z"
   },
   {
    "duration": 22,
    "start_time": "2021-06-13T08:12:58.783Z"
   },
   {
    "duration": 429,
    "start_time": "2021-06-13T08:14:19.432Z"
   },
   {
    "duration": 17,
    "start_time": "2021-06-13T08:15:22.864Z"
   },
   {
    "duration": 10,
    "start_time": "2021-06-13T08:15:27.833Z"
   },
   {
    "duration": 522,
    "start_time": "2021-06-13T08:15:48.059Z"
   },
   {
    "duration": 412,
    "start_time": "2021-06-13T08:15:59.618Z"
   },
   {
    "duration": 8,
    "start_time": "2021-06-13T08:17:58.863Z"
   },
   {
    "duration": 21,
    "start_time": "2021-06-13T08:18:00.045Z"
   },
   {
    "duration": 15,
    "start_time": "2021-06-13T08:18:17.705Z"
   },
   {
    "duration": 14,
    "start_time": "2021-06-13T08:18:22.257Z"
   },
   {
    "duration": 916,
    "start_time": "2021-06-13T08:19:16.418Z"
   },
   {
    "duration": 10,
    "start_time": "2021-06-13T08:19:46.975Z"
   },
   {
    "duration": 22,
    "start_time": "2021-06-13T08:19:48.405Z"
   },
   {
    "duration": 14,
    "start_time": "2021-06-13T08:19:48.735Z"
   },
   {
    "duration": 9,
    "start_time": "2021-06-13T08:19:50.061Z"
   },
   {
    "duration": 549,
    "start_time": "2021-06-13T08:20:03.485Z"
   },
   {
    "duration": 633,
    "start_time": "2021-06-13T08:20:13.421Z"
   },
   {
    "duration": 744,
    "start_time": "2021-06-13T08:21:25.413Z"
   },
   {
    "duration": 22,
    "start_time": "2021-06-13T08:22:28.044Z"
   },
   {
    "duration": 9,
    "start_time": "2021-06-13T08:22:32.099Z"
   },
   {
    "duration": 31,
    "start_time": "2021-06-13T08:22:37.609Z"
   },
   {
    "duration": 548,
    "start_time": "2021-06-13T08:22:40.206Z"
   },
   {
    "duration": 11,
    "start_time": "2021-06-13T08:23:43.591Z"
   },
   {
    "duration": 7,
    "start_time": "2021-06-13T08:24:01.678Z"
   },
   {
    "duration": 11,
    "start_time": "2021-06-13T08:24:48.550Z"
   },
   {
    "duration": 120,
    "start_time": "2021-06-13T08:25:13.586Z"
   },
   {
    "duration": 17,
    "start_time": "2021-06-13T08:25:19.864Z"
   },
   {
    "duration": 14,
    "start_time": "2021-06-13T08:25:32.524Z"
   },
   {
    "duration": 15,
    "start_time": "2021-06-13T08:25:44.306Z"
   },
   {
    "duration": 15,
    "start_time": "2021-06-13T08:26:13.365Z"
   },
   {
    "duration": 7,
    "start_time": "2021-06-13T08:26:21.975Z"
   },
   {
    "duration": 17,
    "start_time": "2021-06-13T08:27:05.321Z"
   },
   {
    "duration": 17,
    "start_time": "2021-06-13T08:27:56.136Z"
   },
   {
    "duration": 135,
    "start_time": "2021-06-13T08:28:18.500Z"
   },
   {
    "duration": 569,
    "start_time": "2021-06-13T08:28:58.826Z"
   },
   {
    "duration": 380,
    "start_time": "2021-06-13T08:29:56.196Z"
   },
   {
    "duration": 411,
    "start_time": "2021-06-13T08:30:14.853Z"
   },
   {
    "duration": 11,
    "start_time": "2021-06-13T08:31:05.153Z"
   },
   {
    "duration": 16,
    "start_time": "2021-06-13T08:31:21.406Z"
   },
   {
    "duration": 17,
    "start_time": "2021-06-13T08:31:49.747Z"
   },
   {
    "duration": 17,
    "start_time": "2021-06-13T08:33:05.445Z"
   },
   {
    "duration": 18,
    "start_time": "2021-06-13T08:34:09.511Z"
   },
   {
    "duration": 12,
    "start_time": "2021-06-13T08:35:08.989Z"
   },
   {
    "duration": 21,
    "start_time": "2021-06-13T08:36:21.115Z"
   },
   {
    "duration": 398,
    "start_time": "2021-06-13T08:36:22.473Z"
   },
   {
    "duration": 420,
    "start_time": "2021-06-13T08:37:06.045Z"
   },
   {
    "duration": 12,
    "start_time": "2021-06-13T08:37:17.139Z"
   },
   {
    "duration": 427,
    "start_time": "2021-06-13T08:37:18.845Z"
   },
   {
    "duration": 402,
    "start_time": "2021-06-13T08:37:27.888Z"
   },
   {
    "duration": 13,
    "start_time": "2021-06-13T08:37:29.527Z"
   },
   {
    "duration": 7,
    "start_time": "2021-06-13T08:45:46.617Z"
   },
   {
    "duration": 21,
    "start_time": "2021-06-13T08:45:50.545Z"
   },
   {
    "duration": 376,
    "start_time": "2021-06-13T08:46:11.291Z"
   },
   {
    "duration": 312,
    "start_time": "2021-06-13T08:46:32.959Z"
   },
   {
    "duration": 10,
    "start_time": "2021-06-13T08:46:49.152Z"
   },
   {
    "duration": 367,
    "start_time": "2021-06-13T08:47:08.489Z"
   },
   {
    "duration": 13,
    "start_time": "2021-06-13T08:48:45.615Z"
   },
   {
    "duration": 13,
    "start_time": "2021-06-13T08:48:58.437Z"
   },
   {
    "duration": 13,
    "start_time": "2021-06-13T08:49:11.704Z"
   },
   {
    "duration": 12,
    "start_time": "2021-06-13T08:49:34.429Z"
   },
   {
    "duration": 21,
    "start_time": "2021-06-13T08:51:33.180Z"
   },
   {
    "duration": 3,
    "start_time": "2021-06-13T08:56:04.658Z"
   },
   {
    "duration": 21,
    "start_time": "2021-06-13T08:56:13.762Z"
   },
   {
    "duration": 21,
    "start_time": "2021-06-13T08:56:15.744Z"
   },
   {
    "duration": 21,
    "start_time": "2021-06-13T08:56:18.223Z"
   },
   {
    "duration": 21,
    "start_time": "2021-06-13T09:13:11.861Z"
   },
   {
    "duration": 21,
    "start_time": "2021-06-13T09:13:13.265Z"
   },
   {
    "duration": 22,
    "start_time": "2021-06-13T09:13:16.525Z"
   },
   {
    "duration": 21,
    "start_time": "2021-06-13T09:13:57.025Z"
   },
   {
    "duration": 15,
    "start_time": "2021-06-13T09:16:26.123Z"
   },
   {
    "duration": 15,
    "start_time": "2021-06-13T09:17:07.340Z"
   },
   {
    "duration": 4,
    "start_time": "2021-06-13T09:24:53.417Z"
   },
   {
    "duration": 1799,
    "start_time": "2021-06-13T09:56:09.982Z"
   },
   {
    "duration": 286,
    "start_time": "2021-06-13T09:56:11.786Z"
   },
   {
    "duration": 22,
    "start_time": "2021-06-13T09:56:12.075Z"
   },
   {
    "duration": 15,
    "start_time": "2021-06-13T09:56:12.101Z"
   },
   {
    "duration": 95,
    "start_time": "2021-06-13T09:56:12.119Z"
   },
   {
    "duration": 23,
    "start_time": "2021-06-13T09:56:12.217Z"
   },
   {
    "duration": 49,
    "start_time": "2021-06-13T09:56:12.243Z"
   },
   {
    "duration": 21,
    "start_time": "2021-06-13T09:56:12.297Z"
   },
   {
    "duration": 50,
    "start_time": "2021-06-13T09:56:12.321Z"
   },
   {
    "duration": 6,
    "start_time": "2021-06-13T09:56:12.373Z"
   },
   {
    "duration": 10,
    "start_time": "2021-06-13T09:56:12.381Z"
   },
   {
    "duration": 26,
    "start_time": "2021-06-13T09:56:12.394Z"
   },
   {
    "duration": 12,
    "start_time": "2021-06-13T09:56:12.423Z"
   },
   {
    "duration": 39,
    "start_time": "2021-06-13T09:56:12.437Z"
   },
   {
    "duration": 8,
    "start_time": "2021-06-13T09:56:12.479Z"
   },
   {
    "duration": 16,
    "start_time": "2021-06-13T09:56:12.495Z"
   },
   {
    "duration": 8,
    "start_time": "2021-06-13T09:56:12.514Z"
   },
   {
    "duration": 41,
    "start_time": "2021-06-13T09:56:12.524Z"
   },
   {
    "duration": 334,
    "start_time": "2021-06-13T09:56:12.567Z"
   },
   {
    "duration": 7,
    "start_time": "2021-06-13T09:56:12.903Z"
   },
   {
    "duration": 7,
    "start_time": "2021-06-13T09:56:12.913Z"
   },
   {
    "duration": 448,
    "start_time": "2021-06-13T09:56:12.922Z"
   },
   {
    "duration": 18,
    "start_time": "2021-06-13T09:56:13.377Z"
   },
   {
    "duration": 6,
    "start_time": "2021-06-13T09:56:13.400Z"
   },
   {
    "duration": 9,
    "start_time": "2021-06-13T09:56:13.409Z"
   },
   {
    "duration": 6,
    "start_time": "2021-06-13T09:56:13.421Z"
   },
   {
    "duration": 44,
    "start_time": "2021-06-13T09:56:13.430Z"
   },
   {
    "duration": 7,
    "start_time": "2021-06-13T09:56:13.482Z"
   },
   {
    "duration": 11,
    "start_time": "2021-06-13T09:56:13.492Z"
   },
   {
    "duration": 17,
    "start_time": "2021-06-13T09:56:13.506Z"
   },
   {
    "duration": 37,
    "start_time": "2021-06-13T09:56:13.539Z"
   },
   {
    "duration": 488,
    "start_time": "2021-06-13T09:56:13.578Z"
   },
   {
    "duration": 27,
    "start_time": "2021-06-13T09:56:14.073Z"
   },
   {
    "duration": 13,
    "start_time": "2021-06-13T09:56:14.102Z"
   },
   {
    "duration": 490,
    "start_time": "2021-06-13T09:56:14.118Z"
   },
   {
    "duration": 11,
    "start_time": "2021-06-13T09:56:14.611Z"
   },
   {
    "duration": 54,
    "start_time": "2021-06-13T09:56:14.626Z"
   },
   {
    "duration": 22,
    "start_time": "2021-06-13T09:56:14.683Z"
   },
   {
    "duration": 15,
    "start_time": "2021-06-13T09:56:14.709Z"
   },
   {
    "duration": 711,
    "start_time": "2021-06-13T09:56:14.727Z"
   },
   {
    "duration": 902,
    "start_time": "2021-06-13T09:56:15.440Z"
   },
   {
    "duration": 44,
    "start_time": "2021-06-13T09:56:16.344Z"
   },
   {
    "duration": 24,
    "start_time": "2021-06-13T09:56:16.391Z"
   },
   {
    "duration": 24,
    "start_time": "2021-06-13T09:56:16.417Z"
   },
   {
    "duration": 572,
    "start_time": "2021-06-13T09:56:16.443Z"
   },
   {
    "duration": 12,
    "start_time": "2021-06-13T09:56:17.018Z"
   },
   {
    "duration": 478,
    "start_time": "2021-06-13T09:56:17.034Z"
   },
   {
    "duration": 13,
    "start_time": "2021-06-13T09:56:17.515Z"
   },
   {
    "duration": 10,
    "start_time": "2021-06-13T09:56:17.531Z"
   },
   {
    "duration": 51,
    "start_time": "2021-06-13T09:56:17.543Z"
   },
   {
    "duration": 553,
    "start_time": "2021-06-13T09:56:17.600Z"
   },
   {
    "duration": 34,
    "start_time": "2021-06-13T09:56:18.156Z"
   },
   {
    "duration": 568,
    "start_time": "2021-06-13T09:56:18.193Z"
   },
   {
    "duration": 18,
    "start_time": "2021-06-13T09:56:18.764Z"
   },
   {
    "duration": 28,
    "start_time": "2021-06-13T09:56:18.785Z"
   },
   {
    "duration": 50,
    "start_time": "2021-06-13T09:56:18.815Z"
   },
   {
    "duration": 27,
    "start_time": "2021-06-13T09:56:18.868Z"
   },
   {
    "duration": 35,
    "start_time": "2021-06-13T09:56:18.898Z"
   },
   {
    "duration": 55,
    "start_time": "2021-06-13T09:56:18.936Z"
   },
   {
    "duration": 33,
    "start_time": "2021-06-13T09:56:18.995Z"
   },
   {
    "duration": 35,
    "start_time": "2021-06-13T09:56:19.031Z"
   },
   {
    "duration": 33,
    "start_time": "2021-06-13T09:56:19.071Z"
   },
   {
    "duration": 19,
    "start_time": "2021-06-13T09:56:19.107Z"
   },
   {
    "duration": 50,
    "start_time": "2021-06-13T09:56:19.129Z"
   },
   {
    "duration": 3,
    "start_time": "2021-06-13T09:56:19.181Z"
   },
   {
    "duration": 34,
    "start_time": "2021-06-13T09:56:19.186Z"
   },
   {
    "duration": 18,
    "start_time": "2021-06-13T09:56:19.223Z"
   },
   {
    "duration": 1342,
    "start_time": "2021-06-13T10:39:43.913Z"
   },
   {
    "duration": 212,
    "start_time": "2021-06-13T10:39:45.258Z"
   },
   {
    "duration": 22,
    "start_time": "2021-06-13T10:39:45.473Z"
   },
   {
    "duration": 15,
    "start_time": "2021-06-13T10:39:45.498Z"
   },
   {
    "duration": 43,
    "start_time": "2021-06-13T10:39:45.516Z"
   },
   {
    "duration": 18,
    "start_time": "2021-06-13T10:39:45.561Z"
   },
   {
    "duration": 20,
    "start_time": "2021-06-13T10:39:45.600Z"
   },
   {
    "duration": 18,
    "start_time": "2021-06-13T10:39:45.627Z"
   },
   {
    "duration": 65,
    "start_time": "2021-06-13T10:39:45.649Z"
   },
   {
    "duration": 6,
    "start_time": "2021-06-13T10:39:45.717Z"
   },
   {
    "duration": 18,
    "start_time": "2021-06-13T10:39:45.726Z"
   },
   {
    "duration": 21,
    "start_time": "2021-06-13T10:39:45.746Z"
   },
   {
    "duration": 34,
    "start_time": "2021-06-13T10:39:45.770Z"
   },
   {
    "duration": 14,
    "start_time": "2021-06-13T10:39:45.807Z"
   },
   {
    "duration": 4,
    "start_time": "2021-06-13T10:39:45.824Z"
   },
   {
    "duration": 16,
    "start_time": "2021-06-13T10:39:45.831Z"
   },
   {
    "duration": 50,
    "start_time": "2021-06-13T10:39:45.850Z"
   },
   {
    "duration": 4,
    "start_time": "2021-06-13T10:39:45.904Z"
   },
   {
    "duration": 324,
    "start_time": "2021-06-13T10:39:45.911Z"
   },
   {
    "duration": 8,
    "start_time": "2021-06-13T10:39:46.237Z"
   },
   {
    "duration": 7,
    "start_time": "2021-06-13T10:39:46.248Z"
   },
   {
    "duration": 350,
    "start_time": "2021-06-13T10:39:46.258Z"
   },
   {
    "duration": 13,
    "start_time": "2021-06-13T10:39:46.614Z"
   },
   {
    "duration": 13,
    "start_time": "2021-06-13T10:39:46.631Z"
   },
   {
    "duration": 8,
    "start_time": "2021-06-13T10:39:46.647Z"
   },
   {
    "duration": 6,
    "start_time": "2021-06-13T10:39:46.658Z"
   },
   {
    "duration": 40,
    "start_time": "2021-06-13T10:39:46.667Z"
   },
   {
    "duration": 5,
    "start_time": "2021-06-13T10:39:46.711Z"
   },
   {
    "duration": 17,
    "start_time": "2021-06-13T10:39:46.719Z"
   },
   {
    "duration": 12,
    "start_time": "2021-06-13T10:39:46.740Z"
   },
   {
    "duration": 61,
    "start_time": "2021-06-13T10:39:46.754Z"
   },
   {
    "duration": 440,
    "start_time": "2021-06-13T10:39:46.818Z"
   },
   {
    "duration": 18,
    "start_time": "2021-06-13T10:39:47.261Z"
   },
   {
    "duration": 26,
    "start_time": "2021-06-13T10:39:47.282Z"
   },
   {
    "duration": 448,
    "start_time": "2021-06-13T10:39:47.311Z"
   },
   {
    "duration": 9,
    "start_time": "2021-06-13T10:39:47.761Z"
   },
   {
    "duration": 41,
    "start_time": "2021-06-13T10:39:47.773Z"
   },
   {
    "duration": 22,
    "start_time": "2021-06-13T10:39:47.816Z"
   },
   {
    "duration": 9,
    "start_time": "2021-06-13T10:39:47.841Z"
   },
   {
    "duration": 622,
    "start_time": "2021-06-13T10:39:47.852Z"
   },
   {
    "duration": 747,
    "start_time": "2021-06-13T10:39:48.476Z"
   },
   {
    "duration": 22,
    "start_time": "2021-06-13T10:39:49.226Z"
   },
   {
    "duration": 18,
    "start_time": "2021-06-13T10:39:49.251Z"
   },
   {
    "duration": 45,
    "start_time": "2021-06-13T10:39:49.272Z"
   },
   {
    "duration": 395,
    "start_time": "2021-06-13T10:39:49.319Z"
   },
   {
    "duration": 12,
    "start_time": "2021-06-13T10:39:49.717Z"
   },
   {
    "duration": 399,
    "start_time": "2021-06-13T10:39:49.731Z"
   },
   {
    "duration": 12,
    "start_time": "2021-06-13T10:39:50.132Z"
   },
   {
    "duration": 10,
    "start_time": "2021-06-13T10:39:50.146Z"
   },
   {
    "duration": 47,
    "start_time": "2021-06-13T10:39:50.158Z"
   },
   {
    "duration": 384,
    "start_time": "2021-06-13T10:39:50.208Z"
   },
   {
    "duration": 16,
    "start_time": "2021-06-13T10:39:50.595Z"
   },
   {
    "duration": 493,
    "start_time": "2021-06-13T10:39:50.613Z"
   },
   {
    "duration": 12,
    "start_time": "2021-06-13T10:39:51.108Z"
   },
   {
    "duration": 21,
    "start_time": "2021-06-13T10:39:51.123Z"
   },
   {
    "duration": 19,
    "start_time": "2021-06-13T10:39:51.146Z"
   },
   {
    "duration": 48,
    "start_time": "2021-06-13T10:39:51.168Z"
   },
   {
    "duration": 20,
    "start_time": "2021-06-13T10:39:51.219Z"
   },
   {
    "duration": 59,
    "start_time": "2021-06-13T10:39:51.241Z"
   },
   {
    "duration": 20,
    "start_time": "2021-06-13T10:39:51.303Z"
   },
   {
    "duration": 19,
    "start_time": "2021-06-13T10:39:51.325Z"
   },
   {
    "duration": 55,
    "start_time": "2021-06-13T10:39:51.347Z"
   },
   {
    "duration": 20,
    "start_time": "2021-06-13T10:39:51.405Z"
   },
   {
    "duration": 18,
    "start_time": "2021-06-13T10:39:51.427Z"
   },
   {
    "duration": 5,
    "start_time": "2021-06-13T10:39:51.448Z"
   },
   {
    "duration": 53,
    "start_time": "2021-06-13T10:39:51.455Z"
   },
   {
    "duration": 11,
    "start_time": "2021-06-13T10:39:51.510Z"
   },
   {
    "duration": 4,
    "start_time": "2021-06-13T10:43:11.643Z"
   },
   {
    "duration": 245,
    "start_time": "2021-06-13T10:43:12.270Z"
   },
   {
    "duration": 5,
    "start_time": "2021-06-13T10:43:18.668Z"
   },
   {
    "duration": 5,
    "start_time": "2021-06-13T10:43:18.866Z"
   },
   {
    "duration": 10,
    "start_time": "2021-06-13T10:43:22.783Z"
   },
   {
    "duration": 14,
    "start_time": "2021-06-13T10:43:22.959Z"
   },
   {
    "duration": 5,
    "start_time": "2021-06-13T10:43:24.572Z"
   },
   {
    "duration": 4,
    "start_time": "2021-06-13T10:43:31.746Z"
   },
   {
    "duration": 2344,
    "start_time": "2021-06-13T10:44:00.614Z"
   },
   {
    "duration": 10086,
    "start_time": "2021-06-13T10:44:27.389Z"
   }
  ],
  "kernelspec": {
   "display_name": "Python 3",
   "language": "python",
   "name": "python3"
  },
  "language_info": {
   "codemirror_mode": {
    "name": "ipython",
    "version": 3
   },
   "file_extension": ".py",
   "mimetype": "text/x-python",
   "name": "python",
   "nbconvert_exporter": "python",
   "pygments_lexer": "ipython3",
   "version": "3.9.2"
  },
  "toc": {
   "base_numbering": 1,
   "nav_menu": {},
   "number_sections": true,
   "sideBar": true,
   "skip_h1_title": true,
   "title_cell": "Table of Contents",
   "title_sidebar": "Contents",
   "toc_cell": false,
   "toc_position": {
    "height": "calc(100% - 180px)",
    "left": "10px",
    "top": "150px",
    "width": "317.391px"
   },
   "toc_section_display": true,
   "toc_window_display": true
  }
 },
 "nbformat": 4,
 "nbformat_minor": 4
}
