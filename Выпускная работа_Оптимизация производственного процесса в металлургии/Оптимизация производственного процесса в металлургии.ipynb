{
 "cells": [
  {
   "cell_type": "markdown",
   "id": "cloudy-mozambique",
   "metadata": {},
   "source": [
    "# `Проект по оптимизации производственного процесса в металлургии`"
   ]
  },
  {
   "cell_type": "markdown",
   "id": "acknowledged-phone",
   "metadata": {},
   "source": [
    "Чтобы оптимизировать производственные расходы, металлургический комбинат ООО «Так закаляем сталь» решил уменьшить потребление электроэнергии на этапе обработки стали. Вам предстоит построить модель, которая предскажет температуру стали.\n",
    "\n",
    "Описание этапа обработки\n",
    "\n",
    "Сталь обрабатывают в металлическом ковше вместимостью около 100 тонн. Чтобы ковш выдерживал высокие температуры, изнутри его облицовывают огнеупорным кирпичом. Расплавленную сталь заливают в ковш и подогревают до нужной температуры графитовыми электродами. Они установлены в крышке ковша. \n",
    "\n",
    "Из сплава выводится сера (десульфурация), добавлением примесей корректируется химический состав и отбираются пробы. Сталь легируют — изменяют её состав — подавая куски сплава из бункера для сыпучих материалов или проволоку через специальный трайб-аппарат (англ. tribe, «масса»).\n",
    "\n",
    "Перед тем как первый раз ввести легирующие добавки, измеряют температуру стали и производят её химический анализ. Потом температуру на несколько минут повышают, добавляют легирующие материалы и продувают сплав инертным газом. Затем его перемешивают и снова проводят измерения. Такой цикл повторяется до достижения целевого химического состава и оптимальной температуры плавки.\n",
    "\n",
    "Тогда расплавленная сталь отправляется на доводку металла или поступает в машину непрерывной разливки. Оттуда готовый продукт выходит в виде заготовок-слябов (англ. *slab*, «плита»)."
   ]
  },
  {
   "cell_type": "markdown",
   "id": "reasonable-minister",
   "metadata": {},
   "source": [
    "# Содержание\n",
    "\n",
    "- Подготовка материалов к анализу\n",
    "    \n",
    "- Исследовательский анализ данных \n",
    "\n",
    "- План работы по проекту\n",
    "\n",
    "- Предобработка данных и формирование признаков\n",
    "\n",
    "- Подбор гиперпараметров моделей и их обучение\n",
    "\n",
    "- Тестирование полученных моделей\n",
    "\n",
    "- Вывод по проекту"
   ]
  },
  {
   "cell_type": "markdown",
   "id": "binary-leonard",
   "metadata": {},
   "source": [
    "# Подготовка материалов к анализу"
   ]
  },
  {
   "cell_type": "markdown",
   "id": "accepted-curtis",
   "metadata": {},
   "source": [
    "## Загрузка необходимых библиотек"
   ]
  },
  {
   "cell_type": "code",
   "execution_count": 1,
   "id": "fluid-prerequisite",
   "metadata": {
    "tags": []
   },
   "outputs": [],
   "source": [
    "# Первым делом самолеты... то есть, библиотеки!\n",
    "\n",
    "import pandas as pd\n",
    "import numpy as np\n",
    "import seaborn as sns\n",
    "import matplotlib.pyplot as plt\n",
    "import timeit\n",
    "\n",
    "import warnings\n",
    "warnings.filterwarnings('ignore')\n",
    "\n",
    "from datetime import datetime, time\n",
    "\n",
    "from sklearn.model_selection import train_test_split\n",
    "from sklearn.model_selection import cross_val_score\n",
    "from sklearn.model_selection import GridSearchCV\n",
    "from sklearn.metrics import mean_absolute_error\n",
    "\n",
    "# Модели регрессии\n",
    "\n",
    "from sklearn.linear_model import LinearRegression\n",
    "from sklearn.ensemble import RandomForestRegressor\n",
    "from sklearn.dummy import DummyRegressor\n",
    "from sklearn.ensemble import GradientBoostingRegressor"
   ]
  },
  {
   "cell_type": "markdown",
   "id": "royal-admission",
   "metadata": {},
   "source": [
    "## Загрузка датасетов"
   ]
  },
  {
   "cell_type": "markdown",
   "id": "attached-baseball",
   "metadata": {},
   "source": [
    "Данные состоят из файлов, полученных из разных источников:\n",
    "\n",
    "- `data_arc.csv` — данные об электродах;\n",
    "- `data_bulk.csv` — данные о подаче сыпучих материалов (объём);\n",
    "- `data_bulk_time.csv` *—* данные о подаче сыпучих материалов (время);\n",
    "- `data_gas.csv` — данные о продувке сплава газом;\n",
    "- `data_temp.csv` — результаты измерения температуры;\n",
    "- `data_wire.csv` — данные о проволочных материалах (объём);\n",
    "- `data_wire_time.csv` — данные о проволочных материалах (время)."
   ]
  },
  {
   "cell_type": "code",
   "execution_count": 2,
   "id": "vertical-baseball",
   "metadata": {},
   "outputs": [],
   "source": [
    "# Для ускорения процесса и \"облегчения\" кода создадим список суффиксов названий датасетов\n",
    "\n",
    "files = ['arc','bulk_time','bulk','gas','temp','wire_time','wire']"
   ]
  },
  {
   "cell_type": "code",
   "execution_count": 3,
   "id": "super-collar",
   "metadata": {},
   "outputs": [
    {
     "name": "stdout",
     "output_type": "stream",
     "text": [
      "Создан датафрейм с именем df_arc\n",
      "Создан датафрейм с именем df_bulk_time\n",
      "Создан датафрейм с именем df_bulk\n",
      "Создан датафрейм с именем df_gas\n",
      "Создан датафрейм с именем df_temp\n",
      "Создан датафрейм с именем df_wire_time\n",
      "Создан датафрейм с именем df_wire\n"
     ]
    }
   ],
   "source": [
    "# С применением отобранных ранее суффиксов создадим цикл для записи датасетов в отдельные переменные, \n",
    "# который будет работать как локально, так и в тренажере Яндекса\n",
    "\n",
    "try:\n",
    "    for file in files:\n",
    "        print('Создан датафрейм с именем df_'+file)\n",
    "        exec(\"df_{} = pd.read_csv('data_'+file+'.csv')\".format(file))\n",
    "except:\n",
    "    for file in files:\n",
    "        print('Создан датафрейм с именем df_'+file)\n",
    "        exec(\"df_{} = pd.read_csv('/datasets/final_steel/data_'+file+'.csv')\".format(file))"
   ]
  },
  {
   "cell_type": "markdown",
   "id": "faced-chrome",
   "metadata": {},
   "source": [
    "# Исследовательский анализ данных"
   ]
  },
  {
   "cell_type": "markdown",
   "id": "floppy-bearing",
   "metadata": {},
   "source": [
    "## Файл DF_ARK - данные о работе электродов"
   ]
  },
  {
   "cell_type": "code",
   "execution_count": 4,
   "id": "tender-village",
   "metadata": {},
   "outputs": [
    {
     "data": {
      "text/html": [
       "<div>\n",
       "<style scoped>\n",
       "    .dataframe tbody tr th:only-of-type {\n",
       "        vertical-align: middle;\n",
       "    }\n",
       "\n",
       "    .dataframe tbody tr th {\n",
       "        vertical-align: top;\n",
       "    }\n",
       "\n",
       "    .dataframe thead th {\n",
       "        text-align: right;\n",
       "    }\n",
       "</style>\n",
       "<table border=\"1\" class=\"dataframe\">\n",
       "  <thead>\n",
       "    <tr style=\"text-align: right;\">\n",
       "      <th></th>\n",
       "      <th>key</th>\n",
       "      <th>Начало нагрева дугой</th>\n",
       "      <th>Конец нагрева дугой</th>\n",
       "      <th>Активная мощность</th>\n",
       "      <th>Реактивная мощность</th>\n",
       "    </tr>\n",
       "  </thead>\n",
       "  <tbody>\n",
       "    <tr>\n",
       "      <th>0</th>\n",
       "      <td>1</td>\n",
       "      <td>2019-05-03 11:02:14</td>\n",
       "      <td>2019-05-03 11:06:02</td>\n",
       "      <td>0.976059</td>\n",
       "      <td>0.687084</td>\n",
       "    </tr>\n",
       "    <tr>\n",
       "      <th>1</th>\n",
       "      <td>1</td>\n",
       "      <td>2019-05-03 11:07:28</td>\n",
       "      <td>2019-05-03 11:10:33</td>\n",
       "      <td>0.805607</td>\n",
       "      <td>0.520285</td>\n",
       "    </tr>\n",
       "    <tr>\n",
       "      <th>2</th>\n",
       "      <td>1</td>\n",
       "      <td>2019-05-03 11:11:44</td>\n",
       "      <td>2019-05-03 11:14:36</td>\n",
       "      <td>0.744363</td>\n",
       "      <td>0.498805</td>\n",
       "    </tr>\n",
       "    <tr>\n",
       "      <th>3</th>\n",
       "      <td>1</td>\n",
       "      <td>2019-05-03 11:18:14</td>\n",
       "      <td>2019-05-03 11:24:19</td>\n",
       "      <td>1.659363</td>\n",
       "      <td>1.062669</td>\n",
       "    </tr>\n",
       "    <tr>\n",
       "      <th>4</th>\n",
       "      <td>1</td>\n",
       "      <td>2019-05-03 11:26:09</td>\n",
       "      <td>2019-05-03 11:28:37</td>\n",
       "      <td>0.692755</td>\n",
       "      <td>0.414397</td>\n",
       "    </tr>\n",
       "  </tbody>\n",
       "</table>\n",
       "</div>"
      ],
      "text/plain": [
       "   key Начало нагрева дугой  Конец нагрева дугой  Активная мощность  \\\n",
       "0    1  2019-05-03 11:02:14  2019-05-03 11:06:02           0.976059   \n",
       "1    1  2019-05-03 11:07:28  2019-05-03 11:10:33           0.805607   \n",
       "2    1  2019-05-03 11:11:44  2019-05-03 11:14:36           0.744363   \n",
       "3    1  2019-05-03 11:18:14  2019-05-03 11:24:19           1.659363   \n",
       "4    1  2019-05-03 11:26:09  2019-05-03 11:28:37           0.692755   \n",
       "\n",
       "   Реактивная мощность  \n",
       "0             0.687084  \n",
       "1             0.520285  \n",
       "2             0.498805  \n",
       "3             1.062669  \n",
       "4             0.414397  "
      ]
     },
     "execution_count": 4,
     "metadata": {},
     "output_type": "execute_result"
    }
   ],
   "source": [
    "# Выведем датасет df_arc для визуального осмотра\n",
    "\n",
    "df_arc.head()"
   ]
  },
  {
   "cell_type": "code",
   "execution_count": 5,
   "id": "temporal-proceeding",
   "metadata": {},
   "outputs": [
    {
     "name": "stdout",
     "output_type": "stream",
     "text": [
      "<class 'pandas.core.frame.DataFrame'>\n",
      "RangeIndex: 14876 entries, 0 to 14875\n",
      "Data columns (total 5 columns):\n",
      " #   Column                Non-Null Count  Dtype  \n",
      "---  ------                --------------  -----  \n",
      " 0   key                   14876 non-null  int64  \n",
      " 1   Начало нагрева дугой  14876 non-null  object \n",
      " 2   Конец нагрева дугой   14876 non-null  object \n",
      " 3   Активная мощность     14876 non-null  float64\n",
      " 4   Реактивная мощность   14876 non-null  float64\n",
      "dtypes: float64(2), int64(1), object(2)\n",
      "memory usage: 581.2+ KB\n"
     ]
    }
   ],
   "source": [
    "# Применим метод info для оценки структуры выборки\n",
    "\n",
    "df_arc.info()"
   ]
  },
  {
   "cell_type": "code",
   "execution_count": 6,
   "id": "arbitrary-acting",
   "metadata": {},
   "outputs": [
    {
     "data": {
      "text/html": [
       "<div>\n",
       "<style scoped>\n",
       "    .dataframe tbody tr th:only-of-type {\n",
       "        vertical-align: middle;\n",
       "    }\n",
       "\n",
       "    .dataframe tbody tr th {\n",
       "        vertical-align: top;\n",
       "    }\n",
       "\n",
       "    .dataframe thead th {\n",
       "        text-align: right;\n",
       "    }\n",
       "</style>\n",
       "<table border=\"1\" class=\"dataframe\">\n",
       "  <thead>\n",
       "    <tr style=\"text-align: right;\">\n",
       "      <th></th>\n",
       "      <th>key</th>\n",
       "      <th>Активная мощность</th>\n",
       "      <th>Реактивная мощность</th>\n",
       "    </tr>\n",
       "  </thead>\n",
       "  <tbody>\n",
       "    <tr>\n",
       "      <th>count</th>\n",
       "      <td>14876.000000</td>\n",
       "      <td>14876.000000</td>\n",
       "      <td>14876.000000</td>\n",
       "    </tr>\n",
       "    <tr>\n",
       "      <th>mean</th>\n",
       "      <td>1615.220422</td>\n",
       "      <td>0.670441</td>\n",
       "      <td>0.452592</td>\n",
       "    </tr>\n",
       "    <tr>\n",
       "      <th>std</th>\n",
       "      <td>934.571502</td>\n",
       "      <td>0.408159</td>\n",
       "      <td>5.878702</td>\n",
       "    </tr>\n",
       "    <tr>\n",
       "      <th>min</th>\n",
       "      <td>1.000000</td>\n",
       "      <td>0.030002</td>\n",
       "      <td>-715.504924</td>\n",
       "    </tr>\n",
       "    <tr>\n",
       "      <th>25%</th>\n",
       "      <td>806.000000</td>\n",
       "      <td>0.395297</td>\n",
       "      <td>0.290991</td>\n",
       "    </tr>\n",
       "    <tr>\n",
       "      <th>50%</th>\n",
       "      <td>1617.000000</td>\n",
       "      <td>0.555517</td>\n",
       "      <td>0.415962</td>\n",
       "    </tr>\n",
       "    <tr>\n",
       "      <th>75%</th>\n",
       "      <td>2429.000000</td>\n",
       "      <td>0.857034</td>\n",
       "      <td>0.637371</td>\n",
       "    </tr>\n",
       "    <tr>\n",
       "      <th>max</th>\n",
       "      <td>3241.000000</td>\n",
       "      <td>3.731596</td>\n",
       "      <td>2.676388</td>\n",
       "    </tr>\n",
       "  </tbody>\n",
       "</table>\n",
       "</div>"
      ],
      "text/plain": [
       "                key  Активная мощность  Реактивная мощность\n",
       "count  14876.000000       14876.000000         14876.000000\n",
       "mean    1615.220422           0.670441             0.452592\n",
       "std      934.571502           0.408159             5.878702\n",
       "min        1.000000           0.030002          -715.504924\n",
       "25%      806.000000           0.395297             0.290991\n",
       "50%     1617.000000           0.555517             0.415962\n",
       "75%     2429.000000           0.857034             0.637371\n",
       "max     3241.000000           3.731596             2.676388"
      ]
     },
     "execution_count": 6,
     "metadata": {},
     "output_type": "execute_result"
    }
   ],
   "source": [
    "# Методом describe оценим статистические параметры датасета\n",
    "\n",
    "df_arc.describe()"
   ]
  },
  {
   "cell_type": "code",
   "execution_count": 7,
   "id": "corresponding-stocks",
   "metadata": {},
   "outputs": [
    {
     "data": {
      "text/html": [
       "<div>\n",
       "<style scoped>\n",
       "    .dataframe tbody tr th:only-of-type {\n",
       "        vertical-align: middle;\n",
       "    }\n",
       "\n",
       "    .dataframe tbody tr th {\n",
       "        vertical-align: top;\n",
       "    }\n",
       "\n",
       "    .dataframe thead th {\n",
       "        text-align: right;\n",
       "    }\n",
       "</style>\n",
       "<table border=\"1\" class=\"dataframe\">\n",
       "  <thead>\n",
       "    <tr style=\"text-align: right;\">\n",
       "      <th></th>\n",
       "      <th>Начало нагрева дугой</th>\n",
       "      <th>Конец нагрева дугой</th>\n",
       "      <th>Активная мощность</th>\n",
       "      <th>Реактивная мощность</th>\n",
       "    </tr>\n",
       "    <tr>\n",
       "      <th>key</th>\n",
       "      <th></th>\n",
       "      <th></th>\n",
       "      <th></th>\n",
       "      <th></th>\n",
       "    </tr>\n",
       "  </thead>\n",
       "  <tbody>\n",
       "    <tr>\n",
       "      <th>1</th>\n",
       "      <td>5</td>\n",
       "      <td>5</td>\n",
       "      <td>5</td>\n",
       "      <td>5</td>\n",
       "    </tr>\n",
       "    <tr>\n",
       "      <th>2</th>\n",
       "      <td>4</td>\n",
       "      <td>4</td>\n",
       "      <td>4</td>\n",
       "      <td>4</td>\n",
       "    </tr>\n",
       "    <tr>\n",
       "      <th>3</th>\n",
       "      <td>5</td>\n",
       "      <td>5</td>\n",
       "      <td>5</td>\n",
       "      <td>5</td>\n",
       "    </tr>\n",
       "    <tr>\n",
       "      <th>4</th>\n",
       "      <td>4</td>\n",
       "      <td>4</td>\n",
       "      <td>4</td>\n",
       "      <td>4</td>\n",
       "    </tr>\n",
       "    <tr>\n",
       "      <th>5</th>\n",
       "      <td>4</td>\n",
       "      <td>4</td>\n",
       "      <td>4</td>\n",
       "      <td>4</td>\n",
       "    </tr>\n",
       "    <tr>\n",
       "      <th>...</th>\n",
       "      <td>...</td>\n",
       "      <td>...</td>\n",
       "      <td>...</td>\n",
       "      <td>...</td>\n",
       "    </tr>\n",
       "    <tr>\n",
       "      <th>3237</th>\n",
       "      <td>5</td>\n",
       "      <td>5</td>\n",
       "      <td>5</td>\n",
       "      <td>5</td>\n",
       "    </tr>\n",
       "    <tr>\n",
       "      <th>3238</th>\n",
       "      <td>3</td>\n",
       "      <td>3</td>\n",
       "      <td>3</td>\n",
       "      <td>3</td>\n",
       "    </tr>\n",
       "    <tr>\n",
       "      <th>3239</th>\n",
       "      <td>8</td>\n",
       "      <td>8</td>\n",
       "      <td>8</td>\n",
       "      <td>8</td>\n",
       "    </tr>\n",
       "    <tr>\n",
       "      <th>3240</th>\n",
       "      <td>5</td>\n",
       "      <td>5</td>\n",
       "      <td>5</td>\n",
       "      <td>5</td>\n",
       "    </tr>\n",
       "    <tr>\n",
       "      <th>3241</th>\n",
       "      <td>5</td>\n",
       "      <td>5</td>\n",
       "      <td>5</td>\n",
       "      <td>5</td>\n",
       "    </tr>\n",
       "  </tbody>\n",
       "</table>\n",
       "<p>3214 rows × 4 columns</p>\n",
       "</div>"
      ],
      "text/plain": [
       "      Начало нагрева дугой  Конец нагрева дугой  Активная мощность  \\\n",
       "key                                                                  \n",
       "1                        5                    5                  5   \n",
       "2                        4                    4                  4   \n",
       "3                        5                    5                  5   \n",
       "4                        4                    4                  4   \n",
       "5                        4                    4                  4   \n",
       "...                    ...                  ...                ...   \n",
       "3237                     5                    5                  5   \n",
       "3238                     3                    3                  3   \n",
       "3239                     8                    8                  8   \n",
       "3240                     5                    5                  5   \n",
       "3241                     5                    5                  5   \n",
       "\n",
       "      Реактивная мощность  \n",
       "key                        \n",
       "1                       5  \n",
       "2                       4  \n",
       "3                       5  \n",
       "4                       4  \n",
       "5                       4  \n",
       "...                   ...  \n",
       "3237                    5  \n",
       "3238                    3  \n",
       "3239                    8  \n",
       "3240                    5  \n",
       "3241                    5  \n",
       "\n",
       "[3214 rows x 4 columns]"
      ]
     },
     "execution_count": 7,
     "metadata": {},
     "output_type": "execute_result"
    }
   ],
   "source": [
    "# Во время последующего анализа у меня закрались сомнения в том, что максмимальный индекс партии соответствует\n",
    "# реальному числу этих партий. Для проверки сделаем группировку по столбцу key\n",
    "\n",
    "df_arc.groupby('key').count()"
   ]
  },
  {
   "cell_type": "markdown",
   "id": "concrete-sleep",
   "metadata": {},
   "source": [
    "Действительно, количество партий в датасете - 3214, а не 3241. Будем учитывать это в дальнейшей работе"
   ]
  },
  {
   "cell_type": "code",
   "execution_count": 8,
   "id": "existing-hotel",
   "metadata": {},
   "outputs": [
    {
     "data": {
      "text/plain": [
       "<AxesSubplot:>"
      ]
     },
     "execution_count": 8,
     "metadata": {},
     "output_type": "execute_result"
    },
    {
     "data": {
      "image/png": "[encoded data removed]",
      "text/plain": [
       "<Figure size 432x288 with 1 Axes>"
      ]
     },
     "metadata": {
      "needs_background": "light"
     },
     "output_type": "display_data"
    }
   ],
   "source": [
    "# Для оценки разброса данных построим график \"ящик с усами\"\n",
    "\n",
    "df_arc.boxplot(['Активная мощность', 'Реактивная мощность'])"
   ]
  },
  {
   "cell_type": "markdown",
   "id": "fancy-narrow",
   "metadata": {},
   "source": [
    "В значениях реактивной мощности наблюдается достаточно мощный выброс. Для оценки корреляции между мощностями сделаем срез, который органичит указанный выброс."
   ]
  },
  {
   "cell_type": "code",
   "execution_count": 9,
   "id": "applicable-biotechnology",
   "metadata": {},
   "outputs": [
    {
     "data": {
      "text/html": [
       "<div>\n",
       "<style scoped>\n",
       "    .dataframe tbody tr th:only-of-type {\n",
       "        vertical-align: middle;\n",
       "    }\n",
       "\n",
       "    .dataframe tbody tr th {\n",
       "        vertical-align: top;\n",
       "    }\n",
       "\n",
       "    .dataframe thead th {\n",
       "        text-align: right;\n",
       "    }\n",
       "</style>\n",
       "<table border=\"1\" class=\"dataframe\">\n",
       "  <thead>\n",
       "    <tr style=\"text-align: right;\">\n",
       "      <th></th>\n",
       "      <th>Активная мощность</th>\n",
       "      <th>Реактивная мощность</th>\n",
       "    </tr>\n",
       "  </thead>\n",
       "  <tbody>\n",
       "    <tr>\n",
       "      <th>Активная мощность</th>\n",
       "      <td>1.000000</td>\n",
       "      <td>0.963182</td>\n",
       "    </tr>\n",
       "    <tr>\n",
       "      <th>Реактивная мощность</th>\n",
       "      <td>0.963182</td>\n",
       "      <td>1.000000</td>\n",
       "    </tr>\n",
       "  </tbody>\n",
       "</table>\n",
       "</div>"
      ],
      "text/plain": [
       "                     Активная мощность  Реактивная мощность\n",
       "Активная мощность             1.000000             0.963182\n",
       "Реактивная мощность           0.963182             1.000000"
      ]
     },
     "execution_count": 9,
     "metadata": {},
     "output_type": "execute_result"
    }
   ],
   "source": [
    "df_arc[df_arc['Реактивная мощность']>0][['Активная мощность', 'Реактивная мощность']].corr()"
   ]
  },
  {
   "cell_type": "code",
   "execution_count": 10,
   "id": "turned-andrews",
   "metadata": {},
   "outputs": [
    {
     "data": {
      "text/plain": [
       "<matplotlib.collections.PathCollection at 0x24ed5426d00>"
      ]
     },
     "execution_count": 10,
     "metadata": {},
     "output_type": "execute_result"
    },
    {
     "data": {
      "image/png": "[encoded data removed]",
      "text/plain": [
       "<Figure size 432x288 with 1 Axes>"
      ]
     },
     "metadata": {
      "needs_background": "light"
     },
     "output_type": "display_data"
    }
   ],
   "source": [
    "plt.scatter(df_arc['Активная мощность'], df_arc['Активная мощность'])"
   ]
  },
  {
   "cell_type": "markdown",
   "id": "limiting-cause",
   "metadata": {},
   "source": [
    "**Промежуточные выводы**\n",
    "\n",
    "df_arc - содержит в себе данные о параметрах работы графитовых стержней. Состоит из 14876 строк (данные представлены за период с 3 мая по 1 сентября 2019 года) и 5 столбцов:\n",
    "\n",
    "- key – номер партии, делит датасет на 3214 партий (хотя максимальный номер партии - 3241. Видимо, потеря в данных, хотя на качестве это сказаться не должно) по несколько замеров в каждой, формат данных int - корректировки не требует;\n",
    "- время начала нагрева дугой, формат данных object - нужно перевести в datetime;\n",
    "- время окончания нагрева дугой, формат данных object - нужно перевести в datetime;\n",
    "- активная мощность, формат данных float - корректировки не требует;\n",
    "- реактивная мощность, формат данных float - корректировки не требует. Содержит явный выброс - значение -715. Следует при очистке данных избавиться от него удалением/заменой на среднее(медиану) по партии.\n",
    "    \n",
    "Пропусков в датасете нет.\n",
    "    \n",
    "**Дополнительно:** между активной и реактивной мощностями наблюдается почти единичная положительная корреляция. Смысла отдавать данные признаки в модель нет. Лучше рассчитать полную мощность (корень от суммы квадратов активной и реактивной мощностей) и использовать ее в качестве признака."
   ]
  },
  {
   "cell_type": "markdown",
   "id": "treated-physiology",
   "metadata": {},
   "source": [
    "## Файл DF_BULK_TIME - данные о подаче сыпучих материалов (время)"
   ]
  },
  {
   "cell_type": "code",
   "execution_count": 11,
   "id": "artificial-dialogue",
   "metadata": {},
   "outputs": [
    {
     "data": {
      "text/html": [
       "<div>\n",
       "<style scoped>\n",
       "    .dataframe tbody tr th:only-of-type {\n",
       "        vertical-align: middle;\n",
       "    }\n",
       "\n",
       "    .dataframe tbody tr th {\n",
       "        vertical-align: top;\n",
       "    }\n",
       "\n",
       "    .dataframe thead th {\n",
       "        text-align: right;\n",
       "    }\n",
       "</style>\n",
       "<table border=\"1\" class=\"dataframe\">\n",
       "  <thead>\n",
       "    <tr style=\"text-align: right;\">\n",
       "      <th></th>\n",
       "      <th>key</th>\n",
       "      <th>Bulk 1</th>\n",
       "      <th>Bulk 2</th>\n",
       "      <th>Bulk 3</th>\n",
       "      <th>Bulk 4</th>\n",
       "      <th>Bulk 5</th>\n",
       "      <th>Bulk 6</th>\n",
       "      <th>Bulk 7</th>\n",
       "      <th>Bulk 8</th>\n",
       "      <th>Bulk 9</th>\n",
       "      <th>Bulk 10</th>\n",
       "      <th>Bulk 11</th>\n",
       "      <th>Bulk 12</th>\n",
       "      <th>Bulk 13</th>\n",
       "      <th>Bulk 14</th>\n",
       "      <th>Bulk 15</th>\n",
       "    </tr>\n",
       "  </thead>\n",
       "  <tbody>\n",
       "    <tr>\n",
       "      <th>0</th>\n",
       "      <td>1</td>\n",
       "      <td>NaN</td>\n",
       "      <td>NaN</td>\n",
       "      <td>NaN</td>\n",
       "      <td>2019-05-03 11:21:30</td>\n",
       "      <td>NaN</td>\n",
       "      <td>NaN</td>\n",
       "      <td>NaN</td>\n",
       "      <td>NaN</td>\n",
       "      <td>NaN</td>\n",
       "      <td>NaN</td>\n",
       "      <td>NaN</td>\n",
       "      <td>2019-05-03 11:03:52</td>\n",
       "      <td>NaN</td>\n",
       "      <td>2019-05-03 11:03:52</td>\n",
       "      <td>2019-05-03 11:03:52</td>\n",
       "    </tr>\n",
       "    <tr>\n",
       "      <th>1</th>\n",
       "      <td>2</td>\n",
       "      <td>NaN</td>\n",
       "      <td>NaN</td>\n",
       "      <td>NaN</td>\n",
       "      <td>2019-05-03 11:46:38</td>\n",
       "      <td>NaN</td>\n",
       "      <td>NaN</td>\n",
       "      <td>NaN</td>\n",
       "      <td>NaN</td>\n",
       "      <td>NaN</td>\n",
       "      <td>NaN</td>\n",
       "      <td>NaN</td>\n",
       "      <td>2019-05-03 11:40:20</td>\n",
       "      <td>NaN</td>\n",
       "      <td>2019-05-03 11:40:20</td>\n",
       "      <td>2019-05-03 11:40:20</td>\n",
       "    </tr>\n",
       "    <tr>\n",
       "      <th>2</th>\n",
       "      <td>3</td>\n",
       "      <td>NaN</td>\n",
       "      <td>NaN</td>\n",
       "      <td>NaN</td>\n",
       "      <td>2019-05-03 12:31:06</td>\n",
       "      <td>NaN</td>\n",
       "      <td>NaN</td>\n",
       "      <td>NaN</td>\n",
       "      <td>NaN</td>\n",
       "      <td>NaN</td>\n",
       "      <td>NaN</td>\n",
       "      <td>NaN</td>\n",
       "      <td>2019-05-03 12:09:40</td>\n",
       "      <td>NaN</td>\n",
       "      <td>2019-05-03 12:09:40</td>\n",
       "      <td>2019-05-03 12:09:40</td>\n",
       "    </tr>\n",
       "    <tr>\n",
       "      <th>3</th>\n",
       "      <td>4</td>\n",
       "      <td>NaN</td>\n",
       "      <td>NaN</td>\n",
       "      <td>NaN</td>\n",
       "      <td>2019-05-03 12:48:43</td>\n",
       "      <td>NaN</td>\n",
       "      <td>NaN</td>\n",
       "      <td>NaN</td>\n",
       "      <td>NaN</td>\n",
       "      <td>NaN</td>\n",
       "      <td>NaN</td>\n",
       "      <td>NaN</td>\n",
       "      <td>2019-05-03 12:41:24</td>\n",
       "      <td>NaN</td>\n",
       "      <td>2019-05-03 12:41:24</td>\n",
       "      <td>2019-05-03 12:41:24</td>\n",
       "    </tr>\n",
       "    <tr>\n",
       "      <th>4</th>\n",
       "      <td>5</td>\n",
       "      <td>NaN</td>\n",
       "      <td>NaN</td>\n",
       "      <td>NaN</td>\n",
       "      <td>2019-05-03 13:18:50</td>\n",
       "      <td>NaN</td>\n",
       "      <td>NaN</td>\n",
       "      <td>NaN</td>\n",
       "      <td>NaN</td>\n",
       "      <td>NaN</td>\n",
       "      <td>NaN</td>\n",
       "      <td>NaN</td>\n",
       "      <td>2019-05-03 13:12:56</td>\n",
       "      <td>NaN</td>\n",
       "      <td>2019-05-03 13:12:56</td>\n",
       "      <td>2019-05-03 13:12:56</td>\n",
       "    </tr>\n",
       "  </tbody>\n",
       "</table>\n",
       "</div>"
      ],
      "text/plain": [
       "   key Bulk 1 Bulk 2 Bulk 3               Bulk 4 Bulk 5 Bulk 6 Bulk 7 Bulk 8  \\\n",
       "0    1    NaN    NaN    NaN  2019-05-03 11:21:30    NaN    NaN    NaN    NaN   \n",
       "1    2    NaN    NaN    NaN  2019-05-03 11:46:38    NaN    NaN    NaN    NaN   \n",
       "2    3    NaN    NaN    NaN  2019-05-03 12:31:06    NaN    NaN    NaN    NaN   \n",
       "3    4    NaN    NaN    NaN  2019-05-03 12:48:43    NaN    NaN    NaN    NaN   \n",
       "4    5    NaN    NaN    NaN  2019-05-03 13:18:50    NaN    NaN    NaN    NaN   \n",
       "\n",
       "  Bulk 9 Bulk 10 Bulk 11              Bulk 12 Bulk 13              Bulk 14  \\\n",
       "0    NaN     NaN     NaN  2019-05-03 11:03:52     NaN  2019-05-03 11:03:52   \n",
       "1    NaN     NaN     NaN  2019-05-03 11:40:20     NaN  2019-05-03 11:40:20   \n",
       "2    NaN     NaN     NaN  2019-05-03 12:09:40     NaN  2019-05-03 12:09:40   \n",
       "3    NaN     NaN     NaN  2019-05-03 12:41:24     NaN  2019-05-03 12:41:24   \n",
       "4    NaN     NaN     NaN  2019-05-03 13:12:56     NaN  2019-05-03 13:12:56   \n",
       "\n",
       "               Bulk 15  \n",
       "0  2019-05-03 11:03:52  \n",
       "1  2019-05-03 11:40:20  \n",
       "2  2019-05-03 12:09:40  \n",
       "3  2019-05-03 12:41:24  \n",
       "4  2019-05-03 13:12:56  "
      ]
     },
     "execution_count": 11,
     "metadata": {},
     "output_type": "execute_result"
    }
   ],
   "source": [
    "# Вызываем датасет df_bulk_time для визуального осмотра\n",
    "\n",
    "df_bulk_time.head()"
   ]
  },
  {
   "cell_type": "code",
   "execution_count": 12,
   "id": "acknowledged-algorithm",
   "metadata": {},
   "outputs": [
    {
     "data": {
      "text/html": [
       "<div>\n",
       "<style scoped>\n",
       "    .dataframe tbody tr th:only-of-type {\n",
       "        vertical-align: middle;\n",
       "    }\n",
       "\n",
       "    .dataframe tbody tr th {\n",
       "        vertical-align: top;\n",
       "    }\n",
       "\n",
       "    .dataframe thead th {\n",
       "        text-align: right;\n",
       "    }\n",
       "</style>\n",
       "<table border=\"1\" class=\"dataframe\">\n",
       "  <thead>\n",
       "    <tr style=\"text-align: right;\">\n",
       "      <th></th>\n",
       "      <th>key</th>\n",
       "    </tr>\n",
       "  </thead>\n",
       "  <tbody>\n",
       "    <tr>\n",
       "      <th>count</th>\n",
       "      <td>3129.000000</td>\n",
       "    </tr>\n",
       "    <tr>\n",
       "      <th>mean</th>\n",
       "      <td>1624.383509</td>\n",
       "    </tr>\n",
       "    <tr>\n",
       "      <th>std</th>\n",
       "      <td>933.337642</td>\n",
       "    </tr>\n",
       "    <tr>\n",
       "      <th>min</th>\n",
       "      <td>1.000000</td>\n",
       "    </tr>\n",
       "    <tr>\n",
       "      <th>25%</th>\n",
       "      <td>816.000000</td>\n",
       "    </tr>\n",
       "    <tr>\n",
       "      <th>50%</th>\n",
       "      <td>1622.000000</td>\n",
       "    </tr>\n",
       "    <tr>\n",
       "      <th>75%</th>\n",
       "      <td>2431.000000</td>\n",
       "    </tr>\n",
       "    <tr>\n",
       "      <th>max</th>\n",
       "      <td>3241.000000</td>\n",
       "    </tr>\n",
       "  </tbody>\n",
       "</table>\n",
       "</div>"
      ],
      "text/plain": [
       "               key\n",
       "count  3129.000000\n",
       "mean   1624.383509\n",
       "std     933.337642\n",
       "min       1.000000\n",
       "25%     816.000000\n",
       "50%    1622.000000\n",
       "75%    2431.000000\n",
       "max    3241.000000"
      ]
     },
     "execution_count": 12,
     "metadata": {},
     "output_type": "execute_result"
    }
   ],
   "source": [
    "df_bulk_time.describe()"
   ]
  },
  {
   "cell_type": "code",
   "execution_count": 13,
   "id": "center-pharmacy",
   "metadata": {},
   "outputs": [
    {
     "name": "stdout",
     "output_type": "stream",
     "text": [
      "<class 'pandas.core.frame.DataFrame'>\n",
      "RangeIndex: 3129 entries, 0 to 3128\n",
      "Data columns (total 16 columns):\n",
      " #   Column   Non-Null Count  Dtype \n",
      "---  ------   --------------  ----- \n",
      " 0   key      3129 non-null   int64 \n",
      " 1   Bulk 1   252 non-null    object\n",
      " 2   Bulk 2   22 non-null     object\n",
      " 3   Bulk 3   1298 non-null   object\n",
      " 4   Bulk 4   1014 non-null   object\n",
      " 5   Bulk 5   77 non-null     object\n",
      " 6   Bulk 6   576 non-null    object\n",
      " 7   Bulk 7   25 non-null     object\n",
      " 8   Bulk 8   1 non-null      object\n",
      " 9   Bulk 9   19 non-null     object\n",
      " 10  Bulk 10  176 non-null    object\n",
      " 11  Bulk 11  177 non-null    object\n",
      " 12  Bulk 12  2450 non-null   object\n",
      " 13  Bulk 13  18 non-null     object\n",
      " 14  Bulk 14  2806 non-null   object\n",
      " 15  Bulk 15  2248 non-null   object\n",
      "dtypes: int64(1), object(15)\n",
      "memory usage: 391.2+ KB\n"
     ]
    }
   ],
   "source": [
    "# Применим метод info для оценки структуры выборки\n",
    "\n",
    "df_bulk_time.info()"
   ]
  },
  {
   "cell_type": "markdown",
   "id": "recent-equivalent",
   "metadata": {},
   "source": [
    "**Промежуточные выводы**\n",
    "\n",
    "df_bulk_time - содержит в себе данные о времени загрузки сыпучих материалов в сплав. Состоит из 3129 строк и 16 столбцов:\n",
    "\n",
    "- key – номер партии, делит датасет на 3129 партий (еще меньше, чем в df_arc), формат данных int - корректировки не требует;\n",
    "- 15 столбцов Bulk_ с суффиксом номера присадки. Каждый содержит отметку о времени добавления материала в сплав. В каждом столбце большое количество пропусков, которое означает, что материал не добавлялся. Формат данных object - нужно переводить в Datetime, если понадобиться работать с этими сведениями в дальнейшем.\n",
    "    \n",
    "Данный датасет можно использовать для проверки корректности обработки сплава - то есть, произведена ли была оценка температуры перед легированием, или же техпроцесс нарушен и действия перепутаны местами. \n",
    "    \n",
    "Для данной работы датасет является избыточным."
   ]
  },
  {
   "cell_type": "markdown",
   "id": "color-reliance",
   "metadata": {},
   "source": [
    "## Файл DF_BULK - данные о подаче сыпучих материалов (объем)"
   ]
  },
  {
   "cell_type": "code",
   "execution_count": 14,
   "id": "particular-compilation",
   "metadata": {},
   "outputs": [
    {
     "data": {
      "text/html": [
       "<div>\n",
       "<style scoped>\n",
       "    .dataframe tbody tr th:only-of-type {\n",
       "        vertical-align: middle;\n",
       "    }\n",
       "\n",
       "    .dataframe tbody tr th {\n",
       "        vertical-align: top;\n",
       "    }\n",
       "\n",
       "    .dataframe thead th {\n",
       "        text-align: right;\n",
       "    }\n",
       "</style>\n",
       "<table border=\"1\" class=\"dataframe\">\n",
       "  <thead>\n",
       "    <tr style=\"text-align: right;\">\n",
       "      <th></th>\n",
       "      <th>key</th>\n",
       "      <th>Bulk 1</th>\n",
       "      <th>Bulk 2</th>\n",
       "      <th>Bulk 3</th>\n",
       "      <th>Bulk 4</th>\n",
       "      <th>Bulk 5</th>\n",
       "      <th>Bulk 6</th>\n",
       "      <th>Bulk 7</th>\n",
       "      <th>Bulk 8</th>\n",
       "      <th>Bulk 9</th>\n",
       "      <th>Bulk 10</th>\n",
       "      <th>Bulk 11</th>\n",
       "      <th>Bulk 12</th>\n",
       "      <th>Bulk 13</th>\n",
       "      <th>Bulk 14</th>\n",
       "      <th>Bulk 15</th>\n",
       "    </tr>\n",
       "  </thead>\n",
       "  <tbody>\n",
       "    <tr>\n",
       "      <th>0</th>\n",
       "      <td>1</td>\n",
       "      <td>NaN</td>\n",
       "      <td>NaN</td>\n",
       "      <td>NaN</td>\n",
       "      <td>43.0</td>\n",
       "      <td>NaN</td>\n",
       "      <td>NaN</td>\n",
       "      <td>NaN</td>\n",
       "      <td>NaN</td>\n",
       "      <td>NaN</td>\n",
       "      <td>NaN</td>\n",
       "      <td>NaN</td>\n",
       "      <td>206.0</td>\n",
       "      <td>NaN</td>\n",
       "      <td>150.0</td>\n",
       "      <td>154.0</td>\n",
       "    </tr>\n",
       "    <tr>\n",
       "      <th>1</th>\n",
       "      <td>2</td>\n",
       "      <td>NaN</td>\n",
       "      <td>NaN</td>\n",
       "      <td>NaN</td>\n",
       "      <td>73.0</td>\n",
       "      <td>NaN</td>\n",
       "      <td>NaN</td>\n",
       "      <td>NaN</td>\n",
       "      <td>NaN</td>\n",
       "      <td>NaN</td>\n",
       "      <td>NaN</td>\n",
       "      <td>NaN</td>\n",
       "      <td>206.0</td>\n",
       "      <td>NaN</td>\n",
       "      <td>149.0</td>\n",
       "      <td>154.0</td>\n",
       "    </tr>\n",
       "    <tr>\n",
       "      <th>2</th>\n",
       "      <td>3</td>\n",
       "      <td>NaN</td>\n",
       "      <td>NaN</td>\n",
       "      <td>NaN</td>\n",
       "      <td>34.0</td>\n",
       "      <td>NaN</td>\n",
       "      <td>NaN</td>\n",
       "      <td>NaN</td>\n",
       "      <td>NaN</td>\n",
       "      <td>NaN</td>\n",
       "      <td>NaN</td>\n",
       "      <td>NaN</td>\n",
       "      <td>205.0</td>\n",
       "      <td>NaN</td>\n",
       "      <td>152.0</td>\n",
       "      <td>153.0</td>\n",
       "    </tr>\n",
       "    <tr>\n",
       "      <th>3</th>\n",
       "      <td>4</td>\n",
       "      <td>NaN</td>\n",
       "      <td>NaN</td>\n",
       "      <td>NaN</td>\n",
       "      <td>81.0</td>\n",
       "      <td>NaN</td>\n",
       "      <td>NaN</td>\n",
       "      <td>NaN</td>\n",
       "      <td>NaN</td>\n",
       "      <td>NaN</td>\n",
       "      <td>NaN</td>\n",
       "      <td>NaN</td>\n",
       "      <td>207.0</td>\n",
       "      <td>NaN</td>\n",
       "      <td>153.0</td>\n",
       "      <td>154.0</td>\n",
       "    </tr>\n",
       "    <tr>\n",
       "      <th>4</th>\n",
       "      <td>5</td>\n",
       "      <td>NaN</td>\n",
       "      <td>NaN</td>\n",
       "      <td>NaN</td>\n",
       "      <td>78.0</td>\n",
       "      <td>NaN</td>\n",
       "      <td>NaN</td>\n",
       "      <td>NaN</td>\n",
       "      <td>NaN</td>\n",
       "      <td>NaN</td>\n",
       "      <td>NaN</td>\n",
       "      <td>NaN</td>\n",
       "      <td>203.0</td>\n",
       "      <td>NaN</td>\n",
       "      <td>151.0</td>\n",
       "      <td>152.0</td>\n",
       "    </tr>\n",
       "  </tbody>\n",
       "</table>\n",
       "</div>"
      ],
      "text/plain": [
       "   key  Bulk 1  Bulk 2  Bulk 3  Bulk 4  Bulk 5  Bulk 6  Bulk 7  Bulk 8  \\\n",
       "0    1     NaN     NaN     NaN    43.0     NaN     NaN     NaN     NaN   \n",
       "1    2     NaN     NaN     NaN    73.0     NaN     NaN     NaN     NaN   \n",
       "2    3     NaN     NaN     NaN    34.0     NaN     NaN     NaN     NaN   \n",
       "3    4     NaN     NaN     NaN    81.0     NaN     NaN     NaN     NaN   \n",
       "4    5     NaN     NaN     NaN    78.0     NaN     NaN     NaN     NaN   \n",
       "\n",
       "   Bulk 9  Bulk 10  Bulk 11  Bulk 12  Bulk 13  Bulk 14  Bulk 15  \n",
       "0     NaN      NaN      NaN    206.0      NaN    150.0    154.0  \n",
       "1     NaN      NaN      NaN    206.0      NaN    149.0    154.0  \n",
       "2     NaN      NaN      NaN    205.0      NaN    152.0    153.0  \n",
       "3     NaN      NaN      NaN    207.0      NaN    153.0    154.0  \n",
       "4     NaN      NaN      NaN    203.0      NaN    151.0    152.0  "
      ]
     },
     "execution_count": 14,
     "metadata": {},
     "output_type": "execute_result"
    }
   ],
   "source": [
    "# Вызываем датасет df_bulk для визуального осмотра\n",
    "\n",
    "df_bulk.head()"
   ]
  },
  {
   "cell_type": "code",
   "execution_count": 15,
   "id": "according-recovery",
   "metadata": {},
   "outputs": [
    {
     "name": "stdout",
     "output_type": "stream",
     "text": [
      "<class 'pandas.core.frame.DataFrame'>\n",
      "RangeIndex: 3129 entries, 0 to 3128\n",
      "Data columns (total 16 columns):\n",
      " #   Column   Non-Null Count  Dtype  \n",
      "---  ------   --------------  -----  \n",
      " 0   key      3129 non-null   int64  \n",
      " 1   Bulk 1   252 non-null    float64\n",
      " 2   Bulk 2   22 non-null     float64\n",
      " 3   Bulk 3   1298 non-null   float64\n",
      " 4   Bulk 4   1014 non-null   float64\n",
      " 5   Bulk 5   77 non-null     float64\n",
      " 6   Bulk 6   576 non-null    float64\n",
      " 7   Bulk 7   25 non-null     float64\n",
      " 8   Bulk 8   1 non-null      float64\n",
      " 9   Bulk 9   19 non-null     float64\n",
      " 10  Bulk 10  176 non-null    float64\n",
      " 11  Bulk 11  177 non-null    float64\n",
      " 12  Bulk 12  2450 non-null   float64\n",
      " 13  Bulk 13  18 non-null     float64\n",
      " 14  Bulk 14  2806 non-null   float64\n",
      " 15  Bulk 15  2248 non-null   float64\n",
      "dtypes: float64(15), int64(1)\n",
      "memory usage: 391.2 KB\n"
     ]
    }
   ],
   "source": [
    "# Применим метод info для оценки структуры выборки\n",
    "\n",
    "df_bulk.info()"
   ]
  },
  {
   "cell_type": "code",
   "execution_count": 16,
   "id": "future-charles",
   "metadata": {},
   "outputs": [
    {
     "data": {
      "text/html": [
       "<div>\n",
       "<style scoped>\n",
       "    .dataframe tbody tr th:only-of-type {\n",
       "        vertical-align: middle;\n",
       "    }\n",
       "\n",
       "    .dataframe tbody tr th {\n",
       "        vertical-align: top;\n",
       "    }\n",
       "\n",
       "    .dataframe thead th {\n",
       "        text-align: right;\n",
       "    }\n",
       "</style>\n",
       "<table border=\"1\" class=\"dataframe\">\n",
       "  <thead>\n",
       "    <tr style=\"text-align: right;\">\n",
       "      <th></th>\n",
       "      <th>key</th>\n",
       "      <th>Bulk 1</th>\n",
       "      <th>Bulk 2</th>\n",
       "      <th>Bulk 3</th>\n",
       "      <th>Bulk 4</th>\n",
       "      <th>Bulk 5</th>\n",
       "      <th>Bulk 6</th>\n",
       "      <th>Bulk 7</th>\n",
       "      <th>Bulk 8</th>\n",
       "      <th>Bulk 9</th>\n",
       "      <th>Bulk 10</th>\n",
       "      <th>Bulk 11</th>\n",
       "      <th>Bulk 12</th>\n",
       "      <th>Bulk 13</th>\n",
       "      <th>Bulk 14</th>\n",
       "      <th>Bulk 15</th>\n",
       "    </tr>\n",
       "  </thead>\n",
       "  <tbody>\n",
       "    <tr>\n",
       "      <th>count</th>\n",
       "      <td>3129.000000</td>\n",
       "      <td>252.000000</td>\n",
       "      <td>22.000000</td>\n",
       "      <td>1298.000000</td>\n",
       "      <td>1014.000000</td>\n",
       "      <td>77.000000</td>\n",
       "      <td>576.000000</td>\n",
       "      <td>25.000000</td>\n",
       "      <td>1.0</td>\n",
       "      <td>19.000000</td>\n",
       "      <td>176.000000</td>\n",
       "      <td>177.000000</td>\n",
       "      <td>2450.000000</td>\n",
       "      <td>18.000000</td>\n",
       "      <td>2806.000000</td>\n",
       "      <td>2248.000000</td>\n",
       "    </tr>\n",
       "    <tr>\n",
       "      <th>mean</th>\n",
       "      <td>1624.383509</td>\n",
       "      <td>39.242063</td>\n",
       "      <td>253.045455</td>\n",
       "      <td>113.879045</td>\n",
       "      <td>104.394477</td>\n",
       "      <td>107.025974</td>\n",
       "      <td>118.925347</td>\n",
       "      <td>305.600000</td>\n",
       "      <td>49.0</td>\n",
       "      <td>76.315789</td>\n",
       "      <td>83.284091</td>\n",
       "      <td>76.819209</td>\n",
       "      <td>260.471020</td>\n",
       "      <td>181.111111</td>\n",
       "      <td>170.284747</td>\n",
       "      <td>160.513345</td>\n",
       "    </tr>\n",
       "    <tr>\n",
       "      <th>std</th>\n",
       "      <td>933.337642</td>\n",
       "      <td>18.277654</td>\n",
       "      <td>21.180578</td>\n",
       "      <td>75.483494</td>\n",
       "      <td>48.184126</td>\n",
       "      <td>81.790646</td>\n",
       "      <td>72.057776</td>\n",
       "      <td>191.022904</td>\n",
       "      <td>NaN</td>\n",
       "      <td>21.720581</td>\n",
       "      <td>26.060347</td>\n",
       "      <td>59.655365</td>\n",
       "      <td>120.649269</td>\n",
       "      <td>46.088009</td>\n",
       "      <td>65.868652</td>\n",
       "      <td>51.765319</td>\n",
       "    </tr>\n",
       "    <tr>\n",
       "      <th>min</th>\n",
       "      <td>1.000000</td>\n",
       "      <td>10.000000</td>\n",
       "      <td>228.000000</td>\n",
       "      <td>6.000000</td>\n",
       "      <td>12.000000</td>\n",
       "      <td>11.000000</td>\n",
       "      <td>17.000000</td>\n",
       "      <td>47.000000</td>\n",
       "      <td>49.0</td>\n",
       "      <td>63.000000</td>\n",
       "      <td>24.000000</td>\n",
       "      <td>8.000000</td>\n",
       "      <td>53.000000</td>\n",
       "      <td>151.000000</td>\n",
       "      <td>16.000000</td>\n",
       "      <td>1.000000</td>\n",
       "    </tr>\n",
       "    <tr>\n",
       "      <th>25%</th>\n",
       "      <td>816.000000</td>\n",
       "      <td>27.000000</td>\n",
       "      <td>242.000000</td>\n",
       "      <td>58.000000</td>\n",
       "      <td>72.000000</td>\n",
       "      <td>70.000000</td>\n",
       "      <td>69.750000</td>\n",
       "      <td>155.000000</td>\n",
       "      <td>49.0</td>\n",
       "      <td>66.000000</td>\n",
       "      <td>64.000000</td>\n",
       "      <td>25.000000</td>\n",
       "      <td>204.000000</td>\n",
       "      <td>153.250000</td>\n",
       "      <td>119.000000</td>\n",
       "      <td>105.000000</td>\n",
       "    </tr>\n",
       "    <tr>\n",
       "      <th>50%</th>\n",
       "      <td>1622.000000</td>\n",
       "      <td>31.000000</td>\n",
       "      <td>251.500000</td>\n",
       "      <td>97.500000</td>\n",
       "      <td>102.000000</td>\n",
       "      <td>86.000000</td>\n",
       "      <td>100.000000</td>\n",
       "      <td>298.000000</td>\n",
       "      <td>49.0</td>\n",
       "      <td>68.000000</td>\n",
       "      <td>86.500000</td>\n",
       "      <td>64.000000</td>\n",
       "      <td>208.000000</td>\n",
       "      <td>155.500000</td>\n",
       "      <td>151.000000</td>\n",
       "      <td>160.000000</td>\n",
       "    </tr>\n",
       "    <tr>\n",
       "      <th>75%</th>\n",
       "      <td>2431.000000</td>\n",
       "      <td>46.000000</td>\n",
       "      <td>257.750000</td>\n",
       "      <td>152.000000</td>\n",
       "      <td>133.000000</td>\n",
       "      <td>132.000000</td>\n",
       "      <td>157.000000</td>\n",
       "      <td>406.000000</td>\n",
       "      <td>49.0</td>\n",
       "      <td>70.500000</td>\n",
       "      <td>102.000000</td>\n",
       "      <td>106.000000</td>\n",
       "      <td>316.000000</td>\n",
       "      <td>203.500000</td>\n",
       "      <td>205.750000</td>\n",
       "      <td>205.000000</td>\n",
       "    </tr>\n",
       "    <tr>\n",
       "      <th>max</th>\n",
       "      <td>3241.000000</td>\n",
       "      <td>185.000000</td>\n",
       "      <td>325.000000</td>\n",
       "      <td>454.000000</td>\n",
       "      <td>281.000000</td>\n",
       "      <td>603.000000</td>\n",
       "      <td>503.000000</td>\n",
       "      <td>772.000000</td>\n",
       "      <td>49.0</td>\n",
       "      <td>147.000000</td>\n",
       "      <td>159.000000</td>\n",
       "      <td>313.000000</td>\n",
       "      <td>1849.000000</td>\n",
       "      <td>305.000000</td>\n",
       "      <td>636.000000</td>\n",
       "      <td>405.000000</td>\n",
       "    </tr>\n",
       "  </tbody>\n",
       "</table>\n",
       "</div>"
      ],
      "text/plain": [
       "               key      Bulk 1      Bulk 2       Bulk 3       Bulk 4  \\\n",
       "count  3129.000000  252.000000   22.000000  1298.000000  1014.000000   \n",
       "mean   1624.383509   39.242063  253.045455   113.879045   104.394477   \n",
       "std     933.337642   18.277654   21.180578    75.483494    48.184126   \n",
       "min       1.000000   10.000000  228.000000     6.000000    12.000000   \n",
       "25%     816.000000   27.000000  242.000000    58.000000    72.000000   \n",
       "50%    1622.000000   31.000000  251.500000    97.500000   102.000000   \n",
       "75%    2431.000000   46.000000  257.750000   152.000000   133.000000   \n",
       "max    3241.000000  185.000000  325.000000   454.000000   281.000000   \n",
       "\n",
       "           Bulk 5      Bulk 6      Bulk 7  Bulk 8      Bulk 9     Bulk 10  \\\n",
       "count   77.000000  576.000000   25.000000     1.0   19.000000  176.000000   \n",
       "mean   107.025974  118.925347  305.600000    49.0   76.315789   83.284091   \n",
       "std     81.790646   72.057776  191.022904     NaN   21.720581   26.060347   \n",
       "min     11.000000   17.000000   47.000000    49.0   63.000000   24.000000   \n",
       "25%     70.000000   69.750000  155.000000    49.0   66.000000   64.000000   \n",
       "50%     86.000000  100.000000  298.000000    49.0   68.000000   86.500000   \n",
       "75%    132.000000  157.000000  406.000000    49.0   70.500000  102.000000   \n",
       "max    603.000000  503.000000  772.000000    49.0  147.000000  159.000000   \n",
       "\n",
       "          Bulk 11      Bulk 12     Bulk 13      Bulk 14      Bulk 15  \n",
       "count  177.000000  2450.000000   18.000000  2806.000000  2248.000000  \n",
       "mean    76.819209   260.471020  181.111111   170.284747   160.513345  \n",
       "std     59.655365   120.649269   46.088009    65.868652    51.765319  \n",
       "min      8.000000    53.000000  151.000000    16.000000     1.000000  \n",
       "25%     25.000000   204.000000  153.250000   119.000000   105.000000  \n",
       "50%     64.000000   208.000000  155.500000   151.000000   160.000000  \n",
       "75%    106.000000   316.000000  203.500000   205.750000   205.000000  \n",
       "max    313.000000  1849.000000  305.000000   636.000000   405.000000  "
      ]
     },
     "execution_count": 16,
     "metadata": {},
     "output_type": "execute_result"
    }
   ],
   "source": [
    "# Методом describe оценим статистические параметры датасета\n",
    "\n",
    "df_bulk.describe()"
   ]
  },
  {
   "cell_type": "code",
   "execution_count": 17,
   "id": "quantitative-scholar",
   "metadata": {},
   "outputs": [
    {
     "data": {
      "text/plain": [
       "<AxesSubplot:>"
      ]
     },
     "execution_count": 17,
     "metadata": {},
     "output_type": "execute_result"
    },
    {
     "data": {
      "image/png": "[encoded data removed]",
      "text/plain": [
       "<Figure size 1584x720 with 1 Axes>"
      ]
     },
     "metadata": {
      "needs_background": "light"
     },
     "output_type": "display_data"
    }
   ],
   "source": [
    "# Для оценки распределения данных построим \"ящик с усами\" для данного датасета\n",
    "\n",
    "df_bulk.drop('key',axis=1).boxplot(figsize=(22,10))"
   ]
  },
  {
   "cell_type": "markdown",
   "id": "medieval-religion",
   "metadata": {},
   "source": [
    "**Промежуточные выводы**\n",
    "\n",
    "Файл df_bulk - содержит в себе данные о количестве загруженных сыпучих материалов в сплав. Состоит из 3129 строк и 16 столбцов:\n",
    "\n",
    "- key – номер партии (количество партий меньше, чем в df_arc, что говорит о заведомом уменьшении реального количества обучающих объектов), формат данных int - корректировки не требует;\n",
    "- 15 столбцов Bulk_ с суффиксом номера присадки. Каждый содержит отметку о количестве добавленного материала в сплав. В каждом столбце большое количество пропусков, которое означает, что материал не добавлялся. Формат данных float - корректировки не требует.\n",
    "    \n",
    "**Дополнительно:** на графике boxplot в столбце bulk 12 отчетливо отображается выброс. Есть вероятность, что это часть производственного процесса, когда был сильный перекос по составу сплава, что пришлось корректировать добавлением в несколько раз больше среднего количетсво присадки, однако существует и вероятность ошибочного замера данного параметра. Следует проконсультироваться с тимлидом и инженерами. Пока можно оставить как есть.\n",
    "\n",
    "Еще интересно, почему присадка №8 добавлялась лишь единожды за все процессы.\n",
    "    \n",
    "Из данного датасета можно \"вытащить\" полезные сведения о суммарном количестве присадок, добавленных в сплав за весь период работы с партией. Это послужит одним из обучающих признаков."
   ]
  },
  {
   "cell_type": "markdown",
   "id": "honest-recipient",
   "metadata": {},
   "source": [
    "## Файл DF_GAS — данные о продувке сплава газом"
   ]
  },
  {
   "cell_type": "code",
   "execution_count": 18,
   "id": "parallel-brunei",
   "metadata": {},
   "outputs": [
    {
     "data": {
      "text/html": [
       "<div>\n",
       "<style scoped>\n",
       "    .dataframe tbody tr th:only-of-type {\n",
       "        vertical-align: middle;\n",
       "    }\n",
       "\n",
       "    .dataframe tbody tr th {\n",
       "        vertical-align: top;\n",
       "    }\n",
       "\n",
       "    .dataframe thead th {\n",
       "        text-align: right;\n",
       "    }\n",
       "</style>\n",
       "<table border=\"1\" class=\"dataframe\">\n",
       "  <thead>\n",
       "    <tr style=\"text-align: right;\">\n",
       "      <th></th>\n",
       "      <th>key</th>\n",
       "      <th>Газ 1</th>\n",
       "    </tr>\n",
       "  </thead>\n",
       "  <tbody>\n",
       "    <tr>\n",
       "      <th>0</th>\n",
       "      <td>1</td>\n",
       "      <td>29.749986</td>\n",
       "    </tr>\n",
       "    <tr>\n",
       "      <th>1</th>\n",
       "      <td>2</td>\n",
       "      <td>12.555561</td>\n",
       "    </tr>\n",
       "    <tr>\n",
       "      <th>2</th>\n",
       "      <td>3</td>\n",
       "      <td>28.554793</td>\n",
       "    </tr>\n",
       "    <tr>\n",
       "      <th>3</th>\n",
       "      <td>4</td>\n",
       "      <td>18.841219</td>\n",
       "    </tr>\n",
       "    <tr>\n",
       "      <th>4</th>\n",
       "      <td>5</td>\n",
       "      <td>5.413692</td>\n",
       "    </tr>\n",
       "  </tbody>\n",
       "</table>\n",
       "</div>"
      ],
      "text/plain": [
       "   key      Газ 1\n",
       "0    1  29.749986\n",
       "1    2  12.555561\n",
       "2    3  28.554793\n",
       "3    4  18.841219\n",
       "4    5   5.413692"
      ]
     },
     "execution_count": 18,
     "metadata": {},
     "output_type": "execute_result"
    }
   ],
   "source": [
    "# Вызываем датасет df_gas для визуального осмотра\n",
    "\n",
    "df_gas.head()"
   ]
  },
  {
   "cell_type": "code",
   "execution_count": 19,
   "id": "humanitarian-poison",
   "metadata": {},
   "outputs": [
    {
     "name": "stdout",
     "output_type": "stream",
     "text": [
      "<class 'pandas.core.frame.DataFrame'>\n",
      "RangeIndex: 3239 entries, 0 to 3238\n",
      "Data columns (total 2 columns):\n",
      " #   Column  Non-Null Count  Dtype  \n",
      "---  ------  --------------  -----  \n",
      " 0   key     3239 non-null   int64  \n",
      " 1   Газ 1   3239 non-null   float64\n",
      "dtypes: float64(1), int64(1)\n",
      "memory usage: 50.7 KB\n"
     ]
    }
   ],
   "source": [
    "# Применим метод info для оценки структуры выборки\n",
    "\n",
    "df_gas.info()"
   ]
  },
  {
   "cell_type": "code",
   "execution_count": 20,
   "id": "north-prophet",
   "metadata": {},
   "outputs": [
    {
     "data": {
      "text/html": [
       "<div>\n",
       "<style scoped>\n",
       "    .dataframe tbody tr th:only-of-type {\n",
       "        vertical-align: middle;\n",
       "    }\n",
       "\n",
       "    .dataframe tbody tr th {\n",
       "        vertical-align: top;\n",
       "    }\n",
       "\n",
       "    .dataframe thead th {\n",
       "        text-align: right;\n",
       "    }\n",
       "</style>\n",
       "<table border=\"1\" class=\"dataframe\">\n",
       "  <thead>\n",
       "    <tr style=\"text-align: right;\">\n",
       "      <th></th>\n",
       "      <th>key</th>\n",
       "      <th>Газ 1</th>\n",
       "    </tr>\n",
       "  </thead>\n",
       "  <tbody>\n",
       "    <tr>\n",
       "      <th>count</th>\n",
       "      <td>3239.000000</td>\n",
       "      <td>3239.000000</td>\n",
       "    </tr>\n",
       "    <tr>\n",
       "      <th>mean</th>\n",
       "      <td>1621.861377</td>\n",
       "      <td>11.002062</td>\n",
       "    </tr>\n",
       "    <tr>\n",
       "      <th>std</th>\n",
       "      <td>935.386334</td>\n",
       "      <td>6.220327</td>\n",
       "    </tr>\n",
       "    <tr>\n",
       "      <th>min</th>\n",
       "      <td>1.000000</td>\n",
       "      <td>0.008399</td>\n",
       "    </tr>\n",
       "    <tr>\n",
       "      <th>25%</th>\n",
       "      <td>812.500000</td>\n",
       "      <td>7.043089</td>\n",
       "    </tr>\n",
       "    <tr>\n",
       "      <th>50%</th>\n",
       "      <td>1622.000000</td>\n",
       "      <td>9.836267</td>\n",
       "    </tr>\n",
       "    <tr>\n",
       "      <th>75%</th>\n",
       "      <td>2431.500000</td>\n",
       "      <td>13.769915</td>\n",
       "    </tr>\n",
       "    <tr>\n",
       "      <th>max</th>\n",
       "      <td>3241.000000</td>\n",
       "      <td>77.995040</td>\n",
       "    </tr>\n",
       "  </tbody>\n",
       "</table>\n",
       "</div>"
      ],
      "text/plain": [
       "               key        Газ 1\n",
       "count  3239.000000  3239.000000\n",
       "mean   1621.861377    11.002062\n",
       "std     935.386334     6.220327\n",
       "min       1.000000     0.008399\n",
       "25%     812.500000     7.043089\n",
       "50%    1622.000000     9.836267\n",
       "75%    2431.500000    13.769915\n",
       "max    3241.000000    77.995040"
      ]
     },
     "execution_count": 20,
     "metadata": {},
     "output_type": "execute_result"
    }
   ],
   "source": [
    "# Методом describe оценим статистические параметры датасета\n",
    "\n",
    "df_gas.describe()"
   ]
  },
  {
   "cell_type": "code",
   "execution_count": 21,
   "id": "steady-mechanics",
   "metadata": {},
   "outputs": [
    {
     "data": {
      "text/plain": [
       "array([[<AxesSubplot:title={'center':'Газ 1'}>]], dtype=object)"
      ]
     },
     "execution_count": 21,
     "metadata": {},
     "output_type": "execute_result"
    },
    {
     "data": {
      "image/png": "[encoded data removed]",
      "text/plain": [
       "<Figure size 1080x720 with 1 Axes>"
      ]
     },
     "metadata": {
      "needs_background": "light"
     },
     "output_type": "display_data"
    }
   ],
   "source": [
    "# Для оценки вида распределения данных построим гистограмму.\n",
    "\n",
    "df_gas.hist(['Газ 1'], bins=130, figsize=(15,10))"
   ]
  },
  {
   "cell_type": "code",
   "execution_count": 22,
   "id": "cardiac-provincial",
   "metadata": {},
   "outputs": [
    {
     "data": {
      "text/plain": [
       "<AxesSubplot:>"
      ]
     },
     "execution_count": 22,
     "metadata": {},
     "output_type": "execute_result"
    },
    {
     "data": {
      "image/png": "[encoded data removed]",
      "text/plain": [
       "<Figure size 360x720 with 1 Axes>"
      ]
     },
     "metadata": {
      "needs_background": "light"
     },
     "output_type": "display_data"
    }
   ],
   "source": [
    "# Для оценки наличия выбросов построим \"ящик с усами\" для данного датасета\n",
    "\n",
    "df_gas.boxplot(['Газ 1'], figsize=(5,10))"
   ]
  },
  {
   "cell_type": "markdown",
   "id": "ordered-weapon",
   "metadata": {},
   "source": [
    "**Промежуточные выводы**\n",
    "\n",
    "Файл df_gas - содержит в себе данные об объеме использования инертного газа при производстве. Состоит из 3239 строк и 2 столбцов:\n",
    "\n",
    "- key – номер партии, формат данных int - корректировки не требует;\n",
    "- Газ 1 - объем использованного инертного газа. Формат данных float - корректировки не требует. Распределение близкое к нормальному.\n",
    "    \n",
    "**Дополнительно:** на графике boxplot видно небольшое количество явных выбросов (после значения 40). Как представляется, от них можно без зазрения совести избавиться. Следует проконсультироваться с тимлидом. Пока оставим как есть, посмотрим на работу модели.\n",
    "    \n",
    "Из данного датасета можно забрать полезные сведения о количестве использованного газа. Это послужит одним из обучающих признаков."
   ]
  },
  {
   "cell_type": "markdown",
   "id": "premier-screening",
   "metadata": {},
   "source": [
    "## Файл DF_TEMP — результаты измерения температуры"
   ]
  },
  {
   "cell_type": "code",
   "execution_count": 23,
   "id": "baking-prospect",
   "metadata": {},
   "outputs": [
    {
     "data": {
      "text/html": [
       "<div>\n",
       "<style scoped>\n",
       "    .dataframe tbody tr th:only-of-type {\n",
       "        vertical-align: middle;\n",
       "    }\n",
       "\n",
       "    .dataframe tbody tr th {\n",
       "        vertical-align: top;\n",
       "    }\n",
       "\n",
       "    .dataframe thead th {\n",
       "        text-align: right;\n",
       "    }\n",
       "</style>\n",
       "<table border=\"1\" class=\"dataframe\">\n",
       "  <thead>\n",
       "    <tr style=\"text-align: right;\">\n",
       "      <th></th>\n",
       "      <th>key</th>\n",
       "      <th>Время замера</th>\n",
       "      <th>Температура</th>\n",
       "    </tr>\n",
       "  </thead>\n",
       "  <tbody>\n",
       "    <tr>\n",
       "      <th>0</th>\n",
       "      <td>1</td>\n",
       "      <td>2019-05-03 11:16:18</td>\n",
       "      <td>1571.0</td>\n",
       "    </tr>\n",
       "    <tr>\n",
       "      <th>1</th>\n",
       "      <td>1</td>\n",
       "      <td>2019-05-03 11:25:53</td>\n",
       "      <td>1604.0</td>\n",
       "    </tr>\n",
       "    <tr>\n",
       "      <th>2</th>\n",
       "      <td>1</td>\n",
       "      <td>2019-05-03 11:29:11</td>\n",
       "      <td>1618.0</td>\n",
       "    </tr>\n",
       "    <tr>\n",
       "      <th>3</th>\n",
       "      <td>1</td>\n",
       "      <td>2019-05-03 11:30:01</td>\n",
       "      <td>1601.0</td>\n",
       "    </tr>\n",
       "    <tr>\n",
       "      <th>4</th>\n",
       "      <td>1</td>\n",
       "      <td>2019-05-03 11:30:39</td>\n",
       "      <td>1613.0</td>\n",
       "    </tr>\n",
       "  </tbody>\n",
       "</table>\n",
       "</div>"
      ],
      "text/plain": [
       "   key         Время замера  Температура\n",
       "0    1  2019-05-03 11:16:18       1571.0\n",
       "1    1  2019-05-03 11:25:53       1604.0\n",
       "2    1  2019-05-03 11:29:11       1618.0\n",
       "3    1  2019-05-03 11:30:01       1601.0\n",
       "4    1  2019-05-03 11:30:39       1613.0"
      ]
     },
     "execution_count": 23,
     "metadata": {},
     "output_type": "execute_result"
    }
   ],
   "source": [
    "# Вызываем датасет df_temp для визуального осмотра\n",
    "\n",
    "df_temp.head()"
   ]
  },
  {
   "cell_type": "code",
   "execution_count": 24,
   "id": "soviet-monitor",
   "metadata": {},
   "outputs": [
    {
     "name": "stdout",
     "output_type": "stream",
     "text": [
      "<class 'pandas.core.frame.DataFrame'>\n",
      "RangeIndex: 15907 entries, 0 to 15906\n",
      "Data columns (total 3 columns):\n",
      " #   Column        Non-Null Count  Dtype  \n",
      "---  ------        --------------  -----  \n",
      " 0   key           15907 non-null  int64  \n",
      " 1   Время замера  15907 non-null  object \n",
      " 2   Температура   13006 non-null  float64\n",
      "dtypes: float64(1), int64(1), object(1)\n",
      "memory usage: 372.9+ KB\n"
     ]
    }
   ],
   "source": [
    "# Применим метод info для оценки структуры выборки\n",
    "\n",
    "df_temp.info()"
   ]
  },
  {
   "cell_type": "code",
   "execution_count": 25,
   "id": "listed-virgin",
   "metadata": {},
   "outputs": [
    {
     "data": {
      "text/html": [
       "<div>\n",
       "<style scoped>\n",
       "    .dataframe tbody tr th:only-of-type {\n",
       "        vertical-align: middle;\n",
       "    }\n",
       "\n",
       "    .dataframe tbody tr th {\n",
       "        vertical-align: top;\n",
       "    }\n",
       "\n",
       "    .dataframe thead th {\n",
       "        text-align: right;\n",
       "    }\n",
       "</style>\n",
       "<table border=\"1\" class=\"dataframe\">\n",
       "  <thead>\n",
       "    <tr style=\"text-align: right;\">\n",
       "      <th></th>\n",
       "      <th>key</th>\n",
       "      <th>Температура</th>\n",
       "    </tr>\n",
       "  </thead>\n",
       "  <tbody>\n",
       "    <tr>\n",
       "      <th>count</th>\n",
       "      <td>15907.000000</td>\n",
       "      <td>13006.000000</td>\n",
       "    </tr>\n",
       "    <tr>\n",
       "      <th>mean</th>\n",
       "      <td>1607.880870</td>\n",
       "      <td>1591.840920</td>\n",
       "    </tr>\n",
       "    <tr>\n",
       "      <th>std</th>\n",
       "      <td>942.212073</td>\n",
       "      <td>21.375851</td>\n",
       "    </tr>\n",
       "    <tr>\n",
       "      <th>min</th>\n",
       "      <td>1.000000</td>\n",
       "      <td>1191.000000</td>\n",
       "    </tr>\n",
       "    <tr>\n",
       "      <th>25%</th>\n",
       "      <td>790.000000</td>\n",
       "      <td>1581.000000</td>\n",
       "    </tr>\n",
       "    <tr>\n",
       "      <th>50%</th>\n",
       "      <td>1618.000000</td>\n",
       "      <td>1591.000000</td>\n",
       "    </tr>\n",
       "    <tr>\n",
       "      <th>75%</th>\n",
       "      <td>2427.000000</td>\n",
       "      <td>1601.000000</td>\n",
       "    </tr>\n",
       "    <tr>\n",
       "      <th>max</th>\n",
       "      <td>3241.000000</td>\n",
       "      <td>1705.000000</td>\n",
       "    </tr>\n",
       "  </tbody>\n",
       "</table>\n",
       "</div>"
      ],
      "text/plain": [
       "                key   Температура\n",
       "count  15907.000000  13006.000000\n",
       "mean    1607.880870   1591.840920\n",
       "std      942.212073     21.375851\n",
       "min        1.000000   1191.000000\n",
       "25%      790.000000   1581.000000\n",
       "50%     1618.000000   1591.000000\n",
       "75%     2427.000000   1601.000000\n",
       "max     3241.000000   1705.000000"
      ]
     },
     "execution_count": 25,
     "metadata": {},
     "output_type": "execute_result"
    }
   ],
   "source": [
    "# Методом describe оценим статистические параметры датасета\n",
    "\n",
    "df_temp.describe()"
   ]
  },
  {
   "cell_type": "code",
   "execution_count": 26,
   "id": "gross-happiness",
   "metadata": {},
   "outputs": [
    {
     "data": {
      "text/html": [
       "<div>\n",
       "<style scoped>\n",
       "    .dataframe tbody tr th:only-of-type {\n",
       "        vertical-align: middle;\n",
       "    }\n",
       "\n",
       "    .dataframe tbody tr th {\n",
       "        vertical-align: top;\n",
       "    }\n",
       "\n",
       "    .dataframe thead th {\n",
       "        text-align: right;\n",
       "    }\n",
       "</style>\n",
       "<table border=\"1\" class=\"dataframe\">\n",
       "  <thead>\n",
       "    <tr style=\"text-align: right;\">\n",
       "      <th></th>\n",
       "      <th>Время замера</th>\n",
       "      <th>Температура</th>\n",
       "    </tr>\n",
       "    <tr>\n",
       "      <th>key</th>\n",
       "      <th></th>\n",
       "      <th></th>\n",
       "    </tr>\n",
       "  </thead>\n",
       "  <tbody>\n",
       "    <tr>\n",
       "      <th>1</th>\n",
       "      <td>5</td>\n",
       "      <td>5</td>\n",
       "    </tr>\n",
       "    <tr>\n",
       "      <th>2</th>\n",
       "      <td>6</td>\n",
       "      <td>6</td>\n",
       "    </tr>\n",
       "    <tr>\n",
       "      <th>3</th>\n",
       "      <td>5</td>\n",
       "      <td>5</td>\n",
       "    </tr>\n",
       "    <tr>\n",
       "      <th>4</th>\n",
       "      <td>3</td>\n",
       "      <td>3</td>\n",
       "    </tr>\n",
       "    <tr>\n",
       "      <th>5</th>\n",
       "      <td>2</td>\n",
       "      <td>2</td>\n",
       "    </tr>\n",
       "    <tr>\n",
       "      <th>...</th>\n",
       "      <td>...</td>\n",
       "      <td>...</td>\n",
       "    </tr>\n",
       "    <tr>\n",
       "      <th>3237</th>\n",
       "      <td>5</td>\n",
       "      <td>1</td>\n",
       "    </tr>\n",
       "    <tr>\n",
       "      <th>3238</th>\n",
       "      <td>3</td>\n",
       "      <td>1</td>\n",
       "    </tr>\n",
       "    <tr>\n",
       "      <th>3239</th>\n",
       "      <td>8</td>\n",
       "      <td>1</td>\n",
       "    </tr>\n",
       "    <tr>\n",
       "      <th>3240</th>\n",
       "      <td>8</td>\n",
       "      <td>1</td>\n",
       "    </tr>\n",
       "    <tr>\n",
       "      <th>3241</th>\n",
       "      <td>5</td>\n",
       "      <td>1</td>\n",
       "    </tr>\n",
       "  </tbody>\n",
       "</table>\n",
       "<p>3216 rows × 2 columns</p>\n",
       "</div>"
      ],
      "text/plain": [
       "      Время замера  Температура\n",
       "key                            \n",
       "1                5            5\n",
       "2                6            6\n",
       "3                5            5\n",
       "4                3            3\n",
       "5                2            2\n",
       "...            ...          ...\n",
       "3237             5            1\n",
       "3238             3            1\n",
       "3239             8            1\n",
       "3240             8            1\n",
       "3241             5            1\n",
       "\n",
       "[3216 rows x 2 columns]"
      ]
     },
     "execution_count": 26,
     "metadata": {},
     "output_type": "execute_result"
    }
   ],
   "source": [
    "# Как и в случае с df_arc, посчитаем реальное количество имеющихся данных о партиях в датасете\n",
    "\n",
    "df_temp.groupby('key').count()"
   ]
  },
  {
   "cell_type": "markdown",
   "id": "typical-farming",
   "metadata": {},
   "source": [
    "И снова несоответствие данных по количеству партий в датасете и максимальным номером партии. Учтем это в дальнейшем."
   ]
  },
  {
   "cell_type": "code",
   "execution_count": 27,
   "id": "embedded-laugh",
   "metadata": {},
   "outputs": [
    {
     "data": {
      "text/plain": [
       "<AxesSubplot:>"
      ]
     },
     "execution_count": 27,
     "metadata": {},
     "output_type": "execute_result"
    },
    {
     "data": {
      "image/png": "[encoded data removed]",
      "text/plain": [
       "<Figure size 360x720 with 1 Axes>"
      ]
     },
     "metadata": {
      "needs_background": "light"
     },
     "output_type": "display_data"
    }
   ],
   "source": [
    "# Для оценки наличия выбросов построим \"ящик с усами\" для данного датасета\n",
    "\n",
    "df_temp.boxplot('Температура', figsize=(5,10))"
   ]
  },
  {
   "cell_type": "code",
   "execution_count": 28,
   "id": "possible-secondary",
   "metadata": {},
   "outputs": [
    {
     "data": {
      "text/plain": [
       "array([[<AxesSubplot:title={'center':'Температура'}>]], dtype=object)"
      ]
     },
     "execution_count": 28,
     "metadata": {},
     "output_type": "execute_result"
    },
    {
     "data": {
      "image/png": "[encoded data removed]",
      "text/plain": [
       "<Figure size 1080x720 with 1 Axes>"
      ]
     },
     "metadata": {
      "needs_background": "light"
     },
     "output_type": "display_data"
    }
   ],
   "source": [
    "# Для оценки вида распределения построим гистограмму по столбцу \"Температура\"\n",
    "\n",
    "df_temp.hist('Температура', bins=150, figsize=(15,10))"
   ]
  },
  {
   "cell_type": "markdown",
   "id": "impossible-omega",
   "metadata": {},
   "source": [
    "**Промежуточные выводы**\n",
    "\n",
    "Файл df_temp - содержит в себе данные об замерах температуры сплава на различных этапах его производства. Состоит из 15907 строк и 3 столбцов:\n",
    "\n",
    "- key – номер партии, делит датафрейм на 3216 партий (однако максимальный номер партии - 3241. Есть недостачи в данных) по несколько замеров. формат данных int - корректировки не требует;\n",
    "- Время замера - тут все понятно. За одну партию замеров производится, как правило, более одного. Формат данных object - необходимо заменить на datetime.\n",
    "- Температура - сами замеры температуры сплава. Распеделение нормальное, но имеются выбросы. формат данных float - корректировки не требует. Имеются пропуски.\n",
    "    \n",
    "**Дополнительно:** на графике boxplot видно небольшое количество явных выбросов (значения ниже 1500 градусов). Эти данные, скорее всего, вызваны технической ошибкой. Многие из них ниже 1300 градусов, что является нарушением техпроцесса (смесь может заливаться в ковш при температуре не ниже 1300 градусов). Следует проконсультироваться с тимлидом. Я бы эти данные удалил.\n",
    "    \n",
    "По поводу пропусков в температурном столбце - похоже на потерю данных, так как время замера присутствует.  Следует проконсультироваться с тимлидом. Если есть возможность получить недостающие показания, то очень хорошо. Если в данных о партии есть только один замер и меньше - придется удалять всю партию.\n",
    "    \n",
    "Из данного датасета можно забрать полезные сведения о начальной и конечной температуре (что станет целевым признаком). Для этого нужно будет произвести группировку по партиям и вытащить данные значения."
   ]
  },
  {
   "cell_type": "markdown",
   "id": "union-emission",
   "metadata": {},
   "source": [
    "## Файл DF_WIRE_TIME — данные о проволочных материалах (время)"
   ]
  },
  {
   "cell_type": "code",
   "execution_count": 29,
   "id": "polish-despite",
   "metadata": {},
   "outputs": [
    {
     "data": {
      "text/html": [
       "<div>\n",
       "<style scoped>\n",
       "    .dataframe tbody tr th:only-of-type {\n",
       "        vertical-align: middle;\n",
       "    }\n",
       "\n",
       "    .dataframe tbody tr th {\n",
       "        vertical-align: top;\n",
       "    }\n",
       "\n",
       "    .dataframe thead th {\n",
       "        text-align: right;\n",
       "    }\n",
       "</style>\n",
       "<table border=\"1\" class=\"dataframe\">\n",
       "  <thead>\n",
       "    <tr style=\"text-align: right;\">\n",
       "      <th></th>\n",
       "      <th>key</th>\n",
       "      <th>Wire 1</th>\n",
       "      <th>Wire 2</th>\n",
       "      <th>Wire 3</th>\n",
       "      <th>Wire 4</th>\n",
       "      <th>Wire 5</th>\n",
       "      <th>Wire 6</th>\n",
       "      <th>Wire 7</th>\n",
       "      <th>Wire 8</th>\n",
       "      <th>Wire 9</th>\n",
       "    </tr>\n",
       "  </thead>\n",
       "  <tbody>\n",
       "    <tr>\n",
       "      <th>0</th>\n",
       "      <td>1</td>\n",
       "      <td>2019-05-03 11:11:41</td>\n",
       "      <td>NaN</td>\n",
       "      <td>NaN</td>\n",
       "      <td>NaN</td>\n",
       "      <td>NaN</td>\n",
       "      <td>NaN</td>\n",
       "      <td>NaN</td>\n",
       "      <td>NaN</td>\n",
       "      <td>NaN</td>\n",
       "    </tr>\n",
       "    <tr>\n",
       "      <th>1</th>\n",
       "      <td>2</td>\n",
       "      <td>2019-05-03 11:46:10</td>\n",
       "      <td>NaN</td>\n",
       "      <td>NaN</td>\n",
       "      <td>NaN</td>\n",
       "      <td>NaN</td>\n",
       "      <td>NaN</td>\n",
       "      <td>NaN</td>\n",
       "      <td>NaN</td>\n",
       "      <td>NaN</td>\n",
       "    </tr>\n",
       "    <tr>\n",
       "      <th>2</th>\n",
       "      <td>3</td>\n",
       "      <td>2019-05-03 12:13:47</td>\n",
       "      <td>NaN</td>\n",
       "      <td>NaN</td>\n",
       "      <td>NaN</td>\n",
       "      <td>NaN</td>\n",
       "      <td>NaN</td>\n",
       "      <td>NaN</td>\n",
       "      <td>NaN</td>\n",
       "      <td>NaN</td>\n",
       "    </tr>\n",
       "    <tr>\n",
       "      <th>3</th>\n",
       "      <td>4</td>\n",
       "      <td>2019-05-03 12:48:05</td>\n",
       "      <td>NaN</td>\n",
       "      <td>NaN</td>\n",
       "      <td>NaN</td>\n",
       "      <td>NaN</td>\n",
       "      <td>NaN</td>\n",
       "      <td>NaN</td>\n",
       "      <td>NaN</td>\n",
       "      <td>NaN</td>\n",
       "    </tr>\n",
       "    <tr>\n",
       "      <th>4</th>\n",
       "      <td>5</td>\n",
       "      <td>2019-05-03 13:18:15</td>\n",
       "      <td>2019-05-03 13:32:06</td>\n",
       "      <td>NaN</td>\n",
       "      <td>NaN</td>\n",
       "      <td>NaN</td>\n",
       "      <td>NaN</td>\n",
       "      <td>NaN</td>\n",
       "      <td>NaN</td>\n",
       "      <td>NaN</td>\n",
       "    </tr>\n",
       "  </tbody>\n",
       "</table>\n",
       "</div>"
      ],
      "text/plain": [
       "   key               Wire 1               Wire 2 Wire 3 Wire 4 Wire 5 Wire 6  \\\n",
       "0    1  2019-05-03 11:11:41                  NaN    NaN    NaN    NaN    NaN   \n",
       "1    2  2019-05-03 11:46:10                  NaN    NaN    NaN    NaN    NaN   \n",
       "2    3  2019-05-03 12:13:47                  NaN    NaN    NaN    NaN    NaN   \n",
       "3    4  2019-05-03 12:48:05                  NaN    NaN    NaN    NaN    NaN   \n",
       "4    5  2019-05-03 13:18:15  2019-05-03 13:32:06    NaN    NaN    NaN    NaN   \n",
       "\n",
       "  Wire 7 Wire 8 Wire 9  \n",
       "0    NaN    NaN    NaN  \n",
       "1    NaN    NaN    NaN  \n",
       "2    NaN    NaN    NaN  \n",
       "3    NaN    NaN    NaN  \n",
       "4    NaN    NaN    NaN  "
      ]
     },
     "execution_count": 29,
     "metadata": {},
     "output_type": "execute_result"
    }
   ],
   "source": [
    "# Вызываем датасет df_wire_time для визуального осмотра\n",
    "\n",
    "df_wire_time.head()"
   ]
  },
  {
   "cell_type": "code",
   "execution_count": 30,
   "id": "happy-malaysia",
   "metadata": {},
   "outputs": [
    {
     "name": "stdout",
     "output_type": "stream",
     "text": [
      "<class 'pandas.core.frame.DataFrame'>\n",
      "RangeIndex: 3081 entries, 0 to 3080\n",
      "Data columns (total 10 columns):\n",
      " #   Column  Non-Null Count  Dtype \n",
      "---  ------  --------------  ----- \n",
      " 0   key     3081 non-null   int64 \n",
      " 1   Wire 1  3055 non-null   object\n",
      " 2   Wire 2  1079 non-null   object\n",
      " 3   Wire 3  63 non-null     object\n",
      " 4   Wire 4  14 non-null     object\n",
      " 5   Wire 5  1 non-null      object\n",
      " 6   Wire 6  73 non-null     object\n",
      " 7   Wire 7  11 non-null     object\n",
      " 8   Wire 8  19 non-null     object\n",
      " 9   Wire 9  29 non-null     object\n",
      "dtypes: int64(1), object(9)\n",
      "memory usage: 240.8+ KB\n"
     ]
    }
   ],
   "source": [
    "# Применим метод info для оценки структуры выборки\n",
    "\n",
    "df_wire_time.info()"
   ]
  },
  {
   "cell_type": "markdown",
   "id": "aerial-alabama",
   "metadata": {},
   "source": [
    "**Промежуточные выводы**\n",
    "\n",
    "df_wire_time - содержит в себе данные о времени загрузки проволоки в сплав. Состоит из 3081 строки и 10 столбцов:\n",
    "\n",
    "- key – номер партии, формат данных int - корректировки не требует;\n",
    "- 9 столбцов Wire_ с суффиксом номера добавки. Каждый содержит отметку о времени добавления проволоки в сплав. В каждом столбце большое количество пропусков, которое означает, что материал не добавлялся. Формат данных object - нужно переводить в Datetime, если понадобиться работать с этими сведениями в дальнейшем.\n",
    "    \n",
    "Пока не предвидится полезности данного набора данных для текущего проекта (разве что, как и в случае с сыпучими материалами, для проверки адекватности данных по техпроцессу). Для данной работы датасет является лишним."
   ]
  },
  {
   "cell_type": "markdown",
   "id": "reserved-ranch",
   "metadata": {},
   "source": [
    "## Файл DF_WIRE — данные о проволочных материалах (объём)"
   ]
  },
  {
   "cell_type": "code",
   "execution_count": 31,
   "id": "verified-publicity",
   "metadata": {},
   "outputs": [
    {
     "data": {
      "text/html": [
       "<div>\n",
       "<style scoped>\n",
       "    .dataframe tbody tr th:only-of-type {\n",
       "        vertical-align: middle;\n",
       "    }\n",
       "\n",
       "    .dataframe tbody tr th {\n",
       "        vertical-align: top;\n",
       "    }\n",
       "\n",
       "    .dataframe thead th {\n",
       "        text-align: right;\n",
       "    }\n",
       "</style>\n",
       "<table border=\"1\" class=\"dataframe\">\n",
       "  <thead>\n",
       "    <tr style=\"text-align: right;\">\n",
       "      <th></th>\n",
       "      <th>key</th>\n",
       "      <th>Wire 1</th>\n",
       "      <th>Wire 2</th>\n",
       "      <th>Wire 3</th>\n",
       "      <th>Wire 4</th>\n",
       "      <th>Wire 5</th>\n",
       "      <th>Wire 6</th>\n",
       "      <th>Wire 7</th>\n",
       "      <th>Wire 8</th>\n",
       "      <th>Wire 9</th>\n",
       "    </tr>\n",
       "  </thead>\n",
       "  <tbody>\n",
       "    <tr>\n",
       "      <th>0</th>\n",
       "      <td>1</td>\n",
       "      <td>60.059998</td>\n",
       "      <td>NaN</td>\n",
       "      <td>NaN</td>\n",
       "      <td>NaN</td>\n",
       "      <td>NaN</td>\n",
       "      <td>NaN</td>\n",
       "      <td>NaN</td>\n",
       "      <td>NaN</td>\n",
       "      <td>NaN</td>\n",
       "    </tr>\n",
       "    <tr>\n",
       "      <th>1</th>\n",
       "      <td>2</td>\n",
       "      <td>96.052315</td>\n",
       "      <td>NaN</td>\n",
       "      <td>NaN</td>\n",
       "      <td>NaN</td>\n",
       "      <td>NaN</td>\n",
       "      <td>NaN</td>\n",
       "      <td>NaN</td>\n",
       "      <td>NaN</td>\n",
       "      <td>NaN</td>\n",
       "    </tr>\n",
       "    <tr>\n",
       "      <th>2</th>\n",
       "      <td>3</td>\n",
       "      <td>91.160157</td>\n",
       "      <td>NaN</td>\n",
       "      <td>NaN</td>\n",
       "      <td>NaN</td>\n",
       "      <td>NaN</td>\n",
       "      <td>NaN</td>\n",
       "      <td>NaN</td>\n",
       "      <td>NaN</td>\n",
       "      <td>NaN</td>\n",
       "    </tr>\n",
       "    <tr>\n",
       "      <th>3</th>\n",
       "      <td>4</td>\n",
       "      <td>89.063515</td>\n",
       "      <td>NaN</td>\n",
       "      <td>NaN</td>\n",
       "      <td>NaN</td>\n",
       "      <td>NaN</td>\n",
       "      <td>NaN</td>\n",
       "      <td>NaN</td>\n",
       "      <td>NaN</td>\n",
       "      <td>NaN</td>\n",
       "    </tr>\n",
       "    <tr>\n",
       "      <th>4</th>\n",
       "      <td>5</td>\n",
       "      <td>89.238236</td>\n",
       "      <td>9.11456</td>\n",
       "      <td>NaN</td>\n",
       "      <td>NaN</td>\n",
       "      <td>NaN</td>\n",
       "      <td>NaN</td>\n",
       "      <td>NaN</td>\n",
       "      <td>NaN</td>\n",
       "      <td>NaN</td>\n",
       "    </tr>\n",
       "  </tbody>\n",
       "</table>\n",
       "</div>"
      ],
      "text/plain": [
       "   key     Wire 1   Wire 2  Wire 3  Wire 4  Wire 5  Wire 6  Wire 7  Wire 8  \\\n",
       "0    1  60.059998      NaN     NaN     NaN     NaN     NaN     NaN     NaN   \n",
       "1    2  96.052315      NaN     NaN     NaN     NaN     NaN     NaN     NaN   \n",
       "2    3  91.160157      NaN     NaN     NaN     NaN     NaN     NaN     NaN   \n",
       "3    4  89.063515      NaN     NaN     NaN     NaN     NaN     NaN     NaN   \n",
       "4    5  89.238236  9.11456     NaN     NaN     NaN     NaN     NaN     NaN   \n",
       "\n",
       "   Wire 9  \n",
       "0     NaN  \n",
       "1     NaN  \n",
       "2     NaN  \n",
       "3     NaN  \n",
       "4     NaN  "
      ]
     },
     "execution_count": 31,
     "metadata": {},
     "output_type": "execute_result"
    }
   ],
   "source": [
    "# Вызываем датасет df_wire для визуального осмотра\n",
    "\n",
    "df_wire.head()"
   ]
  },
  {
   "cell_type": "code",
   "execution_count": 32,
   "id": "remarkable-investing",
   "metadata": {},
   "outputs": [
    {
     "name": "stdout",
     "output_type": "stream",
     "text": [
      "<class 'pandas.core.frame.DataFrame'>\n",
      "RangeIndex: 3081 entries, 0 to 3080\n",
      "Data columns (total 10 columns):\n",
      " #   Column  Non-Null Count  Dtype  \n",
      "---  ------  --------------  -----  \n",
      " 0   key     3081 non-null   int64  \n",
      " 1   Wire 1  3055 non-null   float64\n",
      " 2   Wire 2  1079 non-null   float64\n",
      " 3   Wire 3  63 non-null     float64\n",
      " 4   Wire 4  14 non-null     float64\n",
      " 5   Wire 5  1 non-null      float64\n",
      " 6   Wire 6  73 non-null     float64\n",
      " 7   Wire 7  11 non-null     float64\n",
      " 8   Wire 8  19 non-null     float64\n",
      " 9   Wire 9  29 non-null     float64\n",
      "dtypes: float64(9), int64(1)\n",
      "memory usage: 240.8 KB\n"
     ]
    }
   ],
   "source": [
    "# Применим метод info для оценки структуры выборки\n",
    "\n",
    "df_wire.info()"
   ]
  },
  {
   "cell_type": "code",
   "execution_count": 33,
   "id": "early-expense",
   "metadata": {},
   "outputs": [
    {
     "data": {
      "text/html": [
       "<div>\n",
       "<style scoped>\n",
       "    .dataframe tbody tr th:only-of-type {\n",
       "        vertical-align: middle;\n",
       "    }\n",
       "\n",
       "    .dataframe tbody tr th {\n",
       "        vertical-align: top;\n",
       "    }\n",
       "\n",
       "    .dataframe thead th {\n",
       "        text-align: right;\n",
       "    }\n",
       "</style>\n",
       "<table border=\"1\" class=\"dataframe\">\n",
       "  <thead>\n",
       "    <tr style=\"text-align: right;\">\n",
       "      <th></th>\n",
       "      <th>key</th>\n",
       "      <th>Wire 1</th>\n",
       "      <th>Wire 2</th>\n",
       "      <th>Wire 3</th>\n",
       "      <th>Wire 4</th>\n",
       "      <th>Wire 5</th>\n",
       "      <th>Wire 6</th>\n",
       "      <th>Wire 7</th>\n",
       "      <th>Wire 8</th>\n",
       "      <th>Wire 9</th>\n",
       "    </tr>\n",
       "  </thead>\n",
       "  <tbody>\n",
       "    <tr>\n",
       "      <th>count</th>\n",
       "      <td>3081.000000</td>\n",
       "      <td>3055.000000</td>\n",
       "      <td>1079.000000</td>\n",
       "      <td>63.000000</td>\n",
       "      <td>14.000000</td>\n",
       "      <td>1.000</td>\n",
       "      <td>73.000000</td>\n",
       "      <td>11.000000</td>\n",
       "      <td>19.000000</td>\n",
       "      <td>29.000000</td>\n",
       "    </tr>\n",
       "    <tr>\n",
       "      <th>mean</th>\n",
       "      <td>1623.426485</td>\n",
       "      <td>100.895853</td>\n",
       "      <td>50.577323</td>\n",
       "      <td>189.482681</td>\n",
       "      <td>57.442841</td>\n",
       "      <td>15.132</td>\n",
       "      <td>48.016974</td>\n",
       "      <td>10.039007</td>\n",
       "      <td>53.625193</td>\n",
       "      <td>34.155752</td>\n",
       "    </tr>\n",
       "    <tr>\n",
       "      <th>std</th>\n",
       "      <td>932.996726</td>\n",
       "      <td>42.012518</td>\n",
       "      <td>39.320216</td>\n",
       "      <td>99.513444</td>\n",
       "      <td>28.824667</td>\n",
       "      <td>NaN</td>\n",
       "      <td>33.919845</td>\n",
       "      <td>8.610584</td>\n",
       "      <td>16.881728</td>\n",
       "      <td>19.931616</td>\n",
       "    </tr>\n",
       "    <tr>\n",
       "      <th>min</th>\n",
       "      <td>1.000000</td>\n",
       "      <td>1.918800</td>\n",
       "      <td>0.030160</td>\n",
       "      <td>0.144144</td>\n",
       "      <td>24.148801</td>\n",
       "      <td>15.132</td>\n",
       "      <td>0.034320</td>\n",
       "      <td>0.234208</td>\n",
       "      <td>45.076721</td>\n",
       "      <td>4.622800</td>\n",
       "    </tr>\n",
       "    <tr>\n",
       "      <th>25%</th>\n",
       "      <td>823.000000</td>\n",
       "      <td>72.115684</td>\n",
       "      <td>20.193680</td>\n",
       "      <td>95.135044</td>\n",
       "      <td>40.807002</td>\n",
       "      <td>15.132</td>\n",
       "      <td>25.053600</td>\n",
       "      <td>6.762756</td>\n",
       "      <td>46.094879</td>\n",
       "      <td>22.058401</td>\n",
       "    </tr>\n",
       "    <tr>\n",
       "      <th>50%</th>\n",
       "      <td>1619.000000</td>\n",
       "      <td>100.158234</td>\n",
       "      <td>40.142956</td>\n",
       "      <td>235.194977</td>\n",
       "      <td>45.234282</td>\n",
       "      <td>15.132</td>\n",
       "      <td>42.076324</td>\n",
       "      <td>9.017009</td>\n",
       "      <td>46.279999</td>\n",
       "      <td>30.066399</td>\n",
       "    </tr>\n",
       "    <tr>\n",
       "      <th>75%</th>\n",
       "      <td>2434.000000</td>\n",
       "      <td>126.060483</td>\n",
       "      <td>70.227558</td>\n",
       "      <td>276.252014</td>\n",
       "      <td>76.124619</td>\n",
       "      <td>15.132</td>\n",
       "      <td>64.212723</td>\n",
       "      <td>11.886057</td>\n",
       "      <td>48.089603</td>\n",
       "      <td>43.862003</td>\n",
       "    </tr>\n",
       "    <tr>\n",
       "      <th>max</th>\n",
       "      <td>3241.000000</td>\n",
       "      <td>330.314424</td>\n",
       "      <td>282.780152</td>\n",
       "      <td>385.008668</td>\n",
       "      <td>113.231044</td>\n",
       "      <td>15.132</td>\n",
       "      <td>180.454575</td>\n",
       "      <td>32.847674</td>\n",
       "      <td>102.762401</td>\n",
       "      <td>90.053604</td>\n",
       "    </tr>\n",
       "  </tbody>\n",
       "</table>\n",
       "</div>"
      ],
      "text/plain": [
       "               key       Wire 1       Wire 2      Wire 3      Wire 4  Wire 5  \\\n",
       "count  3081.000000  3055.000000  1079.000000   63.000000   14.000000   1.000   \n",
       "mean   1623.426485   100.895853    50.577323  189.482681   57.442841  15.132   \n",
       "std     932.996726    42.012518    39.320216   99.513444   28.824667     NaN   \n",
       "min       1.000000     1.918800     0.030160    0.144144   24.148801  15.132   \n",
       "25%     823.000000    72.115684    20.193680   95.135044   40.807002  15.132   \n",
       "50%    1619.000000   100.158234    40.142956  235.194977   45.234282  15.132   \n",
       "75%    2434.000000   126.060483    70.227558  276.252014   76.124619  15.132   \n",
       "max    3241.000000   330.314424   282.780152  385.008668  113.231044  15.132   \n",
       "\n",
       "           Wire 6     Wire 7      Wire 8     Wire 9  \n",
       "count   73.000000  11.000000   19.000000  29.000000  \n",
       "mean    48.016974  10.039007   53.625193  34.155752  \n",
       "std     33.919845   8.610584   16.881728  19.931616  \n",
       "min      0.034320   0.234208   45.076721   4.622800  \n",
       "25%     25.053600   6.762756   46.094879  22.058401  \n",
       "50%     42.076324   9.017009   46.279999  30.066399  \n",
       "75%     64.212723  11.886057   48.089603  43.862003  \n",
       "max    180.454575  32.847674  102.762401  90.053604  "
      ]
     },
     "execution_count": 33,
     "metadata": {},
     "output_type": "execute_result"
    }
   ],
   "source": [
    "# Методом describe оценим статистические параметры датасета\n",
    "\n",
    "df_wire.describe()"
   ]
  },
  {
   "cell_type": "code",
   "execution_count": 34,
   "id": "accessory-journalist",
   "metadata": {},
   "outputs": [
    {
     "data": {
      "text/plain": [
       "<AxesSubplot:>"
      ]
     },
     "execution_count": 34,
     "metadata": {},
     "output_type": "execute_result"
    },
    {
     "data": {
      "image/png": "[encoded data removed]",
      "text/plain": [
       "<Figure size 1584x720 with 1 Axes>"
      ]
     },
     "metadata": {
      "needs_background": "light"
     },
     "output_type": "display_data"
    }
   ],
   "source": [
    "# Для оценки наличия выбросов построим \"ящик с усами\" для данного датасета\n",
    "\n",
    "df_wire.drop('key', axis=1).boxplot(figsize=(22,10))"
   ]
  },
  {
   "cell_type": "markdown",
   "id": "incorporated-anthony",
   "metadata": {},
   "source": [
    "**Промежуточные выводы** \n",
    "\n",
    "Файл df_wire - содержит в себе данные о количестве добавленной в сплав проволоки. Состоит из 3081 строк и 10 столбцов:\n",
    "\n",
    "1. key – номер партии (замеров 3081, а максимальный номер партии - 3241. Снова имеются недостачи в данных. Будем работать с тем, что есть), формат данных int - корректировки не требует;\n",
    "2. 9 столбцов Wire_ с суффиксом номера присадки. Каждый содержит отметку о количестве добавленного материала в сплав. В каждом столбце большое количество пропусков, которое означает, что материал не добавлялся. Формат данных float - корректировки не требует.\n",
    "    \n",
    "**Дополнительно:** на графике boxplot в столбцах Wire 1,2,6,7,8,9 отчетливо отображаются немногочисленные выбросы. Есть вероятность, что это часть производственного процесса, когда был сильный перекос по составу сплава, что пришлось корректировать добавлением в несколько раз больше среднего количетсво присадки, однато существует и вероятность ошибочного замера данного параметра. Следует проконсультироваться с тимлидом по поводу целесообразности удаления данных объектов. Пока оставляем как есть\n",
    "    \n",
    "Проволоки №5 добавлялись лишь единожды. Почему?\n",
    "    \n",
    "Из данного датасета можно \"вытащить\" полезные сведения о суммарном количестве прооволоки, добавленной в сплав. Это послужит одним из обучающих признаков."
   ]
  },
  {
   "cell_type": "markdown",
   "id": "subtle-samba",
   "metadata": {},
   "source": [
    "## Вывод по предварительному изучению датасета"
   ]
  },
  {
   "cell_type": "markdown",
   "id": "widespread-portable",
   "metadata": {},
   "source": [
    "На данном этапе работы была произведена оценка состава исходных файлов, изучен вопрос наличия пропусков в данных, выбросов, артефактов. Сделаны соответсвтующие предложения по их корректировке. \n",
    "\n",
    "Изучены типы данных в столбцах датасетов, высказаны мысли относительно необходимости их преобразования. \n",
    "    \n",
    "Сделаны предположения о возможном использовании имеющихся данных и получении новых в качестве обучающих признаков и целевого признака.\n",
    "    \n",
    "Так, в дальнейшей работе целесообразно сосредоточиться на формировании следующих обучающих признаков:\n",
    "    \n",
    "- сумма Bulk;\n",
    "- сумма Wire; \n",
    "- сумма Gas;\n",
    "- полная мощность;\n",
    "- время работы дуги; \n",
    "- температура начальная; \n",
    "- температура конечная (целевой признак); \n",
    "- время обработки партии;\n",
    "- количество срабатываний дуги."
   ]
  },
  {
   "cell_type": "markdown",
   "id": "universal-plymouth",
   "metadata": {},
   "source": [
    "# Предварительный план работы с проектом"
   ]
  },
  {
   "cell_type": "markdown",
   "id": "lined-duplicate",
   "metadata": {},
   "source": [
    " Дальнейшую работу с проектом предполагаю строить в соответствии со следующим планом:\n",
    "\n",
    "1. Преобразование данных - удаление (замена средним/медианой) выбросов, пропусков, дублей, артефактов. Изменение, где необходимо, типа данных.\n",
    "\n",
    "2. Выбор признаков для обучения моделей - отобрать, рассчитать те параметры, которые могут подойти на эти роли (соответствущие предложения даны в разделе первичного изучения). Объединить их в одну таблицу по столбцу key\n",
    "\n",
    "3. Отделение целевого признака (итоговая температура) от остальных, разделение выборки на обучающую и тестовую. \n",
    "\n",
    "4. Подбор, обучение и кросс-валидация моделей, снятие первичных метрик (предлагаю метрику RMSE). Сравнение с дамми-моделью.\n",
    "\n",
    "5. Получение метрик на тестовых данных. Оформление выводов."
   ]
  },
  {
   "cell_type": "markdown",
   "id": "medical-reservation",
   "metadata": {},
   "source": [
    "Вопросы к тимлиду:\n",
    "    \n",
    "- Какое значение метрики является целевым для заказчика?\n",
    "    \n",
    "- верна ли догадка, что в df_bulk и df_wire пропуск в данных является отметкой об отсутствии добавки?\n",
    "    \n",
    "- имеет ли смысл узнавать, какая добавка какой материал конкретно означает. Если да, то где эту информацию достать? (полагаю, что данная информация не важна для ML модели, но актуальна для исследователя с целью погружения в процесс производства и повышения вероятности достать инсайт оттуда, где сам не ожидал)\n",
    "    \n",
    "- Файл df_bulk, Bulk 12 в 303 строке одинокий выброс. Стоит ли его удалять? (думаю, что ничего не потеряем от его удаления)\n",
    "    \n",
    "- Есть ли вариант восстановить данные о замерах температуры, где стоят пропуски? Если нет - удаляем их? (полагаю, что надо удалять всю партию, так как нет данных о конечной температуре - целевого фактора).\n",
    "    \n",
    "На текущий момент выработано следующее предложение по составу обучающих признаков: \n",
    "    \n",
    "- сумма Bulk, \n",
    "- сумма Wire, \n",
    "- сумма Gas, \n",
    "- общая активная мощность, \n",
    "- общая реактивная мощность, \n",
    "- полная мощность,\n",
    "- время работы дуги, \n",
    "- температура начальная, \n",
    "- температура конечная (целевой признак), \n",
    "- количество срабатываний дуги.\n",
    "        \n",
    "Является ли такой состав достаточным? "
   ]
  },
  {
   "cell_type": "markdown",
   "id": "recent-advisory",
   "metadata": {},
   "source": [
    "# Предобработка данных и формирование признаков"
   ]
  },
  {
   "cell_type": "markdown",
   "id": "silver-bedroom",
   "metadata": {},
   "source": [
    "## Выявление партий с одним измерением температуры"
   ]
  },
  {
   "cell_type": "code",
   "execution_count": 35,
   "id": "seventh-canon",
   "metadata": {},
   "outputs": [],
   "source": [
    "# С помощью группировки выделим в датасете те партии, которым соответствует только одно измерение температуры\n",
    "\n",
    "df_one = df_temp.groupby('key')['Температура'].count()==1"
   ]
  },
  {
   "cell_type": "code",
   "execution_count": 36,
   "id": "descending-cinema",
   "metadata": {},
   "outputs": [
    {
     "data": {
      "text/plain": [
       "741"
      ]
     },
     "execution_count": 36,
     "metadata": {},
     "output_type": "execute_result"
    }
   ],
   "source": [
    "# Из полученного массива выбираем значения True (им соответствует 1 измерение температуры)\n",
    "\n",
    "df_one = df_one[df_one==True]\n",
    "len(df_one)"
   ]
  },
  {
   "cell_type": "markdown",
   "id": "found-spending",
   "metadata": {},
   "source": [
    "Итого, придется выкинуть аж 741 объект (23% данных). Жаль, но в данном случае это единственный вариант. Далее нужно беседовать с инженерами, чтобы обеспечили лучшую заполняемость сведений."
   ]
  },
  {
   "cell_type": "code",
   "execution_count": 37,
   "id": "multiple-arthritis",
   "metadata": {},
   "outputs": [
    {
     "data": {
      "text/plain": [
       "2475"
      ]
     },
     "execution_count": 37,
     "metadata": {},
     "output_type": "execute_result"
    }
   ],
   "source": [
    "# В новый датасет запишем только те объекты, которые соответствуют отобранным значениям key.\n",
    "# Для этого сделаем инедексом параметр key в исходном датасете \n",
    "\n",
    "df_temp_clean = df_temp.set_index(df_temp['key']).drop(df_one.index)\n",
    "len(df_temp_clean.key.unique())"
   ]
  },
  {
   "cell_type": "markdown",
   "id": "danish-daisy",
   "metadata": {},
   "source": [
    "## Удаление выбросов в датасете df_temp"
   ]
  },
  {
   "cell_type": "code",
   "execution_count": 38,
   "id": "surprising-reporter",
   "metadata": {},
   "outputs": [],
   "source": [
    "# Технологический процесс требует разогрева сплава минимум до 1300 градусов. В нашем датасете есть выбросы ниже данной отметки. Их, а также один выброс на уровне 1400 градусов, удалим.\n",
    "\n",
    "df_temp_clean = df_temp_clean[df_temp_clean['Температура']>1500]"
   ]
  },
  {
   "cell_type": "code",
   "execution_count": 39,
   "id": "incomplete-proposition",
   "metadata": {},
   "outputs": [
    {
     "data": {
      "text/plain": [
       "<AxesSubplot:>"
      ]
     },
     "execution_count": 39,
     "metadata": {},
     "output_type": "execute_result"
    },
    {
     "data": {
      "image/png": "[encoded data removed]",
      "text/plain": [
       "<Figure size 432x288 with 1 Axes>"
      ]
     },
     "metadata": {
      "needs_background": "light"
     },
     "output_type": "display_data"
    }
   ],
   "source": [
    "df_temp_clean.boxplot('Температура')"
   ]
  },
  {
   "cell_type": "code",
   "execution_count": 40,
   "id": "floppy-retro",
   "metadata": {},
   "outputs": [
    {
     "data": {
      "text/plain": [
       "<AxesSubplot:xlabel='Температура'>"
      ]
     },
     "execution_count": 40,
     "metadata": {},
     "output_type": "execute_result"
    },
    {
     "data": {
      "image/png": "[encoded data removed]",
      "text/plain": [
       "<Figure size 432x288 with 1 Axes>"
      ]
     },
     "metadata": {},
     "output_type": "display_data"
    }
   ],
   "source": [
    "# Проверим вид распределения значений температур\n",
    "\n",
    "sns.set_style('whitegrid')\n",
    "\n",
    "plt.figure\n",
    "\n",
    "sns.distplot(df_temp_clean['Температура'], color='green')"
   ]
  },
  {
   "cell_type": "markdown",
   "id": "creative-jamaica",
   "metadata": {},
   "source": [
    "На графике вырисовывается близкое к нормальному распределение"
   ]
  },
  {
   "cell_type": "markdown",
   "id": "thorough-calendar",
   "metadata": {},
   "source": [
    "## Обработка выброса в датасете df_arc"
   ]
  },
  {
   "cell_type": "code",
   "execution_count": 41,
   "id": "balanced-tender",
   "metadata": {},
   "outputs": [],
   "source": [
    "# Существующий выброс по реактивной мощности заменяем на среднее значение по его партии\n",
    "\n",
    "df_arc[df_arc['Реактивная мощность']<0] = df_arc[(df_arc['key']==2116)&(df_arc['Реактивная мощность']>0)]['Реактивная мощность'].mean()"
   ]
  },
  {
   "cell_type": "code",
   "execution_count": 42,
   "id": "written-nomination",
   "metadata": {
    "scrolled": true
   },
   "outputs": [
    {
     "data": {
      "text/plain": [
       "<AxesSubplot:>"
      ]
     },
     "execution_count": 42,
     "metadata": {},
     "output_type": "execute_result"
    },
    {
     "data": {
      "image/png": "[encoded data removed]",
      "text/plain": [
       "<Figure size 432x288 with 1 Axes>"
      ]
     },
     "metadata": {},
     "output_type": "display_data"
    }
   ],
   "source": [
    "df_arc.boxplot(['Реактивная мощность'])"
   ]
  },
  {
   "cell_type": "markdown",
   "id": "aboriginal-analysis",
   "metadata": {},
   "source": [
    "## Формирование признаков"
   ]
  },
  {
   "cell_type": "markdown",
   "id": "declared-poker",
   "metadata": {},
   "source": [
    "### Создание признака \"время обработки партии\""
   ]
  },
  {
   "cell_type": "code",
   "execution_count": 43,
   "id": "seven-alert",
   "metadata": {},
   "outputs": [
    {
     "data": {
      "text/html": [
       "<div>\n",
       "<style scoped>\n",
       "    .dataframe tbody tr th:only-of-type {\n",
       "        vertical-align: middle;\n",
       "    }\n",
       "\n",
       "    .dataframe tbody tr th {\n",
       "        vertical-align: top;\n",
       "    }\n",
       "\n",
       "    .dataframe thead th {\n",
       "        text-align: right;\n",
       "    }\n",
       "</style>\n",
       "<table border=\"1\" class=\"dataframe\">\n",
       "  <thead>\n",
       "    <tr style=\"text-align: right;\">\n",
       "      <th></th>\n",
       "      <th>key</th>\n",
       "      <th>Время замера_первое</th>\n",
       "      <th>Время замера_последнее</th>\n",
       "    </tr>\n",
       "  </thead>\n",
       "  <tbody>\n",
       "    <tr>\n",
       "      <th>0</th>\n",
       "      <td>1</td>\n",
       "      <td>2019-05-03 11:16:18</td>\n",
       "      <td>2019-05-03 11:30:39</td>\n",
       "    </tr>\n",
       "    <tr>\n",
       "      <th>1</th>\n",
       "      <td>2</td>\n",
       "      <td>2019-05-03 11:37:27</td>\n",
       "      <td>2019-05-03 11:59:12</td>\n",
       "    </tr>\n",
       "    <tr>\n",
       "      <th>2</th>\n",
       "      <td>3</td>\n",
       "      <td>2019-05-03 12:13:17</td>\n",
       "      <td>2019-05-03 12:34:57</td>\n",
       "    </tr>\n",
       "    <tr>\n",
       "      <th>3</th>\n",
       "      <td>4</td>\n",
       "      <td>2019-05-03 12:52:57</td>\n",
       "      <td>2019-05-03 12:59:25</td>\n",
       "    </tr>\n",
       "    <tr>\n",
       "      <th>4</th>\n",
       "      <td>5</td>\n",
       "      <td>2019-05-03 13:23:19</td>\n",
       "      <td>2019-05-03 13:36:01</td>\n",
       "    </tr>\n",
       "    <tr>\n",
       "      <th>...</th>\n",
       "      <td>...</td>\n",
       "      <td>...</td>\n",
       "      <td>...</td>\n",
       "    </tr>\n",
       "    <tr>\n",
       "      <th>3211</th>\n",
       "      <td>3237</td>\n",
       "      <td>2019-08-31 22:44:04</td>\n",
       "      <td>2019-08-31 23:05:43</td>\n",
       "    </tr>\n",
       "    <tr>\n",
       "      <th>3212</th>\n",
       "      <td>3238</td>\n",
       "      <td>2019-08-31 23:30:31</td>\n",
       "      <td>2019-08-31 23:43:00</td>\n",
       "    </tr>\n",
       "    <tr>\n",
       "      <th>3213</th>\n",
       "      <td>3239</td>\n",
       "      <td>2019-09-01 01:31:47</td>\n",
       "      <td>2019-09-01 02:24:15</td>\n",
       "    </tr>\n",
       "    <tr>\n",
       "      <th>3214</th>\n",
       "      <td>3240</td>\n",
       "      <td>2019-09-01 02:39:01</td>\n",
       "      <td>2019-09-01 03:35:16</td>\n",
       "    </tr>\n",
       "    <tr>\n",
       "      <th>3215</th>\n",
       "      <td>3241</td>\n",
       "      <td>2019-09-01 04:03:30</td>\n",
       "      <td>2019-09-01 04:38:08</td>\n",
       "    </tr>\n",
       "  </tbody>\n",
       "</table>\n",
       "<p>3216 rows × 3 columns</p>\n",
       "</div>"
      ],
      "text/plain": [
       "       key Время замера_первое Время замера_последнее\n",
       "0        1 2019-05-03 11:16:18    2019-05-03 11:30:39\n",
       "1        2 2019-05-03 11:37:27    2019-05-03 11:59:12\n",
       "2        3 2019-05-03 12:13:17    2019-05-03 12:34:57\n",
       "3        4 2019-05-03 12:52:57    2019-05-03 12:59:25\n",
       "4        5 2019-05-03 13:23:19    2019-05-03 13:36:01\n",
       "...    ...                 ...                    ...\n",
       "3211  3237 2019-08-31 22:44:04    2019-08-31 23:05:43\n",
       "3212  3238 2019-08-31 23:30:31    2019-08-31 23:43:00\n",
       "3213  3239 2019-09-01 01:31:47    2019-09-01 02:24:15\n",
       "3214  3240 2019-09-01 02:39:01    2019-09-01 03:35:16\n",
       "3215  3241 2019-09-01 04:03:30    2019-09-01 04:38:08\n",
       "\n",
       "[3216 rows x 3 columns]"
      ]
     },
     "execution_count": 43,
     "metadata": {},
     "output_type": "execute_result"
    }
   ],
   "source": [
    "# Для формирования признака \"время обработки партии\" рассчитаем разницу между последним и первым замерами температуры для каждой партии\n",
    "# Для этого сначала найдем эти значения\n",
    "\n",
    "time_first = pd.DataFrame(df_temp.groupby('key')['Время замера'].min())\n",
    "time_last = pd.DataFrame(df_temp.groupby('key')['Время замера'].max())\n",
    "\n",
    "time_temp = time_first.join(time_last, lsuffix='_первое', rsuffix='_последнее').reset_index()\n",
    "\n",
    "time_temp['Время замера_первое'] = pd.to_datetime(time_temp['Время замера_первое'])\n",
    "time_temp['Время замера_последнее'] = pd.to_datetime(time_temp['Время замера_последнее'])\n",
    "time_temp"
   ]
  },
  {
   "cell_type": "code",
   "execution_count": 44,
   "id": "separate-creature",
   "metadata": {},
   "outputs": [
    {
     "data": {
      "text/html": [
       "<div>\n",
       "<style scoped>\n",
       "    .dataframe tbody tr th:only-of-type {\n",
       "        vertical-align: middle;\n",
       "    }\n",
       "\n",
       "    .dataframe tbody tr th {\n",
       "        vertical-align: top;\n",
       "    }\n",
       "\n",
       "    .dataframe thead th {\n",
       "        text-align: right;\n",
       "    }\n",
       "</style>\n",
       "<table border=\"1\" class=\"dataframe\">\n",
       "  <thead>\n",
       "    <tr style=\"text-align: right;\">\n",
       "      <th></th>\n",
       "      <th>key</th>\n",
       "      <th>Время замера_первое</th>\n",
       "      <th>Время замера_последнее</th>\n",
       "      <th>batch_time</th>\n",
       "      <th>batch_time_min</th>\n",
       "    </tr>\n",
       "  </thead>\n",
       "  <tbody>\n",
       "    <tr>\n",
       "      <th>0</th>\n",
       "      <td>1</td>\n",
       "      <td>2019-05-03 11:16:18</td>\n",
       "      <td>2019-05-03 11:30:39</td>\n",
       "      <td>0 days 00:14:21</td>\n",
       "      <td>14.350000</td>\n",
       "    </tr>\n",
       "    <tr>\n",
       "      <th>1</th>\n",
       "      <td>2</td>\n",
       "      <td>2019-05-03 11:37:27</td>\n",
       "      <td>2019-05-03 11:59:12</td>\n",
       "      <td>0 days 00:21:45</td>\n",
       "      <td>21.750000</td>\n",
       "    </tr>\n",
       "    <tr>\n",
       "      <th>2</th>\n",
       "      <td>3</td>\n",
       "      <td>2019-05-03 12:13:17</td>\n",
       "      <td>2019-05-03 12:34:57</td>\n",
       "      <td>0 days 00:21:40</td>\n",
       "      <td>21.666667</td>\n",
       "    </tr>\n",
       "    <tr>\n",
       "      <th>3</th>\n",
       "      <td>4</td>\n",
       "      <td>2019-05-03 12:52:57</td>\n",
       "      <td>2019-05-03 12:59:25</td>\n",
       "      <td>0 days 00:06:28</td>\n",
       "      <td>6.466667</td>\n",
       "    </tr>\n",
       "    <tr>\n",
       "      <th>4</th>\n",
       "      <td>5</td>\n",
       "      <td>2019-05-03 13:23:19</td>\n",
       "      <td>2019-05-03 13:36:01</td>\n",
       "      <td>0 days 00:12:42</td>\n",
       "      <td>12.700000</td>\n",
       "    </tr>\n",
       "    <tr>\n",
       "      <th>...</th>\n",
       "      <td>...</td>\n",
       "      <td>...</td>\n",
       "      <td>...</td>\n",
       "      <td>...</td>\n",
       "      <td>...</td>\n",
       "    </tr>\n",
       "    <tr>\n",
       "      <th>3211</th>\n",
       "      <td>3237</td>\n",
       "      <td>2019-08-31 22:44:04</td>\n",
       "      <td>2019-08-31 23:05:43</td>\n",
       "      <td>0 days 00:21:39</td>\n",
       "      <td>21.650000</td>\n",
       "    </tr>\n",
       "    <tr>\n",
       "      <th>3212</th>\n",
       "      <td>3238</td>\n",
       "      <td>2019-08-31 23:30:31</td>\n",
       "      <td>2019-08-31 23:43:00</td>\n",
       "      <td>0 days 00:12:29</td>\n",
       "      <td>12.483333</td>\n",
       "    </tr>\n",
       "    <tr>\n",
       "      <th>3213</th>\n",
       "      <td>3239</td>\n",
       "      <td>2019-09-01 01:31:47</td>\n",
       "      <td>2019-09-01 02:24:15</td>\n",
       "      <td>0 days 00:52:28</td>\n",
       "      <td>52.466667</td>\n",
       "    </tr>\n",
       "    <tr>\n",
       "      <th>3214</th>\n",
       "      <td>3240</td>\n",
       "      <td>2019-09-01 02:39:01</td>\n",
       "      <td>2019-09-01 03:35:16</td>\n",
       "      <td>0 days 00:56:15</td>\n",
       "      <td>56.250000</td>\n",
       "    </tr>\n",
       "    <tr>\n",
       "      <th>3215</th>\n",
       "      <td>3241</td>\n",
       "      <td>2019-09-01 04:03:30</td>\n",
       "      <td>2019-09-01 04:38:08</td>\n",
       "      <td>0 days 00:34:38</td>\n",
       "      <td>34.633333</td>\n",
       "    </tr>\n",
       "  </tbody>\n",
       "</table>\n",
       "<p>3216 rows × 5 columns</p>\n",
       "</div>"
      ],
      "text/plain": [
       "       key Время замера_первое Время замера_последнее      batch_time  \\\n",
       "0        1 2019-05-03 11:16:18    2019-05-03 11:30:39 0 days 00:14:21   \n",
       "1        2 2019-05-03 11:37:27    2019-05-03 11:59:12 0 days 00:21:45   \n",
       "2        3 2019-05-03 12:13:17    2019-05-03 12:34:57 0 days 00:21:40   \n",
       "3        4 2019-05-03 12:52:57    2019-05-03 12:59:25 0 days 00:06:28   \n",
       "4        5 2019-05-03 13:23:19    2019-05-03 13:36:01 0 days 00:12:42   \n",
       "...    ...                 ...                    ...             ...   \n",
       "3211  3237 2019-08-31 22:44:04    2019-08-31 23:05:43 0 days 00:21:39   \n",
       "3212  3238 2019-08-31 23:30:31    2019-08-31 23:43:00 0 days 00:12:29   \n",
       "3213  3239 2019-09-01 01:31:47    2019-09-01 02:24:15 0 days 00:52:28   \n",
       "3214  3240 2019-09-01 02:39:01    2019-09-01 03:35:16 0 days 00:56:15   \n",
       "3215  3241 2019-09-01 04:03:30    2019-09-01 04:38:08 0 days 00:34:38   \n",
       "\n",
       "      batch_time_min  \n",
       "0          14.350000  \n",
       "1          21.750000  \n",
       "2          21.666667  \n",
       "3           6.466667  \n",
       "4          12.700000  \n",
       "...              ...  \n",
       "3211       21.650000  \n",
       "3212       12.483333  \n",
       "3213       52.466667  \n",
       "3214       56.250000  \n",
       "3215       34.633333  \n",
       "\n",
       "[3216 rows x 5 columns]"
      ]
     },
     "execution_count": 44,
     "metadata": {},
     "output_type": "execute_result"
    }
   ],
   "source": [
    "# Теперь рассчитаем саму разницу между найденными показателями и переведем реультат в секунды\n",
    "\n",
    "time_temp['batch_time'] = pd.to_datetime(time_temp['Время замера_последнее']) - pd.to_datetime(time_temp['Время замера_первое'])\n",
    "time_temp['batch_time_min'] = time_temp['batch_time'].dt.total_seconds()/60\n",
    "time_temp"
   ]
  },
  {
   "cell_type": "code",
   "execution_count": 45,
   "id": "heated-congress",
   "metadata": {},
   "outputs": [
    {
     "data": {
      "text/html": [
       "<div>\n",
       "<style scoped>\n",
       "    .dataframe tbody tr th:only-of-type {\n",
       "        vertical-align: middle;\n",
       "    }\n",
       "\n",
       "    .dataframe tbody tr th {\n",
       "        vertical-align: top;\n",
       "    }\n",
       "\n",
       "    .dataframe thead th {\n",
       "        text-align: right;\n",
       "    }\n",
       "</style>\n",
       "<table border=\"1\" class=\"dataframe\">\n",
       "  <thead>\n",
       "    <tr style=\"text-align: right;\">\n",
       "      <th></th>\n",
       "      <th>key</th>\n",
       "      <th>batch_time_min</th>\n",
       "    </tr>\n",
       "  </thead>\n",
       "  <tbody>\n",
       "    <tr>\n",
       "      <th>0</th>\n",
       "      <td>1</td>\n",
       "      <td>14.350000</td>\n",
       "    </tr>\n",
       "    <tr>\n",
       "      <th>1</th>\n",
       "      <td>2</td>\n",
       "      <td>21.750000</td>\n",
       "    </tr>\n",
       "    <tr>\n",
       "      <th>2</th>\n",
       "      <td>3</td>\n",
       "      <td>21.666667</td>\n",
       "    </tr>\n",
       "    <tr>\n",
       "      <th>3</th>\n",
       "      <td>4</td>\n",
       "      <td>6.466667</td>\n",
       "    </tr>\n",
       "    <tr>\n",
       "      <th>4</th>\n",
       "      <td>5</td>\n",
       "      <td>12.700000</td>\n",
       "    </tr>\n",
       "    <tr>\n",
       "      <th>...</th>\n",
       "      <td>...</td>\n",
       "      <td>...</td>\n",
       "    </tr>\n",
       "    <tr>\n",
       "      <th>3211</th>\n",
       "      <td>3237</td>\n",
       "      <td>21.650000</td>\n",
       "    </tr>\n",
       "    <tr>\n",
       "      <th>3212</th>\n",
       "      <td>3238</td>\n",
       "      <td>12.483333</td>\n",
       "    </tr>\n",
       "    <tr>\n",
       "      <th>3213</th>\n",
       "      <td>3239</td>\n",
       "      <td>52.466667</td>\n",
       "    </tr>\n",
       "    <tr>\n",
       "      <th>3214</th>\n",
       "      <td>3240</td>\n",
       "      <td>56.250000</td>\n",
       "    </tr>\n",
       "    <tr>\n",
       "      <th>3215</th>\n",
       "      <td>3241</td>\n",
       "      <td>34.633333</td>\n",
       "    </tr>\n",
       "  </tbody>\n",
       "</table>\n",
       "<p>3216 rows × 2 columns</p>\n",
       "</div>"
      ],
      "text/plain": [
       "       key  batch_time_min\n",
       "0        1       14.350000\n",
       "1        2       21.750000\n",
       "2        3       21.666667\n",
       "3        4        6.466667\n",
       "4        5       12.700000\n",
       "...    ...             ...\n",
       "3211  3237       21.650000\n",
       "3212  3238       12.483333\n",
       "3213  3239       52.466667\n",
       "3214  3240       56.250000\n",
       "3215  3241       34.633333\n",
       "\n",
       "[3216 rows x 2 columns]"
      ]
     },
     "execution_count": 45,
     "metadata": {},
     "output_type": "execute_result"
    }
   ],
   "source": [
    "# Искомый признак вместе со значением \"key\" сохраняем в отдельный датафрейм\n",
    "\n",
    "heating_time_min = time_temp[['key', 'batch_time_min']]\n",
    "heating_time_min"
   ]
  },
  {
   "cell_type": "markdown",
   "id": "published-right",
   "metadata": {},
   "source": [
    "### Добавление признака \"полная мощность\""
   ]
  },
  {
   "cell_type": "code",
   "execution_count": 46,
   "id": "sharing-concern",
   "metadata": {},
   "outputs": [],
   "source": [
    "df_arc['power_full'] = (df_arc['Активная мощность']**2 + df_arc['Реактивная мощность']**2)**0.5"
   ]
  },
  {
   "cell_type": "code",
   "execution_count": 47,
   "id": "heavy-birmingham",
   "metadata": {},
   "outputs": [
    {
     "data": {
      "text/plain": [
       "<AxesSubplot:>"
      ]
     },
     "execution_count": 47,
     "metadata": {},
     "output_type": "execute_result"
    },
    {
     "data": {
      "image/png": "[encoded data removed]",
      "text/plain": [
       "<Figure size 432x288 with 1 Axes>"
      ]
     },
     "metadata": {},
     "output_type": "display_data"
    }
   ],
   "source": [
    "df_arc.boxplot('power_full')"
   ]
  },
  {
   "cell_type": "code",
   "execution_count": 48,
   "id": "environmental-cotton",
   "metadata": {},
   "outputs": [
    {
     "data": {
      "text/html": [
       "<div>\n",
       "<style scoped>\n",
       "    .dataframe tbody tr th:only-of-type {\n",
       "        vertical-align: middle;\n",
       "    }\n",
       "\n",
       "    .dataframe tbody tr th {\n",
       "        vertical-align: top;\n",
       "    }\n",
       "\n",
       "    .dataframe thead th {\n",
       "        text-align: right;\n",
       "    }\n",
       "</style>\n",
       "<table border=\"1\" class=\"dataframe\">\n",
       "  <thead>\n",
       "    <tr style=\"text-align: right;\">\n",
       "      <th></th>\n",
       "      <th>power_full</th>\n",
       "    </tr>\n",
       "    <tr>\n",
       "      <th>key</th>\n",
       "      <th></th>\n",
       "    </tr>\n",
       "  </thead>\n",
       "  <tbody>\n",
       "    <tr>\n",
       "      <th>0.304429</th>\n",
       "      <td>0.430528</td>\n",
       "    </tr>\n",
       "    <tr>\n",
       "      <th>1.000000</th>\n",
       "      <td>5.826395</td>\n",
       "    </tr>\n",
       "    <tr>\n",
       "      <th>2.000000</th>\n",
       "      <td>3.649216</td>\n",
       "    </tr>\n",
       "    <tr>\n",
       "      <th>3.000000</th>\n",
       "      <td>2.989534</td>\n",
       "    </tr>\n",
       "    <tr>\n",
       "      <th>4.000000</th>\n",
       "      <td>3.814962</td>\n",
       "    </tr>\n",
       "    <tr>\n",
       "      <th>...</th>\n",
       "      <td>...</td>\n",
       "    </tr>\n",
       "    <tr>\n",
       "      <th>3237.000000</th>\n",
       "      <td>4.844982</td>\n",
       "    </tr>\n",
       "    <tr>\n",
       "      <th>3238.000000</th>\n",
       "      <td>2.696542</td>\n",
       "    </tr>\n",
       "    <tr>\n",
       "      <th>3239.000000</th>\n",
       "      <td>5.611883</td>\n",
       "    </tr>\n",
       "    <tr>\n",
       "      <th>3240.000000</th>\n",
       "      <td>3.891856</td>\n",
       "    </tr>\n",
       "    <tr>\n",
       "      <th>3241.000000</th>\n",
       "      <td>2.999516</td>\n",
       "    </tr>\n",
       "  </tbody>\n",
       "</table>\n",
       "<p>3215 rows × 1 columns</p>\n",
       "</div>"
      ],
      "text/plain": [
       "             power_full\n",
       "key                    \n",
       "0.304429       0.430528\n",
       "1.000000       5.826395\n",
       "2.000000       3.649216\n",
       "3.000000       2.989534\n",
       "4.000000       3.814962\n",
       "...                 ...\n",
       "3237.000000    4.844982\n",
       "3238.000000    2.696542\n",
       "3239.000000    5.611883\n",
       "3240.000000    3.891856\n",
       "3241.000000    2.999516\n",
       "\n",
       "[3215 rows x 1 columns]"
      ]
     },
     "execution_count": 48,
     "metadata": {},
     "output_type": "execute_result"
    }
   ],
   "source": [
    "# Искомый признак вместе со значением \"key\" сохраняем в отдельный датафрейм\n",
    "\n",
    "df_power_sum = df_arc[['key','power_full']].groupby('key').sum()\n",
    "df_power_sum"
   ]
  },
  {
   "cell_type": "markdown",
   "id": "optimum-george",
   "metadata": {},
   "source": [
    "### Создание признака \"время работы дуги\""
   ]
  },
  {
   "cell_type": "code",
   "execution_count": 49,
   "id": "unusual-helping",
   "metadata": {},
   "outputs": [],
   "source": [
    "# Для дальнейшей обработки переведем столбцы со временем в датасетах в формат datetime\n",
    "\n",
    "df_arc['Конец нагрева дугой'] = pd.to_datetime(df_arc['Конец нагрева дугой'])\n",
    "\n",
    "df_arc['Начало нагрева дугой'] = pd.to_datetime(df_arc['Начало нагрева дугой'])"
   ]
  },
  {
   "cell_type": "code",
   "execution_count": 50,
   "id": "knowing-friendship",
   "metadata": {},
   "outputs": [],
   "source": [
    "# Сделаем расчет общего времени работы дуги для каждого этапа\n",
    "\n",
    "df_arc['heating_time_min'] = (df_arc['Конец нагрева дугой']-df_arc['Начало нагрева дугой']).dt.total_seconds()/60"
   ]
  },
  {
   "cell_type": "code",
   "execution_count": 51,
   "id": "viral-coupon",
   "metadata": {},
   "outputs": [
    {
     "data": {
      "text/plain": [
       "key\n",
       "0.304429        0.000000\n",
       "1.000000       18.300000\n",
       "2.000000       13.516667\n",
       "3.000000       10.916667\n",
       "4.000000       12.350000\n",
       "                 ...    \n",
       "3237.000000    15.150000\n",
       "3238.000000     9.100000\n",
       "3239.000000    20.266667\n",
       "3240.000000    13.983333\n",
       "3241.000000    10.983333\n",
       "Name: heating_time_min, Length: 3215, dtype: float64"
      ]
     },
     "execution_count": 51,
     "metadata": {},
     "output_type": "execute_result"
    }
   ],
   "source": [
    "# Искомый признак вместе со значением \"key\" сохраняем в отдельный датафрейм\n",
    "\n",
    "df_arc_grouped = df_arc.groupby('key')['heating_time_min'].sum()\n",
    "df_arc_grouped"
   ]
  },
  {
   "cell_type": "markdown",
   "id": "sharing-thinking",
   "metadata": {},
   "source": [
    "### Расчет суммарного количества сыпучих добавок, проволоки и газа"
   ]
  },
  {
   "cell_type": "code",
   "execution_count": 52,
   "id": "impossible-dealing",
   "metadata": {},
   "outputs": [
    {
     "data": {
      "text/html": [
       "<div>\n",
       "<style scoped>\n",
       "    .dataframe tbody tr th:only-of-type {\n",
       "        vertical-align: middle;\n",
       "    }\n",
       "\n",
       "    .dataframe tbody tr th {\n",
       "        vertical-align: top;\n",
       "    }\n",
       "\n",
       "    .dataframe thead th {\n",
       "        text-align: right;\n",
       "    }\n",
       "</style>\n",
       "<table border=\"1\" class=\"dataframe\">\n",
       "  <thead>\n",
       "    <tr style=\"text-align: right;\">\n",
       "      <th></th>\n",
       "      <th>key</th>\n",
       "      <th>Bulk 1</th>\n",
       "      <th>Bulk 2</th>\n",
       "      <th>Bulk 3</th>\n",
       "      <th>Bulk 4</th>\n",
       "      <th>Bulk 5</th>\n",
       "      <th>Bulk 6</th>\n",
       "      <th>Bulk 7</th>\n",
       "      <th>Bulk 8</th>\n",
       "      <th>Bulk 9</th>\n",
       "      <th>Bulk 10</th>\n",
       "      <th>Bulk 11</th>\n",
       "      <th>Bulk 12</th>\n",
       "      <th>Bulk 13</th>\n",
       "      <th>Bulk 14</th>\n",
       "      <th>Bulk 15</th>\n",
       "      <th>bulk_sum</th>\n",
       "    </tr>\n",
       "  </thead>\n",
       "  <tbody>\n",
       "    <tr>\n",
       "      <th>0</th>\n",
       "      <td>1</td>\n",
       "      <td>NaN</td>\n",
       "      <td>NaN</td>\n",
       "      <td>NaN</td>\n",
       "      <td>43.0</td>\n",
       "      <td>NaN</td>\n",
       "      <td>NaN</td>\n",
       "      <td>NaN</td>\n",
       "      <td>NaN</td>\n",
       "      <td>NaN</td>\n",
       "      <td>NaN</td>\n",
       "      <td>NaN</td>\n",
       "      <td>206.0</td>\n",
       "      <td>NaN</td>\n",
       "      <td>150.0</td>\n",
       "      <td>154.0</td>\n",
       "      <td>553.0</td>\n",
       "    </tr>\n",
       "    <tr>\n",
       "      <th>1</th>\n",
       "      <td>2</td>\n",
       "      <td>NaN</td>\n",
       "      <td>NaN</td>\n",
       "      <td>NaN</td>\n",
       "      <td>73.0</td>\n",
       "      <td>NaN</td>\n",
       "      <td>NaN</td>\n",
       "      <td>NaN</td>\n",
       "      <td>NaN</td>\n",
       "      <td>NaN</td>\n",
       "      <td>NaN</td>\n",
       "      <td>NaN</td>\n",
       "      <td>206.0</td>\n",
       "      <td>NaN</td>\n",
       "      <td>149.0</td>\n",
       "      <td>154.0</td>\n",
       "      <td>582.0</td>\n",
       "    </tr>\n",
       "    <tr>\n",
       "      <th>2</th>\n",
       "      <td>3</td>\n",
       "      <td>NaN</td>\n",
       "      <td>NaN</td>\n",
       "      <td>NaN</td>\n",
       "      <td>34.0</td>\n",
       "      <td>NaN</td>\n",
       "      <td>NaN</td>\n",
       "      <td>NaN</td>\n",
       "      <td>NaN</td>\n",
       "      <td>NaN</td>\n",
       "      <td>NaN</td>\n",
       "      <td>NaN</td>\n",
       "      <td>205.0</td>\n",
       "      <td>NaN</td>\n",
       "      <td>152.0</td>\n",
       "      <td>153.0</td>\n",
       "      <td>544.0</td>\n",
       "    </tr>\n",
       "    <tr>\n",
       "      <th>3</th>\n",
       "      <td>4</td>\n",
       "      <td>NaN</td>\n",
       "      <td>NaN</td>\n",
       "      <td>NaN</td>\n",
       "      <td>81.0</td>\n",
       "      <td>NaN</td>\n",
       "      <td>NaN</td>\n",
       "      <td>NaN</td>\n",
       "      <td>NaN</td>\n",
       "      <td>NaN</td>\n",
       "      <td>NaN</td>\n",
       "      <td>NaN</td>\n",
       "      <td>207.0</td>\n",
       "      <td>NaN</td>\n",
       "      <td>153.0</td>\n",
       "      <td>154.0</td>\n",
       "      <td>595.0</td>\n",
       "    </tr>\n",
       "    <tr>\n",
       "      <th>4</th>\n",
       "      <td>5</td>\n",
       "      <td>NaN</td>\n",
       "      <td>NaN</td>\n",
       "      <td>NaN</td>\n",
       "      <td>78.0</td>\n",
       "      <td>NaN</td>\n",
       "      <td>NaN</td>\n",
       "      <td>NaN</td>\n",
       "      <td>NaN</td>\n",
       "      <td>NaN</td>\n",
       "      <td>NaN</td>\n",
       "      <td>NaN</td>\n",
       "      <td>203.0</td>\n",
       "      <td>NaN</td>\n",
       "      <td>151.0</td>\n",
       "      <td>152.0</td>\n",
       "      <td>584.0</td>\n",
       "    </tr>\n",
       "    <tr>\n",
       "      <th>...</th>\n",
       "      <td>...</td>\n",
       "      <td>...</td>\n",
       "      <td>...</td>\n",
       "      <td>...</td>\n",
       "      <td>...</td>\n",
       "      <td>...</td>\n",
       "      <td>...</td>\n",
       "      <td>...</td>\n",
       "      <td>...</td>\n",
       "      <td>...</td>\n",
       "      <td>...</td>\n",
       "      <td>...</td>\n",
       "      <td>...</td>\n",
       "      <td>...</td>\n",
       "      <td>...</td>\n",
       "      <td>...</td>\n",
       "      <td>...</td>\n",
       "    </tr>\n",
       "    <tr>\n",
       "      <th>3124</th>\n",
       "      <td>3237</td>\n",
       "      <td>NaN</td>\n",
       "      <td>NaN</td>\n",
       "      <td>170.0</td>\n",
       "      <td>NaN</td>\n",
       "      <td>NaN</td>\n",
       "      <td>NaN</td>\n",
       "      <td>NaN</td>\n",
       "      <td>NaN</td>\n",
       "      <td>NaN</td>\n",
       "      <td>NaN</td>\n",
       "      <td>NaN</td>\n",
       "      <td>252.0</td>\n",
       "      <td>NaN</td>\n",
       "      <td>130.0</td>\n",
       "      <td>206.0</td>\n",
       "      <td>758.0</td>\n",
       "    </tr>\n",
       "    <tr>\n",
       "      <th>3125</th>\n",
       "      <td>3238</td>\n",
       "      <td>NaN</td>\n",
       "      <td>NaN</td>\n",
       "      <td>126.0</td>\n",
       "      <td>NaN</td>\n",
       "      <td>NaN</td>\n",
       "      <td>NaN</td>\n",
       "      <td>NaN</td>\n",
       "      <td>NaN</td>\n",
       "      <td>NaN</td>\n",
       "      <td>NaN</td>\n",
       "      <td>NaN</td>\n",
       "      <td>254.0</td>\n",
       "      <td>NaN</td>\n",
       "      <td>108.0</td>\n",
       "      <td>106.0</td>\n",
       "      <td>594.0</td>\n",
       "    </tr>\n",
       "    <tr>\n",
       "      <th>3126</th>\n",
       "      <td>3239</td>\n",
       "      <td>NaN</td>\n",
       "      <td>NaN</td>\n",
       "      <td>NaN</td>\n",
       "      <td>NaN</td>\n",
       "      <td>NaN</td>\n",
       "      <td>114.0</td>\n",
       "      <td>NaN</td>\n",
       "      <td>NaN</td>\n",
       "      <td>NaN</td>\n",
       "      <td>NaN</td>\n",
       "      <td>NaN</td>\n",
       "      <td>158.0</td>\n",
       "      <td>NaN</td>\n",
       "      <td>270.0</td>\n",
       "      <td>88.0</td>\n",
       "      <td>630.0</td>\n",
       "    </tr>\n",
       "    <tr>\n",
       "      <th>3127</th>\n",
       "      <td>3240</td>\n",
       "      <td>NaN</td>\n",
       "      <td>NaN</td>\n",
       "      <td>NaN</td>\n",
       "      <td>NaN</td>\n",
       "      <td>NaN</td>\n",
       "      <td>26.0</td>\n",
       "      <td>NaN</td>\n",
       "      <td>NaN</td>\n",
       "      <td>NaN</td>\n",
       "      <td>NaN</td>\n",
       "      <td>NaN</td>\n",
       "      <td>NaN</td>\n",
       "      <td>NaN</td>\n",
       "      <td>192.0</td>\n",
       "      <td>54.0</td>\n",
       "      <td>272.0</td>\n",
       "    </tr>\n",
       "    <tr>\n",
       "      <th>3128</th>\n",
       "      <td>3241</td>\n",
       "      <td>NaN</td>\n",
       "      <td>NaN</td>\n",
       "      <td>NaN</td>\n",
       "      <td>NaN</td>\n",
       "      <td>NaN</td>\n",
       "      <td>NaN</td>\n",
       "      <td>NaN</td>\n",
       "      <td>NaN</td>\n",
       "      <td>NaN</td>\n",
       "      <td>NaN</td>\n",
       "      <td>NaN</td>\n",
       "      <td>NaN</td>\n",
       "      <td>NaN</td>\n",
       "      <td>180.0</td>\n",
       "      <td>52.0</td>\n",
       "      <td>232.0</td>\n",
       "    </tr>\n",
       "  </tbody>\n",
       "</table>\n",
       "<p>3129 rows × 17 columns</p>\n",
       "</div>"
      ],
      "text/plain": [
       "       key  Bulk 1  Bulk 2  Bulk 3  Bulk 4  Bulk 5  Bulk 6  Bulk 7  Bulk 8  \\\n",
       "0        1     NaN     NaN     NaN    43.0     NaN     NaN     NaN     NaN   \n",
       "1        2     NaN     NaN     NaN    73.0     NaN     NaN     NaN     NaN   \n",
       "2        3     NaN     NaN     NaN    34.0     NaN     NaN     NaN     NaN   \n",
       "3        4     NaN     NaN     NaN    81.0     NaN     NaN     NaN     NaN   \n",
       "4        5     NaN     NaN     NaN    78.0     NaN     NaN     NaN     NaN   \n",
       "...    ...     ...     ...     ...     ...     ...     ...     ...     ...   \n",
       "3124  3237     NaN     NaN   170.0     NaN     NaN     NaN     NaN     NaN   \n",
       "3125  3238     NaN     NaN   126.0     NaN     NaN     NaN     NaN     NaN   \n",
       "3126  3239     NaN     NaN     NaN     NaN     NaN   114.0     NaN     NaN   \n",
       "3127  3240     NaN     NaN     NaN     NaN     NaN    26.0     NaN     NaN   \n",
       "3128  3241     NaN     NaN     NaN     NaN     NaN     NaN     NaN     NaN   \n",
       "\n",
       "      Bulk 9  Bulk 10  Bulk 11  Bulk 12  Bulk 13  Bulk 14  Bulk 15  bulk_sum  \n",
       "0        NaN      NaN      NaN    206.0      NaN    150.0    154.0     553.0  \n",
       "1        NaN      NaN      NaN    206.0      NaN    149.0    154.0     582.0  \n",
       "2        NaN      NaN      NaN    205.0      NaN    152.0    153.0     544.0  \n",
       "3        NaN      NaN      NaN    207.0      NaN    153.0    154.0     595.0  \n",
       "4        NaN      NaN      NaN    203.0      NaN    151.0    152.0     584.0  \n",
       "...      ...      ...      ...      ...      ...      ...      ...       ...  \n",
       "3124     NaN      NaN      NaN    252.0      NaN    130.0    206.0     758.0  \n",
       "3125     NaN      NaN      NaN    254.0      NaN    108.0    106.0     594.0  \n",
       "3126     NaN      NaN      NaN    158.0      NaN    270.0     88.0     630.0  \n",
       "3127     NaN      NaN      NaN      NaN      NaN    192.0     54.0     272.0  \n",
       "3128     NaN      NaN      NaN      NaN      NaN    180.0     52.0     232.0  \n",
       "\n",
       "[3129 rows x 17 columns]"
      ]
     },
     "execution_count": 52,
     "metadata": {},
     "output_type": "execute_result"
    }
   ],
   "source": [
    "df_bulk['bulk_sum'] = df_bulk.fillna(0).drop('key', axis=1).sum(axis=1)\n",
    "df_bulk"
   ]
  },
  {
   "cell_type": "code",
   "execution_count": 53,
   "id": "white-classroom",
   "metadata": {},
   "outputs": [
    {
     "data": {
      "text/html": [
       "<div>\n",
       "<style scoped>\n",
       "    .dataframe tbody tr th:only-of-type {\n",
       "        vertical-align: middle;\n",
       "    }\n",
       "\n",
       "    .dataframe tbody tr th {\n",
       "        vertical-align: top;\n",
       "    }\n",
       "\n",
       "    .dataframe thead th {\n",
       "        text-align: right;\n",
       "    }\n",
       "</style>\n",
       "<table border=\"1\" class=\"dataframe\">\n",
       "  <thead>\n",
       "    <tr style=\"text-align: right;\">\n",
       "      <th></th>\n",
       "      <th>key</th>\n",
       "      <th>Wire 1</th>\n",
       "      <th>Wire 2</th>\n",
       "      <th>Wire 3</th>\n",
       "      <th>Wire 4</th>\n",
       "      <th>Wire 5</th>\n",
       "      <th>Wire 6</th>\n",
       "      <th>Wire 7</th>\n",
       "      <th>Wire 8</th>\n",
       "      <th>Wire 9</th>\n",
       "      <th>sum_wire</th>\n",
       "    </tr>\n",
       "  </thead>\n",
       "  <tbody>\n",
       "    <tr>\n",
       "      <th>0</th>\n",
       "      <td>1</td>\n",
       "      <td>60.059998</td>\n",
       "      <td>NaN</td>\n",
       "      <td>NaN</td>\n",
       "      <td>NaN</td>\n",
       "      <td>NaN</td>\n",
       "      <td>NaN</td>\n",
       "      <td>NaN</td>\n",
       "      <td>NaN</td>\n",
       "      <td>NaN</td>\n",
       "      <td>60.059998</td>\n",
       "    </tr>\n",
       "    <tr>\n",
       "      <th>1</th>\n",
       "      <td>2</td>\n",
       "      <td>96.052315</td>\n",
       "      <td>NaN</td>\n",
       "      <td>NaN</td>\n",
       "      <td>NaN</td>\n",
       "      <td>NaN</td>\n",
       "      <td>NaN</td>\n",
       "      <td>NaN</td>\n",
       "      <td>NaN</td>\n",
       "      <td>NaN</td>\n",
       "      <td>96.052315</td>\n",
       "    </tr>\n",
       "    <tr>\n",
       "      <th>2</th>\n",
       "      <td>3</td>\n",
       "      <td>91.160157</td>\n",
       "      <td>NaN</td>\n",
       "      <td>NaN</td>\n",
       "      <td>NaN</td>\n",
       "      <td>NaN</td>\n",
       "      <td>NaN</td>\n",
       "      <td>NaN</td>\n",
       "      <td>NaN</td>\n",
       "      <td>NaN</td>\n",
       "      <td>91.160157</td>\n",
       "    </tr>\n",
       "    <tr>\n",
       "      <th>3</th>\n",
       "      <td>4</td>\n",
       "      <td>89.063515</td>\n",
       "      <td>NaN</td>\n",
       "      <td>NaN</td>\n",
       "      <td>NaN</td>\n",
       "      <td>NaN</td>\n",
       "      <td>NaN</td>\n",
       "      <td>NaN</td>\n",
       "      <td>NaN</td>\n",
       "      <td>NaN</td>\n",
       "      <td>89.063515</td>\n",
       "    </tr>\n",
       "    <tr>\n",
       "      <th>4</th>\n",
       "      <td>5</td>\n",
       "      <td>89.238236</td>\n",
       "      <td>9.11456</td>\n",
       "      <td>NaN</td>\n",
       "      <td>NaN</td>\n",
       "      <td>NaN</td>\n",
       "      <td>NaN</td>\n",
       "      <td>NaN</td>\n",
       "      <td>NaN</td>\n",
       "      <td>NaN</td>\n",
       "      <td>98.352796</td>\n",
       "    </tr>\n",
       "    <tr>\n",
       "      <th>...</th>\n",
       "      <td>...</td>\n",
       "      <td>...</td>\n",
       "      <td>...</td>\n",
       "      <td>...</td>\n",
       "      <td>...</td>\n",
       "      <td>...</td>\n",
       "      <td>...</td>\n",
       "      <td>...</td>\n",
       "      <td>...</td>\n",
       "      <td>...</td>\n",
       "      <td>...</td>\n",
       "    </tr>\n",
       "    <tr>\n",
       "      <th>3076</th>\n",
       "      <td>3237</td>\n",
       "      <td>38.088959</td>\n",
       "      <td>NaN</td>\n",
       "      <td>NaN</td>\n",
       "      <td>NaN</td>\n",
       "      <td>NaN</td>\n",
       "      <td>NaN</td>\n",
       "      <td>NaN</td>\n",
       "      <td>NaN</td>\n",
       "      <td>NaN</td>\n",
       "      <td>38.088959</td>\n",
       "    </tr>\n",
       "    <tr>\n",
       "      <th>3077</th>\n",
       "      <td>3238</td>\n",
       "      <td>56.128799</td>\n",
       "      <td>NaN</td>\n",
       "      <td>NaN</td>\n",
       "      <td>NaN</td>\n",
       "      <td>NaN</td>\n",
       "      <td>NaN</td>\n",
       "      <td>NaN</td>\n",
       "      <td>NaN</td>\n",
       "      <td>NaN</td>\n",
       "      <td>56.128799</td>\n",
       "    </tr>\n",
       "    <tr>\n",
       "      <th>3078</th>\n",
       "      <td>3239</td>\n",
       "      <td>143.357761</td>\n",
       "      <td>NaN</td>\n",
       "      <td>NaN</td>\n",
       "      <td>NaN</td>\n",
       "      <td>NaN</td>\n",
       "      <td>NaN</td>\n",
       "      <td>NaN</td>\n",
       "      <td>NaN</td>\n",
       "      <td>NaN</td>\n",
       "      <td>143.357761</td>\n",
       "    </tr>\n",
       "    <tr>\n",
       "      <th>3079</th>\n",
       "      <td>3240</td>\n",
       "      <td>34.070400</td>\n",
       "      <td>NaN</td>\n",
       "      <td>NaN</td>\n",
       "      <td>NaN</td>\n",
       "      <td>NaN</td>\n",
       "      <td>NaN</td>\n",
       "      <td>NaN</td>\n",
       "      <td>NaN</td>\n",
       "      <td>NaN</td>\n",
       "      <td>34.070400</td>\n",
       "    </tr>\n",
       "    <tr>\n",
       "      <th>3080</th>\n",
       "      <td>3241</td>\n",
       "      <td>63.117595</td>\n",
       "      <td>NaN</td>\n",
       "      <td>NaN</td>\n",
       "      <td>NaN</td>\n",
       "      <td>NaN</td>\n",
       "      <td>NaN</td>\n",
       "      <td>NaN</td>\n",
       "      <td>NaN</td>\n",
       "      <td>NaN</td>\n",
       "      <td>63.117595</td>\n",
       "    </tr>\n",
       "  </tbody>\n",
       "</table>\n",
       "<p>3081 rows × 11 columns</p>\n",
       "</div>"
      ],
      "text/plain": [
       "       key      Wire 1   Wire 2  Wire 3  Wire 4  Wire 5  Wire 6  Wire 7  \\\n",
       "0        1   60.059998      NaN     NaN     NaN     NaN     NaN     NaN   \n",
       "1        2   96.052315      NaN     NaN     NaN     NaN     NaN     NaN   \n",
       "2        3   91.160157      NaN     NaN     NaN     NaN     NaN     NaN   \n",
       "3        4   89.063515      NaN     NaN     NaN     NaN     NaN     NaN   \n",
       "4        5   89.238236  9.11456     NaN     NaN     NaN     NaN     NaN   \n",
       "...    ...         ...      ...     ...     ...     ...     ...     ...   \n",
       "3076  3237   38.088959      NaN     NaN     NaN     NaN     NaN     NaN   \n",
       "3077  3238   56.128799      NaN     NaN     NaN     NaN     NaN     NaN   \n",
       "3078  3239  143.357761      NaN     NaN     NaN     NaN     NaN     NaN   \n",
       "3079  3240   34.070400      NaN     NaN     NaN     NaN     NaN     NaN   \n",
       "3080  3241   63.117595      NaN     NaN     NaN     NaN     NaN     NaN   \n",
       "\n",
       "      Wire 8  Wire 9    sum_wire  \n",
       "0        NaN     NaN   60.059998  \n",
       "1        NaN     NaN   96.052315  \n",
       "2        NaN     NaN   91.160157  \n",
       "3        NaN     NaN   89.063515  \n",
       "4        NaN     NaN   98.352796  \n",
       "...      ...     ...         ...  \n",
       "3076     NaN     NaN   38.088959  \n",
       "3077     NaN     NaN   56.128799  \n",
       "3078     NaN     NaN  143.357761  \n",
       "3079     NaN     NaN   34.070400  \n",
       "3080     NaN     NaN   63.117595  \n",
       "\n",
       "[3081 rows x 11 columns]"
      ]
     },
     "execution_count": 53,
     "metadata": {},
     "output_type": "execute_result"
    }
   ],
   "source": [
    "df_wire['sum_wire'] = df_wire.fillna(0).drop('key', axis=1).sum(axis=1)\n",
    "df_wire"
   ]
  },
  {
   "cell_type": "code",
   "execution_count": 54,
   "id": "loving-plaza",
   "metadata": {},
   "outputs": [
    {
     "data": {
      "text/html": [
       "<div>\n",
       "<style scoped>\n",
       "    .dataframe tbody tr th:only-of-type {\n",
       "        vertical-align: middle;\n",
       "    }\n",
       "\n",
       "    .dataframe tbody tr th {\n",
       "        vertical-align: top;\n",
       "    }\n",
       "\n",
       "    .dataframe thead th {\n",
       "        text-align: right;\n",
       "    }\n",
       "</style>\n",
       "<table border=\"1\" class=\"dataframe\">\n",
       "  <thead>\n",
       "    <tr style=\"text-align: right;\">\n",
       "      <th></th>\n",
       "      <th>key</th>\n",
       "      <th>Газ 1</th>\n",
       "      <th>gas_sum</th>\n",
       "    </tr>\n",
       "  </thead>\n",
       "  <tbody>\n",
       "    <tr>\n",
       "      <th>0</th>\n",
       "      <td>1</td>\n",
       "      <td>29.749986</td>\n",
       "      <td>29.749986</td>\n",
       "    </tr>\n",
       "    <tr>\n",
       "      <th>1</th>\n",
       "      <td>2</td>\n",
       "      <td>12.555561</td>\n",
       "      <td>12.555561</td>\n",
       "    </tr>\n",
       "    <tr>\n",
       "      <th>2</th>\n",
       "      <td>3</td>\n",
       "      <td>28.554793</td>\n",
       "      <td>28.554793</td>\n",
       "    </tr>\n",
       "    <tr>\n",
       "      <th>3</th>\n",
       "      <td>4</td>\n",
       "      <td>18.841219</td>\n",
       "      <td>18.841219</td>\n",
       "    </tr>\n",
       "    <tr>\n",
       "      <th>4</th>\n",
       "      <td>5</td>\n",
       "      <td>5.413692</td>\n",
       "      <td>5.413692</td>\n",
       "    </tr>\n",
       "    <tr>\n",
       "      <th>...</th>\n",
       "      <td>...</td>\n",
       "      <td>...</td>\n",
       "      <td>...</td>\n",
       "    </tr>\n",
       "    <tr>\n",
       "      <th>3234</th>\n",
       "      <td>3237</td>\n",
       "      <td>5.543905</td>\n",
       "      <td>5.543905</td>\n",
       "    </tr>\n",
       "    <tr>\n",
       "      <th>3235</th>\n",
       "      <td>3238</td>\n",
       "      <td>6.745669</td>\n",
       "      <td>6.745669</td>\n",
       "    </tr>\n",
       "    <tr>\n",
       "      <th>3236</th>\n",
       "      <td>3239</td>\n",
       "      <td>16.023518</td>\n",
       "      <td>16.023518</td>\n",
       "    </tr>\n",
       "    <tr>\n",
       "      <th>3237</th>\n",
       "      <td>3240</td>\n",
       "      <td>11.863103</td>\n",
       "      <td>11.863103</td>\n",
       "    </tr>\n",
       "    <tr>\n",
       "      <th>3238</th>\n",
       "      <td>3241</td>\n",
       "      <td>12.680959</td>\n",
       "      <td>12.680959</td>\n",
       "    </tr>\n",
       "  </tbody>\n",
       "</table>\n",
       "<p>3239 rows × 3 columns</p>\n",
       "</div>"
      ],
      "text/plain": [
       "       key      Газ 1    gas_sum\n",
       "0        1  29.749986  29.749986\n",
       "1        2  12.555561  12.555561\n",
       "2        3  28.554793  28.554793\n",
       "3        4  18.841219  18.841219\n",
       "4        5   5.413692   5.413692\n",
       "...    ...        ...        ...\n",
       "3234  3237   5.543905   5.543905\n",
       "3235  3238   6.745669   6.745669\n",
       "3236  3239  16.023518  16.023518\n",
       "3237  3240  11.863103  11.863103\n",
       "3238  3241  12.680959  12.680959\n",
       "\n",
       "[3239 rows x 3 columns]"
      ]
     },
     "execution_count": 54,
     "metadata": {},
     "output_type": "execute_result"
    }
   ],
   "source": [
    "df_gas['gas_sum'] = df_gas.fillna(0).drop('key', axis=1).sum(axis=1)\n",
    "df_gas"
   ]
  },
  {
   "cell_type": "markdown",
   "id": "settled-stream",
   "metadata": {},
   "source": [
    "### Извлечение стартовой и конечной температуры"
   ]
  },
  {
   "cell_type": "code",
   "execution_count": 55,
   "id": "authorized-fraud",
   "metadata": {},
   "outputs": [],
   "source": [
    "# Выделим с помощью цикла первые и последние значения замеров температур по партиям\n",
    "\n",
    "keys = df_temp_clean['key'].unique()\n",
    "temp_start_end = pd.DataFrame(columns=['key','temp_start', 'temp_end'])\n",
    "\n",
    "i = 0\n",
    "for key in keys:\n",
    "    \n",
    "    batch = df_temp_clean.query('key == @key')\n",
    "    start = list(batch['Температура'])[0]\n",
    "    end = list(batch['Температура'])[-1]\n",
    "    \n",
    "    temp_start_end.loc[i, 'key'] = key\n",
    "    temp_start_end.loc[i, 'temp_start'] = start\n",
    "    temp_start_end.loc[i, 'temp_end'] = end\n",
    "    \n",
    "    i += 1"
   ]
  },
  {
   "cell_type": "markdown",
   "id": "afraid-planning",
   "metadata": {},
   "source": [
    "### Создание признака \"количество срабатываний электродов\""
   ]
  },
  {
   "cell_type": "code",
   "execution_count": 56,
   "id": "bizarre-mission",
   "metadata": {},
   "outputs": [],
   "source": [
    "# В качестве дополнительного признака для обучения подсчитаем число срабатываний электродов по партиям\n",
    "\n",
    "df_electrodes = df_arc.groupby('key').count()\n",
    "\n",
    "df_electrodes['electrodes_run'] = df_electrodes['Начало нагрева дугой']\n",
    "\n",
    "df_electrodes = df_electrodes['electrodes_run']"
   ]
  },
  {
   "cell_type": "markdown",
   "id": "proved-chair",
   "metadata": {},
   "source": [
    "### Объедиенение признаков в одну таблицу"
   ]
  },
  {
   "cell_type": "code",
   "execution_count": 57,
   "id": "sought-prague",
   "metadata": {},
   "outputs": [],
   "source": [
    "df_merged = temp_start_end.merge(df_power_sum, on = \"key\", how = 'outer').dropna()"
   ]
  },
  {
   "cell_type": "code",
   "execution_count": 58,
   "id": "bizarre-prospect",
   "metadata": {},
   "outputs": [],
   "source": [
    "df_merged = df_merged.merge(df_wire[['key', 'sum_wire']], on = \"key\", how = 'outer').dropna()"
   ]
  },
  {
   "cell_type": "code",
   "execution_count": 59,
   "id": "distributed-improvement",
   "metadata": {},
   "outputs": [],
   "source": [
    "df_merged = df_merged.merge(df_gas[['key', 'gas_sum']], on = \"key\", how = 'outer').dropna()"
   ]
  },
  {
   "cell_type": "code",
   "execution_count": 60,
   "id": "dutch-spencer",
   "metadata": {},
   "outputs": [],
   "source": [
    "df_merged = df_merged.merge(df_bulk[['key', 'bulk_sum']], on = \"key\", how = 'outer').dropna()"
   ]
  },
  {
   "cell_type": "code",
   "execution_count": 61,
   "id": "running-collectible",
   "metadata": {},
   "outputs": [],
   "source": [
    "df_merged = df_merged.merge(df_electrodes, on = \"key\", how = 'outer').dropna()"
   ]
  },
  {
   "cell_type": "markdown",
   "id": "global-notion",
   "metadata": {},
   "source": [
    "df_merged = df_merged.merge(df_arc_grouped, on = \"key\", how = 'outer').dropna()"
   ]
  },
  {
   "cell_type": "code",
   "execution_count": 62,
   "id": "documented-original",
   "metadata": {},
   "outputs": [],
   "source": [
    "df_merged = df_merged.merge(heating_time_min, on = \"key\", how = 'outer').dropna()"
   ]
  },
  {
   "cell_type": "code",
   "execution_count": 63,
   "id": "cellular-peace",
   "metadata": {},
   "outputs": [],
   "source": [
    "df_merged['temp_start'] = df_merged['temp_start'].astype('float')\n",
    "df_merged['temp_end'] = df_merged['temp_end'].astype('float')"
   ]
  },
  {
   "cell_type": "code",
   "execution_count": 64,
   "id": "hydraulic-communication",
   "metadata": {},
   "outputs": [
    {
     "data": {
      "text/html": [
       "<div>\n",
       "<style scoped>\n",
       "    .dataframe tbody tr th:only-of-type {\n",
       "        vertical-align: middle;\n",
       "    }\n",
       "\n",
       "    .dataframe tbody tr th {\n",
       "        vertical-align: top;\n",
       "    }\n",
       "\n",
       "    .dataframe thead th {\n",
       "        text-align: right;\n",
       "    }\n",
       "</style>\n",
       "<table border=\"1\" class=\"dataframe\">\n",
       "  <thead>\n",
       "    <tr style=\"text-align: right;\">\n",
       "      <th></th>\n",
       "      <th>key</th>\n",
       "      <th>temp_start</th>\n",
       "      <th>temp_end</th>\n",
       "      <th>power_full</th>\n",
       "      <th>sum_wire</th>\n",
       "      <th>gas_sum</th>\n",
       "      <th>bulk_sum</th>\n",
       "      <th>electrodes_run</th>\n",
       "      <th>batch_time_min</th>\n",
       "    </tr>\n",
       "  </thead>\n",
       "  <tbody>\n",
       "    <tr>\n",
       "      <th>0</th>\n",
       "      <td>1.0</td>\n",
       "      <td>1571.0</td>\n",
       "      <td>1613.0</td>\n",
       "      <td>5.826395</td>\n",
       "      <td>60.059998</td>\n",
       "      <td>29.749986</td>\n",
       "      <td>553.0</td>\n",
       "      <td>5.0</td>\n",
       "      <td>14.350000</td>\n",
       "    </tr>\n",
       "    <tr>\n",
       "      <th>1</th>\n",
       "      <td>2.0</td>\n",
       "      <td>1581.0</td>\n",
       "      <td>1602.0</td>\n",
       "      <td>3.649216</td>\n",
       "      <td>96.052315</td>\n",
       "      <td>12.555561</td>\n",
       "      <td>582.0</td>\n",
       "      <td>4.0</td>\n",
       "      <td>21.750000</td>\n",
       "    </tr>\n",
       "    <tr>\n",
       "      <th>2</th>\n",
       "      <td>3.0</td>\n",
       "      <td>1596.0</td>\n",
       "      <td>1599.0</td>\n",
       "      <td>2.989534</td>\n",
       "      <td>91.160157</td>\n",
       "      <td>28.554793</td>\n",
       "      <td>544.0</td>\n",
       "      <td>5.0</td>\n",
       "      <td>21.666667</td>\n",
       "    </tr>\n",
       "    <tr>\n",
       "      <th>3</th>\n",
       "      <td>4.0</td>\n",
       "      <td>1601.0</td>\n",
       "      <td>1625.0</td>\n",
       "      <td>3.814962</td>\n",
       "      <td>89.063515</td>\n",
       "      <td>18.841219</td>\n",
       "      <td>595.0</td>\n",
       "      <td>4.0</td>\n",
       "      <td>6.466667</td>\n",
       "    </tr>\n",
       "    <tr>\n",
       "      <th>4</th>\n",
       "      <td>5.0</td>\n",
       "      <td>1576.0</td>\n",
       "      <td>1602.0</td>\n",
       "      <td>4.035758</td>\n",
       "      <td>98.352796</td>\n",
       "      <td>5.413692</td>\n",
       "      <td>584.0</td>\n",
       "      <td>4.0</td>\n",
       "      <td>12.700000</td>\n",
       "    </tr>\n",
       "    <tr>\n",
       "      <th>...</th>\n",
       "      <td>...</td>\n",
       "      <td>...</td>\n",
       "      <td>...</td>\n",
       "      <td>...</td>\n",
       "      <td>...</td>\n",
       "      <td>...</td>\n",
       "      <td>...</td>\n",
       "      <td>...</td>\n",
       "      <td>...</td>\n",
       "    </tr>\n",
       "    <tr>\n",
       "      <th>2324</th>\n",
       "      <td>2495.0</td>\n",
       "      <td>1570.0</td>\n",
       "      <td>1591.0</td>\n",
       "      <td>3.986869</td>\n",
       "      <td>89.150879</td>\n",
       "      <td>7.125735</td>\n",
       "      <td>719.0</td>\n",
       "      <td>4.0</td>\n",
       "      <td>18.950000</td>\n",
       "    </tr>\n",
       "    <tr>\n",
       "      <th>2325</th>\n",
       "      <td>2496.0</td>\n",
       "      <td>1554.0</td>\n",
       "      <td>1591.0</td>\n",
       "      <td>5.057033</td>\n",
       "      <td>114.179527</td>\n",
       "      <td>9.412616</td>\n",
       "      <td>796.0</td>\n",
       "      <td>6.0</td>\n",
       "      <td>26.966667</td>\n",
       "    </tr>\n",
       "    <tr>\n",
       "      <th>2326</th>\n",
       "      <td>2497.0</td>\n",
       "      <td>1571.0</td>\n",
       "      <td>1589.0</td>\n",
       "      <td>2.885017</td>\n",
       "      <td>103.134723</td>\n",
       "      <td>6.271699</td>\n",
       "      <td>665.0</td>\n",
       "      <td>3.0</td>\n",
       "      <td>11.950000</td>\n",
       "    </tr>\n",
       "    <tr>\n",
       "      <th>2327</th>\n",
       "      <td>2498.0</td>\n",
       "      <td>1591.0</td>\n",
       "      <td>1594.0</td>\n",
       "      <td>4.143749</td>\n",
       "      <td>118.110717</td>\n",
       "      <td>14.953657</td>\n",
       "      <td>733.0</td>\n",
       "      <td>5.0</td>\n",
       "      <td>21.700000</td>\n",
       "    </tr>\n",
       "    <tr>\n",
       "      <th>2328</th>\n",
       "      <td>2499.0</td>\n",
       "      <td>1569.0</td>\n",
       "      <td>1603.0</td>\n",
       "      <td>4.953010</td>\n",
       "      <td>160.166238</td>\n",
       "      <td>11.336151</td>\n",
       "      <td>633.0</td>\n",
       "      <td>4.0</td>\n",
       "      <td>20.050000</td>\n",
       "    </tr>\n",
       "  </tbody>\n",
       "</table>\n",
       "<p>2329 rows × 9 columns</p>\n",
       "</div>"
      ],
      "text/plain": [
       "         key  temp_start  temp_end  power_full    sum_wire    gas_sum  \\\n",
       "0        1.0      1571.0    1613.0    5.826395   60.059998  29.749986   \n",
       "1        2.0      1581.0    1602.0    3.649216   96.052315  12.555561   \n",
       "2        3.0      1596.0    1599.0    2.989534   91.160157  28.554793   \n",
       "3        4.0      1601.0    1625.0    3.814962   89.063515  18.841219   \n",
       "4        5.0      1576.0    1602.0    4.035758   98.352796   5.413692   \n",
       "...      ...         ...       ...         ...         ...        ...   \n",
       "2324  2495.0      1570.0    1591.0    3.986869   89.150879   7.125735   \n",
       "2325  2496.0      1554.0    1591.0    5.057033  114.179527   9.412616   \n",
       "2326  2497.0      1571.0    1589.0    2.885017  103.134723   6.271699   \n",
       "2327  2498.0      1591.0    1594.0    4.143749  118.110717  14.953657   \n",
       "2328  2499.0      1569.0    1603.0    4.953010  160.166238  11.336151   \n",
       "\n",
       "      bulk_sum  electrodes_run  batch_time_min  \n",
       "0        553.0             5.0       14.350000  \n",
       "1        582.0             4.0       21.750000  \n",
       "2        544.0             5.0       21.666667  \n",
       "3        595.0             4.0        6.466667  \n",
       "4        584.0             4.0       12.700000  \n",
       "...        ...             ...             ...  \n",
       "2324     719.0             4.0       18.950000  \n",
       "2325     796.0             6.0       26.966667  \n",
       "2326     665.0             3.0       11.950000  \n",
       "2327     733.0             5.0       21.700000  \n",
       "2328     633.0             4.0       20.050000  \n",
       "\n",
       "[2329 rows x 9 columns]"
      ]
     },
     "execution_count": 64,
     "metadata": {},
     "output_type": "execute_result"
    }
   ],
   "source": [
    "df_merged"
   ]
  },
  {
   "cell_type": "markdown",
   "id": "steady-small",
   "metadata": {},
   "source": [
    "Итого, после всех обработок мы получили 2329 строк для исследования. Потеряли около 25%. Но могло быть и хуже."
   ]
  },
  {
   "cell_type": "code",
   "execution_count": 65,
   "id": "motivated-female",
   "metadata": {},
   "outputs": [
    {
     "data": {
      "text/plain": [
       "<AxesSubplot:>"
      ]
     },
     "execution_count": 65,
     "metadata": {},
     "output_type": "execute_result"
    },
    {
     "data": {
      "image/png": "[encoded data removed]",
      "text/plain": [
       "<Figure size 864x864 with 2 Axes>"
      ]
     },
     "metadata": {},
     "output_type": "display_data"
    }
   ],
   "source": [
    "# Проверим корреляцию между имеющимися фичами\n",
    "\n",
    "plt.figure(figsize=(12,12))\n",
    "sns.heatmap(df_merged.corr(), center=0, annot=True,\n",
    "            square=True, linewidths=.5, cbar_kws={\"shrink\": .5})"
   ]
  },
  {
   "cell_type": "markdown",
   "id": "general-enough",
   "metadata": {},
   "source": [
    "Сильная корреляция наблюдается между признаками power_full (полная мощность) и electrodes_run (количество срабатываний электродов). Посмотрим на поведение моделей. Ранее использовался также признак \"время работы дуги\", но он имел слишком высокий коэффициент корреляции с полной мощностью, в связи с чем было принято решение его не использовать."
   ]
  },
  {
   "cell_type": "markdown",
   "id": "comparable-quest",
   "metadata": {},
   "source": [
    "### Разбиение датасета на обучающую и тестовую выборки"
   ]
  },
  {
   "cell_type": "code",
   "execution_count": 66,
   "id": "beginning-breach",
   "metadata": {},
   "outputs": [],
   "source": [
    "df_train, df_test = train_test_split(df_merged, random_state =1234, test_size = 0.25)"
   ]
  },
  {
   "cell_type": "code",
   "execution_count": 67,
   "id": "posted-intensity",
   "metadata": {},
   "outputs": [
    {
     "data": {
      "text/plain": [
       "(1746, 9)"
      ]
     },
     "execution_count": 67,
     "metadata": {},
     "output_type": "execute_result"
    }
   ],
   "source": [
    "df_train.shape"
   ]
  },
  {
   "cell_type": "code",
   "execution_count": 68,
   "id": "moving-drama",
   "metadata": {},
   "outputs": [
    {
     "data": {
      "text/plain": [
       "(583, 9)"
      ]
     },
     "execution_count": 68,
     "metadata": {},
     "output_type": "execute_result"
    }
   ],
   "source": [
    "df_test.shape"
   ]
  },
  {
   "cell_type": "code",
   "execution_count": 69,
   "id": "tamil-native",
   "metadata": {},
   "outputs": [
    {
     "data": {
      "text/html": [
       "<div>\n",
       "<style scoped>\n",
       "    .dataframe tbody tr th:only-of-type {\n",
       "        vertical-align: middle;\n",
       "    }\n",
       "\n",
       "    .dataframe tbody tr th {\n",
       "        vertical-align: top;\n",
       "    }\n",
       "\n",
       "    .dataframe thead th {\n",
       "        text-align: right;\n",
       "    }\n",
       "</style>\n",
       "<table border=\"1\" class=\"dataframe\">\n",
       "  <thead>\n",
       "    <tr style=\"text-align: right;\">\n",
       "      <th></th>\n",
       "      <th>key</th>\n",
       "      <th>temp_start</th>\n",
       "      <th>power_full</th>\n",
       "      <th>sum_wire</th>\n",
       "      <th>gas_sum</th>\n",
       "      <th>bulk_sum</th>\n",
       "      <th>electrodes_run</th>\n",
       "      <th>batch_time_min</th>\n",
       "    </tr>\n",
       "  </thead>\n",
       "  <tbody>\n",
       "    <tr>\n",
       "      <th>1858</th>\n",
       "      <td>1987.0</td>\n",
       "      <td>1574.0</td>\n",
       "      <td>1.438105</td>\n",
       "      <td>98.061600</td>\n",
       "      <td>3.055575</td>\n",
       "      <td>92.0</td>\n",
       "      <td>2.0</td>\n",
       "      <td>5.850000</td>\n",
       "    </tr>\n",
       "    <tr>\n",
       "      <th>769</th>\n",
       "      <td>836.0</td>\n",
       "      <td>1587.0</td>\n",
       "      <td>2.279040</td>\n",
       "      <td>89.013596</td>\n",
       "      <td>12.147076</td>\n",
       "      <td>451.0</td>\n",
       "      <td>3.0</td>\n",
       "      <td>28.183333</td>\n",
       "    </tr>\n",
       "    <tr>\n",
       "      <th>1320</th>\n",
       "      <td>1417.0</td>\n",
       "      <td>1559.0</td>\n",
       "      <td>4.501239</td>\n",
       "      <td>148.209358</td>\n",
       "      <td>8.855217</td>\n",
       "      <td>987.0</td>\n",
       "      <td>4.0</td>\n",
       "      <td>12.633333</td>\n",
       "    </tr>\n",
       "    <tr>\n",
       "      <th>1931</th>\n",
       "      <td>2065.0</td>\n",
       "      <td>1612.0</td>\n",
       "      <td>3.490722</td>\n",
       "      <td>140.081757</td>\n",
       "      <td>8.709560</td>\n",
       "      <td>744.0</td>\n",
       "      <td>5.0</td>\n",
       "      <td>33.333333</td>\n",
       "    </tr>\n",
       "    <tr>\n",
       "      <th>580</th>\n",
       "      <td>628.0</td>\n",
       "      <td>1585.0</td>\n",
       "      <td>5.616946</td>\n",
       "      <td>157.308320</td>\n",
       "      <td>15.969264</td>\n",
       "      <td>741.0</td>\n",
       "      <td>4.0</td>\n",
       "      <td>32.583333</td>\n",
       "    </tr>\n",
       "  </tbody>\n",
       "</table>\n",
       "</div>"
      ],
      "text/plain": [
       "         key  temp_start  power_full    sum_wire    gas_sum  bulk_sum  \\\n",
       "1858  1987.0      1574.0    1.438105   98.061600   3.055575      92.0   \n",
       "769    836.0      1587.0    2.279040   89.013596  12.147076     451.0   \n",
       "1320  1417.0      1559.0    4.501239  148.209358   8.855217     987.0   \n",
       "1931  2065.0      1612.0    3.490722  140.081757   8.709560     744.0   \n",
       "580    628.0      1585.0    5.616946  157.308320  15.969264     741.0   \n",
       "\n",
       "      electrodes_run  batch_time_min  \n",
       "1858             2.0        5.850000  \n",
       "769              3.0       28.183333  \n",
       "1320             4.0       12.633333  \n",
       "1931             5.0       33.333333  \n",
       "580              4.0       32.583333  "
      ]
     },
     "execution_count": 69,
     "metadata": {},
     "output_type": "execute_result"
    }
   ],
   "source": [
    "df_train_features = df_train.drop('temp_end', axis=1)\n",
    "df_train_features.head()"
   ]
  },
  {
   "cell_type": "code",
   "execution_count": 70,
   "id": "sufficient-suffering",
   "metadata": {},
   "outputs": [
    {
     "data": {
      "text/plain": [
       "<AxesSubplot:>"
      ]
     },
     "execution_count": 70,
     "metadata": {},
     "output_type": "execute_result"
    },
    {
     "data": {
      "image/png": "[encoded data removed]",
      "text/plain": [
       "<Figure size 432x288 with 1 Axes>"
      ]
     },
     "metadata": {},
     "output_type": "display_data"
    }
   ],
   "source": [
    "df_train_target = df_train['temp_end']\n",
    "df_train_target.hist()"
   ]
  },
  {
   "cell_type": "code",
   "execution_count": 71,
   "id": "expressed-moses",
   "metadata": {},
   "outputs": [
    {
     "data": {
      "text/plain": [
       "<AxesSubplot:>"
      ]
     },
     "execution_count": 71,
     "metadata": {},
     "output_type": "execute_result"
    },
    {
     "data": {
      "image/png": "[encoded data removed]",
      "text/plain": [
       "<Figure size 432x288 with 1 Axes>"
      ]
     },
     "metadata": {},
     "output_type": "display_data"
    }
   ],
   "source": [
    "df_test_features = df_test.drop('temp_end', axis=1)\n",
    "df_test_target = df_test['temp_end']\n",
    "df_test_target.hist()"
   ]
  },
  {
   "cell_type": "code",
   "execution_count": 72,
   "id": "incomplete-chase",
   "metadata": {},
   "outputs": [
    {
     "data": {
      "text/plain": [
       "KstestResult(statistic=0.06246279169834898, pvalue=0.06263645393883532)"
      ]
     },
     "execution_count": 72,
     "metadata": {},
     "output_type": "execute_result"
    }
   ],
   "source": [
    "# Проверка схожести распределений тренировочной и тестовой выборки с помощью критерия Колмогорова-Смирнова. \n",
    "# Данный тест ставит нулевую гипотезу о равенстве двух распределений.\n",
    "# Выберем статистическую значимость P_value на уровне 0,05\n",
    "\n",
    "from scipy.stats import ks_2samp\n",
    "ks_2samp(df_train_target, df_test_target)"
   ]
  },
  {
   "cell_type": "markdown",
   "id": "dependent-blast",
   "metadata": {},
   "source": [
    "pvalue=0.06263645393883532 - выше установленного нами значения. Значит, мы не можем отвергнуть гипотезу о равенстве распределений тестовой и тренировочной выборок. Можно работать дальше."
   ]
  },
  {
   "cell_type": "markdown",
   "id": "neural-string",
   "metadata": {},
   "source": [
    "## Вывод по разделу"
   ]
  },
  {
   "cell_type": "markdown",
   "id": "gentle-david",
   "metadata": {},
   "source": [
    "Итак, в данном разделе были осуществлены следующие действия:\n",
    "    \n",
    "- выявление и удаление из датасета информации о партиях, в отношении которых было произведено только одно измерение температуры;\n",
    "- удаление значений ниже 1500 градусов в датасете df_temp;\n",
    "- замена выброса в реактивной мощности на среднее значение по партии;\n",
    "- формирование 9 обучающих признаков и объединение их в одну таблицу;\n",
    "- разбиение датасета на обучающую и тестовую выборку, отделение целевого признака, проверка \"законности\" разбиения сравнением их распределения критерием Колмогорова-Смирнова;\n",
    "- оценка корреляции признаков между собой."
   ]
  },
  {
   "cell_type": "markdown",
   "id": "conceptual-productivity",
   "metadata": {},
   "source": [
    "# Подбор гиперпараметров моделей и их обучение"
   ]
  },
  {
   "cell_type": "markdown",
   "id": "present-tissue",
   "metadata": {},
   "source": [
    "## Создание функций для автоматизации процесса и уменьшения кода"
   ]
  },
  {
   "cell_type": "code",
   "execution_count": 73,
   "id": "artificial-quest",
   "metadata": {},
   "outputs": [],
   "source": [
    "# Функция для поиска оптимальных гиперпараметров модели\n",
    "\n",
    "def grid_search(model, parameters, features, target):\n",
    "      \n",
    "    g_search = GridSearchCV(model, parameters, cv=5, scoring='neg_mean_absolute_error', n_jobs=-1, verbose=1)\n",
    "    g_search.fit(features, target)\n",
    "    print(g_search.best_score_)\n",
    "    print(g_search.best_params_)\n",
    "    return g_search.best_params_"
   ]
  },
  {
   "cell_type": "code",
   "execution_count": 74,
   "id": "powerful-translator",
   "metadata": {},
   "outputs": [],
   "source": [
    "# Функция для кросс-валидации\n",
    "\n",
    "def cross_val(model, features, target):\n",
    "    \n",
    "    metric_score = cross_val_score(model, features, target, cv=5, scoring='neg_mean_absolute_error')\n",
    "    \n",
    "    print('Результаты метрики при CV:', metric_score)\n",
    "    print('Среднее значение метрики при CV:', abs(metric_score.mean()))\n",
    "    return abs(metric_score)"
   ]
  },
  {
   "cell_type": "code",
   "execution_count": 75,
   "id": "successful-reflection",
   "metadata": {},
   "outputs": [],
   "source": [
    "# Функция для расчета MAE на тренировочной выборке\n",
    "\n",
    "def mae_train(model, features_train, target_train): \n",
    "    \n",
    "    mae_train = mean_absolute_error(target_train, model.predict(features_train)) \n",
    "    print('MAE модели на тренировочной выборке:', mae_train)\n",
    "    return abs(mae_train)"
   ]
  },
  {
   "cell_type": "code",
   "execution_count": 76,
   "id": "ranking-sensitivity",
   "metadata": {},
   "outputs": [],
   "source": [
    "# Функция для расчета MAE на тестовой выборке\n",
    "\n",
    "def mae_test(model, features_test, target_test):\n",
    "    \n",
    "    mae_test = mean_absolute_error(target_test, model.predict(features_test))\n",
    "    print('MAE модели на тестовой выборке:', mae_test)\n",
    "    return mae_test"
   ]
  },
  {
   "cell_type": "markdown",
   "id": "second-fruit",
   "metadata": {},
   "source": [
    "## Проверка на дамми-модели (на адекватность)"
   ]
  },
  {
   "cell_type": "code",
   "execution_count": 77,
   "id": "worthy-reputation",
   "metadata": {},
   "outputs": [
    {
     "name": "stdout",
     "output_type": "stream",
     "text": [
      "MAE модели на тренировочной выборке: 8.315411170549863\n"
     ]
    }
   ],
   "source": [
    "# Для начала проверим значение метрики на тренировочных данных для дамми-модели, которая предсказывает средним значением\n",
    "\n",
    "dummy = DummyRegressor(strategy=\"mean\")\n",
    "dummy.fit(df_train_features, df_train_target)\n",
    "\n",
    "mae_train_dummy = mae_train(dummy, df_train_features, df_train_target)"
   ]
  },
  {
   "cell_type": "code",
   "execution_count": 78,
   "id": "waiting-karma",
   "metadata": {},
   "outputs": [
    {
     "name": "stdout",
     "output_type": "stream",
     "text": [
      "Результаты метрики при CV: [-8.07554237 -8.65395762 -7.77029984 -8.90524107 -8.22927764]\n",
      "Среднее значение метрики при CV: 8.3268637080042\n"
     ]
    }
   ],
   "source": [
    "CV_train_dummy = cross_val(dummy, df_train_features, df_train_target).mean()"
   ]
  },
  {
   "cell_type": "markdown",
   "id": "colored-effects",
   "metadata": {},
   "source": [
    "## Линейная регрессия"
   ]
  },
  {
   "cell_type": "code",
   "execution_count": 79,
   "id": "listed-arrest",
   "metadata": {},
   "outputs": [
    {
     "data": {
      "text/plain": [
       "LinearRegression()"
      ]
     },
     "execution_count": 79,
     "metadata": {},
     "output_type": "execute_result"
    }
   ],
   "source": [
    "# Далее переходим к линейной регрессии\n",
    "\n",
    "linear_regression = LinearRegression()\n",
    "linear_regression.fit(df_train_features, df_train_target)"
   ]
  },
  {
   "cell_type": "code",
   "execution_count": 80,
   "id": "tribal-swimming",
   "metadata": {},
   "outputs": [
    {
     "name": "stdout",
     "output_type": "stream",
     "text": [
      "Результаты метрики при CV: [-5.89495383 -5.91633962 -6.34101906 -6.7615721  -6.3991134 ]\n",
      "Среднее значение метрики при CV: 6.262599601318838\n"
     ]
    }
   ],
   "source": [
    "# Здесь уже можно проводить кросс-валидацию\n",
    "\n",
    "CV_train_LR = cross_val(linear_regression, df_train_features, df_train_target).mean()"
   ]
  },
  {
   "cell_type": "code",
   "execution_count": 81,
   "id": "fifteen-whale",
   "metadata": {},
   "outputs": [
    {
     "name": "stdout",
     "output_type": "stream",
     "text": [
      "MAE модели на тренировочной выборке: 6.184777624267106\n"
     ]
    }
   ],
   "source": [
    "# Применяем функцию для расчета MAE\n",
    "\n",
    "mae_train_LR = mae_train(linear_regression, df_train_features, df_train_target)"
   ]
  },
  {
   "cell_type": "code",
   "execution_count": 82,
   "id": "careful-childhood",
   "metadata": {},
   "outputs": [
    {
     "data": {
      "text/html": [
       "<div>\n",
       "<style scoped>\n",
       "    .dataframe tbody tr th:only-of-type {\n",
       "        vertical-align: middle;\n",
       "    }\n",
       "\n",
       "    .dataframe tbody tr th {\n",
       "        vertical-align: top;\n",
       "    }\n",
       "\n",
       "    .dataframe thead th {\n",
       "        text-align: right;\n",
       "    }\n",
       "</style>\n",
       "<table border=\"1\" class=\"dataframe\">\n",
       "  <thead>\n",
       "    <tr style=\"text-align: right;\">\n",
       "      <th></th>\n",
       "      <th>feature</th>\n",
       "      <th>importance</th>\n",
       "    </tr>\n",
       "  </thead>\n",
       "  <tbody>\n",
       "    <tr>\n",
       "      <th>2</th>\n",
       "      <td>power_full</td>\n",
       "      <td>7.224403</td>\n",
       "    </tr>\n",
       "    <tr>\n",
       "      <th>1</th>\n",
       "      <td>temp_start</td>\n",
       "      <td>0.423754</td>\n",
       "    </tr>\n",
       "    <tr>\n",
       "      <th>3</th>\n",
       "      <td>sum_wire</td>\n",
       "      <td>0.003898</td>\n",
       "    </tr>\n",
       "    <tr>\n",
       "      <th>0</th>\n",
       "      <td>key</td>\n",
       "      <td>-0.001313</td>\n",
       "    </tr>\n",
       "    <tr>\n",
       "      <th>5</th>\n",
       "      <td>bulk_sum</td>\n",
       "      <td>-0.001409</td>\n",
       "    </tr>\n",
       "    <tr>\n",
       "      <th>4</th>\n",
       "      <td>gas_sum</td>\n",
       "      <td>-0.105421</td>\n",
       "    </tr>\n",
       "    <tr>\n",
       "      <th>7</th>\n",
       "      <td>batch_time_min</td>\n",
       "      <td>-0.310090</td>\n",
       "    </tr>\n",
       "    <tr>\n",
       "      <th>6</th>\n",
       "      <td>electrodes_run</td>\n",
       "      <td>-1.043498</td>\n",
       "    </tr>\n",
       "  </tbody>\n",
       "</table>\n",
       "</div>"
      ],
      "text/plain": [
       "          feature  importance\n",
       "2      power_full    7.224403\n",
       "1      temp_start    0.423754\n",
       "3        sum_wire    0.003898\n",
       "0             key   -0.001313\n",
       "5        bulk_sum   -0.001409\n",
       "4         gas_sum   -0.105421\n",
       "7  batch_time_min   -0.310090\n",
       "6  electrodes_run   -1.043498"
      ]
     },
     "execution_count": 82,
     "metadata": {},
     "output_type": "execute_result"
    }
   ],
   "source": [
    "# Оценим значимость признаков для модели\n",
    "\n",
    "LR_features_inportance = pd.DataFrame(data = [], columns=['feature', 'importance'])\n",
    "LR_features_inportance['feature'] = pd.Series(df_train_features.columns)\n",
    "LR_features_inportance['importance'] = pd.Series(linear_regression.coef_)\n",
    "LR_features_inportance.sort_values(by='importance', ascending=False)"
   ]
  },
  {
   "cell_type": "code",
   "execution_count": 83,
   "id": "multiple-permission",
   "metadata": {},
   "outputs": [
    {
     "data": {
      "text/plain": [
       "<AxesSubplot:xlabel='feature', ylabel='importance'>"
      ]
     },
     "execution_count": 83,
     "metadata": {},
     "output_type": "execute_result"
    },
    {
     "data": {
      "image/png": "[encoded data removed]",
      "text/plain": [
       "<Figure size 1080x576 with 1 Axes>"
      ]
     },
     "metadata": {},
     "output_type": "display_data"
    }
   ],
   "source": [
    "# Результат также выведем на гистограмме\n",
    "\n",
    "plt.figure(figsize=(15,8))\n",
    "sns.set_context(\"paper\", font_scale=1.5)   \n",
    "sns.barplot(data=LR_features_inportance.sort_values(by='importance', ascending=False), x=\"feature\", y=\"importance\")"
   ]
  },
  {
   "cell_type": "markdown",
   "id": "missing-impact",
   "metadata": {},
   "source": [
    "## Случайный лес"
   ]
  },
  {
   "cell_type": "code",
   "execution_count": 84,
   "id": "accomplished-monte",
   "metadata": {},
   "outputs": [
    {
     "name": "stdout",
     "output_type": "stream",
     "text": [
      "Fitting 5 folds for each of 20 candidates, totalling 100 fits\n",
      "-6.4155346573884575\n",
      "{'criterion': 'mae', 'max_depth': 9, 'n_estimators': 500}\n"
     ]
    }
   ],
   "source": [
    "# Переходим к ансамблевой модели случайного леса\n",
    "\n",
    "model_forest = RandomForestRegressor(random_state=1234, n_jobs=-1)\n",
    "\n",
    "model_forest_params = dict(n_estimators=[100,200,300,400,500],\n",
    "                  max_depth=[3,5,7,9],\n",
    "                  criterion=['mae'])\n",
    "\n",
    "params_best_RF = grid_search(model_forest, model_forest_params, df_train_features, df_train_target)"
   ]
  },
  {
   "cell_type": "code",
   "execution_count": 85,
   "id": "unauthorized-vitamin",
   "metadata": {},
   "outputs": [],
   "source": [
    "# Формируем модель с подобранными гиперпараметрами\n",
    "\n",
    "model_forest = RandomForestRegressor(n_estimators=params_best_RF['n_estimators'], \n",
    "                                     max_depth=params_best_RF['max_depth'], \n",
    "                                     criterion='mae', \n",
    "                                     random_state=1234, \n",
    "                                     n_jobs=-1)"
   ]
  },
  {
   "cell_type": "code",
   "execution_count": 86,
   "id": "viral-thumbnail",
   "metadata": {},
   "outputs": [
    {
     "data": {
      "text/plain": [
       "RandomForestRegressor(criterion='mae', max_depth=9, n_estimators=500, n_jobs=-1,\n",
       "                      random_state=1234)"
      ]
     },
     "execution_count": 86,
     "metadata": {},
     "output_type": "execute_result"
    }
   ],
   "source": [
    "# Обучаем случайный лес на тренировочных данных\n",
    "\n",
    "model_forest.fit(df_train_features, df_train_target)"
   ]
  },
  {
   "cell_type": "code",
   "execution_count": 87,
   "id": "burning-violation",
   "metadata": {},
   "outputs": [
    {
     "name": "stdout",
     "output_type": "stream",
     "text": [
      "Результаты метрики при CV: [-6.17802286 -6.46942407 -6.25875931 -6.98078797 -6.19067908]\n",
      "Среднее значение метрики при CV: 6.4155346573884575\n"
     ]
    }
   ],
   "source": [
    "# Проводим кросс-валидацию\n",
    "\n",
    "CV_train_RF = cross_val(model_forest, df_train_features, df_train_target).mean()"
   ]
  },
  {
   "cell_type": "code",
   "execution_count": 88,
   "id": "scenic-smooth",
   "metadata": {},
   "outputs": [
    {
     "name": "stdout",
     "output_type": "stream",
     "text": [
      "MAE модели на тренировочной выборке: 4.40973424971363\n"
     ]
    }
   ],
   "source": [
    "# Применяем функцию для расчета MAE\n",
    "\n",
    "mae_train_RF = mae_train(model_forest, df_train_features, df_train_target)"
   ]
  },
  {
   "cell_type": "code",
   "execution_count": 89,
   "id": "large-replica",
   "metadata": {},
   "outputs": [
    {
     "data": {
      "text/html": [
       "<div>\n",
       "<style scoped>\n",
       "    .dataframe tbody tr th:only-of-type {\n",
       "        vertical-align: middle;\n",
       "    }\n",
       "\n",
       "    .dataframe tbody tr th {\n",
       "        vertical-align: top;\n",
       "    }\n",
       "\n",
       "    .dataframe thead th {\n",
       "        text-align: right;\n",
       "    }\n",
       "</style>\n",
       "<table border=\"1\" class=\"dataframe\">\n",
       "  <thead>\n",
       "    <tr style=\"text-align: right;\">\n",
       "      <th></th>\n",
       "      <th>feature</th>\n",
       "      <th>importance</th>\n",
       "    </tr>\n",
       "  </thead>\n",
       "  <tbody>\n",
       "    <tr>\n",
       "      <th>1</th>\n",
       "      <td>temp_start</td>\n",
       "      <td>0.253514</td>\n",
       "    </tr>\n",
       "    <tr>\n",
       "      <th>2</th>\n",
       "      <td>power_full</td>\n",
       "      <td>0.242273</td>\n",
       "    </tr>\n",
       "    <tr>\n",
       "      <th>7</th>\n",
       "      <td>batch_time_min</td>\n",
       "      <td>0.128445</td>\n",
       "    </tr>\n",
       "    <tr>\n",
       "      <th>3</th>\n",
       "      <td>sum_wire</td>\n",
       "      <td>0.098418</td>\n",
       "    </tr>\n",
       "    <tr>\n",
       "      <th>5</th>\n",
       "      <td>bulk_sum</td>\n",
       "      <td>0.088495</td>\n",
       "    </tr>\n",
       "    <tr>\n",
       "      <th>4</th>\n",
       "      <td>gas_sum</td>\n",
       "      <td>0.083242</td>\n",
       "    </tr>\n",
       "    <tr>\n",
       "      <th>0</th>\n",
       "      <td>key</td>\n",
       "      <td>0.081188</td>\n",
       "    </tr>\n",
       "    <tr>\n",
       "      <th>6</th>\n",
       "      <td>electrodes_run</td>\n",
       "      <td>0.024425</td>\n",
       "    </tr>\n",
       "  </tbody>\n",
       "</table>\n",
       "</div>"
      ],
      "text/plain": [
       "          feature  importance\n",
       "1      temp_start    0.253514\n",
       "2      power_full    0.242273\n",
       "7  batch_time_min    0.128445\n",
       "3        sum_wire    0.098418\n",
       "5        bulk_sum    0.088495\n",
       "4         gas_sum    0.083242\n",
       "0             key    0.081188\n",
       "6  electrodes_run    0.024425"
      ]
     },
     "execution_count": 89,
     "metadata": {},
     "output_type": "execute_result"
    }
   ],
   "source": [
    "# Оценим значимость признаков для модели и выведем список по убыванию\n",
    "\n",
    "RF_features_inportance = pd.DataFrame(data = [], columns=['feature', 'importance'])\n",
    "RF_features_inportance['feature'] = pd.Series(df_train_features.columns)\n",
    "RF_features_inportance['importance'] = pd.Series(model_forest.feature_importances_)\n",
    "RF_features_inportance.sort_values(by='importance', ascending=False)"
   ]
  },
  {
   "cell_type": "code",
   "execution_count": 90,
   "id": "young-highway",
   "metadata": {},
   "outputs": [
    {
     "data": {
      "text/plain": [
       "<AxesSubplot:xlabel='feature', ylabel='importance'>"
      ]
     },
     "execution_count": 90,
     "metadata": {},
     "output_type": "execute_result"
    },
    {
     "data": {
      "image/png": "[encoded data removed]",
      "text/plain": [
       "<Figure size 1080x576 with 1 Axes>"
      ]
     },
     "metadata": {},
     "output_type": "display_data"
    }
   ],
   "source": [
    "# Результат также выведем на гистограмме\n",
    "\n",
    "plt.figure(figsize=(15,8))\n",
    "sns.set_context(\"paper\", font_scale=1.5)   \n",
    "sns.barplot(data=RF_features_inportance.sort_values(by='importance', ascending=False), x=\"feature\", y=\"importance\")"
   ]
  },
  {
   "cell_type": "markdown",
   "id": "valid-figure",
   "metadata": {},
   "source": [
    "## Градиентный бустинг"
   ]
  },
  {
   "cell_type": "code",
   "execution_count": 91,
   "id": "organizational-transcript",
   "metadata": {},
   "outputs": [],
   "source": [
    "\n",
    "\n",
    "model_GBR = GradientBoostingRegressor(random_state=1234, learning_rate=0.02)\n",
    "\n",
    "GBR_params = dict(n_estimators=[100,300,500,600,700,800,900,1000],\n",
    "                   max_depth=[4,5,6,7,8,9,10],\n",
    "                    subsample=[0.9, 0.8, 0.7, 0.6])"
   ]
  },
  {
   "cell_type": "code",
   "execution_count": 92,
   "id": "arabic-elite",
   "metadata": {},
   "outputs": [
    {
     "name": "stdout",
     "output_type": "stream",
     "text": [
      "Fitting 5 folds for each of 224 candidates, totalling 1120 fits\n",
      "-6.039136941649604\n",
      "{'max_depth': 4, 'n_estimators': 1000, 'subsample': 0.6}\n"
     ]
    }
   ],
   "source": [
    "params_best_GBR = grid_search(model_GBR, GBR_params, df_train_features, df_train_target)"
   ]
  },
  {
   "cell_type": "code",
   "execution_count": 93,
   "id": "interstate-current",
   "metadata": {},
   "outputs": [],
   "source": [
    "model_GBR = GradientBoostingRegressor(n_estimators=params_best_GBR['n_estimators'], \n",
    "                                      learning_rate=0.02, \n",
    "                                      max_depth=params_best_GBR['max_depth'], \n",
    "                                      subsample=params_best_GBR['subsample'], \n",
    "                                      random_state=1234)"
   ]
  },
  {
   "cell_type": "code",
   "execution_count": 94,
   "id": "tropical-slovenia",
   "metadata": {},
   "outputs": [
    {
     "name": "stdout",
     "output_type": "stream",
     "text": [
      "Wall time: 2.08 s\n"
     ]
    },
    {
     "data": {
      "text/plain": [
       "GradientBoostingRegressor(learning_rate=0.02, max_depth=4, n_estimators=1000,\n",
       "                          random_state=1234, subsample=0.6)"
      ]
     },
     "execution_count": 94,
     "metadata": {},
     "output_type": "execute_result"
    }
   ],
   "source": [
    "%%time\n",
    "model_GBR.fit(df_train_features, df_train_target)"
   ]
  },
  {
   "cell_type": "code",
   "execution_count": 95,
   "id": "rapid-commons",
   "metadata": {},
   "outputs": [
    {
     "name": "stdout",
     "output_type": "stream",
     "text": [
      "Результаты метрики при CV: [-5.79604862 -6.02472963 -5.83457908 -6.48235172 -6.05797566]\n",
      "Среднее значение метрики при CV: 6.039136941649604\n"
     ]
    }
   ],
   "source": [
    "CV_train_GBR = cross_val(model_GBR, df_train_features, df_train_target).mean()"
   ]
  },
  {
   "cell_type": "code",
   "execution_count": 96,
   "id": "looking-baseline",
   "metadata": {},
   "outputs": [
    {
     "name": "stdout",
     "output_type": "stream",
     "text": [
      "MAE модели на тренировочной выборке: 3.1938798883688904\n",
      "Wall time: 27 ms\n"
     ]
    }
   ],
   "source": [
    "%%time\n",
    "mae_train_GBR = mae_train(model_GBR, df_train_features, df_train_target)"
   ]
  },
  {
   "cell_type": "code",
   "execution_count": 97,
   "id": "polyphonic-specific",
   "metadata": {},
   "outputs": [
    {
     "data": {
      "text/html": [
       "<div>\n",
       "<style scoped>\n",
       "    .dataframe tbody tr th:only-of-type {\n",
       "        vertical-align: middle;\n",
       "    }\n",
       "\n",
       "    .dataframe tbody tr th {\n",
       "        vertical-align: top;\n",
       "    }\n",
       "\n",
       "    .dataframe thead th {\n",
       "        text-align: right;\n",
       "    }\n",
       "</style>\n",
       "<table border=\"1\" class=\"dataframe\">\n",
       "  <thead>\n",
       "    <tr style=\"text-align: right;\">\n",
       "      <th></th>\n",
       "      <th>feature</th>\n",
       "      <th>importance</th>\n",
       "    </tr>\n",
       "  </thead>\n",
       "  <tbody>\n",
       "    <tr>\n",
       "      <th>2</th>\n",
       "      <td>power_full</td>\n",
       "      <td>0.262096</td>\n",
       "    </tr>\n",
       "    <tr>\n",
       "      <th>1</th>\n",
       "      <td>temp_start</td>\n",
       "      <td>0.249451</td>\n",
       "    </tr>\n",
       "    <tr>\n",
       "      <th>7</th>\n",
       "      <td>batch_time_min</td>\n",
       "      <td>0.159963</td>\n",
       "    </tr>\n",
       "    <tr>\n",
       "      <th>0</th>\n",
       "      <td>key</td>\n",
       "      <td>0.086789</td>\n",
       "    </tr>\n",
       "    <tr>\n",
       "      <th>3</th>\n",
       "      <td>sum_wire</td>\n",
       "      <td>0.079925</td>\n",
       "    </tr>\n",
       "    <tr>\n",
       "      <th>5</th>\n",
       "      <td>bulk_sum</td>\n",
       "      <td>0.075394</td>\n",
       "    </tr>\n",
       "    <tr>\n",
       "      <th>4</th>\n",
       "      <td>gas_sum</td>\n",
       "      <td>0.063475</td>\n",
       "    </tr>\n",
       "    <tr>\n",
       "      <th>6</th>\n",
       "      <td>electrodes_run</td>\n",
       "      <td>0.022907</td>\n",
       "    </tr>\n",
       "  </tbody>\n",
       "</table>\n",
       "</div>"
      ],
      "text/plain": [
       "          feature  importance\n",
       "2      power_full    0.262096\n",
       "1      temp_start    0.249451\n",
       "7  batch_time_min    0.159963\n",
       "0             key    0.086789\n",
       "3        sum_wire    0.079925\n",
       "5        bulk_sum    0.075394\n",
       "4         gas_sum    0.063475\n",
       "6  electrodes_run    0.022907"
      ]
     },
     "execution_count": 97,
     "metadata": {},
     "output_type": "execute_result"
    }
   ],
   "source": [
    "# Оценим значимость признаков для модели и выведем список по убыванию\n",
    "\n",
    "GBR_features_inportance = pd.DataFrame(data = [], columns=['feature', 'importance'])\n",
    "GBR_features_inportance['feature'] = pd.Series(df_train_features.columns)\n",
    "GBR_features_inportance['importance'] = pd.Series(model_GBR.feature_importances_)\n",
    "GBR_features_inportance.sort_values(by='importance', ascending=False)"
   ]
  },
  {
   "cell_type": "code",
   "execution_count": 98,
   "id": "viral-tourist",
   "metadata": {},
   "outputs": [
    {
     "data": {
      "text/plain": [
       "<AxesSubplot:xlabel='feature', ylabel='importance'>"
      ]
     },
     "execution_count": 98,
     "metadata": {},
     "output_type": "execute_result"
    },
    {
     "data": {
      "image/png": "[encoded data removed]",
      "text/plain": [
       "<Figure size 1080x576 with 1 Axes>"
      ]
     },
     "metadata": {},
     "output_type": "display_data"
    }
   ],
   "source": [
    "# Результат также выведем на гистограмме\n",
    "\n",
    "plt.figure(figsize=(15,8))\n",
    "sns.set_context(\"paper\", font_scale=1.5)   \n",
    "sns.barplot(data=GBR_features_inportance.sort_values(by='importance', ascending=False), x=\"feature\", y=\"importance\")"
   ]
  },
  {
   "cell_type": "markdown",
   "id": "honest-failing",
   "metadata": {},
   "source": [
    "Итак, наибольший вклад в результирующий показатель вносят полная мощность и стартовая температура. Таким образом, если найти способы корректировки данных параметров на производстве, можно обеспечить экономию бюджета. Таблица корреляции выше показывает отрицательную зависимость между данными признаками (-0,43), что говорит о том, что, повышая один признак, можно уменьшить другой. То есть, если получится подгонять стартовую температуру к требуемым параметрам, то придется меньше электроэнергии тратить на нагрев дугой."
   ]
  },
  {
   "cell_type": "markdown",
   "id": "martial-juvenile",
   "metadata": {},
   "source": [
    "# Тестирование полученных моделей"
   ]
  },
  {
   "cell_type": "markdown",
   "id": "convinced-roommate",
   "metadata": {},
   "source": [
    "## Дамми-модель"
   ]
  },
  {
   "cell_type": "code",
   "execution_count": 99,
   "id": "hybrid-seeker",
   "metadata": {},
   "outputs": [
    {
     "name": "stdout",
     "output_type": "stream",
     "text": [
      "MAE модели на тестовой выборке: 7.46492841270121\n",
      "Wall time: 0 ns\n"
     ]
    },
    {
     "data": {
      "text/plain": [
       "7.46492841270121"
      ]
     },
     "execution_count": 99,
     "metadata": {},
     "output_type": "execute_result"
    }
   ],
   "source": [
    "%%time\n",
    "mae_test_dummy = mae_test(dummy, df_test_features, df_test_target)\n",
    "mae_test_dummy"
   ]
  },
  {
   "cell_type": "markdown",
   "id": "thrown-forum",
   "metadata": {},
   "source": [
    "## Линейная регрессия"
   ]
  },
  {
   "cell_type": "code",
   "execution_count": 100,
   "id": "valued-spiritual",
   "metadata": {},
   "outputs": [
    {
     "name": "stdout",
     "output_type": "stream",
     "text": [
      "MAE модели на тестовой выборке: 6.064491822027357\n",
      "Wall time: 1 ms\n"
     ]
    },
    {
     "data": {
      "text/plain": [
       "6.064491822027357"
      ]
     },
     "execution_count": 100,
     "metadata": {},
     "output_type": "execute_result"
    }
   ],
   "source": [
    "%%time\n",
    "mae_test_LR = mae_test(linear_regression, df_test_features, df_test_target)\n",
    "mae_test_LR"
   ]
  },
  {
   "cell_type": "markdown",
   "id": "afraid-trunk",
   "metadata": {},
   "source": [
    "## Случайный лес"
   ]
  },
  {
   "cell_type": "code",
   "execution_count": 101,
   "id": "labeled-sixth",
   "metadata": {},
   "outputs": [
    {
     "name": "stdout",
     "output_type": "stream",
     "text": [
      "MAE модели на тестовой выборке: 5.773475128644943\n",
      "Wall time: 52 ms\n"
     ]
    },
    {
     "data": {
      "text/plain": [
       "5.773475128644943"
      ]
     },
     "execution_count": 101,
     "metadata": {},
     "output_type": "execute_result"
    }
   ],
   "source": [
    "%%time\n",
    "mae_test_RF = mae_test(model_forest, df_test_features, df_test_target)\n",
    "mae_test_RF"
   ]
  },
  {
   "cell_type": "markdown",
   "id": "knowing-refrigerator",
   "metadata": {},
   "source": [
    "## Градиентный спуск"
   ]
  },
  {
   "cell_type": "code",
   "execution_count": 102,
   "id": "robust-universe",
   "metadata": {},
   "outputs": [
    {
     "name": "stdout",
     "output_type": "stream",
     "text": [
      "MAE модели на тестовой выборке: 5.644597556922192\n",
      "Wall time: 11 ms\n"
     ]
    },
    {
     "data": {
      "text/plain": [
       "5.644597556922192"
      ]
     },
     "execution_count": 102,
     "metadata": {},
     "output_type": "execute_result"
    }
   ],
   "source": [
    "%%time\n",
    "mae_test_GBR = mae_test(model_GBR, df_test_features, df_test_target)\n",
    "mae_test_GBR"
   ]
  },
  {
   "cell_type": "markdown",
   "id": "elementary-threshold",
   "metadata": {},
   "source": [
    "## Итоговая таблица"
   ]
  },
  {
   "cell_type": "code",
   "execution_count": 103,
   "id": "heated-nerve",
   "metadata": {},
   "outputs": [],
   "source": [
    "table_final = pd.DataFrame({'Модель': ['Dummy_mean', 'Линейная регрессия', 'Случайный лес', 'Градиентный бустинг'],\n",
    "                            'MAE_CV_train': [CV_train_dummy, CV_train_LR, CV_train_RF, CV_train_GBR],\n",
    "                            'MAE_train': [mae_train_dummy, mae_train_LR,mae_train_RF, mae_train_GBR],\n",
    "                           'MAE_test': [mae_test_dummy, mae_test_LR,mae_test_RF, mae_test_GBR]})"
   ]
  },
  {
   "cell_type": "code",
   "execution_count": 104,
   "id": "medieval-practitioner",
   "metadata": {},
   "outputs": [
    {
     "data": {
      "text/html": [
       "<div>\n",
       "<style scoped>\n",
       "    .dataframe tbody tr th:only-of-type {\n",
       "        vertical-align: middle;\n",
       "    }\n",
       "\n",
       "    .dataframe tbody tr th {\n",
       "        vertical-align: top;\n",
       "    }\n",
       "\n",
       "    .dataframe thead th {\n",
       "        text-align: right;\n",
       "    }\n",
       "</style>\n",
       "<table border=\"1\" class=\"dataframe\">\n",
       "  <thead>\n",
       "    <tr style=\"text-align: right;\">\n",
       "      <th></th>\n",
       "      <th>Модель</th>\n",
       "      <th>MAE_CV_train</th>\n",
       "      <th>MAE_train</th>\n",
       "      <th>MAE_test</th>\n",
       "    </tr>\n",
       "  </thead>\n",
       "  <tbody>\n",
       "    <tr>\n",
       "      <th>0</th>\n",
       "      <td>Dummy_mean</td>\n",
       "      <td>8.326864</td>\n",
       "      <td>8.315411</td>\n",
       "      <td>7.464928</td>\n",
       "    </tr>\n",
       "    <tr>\n",
       "      <th>1</th>\n",
       "      <td>Линейная регрессия</td>\n",
       "      <td>6.262600</td>\n",
       "      <td>6.184778</td>\n",
       "      <td>6.064492</td>\n",
       "    </tr>\n",
       "    <tr>\n",
       "      <th>2</th>\n",
       "      <td>Случайный лес</td>\n",
       "      <td>6.415535</td>\n",
       "      <td>4.409734</td>\n",
       "      <td>5.773475</td>\n",
       "    </tr>\n",
       "    <tr>\n",
       "      <th>3</th>\n",
       "      <td>Градиентный бустинг</td>\n",
       "      <td>6.039137</td>\n",
       "      <td>3.193880</td>\n",
       "      <td>5.644598</td>\n",
       "    </tr>\n",
       "  </tbody>\n",
       "</table>\n",
       "</div>"
      ],
      "text/plain": [
       "                Модель  MAE_CV_train  MAE_train  MAE_test\n",
       "0           Dummy_mean      8.326864   8.315411  7.464928\n",
       "1   Линейная регрессия      6.262600   6.184778  6.064492\n",
       "2        Случайный лес      6.415535   4.409734  5.773475\n",
       "3  Градиентный бустинг      6.039137   3.193880  5.644598"
      ]
     },
     "execution_count": 104,
     "metadata": {},
     "output_type": "execute_result"
    }
   ],
   "source": [
    "table_final"
   ]
  },
  {
   "cell_type": "markdown",
   "id": "variable-insulation",
   "metadata": {},
   "source": [
    "## Вывод по разделу"
   ]
  },
  {
   "cell_type": "markdown",
   "id": "removable-trainer",
   "metadata": {},
   "source": [
    "В данном разделе были подобраны гиперпараметры для моделей случайного леса и градиентного бустинга, обучены эти, а также модель линейной регрессии и дамми-модель на тренировочных данных, произведена кросс-валидация результатов. Полученные модели задействовались для выдачи предсказаний целевого признака (финальная температура сплава).\n",
    "    \n",
    "Для линейной регрессии самым значимым параметром оказалась полная мощность. У случайного леса и градиентного бустинга картины практически идентичные, более всего внимания они уделили стартовой температуре и полной мощности.\n",
    "    \n",
    "По итогу лучший результат показала модель градиентного бустинга (MAE = 5,64). На втором месте случайный лес с показателем 5.77. В конце линейная регрессия - 6.06. Все модели прошли проверку на адекватность (их показатели лучше, чем у дамми-модели)."
   ]
  },
  {
   "cell_type": "markdown",
   "id": "continental-secondary",
   "metadata": {},
   "source": [
    "# Вывод по проекту"
   ]
  },
  {
   "cell_type": "markdown",
   "id": "moving-raise",
   "metadata": {},
   "source": [
    "В ходе препроцессинга в данной работе были проведены следующие процедуры:\n",
    "    \n",
    "- изучение каждого датасета на предмет его качественного состава, изучения взаимозависиместей признаков и их распределений, пригодности для дальнейшей работы;\n",
    "- поиск пропусков/дублей/выбросов/артефактов, выработка решений по их нейтрализации/замене, их обработка;\n",
    "- формирование мнения о возможностях получения обучающих признаков из имеющихся датасетов, расчет и сбор этих признаков, аккумулирование данных в одном датасете.\n",
    "    \n",
    "По результатам проведения предобработки объектов были сделаны следующие выводы:\n",
    "- качественный состав датасетов при внесении незначительных корректив пригоден для обучения на нем моделей машинного обучения и получения на данной основе предсказаний целевого признака - финальной температуры слава;\n",
    "- порядка 25% партий оказались непригодными для анализа в связи с наличием только одного замера температуры (т.е. нет целевого признака). В связи с этим информация об этих партиях была отброшена. Конечно, это в определенной мере повлияет на размер итоговой метрики, но некритично. В будущем полагаю целесообразным ориентировать инженеров на производстве на повышение качества сбора данных, чтобы не допускать появления таких пропусков.\n",
    "- большинство признаков в датасетах имеет невысокий процент выбросов, появление которых может быть оправдано частью производственного процесса, наличием человеческого фактора, разницей количественного состава сплавов и т.д. В данной работе было принято решение сначала отработать только те единичные выбросы, которые никоим образом не могли быть классифицированы как допустимые (например, отрицательное значение реактивной мощности и т.п.). В дальнейшем, если целевая метрика не соответствует требуемым параметрам, предполагалось приступить к обработке других выбросов, загоняя данные в определенные \"рамки\", то есть создавая для модели граничные условия по признакам. С учетом того, что изначальной обработки выбросов хватило (MAE<6), такие граничные условия на данном этапе было решено не вводить. \n",
    "\n",
    "В итоговом составе обучающих признаков по итогу работы было решено оставить 8 элементов: \n",
    "- power_full (полная мощность) - рассчитывается как корень суммы квадратов активной и реактивной мощностей. Последние признаки было решено отбросить, так как их корреляция между собой составила 0.96 - практически прямая зависимость, что только излишне загрузило бы ресурсы системы при обработке, а в случае с линейными моделями и вовсе недопустимо;\n",
    "- temp_start (начальная температура сплава);\n",
    "- batch_time_min (время обработки партии в минутах) - получено путем расчета разницы между первым и последним замерами температуры сплава;\n",
    "- key (номер партии);\n",
    "- sum_wire (суммарное количество добавленной проволоки в партии);\n",
    "- bulk_sum (суммарное количество добавленных сыпучих материалов);\n",
    "- gas_sum (суммарных объем использованного в партии инертного газа);\n",
    "- electrodes_run (число запуска электродов за время обработки партии).\n",
    "   \n",
    "Кроме того, в ходе работы был рассчитан признак общего времени работы дуги, но в связи с его высоким показателем корреляции с полной мощностью было принято решение отказаться от его использования в моделировании.\n",
    "\n",
    "Таким образом, данные были подготовлены для передачи в модели машинного обучения. По итогам обучения и тестирования трех моделей (линейная регрессия - MAE = 6.064, случайный лес - MAE = 5.773 и градиентный бустинг - MAE = 5.645) \n",
    "\n",
    "С задачей справился лучше всего именно градиентный бустинг, который и был рекомендован для использования в производстве.\n",
    "    \n",
    "    \n",
    "**Выводы по анализу показателя feature importance для выбранной модели градиентного бустинга:**\n",
    "    \n",
    "Наибольший вклад в результирующий показатель вносят полная мощность (0,26) и стартовая температура сплава (0,25). \n",
    "    \n",
    "При этом показатель целевой мощности напрямую воздействует на затраты электроэнергии, что нам и нужно снижать. Таблица корреляции выше показывает отрицательную зависимость между данными признаками (-0,43). Это означает, что при повышении стартовой температуры с высокой вероятностью будет уменьшаться необходимое количество выделяемой мощности для нагрева при неизменных остальных условиях. То есть, если в ковш изначально подавать состав более высокой температуры, то придется меньше электроэнергии тратить на нагрев сплава дугой.\n",
    "    \n",
    "Как вариант, в дальнейшем можно было бы исследовать зависимость целевого признака от температуры подаваемых в сплав присадок. Данный параметр, теоретически, мог бы уменьшить необходимость использования дополнительного применения дуги."
   ]
  }
 ],
 "metadata": {
  "ExecuteTimeLog": [
   {
    "duration": 1207,
    "start_time": "2021-11-24T11:30:12.114Z"
   },
   {
    "duration": 3,
    "start_time": "2021-11-24T11:30:16.017Z"
   },
   {
    "duration": 421,
    "start_time": "2021-11-24T11:30:21.556Z"
   },
   {
    "duration": 11,
    "start_time": "2021-11-24T11:31:05.922Z"
   },
   {
    "duration": 8,
    "start_time": "2021-11-24T11:31:06.474Z"
   },
   {
    "duration": 19,
    "start_time": "2021-11-24T11:31:06.749Z"
   },
   {
    "duration": 12,
    "start_time": "2021-11-24T11:31:06.956Z"
   },
   {
    "duration": 158,
    "start_time": "2021-11-24T11:31:07.484Z"
   },
   {
    "duration": 9,
    "start_time": "2021-11-24T11:31:08.024Z"
   },
   {
    "duration": 14,
    "start_time": "2021-11-24T11:33:42.827Z"
   },
   {
    "duration": 13,
    "start_time": "2021-11-24T11:33:43.636Z"
   },
   {
    "duration": 8,
    "start_time": "2021-11-24T11:33:44.239Z"
   },
   {
    "duration": 13,
    "start_time": "2021-11-24T11:34:13.324Z"
   },
   {
    "duration": 7,
    "start_time": "2021-11-24T11:34:14.087Z"
   },
   {
    "duration": 47,
    "start_time": "2021-11-24T11:34:14.667Z"
   },
   {
    "duration": 540,
    "start_time": "2021-11-24T11:34:15.266Z"
   },
   {
    "duration": 6,
    "start_time": "2021-11-24T11:34:49.383Z"
   },
   {
    "duration": 6,
    "start_time": "2021-11-24T11:34:50.012Z"
   },
   {
    "duration": 16,
    "start_time": "2021-11-24T11:34:50.471Z"
   },
   {
    "duration": 555,
    "start_time": "2021-11-24T11:34:50.668Z"
   },
   {
    "duration": 174,
    "start_time": "2021-11-24T11:34:51.225Z"
   },
   {
    "duration": 7,
    "start_time": "2021-11-24T11:34:56.206Z"
   },
   {
    "duration": 6,
    "start_time": "2021-11-24T11:34:56.562Z"
   },
   {
    "duration": 14,
    "start_time": "2021-11-24T11:34:56.738Z"
   },
   {
    "duration": 11,
    "start_time": "2021-11-24T11:34:57.070Z"
   },
   {
    "duration": 151,
    "start_time": "2021-11-24T11:34:57.517Z"
   },
   {
    "duration": 514,
    "start_time": "2021-11-24T11:34:57.687Z"
   },
   {
    "duration": 11,
    "start_time": "2021-11-24T11:35:57.467Z"
   },
   {
    "duration": 7,
    "start_time": "2021-11-24T11:35:58.108Z"
   },
   {
    "duration": 12,
    "start_time": "2021-11-24T11:36:02.123Z"
   },
   {
    "duration": 8,
    "start_time": "2021-11-24T11:36:02.646Z"
   },
   {
    "duration": 35,
    "start_time": "2021-11-24T11:36:02.868Z"
   },
   {
    "duration": 448,
    "start_time": "2021-11-24T11:36:03.083Z"
   },
   {
    "duration": 5,
    "start_time": "2021-11-24T11:39:43.427Z"
   },
   {
    "duration": 5,
    "start_time": "2021-11-24T11:39:44.163Z"
   },
   {
    "duration": 10,
    "start_time": "2021-11-24T11:39:45.143Z"
   },
   {
    "duration": 6,
    "start_time": "2021-11-24T11:40:24.782Z"
   },
   {
    "duration": 143,
    "start_time": "2021-11-24T11:40:25.322Z"
   },
   {
    "duration": 350,
    "start_time": "2021-11-24T11:40:25.555Z"
   },
   {
    "duration": 10,
    "start_time": "2021-11-24T11:40:27.785Z"
   },
   {
    "duration": 136,
    "start_time": "2021-11-24T11:40:28.312Z"
   },
   {
    "duration": 843,
    "start_time": "2021-11-24T11:41:48.802Z"
   },
   {
    "duration": 30,
    "start_time": "2021-11-24T11:41:49.648Z"
   },
   {
    "duration": 10,
    "start_time": "2021-11-24T11:41:50.520Z"
   },
   {
    "duration": 5,
    "start_time": "2021-11-24T11:41:57.453Z"
   },
   {
    "duration": 134,
    "start_time": "2021-11-24T11:41:57.942Z"
   },
   {
    "duration": 13,
    "start_time": "2021-11-24T11:41:58.804Z"
   },
   {
    "duration": 13,
    "start_time": "2021-11-24T11:42:00.495Z"
   },
   {
    "duration": 5,
    "start_time": "2021-11-24T11:42:00.930Z"
   },
   {
    "duration": 12,
    "start_time": "2021-11-24T11:42:01.209Z"
   },
   {
    "duration": 24,
    "start_time": "2021-11-24T11:42:01.981Z"
   },
   {
    "duration": 16,
    "start_time": "2021-11-24T11:42:03.414Z"
   },
   {
    "duration": 13,
    "start_time": "2021-11-24T11:42:03.967Z"
   },
   {
    "duration": 6732,
    "start_time": "2021-11-24T11:42:05.530Z"
   },
   {
    "duration": 6,
    "start_time": "2021-11-24T11:42:12.264Z"
   },
   {
    "duration": 18,
    "start_time": "2021-11-24T11:42:47.021Z"
   },
   {
    "duration": 16,
    "start_time": "2021-11-24T11:42:47.249Z"
   },
   {
    "duration": 13,
    "start_time": "2021-11-24T11:42:47.438Z"
   },
   {
    "duration": 12,
    "start_time": "2021-11-24T11:42:47.597Z"
   },
   {
    "duration": 11,
    "start_time": "2021-11-24T11:42:47.731Z"
   },
   {
    "duration": 13,
    "start_time": "2021-11-24T11:42:48.109Z"
   },
   {
    "duration": 6,
    "start_time": "2021-11-24T11:42:48.289Z"
   },
   {
    "duration": 17,
    "start_time": "2021-11-24T11:42:48.595Z"
   },
   {
    "duration": 5,
    "start_time": "2021-11-24T11:44:06.624Z"
   },
   {
    "duration": 4,
    "start_time": "2021-11-24T11:44:07.225Z"
   },
   {
    "duration": 4,
    "start_time": "2021-11-24T11:44:09.148Z"
   },
   {
    "duration": 12,
    "start_time": "2021-11-24T11:44:09.638Z"
   },
   {
    "duration": 252,
    "start_time": "2021-11-24T11:44:11.206Z"
   },
   {
    "duration": 236,
    "start_time": "2021-11-24T11:44:13.803Z"
   },
   {
    "duration": 98,
    "start_time": "2021-11-26T15:04:46.616Z"
   }
  ],
  "kernelspec": {
   "display_name": "Python 3",
   "language": "python",
   "name": "python3"
  },
  "language_info": {
   "codemirror_mode": {
    "name": "ipython",
    "version": 3
   },
   "file_extension": ".py",
   "mimetype": "text/x-python",
   "name": "python",
   "nbconvert_exporter": "python",
   "pygments_lexer": "ipython3",
   "version": "3.9.2"
  },
  "toc": {
   "base_numbering": 1,
   "nav_menu": {},
   "number_sections": true,
   "sideBar": true,
   "skip_h1_title": true,
   "title_cell": "Table of Contents",
   "title_sidebar": "Contents",
   "toc_cell": false,
   "toc_position": {
    "height": "calc(100% - 180px)",
    "left": "10px",
    "top": "150px",
    "width": "494.396px"
   },
   "toc_section_display": true,
   "toc_window_display": true
  },
  "toc-autonumbering": false,
  "toc-showmarkdowntxt": false,
  "toc-showtags": false
 },
 "nbformat": 4,
 "nbformat_minor": 5
}
