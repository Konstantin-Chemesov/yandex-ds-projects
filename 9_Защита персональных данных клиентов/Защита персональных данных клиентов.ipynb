{
 "cells": [
  {
   "cell_type": "markdown",
   "metadata": {},
   "source": [
    "**Защита персональных данных клиентов**"
   ]
  },
  {
   "cell_type": "markdown",
   "metadata": {},
   "source": [
    "Вам нужно защитить данные клиентов страховой компании «Хоть потоп». Разработайте такой метод преобразования данных, чтобы по ним было сложно восстановить персональную информацию. Обоснуйте корректность его работы.\n",
    "\n",
    "Нужно защитить данные, чтобы при преобразовании качество моделей машинного обучения не ухудшилось. Подбирать наилучшую модель не требуется."
   ]
  },
  {
   "cell_type": "markdown",
   "metadata": {},
   "source": [
    "**Содержание**\n",
    "\n",
    "1. Подготовка всех систем к старту\n",
    "- Загрузка необходимых библиотек\n",
    "- Подгрузка датасета и его первичное изучение\n",
    "- Вывод по первичному изучению данных\n",
    "- Подготовка признаков и целевого признака, разделение данных\n",
    "2.  Задача про умножение матриц\n",
    "- Теоретическое обоснование\n",
    "- Практическое доказательство правомерности ответа путем преобразования матриц\n",
    "- Практическое доказательство на работе модели линейной регрессии\n",
    "3.  Создание и проверка алгоритма зашифровки данных\n",
    "- Формулирование алгоритма зашифровки признаков\n",
    "- Обучение модели на исходных данных\n",
    "- Преобразование выборки признаков согласно предложенному алгоритму\n",
    "- Обучение модели на зашифрованной выборке\n",
    "- Итоговая таблица\n",
    "4. Вывод по проекту"
   ]
  },
  {
   "cell_type": "markdown",
   "metadata": {},
   "source": [
    "# Подготовка всех систем к старту"
   ]
  },
  {
   "cell_type": "markdown",
   "metadata": {},
   "source": [
    "## Загрузка необходимых библиотек "
   ]
  },
  {
   "cell_type": "code",
   "execution_count": 1,
   "metadata": {},
   "outputs": [],
   "source": [
    "# Для начала, как водится, загружаем библиотеки и инструментарий для обработки данных\n",
    "\n",
    "import pandas as pd\n",
    "import numpy as np\n",
    "\n",
    "from sklearn.linear_model import LinearRegression\n",
    "from sklearn.metrics import r2_score\n",
    "from sklearn.model_selection import train_test_split"
   ]
  },
  {
   "cell_type": "markdown",
   "metadata": {},
   "source": [
    "## Подгрузка датасета и его первичное изучение"
   ]
  },
  {
   "cell_type": "code",
   "execution_count": 2,
   "metadata": {},
   "outputs": [
    {
     "data": {
      "text/html": [
       "<div>\n",
       "<style scoped>\n",
       "    .dataframe tbody tr th:only-of-type {\n",
       "        vertical-align: middle;\n",
       "    }\n",
       "\n",
       "    .dataframe tbody tr th {\n",
       "        vertical-align: top;\n",
       "    }\n",
       "\n",
       "    .dataframe thead th {\n",
       "        text-align: right;\n",
       "    }\n",
       "</style>\n",
       "<table border=\"1\" class=\"dataframe\">\n",
       "  <thead>\n",
       "    <tr style=\"text-align: right;\">\n",
       "      <th></th>\n",
       "      <th>Пол</th>\n",
       "      <th>Возраст</th>\n",
       "      <th>Зарплата</th>\n",
       "      <th>Члены семьи</th>\n",
       "      <th>Страховые выплаты</th>\n",
       "    </tr>\n",
       "  </thead>\n",
       "  <tbody>\n",
       "    <tr>\n",
       "      <th>0</th>\n",
       "      <td>1</td>\n",
       "      <td>41.0</td>\n",
       "      <td>49600.0</td>\n",
       "      <td>1</td>\n",
       "      <td>0</td>\n",
       "    </tr>\n",
       "    <tr>\n",
       "      <th>1</th>\n",
       "      <td>0</td>\n",
       "      <td>46.0</td>\n",
       "      <td>38000.0</td>\n",
       "      <td>1</td>\n",
       "      <td>1</td>\n",
       "    </tr>\n",
       "    <tr>\n",
       "      <th>2</th>\n",
       "      <td>0</td>\n",
       "      <td>29.0</td>\n",
       "      <td>21000.0</td>\n",
       "      <td>0</td>\n",
       "      <td>0</td>\n",
       "    </tr>\n",
       "    <tr>\n",
       "      <th>3</th>\n",
       "      <td>0</td>\n",
       "      <td>21.0</td>\n",
       "      <td>41700.0</td>\n",
       "      <td>2</td>\n",
       "      <td>0</td>\n",
       "    </tr>\n",
       "    <tr>\n",
       "      <th>4</th>\n",
       "      <td>1</td>\n",
       "      <td>28.0</td>\n",
       "      <td>26100.0</td>\n",
       "      <td>0</td>\n",
       "      <td>0</td>\n",
       "    </tr>\n",
       "  </tbody>\n",
       "</table>\n",
       "</div>"
      ],
      "text/plain": [
       "   Пол  Возраст  Зарплата  Члены семьи  Страховые выплаты\n",
       "0    1     41.0   49600.0            1                  0\n",
       "1    0     46.0   38000.0            1                  1\n",
       "2    0     29.0   21000.0            0                  0\n",
       "3    0     21.0   41700.0            2                  0\n",
       "4    1     28.0   26100.0            0                  0"
      ]
     },
     "execution_count": 2,
     "metadata": {},
     "output_type": "execute_result"
    }
   ],
   "source": [
    "# Теперь загружаем исходный датасет в отдельную переменную и сразу же выводим его чаcть для визуального осмотра\n",
    "\n",
    "df = pd.read_csv('insurance.csv')\n",
    "df.head()"
   ]
  },
  {
   "cell_type": "code",
   "execution_count": 3,
   "metadata": {},
   "outputs": [
    {
     "name": "stdout",
     "output_type": "stream",
     "text": [
      "<class 'pandas.core.frame.DataFrame'>\n",
      "RangeIndex: 5000 entries, 0 to 4999\n",
      "Data columns (total 5 columns):\n",
      " #   Column             Non-Null Count  Dtype  \n",
      "---  ------             --------------  -----  \n",
      " 0   Пол                5000 non-null   int64  \n",
      " 1   Возраст            5000 non-null   float64\n",
      " 2   Зарплата           5000 non-null   float64\n",
      " 3   Члены семьи        5000 non-null   int64  \n",
      " 4   Страховые выплаты  5000 non-null   int64  \n",
      "dtypes: float64(2), int64(3)\n",
      "memory usage: 195.4 KB\n"
     ]
    }
   ],
   "source": [
    "# Для более подробного ознакомления с данными вызовем методы для получения более обширных сведений об имеющемся наборе сведений\n",
    "\n",
    "df.info()"
   ]
  },
  {
   "cell_type": "code",
   "execution_count": 4,
   "metadata": {},
   "outputs": [
    {
     "data": {
      "text/html": [
       "<div>\n",
       "<style scoped>\n",
       "    .dataframe tbody tr th:only-of-type {\n",
       "        vertical-align: middle;\n",
       "    }\n",
       "\n",
       "    .dataframe tbody tr th {\n",
       "        vertical-align: top;\n",
       "    }\n",
       "\n",
       "    .dataframe thead th {\n",
       "        text-align: right;\n",
       "    }\n",
       "</style>\n",
       "<table border=\"1\" class=\"dataframe\">\n",
       "  <thead>\n",
       "    <tr style=\"text-align: right;\">\n",
       "      <th></th>\n",
       "      <th>Пол</th>\n",
       "      <th>Возраст</th>\n",
       "      <th>Зарплата</th>\n",
       "      <th>Члены семьи</th>\n",
       "      <th>Страховые выплаты</th>\n",
       "    </tr>\n",
       "  </thead>\n",
       "  <tbody>\n",
       "    <tr>\n",
       "      <th>count</th>\n",
       "      <td>5000.000000</td>\n",
       "      <td>5000.000000</td>\n",
       "      <td>5000.000000</td>\n",
       "      <td>5000.000000</td>\n",
       "      <td>5000.000000</td>\n",
       "    </tr>\n",
       "    <tr>\n",
       "      <th>mean</th>\n",
       "      <td>0.499000</td>\n",
       "      <td>30.952800</td>\n",
       "      <td>39916.360000</td>\n",
       "      <td>1.194200</td>\n",
       "      <td>0.148000</td>\n",
       "    </tr>\n",
       "    <tr>\n",
       "      <th>std</th>\n",
       "      <td>0.500049</td>\n",
       "      <td>8.440807</td>\n",
       "      <td>9900.083569</td>\n",
       "      <td>1.091387</td>\n",
       "      <td>0.463183</td>\n",
       "    </tr>\n",
       "    <tr>\n",
       "      <th>min</th>\n",
       "      <td>0.000000</td>\n",
       "      <td>18.000000</td>\n",
       "      <td>5300.000000</td>\n",
       "      <td>0.000000</td>\n",
       "      <td>0.000000</td>\n",
       "    </tr>\n",
       "    <tr>\n",
       "      <th>25%</th>\n",
       "      <td>0.000000</td>\n",
       "      <td>24.000000</td>\n",
       "      <td>33300.000000</td>\n",
       "      <td>0.000000</td>\n",
       "      <td>0.000000</td>\n",
       "    </tr>\n",
       "    <tr>\n",
       "      <th>50%</th>\n",
       "      <td>0.000000</td>\n",
       "      <td>30.000000</td>\n",
       "      <td>40200.000000</td>\n",
       "      <td>1.000000</td>\n",
       "      <td>0.000000</td>\n",
       "    </tr>\n",
       "    <tr>\n",
       "      <th>75%</th>\n",
       "      <td>1.000000</td>\n",
       "      <td>37.000000</td>\n",
       "      <td>46600.000000</td>\n",
       "      <td>2.000000</td>\n",
       "      <td>0.000000</td>\n",
       "    </tr>\n",
       "    <tr>\n",
       "      <th>max</th>\n",
       "      <td>1.000000</td>\n",
       "      <td>65.000000</td>\n",
       "      <td>79000.000000</td>\n",
       "      <td>6.000000</td>\n",
       "      <td>5.000000</td>\n",
       "    </tr>\n",
       "  </tbody>\n",
       "</table>\n",
       "</div>"
      ],
      "text/plain": [
       "               Пол      Возраст      Зарплата  Члены семьи  Страховые выплаты\n",
       "count  5000.000000  5000.000000   5000.000000  5000.000000        5000.000000\n",
       "mean      0.499000    30.952800  39916.360000     1.194200           0.148000\n",
       "std       0.500049     8.440807   9900.083569     1.091387           0.463183\n",
       "min       0.000000    18.000000   5300.000000     0.000000           0.000000\n",
       "25%       0.000000    24.000000  33300.000000     0.000000           0.000000\n",
       "50%       0.000000    30.000000  40200.000000     1.000000           0.000000\n",
       "75%       1.000000    37.000000  46600.000000     2.000000           0.000000\n",
       "max       1.000000    65.000000  79000.000000     6.000000           5.000000"
      ]
     },
     "execution_count": 4,
     "metadata": {},
     "output_type": "execute_result"
    }
   ],
   "source": [
    "df.describe()"
   ]
  },
  {
   "cell_type": "code",
   "execution_count": 5,
   "metadata": {},
   "outputs": [
    {
     "name": "stderr",
     "output_type": "stream",
     "text": [
      "c:\\users\\konst\\appdata\\local\\programs\\python\\python39\\lib\\site-packages\\pandas\\plotting\\_matplotlib\\tools.py:400: MatplotlibDeprecationWarning: \n",
      "The is_first_col function was deprecated in Matplotlib 3.4 and will be removed two minor releases later. Use ax.get_subplotspec().is_first_col() instead.\n",
      "  if ax.is_first_col():\n"
     ]
    },
    {
     "data": {
      "text/plain": [
       "array([[<AxesSubplot:title={'center':'Пол'}>,\n",
       "        <AxesSubplot:title={'center':'Возраст'}>],\n",
       "       [<AxesSubplot:title={'center':'Зарплата'}>,\n",
       "        <AxesSubplot:title={'center':'Члены семьи'}>],\n",
       "       [<AxesSubplot:title={'center':'Страховые выплаты'}>,\n",
       "        <AxesSubplot:>]], dtype=object)"
      ]
     },
     "execution_count": 5,
     "metadata": {},
     "output_type": "execute_result"
    },
    {
     "data": {
      "image/png": "[encoded data removed]",
      "text/plain": [
       "<Figure size 1080x864 with 6 Axes>"
      ]
     },
     "metadata": {
      "needs_background": "light"
     },
     "output_type": "display_data"
    }
   ],
   "source": [
    "df.hist(figsize=(15,12))"
   ]
  },
  {
   "cell_type": "code",
   "execution_count": 6,
   "metadata": {},
   "outputs": [
    {
     "data": {
      "text/plain": [
       "<AxesSubplot:>"
      ]
     },
     "execution_count": 6,
     "metadata": {},
     "output_type": "execute_result"
    },
    {
     "data": {
      "image/png": "[encoded data removed]",
      "text/plain": [
       "<Figure size 864x720 with 1 Axes>"
      ]
     },
     "metadata": {
      "needs_background": "light"
     },
     "output_type": "display_data"
    }
   ],
   "source": [
    "df.boxplot(figsize = (12,10))"
   ]
  },
  {
   "cell_type": "markdown",
   "metadata": {},
   "source": [
    "## Вывод по первичному изучению данных"
   ]
  },
  {
   "cell_type": "markdown",
   "metadata": {},
   "source": [
    "Итого, наш датасет состоит из 5000 объектов (строк) и всего 5 признаков (столбцов). Столбец \"Страховые выплаты\" выступает в роли целевого признака. Содержимое остальных столбцов понятно из их названий и не требует дополнительных пояснений. Пропусков в данных нет, их тип тоже не требует корректировки.\n",
    "    \n",
    "Можно двигаться дальше."
   ]
  },
  {
   "cell_type": "markdown",
   "metadata": {},
   "source": [
    "## Подготовка признаков, разделение данных "
   ]
  },
  {
   "cell_type": "code",
   "execution_count": 7,
   "metadata": {},
   "outputs": [],
   "source": [
    "# Отделяем целевой признак от датесета\n",
    "\n",
    "features = df.drop('Страховые выплаты', axis = 1)\n",
    "target = df['Страховые выплаты']"
   ]
  },
  {
   "cell_type": "code",
   "execution_count": 8,
   "metadata": {},
   "outputs": [],
   "source": [
    "# Делим данные на тренировочную и тестовую выборки\n",
    "\n",
    "(features_train, features_test, \n",
    " target_train, target_test) = train_test_split(features, \n",
    "                                               target, test_size = 0.25, \n",
    "                                               random_state=12345)"
   ]
  },
  {
   "cell_type": "markdown",
   "metadata": {},
   "source": [
    "# Задача про умножение матриц"
   ]
  },
  {
   "cell_type": "markdown",
   "metadata": {},
   "source": [
    "## Теоретическое обоснование"
   ]
  },
  {
   "cell_type": "markdown",
   "metadata": {},
   "source": [
    "Формулы к теме \"Модель линейной регрессии\"\n",
    "\n",
    "Предсказания (полная версия):\n",
    "\n",
    "$$\n",
    "a = Xw'+w0\n",
    "$$\n",
    "\n",
    "Предсказания (краткая версия):\n",
    "\n",
    "$$\n",
    "a = Xw\n",
    "$$\n",
    "Задача обучения:\n",
    "\n",
    "$$\n",
    "w = \\arg\\min_w MSE(Xw, y)\n",
    "$$\n",
    "\n",
    "Формула обучения:\n",
    "\n",
    "$$\n",
    "w = (X^T X)^{-1} X^T y\n",
    "$$"
   ]
  },
  {
   "cell_type": "markdown",
   "metadata": {},
   "source": [
    "Обозначения:\n",
    "\n",
    "- $a$ - вектор предсказаний;\n",
    "\n",
    "- $X$ — матрица признаков (нулевой столбец состоит из единиц);\n",
    "\n",
    "- $w$ — вектор весов линейной регрессии;\n",
    "\n",
    "- $w0$ — величина сдвига;\n",
    "\n",
    "- $w'$ — вектор весов линейной регрессии (нулевой элемент равен сдвигу $w0$);\n",
    "\n",
    "- $y$ — вектор целевого признака;\n",
    "\n",
    "- $P$ — матрица, на которую умножаются признаки;\n",
    "\n"
   ]
  },
  {
   "cell_type": "markdown",
   "metadata": {},
   "source": [
    "**Ответ:** Если умножать матрицу $X$ на обратимую квадратную матрицу $M$, то качество модели линейной регрессии не изменится. \n",
    "\n",
    "**Обоснование:** Модель линейной регрессии совершает предсказания целевого признака путем умножения вектора-объекта (строки в датасете) на вектор параметров модели $w$, которые и предстоит найти. При этом $w$ отвечает за наклон условной линии, которая, если рассматривать двумерное пространство, должна проходить максимально близко по оси $Oy$ ко всем точкам из тренировочного набора (т.е. к  нашим объектам) для выполнения задачи обучения. \n",
    "\n",
    "Умножение на матрицу $M$ является введением своего рода коэффициента, который в $M$ раз увеличивает/уменьшает признаки в каждой строке (то есть меняет положение точек по оси $Oy$ относительно искомой прямой на одинаковое для всех объектов расстояние). Таким образом, расстояние от каждой точки до искомой прямой изменится в $M$ раз, но соотношения этих расстояний останутся теми же ((для того, чтобы умножение выполнилось, количество столбцов в обратимой матрице должно соответствовать числу строк в исходной матрице $X$)\n",
    "\n",
    "Для модели не важно, какие подаются числа, если расстояние между векторами в пропорциональном соотношении остается тем же. Относительная погрешность при этом останется той же.\n",
    "\n",
    "Таким образом, можно вводить коэффициенты для объектов, которые изменият признаки в таблице, что даст своего рода \"зашифровку\" данных. Для восстановления же исходников нужно просто в обратном порядке произвести те же действия.\n",
    "\n",
    "В таком случае, формула обучения примет следующий вид:\n",
    "\n",
    "$$\n",
    "w_M = ((XM)^T XM)^{-1} (XM)^T y\n",
    "$$\n",
    "\n",
    "А формула предсказания такой:\n",
    "    \n",
    "$$\n",
    "a_M = X_M w_M\n",
    "$$"
   ]
  },
  {
   "cell_type": "markdown",
   "metadata": {},
   "source": [
    "1) Пусть новая матрица признаков:\n",
    "$$\n",
    "X_P = XP\n",
    "$$\n",
    "\n",
    "2) Тогда новый вектор весов будет выглядеть следующим образом:\n",
    "$$\n",
    "w_P = ((XP)^T XP)^{-1} (XP)^T y = (P^T X^T XP)^{-1} P^T X^T y = (P^T\\cdot (X^T  X)\\cdot  P)^{-1} P^T X^T y = P^{-1} \\cdot (X^T  X)^{-1} \\cdot (P^T)^{-1}  P^T X^T y =\n",
    "$$\n",
    "    \n",
    "$$\n",
    "= P^{-1} \\cdot (X^T  X)^{-1} \\cdot E \\cdot X^T y = P^{-1} \\cdot (X^T  X)^{-1} \\cdot  X^T y\n",
    "$$\n",
    "    \n",
    "То есть\n",
    "    \n",
    "$$\n",
    "w_P = P^{-1} \\cdot (X^T  X)^{-1} \\cdot  X^T y\n",
    "$$\n",
    "\n",
    "3) Заметим, что в текущей формуле можно выявить формулу обучения ($w$). \n",
    "$$\n",
    "w = (X^T X)^{-1} X^T y\n",
    "$$\n",
    "\n",
    "Преобразуем.\n",
    "$$\n",
    "w_P = P^{-1} w\n",
    "$$\n",
    "\n",
    "4) Построим предсказания по формуле для новой матрицы признаков и вектора весов\n",
    "$$\n",
    "a_P = X_P w_P = X P P^{-1} w = XEw = Xw\n",
    "$$\n",
    "\n",
    "То есть\n",
    "    \n",
    "$$\n",
    "a_P = a\n",
    "$$\n",
    "    \n",
    "\n",
    "</div>"
   ]
  },
  {
   "cell_type": "markdown",
   "metadata": {},
   "source": [
    "## Практическое доказательство правомерности ответа путем преобразования матриц"
   ]
  },
  {
   "cell_type": "code",
   "execution_count": 9,
   "metadata": {},
   "outputs": [
    {
     "name": "stdout",
     "output_type": "stream",
     "text": [
      "Ошибка не выдана. Значит, обратимая матрица к M существует. Ее внешний вид сейчас не так важен!)\n"
     ]
    }
   ],
   "source": [
    "# Формируем обратимую матрицу и проверяем ее на наличие обратной\n",
    "\n",
    "M = np.array([[1, 4, 2, 3],\n",
    "                 [1, 3, 2, 15],\n",
    "                 [21, 3, 7, 3],\n",
    "                 [1, 1, 2, 3]])\n",
    "\n",
    "try:\n",
    "    M_INV = np.linalg.inv(M)\n",
    "    print('Ошибка не выдана. Значит, обратимая матрица к M существует. Ее внешний вид сейчас не так важен!)')\n",
    "except:\n",
    "    print('К сожалению, введенная матрица не имеет обратной. Попробуйте поменять значения.')"
   ]
  },
  {
   "cell_type": "code",
   "execution_count": 10,
   "metadata": {},
   "outputs": [
    {
     "data": {
      "text/plain": [
       "0   -0.044385\n",
       "1    0.023336\n",
       "2   -0.000012\n",
       "3   -0.045517\n",
       "dtype: float64"
      ]
     },
     "execution_count": 10,
     "metadata": {},
     "output_type": "execute_result"
    }
   ],
   "source": [
    "# Рассчитаем по представленной выше формуле значение вектора w\n",
    "\n",
    "w = np.linalg.inv(((features).T)@features)@((features).T)@target\n",
    "w"
   ]
  },
  {
   "cell_type": "code",
   "execution_count": 11,
   "metadata": {},
   "outputs": [
    {
     "data": {
      "text/plain": [
       "0    0.011545\n",
       "1    0.000377\n",
       "2   -0.037232\n",
       "3    0.005675\n",
       "dtype: float64"
      ]
     },
     "execution_count": 11,
     "metadata": {},
     "output_type": "execute_result"
    }
   ],
   "source": [
    "# То же для вектора w_m\n",
    "\n",
    "w_m = np.linalg.inv((((features@M).T)@features@M))@((features@M).T)@target\n",
    "w_m"
   ]
  },
  {
   "cell_type": "code",
   "execution_count": 12,
   "metadata": {},
   "outputs": [
    {
     "data": {
      "text/plain": [
       "array([ 0.28287261,  0.58051347,  0.42948107, ..., -0.02345651,\n",
       "       -0.05255887,  0.08547465])"
      ]
     },
     "execution_count": 12,
     "metadata": {},
     "output_type": "execute_result"
    }
   ],
   "source": [
    "# Теперь умножаем матрицу признаков на вектора w для получения предсказаний\n",
    "\n",
    "a = np.dot(features,w)\n",
    "a"
   ]
  },
  {
   "cell_type": "code",
   "execution_count": 13,
   "metadata": {},
   "outputs": [
    {
     "data": {
      "text/plain": [
       "array([ 0.28287294,  0.58051368,  0.42948103, ..., -0.02345595,\n",
       "       -0.05255805,  0.085475  ])"
      ]
     },
     "execution_count": 13,
     "metadata": {},
     "output_type": "execute_result"
    }
   ],
   "source": [
    "# Преобразуем матрицу признаков умножением на обратимую матрицу M, а результат\n",
    "# домножаем на вектор w_p для получения предсказаний на измененных данных\n",
    "\n",
    "a_m = np.dot(np.dot(features,M), w_m)\n",
    "a_m"
   ]
  },
  {
   "cell_type": "code",
   "execution_count": 14,
   "metadata": {},
   "outputs": [
    {
     "data": {
      "text/plain": [
       "3.6206165696960335e-07"
      ]
     },
     "execution_count": 14,
     "metadata": {},
     "output_type": "execute_result"
    }
   ],
   "source": [
    "# Для сравнения предсказаний рассчитаем среднюю адсолютную ошибку (MAE)\n",
    "\n",
    "abs(a-a_m).mean()"
   ]
  },
  {
   "cell_type": "markdown",
   "metadata": {},
   "source": [
    "Полученный результат проверки различия предсказаний на исходных и преобразованных данных представляет собой крайне малое число $(2.42615308680999)^-7$, наличие которого обусловлено накоплением ошибки в ходе машинных вычислений. Таким образом, домножение матрицы признаков на рандомную обратимую матрицу не вносит изменений в получаемые предсказания."
   ]
  },
  {
   "cell_type": "markdown",
   "metadata": {},
   "source": [
    "## Практическое доказательство на работе модели линейной регрессии"
   ]
  },
  {
   "cell_type": "code",
   "execution_count": 15,
   "metadata": {},
   "outputs": [],
   "source": [
    "# Обучаем модель линейной регрессии и делаем предсказания\n",
    "\n",
    "model = LinearRegression()\n",
    "model.fit(features_train, target_train)\n",
    "\n",
    "predictions = model.predict(features_test)"
   ]
  },
  {
   "cell_type": "code",
   "execution_count": 16,
   "metadata": {},
   "outputs": [],
   "source": [
    "# Умножаем обучающую и тестовую выборки на матрицу M\n",
    "\n",
    "features_train_encrypted = features_train@M\n",
    "features_test_encrypted = features_test@M"
   ]
  },
  {
   "cell_type": "code",
   "execution_count": 17,
   "metadata": {},
   "outputs": [],
   "source": [
    "# Обучаем модель линейной регрессии на новых данных и делаем предсказания\n",
    "\n",
    "new_model = LinearRegression()\n",
    "new_model.fit(features_train_encrypted, target_train)\n",
    "\n",
    "new_predictions = new_model.predict(features_test_encrypted)"
   ]
  },
  {
   "cell_type": "code",
   "execution_count": 18,
   "metadata": {},
   "outputs": [
    {
     "data": {
      "text/plain": [
       "7.353354369854514e-13"
      ]
     },
     "execution_count": 18,
     "metadata": {},
     "output_type": "execute_result"
    }
   ],
   "source": [
    "# С целью проверки того, что предсказания на исходных и преобразованных данных равны,\n",
    "# рассчитаем метрику MAE\n",
    "\n",
    "(abs(predictions-new_predictions)).mean()"
   ]
  },
  {
   "cell_type": "markdown",
   "metadata": {},
   "source": [
    "Полученный результат проверки различия предсказаний на исходных и преобразованных данных представляет собой стремящееся к нулю число $(5.475613740202334)^-13$. Таким образом, еще раз доказано, что домножение матрицы признаков на рандомную обратимую матрицу не вносит изменений в получаемые предсказания."
   ]
  },
  {
   "cell_type": "markdown",
   "metadata": {},
   "source": [
    "# Создание и проверка алгоритма зашифровки данных"
   ]
  },
  {
   "cell_type": "markdown",
   "metadata": {},
   "source": [
    "## Формулирование алгоритма зашифровки признаков"
   ]
  },
  {
   "cell_type": "markdown",
   "metadata": {},
   "source": [
    "Для изменения до неузнаваемости данных пользователей страховой компании предлагается следующая последовательность действий:\n",
    "  \n",
    "   1. Умножение матриц с признаками на обратимую матрицу $М = [[1, 4, 2, 3],\n",
    "                 [1, 3, 2, 15],\n",
    "                 [21, 3, 7, 3],\n",
    "                 [1, 1, 2, 3]]$\n",
    "                 \n",
    "   2. Полученные массивы домножаем на коэффициент $K1 =25.1984636$\n",
    "   3. К результирующей матрице добавляем коэффициент $K2 = 0.578658$\n",
    "   4. Для усложнения эксперимента домножим отдельно второй столбец датасета с признаками на $K3 = 12.12547$\n",
    "   \n",
    "Для расшифровки данных следует провести указанные операции в обратном порядке"
   ]
  },
  {
   "cell_type": "markdown",
   "metadata": {},
   "source": [
    "## Обучение модели на исходных данных"
   ]
  },
  {
   "cell_type": "code",
   "execution_count": 19,
   "metadata": {},
   "outputs": [
    {
     "data": {
      "text/plain": [
       "LinearRegression()"
      ]
     },
     "execution_count": 19,
     "metadata": {},
     "output_type": "execute_result"
    }
   ],
   "source": [
    "# Обучаем модель линейной регрессии\n",
    "\n",
    "model = LinearRegression()\n",
    "model.fit(features_train, target_train)"
   ]
  },
  {
   "cell_type": "code",
   "execution_count": 20,
   "metadata": {},
   "outputs": [],
   "source": [
    "# Осуществляем предсказание целевого признака на тестовой выборке\n",
    "\n",
    "predictions = model.predict(features_test)"
   ]
  },
  {
   "cell_type": "code",
   "execution_count": 21,
   "metadata": {},
   "outputs": [
    {
     "data": {
      "text/plain": [
       "0.43522757127025646"
      ]
     },
     "execution_count": 21,
     "metadata": {},
     "output_type": "execute_result"
    }
   ],
   "source": [
    "# Рассчитываем метрику R2 для полученной модели\n",
    "\n",
    "r2_original = r2_score(target_test, predictions)\n",
    "\n",
    "r2_original"
   ]
  },
  {
   "cell_type": "markdown",
   "metadata": {},
   "source": [
    "## Преобразование выборки признаков согласно предложенному алгоритму"
   ]
  },
  {
   "cell_type": "code",
   "execution_count": 22,
   "metadata": {},
   "outputs": [],
   "source": [
    "# Формируем обратимую матрицу \n",
    "\n",
    "M = np.array([[1, 4, 2, 3],\n",
    "                 [1, 3, 2, 15],\n",
    "                 [21, 3, 7, 3],\n",
    "                 [1, 1, 2, 3]])"
   ]
  },
  {
   "cell_type": "code",
   "execution_count": 23,
   "metadata": {},
   "outputs": [
    {
     "data": {
      "text/plain": [
       "array([[-1.42857143e-02,  3.57142857e-02,  5.71428571e-02,\n",
       "        -2.21428571e-01],\n",
       "       [ 3.33333333e-01,  0.00000000e+00,  0.00000000e+00,\n",
       "        -3.33333333e-01],\n",
       "       [-7.61904762e-02, -1.42857143e-01, -2.85714286e-02,\n",
       "         8.19047619e-01],\n",
       "       [-5.55555556e-02,  8.33333333e-02,  4.33680869e-19,\n",
       "        -2.77777778e-02]])"
      ]
     },
     "execution_count": 23,
     "metadata": {},
     "output_type": "execute_result"
    }
   ],
   "source": [
    "# Проверяем обратимость матрицы М путем нахождения самой обратной матрицы M_INV к ней\n",
    "\n",
    "M_INV = np.linalg.inv(M)\n",
    "M_INV"
   ]
  },
  {
   "cell_type": "code",
   "execution_count": 24,
   "metadata": {},
   "outputs": [],
   "source": [
    "# Записываем в отдельную переменную коэффициент K1, K2, K3\n",
    "\n",
    "K1 =25.1984636\n",
    "\n",
    "K2 = 0.578658\n",
    "\n",
    "K3 = 12.12547"
   ]
  },
  {
   "cell_type": "code",
   "execution_count": 25,
   "metadata": {},
   "outputs": [],
   "source": [
    "# \"Зашифровываем\" тренировочную и тестовую выборки признаков согласно предложенному алгоритму\n",
    "\n",
    "features_train_encrypted = features_train@M*K1+K2 \n",
    "features_test_encrypted = features_test@M*K1+K2\n",
    "\n",
    "features_train_encrypted[1] = features_train_encrypted[1] * K3\n",
    "features_test_encrypted[1] = features_test_encrypted[1] * K3"
   ]
  },
  {
   "cell_type": "code",
   "execution_count": 26,
   "metadata": {},
   "outputs": [
    {
     "name": "stdout",
     "output_type": "stream",
     "text": [
      "                 0             1             2             3\n",
      "3369  1.915701e+07  3.322294e+07  6.387559e+06  2.752958e+06\n",
      "1441  3.048094e+07  5.283026e+07  1.016178e+07  4.367222e+06\n",
      "571   2.174963e+07  3.770312e+07  7.251262e+06  3.119142e+06\n",
      "225   2.386640e+07  4.137331e+07  7.957020e+06  3.423035e+06\n",
      "2558  2.677677e+07  4.641233e+07  8.927060e+06  3.837752e+06\n",
      "\n",
      "                 0             1             2             3\n",
      "3183  2.063847e+07  3.578003e+07  6.881046e+06  2.960996e+06\n",
      "1071  2.280844e+07  3.955319e+07  7.604998e+06  3.277212e+06\n",
      "2640  2.227897e+07  3.862709e+07  7.428004e+06  3.197383e+06\n",
      "2282  1.841554e+07  3.191705e+07  6.139354e+06  2.638280e+06\n",
      "1595  2.116784e+07  3.670400e+07  7.057838e+06  3.039616e+06\n"
     ]
    }
   ],
   "source": [
    "# Выводим полученны выборки для визуального осмотра\n",
    "\n",
    "print(features_train_encrypted.head()), \n",
    "print()\n",
    "print(features_test_encrypted.head())"
   ]
  },
  {
   "cell_type": "markdown",
   "metadata": {},
   "source": [
    "## Обучение модели на зашифрованной выборке"
   ]
  },
  {
   "cell_type": "code",
   "execution_count": 27,
   "metadata": {},
   "outputs": [
    {
     "data": {
      "text/plain": [
       "LinearRegression()"
      ]
     },
     "execution_count": 27,
     "metadata": {},
     "output_type": "execute_result"
    }
   ],
   "source": [
    "# Обучаем модель линейной регрессии на \"зашифрованных\" данных\n",
    "\n",
    "new_model = LinearRegression()\n",
    "new_model.fit(features_train_encrypted, target_train)\n"
   ]
  },
  {
   "cell_type": "code",
   "execution_count": 28,
   "metadata": {},
   "outputs": [],
   "source": [
    "# Создаем список с предсказаниями на зашифрованных тестовых данных\n",
    "\n",
    "new_predictions = new_model.predict(features_test_encrypted)"
   ]
  },
  {
   "cell_type": "code",
   "execution_count": 29,
   "metadata": {},
   "outputs": [
    {
     "data": {
      "text/plain": [
       "0.4352275712694287"
      ]
     },
     "execution_count": 29,
     "metadata": {},
     "output_type": "execute_result"
    }
   ],
   "source": [
    "# Рассчитываем метрику R2\n",
    "\n",
    "r2_encrypted = r2_score(target_test, new_predictions)\n",
    "\n",
    "r2_encrypted"
   ]
  },
  {
   "cell_type": "code",
   "execution_count": 30,
   "metadata": {},
   "outputs": [
    {
     "data": {
      "text/plain": [
       "1.000000000001902"
      ]
     },
     "execution_count": 30,
     "metadata": {},
     "output_type": "execute_result"
    }
   ],
   "source": [
    "# Для наглядности сравнения метрик R2 до зашифровки и после рассчитаем их отношение\n",
    "\n",
    "r2_original / r2_encrypted"
   ]
  },
  {
   "cell_type": "markdown",
   "metadata": {},
   "source": [
    "## Итоговая таблица"
   ]
  },
  {
   "cell_type": "code",
   "execution_count": 31,
   "metadata": {},
   "outputs": [],
   "source": [
    "# Для наглядности представления результатов составим итоговую таблицу\n",
    "\n",
    "final_chart = pd.DataFrame({'Состояние данных': ['Исходные', 'Зашифрованные'],\n",
    "                           'Метрика R2': [r2_original, r2_encrypted]})"
   ]
  },
  {
   "cell_type": "code",
   "execution_count": 32,
   "metadata": {
    "scrolled": true
   },
   "outputs": [
    {
     "data": {
      "text/html": [
       "<div>\n",
       "<style scoped>\n",
       "    .dataframe tbody tr th:only-of-type {\n",
       "        vertical-align: middle;\n",
       "    }\n",
       "\n",
       "    .dataframe tbody tr th {\n",
       "        vertical-align: top;\n",
       "    }\n",
       "\n",
       "    .dataframe thead th {\n",
       "        text-align: right;\n",
       "    }\n",
       "</style>\n",
       "<table border=\"1\" class=\"dataframe\">\n",
       "  <thead>\n",
       "    <tr style=\"text-align: right;\">\n",
       "      <th></th>\n",
       "      <th>Состояние данных</th>\n",
       "      <th>Метрика R2</th>\n",
       "    </tr>\n",
       "  </thead>\n",
       "  <tbody>\n",
       "    <tr>\n",
       "      <th>0</th>\n",
       "      <td>Исходные</td>\n",
       "      <td>0.435228</td>\n",
       "    </tr>\n",
       "    <tr>\n",
       "      <th>1</th>\n",
       "      <td>Зашифрованные</td>\n",
       "      <td>0.435228</td>\n",
       "    </tr>\n",
       "  </tbody>\n",
       "</table>\n",
       "</div>"
      ],
      "text/plain": [
       "  Состояние данных  Метрика R2\n",
       "0         Исходные    0.435228\n",
       "1    Зашифрованные    0.435228"
      ]
     },
     "execution_count": 32,
     "metadata": {},
     "output_type": "execute_result"
    }
   ],
   "source": [
    "final_chart"
   ]
  },
  {
   "cell_type": "markdown",
   "metadata": {},
   "source": [
    "Исходные данные после зашифровки полностью изменили свой вид. Теперь без \"ключа\" невозможно понять, какие сведения что обозначают. При этом значение метрики R2 осталось тем же (r2_original = 0.435227571270266, r2_encrypted = 0.435227571270153), это подтверждает их отношение, равное 1.0000000000002598. Отличие в последних знаках после запятой обусловлено погрешностью вычислений машины."
   ]
  },
  {
   "cell_type": "markdown",
   "metadata": {},
   "source": [
    "# Вывод по проекту"
   ]
  },
  {
   "cell_type": "markdown",
   "metadata": {},
   "source": [
    "В данной работе ставилась задача теоретического обоснования и практической проверки возможности зашифровки личных данных клиентов страховой компании путем умножения датасета на обратимую матрицу. При этом качество работы моделей линейной регрессии, обучаемой на незашифрованных и зашифрованных данных, не должно отличаться.\n",
    "    \n",
    "В ходе работы были отработаны навыки использования базовых библиотек языка Python, загрузки и изучения выборки данных, разбиения ее на обучающую и тестовую части. \n",
    "\n",
    "Дано обоснование возможности зашифровки данных обозначенным методом, предложен и реализован конкретный алгоритм такого кодирования. При этом метрика R2, используемая в данной задаче для проверки качества работы моделей линейной регрессии, не претерпела значительных изменений (r2_original = 0.435228, r2_encrypted = 0.435228)."
   ]
  }
 ],
 "metadata": {
  "ExecuteTimeLog": [
   {
    "duration": 369,
    "start_time": "2021-08-13T14:37:12.172Z"
   },
   {
    "duration": 594,
    "start_time": "2021-08-13T14:37:23.174Z"
   },
   {
    "duration": 17,
    "start_time": "2021-08-13T14:37:23.770Z"
   },
   {
    "duration": 28,
    "start_time": "2021-08-13T14:37:35.028Z"
   },
   {
    "duration": 7,
    "start_time": "2021-08-13T14:38:07.283Z"
   },
   {
    "duration": 2,
    "start_time": "2021-08-13T14:42:30.208Z"
   },
   {
    "duration": 3,
    "start_time": "2021-08-13T14:43:56.314Z"
   },
   {
    "duration": 4,
    "start_time": "2021-08-13T14:44:26.510Z"
   },
   {
    "duration": 264,
    "start_time": "2021-08-13T14:44:38.130Z"
   },
   {
    "duration": 446,
    "start_time": "2021-08-13T14:44:50.402Z"
   },
   {
    "duration": 21,
    "start_time": "2021-08-13T14:44:50.850Z"
   },
   {
    "duration": 6,
    "start_time": "2021-08-13T14:44:50.945Z"
   },
   {
    "duration": 2,
    "start_time": "2021-08-13T14:44:51.409Z"
   },
   {
    "duration": 4,
    "start_time": "2021-08-13T14:44:51.730Z"
   },
   {
    "duration": 7,
    "start_time": "2021-08-13T14:44:52.129Z"
   },
   {
    "duration": 272,
    "start_time": "2021-08-13T14:45:25.818Z"
   },
   {
    "duration": 3,
    "start_time": "2021-08-13T14:45:28.753Z"
   },
   {
    "duration": 253,
    "start_time": "2021-08-13T14:45:44.049Z"
   },
   {
    "duration": 269,
    "start_time": "2021-08-13T14:46:02.441Z"
   },
   {
    "duration": 3,
    "start_time": "2021-08-13T14:48:09.649Z"
   },
   {
    "duration": 308,
    "start_time": "2021-08-13T14:50:09.394Z"
   },
   {
    "duration": 6,
    "start_time": "2021-08-13T14:50:21.673Z"
   },
   {
    "duration": 4,
    "start_time": "2021-08-13T14:50:23.641Z"
   },
   {
    "duration": 6,
    "start_time": "2021-08-13T14:50:23.856Z"
   },
   {
    "duration": 13,
    "start_time": "2021-08-13T14:50:31.712Z"
   },
   {
    "duration": 11,
    "start_time": "2021-08-13T14:51:09.095Z"
   },
   {
    "duration": 11,
    "start_time": "2021-08-13T14:51:13.805Z"
   },
   {
    "duration": 6,
    "start_time": "2021-08-13T14:51:35.040Z"
   },
   {
    "duration": 12,
    "start_time": "2021-08-13T14:51:35.584Z"
   },
   {
    "duration": 11,
    "start_time": "2021-08-13T14:51:40.032Z"
   },
   {
    "duration": 5,
    "start_time": "2021-08-13T14:51:44.328Z"
   },
   {
    "duration": 8,
    "start_time": "2021-08-13T14:52:53.256Z"
   },
   {
    "duration": 257,
    "start_time": "2021-08-13T15:00:34.331Z"
   },
   {
    "duration": 484,
    "start_time": "2021-08-13T15:00:39.494Z"
   },
   {
    "duration": 444,
    "start_time": "2021-08-13T15:01:01.262Z"
   },
   {
    "duration": 291,
    "start_time": "2021-08-13T15:04:13.779Z"
   },
   {
    "duration": 261,
    "start_time": "2021-08-13T15:04:22.812Z"
   },
   {
    "duration": 82,
    "start_time": "2021-08-13T15:04:46.908Z"
   },
   {
    "duration": 364,
    "start_time": "2021-08-13T15:04:56.174Z"
   },
   {
    "duration": 44,
    "start_time": "2021-08-13T15:05:02.100Z"
   },
   {
    "duration": 262,
    "start_time": "2021-08-13T15:07:55.795Z"
   },
   {
    "duration": 259,
    "start_time": "2021-08-13T15:08:11.580Z"
   },
   {
    "duration": 3,
    "start_time": "2021-08-13T15:08:19.227Z"
   },
   {
    "duration": 13,
    "start_time": "2021-08-13T15:08:26.356Z"
   },
   {
    "duration": 431,
    "start_time": "2021-08-13T15:09:08.579Z"
   },
   {
    "duration": 3,
    "start_time": "2021-08-13T15:10:17.244Z"
   },
   {
    "duration": 527,
    "start_time": "2021-08-13T15:10:17.972Z"
   },
   {
    "duration": 3,
    "start_time": "2021-08-13T15:10:26.019Z"
   },
   {
    "duration": 5,
    "start_time": "2021-08-13T15:10:27.083Z"
   },
   {
    "duration": 10,
    "start_time": "2021-08-13T15:10:34.467Z"
   },
   {
    "duration": 3,
    "start_time": "2021-08-13T15:10:43.483Z"
   },
   {
    "duration": 89,
    "start_time": "2021-08-13T15:11:19.547Z"
   },
   {
    "duration": 2,
    "start_time": "2021-08-13T15:11:22.915Z"
   },
   {
    "duration": 5,
    "start_time": "2021-08-13T15:11:49.435Z"
   },
   {
    "duration": 7,
    "start_time": "2021-08-13T15:12:15.156Z"
   },
   {
    "duration": 4,
    "start_time": "2021-08-13T15:21:30.836Z"
   },
   {
    "duration": 12,
    "start_time": "2021-08-13T15:23:00.000Z"
   },
   {
    "duration": 274,
    "start_time": "2021-08-13T15:23:23.648Z"
   },
   {
    "duration": 12,
    "start_time": "2021-08-13T15:23:28.870Z"
   },
   {
    "duration": 7,
    "start_time": "2021-08-13T15:23:35.178Z"
   },
   {
    "duration": 292,
    "start_time": "2021-08-13T15:23:39.800Z"
   },
   {
    "duration": 8,
    "start_time": "2021-08-13T15:23:47.016Z"
   },
   {
    "duration": 8,
    "start_time": "2021-08-13T15:23:58.728Z"
   },
   {
    "duration": 10,
    "start_time": "2021-08-13T15:24:36.575Z"
   },
   {
    "duration": 3,
    "start_time": "2021-08-13T17:28:50.720Z"
   },
   {
    "duration": 5,
    "start_time": "2021-08-13T17:28:57.958Z"
   },
   {
    "duration": 5,
    "start_time": "2021-08-13T17:29:11.960Z"
   },
   {
    "duration": 5,
    "start_time": "2021-08-13T17:29:46.424Z"
   },
   {
    "duration": 5,
    "start_time": "2021-08-13T17:29:54.296Z"
   },
   {
    "duration": 4,
    "start_time": "2021-08-13T17:33:04.420Z"
   },
   {
    "duration": 10,
    "start_time": "2021-08-13T17:33:09.648Z"
   },
   {
    "duration": 3,
    "start_time": "2021-08-13T17:52:03.373Z"
   },
   {
    "duration": 10,
    "start_time": "2021-08-13T17:52:11.344Z"
   },
   {
    "duration": 3,
    "start_time": "2021-08-13T17:52:27.147Z"
   },
   {
    "duration": 10,
    "start_time": "2021-08-13T17:52:27.963Z"
   },
   {
    "duration": 4,
    "start_time": "2021-08-13T17:52:57.643Z"
   },
   {
    "duration": 11,
    "start_time": "2021-08-13T17:53:19.739Z"
   },
   {
    "duration": 15,
    "start_time": "2021-08-13T17:53:26.298Z"
   },
   {
    "duration": 1025,
    "start_time": "2021-08-13T20:18:21.425Z"
   },
   {
    "duration": 28,
    "start_time": "2021-08-13T20:18:22.451Z"
   },
   {
    "duration": 5,
    "start_time": "2021-08-13T20:18:22.481Z"
   },
   {
    "duration": 5,
    "start_time": "2021-08-13T20:18:22.488Z"
   },
   {
    "duration": 7,
    "start_time": "2021-08-13T20:18:22.495Z"
   },
   {
    "duration": 8,
    "start_time": "2021-08-13T20:18:22.503Z"
   },
   {
    "duration": 8,
    "start_time": "2021-08-13T20:18:22.512Z"
   },
   {
    "duration": 4,
    "start_time": "2021-08-13T20:18:22.521Z"
   },
   {
    "duration": 3,
    "start_time": "2021-08-13T20:18:22.540Z"
   },
   {
    "duration": 322,
    "start_time": "2021-08-13T20:18:22.545Z"
   },
   {
    "duration": -2,
    "start_time": "2021-08-13T20:18:22.871Z"
   },
   {
    "duration": -3,
    "start_time": "2021-08-13T20:18:22.873Z"
   },
   {
    "duration": -5,
    "start_time": "2021-08-13T20:18:22.876Z"
   },
   {
    "duration": -6,
    "start_time": "2021-08-13T20:18:22.878Z"
   },
   {
    "duration": -7,
    "start_time": "2021-08-13T20:18:22.880Z"
   },
   {
    "duration": -8,
    "start_time": "2021-08-13T20:18:22.882Z"
   },
   {
    "duration": -10,
    "start_time": "2021-08-13T20:18:22.885Z"
   },
   {
    "duration": -11,
    "start_time": "2021-08-13T20:18:22.887Z"
   },
   {
    "duration": -16,
    "start_time": "2021-08-13T20:18:22.893Z"
   },
   {
    "duration": -17,
    "start_time": "2021-08-13T20:18:22.895Z"
   },
   {
    "duration": 3,
    "start_time": "2021-08-13T20:18:25.415Z"
   },
   {
    "duration": 5,
    "start_time": "2021-08-13T20:18:25.791Z"
   },
   {
    "duration": 5,
    "start_time": "2021-08-13T20:18:26.663Z"
   },
   {
    "duration": 8,
    "start_time": "2021-08-13T20:18:27.008Z"
   },
   {
    "duration": 8,
    "start_time": "2021-08-13T20:18:27.455Z"
   },
   {
    "duration": 11,
    "start_time": "2021-08-13T20:18:28.783Z"
   },
   {
    "duration": 3,
    "start_time": "2021-08-13T20:18:29.343Z"
   },
   {
    "duration": 5,
    "start_time": "2021-08-13T20:18:30.009Z"
   },
   {
    "duration": 7,
    "start_time": "2021-08-13T20:18:30.311Z"
   },
   {
    "duration": 4,
    "start_time": "2021-08-13T20:18:42.087Z"
   },
   {
    "duration": 251,
    "start_time": "2021-08-13T20:19:25.879Z"
   },
   {
    "duration": 248,
    "start_time": "2021-08-13T20:19:57.736Z"
   },
   {
    "duration": 4,
    "start_time": "2021-08-13T20:20:16.942Z"
   },
   {
    "duration": 5,
    "start_time": "2021-08-13T20:20:52.152Z"
   },
   {
    "duration": 4,
    "start_time": "2021-08-13T20:21:13.671Z"
   },
   {
    "duration": 10,
    "start_time": "2021-08-13T20:22:52.815Z"
   },
   {
    "duration": 5,
    "start_time": "2021-08-13T20:25:18.932Z"
   },
   {
    "duration": 3,
    "start_time": "2021-08-13T20:25:27.773Z"
   },
   {
    "duration": 4,
    "start_time": "2021-08-13T20:25:47.693Z"
   },
   {
    "duration": 280,
    "start_time": "2021-08-13T20:26:24.789Z"
   },
   {
    "duration": 251,
    "start_time": "2021-08-13T20:26:41.166Z"
   },
   {
    "duration": 272,
    "start_time": "2021-08-13T20:26:50.685Z"
   },
   {
    "duration": 4,
    "start_time": "2021-08-13T20:26:56.669Z"
   },
   {
    "duration": 5,
    "start_time": "2021-08-13T20:27:34.029Z"
   },
   {
    "duration": 5,
    "start_time": "2021-08-13T20:28:13.996Z"
   },
   {
    "duration": 5,
    "start_time": "2021-08-13T20:28:25.724Z"
   },
   {
    "duration": 4,
    "start_time": "2021-08-13T20:28:42.677Z"
   },
   {
    "duration": 4,
    "start_time": "2021-08-13T20:28:47.741Z"
   },
   {
    "duration": 4,
    "start_time": "2021-08-13T20:28:53.709Z"
   },
   {
    "duration": 13,
    "start_time": "2021-08-13T20:29:28.580Z"
   },
   {
    "duration": 4,
    "start_time": "2021-08-13T20:29:39.644Z"
   },
   {
    "duration": 6,
    "start_time": "2021-08-13T20:29:50.428Z"
   },
   {
    "duration": 5,
    "start_time": "2021-08-13T20:30:02.292Z"
   },
   {
    "duration": 4,
    "start_time": "2021-08-13T20:30:33.476Z"
   },
   {
    "duration": 4,
    "start_time": "2021-08-13T20:30:47.276Z"
   },
   {
    "duration": 5,
    "start_time": "2021-08-13T20:30:58.356Z"
   },
   {
    "duration": 5,
    "start_time": "2021-08-13T20:31:42.308Z"
   },
   {
    "duration": 4,
    "start_time": "2021-08-13T20:32:02.692Z"
   },
   {
    "duration": 4,
    "start_time": "2021-08-13T20:32:10.876Z"
   },
   {
    "duration": 6,
    "start_time": "2021-08-13T20:32:15.164Z"
   },
   {
    "duration": 4,
    "start_time": "2021-08-13T20:32:23.108Z"
   },
   {
    "duration": 4,
    "start_time": "2021-08-13T20:32:39.915Z"
   },
   {
    "duration": 237,
    "start_time": "2021-08-13T20:32:53.284Z"
   },
   {
    "duration": 5,
    "start_time": "2021-08-13T20:33:10.788Z"
   },
   {
    "duration": 4,
    "start_time": "2021-08-13T20:33:28.883Z"
   },
   {
    "duration": 239,
    "start_time": "2021-08-13T20:33:35.253Z"
   },
   {
    "duration": 4,
    "start_time": "2021-08-13T20:33:43.052Z"
   },
   {
    "duration": 6,
    "start_time": "2021-08-13T20:33:55.676Z"
   },
   {
    "duration": 10,
    "start_time": "2021-08-13T20:34:09.219Z"
   },
   {
    "duration": 10,
    "start_time": "2021-08-13T20:34:25.945Z"
   },
   {
    "duration": 257,
    "start_time": "2021-08-13T20:34:44.035Z"
   },
   {
    "duration": 11,
    "start_time": "2021-08-13T20:34:55.251Z"
   },
   {
    "duration": 5,
    "start_time": "2021-08-13T20:35:01.283Z"
   },
   {
    "duration": 4,
    "start_time": "2021-08-13T20:35:05.971Z"
   },
   {
    "duration": 13,
    "start_time": "2021-08-13T20:35:20.443Z"
   },
   {
    "duration": 3,
    "start_time": "2021-08-13T20:35:23.195Z"
   },
   {
    "duration": 3,
    "start_time": "2021-08-13T20:35:33.107Z"
   },
   {
    "duration": 5,
    "start_time": "2021-08-13T20:36:03.124Z"
   },
   {
    "duration": 9,
    "start_time": "2021-08-13T20:36:11.811Z"
   },
   {
    "duration": 9,
    "start_time": "2021-08-13T20:36:21.363Z"
   },
   {
    "duration": 4,
    "start_time": "2021-08-13T20:36:26.267Z"
   },
   {
    "duration": 4,
    "start_time": "2021-08-13T20:36:33.883Z"
   },
   {
    "duration": 4,
    "start_time": "2021-08-13T20:36:52.891Z"
   },
   {
    "duration": 8,
    "start_time": "2021-08-13T20:37:06.043Z"
   },
   {
    "duration": 12,
    "start_time": "2021-08-13T20:37:08.290Z"
   },
   {
    "duration": 4,
    "start_time": "2021-08-13T20:37:08.795Z"
   },
   {
    "duration": 4,
    "start_time": "2021-08-13T20:37:14.283Z"
   },
   {
    "duration": 4,
    "start_time": "2021-08-13T20:37:22.626Z"
   },
   {
    "duration": 8,
    "start_time": "2021-08-13T20:37:31.347Z"
   },
   {
    "duration": 10,
    "start_time": "2021-08-13T20:37:31.530Z"
   },
   {
    "duration": 6,
    "start_time": "2021-08-13T20:37:32.234Z"
   },
   {
    "duration": 5,
    "start_time": "2021-08-13T20:37:34.946Z"
   },
   {
    "duration": 77,
    "start_time": "2021-08-13T20:37:42.532Z"
   },
   {
    "duration": 4,
    "start_time": "2021-08-13T20:37:48.298Z"
   },
   {
    "duration": 8,
    "start_time": "2021-08-13T20:37:55.298Z"
   },
   {
    "duration": 4,
    "start_time": "2021-08-13T20:38:03.571Z"
   },
   {
    "duration": 4,
    "start_time": "2021-08-13T20:38:16.394Z"
   },
   {
    "duration": 4,
    "start_time": "2021-08-13T20:38:23.746Z"
   },
   {
    "duration": 11,
    "start_time": "2021-08-13T20:38:28.874Z"
   },
   {
    "duration": 4,
    "start_time": "2021-08-13T20:38:30.899Z"
   },
   {
    "duration": 8,
    "start_time": "2021-08-13T20:38:43.405Z"
   },
   {
    "duration": 4,
    "start_time": "2021-08-13T20:38:51.890Z"
   },
   {
    "duration": 8,
    "start_time": "2021-08-13T20:38:58.563Z"
   },
   {
    "duration": 4,
    "start_time": "2021-08-13T20:39:07.474Z"
   },
   {
    "duration": 9,
    "start_time": "2021-08-13T20:39:16.738Z"
   },
   {
    "duration": 4,
    "start_time": "2021-08-13T20:39:24.834Z"
   },
   {
    "duration": 4,
    "start_time": "2021-08-13T20:39:40.234Z"
   },
   {
    "duration": 7,
    "start_time": "2021-08-13T20:40:55.962Z"
   },
   {
    "duration": 4,
    "start_time": "2021-08-13T20:40:58.785Z"
   },
   {
    "duration": 5,
    "start_time": "2021-08-13T20:40:59.106Z"
   },
   {
    "duration": 7,
    "start_time": "2021-08-13T20:41:00.297Z"
   },
   {
    "duration": 8,
    "start_time": "2021-08-13T20:41:03.927Z"
   },
   {
    "duration": 7,
    "start_time": "2021-08-13T20:41:15.770Z"
   },
   {
    "duration": 9,
    "start_time": "2021-08-13T20:41:23.923Z"
   },
   {
    "duration": 13,
    "start_time": "2021-08-13T20:41:41.906Z"
   },
   {
    "duration": 6,
    "start_time": "2021-08-13T20:41:44.819Z"
   },
   {
    "duration": 7,
    "start_time": "2021-08-13T20:41:45.170Z"
   },
   {
    "duration": 8,
    "start_time": "2021-08-13T20:41:45.578Z"
   },
   {
    "duration": 11,
    "start_time": "2021-08-13T20:41:46.098Z"
   },
   {
    "duration": 13,
    "start_time": "2021-08-13T20:41:56.082Z"
   },
   {
    "duration": 6,
    "start_time": "2021-08-13T20:42:33.945Z"
   },
   {
    "duration": 7,
    "start_time": "2021-08-13T20:42:34.993Z"
   },
   {
    "duration": 8,
    "start_time": "2021-08-13T20:42:36.081Z"
   },
   {
    "duration": 12,
    "start_time": "2021-08-13T20:42:38.618Z"
   },
   {
    "duration": 3,
    "start_time": "2021-08-13T20:43:22.746Z"
   },
   {
    "duration": 5,
    "start_time": "2021-08-13T20:43:23.145Z"
   },
   {
    "duration": 7,
    "start_time": "2021-08-13T20:43:23.569Z"
   },
   {
    "duration": 8,
    "start_time": "2021-08-13T20:43:25.849Z"
   },
   {
    "duration": 10,
    "start_time": "2021-08-13T20:43:26.673Z"
   },
   {
    "duration": 4,
    "start_time": "2021-08-13T20:43:29.561Z"
   },
   {
    "duration": 5,
    "start_time": "2021-08-13T20:43:30.385Z"
   },
   {
    "duration": 4,
    "start_time": "2021-08-13T20:43:31.233Z"
   },
   {
    "duration": 3,
    "start_time": "2021-08-13T20:43:34.154Z"
   },
   {
    "duration": 3,
    "start_time": "2021-08-13T20:43:35.225Z"
   },
   {
    "duration": 9,
    "start_time": "2021-08-13T20:44:22.374Z"
   },
   {
    "duration": 8,
    "start_time": "2021-08-13T20:44:22.992Z"
   },
   {
    "duration": 7,
    "start_time": "2021-08-13T20:44:24.257Z"
   },
   {
    "duration": 8,
    "start_time": "2021-08-13T20:44:25.105Z"
   },
   {
    "duration": 8,
    "start_time": "2021-08-13T20:44:25.889Z"
   },
   {
    "duration": 3,
    "start_time": "2021-08-13T20:46:48.425Z"
   },
   {
    "duration": 414,
    "start_time": "2021-08-13T20:46:48.912Z"
   },
   {
    "duration": 3,
    "start_time": "2021-08-13T20:47:06.464Z"
   },
   {
    "duration": 412,
    "start_time": "2021-08-13T20:47:07.432Z"
   },
   {
    "duration": 3,
    "start_time": "2021-08-13T20:47:11.569Z"
   },
   {
    "duration": 5,
    "start_time": "2021-08-13T20:47:13.048Z"
   },
   {
    "duration": 259,
    "start_time": "2021-08-13T20:47:20.352Z"
   },
   {
    "duration": 8,
    "start_time": "2021-08-13T20:47:31.200Z"
   },
   {
    "duration": 269,
    "start_time": "2021-08-13T20:48:15.559Z"
   },
   {
    "duration": 8,
    "start_time": "2021-08-13T20:48:21.215Z"
   },
   {
    "duration": 287,
    "start_time": "2021-08-13T20:48:21.272Z"
   },
   {
    "duration": 4,
    "start_time": "2021-08-13T20:48:45.704Z"
   },
   {
    "duration": 5,
    "start_time": "2021-08-13T20:49:08.432Z"
   },
   {
    "duration": 8,
    "start_time": "2021-08-13T20:49:13.549Z"
   },
   {
    "duration": 5,
    "start_time": "2021-08-13T20:49:23.584Z"
   },
   {
    "duration": 15,
    "start_time": "2021-08-13T20:50:05.184Z"
   },
   {
    "duration": 12,
    "start_time": "2021-08-13T20:50:21.286Z"
   },
   {
    "duration": 8,
    "start_time": "2021-08-13T20:50:28.008Z"
   },
   {
    "duration": 16,
    "start_time": "2021-08-13T20:50:52.872Z"
   },
   {
    "duration": 6,
    "start_time": "2021-08-13T20:51:49.432Z"
   },
   {
    "duration": 3,
    "start_time": "2021-08-13T20:52:48.823Z"
   },
   {
    "duration": 6,
    "start_time": "2021-08-13T20:52:49.710Z"
   },
   {
    "duration": 7,
    "start_time": "2021-08-13T20:52:51.023Z"
   },
   {
    "duration": 4,
    "start_time": "2021-08-13T20:52:51.542Z"
   },
   {
    "duration": 5,
    "start_time": "2021-08-13T20:52:51.927Z"
   },
   {
    "duration": 8,
    "start_time": "2021-08-13T20:52:52.220Z"
   },
   {
    "duration": 5,
    "start_time": "2021-08-13T20:52:52.655Z"
   },
   {
    "duration": 8,
    "start_time": "2021-08-13T20:52:53.359Z"
   },
   {
    "duration": 15,
    "start_time": "2021-08-13T20:52:56.462Z"
   },
   {
    "duration": 7,
    "start_time": "2021-08-13T20:52:56.886Z"
   },
   {
    "duration": 8,
    "start_time": "2021-08-13T20:52:59.039Z"
   },
   {
    "duration": 11,
    "start_time": "2021-08-13T20:53:00.790Z"
   },
   {
    "duration": 9,
    "start_time": "2021-08-13T20:53:03.415Z"
   },
   {
    "duration": 8,
    "start_time": "2021-08-13T20:53:04.214Z"
   },
   {
    "duration": 8,
    "start_time": "2021-08-13T20:53:05.087Z"
   },
   {
    "duration": 7,
    "start_time": "2021-08-13T20:53:17.855Z"
   },
   {
    "duration": 3,
    "start_time": "2021-08-13T20:54:25.687Z"
   },
   {
    "duration": 21,
    "start_time": "2021-08-13T20:54:25.926Z"
   },
   {
    "duration": 6,
    "start_time": "2021-08-13T20:54:26.639Z"
   },
   {
    "duration": 3,
    "start_time": "2021-08-13T20:54:29.334Z"
   },
   {
    "duration": 3,
    "start_time": "2021-08-13T20:54:29.639Z"
   },
   {
    "duration": 7,
    "start_time": "2021-08-13T20:54:29.998Z"
   },
   {
    "duration": 8,
    "start_time": "2021-08-13T20:54:30.366Z"
   },
   {
    "duration": 4,
    "start_time": "2021-08-13T20:54:31.351Z"
   },
   {
    "duration": 3,
    "start_time": "2021-08-13T20:54:31.775Z"
   },
   {
    "duration": 291,
    "start_time": "2021-08-13T20:54:32.623Z"
   },
   {
    "duration": 4,
    "start_time": "2021-08-13T20:54:50.271Z"
   },
   {
    "duration": 3,
    "start_time": "2021-08-13T20:56:08.651Z"
   },
   {
    "duration": 5,
    "start_time": "2021-08-13T20:56:09.070Z"
   },
   {
    "duration": 8,
    "start_time": "2021-08-13T20:56:10.613Z"
   },
   {
    "duration": 4,
    "start_time": "2021-08-13T20:56:30.287Z"
   },
   {
    "duration": 5,
    "start_time": "2021-08-13T20:56:31.054Z"
   },
   {
    "duration": 8,
    "start_time": "2021-08-13T20:56:31.558Z"
   },
   {
    "duration": 5,
    "start_time": "2021-08-13T20:56:32.606Z"
   },
   {
    "duration": 12,
    "start_time": "2021-08-13T20:56:33.230Z"
   },
   {
    "duration": 15,
    "start_time": "2021-08-13T20:56:34.221Z"
   },
   {
    "duration": 7,
    "start_time": "2021-08-13T20:56:35.686Z"
   },
   {
    "duration": 3,
    "start_time": "2021-08-13T20:56:43.070Z"
   },
   {
    "duration": 5,
    "start_time": "2021-08-13T20:56:43.429Z"
   },
   {
    "duration": 8,
    "start_time": "2021-08-13T20:56:43.918Z"
   },
   {
    "duration": 4,
    "start_time": "2021-08-13T20:56:44.253Z"
   },
   {
    "duration": 5,
    "start_time": "2021-08-13T20:56:45.110Z"
   },
   {
    "duration": 7,
    "start_time": "2021-08-13T20:56:45.310Z"
   },
   {
    "duration": 5,
    "start_time": "2021-08-13T20:56:46.029Z"
   },
   {
    "duration": 8,
    "start_time": "2021-08-13T20:56:46.317Z"
   },
   {
    "duration": 16,
    "start_time": "2021-08-13T20:56:46.917Z"
   },
   {
    "duration": 7,
    "start_time": "2021-08-13T20:56:47.342Z"
   },
   {
    "duration": 9,
    "start_time": "2021-08-13T20:56:47.845Z"
   },
   {
    "duration": 10,
    "start_time": "2021-08-13T20:56:48.949Z"
   },
   {
    "duration": 16,
    "start_time": "2021-08-13T20:57:19.934Z"
   },
   {
    "duration": 7,
    "start_time": "2021-08-13T20:57:31.486Z"
   },
   {
    "duration": 13,
    "start_time": "2021-08-13T20:57:36.450Z"
   },
   {
    "duration": 14,
    "start_time": "2021-08-13T20:57:39.277Z"
   },
   {
    "duration": 10,
    "start_time": "2021-08-13T20:58:21.629Z"
   },
   {
    "duration": 8,
    "start_time": "2021-08-13T20:58:42.486Z"
   },
   {
    "duration": 5,
    "start_time": "2021-08-13T20:58:51.589Z"
   },
   {
    "duration": 3,
    "start_time": "2021-08-13T21:00:28.278Z"
   },
   {
    "duration": 22,
    "start_time": "2021-08-13T21:00:28.477Z"
   },
   {
    "duration": 6,
    "start_time": "2021-08-13T21:00:28.676Z"
   },
   {
    "duration": 2,
    "start_time": "2021-08-13T21:00:29.517Z"
   },
   {
    "duration": 4,
    "start_time": "2021-08-13T21:00:29.757Z"
   },
   {
    "duration": 5,
    "start_time": "2021-08-13T21:00:29.981Z"
   },
   {
    "duration": 7,
    "start_time": "2021-08-13T21:00:30.286Z"
   },
   {
    "duration": 3,
    "start_time": "2021-08-13T21:00:30.709Z"
   },
   {
    "duration": 8,
    "start_time": "2021-08-13T21:00:47.908Z"
   },
   {
    "duration": 8,
    "start_time": "2021-08-13T21:01:42.437Z"
   },
   {
    "duration": 7,
    "start_time": "2021-08-13T21:01:50.405Z"
   },
   {
    "duration": 8,
    "start_time": "2021-08-13T21:02:51.493Z"
   },
   {
    "duration": 13,
    "start_time": "2021-08-13T21:02:52.684Z"
   },
   {
    "duration": 4,
    "start_time": "2021-08-13T21:03:05.245Z"
   },
   {
    "duration": 9,
    "start_time": "2021-08-13T21:03:05.844Z"
   },
   {
    "duration": 5,
    "start_time": "2021-08-13T21:03:07.827Z"
   },
   {
    "duration": 6,
    "start_time": "2021-08-13T21:03:10.580Z"
   },
   {
    "duration": 7,
    "start_time": "2021-08-13T21:03:11.492Z"
   },
   {
    "duration": 5,
    "start_time": "2021-08-13T21:03:12.957Z"
   },
   {
    "duration": 7,
    "start_time": "2021-08-13T21:03:13.364Z"
   },
   {
    "duration": 8,
    "start_time": "2021-08-13T21:03:14.396Z"
   },
   {
    "duration": 13,
    "start_time": "2021-08-13T21:03:19.980Z"
   },
   {
    "duration": 13,
    "start_time": "2021-08-13T21:03:21.604Z"
   },
   {
    "duration": 4,
    "start_time": "2021-08-13T21:03:21.803Z"
   },
   {
    "duration": 8,
    "start_time": "2021-08-13T21:03:22.068Z"
   },
   {
    "duration": 5,
    "start_time": "2021-08-13T21:03:23.204Z"
   },
   {
    "duration": 6,
    "start_time": "2021-08-13T21:03:23.771Z"
   },
   {
    "duration": 8,
    "start_time": "2021-08-13T21:03:24.412Z"
   },
   {
    "duration": 5,
    "start_time": "2021-08-13T21:03:25.412Z"
   },
   {
    "duration": 7,
    "start_time": "2021-08-13T21:03:26.540Z"
   },
   {
    "duration": 7,
    "start_time": "2021-08-13T21:03:27.172Z"
   },
   {
    "duration": 4,
    "start_time": "2021-08-13T21:04:07.155Z"
   },
   {
    "duration": 6,
    "start_time": "2021-08-13T21:04:07.852Z"
   },
   {
    "duration": 8,
    "start_time": "2021-08-13T21:04:09.052Z"
   },
   {
    "duration": 274,
    "start_time": "2021-08-13T21:04:10.772Z"
   },
   {
    "duration": 302,
    "start_time": "2021-08-13T21:04:11.092Z"
   },
   {
    "duration": 4,
    "start_time": "2021-08-13T21:04:11.419Z"
   },
   {
    "duration": 4,
    "start_time": "2021-08-13T21:04:34.241Z"
   },
   {
    "duration": 3,
    "start_time": "2021-08-13T21:04:34.524Z"
   },
   {
    "duration": 8,
    "start_time": "2021-08-13T21:04:34.779Z"
   },
   {
    "duration": 5,
    "start_time": "2021-08-13T21:04:35.548Z"
   },
   {
    "duration": 4,
    "start_time": "2021-08-13T21:04:53.508Z"
   },
   {
    "duration": 8,
    "start_time": "2021-08-13T21:04:53.763Z"
   },
   {
    "duration": 5,
    "start_time": "2021-08-13T21:04:54.011Z"
   },
   {
    "duration": 5,
    "start_time": "2021-08-13T21:04:55.644Z"
   },
   {
    "duration": 4,
    "start_time": "2021-08-13T21:04:57.132Z"
   },
   {
    "duration": 9,
    "start_time": "2021-08-13T21:04:58.971Z"
   },
   {
    "duration": 247,
    "start_time": "2021-08-13T21:04:59.412Z"
   },
   {
    "duration": 3,
    "start_time": "2021-08-13T21:05:19.460Z"
   },
   {
    "duration": 257,
    "start_time": "2021-08-13T21:05:19.683Z"
   },
   {
    "duration": 96,
    "start_time": "2021-08-14T10:38:34.360Z"
   },
   {
    "duration": 272,
    "start_time": "2021-08-14T10:39:55.765Z"
   },
   {
    "duration": 1317,
    "start_time": "2021-08-14T10:40:01.861Z"
   },
   {
    "duration": 36,
    "start_time": "2021-08-14T10:40:03.180Z"
   },
   {
    "duration": 9,
    "start_time": "2021-08-14T10:40:04.934Z"
   },
   {
    "duration": 15,
    "start_time": "2021-08-14T10:40:06.269Z"
   },
   {
    "duration": 33,
    "start_time": "2021-08-14T10:40:44.862Z"
   },
   {
    "duration": 483,
    "start_time": "2021-08-14T10:42:21.851Z"
   },
   {
    "duration": 643,
    "start_time": "2021-08-14T10:42:38.838Z"
   },
   {
    "duration": 1853,
    "start_time": "2021-08-14T10:42:59.853Z"
   },
   {
    "duration": 2048,
    "start_time": "2021-08-14T10:43:37.069Z"
   },
   {
    "duration": 4,
    "start_time": "2021-08-14T10:46:57.582Z"
   },
   {
    "duration": 4,
    "start_time": "2021-08-14T10:50:36.937Z"
   },
   {
    "duration": 394,
    "start_time": "2021-08-14T10:50:37.275Z"
   },
   {
    "duration": 6,
    "start_time": "2021-08-14T11:06:32.486Z"
   },
   {
    "duration": 4,
    "start_time": "2021-08-14T11:06:42.428Z"
   },
   {
    "duration": 4,
    "start_time": "2021-08-14T11:06:56.647Z"
   },
   {
    "duration": 6,
    "start_time": "2021-08-14T11:07:03.887Z"
   },
   {
    "duration": 6,
    "start_time": "2021-08-14T11:07:17.463Z"
   },
   {
    "duration": 84,
    "start_time": "2021-08-14T11:07:32.660Z"
   },
   {
    "duration": 6,
    "start_time": "2021-08-14T11:07:36.623Z"
   },
   {
    "duration": 1356,
    "start_time": "2021-08-14T16:09:16.640Z"
   },
   {
    "duration": 36,
    "start_time": "2021-08-14T16:09:17.998Z"
   },
   {
    "duration": 2223,
    "start_time": "2021-08-14T16:09:18.037Z"
   },
   {
    "duration": 14,
    "start_time": "2021-08-14T16:09:20.263Z"
   },
   {
    "duration": 5,
    "start_time": "2021-08-14T16:09:20.279Z"
   },
   {
    "duration": 8,
    "start_time": "2021-08-14T16:09:20.287Z"
   },
   {
    "duration": 12,
    "start_time": "2021-08-14T16:09:20.298Z"
   },
   {
    "duration": 5,
    "start_time": "2021-08-14T16:09:20.313Z"
   },
   {
    "duration": 47,
    "start_time": "2021-08-14T16:09:20.322Z"
   },
   {
    "duration": 388,
    "start_time": "2021-08-14T16:09:20.372Z"
   },
   {
    "duration": 538,
    "start_time": "2021-08-14T16:09:20.225Z"
   },
   {
    "duration": 538,
    "start_time": "2021-08-14T16:09:20.227Z"
   },
   {
    "duration": 537,
    "start_time": "2021-08-14T16:09:20.230Z"
   },
   {
    "duration": 536,
    "start_time": "2021-08-14T16:09:20.232Z"
   },
   {
    "duration": 535,
    "start_time": "2021-08-14T16:09:20.235Z"
   },
   {
    "duration": 535,
    "start_time": "2021-08-14T16:09:20.237Z"
   },
   {
    "duration": 534,
    "start_time": "2021-08-14T16:09:20.239Z"
   },
   {
    "duration": 533,
    "start_time": "2021-08-14T16:09:20.242Z"
   },
   {
    "duration": 532,
    "start_time": "2021-08-14T16:09:20.244Z"
   },
   {
    "duration": 532,
    "start_time": "2021-08-14T16:09:20.246Z"
   },
   {
    "duration": 530,
    "start_time": "2021-08-14T16:09:20.250Z"
   },
   {
    "duration": 528,
    "start_time": "2021-08-14T16:09:20.253Z"
   },
   {
    "duration": 528,
    "start_time": "2021-08-14T16:09:20.255Z"
   },
   {
    "duration": 527,
    "start_time": "2021-08-14T16:09:20.257Z"
   },
   {
    "duration": 526,
    "start_time": "2021-08-14T16:09:20.260Z"
   },
   {
    "duration": 525,
    "start_time": "2021-08-14T16:09:20.262Z"
   },
   {
    "duration": 4,
    "start_time": "2021-08-14T16:10:31.008Z"
   },
   {
    "duration": 9,
    "start_time": "2021-08-14T16:11:55.705Z"
   },
   {
    "duration": 5,
    "start_time": "2021-08-14T16:11:58.132Z"
   },
   {
    "duration": 7,
    "start_time": "2021-08-14T16:12:01.779Z"
   },
   {
    "duration": 6,
    "start_time": "2021-08-14T16:12:49.395Z"
   },
   {
    "duration": 3,
    "start_time": "2021-08-14T16:15:16.756Z"
   },
   {
    "duration": 234,
    "start_time": "2021-08-14T16:17:04.909Z"
   },
   {
    "duration": 4,
    "start_time": "2021-08-14T16:17:07.963Z"
   },
   {
    "duration": 4,
    "start_time": "2021-08-14T16:17:08.144Z"
   },
   {
    "duration": 17,
    "start_time": "2021-08-14T16:17:09.594Z"
   },
   {
    "duration": 4,
    "start_time": "2021-08-14T16:17:11.385Z"
   },
   {
    "duration": 4,
    "start_time": "2021-08-14T16:17:11.608Z"
   },
   {
    "duration": 3,
    "start_time": "2021-08-14T16:17:11.866Z"
   },
   {
    "duration": 16,
    "start_time": "2021-08-14T16:17:12.170Z"
   },
   {
    "duration": 12,
    "start_time": "2021-08-14T16:17:24.370Z"
   },
   {
    "duration": 12,
    "start_time": "2021-08-14T16:17:39.251Z"
   },
   {
    "duration": 12,
    "start_time": "2021-08-14T16:18:16.099Z"
   },
   {
    "duration": 8,
    "start_time": "2021-08-14T16:19:56.091Z"
   },
   {
    "duration": 5,
    "start_time": "2021-08-14T16:19:57.448Z"
   },
   {
    "duration": 219,
    "start_time": "2021-08-14T16:19:58.081Z"
   },
   {
    "duration": 5,
    "start_time": "2021-08-14T16:20:03.424Z"
   },
   {
    "duration": 3,
    "start_time": "2021-08-14T16:20:03.648Z"
   },
   {
    "duration": 3,
    "start_time": "2021-08-14T16:20:03.825Z"
   },
   {
    "duration": 15,
    "start_time": "2021-08-14T16:20:04.057Z"
   },
   {
    "duration": 13,
    "start_time": "2021-08-14T16:20:06.137Z"
   },
   {
    "duration": 7,
    "start_time": "2021-08-14T16:20:07.009Z"
   },
   {
    "duration": 9,
    "start_time": "2021-08-14T16:20:10.129Z"
   },
   {
    "duration": 7,
    "start_time": "2021-08-14T16:20:20.992Z"
   },
   {
    "duration": 6,
    "start_time": "2021-08-14T17:25:22.543Z"
   },
   {
    "duration": 13,
    "start_time": "2021-08-14T17:25:44.778Z"
   },
   {
    "duration": 13,
    "start_time": "2021-08-14T17:25:57.191Z"
   },
   {
    "duration": 16,
    "start_time": "2021-08-14T17:28:39.160Z"
   },
   {
    "duration": 13,
    "start_time": "2021-08-14T17:28:42.902Z"
   },
   {
    "duration": 9,
    "start_time": "2021-08-14T17:28:50.542Z"
   },
   {
    "duration": 5,
    "start_time": "2021-08-14T17:28:50.805Z"
   },
   {
    "duration": 6,
    "start_time": "2021-08-14T17:28:51.110Z"
   },
   {
    "duration": 16,
    "start_time": "2021-08-14T17:29:04.069Z"
   },
   {
    "duration": 13,
    "start_time": "2021-08-14T17:29:05.094Z"
   },
   {
    "duration": 18,
    "start_time": "2021-08-14T17:29:09.742Z"
   },
   {
    "duration": 13,
    "start_time": "2021-08-14T17:29:09.981Z"
   },
   {
    "duration": 4,
    "start_time": "2021-08-14T17:32:07.437Z"
   },
   {
    "duration": 17,
    "start_time": "2021-08-14T17:33:07.821Z"
   },
   {
    "duration": 13,
    "start_time": "2021-08-14T17:33:08.828Z"
   },
   {
    "duration": 7,
    "start_time": "2021-08-14T17:33:11.708Z"
   },
   {
    "duration": 5,
    "start_time": "2021-08-14T17:33:12.124Z"
   },
   {
    "duration": 6,
    "start_time": "2021-08-14T17:33:12.389Z"
   },
   {
    "duration": 6,
    "start_time": "2021-08-14T17:35:34.840Z"
   },
   {
    "duration": 5,
    "start_time": "2021-08-14T17:35:59.748Z"
   },
   {
    "duration": 7,
    "start_time": "2021-08-14T17:36:06.277Z"
   },
   {
    "duration": 7,
    "start_time": "2021-08-14T17:36:24.044Z"
   },
   {
    "duration": 5,
    "start_time": "2021-08-14T17:37:25.046Z"
   },
   {
    "duration": 3,
    "start_time": "2021-08-14T17:40:44.044Z"
   },
   {
    "duration": 1339,
    "start_time": "2021-08-14T17:41:01.352Z"
   },
   {
    "duration": 36,
    "start_time": "2021-08-14T17:41:02.693Z"
   },
   {
    "duration": 2249,
    "start_time": "2021-08-14T17:41:02.735Z"
   },
   {
    "duration": 16,
    "start_time": "2021-08-14T17:41:04.986Z"
   },
   {
    "duration": 5,
    "start_time": "2021-08-14T17:41:05.005Z"
   },
   {
    "duration": 11,
    "start_time": "2021-08-14T17:41:05.012Z"
   },
   {
    "duration": 42,
    "start_time": "2021-08-14T17:41:05.027Z"
   },
   {
    "duration": 5,
    "start_time": "2021-08-14T17:41:05.072Z"
   },
   {
    "duration": 8,
    "start_time": "2021-08-14T17:41:05.080Z"
   },
   {
    "duration": 6,
    "start_time": "2021-08-14T17:41:05.090Z"
   },
   {
    "duration": 9,
    "start_time": "2021-08-14T17:41:05.098Z"
   },
   {
    "duration": 4,
    "start_time": "2021-08-14T17:41:05.167Z"
   },
   {
    "duration": 97,
    "start_time": "2021-08-14T17:41:05.174Z"
   },
   {
    "duration": 12,
    "start_time": "2021-08-14T17:41:05.274Z"
   },
   {
    "duration": 9,
    "start_time": "2021-08-14T17:41:05.289Z"
   },
   {
    "duration": 4,
    "start_time": "2021-08-14T17:41:05.301Z"
   },
   {
    "duration": 10,
    "start_time": "2021-08-14T17:41:05.307Z"
   },
   {
    "duration": 48,
    "start_time": "2021-08-14T17:41:05.319Z"
   },
   {
    "duration": 87,
    "start_time": "2021-08-14T17:41:05.370Z"
   },
   {
    "duration": 2094,
    "start_time": "2021-08-14T18:19:04.422Z"
   },
   {
    "duration": 1945,
    "start_time": "2021-08-14T18:19:42.065Z"
   },
   {
    "duration": 5,
    "start_time": "2021-08-14T18:33:06.723Z"
   },
   {
    "duration": 8,
    "start_time": "2021-08-14T18:33:07.948Z"
   },
   {
    "duration": 9,
    "start_time": "2021-08-14T18:33:08.293Z"
   },
   {
    "duration": 5,
    "start_time": "2021-08-14T18:33:12.093Z"
   },
   {
    "duration": 6,
    "start_time": "2021-08-14T18:33:14.197Z"
   },
   {
    "duration": 4,
    "start_time": "2021-08-14T18:33:30.189Z"
   },
   {
    "duration": 9,
    "start_time": "2021-08-14T18:33:30.581Z"
   },
   {
    "duration": 4,
    "start_time": "2021-08-14T18:33:31.166Z"
   },
   {
    "duration": 25,
    "start_time": "2021-08-14T18:33:31.717Z"
   },
   {
    "duration": 14,
    "start_time": "2021-08-14T18:33:35.125Z"
   },
   {
    "duration": 13,
    "start_time": "2021-08-14T18:33:43.253Z"
   },
   {
    "duration": 13,
    "start_time": "2021-08-14T18:33:49.221Z"
   },
   {
    "duration": 12,
    "start_time": "2021-08-14T18:34:14.053Z"
   },
   {
    "duration": 3,
    "start_time": "2021-08-14T18:34:48.846Z"
   },
   {
    "duration": 1355,
    "start_time": "2021-08-14T18:34:58.228Z"
   },
   {
    "duration": 37,
    "start_time": "2021-08-14T18:34:59.586Z"
   },
   {
    "duration": 2237,
    "start_time": "2021-08-14T18:34:59.630Z"
   },
   {
    "duration": 5,
    "start_time": "2021-08-14T18:35:01.870Z"
   },
   {
    "duration": 15,
    "start_time": "2021-08-14T18:35:01.877Z"
   },
   {
    "duration": 18,
    "start_time": "2021-08-14T18:35:01.895Z"
   },
   {
    "duration": 8,
    "start_time": "2021-08-14T18:35:01.915Z"
   },
   {
    "duration": 17,
    "start_time": "2021-08-14T18:35:01.926Z"
   },
   {
    "duration": 38,
    "start_time": "2021-08-14T18:35:01.945Z"
   },
   {
    "duration": 27,
    "start_time": "2021-08-14T18:35:01.986Z"
   },
   {
    "duration": 52,
    "start_time": "2021-08-14T18:35:02.016Z"
   },
   {
    "duration": 106,
    "start_time": "2021-08-14T18:35:02.071Z"
   },
   {
    "duration": 13,
    "start_time": "2021-08-14T18:35:02.180Z"
   },
   {
    "duration": 23,
    "start_time": "2021-08-14T18:35:02.196Z"
   },
   {
    "duration": 8,
    "start_time": "2021-08-14T18:35:02.221Z"
   },
   {
    "duration": 35,
    "start_time": "2021-08-14T18:35:02.232Z"
   },
   {
    "duration": 7,
    "start_time": "2021-08-14T18:35:02.271Z"
   },
   {
    "duration": 6,
    "start_time": "2021-08-14T19:13:39.023Z"
   },
   {
    "duration": 13,
    "start_time": "2021-08-14T19:13:50.037Z"
   },
   {
    "duration": 7,
    "start_time": "2021-08-14T19:14:34.546Z"
   },
   {
    "duration": 13,
    "start_time": "2021-08-14T19:14:34.965Z"
   },
   {
    "duration": 7,
    "start_time": "2021-08-14T19:15:20.493Z"
   },
   {
    "duration": 324,
    "start_time": "2021-08-15T16:49:47.000Z"
   },
   {
    "duration": 1397,
    "start_time": "2021-08-15T16:49:53.290Z"
   },
   {
    "duration": 40,
    "start_time": "2021-08-15T16:49:54.690Z"
   },
   {
    "duration": 2818,
    "start_time": "2021-08-15T16:49:54.733Z"
   },
   {
    "duration": 15,
    "start_time": "2021-08-15T16:49:57.555Z"
   },
   {
    "duration": 12,
    "start_time": "2021-08-15T16:49:57.572Z"
   },
   {
    "duration": 10,
    "start_time": "2021-08-15T16:49:57.586Z"
   },
   {
    "duration": 8,
    "start_time": "2021-08-15T16:49:57.600Z"
   },
   {
    "duration": 14,
    "start_time": "2021-08-15T16:49:57.611Z"
   },
   {
    "duration": 4,
    "start_time": "2021-08-15T16:49:57.628Z"
   },
   {
    "duration": 9,
    "start_time": "2021-08-15T16:49:57.667Z"
   },
   {
    "duration": 9,
    "start_time": "2021-08-15T16:49:57.679Z"
   },
   {
    "duration": 98,
    "start_time": "2021-08-15T16:49:57.690Z"
   },
   {
    "duration": 13,
    "start_time": "2021-08-15T16:49:57.867Z"
   },
   {
    "duration": 11,
    "start_time": "2021-08-15T16:49:57.883Z"
   },
   {
    "duration": 5,
    "start_time": "2021-08-15T16:49:57.896Z"
   },
   {
    "duration": 8,
    "start_time": "2021-08-15T16:49:57.904Z"
   },
   {
    "duration": 10,
    "start_time": "2021-08-15T16:49:57.915Z"
   },
   {
    "duration": 6,
    "start_time": "2021-08-15T16:49:57.966Z"
   },
   {
    "duration": 12,
    "start_time": "2021-08-15T16:49:57.974Z"
   },
   {
    "duration": 9,
    "start_time": "2021-08-15T16:49:57.988Z"
   },
   {
    "duration": 10,
    "start_time": "2021-08-15T16:49:57.999Z"
   },
   {
    "duration": 8,
    "start_time": "2021-08-15T16:49:58.011Z"
   },
   {
    "duration": 5,
    "start_time": "2021-08-15T16:49:58.024Z"
   },
   {
    "duration": 6,
    "start_time": "2021-08-15T16:49:58.068Z"
   },
   {
    "duration": 7,
    "start_time": "2021-08-15T16:49:58.077Z"
   },
   {
    "duration": 12,
    "start_time": "2021-08-15T16:49:58.086Z"
   },
   {
    "duration": 71,
    "start_time": "2021-08-15T16:49:58.101Z"
   },
   {
    "duration": 99,
    "start_time": "2021-08-15T16:49:58.174Z"
   },
   {
    "duration": 12,
    "start_time": "2021-08-15T16:49:58.275Z"
   },
   {
    "duration": 11,
    "start_time": "2021-08-15T16:49:58.289Z"
   },
   {
    "duration": 5,
    "start_time": "2021-08-15T16:49:58.302Z"
   },
   {
    "duration": 8,
    "start_time": "2021-08-15T16:49:58.309Z"
   },
   {
    "duration": 50,
    "start_time": "2021-08-15T16:49:58.319Z"
   },
   {
    "duration": 7,
    "start_time": "2021-08-15T16:49:58.371Z"
   },
   {
    "duration": 12,
    "start_time": "2021-08-15T16:49:58.380Z"
   },
   {
    "duration": 5,
    "start_time": "2021-08-15T16:50:21.847Z"
   },
   {
    "duration": 86,
    "start_time": "2021-08-15T16:51:29.886Z"
   },
   {
    "duration": 5,
    "start_time": "2021-08-15T16:51:37.743Z"
   },
   {
    "duration": 6,
    "start_time": "2021-08-15T16:51:44.983Z"
   },
   {
    "duration": 6,
    "start_time": "2021-08-15T16:52:09.400Z"
   },
   {
    "duration": 5,
    "start_time": "2021-08-15T16:53:02.960Z"
   },
   {
    "duration": 8,
    "start_time": "2021-08-15T16:53:03.293Z"
   },
   {
    "duration": 9,
    "start_time": "2021-08-15T16:53:03.493Z"
   },
   {
    "duration": 5,
    "start_time": "2021-08-15T16:53:03.677Z"
   },
   {
    "duration": 7,
    "start_time": "2021-08-15T16:53:03.901Z"
   },
   {
    "duration": 4,
    "start_time": "2021-08-15T16:53:04.127Z"
   },
   {
    "duration": 5,
    "start_time": "2021-08-15T16:53:04.326Z"
   },
   {
    "duration": 5,
    "start_time": "2021-08-15T16:53:04.542Z"
   },
   {
    "duration": 9,
    "start_time": "2021-08-15T16:53:04.750Z"
   },
   {
    "duration": 5,
    "start_time": "2021-08-15T16:53:06.117Z"
   },
   {
    "duration": 7,
    "start_time": "2021-08-15T16:53:06.277Z"
   },
   {
    "duration": 6,
    "start_time": "2021-08-15T16:53:26.487Z"
   },
   {
    "duration": 6,
    "start_time": "2021-08-15T16:53:36.968Z"
   },
   {
    "duration": 6,
    "start_time": "2021-08-15T16:53:44.158Z"
   },
   {
    "duration": 6,
    "start_time": "2021-08-15T16:53:49.518Z"
   },
   {
    "duration": 5,
    "start_time": "2021-08-15T16:53:57.255Z"
   },
   {
    "duration": 390,
    "start_time": "2021-08-15T16:54:03.182Z"
   },
   {
    "duration": 217,
    "start_time": "2021-08-15T16:54:08.390Z"
   },
   {
    "duration": 6,
    "start_time": "2021-08-15T16:54:20.430Z"
   },
   {
    "duration": 5,
    "start_time": "2021-08-15T16:55:34.983Z"
   },
   {
    "duration": 4,
    "start_time": "2021-08-15T16:55:45.285Z"
   },
   {
    "duration": 6,
    "start_time": "2021-08-15T16:55:59.917Z"
   },
   {
    "duration": 7,
    "start_time": "2021-08-15T16:56:32.301Z"
   },
   {
    "duration": 7,
    "start_time": "2021-08-15T16:58:09.653Z"
   },
   {
    "duration": 4,
    "start_time": "2021-08-15T16:59:53.894Z"
   },
   {
    "duration": 8,
    "start_time": "2021-08-15T17:01:17.437Z"
   },
   {
    "duration": 7,
    "start_time": "2021-08-15T17:01:33.404Z"
   },
   {
    "duration": 1308,
    "start_time": "2021-08-15T17:01:52.181Z"
   },
   {
    "duration": 35,
    "start_time": "2021-08-15T17:01:53.492Z"
   },
   {
    "duration": 2530,
    "start_time": "2021-08-15T17:01:53.530Z"
   },
   {
    "duration": 5,
    "start_time": "2021-08-15T17:01:56.063Z"
   },
   {
    "duration": 19,
    "start_time": "2021-08-15T17:01:56.071Z"
   },
   {
    "duration": 15,
    "start_time": "2021-08-15T17:01:56.092Z"
   },
   {
    "duration": 21,
    "start_time": "2021-08-15T17:01:56.110Z"
   },
   {
    "duration": 38,
    "start_time": "2021-08-15T17:01:56.134Z"
   },
   {
    "duration": 93,
    "start_time": "2021-08-15T17:01:56.178Z"
   },
   {
    "duration": 8,
    "start_time": "2021-08-15T17:01:56.274Z"
   },
   {
    "duration": 7,
    "start_time": "2021-08-15T17:01:56.285Z"
   },
   {
    "duration": 9,
    "start_time": "2021-08-15T17:01:56.295Z"
   },
   {
    "duration": 11,
    "start_time": "2021-08-15T17:01:56.307Z"
   },
   {
    "duration": 50,
    "start_time": "2021-08-15T17:01:56.320Z"
   },
   {
    "duration": 12,
    "start_time": "2021-08-15T17:01:56.373Z"
   },
   {
    "duration": 4,
    "start_time": "2021-08-15T17:01:56.388Z"
   },
   {
    "duration": 10,
    "start_time": "2021-08-15T17:01:56.394Z"
   },
   {
    "duration": 5,
    "start_time": "2021-08-15T17:01:56.469Z"
   },
   {
    "duration": 102,
    "start_time": "2021-08-15T17:01:56.477Z"
   },
   {
    "duration": 12,
    "start_time": "2021-08-15T17:01:56.582Z"
   },
   {
    "duration": 12,
    "start_time": "2021-08-15T17:01:56.596Z"
   },
   {
    "duration": 5,
    "start_time": "2021-08-15T17:01:56.610Z"
   },
   {
    "duration": 8,
    "start_time": "2021-08-15T17:01:56.617Z"
   },
   {
    "duration": 45,
    "start_time": "2021-08-15T17:01:56.627Z"
   },
   {
    "duration": 6,
    "start_time": "2021-08-15T17:01:56.675Z"
   },
   {
    "duration": 12,
    "start_time": "2021-08-15T17:01:56.683Z"
   },
   {
    "duration": 7,
    "start_time": "2021-08-15T17:09:28.736Z"
   },
   {
    "duration": 6,
    "start_time": "2021-08-15T17:13:05.706Z"
   },
   {
    "duration": 6,
    "start_time": "2021-08-15T17:13:53.548Z"
   },
   {
    "duration": 68,
    "start_time": "2021-08-15T17:22:49.188Z"
   },
   {
    "duration": 30,
    "start_time": "2021-08-15T17:26:34.686Z"
   },
   {
    "duration": 13,
    "start_time": "2021-08-15T17:26:54.087Z"
   },
   {
    "duration": 10,
    "start_time": "2021-08-15T17:27:28.969Z"
   },
   {
    "duration": 105,
    "start_time": "2021-08-15T17:27:47.065Z"
   },
   {
    "duration": 13,
    "start_time": "2021-08-15T17:28:00.377Z"
   },
   {
    "duration": 10,
    "start_time": "2021-08-15T17:28:26.569Z"
   },
   {
    "duration": 13,
    "start_time": "2021-08-15T17:28:32.321Z"
   },
   {
    "duration": 9,
    "start_time": "2021-08-15T17:29:11.970Z"
   },
   {
    "duration": 413,
    "start_time": "2021-08-15T17:29:24.072Z"
   },
   {
    "duration": 10,
    "start_time": "2021-08-15T17:29:37.549Z"
   },
   {
    "duration": 263,
    "start_time": "2021-08-15T17:29:38.121Z"
   },
   {
    "duration": 10,
    "start_time": "2021-08-15T17:29:51.544Z"
   },
   {
    "duration": 14,
    "start_time": "2021-08-15T17:29:51.984Z"
   },
   {
    "duration": 12,
    "start_time": "2021-08-15T17:29:53.265Z"
   },
   {
    "duration": 238,
    "start_time": "2021-08-15T17:29:53.889Z"
   },
   {
    "duration": 13,
    "start_time": "2021-08-15T17:30:05.481Z"
   },
   {
    "duration": 14,
    "start_time": "2021-08-15T17:30:18.329Z"
   },
   {
    "duration": 93,
    "start_time": "2021-08-15T17:31:29.342Z"
   },
   {
    "duration": 82,
    "start_time": "2021-08-15T17:31:32.992Z"
   },
   {
    "duration": 99,
    "start_time": "2021-08-15T17:31:35.968Z"
   },
   {
    "duration": 12,
    "start_time": "2021-08-15T17:31:49.912Z"
   },
   {
    "duration": 230,
    "start_time": "2021-08-15T17:31:50.600Z"
   },
   {
    "duration": 16,
    "start_time": "2021-08-15T17:32:43.790Z"
   },
   {
    "duration": 11,
    "start_time": "2021-08-15T17:33:01.255Z"
   },
   {
    "duration": 13,
    "start_time": "2021-08-15T17:33:03.682Z"
   },
   {
    "duration": 210,
    "start_time": "2021-08-15T17:33:10.397Z"
   },
   {
    "duration": 17,
    "start_time": "2021-08-15T17:33:28.744Z"
   },
   {
    "duration": 16,
    "start_time": "2021-08-15T17:33:33.936Z"
   },
   {
    "duration": 6,
    "start_time": "2021-08-15T17:33:49.000Z"
   },
   {
    "duration": 215,
    "start_time": "2021-08-15T17:33:55.903Z"
   },
   {
    "duration": 8,
    "start_time": "2021-08-15T17:34:05.488Z"
   },
   {
    "duration": 14,
    "start_time": "2021-08-15T17:36:43.944Z"
   },
   {
    "duration": 14,
    "start_time": "2021-08-15T17:36:46.612Z"
   },
   {
    "duration": 7,
    "start_time": "2021-08-15T17:37:19.412Z"
   },
   {
    "duration": 7,
    "start_time": "2021-08-15T17:37:33.302Z"
   },
   {
    "duration": 18,
    "start_time": "2021-08-15T18:04:01.398Z"
   },
   {
    "duration": 6,
    "start_time": "2021-08-15T18:06:21.612Z"
   },
   {
    "duration": 7,
    "start_time": "2021-08-15T18:07:27.447Z"
   },
   {
    "duration": 14,
    "start_time": "2021-08-15T18:10:34.119Z"
   },
   {
    "duration": 308,
    "start_time": "2021-08-15T18:10:38.454Z"
   },
   {
    "duration": 9,
    "start_time": "2021-08-15T18:10:41.062Z"
   },
   {
    "duration": 12,
    "start_time": "2021-08-15T18:10:44.414Z"
   },
   {
    "duration": 381,
    "start_time": "2021-08-15T18:11:04.822Z"
   },
   {
    "duration": 7,
    "start_time": "2021-08-15T18:11:17.694Z"
   },
   {
    "duration": 16,
    "start_time": "2021-08-15T18:11:36.438Z"
   },
   {
    "duration": 18,
    "start_time": "2021-08-15T18:11:40.837Z"
   },
   {
    "duration": 61,
    "start_time": "2021-08-15T18:11:41.008Z"
   },
   {
    "duration": 7,
    "start_time": "2021-08-15T18:11:41.214Z"
   },
   {
    "duration": 5,
    "start_time": "2021-08-15T18:12:03.870Z"
   },
   {
    "duration": 5,
    "start_time": "2021-08-15T18:12:26.751Z"
   },
   {
    "duration": 6,
    "start_time": "2021-08-15T18:12:52.375Z"
   },
   {
    "duration": 1309,
    "start_time": "2021-08-15T18:17:20.771Z"
   },
   {
    "duration": 35,
    "start_time": "2021-08-15T18:17:22.083Z"
   },
   {
    "duration": 2157,
    "start_time": "2021-08-15T18:17:22.121Z"
   },
   {
    "duration": 6,
    "start_time": "2021-08-15T18:17:24.280Z"
   },
   {
    "duration": 83,
    "start_time": "2021-08-15T18:17:24.288Z"
   },
   {
    "duration": 548,
    "start_time": "2021-08-15T18:17:24.375Z"
   },
   {
    "duration": 971,
    "start_time": "2021-08-15T18:17:23.956Z"
   },
   {
    "duration": 970,
    "start_time": "2021-08-15T18:17:23.959Z"
   },
   {
    "duration": 968,
    "start_time": "2021-08-15T18:17:23.962Z"
   },
   {
    "duration": 967,
    "start_time": "2021-08-15T18:17:23.965Z"
   },
   {
    "duration": 965,
    "start_time": "2021-08-15T18:17:23.968Z"
   },
   {
    "duration": 965,
    "start_time": "2021-08-15T18:17:23.970Z"
   },
   {
    "duration": 963,
    "start_time": "2021-08-15T18:17:23.973Z"
   },
   {
    "duration": 962,
    "start_time": "2021-08-15T18:17:23.976Z"
   },
   {
    "duration": 959,
    "start_time": "2021-08-15T18:17:23.980Z"
   },
   {
    "duration": 956,
    "start_time": "2021-08-15T18:17:23.985Z"
   },
   {
    "duration": 953,
    "start_time": "2021-08-15T18:17:23.989Z"
   },
   {
    "duration": 953,
    "start_time": "2021-08-15T18:17:23.991Z"
   },
   {
    "duration": 951,
    "start_time": "2021-08-15T18:17:23.994Z"
   },
   {
    "duration": 950,
    "start_time": "2021-08-15T18:17:23.997Z"
   },
   {
    "duration": 948,
    "start_time": "2021-08-15T18:17:24.000Z"
   },
   {
    "duration": 946,
    "start_time": "2021-08-15T18:17:24.003Z"
   },
   {
    "duration": 945,
    "start_time": "2021-08-15T18:17:24.006Z"
   },
   {
    "duration": 944,
    "start_time": "2021-08-15T18:17:24.008Z"
   },
   {
    "duration": 943,
    "start_time": "2021-08-15T18:17:24.011Z"
   },
   {
    "duration": 942,
    "start_time": "2021-08-15T18:17:24.013Z"
   },
   {
    "duration": 940,
    "start_time": "2021-08-15T18:17:24.016Z"
   },
   {
    "duration": 939,
    "start_time": "2021-08-15T18:17:24.019Z"
   },
   {
    "duration": 937,
    "start_time": "2021-08-15T18:17:24.022Z"
   },
   {
    "duration": 1290,
    "start_time": "2021-08-15T18:18:19.911Z"
   },
   {
    "duration": 35,
    "start_time": "2021-08-15T18:18:21.204Z"
   },
   {
    "duration": 2673,
    "start_time": "2021-08-15T18:18:21.242Z"
   },
   {
    "duration": 8,
    "start_time": "2021-08-15T18:18:23.918Z"
   },
   {
    "duration": 63,
    "start_time": "2021-08-15T18:18:23.928Z"
   },
   {
    "duration": 100,
    "start_time": "2021-08-15T18:18:24.068Z"
   },
   {
    "duration": 108,
    "start_time": "2021-08-15T18:18:24.171Z"
   },
   {
    "duration": 99,
    "start_time": "2021-08-15T18:18:24.368Z"
   },
   {
    "duration": 480,
    "start_time": "2021-08-15T18:18:24.474Z"
   },
   {
    "duration": 976,
    "start_time": "2021-08-15T18:18:23.981Z"
   },
   {
    "duration": 976,
    "start_time": "2021-08-15T18:18:23.983Z"
   },
   {
    "duration": 973,
    "start_time": "2021-08-15T18:18:23.987Z"
   },
   {
    "duration": 973,
    "start_time": "2021-08-15T18:18:23.989Z"
   },
   {
    "duration": 971,
    "start_time": "2021-08-15T18:18:23.992Z"
   },
   {
    "duration": 970,
    "start_time": "2021-08-15T18:18:23.995Z"
   },
   {
    "duration": 969,
    "start_time": "2021-08-15T18:18:23.997Z"
   },
   {
    "duration": 965,
    "start_time": "2021-08-15T18:18:24.002Z"
   },
   {
    "duration": 964,
    "start_time": "2021-08-15T18:18:24.005Z"
   },
   {
    "duration": 962,
    "start_time": "2021-08-15T18:18:24.008Z"
   },
   {
    "duration": 960,
    "start_time": "2021-08-15T18:18:24.011Z"
   },
   {
    "duration": 959,
    "start_time": "2021-08-15T18:18:24.013Z"
   },
   {
    "duration": 958,
    "start_time": "2021-08-15T18:18:24.016Z"
   },
   {
    "duration": 956,
    "start_time": "2021-08-15T18:18:24.019Z"
   },
   {
    "duration": 954,
    "start_time": "2021-08-15T18:18:24.022Z"
   },
   {
    "duration": 953,
    "start_time": "2021-08-15T18:18:24.024Z"
   },
   {
    "duration": 951,
    "start_time": "2021-08-15T18:18:24.027Z"
   },
   {
    "duration": 950,
    "start_time": "2021-08-15T18:18:24.030Z"
   },
   {
    "duration": 949,
    "start_time": "2021-08-15T18:18:24.032Z"
   },
   {
    "duration": 947,
    "start_time": "2021-08-15T18:18:24.035Z"
   },
   {
    "duration": 15,
    "start_time": "2021-08-15T18:19:31.710Z"
   },
   {
    "duration": 6,
    "start_time": "2021-08-15T18:19:33.553Z"
   },
   {
    "duration": 1356,
    "start_time": "2021-08-15T18:22:05.338Z"
   },
   {
    "duration": 36,
    "start_time": "2021-08-15T18:22:06.697Z"
   },
   {
    "duration": 2135,
    "start_time": "2021-08-15T18:22:06.735Z"
   },
   {
    "duration": 7,
    "start_time": "2021-08-15T18:22:08.872Z"
   },
   {
    "duration": 86,
    "start_time": "2021-08-15T18:22:08.882Z"
   },
   {
    "duration": 102,
    "start_time": "2021-08-15T18:22:08.971Z"
   },
   {
    "duration": 106,
    "start_time": "2021-08-15T18:22:09.076Z"
   },
   {
    "duration": 88,
    "start_time": "2021-08-15T18:22:09.187Z"
   },
   {
    "duration": 193,
    "start_time": "2021-08-15T18:22:09.279Z"
   },
   {
    "duration": 98,
    "start_time": "2021-08-15T18:22:09.476Z"
   },
   {
    "duration": 18,
    "start_time": "2021-08-15T18:22:09.578Z"
   },
   {
    "duration": 8,
    "start_time": "2021-08-15T18:22:09.668Z"
   },
   {
    "duration": 16,
    "start_time": "2021-08-15T18:22:09.678Z"
   },
   {
    "duration": 24,
    "start_time": "2021-08-15T18:22:09.696Z"
   },
   {
    "duration": 14,
    "start_time": "2021-08-15T18:22:09.722Z"
   },
   {
    "duration": 21,
    "start_time": "2021-08-15T18:22:09.739Z"
   },
   {
    "duration": 6,
    "start_time": "2021-08-15T18:22:09.762Z"
   },
   {
    "duration": 16,
    "start_time": "2021-08-15T18:22:09.771Z"
   },
   {
    "duration": 11,
    "start_time": "2021-08-15T18:22:09.789Z"
   },
   {
    "duration": 23,
    "start_time": "2021-08-15T18:22:09.802Z"
   },
   {
    "duration": 45,
    "start_time": "2021-08-15T18:22:09.829Z"
   },
   {
    "duration": 101,
    "start_time": "2021-08-15T18:22:09.877Z"
   },
   {
    "duration": 13,
    "start_time": "2021-08-15T18:22:09.982Z"
   },
   {
    "duration": 19,
    "start_time": "2021-08-15T18:22:09.998Z"
   },
   {
    "duration": 21,
    "start_time": "2021-08-15T18:22:10.019Z"
   },
   {
    "duration": 18,
    "start_time": "2021-08-15T18:22:10.043Z"
   },
   {
    "duration": 6,
    "start_time": "2021-08-15T18:22:10.067Z"
   },
   {
    "duration": 10,
    "start_time": "2021-08-15T18:22:10.076Z"
   },
   {
    "duration": 21,
    "start_time": "2021-08-15T18:22:10.088Z"
   },
   {
    "duration": 1307,
    "start_time": "2021-08-15T18:24:03.877Z"
   },
   {
    "duration": 39,
    "start_time": "2021-08-15T18:24:05.187Z"
   },
   {
    "duration": 2255,
    "start_time": "2021-08-15T18:24:05.231Z"
   },
   {
    "duration": 7,
    "start_time": "2021-08-15T18:24:07.489Z"
   },
   {
    "duration": 68,
    "start_time": "2021-08-15T18:24:07.499Z"
   },
   {
    "duration": 98,
    "start_time": "2021-08-15T18:24:07.571Z"
   },
   {
    "duration": 105,
    "start_time": "2021-08-15T18:24:07.675Z"
   },
   {
    "duration": 101,
    "start_time": "2021-08-15T18:24:07.871Z"
   },
   {
    "duration": 97,
    "start_time": "2021-08-15T18:24:07.976Z"
   },
   {
    "duration": 93,
    "start_time": "2021-08-15T18:24:08.078Z"
   },
   {
    "duration": 95,
    "start_time": "2021-08-15T18:24:08.176Z"
   },
   {
    "duration": 15,
    "start_time": "2021-08-15T18:24:08.273Z"
   },
   {
    "duration": 6,
    "start_time": "2021-08-15T18:24:08.290Z"
   },
   {
    "duration": 10,
    "start_time": "2021-08-15T18:24:08.298Z"
   },
   {
    "duration": 6,
    "start_time": "2021-08-15T18:24:08.310Z"
   },
   {
    "duration": 53,
    "start_time": "2021-08-15T18:24:08.319Z"
   },
   {
    "duration": 4,
    "start_time": "2021-08-15T18:24:08.375Z"
   },
   {
    "duration": 16,
    "start_time": "2021-08-15T18:24:08.382Z"
   },
   {
    "duration": 7,
    "start_time": "2021-08-15T18:24:08.400Z"
   },
   {
    "duration": 12,
    "start_time": "2021-08-15T18:24:08.409Z"
   },
   {
    "duration": 6,
    "start_time": "2021-08-15T18:24:08.468Z"
   },
   {
    "duration": 99,
    "start_time": "2021-08-15T18:24:08.479Z"
   },
   {
    "duration": 12,
    "start_time": "2021-08-15T18:24:08.581Z"
   },
   {
    "duration": 11,
    "start_time": "2021-08-15T18:24:08.597Z"
   },
   {
    "duration": 10,
    "start_time": "2021-08-15T18:24:08.611Z"
   },
   {
    "duration": 44,
    "start_time": "2021-08-15T18:24:08.623Z"
   },
   {
    "duration": 6,
    "start_time": "2021-08-15T18:24:08.671Z"
   },
   {
    "duration": 8,
    "start_time": "2021-08-15T18:24:08.681Z"
   },
   {
    "duration": 14,
    "start_time": "2021-08-15T18:24:08.692Z"
   },
   {
    "duration": 1332,
    "start_time": "2021-08-15T18:26:51.041Z"
   },
   {
    "duration": 35,
    "start_time": "2021-08-15T18:26:52.376Z"
   },
   {
    "duration": 2149,
    "start_time": "2021-08-15T18:26:52.414Z"
   },
   {
    "duration": 6,
    "start_time": "2021-08-15T18:26:54.568Z"
   },
   {
    "duration": 10,
    "start_time": "2021-08-15T18:26:54.577Z"
   },
   {
    "duration": 113,
    "start_time": "2021-08-15T18:26:54.668Z"
   },
   {
    "duration": 100,
    "start_time": "2021-08-15T18:26:54.868Z"
   },
   {
    "duration": 100,
    "start_time": "2021-08-15T18:26:54.973Z"
   },
   {
    "duration": 98,
    "start_time": "2021-08-15T18:26:55.077Z"
   },
   {
    "duration": 195,
    "start_time": "2021-08-15T18:26:55.178Z"
   },
   {
    "duration": 8,
    "start_time": "2021-08-15T18:26:55.376Z"
   },
   {
    "duration": 8,
    "start_time": "2021-08-15T18:26:55.387Z"
   },
   {
    "duration": 5,
    "start_time": "2021-08-15T18:26:55.398Z"
   },
   {
    "duration": 62,
    "start_time": "2021-08-15T18:26:55.405Z"
   },
   {
    "duration": 6,
    "start_time": "2021-08-15T18:26:55.469Z"
   },
   {
    "duration": 13,
    "start_time": "2021-08-15T18:26:55.477Z"
   },
   {
    "duration": 4,
    "start_time": "2021-08-15T18:26:55.493Z"
   },
   {
    "duration": 12,
    "start_time": "2021-08-15T18:26:55.500Z"
   },
   {
    "duration": 55,
    "start_time": "2021-08-15T18:26:55.514Z"
   },
   {
    "duration": 13,
    "start_time": "2021-08-15T18:26:55.571Z"
   },
   {
    "duration": 81,
    "start_time": "2021-08-15T18:26:55.587Z"
   },
   {
    "duration": 100,
    "start_time": "2021-08-15T18:26:55.670Z"
   },
   {
    "duration": 13,
    "start_time": "2021-08-15T18:26:55.774Z"
   },
   {
    "duration": 10,
    "start_time": "2021-08-15T18:26:55.790Z"
   },
   {
    "duration": 6,
    "start_time": "2021-08-15T18:26:55.802Z"
   },
   {
    "duration": 62,
    "start_time": "2021-08-15T18:26:55.810Z"
   },
   {
    "duration": 7,
    "start_time": "2021-08-15T18:26:55.875Z"
   },
   {
    "duration": 6,
    "start_time": "2021-08-15T18:26:55.885Z"
   },
   {
    "duration": 12,
    "start_time": "2021-08-15T18:26:55.894Z"
   },
   {
    "duration": 1314,
    "start_time": "2021-08-15T18:32:54.267Z"
   },
   {
    "duration": 38,
    "start_time": "2021-08-15T18:32:55.584Z"
   },
   {
    "duration": 2226,
    "start_time": "2021-08-15T18:32:55.626Z"
   },
   {
    "duration": 13,
    "start_time": "2021-08-15T18:32:57.855Z"
   },
   {
    "duration": 10,
    "start_time": "2021-08-15T18:32:57.871Z"
   },
   {
    "duration": 184,
    "start_time": "2021-08-15T18:32:57.884Z"
   },
   {
    "duration": 197,
    "start_time": "2021-08-15T18:32:58.071Z"
   },
   {
    "duration": 193,
    "start_time": "2021-08-15T18:32:58.276Z"
   },
   {
    "duration": 190,
    "start_time": "2021-08-15T18:32:58.476Z"
   },
   {
    "duration": 6,
    "start_time": "2021-08-15T18:32:58.670Z"
   },
   {
    "duration": 8,
    "start_time": "2021-08-15T18:32:58.678Z"
   },
   {
    "duration": 9,
    "start_time": "2021-08-15T18:32:58.689Z"
   },
   {
    "duration": 6,
    "start_time": "2021-08-15T18:32:58.701Z"
   },
   {
    "duration": 61,
    "start_time": "2021-08-15T18:32:58.710Z"
   },
   {
    "duration": 8,
    "start_time": "2021-08-15T18:32:58.773Z"
   },
   {
    "duration": 10,
    "start_time": "2021-08-15T18:32:58.784Z"
   },
   {
    "duration": 5,
    "start_time": "2021-08-15T18:32:58.797Z"
   },
   {
    "duration": 9,
    "start_time": "2021-08-15T18:32:58.805Z"
   },
   {
    "duration": 54,
    "start_time": "2021-08-15T18:32:58.817Z"
   },
   {
    "duration": 10,
    "start_time": "2021-08-15T18:32:58.874Z"
   },
   {
    "duration": 80,
    "start_time": "2021-08-15T18:32:58.887Z"
   },
   {
    "duration": 101,
    "start_time": "2021-08-15T18:32:58.970Z"
   },
   {
    "duration": 13,
    "start_time": "2021-08-15T18:32:59.073Z"
   },
   {
    "duration": 8,
    "start_time": "2021-08-15T18:32:59.088Z"
   },
   {
    "duration": 4,
    "start_time": "2021-08-15T18:32:59.099Z"
   },
   {
    "duration": 12,
    "start_time": "2021-08-15T18:32:59.106Z"
   },
   {
    "duration": 5,
    "start_time": "2021-08-15T18:32:59.123Z"
   },
   {
    "duration": 5,
    "start_time": "2021-08-15T18:32:59.167Z"
   },
   {
    "duration": 15,
    "start_time": "2021-08-15T18:32:59.174Z"
   },
   {
    "duration": 1294,
    "start_time": "2021-08-15T18:36:23.480Z"
   },
   {
    "duration": 37,
    "start_time": "2021-08-15T18:36:24.777Z"
   },
   {
    "duration": 2163,
    "start_time": "2021-08-15T18:36:24.819Z"
   },
   {
    "duration": 5,
    "start_time": "2021-08-15T18:36:26.985Z"
   },
   {
    "duration": 10,
    "start_time": "2021-08-15T18:36:26.992Z"
   },
   {
    "duration": 10,
    "start_time": "2021-08-15T18:36:27.004Z"
   },
   {
    "duration": 104,
    "start_time": "2021-08-15T18:36:27.069Z"
   },
   {
    "duration": 104,
    "start_time": "2021-08-15T18:36:27.177Z"
   },
   {
    "duration": 93,
    "start_time": "2021-08-15T18:36:27.283Z"
   },
   {
    "duration": 104,
    "start_time": "2021-08-15T18:36:27.469Z"
   },
   {
    "duration": 91,
    "start_time": "2021-08-15T18:36:27.580Z"
   },
   {
    "duration": 8,
    "start_time": "2021-08-15T18:36:27.673Z"
   },
   {
    "duration": 12,
    "start_time": "2021-08-15T18:36:27.684Z"
   },
   {
    "duration": 10,
    "start_time": "2021-08-15T18:36:27.698Z"
   },
   {
    "duration": 7,
    "start_time": "2021-08-15T18:36:27.710Z"
   },
   {
    "duration": 10,
    "start_time": "2021-08-15T18:36:27.719Z"
   },
   {
    "duration": 5,
    "start_time": "2021-08-15T18:36:27.768Z"
   },
   {
    "duration": 11,
    "start_time": "2021-08-15T18:36:27.776Z"
   },
   {
    "duration": 6,
    "start_time": "2021-08-15T18:36:27.790Z"
   },
   {
    "duration": 12,
    "start_time": "2021-08-15T18:36:27.799Z"
   },
   {
    "duration": 5,
    "start_time": "2021-08-15T18:36:27.869Z"
   },
   {
    "duration": 115,
    "start_time": "2021-08-15T18:36:27.878Z"
   },
   {
    "duration": 19,
    "start_time": "2021-08-15T18:36:27.996Z"
   },
   {
    "duration": 11,
    "start_time": "2021-08-15T18:36:28.069Z"
   },
   {
    "duration": 8,
    "start_time": "2021-08-15T18:36:28.083Z"
   },
   {
    "duration": 18,
    "start_time": "2021-08-15T18:36:28.094Z"
   },
   {
    "duration": 56,
    "start_time": "2021-08-15T18:36:28.115Z"
   },
   {
    "duration": 7,
    "start_time": "2021-08-15T18:36:28.175Z"
   },
   {
    "duration": 13,
    "start_time": "2021-08-15T18:36:28.185Z"
   }
  ],
  "kernelspec": {
   "display_name": "Python 3",
   "language": "python",
   "name": "python3"
  },
  "language_info": {
   "codemirror_mode": {
    "name": "ipython",
    "version": 3
   },
   "file_extension": ".py",
   "mimetype": "text/x-python",
   "name": "python",
   "nbconvert_exporter": "python",
   "pygments_lexer": "ipython3",
   "version": "3.9.2"
  },
  "toc": {
   "base_numbering": 1,
   "nav_menu": {},
   "number_sections": true,
   "sideBar": true,
   "skip_h1_title": true,
   "title_cell": "Содержание",
   "title_sidebar": "Contents",
   "toc_cell": true,
   "toc_position": {
    "height": "calc(100% - 180px)",
    "left": "10px",
    "top": "150px",
    "width": "494.396px"
   },
   "toc_section_display": true,
   "toc_window_display": false
  }
 },
 "nbformat": 4,
 "nbformat_minor": 4
}
