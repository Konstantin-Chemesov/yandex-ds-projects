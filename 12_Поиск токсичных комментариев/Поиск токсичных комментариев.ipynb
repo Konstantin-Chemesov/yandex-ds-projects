{
 "cells": [
  {
   "cell_type": "markdown",
   "metadata": {},
   "source": [
    "**Поиск токсичных комментариев**"
   ]
  },
  {
   "cell_type": "markdown",
   "metadata": {},
   "source": [
    "**Постановка задачи**\n",
    "Интернет-магазин «Викишоп» запускает новый сервис. Теперь пользователи могут редактировать и дополнять описания товаров, как в вики-сообществах. То есть клиенты предлагают свои правки и комментируют изменения других. Магазину нужен инструмент, который будет искать токсичные комментарии и отправлять их на модерацию. \n",
    "\n",
    "Обучите модель классифицировать комментарии на позитивные и негативные. В вашем распоряжении набор данных с разметкой о токсичности правок.\n",
    "\n",
    "Постройте модель со значением метрики качества *F1* не меньше 0.75. \n",
    "\n",
    "**Описание данных**\n",
    "\n",
    "Данные находятся в файле `toxic_comments.csv`. Столбец *text* в нём содержит текст комментария, а *toxic* — целевой признак."
   ]
  },
  {
   "cell_type": "markdown",
   "metadata": {},
   "source": [
    "**Содержание**\n",
    "\n",
    "1. Подготовка данных\n",
    "- Загрузка библиотек и датасета\n",
    "- Формирование функции для лемматизации\n",
    "- Создание корпусов признаков и целевого признака\n",
    "- Разделение датасета на обучающую и тестовую выборки\n",
    "2. Обучение\n",
    "- Модель решающего дерева\n",
    "- Модель логистической регрессии\n",
    "- CatBoost Classifier\n",
    "3. Выводы по проекту"
   ]
  },
  {
   "cell_type": "markdown",
   "metadata": {},
   "source": [
    "# Подготовка данных"
   ]
  },
  {
   "cell_type": "markdown",
   "metadata": {},
   "source": [
    "## Загрузка библиотек и датасета"
   ]
  },
  {
   "cell_type": "code",
   "execution_count": 1,
   "metadata": {},
   "outputs": [],
   "source": [
    "# Для начала подгрузим необходимые для дальнейшей работы библиотеки и инструменты\n",
    "\n",
    "import pandas as pd\n",
    "import numpy as np\n",
    "\n",
    "import torch\n",
    "import transformers\n",
    "from tqdm import notebook\n",
    "from tqdm import tqdm\n",
    "\n",
    "from sklearn.utils import resample\n",
    "from sklearn.feature_extraction.text import TfidfVectorizer\n",
    "from sklearn.feature_extraction.text import TfidfVectorizer \n",
    "from sklearn.model_selection import train_test_split\n",
    "\n",
    "import re\n",
    "import nltk\n",
    "from nltk.corpus import stopwords as nltk_stopwords\n",
    "from nltk.stem import WordNetLemmatizer\n",
    "\n",
    "# модели\n",
    "from sklearn.linear_model import LogisticRegression\n",
    "from sklearn.tree import DecisionTreeClassifier\n",
    "from catboost import CatBoostClassifier\n",
    "\n",
    "# метрика\n",
    "from sklearn.metrics import f1_score\n",
    "\n",
    "from datetime import datetime, time\n",
    "\n",
    "import warnings\n",
    "warnings.simplefilter(\"ignore\")\n",
    "\n",
    "start_full_time = datetime.now() "
   ]
  },
  {
   "cell_type": "code",
   "execution_count": 2,
   "metadata": {},
   "outputs": [],
   "source": [
    "# Загружаем файл с исходным датасетом и выводим его первые строки для визуального ознакомления\n",
    "\n",
    "try:\n",
    "    df = pd.read_csv('toxic_comments.csv')\n",
    "    df.head(10)\n",
    "except:\n",
    "    df = pd.read_csv('/datasets/toxic_comments.csv')\n",
    "    df.head(10)"
   ]
  },
  {
   "cell_type": "code",
   "execution_count": 3,
   "metadata": {},
   "outputs": [
    {
     "name": "stdout",
     "output_type": "stream",
     "text": [
      "<class 'pandas.core.frame.DataFrame'>\n",
      "RangeIndex: 159571 entries, 0 to 159570\n",
      "Data columns (total 2 columns):\n",
      " #   Column  Non-Null Count   Dtype \n",
      "---  ------  --------------   ----- \n",
      " 0   text    159571 non-null  object\n",
      " 1   toxic   159571 non-null  int64 \n",
      "dtypes: int64(1), object(1)\n",
      "memory usage: 2.4+ MB\n"
     ]
    }
   ],
   "source": [
    "# Для оценки состава датасета вызовем метод info()\n",
    "\n",
    "df.info()"
   ]
  },
  {
   "cell_type": "markdown",
   "metadata": {},
   "source": [
    "**Итого**, наш датасет состоит из 159571 объектов (строк) и всего 2 признаков:\n",
    "    \n",
    "- text - текст комментария, пропусков нет;\n",
    "- toxic - бинарный признак, где 1 - обозначение токсичного комментария, а 0 - нетоксичного, пропусков нет."
   ]
  },
  {
   "cell_type": "markdown",
   "metadata": {},
   "source": [
    "## Формирование функции для лемматизации"
   ]
  },
  {
   "cell_type": "code",
   "execution_count": 4,
   "metadata": {},
   "outputs": [
    {
     "name": "stderr",
     "output_type": "stream",
     "text": [
      "[nltk_data] Downloading package punkt to\n",
      "[nltk_data]     C:\\Users\\konst\\AppData\\Roaming\\nltk_data...\n",
      "[nltk_data]   Package punkt is already up-to-date!\n",
      "[nltk_data] Downloading package wordnet to\n",
      "[nltk_data]     C:\\Users\\konst\\AppData\\Roaming\\nltk_data...\n",
      "[nltk_data]   Package wordnet is already up-to-date!\n"
     ]
    },
    {
     "data": {
      "text/plain": [
       "True"
      ]
     },
     "execution_count": 4,
     "metadata": {},
     "output_type": "execute_result"
    }
   ],
   "source": [
    "nltk.download('punkt')\n",
    "nltk.download('wordnet')"
   ]
  },
  {
   "cell_type": "code",
   "execution_count": 5,
   "metadata": {},
   "outputs": [],
   "source": [
    "# Создадим класс лемматизатора\n",
    "\n",
    "lemmatizer = WordNetLemmatizer()"
   ]
  },
  {
   "cell_type": "code",
   "execution_count": 6,
   "metadata": {},
   "outputs": [],
   "source": [
    "# Для визуализации прогресса выполнения функции \n",
    "# применим метод tqdm()\n",
    "\n",
    "tqdm.pandas()\n",
    "\n",
    "# создадим функцию для лемматизации и очистки текста\n",
    "\n",
    "def clear_text(text):\n",
    "    word_list = nltk.word_tokenize(text) \n",
    "    clear_list = re.sub(r'[^A-Za-z]', ' ', ' '.join(word_list))\n",
    "    lemm_text = ' '.join([lemmatizer.lemmatize(w) for w in word_list]) \n",
    "\n",
    "    return lemm_text"
   ]
  },
  {
   "cell_type": "code",
   "execution_count": 7,
   "metadata": {},
   "outputs": [
    {
     "name": "stderr",
     "output_type": "stream",
     "text": [
      "100%|████████████████████████████████████████████████████████████████████████| 159571/159571 [01:38<00:00, 1615.90it/s]\n"
     ]
    }
   ],
   "source": [
    "# Применим функцию к набору данных\n",
    "\n",
    "df['lemm_text'] = df['text'].progress_apply(lambda x: clear_text(x))"
   ]
  },
  {
   "cell_type": "code",
   "execution_count": 8,
   "metadata": {},
   "outputs": [
    {
     "data": {
      "text/html": [
       "<div>\n",
       "<style scoped>\n",
       "    .dataframe tbody tr th:only-of-type {\n",
       "        vertical-align: middle;\n",
       "    }\n",
       "\n",
       "    .dataframe tbody tr th {\n",
       "        vertical-align: top;\n",
       "    }\n",
       "\n",
       "    .dataframe thead th {\n",
       "        text-align: right;\n",
       "    }\n",
       "</style>\n",
       "<table border=\"1\" class=\"dataframe\">\n",
       "  <thead>\n",
       "    <tr style=\"text-align: right;\">\n",
       "      <th></th>\n",
       "      <th>text</th>\n",
       "      <th>toxic</th>\n",
       "      <th>lemm_text</th>\n",
       "    </tr>\n",
       "  </thead>\n",
       "  <tbody>\n",
       "    <tr>\n",
       "      <th>0</th>\n",
       "      <td>Explanation\\nWhy the edits made under my usern...</td>\n",
       "      <td>0</td>\n",
       "      <td>Explanation Why the edits made under my userna...</td>\n",
       "    </tr>\n",
       "    <tr>\n",
       "      <th>1</th>\n",
       "      <td>D'aww! He matches this background colour I'm s...</td>\n",
       "      <td>0</td>\n",
       "      <td>D'aww ! He match this background colour I 'm s...</td>\n",
       "    </tr>\n",
       "    <tr>\n",
       "      <th>2</th>\n",
       "      <td>Hey man, I'm really not trying to edit war. It...</td>\n",
       "      <td>0</td>\n",
       "      <td>Hey man , I 'm really not trying to edit war ....</td>\n",
       "    </tr>\n",
       "    <tr>\n",
       "      <th>3</th>\n",
       "      <td>\"\\nMore\\nI can't make any real suggestions on ...</td>\n",
       "      <td>0</td>\n",
       "      <td>`` More I ca n't make any real suggestion on i...</td>\n",
       "    </tr>\n",
       "    <tr>\n",
       "      <th>4</th>\n",
       "      <td>You, sir, are my hero. Any chance you remember...</td>\n",
       "      <td>0</td>\n",
       "      <td>You , sir , are my hero . Any chance you remem...</td>\n",
       "    </tr>\n",
       "    <tr>\n",
       "      <th>...</th>\n",
       "      <td>...</td>\n",
       "      <td>...</td>\n",
       "      <td>...</td>\n",
       "    </tr>\n",
       "    <tr>\n",
       "      <th>159566</th>\n",
       "      <td>\":::::And for the second time of asking, when ...</td>\n",
       "      <td>0</td>\n",
       "      <td>`` : : : : : And for the second time of asking...</td>\n",
       "    </tr>\n",
       "    <tr>\n",
       "      <th>159567</th>\n",
       "      <td>You should be ashamed of yourself \\n\\nThat is ...</td>\n",
       "      <td>0</td>\n",
       "      <td>You should be ashamed of yourself That is a ho...</td>\n",
       "    </tr>\n",
       "    <tr>\n",
       "      <th>159568</th>\n",
       "      <td>Spitzer \\n\\nUmm, theres no actual article for ...</td>\n",
       "      <td>0</td>\n",
       "      <td>Spitzer Umm , there no actual article for pros...</td>\n",
       "    </tr>\n",
       "    <tr>\n",
       "      <th>159569</th>\n",
       "      <td>And it looks like it was actually you who put ...</td>\n",
       "      <td>0</td>\n",
       "      <td>And it look like it wa actually you who put on...</td>\n",
       "    </tr>\n",
       "    <tr>\n",
       "      <th>159570</th>\n",
       "      <td>\"\\nAnd ... I really don't think you understand...</td>\n",
       "      <td>0</td>\n",
       "      <td>`` And ... I really do n't think you understan...</td>\n",
       "    </tr>\n",
       "  </tbody>\n",
       "</table>\n",
       "<p>159571 rows × 3 columns</p>\n",
       "</div>"
      ],
      "text/plain": [
       "                                                     text  toxic  \\\n",
       "0       Explanation\\nWhy the edits made under my usern...      0   \n",
       "1       D'aww! He matches this background colour I'm s...      0   \n",
       "2       Hey man, I'm really not trying to edit war. It...      0   \n",
       "3       \"\\nMore\\nI can't make any real suggestions on ...      0   \n",
       "4       You, sir, are my hero. Any chance you remember...      0   \n",
       "...                                                   ...    ...   \n",
       "159566  \":::::And for the second time of asking, when ...      0   \n",
       "159567  You should be ashamed of yourself \\n\\nThat is ...      0   \n",
       "159568  Spitzer \\n\\nUmm, theres no actual article for ...      0   \n",
       "159569  And it looks like it was actually you who put ...      0   \n",
       "159570  \"\\nAnd ... I really don't think you understand...      0   \n",
       "\n",
       "                                                lemm_text  \n",
       "0       Explanation Why the edits made under my userna...  \n",
       "1       D'aww ! He match this background colour I 'm s...  \n",
       "2       Hey man , I 'm really not trying to edit war ....  \n",
       "3       `` More I ca n't make any real suggestion on i...  \n",
       "4       You , sir , are my hero . Any chance you remem...  \n",
       "...                                                   ...  \n",
       "159566  `` : : : : : And for the second time of asking...  \n",
       "159567  You should be ashamed of yourself That is a ho...  \n",
       "159568  Spitzer Umm , there no actual article for pros...  \n",
       "159569  And it look like it wa actually you who put on...  \n",
       "159570  `` And ... I really do n't think you understan...  \n",
       "\n",
       "[159571 rows x 3 columns]"
      ]
     },
     "execution_count": 8,
     "metadata": {},
     "output_type": "execute_result"
    }
   ],
   "source": [
    "df"
   ]
  },
  {
   "cell_type": "markdown",
   "metadata": {},
   "source": [
    "## Создание корпусов признаков и целевого признака"
   ]
  },
  {
   "cell_type": "code",
   "execution_count": 9,
   "metadata": {},
   "outputs": [],
   "source": [
    "# В отдельные переменные записываем признаки из датасета, а также целевой признак\n",
    "\n",
    "corpus = df['lemm_text']\n",
    "target = df['toxic']"
   ]
  },
  {
   "cell_type": "code",
   "execution_count": 10,
   "metadata": {},
   "outputs": [],
   "source": [
    "# Обучающие признаки переводим в формат юникода\n",
    "\n",
    "corpus = corpus.values.astype('U')"
   ]
  },
  {
   "cell_type": "markdown",
   "metadata": {},
   "source": [
    "## Разделение датасета на обучающую и тестовую выборки"
   ]
  },
  {
   "cell_type": "code",
   "execution_count": 11,
   "metadata": {},
   "outputs": [],
   "source": [
    "# Отделим от датасета тренировочнуи выборку из 80 % данных\n",
    "\n",
    "df_train, df_last = train_test_split(df, test_size=0.2, random_state=12345)"
   ]
  },
  {
   "cell_type": "code",
   "execution_count": 12,
   "metadata": {},
   "outputs": [],
   "source": [
    "# Делим \"отрезанные\" 20 % на тестовую валидационную выборки в соотношении 1:9\n",
    "\n",
    "df_valid, df_test = train_test_split(df_last, test_size=0.5, random_state=12345)"
   ]
  },
  {
   "cell_type": "code",
   "execution_count": 13,
   "metadata": {},
   "outputs": [
    {
     "data": {
      "text/plain": [
       "0    114670\n",
       "1     12986\n",
       "Name: toxic, dtype: int64"
      ]
     },
     "execution_count": 13,
     "metadata": {},
     "output_type": "execute_result"
    }
   ],
   "source": [
    "# Для оценки сбалансированности датасета вызовем метод value_counts() для целевого признака\n",
    "\n",
    "df_train['toxic'].value_counts()"
   ]
  },
  {
   "cell_type": "markdown",
   "metadata": {},
   "source": [
    "Отмечается значительный дисбаланс классов с перекосом в сторону нулей. Чтобы это исправить, необходимо применить upsampling"
   ]
  },
  {
   "cell_type": "code",
   "execution_count": 14,
   "metadata": {},
   "outputs": [],
   "source": [
    "# Разберем объекты по классам и запишем их в отдельные переменные\n",
    "\n",
    "df_nulls = df_train[df_train['toxic'] == 0]\n",
    "df_ones = df_train[df_train['toxic'] == 1]"
   ]
  },
  {
   "cell_type": "code",
   "execution_count": 15,
   "metadata": {},
   "outputs": [],
   "source": [
    "# Применим метод resample\n",
    "\n",
    "df_nulls_downsampled  = resample(df_nulls, replace=True, n_samples=df_train['toxic'].value_counts()[1]*2, random_state=12345)"
   ]
  },
  {
   "cell_type": "code",
   "execution_count": 16,
   "metadata": {},
   "outputs": [],
   "source": [
    "# Объединим полученные выборки\n",
    "\n",
    "df_train = pd.concat([df_nulls_downsampled, df_ones])"
   ]
  },
  {
   "cell_type": "code",
   "execution_count": 17,
   "metadata": {},
   "outputs": [
    {
     "data": {
      "text/plain": [
       "0    25972\n",
       "1    12986\n",
       "Name: toxic, dtype: int64"
      ]
     },
     "execution_count": 17,
     "metadata": {},
     "output_type": "execute_result"
    }
   ],
   "source": [
    "# Проверяем результат работы\n",
    "\n",
    "df_train['toxic'].value_counts()"
   ]
  },
  {
   "cell_type": "code",
   "execution_count": 18,
   "metadata": {},
   "outputs": [],
   "source": [
    "# Отделяем обучающие признаки от целевого\n",
    "\n",
    "corpus_train = df_train['lemm_text']\n",
    "corpus_valid = df_valid['lemm_text']\n",
    "corpus_test = df_test['lemm_text']\n",
    "\n",
    "target_train = df_train['toxic']\n",
    "target_valid = df_valid['toxic']\n",
    "target_test = df_test['toxic']"
   ]
  },
  {
   "cell_type": "code",
   "execution_count": 19,
   "metadata": {},
   "outputs": [
    {
     "name": "stderr",
     "output_type": "stream",
     "text": [
      "[nltk_data] Downloading package stopwords to\n",
      "[nltk_data]     C:\\Users\\konst\\AppData\\Roaming\\nltk_data...\n",
      "[nltk_data]   Package stopwords is already up-to-date!\n"
     ]
    },
    {
     "data": {
      "text/plain": [
       "TfidfVectorizer(min_df=2,\n",
       "                stop_words={'a', 'about', 'above', 'after', 'again', 'against',\n",
       "                            'ain', 'all', 'am', 'an', 'and', 'any', 'are',\n",
       "                            'aren', \"aren't\", 'as', 'at', 'be', 'because',\n",
       "                            'been', 'before', 'being', 'below', 'between',\n",
       "                            'both', 'but', 'by', 'can', 'couldn', \"couldn't\", ...})"
      ]
     },
     "execution_count": 19,
     "metadata": {},
     "output_type": "execute_result"
    }
   ],
   "source": [
    "# В целях формирования новых признаков для моделей рассчитаем и запишем в датасет TF-IDF,\n",
    "# при этом определим стоп-слова для их отбрасывания\n",
    "\n",
    "nltk.download('stopwords')\n",
    "stopwords = set(nltk_stopwords.words('english'))\n",
    "\n",
    "count_tf_idf = TfidfVectorizer(min_df=2, stop_words=stopwords)\n",
    "count_tf_idf.fit(corpus_train)"
   ]
  },
  {
   "cell_type": "code",
   "execution_count": 20,
   "metadata": {},
   "outputs": [
    {
     "data": {
      "text/plain": [
       "((38958, 31980), (15957, 31980), (15958, 31980))"
      ]
     },
     "execution_count": 20,
     "metadata": {},
     "output_type": "execute_result"
    }
   ],
   "source": [
    "# Формируем выборки обучающих, валидационных и тестовых признаков\n",
    "\n",
    "features_train = count_tf_idf.transform(corpus_train).toarray()\n",
    "features_valid = count_tf_idf.transform(corpus_valid).toarray()\n",
    "features_test = count_tf_idf.transform(corpus_test).toarray()\n",
    "\n",
    "features_train.shape, features_valid.shape, features_test.shape"
   ]
  },
  {
   "cell_type": "markdown",
   "metadata": {},
   "source": [
    "# Обучение"
   ]
  },
  {
   "cell_type": "markdown",
   "metadata": {},
   "source": [
    "## Модель решающего дерева"
   ]
  },
  {
   "cell_type": "code",
   "execution_count": 21,
   "metadata": {},
   "outputs": [],
   "source": [
    "# Подбираем оптимальные гиперпараметры модели с помощью цикла\n",
    "\n",
    "best_model_tree = None\n",
    "best_result_tree = 0\n",
    "best_depth_tree = 0\n",
    "\n",
    "for depth in range(1, 3):\n",
    "    model_tree = DecisionTreeClassifier(max_depth = depth,  random_state = 12345)\n",
    "    model_tree.fit(features_train, target_train)\n",
    "    prediction_tree_valid = model_tree.predict(features_valid)\n",
    "    f1_tree = f1_score(target_valid, prediction_tree_valid)\n",
    "    \n",
    "    if f1_tree > best_result_tree:\n",
    "        best_model_tree = model_tree\n",
    "        best_result_tree = f1_tree\n",
    "        best_depth_tree = depth"
   ]
  },
  {
   "cell_type": "code",
   "execution_count": 22,
   "metadata": {},
   "outputs": [
    {
     "data": {
      "text/plain": [
       "0.3714710252600297"
      ]
     },
     "execution_count": 22,
     "metadata": {},
     "output_type": "execute_result"
    }
   ],
   "source": [
    "best_result_tree"
   ]
  },
  {
   "cell_type": "code",
   "execution_count": 23,
   "metadata": {},
   "outputs": [
    {
     "name": "stdout",
     "output_type": "stream",
     "text": [
      "0:01:27.904777\n",
      "Wall time: 1min 27s\n"
     ]
    }
   ],
   "source": [
    "%%time\n",
    "start_time = datetime.now() \n",
    "\n",
    "# Обучаем модель на подобранных гиперпараметрах\n",
    "\n",
    "model_tree = DecisionTreeClassifier(max_depth = best_depth_tree,  random_state = 12345)\n",
    "model_tree.fit(features_train, target_train)\n",
    "        \n",
    "time_tree = datetime.now() - start_time\n",
    "print(str(time_tree))"
   ]
  },
  {
   "cell_type": "code",
   "execution_count": 24,
   "metadata": {},
   "outputs": [
    {
     "data": {
      "text/plain": [
       "0.3680241327300151"
      ]
     },
     "execution_count": 24,
     "metadata": {},
     "output_type": "execute_result"
    }
   ],
   "source": [
    "# Получим предсказания на тестовой выборке и рассчитаем метрику F1\n",
    "\n",
    "preds_test = best_model_tree.predict(features_test)\n",
    "f1_tree_test = f1_score(target_test, preds_test)\n",
    "f1_tree_test"
   ]
  },
  {
   "cell_type": "markdown",
   "metadata": {},
   "source": [
    "## Модель логистической регрессии"
   ]
  },
  {
   "cell_type": "code",
   "execution_count": 25,
   "metadata": {},
   "outputs": [
    {
     "name": "stdout",
     "output_type": "stream",
     "text": [
      "0:00:16.860794\n",
      "Wall time: 16.9 s\n"
     ]
    }
   ],
   "source": [
    "%%time\n",
    "start_time = datetime.now() \n",
    "\n",
    "# Обучим модель логистической регрессии\n",
    "\n",
    "\n",
    "model_lr = (LogisticRegression(solver='liblinear', \n",
    "                               random_state=12345)\n",
    "            .fit(features_train, target_train))\n",
    "            \n",
    "time_lr = datetime.now() - start_time\n",
    "print(str(time_lr))"
   ]
  },
  {
   "cell_type": "code",
   "execution_count": 26,
   "metadata": {},
   "outputs": [
    {
     "data": {
      "text/plain": [
       "0.7484370348317951"
      ]
     },
     "execution_count": 26,
     "metadata": {},
     "output_type": "execute_result"
    }
   ],
   "source": [
    "# Получаем предсказания на тренировочной выборке и рассчитаем метрику F1\n",
    "\n",
    "predictions = model_lr.predict(features_valid)\n",
    "f1_valid_lr = f1_score(target_valid, predictions)\n",
    "f1_valid_lr"
   ]
  },
  {
   "cell_type": "code",
   "execution_count": 27,
   "metadata": {},
   "outputs": [
    {
     "data": {
      "text/plain": [
       "0.7599510104102878"
      ]
     },
     "execution_count": 27,
     "metadata": {},
     "output_type": "execute_result"
    }
   ],
   "source": [
    "# Получаем предсказания на тестовой выборке и рассчитаем метрику F1\n",
    "\n",
    "predictions_test = model_lr.predict(features_test)\n",
    "f1_test_lr = f1_score(target_test, predictions_test)\n",
    "f1_test_lr"
   ]
  },
  {
   "cell_type": "markdown",
   "metadata": {},
   "source": [
    "## CatBoost Classifier"
   ]
  },
  {
   "cell_type": "code",
   "execution_count": 28,
   "metadata": {},
   "outputs": [
    {
     "name": "stdout",
     "output_type": "stream",
     "text": [
      "Learning rate set to 0.148456\n",
      "0:\tlearn: 0.4723818\ttotal: 357ms\tremaining: 1m 46s\n",
      "25:\tlearn: 0.7148134\ttotal: 4.66s\tremaining: 49.1s\n",
      "50:\tlearn: 0.7660957\ttotal: 8.97s\tremaining: 43.8s\n",
      "75:\tlearn: 0.7915156\ttotal: 13.3s\tremaining: 39.1s\n",
      "100:\tlearn: 0.8149594\ttotal: 17.6s\tremaining: 34.7s\n",
      "125:\tlearn: 0.8283847\ttotal: 21.8s\tremaining: 30.2s\n",
      "150:\tlearn: 0.8396529\ttotal: 26.1s\tremaining: 25.7s\n",
      "175:\tlearn: 0.8476096\ttotal: 30.3s\tremaining: 21.4s\n",
      "200:\tlearn: 0.8543981\ttotal: 34.6s\tremaining: 17s\n",
      "225:\tlearn: 0.8625346\ttotal: 38.8s\tremaining: 12.7s\n",
      "250:\tlearn: 0.8677069\ttotal: 43s\tremaining: 8.4s\n",
      "275:\tlearn: 0.8723386\ttotal: 47.3s\tremaining: 4.11s\n",
      "299:\tlearn: 0.8751739\ttotal: 51.3s\tremaining: 0us\n",
      "0:07:36.743058\n",
      "Wall time: 7min 36s\n"
     ]
    }
   ],
   "source": [
    "%%time\n",
    "start_time = datetime.now() \n",
    "\n",
    "# Обучим модель CatBoost Classifier\n",
    "\n",
    "model_cat = CatBoostClassifier(loss_function= 'Logloss', \n",
    "                               iterations=300,\n",
    "                               eval_metric='F1',\n",
    "                               random_state=12345)\n",
    "\n",
    "model_cat.fit(features_train, target_train, verbose=25)\n",
    "prediction = model_cat.predict(features_test)\n",
    "            \n",
    "time_cat = datetime.now() - start_time\n",
    "print(str(time_cat))"
   ]
  },
  {
   "cell_type": "code",
   "execution_count": 29,
   "metadata": {},
   "outputs": [
    {
     "data": {
      "text/plain": [
       "0.8751738965473632"
      ]
     },
     "execution_count": 29,
     "metadata": {},
     "output_type": "execute_result"
    }
   ],
   "source": [
    "# Получаем  метрику F1 на тренировочных данных\n",
    "\n",
    "f1_train_cat = model_cat.get_best_score()['learn']['F1']\n",
    "f1_train_cat"
   ]
  },
  {
   "cell_type": "code",
   "execution_count": 30,
   "metadata": {},
   "outputs": [
    {
     "data": {
      "text/plain": [
       "0.7586637527318139"
      ]
     },
     "execution_count": 30,
     "metadata": {},
     "output_type": "execute_result"
    }
   ],
   "source": [
    "# Получаем предсказания на тестовой выборке и рассчитаем метрику F1\n",
    "\n",
    "f1_test_cat = f1_score(target_test, prediction)\n",
    "f1_test_cat"
   ]
  },
  {
   "cell_type": "markdown",
   "metadata": {},
   "source": [
    "## Итоговая таблица"
   ]
  },
  {
   "cell_type": "code",
   "execution_count": 31,
   "metadata": {},
   "outputs": [
    {
     "data": {
      "text/html": [
       "<div>\n",
       "<style scoped>\n",
       "    .dataframe tbody tr th:only-of-type {\n",
       "        vertical-align: middle;\n",
       "    }\n",
       "\n",
       "    .dataframe tbody tr th {\n",
       "        vertical-align: top;\n",
       "    }\n",
       "\n",
       "    .dataframe thead th {\n",
       "        text-align: right;\n",
       "    }\n",
       "</style>\n",
       "<table border=\"1\" class=\"dataframe\">\n",
       "  <thead>\n",
       "    <tr style=\"text-align: right;\">\n",
       "      <th></th>\n",
       "      <th>Модель</th>\n",
       "      <th>F1_valid</th>\n",
       "      <th>F1_test</th>\n",
       "      <th>Скорость обучения</th>\n",
       "    </tr>\n",
       "  </thead>\n",
       "  <tbody>\n",
       "    <tr>\n",
       "      <th>0</th>\n",
       "      <td>LogisticRegression</td>\n",
       "      <td>0.748437</td>\n",
       "      <td>0.759951</td>\n",
       "      <td>0 days 00:00:16.860794</td>\n",
       "    </tr>\n",
       "    <tr>\n",
       "      <th>1</th>\n",
       "      <td>DecisionTreeClassifier</td>\n",
       "      <td>0.371471</td>\n",
       "      <td>0.368024</td>\n",
       "      <td>0 days 00:01:27.904777</td>\n",
       "    </tr>\n",
       "    <tr>\n",
       "      <th>2</th>\n",
       "      <td>CatBoostClassifier</td>\n",
       "      <td>0.875174</td>\n",
       "      <td>0.758664</td>\n",
       "      <td>0 days 00:07:36.743058</td>\n",
       "    </tr>\n",
       "  </tbody>\n",
       "</table>\n",
       "</div>"
      ],
      "text/plain": [
       "                   Модель  F1_valid   F1_test      Скорость обучения\n",
       "0      LogisticRegression  0.748437  0.759951 0 days 00:00:16.860794\n",
       "1  DecisionTreeClassifier  0.371471  0.368024 0 days 00:01:27.904777\n",
       "2      CatBoostClassifier  0.875174  0.758664 0 days 00:07:36.743058"
      ]
     },
     "execution_count": 31,
     "metadata": {},
     "output_type": "execute_result"
    }
   ],
   "source": [
    "# Сгруппируем результаты в отдельную таблиуцу\n",
    "\n",
    "table_final = pd.DataFrame({'Модель': ['LogisticRegression', 'DecisionTreeClassifier', 'CatBoostClassifier'],\n",
    "                            'F1_valid': [f1_valid_lr, best_result_tree, f1_train_cat],\n",
    "                            'F1_test': [f1_test_lr, f1_tree_test, f1_test_cat],\n",
    "                            'Скорость обучения': [time_lr, time_tree, time_cat]})\n",
    "\n",
    "table_final"
   ]
  },
  {
   "cell_type": "code",
   "execution_count": 32,
   "metadata": {},
   "outputs": [
    {
     "data": {
      "text/plain": [
       "datetime.timedelta(seconds=826, microseconds=32886)"
      ]
     },
     "execution_count": 32,
     "metadata": {},
     "output_type": "execute_result"
    }
   ],
   "source": [
    "full_time = datetime.now() - start_full_time\n",
    "full_time"
   ]
  },
  {
   "cell_type": "markdown",
   "metadata": {},
   "source": [
    "# Выводы по проекту"
   ]
  },
  {
   "cell_type": "markdown",
   "metadata": {},
   "source": [
    "В данной работе были отточены навыки загрузки необходимых библиотек, подготовки данных к работе, балансировки классов, лемматизации текстов, создания корпусов, разбития датасета на выборки.\n",
    "    \n",
    "Затем были обучены  ML-модели в версиях классификаторов - Логистическая Регрессия, Решающее Древо, CatBoost. Для каждой из них были получены предсказания для тестовой выборки. Полученные результаты позволяют судить о следующем:\n",
    "- модель решающего древа оказалась наименее пригодной для классификации текстов - обучается долго, налицо переобучение, метрика мала;\n",
    "- логистическая регрессия, несмотря на ее простоту, показала самую высокую метрику и быстрое обучение. \n",
    "- CatBoost демонстрирует самое высокое качество, но время обучения значительно больше, чем у LR.\n",
    "   \n",
    "Таким образом, логистическая регрессия рекомендована для использования в разрабатываемом продукте."
   ]
  },
  {
   "cell_type": "code",
   "execution_count": null,
   "metadata": {},
   "outputs": [],
   "source": []
  }
 ],
 "metadata": {
  "ExecuteTimeLog": [
   {
    "duration": 223,
    "start_time": "2021-09-29T20:16:48.632Z"
   },
   {
    "duration": 568,
    "start_time": "2021-09-29T20:16:50.992Z"
   },
   {
    "duration": 605,
    "start_time": "2021-09-29T20:16:51.960Z"
   },
   {
    "duration": 658,
    "start_time": "2021-09-29T20:17:27.250Z"
   },
   {
    "duration": 25,
    "start_time": "2021-09-29T20:17:58.897Z"
   },
   {
    "duration": 576,
    "start_time": "2021-09-29T20:21:05.573Z"
   },
   {
    "duration": 413,
    "start_time": "2021-09-29T20:22:14.543Z"
   },
   {
    "duration": 187,
    "start_time": "2021-09-29T20:23:09.447Z"
   },
   {
    "duration": 220,
    "start_time": "2021-09-29T20:23:19.712Z"
   },
   {
    "duration": 3,
    "start_time": "2021-09-29T20:23:26.632Z"
   },
   {
    "duration": 25,
    "start_time": "2021-09-29T20:23:30.265Z"
   },
   {
    "duration": 212,
    "start_time": "2021-09-29T20:23:41.007Z"
   },
   {
    "duration": 216,
    "start_time": "2021-09-29T20:23:45.304Z"
   },
   {
    "duration": 28,
    "start_time": "2021-09-29T20:23:51.127Z"
   },
   {
    "duration": 13515,
    "start_time": "2021-09-29T20:26:17.073Z"
   },
   {
    "duration": 13003,
    "start_time": "2021-09-29T20:26:35.912Z"
   },
   {
    "duration": 5,
    "start_time": "2021-09-29T20:26:56.903Z"
   },
   {
    "duration": 4,
    "start_time": "2021-09-29T20:27:19.567Z"
   },
   {
    "duration": 21715,
    "start_time": "2021-09-29T20:27:44.623Z"
   },
   {
    "duration": 8,
    "start_time": "2021-09-29T20:28:08.310Z"
   },
   {
    "duration": 4,
    "start_time": "2021-09-29T20:28:36.919Z"
   },
   {
    "duration": 4,
    "start_time": "2021-09-29T20:28:47.021Z"
   },
   {
    "duration": 15,
    "start_time": "2021-09-29T20:29:09.231Z"
   },
   {
    "duration": 208,
    "start_time": "2021-09-29T20:30:42.017Z"
   },
   {
    "duration": 3,
    "start_time": "2021-09-29T20:30:56.525Z"
   },
   {
    "duration": 132,
    "start_time": "2021-09-29T20:31:55.830Z"
   },
   {
    "duration": 649,
    "start_time": "2021-09-29T20:32:02.397Z"
   },
   {
    "duration": 4,
    "start_time": "2021-09-29T20:32:18.445Z"
   },
   {
    "duration": 233,
    "start_time": "2021-09-29T20:32:21.590Z"
   },
   {
    "duration": 14322,
    "start_time": "2021-09-29T20:32:38.103Z"
   },
   {
    "duration": 192,
    "start_time": "2021-09-29T20:34:02.414Z"
   },
   {
    "duration": 20,
    "start_time": "2021-09-29T20:34:14.330Z"
   },
   {
    "duration": 14,
    "start_time": "2021-09-29T20:34:25.493Z"
   },
   {
    "duration": 14,
    "start_time": "2021-09-29T20:34:31.012Z"
   },
   {
    "duration": 3,
    "start_time": "2021-09-29T20:35:23.285Z"
   },
   {
    "duration": 15037,
    "start_time": "2021-09-29T20:35:27.612Z"
   },
   {
    "duration": 13,
    "start_time": "2021-09-29T20:35:46.068Z"
   },
   {
    "duration": 14,
    "start_time": "2021-09-29T20:35:46.412Z"
   },
   {
    "duration": 190,
    "start_time": "2021-09-29T20:36:37.349Z"
   },
   {
    "duration": 14233,
    "start_time": "2021-09-29T20:37:17.189Z"
   },
   {
    "duration": 13,
    "start_time": "2021-09-29T20:37:33.613Z"
   },
   {
    "duration": 13,
    "start_time": "2021-09-29T20:37:33.876Z"
   },
   {
    "duration": 30872,
    "start_time": "2021-09-29T20:37:40.756Z"
   },
   {
    "duration": 12,
    "start_time": "2021-09-29T20:38:11.630Z"
   },
   {
    "duration": 14,
    "start_time": "2021-09-29T20:38:11.644Z"
   },
   {
    "duration": 12,
    "start_time": "2021-09-29T20:39:01.142Z"
   },
   {
    "duration": 14,
    "start_time": "2021-09-29T20:39:02.515Z"
   },
   {
    "duration": 4,
    "start_time": "2021-09-29T20:39:36.809Z"
   },
   {
    "duration": 599,
    "start_time": "2021-09-29T20:39:36.814Z"
   },
   {
    "duration": 25,
    "start_time": "2021-09-29T20:39:38.172Z"
   },
   {
    "duration": 25,
    "start_time": "2021-09-29T20:39:39.316Z"
   },
   {
    "duration": 22589,
    "start_time": "2021-09-29T20:39:40.651Z"
   },
   {
    "duration": 9,
    "start_time": "2021-09-29T20:40:03.242Z"
   },
   {
    "duration": 3,
    "start_time": "2021-09-29T20:40:07.292Z"
   },
   {
    "duration": 36175,
    "start_time": "2021-09-29T20:40:08.563Z"
   },
   {
    "duration": 13,
    "start_time": "2021-09-29T20:40:44.740Z"
   },
   {
    "duration": 8,
    "start_time": "2021-09-29T20:40:44.755Z"
   },
   {
    "duration": 455,
    "start_time": "2021-09-29T20:42:00.164Z"
   },
   {
    "duration": 9,
    "start_time": "2021-09-29T20:43:18.884Z"
   },
   {
    "duration": 9,
    "start_time": "2021-09-29T20:43:19.939Z"
   },
   {
    "duration": 189,
    "start_time": "2021-09-29T20:43:33.010Z"
   },
   {
    "duration": 840,
    "start_time": "2021-09-29T20:44:02.778Z"
   },
   {
    "duration": 9,
    "start_time": "2021-09-29T20:44:04.539Z"
   },
   {
    "duration": 833,
    "start_time": "2021-09-29T20:45:20.850Z"
   },
   {
    "duration": 10,
    "start_time": "2021-09-29T20:45:24.929Z"
   },
   {
    "duration": 295,
    "start_time": "2021-09-30T19:40:39.902Z"
   },
   {
    "duration": 1153,
    "start_time": "2021-09-30T19:40:42.844Z"
   },
   {
    "duration": 566,
    "start_time": "2021-09-30T19:40:43.999Z"
   },
   {
    "duration": 25,
    "start_time": "2021-09-30T19:40:45.858Z"
   },
   {
    "duration": 5,
    "start_time": "2021-09-30T19:40:46.243Z"
   },
   {
    "duration": 4,
    "start_time": "2021-09-30T19:40:53.211Z"
   },
   {
    "duration": 6,
    "start_time": "2021-09-30T19:40:56.610Z"
   },
   {
    "duration": 331,
    "start_time": "2021-09-30T19:41:51.226Z"
   },
   {
    "duration": 3271,
    "start_time": "2021-09-30T19:42:11.387Z"
   },
   {
    "duration": 536,
    "start_time": "2021-09-30T19:42:19.122Z"
   },
   {
    "duration": 5,
    "start_time": "2021-09-30T19:43:14.642Z"
   },
   {
    "duration": 325,
    "start_time": "2021-09-30T19:43:17.513Z"
   },
   {
    "duration": 537,
    "start_time": "2021-09-30T19:43:47.745Z"
   },
   {
    "duration": 9,
    "start_time": "2021-09-30T19:43:54.329Z"
   },
   {
    "duration": 26,
    "start_time": "2021-09-30T19:43:56.217Z"
   },
   {
    "duration": 27720,
    "start_time": "2021-09-30T19:44:28.994Z"
   },
   {
    "duration": 402,
    "start_time": "2021-09-30T19:45:21.426Z"
   },
   {
    "duration": 262,
    "start_time": "2021-09-30T19:45:37.641Z"
   },
   {
    "duration": 261,
    "start_time": "2021-09-30T19:45:44.809Z"
   },
   {
    "duration": 5390,
    "start_time": "2021-09-30T19:45:58.945Z"
   },
   {
    "duration": 3,
    "start_time": "2021-09-30T19:46:20.384Z"
   },
   {
    "duration": 7286,
    "start_time": "2021-09-30T19:46:39.184Z"
   },
   {
    "duration": 475,
    "start_time": "2021-09-30T19:46:46.473Z"
   },
   {
    "duration": 3,
    "start_time": "2021-09-30T19:46:46.950Z"
   },
   {
    "duration": 279,
    "start_time": "2021-09-30T19:46:54.793Z"
   },
   {
    "duration": 359,
    "start_time": "2021-09-30T19:52:43.679Z"
   },
   {
    "duration": 5493,
    "start_time": "2021-09-30T19:52:45.912Z"
   },
   {
    "duration": 857,
    "start_time": "2021-09-30T19:52:51.408Z"
   },
   {
    "duration": 24,
    "start_time": "2021-09-30T19:53:54.542Z"
   },
   {
    "duration": 95,
    "start_time": "2021-09-30T19:55:35.531Z"
   },
   {
    "duration": 7,
    "start_time": "2021-09-30T19:56:46.052Z"
   },
   {
    "duration": 16,
    "start_time": "2021-09-30T20:01:25.149Z"
   },
   {
    "duration": 18,
    "start_time": "2021-09-30T20:03:47.563Z"
   },
   {
    "duration": 14,
    "start_time": "2021-09-30T20:04:41.463Z"
   },
   {
    "duration": 6,
    "start_time": "2021-09-30T20:04:57.501Z"
   },
   {
    "duration": 5,
    "start_time": "2021-09-30T20:07:20.343Z"
   },
   {
    "duration": 1922,
    "start_time": "2021-09-30T20:07:50.215Z"
   },
   {
    "duration": 30668,
    "start_time": "2021-09-30T20:08:18.980Z"
   },
   {
    "duration": 437,
    "start_time": "2021-09-30T20:09:38.707Z"
   },
   {
    "duration": 5257,
    "start_time": "2021-09-30T20:10:02.868Z"
   },
   {
    "duration": 278,
    "start_time": "2021-09-30T20:10:14.411Z"
   },
   {
    "duration": 260,
    "start_time": "2021-09-30T20:10:28.811Z"
   },
   {
    "duration": 5,
    "start_time": "2021-09-30T20:10:53.747Z"
   },
   {
    "duration": 4147,
    "start_time": "2021-09-30T20:10:55.249Z"
   },
   {
    "duration": 331,
    "start_time": "2021-09-30T20:11:01.821Z"
   },
   {
    "duration": 3,
    "start_time": "2021-09-30T20:11:03.643Z"
   },
   {
    "duration": 400,
    "start_time": "2021-09-30T20:11:44.244Z"
   },
   {
    "duration": 4678,
    "start_time": "2021-09-30T20:12:00.881Z"
   },
   {
    "duration": 593,
    "start_time": "2021-09-30T20:12:05.561Z"
   },
   {
    "duration": 22,
    "start_time": "2021-09-30T20:12:06.156Z"
   },
   {
    "duration": 6,
    "start_time": "2021-09-30T20:12:06.180Z"
   },
   {
    "duration": 16,
    "start_time": "2021-09-30T20:12:06.187Z"
   },
   {
    "duration": 42,
    "start_time": "2021-09-30T20:12:06.205Z"
   },
   {
    "duration": 5,
    "start_time": "2021-09-30T20:12:06.248Z"
   },
   {
    "duration": 4,
    "start_time": "2021-09-30T20:12:06.256Z"
   },
   {
    "duration": 28820,
    "start_time": "2021-09-30T20:12:06.262Z"
   },
   {
    "duration": 449,
    "start_time": "2021-09-30T20:12:35.084Z"
   },
   {
    "duration": 5187,
    "start_time": "2021-09-30T20:12:35.535Z"
   },
   {
    "duration": 9,
    "start_time": "2021-09-30T20:12:40.723Z"
   },
   {
    "duration": 10,
    "start_time": "2021-09-30T20:12:40.734Z"
   },
   {
    "duration": 5100,
    "start_time": "2021-09-30T20:12:40.746Z"
   },
   {
    "duration": 399,
    "start_time": "2021-09-30T20:12:45.848Z"
   },
   {
    "duration": 3,
    "start_time": "2021-09-30T20:12:46.249Z"
   },
   {
    "duration": 5737,
    "start_time": "2021-10-05T19:49:22.713Z"
   },
   {
    "duration": 756,
    "start_time": "2021-10-05T19:49:28.453Z"
   },
   {
    "duration": 30,
    "start_time": "2021-10-05T19:49:29.212Z"
   },
   {
    "duration": 9,
    "start_time": "2021-10-05T19:49:29.263Z"
   },
   {
    "duration": 18,
    "start_time": "2021-10-05T19:49:29.275Z"
   },
   {
    "duration": 18,
    "start_time": "2021-10-05T19:49:29.295Z"
   },
   {
    "duration": 48,
    "start_time": "2021-10-05T19:49:29.316Z"
   },
   {
    "duration": 11,
    "start_time": "2021-10-05T19:49:29.368Z"
   },
   {
    "duration": 46771,
    "start_time": "2021-10-05T19:49:29.381Z"
   },
   {
    "duration": 601,
    "start_time": "2021-10-05T19:50:16.163Z"
   },
   {
    "duration": 7690,
    "start_time": "2021-10-05T19:50:16.767Z"
   },
   {
    "duration": 11,
    "start_time": "2021-10-05T19:50:24.459Z"
   },
   {
    "duration": 20,
    "start_time": "2021-10-05T19:50:24.474Z"
   },
   {
    "duration": 6875,
    "start_time": "2021-10-05T19:50:24.496Z"
   },
   {
    "duration": 496,
    "start_time": "2021-10-05T19:50:31.374Z"
   },
   {
    "duration": 93,
    "start_time": "2021-10-05T19:50:31.871Z"
   },
   {
    "duration": 6070,
    "start_time": "2021-10-05T19:51:43.574Z"
   },
   {
    "duration": 759,
    "start_time": "2021-10-05T19:51:49.646Z"
   },
   {
    "duration": 35,
    "start_time": "2021-10-05T19:51:50.410Z"
   },
   {
    "duration": 13,
    "start_time": "2021-10-05T19:51:50.464Z"
   },
   {
    "duration": 23,
    "start_time": "2021-10-05T19:51:50.480Z"
   },
   {
    "duration": 18,
    "start_time": "2021-10-05T19:51:50.506Z"
   },
   {
    "duration": 38,
    "start_time": "2021-10-05T19:51:50.526Z"
   },
   {
    "duration": 9,
    "start_time": "2021-10-05T19:51:50.567Z"
   },
   {
    "duration": 47823,
    "start_time": "2021-10-05T19:51:50.579Z"
   },
   {
    "duration": 560,
    "start_time": "2021-10-05T19:52:38.404Z"
   },
   {
    "duration": 8279,
    "start_time": "2021-10-05T19:52:38.967Z"
   },
   {
    "duration": 15,
    "start_time": "2021-10-05T19:52:47.249Z"
   },
   {
    "duration": 9,
    "start_time": "2021-10-05T19:52:47.266Z"
   },
   {
    "duration": 5087,
    "start_time": "2021-10-05T19:52:47.277Z"
   },
   {
    "duration": 500,
    "start_time": "2021-10-05T19:52:52.366Z"
   },
   {
    "duration": 93,
    "start_time": "2021-10-05T19:52:52.869Z"
   },
   {
    "duration": 25,
    "start_time": "2021-10-05T19:54:02.523Z"
   },
   {
    "duration": 861,
    "start_time": "2021-10-05T19:54:08.049Z"
   },
   {
    "duration": 222,
    "start_time": "2021-10-05T19:54:44.349Z"
   },
   {
    "duration": 239,
    "start_time": "2021-10-05T19:55:03.950Z"
   },
   {
    "duration": 6114,
    "start_time": "2021-10-05T19:55:56.000Z"
   },
   {
    "duration": 828,
    "start_time": "2021-10-05T19:56:02.117Z"
   },
   {
    "duration": 41,
    "start_time": "2021-10-05T19:56:02.952Z"
   },
   {
    "duration": 31,
    "start_time": "2021-10-05T19:56:02.996Z"
   },
   {
    "duration": 36,
    "start_time": "2021-10-05T19:56:03.029Z"
   },
   {
    "duration": 21,
    "start_time": "2021-10-05T19:56:03.068Z"
   },
   {
    "duration": 8,
    "start_time": "2021-10-05T19:56:03.091Z"
   },
   {
    "duration": 16,
    "start_time": "2021-10-05T19:56:03.102Z"
   },
   {
    "duration": 47958,
    "start_time": "2021-10-05T19:56:03.120Z"
   },
   {
    "duration": 591,
    "start_time": "2021-10-05T19:56:51.081Z"
   },
   {
    "duration": 7834,
    "start_time": "2021-10-05T19:56:51.675Z"
   },
   {
    "duration": 12,
    "start_time": "2021-10-05T19:56:59.512Z"
   },
   {
    "duration": 11,
    "start_time": "2021-10-05T19:56:59.526Z"
   },
   {
    "duration": 6136,
    "start_time": "2021-10-05T19:56:59.539Z"
   },
   {
    "duration": 583,
    "start_time": "2021-10-05T19:57:05.679Z"
   },
   {
    "duration": 4,
    "start_time": "2021-10-05T19:57:06.265Z"
   },
   {
    "duration": 718,
    "start_time": "2021-10-05T19:57:08.334Z"
   },
   {
    "duration": 292,
    "start_time": "2021-10-05T19:57:18.803Z"
   },
   {
    "duration": 381,
    "start_time": "2021-10-05T19:57:43.486Z"
   },
   {
    "duration": 6008,
    "start_time": "2021-10-05T19:58:11.144Z"
   },
   {
    "duration": 779,
    "start_time": "2021-10-05T19:58:17.155Z"
   },
   {
    "duration": 44,
    "start_time": "2021-10-05T19:58:17.941Z"
   },
   {
    "duration": 11,
    "start_time": "2021-10-05T19:58:17.988Z"
   },
   {
    "duration": 19,
    "start_time": "2021-10-05T19:58:18.001Z"
   },
   {
    "duration": 52,
    "start_time": "2021-10-05T19:58:18.022Z"
   },
   {
    "duration": 11,
    "start_time": "2021-10-05T19:58:18.076Z"
   },
   {
    "duration": 7,
    "start_time": "2021-10-05T19:58:18.093Z"
   },
   {
    "duration": 47490,
    "start_time": "2021-10-05T19:58:18.103Z"
   },
   {
    "duration": 576,
    "start_time": "2021-10-05T19:59:05.595Z"
   },
   {
    "duration": 7719,
    "start_time": "2021-10-05T19:59:06.174Z"
   },
   {
    "duration": 11,
    "start_time": "2021-10-05T19:59:13.895Z"
   },
   {
    "duration": 8,
    "start_time": "2021-10-05T19:59:13.909Z"
   },
   {
    "duration": 7358,
    "start_time": "2021-10-05T19:59:13.919Z"
   },
   {
    "duration": 582,
    "start_time": "2021-10-05T19:59:21.280Z"
   },
   {
    "duration": 4,
    "start_time": "2021-10-05T19:59:21.865Z"
   },
   {
    "duration": 1134,
    "start_time": "2021-10-05T19:59:21.872Z"
   },
   {
    "duration": 6208,
    "start_time": "2021-10-06T19:12:33.789Z"
   },
   {
    "duration": 1139,
    "start_time": "2021-10-06T19:12:40.000Z"
   },
   {
    "duration": 42,
    "start_time": "2021-10-06T19:12:41.143Z"
   },
   {
    "duration": 24,
    "start_time": "2021-10-06T19:12:41.189Z"
   },
   {
    "duration": 41,
    "start_time": "2021-10-06T19:12:41.216Z"
   },
   {
    "duration": 26,
    "start_time": "2021-10-06T19:12:41.261Z"
   },
   {
    "duration": 11,
    "start_time": "2021-10-06T19:12:41.290Z"
   },
   {
    "duration": 14,
    "start_time": "2021-10-06T19:12:41.304Z"
   },
   {
    "duration": 53750,
    "start_time": "2021-10-06T19:12:41.322Z"
   },
   {
    "duration": 619,
    "start_time": "2021-10-06T19:13:35.076Z"
   },
   {
    "duration": 7998,
    "start_time": "2021-10-06T19:13:35.697Z"
   },
   {
    "duration": 10,
    "start_time": "2021-10-06T19:13:43.698Z"
   },
   {
    "duration": 6,
    "start_time": "2021-10-06T19:13:43.711Z"
   },
   {
    "duration": 9553,
    "start_time": "2021-10-06T19:13:43.719Z"
   },
   {
    "duration": 846,
    "start_time": "2021-10-06T19:15:19.791Z"
   },
   {
    "duration": 99,
    "start_time": "2021-10-06T19:16:37.646Z"
   },
   {
    "duration": 395,
    "start_time": "2021-10-06T19:25:48.768Z"
   },
   {
    "duration": 5769,
    "start_time": "2021-10-06T19:25:53.227Z"
   },
   {
    "duration": 811,
    "start_time": "2021-10-06T19:25:59.000Z"
   },
   {
    "duration": 42,
    "start_time": "2021-10-06T19:25:59.815Z"
   },
   {
    "duration": 11,
    "start_time": "2021-10-06T19:25:59.861Z"
   },
   {
    "duration": 23,
    "start_time": "2021-10-06T19:25:59.875Z"
   },
   {
    "duration": 19,
    "start_time": "2021-10-06T19:25:59.900Z"
   },
   {
    "duration": 43,
    "start_time": "2021-10-06T19:25:59.921Z"
   },
   {
    "duration": 8,
    "start_time": "2021-10-06T19:25:59.967Z"
   },
   {
    "duration": 47585,
    "start_time": "2021-10-06T19:25:59.978Z"
   },
   {
    "duration": 584,
    "start_time": "2021-10-06T19:26:47.566Z"
   },
   {
    "duration": 7721,
    "start_time": "2021-10-06T19:26:48.158Z"
   },
   {
    "duration": 6,
    "start_time": "2021-10-06T19:27:06.061Z"
   },
   {
    "duration": 5,
    "start_time": "2021-10-06T19:27:14.467Z"
   },
   {
    "duration": 5907,
    "start_time": "2021-10-06T19:27:42.181Z"
   },
   {
    "duration": 775,
    "start_time": "2021-10-06T19:27:48.091Z"
   },
   {
    "duration": 31,
    "start_time": "2021-10-06T19:27:48.870Z"
   },
   {
    "duration": 9,
    "start_time": "2021-10-06T19:27:48.904Z"
   },
   {
    "duration": 48,
    "start_time": "2021-10-06T19:27:48.915Z"
   },
   {
    "duration": 19,
    "start_time": "2021-10-06T19:27:48.966Z"
   },
   {
    "duration": 8,
    "start_time": "2021-10-06T19:27:48.988Z"
   },
   {
    "duration": 8,
    "start_time": "2021-10-06T19:27:48.999Z"
   },
   {
    "duration": 51928,
    "start_time": "2021-10-06T19:27:49.011Z"
   },
   {
    "duration": 578,
    "start_time": "2021-10-06T19:28:40.942Z"
   },
   {
    "duration": 9642,
    "start_time": "2021-10-06T19:28:41.523Z"
   },
   {
    "duration": 8,
    "start_time": "2021-10-06T19:28:55.273Z"
   },
   {
    "duration": 15,
    "start_time": "2021-10-06T19:28:58.750Z"
   },
   {
    "duration": 4,
    "start_time": "2021-10-06T19:29:00.724Z"
   },
   {
    "duration": 3716,
    "start_time": "2021-10-06T19:29:02.553Z"
   },
   {
    "duration": 932,
    "start_time": "2021-10-06T19:29:11.344Z"
   },
   {
    "duration": 4,
    "start_time": "2021-10-06T19:29:15.298Z"
   },
   {
    "duration": 82718,
    "start_time": "2021-10-06T19:34:19.958Z"
   },
   {
    "duration": 302388,
    "start_time": "2021-10-06T19:35:56.849Z"
   },
   {
    "duration": 187089,
    "start_time": "2021-10-06T19:41:28.287Z"
   },
   {
    "duration": 39073,
    "start_time": "2021-10-06T19:45:02.090Z"
   },
   {
    "duration": -477,
    "start_time": "2021-10-06T19:45:41.642Z"
   },
   {
    "duration": 61776,
    "start_time": "2021-10-06T19:46:15.524Z"
   },
   {
    "duration": 4301,
    "start_time": "2021-10-06T19:47:58.474Z"
   },
   {
    "duration": 746,
    "start_time": "2021-10-06T19:48:02.778Z"
   },
   {
    "duration": 39,
    "start_time": "2021-10-06T19:48:03.528Z"
   },
   {
    "duration": 9,
    "start_time": "2021-10-06T19:48:03.571Z"
   },
   {
    "duration": 20,
    "start_time": "2021-10-06T19:48:03.582Z"
   },
   {
    "duration": 53,
    "start_time": "2021-10-06T19:48:03.605Z"
   },
   {
    "duration": 9,
    "start_time": "2021-10-06T19:48:03.660Z"
   },
   {
    "duration": 8,
    "start_time": "2021-10-06T19:48:03.671Z"
   },
   {
    "duration": 48014,
    "start_time": "2021-10-06T19:48:03.682Z"
   },
   {
    "duration": 602,
    "start_time": "2021-10-06T19:48:51.699Z"
   },
   {
    "duration": 6772,
    "start_time": "2021-10-06T19:48:52.304Z"
   },
   {
    "duration": 5,
    "start_time": "2021-10-06T19:48:59.079Z"
   },
   {
    "duration": 13,
    "start_time": "2021-10-06T19:48:59.087Z"
   },
   {
    "duration": 6,
    "start_time": "2021-10-06T19:48:59.102Z"
   },
   {
    "duration": 3161,
    "start_time": "2021-10-06T19:48:59.111Z"
   },
   {
    "duration": 985,
    "start_time": "2021-10-06T19:49:33.393Z"
   },
   {
    "duration": 5,
    "start_time": "2021-10-06T19:50:18.240Z"
   },
   {
    "duration": 6743,
    "start_time": "2021-10-06T19:52:36.683Z"
   },
   {
    "duration": 782,
    "start_time": "2021-10-06T19:52:43.429Z"
   },
   {
    "duration": 30,
    "start_time": "2021-10-06T19:52:44.214Z"
   },
   {
    "duration": 22,
    "start_time": "2021-10-06T19:52:44.247Z"
   },
   {
    "duration": 19,
    "start_time": "2021-10-06T19:52:44.272Z"
   },
   {
    "duration": 21,
    "start_time": "2021-10-06T19:52:44.294Z"
   },
   {
    "duration": 45,
    "start_time": "2021-10-06T19:52:44.317Z"
   },
   {
    "duration": 13,
    "start_time": "2021-10-06T19:52:44.364Z"
   },
   {
    "duration": 47045,
    "start_time": "2021-10-06T19:52:44.381Z"
   },
   {
    "duration": 583,
    "start_time": "2021-10-06T19:53:31.429Z"
   },
   {
    "duration": 7370,
    "start_time": "2021-10-06T19:53:32.014Z"
   },
   {
    "duration": 6,
    "start_time": "2021-10-06T19:53:39.386Z"
   },
   {
    "duration": 8,
    "start_time": "2021-10-06T19:53:39.395Z"
   },
   {
    "duration": 3357,
    "start_time": "2021-10-06T19:53:39.408Z"
   },
   {
    "duration": 994,
    "start_time": "2021-10-06T19:53:42.768Z"
   },
   {
    "duration": 5,
    "start_time": "2021-10-06T19:53:43.765Z"
   },
   {
    "duration": 389,
    "start_time": "2021-10-06T19:53:56.841Z"
   },
   {
    "duration": 371,
    "start_time": "2021-10-06T19:54:00.752Z"
   },
   {
    "duration": 937,
    "start_time": "2021-10-06T19:54:19.951Z"
   },
   {
    "duration": 388,
    "start_time": "2021-10-06T19:54:21.823Z"
   },
   {
    "duration": 5879,
    "start_time": "2021-10-06T19:55:01.951Z"
   },
   {
    "duration": 779,
    "start_time": "2021-10-06T19:55:07.833Z"
   },
   {
    "duration": 36,
    "start_time": "2021-10-06T19:55:10.040Z"
   },
   {
    "duration": 10,
    "start_time": "2021-10-06T19:55:21.750Z"
   },
   {
    "duration": 21,
    "start_time": "2021-10-06T19:55:24.920Z"
   },
   {
    "duration": 19,
    "start_time": "2021-10-06T19:55:26.590Z"
   },
   {
    "duration": 8,
    "start_time": "2021-10-06T19:55:33.400Z"
   },
   {
    "duration": 8,
    "start_time": "2021-10-06T19:55:34.703Z"
   },
   {
    "duration": 47334,
    "start_time": "2021-10-06T19:55:36.800Z"
   },
   {
    "duration": 575,
    "start_time": "2021-10-06T19:56:28.911Z"
   },
   {
    "duration": 6609,
    "start_time": "2021-10-06T19:56:30.948Z"
   },
   {
    "duration": 6,
    "start_time": "2021-10-06T19:56:37.560Z"
   },
   {
    "duration": 5,
    "start_time": "2021-10-06T19:56:42.778Z"
   },
   {
    "duration": 6,
    "start_time": "2021-10-06T19:56:51.911Z"
   },
   {
    "duration": 11,
    "start_time": "2021-10-06T19:57:06.001Z"
   },
   {
    "duration": 6,
    "start_time": "2021-10-06T19:57:07.584Z"
   },
   {
    "duration": 4,
    "start_time": "2021-10-06T19:58:07.111Z"
   },
   {
    "duration": 3894,
    "start_time": "2021-10-06T19:58:08.270Z"
   },
   {
    "duration": 4860,
    "start_time": "2021-10-07T18:14:51.827Z"
   },
   {
    "duration": 646,
    "start_time": "2021-10-07T18:15:01.629Z"
   },
   {
    "duration": 28,
    "start_time": "2021-10-07T18:15:05.985Z"
   },
   {
    "duration": 7,
    "start_time": "2021-10-07T18:15:08.331Z"
   },
   {
    "duration": 18,
    "start_time": "2021-10-07T18:15:16.954Z"
   },
   {
    "duration": 16,
    "start_time": "2021-10-07T18:15:53.475Z"
   },
   {
    "duration": 6,
    "start_time": "2021-10-07T18:15:56.222Z"
   },
   {
    "duration": 6,
    "start_time": "2021-10-07T18:16:00.783Z"
   },
   {
    "duration": 28865,
    "start_time": "2021-10-07T18:16:21.667Z"
   },
   {
    "duration": 438,
    "start_time": "2021-10-07T18:16:54.876Z"
   },
   {
    "duration": 7586,
    "start_time": "2021-10-07T18:17:03.953Z"
   },
   {
    "duration": 4,
    "start_time": "2021-10-07T18:17:17.466Z"
   },
   {
    "duration": 11,
    "start_time": "2021-10-07T18:17:19.030Z"
   },
   {
    "duration": 2,
    "start_time": "2021-10-07T18:17:22.553Z"
   },
   {
    "duration": 7132,
    "start_time": "2021-10-07T18:17:24.520Z"
   },
   {
    "duration": 6418,
    "start_time": "2021-10-07T18:17:32.631Z"
   },
   {
    "duration": 267,
    "start_time": "2021-10-07T18:17:40.784Z"
   },
   {
    "duration": 2,
    "start_time": "2021-10-07T18:17:51.750Z"
   },
   {
    "duration": 2358,
    "start_time": "2021-10-07T18:18:19.791Z"
   },
   {
    "duration": 4218,
    "start_time": "2021-10-07T18:19:40.700Z"
   },
   {
    "duration": 657,
    "start_time": "2021-10-07T18:19:44.920Z"
   },
   {
    "duration": 27,
    "start_time": "2021-10-07T18:19:45.579Z"
   },
   {
    "duration": 6,
    "start_time": "2021-10-07T18:19:45.608Z"
   },
   {
    "duration": 40,
    "start_time": "2021-10-07T18:19:45.616Z"
   },
   {
    "duration": 16,
    "start_time": "2021-10-07T18:19:45.657Z"
   },
   {
    "duration": 5,
    "start_time": "2021-10-07T18:19:45.675Z"
   },
   {
    "duration": 9,
    "start_time": "2021-10-07T18:19:45.682Z"
   },
   {
    "duration": 28868,
    "start_time": "2021-10-07T18:19:45.693Z"
   },
   {
    "duration": 453,
    "start_time": "2021-10-07T18:20:14.563Z"
   },
   {
    "duration": 6106,
    "start_time": "2021-10-07T18:20:15.017Z"
   },
   {
    "duration": 5,
    "start_time": "2021-10-07T18:20:21.124Z"
   },
   {
    "duration": 23,
    "start_time": "2021-10-07T18:20:21.131Z"
   },
   {
    "duration": 18,
    "start_time": "2021-10-07T18:20:21.156Z"
   },
   {
    "duration": 7279,
    "start_time": "2021-10-07T18:20:21.175Z"
   },
   {
    "duration": 295,
    "start_time": "2021-10-07T18:20:28.456Z"
   },
   {
    "duration": 4,
    "start_time": "2021-10-07T18:20:28.754Z"
   },
   {
    "duration": 2299,
    "start_time": "2021-10-07T18:20:28.850Z"
   },
   {
    "duration": 164,
    "start_time": "2021-10-07T18:21:37.340Z"
   },
   {
    "duration": 537,
    "start_time": "2021-10-07T18:22:04.127Z"
   },
   {
    "duration": 169,
    "start_time": "2021-10-07T18:22:21.303Z"
   },
   {
    "duration": 213,
    "start_time": "2021-10-07T18:22:22.955Z"
   },
   {
    "duration": 6,
    "start_time": "2021-10-07T18:22:27.594Z"
   },
   {
    "duration": 3,
    "start_time": "2021-10-07T18:22:51.273Z"
   },
   {
    "duration": 4774,
    "start_time": "2021-10-07T18:22:51.684Z"
   },
   {
    "duration": 164,
    "start_time": "2021-10-07T18:22:59.681Z"
   },
   {
    "duration": 7,
    "start_time": "2021-10-07T18:23:00.945Z"
   },
   {
    "duration": 5,
    "start_time": "2021-10-07T18:23:04.840Z"
   },
   {
    "duration": 3,
    "start_time": "2021-10-07T18:23:06.792Z"
   },
   {
    "duration": 5378,
    "start_time": "2021-10-07T18:23:08.450Z"
   },
   {
    "duration": 168,
    "start_time": "2021-10-07T18:23:15.064Z"
   },
   {
    "duration": 7,
    "start_time": "2021-10-07T18:23:16.344Z"
   },
   {
    "duration": 4,
    "start_time": "2021-10-07T18:23:20.051Z"
   },
   {
    "duration": 7083,
    "start_time": "2021-10-07T18:23:20.422Z"
   },
   {
    "duration": 175,
    "start_time": "2021-10-07T18:23:27.507Z"
   },
   {
    "duration": 6,
    "start_time": "2021-10-07T18:23:27.684Z"
   },
   {
    "duration": 3,
    "start_time": "2021-10-07T18:23:31.394Z"
   },
   {
    "duration": 8222,
    "start_time": "2021-10-07T18:23:31.671Z"
   },
   {
    "duration": 178,
    "start_time": "2021-10-07T18:23:39.895Z"
   },
   {
    "duration": 6,
    "start_time": "2021-10-07T18:23:40.075Z"
   },
   {
    "duration": 67,
    "start_time": "2021-10-07T18:23:45.978Z"
   },
   {
    "duration": 7760,
    "start_time": "2021-10-07T18:23:46.116Z"
   },
   {
    "duration": 173,
    "start_time": "2021-10-07T18:23:53.878Z"
   },
   {
    "duration": 71,
    "start_time": "2021-10-07T18:23:54.053Z"
   },
   {
    "duration": 3,
    "start_time": "2021-10-07T18:24:04.375Z"
   },
   {
    "duration": 9007,
    "start_time": "2021-10-07T18:24:04.542Z"
   },
   {
    "duration": 171,
    "start_time": "2021-10-07T18:24:13.551Z"
   },
   {
    "duration": 5,
    "start_time": "2021-10-07T18:24:13.724Z"
   },
   {
    "duration": 7151,
    "start_time": "2021-10-07T18:31:26.551Z"
   },
   {
    "duration": 7223,
    "start_time": "2021-10-07T18:31:51.081Z"
   },
   {
    "duration": 7203,
    "start_time": "2021-10-07T18:32:14.428Z"
   },
   {
    "duration": 77036,
    "start_time": "2021-10-07T18:32:37.199Z"
   },
   {
    "duration": 3,
    "start_time": "2021-10-07T18:34:08.017Z"
   },
   {
    "duration": 4,
    "start_time": "2021-10-07T18:34:11.472Z"
   },
   {
    "duration": 339,
    "start_time": "2021-10-07T18:38:19.495Z"
   },
   {
    "duration": 3,
    "start_time": "2021-10-07T18:38:41.002Z"
   },
   {
    "duration": 4,
    "start_time": "2021-10-07T18:38:48.236Z"
   },
   {
    "duration": 3,
    "start_time": "2021-10-07T18:38:59.314Z"
   },
   {
    "duration": 39497,
    "start_time": "2021-10-07T18:39:13.661Z"
   },
   {
    "duration": 4,
    "start_time": "2021-10-07T18:39:53.160Z"
   },
   {
    "duration": 9,
    "start_time": "2021-10-07T18:39:53.165Z"
   },
   {
    "duration": 7,
    "start_time": "2021-10-07T18:39:53.176Z"
   },
   {
    "duration": 73205,
    "start_time": "2021-10-07T18:40:02.878Z"
   },
   {
    "duration": 3,
    "start_time": "2021-10-07T18:41:16.085Z"
   },
   {
    "duration": 6,
    "start_time": "2021-10-07T18:41:16.090Z"
   },
   {
    "duration": 4,
    "start_time": "2021-10-07T18:41:16.097Z"
   },
   {
    "duration": 2,
    "start_time": "2021-10-07T18:43:22.664Z"
   },
   {
    "duration": 228,
    "start_time": "2021-10-07T18:44:31.182Z"
   },
   {
    "duration": 21,
    "start_time": "2021-10-07T18:46:10.552Z"
   },
   {
    "duration": 125889,
    "start_time": "2021-10-07T18:46:14.391Z"
   },
   {
    "duration": 1374,
    "start_time": "2021-10-07T18:48:41.188Z"
   },
   {
    "duration": 4127,
    "start_time": "2021-10-07T18:52:24.766Z"
   },
   {
    "duration": 672,
    "start_time": "2021-10-07T18:52:30.878Z"
   },
   {
    "duration": 29,
    "start_time": "2021-10-07T18:52:32.236Z"
   },
   {
    "duration": 9,
    "start_time": "2021-10-07T18:52:36.679Z"
   },
   {
    "duration": 10,
    "start_time": "2021-10-07T18:52:41.348Z"
   },
   {
    "duration": 9,
    "start_time": "2021-10-07T18:52:50.670Z"
   },
   {
    "duration": 7,
    "start_time": "2021-10-07T18:52:52.906Z"
   },
   {
    "duration": 9,
    "start_time": "2021-10-07T18:52:53.729Z"
   },
   {
    "duration": 6,
    "start_time": "2021-10-07T18:52:55.659Z"
   },
   {
    "duration": 1129,
    "start_time": "2021-10-07T18:53:09.880Z"
   },
   {
    "duration": 2651,
    "start_time": "2021-10-07T18:53:08.360Z"
   },
   {
    "duration": 2622,
    "start_time": "2021-10-07T18:53:08.391Z"
   },
   {
    "duration": 678,
    "start_time": "2021-10-07T18:53:34.359Z"
   },
   {
    "duration": 35,
    "start_time": "2021-10-07T18:53:35.175Z"
   },
   {
    "duration": 831,
    "start_time": "2021-10-07T18:53:36.708Z"
   },
   {
    "duration": 9,
    "start_time": "2021-10-07T18:53:44.878Z"
   },
   {
    "duration": 10,
    "start_time": "2021-10-07T18:53:45.908Z"
   },
   {
    "duration": 6,
    "start_time": "2021-10-07T18:53:47.268Z"
   },
   {
    "duration": 13,
    "start_time": "2021-10-07T18:53:52.301Z"
   },
   {
    "duration": 9,
    "start_time": "2021-10-07T18:53:52.501Z"
   },
   {
    "duration": 7,
    "start_time": "2021-10-07T18:53:53.329Z"
   },
   {
    "duration": 5,
    "start_time": "2021-10-07T18:53:56.002Z"
   },
   {
    "duration": 7,
    "start_time": "2021-10-07T18:53:56.990Z"
   },
   {
    "duration": 6,
    "start_time": "2021-10-07T18:53:57.619Z"
   },
   {
    "duration": 6,
    "start_time": "2021-10-07T18:53:59.797Z"
   },
   {
    "duration": 2411,
    "start_time": "2021-10-07T18:54:00.398Z"
   },
   {
    "duration": 17,
    "start_time": "2021-10-07T18:54:03.823Z"
   },
   {
    "duration": 369,
    "start_time": "2021-10-07T18:54:04.636Z"
   },
   {
    "duration": 5,
    "start_time": "2021-10-07T18:54:07.278Z"
   },
   {
    "duration": 3,
    "start_time": "2021-10-07T18:54:10.668Z"
   },
   {
    "duration": 2,
    "start_time": "2021-10-07T18:54:11.102Z"
   },
   {
    "duration": 3,
    "start_time": "2021-10-07T18:54:11.902Z"
   },
   {
    "duration": 8,
    "start_time": "2021-10-07T18:54:12.536Z"
   },
   {
    "duration": 3,
    "start_time": "2021-10-07T18:54:12.896Z"
   },
   {
    "duration": 59,
    "start_time": "2021-10-07T18:54:31.542Z"
   },
   {
    "duration": 4,
    "start_time": "2021-10-07T18:54:32.855Z"
   },
   {
    "duration": 4,
    "start_time": "2021-10-07T18:54:34.308Z"
   },
   {
    "duration": 1421,
    "start_time": "2021-10-07T18:54:37.877Z"
   },
   {
    "duration": 4,
    "start_time": "2021-10-07T18:54:40.148Z"
   },
   {
    "duration": 4,
    "start_time": "2021-10-07T18:54:40.478Z"
   },
   {
    "duration": 4,
    "start_time": "2021-10-07T18:54:40.860Z"
   },
   {
    "duration": 23,
    "start_time": "2021-10-07T18:54:43.148Z"
   },
   {
    "duration": 11,
    "start_time": "2021-10-07T18:54:43.988Z"
   },
   {
    "duration": 7598,
    "start_time": "2021-10-07T18:54:46.547Z"
   },
   {
    "duration": 7,
    "start_time": "2021-10-07T18:54:55.588Z"
   },
   {
    "duration": 17,
    "start_time": "2021-10-07T18:55:22.468Z"
   },
   {
    "duration": 9,
    "start_time": "2021-10-07T18:55:23.775Z"
   },
   {
    "duration": 7,
    "start_time": "2021-10-07T18:55:25.108Z"
   },
   {
    "duration": 10,
    "start_time": "2021-10-07T18:55:26.518Z"
   },
   {
    "duration": 9,
    "start_time": "2021-10-07T18:55:26.822Z"
   },
   {
    "duration": 6,
    "start_time": "2021-10-07T18:55:27.176Z"
   },
   {
    "duration": 4,
    "start_time": "2021-10-07T18:55:28.197Z"
   },
   {
    "duration": 6565,
    "start_time": "2021-10-07T18:55:28.902Z"
   },
   {
    "duration": 112,
    "start_time": "2021-10-07T18:55:36.108Z"
   },
   {
    "duration": 1209,
    "start_time": "2021-10-07T18:55:36.344Z"
   },
   {
    "duration": 4,
    "start_time": "2021-10-07T18:55:37.555Z"
   },
   {
    "duration": 7,
    "start_time": "2021-10-07T18:55:37.561Z"
   },
   {
    "duration": 4,
    "start_time": "2021-10-07T18:55:37.663Z"
   },
   {
    "duration": 14193,
    "start_time": "2021-10-07T18:55:37.832Z"
   },
   {
    "duration": 2512,
    "start_time": "2021-10-07T18:55:49.516Z"
   },
   {
    "duration": 2509,
    "start_time": "2021-10-07T18:55:49.520Z"
   },
   {
    "duration": 2503,
    "start_time": "2021-10-07T18:55:49.527Z"
   },
   {
    "duration": 5418,
    "start_time": "2021-10-07T18:55:57.348Z"
   },
   {
    "duration": 7,
    "start_time": "2021-10-07T18:56:03.622Z"
   },
   {
    "duration": 4,
    "start_time": "2021-10-07T18:56:03.966Z"
   },
   {
    "duration": 9117,
    "start_time": "2021-10-07T18:56:08.479Z"
   },
   {
    "duration": 3,
    "start_time": "2021-10-07T18:56:17.598Z"
   },
   {
    "duration": 7,
    "start_time": "2021-10-07T18:56:17.603Z"
   },
   {
    "duration": 5,
    "start_time": "2021-10-07T18:56:17.612Z"
   },
   {
    "duration": 1772,
    "start_time": "2021-10-07T18:56:18.679Z"
   },
   {
    "duration": 97,
    "start_time": "2021-10-07T18:56:20.453Z"
   },
   {
    "duration": 25782,
    "start_time": "2021-10-07T18:56:21.890Z"
   },
   {
    "duration": 6,
    "start_time": "2021-10-07T18:56:47.674Z"
   },
   {
    "duration": 264,
    "start_time": "2021-10-07T18:57:51.709Z"
   },
   {
    "duration": 177094,
    "start_time": "2021-10-07T18:58:11.824Z"
   },
   {
    "duration": 4,
    "start_time": "2021-10-07T19:01:15.799Z"
   },
   {
    "duration": 4,
    "start_time": "2021-10-07T19:01:15.946Z"
   },
   {
    "duration": 27,
    "start_time": "2021-10-07T19:01:34.589Z"
   },
   {
    "duration": 21,
    "start_time": "2021-10-07T19:01:41.542Z"
   },
   {
    "duration": 75,
    "start_time": "2021-10-07T19:02:05.070Z"
   },
   {
    "duration": 5,
    "start_time": "2021-10-07T19:02:15.505Z"
   },
   {
    "duration": 6,
    "start_time": "2021-10-07T19:02:19.908Z"
   },
   {
    "duration": 570,
    "start_time": "2021-10-07T19:02:56.675Z"
   },
   {
    "duration": 92368,
    "start_time": "2021-10-07T19:03:18.111Z"
   },
   {
    "duration": 4,
    "start_time": "2021-10-07T19:06:21.940Z"
   },
   {
    "duration": 3,
    "start_time": "2021-10-07T19:06:22.149Z"
   },
   {
    "duration": 4,
    "start_time": "2021-10-07T19:06:23.229Z"
   },
   {
    "duration": 125979,
    "start_time": "2021-10-07T19:15:06.383Z"
   },
   {
    "duration": 6,
    "start_time": "2021-10-07T19:33:21.550Z"
   },
   {
    "duration": 67,
    "start_time": "2021-10-07T19:48:11.416Z"
   },
   {
    "duration": 24,
    "start_time": "2021-10-07T19:48:44.637Z"
   },
   {
    "duration": 3,
    "start_time": "2021-10-07T19:49:09.528Z"
   },
   {
    "duration": 6,
    "start_time": "2021-10-07T19:49:18.528Z"
   },
   {
    "duration": 9,
    "start_time": "2021-10-07T19:51:24.192Z"
   },
   {
    "duration": 4,
    "start_time": "2021-10-07T19:52:35.709Z"
   },
   {
    "duration": 621,
    "start_time": "2021-10-07T19:52:35.715Z"
   },
   {
    "duration": 25,
    "start_time": "2021-10-07T19:52:36.338Z"
   },
   {
    "duration": 21,
    "start_time": "2021-10-07T19:52:36.365Z"
   },
   {
    "duration": 5,
    "start_time": "2021-10-07T19:52:36.388Z"
   },
   {
    "duration": 10,
    "start_time": "2021-10-07T19:52:36.394Z"
   },
   {
    "duration": 7,
    "start_time": "2021-10-07T19:52:36.406Z"
   },
   {
    "duration": 35,
    "start_time": "2021-10-07T19:52:36.414Z"
   },
   {
    "duration": 5,
    "start_time": "2021-10-07T19:52:39.434Z"
   },
   {
    "duration": 6,
    "start_time": "2021-10-07T19:52:39.660Z"
   },
   {
    "duration": 3,
    "start_time": "2021-10-07T19:54:48.143Z"
   },
   {
    "duration": 4,
    "start_time": "2021-10-07T19:54:50.364Z"
   },
   {
    "duration": 5876,
    "start_time": "2021-10-07T19:54:59.307Z"
   },
   {
    "duration": 5,
    "start_time": "2021-10-07T19:55:09.219Z"
   },
   {
    "duration": 643,
    "start_time": "2021-10-07T19:55:09.225Z"
   },
   {
    "duration": 28,
    "start_time": "2021-10-07T19:55:09.871Z"
   },
   {
    "duration": 27,
    "start_time": "2021-10-07T19:55:09.901Z"
   },
   {
    "duration": 24,
    "start_time": "2021-10-07T19:55:09.929Z"
   },
   {
    "duration": 13,
    "start_time": "2021-10-07T19:55:09.954Z"
   },
   {
    "duration": 7,
    "start_time": "2021-10-07T19:55:09.968Z"
   },
   {
    "duration": 6,
    "start_time": "2021-10-07T19:55:09.976Z"
   },
   {
    "duration": 6,
    "start_time": "2021-10-07T19:55:09.984Z"
   },
   {
    "duration": 4,
    "start_time": "2021-10-07T19:55:09.992Z"
   },
   {
    "duration": 5,
    "start_time": "2021-10-07T19:58:00.719Z"
   },
   {
    "duration": 6516,
    "start_time": "2021-10-07T19:58:01.775Z"
   },
   {
    "duration": 5,
    "start_time": "2021-10-07T19:59:59.264Z"
   },
   {
    "duration": 114,
    "start_time": "2021-10-07T20:00:08.742Z"
   },
   {
    "duration": 11,
    "start_time": "2021-10-07T20:00:55.287Z"
   },
   {
    "duration": 113,
    "start_time": "2021-10-07T20:00:56.436Z"
   },
   {
    "duration": 4,
    "start_time": "2021-10-07T20:05:35.785Z"
   },
   {
    "duration": 596,
    "start_time": "2021-10-07T20:05:35.833Z"
   },
   {
    "duration": 28,
    "start_time": "2021-10-07T20:05:36.431Z"
   },
   {
    "duration": 36,
    "start_time": "2021-10-07T20:05:36.462Z"
   },
   {
    "duration": 5,
    "start_time": "2021-10-07T20:05:36.500Z"
   },
   {
    "duration": 11,
    "start_time": "2021-10-07T20:05:36.507Z"
   },
   {
    "duration": 7,
    "start_time": "2021-10-07T20:05:36.519Z"
   },
   {
    "duration": 22,
    "start_time": "2021-10-07T20:05:36.527Z"
   },
   {
    "duration": 13,
    "start_time": "2021-10-07T20:05:36.550Z"
   },
   {
    "duration": 4,
    "start_time": "2021-10-07T20:05:36.566Z"
   },
   {
    "duration": 17,
    "start_time": "2021-10-07T20:05:36.572Z"
   },
   {
    "duration": 6622,
    "start_time": "2021-10-07T20:05:36.591Z"
   },
   {
    "duration": 13,
    "start_time": "2021-10-07T20:05:43.214Z"
   },
   {
    "duration": 122,
    "start_time": "2021-10-07T20:05:43.229Z"
   },
   {
    "duration": 128,
    "start_time": "2021-10-07T20:05:43.353Z"
   },
   {
    "duration": 590,
    "start_time": "2021-10-07T20:05:43.483Z"
   },
   {
    "duration": 724,
    "start_time": "2021-10-07T20:05:44.074Z"
   },
   {
    "duration": 741,
    "start_time": "2021-10-07T20:06:02.979Z"
   },
   {
    "duration": 177,
    "start_time": "2021-10-07T20:07:12.255Z"
   },
   {
    "duration": 5,
    "start_time": "2021-10-07T20:07:17.577Z"
   },
   {
    "duration": 176564,
    "start_time": "2021-10-07T20:07:20.175Z"
   },
   {
    "duration": 30,
    "start_time": "2021-10-07T20:10:32.204Z"
   },
   {
    "duration": 6,
    "start_time": "2021-10-07T20:10:34.027Z"
   },
   {
    "duration": 90717,
    "start_time": "2021-10-07T20:11:13.145Z"
   },
   {
    "duration": 22,
    "start_time": "2021-10-07T20:12:43.864Z"
   },
   {
    "duration": 3,
    "start_time": "2021-10-07T20:12:48.204Z"
   },
   {
    "duration": 25,
    "start_time": "2021-10-07T20:12:54.688Z"
   },
   {
    "duration": 286308,
    "start_time": "2021-10-07T20:14:20.884Z"
   },
   {
    "duration": 4,
    "start_time": "2021-10-07T20:19:07.195Z"
   },
   {
    "duration": 36,
    "start_time": "2021-10-07T20:19:07.201Z"
   },
   {
    "duration": 5,
    "start_time": "2021-10-07T20:19:30.685Z"
   },
   {
    "duration": 26,
    "start_time": "2021-10-07T20:19:31.536Z"
   },
   {
    "duration": 1569,
    "start_time": "2021-10-07T20:19:36.483Z"
   },
   {
    "duration": 95,
    "start_time": "2021-10-07T20:19:38.054Z"
   },
   {
    "duration": 126481,
    "start_time": "2021-10-07T20:19:43.088Z"
   },
   {
    "duration": 7,
    "start_time": "2021-10-07T20:22:46.548Z"
   },
   {
    "duration": 2016,
    "start_time": "2021-10-07T20:23:14.033Z"
   },
   {
    "duration": 6,
    "start_time": "2021-10-07T20:23:49.996Z"
   },
   {
    "duration": 7,
    "start_time": "2021-10-07T20:23:54.644Z"
   },
   {
    "duration": 4,
    "start_time": "2021-10-07T20:25:42.410Z"
   },
   {
    "duration": 209,
    "start_time": "2021-10-07T20:25:47.678Z"
   },
   {
    "duration": 4,
    "start_time": "2021-10-07T20:26:19.146Z"
   },
   {
    "duration": 237,
    "start_time": "2021-10-07T20:26:26.006Z"
   },
   {
    "duration": 4,
    "start_time": "2021-10-07T20:26:28.306Z"
   },
   {
    "duration": 200,
    "start_time": "2021-10-07T20:26:35.298Z"
   },
   {
    "duration": 4,
    "start_time": "2021-10-07T20:26:42.147Z"
   },
   {
    "duration": 4,
    "start_time": "2021-10-07T20:26:58.046Z"
   },
   {
    "duration": 4,
    "start_time": "2021-10-07T20:27:01.758Z"
   },
   {
    "duration": 3,
    "start_time": "2021-10-07T20:27:19.118Z"
   },
   {
    "duration": 4,
    "start_time": "2021-10-07T20:27:56.906Z"
   },
   {
    "duration": 209,
    "start_time": "2021-10-07T20:29:11.886Z"
   },
   {
    "duration": 228,
    "start_time": "2021-10-07T20:29:32.898Z"
   },
   {
    "duration": 197,
    "start_time": "2021-10-07T20:29:43.778Z"
   },
   {
    "duration": 5,
    "start_time": "2021-10-07T20:30:03.914Z"
   },
   {
    "duration": 196,
    "start_time": "2021-10-07T20:30:07.799Z"
   },
   {
    "duration": 17,
    "start_time": "2021-10-07T20:30:15.886Z"
   },
   {
    "duration": 6,
    "start_time": "2021-10-07T20:30:16.098Z"
   },
   {
    "duration": 4,
    "start_time": "2021-10-07T20:30:17.866Z"
   },
   {
    "duration": 29,
    "start_time": "2021-10-07T20:30:18.022Z"
   },
   {
    "duration": 9,
    "start_time": "2021-10-07T20:30:20.258Z"
   },
   {
    "duration": 1560,
    "start_time": "2021-10-07T20:31:46.198Z"
   },
   {
    "duration": 126809,
    "start_time": "2021-10-07T20:32:10.646Z"
   },
   {
    "duration": 10,
    "start_time": "2021-10-07T20:34:40.726Z"
   },
   {
    "duration": 68,
    "start_time": "2021-10-07T20:35:26.647Z"
   },
   {
    "duration": 4,
    "start_time": "2021-10-07T20:42:12.636Z"
   },
   {
    "duration": 608,
    "start_time": "2021-10-07T20:42:12.642Z"
   },
   {
    "duration": 19,
    "start_time": "2021-10-07T20:42:13.252Z"
   },
   {
    "duration": 21,
    "start_time": "2021-10-07T20:42:13.273Z"
   },
   {
    "duration": 5,
    "start_time": "2021-10-07T20:42:13.295Z"
   },
   {
    "duration": 9,
    "start_time": "2021-10-07T20:42:13.302Z"
   },
   {
    "duration": 6,
    "start_time": "2021-10-07T20:42:13.313Z"
   },
   {
    "duration": 6,
    "start_time": "2021-10-07T20:42:13.348Z"
   },
   {
    "duration": 8,
    "start_time": "2021-10-07T20:42:13.357Z"
   },
   {
    "duration": 3,
    "start_time": "2021-10-07T20:42:13.367Z"
   },
   {
    "duration": 6,
    "start_time": "2021-10-07T20:42:13.372Z"
   },
   {
    "duration": 7856,
    "start_time": "2021-10-07T20:42:13.379Z"
   },
   {
    "duration": 20,
    "start_time": "2021-10-07T20:42:21.237Z"
   },
   {
    "duration": 124,
    "start_time": "2021-10-07T20:42:21.259Z"
   },
   {
    "duration": 139,
    "start_time": "2021-10-07T20:42:21.385Z"
   },
   {
    "duration": 370,
    "start_time": "2021-10-07T20:42:21.525Z"
   },
   {
    "duration": 763,
    "start_time": "2021-10-07T20:42:21.897Z"
   },
   {
    "duration": 172839,
    "start_time": "2021-10-07T20:42:22.661Z"
   },
   {
    "duration": 31,
    "start_time": "2021-10-07T20:45:15.501Z"
   },
   {
    "duration": 20,
    "start_time": "2021-10-07T20:45:15.534Z"
   },
   {
    "duration": 278039,
    "start_time": "2021-10-07T20:45:15.556Z"
   },
   {
    "duration": 4,
    "start_time": "2021-10-07T20:49:53.596Z"
   },
   {
    "duration": 27,
    "start_time": "2021-10-07T20:49:53.602Z"
   },
   {
    "duration": 1424,
    "start_time": "2021-10-07T20:49:53.631Z"
   },
   {
    "duration": 292,
    "start_time": "2021-10-07T20:49:55.057Z"
   },
   {
    "duration": 104,
    "start_time": "2021-10-07T20:49:55.352Z"
   },
   {
    "duration": 92,
    "start_time": "2021-10-07T20:49:55.461Z"
   },
   {
    "duration": -4,
    "start_time": "2021-10-07T20:49:55.559Z"
   },
   {
    "duration": -13,
    "start_time": "2021-10-07T20:49:55.569Z"
   },
   {
    "duration": -16,
    "start_time": "2021-10-07T20:49:55.573Z"
   },
   {
    "duration": -36,
    "start_time": "2021-10-07T20:49:55.595Z"
   },
   {
    "duration": 21,
    "start_time": "2021-10-07T20:50:18.433Z"
   },
   {
    "duration": 198,
    "start_time": "2021-10-07T20:54:34.098Z"
   },
   {
    "duration": 5,
    "start_time": "2021-10-07T20:55:08.049Z"
   },
   {
    "duration": 601,
    "start_time": "2021-10-07T20:55:08.059Z"
   },
   {
    "duration": 25,
    "start_time": "2021-10-07T20:55:08.662Z"
   },
   {
    "duration": 31,
    "start_time": "2021-10-07T20:55:08.689Z"
   },
   {
    "duration": 5,
    "start_time": "2021-10-07T20:55:08.722Z"
   },
   {
    "duration": 26,
    "start_time": "2021-10-07T20:55:08.729Z"
   },
   {
    "duration": 12,
    "start_time": "2021-10-07T20:55:08.756Z"
   },
   {
    "duration": 12,
    "start_time": "2021-10-07T20:55:08.769Z"
   },
   {
    "duration": 13,
    "start_time": "2021-10-07T20:55:08.783Z"
   },
   {
    "duration": 10,
    "start_time": "2021-10-07T20:55:08.799Z"
   },
   {
    "duration": 17,
    "start_time": "2021-10-07T20:55:08.811Z"
   },
   {
    "duration": 6747,
    "start_time": "2021-10-07T20:55:08.830Z"
   },
   {
    "duration": 19,
    "start_time": "2021-10-07T20:55:15.579Z"
   },
   {
    "duration": 150,
    "start_time": "2021-10-07T20:55:15.600Z"
   },
   {
    "duration": 143,
    "start_time": "2021-10-07T20:55:15.752Z"
   },
   {
    "duration": 391,
    "start_time": "2021-10-07T20:55:15.897Z"
   },
   {
    "duration": 773,
    "start_time": "2021-10-07T20:55:16.289Z"
   },
   {
    "duration": 171086,
    "start_time": "2021-10-07T20:55:17.064Z"
   },
   {
    "duration": 31,
    "start_time": "2021-10-07T20:58:08.152Z"
   },
   {
    "duration": 101177,
    "start_time": "2021-10-07T20:58:08.185Z"
   },
   {
    "duration": 4,
    "start_time": "2021-10-07T20:59:49.363Z"
   },
   {
    "duration": 27,
    "start_time": "2021-10-07T20:59:49.368Z"
   },
   {
    "duration": 3053,
    "start_time": "2021-10-07T20:59:49.397Z"
   },
   {
    "duration": 302,
    "start_time": "2021-10-07T20:59:52.453Z"
   },
   {
    "duration": 103,
    "start_time": "2021-10-07T20:59:52.757Z"
   },
   {
    "duration": 26096,
    "start_time": "2021-10-07T20:59:52.952Z"
   },
   {
    "duration": -174,
    "start_time": "2021-10-07T21:00:19.224Z"
   },
   {
    "duration": -190,
    "start_time": "2021-10-07T21:00:19.241Z"
   },
   {
    "duration": -193,
    "start_time": "2021-10-07T21:00:19.245Z"
   },
   {
    "duration": 18741,
    "start_time": "2021-10-07T21:00:21.008Z"
   },
   {
    "duration": 5,
    "start_time": "2021-10-07T21:02:09.513Z"
   },
   {
    "duration": 718,
    "start_time": "2021-10-07T21:02:09.520Z"
   },
   {
    "duration": 29,
    "start_time": "2021-10-07T21:02:10.241Z"
   },
   {
    "duration": 24,
    "start_time": "2021-10-07T21:02:10.272Z"
   },
   {
    "duration": 6,
    "start_time": "2021-10-07T21:02:10.298Z"
   },
   {
    "duration": 20,
    "start_time": "2021-10-07T21:02:10.306Z"
   },
   {
    "duration": 24,
    "start_time": "2021-10-07T21:02:10.328Z"
   },
   {
    "duration": 6,
    "start_time": "2021-10-07T21:02:10.354Z"
   },
   {
    "duration": 8,
    "start_time": "2021-10-07T21:02:10.363Z"
   },
   {
    "duration": 3,
    "start_time": "2021-10-07T21:02:10.373Z"
   },
   {
    "duration": 5,
    "start_time": "2021-10-07T21:02:10.378Z"
   },
   {
    "duration": 6583,
    "start_time": "2021-10-07T21:02:10.385Z"
   },
   {
    "duration": 16,
    "start_time": "2021-10-07T21:02:16.970Z"
   },
   {
    "duration": 153,
    "start_time": "2021-10-07T21:02:16.988Z"
   },
   {
    "duration": 139,
    "start_time": "2021-10-07T21:02:17.143Z"
   },
   {
    "duration": 395,
    "start_time": "2021-10-07T21:02:17.284Z"
   },
   {
    "duration": 755,
    "start_time": "2021-10-07T21:02:17.681Z"
   },
   {
    "duration": 179124,
    "start_time": "2021-10-07T21:02:18.438Z"
   },
   {
    "duration": 21438,
    "start_time": "2021-10-07T21:05:17.564Z"
   },
   {
    "duration": 46,
    "start_time": "2021-10-07T21:05:39.004Z"
   },
   {
    "duration": 283428,
    "start_time": "2021-10-07T21:05:39.052Z"
   },
   {
    "duration": 2445,
    "start_time": "2021-10-07T21:10:22.482Z"
   },
   {
    "duration": 3,
    "start_time": "2021-10-07T21:10:24.928Z"
   },
   {
    "duration": 43,
    "start_time": "2021-10-07T21:10:24.933Z"
   },
   {
    "duration": 1376,
    "start_time": "2021-10-07T21:10:24.978Z"
   },
   {
    "duration": 298,
    "start_time": "2021-10-07T21:10:26.356Z"
   },
   {
    "duration": 193,
    "start_time": "2021-10-07T21:10:26.658Z"
   },
   {
    "duration": 134653,
    "start_time": "2021-10-07T21:10:26.855Z"
   },
   {
    "duration": 5,
    "start_time": "2021-10-07T21:12:41.510Z"
   },
   {
    "duration": 38,
    "start_time": "2021-10-07T21:12:41.517Z"
   },
   {
    "duration": 18,
    "start_time": "2021-10-07T21:12:41.557Z"
   },
   {
    "duration": 6507,
    "start_time": "2021-10-08T19:20:00.772Z"
   },
   {
    "duration": 756,
    "start_time": "2021-10-08T19:20:07.282Z"
   },
   {
    "duration": 43,
    "start_time": "2021-10-08T19:20:08.041Z"
   },
   {
    "duration": 26,
    "start_time": "2021-10-08T19:20:08.087Z"
   },
   {
    "duration": 3,
    "start_time": "2021-10-08T19:20:08.116Z"
   },
   {
    "duration": 22,
    "start_time": "2021-10-08T19:20:08.122Z"
   },
   {
    "duration": 965,
    "start_time": "2021-10-08T19:20:08.147Z"
   },
   {
    "duration": 6,
    "start_time": "2021-10-08T19:21:25.654Z"
   },
   {
    "duration": 1851,
    "start_time": "2021-10-08T19:21:45.765Z"
   },
   {
    "duration": 5,
    "start_time": "2021-10-08T19:22:01.530Z"
   },
   {
    "duration": 69507,
    "start_time": "2021-10-08T19:22:02.854Z"
   },
   {
    "duration": 10,
    "start_time": "2021-10-08T19:23:50.121Z"
   },
   {
    "duration": 1835,
    "start_time": "2021-10-08T19:23:50.979Z"
   },
   {
    "duration": 5,
    "start_time": "2021-10-08T19:24:17.174Z"
   },
   {
    "duration": 1797,
    "start_time": "2021-10-08T19:24:17.831Z"
   },
   {
    "duration": 4,
    "start_time": "2021-10-08T19:24:41.001Z"
   },
   {
    "duration": 1997,
    "start_time": "2021-10-08T19:24:41.731Z"
   },
   {
    "duration": 5,
    "start_time": "2021-10-08T19:25:30.768Z"
   },
   {
    "duration": 1831,
    "start_time": "2021-10-08T19:25:31.535Z"
   },
   {
    "duration": 7,
    "start_time": "2021-10-08T19:26:41.650Z"
   },
   {
    "duration": 1836,
    "start_time": "2021-10-08T19:26:43.048Z"
   },
   {
    "duration": 5,
    "start_time": "2021-10-08T19:27:32.362Z"
   },
   {
    "duration": 2229,
    "start_time": "2021-10-08T19:27:33.172Z"
   },
   {
    "duration": 6,
    "start_time": "2021-10-08T19:27:48.893Z"
   },
   {
    "duration": 6,
    "start_time": "2021-10-08T19:33:27.152Z"
   },
   {
    "duration": 53943,
    "start_time": "2021-10-08T19:33:28.243Z"
   },
   {
    "duration": 8,
    "start_time": "2021-10-08T19:34:23.879Z"
   },
   {
    "duration": 4,
    "start_time": "2021-10-08T19:35:33.439Z"
   },
   {
    "duration": 935,
    "start_time": "2021-10-08T19:35:34.893Z"
   },
   {
    "duration": 876,
    "start_time": "2021-10-08T19:35:44.888Z"
   },
   {
    "duration": 3541,
    "start_time": "2021-10-08T19:35:51.973Z"
   },
   {
    "duration": 5640,
    "start_time": "2021-10-08T19:36:17.777Z"
   },
   {
    "duration": 721,
    "start_time": "2021-10-08T19:36:23.420Z"
   },
   {
    "duration": 41,
    "start_time": "2021-10-08T19:36:24.145Z"
   },
   {
    "duration": 26,
    "start_time": "2021-10-08T19:36:24.188Z"
   },
   {
    "duration": 3,
    "start_time": "2021-10-08T19:36:24.217Z"
   },
   {
    "duration": 18,
    "start_time": "2021-10-08T19:36:24.222Z"
   },
   {
    "duration": 56799,
    "start_time": "2021-10-08T19:36:24.243Z"
   },
   {
    "duration": 4,
    "start_time": "2021-10-08T19:37:21.045Z"
   },
   {
    "duration": 1339,
    "start_time": "2021-10-08T19:37:21.052Z"
   },
   {
    "duration": 1182,
    "start_time": "2021-10-08T19:37:22.394Z"
   },
   {
    "duration": 875,
    "start_time": "2021-10-08T19:37:35.534Z"
   },
   {
    "duration": 348,
    "start_time": "2021-10-08T19:37:44.959Z"
   },
   {
    "duration": 6221,
    "start_time": "2021-10-08T19:37:58.556Z"
   },
   {
    "duration": 772,
    "start_time": "2021-10-08T19:38:04.780Z"
   },
   {
    "duration": 41,
    "start_time": "2021-10-08T19:38:05.556Z"
   },
   {
    "duration": 17,
    "start_time": "2021-10-08T19:38:05.600Z"
   },
   {
    "duration": 4,
    "start_time": "2021-10-08T19:38:05.620Z"
   },
   {
    "duration": 3,
    "start_time": "2021-10-08T19:38:08.117Z"
   },
   {
    "duration": 11,
    "start_time": "2021-10-08T19:38:08.633Z"
   },
   {
    "duration": 7732,
    "start_time": "2021-10-08T19:38:10.392Z"
   },
   {
    "duration": 4,
    "start_time": "2021-10-08T19:38:20.275Z"
   },
   {
    "duration": 75,
    "start_time": "2021-10-08T19:38:21.376Z"
   },
   {
    "duration": 72,
    "start_time": "2021-10-08T19:38:22.727Z"
   },
   {
    "duration": 424,
    "start_time": "2021-10-08T19:38:24.037Z"
   },
   {
    "duration": 538,
    "start_time": "2021-10-08T19:38:25.337Z"
   },
   {
    "duration": 104124,
    "start_time": "2021-10-08T19:38:41.215Z"
   },
   {
    "duration": 12405,
    "start_time": "2021-10-08T19:40:52.217Z"
   },
   {
    "duration": 21,
    "start_time": "2021-10-08T19:41:06.169Z"
   },
   {
    "duration": 79,
    "start_time": "2021-10-08T19:41:54.836Z"
   },
   {
    "duration": 3,
    "start_time": "2021-10-08T19:44:16.939Z"
   },
   {
    "duration": 793,
    "start_time": "2021-10-08T19:44:24.493Z"
   },
   {
    "duration": 4,
    "start_time": "2021-10-08T19:44:30.759Z"
   },
   {
    "duration": 306,
    "start_time": "2021-10-08T19:44:31.293Z"
   },
   {
    "duration": 10,
    "start_time": "2021-10-08T19:44:43.055Z"
   },
   {
    "duration": 79,
    "start_time": "2021-10-08T19:44:44.492Z"
   },
   {
    "duration": 4,
    "start_time": "2021-10-08T19:44:58.055Z"
   },
   {
    "duration": 335,
    "start_time": "2021-10-08T19:44:58.814Z"
   },
   {
    "duration": 76,
    "start_time": "2021-10-08T19:45:08.373Z"
   },
   {
    "duration": 82,
    "start_time": "2021-10-08T19:45:46.021Z"
   },
   {
    "duration": 72,
    "start_time": "2021-10-08T19:45:47.060Z"
   },
   {
    "duration": 79,
    "start_time": "2021-10-08T19:46:06.222Z"
   },
   {
    "duration": 25,
    "start_time": "2021-10-08T19:46:07.483Z"
   },
   {
    "duration": 274,
    "start_time": "2021-10-08T19:46:28.143Z"
   },
   {
    "duration": 511,
    "start_time": "2021-10-08T19:46:42.968Z"
   },
   {
    "duration": 6581,
    "start_time": "2021-10-08T19:47:07.534Z"
   },
   {
    "duration": 81,
    "start_time": "2021-10-08T19:50:31.454Z"
   },
   {
    "duration": 12,
    "start_time": "2021-10-08T19:50:41.928Z"
   },
   {
    "duration": 279,
    "start_time": "2021-10-08T19:50:43.488Z"
   },
   {
    "duration": 508,
    "start_time": "2021-10-08T19:50:53.320Z"
   },
   {
    "duration": 6837,
    "start_time": "2021-10-08T19:50:56.672Z"
   },
   {
    "duration": 515,
    "start_time": "2021-10-08T19:52:07.968Z"
   },
   {
    "duration": 511,
    "start_time": "2021-10-08T19:52:15.398Z"
   },
   {
    "duration": 10,
    "start_time": "2021-10-08T19:55:13.850Z"
   },
   {
    "duration": 78,
    "start_time": "2021-10-08T19:55:15.916Z"
   },
   {
    "duration": 86,
    "start_time": "2021-10-08T19:55:24.935Z"
   },
   {
    "duration": 5920,
    "start_time": "2021-10-08T19:56:25.773Z"
   },
   {
    "duration": 728,
    "start_time": "2021-10-08T19:56:31.696Z"
   },
   {
    "duration": 31,
    "start_time": "2021-10-08T19:56:32.429Z"
   },
   {
    "duration": 34,
    "start_time": "2021-10-08T19:56:32.463Z"
   },
   {
    "duration": 4,
    "start_time": "2021-10-08T19:56:32.499Z"
   },
   {
    "duration": 8,
    "start_time": "2021-10-08T19:56:32.505Z"
   },
   {
    "duration": 7640,
    "start_time": "2021-10-08T19:56:32.515Z"
   },
   {
    "duration": 4,
    "start_time": "2021-10-08T19:56:40.158Z"
   },
   {
    "duration": 89,
    "start_time": "2021-10-08T19:56:40.164Z"
   },
   {
    "duration": 88,
    "start_time": "2021-10-08T19:56:40.255Z"
   },
   {
    "duration": 19,
    "start_time": "2021-10-08T19:56:40.345Z"
   },
   {
    "duration": 383,
    "start_time": "2021-10-08T19:56:43.201Z"
   },
   {
    "duration": 522,
    "start_time": "2021-10-08T19:56:46.177Z"
   },
   {
    "duration": 8,
    "start_time": "2021-10-08T19:56:57.490Z"
   },
   {
    "duration": 7456,
    "start_time": "2021-10-08T19:57:56.413Z"
   },
   {
    "duration": 6,
    "start_time": "2021-10-08T19:58:16.397Z"
   },
   {
    "duration": 330,
    "start_time": "2021-10-08T19:58:22.968Z"
   },
   {
    "duration": 6,
    "start_time": "2021-10-08T19:58:27.215Z"
   },
   {
    "duration": 6,
    "start_time": "2021-10-08T20:11:35.159Z"
   },
   {
    "duration": 732,
    "start_time": "2021-10-08T20:11:35.168Z"
   },
   {
    "duration": 24,
    "start_time": "2021-10-08T20:11:35.904Z"
   },
   {
    "duration": 19,
    "start_time": "2021-10-08T20:11:35.932Z"
   },
   {
    "duration": 29,
    "start_time": "2021-10-08T20:11:35.954Z"
   },
   {
    "duration": 9,
    "start_time": "2021-10-08T20:11:35.986Z"
   },
   {
    "duration": 8,
    "start_time": "2021-10-08T20:11:53.691Z"
   },
   {
    "duration": 732,
    "start_time": "2021-10-08T20:11:53.701Z"
   },
   {
    "duration": 27,
    "start_time": "2021-10-08T20:11:54.436Z"
   },
   {
    "duration": 16,
    "start_time": "2021-10-08T20:11:54.482Z"
   },
   {
    "duration": 3,
    "start_time": "2021-10-08T20:11:54.501Z"
   },
   {
    "duration": 10,
    "start_time": "2021-10-08T20:11:54.506Z"
   },
   {
    "duration": 5496,
    "start_time": "2021-10-08T20:11:54.518Z"
   },
   {
    "duration": 10,
    "start_time": "2021-10-08T20:12:04.612Z"
   },
   {
    "duration": 76,
    "start_time": "2021-10-08T20:12:05.458Z"
   },
   {
    "duration": 74,
    "start_time": "2021-10-08T20:12:06.450Z"
   },
   {
    "duration": 20,
    "start_time": "2021-10-08T20:12:07.252Z"
   },
   {
    "duration": 301,
    "start_time": "2021-10-08T20:12:07.820Z"
   },
   {
    "duration": 514,
    "start_time": "2021-10-08T20:12:08.420Z"
   },
   {
    "duration": 5,
    "start_time": "2021-10-08T20:13:22.764Z"
   },
   {
    "duration": 7,
    "start_time": "2021-10-08T20:13:46.861Z"
   },
   {
    "duration": 6,
    "start_time": "2021-10-08T20:13:53.960Z"
   },
   {
    "duration": 310,
    "start_time": "2021-10-08T20:13:57.718Z"
   },
   {
    "duration": 344,
    "start_time": "2021-10-08T20:14:01.722Z"
   },
   {
    "duration": 5,
    "start_time": "2021-10-08T20:14:05.039Z"
   },
   {
    "duration": 7,
    "start_time": "2021-10-08T20:15:26.564Z"
   },
   {
    "duration": 26,
    "start_time": "2021-10-08T20:15:40.651Z"
   },
   {
    "duration": 306,
    "start_time": "2021-10-08T20:15:55.964Z"
   },
   {
    "duration": 6,
    "start_time": "2021-10-08T20:16:01.650Z"
   },
   {
    "duration": 302,
    "start_time": "2021-10-08T20:17:10.272Z"
   },
   {
    "duration": 6,
    "start_time": "2021-10-08T20:17:34.231Z"
   },
   {
    "duration": 8,
    "start_time": "2021-10-08T20:17:54.999Z"
   },
   {
    "duration": 5,
    "start_time": "2021-10-08T20:17:58.540Z"
   },
   {
    "duration": 7037,
    "start_time": "2021-10-08T20:21:06.667Z"
   },
   {
    "duration": 110,
    "start_time": "2021-10-08T20:23:35.121Z"
   },
   {
    "duration": 328,
    "start_time": "2021-10-08T20:24:16.545Z"
   },
   {
    "duration": 8,
    "start_time": "2021-10-08T20:24:34.837Z"
   },
   {
    "duration": 9,
    "start_time": "2021-10-08T20:24:59.551Z"
   },
   {
    "duration": 7,
    "start_time": "2021-10-08T20:25:07.911Z"
   },
   {
    "duration": 8,
    "start_time": "2021-10-08T20:25:10.022Z"
   },
   {
    "duration": 7,
    "start_time": "2021-10-08T20:25:39.161Z"
   },
   {
    "duration": 4,
    "start_time": "2021-10-08T20:25:39.782Z"
   },
   {
    "duration": 7,
    "start_time": "2021-10-08T20:25:40.502Z"
   },
   {
    "duration": 5743,
    "start_time": "2021-10-09T05:48:03.388Z"
   },
   {
    "duration": 757,
    "start_time": "2021-10-09T05:48:09.134Z"
   },
   {
    "duration": 32,
    "start_time": "2021-10-09T05:48:09.896Z"
   },
   {
    "duration": 43,
    "start_time": "2021-10-09T05:48:09.932Z"
   },
   {
    "duration": 5,
    "start_time": "2021-10-09T05:48:09.978Z"
   },
   {
    "duration": 8,
    "start_time": "2021-10-09T05:48:09.986Z"
   },
   {
    "duration": 7566,
    "start_time": "2021-10-09T05:48:09.997Z"
   },
   {
    "duration": 4,
    "start_time": "2021-10-09T05:48:17.566Z"
   },
   {
    "duration": 94,
    "start_time": "2021-10-09T05:48:17.573Z"
   },
   {
    "duration": 87,
    "start_time": "2021-10-09T05:48:17.669Z"
   },
   {
    "duration": 21,
    "start_time": "2021-10-09T05:48:17.761Z"
   },
   {
    "duration": 507,
    "start_time": "2021-10-09T05:48:17.784Z"
   },
   {
    "duration": 18,
    "start_time": "2021-10-09T05:48:42.395Z"
   },
   {
    "duration": 6,
    "start_time": "2021-10-09T05:50:42.665Z"
   },
   {
    "duration": 11660,
    "start_time": "2021-10-09T05:50:43.664Z"
   },
   {
    "duration": 17,
    "start_time": "2021-10-09T05:50:56.845Z"
   },
   {
    "duration": 11,
    "start_time": "2021-10-09T05:52:05.264Z"
   },
   {
    "duration": 152,
    "start_time": "2021-10-09T05:52:05.837Z"
   },
   {
    "duration": 159,
    "start_time": "2021-10-09T05:52:06.876Z"
   },
   {
    "duration": 35,
    "start_time": "2021-10-09T05:52:07.555Z"
   },
   {
    "duration": 1136,
    "start_time": "2021-10-09T05:52:09.476Z"
   },
   {
    "duration": 701,
    "start_time": "2021-10-09T05:52:09.914Z"
   },
   {
    "duration": 6,
    "start_time": "2021-10-09T05:52:28.600Z"
   },
   {
    "duration": 5383,
    "start_time": "2021-10-09T05:52:28.884Z"
   },
   {
    "duration": 17,
    "start_time": "2021-10-09T05:52:46.846Z"
   },
   {
    "duration": 340,
    "start_time": "2021-10-09T05:53:02.876Z"
   },
   {
    "duration": 5,
    "start_time": "2021-10-09T05:53:14.843Z"
   },
   {
    "duration": 5699,
    "start_time": "2021-10-09T05:53:15.109Z"
   },
   {
    "duration": 310,
    "start_time": "2021-10-09T05:53:21.556Z"
   },
   {
    "duration": 353,
    "start_time": "2021-10-09T05:53:26.024Z"
   },
   {
    "duration": 17,
    "start_time": "2021-10-09T05:53:29.435Z"
   },
   {
    "duration": 5,
    "start_time": "2021-10-09T05:54:13.877Z"
   },
   {
    "duration": 6638,
    "start_time": "2021-10-09T05:54:14.366Z"
   },
   {
    "duration": 5,
    "start_time": "2021-10-09T05:54:57.065Z"
   },
   {
    "duration": 5439,
    "start_time": "2021-10-09T05:54:57.915Z"
   },
   {
    "duration": 18,
    "start_time": "2021-10-09T05:55:06.798Z"
   },
   {
    "duration": 5,
    "start_time": "2021-10-09T05:55:43.905Z"
   },
   {
    "duration": 5656,
    "start_time": "2021-10-09T05:55:44.192Z"
   },
   {
    "duration": 24,
    "start_time": "2021-10-09T05:55:50.955Z"
   },
   {
    "duration": 6,
    "start_time": "2021-10-09T05:56:04.483Z"
   },
   {
    "duration": 1987,
    "start_time": "2021-10-09T05:56:04.756Z"
   },
   {
    "duration": 6,
    "start_time": "2021-10-09T05:56:32.766Z"
   },
   {
    "duration": 5351,
    "start_time": "2021-10-09T05:56:32.950Z"
   },
   {
    "duration": 18,
    "start_time": "2021-10-09T05:56:39.703Z"
   },
   {
    "duration": 17,
    "start_time": "2021-10-09T05:56:54.122Z"
   },
   {
    "duration": 81,
    "start_time": "2021-10-09T05:57:00.585Z"
   },
   {
    "duration": 90,
    "start_time": "2021-10-09T05:57:05.603Z"
   },
   {
    "duration": 6,
    "start_time": "2021-10-09T05:57:11.744Z"
   },
   {
    "duration": 309,
    "start_time": "2021-10-09T05:58:20.407Z"
   },
   {
    "duration": 785,
    "start_time": "2021-10-09T05:58:24.024Z"
   },
   {
    "duration": 22,
    "start_time": "2021-10-09T05:58:31.476Z"
   },
   {
    "duration": 540,
    "start_time": "2021-10-09T05:58:34.767Z"
   },
   {
    "duration": 326,
    "start_time": "2021-10-09T05:59:53.355Z"
   },
   {
    "duration": 306,
    "start_time": "2021-10-09T06:00:02.643Z"
   },
   {
    "duration": 305,
    "start_time": "2021-10-09T06:00:12.589Z"
   },
   {
    "duration": 300,
    "start_time": "2021-10-09T06:00:16.605Z"
   },
   {
    "duration": 307,
    "start_time": "2021-10-09T06:00:22.127Z"
   },
   {
    "duration": 417,
    "start_time": "2021-10-09T06:00:23.507Z"
   },
   {
    "duration": 298,
    "start_time": "2021-10-09T06:00:28.607Z"
   },
   {
    "duration": 569,
    "start_time": "2021-10-09T06:00:30.028Z"
   },
   {
    "duration": 6,
    "start_time": "2021-10-09T06:00:32.396Z"
   },
   {
    "duration": 8,
    "start_time": "2021-10-09T06:00:34.636Z"
   },
   {
    "duration": 8,
    "start_time": "2021-10-09T06:00:45.807Z"
   },
   {
    "duration": 7,
    "start_time": "2021-10-09T06:01:05.227Z"
   },
   {
    "duration": 4,
    "start_time": "2021-10-09T06:01:06.795Z"
   },
   {
    "duration": 8,
    "start_time": "2021-10-09T06:01:07.866Z"
   },
   {
    "duration": 9,
    "start_time": "2021-10-09T06:02:25.667Z"
   },
   {
    "duration": 4600,
    "start_time": "2021-10-09T06:02:26.395Z"
   },
   {
    "duration": 734,
    "start_time": "2021-10-09T06:02:30.264Z"
   },
   {
    "duration": 731,
    "start_time": "2021-10-09T06:02:30.268Z"
   },
   {
    "duration": 7,
    "start_time": "2021-10-09T06:03:14.670Z"
   },
   {
    "duration": 9,
    "start_time": "2021-10-09T06:03:17.044Z"
   },
   {
    "duration": 7,
    "start_time": "2021-10-09T06:03:17.423Z"
   },
   {
    "duration": 4,
    "start_time": "2021-10-09T06:03:18.584Z"
   },
   {
    "duration": 7,
    "start_time": "2021-10-09T06:03:21.550Z"
   },
   {
    "duration": 8,
    "start_time": "2021-10-09T06:03:38.556Z"
   },
   {
    "duration": 8,
    "start_time": "2021-10-09T06:03:46.249Z"
   },
   {
    "duration": 20,
    "start_time": "2021-10-09T06:03:46.260Z"
   },
   {
    "duration": 5,
    "start_time": "2021-10-09T06:03:46.947Z"
   },
   {
    "duration": 7,
    "start_time": "2021-10-09T06:03:50.636Z"
   },
   {
    "duration": 8,
    "start_time": "2021-10-09T06:03:51.423Z"
   },
   {
    "duration": 7,
    "start_time": "2021-10-09T06:03:51.904Z"
   },
   {
    "duration": 4,
    "start_time": "2021-10-09T06:03:52.351Z"
   },
   {
    "duration": 8,
    "start_time": "2021-10-09T06:03:53.012Z"
   },
   {
    "duration": 11,
    "start_time": "2021-10-09T06:03:59.792Z"
   },
   {
    "duration": 1065,
    "start_time": "2021-10-09T06:03:59.806Z"
   },
   {
    "duration": 33,
    "start_time": "2021-10-09T06:04:00.875Z"
   },
   {
    "duration": 37,
    "start_time": "2021-10-09T06:04:00.912Z"
   },
   {
    "duration": 16,
    "start_time": "2021-10-09T06:04:00.952Z"
   },
   {
    "duration": 23,
    "start_time": "2021-10-09T06:04:00.970Z"
   },
   {
    "duration": 6108,
    "start_time": "2021-10-09T06:04:00.996Z"
   },
   {
    "duration": 20,
    "start_time": "2021-10-09T06:04:07.108Z"
   },
   {
    "duration": 32,
    "start_time": "2021-10-09T06:04:07.132Z"
   },
   {
    "duration": 94,
    "start_time": "2021-10-09T06:04:07.167Z"
   },
   {
    "duration": 78,
    "start_time": "2021-10-09T06:04:07.264Z"
   },
   {
    "duration": 19,
    "start_time": "2021-10-09T06:04:07.344Z"
   },
   {
    "duration": 16,
    "start_time": "2021-10-09T06:04:07.366Z"
   },
   {
    "duration": 348,
    "start_time": "2021-10-09T06:04:07.384Z"
   },
   {
    "duration": 309,
    "start_time": "2021-10-09T06:04:18.076Z"
   },
   {
    "duration": 560,
    "start_time": "2021-10-09T06:04:19.027Z"
   },
   {
    "duration": 6,
    "start_time": "2021-10-09T06:04:21.470Z"
   },
   {
    "duration": 7,
    "start_time": "2021-10-09T06:04:28.396Z"
   },
   {
    "duration": 106,
    "start_time": "2021-10-09T06:05:30.350Z"
   },
   {
    "duration": 41,
    "start_time": "2021-10-09T06:05:41.523Z"
   },
   {
    "duration": 351,
    "start_time": "2021-10-09T06:05:47.463Z"
   },
   {
    "duration": 7,
    "start_time": "2021-10-09T06:07:16.835Z"
   },
   {
    "duration": 769,
    "start_time": "2021-10-09T06:07:16.844Z"
   },
   {
    "duration": 30,
    "start_time": "2021-10-09T06:07:17.616Z"
   },
   {
    "duration": 16,
    "start_time": "2021-10-09T06:07:17.662Z"
   },
   {
    "duration": 4,
    "start_time": "2021-10-09T06:07:17.681Z"
   },
   {
    "duration": 8,
    "start_time": "2021-10-09T06:07:17.687Z"
   },
   {
    "duration": 5450,
    "start_time": "2021-10-09T06:07:17.697Z"
   },
   {
    "duration": 28,
    "start_time": "2021-10-09T06:07:23.150Z"
   },
   {
    "duration": 11,
    "start_time": "2021-10-09T06:07:23.182Z"
   },
   {
    "duration": 106,
    "start_time": "2021-10-09T06:07:23.196Z"
   },
   {
    "duration": 98,
    "start_time": "2021-10-09T06:07:23.305Z"
   },
   {
    "duration": 14,
    "start_time": "2021-10-09T06:07:23.405Z"
   },
   {
    "duration": 329,
    "start_time": "2021-10-09T06:07:23.421Z"
   },
   {
    "duration": 550,
    "start_time": "2021-10-09T06:07:23.753Z"
   },
   {
    "duration": 6,
    "start_time": "2021-10-09T06:10:22.637Z"
   },
   {
    "duration": 5309,
    "start_time": "2021-10-09T06:10:24.184Z"
   },
   {
    "duration": 18,
    "start_time": "2021-10-09T06:10:30.386Z"
   },
   {
    "duration": 11,
    "start_time": "2021-10-09T06:10:32.841Z"
   },
   {
    "duration": 3,
    "start_time": "2021-10-09T06:10:33.646Z"
   },
   {
    "duration": 15,
    "start_time": "2021-10-09T06:10:34.126Z"
   },
   {
    "duration": 6,
    "start_time": "2021-10-09T06:10:34.470Z"
   },
   {
    "duration": 238,
    "start_time": "2021-10-09T06:10:35.241Z"
   },
   {
    "duration": 458,
    "start_time": "2021-10-09T06:10:36.766Z"
   },
   {
    "duration": 84,
    "start_time": "2021-10-09T06:14:26.397Z"
   },
   {
    "duration": 9,
    "start_time": "2021-10-09T06:18:37.886Z"
   },
   {
    "duration": 729,
    "start_time": "2021-10-09T06:18:37.899Z"
   },
   {
    "duration": 38,
    "start_time": "2021-10-09T06:18:38.633Z"
   },
   {
    "duration": 17,
    "start_time": "2021-10-09T06:18:38.674Z"
   },
   {
    "duration": 4,
    "start_time": "2021-10-09T06:18:38.693Z"
   },
   {
    "duration": 8,
    "start_time": "2021-10-09T06:18:38.700Z"
   },
   {
    "duration": 5470,
    "start_time": "2021-10-09T06:18:38.711Z"
   },
   {
    "duration": 16,
    "start_time": "2021-10-09T06:18:44.184Z"
   },
   {
    "duration": 11,
    "start_time": "2021-10-09T06:18:44.205Z"
   },
   {
    "duration": 109,
    "start_time": "2021-10-09T06:18:44.219Z"
   },
   {
    "duration": 86,
    "start_time": "2021-10-09T06:18:44.331Z"
   },
   {
    "duration": 16,
    "start_time": "2021-10-09T06:18:44.419Z"
   },
   {
    "duration": 316,
    "start_time": "2021-10-09T06:18:44.437Z"
   },
   {
    "duration": 553,
    "start_time": "2021-10-09T06:18:44.755Z"
   },
   {
    "duration": 7134,
    "start_time": "2021-10-09T06:18:45.310Z"
   },
   {
    "duration": 5,
    "start_time": "2021-10-09T06:19:10.146Z"
   },
   {
    "duration": 548,
    "start_time": "2021-10-09T06:19:41.709Z"
   },
   {
    "duration": 305,
    "start_time": "2021-10-09T06:19:59.438Z"
   },
   {
    "duration": 531,
    "start_time": "2021-10-09T06:20:01.076Z"
   },
   {
    "duration": 86085,
    "start_time": "2021-10-09T06:20:06.884Z"
   },
   {
    "duration": 7310,
    "start_time": "2021-10-09T06:32:50.226Z"
   },
   {
    "duration": 16,
    "start_time": "2021-10-09T06:33:01.516Z"
   },
   {
    "duration": 6,
    "start_time": "2021-10-09T06:33:20.623Z"
   },
   {
    "duration": 92967,
    "start_time": "2021-10-09T06:33:47.019Z"
   },
   {
    "duration": 172,
    "start_time": "2021-10-09T06:35:19.990Z"
   },
   {
    "duration": 87,
    "start_time": "2021-10-09T06:37:04.907Z"
   },
   {
    "duration": 90,
    "start_time": "2021-10-09T06:37:07.275Z"
   },
   {
    "duration": 12,
    "start_time": "2021-10-09T06:37:08.583Z"
   },
   {
    "duration": 75511,
    "start_time": "2021-10-09T06:38:04.808Z"
   },
   {
    "duration": 6,
    "start_time": "2021-10-09T06:39:20.322Z"
   },
   {
    "duration": 38,
    "start_time": "2021-10-09T06:39:20.330Z"
   },
   {
    "duration": 387,
    "start_time": "2021-10-09T06:39:20.370Z"
   },
   {
    "duration": 375,
    "start_time": "2021-10-09T06:40:11.084Z"
   },
   {
    "duration": 92,
    "start_time": "2021-10-09T06:40:27.670Z"
   },
   {
    "duration": 18,
    "start_time": "2021-10-09T06:40:57.034Z"
   },
   {
    "duration": 11,
    "start_time": "2021-10-09T06:40:58.030Z"
   },
   {
    "duration": 446,
    "start_time": "2021-10-09T06:41:05.190Z"
   },
   {
    "duration": 379,
    "start_time": "2021-10-09T06:42:23.508Z"
   },
   {
    "duration": 16,
    "start_time": "2021-10-09T06:42:38.589Z"
   },
   {
    "duration": 361,
    "start_time": "2021-10-09T06:42:43.247Z"
   },
   {
    "duration": 8,
    "start_time": "2021-10-09T06:43:04.876Z"
   },
   {
    "duration": 16,
    "start_time": "2021-10-09T06:43:05.944Z"
   },
   {
    "duration": 5,
    "start_time": "2021-10-09T06:43:30.555Z"
   },
   {
    "duration": 10,
    "start_time": "2021-10-09T06:43:31.364Z"
   },
   {
    "duration": 9,
    "start_time": "2021-10-09T06:43:49.764Z"
   },
   {
    "duration": 767,
    "start_time": "2021-10-09T06:43:49.777Z"
   },
   {
    "duration": 42,
    "start_time": "2021-10-09T06:43:50.547Z"
   },
   {
    "duration": 17,
    "start_time": "2021-10-09T06:43:50.593Z"
   },
   {
    "duration": 7,
    "start_time": "2021-10-09T06:43:50.613Z"
   },
   {
    "duration": 41,
    "start_time": "2021-10-09T06:43:50.623Z"
   },
   {
    "duration": 5707,
    "start_time": "2021-10-09T06:43:50.666Z"
   },
   {
    "duration": 17,
    "start_time": "2021-10-09T06:43:56.375Z"
   },
   {
    "duration": 30,
    "start_time": "2021-10-09T06:43:56.396Z"
   },
   {
    "duration": 128,
    "start_time": "2021-10-09T06:43:56.430Z"
   },
   {
    "duration": 126,
    "start_time": "2021-10-09T06:43:56.562Z"
   },
   {
    "duration": 17,
    "start_time": "2021-10-09T06:43:56.690Z"
   },
   {
    "duration": 354,
    "start_time": "2021-10-09T06:43:56.709Z"
   },
   {
    "duration": 619,
    "start_time": "2021-10-09T06:43:57.066Z"
   },
   {
    "duration": 84739,
    "start_time": "2021-10-09T06:43:57.687Z"
   },
   {
    "duration": 6,
    "start_time": "2021-10-09T06:45:22.428Z"
   },
   {
    "duration": 8234,
    "start_time": "2021-10-09T06:45:22.436Z"
   },
   {
    "duration": 16,
    "start_time": "2021-10-09T06:45:30.672Z"
   },
   {
    "duration": 89924,
    "start_time": "2021-10-09T06:45:30.691Z"
   },
   {
    "duration": 215,
    "start_time": "2021-10-09T06:47:00.617Z"
   },
   {
    "duration": 5,
    "start_time": "2021-10-09T06:47:00.834Z"
   },
   {
    "duration": 33,
    "start_time": "2021-10-09T06:47:00.841Z"
   },
   {
    "duration": 94,
    "start_time": "2021-10-09T06:47:00.877Z"
   },
   {
    "duration": 93,
    "start_time": "2021-10-09T06:47:00.974Z"
   },
   {
    "duration": 102,
    "start_time": "2021-10-09T06:47:01.070Z"
   },
   {
    "duration": 74310,
    "start_time": "2021-10-09T06:47:01.175Z"
   },
   {
    "duration": 6,
    "start_time": "2021-10-09T06:48:15.490Z"
   },
   {
    "duration": 8,
    "start_time": "2021-10-09T06:48:15.499Z"
   },
   {
    "duration": 61,
    "start_time": "2021-10-09T06:48:15.510Z"
   },
   {
    "duration": 5898,
    "start_time": "2021-10-09T06:50:56.577Z"
   },
   {
    "duration": 801,
    "start_time": "2021-10-09T06:51:02.479Z"
   },
   {
    "duration": 32,
    "start_time": "2021-10-09T06:51:03.283Z"
   },
   {
    "duration": 16,
    "start_time": "2021-10-09T06:51:03.318Z"
   },
   {
    "duration": 4,
    "start_time": "2021-10-09T06:51:03.361Z"
   },
   {
    "duration": 10,
    "start_time": "2021-10-09T06:51:03.367Z"
   },
   {
    "duration": 10889,
    "start_time": "2021-10-09T06:51:03.379Z"
   },
   {
    "duration": 17,
    "start_time": "2021-10-09T06:51:14.271Z"
   },
   {
    "duration": 9,
    "start_time": "2021-10-09T06:51:14.291Z"
   },
   {
    "duration": 163,
    "start_time": "2021-10-09T06:51:14.303Z"
   },
   {
    "duration": 129,
    "start_time": "2021-10-09T06:51:14.468Z"
   },
   {
    "duration": 29,
    "start_time": "2021-10-09T06:51:14.599Z"
   },
   {
    "duration": 696,
    "start_time": "2021-10-09T06:51:14.631Z"
   },
   {
    "duration": 863,
    "start_time": "2021-10-09T06:51:15.330Z"
   },
   {
    "duration": 1038334,
    "start_time": "2021-10-09T06:51:16.197Z"
   },
   {
    "duration": 5,
    "start_time": "2021-10-09T07:08:34.534Z"
   },
   {
    "duration": 38613,
    "start_time": "2021-10-09T07:08:34.541Z"
   },
   {
    "duration": 29,
    "start_time": "2021-10-09T07:09:13.156Z"
   },
   {
    "duration": 5946,
    "start_time": "2021-10-09T07:50:52.663Z"
   },
   {
    "duration": 757,
    "start_time": "2021-10-09T07:50:58.612Z"
   },
   {
    "duration": 30,
    "start_time": "2021-10-09T07:50:59.372Z"
   },
   {
    "duration": 16,
    "start_time": "2021-10-09T07:50:59.405Z"
   },
   {
    "duration": 3,
    "start_time": "2021-10-09T07:50:59.423Z"
   },
   {
    "duration": 37,
    "start_time": "2021-10-09T07:50:59.428Z"
   },
   {
    "duration": 10503,
    "start_time": "2021-10-09T07:50:59.467Z"
   },
   {
    "duration": 17,
    "start_time": "2021-10-09T07:51:09.974Z"
   },
   {
    "duration": 8,
    "start_time": "2021-10-09T07:51:09.995Z"
   },
   {
    "duration": 150,
    "start_time": "2021-10-09T07:51:10.005Z"
   },
   {
    "duration": 135,
    "start_time": "2021-10-09T07:51:10.158Z"
   },
   {
    "duration": 29,
    "start_time": "2021-10-09T07:51:10.296Z"
   },
   {
    "duration": 658,
    "start_time": "2021-10-09T07:51:10.327Z"
   },
   {
    "duration": 892,
    "start_time": "2021-10-09T07:51:10.987Z"
   },
   {
    "duration": 1020320,
    "start_time": "2021-10-09T07:51:11.881Z"
   },
   {
    "duration": 6,
    "start_time": "2021-10-09T08:08:12.203Z"
   },
   {
    "duration": 43998,
    "start_time": "2021-10-09T08:08:12.211Z"
   },
   {
    "duration": 25,
    "start_time": "2021-10-09T08:08:56.211Z"
   },
   {
    "duration": 922164,
    "start_time": "2021-10-09T08:08:56.239Z"
   },
   {
    "duration": 761,
    "start_time": "2021-10-09T08:24:17.645Z"
   },
   {
    "duration": 758,
    "start_time": "2021-10-09T08:24:17.649Z"
   },
   {
    "duration": 754,
    "start_time": "2021-10-09T08:24:17.655Z"
   },
   {
    "duration": 749,
    "start_time": "2021-10-09T08:24:17.661Z"
   },
   {
    "duration": 748,
    "start_time": "2021-10-09T08:24:17.664Z"
   },
   {
    "duration": 746,
    "start_time": "2021-10-09T08:24:17.667Z"
   },
   {
    "duration": 744,
    "start_time": "2021-10-09T08:24:17.670Z"
   },
   {
    "duration": 743,
    "start_time": "2021-10-09T08:24:17.673Z"
   },
   {
    "duration": 742,
    "start_time": "2021-10-09T08:24:17.676Z"
   },
   {
    "duration": 741,
    "start_time": "2021-10-09T08:24:17.678Z"
   },
   {
    "duration": 41427,
    "start_time": "2021-10-09T08:24:25.513Z"
   },
   {
    "duration": 187,
    "start_time": "2021-10-09T08:26:04.482Z"
   },
   {
    "duration": 5,
    "start_time": "2021-10-09T08:26:05.715Z"
   },
   {
    "duration": 21,
    "start_time": "2021-10-09T08:26:07.203Z"
   },
   {
    "duration": 142,
    "start_time": "2021-10-09T08:26:10.092Z"
   },
   {
    "duration": 68,
    "start_time": "2021-10-09T08:26:10.994Z"
   },
   {
    "duration": 15,
    "start_time": "2021-10-09T08:26:11.619Z"
   },
   {
    "duration": 127032,
    "start_time": "2021-10-09T08:26:12.971Z"
   },
   {
    "duration": 6,
    "start_time": "2021-10-09T08:28:20.006Z"
   },
   {
    "duration": 53,
    "start_time": "2021-10-09T08:28:20.015Z"
   },
   {
    "duration": 368,
    "start_time": "2021-10-09T08:28:20.071Z"
   },
   {
    "duration": 99,
    "start_time": "2021-10-09T08:29:22.267Z"
   },
   {
    "duration": 16,
    "start_time": "2021-10-09T08:29:25.994Z"
   },
   {
    "duration": 6,
    "start_time": "2021-10-09T08:29:58.330Z"
   },
   {
    "duration": 786,
    "start_time": "2021-10-09T08:30:00.250Z"
   },
   {
    "duration": 33,
    "start_time": "2021-10-09T08:30:01.874Z"
   },
   {
    "duration": 3,
    "start_time": "2021-10-09T08:30:03.297Z"
   },
   {
    "duration": 3,
    "start_time": "2021-10-09T08:30:05.026Z"
   },
   {
    "duration": 6,
    "start_time": "2021-10-09T08:30:05.689Z"
   },
   {
    "duration": 8117,
    "start_time": "2021-10-09T08:30:06.498Z"
   },
   {
    "duration": 19,
    "start_time": "2021-10-09T08:30:15.330Z"
   },
   {
    "duration": 763,
    "start_time": "2021-10-09T08:30:33.674Z"
   },
   {
    "duration": 30,
    "start_time": "2021-10-09T08:30:35.075Z"
   },
   {
    "duration": 3,
    "start_time": "2021-10-09T08:30:36.657Z"
   },
   {
    "duration": 4,
    "start_time": "2021-10-09T08:30:37.601Z"
   },
   {
    "duration": 5,
    "start_time": "2021-10-09T08:30:37.801Z"
   },
   {
    "duration": 229718,
    "start_time": "2021-10-09T08:30:38.665Z"
   },
   {
    "duration": 17,
    "start_time": "2021-10-09T08:35:36.669Z"
   },
   {
    "duration": 14,
    "start_time": "2021-10-09T08:35:39.113Z"
   },
   {
    "duration": 3,
    "start_time": "2021-10-09T08:35:40.080Z"
   },
   {
    "duration": 45,
    "start_time": "2021-10-09T08:35:40.561Z"
   },
   {
    "duration": 14,
    "start_time": "2021-10-09T08:35:41.633Z"
   },
   {
    "duration": 9401,
    "start_time": "2021-10-09T08:35:42.522Z"
   },
   {
    "duration": 9242,
    "start_time": "2021-10-09T08:35:56.024Z"
   },
   {
    "duration": 72,
    "start_time": "2021-10-09T08:36:38.996Z"
   },
   {
    "duration": 3,
    "start_time": "2021-10-09T08:36:39.937Z"
   },
   {
    "duration": 7,
    "start_time": "2021-10-09T08:36:40.135Z"
   },
   {
    "duration": 77157,
    "start_time": "2021-10-09T08:36:40.359Z"
   },
   {
    "duration": 33,
    "start_time": "2021-10-09T08:38:04.432Z"
   },
   {
    "duration": 4,
    "start_time": "2021-10-09T08:38:05.095Z"
   },
   {
    "duration": 6,
    "start_time": "2021-10-09T08:38:05.415Z"
   },
   {
    "duration": 57706,
    "start_time": "2021-10-09T08:38:05.880Z"
   },
   {
    "duration": 18,
    "start_time": "2021-10-09T08:39:05.604Z"
   },
   {
    "duration": 5,
    "start_time": "2021-10-09T08:39:07.558Z"
   },
   {
    "duration": 3,
    "start_time": "2021-10-09T08:39:08.503Z"
   },
   {
    "duration": 20,
    "start_time": "2021-10-09T08:39:09.087Z"
   },
   {
    "duration": 10,
    "start_time": "2021-10-09T08:39:09.783Z"
   },
   {
    "duration": 2287,
    "start_time": "2021-10-09T08:39:10.735Z"
   },
   {
    "duration": 6246,
    "start_time": "2021-10-09T08:39:13.718Z"
   },
   {
    "duration": 1405,
    "start_time": "2021-10-09T08:39:36.004Z"
   },
   {
    "duration": 335,
    "start_time": "2021-10-09T08:39:44.959Z"
   },
   {
    "duration": 328,
    "start_time": "2021-10-09T08:39:45.586Z"
   },
   {
    "duration": 344,
    "start_time": "2021-10-09T08:39:45.930Z"
   },
   {
    "duration": 5877,
    "start_time": "2021-10-09T08:39:56.657Z"
   },
   {
    "duration": 790,
    "start_time": "2021-10-09T08:40:02.536Z"
   },
   {
    "duration": 38,
    "start_time": "2021-10-09T08:40:03.329Z"
   },
   {
    "duration": 909,
    "start_time": "2021-10-09T08:40:03.370Z"
   },
   {
    "duration": 3,
    "start_time": "2021-10-09T08:40:05.164Z"
   },
   {
    "duration": 17,
    "start_time": "2021-10-09T08:40:11.931Z"
   },
   {
    "duration": 4,
    "start_time": "2021-10-09T08:40:13.395Z"
   },
   {
    "duration": 8,
    "start_time": "2021-10-09T08:40:13.614Z"
   },
   {
    "duration": 8094,
    "start_time": "2021-10-09T08:40:13.861Z"
   },
   {
    "duration": 21,
    "start_time": "2021-10-09T08:40:22.825Z"
   },
   {
    "duration": 4,
    "start_time": "2021-10-09T08:40:24.043Z"
   },
   {
    "duration": 3,
    "start_time": "2021-10-09T08:40:24.420Z"
   },
   {
    "duration": 7,
    "start_time": "2021-10-09T08:40:25.500Z"
   },
   {
    "duration": 6,
    "start_time": "2021-10-09T08:40:25.780Z"
   },
   {
    "duration": 484,
    "start_time": "2021-10-09T08:40:26.044Z"
   },
   {
    "duration": 449,
    "start_time": "2021-10-09T08:40:27.514Z"
   },
   {
    "duration": 6423,
    "start_time": "2021-10-09T08:44:56.084Z"
   },
   {
    "duration": 798,
    "start_time": "2021-10-09T08:45:02.511Z"
   },
   {
    "duration": 31,
    "start_time": "2021-10-09T08:45:03.312Z"
   },
   {
    "duration": 16,
    "start_time": "2021-10-09T08:45:03.362Z"
   },
   {
    "duration": 3,
    "start_time": "2021-10-09T08:45:03.381Z"
   },
   {
    "duration": 9,
    "start_time": "2021-10-09T08:45:03.386Z"
   },
   {
    "duration": 7850,
    "start_time": "2021-10-09T08:45:03.397Z"
   },
   {
    "duration": 26,
    "start_time": "2021-10-09T08:45:11.250Z"
   },
   {
    "duration": 4,
    "start_time": "2021-10-09T08:45:11.279Z"
   },
   {
    "duration": 9,
    "start_time": "2021-10-09T08:45:11.285Z"
   },
   {
    "duration": 11,
    "start_time": "2021-10-09T08:45:11.296Z"
   },
   {
    "duration": 6,
    "start_time": "2021-10-09T08:45:11.310Z"
   },
   {
    "duration": 484,
    "start_time": "2021-10-09T08:45:11.318Z"
   },
   {
    "duration": 584,
    "start_time": "2021-10-09T08:45:19.347Z"
   },
   {
    "duration": 243,
    "start_time": "2021-10-09T08:45:28.193Z"
   },
   {
    "duration": 479,
    "start_time": "2021-10-09T08:45:29.066Z"
   },
   {
    "duration": 246,
    "start_time": "2021-10-09T08:45:36.538Z"
   },
   {
    "duration": 609,
    "start_time": "2021-10-09T08:45:37.786Z"
   },
   {
    "duration": 19083,
    "start_time": "2021-10-09T08:45:41.679Z"
   },
   {
    "duration": 249,
    "start_time": "2021-10-09T08:46:08.074Z"
   },
   {
    "duration": 340,
    "start_time": "2021-10-09T08:46:08.326Z"
   },
   {
    "duration": 8695,
    "start_time": "2021-10-09T08:46:17.201Z"
   },
   {
    "duration": 6,
    "start_time": "2021-10-09T08:46:28.512Z"
   },
   {
    "duration": 993,
    "start_time": "2021-10-09T08:46:29.690Z"
   },
   {
    "duration": 11,
    "start_time": "2021-10-09T08:46:31.593Z"
   },
   {
    "duration": 10107,
    "start_time": "2021-10-09T08:46:46.101Z"
   },
   {
    "duration": 27,
    "start_time": "2021-10-09T08:46:56.211Z"
   },
   {
    "duration": 27,
    "start_time": "2021-10-09T08:46:56.241Z"
   },
   {
    "duration": 12,
    "start_time": "2021-10-09T08:46:56.272Z"
   },
   {
    "duration": 9129,
    "start_time": "2021-10-09T08:47:29.090Z"
   },
   {
    "duration": 66,
    "start_time": "2021-10-09T08:47:38.222Z"
   },
   {
    "duration": 6,
    "start_time": "2021-10-09T08:47:38.292Z"
   },
   {
    "duration": 8,
    "start_time": "2021-10-09T08:48:21.914Z"
   },
   {
    "duration": 9177,
    "start_time": "2021-10-09T08:48:42.546Z"
   },
   {
    "duration": 56,
    "start_time": "2021-10-09T08:49:09.808Z"
   },
   {
    "duration": 6,
    "start_time": "2021-10-09T08:49:10.370Z"
   },
   {
    "duration": 10,
    "start_time": "2021-10-09T08:49:11.041Z"
   },
   {
    "duration": 22416,
    "start_time": "2021-10-09T08:49:18.746Z"
   },
   {
    "duration": 69,
    "start_time": "2021-10-09T08:49:41.164Z"
   },
   {
    "duration": 26,
    "start_time": "2021-10-09T08:49:41.236Z"
   },
   {
    "duration": 10,
    "start_time": "2021-10-09T08:49:41.265Z"
   },
   {
    "duration": 82625,
    "start_time": "2021-10-09T08:49:53.865Z"
   },
   {
    "duration": 74,
    "start_time": "2021-10-09T08:51:16.493Z"
   },
   {
    "duration": 4,
    "start_time": "2021-10-09T08:51:16.570Z"
   },
   {
    "duration": 12,
    "start_time": "2021-10-09T08:51:16.577Z"
   },
   {
    "duration": 51,
    "start_time": "2021-10-09T08:51:24.801Z"
   },
   {
    "duration": 11,
    "start_time": "2021-10-09T08:51:24.936Z"
   },
   {
    "duration": 13,
    "start_time": "2021-10-09T08:51:25.729Z"
   },
   {
    "duration": 59948,
    "start_time": "2021-10-09T08:51:31.080Z"
   },
   {
    "duration": 8,
    "start_time": "2021-10-09T08:52:31.031Z"
   },
   {
    "duration": 25,
    "start_time": "2021-10-09T08:52:31.042Z"
   },
   {
    "duration": 36,
    "start_time": "2021-10-09T08:52:31.071Z"
   },
   {
    "duration": 304,
    "start_time": "2021-10-09T08:52:49.649Z"
   },
   {
    "duration": 445,
    "start_time": "2021-10-09T08:52:51.176Z"
   },
   {
    "duration": 47011,
    "start_time": "2021-10-09T08:52:55.791Z"
   },
   {
    "duration": 5,
    "start_time": "2021-10-09T08:53:42.804Z"
   },
   {
    "duration": 4570,
    "start_time": "2021-10-09T08:53:42.813Z"
   },
   {
    "duration": 15,
    "start_time": "2021-10-09T08:53:47.386Z"
   },
   {
    "duration": 1273,
    "start_time": "2021-10-09T08:55:25.144Z"
   },
   {
    "duration": 807,
    "start_time": "2021-10-09T08:55:44.081Z"
   },
   {
    "duration": 39,
    "start_time": "2021-10-09T08:55:45.674Z"
   },
   {
    "duration": 19,
    "start_time": "2021-10-09T08:55:47.208Z"
   },
   {
    "duration": 3,
    "start_time": "2021-10-09T08:55:48.360Z"
   },
   {
    "duration": 5,
    "start_time": "2021-10-09T08:55:48.624Z"
   },
   {
    "duration": 20852,
    "start_time": "2021-10-09T08:55:49.023Z"
   },
   {
    "duration": 17,
    "start_time": "2021-10-09T08:56:09.877Z"
   },
   {
    "duration": 4,
    "start_time": "2021-10-09T08:56:12.895Z"
   },
   {
    "duration": 3,
    "start_time": "2021-10-09T08:56:13.183Z"
   },
   {
    "duration": 9,
    "start_time": "2021-10-09T08:56:13.775Z"
   },
   {
    "duration": 6,
    "start_time": "2021-10-09T08:56:14.223Z"
   },
   {
    "duration": 879,
    "start_time": "2021-10-09T08:56:14.855Z"
   },
   {
    "duration": 2049,
    "start_time": "2021-10-09T08:56:15.737Z"
   },
   {
    "duration": 482513,
    "start_time": "2021-10-09T08:56:25.648Z"
   },
   {
    "duration": 7,
    "start_time": "2021-10-09T09:04:28.164Z"
   },
   {
    "duration": 57307,
    "start_time": "2021-10-09T09:04:28.174Z"
   },
   {
    "duration": 117,
    "start_time": "2021-10-09T09:05:25.484Z"
   },
   {
    "duration": 1579789,
    "start_time": "2021-10-09T09:05:38.061Z"
   },
   {
    "duration": 1481,
    "start_time": "2021-10-09T09:31:57.853Z"
   },
   {
    "duration": 4,
    "start_time": "2021-10-09T09:31:59.337Z"
   },
   {
    "duration": 92,
    "start_time": "2021-10-09T09:31:59.344Z"
   },
   {
    "duration": 1823,
    "start_time": "2021-10-09T09:31:59.439Z"
   },
   {
    "duration": 99,
    "start_time": "2021-10-09T09:32:01.265Z"
   },
   {
    "duration": 197,
    "start_time": "2021-10-09T09:32:01.368Z"
   },
   {
    "duration": 360515,
    "start_time": "2021-10-09T09:32:01.570Z"
   },
   {
    "duration": 5,
    "start_time": "2021-10-09T09:38:02.088Z"
   },
   {
    "duration": 20,
    "start_time": "2021-10-09T09:38:02.096Z"
   },
   {
    "duration": 17,
    "start_time": "2021-10-09T09:38:02.163Z"
   },
   {
    "duration": 7,
    "start_time": "2021-10-09T09:44:01.809Z"
   },
   {
    "duration": 7,
    "start_time": "2021-10-09T09:44:04.483Z"
   },
   {
    "duration": 7,
    "start_time": "2021-10-09T09:44:45.152Z"
   },
   {
    "duration": 8,
    "start_time": "2021-10-09T09:44:47.548Z"
   },
   {
    "duration": 6,
    "start_time": "2021-10-09T09:45:53.705Z"
   },
   {
    "duration": 8,
    "start_time": "2021-10-09T09:45:55.795Z"
   },
   {
    "duration": 7,
    "start_time": "2021-10-09T09:46:23.076Z"
   },
   {
    "duration": 6,
    "start_time": "2021-10-09T09:46:37.003Z"
   },
   {
    "duration": 113,
    "start_time": "2021-10-09T09:46:54.812Z"
   },
   {
    "duration": 305,
    "start_time": "2021-10-09T09:47:02.716Z"
   },
   {
    "duration": 6,
    "start_time": "2021-10-09T09:47:24.140Z"
   },
   {
    "duration": 7,
    "start_time": "2021-10-09T09:48:14.479Z"
   },
   {
    "duration": 6,
    "start_time": "2021-10-09T09:48:34.675Z"
   },
   {
    "duration": 4433,
    "start_time": "2021-10-09T09:51:32.911Z"
   },
   {
    "duration": 4351,
    "start_time": "2021-10-09T09:51:39.691Z"
   },
   {
    "duration": 9,
    "start_time": "2021-10-09T09:51:45.802Z"
   },
   {
    "duration": 6,
    "start_time": "2021-10-09T09:51:46.267Z"
   },
   {
    "duration": 4438,
    "start_time": "2021-10-09T09:51:47.114Z"
   },
   {
    "duration": 6,
    "start_time": "2021-10-09T09:52:43.895Z"
   },
   {
    "duration": 12,
    "start_time": "2021-10-09T09:54:06.382Z"
   },
   {
    "duration": 8,
    "start_time": "2021-10-09T09:54:07.034Z"
   },
   {
    "duration": 18,
    "start_time": "2021-10-09T09:54:07.698Z"
   },
   {
    "duration": 7,
    "start_time": "2021-10-09T09:54:09.649Z"
   },
   {
    "duration": 651,
    "start_time": "2021-10-09T09:54:19.497Z"
   },
   {
    "duration": 9,
    "start_time": "2021-10-09T09:54:40.977Z"
   },
   {
    "duration": 5,
    "start_time": "2021-10-09T09:54:47.121Z"
   },
   {
    "duration": 8,
    "start_time": "2021-10-09T09:54:48.250Z"
   },
   {
    "duration": 7,
    "start_time": "2021-10-09T09:54:53.192Z"
   },
   {
    "duration": 7,
    "start_time": "2021-10-09T09:55:28.559Z"
   },
   {
    "duration": 8,
    "start_time": "2021-10-09T09:55:30.448Z"
   },
   {
    "duration": 5,
    "start_time": "2021-10-09T09:55:34.185Z"
   },
   {
    "duration": 8,
    "start_time": "2021-10-09T09:55:37.521Z"
   },
   {
    "duration": 7,
    "start_time": "2021-10-09T09:55:40.929Z"
   },
   {
    "duration": 900,
    "start_time": "2021-10-09T09:55:42.369Z"
   },
   {
    "duration": 2055,
    "start_time": "2021-10-09T09:55:46.089Z"
   },
   {
    "duration": 9,
    "start_time": "2021-10-09T09:56:13.410Z"
   },
   {
    "duration": 7,
    "start_time": "2021-10-09T09:56:13.770Z"
   },
   {
    "duration": 4285,
    "start_time": "2021-10-09T09:56:14.792Z"
   },
   {
    "duration": 11,
    "start_time": "2021-10-09T09:56:30.992Z"
   },
   {
    "duration": 8,
    "start_time": "2021-10-09T09:56:31.193Z"
   },
   {
    "duration": 16,
    "start_time": "2021-10-09T09:56:47.985Z"
   },
   {
    "duration": 9,
    "start_time": "2021-10-09T09:56:54.545Z"
   },
   {
    "duration": 7,
    "start_time": "2021-10-09T09:56:55.226Z"
   },
   {
    "duration": 6,
    "start_time": "2021-10-09T09:57:13.186Z"
   },
   {
    "duration": 899,
    "start_time": "2021-10-09T09:57:15.721Z"
   },
   {
    "duration": 2195,
    "start_time": "2021-10-09T09:57:18.505Z"
   },
   {
    "duration": 9,
    "start_time": "2021-10-09T09:57:35.314Z"
   },
   {
    "duration": 8,
    "start_time": "2021-10-09T09:57:36.368Z"
   },
   {
    "duration": 4173,
    "start_time": "2021-10-09T09:58:15.336Z"
   },
   {
    "duration": 10,
    "start_time": "2021-10-09T09:58:24.241Z"
   },
   {
    "duration": 8,
    "start_time": "2021-10-09T09:58:43.289Z"
   },
   {
    "duration": 8,
    "start_time": "2021-10-09T09:58:56.113Z"
   },
   {
    "duration": 375,
    "start_time": "2021-10-09T09:59:00.675Z"
   },
   {
    "duration": 9,
    "start_time": "2021-10-09T09:59:11.968Z"
   },
   {
    "duration": 18,
    "start_time": "2021-10-09T09:59:17.832Z"
   },
   {
    "duration": 7,
    "start_time": "2021-10-09T09:59:33.257Z"
   },
   {
    "duration": 156,
    "start_time": "2021-10-09T09:59:39.799Z"
   },
   {
    "duration": 658,
    "start_time": "2021-10-09T09:59:41.336Z"
   },
   {
    "duration": 15392,
    "start_time": "2021-10-09T09:59:49.731Z"
   },
   {
    "duration": 5,
    "start_time": "2021-10-09T10:00:05.126Z"
   },
   {
    "duration": 1107,
    "start_time": "2021-10-09T10:00:05.133Z"
   },
   {
    "duration": 39,
    "start_time": "2021-10-09T10:00:06.242Z"
   },
   {
    "duration": 774,
    "start_time": "2021-10-09T10:00:28.913Z"
   },
   {
    "duration": 30,
    "start_time": "2021-10-09T10:00:29.689Z"
   },
   {
    "duration": 19,
    "start_time": "2021-10-09T10:00:31.457Z"
   },
   {
    "duration": 3,
    "start_time": "2021-10-09T10:00:32.601Z"
   },
   {
    "duration": 5,
    "start_time": "2021-10-09T10:00:33.561Z"
   },
   {
    "duration": 20814,
    "start_time": "2021-10-09T10:00:33.848Z"
   },
   {
    "duration": 18,
    "start_time": "2021-10-09T10:00:56.312Z"
   },
   {
    "duration": 4,
    "start_time": "2021-10-09T10:01:02.408Z"
   },
   {
    "duration": 15,
    "start_time": "2021-10-09T10:01:04.136Z"
   },
   {
    "duration": 7,
    "start_time": "2021-10-09T10:01:04.375Z"
   },
   {
    "duration": 6,
    "start_time": "2021-10-09T10:01:05.736Z"
   },
   {
    "duration": 866,
    "start_time": "2021-10-09T10:01:06.217Z"
   },
   {
    "duration": 2070,
    "start_time": "2021-10-09T10:01:08.736Z"
   },
   {
    "duration": 9,
    "start_time": "2021-10-09T10:01:19.303Z"
   },
   {
    "duration": 11,
    "start_time": "2021-10-09T10:01:20.000Z"
   },
   {
    "duration": 11,
    "start_time": "2021-10-09T10:01:20.648Z"
   },
   {
    "duration": 8,
    "start_time": "2021-10-09T10:01:20.968Z"
   },
   {
    "duration": 18,
    "start_time": "2021-10-09T10:01:24.608Z"
   },
   {
    "duration": 11,
    "start_time": "2021-10-09T10:01:44.328Z"
   },
   {
    "duration": 10,
    "start_time": "2021-10-09T10:01:44.687Z"
   },
   {
    "duration": 9,
    "start_time": "2021-10-09T10:01:44.935Z"
   },
   {
    "duration": 337,
    "start_time": "2021-10-09T10:01:58.648Z"
   },
   {
    "duration": 807,
    "start_time": "2021-10-09T10:01:58.181Z"
   },
   {
    "duration": 8,
    "start_time": "2021-10-09T10:01:59.128Z"
   },
   {
    "duration": 346,
    "start_time": "2021-10-09T10:02:06.712Z"
   },
   {
    "duration": 12,
    "start_time": "2021-10-09T10:02:24.520Z"
   },
   {
    "duration": 333,
    "start_time": "2021-10-09T10:02:24.702Z"
   },
   {
    "duration": 14,
    "start_time": "2021-10-09T10:02:31.913Z"
   },
   {
    "duration": 9,
    "start_time": "2021-10-09T10:02:33.032Z"
   },
   {
    "duration": 9,
    "start_time": "2021-10-09T10:02:33.232Z"
   },
   {
    "duration": 8,
    "start_time": "2021-10-09T10:04:44.643Z"
   },
   {
    "duration": 347,
    "start_time": "2021-10-09T10:04:57.326Z"
   },
   {
    "duration": 9,
    "start_time": "2021-10-09T10:05:06.175Z"
   },
   {
    "duration": 10,
    "start_time": "2021-10-09T10:05:07.447Z"
   },
   {
    "duration": 9,
    "start_time": "2021-10-09T10:05:07.663Z"
   },
   {
    "duration": 12,
    "start_time": "2021-10-09T10:05:30.878Z"
   },
   {
    "duration": 9,
    "start_time": "2021-10-09T10:05:31.199Z"
   },
   {
    "duration": 9,
    "start_time": "2021-10-09T10:05:31.438Z"
   },
   {
    "duration": 8,
    "start_time": "2021-10-09T10:05:31.887Z"
   },
   {
    "duration": 18,
    "start_time": "2021-10-09T10:05:44.707Z"
   },
   {
    "duration": 7,
    "start_time": "2021-10-09T10:06:21.748Z"
   },
   {
    "duration": 772,
    "start_time": "2021-10-09T10:06:21.758Z"
   },
   {
    "duration": 33,
    "start_time": "2021-10-09T10:06:22.533Z"
   },
   {
    "duration": 21,
    "start_time": "2021-10-09T10:06:22.569Z"
   },
   {
    "duration": 4,
    "start_time": "2021-10-09T10:06:22.592Z"
   },
   {
    "duration": 15,
    "start_time": "2021-10-09T10:06:22.598Z"
   },
   {
    "duration": 21507,
    "start_time": "2021-10-09T10:06:22.615Z"
   },
   {
    "duration": 18,
    "start_time": "2021-10-09T10:06:44.126Z"
   },
   {
    "duration": 6,
    "start_time": "2021-10-09T10:06:44.165Z"
   },
   {
    "duration": 16,
    "start_time": "2021-10-09T10:06:48.191Z"
   },
   {
    "duration": 4,
    "start_time": "2021-10-09T10:06:50.166Z"
   },
   {
    "duration": 12,
    "start_time": "2021-10-09T10:06:51.870Z"
   },
   {
    "duration": 8,
    "start_time": "2021-10-09T10:06:52.093Z"
   },
   {
    "duration": 7,
    "start_time": "2021-10-09T10:06:53.326Z"
   },
   {
    "duration": 835,
    "start_time": "2021-10-09T10:06:53.485Z"
   },
   {
    "duration": 2114,
    "start_time": "2021-10-09T10:06:54.485Z"
   },
   {
    "duration": 9,
    "start_time": "2021-10-09T10:07:03.389Z"
   },
   {
    "duration": 10,
    "start_time": "2021-10-09T10:07:05.374Z"
   },
   {
    "duration": 10,
    "start_time": "2021-10-09T10:07:07.269Z"
   },
   {
    "duration": 10,
    "start_time": "2021-10-09T10:07:07.574Z"
   },
   {
    "duration": 11,
    "start_time": "2021-10-09T10:07:07.911Z"
   },
   {
    "duration": 17,
    "start_time": "2021-10-09T10:07:10.103Z"
   },
   {
    "duration": 6,
    "start_time": "2021-10-09T10:07:27.861Z"
   },
   {
    "duration": 8,
    "start_time": "2021-10-09T10:08:04.891Z"
   },
   {
    "duration": 10,
    "start_time": "2021-10-09T10:08:17.254Z"
   },
   {
    "duration": 8,
    "start_time": "2021-10-09T10:08:18.173Z"
   },
   {
    "duration": 9,
    "start_time": "2021-10-09T10:08:21.205Z"
   },
   {
    "duration": 9,
    "start_time": "2021-10-09T10:08:21.606Z"
   },
   {
    "duration": 9,
    "start_time": "2021-10-09T10:08:22.398Z"
   },
   {
    "duration": 10,
    "start_time": "2021-10-09T10:08:22.655Z"
   },
   {
    "duration": 9,
    "start_time": "2021-10-09T10:08:22.917Z"
   },
   {
    "duration": 7,
    "start_time": "2021-10-09T10:08:24.806Z"
   },
   {
    "duration": 6,
    "start_time": "2021-10-09T10:08:30.262Z"
   },
   {
    "duration": 1476,
    "start_time": "2021-10-09T10:08:31.532Z"
   },
   {
    "duration": 6150,
    "start_time": "2021-10-09T10:09:16.581Z"
   },
   {
    "duration": 800,
    "start_time": "2021-10-09T10:09:22.734Z"
   },
   {
    "duration": 41,
    "start_time": "2021-10-09T10:09:23.537Z"
   },
   {
    "duration": 17,
    "start_time": "2021-10-09T10:09:23.581Z"
   },
   {
    "duration": 3,
    "start_time": "2021-10-09T10:09:25.710Z"
   },
   {
    "duration": 6,
    "start_time": "2021-10-09T10:09:26.615Z"
   },
   {
    "duration": 16403,
    "start_time": "2021-10-09T10:09:27.021Z"
   },
   {
    "duration": 18,
    "start_time": "2021-10-09T10:09:44.094Z"
   },
   {
    "duration": 4,
    "start_time": "2021-10-09T10:09:47.102Z"
   },
   {
    "duration": 11,
    "start_time": "2021-10-09T10:09:48.337Z"
   },
   {
    "duration": 834,
    "start_time": "2021-10-09T10:09:48.518Z"
   },
   {
    "duration": 5,
    "start_time": "2021-10-09T10:09:52.999Z"
   },
   {
    "duration": 11,
    "start_time": "2021-10-09T10:09:56.454Z"
   },
   {
    "duration": 8,
    "start_time": "2021-10-09T10:10:04.190Z"
   },
   {
    "duration": 9,
    "start_time": "2021-10-09T10:10:10.357Z"
   },
   {
    "duration": 9,
    "start_time": "2021-10-09T10:10:11.045Z"
   },
   {
    "duration": 9,
    "start_time": "2021-10-09T10:10:11.685Z"
   },
   {
    "duration": 10,
    "start_time": "2021-10-09T10:10:12.093Z"
   },
   {
    "duration": 9,
    "start_time": "2021-10-09T10:10:13.236Z"
   },
   {
    "duration": 18,
    "start_time": "2021-10-09T10:10:15.150Z"
   },
   {
    "duration": 5,
    "start_time": "2021-10-09T10:10:25.741Z"
   },
   {
    "duration": 1088,
    "start_time": "2021-10-09T10:10:26.501Z"
   },
   {
    "duration": 1995,
    "start_time": "2021-10-09T10:10:28.702Z"
   },
   {
    "duration": 400424,
    "start_time": "2021-10-09T10:10:34.406Z"
   },
   {
    "duration": 6,
    "start_time": "2021-10-09T10:17:14.833Z"
   },
   {
    "duration": 46985,
    "start_time": "2021-10-09T10:17:14.842Z"
   },
   {
    "duration": 76,
    "start_time": "2021-10-09T10:18:01.830Z"
   },
   {
    "duration": 1666925,
    "start_time": "2021-10-09T10:18:01.909Z"
   },
   {
    "duration": 10373,
    "start_time": "2021-10-09T10:45:48.836Z"
   },
   {
    "duration": 5,
    "start_time": "2021-10-09T10:45:59.211Z"
   },
   {
    "duration": 80,
    "start_time": "2021-10-09T10:45:59.220Z"
   },
   {
    "duration": 2269,
    "start_time": "2021-10-09T10:45:59.304Z"
   },
   {
    "duration": 108,
    "start_time": "2021-10-09T10:46:01.576Z"
   },
   {
    "duration": 103,
    "start_time": "2021-10-09T10:46:01.773Z"
   },
   {
    "duration": 290238,
    "start_time": "2021-10-09T10:46:01.879Z"
   },
   {
    "duration": 44,
    "start_time": "2021-10-09T10:50:52.120Z"
   },
   {
    "duration": 10,
    "start_time": "2021-10-09T10:50:52.167Z"
   },
   {
    "duration": 15,
    "start_time": "2021-10-09T10:50:52.180Z"
   },
   {
    "duration": 12,
    "start_time": "2021-10-09T10:50:52.198Z"
   },
   {
    "duration": 301,
    "start_time": "2021-10-09T10:51:45.262Z"
   },
   {
    "duration": 90,
    "start_time": "2021-10-09T10:51:52.252Z"
   },
   {
    "duration": 409,
    "start_time": "2021-10-09T10:51:55.330Z"
   },
   {
    "duration": 6,
    "start_time": "2021-10-09T10:51:59.074Z"
   },
   {
    "duration": 337,
    "start_time": "2021-10-09T10:52:07.013Z"
   },
   {
    "duration": 317,
    "start_time": "2021-10-09T10:52:09.866Z"
   },
   {
    "duration": 6,
    "start_time": "2021-10-09T10:52:14.371Z"
   },
   {
    "duration": 8,
    "start_time": "2021-10-09T10:55:21.872Z"
   },
   {
    "duration": 960,
    "start_time": "2021-10-09T10:55:22.762Z"
   },
   {
    "duration": 41,
    "start_time": "2021-10-09T10:55:23.725Z"
   },
   {
    "duration": 33,
    "start_time": "2021-10-09T10:55:24.010Z"
   },
   {
    "duration": 4,
    "start_time": "2021-10-09T10:55:25.026Z"
   },
   {
    "duration": 5,
    "start_time": "2021-10-09T10:55:25.226Z"
   },
   {
    "duration": 14438,
    "start_time": "2021-10-09T10:55:25.554Z"
   },
   {
    "duration": 18,
    "start_time": "2021-10-09T10:55:39.994Z"
   },
   {
    "duration": 10,
    "start_time": "2021-10-09T10:55:40.016Z"
   },
   {
    "duration": 5,
    "start_time": "2021-10-09T10:55:40.029Z"
   },
   {
    "duration": 33,
    "start_time": "2021-10-09T10:55:40.036Z"
   },
   {
    "duration": 6,
    "start_time": "2021-10-09T10:55:40.072Z"
   },
   {
    "duration": 6,
    "start_time": "2021-10-09T10:55:40.081Z"
   },
   {
    "duration": 633,
    "start_time": "2021-10-09T10:55:41.875Z"
   },
   {
    "duration": 1406,
    "start_time": "2021-10-09T10:55:44.689Z"
   },
   {
    "duration": 2752,
    "start_time": "2021-10-09T10:55:46.832Z"
   },
   {
    "duration": 7,
    "start_time": "2021-10-09T10:55:49.588Z"
   },
   {
    "duration": 2656,
    "start_time": "2021-10-09T10:55:49.599Z"
   },
   {
    "duration": 59,
    "start_time": "2021-10-09T10:55:52.258Z"
   },
   {
    "duration": 386,
    "start_time": "2021-10-09T10:55:52.320Z"
   },
   {
    "duration": 558,
    "start_time": "2021-10-09T10:55:52.709Z"
   },
   {
    "duration": 6,
    "start_time": "2021-10-09T10:55:53.270Z"
   },
   {
    "duration": 321,
    "start_time": "2021-10-09T10:55:53.280Z"
   },
   {
    "duration": 824,
    "start_time": "2021-10-09T10:55:52.780Z"
   },
   {
    "duration": 822,
    "start_time": "2021-10-09T10:55:52.783Z"
   },
   {
    "duration": 820,
    "start_time": "2021-10-09T10:55:52.786Z"
   },
   {
    "duration": 808,
    "start_time": "2021-10-09T10:55:52.800Z"
   },
   {
    "duration": 803,
    "start_time": "2021-10-09T10:55:52.806Z"
   },
   {
    "duration": 801,
    "start_time": "2021-10-09T10:55:52.810Z"
   },
   {
    "duration": 798,
    "start_time": "2021-10-09T10:55:52.814Z"
   },
   {
    "duration": 795,
    "start_time": "2021-10-09T10:55:52.818Z"
   },
   {
    "duration": 675,
    "start_time": "2021-10-09T10:56:58.299Z"
   },
   {
    "duration": 315,
    "start_time": "2021-10-09T10:56:58.977Z"
   },
   {
    "duration": 319,
    "start_time": "2021-10-09T10:57:06.937Z"
   },
   {
    "duration": 5,
    "start_time": "2021-10-09T10:57:07.259Z"
   },
   {
    "duration": 44,
    "start_time": "2021-10-09T10:57:08.665Z"
   },
   {
    "duration": 1298,
    "start_time": "2021-10-09T10:57:10.172Z"
   },
   {
    "duration": 22,
    "start_time": "2021-10-09T10:57:11.563Z"
   },
   {
    "duration": 109,
    "start_time": "2021-10-09T10:57:11.665Z"
   },
   {
    "duration": 214704,
    "start_time": "2021-10-09T10:57:11.777Z"
   },
   {
    "duration": 5,
    "start_time": "2021-10-09T11:00:46.484Z"
   },
   {
    "duration": 11,
    "start_time": "2021-10-09T11:00:46.492Z"
   },
   {
    "duration": 68,
    "start_time": "2021-10-09T11:00:46.506Z"
   },
   {
    "duration": 9,
    "start_time": "2021-10-09T11:00:46.578Z"
   },
   {
    "duration": 5788,
    "start_time": "2021-10-09T11:01:35.162Z"
   },
   {
    "duration": 959,
    "start_time": "2021-10-09T11:01:40.952Z"
   },
   {
    "duration": 27,
    "start_time": "2021-10-09T11:01:41.914Z"
   },
   {
    "duration": 47,
    "start_time": "2021-10-09T11:01:41.944Z"
   },
   {
    "duration": 3,
    "start_time": "2021-10-09T11:01:41.994Z"
   },
   {
    "duration": 13,
    "start_time": "2021-10-09T11:01:41.999Z"
   },
   {
    "duration": 18036,
    "start_time": "2021-10-09T11:01:42.014Z"
   },
   {
    "duration": 31,
    "start_time": "2021-10-09T11:02:00.053Z"
   },
   {
    "duration": 4,
    "start_time": "2021-10-09T11:02:00.088Z"
   },
   {
    "duration": 6,
    "start_time": "2021-10-09T11:02:00.095Z"
   },
   {
    "duration": 17,
    "start_time": "2021-10-09T11:02:00.103Z"
   },
   {
    "duration": 41,
    "start_time": "2021-10-09T11:02:00.123Z"
   },
   {
    "duration": 17,
    "start_time": "2021-10-09T11:02:00.167Z"
   },
   {
    "duration": 13,
    "start_time": "2021-10-09T11:02:00.186Z"
   },
   {
    "duration": 9,
    "start_time": "2021-10-09T11:02:00.201Z"
   },
   {
    "duration": 9,
    "start_time": "2021-10-09T11:02:00.213Z"
   },
   {
    "duration": 11,
    "start_time": "2021-10-09T11:02:00.225Z"
   },
   {
    "duration": 17,
    "start_time": "2021-10-09T11:02:00.262Z"
   },
   {
    "duration": 15,
    "start_time": "2021-10-09T11:02:00.282Z"
   },
   {
    "duration": 1174,
    "start_time": "2021-10-09T11:02:00.299Z"
   },
   {
    "duration": 2130,
    "start_time": "2021-10-09T11:02:01.475Z"
   },
   {
    "duration": 6011,
    "start_time": "2021-10-09T11:02:03.607Z"
   },
   {
    "duration": 5,
    "start_time": "2021-10-09T11:02:09.620Z"
   },
   {
    "duration": 5301,
    "start_time": "2021-10-09T11:02:09.628Z"
   },
   {
    "duration": 76,
    "start_time": "2021-10-09T11:02:14.932Z"
   },
   {
    "duration": 1311,
    "start_time": "2021-10-09T11:02:15.010Z"
   },
   {
    "duration": 693,
    "start_time": "2021-10-09T11:02:16.326Z"
   },
   {
    "duration": 5,
    "start_time": "2021-10-09T11:02:17.022Z"
   },
   {
    "duration": 67,
    "start_time": "2021-10-09T11:02:17.030Z"
   },
   {
    "duration": 1765,
    "start_time": "2021-10-09T11:02:17.100Z"
   },
   {
    "duration": 197,
    "start_time": "2021-10-09T11:02:18.869Z"
   },
   {
    "duration": 180,
    "start_time": "2021-10-09T11:02:19.084Z"
   },
   {
    "duration": 286209,
    "start_time": "2021-10-09T11:02:19.268Z"
   },
   {
    "duration": 6,
    "start_time": "2021-10-09T11:07:05.481Z"
   },
   {
    "duration": 12,
    "start_time": "2021-10-09T11:07:05.490Z"
   },
   {
    "duration": 59,
    "start_time": "2021-10-09T11:07:05.505Z"
   },
   {
    "duration": 7,
    "start_time": "2021-10-09T11:07:05.567Z"
   },
   {
    "duration": 15344,
    "start_time": "2021-10-09T16:18:00.107Z"
   },
   {
    "duration": 3519,
    "start_time": "2021-10-09T16:18:15.454Z"
   },
   {
    "duration": 28,
    "start_time": "2021-10-09T16:18:18.976Z"
   },
   {
    "duration": 1165,
    "start_time": "2021-10-09T16:18:19.007Z"
   },
   {
    "duration": 3,
    "start_time": "2021-10-09T16:18:20.175Z"
   },
   {
    "duration": 21,
    "start_time": "2021-10-09T16:18:20.181Z"
   },
   {
    "duration": 9673,
    "start_time": "2021-10-09T16:18:20.205Z"
   },
   {
    "duration": 408,
    "start_time": "2021-10-09T16:18:29.476Z"
   },
   {
    "duration": 406,
    "start_time": "2021-10-09T16:18:29.479Z"
   },
   {
    "duration": 405,
    "start_time": "2021-10-09T16:18:29.482Z"
   },
   {
    "duration": 403,
    "start_time": "2021-10-09T16:18:29.487Z"
   },
   {
    "duration": 401,
    "start_time": "2021-10-09T16:18:29.491Z"
   },
   {
    "duration": 400,
    "start_time": "2021-10-09T16:18:29.494Z"
   },
   {
    "duration": 399,
    "start_time": "2021-10-09T16:18:29.497Z"
   },
   {
    "duration": 397,
    "start_time": "2021-10-09T16:18:29.501Z"
   },
   {
    "duration": 397,
    "start_time": "2021-10-09T16:18:29.504Z"
   },
   {
    "duration": 396,
    "start_time": "2021-10-09T16:18:29.507Z"
   },
   {
    "duration": 395,
    "start_time": "2021-10-09T16:18:29.510Z"
   },
   {
    "duration": 393,
    "start_time": "2021-10-09T16:18:29.514Z"
   },
   {
    "duration": 390,
    "start_time": "2021-10-09T16:18:29.520Z"
   },
   {
    "duration": 388,
    "start_time": "2021-10-09T16:18:29.524Z"
   },
   {
    "duration": 387,
    "start_time": "2021-10-09T16:18:29.528Z"
   },
   {
    "duration": 390,
    "start_time": "2021-10-09T16:18:29.531Z"
   },
   {
    "duration": 388,
    "start_time": "2021-10-09T16:18:29.535Z"
   },
   {
    "duration": 388,
    "start_time": "2021-10-09T16:18:29.538Z"
   },
   {
    "duration": 387,
    "start_time": "2021-10-09T16:18:29.541Z"
   },
   {
    "duration": 385,
    "start_time": "2021-10-09T16:18:29.545Z"
   },
   {
    "duration": 383,
    "start_time": "2021-10-09T16:18:29.549Z"
   },
   {
    "duration": 383,
    "start_time": "2021-10-09T16:18:29.552Z"
   },
   {
    "duration": 382,
    "start_time": "2021-10-09T16:18:29.555Z"
   },
   {
    "duration": 380,
    "start_time": "2021-10-09T16:18:29.559Z"
   },
   {
    "duration": 380,
    "start_time": "2021-10-09T16:18:29.562Z"
   }
  ],
  "kernelspec": {
   "display_name": "Python 3",
   "language": "python",
   "name": "python3"
  },
  "language_info": {
   "codemirror_mode": {
    "name": "ipython",
    "version": 3
   },
   "file_extension": ".py",
   "mimetype": "text/x-python",
   "name": "python",
   "nbconvert_exporter": "python",
   "pygments_lexer": "ipython3",
   "version": "3.9.2"
  },
  "toc": {
   "base_numbering": 1,
   "nav_menu": {},
   "number_sections": true,
   "sideBar": true,
   "skip_h1_title": true,
   "title_cell": "Содержание",
   "title_sidebar": "Contents",
   "toc_cell": true,
   "toc_position": {
    "height": "calc(100% - 180px)",
    "left": "10px",
    "top": "150px",
    "width": "302.375px"
   },
   "toc_section_display": true,
   "toc_window_display": false
  }
 },
 "nbformat": 4,
 "nbformat_minor": 4
}
