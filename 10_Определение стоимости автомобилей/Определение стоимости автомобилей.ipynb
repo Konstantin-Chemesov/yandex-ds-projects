{
 "cells": [
  {
   "cell_type": "markdown",
   "metadata": {},
   "source": [
    "**Определение стоимости автомобилей**"
   ]
  },
  {
   "cell_type": "markdown",
   "metadata": {},
   "source": [
    "Сервис по продаже автомобилей с пробегом разрабатывает приложение для привлечения новых клиентов. В нём можно быстро узнать рыночную стоимость своего автомобиля. Имеются исторические данные: технические характеристики, комплектации и цены автомобилей. \n",
    "\n",
    "Нужно построить модель для определения стоимости. \n",
    "\n",
    "Заказчику важны:\n",
    "\n",
    "- качество предсказания;\n",
    "- скорость предсказания;\n",
    "- время обучения."
   ]
  },
  {
   "cell_type": "markdown",
   "metadata": {},
   "source": [
    "**Содержание**\n",
    "\n",
    "1. Подготовка данных\n",
    "- Загрузка необходимых библиотек и исходных данных\n",
    "- Предварительное исследование исходных данных\n",
    "- Исследование и заполнение пропущенных значений\n",
    "- Удаление дубликатов\n",
    "- Удаление неинформативных признаков\n",
    "- Отделение целевого признака\n",
    "- Применение прямого кодирования для категориальных признаков\n",
    "- Разбиение датасета на выборки\n",
    "- Вывод по разделу\n",
    "     \n",
    "2. Обучение моделей\n",
    "- Решающее дерево\n",
    "- Случайный лес\n",
    "- Линейная регрессия\n",
    "- LightGBM\n",
    "      \n",
    "3. Анализ моделей\n",
    "- Решающее дерева\n",
    "- Случайный лес\n",
    "- Линейная регрессия\n",
    "- Градиентный бустинг\n",
    "- Итоговая таблица\n",
    "        \n",
    "4. Вывод по проекту\n"
   ]
  },
  {
   "cell_type": "markdown",
   "metadata": {},
   "source": [
    "# Подготовка данных"
   ]
  },
  {
   "cell_type": "markdown",
   "metadata": {},
   "source": [
    "## Загрузка необходимых библитек и исходных данных"
   ]
  },
  {
   "cell_type": "code",
   "execution_count": 1,
   "metadata": {},
   "outputs": [],
   "source": [
    "# Для начала, естественно, загружаем необходимые для дальнейшей работы библиотеки и инструменты\n",
    "# Ради интереса поставим таймер на выполнение всей тетрадки\n",
    "\n",
    "import pandas as pd\n",
    "import numpy as np\n",
    "import sklearn\n",
    "\n",
    "from datetime import datetime, time\n",
    "\n",
    "from sklearn.preprocessing import OrdinalEncoder\n",
    "from sklearn.model_selection import train_test_split\n",
    "from sklearn.metrics import mean_squared_error\n",
    "\n",
    "from sklearn.tree import DecisionTreeRegressor\n",
    "from sklearn.ensemble import RandomForestRegressor\n",
    "from sklearn.linear_model import LinearRegression\n",
    "import lightgbm as lgb\n",
    "\n",
    "import timeit\n",
    "\n",
    "from sklearn.model_selection import GridSearchCV\n",
    "\n",
    "start_time_full = datetime.now()"
   ]
  },
  {
   "cell_type": "code",
   "execution_count": 2,
   "metadata": {},
   "outputs": [
    {
     "data": {
      "text/html": [
       "<div>\n",
       "<style scoped>\n",
       "    .dataframe tbody tr th:only-of-type {\n",
       "        vertical-align: middle;\n",
       "    }\n",
       "\n",
       "    .dataframe tbody tr th {\n",
       "        vertical-align: top;\n",
       "    }\n",
       "\n",
       "    .dataframe thead th {\n",
       "        text-align: right;\n",
       "    }\n",
       "</style>\n",
       "<table border=\"1\" class=\"dataframe\">\n",
       "  <thead>\n",
       "    <tr style=\"text-align: right;\">\n",
       "      <th></th>\n",
       "      <th>DateCrawled</th>\n",
       "      <th>Price</th>\n",
       "      <th>VehicleType</th>\n",
       "      <th>RegistrationYear</th>\n",
       "      <th>Gearbox</th>\n",
       "      <th>Power</th>\n",
       "      <th>Model</th>\n",
       "      <th>Kilometer</th>\n",
       "      <th>RegistrationMonth</th>\n",
       "      <th>FuelType</th>\n",
       "      <th>Brand</th>\n",
       "      <th>NotRepaired</th>\n",
       "      <th>DateCreated</th>\n",
       "      <th>NumberOfPictures</th>\n",
       "      <th>PostalCode</th>\n",
       "      <th>LastSeen</th>\n",
       "    </tr>\n",
       "  </thead>\n",
       "  <tbody>\n",
       "    <tr>\n",
       "      <th>0</th>\n",
       "      <td>2016-03-24 11:52:17</td>\n",
       "      <td>480</td>\n",
       "      <td>NaN</td>\n",
       "      <td>1993</td>\n",
       "      <td>manual</td>\n",
       "      <td>0</td>\n",
       "      <td>golf</td>\n",
       "      <td>150000</td>\n",
       "      <td>0</td>\n",
       "      <td>petrol</td>\n",
       "      <td>volkswagen</td>\n",
       "      <td>NaN</td>\n",
       "      <td>2016-03-24 00:00:00</td>\n",
       "      <td>0</td>\n",
       "      <td>70435</td>\n",
       "      <td>2016-04-07 03:16:57</td>\n",
       "    </tr>\n",
       "    <tr>\n",
       "      <th>1</th>\n",
       "      <td>2016-03-24 10:58:45</td>\n",
       "      <td>18300</td>\n",
       "      <td>coupe</td>\n",
       "      <td>2011</td>\n",
       "      <td>manual</td>\n",
       "      <td>190</td>\n",
       "      <td>NaN</td>\n",
       "      <td>125000</td>\n",
       "      <td>5</td>\n",
       "      <td>gasoline</td>\n",
       "      <td>audi</td>\n",
       "      <td>yes</td>\n",
       "      <td>2016-03-24 00:00:00</td>\n",
       "      <td>0</td>\n",
       "      <td>66954</td>\n",
       "      <td>2016-04-07 01:46:50</td>\n",
       "    </tr>\n",
       "    <tr>\n",
       "      <th>2</th>\n",
       "      <td>2016-03-14 12:52:21</td>\n",
       "      <td>9800</td>\n",
       "      <td>suv</td>\n",
       "      <td>2004</td>\n",
       "      <td>auto</td>\n",
       "      <td>163</td>\n",
       "      <td>grand</td>\n",
       "      <td>125000</td>\n",
       "      <td>8</td>\n",
       "      <td>gasoline</td>\n",
       "      <td>jeep</td>\n",
       "      <td>NaN</td>\n",
       "      <td>2016-03-14 00:00:00</td>\n",
       "      <td>0</td>\n",
       "      <td>90480</td>\n",
       "      <td>2016-04-05 12:47:46</td>\n",
       "    </tr>\n",
       "    <tr>\n",
       "      <th>3</th>\n",
       "      <td>2016-03-17 16:54:04</td>\n",
       "      <td>1500</td>\n",
       "      <td>small</td>\n",
       "      <td>2001</td>\n",
       "      <td>manual</td>\n",
       "      <td>75</td>\n",
       "      <td>golf</td>\n",
       "      <td>150000</td>\n",
       "      <td>6</td>\n",
       "      <td>petrol</td>\n",
       "      <td>volkswagen</td>\n",
       "      <td>no</td>\n",
       "      <td>2016-03-17 00:00:00</td>\n",
       "      <td>0</td>\n",
       "      <td>91074</td>\n",
       "      <td>2016-03-17 17:40:17</td>\n",
       "    </tr>\n",
       "    <tr>\n",
       "      <th>4</th>\n",
       "      <td>2016-03-31 17:25:20</td>\n",
       "      <td>3600</td>\n",
       "      <td>small</td>\n",
       "      <td>2008</td>\n",
       "      <td>manual</td>\n",
       "      <td>69</td>\n",
       "      <td>fabia</td>\n",
       "      <td>90000</td>\n",
       "      <td>7</td>\n",
       "      <td>gasoline</td>\n",
       "      <td>skoda</td>\n",
       "      <td>no</td>\n",
       "      <td>2016-03-31 00:00:00</td>\n",
       "      <td>0</td>\n",
       "      <td>60437</td>\n",
       "      <td>2016-04-06 10:17:21</td>\n",
       "    </tr>\n",
       "  </tbody>\n",
       "</table>\n",
       "</div>"
      ],
      "text/plain": [
       "           DateCrawled  Price VehicleType  RegistrationYear Gearbox  Power  \\\n",
       "0  2016-03-24 11:52:17    480         NaN              1993  manual      0   \n",
       "1  2016-03-24 10:58:45  18300       coupe              2011  manual    190   \n",
       "2  2016-03-14 12:52:21   9800         suv              2004    auto    163   \n",
       "3  2016-03-17 16:54:04   1500       small              2001  manual     75   \n",
       "4  2016-03-31 17:25:20   3600       small              2008  manual     69   \n",
       "\n",
       "   Model  Kilometer  RegistrationMonth  FuelType       Brand NotRepaired  \\\n",
       "0   golf     150000                  0    petrol  volkswagen         NaN   \n",
       "1    NaN     125000                  5  gasoline        audi         yes   \n",
       "2  grand     125000                  8  gasoline        jeep         NaN   \n",
       "3   golf     150000                  6    petrol  volkswagen          no   \n",
       "4  fabia      90000                  7  gasoline       skoda          no   \n",
       "\n",
       "           DateCreated  NumberOfPictures  PostalCode             LastSeen  \n",
       "0  2016-03-24 00:00:00                 0       70435  2016-04-07 03:16:57  \n",
       "1  2016-03-24 00:00:00                 0       66954  2016-04-07 01:46:50  \n",
       "2  2016-03-14 00:00:00                 0       90480  2016-04-05 12:47:46  \n",
       "3  2016-03-17 00:00:00                 0       91074  2016-03-17 17:40:17  \n",
       "4  2016-03-31 00:00:00                 0       60437  2016-04-06 10:17:21  "
      ]
     },
     "execution_count": 2,
     "metadata": {},
     "output_type": "execute_result"
    }
   ],
   "source": [
    "# Далее загружаем данные и выводим их на экран для визуального ознакомления\n",
    "\n",
    "df = pd.read_csv('autos.csv')\n",
    "df.head()"
   ]
  },
  {
   "cell_type": "markdown",
   "metadata": {},
   "source": [
    "## Предварительное исследование исходных данных"
   ]
  },
  {
   "cell_type": "code",
   "execution_count": 3,
   "metadata": {},
   "outputs": [
    {
     "name": "stdout",
     "output_type": "stream",
     "text": [
      "<class 'pandas.core.frame.DataFrame'>\n",
      "RangeIndex: 354369 entries, 0 to 354368\n",
      "Data columns (total 16 columns):\n",
      " #   Column             Non-Null Count   Dtype \n",
      "---  ------             --------------   ----- \n",
      " 0   DateCrawled        354369 non-null  object\n",
      " 1   Price              354369 non-null  int64 \n",
      " 2   VehicleType        316879 non-null  object\n",
      " 3   RegistrationYear   354369 non-null  int64 \n",
      " 4   Gearbox            334536 non-null  object\n",
      " 5   Power              354369 non-null  int64 \n",
      " 6   Model              334664 non-null  object\n",
      " 7   Kilometer          354369 non-null  int64 \n",
      " 8   RegistrationMonth  354369 non-null  int64 \n",
      " 9   FuelType           321474 non-null  object\n",
      " 10  Brand              354369 non-null  object\n",
      " 11  NotRepaired        283215 non-null  object\n",
      " 12  DateCreated        354369 non-null  object\n",
      " 13  NumberOfPictures   354369 non-null  int64 \n",
      " 14  PostalCode         354369 non-null  int64 \n",
      " 15  LastSeen           354369 non-null  object\n",
      "dtypes: int64(7), object(9)\n",
      "memory usage: 43.3+ MB\n"
     ]
    }
   ],
   "source": [
    "# Для более подробного знакомства с датасетом применим метод info\n",
    "\n",
    "df.info()"
   ]
  },
  {
   "cell_type": "code",
   "execution_count": 4,
   "metadata": {},
   "outputs": [
    {
     "data": {
      "text/html": [
       "<div>\n",
       "<style scoped>\n",
       "    .dataframe tbody tr th:only-of-type {\n",
       "        vertical-align: middle;\n",
       "    }\n",
       "\n",
       "    .dataframe tbody tr th {\n",
       "        vertical-align: top;\n",
       "    }\n",
       "\n",
       "    .dataframe thead th {\n",
       "        text-align: right;\n",
       "    }\n",
       "</style>\n",
       "<table border=\"1\" class=\"dataframe\">\n",
       "  <thead>\n",
       "    <tr style=\"text-align: right;\">\n",
       "      <th></th>\n",
       "      <th>Price</th>\n",
       "      <th>RegistrationYear</th>\n",
       "      <th>Power</th>\n",
       "      <th>Kilometer</th>\n",
       "      <th>RegistrationMonth</th>\n",
       "      <th>NumberOfPictures</th>\n",
       "      <th>PostalCode</th>\n",
       "    </tr>\n",
       "  </thead>\n",
       "  <tbody>\n",
       "    <tr>\n",
       "      <th>count</th>\n",
       "      <td>354369.000000</td>\n",
       "      <td>354369.000000</td>\n",
       "      <td>354369.000000</td>\n",
       "      <td>354369.000000</td>\n",
       "      <td>354369.000000</td>\n",
       "      <td>354369.0</td>\n",
       "      <td>354369.000000</td>\n",
       "    </tr>\n",
       "    <tr>\n",
       "      <th>mean</th>\n",
       "      <td>4416.656776</td>\n",
       "      <td>2004.234448</td>\n",
       "      <td>110.094337</td>\n",
       "      <td>128211.172535</td>\n",
       "      <td>5.714645</td>\n",
       "      <td>0.0</td>\n",
       "      <td>50508.689087</td>\n",
       "    </tr>\n",
       "    <tr>\n",
       "      <th>std</th>\n",
       "      <td>4514.158514</td>\n",
       "      <td>90.227958</td>\n",
       "      <td>189.850405</td>\n",
       "      <td>37905.341530</td>\n",
       "      <td>3.726421</td>\n",
       "      <td>0.0</td>\n",
       "      <td>25783.096248</td>\n",
       "    </tr>\n",
       "    <tr>\n",
       "      <th>min</th>\n",
       "      <td>0.000000</td>\n",
       "      <td>1000.000000</td>\n",
       "      <td>0.000000</td>\n",
       "      <td>5000.000000</td>\n",
       "      <td>0.000000</td>\n",
       "      <td>0.0</td>\n",
       "      <td>1067.000000</td>\n",
       "    </tr>\n",
       "    <tr>\n",
       "      <th>25%</th>\n",
       "      <td>1050.000000</td>\n",
       "      <td>1999.000000</td>\n",
       "      <td>69.000000</td>\n",
       "      <td>125000.000000</td>\n",
       "      <td>3.000000</td>\n",
       "      <td>0.0</td>\n",
       "      <td>30165.000000</td>\n",
       "    </tr>\n",
       "    <tr>\n",
       "      <th>50%</th>\n",
       "      <td>2700.000000</td>\n",
       "      <td>2003.000000</td>\n",
       "      <td>105.000000</td>\n",
       "      <td>150000.000000</td>\n",
       "      <td>6.000000</td>\n",
       "      <td>0.0</td>\n",
       "      <td>49413.000000</td>\n",
       "    </tr>\n",
       "    <tr>\n",
       "      <th>75%</th>\n",
       "      <td>6400.000000</td>\n",
       "      <td>2008.000000</td>\n",
       "      <td>143.000000</td>\n",
       "      <td>150000.000000</td>\n",
       "      <td>9.000000</td>\n",
       "      <td>0.0</td>\n",
       "      <td>71083.000000</td>\n",
       "    </tr>\n",
       "    <tr>\n",
       "      <th>max</th>\n",
       "      <td>20000.000000</td>\n",
       "      <td>9999.000000</td>\n",
       "      <td>20000.000000</td>\n",
       "      <td>150000.000000</td>\n",
       "      <td>12.000000</td>\n",
       "      <td>0.0</td>\n",
       "      <td>99998.000000</td>\n",
       "    </tr>\n",
       "  </tbody>\n",
       "</table>\n",
       "</div>"
      ],
      "text/plain": [
       "               Price  RegistrationYear          Power      Kilometer  \\\n",
       "count  354369.000000     354369.000000  354369.000000  354369.000000   \n",
       "mean     4416.656776       2004.234448     110.094337  128211.172535   \n",
       "std      4514.158514         90.227958     189.850405   37905.341530   \n",
       "min         0.000000       1000.000000       0.000000    5000.000000   \n",
       "25%      1050.000000       1999.000000      69.000000  125000.000000   \n",
       "50%      2700.000000       2003.000000     105.000000  150000.000000   \n",
       "75%      6400.000000       2008.000000     143.000000  150000.000000   \n",
       "max     20000.000000       9999.000000   20000.000000  150000.000000   \n",
       "\n",
       "       RegistrationMonth  NumberOfPictures     PostalCode  \n",
       "count      354369.000000          354369.0  354369.000000  \n",
       "mean            5.714645               0.0   50508.689087  \n",
       "std             3.726421               0.0   25783.096248  \n",
       "min             0.000000               0.0    1067.000000  \n",
       "25%             3.000000               0.0   30165.000000  \n",
       "50%             6.000000               0.0   49413.000000  \n",
       "75%             9.000000               0.0   71083.000000  \n",
       "max            12.000000               0.0   99998.000000  "
      ]
     },
     "execution_count": 4,
     "metadata": {},
     "output_type": "execute_result"
    }
   ],
   "source": [
    "# Не лишним будет воспользоваться и методом describe()\n",
    "\n",
    "df.describe()"
   ]
  },
  {
   "cell_type": "code",
   "execution_count": 5,
   "metadata": {},
   "outputs": [
    {
     "data": {
      "text/plain": [
       "DateCrawled              0\n",
       "Price                    0\n",
       "VehicleType          37490\n",
       "RegistrationYear         0\n",
       "Gearbox              19833\n",
       "Power                    0\n",
       "Model                19705\n",
       "Kilometer                0\n",
       "RegistrationMonth        0\n",
       "FuelType             32895\n",
       "Brand                    0\n",
       "NotRepaired          71154\n",
       "DateCreated              0\n",
       "NumberOfPictures         0\n",
       "PostalCode               0\n",
       "LastSeen                 0\n",
       "dtype: int64"
      ]
     },
     "execution_count": 5,
     "metadata": {},
     "output_type": "execute_result"
    }
   ],
   "source": [
    "# Далее считаем количество пропусков в столбцах\n",
    "\n",
    "df.isnull().sum()"
   ]
  },
  {
   "cell_type": "code",
   "execution_count": 6,
   "metadata": {},
   "outputs": [
    {
     "data": {
      "text/plain": [
       "4"
      ]
     },
     "execution_count": 6,
     "metadata": {},
     "output_type": "execute_result"
    }
   ],
   "source": [
    "# Проверим наличие дубликатов\n",
    "\n",
    "df.duplicated().sum()"
   ]
  },
  {
   "cell_type": "markdown",
   "metadata": {},
   "source": [
    "**Мысли по предварительному изучению данных**\n",
    "\n",
    "Исходный набор данных содержит 354369 строк (объектов) и 16 столбцов (признкаков). Имеется значительное количество пропущенных данных, несколько дубликатов. \n",
    "\n",
    "Более подробно о столбцах можно сказать следующее:\n",
    "\n",
    "1. DateCrawled — дата скачивания анкеты из базы:\n",
    "- формат данных Object (в данной задаче можно не переводить в DateTime);\n",
    "- пропусков нет\n",
    "- данный столбец, по моему мнению, не несет значимого влияния на стоимость автомобиля. Можно избавиться от него;\n",
    "2. VehicleType — тип автомобильного кузова:\n",
    "- формат данных Object;\n",
    "- имеются пропуски для заполнения (для заполнения используем моду по столбцу);\n",
    "3. RegistrationYear — год регистрации автомобиля:\n",
    "- формат данных int (менять не требуется);\n",
    "- пропусков нет;\n",
    "4. Gearbox — тип коробки передач:\n",
    "- формат данных Object (коррекция не требуется);\n",
    "- пропусков нет;\n",
    "5. Power — мощность (л.с.):\n",
    "- формат данных Int (коррекции не требуется);\n",
    "- пропусков нет;\n",
    "6. Model — модель автомобиля:\n",
    "- формат данных Object (коррекция не требуется);\n",
    "- 19705 пропусков (строки с пропусками в этом столбце можно удалить, так как восстановить значения не представляется возможным, а их количество не является критичным для имеющегося набора данных);\n",
    "7. Kilometer — пробег (км):\n",
    "- формат данных int (коррекции не требует);\n",
    "- пропусков нет;\n",
    "8. RegistrationMonth — месяц регистрации автомобиля:\n",
    "- формат данных Int (коррекции не требует);\n",
    "- пропусков нет;\n",
    "9. FuelType — тип топлива:\n",
    "- формат данных Object;\n",
    "- 32895 пропусков (можно заполнить модой по столбцу);\n",
    "10. Brand — марка автомобиля:\n",
    "- формат данных Object (коррекция не требуется);\n",
    "- пропусков нет;\n",
    "11. NotRepaired — была машина в ремонте или нет: \n",
    "- формат данных Object (коррекция не требуется);\n",
    "- 71154 пропусков (восстановить значения даже приблизительно не представляется возможным, а параметр достаточно важный для определения цены. Можно заполнить новым классом, который будет обозначать отсутствие данных);\n",
    "12. DateCreated — дата создания анкеты: \n",
    "- формат данных Object (перевести в DateTime можно, но в данной задаче не поможет);\n",
    "- пропусков нет (Данный столбец, как и самый первый, не несет влияния на стоимость автомобиля. Можно его убить для облегчения датасета);\n",
    "13. NumberOfPictures — количество фотографий автомобиля:\n",
    "- формат данных int (коррекция не требуется);\n",
    "- пропусков нет. Все значения в данном столбце заполнены нулями - признак совершенно не несет никакой смысловой нагрузки. От него нужно избавиться, чтобы не перегружать модель лишними вычислениями;\n",
    "14. PostalCode — почтовый индекс владельца анкеты (пользователя):\n",
    "- формат данных int (коррекция не требуется);\n",
    "- пропусков нет. Представляется, что данный признак не явялется ценообразующим. Можно его зачистить;\n",
    "15. LastSeen — дата последней активности пользователя:\n",
    "- формат данных Object (перевести в DateTime, как и ранее, не требуется);\n",
    "- пропусков нет. Данный столбец, по моему мнению, не несет значимого влияния на стоимость автомобиля. Избавимся от него;\n",
    "16. Price — цена (евро) - целевой признак:\n",
    "- формат данных int (корректировки не требует);\n",
    "- пропусков нет."
   ]
  },
  {
   "cell_type": "markdown",
   "metadata": {},
   "source": [
    "## Исследование и заполнение пропущенных значений"
   ]
  },
  {
   "cell_type": "code",
   "execution_count": 7,
   "metadata": {},
   "outputs": [],
   "source": [
    "# Удалим пропуски в объектах, которые содержат пропуски сразу во всех признаках со значениями NaN\n",
    "\n",
    "df.drop(df.loc[(df.Gearbox.isna()) & (df.Model.isna()) & (df.VehicleType.isna()) & (df.FuelType.isna()) & (df.NotRepaired.isna())].index, inplace = True)"
   ]
  },
  {
   "cell_type": "code",
   "execution_count": 8,
   "metadata": {},
   "outputs": [],
   "source": [
    "# Мы не можем узнать из имеющихся данных, была ли машина в ремонте или нет. Поэтому создадим для столбца\n",
    "# NotRepaired помимо \"yes\" и \"no\"  новый класс \"unknown\", которым и заменим пропуски\n",
    "\n",
    "df.NotRepaired.fillna('unknown', inplace=True)"
   ]
  },
  {
   "cell_type": "code",
   "execution_count": 9,
   "metadata": {},
   "outputs": [],
   "source": [
    "# Пропуски в столбце с типами топлива заменим модой по данному столбцу\n",
    "\n",
    "fuel_mode = df.FuelType.mode()\n",
    "\n",
    "df.FuelType.fillna(fuel_mode[0], inplace=True)"
   ]
  },
  {
   "cell_type": "code",
   "execution_count": 10,
   "metadata": {},
   "outputs": [],
   "source": [
    "# То же самое провернем для столбца Gearbox\n",
    "\n",
    "gear_mode = df.Gearbox.mode()\n",
    "\n",
    "df.Gearbox.fillna(gear_mode[0], inplace=True)"
   ]
  },
  {
   "cell_type": "code",
   "execution_count": 11,
   "metadata": {},
   "outputs": [],
   "source": [
    "# Тип машины тяжело определить снаскока. К тому же их очень много, что не дает права заменять значением моды по столбцу.\n",
    "# В данном случае пропуски заменим новым классом \"undefined\" \n",
    "\n",
    "df.VehicleType.fillna('undefined', inplace = True)"
   ]
  },
  {
   "cell_type": "code",
   "execution_count": 12,
   "metadata": {},
   "outputs": [
    {
     "data": {
      "text/plain": [
       "4.960639760089966"
      ]
     },
     "execution_count": 12,
     "metadata": {},
     "output_type": "execute_result"
    }
   ],
   "source": [
    "# Определим процентный состав пропусков в столбце Model от общего количества объектов\n",
    "\n",
    "df.Model.isna().sum()/df.shape[0]*100"
   ]
  },
  {
   "cell_type": "markdown",
   "metadata": {},
   "source": [
    "Пропусков в стобце Model менее 6 %. Вдобавок, если не указана модель автомобиля, то какой смысл вообще выкладывать объявление? Скорее всего, при его создании происходили ошибки, от чего и родились пропуски. Учитывая все это, объекты (строки) с пропусками в этом признаке можно удалить полностью. "
   ]
  },
  {
   "cell_type": "code",
   "execution_count": 13,
   "metadata": {},
   "outputs": [],
   "source": [
    "# Удаляем строки с пропусками в признаке Model\n",
    "\n",
    "df.drop(df[df.Model.isna()].index, axis = 0, inplace=True)"
   ]
  },
  {
   "cell_type": "code",
   "execution_count": 14,
   "metadata": {},
   "outputs": [
    {
     "data": {
      "text/plain": [
       "DateCrawled          0\n",
       "Price                0\n",
       "VehicleType          0\n",
       "RegistrationYear     0\n",
       "Gearbox              0\n",
       "Power                0\n",
       "Model                0\n",
       "Kilometer            0\n",
       "RegistrationMonth    0\n",
       "FuelType             0\n",
       "Brand                0\n",
       "NotRepaired          0\n",
       "DateCreated          0\n",
       "NumberOfPictures     0\n",
       "PostalCode           0\n",
       "LastSeen             0\n",
       "dtype: int64"
      ]
     },
     "execution_count": 14,
     "metadata": {},
     "output_type": "execute_result"
    }
   ],
   "source": [
    "# Снова рассчитываем количество пропусков по столбцам для проверки результатов работы.\n",
    "\n",
    "df.isnull().sum()"
   ]
  },
  {
   "cell_type": "markdown",
   "metadata": {},
   "source": [
    "## Удаление дубликатов в данных"
   ]
  },
  {
   "cell_type": "code",
   "execution_count": 15,
   "metadata": {},
   "outputs": [
    {
     "data": {
      "text/plain": [
       "4"
      ]
     },
     "execution_count": 15,
     "metadata": {},
     "output_type": "execute_result"
    }
   ],
   "source": [
    "# Считаем количество повторов в датасете\n",
    "\n",
    "df.duplicated().sum()"
   ]
  },
  {
   "cell_type": "code",
   "execution_count": 16,
   "metadata": {},
   "outputs": [],
   "source": [
    "# Удаляем повторяющиеся объекты\n",
    "\n",
    "df.drop(df[df.duplicated()].index,axis=0,inplace=True)"
   ]
  },
  {
   "cell_type": "code",
   "execution_count": 17,
   "metadata": {},
   "outputs": [
    {
     "data": {
      "text/plain": [
       "0"
      ]
     },
     "execution_count": 17,
     "metadata": {},
     "output_type": "execute_result"
    }
   ],
   "source": [
    "# Проверяем\n",
    "\n",
    "df.duplicated().sum()"
   ]
  },
  {
   "cell_type": "markdown",
   "metadata": {},
   "source": [
    "## Удаление неинформативных признаков"
   ]
  },
  {
   "cell_type": "code",
   "execution_count": 18,
   "metadata": {},
   "outputs": [],
   "source": [
    "# Сразу отбросим столбцы 'NumberOfPictures', 'PostalCode', 'DateCrawled', 'DateCreated', 'LastSeen', которые \n",
    "#  являются неинформативными в данной ситуации\n",
    "\n",
    "df.drop(['NumberOfPictures', 'PostalCode', 'DateCrawled', 'DateCreated', 'LastSeen'], axis = 1, inplace = True)"
   ]
  },
  {
   "cell_type": "code",
   "execution_count": 19,
   "metadata": {
    "scrolled": true
   },
   "outputs": [
    {
     "data": {
      "text/html": [
       "<div>\n",
       "<style scoped>\n",
       "    .dataframe tbody tr th:only-of-type {\n",
       "        vertical-align: middle;\n",
       "    }\n",
       "\n",
       "    .dataframe tbody tr th {\n",
       "        vertical-align: top;\n",
       "    }\n",
       "\n",
       "    .dataframe thead th {\n",
       "        text-align: right;\n",
       "    }\n",
       "</style>\n",
       "<table border=\"1\" class=\"dataframe\">\n",
       "  <thead>\n",
       "    <tr style=\"text-align: right;\">\n",
       "      <th></th>\n",
       "      <th>Price</th>\n",
       "      <th>VehicleType</th>\n",
       "      <th>RegistrationYear</th>\n",
       "      <th>Gearbox</th>\n",
       "      <th>Power</th>\n",
       "      <th>Model</th>\n",
       "      <th>Kilometer</th>\n",
       "      <th>RegistrationMonth</th>\n",
       "      <th>FuelType</th>\n",
       "      <th>Brand</th>\n",
       "      <th>NotRepaired</th>\n",
       "    </tr>\n",
       "  </thead>\n",
       "  <tbody>\n",
       "    <tr>\n",
       "      <th>0</th>\n",
       "      <td>480</td>\n",
       "      <td>undefined</td>\n",
       "      <td>1993</td>\n",
       "      <td>manual</td>\n",
       "      <td>0</td>\n",
       "      <td>golf</td>\n",
       "      <td>150000</td>\n",
       "      <td>0</td>\n",
       "      <td>petrol</td>\n",
       "      <td>volkswagen</td>\n",
       "      <td>unknown</td>\n",
       "    </tr>\n",
       "    <tr>\n",
       "      <th>2</th>\n",
       "      <td>9800</td>\n",
       "      <td>suv</td>\n",
       "      <td>2004</td>\n",
       "      <td>auto</td>\n",
       "      <td>163</td>\n",
       "      <td>grand</td>\n",
       "      <td>125000</td>\n",
       "      <td>8</td>\n",
       "      <td>gasoline</td>\n",
       "      <td>jeep</td>\n",
       "      <td>unknown</td>\n",
       "    </tr>\n",
       "    <tr>\n",
       "      <th>3</th>\n",
       "      <td>1500</td>\n",
       "      <td>small</td>\n",
       "      <td>2001</td>\n",
       "      <td>manual</td>\n",
       "      <td>75</td>\n",
       "      <td>golf</td>\n",
       "      <td>150000</td>\n",
       "      <td>6</td>\n",
       "      <td>petrol</td>\n",
       "      <td>volkswagen</td>\n",
       "      <td>no</td>\n",
       "    </tr>\n",
       "    <tr>\n",
       "      <th>4</th>\n",
       "      <td>3600</td>\n",
       "      <td>small</td>\n",
       "      <td>2008</td>\n",
       "      <td>manual</td>\n",
       "      <td>69</td>\n",
       "      <td>fabia</td>\n",
       "      <td>90000</td>\n",
       "      <td>7</td>\n",
       "      <td>gasoline</td>\n",
       "      <td>skoda</td>\n",
       "      <td>no</td>\n",
       "    </tr>\n",
       "    <tr>\n",
       "      <th>5</th>\n",
       "      <td>650</td>\n",
       "      <td>sedan</td>\n",
       "      <td>1995</td>\n",
       "      <td>manual</td>\n",
       "      <td>102</td>\n",
       "      <td>3er</td>\n",
       "      <td>150000</td>\n",
       "      <td>10</td>\n",
       "      <td>petrol</td>\n",
       "      <td>bmw</td>\n",
       "      <td>yes</td>\n",
       "    </tr>\n",
       "  </tbody>\n",
       "</table>\n",
       "</div>"
      ],
      "text/plain": [
       "   Price VehicleType  RegistrationYear Gearbox  Power  Model  Kilometer  \\\n",
       "0    480   undefined              1993  manual      0   golf     150000   \n",
       "2   9800         suv              2004    auto    163  grand     125000   \n",
       "3   1500       small              2001  manual     75   golf     150000   \n",
       "4   3600       small              2008  manual     69  fabia      90000   \n",
       "5    650       sedan              1995  manual    102    3er     150000   \n",
       "\n",
       "   RegistrationMonth  FuelType       Brand NotRepaired  \n",
       "0                  0    petrol  volkswagen     unknown  \n",
       "2                  8  gasoline        jeep     unknown  \n",
       "3                  6    petrol  volkswagen          no  \n",
       "4                  7  gasoline       skoda          no  \n",
       "5                 10    petrol         bmw         yes  "
      ]
     },
     "execution_count": 19,
     "metadata": {},
     "output_type": "execute_result"
    }
   ],
   "source": [
    "# Проверяем результат\n",
    "\n",
    "df.head()"
   ]
  },
  {
   "cell_type": "markdown",
   "metadata": {},
   "source": [
    "## Отделение целевого признака"
   ]
  },
  {
   "cell_type": "code",
   "execution_count": 20,
   "metadata": {},
   "outputs": [],
   "source": [
    "# В отдельную переменную записываем целевой признак Price\n",
    "\n",
    "target = df['Price'].reset_index(drop=True)"
   ]
  },
  {
   "cell_type": "code",
   "execution_count": 21,
   "metadata": {},
   "outputs": [],
   "source": [
    "# Оставшиеся признаки тоже пихаем в отдельный массив\n",
    "\n",
    "features = df.drop('Price', axis = 1).reset_index(drop=True)"
   ]
  },
  {
   "cell_type": "markdown",
   "metadata": {},
   "source": [
    "## Применение прямого кодирования для категориальных признаков "
   ]
  },
  {
   "cell_type": "code",
   "execution_count": 22,
   "metadata": {},
   "outputs": [],
   "source": [
    "# Для обучения моделей применим прямое кодирование к категориальным признакам. Результат сохраним в отдельный датасет\n",
    "\n",
    "features_dummies = pd.get_dummies(features, drop_first=True)"
   ]
  },
  {
   "cell_type": "code",
   "execution_count": 23,
   "metadata": {
    "scrolled": true
   },
   "outputs": [
    {
     "data": {
      "text/html": [
       "<div>\n",
       "<style scoped>\n",
       "    .dataframe tbody tr th:only-of-type {\n",
       "        vertical-align: middle;\n",
       "    }\n",
       "\n",
       "    .dataframe tbody tr th {\n",
       "        vertical-align: top;\n",
       "    }\n",
       "\n",
       "    .dataframe thead th {\n",
       "        text-align: right;\n",
       "    }\n",
       "</style>\n",
       "<table border=\"1\" class=\"dataframe\">\n",
       "  <thead>\n",
       "    <tr style=\"text-align: right;\">\n",
       "      <th></th>\n",
       "      <th>RegistrationYear</th>\n",
       "      <th>Power</th>\n",
       "      <th>Kilometer</th>\n",
       "      <th>RegistrationMonth</th>\n",
       "      <th>VehicleType_convertible</th>\n",
       "      <th>VehicleType_coupe</th>\n",
       "      <th>VehicleType_other</th>\n",
       "      <th>VehicleType_sedan</th>\n",
       "      <th>VehicleType_small</th>\n",
       "      <th>VehicleType_suv</th>\n",
       "      <th>...</th>\n",
       "      <th>Brand_skoda</th>\n",
       "      <th>Brand_smart</th>\n",
       "      <th>Brand_subaru</th>\n",
       "      <th>Brand_suzuki</th>\n",
       "      <th>Brand_toyota</th>\n",
       "      <th>Brand_trabant</th>\n",
       "      <th>Brand_volkswagen</th>\n",
       "      <th>Brand_volvo</th>\n",
       "      <th>NotRepaired_unknown</th>\n",
       "      <th>NotRepaired_yes</th>\n",
       "    </tr>\n",
       "  </thead>\n",
       "  <tbody>\n",
       "    <tr>\n",
       "      <th>0</th>\n",
       "      <td>1993</td>\n",
       "      <td>0</td>\n",
       "      <td>150000</td>\n",
       "      <td>0</td>\n",
       "      <td>0</td>\n",
       "      <td>0</td>\n",
       "      <td>0</td>\n",
       "      <td>0</td>\n",
       "      <td>0</td>\n",
       "      <td>0</td>\n",
       "      <td>...</td>\n",
       "      <td>0</td>\n",
       "      <td>0</td>\n",
       "      <td>0</td>\n",
       "      <td>0</td>\n",
       "      <td>0</td>\n",
       "      <td>0</td>\n",
       "      <td>1</td>\n",
       "      <td>0</td>\n",
       "      <td>1</td>\n",
       "      <td>0</td>\n",
       "    </tr>\n",
       "    <tr>\n",
       "      <th>1</th>\n",
       "      <td>2004</td>\n",
       "      <td>163</td>\n",
       "      <td>125000</td>\n",
       "      <td>8</td>\n",
       "      <td>0</td>\n",
       "      <td>0</td>\n",
       "      <td>0</td>\n",
       "      <td>0</td>\n",
       "      <td>0</td>\n",
       "      <td>1</td>\n",
       "      <td>...</td>\n",
       "      <td>0</td>\n",
       "      <td>0</td>\n",
       "      <td>0</td>\n",
       "      <td>0</td>\n",
       "      <td>0</td>\n",
       "      <td>0</td>\n",
       "      <td>0</td>\n",
       "      <td>0</td>\n",
       "      <td>1</td>\n",
       "      <td>0</td>\n",
       "    </tr>\n",
       "    <tr>\n",
       "      <th>2</th>\n",
       "      <td>2001</td>\n",
       "      <td>75</td>\n",
       "      <td>150000</td>\n",
       "      <td>6</td>\n",
       "      <td>0</td>\n",
       "      <td>0</td>\n",
       "      <td>0</td>\n",
       "      <td>0</td>\n",
       "      <td>1</td>\n",
       "      <td>0</td>\n",
       "      <td>...</td>\n",
       "      <td>0</td>\n",
       "      <td>0</td>\n",
       "      <td>0</td>\n",
       "      <td>0</td>\n",
       "      <td>0</td>\n",
       "      <td>0</td>\n",
       "      <td>1</td>\n",
       "      <td>0</td>\n",
       "      <td>0</td>\n",
       "      <td>0</td>\n",
       "    </tr>\n",
       "    <tr>\n",
       "      <th>3</th>\n",
       "      <td>2008</td>\n",
       "      <td>69</td>\n",
       "      <td>90000</td>\n",
       "      <td>7</td>\n",
       "      <td>0</td>\n",
       "      <td>0</td>\n",
       "      <td>0</td>\n",
       "      <td>0</td>\n",
       "      <td>1</td>\n",
       "      <td>0</td>\n",
       "      <td>...</td>\n",
       "      <td>1</td>\n",
       "      <td>0</td>\n",
       "      <td>0</td>\n",
       "      <td>0</td>\n",
       "      <td>0</td>\n",
       "      <td>0</td>\n",
       "      <td>0</td>\n",
       "      <td>0</td>\n",
       "      <td>0</td>\n",
       "      <td>0</td>\n",
       "    </tr>\n",
       "    <tr>\n",
       "      <th>4</th>\n",
       "      <td>1995</td>\n",
       "      <td>102</td>\n",
       "      <td>150000</td>\n",
       "      <td>10</td>\n",
       "      <td>0</td>\n",
       "      <td>0</td>\n",
       "      <td>0</td>\n",
       "      <td>1</td>\n",
       "      <td>0</td>\n",
       "      <td>0</td>\n",
       "      <td>...</td>\n",
       "      <td>0</td>\n",
       "      <td>0</td>\n",
       "      <td>0</td>\n",
       "      <td>0</td>\n",
       "      <td>0</td>\n",
       "      <td>0</td>\n",
       "      <td>0</td>\n",
       "      <td>0</td>\n",
       "      <td>0</td>\n",
       "      <td>1</td>\n",
       "    </tr>\n",
       "  </tbody>\n",
       "</table>\n",
       "<p>5 rows × 308 columns</p>\n",
       "</div>"
      ],
      "text/plain": [
       "   RegistrationYear  Power  Kilometer  RegistrationMonth  \\\n",
       "0              1993      0     150000                  0   \n",
       "1              2004    163     125000                  8   \n",
       "2              2001     75     150000                  6   \n",
       "3              2008     69      90000                  7   \n",
       "4              1995    102     150000                 10   \n",
       "\n",
       "   VehicleType_convertible  VehicleType_coupe  VehicleType_other  \\\n",
       "0                        0                  0                  0   \n",
       "1                        0                  0                  0   \n",
       "2                        0                  0                  0   \n",
       "3                        0                  0                  0   \n",
       "4                        0                  0                  0   \n",
       "\n",
       "   VehicleType_sedan  VehicleType_small  VehicleType_suv  ...  Brand_skoda  \\\n",
       "0                  0                  0                0  ...            0   \n",
       "1                  0                  0                1  ...            0   \n",
       "2                  0                  1                0  ...            0   \n",
       "3                  0                  1                0  ...            1   \n",
       "4                  1                  0                0  ...            0   \n",
       "\n",
       "   Brand_smart  Brand_subaru  Brand_suzuki  Brand_toyota  Brand_trabant  \\\n",
       "0            0             0             0             0              0   \n",
       "1            0             0             0             0              0   \n",
       "2            0             0             0             0              0   \n",
       "3            0             0             0             0              0   \n",
       "4            0             0             0             0              0   \n",
       "\n",
       "   Brand_volkswagen  Brand_volvo  NotRepaired_unknown  NotRepaired_yes  \n",
       "0                 1            0                    1                0  \n",
       "1                 0            0                    1                0  \n",
       "2                 1            0                    0                0  \n",
       "3                 0            0                    0                0  \n",
       "4                 0            0                    0                1  \n",
       "\n",
       "[5 rows x 308 columns]"
      ]
     },
     "execution_count": 23,
     "metadata": {},
     "output_type": "execute_result"
    }
   ],
   "source": [
    "# Посмотрим на получившееся безобразие\n",
    "\n",
    "features_dummies.head()"
   ]
  },
  {
   "cell_type": "markdown",
   "metadata": {},
   "source": [
    "## Разбиение датасета на выборки"
   ]
  },
  {
   "cell_type": "code",
   "execution_count": 24,
   "metadata": {},
   "outputs": [],
   "source": [
    "# Для обучения простых ML моделей разобьем датасет с дамми-признаками\n",
    "# на тренировочную и тестовую выборки\n",
    "\n",
    "(features_dummies_train, features_dummies_test, \n",
    " target_train, target_test) = train_test_split(features_dummies, \n",
    "                                               target, test_size = 0.2, \n",
    "                                               random_state = 12345)"
   ]
  },
  {
   "cell_type": "code",
   "execution_count": 25,
   "metadata": {},
   "outputs": [],
   "source": [
    "# Снова разобьем данные и создадим отдельные переменные для признаков, где столбцы с данными формата object \n",
    "# будут переведены в тип cateegory для работы с ними модели LightGBM\n",
    "\n",
    "features_train_cat, features_test_cat, target_train_cat, target_test_cat = train_test_split(features, target, test_size = 0.2, random_state = 12345)"
   ]
  },
  {
   "cell_type": "code",
   "execution_count": 26,
   "metadata": {},
   "outputs": [
    {
     "data": {
      "text/plain": [
       "Index(['VehicleType', 'Gearbox', 'Model', 'FuelType', 'Brand', 'NotRepaired'], dtype='object')"
      ]
     },
     "execution_count": 26,
     "metadata": {},
     "output_type": "execute_result"
    }
   ],
   "source": [
    "# Сохраним в отдельный массив список столбцов, которые нужно перевести в тип категориальных переменных\n",
    "\n",
    "feats_cat = features_train_cat.dtypes[features_train_cat.dtypes=='object'].index\n",
    "feats_cat"
   ]
  },
  {
   "cell_type": "code",
   "execution_count": 27,
   "metadata": {},
   "outputs": [
    {
     "name": "stderr",
     "output_type": "stream",
     "text": [
      "c:\\users\\konst\\appdata\\local\\programs\\python\\python39\\lib\\site-packages\\pandas\\core\\frame.py:3191: SettingWithCopyWarning: \n",
      "A value is trying to be set on a copy of a slice from a DataFrame.\n",
      "Try using .loc[row_indexer,col_indexer] = value instead\n",
      "\n",
      "See the caveats in the documentation: https://pandas.pydata.org/pandas-docs/stable/user_guide/indexing.html#returning-a-view-versus-a-copy\n",
      "  self[k1] = value[k2]\n"
     ]
    }
   ],
   "source": [
    "# Переводим полученные признаки в формат category \n",
    "\n",
    "features_train_cat[feats_cat] = (features_train_cat[feats_cat].astype('category'))\n",
    "\n",
    "features_test_cat[feats_cat] = (features_test_cat[feats_cat].astype('category'))"
   ]
  },
  {
   "cell_type": "code",
   "execution_count": 28,
   "metadata": {},
   "outputs": [
    {
     "name": "stdout",
     "output_type": "stream",
     "text": [
      "VehicleType          category\n",
      "RegistrationYear        int64\n",
      "Gearbox              category\n",
      "Power                   int64\n",
      "Model                category\n",
      "Kilometer               int64\n",
      "RegistrationMonth       int64\n",
      "FuelType             category\n",
      "Brand                category\n",
      "NotRepaired          category\n",
      "dtype: object\n",
      "\n",
      "VehicleType          category\n",
      "RegistrationYear        int64\n",
      "Gearbox              category\n",
      "Power                   int64\n",
      "Model                category\n",
      "Kilometer               int64\n",
      "RegistrationMonth       int64\n",
      "FuelType             category\n",
      "Brand                category\n",
      "NotRepaired          category\n",
      "dtype: object\n"
     ]
    }
   ],
   "source": [
    "# Проверяем результат \n",
    "\n",
    "print(features_train_cat.dtypes, end='\\n\\n')\n",
    "print(features_test_cat.dtypes)"
   ]
  },
  {
   "cell_type": "markdown",
   "metadata": {},
   "source": [
    "## Вывод по разделу"
   ]
  },
  {
   "cell_type": "markdown",
   "metadata": {},
   "source": [
    "На данном этапе работы были осуществлены действия по подготовке данных к дальнейшему анализу. А точнее, совершено следующее:\n",
    "    \n",
    "- удалось загрузить необходимые инструменты и библиотеки, \"залить\" в тетрадку исходный датасет;\n",
    "- был выполнен поиск и заполнение пропусков в признаках (некоторые пришлось и удалить), аннигиляция дубликатов среди объектов;\n",
    "- датасет был самым жестоким образом уменьшен в размере путем \"убивания\" неинформативных признаков (даты заведения страницы, последнего посещения, загрузки объявления), что позволит значительно облегчить и ускорить работу моделей машинного обучения и уменьшить объемы используемой памяти\n",
    "- от основного массива данных отделен целевой признак;\n",
    "- применено прямое кодирование категориальных признаков. \n",
    "- созданы отдельные переменные для признаков, где столбцы с данными формата object переведены в тип cateegory для работы с ними модели LightGBM"
   ]
  },
  {
   "cell_type": "markdown",
   "metadata": {},
   "source": [
    "# Обучение моделей"
   ]
  },
  {
   "cell_type": "markdown",
   "metadata": {},
   "source": [
    "## Решающее дерево"
   ]
  },
  {
   "cell_type": "code",
   "execution_count": 29,
   "metadata": {},
   "outputs": [
    {
     "name": "stdout",
     "output_type": "stream",
     "text": [
      "Fitting 3 folds for each of 4 candidates, totalling 12 fits\n",
      "Wall time: 18.4 s\n"
     ]
    }
   ],
   "source": [
    "%%time\n",
    "\n",
    "# Начнем с самого простого - обучающего дерева. Для поиска оптимальных параметров начнем осваивать GridSearch\n",
    "\n",
    "model_tree = DecisionTreeRegressor()\n",
    "\n",
    "param_grid = {\n",
    "    'max_depth': [10,15],\n",
    "    'min_samples_leaf': [15, 20],\n",
    "}\n",
    "\n",
    "gs = GridSearchCV(estimator=model_tree, param_grid=param_grid,  cv=3, n_jobs=-1, \n",
    "                  scoring='neg_mean_squared_error', verbose=2)\n",
    "\n",
    "model_tree_fitted = gs.fit(features_dummies_train, target_train)"
   ]
  },
  {
   "cell_type": "code",
   "execution_count": 30,
   "metadata": {},
   "outputs": [
    {
     "name": "stdout",
     "output_type": "stream",
     "text": [
      "1969.2022257992053\n",
      "{'max_depth': 15, 'min_samples_leaf': 15}\n"
     ]
    }
   ],
   "source": [
    "# Выведем луйший результат метрики и подобранные гиперпараметры модели\n",
    "\n",
    "RMSE_tree_train = (model_tree_fitted.best_score_*(-1))**0.5 \n",
    "print(RMSE_tree_train)\n",
    "print(model_tree_fitted.best_params_)"
   ]
  },
  {
   "cell_type": "markdown",
   "metadata": {},
   "source": [
    "## Случайный лес"
   ]
  },
  {
   "cell_type": "code",
   "execution_count": 31,
   "metadata": {},
   "outputs": [
    {
     "name": "stdout",
     "output_type": "stream",
     "text": [
      "Fitting 3 folds for each of 4 candidates, totalling 12 fits\n",
      "0:03:16.736118\n",
      "Wall time: 3min 16s\n"
     ]
    }
   ],
   "source": [
    "%%time\n",
    "start_time = datetime.now() \n",
    "\n",
    "# Подберем оптимальные параметры для обучения случайного леса\n",
    "\n",
    "model_forest = RandomForestRegressor()\n",
    "\n",
    "param_grid = {\n",
    "    'max_depth': [10,15],\n",
    "    'n_estimators': [15, 20],\n",
    "}\n",
    "\n",
    "gs = GridSearchCV(estimator=model_forest, param_grid=param_grid,  cv=3, n_jobs=-1, \n",
    "                  scoring='neg_mean_squared_error', verbose=10)\n",
    "\n",
    "model_forest_fitted = gs.fit(features_dummies_train, target_train)\n",
    "\n",
    "time_forest_GS = datetime.now() - start_time\n",
    "print(str(time_forest_GS))"
   ]
  },
  {
   "cell_type": "code",
   "execution_count": 32,
   "metadata": {},
   "outputs": [
    {
     "name": "stdout",
     "output_type": "stream",
     "text": [
      "1836.5091998676603\n",
      "{'max_depth': 15, 'n_estimators': 20}\n"
     ]
    }
   ],
   "source": [
    "# Выведем луйший результат метрики и подобранные гиперпараметры модели\n",
    "\n",
    "RMSE_forest_train = (model_forest_fitted.best_score_*(-1))**0.5 \n",
    "print(RMSE_forest_train)\n",
    "print(model_forest_fitted .best_params_)"
   ]
  },
  {
   "cell_type": "markdown",
   "metadata": {},
   "source": [
    "## Линейная регрессия"
   ]
  },
  {
   "cell_type": "code",
   "execution_count": 33,
   "metadata": {},
   "outputs": [
    {
     "name": "stdout",
     "output_type": "stream",
     "text": [
      "0:00:03.899037\n"
     ]
    }
   ],
   "source": [
    "# Обучаем модель линейной регрессии \n",
    "\n",
    "start_time = datetime.now()\n",
    "\n",
    "model_lin_regr = LinearRegression()\n",
    "model_lin_regr.fit(features_dummies_train, target_train)\n",
    "\n",
    "time_LR_fitting = datetime.now() - start_time\n",
    "print(str(time_LR_fitting))"
   ]
  },
  {
   "cell_type": "markdown",
   "metadata": {},
   "source": [
    "## LightGBM"
   ]
  },
  {
   "cell_type": "code",
   "execution_count": 34,
   "metadata": {},
   "outputs": [
    {
     "name": "stdout",
     "output_type": "stream",
     "text": [
      "Wall time: 15.8 s\n"
     ]
    },
    {
     "data": {
      "text/plain": [
       "{'max_depth': 10, 'n_estimators': 19}"
      ]
     },
     "execution_count": 34,
     "metadata": {},
     "output_type": "execute_result"
    }
   ],
   "source": [
    "%%time\n",
    "\n",
    "# Теперь подключим к работе модель градиентного бустинга\n",
    "\n",
    "train_dataset = lgb.Dataset(features_train_cat, label=target_train_cat)\n",
    "test_dataset = lgb.Dataset(features_test_cat, label=target_test_cat)\n",
    "\n",
    "parameters = {'max_depth': np.arange(10, 15),\n",
    "              'n_estimators': np.arange(15, 20)\n",
    "             }\n",
    "\n",
    "gs = GridSearchCV(lgb.LGBMRegressor(random_state=12345), \n",
    "                  parameters,\n",
    "                  cv=3,\n",
    "                  scoring='neg_mean_squared_error')\n",
    "\n",
    "# обучение\n",
    "gs.fit(features_train_cat, target_train_cat)\n",
    "# просмотр лучших параметров\n",
    "gs.best_params_"
   ]
  },
  {
   "cell_type": "code",
   "execution_count": 35,
   "metadata": {},
   "outputs": [
    {
     "data": {
      "text/plain": [
       "{'max_depth': 10, 'n_estimators': 19}"
      ]
     },
     "execution_count": 35,
     "metadata": {},
     "output_type": "execute_result"
    }
   ],
   "source": [
    "# просмотр лучших параметров\n",
    "gs.best_params_"
   ]
  },
  {
   "cell_type": "code",
   "execution_count": 36,
   "metadata": {},
   "outputs": [
    {
     "name": "stdout",
     "output_type": "stream",
     "text": [
      "Метрика RMSE модели LightGBM: 2089.85\n"
     ]
    }
   ],
   "source": [
    "# Посмотрим на метрику RMSE при полученных гиперпараметрах модели\n",
    "\n",
    "RMSE_LightGbm_train = ((gs.best_score_)*-1)**0.5\n",
    "print('Метрика RMSE модели LightGBM: {:.2f}'.format(RMSE_LightGbm_train))"
   ]
  },
  {
   "cell_type": "markdown",
   "metadata": {},
   "source": [
    "# Анализ моделей"
   ]
  },
  {
   "cell_type": "markdown",
   "metadata": {},
   "source": [
    "## Решающее дерево"
   ]
  },
  {
   "cell_type": "code",
   "execution_count": 37,
   "metadata": {},
   "outputs": [
    {
     "name": "stdout",
     "output_type": "stream",
     "text": [
      "0:00:05.807089\n",
      "Wall time: 5.81 s\n"
     ]
    }
   ],
   "source": [
    "%%time\n",
    "start_time = datetime.now()\n",
    "\n",
    "# Дадим решающему дереву с GS-параметрами проявить себя в предасказаниях! Обучаем модель.\n",
    "\n",
    "tree = DecisionTreeRegressor(max_depth = model_tree_fitted.best_params_['max_depth'],\n",
    "                             min_samples_leaf=model_tree_fitted.best_params_['min_samples_leaf'], random_state=12345)\n",
    "\n",
    "tree.fit(features_dummies_train, target_train)\n",
    "\n",
    "\n",
    "time_tree_fitting = datetime.now() - start_time\n",
    "print(str(time_tree_fitting))"
   ]
  },
  {
   "cell_type": "code",
   "execution_count": 38,
   "metadata": {},
   "outputs": [
    {
     "name": "stdout",
     "output_type": "stream",
     "text": [
      "0:00:00.070338\n"
     ]
    }
   ],
   "source": [
    "# Делаем предсказания\n",
    "\n",
    "start_time = datetime.now()\n",
    "\n",
    "predicts = tree.predict(features_dummies_test)\n",
    "\n",
    "time_tree_test = datetime.now() - start_time\n",
    "print(str(time_tree_test))"
   ]
  },
  {
   "cell_type": "code",
   "execution_count": 39,
   "metadata": {},
   "outputs": [
    {
     "name": "stdout",
     "output_type": "stream",
     "text": [
      "RMSE_DecisionTreeRegressor: 1912.42\n"
     ]
    }
   ],
   "source": [
    "# Рассчитываем метрику RMSE\n",
    "\n",
    "rmse_tree_test = mean_squared_error(target_test, predicts)**0.5\n",
    "\n",
    "print('RMSE_DecisionTreeRegressor: {:.2f}'.format(rmse_tree_test))"
   ]
  },
  {
   "cell_type": "markdown",
   "metadata": {},
   "source": [
    "## Случайный лес"
   ]
  },
  {
   "cell_type": "code",
   "execution_count": 40,
   "metadata": {},
   "outputs": [
    {
     "name": "stdout",
     "output_type": "stream",
     "text": [
      "0:01:14.279106\n",
      "Wall time: 1min 14s\n"
     ]
    }
   ],
   "source": [
    "%%time\n",
    "start_time = datetime.now()\n",
    "\n",
    "# На этом этапе обучаем случайны лес с подобранными ранее гиперпараметрами\n",
    "\n",
    "forest = RandomForestRegressor(random_state = 12345, n_estimators = model_forest_fitted .best_params_['n_estimators'], \n",
    "                               max_depth = model_forest_fitted .best_params_['max_depth'])\n",
    "\n",
    "forest.fit(features_dummies_train, target_train)\n",
    "\n",
    "time_forest_fitting = datetime.now() - start_time\n",
    "print(str(time_forest_fitting))"
   ]
  },
  {
   "cell_type": "code",
   "execution_count": 41,
   "metadata": {},
   "outputs": [
    {
     "name": "stdout",
     "output_type": "stream",
     "text": [
      "0:00:00.231139\n"
     ]
    }
   ],
   "source": [
    "# Запускаем полученную модель на предсказания\n",
    "start_time = datetime.now()\n",
    "\n",
    "predicts = forest.predict(features_dummies_test)\n",
    "\n",
    "time_forest_test = datetime.now() - start_time\n",
    "print(str(time_forest_test))"
   ]
  },
  {
   "cell_type": "code",
   "execution_count": 42,
   "metadata": {},
   "outputs": [
    {
     "name": "stdout",
     "output_type": "stream",
     "text": [
      "1801.3800238227657\n"
     ]
    }
   ],
   "source": [
    "# Считаем RMSE для результатов модели\n",
    "\n",
    "rmse_forest_test = mean_squared_error(target_test, predicts)**0.5\n",
    "\n",
    "print(rmse_forest_test)"
   ]
  },
  {
   "cell_type": "markdown",
   "metadata": {},
   "source": [
    "## Линейная регрессия"
   ]
  },
  {
   "cell_type": "code",
   "execution_count": 43,
   "metadata": {},
   "outputs": [
    {
     "name": "stdout",
     "output_type": "stream",
     "text": [
      "0:00:00.121935\n"
     ]
    }
   ],
   "source": [
    "# Линейная регрессия была обучена ранее (см. п. 2.3). Теперь делаем предсказания.\n",
    "\n",
    "start_time = datetime.now()\n",
    "\n",
    "predicts = model_lin_regr.predict(features_dummies_test)\n",
    "\n",
    "time_LR_test = datetime.now() - start_time\n",
    "print(str(time_LR_test))"
   ]
  },
  {
   "cell_type": "code",
   "execution_count": 44,
   "metadata": {},
   "outputs": [
    {
     "name": "stdout",
     "output_type": "stream",
     "text": [
      "RMSE_LinearRegression: 3138.202357482589\n"
     ]
    }
   ],
   "source": [
    "# Считаем RMSE для линейной регрессии\n",
    "\n",
    "rmse_LR_test = mean_squared_error(target_test, predicts)**0.5\n",
    "print('RMSE_LinearRegression: {}'.format(rmse_LR_test))"
   ]
  },
  {
   "cell_type": "markdown",
   "metadata": {},
   "source": [
    "## Градиентный бустинг LightGBM"
   ]
  },
  {
   "cell_type": "code",
   "execution_count": 45,
   "metadata": {},
   "outputs": [
    {
     "name": "stdout",
     "output_type": "stream",
     "text": [
      "0:00:00.184836\n"
     ]
    }
   ],
   "source": [
    "# Обучаем модель градиентного бустинга\n",
    "\n",
    "start_time = datetime.now()\n",
    "\n",
    "model_lgb = (lgb.LGBMRegressor(max_depth=gs.best_params_['max_depth'], \n",
    "                           n_estimators=gs.best_params_['n_estimators'],\n",
    "                           random_state=12345)\n",
    "             .fit(features_train_cat, target_train_cat)\n",
    "            )\n",
    "\n",
    "time_lightGBM_fitting = datetime.now() - start_time\n",
    "print(str(time_lightGBM_fitting))"
   ]
  },
  {
   "cell_type": "code",
   "execution_count": 46,
   "metadata": {},
   "outputs": [
    {
     "name": "stdout",
     "output_type": "stream",
     "text": [
      "0:00:00.032029\n"
     ]
    }
   ],
   "source": [
    "# Делаем предсказания\n",
    "\n",
    "start_time = datetime.now()\n",
    "\n",
    "predictions_test = model_lgb.predict(features_test_cat)\n",
    "\n",
    "time_lightGBM_test = datetime.now() - start_time\n",
    "print(str(time_lightGBM_test))"
   ]
  },
  {
   "cell_type": "code",
   "execution_count": 47,
   "metadata": {},
   "outputs": [
    {
     "name": "stdout",
     "output_type": "stream",
     "text": [
      "RMSE_lightGBM: 2074.6860517778673\n"
     ]
    }
   ],
   "source": [
    "mse_lightGBM_test = mean_squared_error(target_test_cat, predictions_test)\n",
    "rmse_lightGBM_test = mse_lightGBM_test ** 0.5\n",
    "print('RMSE_lightGBM: {}'.format(rmse_lightGBM_test))"
   ]
  },
  {
   "cell_type": "markdown",
   "metadata": {},
   "source": [
    "## Итоговая таблица"
   ]
  },
  {
   "cell_type": "code",
   "execution_count": 48,
   "metadata": {},
   "outputs": [],
   "source": [
    "# Сгруппируем результаты в отдельную таблиуцу\n",
    "\n",
    "table_final = pd.DataFrame({'Модель': ['LinearRegression', 'DecisionTreeRegressor', 'RandomForestRegressor', 'LightGBM'],\n",
    "                            'Время обучения': [time_LR_fitting, time_tree_fitting, time_forest_fitting, time_lightGBM_fitting],                           \n",
    "                            \n",
    "                            'Время предсказания': [time_LR_test, time_tree_test, time_forest_test, time_lightGBM_test],\n",
    "                            \n",
    "                            'Общее время работы': [str(time_LR_fitting+time_LR_test), \n",
    "                                                   str(time_tree_fitting+time_tree_test), \n",
    "                                                   str(time_forest_fitting+time_forest_test), \n",
    "                                                   str(time_lightGBM_fitting+time_lightGBM_fitting)], \n",
    "                           'RMSE_test': [rmse_LR_test, rmse_tree_test, rmse_forest_test, rmse_lightGBM_test]})"
   ]
  },
  {
   "cell_type": "code",
   "execution_count": 49,
   "metadata": {},
   "outputs": [
    {
     "data": {
      "text/html": [
       "<div>\n",
       "<style scoped>\n",
       "    .dataframe tbody tr th:only-of-type {\n",
       "        vertical-align: middle;\n",
       "    }\n",
       "\n",
       "    .dataframe tbody tr th {\n",
       "        vertical-align: top;\n",
       "    }\n",
       "\n",
       "    .dataframe thead th {\n",
       "        text-align: right;\n",
       "    }\n",
       "</style>\n",
       "<table border=\"1\" class=\"dataframe\">\n",
       "  <thead>\n",
       "    <tr style=\"text-align: right;\">\n",
       "      <th></th>\n",
       "      <th>Модель</th>\n",
       "      <th>Время обучения</th>\n",
       "      <th>Время предсказания</th>\n",
       "      <th>Общее время работы</th>\n",
       "      <th>RMSE_test</th>\n",
       "    </tr>\n",
       "  </thead>\n",
       "  <tbody>\n",
       "    <tr>\n",
       "      <th>0</th>\n",
       "      <td>LinearRegression</td>\n",
       "      <td>0 days 00:00:03.899037</td>\n",
       "      <td>0 days 00:00:00.121935</td>\n",
       "      <td>0:00:04.020972</td>\n",
       "      <td>3138.202357</td>\n",
       "    </tr>\n",
       "    <tr>\n",
       "      <th>1</th>\n",
       "      <td>DecisionTreeRegressor</td>\n",
       "      <td>0 days 00:00:05.807089</td>\n",
       "      <td>0 days 00:00:00.070338</td>\n",
       "      <td>0:00:05.877427</td>\n",
       "      <td>1912.420431</td>\n",
       "    </tr>\n",
       "    <tr>\n",
       "      <th>2</th>\n",
       "      <td>RandomForestRegressor</td>\n",
       "      <td>0 days 00:01:14.279106</td>\n",
       "      <td>0 days 00:00:00.231139</td>\n",
       "      <td>0:01:14.510245</td>\n",
       "      <td>1801.380024</td>\n",
       "    </tr>\n",
       "    <tr>\n",
       "      <th>3</th>\n",
       "      <td>LightGBM</td>\n",
       "      <td>0 days 00:00:00.184836</td>\n",
       "      <td>0 days 00:00:00.032029</td>\n",
       "      <td>0:00:00.369672</td>\n",
       "      <td>2074.686052</td>\n",
       "    </tr>\n",
       "  </tbody>\n",
       "</table>\n",
       "</div>"
      ],
      "text/plain": [
       "                  Модель         Время обучения     Время предсказания  \\\n",
       "0       LinearRegression 0 days 00:00:03.899037 0 days 00:00:00.121935   \n",
       "1  DecisionTreeRegressor 0 days 00:00:05.807089 0 days 00:00:00.070338   \n",
       "2  RandomForestRegressor 0 days 00:01:14.279106 0 days 00:00:00.231139   \n",
       "3               LightGBM 0 days 00:00:00.184836 0 days 00:00:00.032029   \n",
       "\n",
       "  Общее время работы    RMSE_test  \n",
       "0     0:00:04.020972  3138.202357  \n",
       "1     0:00:05.877427  1912.420431  \n",
       "2     0:01:14.510245  1801.380024  \n",
       "3     0:00:00.369672  2074.686052  "
      ]
     },
     "execution_count": 49,
     "metadata": {},
     "output_type": "execute_result"
    }
   ],
   "source": [
    "# Выведем результаты для ознакомления\n",
    "\n",
    "table_final"
   ]
  },
  {
   "cell_type": "code",
   "execution_count": 50,
   "metadata": {},
   "outputs": [
    {
     "name": "stdout",
     "output_type": "stream",
     "text": [
      "Время выполнения всей тетрадки: 0:05:19.458715\n"
     ]
    }
   ],
   "source": [
    "# Оценим расчета всего проекта\n",
    "\n",
    "time_total = datetime.now() - start_time_full\n",
    "print('Время выполнения всей тетрадки:', str(time_total))"
   ]
  },
  {
   "cell_type": "markdown",
   "metadata": {},
   "source": [
    "## Вывод по проекту"
   ]
  },
  {
   "cell_type": "markdown",
   "metadata": {},
   "source": [
    "В ходе данной работы были закреплены навыки подготовки данных к анализу (осмотр датасета, поиски заполнение пропусков, удаление дублей, разделение выборки на тренировочную и тестовую, применение прямого кодирования). \n",
    "    \n",
    "Далее с помощью гридсерча были подобраны оптимальные параметры для моделей решающего дерева, случайного леса, градиентного бустинга LightGBM, а также обучена модель линейной регрессии.\n",
    "    \n",
    "На заключительном этапе подобранные гиперпараметры были применены для обучения перечисленных моделей, а затем формирования с помощью них предсказаний целевого признака и расчет метрики RMSE.\n",
    "    \n",
    "По результатам расчетов можно сделать следующие заключения (время обучения и предсказания я сложил, чтобы получить единую метрику - общее вреям работы модели):\n",
    "    \n",
    "1. линейная регрессия значительно уступает остальным моделям по качеству, а также занимает 3 место из 4 по скорости. Ее даже не рассматриваем для использования в работе;\n",
    "2. случайный лес рвет всех по качеству, но скорость его обучения непозволительно маленькая. Если нужно только качество, то лучше ее сейчас не найти, но в остальном - минус;\n",
    "3. градиентный бустинг значительно обходит по скорости модель случайного леса, но отстает от нее по RMSE. Вроде бы неплохо, но...\n",
    "4. решающее древо показало лучшие результаты по всем фронтам! Скорость лучше всех (8 секунд, соревнуется только с градиентным бустингом), RMSE лучше бустинга, но немного уступает лесу, хотя и не критично (выигрыш по времени перевешивает этот минус). \n",
    "    \n",
    "Таким образом, для использования в работе я бы рекомендовал модель решающего дерева. "
   ]
  }
 ],
 "metadata": {
  "ExecuteTimeLog": [
   {
    "duration": 345,
    "start_time": "2021-09-01T18:33:25.593Z"
   },
   {
    "duration": 585,
    "start_time": "2021-09-01T18:33:28.012Z"
   },
   {
    "duration": 746,
    "start_time": "2021-09-01T18:33:28.599Z"
   },
   {
    "duration": 762,
    "start_time": "2021-09-01T18:33:32.105Z"
   },
   {
    "duration": 700,
    "start_time": "2021-09-01T18:33:36.159Z"
   },
   {
    "duration": 113,
    "start_time": "2021-09-01T18:34:45.354Z"
   },
   {
    "duration": 85,
    "start_time": "2021-09-01T18:34:58.377Z"
   },
   {
    "duration": 482,
    "start_time": "2021-09-01T18:35:20.178Z"
   },
   {
    "duration": 114,
    "start_time": "2021-09-01T18:35:37.778Z"
   },
   {
    "duration": 109,
    "start_time": "2021-09-01T18:36:09.662Z"
   },
   {
    "duration": 332,
    "start_time": "2021-09-01T18:36:26.825Z"
   },
   {
    "duration": 355,
    "start_time": "2021-09-01T18:36:40.273Z"
   },
   {
    "duration": 317,
    "start_time": "2021-09-01T18:37:06.145Z"
   },
   {
    "duration": 32,
    "start_time": "2021-09-01T18:37:11.905Z"
   },
   {
    "duration": 4,
    "start_time": "2021-09-01T18:37:49.777Z"
   },
   {
    "duration": 80,
    "start_time": "2021-09-01T18:37:54.121Z"
   },
   {
    "duration": 381,
    "start_time": "2021-09-01T18:38:57.857Z"
   },
   {
    "duration": 68,
    "start_time": "2021-09-01T18:39:19.865Z"
   },
   {
    "duration": 296,
    "start_time": "2021-09-01T18:39:51.073Z"
   },
   {
    "duration": 4,
    "start_time": "2021-09-01T18:40:01.601Z"
   },
   {
    "duration": 91,
    "start_time": "2021-09-01T18:40:06.089Z"
   },
   {
    "duration": 71,
    "start_time": "2021-09-01T18:40:22.338Z"
   },
   {
    "duration": 110,
    "start_time": "2021-09-01T18:41:03.688Z"
   },
   {
    "duration": 113,
    "start_time": "2021-09-01T18:41:07.976Z"
   },
   {
    "duration": 113,
    "start_time": "2021-09-01T18:41:12.760Z"
   },
   {
    "duration": 154,
    "start_time": "2021-09-01T18:41:26.113Z"
   },
   {
    "duration": 109,
    "start_time": "2021-09-01T18:41:32.008Z"
   },
   {
    "duration": 72,
    "start_time": "2021-09-01T18:41:55.920Z"
   },
   {
    "duration": 325,
    "start_time": "2021-09-01T18:42:17.408Z"
   },
   {
    "duration": 96,
    "start_time": "2021-09-01T18:42:23.488Z"
   },
   {
    "duration": 5,
    "start_time": "2021-09-01T18:42:58.464Z"
   },
   {
    "duration": 95,
    "start_time": "2021-09-01T18:43:11.000Z"
   },
   {
    "duration": 70,
    "start_time": "2021-09-01T18:43:24.576Z"
   },
   {
    "duration": 72,
    "start_time": "2021-09-01T18:43:51.162Z"
   },
   {
    "duration": 50,
    "start_time": "2021-09-01T18:44:34.839Z"
   },
   {
    "duration": 931,
    "start_time": "2021-09-01T18:45:31.783Z"
   },
   {
    "duration": 732,
    "start_time": "2021-09-01T18:46:36.353Z"
   },
   {
    "duration": 6,
    "start_time": "2021-09-01T18:46:39.599Z"
   },
   {
    "duration": 720,
    "start_time": "2021-09-01T18:48:06.696Z"
   },
   {
    "duration": 718,
    "start_time": "2021-09-01T18:48:06.699Z"
   },
   {
    "duration": 841,
    "start_time": "2021-09-01T18:48:09.965Z"
   },
   {
    "duration": 5,
    "start_time": "2021-09-01T18:48:36.390Z"
   },
   {
    "duration": 189,
    "start_time": "2021-09-01T18:48:46.623Z"
   },
   {
    "duration": 128,
    "start_time": "2021-09-01T18:49:17.775Z"
   },
   {
    "duration": 20,
    "start_time": "2021-09-01T18:52:20.646Z"
   },
   {
    "duration": 113,
    "start_time": "2021-09-01T18:52:23.973Z"
   },
   {
    "duration": 110,
    "start_time": "2021-09-01T18:52:26.998Z"
   },
   {
    "duration": 123,
    "start_time": "2021-09-01T18:52:51.971Z"
   },
   {
    "duration": 4,
    "start_time": "2021-09-01T18:53:40.022Z"
   },
   {
    "duration": 4062,
    "start_time": "2021-09-01T18:54:02.237Z"
   },
   {
    "duration": 4,
    "start_time": "2021-09-01T18:54:14.805Z"
   },
   {
    "duration": 337,
    "start_time": "2021-09-01T18:54:20.214Z"
   },
   {
    "duration": 5,
    "start_time": "2021-09-01T18:54:27.037Z"
   },
   {
    "duration": 118,
    "start_time": "2021-09-01T18:54:36.181Z"
   },
   {
    "duration": 4,
    "start_time": "2021-09-01T18:54:44.430Z"
   },
   {
    "duration": 1202,
    "start_time": "2021-09-01T19:10:20.447Z"
   },
   {
    "duration": 409,
    "start_time": "2021-09-01T19:11:20.322Z"
   },
   {
    "duration": 338,
    "start_time": "2021-09-01T19:11:51.194Z"
   },
   {
    "duration": 227,
    "start_time": "2021-09-01T19:12:18.705Z"
   },
   {
    "duration": 2017,
    "start_time": "2021-09-01T19:12:22.026Z"
   },
   {
    "duration": 20,
    "start_time": "2021-09-01T19:12:29.074Z"
   },
   {
    "duration": 18,
    "start_time": "2021-09-01T19:12:38.802Z"
   },
   {
    "duration": 675,
    "start_time": "2021-09-01T19:13:45.665Z"
   },
   {
    "duration": 537,
    "start_time": "2021-09-01T19:14:08.553Z"
   },
   {
    "duration": 35,
    "start_time": "2021-09-01T19:14:58.921Z"
   },
   {
    "duration": 8552,
    "start_time": "2021-09-01T19:20:11.617Z"
   },
   {
    "duration": 731,
    "start_time": "2021-09-01T19:20:37.105Z"
   },
   {
    "duration": 741,
    "start_time": "2021-09-01T19:21:19.546Z"
   },
   {
    "duration": 732,
    "start_time": "2021-09-01T19:21:28.514Z"
   },
   {
    "duration": 5,
    "start_time": "2021-09-01T19:21:31.591Z"
   },
   {
    "duration": 442,
    "start_time": "2021-09-01T19:21:54.095Z"
   },
   {
    "duration": 5,
    "start_time": "2021-09-01T19:21:59.774Z"
   },
   {
    "duration": 313,
    "start_time": "2021-09-01T19:22:22.071Z"
   },
   {
    "duration": 6652,
    "start_time": "2021-09-01T19:22:27.975Z"
   },
   {
    "duration": 5,
    "start_time": "2021-09-01T19:22:43.055Z"
   },
   {
    "duration": 5,
    "start_time": "2021-09-01T19:22:49.008Z"
   },
   {
    "duration": 2286,
    "start_time": "2021-09-01T19:23:21.823Z"
   },
   {
    "duration": 723,
    "start_time": "2021-09-01T19:23:23.388Z"
   },
   {
    "duration": 1577,
    "start_time": "2021-09-01T19:23:44.656Z"
   },
   {
    "duration": 14,
    "start_time": "2021-09-01T19:23:49.046Z"
   },
   {
    "duration": 1942,
    "start_time": "2021-09-01T19:24:35.622Z"
   },
   {
    "duration": 30,
    "start_time": "2021-09-01T19:24:37.566Z"
   },
   {
    "duration": 3,
    "start_time": "2021-09-01T19:25:01.007Z"
   },
   {
    "duration": 30,
    "start_time": "2021-09-01T19:25:30.598Z"
   },
   {
    "duration": 182,
    "start_time": "2021-09-01T19:25:35.678Z"
   },
   {
    "duration": 21,
    "start_time": "2021-09-01T19:25:42.455Z"
   },
   {
    "duration": 19,
    "start_time": "2021-09-01T19:25:57.667Z"
   },
   {
    "duration": 32,
    "start_time": "2021-09-01T19:26:12.143Z"
   },
   {
    "duration": 60,
    "start_time": "2021-09-01T19:26:12.446Z"
   },
   {
    "duration": 17,
    "start_time": "2021-09-01T19:26:12.967Z"
   },
   {
    "duration": 339,
    "start_time": "2021-09-01T19:47:44.018Z"
   },
   {
    "duration": 58,
    "start_time": "2021-09-01T19:47:54.113Z"
   },
   {
    "duration": 20,
    "start_time": "2021-09-01T19:47:54.353Z"
   },
   {
    "duration": 3,
    "start_time": "2021-09-01T19:48:46.793Z"
   },
   {
    "duration": 3,
    "start_time": "2021-09-01T19:48:51.617Z"
   },
   {
    "duration": 3,
    "start_time": "2021-09-01T19:49:48.353Z"
   },
   {
    "duration": 3125,
    "start_time": "2021-09-01T19:50:10.309Z"
   },
   {
    "duration": 3,
    "start_time": "2021-09-01T19:52:31.128Z"
   },
   {
    "duration": 3443,
    "start_time": "2021-09-01T19:52:44.832Z"
   },
   {
    "duration": 309,
    "start_time": "2021-09-01T19:53:07.960Z"
   },
   {
    "duration": 299,
    "start_time": "2021-09-01T19:53:27.583Z"
   },
   {
    "duration": 127,
    "start_time": "2021-09-01T19:57:58.503Z"
   },
   {
    "duration": 409,
    "start_time": "2021-09-01T19:58:08.967Z"
   },
   {
    "duration": 323,
    "start_time": "2021-09-01T19:58:23.135Z"
   },
   {
    "duration": 3181,
    "start_time": "2021-09-01T19:59:07.943Z"
   },
   {
    "duration": 3196,
    "start_time": "2021-09-01T20:00:37.031Z"
   },
   {
    "duration": 3,
    "start_time": "2021-09-01T20:01:19.439Z"
   },
   {
    "duration": 311,
    "start_time": "2021-09-01T20:02:03.958Z"
   },
   {
    "duration": 5,
    "start_time": "2021-09-01T20:02:11.094Z"
   },
   {
    "duration": 6,
    "start_time": "2021-09-01T20:02:20.749Z"
   },
   {
    "duration": 344,
    "start_time": "2021-09-01T20:02:54.565Z"
   },
   {
    "duration": 4,
    "start_time": "2021-09-01T20:03:00.662Z"
   },
   {
    "duration": 5,
    "start_time": "2021-09-01T20:03:12.566Z"
   },
   {
    "duration": 5,
    "start_time": "2021-09-01T20:03:45.512Z"
   },
   {
    "duration": 3,
    "start_time": "2021-09-01T20:05:17.277Z"
   },
   {
    "duration": 3,
    "start_time": "2021-09-01T20:06:14.293Z"
   },
   {
    "duration": 3,
    "start_time": "2021-09-01T20:06:49.295Z"
   },
   {
    "duration": 796,
    "start_time": "2021-09-01T20:06:54.324Z"
   },
   {
    "duration": 4,
    "start_time": "2021-09-01T20:07:04.541Z"
   },
   {
    "duration": 17892,
    "start_time": "2021-09-01T20:07:05.045Z"
   },
   {
    "duration": 1257,
    "start_time": "2021-09-06T19:02:22.535Z"
   },
   {
    "duration": 1080,
    "start_time": "2021-09-06T19:02:23.794Z"
   },
   {
    "duration": 177,
    "start_time": "2021-09-06T19:02:24.876Z"
   },
   {
    "duration": 8,
    "start_time": "2021-09-06T19:02:25.057Z"
   },
   {
    "duration": 256,
    "start_time": "2021-09-06T19:02:25.068Z"
   },
   {
    "duration": 475,
    "start_time": "2021-09-06T19:02:25.326Z"
   },
   {
    "duration": 557,
    "start_time": "2021-09-06T19:02:25.804Z"
   },
   {
    "duration": 20,
    "start_time": "2021-09-06T19:02:26.366Z"
   },
   {
    "duration": 158,
    "start_time": "2021-09-06T19:02:26.390Z"
   },
   {
    "duration": 1092,
    "start_time": "2021-09-06T19:02:26.551Z"
   },
   {
    "duration": 2637,
    "start_time": "2021-09-06T19:02:27.645Z"
   },
   {
    "duration": 36,
    "start_time": "2021-09-06T19:02:30.284Z"
   },
   {
    "duration": 4,
    "start_time": "2021-09-06T19:02:30.324Z"
   },
   {
    "duration": 53,
    "start_time": "2021-09-06T19:02:30.331Z"
   },
   {
    "duration": 79,
    "start_time": "2021-09-06T19:02:30.387Z"
   },
   {
    "duration": 39,
    "start_time": "2021-09-06T19:02:30.468Z"
   },
   {
    "duration": 7,
    "start_time": "2021-09-06T19:02:30.510Z"
   },
   {
    "duration": 25412,
    "start_time": "2021-09-06T19:02:30.519Z"
   },
   {
    "duration": 4873,
    "start_time": "2021-09-06T19:02:55.934Z"
   },
   {
    "duration": 9,
    "start_time": "2021-09-06T19:03:00.810Z"
   },
   {
    "duration": 36,
    "start_time": "2021-09-06T19:03:00.821Z"
   },
   {
    "duration": 40,
    "start_time": "2021-09-06T19:03:00.860Z"
   },
   {
    "duration": 15,
    "start_time": "2021-09-06T19:04:29.393Z"
   },
   {
    "duration": 3,
    "start_time": "2021-09-06T19:04:52.591Z"
   },
   {
    "duration": 3,
    "start_time": "2021-09-06T19:06:12.265Z"
   },
   {
    "duration": 474,
    "start_time": "2021-09-06T19:06:34.439Z"
   },
   {
    "duration": 5,
    "start_time": "2021-09-06T19:06:45.067Z"
   },
   {
    "duration": 4,
    "start_time": "2021-09-06T19:06:52.208Z"
   },
   {
    "duration": 307,
    "start_time": "2021-09-06T19:07:27.303Z"
   },
   {
    "duration": 15535,
    "start_time": "2021-09-06T19:07:58.023Z"
   },
   {
    "duration": 12000,
    "start_time": "2021-09-06T19:08:23.575Z"
   },
   {
    "duration": 6,
    "start_time": "2021-09-06T19:09:06.951Z"
   },
   {
    "duration": 16725,
    "start_time": "2021-09-06T19:09:30.516Z"
   },
   {
    "duration": 17266,
    "start_time": "2021-09-06T19:09:56.623Z"
   },
   {
    "duration": 353,
    "start_time": "2021-09-06T19:10:13.892Z"
   },
   {
    "duration": 128420,
    "start_time": "2021-09-06T19:12:21.263Z"
   },
   {
    "duration": 284,
    "start_time": "2021-09-06T19:14:41.734Z"
   },
   {
    "duration": 291,
    "start_time": "2021-09-06T19:15:14.958Z"
   },
   {
    "duration": 6,
    "start_time": "2021-09-06T19:15:39.686Z"
   },
   {
    "duration": 330,
    "start_time": "2021-09-06T19:16:51.375Z"
   },
   {
    "duration": 299,
    "start_time": "2021-09-06T19:17:04.491Z"
   },
   {
    "duration": 20,
    "start_time": "2021-09-06T19:18:28.734Z"
   },
   {
    "duration": 297,
    "start_time": "2021-09-06T19:26:53.988Z"
   },
   {
    "duration": 1038,
    "start_time": "2021-09-07T19:49:51.875Z"
   },
   {
    "duration": 745,
    "start_time": "2021-09-07T19:49:52.915Z"
   },
   {
    "duration": 123,
    "start_time": "2021-09-07T19:49:53.662Z"
   },
   {
    "duration": 4,
    "start_time": "2021-09-07T19:49:53.787Z"
   },
   {
    "duration": 122,
    "start_time": "2021-09-07T19:49:53.793Z"
   },
   {
    "duration": 255,
    "start_time": "2021-09-07T19:49:53.917Z"
   },
   {
    "duration": 263,
    "start_time": "2021-09-07T19:49:54.174Z"
   },
   {
    "duration": 4,
    "start_time": "2021-09-07T19:49:54.439Z"
   },
   {
    "duration": 103,
    "start_time": "2021-09-07T19:49:54.445Z"
   },
   {
    "duration": 564,
    "start_time": "2021-09-07T19:49:54.550Z"
   },
   {
    "duration": 1973,
    "start_time": "2021-09-07T19:49:55.116Z"
   },
   {
    "duration": 19,
    "start_time": "2021-09-07T19:49:57.091Z"
   },
   {
    "duration": 4,
    "start_time": "2021-09-07T19:49:57.112Z"
   },
   {
    "duration": 23,
    "start_time": "2021-09-07T19:49:57.117Z"
   },
   {
    "duration": 74,
    "start_time": "2021-09-07T19:49:57.142Z"
   },
   {
    "duration": 19,
    "start_time": "2021-09-07T19:49:57.217Z"
   },
   {
    "duration": 4,
    "start_time": "2021-09-07T19:49:57.238Z"
   },
   {
    "duration": 18627,
    "start_time": "2021-09-07T19:49:57.243Z"
   },
   {
    "duration": 261,
    "start_time": "2021-09-07T19:50:15.872Z"
   },
   {
    "duration": -171,
    "start_time": "2021-09-07T19:50:16.305Z"
   },
   {
    "duration": -172,
    "start_time": "2021-09-07T19:50:16.307Z"
   },
   {
    "duration": -172,
    "start_time": "2021-09-07T19:50:16.309Z"
   },
   {
    "duration": -173,
    "start_time": "2021-09-07T19:50:16.311Z"
   },
   {
    "duration": -176,
    "start_time": "2021-09-07T19:50:16.314Z"
   },
   {
    "duration": 4,
    "start_time": "2021-09-07T19:51:11.754Z"
   },
   {
    "duration": 17904,
    "start_time": "2021-09-07T19:51:12.012Z"
   },
   {
    "duration": 57,
    "start_time": "2021-09-07T19:53:27.789Z"
   },
   {
    "duration": 3,
    "start_time": "2021-09-07T19:54:05.221Z"
   },
   {
    "duration": 17275,
    "start_time": "2021-09-07T19:54:06.869Z"
   },
   {
    "duration": 176,
    "start_time": "2021-09-07T19:54:32.277Z"
   },
   {
    "duration": 4,
    "start_time": "2021-09-07T19:55:01.230Z"
   },
   {
    "duration": 229,
    "start_time": "2021-09-07T19:55:01.404Z"
   },
   {
    "duration": 3,
    "start_time": "2021-09-07T19:55:08.373Z"
   },
   {
    "duration": 17666,
    "start_time": "2021-09-07T19:55:09.276Z"
   },
   {
    "duration": 61,
    "start_time": "2021-09-07T19:56:59.361Z"
   },
   {
    "duration": 66,
    "start_time": "2021-09-07T19:57:07.044Z"
   },
   {
    "duration": 4,
    "start_time": "2021-09-07T19:57:15.180Z"
   },
   {
    "duration": 17491,
    "start_time": "2021-09-07T19:57:16.203Z"
   },
   {
    "duration": 6,
    "start_time": "2021-09-07T19:58:26.955Z"
   },
   {
    "duration": 3,
    "start_time": "2021-09-07T19:58:27.340Z"
   },
   {
    "duration": 5,
    "start_time": "2021-09-07T19:58:37.635Z"
   },
   {
    "duration": 17035,
    "start_time": "2021-09-07T19:58:42.707Z"
   },
   {
    "duration": 5,
    "start_time": "2021-09-07T19:59:00.324Z"
   },
   {
    "duration": 4,
    "start_time": "2021-09-07T19:59:06.740Z"
   },
   {
    "duration": 4,
    "start_time": "2021-09-07T19:59:07.323Z"
   },
   {
    "duration": 5,
    "start_time": "2021-09-07T19:59:26.595Z"
   },
   {
    "duration": 5,
    "start_time": "2021-09-07T19:59:26.875Z"
   },
   {
    "duration": 5,
    "start_time": "2021-09-07T19:59:32.404Z"
   },
   {
    "duration": 4,
    "start_time": "2021-09-07T20:00:05.579Z"
   },
   {
    "duration": 17484,
    "start_time": "2021-09-07T20:00:07.667Z"
   },
   {
    "duration": 96743,
    "start_time": "2021-09-07T20:00:25.153Z"
   },
   {
    "duration": 291,
    "start_time": "2021-09-07T20:02:01.898Z"
   },
   {
    "duration": 212,
    "start_time": "2021-09-07T20:02:02.192Z"
   },
   {
    "duration": 1095,
    "start_time": "2021-09-13T19:21:45.201Z"
   },
   {
    "duration": 756,
    "start_time": "2021-09-13T19:21:46.298Z"
   },
   {
    "duration": 129,
    "start_time": "2021-09-13T19:21:47.056Z"
   },
   {
    "duration": 5,
    "start_time": "2021-09-13T19:21:47.187Z"
   },
   {
    "duration": 131,
    "start_time": "2021-09-13T19:21:47.193Z"
   },
   {
    "duration": 318,
    "start_time": "2021-09-13T19:21:47.325Z"
   },
   {
    "duration": 259,
    "start_time": "2021-09-13T19:21:47.645Z"
   },
   {
    "duration": 4,
    "start_time": "2021-09-13T19:21:47.906Z"
   },
   {
    "duration": 105,
    "start_time": "2021-09-13T19:21:47.912Z"
   },
   {
    "duration": 559,
    "start_time": "2021-09-13T19:21:48.019Z"
   },
   {
    "duration": 2058,
    "start_time": "2021-09-13T19:21:48.580Z"
   },
   {
    "duration": 18,
    "start_time": "2021-09-13T19:21:50.640Z"
   },
   {
    "duration": 16,
    "start_time": "2021-09-13T19:21:50.660Z"
   },
   {
    "duration": 20,
    "start_time": "2021-09-13T19:21:50.678Z"
   },
   {
    "duration": 57,
    "start_time": "2021-09-13T19:21:50.700Z"
   },
   {
    "duration": 28,
    "start_time": "2021-09-13T19:21:50.759Z"
   },
   {
    "duration": 4,
    "start_time": "2021-09-13T19:21:50.789Z"
   },
   {
    "duration": 19503,
    "start_time": "2021-09-13T19:21:50.794Z"
   },
   {
    "duration": 103202,
    "start_time": "2021-09-13T19:22:10.299Z"
   },
   {
    "duration": 373,
    "start_time": "2021-09-13T19:23:53.503Z"
   },
   {
    "duration": 434,
    "start_time": "2021-09-13T19:23:53.879Z"
   },
   {
    "duration": 341,
    "start_time": "2021-09-13T19:26:12.115Z"
   },
   {
    "duration": 350,
    "start_time": "2021-09-13T19:26:26.974Z"
   },
   {
    "duration": 2,
    "start_time": "2021-09-13T19:26:53.687Z"
   },
   {
    "duration": 352,
    "start_time": "2021-09-13T19:26:56.566Z"
   },
   {
    "duration": 532,
    "start_time": "2021-09-13T19:27:33.934Z"
   },
   {
    "duration": 3,
    "start_time": "2021-09-13T19:27:42.213Z"
   },
   {
    "duration": 2860,
    "start_time": "2021-09-13T19:27:57.125Z"
   },
   {
    "duration": 371,
    "start_time": "2021-09-13T19:39:37.929Z"
   },
   {
    "duration": 3,
    "start_time": "2021-09-13T19:39:51.924Z"
   },
   {
    "duration": 123,
    "start_time": "2021-09-13T19:44:47.287Z"
   },
   {
    "duration": 175,
    "start_time": "2021-09-13T19:45:27.803Z"
   },
   {
    "duration": 136,
    "start_time": "2021-09-13T19:45:33.810Z"
   },
   {
    "duration": 144,
    "start_time": "2021-09-13T19:45:42.362Z"
   },
   {
    "duration": 1900,
    "start_time": "2021-09-13T19:45:48.786Z"
   },
   {
    "duration": 3,
    "start_time": "2021-09-13T19:46:56.850Z"
   },
   {
    "duration": 112,
    "start_time": "2021-09-13T19:47:49.681Z"
   },
   {
    "duration": 5,
    "start_time": "2021-09-13T19:48:17.475Z"
   },
   {
    "duration": 377,
    "start_time": "2021-09-13T19:48:23.369Z"
   },
   {
    "duration": 556,
    "start_time": "2021-09-13T19:48:26.898Z"
   },
   {
    "duration": 405,
    "start_time": "2021-09-13T19:49:34.771Z"
   },
   {
    "duration": 374,
    "start_time": "2021-09-13T19:49:40.250Z"
   },
   {
    "duration": 4,
    "start_time": "2021-09-13T19:49:47.707Z"
   },
   {
    "duration": 403,
    "start_time": "2021-09-13T19:50:00.330Z"
   },
   {
    "duration": 358,
    "start_time": "2021-09-13T19:50:04.849Z"
   },
   {
    "duration": 5,
    "start_time": "2021-09-13T19:50:08.617Z"
   },
   {
    "duration": 5,
    "start_time": "2021-09-13T19:50:37.185Z"
   },
   {
    "duration": 420,
    "start_time": "2021-09-13T19:50:56.016Z"
   },
   {
    "duration": 6,
    "start_time": "2021-09-13T19:50:59.376Z"
   },
   {
    "duration": 6,
    "start_time": "2021-09-13T19:51:30.225Z"
   },
   {
    "duration": 1406,
    "start_time": "2021-09-14T18:20:58.470Z"
   },
   {
    "duration": 1590,
    "start_time": "2021-09-14T18:20:59.879Z"
   },
   {
    "duration": 148,
    "start_time": "2021-09-14T18:21:02.327Z"
   },
   {
    "duration": 8,
    "start_time": "2021-09-14T18:21:02.910Z"
   },
   {
    "duration": 147,
    "start_time": "2021-09-14T18:21:05.038Z"
   },
   {
    "duration": 339,
    "start_time": "2021-09-14T18:21:05.205Z"
   },
   {
    "duration": 426,
    "start_time": "2021-09-14T18:21:06.245Z"
   },
   {
    "duration": 6,
    "start_time": "2021-09-14T18:21:10.901Z"
   },
   {
    "duration": 117,
    "start_time": "2021-09-14T18:21:11.102Z"
   },
   {
    "duration": 858,
    "start_time": "2021-09-14T18:21:11.285Z"
   },
   {
    "duration": 533,
    "start_time": "2021-09-14T18:21:56.934Z"
   },
   {
    "duration": 601,
    "start_time": "2021-09-14T18:22:00.925Z"
   },
   {
    "duration": 420,
    "start_time": "2021-09-14T18:31:29.854Z"
   },
   {
    "duration": 916,
    "start_time": "2021-09-14T18:33:23.147Z"
   },
   {
    "duration": 864,
    "start_time": "2021-09-14T18:33:33.019Z"
   },
   {
    "duration": 863,
    "start_time": "2021-09-14T18:33:45.811Z"
   },
   {
    "duration": 560,
    "start_time": "2021-09-14T18:33:58.899Z"
   },
   {
    "duration": 7,
    "start_time": "2021-09-14T18:34:02.467Z"
   },
   {
    "duration": 10,
    "start_time": "2021-09-14T18:34:04.835Z"
   },
   {
    "duration": 1101,
    "start_time": "2021-09-14T18:34:14.083Z"
   },
   {
    "duration": 37,
    "start_time": "2021-09-14T18:34:21.283Z"
   },
   {
    "duration": 849,
    "start_time": "2021-09-14T18:34:26.283Z"
   },
   {
    "duration": 7,
    "start_time": "2021-09-14T18:34:35.522Z"
   },
   {
    "duration": 150,
    "start_time": "2021-09-14T18:34:35.907Z"
   },
   {
    "duration": 311,
    "start_time": "2021-09-14T18:34:36.170Z"
   },
   {
    "duration": 329,
    "start_time": "2021-09-14T18:34:36.484Z"
   },
   {
    "duration": 8,
    "start_time": "2021-09-14T18:34:36.817Z"
   },
   {
    "duration": 117,
    "start_time": "2021-09-14T18:34:37.643Z"
   },
   {
    "duration": 843,
    "start_time": "2021-09-14T18:34:37.866Z"
   },
   {
    "duration": 2712,
    "start_time": "2021-09-14T18:34:42.644Z"
   },
   {
    "duration": 29,
    "start_time": "2021-09-14T18:34:45.359Z"
   },
   {
    "duration": 15,
    "start_time": "2021-09-14T18:34:45.391Z"
   },
   {
    "duration": 35,
    "start_time": "2021-09-14T18:34:45.408Z"
   },
   {
    "duration": 89,
    "start_time": "2021-09-14T18:34:46.419Z"
   },
   {
    "duration": 28,
    "start_time": "2021-09-14T18:34:46.646Z"
   },
   {
    "duration": 4,
    "start_time": "2021-09-14T18:34:52.522Z"
   },
   {
    "duration": 2600,
    "start_time": "2021-09-14T18:34:55.059Z"
   },
   {
    "duration": 340,
    "start_time": "2021-09-14T18:36:04.896Z"
   },
   {
    "duration": 5,
    "start_time": "2021-09-14T18:36:33.739Z"
   },
   {
    "duration": 259,
    "start_time": "2021-09-14T18:36:37.802Z"
   },
   {
    "duration": 1310,
    "start_time": "2021-09-14T18:37:01.898Z"
   },
   {
    "duration": 573,
    "start_time": "2021-09-14T18:37:18.731Z"
   },
   {
    "duration": 422,
    "start_time": "2021-09-14T18:38:08.715Z"
   },
   {
    "duration": 246368,
    "start_time": "2021-09-14T18:38:49.793Z"
   },
   {
    "duration": 4,
    "start_time": "2021-09-14T18:42:56.164Z"
   },
   {
    "duration": 7397,
    "start_time": "2021-09-14T18:45:14.438Z"
   },
   {
    "duration": 24,
    "start_time": "2021-09-14T18:47:38.554Z"
   },
   {
    "duration": 7578,
    "start_time": "2021-09-14T18:47:47.687Z"
   },
   {
    "duration": 995,
    "start_time": "2021-09-14T18:53:10.533Z"
   },
   {
    "duration": 4,
    "start_time": "2021-09-14T18:53:47.703Z"
   },
   {
    "duration": 5,
    "start_time": "2021-09-14T18:53:50.734Z"
   },
   {
    "duration": 998,
    "start_time": "2021-09-14T18:53:53.039Z"
   },
   {
    "duration": 152,
    "start_time": "2021-09-14T18:54:48.896Z"
   },
   {
    "duration": 155,
    "start_time": "2021-09-14T19:02:11.255Z"
   },
   {
    "duration": 300,
    "start_time": "2021-09-14T19:02:23.093Z"
   },
   {
    "duration": 306,
    "start_time": "2021-09-14T19:02:30.726Z"
   },
   {
    "duration": 152,
    "start_time": "2021-09-14T19:02:35.238Z"
   },
   {
    "duration": 641,
    "start_time": "2021-09-14T19:03:10.094Z"
   },
   {
    "duration": 541,
    "start_time": "2021-09-14T19:03:17.181Z"
   },
   {
    "duration": 515,
    "start_time": "2021-09-14T19:03:21.709Z"
   },
   {
    "duration": 550,
    "start_time": "2021-09-14T19:03:48.150Z"
   },
   {
    "duration": 93,
    "start_time": "2021-09-14T19:04:52.703Z"
   },
   {
    "duration": 4,
    "start_time": "2021-09-14T19:11:34.505Z"
   },
   {
    "duration": 10,
    "start_time": "2021-09-14T19:11:55.284Z"
   },
   {
    "duration": 64,
    "start_time": "2021-09-14T19:12:13.652Z"
   },
   {
    "duration": 126,
    "start_time": "2021-09-14T19:12:54.925Z"
   },
   {
    "duration": 427,
    "start_time": "2021-09-14T19:13:06.508Z"
   },
   {
    "duration": 96,
    "start_time": "2021-09-14T19:13:14.227Z"
   },
   {
    "duration": 63,
    "start_time": "2021-09-14T19:13:23.804Z"
   },
   {
    "duration": 96,
    "start_time": "2021-09-14T19:13:47.065Z"
   },
   {
    "duration": 323,
    "start_time": "2021-09-14T19:13:53.180Z"
   },
   {
    "duration": 275,
    "start_time": "2021-09-14T19:14:03.291Z"
   },
   {
    "duration": 84,
    "start_time": "2021-09-14T19:14:08.861Z"
   },
   {
    "duration": 126,
    "start_time": "2021-09-14T19:14:12.532Z"
   },
   {
    "duration": 84,
    "start_time": "2021-09-14T19:14:45.284Z"
   },
   {
    "duration": 98,
    "start_time": "2021-09-14T19:15:05.971Z"
   },
   {
    "duration": 115,
    "start_time": "2021-09-14T19:15:33.771Z"
   },
   {
    "duration": 427,
    "start_time": "2021-09-14T19:15:55.669Z"
   },
   {
    "duration": 119,
    "start_time": "2021-09-14T19:16:26.139Z"
   },
   {
    "duration": 397,
    "start_time": "2021-09-14T19:16:41.020Z"
   },
   {
    "duration": 88,
    "start_time": "2021-09-14T19:17:11.059Z"
   },
   {
    "duration": 178,
    "start_time": "2021-09-14T19:17:21.194Z"
   },
   {
    "duration": 162,
    "start_time": "2021-09-14T19:17:35.560Z"
   },
   {
    "duration": 357,
    "start_time": "2021-09-14T19:17:47.740Z"
   },
   {
    "duration": 533,
    "start_time": "2021-09-14T19:18:32.874Z"
   },
   {
    "duration": 7,
    "start_time": "2021-09-14T19:18:45.714Z"
   },
   {
    "duration": 45,
    "start_time": "2021-09-14T19:18:56.298Z"
   },
   {
    "duration": 8,
    "start_time": "2021-09-14T19:19:27.618Z"
   },
   {
    "duration": 37,
    "start_time": "2021-09-14T19:19:42.770Z"
   },
   {
    "duration": 86,
    "start_time": "2021-09-14T19:20:25.251Z"
   },
   {
    "duration": 106,
    "start_time": "2021-09-14T19:20:29.714Z"
   },
   {
    "duration": 75,
    "start_time": "2021-09-14T19:20:33.401Z"
   },
   {
    "duration": 8,
    "start_time": "2021-09-14T19:21:13.034Z"
   },
   {
    "duration": 26,
    "start_time": "2021-09-14T19:21:19.482Z"
   },
   {
    "duration": 23,
    "start_time": "2021-09-14T19:21:49.945Z"
   },
   {
    "duration": 20,
    "start_time": "2021-09-14T19:23:49.266Z"
   },
   {
    "duration": 403,
    "start_time": "2021-09-14T19:23:52.508Z"
   },
   {
    "duration": 7,
    "start_time": "2021-09-14T19:25:13.578Z"
   },
   {
    "duration": 30,
    "start_time": "2021-09-14T19:25:16.632Z"
   },
   {
    "duration": 58,
    "start_time": "2021-09-14T19:25:50.393Z"
   },
   {
    "duration": 322,
    "start_time": "2021-09-14T19:25:55.113Z"
   },
   {
    "duration": 57,
    "start_time": "2021-09-14T19:26:19.257Z"
   },
   {
    "duration": 339,
    "start_time": "2021-09-14T19:26:25.385Z"
   },
   {
    "duration": 155,
    "start_time": "2021-09-14T19:26:32.608Z"
   },
   {
    "duration": 298,
    "start_time": "2021-09-14T19:27:29.016Z"
   },
   {
    "duration": 61,
    "start_time": "2021-09-14T19:27:36.969Z"
   },
   {
    "duration": 366,
    "start_time": "2021-09-14T19:27:39.920Z"
   },
   {
    "duration": 7,
    "start_time": "2021-09-14T19:27:55.208Z"
   },
   {
    "duration": 7,
    "start_time": "2021-09-14T19:27:58.576Z"
   },
   {
    "duration": 22,
    "start_time": "2021-09-14T19:28:04.304Z"
   },
   {
    "duration": 20,
    "start_time": "2021-09-14T19:28:07.824Z"
   },
   {
    "duration": 66,
    "start_time": "2021-09-14T19:28:28.680Z"
   },
   {
    "duration": 60,
    "start_time": "2021-09-14T19:29:05.656Z"
   },
   {
    "duration": 61,
    "start_time": "2021-09-14T19:29:12.112Z"
   },
   {
    "duration": 45,
    "start_time": "2021-09-14T19:29:17.872Z"
   },
   {
    "duration": 27,
    "start_time": "2021-09-14T19:29:21.208Z"
   },
   {
    "duration": 302,
    "start_time": "2021-09-14T19:29:27.640Z"
   },
   {
    "duration": 67,
    "start_time": "2021-09-14T19:29:39.088Z"
   },
   {
    "duration": 44,
    "start_time": "2021-09-14T19:30:26.032Z"
   },
   {
    "duration": 366,
    "start_time": "2021-09-14T19:30:30.580Z"
   },
   {
    "duration": 6,
    "start_time": "2021-09-14T19:32:58.321Z"
   },
   {
    "duration": 25,
    "start_time": "2021-09-14T19:33:15.431Z"
   },
   {
    "duration": 870,
    "start_time": "2021-09-14T19:33:28.623Z"
   },
   {
    "duration": 56,
    "start_time": "2021-09-14T19:33:35.752Z"
   },
   {
    "duration": 289,
    "start_time": "2021-09-14T19:35:02.111Z"
   },
   {
    "duration": 277,
    "start_time": "2021-09-14T19:38:00.333Z"
   },
   {
    "duration": 288,
    "start_time": "2021-09-14T19:38:22.797Z"
   },
   {
    "duration": 6,
    "start_time": "2021-09-14T19:38:25.644Z"
   },
   {
    "duration": 8,
    "start_time": "2021-09-14T19:39:18.291Z"
   },
   {
    "duration": 45,
    "start_time": "2021-09-14T19:39:56.531Z"
   },
   {
    "duration": 4,
    "start_time": "2021-09-14T19:43:20.919Z"
   },
   {
    "duration": 785,
    "start_time": "2021-09-14T19:43:46.261Z"
   },
   {
    "duration": 3,
    "start_time": "2021-09-14T19:44:03.189Z"
   },
   {
    "duration": 799,
    "start_time": "2021-09-14T19:44:03.430Z"
   },
   {
    "duration": 703,
    "start_time": "2021-09-14T19:44:44.892Z"
   },
   {
    "duration": 8149,
    "start_time": "2021-09-14T19:44:49.244Z"
   },
   {
    "duration": 82,
    "start_time": "2021-09-14T19:46:23.259Z"
   },
   {
    "duration": 108,
    "start_time": "2021-09-14T20:02:01.178Z"
   },
   {
    "duration": 89,
    "start_time": "2021-09-14T20:02:13.625Z"
   },
   {
    "duration": 100,
    "start_time": "2021-09-14T20:02:18.208Z"
   },
   {
    "duration": 4,
    "start_time": "2021-09-14T20:02:32.825Z"
   },
   {
    "duration": 990,
    "start_time": "2021-09-14T20:02:34.105Z"
   },
   {
    "duration": 4,
    "start_time": "2021-09-14T20:02:42.433Z"
   },
   {
    "duration": 8291,
    "start_time": "2021-09-14T20:02:43.504Z"
   },
   {
    "duration": 254,
    "start_time": "2021-09-14T20:05:26.553Z"
   },
   {
    "duration": -3,
    "start_time": "2021-09-14T20:06:03.312Z"
   },
   {
    "duration": 60,
    "start_time": "2021-09-14T20:06:07.441Z"
   },
   {
    "duration": 262,
    "start_time": "2021-09-14T20:06:46.402Z"
   },
   {
    "duration": 91,
    "start_time": "2021-09-14T20:06:52.145Z"
   },
   {
    "duration": 83,
    "start_time": "2021-09-14T20:07:19.217Z"
   },
   {
    "duration": 78,
    "start_time": "2021-09-14T20:07:21.937Z"
   },
   {
    "duration": 84,
    "start_time": "2021-09-14T20:07:26.569Z"
   },
   {
    "duration": 98,
    "start_time": "2021-09-14T20:07:58.097Z"
   },
   {
    "duration": 42,
    "start_time": "2021-09-14T20:08:49.226Z"
   },
   {
    "duration": 326,
    "start_time": "2021-09-14T20:08:52.530Z"
   },
   {
    "duration": 21,
    "start_time": "2021-09-14T20:09:38.509Z"
   },
   {
    "duration": 487,
    "start_time": "2021-09-14T20:09:41.167Z"
   },
   {
    "duration": 59,
    "start_time": "2021-09-14T20:10:04.257Z"
   },
   {
    "duration": 316,
    "start_time": "2021-09-14T20:10:06.433Z"
   },
   {
    "duration": 284,
    "start_time": "2021-09-14T20:10:48.522Z"
   },
   {
    "duration": 282,
    "start_time": "2021-09-14T20:10:53.026Z"
   },
   {
    "duration": 19,
    "start_time": "2021-09-14T20:11:07.075Z"
   },
   {
    "duration": 20,
    "start_time": "2021-09-14T20:11:29.754Z"
   },
   {
    "duration": 368,
    "start_time": "2021-09-14T20:12:10.161Z"
   },
   {
    "duration": 375,
    "start_time": "2021-09-14T20:12:21.029Z"
   },
   {
    "duration": 357,
    "start_time": "2021-09-14T20:12:24.538Z"
   },
   {
    "duration": 595,
    "start_time": "2021-09-14T20:13:01.666Z"
   },
   {
    "duration": 449,
    "start_time": "2021-09-14T20:13:21.849Z"
   },
   {
    "duration": 426,
    "start_time": "2021-09-14T20:13:24.442Z"
   },
   {
    "duration": 372,
    "start_time": "2021-09-14T20:13:28.257Z"
   },
   {
    "duration": 22,
    "start_time": "2021-09-14T20:13:32.426Z"
   },
   {
    "duration": 360,
    "start_time": "2021-09-14T20:13:44.122Z"
   },
   {
    "duration": 38,
    "start_time": "2021-09-14T20:13:55.753Z"
   },
   {
    "duration": 163,
    "start_time": "2021-09-14T20:14:05.018Z"
   },
   {
    "duration": 21,
    "start_time": "2021-09-14T20:14:21.650Z"
   },
   {
    "duration": 21,
    "start_time": "2021-09-14T20:14:25.769Z"
   },
   {
    "duration": 405,
    "start_time": "2021-09-14T20:14:38.329Z"
   },
   {
    "duration": 126,
    "start_time": "2021-09-14T20:14:42.128Z"
   },
   {
    "duration": 127,
    "start_time": "2021-09-14T20:14:50.361Z"
   },
   {
    "duration": 15,
    "start_time": "2021-09-14T20:14:53.304Z"
   },
   {
    "duration": 6,
    "start_time": "2021-09-14T20:15:13.153Z"
   },
   {
    "duration": 1019,
    "start_time": "2021-09-14T20:15:13.408Z"
   },
   {
    "duration": 295,
    "start_time": "2021-09-14T20:15:16.528Z"
   },
   {
    "duration": 434,
    "start_time": "2021-09-14T20:15:45.129Z"
   },
   {
    "duration": 145,
    "start_time": "2021-09-14T20:15:47.864Z"
   },
   {
    "duration": 21,
    "start_time": "2021-09-14T20:15:49.289Z"
   },
   {
    "duration": 15,
    "start_time": "2021-09-14T20:15:56.625Z"
   },
   {
    "duration": 1076,
    "start_time": "2021-09-14T20:16:01.013Z"
   },
   {
    "duration": 313,
    "start_time": "2021-09-14T20:16:04.416Z"
   },
   {
    "duration": 139,
    "start_time": "2021-09-14T20:16:20.217Z"
   },
   {
    "duration": 21,
    "start_time": "2021-09-14T20:16:35.809Z"
   },
   {
    "duration": 21,
    "start_time": "2021-09-14T20:16:42.121Z"
   },
   {
    "duration": 342,
    "start_time": "2021-09-14T20:17:08.817Z"
   },
   {
    "duration": 39,
    "start_time": "2021-09-14T20:17:14.880Z"
   },
   {
    "duration": 54,
    "start_time": "2021-09-14T20:17:33.656Z"
   },
   {
    "duration": 259,
    "start_time": "2021-09-14T20:17:37.448Z"
   },
   {
    "duration": 268,
    "start_time": "2021-09-14T20:17:56.856Z"
   },
   {
    "duration": 1053,
    "start_time": "2021-09-14T20:18:05.945Z"
   },
   {
    "duration": 307,
    "start_time": "2021-09-14T20:18:08.064Z"
   },
   {
    "duration": 353,
    "start_time": "2021-09-14T20:18:12.792Z"
   },
   {
    "duration": 67,
    "start_time": "2021-09-14T20:18:46.144Z"
   },
   {
    "duration": 24,
    "start_time": "2021-09-14T20:18:53.220Z"
   },
   {
    "duration": 82,
    "start_time": "2021-09-14T20:18:53.560Z"
   },
   {
    "duration": 81,
    "start_time": "2021-09-14T20:18:54.032Z"
   },
   {
    "duration": 553,
    "start_time": "2021-09-14T20:18:57.528Z"
   },
   {
    "duration": 885,
    "start_time": "2021-09-14T20:20:56.357Z"
   },
   {
    "duration": 873,
    "start_time": "2021-09-14T20:21:18.480Z"
   },
   {
    "duration": 504,
    "start_time": "2021-09-14T20:21:27.984Z"
   },
   {
    "duration": 513,
    "start_time": "2021-09-14T20:21:31.335Z"
   },
   {
    "duration": 560,
    "start_time": "2021-09-14T20:21:38.576Z"
   },
   {
    "duration": 795,
    "start_time": "2021-09-14T20:21:50.686Z"
   },
   {
    "duration": 506,
    "start_time": "2021-09-14T20:22:02.488Z"
   },
   {
    "duration": 1020,
    "start_time": "2021-09-14T20:22:06.280Z"
   },
   {
    "duration": 630,
    "start_time": "2021-09-14T20:22:16.040Z"
   },
   {
    "duration": 546,
    "start_time": "2021-09-14T20:22:33.544Z"
   },
   {
    "duration": 534,
    "start_time": "2021-09-14T20:22:37.975Z"
   },
   {
    "duration": 590,
    "start_time": "2021-09-14T20:22:45.645Z"
   },
   {
    "duration": 511,
    "start_time": "2021-09-14T20:22:46.238Z"
   },
   {
    "duration": 151,
    "start_time": "2021-09-14T20:23:05.135Z"
   },
   {
    "duration": 129,
    "start_time": "2021-09-14T20:23:27.416Z"
   },
   {
    "duration": 32,
    "start_time": "2021-09-14T20:23:31.576Z"
   },
   {
    "duration": 37,
    "start_time": "2021-09-14T20:23:35.295Z"
   },
   {
    "duration": 309,
    "start_time": "2021-09-14T20:23:40.399Z"
   },
   {
    "duration": 24,
    "start_time": "2021-09-14T20:24:18.052Z"
   },
   {
    "duration": 20,
    "start_time": "2021-09-14T20:24:28.091Z"
   },
   {
    "duration": 371,
    "start_time": "2021-09-14T20:24:29.999Z"
   },
   {
    "duration": 174,
    "start_time": "2021-09-14T20:24:53.405Z"
   },
   {
    "duration": 141,
    "start_time": "2021-09-14T20:24:59.487Z"
   },
   {
    "duration": 6,
    "start_time": "2021-09-14T20:25:06.402Z"
   },
   {
    "duration": 1021,
    "start_time": "2021-09-14T20:25:06.411Z"
   },
   {
    "duration": 173,
    "start_time": "2021-09-14T20:25:07.436Z"
   },
   {
    "duration": 165,
    "start_time": "2021-09-14T20:25:07.611Z"
   },
   {
    "duration": 592,
    "start_time": "2021-09-14T20:25:07.779Z"
   },
   {
    "duration": 166,
    "start_time": "2021-09-14T20:25:08.375Z"
   },
   {
    "duration": 155,
    "start_time": "2021-09-14T20:25:08.554Z"
   },
   {
    "duration": 21,
    "start_time": "2021-09-14T20:25:08.711Z"
   },
   {
    "duration": 162,
    "start_time": "2021-09-14T20:25:08.735Z"
   },
   {
    "duration": 21,
    "start_time": "2021-09-14T20:25:08.900Z"
   },
   {
    "duration": 69,
    "start_time": "2021-09-14T20:25:08.923Z"
   },
   {
    "duration": 53,
    "start_time": "2021-09-14T20:25:08.994Z"
   },
   {
    "duration": 44,
    "start_time": "2021-09-14T20:25:09.055Z"
   },
   {
    "duration": 745,
    "start_time": "2021-09-14T20:25:14.183Z"
   },
   {
    "duration": 485,
    "start_time": "2021-09-14T20:25:15.639Z"
   },
   {
    "duration": 1238,
    "start_time": "2021-09-14T20:25:49.063Z"
   },
   {
    "duration": 2584,
    "start_time": "2021-09-14T20:26:09.550Z"
   },
   {
    "duration": 41,
    "start_time": "2021-09-14T20:26:12.137Z"
   },
   {
    "duration": 5,
    "start_time": "2021-09-14T20:26:15.398Z"
   },
   {
    "duration": 16,
    "start_time": "2021-09-14T20:26:16.821Z"
   },
   {
    "duration": 87,
    "start_time": "2021-09-14T20:26:17.325Z"
   },
   {
    "duration": 31,
    "start_time": "2021-09-14T20:26:17.790Z"
   },
   {
    "duration": 30,
    "start_time": "2021-09-14T20:26:18.095Z"
   },
   {
    "duration": 6,
    "start_time": "2021-09-14T20:27:10.312Z"
   },
   {
    "duration": 108,
    "start_time": "2021-09-14T20:27:36.797Z"
   },
   {
    "duration": 7,
    "start_time": "2021-09-14T20:27:53.004Z"
   },
   {
    "duration": 18941,
    "start_time": "2021-09-14T20:27:57.572Z"
   },
   {
    "duration": 87709,
    "start_time": "2021-09-14T20:28:27.204Z"
   },
   {
    "duration": 245,
    "start_time": "2021-09-14T20:30:15.211Z"
   },
   {
    "duration": 222529,
    "start_time": "2021-09-14T20:30:23.331Z"
   },
   {
    "duration": 6,
    "start_time": "2021-09-14T20:34:05.863Z"
   },
   {
    "duration": 13094,
    "start_time": "2021-09-14T20:34:05.872Z"
   },
   {
    "duration": 65,
    "start_time": "2021-09-14T20:36:58.997Z"
   },
   {
    "duration": 7,
    "start_time": "2021-09-14T20:38:03.261Z"
   },
   {
    "duration": 8,
    "start_time": "2021-09-14T20:38:09.936Z"
   },
   {
    "duration": 1090,
    "start_time": "2021-09-14T20:38:28.288Z"
   },
   {
    "duration": 6,
    "start_time": "2021-09-14T20:38:32.728Z"
   },
   {
    "duration": 112,
    "start_time": "2021-09-14T20:38:46.711Z"
   },
   {
    "duration": 1013,
    "start_time": "2021-09-14T20:38:57.780Z"
   },
   {
    "duration": 156,
    "start_time": "2021-09-14T20:39:00.256Z"
   },
   {
    "duration": 116,
    "start_time": "2021-09-14T20:39:01.383Z"
   },
   {
    "duration": 87,
    "start_time": "2021-09-14T20:39:50.887Z"
   },
   {
    "duration": 60,
    "start_time": "2021-09-14T20:40:07.008Z"
   },
   {
    "duration": 6,
    "start_time": "2021-09-14T20:40:21.049Z"
   },
   {
    "duration": 1064,
    "start_time": "2021-09-14T20:40:21.057Z"
   },
   {
    "duration": 167,
    "start_time": "2021-09-14T20:40:22.124Z"
   },
   {
    "duration": 128,
    "start_time": "2021-09-14T20:40:22.294Z"
   },
   {
    "duration": 158,
    "start_time": "2021-09-14T20:40:22.424Z"
   },
   {
    "duration": 557,
    "start_time": "2021-09-14T20:40:22.585Z"
   },
   {
    "duration": 160,
    "start_time": "2021-09-14T20:40:23.144Z"
   },
   {
    "duration": 154,
    "start_time": "2021-09-14T20:40:23.307Z"
   },
   {
    "duration": 20,
    "start_time": "2021-09-14T20:40:23.465Z"
   },
   {
    "duration": 167,
    "start_time": "2021-09-14T20:40:23.487Z"
   },
   {
    "duration": 22,
    "start_time": "2021-09-14T20:40:23.657Z"
   },
   {
    "duration": 58,
    "start_time": "2021-09-14T20:40:23.682Z"
   },
   {
    "duration": 52,
    "start_time": "2021-09-14T20:40:23.742Z"
   },
   {
    "duration": 42,
    "start_time": "2021-09-14T20:40:23.796Z"
   },
   {
    "duration": 165,
    "start_time": "2021-09-14T20:40:23.840Z"
   },
   {
    "duration": 79,
    "start_time": "2021-09-14T20:40:24.008Z"
   },
   {
    "duration": 664,
    "start_time": "2021-09-14T20:40:24.090Z"
   },
   {
    "duration": 513,
    "start_time": "2021-09-14T20:40:24.756Z"
   },
   {
    "duration": 7,
    "start_time": "2021-09-14T20:40:25.271Z"
   },
   {
    "duration": 165,
    "start_time": "2021-09-14T20:40:25.281Z"
   },
   {
    "duration": 114,
    "start_time": "2021-09-14T20:40:25.448Z"
   },
   {
    "duration": 793,
    "start_time": "2021-09-14T20:40:25.564Z"
   },
   {
    "duration": 55,
    "start_time": "2021-09-14T20:40:26.360Z"
   },
   {
    "duration": 2649,
    "start_time": "2021-09-14T20:40:34.831Z"
   },
   {
    "duration": 29,
    "start_time": "2021-09-14T20:40:37.483Z"
   },
   {
    "duration": 4,
    "start_time": "2021-09-14T20:40:45.103Z"
   },
   {
    "duration": 16,
    "start_time": "2021-09-14T20:40:45.743Z"
   },
   {
    "duration": 101,
    "start_time": "2021-09-14T20:40:46.111Z"
   },
   {
    "duration": 7,
    "start_time": "2021-09-14T20:40:49.159Z"
   },
   {
    "duration": 15832,
    "start_time": "2021-09-14T20:40:54.343Z"
   },
   {
    "duration": 1214,
    "start_time": "2021-09-14T20:42:23.710Z"
   },
   {
    "duration": 474,
    "start_time": "2021-09-14T20:44:39.194Z"
   },
   {
    "duration": 228,
    "start_time": "2021-09-14T20:44:43.902Z"
   },
   {
    "duration": 139,
    "start_time": "2021-09-14T20:44:53.574Z"
   },
   {
    "duration": 101,
    "start_time": "2021-09-14T20:44:54.575Z"
   },
   {
    "duration": 137,
    "start_time": "2021-09-14T20:44:57.733Z"
   },
   {
    "duration": 60,
    "start_time": "2021-09-14T20:46:17.058Z"
   },
   {
    "duration": 272,
    "start_time": "2021-09-14T20:46:17.820Z"
   },
   {
    "duration": 54,
    "start_time": "2021-09-14T20:46:29.620Z"
   },
   {
    "duration": 7,
    "start_time": "2021-09-14T20:46:38.250Z"
   },
   {
    "duration": 1088,
    "start_time": "2021-09-14T20:46:38.260Z"
   },
   {
    "duration": 234,
    "start_time": "2021-09-14T20:46:39.356Z"
   },
   {
    "duration": 148,
    "start_time": "2021-09-14T20:46:39.594Z"
   },
   {
    "duration": 259,
    "start_time": "2021-09-14T20:46:39.745Z"
   },
   {
    "duration": 911,
    "start_time": "2021-09-14T20:46:40.007Z"
   },
   {
    "duration": 162,
    "start_time": "2021-09-14T20:46:40.921Z"
   },
   {
    "duration": 172,
    "start_time": "2021-09-14T20:46:41.087Z"
   },
   {
    "duration": 19,
    "start_time": "2021-09-14T20:46:41.262Z"
   },
   {
    "duration": 158,
    "start_time": "2021-09-14T20:46:41.284Z"
   },
   {
    "duration": 21,
    "start_time": "2021-09-14T20:46:41.445Z"
   },
   {
    "duration": 58,
    "start_time": "2021-09-14T20:46:41.468Z"
   },
   {
    "duration": 52,
    "start_time": "2021-09-14T20:46:41.528Z"
   },
   {
    "duration": 41,
    "start_time": "2021-09-14T20:46:41.582Z"
   },
   {
    "duration": 162,
    "start_time": "2021-09-14T20:46:41.626Z"
   },
   {
    "duration": 67,
    "start_time": "2021-09-14T20:46:41.790Z"
   },
   {
    "duration": 47,
    "start_time": "2021-09-14T20:46:41.860Z"
   },
   {
    "duration": 67,
    "start_time": "2021-09-14T20:46:41.910Z"
   },
   {
    "duration": 363,
    "start_time": "2021-09-14T20:46:41.979Z"
   },
   {
    "duration": 311,
    "start_time": "2021-09-14T20:46:42.344Z"
   },
   {
    "duration": 9,
    "start_time": "2021-09-14T20:46:42.658Z"
   },
   {
    "duration": 136,
    "start_time": "2021-09-14T20:46:42.670Z"
   },
   {
    "duration": 116,
    "start_time": "2021-09-14T20:46:42.812Z"
   },
   {
    "duration": 897,
    "start_time": "2021-09-14T20:46:42.930Z"
   },
   {
    "duration": 63,
    "start_time": "2021-09-14T20:46:43.830Z"
   },
   {
    "duration": 51,
    "start_time": "2021-09-14T20:46:47.764Z"
   },
   {
    "duration": 1733,
    "start_time": "2021-09-14T20:46:50.091Z"
   },
   {
    "duration": 37,
    "start_time": "2021-09-14T20:46:51.828Z"
   },
   {
    "duration": 810,
    "start_time": "2021-09-14T20:46:55.430Z"
   },
   {
    "duration": 4,
    "start_time": "2021-09-14T20:47:35.076Z"
   },
   {
    "duration": 15,
    "start_time": "2021-09-14T20:47:35.772Z"
   },
   {
    "duration": 97,
    "start_time": "2021-09-14T20:47:36.012Z"
   },
   {
    "duration": 6,
    "start_time": "2021-09-14T20:47:40.781Z"
   },
   {
    "duration": 11252,
    "start_time": "2021-09-14T20:47:42.421Z"
   },
   {
    "duration": 66008,
    "start_time": "2021-09-14T20:47:58.685Z"
   },
   {
    "duration": 124,
    "start_time": "2021-09-14T20:49:08.636Z"
   },
   {
    "duration": 2475,
    "start_time": "2021-09-14T20:49:48.225Z"
   },
   {
    "duration": 342,
    "start_time": "2021-09-15T18:34:58.386Z"
   },
   {
    "duration": 1912,
    "start_time": "2021-09-15T18:35:04.246Z"
   },
   {
    "duration": 2923,
    "start_time": "2021-09-15T18:35:06.163Z"
   },
   {
    "duration": 174,
    "start_time": "2021-09-15T18:35:09.089Z"
   },
   {
    "duration": 135,
    "start_time": "2021-09-15T18:35:09.266Z"
   },
   {
    "duration": 180,
    "start_time": "2021-09-15T18:35:09.404Z"
   },
   {
    "duration": 794,
    "start_time": "2021-09-15T18:35:09.587Z"
   },
   {
    "duration": 208,
    "start_time": "2021-09-15T18:35:10.383Z"
   },
   {
    "duration": 198,
    "start_time": "2021-09-15T18:35:10.594Z"
   },
   {
    "duration": 23,
    "start_time": "2021-09-15T18:35:10.796Z"
   },
   {
    "duration": 178,
    "start_time": "2021-09-15T18:35:10.822Z"
   },
   {
    "duration": 24,
    "start_time": "2021-09-15T18:35:11.003Z"
   },
   {
    "duration": 66,
    "start_time": "2021-09-15T18:35:11.030Z"
   },
   {
    "duration": 64,
    "start_time": "2021-09-15T18:35:11.098Z"
   },
   {
    "duration": 44,
    "start_time": "2021-09-15T18:35:11.165Z"
   },
   {
    "duration": 159,
    "start_time": "2021-09-15T18:35:11.212Z"
   },
   {
    "duration": 66,
    "start_time": "2021-09-15T18:35:11.374Z"
   },
   {
    "duration": 73,
    "start_time": "2021-09-15T18:35:11.442Z"
   },
   {
    "duration": 70,
    "start_time": "2021-09-15T18:35:11.519Z"
   },
   {
    "duration": 476,
    "start_time": "2021-09-15T18:35:11.592Z"
   },
   {
    "duration": 338,
    "start_time": "2021-09-15T18:35:12.071Z"
   },
   {
    "duration": 8,
    "start_time": "2021-09-15T18:35:12.412Z"
   },
   {
    "duration": 141,
    "start_time": "2021-09-15T18:35:12.422Z"
   },
   {
    "duration": 114,
    "start_time": "2021-09-15T18:35:12.566Z"
   },
   {
    "duration": 937,
    "start_time": "2021-09-15T18:35:12.683Z"
   },
   {
    "duration": 7,
    "start_time": "2021-09-15T18:35:18.305Z"
   },
   {
    "duration": 11,
    "start_time": "2021-09-15T18:35:38.085Z"
   },
   {
    "duration": 13,
    "start_time": "2021-09-15T18:36:10.396Z"
   },
   {
    "duration": 3,
    "start_time": "2021-09-15T18:39:19.358Z"
   },
   {
    "duration": 201,
    "start_time": "2021-09-15T18:42:45.061Z"
   },
   {
    "duration": 20,
    "start_time": "2021-09-15T18:43:14.602Z"
   },
   {
    "duration": 6,
    "start_time": "2021-09-15T18:43:18.314Z"
   },
   {
    "duration": 1094,
    "start_time": "2021-09-15T18:43:18.323Z"
   },
   {
    "duration": 164,
    "start_time": "2021-09-15T18:43:19.420Z"
   },
   {
    "duration": 138,
    "start_time": "2021-09-15T18:43:19.587Z"
   },
   {
    "duration": 163,
    "start_time": "2021-09-15T18:43:19.727Z"
   },
   {
    "duration": 609,
    "start_time": "2021-09-15T18:43:19.893Z"
   },
   {
    "duration": 164,
    "start_time": "2021-09-15T18:43:20.505Z"
   },
   {
    "duration": 20,
    "start_time": "2021-09-15T18:43:32.187Z"
   },
   {
    "duration": 22,
    "start_time": "2021-09-15T18:43:39.162Z"
   },
   {
    "duration": 24,
    "start_time": "2021-09-15T18:44:50.085Z"
   },
   {
    "duration": 81,
    "start_time": "2021-09-15T18:45:27.330Z"
   },
   {
    "duration": 43,
    "start_time": "2021-09-15T18:45:46.667Z"
   },
   {
    "duration": 22,
    "start_time": "2021-09-15T18:47:32.748Z"
   },
   {
    "duration": 147,
    "start_time": "2021-09-15T18:47:34.434Z"
   },
   {
    "duration": 95,
    "start_time": "2021-09-15T18:49:07.487Z"
   },
   {
    "duration": 139,
    "start_time": "2021-09-15T18:49:09.473Z"
   },
   {
    "duration": 140,
    "start_time": "2021-09-15T18:49:15.209Z"
   },
   {
    "duration": 141,
    "start_time": "2021-09-15T18:49:35.473Z"
   },
   {
    "duration": 136,
    "start_time": "2021-09-15T18:50:01.049Z"
   },
   {
    "duration": 83,
    "start_time": "2021-09-15T18:51:33.230Z"
   },
   {
    "duration": 59,
    "start_time": "2021-09-15T18:53:37.506Z"
   },
   {
    "duration": 60,
    "start_time": "2021-09-15T18:54:10.459Z"
   },
   {
    "duration": 75,
    "start_time": "2021-09-15T18:54:16.201Z"
   },
   {
    "duration": 74,
    "start_time": "2021-09-15T18:54:19.362Z"
   },
   {
    "duration": 369,
    "start_time": "2021-09-15T18:54:21.089Z"
   },
   {
    "duration": 52,
    "start_time": "2021-09-15T18:54:31.370Z"
   },
   {
    "duration": 6,
    "start_time": "2021-09-15T18:54:41.745Z"
   },
   {
    "duration": 1189,
    "start_time": "2021-09-15T18:54:41.754Z"
   },
   {
    "duration": 166,
    "start_time": "2021-09-15T18:54:42.945Z"
   },
   {
    "duration": 133,
    "start_time": "2021-09-15T18:54:43.113Z"
   },
   {
    "duration": 158,
    "start_time": "2021-09-15T18:54:43.249Z"
   },
   {
    "duration": 574,
    "start_time": "2021-09-15T18:54:43.410Z"
   },
   {
    "duration": 161,
    "start_time": "2021-09-15T18:54:43.986Z"
   },
   {
    "duration": 159,
    "start_time": "2021-09-15T18:54:44.150Z"
   },
   {
    "duration": 24,
    "start_time": "2021-09-15T18:54:44.311Z"
   },
   {
    "duration": 61,
    "start_time": "2021-09-15T18:54:44.338Z"
   },
   {
    "duration": 45,
    "start_time": "2021-09-15T18:54:44.402Z"
   },
   {
    "duration": 33,
    "start_time": "2021-09-15T18:54:44.449Z"
   },
   {
    "duration": 29,
    "start_time": "2021-09-15T18:54:44.485Z"
   },
   {
    "duration": 171,
    "start_time": "2021-09-15T18:54:44.517Z"
   },
   {
    "duration": 161,
    "start_time": "2021-09-15T18:54:44.691Z"
   },
   {
    "duration": 64,
    "start_time": "2021-09-15T18:54:44.855Z"
   },
   {
    "duration": 46,
    "start_time": "2021-09-15T18:54:47.777Z"
   },
   {
    "duration": 105,
    "start_time": "2021-09-15T18:55:43.609Z"
   },
   {
    "duration": 155,
    "start_time": "2021-09-15T18:55:54.112Z"
   },
   {
    "duration": 5,
    "start_time": "2021-09-15T18:56:36.179Z"
   },
   {
    "duration": 1061,
    "start_time": "2021-09-15T18:56:36.187Z"
   },
   {
    "duration": 165,
    "start_time": "2021-09-15T18:56:37.251Z"
   },
   {
    "duration": 123,
    "start_time": "2021-09-15T18:56:37.419Z"
   },
   {
    "duration": 160,
    "start_time": "2021-09-15T18:56:37.544Z"
   },
   {
    "duration": 548,
    "start_time": "2021-09-15T18:56:37.707Z"
   },
   {
    "duration": 171,
    "start_time": "2021-09-15T18:56:38.258Z"
   },
   {
    "duration": 157,
    "start_time": "2021-09-15T18:56:38.432Z"
   },
   {
    "duration": 23,
    "start_time": "2021-09-15T18:56:38.593Z"
   },
   {
    "duration": 62,
    "start_time": "2021-09-15T18:56:38.619Z"
   },
   {
    "duration": 46,
    "start_time": "2021-09-15T18:56:38.684Z"
   },
   {
    "duration": 36,
    "start_time": "2021-09-15T18:56:38.733Z"
   },
   {
    "duration": 22,
    "start_time": "2021-09-15T18:56:38.771Z"
   },
   {
    "duration": 156,
    "start_time": "2021-09-15T18:56:38.795Z"
   },
   {
    "duration": 150,
    "start_time": "2021-09-15T18:56:38.961Z"
   },
   {
    "duration": 60,
    "start_time": "2021-09-15T18:56:51.573Z"
   },
   {
    "duration": 538,
    "start_time": "2021-09-15T18:57:27.425Z"
   },
   {
    "duration": 598,
    "start_time": "2021-09-15T18:58:20.224Z"
   },
   {
    "duration": 536,
    "start_time": "2021-09-15T18:58:31.256Z"
   },
   {
    "duration": 7,
    "start_time": "2021-09-15T19:01:54.457Z"
   },
   {
    "duration": 5,
    "start_time": "2021-09-15T19:02:29.167Z"
   },
   {
    "duration": 3117,
    "start_time": "2021-09-15T19:02:47.215Z"
   },
   {
    "duration": 3835,
    "start_time": "2021-09-15T19:03:23.103Z"
   },
   {
    "duration": 4457,
    "start_time": "2021-09-15T19:03:37.263Z"
   },
   {
    "duration": 270,
    "start_time": "2021-09-15T19:07:45.779Z"
   },
   {
    "duration": 247,
    "start_time": "2021-09-15T19:07:55.103Z"
   },
   {
    "duration": 55,
    "start_time": "2021-09-15T19:08:00.893Z"
   },
   {
    "duration": 64,
    "start_time": "2021-09-15T19:08:56.523Z"
   },
   {
    "duration": 67,
    "start_time": "2021-09-15T19:09:14.285Z"
   },
   {
    "duration": 70,
    "start_time": "2021-09-15T19:09:27.462Z"
   },
   {
    "duration": 2631,
    "start_time": "2021-09-15T19:09:56.894Z"
   },
   {
    "duration": 37,
    "start_time": "2021-09-15T19:10:03.670Z"
   },
   {
    "duration": 39,
    "start_time": "2021-09-15T19:10:09.975Z"
   },
   {
    "duration": 38,
    "start_time": "2021-09-15T19:11:05.421Z"
   },
   {
    "duration": 6,
    "start_time": "2021-09-15T19:11:10.949Z"
   },
   {
    "duration": 1211,
    "start_time": "2021-09-15T19:11:10.957Z"
   },
   {
    "duration": 179,
    "start_time": "2021-09-15T19:11:12.171Z"
   },
   {
    "duration": 157,
    "start_time": "2021-09-15T19:11:12.353Z"
   },
   {
    "duration": 166,
    "start_time": "2021-09-15T19:11:12.512Z"
   },
   {
    "duration": 593,
    "start_time": "2021-09-15T19:11:12.680Z"
   },
   {
    "duration": 211,
    "start_time": "2021-09-15T19:11:13.276Z"
   },
   {
    "duration": 189,
    "start_time": "2021-09-15T19:11:13.490Z"
   },
   {
    "duration": 23,
    "start_time": "2021-09-15T19:11:13.683Z"
   },
   {
    "duration": 65,
    "start_time": "2021-09-15T19:11:13.709Z"
   },
   {
    "duration": 45,
    "start_time": "2021-09-15T19:11:13.777Z"
   },
   {
    "duration": 41,
    "start_time": "2021-09-15T19:11:13.825Z"
   },
   {
    "duration": 32,
    "start_time": "2021-09-15T19:11:13.870Z"
   },
   {
    "duration": 171,
    "start_time": "2021-09-15T19:11:13.905Z"
   },
   {
    "duration": 197,
    "start_time": "2021-09-15T19:11:14.078Z"
   },
   {
    "duration": 562,
    "start_time": "2021-09-15T19:11:14.278Z"
   },
   {
    "duration": 644,
    "start_time": "2021-09-15T19:11:14.843Z"
   },
   {
    "duration": 647,
    "start_time": "2021-09-15T19:11:15.490Z"
   },
   {
    "duration": 5,
    "start_time": "2021-09-15T19:11:16.140Z"
   },
   {
    "duration": 29,
    "start_time": "2021-09-15T19:11:17.653Z"
   },
   {
    "duration": 40,
    "start_time": "2021-09-15T19:11:18.341Z"
   },
   {
    "duration": 3134,
    "start_time": "2021-09-15T19:11:38.228Z"
   },
   {
    "duration": -396,
    "start_time": "2021-09-15T19:11:41.760Z"
   },
   {
    "duration": 2706,
    "start_time": "2021-09-15T19:11:44.172Z"
   },
   {
    "duration": 39,
    "start_time": "2021-09-15T19:11:48.614Z"
   },
   {
    "duration": 6,
    "start_time": "2021-09-15T19:17:56.494Z"
   },
   {
    "duration": 1543,
    "start_time": "2021-09-15T19:18:52.901Z"
   },
   {
    "duration": 343,
    "start_time": "2021-09-15T19:21:32.317Z"
   },
   {
    "duration": 46,
    "start_time": "2021-09-15T19:21:47.075Z"
   },
   {
    "duration": 36,
    "start_time": "2021-09-15T19:21:48.627Z"
   },
   {
    "duration": 410,
    "start_time": "2021-09-15T19:21:52.173Z"
   },
   {
    "duration": 303,
    "start_time": "2021-09-15T19:22:15.211Z"
   },
   {
    "duration": 2658,
    "start_time": "2021-09-15T19:22:30.339Z"
   },
   {
    "duration": 95,
    "start_time": "2021-09-15T19:22:33.931Z"
   },
   {
    "duration": 2576,
    "start_time": "2021-09-15T19:22:48.171Z"
   },
   {
    "duration": 32,
    "start_time": "2021-09-15T19:22:51.299Z"
   },
   {
    "duration": 2783,
    "start_time": "2021-09-15T19:23:06.435Z"
   },
   {
    "duration": 2830,
    "start_time": "2021-09-15T19:23:12.570Z"
   },
   {
    "duration": 250,
    "start_time": "2021-09-15T19:23:26.333Z"
   },
   {
    "duration": 2196,
    "start_time": "2021-09-15T19:23:34.858Z"
   },
   {
    "duration": 24,
    "start_time": "2021-09-15T19:23:39.395Z"
   },
   {
    "duration": 6,
    "start_time": "2021-09-15T19:24:00.395Z"
   },
   {
    "duration": 27,
    "start_time": "2021-09-15T19:24:00.793Z"
   },
   {
    "duration": 20,
    "start_time": "2021-09-15T19:24:04.739Z"
   },
   {
    "duration": 2394,
    "start_time": "2021-09-15T19:24:07.250Z"
   },
   {
    "duration": 28,
    "start_time": "2021-09-15T19:24:09.647Z"
   },
   {
    "duration": 1411,
    "start_time": "2021-09-15T19:24:50.804Z"
   },
   {
    "duration": 1871,
    "start_time": "2021-09-15T19:25:04.458Z"
   },
   {
    "duration": 1409,
    "start_time": "2021-09-15T19:25:11.354Z"
   },
   {
    "duration": 1465,
    "start_time": "2021-09-15T19:26:04.994Z"
   },
   {
    "duration": 27,
    "start_time": "2021-09-15T19:28:09.919Z"
   },
   {
    "duration": 78,
    "start_time": "2021-09-15T19:28:51.665Z"
   },
   {
    "duration": 1327,
    "start_time": "2021-09-15T19:29:06.160Z"
   },
   {
    "duration": 38,
    "start_time": "2021-09-15T19:29:24.974Z"
   },
   {
    "duration": 1469,
    "start_time": "2021-09-15T19:29:32.121Z"
   },
   {
    "duration": 46,
    "start_time": "2021-09-15T19:29:49.369Z"
   },
   {
    "duration": 5,
    "start_time": "2021-09-15T19:30:45.233Z"
   },
   {
    "duration": 27,
    "start_time": "2021-09-15T19:30:45.617Z"
   },
   {
    "duration": 21,
    "start_time": "2021-09-15T19:30:45.942Z"
   },
   {
    "duration": 2493,
    "start_time": "2021-09-15T19:30:47.113Z"
   },
   {
    "duration": 24,
    "start_time": "2021-09-15T19:30:49.609Z"
   },
   {
    "duration": 441,
    "start_time": "2021-09-15T19:30:57.721Z"
   },
   {
    "duration": 31,
    "start_time": "2021-09-15T19:31:10.409Z"
   },
   {
    "duration": 2493,
    "start_time": "2021-09-15T19:31:58.057Z"
   },
   {
    "duration": 70,
    "start_time": "2021-09-15T19:32:18.217Z"
   },
   {
    "duration": 90,
    "start_time": "2021-09-15T19:32:24.328Z"
   },
   {
    "duration": 98,
    "start_time": "2021-09-15T19:32:53.057Z"
   },
   {
    "duration": 2246,
    "start_time": "2021-09-15T19:33:37.353Z"
   },
   {
    "duration": 21,
    "start_time": "2021-09-15T19:33:41.929Z"
   },
   {
    "duration": 28,
    "start_time": "2021-09-15T19:33:46.936Z"
   },
   {
    "duration": 22,
    "start_time": "2021-09-15T19:33:47.447Z"
   },
   {
    "duration": 2471,
    "start_time": "2021-09-15T19:33:49.482Z"
   },
   {
    "duration": 40,
    "start_time": "2021-09-15T19:33:52.792Z"
   },
   {
    "duration": 46,
    "start_time": "2021-09-15T19:33:58.736Z"
   },
   {
    "duration": 211,
    "start_time": "2021-09-15T19:34:00.288Z"
   },
   {
    "duration": 2614,
    "start_time": "2021-09-15T19:35:33.616Z"
   },
   {
    "duration": 32,
    "start_time": "2021-09-15T19:35:38.008Z"
   },
   {
    "duration": 42,
    "start_time": "2021-09-15T19:35:41.808Z"
   },
   {
    "duration": 1073,
    "start_time": "2021-09-15T19:35:44.064Z"
   },
   {
    "duration": 2541,
    "start_time": "2021-09-15T19:36:55.352Z"
   },
   {
    "duration": 29,
    "start_time": "2021-09-15T19:36:58.629Z"
   },
   {
    "duration": 6,
    "start_time": "2021-09-15T19:37:02.384Z"
   },
   {
    "duration": 28,
    "start_time": "2021-09-15T19:37:02.704Z"
   },
   {
    "duration": 21,
    "start_time": "2021-09-15T19:37:03.023Z"
   },
   {
    "duration": 2415,
    "start_time": "2021-09-15T19:37:04.223Z"
   },
   {
    "duration": 24,
    "start_time": "2021-09-15T19:37:08.055Z"
   },
   {
    "duration": 6,
    "start_time": "2021-09-15T19:38:00.247Z"
   },
   {
    "duration": 247,
    "start_time": "2021-09-15T19:39:10.588Z"
   },
   {
    "duration": 7,
    "start_time": "2021-09-15T19:39:23.183Z"
   },
   {
    "duration": 287,
    "start_time": "2021-09-15T19:39:25.543Z"
   },
   {
    "duration": 83,
    "start_time": "2021-09-15T19:39:49.144Z"
   },
   {
    "duration": 35,
    "start_time": "2021-09-15T19:39:55.471Z"
   },
   {
    "duration": 5,
    "start_time": "2021-09-15T19:40:32.711Z"
   },
   {
    "duration": 28,
    "start_time": "2021-09-15T19:41:38.315Z"
   },
   {
    "duration": 249,
    "start_time": "2021-09-15T19:41:48.980Z"
   },
   {
    "duration": 2583,
    "start_time": "2021-09-15T19:41:52.791Z"
   },
   {
    "duration": 98,
    "start_time": "2021-09-15T19:41:55.967Z"
   },
   {
    "duration": 28,
    "start_time": "2021-09-15T19:41:57.155Z"
   },
   {
    "duration": 5,
    "start_time": "2021-09-15T19:43:07.031Z"
   },
   {
    "duration": 1120,
    "start_time": "2021-09-15T19:43:07.039Z"
   },
   {
    "duration": 169,
    "start_time": "2021-09-15T19:43:08.162Z"
   },
   {
    "duration": 131,
    "start_time": "2021-09-15T19:43:08.334Z"
   },
   {
    "duration": 223,
    "start_time": "2021-09-15T19:43:08.468Z"
   },
   {
    "duration": 621,
    "start_time": "2021-09-15T19:43:08.693Z"
   },
   {
    "duration": 173,
    "start_time": "2021-09-15T19:43:09.316Z"
   },
   {
    "duration": 200,
    "start_time": "2021-09-15T19:43:09.492Z"
   },
   {
    "duration": 34,
    "start_time": "2021-09-15T19:43:09.697Z"
   },
   {
    "duration": 64,
    "start_time": "2021-09-15T19:43:09.735Z"
   },
   {
    "duration": 60,
    "start_time": "2021-09-15T19:43:09.802Z"
   },
   {
    "duration": 24,
    "start_time": "2021-09-15T19:43:09.866Z"
   },
   {
    "duration": 27,
    "start_time": "2021-09-15T19:43:09.892Z"
   },
   {
    "duration": 197,
    "start_time": "2021-09-15T19:43:09.921Z"
   },
   {
    "duration": 173,
    "start_time": "2021-09-15T19:43:10.121Z"
   },
   {
    "duration": 638,
    "start_time": "2021-09-15T19:43:10.297Z"
   },
   {
    "duration": 692,
    "start_time": "2021-09-15T19:43:10.938Z"
   },
   {
    "duration": 582,
    "start_time": "2021-09-15T19:43:11.633Z"
   },
   {
    "duration": 37,
    "start_time": "2021-09-15T19:43:13.421Z"
   },
   {
    "duration": 7,
    "start_time": "2021-09-15T19:43:23.229Z"
   },
   {
    "duration": 5,
    "start_time": "2021-09-15T19:43:23.934Z"
   },
   {
    "duration": 44,
    "start_time": "2021-09-15T19:43:27.990Z"
   },
   {
    "duration": 44,
    "start_time": "2021-09-15T19:43:33.446Z"
   },
   {
    "duration": 2406,
    "start_time": "2021-09-15T19:43:43.086Z"
   },
   {
    "duration": 97,
    "start_time": "2021-09-15T19:43:46.102Z"
   },
   {
    "duration": 30,
    "start_time": "2021-09-15T19:43:46.854Z"
   },
   {
    "duration": 2996,
    "start_time": "2021-09-15T19:44:21.519Z"
   },
   {
    "duration": 31,
    "start_time": "2021-09-15T19:44:32.134Z"
   },
   {
    "duration": 63,
    "start_time": "2021-09-15T19:44:38.665Z"
   },
   {
    "duration": 27,
    "start_time": "2021-09-15T19:44:39.811Z"
   },
   {
    "duration": 100,
    "start_time": "2021-09-15T19:46:18.341Z"
   },
   {
    "duration": 40,
    "start_time": "2021-09-15T19:46:24.351Z"
   },
   {
    "duration": 76,
    "start_time": "2021-09-15T19:46:33.758Z"
   },
   {
    "duration": 307,
    "start_time": "2021-09-15T19:47:22.382Z"
   },
   {
    "duration": 68,
    "start_time": "2021-09-15T19:47:26.901Z"
   },
   {
    "duration": 35,
    "start_time": "2021-09-15T19:47:28.557Z"
   },
   {
    "duration": 275,
    "start_time": "2021-09-15T19:47:43.573Z"
   },
   {
    "duration": 27,
    "start_time": "2021-09-15T19:47:44.021Z"
   },
   {
    "duration": 67,
    "start_time": "2021-09-15T19:48:05.320Z"
   },
   {
    "duration": 4,
    "start_time": "2021-09-15T19:53:32.497Z"
   },
   {
    "duration": 43,
    "start_time": "2021-09-15T19:53:32.916Z"
   },
   {
    "duration": 3,
    "start_time": "2021-09-15T19:56:47.736Z"
   },
   {
    "duration": 64,
    "start_time": "2021-09-15T19:56:48.371Z"
   },
   {
    "duration": 38,
    "start_time": "2021-09-15T19:56:57.028Z"
   },
   {
    "duration": 255,
    "start_time": "2021-09-15T19:57:07.516Z"
   },
   {
    "duration": 2210,
    "start_time": "2021-09-15T19:57:21.972Z"
   },
   {
    "duration": 36,
    "start_time": "2021-09-15T19:57:38.403Z"
   },
   {
    "duration": 7,
    "start_time": "2021-09-15T19:58:05.284Z"
   },
   {
    "duration": 6,
    "start_time": "2021-09-15T19:58:06.493Z"
   },
   {
    "duration": 7,
    "start_time": "2021-09-15T19:58:14.195Z"
   },
   {
    "duration": 47,
    "start_time": "2021-09-15T19:58:38.131Z"
   },
   {
    "duration": 38,
    "start_time": "2021-09-15T19:58:43.538Z"
   },
   {
    "duration": 47,
    "start_time": "2021-09-15T19:58:59.515Z"
   },
   {
    "duration": 35,
    "start_time": "2021-09-15T19:58:59.875Z"
   },
   {
    "duration": 2995,
    "start_time": "2021-09-15T19:59:10.235Z"
   },
   {
    "duration": 1037,
    "start_time": "2021-09-15T20:04:41.454Z"
   },
   {
    "duration": 2614,
    "start_time": "2021-09-15T20:04:54.378Z"
   },
   {
    "duration": 4324,
    "start_time": "2021-09-15T20:05:28.314Z"
   },
   {
    "duration": 5257,
    "start_time": "2021-09-15T20:05:37.442Z"
   },
   {
    "duration": 36,
    "start_time": "2021-09-15T20:06:36.412Z"
   },
   {
    "duration": 2627,
    "start_time": "2021-09-15T20:06:48.514Z"
   },
   {
    "duration": 74,
    "start_time": "2021-09-15T20:07:13.817Z"
   },
   {
    "duration": 48,
    "start_time": "2021-09-15T20:07:18.144Z"
   },
   {
    "duration": 1539,
    "start_time": "2021-09-15T20:07:24.257Z"
   },
   {
    "duration": 1254,
    "start_time": "2021-09-15T20:07:31.632Z"
   },
   {
    "duration": 40,
    "start_time": "2021-09-15T20:07:55.305Z"
   },
   {
    "duration": 893,
    "start_time": "2021-09-15T20:07:58.918Z"
   },
   {
    "duration": 323,
    "start_time": "2021-09-15T20:08:22.137Z"
   },
   {
    "duration": 7,
    "start_time": "2021-09-15T20:08:28.297Z"
   },
   {
    "duration": 638,
    "start_time": "2021-09-15T20:08:32.959Z"
   },
   {
    "duration": 111,
    "start_time": "2021-09-15T20:09:05.864Z"
   },
   {
    "duration": 7,
    "start_time": "2021-09-15T20:09:07.519Z"
   },
   {
    "duration": 16772,
    "start_time": "2021-09-15T20:09:09.264Z"
   },
   {
    "duration": 92057,
    "start_time": "2021-09-15T20:09:34.961Z"
   },
   {
    "duration": 250,
    "start_time": "2021-09-15T20:11:07.021Z"
   },
   {
    "duration": 224405,
    "start_time": "2021-09-15T20:11:07.362Z"
   },
   {
    "duration": 6,
    "start_time": "2021-09-15T20:14:51.770Z"
   },
   {
    "duration": 5797,
    "start_time": "2021-09-15T20:14:51.779Z"
   },
   {
    "duration": 272,
    "start_time": "2021-09-15T20:18:22.107Z"
   },
   {
    "duration": 35,
    "start_time": "2021-09-15T20:18:35.067Z"
   },
   {
    "duration": 6,
    "start_time": "2021-09-15T20:18:35.974Z"
   },
   {
    "duration": 5,
    "start_time": "2021-09-15T20:18:37.030Z"
   },
   {
    "duration": 5,
    "start_time": "2021-09-15T20:18:37.255Z"
   },
   {
    "duration": 6,
    "start_time": "2021-09-15T20:18:41.742Z"
   },
   {
    "duration": 1170,
    "start_time": "2021-09-15T20:18:41.751Z"
   },
   {
    "duration": 164,
    "start_time": "2021-09-15T20:18:42.924Z"
   },
   {
    "duration": 132,
    "start_time": "2021-09-15T20:18:43.091Z"
   },
   {
    "duration": 152,
    "start_time": "2021-09-15T20:18:43.226Z"
   },
   {
    "duration": 593,
    "start_time": "2021-09-15T20:18:43.380Z"
   },
   {
    "duration": 161,
    "start_time": "2021-09-15T20:18:43.975Z"
   },
   {
    "duration": 163,
    "start_time": "2021-09-15T20:18:44.139Z"
   },
   {
    "duration": 22,
    "start_time": "2021-09-15T20:18:44.306Z"
   },
   {
    "duration": 62,
    "start_time": "2021-09-15T20:18:44.332Z"
   },
   {
    "duration": 48,
    "start_time": "2021-09-15T20:18:44.397Z"
   },
   {
    "duration": 25,
    "start_time": "2021-09-15T20:18:44.448Z"
   },
   {
    "duration": 27,
    "start_time": "2021-09-15T20:18:44.476Z"
   },
   {
    "duration": 173,
    "start_time": "2021-09-15T20:18:44.505Z"
   },
   {
    "duration": 150,
    "start_time": "2021-09-15T20:18:44.681Z"
   },
   {
    "duration": 591,
    "start_time": "2021-09-15T20:18:44.833Z"
   },
   {
    "duration": 628,
    "start_time": "2021-09-15T20:18:45.426Z"
   },
   {
    "duration": 579,
    "start_time": "2021-09-15T20:18:46.061Z"
   },
   {
    "duration": 4,
    "start_time": "2021-09-15T20:18:46.642Z"
   },
   {
    "duration": 51,
    "start_time": "2021-09-15T20:18:46.648Z"
   },
   {
    "duration": 61,
    "start_time": "2021-09-15T20:18:46.701Z"
   },
   {
    "duration": 7,
    "start_time": "2021-09-15T20:18:46.764Z"
   },
   {
    "duration": 26,
    "start_time": "2021-09-15T20:18:46.774Z"
   },
   {
    "duration": 15,
    "start_time": "2021-09-15T20:18:46.802Z"
   },
   {
    "duration": 40,
    "start_time": "2021-09-15T20:18:46.819Z"
   },
   {
    "duration": 32,
    "start_time": "2021-09-15T20:18:46.862Z"
   },
   {
    "duration": 2616,
    "start_time": "2021-09-15T20:18:46.898Z"
   },
   {
    "duration": 291,
    "start_time": "2021-09-15T20:18:54.422Z"
   },
   {
    "duration": 273,
    "start_time": "2021-09-15T20:19:16.791Z"
   },
   {
    "duration": 6,
    "start_time": "2021-09-15T20:19:35.922Z"
   },
   {
    "duration": 1294,
    "start_time": "2021-09-15T20:19:35.930Z"
   },
   {
    "duration": 163,
    "start_time": "2021-09-15T20:19:37.227Z"
   },
   {
    "duration": 142,
    "start_time": "2021-09-15T20:19:37.394Z"
   },
   {
    "duration": 176,
    "start_time": "2021-09-15T20:19:37.538Z"
   },
   {
    "duration": 601,
    "start_time": "2021-09-15T20:19:37.717Z"
   },
   {
    "duration": 163,
    "start_time": "2021-09-15T20:19:38.321Z"
   },
   {
    "duration": 164,
    "start_time": "2021-09-15T20:19:38.488Z"
   },
   {
    "duration": 27,
    "start_time": "2021-09-15T20:19:38.655Z"
   },
   {
    "duration": 47,
    "start_time": "2021-09-15T20:19:38.684Z"
   },
   {
    "duration": 64,
    "start_time": "2021-09-15T20:19:38.734Z"
   },
   {
    "duration": 27,
    "start_time": "2021-09-15T20:19:38.801Z"
   },
   {
    "duration": 41,
    "start_time": "2021-09-15T20:19:38.831Z"
   },
   {
    "duration": 154,
    "start_time": "2021-09-15T20:19:38.874Z"
   },
   {
    "duration": 142,
    "start_time": "2021-09-15T20:19:39.031Z"
   },
   {
    "duration": 499,
    "start_time": "2021-09-15T20:19:39.175Z"
   },
   {
    "duration": 645,
    "start_time": "2021-09-15T20:19:39.677Z"
   },
   {
    "duration": 584,
    "start_time": "2021-09-15T20:19:40.324Z"
   },
   {
    "duration": 4,
    "start_time": "2021-09-15T20:19:40.911Z"
   },
   {
    "duration": 77,
    "start_time": "2021-09-15T20:19:40.917Z"
   },
   {
    "duration": 37,
    "start_time": "2021-09-15T20:19:40.996Z"
   },
   {
    "duration": 29,
    "start_time": "2021-09-15T20:19:41.035Z"
   },
   {
    "duration": 7,
    "start_time": "2021-09-15T20:19:41.068Z"
   },
   {
    "duration": 9,
    "start_time": "2021-09-15T20:19:41.078Z"
   },
   {
    "duration": 76,
    "start_time": "2021-09-15T20:19:41.089Z"
   },
   {
    "duration": 38,
    "start_time": "2021-09-15T20:19:41.168Z"
   },
   {
    "duration": 2671,
    "start_time": "2021-09-15T20:19:41.209Z"
   },
   {
    "duration": 284,
    "start_time": "2021-09-15T20:19:46.389Z"
   },
   {
    "duration": 292,
    "start_time": "2021-09-15T20:19:57.662Z"
   },
   {
    "duration": 138,
    "start_time": "2021-09-15T20:20:44.291Z"
   },
   {
    "duration": 570,
    "start_time": "2021-09-15T20:20:45.909Z"
   },
   {
    "duration": 668,
    "start_time": "2021-09-15T20:20:46.482Z"
   },
   {
    "duration": 530,
    "start_time": "2021-09-15T20:20:47.153Z"
   },
   {
    "duration": 4,
    "start_time": "2021-09-15T20:20:47.685Z"
   },
   {
    "duration": 44,
    "start_time": "2021-09-15T20:20:48.670Z"
   },
   {
    "duration": 63,
    "start_time": "2021-09-15T20:21:02.960Z"
   },
   {
    "duration": 36,
    "start_time": "2021-09-15T20:21:05.694Z"
   },
   {
    "duration": 8,
    "start_time": "2021-09-15T20:21:06.429Z"
   },
   {
    "duration": 6,
    "start_time": "2021-09-15T20:21:07.133Z"
   },
   {
    "duration": 6,
    "start_time": "2021-09-15T20:21:07.461Z"
   },
   {
    "duration": 28,
    "start_time": "2021-09-15T20:21:08.069Z"
   },
   {
    "duration": 35,
    "start_time": "2021-09-15T20:21:08.293Z"
   },
   {
    "duration": 2624,
    "start_time": "2021-09-15T20:21:08.998Z"
   },
   {
    "duration": 40,
    "start_time": "2021-09-15T20:21:13.453Z"
   },
   {
    "duration": 105,
    "start_time": "2021-09-15T20:21:18.926Z"
   },
   {
    "duration": 242,
    "start_time": "2021-09-15T20:21:25.422Z"
   },
   {
    "duration": 2829,
    "start_time": "2021-09-15T20:21:29.878Z"
   },
   {
    "duration": 58,
    "start_time": "2021-09-15T20:21:41.981Z"
   },
   {
    "duration": 41,
    "start_time": "2021-09-15T20:21:44.725Z"
   },
   {
    "duration": 918,
    "start_time": "2021-09-15T20:22:01.286Z"
   },
   {
    "duration": 34,
    "start_time": "2021-09-15T20:22:29.173Z"
   },
   {
    "duration": 73,
    "start_time": "2021-09-15T20:22:41.237Z"
   },
   {
    "duration": 30,
    "start_time": "2021-09-15T20:22:44.030Z"
   },
   {
    "duration": 1913,
    "start_time": "2021-09-15T20:23:03.405Z"
   },
   {
    "duration": 6,
    "start_time": "2021-09-15T20:24:07.825Z"
   },
   {
    "duration": 1097,
    "start_time": "2021-09-15T20:24:07.834Z"
   },
   {
    "duration": 164,
    "start_time": "2021-09-15T20:24:08.935Z"
   },
   {
    "duration": 138,
    "start_time": "2021-09-15T20:24:09.102Z"
   },
   {
    "duration": 169,
    "start_time": "2021-09-15T20:24:09.242Z"
   },
   {
    "duration": 584,
    "start_time": "2021-09-15T20:24:09.413Z"
   },
   {
    "duration": 167,
    "start_time": "2021-09-15T20:24:09.999Z"
   },
   {
    "duration": 173,
    "start_time": "2021-09-15T20:24:10.170Z"
   },
   {
    "duration": 27,
    "start_time": "2021-09-15T20:24:10.346Z"
   },
   {
    "duration": 81,
    "start_time": "2021-09-15T20:24:10.375Z"
   },
   {
    "duration": 70,
    "start_time": "2021-09-15T20:24:10.459Z"
   },
   {
    "duration": 45,
    "start_time": "2021-09-15T20:24:10.531Z"
   },
   {
    "duration": 34,
    "start_time": "2021-09-15T20:24:10.579Z"
   },
   {
    "duration": 161,
    "start_time": "2021-09-15T20:24:10.616Z"
   },
   {
    "duration": 152,
    "start_time": "2021-09-15T20:24:10.780Z"
   },
   {
    "duration": 551,
    "start_time": "2021-09-15T20:24:10.935Z"
   },
   {
    "duration": 584,
    "start_time": "2021-09-15T20:24:11.489Z"
   },
   {
    "duration": 538,
    "start_time": "2021-09-15T20:24:12.076Z"
   },
   {
    "duration": 4,
    "start_time": "2021-09-15T20:24:12.616Z"
   },
   {
    "duration": 62,
    "start_time": "2021-09-15T20:24:12.622Z"
   },
   {
    "duration": 36,
    "start_time": "2021-09-15T20:24:12.687Z"
   },
   {
    "duration": 29,
    "start_time": "2021-09-15T20:24:12.725Z"
   },
   {
    "duration": 34,
    "start_time": "2021-09-15T20:24:12.758Z"
   },
   {
    "duration": 25,
    "start_time": "2021-09-15T20:24:12.795Z"
   },
   {
    "duration": 52,
    "start_time": "2021-09-15T20:24:12.823Z"
   },
   {
    "duration": 36,
    "start_time": "2021-09-15T20:24:12.878Z"
   },
   {
    "duration": 2718,
    "start_time": "2021-09-15T20:24:12.916Z"
   },
   {
    "duration": 56,
    "start_time": "2021-09-15T20:24:18.444Z"
   },
   {
    "duration": 27,
    "start_time": "2021-09-15T20:24:19.365Z"
   },
   {
    "duration": 1385,
    "start_time": "2021-09-15T20:24:21.909Z"
   },
   {
    "duration": 7,
    "start_time": "2021-09-15T20:25:16.620Z"
   },
   {
    "duration": 101,
    "start_time": "2021-09-15T20:25:23.733Z"
   },
   {
    "duration": 6,
    "start_time": "2021-09-15T20:25:34.080Z"
   },
   {
    "duration": 1231,
    "start_time": "2021-09-15T20:25:34.089Z"
   },
   {
    "duration": 180,
    "start_time": "2021-09-15T20:25:35.324Z"
   },
   {
    "duration": 126,
    "start_time": "2021-09-15T20:25:35.507Z"
   },
   {
    "duration": 161,
    "start_time": "2021-09-15T20:25:35.635Z"
   },
   {
    "duration": 596,
    "start_time": "2021-09-15T20:25:35.799Z"
   },
   {
    "duration": 164,
    "start_time": "2021-09-15T20:25:36.398Z"
   },
   {
    "duration": 161,
    "start_time": "2021-09-15T20:25:36.565Z"
   },
   {
    "duration": 31,
    "start_time": "2021-09-15T20:25:36.731Z"
   },
   {
    "duration": 54,
    "start_time": "2021-09-15T20:25:36.765Z"
   },
   {
    "duration": 53,
    "start_time": "2021-09-15T20:25:36.821Z"
   },
   {
    "duration": 26,
    "start_time": "2021-09-15T20:25:36.877Z"
   },
   {
    "duration": 27,
    "start_time": "2021-09-15T20:25:36.905Z"
   },
   {
    "duration": 168,
    "start_time": "2021-09-15T20:25:36.935Z"
   },
   {
    "duration": 143,
    "start_time": "2021-09-15T20:25:37.106Z"
   },
   {
    "duration": 510,
    "start_time": "2021-09-15T20:25:37.251Z"
   },
   {
    "duration": 589,
    "start_time": "2021-09-15T20:25:37.764Z"
   },
   {
    "duration": 501,
    "start_time": "2021-09-15T20:25:38.355Z"
   },
   {
    "duration": 8,
    "start_time": "2021-09-15T20:25:38.861Z"
   },
   {
    "duration": 135,
    "start_time": "2021-09-15T20:25:38.871Z"
   },
   {
    "duration": 38,
    "start_time": "2021-09-15T20:25:39.008Z"
   },
   {
    "duration": 17,
    "start_time": "2021-09-15T20:25:39.049Z"
   },
   {
    "duration": 35,
    "start_time": "2021-09-15T20:25:39.068Z"
   },
   {
    "duration": 24,
    "start_time": "2021-09-15T20:25:39.106Z"
   },
   {
    "duration": 72,
    "start_time": "2021-09-15T20:25:39.132Z"
   },
   {
    "duration": 37,
    "start_time": "2021-09-15T20:25:39.207Z"
   },
   {
    "duration": 1534,
    "start_time": "2021-09-15T20:26:22.085Z"
   },
   {
    "duration": 1166,
    "start_time": "2021-09-15T20:26:23.622Z"
   },
   {
    "duration": 171,
    "start_time": "2021-09-15T20:26:24.791Z"
   },
   {
    "duration": 133,
    "start_time": "2021-09-15T20:26:24.964Z"
   },
   {
    "duration": 165,
    "start_time": "2021-09-15T20:26:25.100Z"
   },
   {
    "duration": 627,
    "start_time": "2021-09-15T20:26:25.268Z"
   },
   {
    "duration": 165,
    "start_time": "2021-09-15T20:26:25.898Z"
   },
   {
    "duration": 171,
    "start_time": "2021-09-15T20:26:26.065Z"
   },
   {
    "duration": 32,
    "start_time": "2021-09-15T20:26:26.241Z"
   },
   {
    "duration": 59,
    "start_time": "2021-09-15T20:26:26.277Z"
   },
   {
    "duration": 55,
    "start_time": "2021-09-15T20:26:26.339Z"
   },
   {
    "duration": 31,
    "start_time": "2021-09-15T20:26:26.396Z"
   },
   {
    "duration": 34,
    "start_time": "2021-09-15T20:26:26.430Z"
   },
   {
    "duration": 161,
    "start_time": "2021-09-15T20:26:26.467Z"
   },
   {
    "duration": 149,
    "start_time": "2021-09-15T20:26:26.630Z"
   },
   {
    "duration": 552,
    "start_time": "2021-09-15T20:26:26.782Z"
   },
   {
    "duration": 665,
    "start_time": "2021-09-15T20:26:27.336Z"
   },
   {
    "duration": 534,
    "start_time": "2021-09-15T20:26:28.003Z"
   },
   {
    "duration": 7,
    "start_time": "2021-09-15T20:26:28.539Z"
   },
   {
    "duration": 123,
    "start_time": "2021-09-15T20:26:28.549Z"
   },
   {
    "duration": 54,
    "start_time": "2021-09-15T20:26:33.140Z"
   },
   {
    "duration": 29,
    "start_time": "2021-09-15T20:26:35.146Z"
   },
   {
    "duration": 4,
    "start_time": "2021-09-15T20:26:49.762Z"
   },
   {
    "duration": 94,
    "start_time": "2021-09-15T20:26:49.977Z"
   },
   {
    "duration": 42,
    "start_time": "2021-09-15T20:26:51.125Z"
   },
   {
    "duration": 25,
    "start_time": "2021-09-15T20:26:51.611Z"
   },
   {
    "duration": 1371,
    "start_time": "2021-09-15T20:27:14.506Z"
   },
   {
    "duration": 1288,
    "start_time": "2021-09-15T20:27:38.163Z"
   },
   {
    "duration": 1504,
    "start_time": "2021-09-15T20:28:18.877Z"
   },
   {
    "duration": 1856,
    "start_time": "2021-09-15T20:28:20.385Z"
   },
   {
    "duration": 186,
    "start_time": "2021-09-15T20:28:22.245Z"
   },
   {
    "duration": 144,
    "start_time": "2021-09-15T20:28:22.434Z"
   },
   {
    "duration": 175,
    "start_time": "2021-09-15T20:28:22.581Z"
   },
   {
    "duration": 679,
    "start_time": "2021-09-15T20:28:22.763Z"
   },
   {
    "duration": 164,
    "start_time": "2021-09-15T20:28:23.444Z"
   },
   {
    "duration": 169,
    "start_time": "2021-09-15T20:28:23.611Z"
   },
   {
    "duration": 23,
    "start_time": "2021-09-15T20:28:23.784Z"
   },
   {
    "duration": 65,
    "start_time": "2021-09-15T20:28:23.810Z"
   },
   {
    "duration": 54,
    "start_time": "2021-09-15T20:28:23.878Z"
   },
   {
    "duration": 28,
    "start_time": "2021-09-15T20:28:23.935Z"
   },
   {
    "duration": 36,
    "start_time": "2021-09-15T20:28:23.965Z"
   },
   {
    "duration": 161,
    "start_time": "2021-09-15T20:28:24.004Z"
   },
   {
    "duration": 146,
    "start_time": "2021-09-15T20:28:24.168Z"
   },
   {
    "duration": 574,
    "start_time": "2021-09-15T20:28:24.317Z"
   },
   {
    "duration": 647,
    "start_time": "2021-09-15T20:28:24.893Z"
   },
   {
    "duration": 519,
    "start_time": "2021-09-15T20:28:25.542Z"
   },
   {
    "duration": 4,
    "start_time": "2021-09-15T20:28:26.064Z"
   },
   {
    "duration": 135,
    "start_time": "2021-09-15T20:28:26.070Z"
   },
   {
    "duration": 57,
    "start_time": "2021-09-15T20:28:26.208Z"
   },
   {
    "duration": 38,
    "start_time": "2021-09-15T20:28:26.268Z"
   },
   {
    "duration": 1405,
    "start_time": "2021-09-15T20:28:26.309Z"
   },
   {
    "duration": 1368,
    "start_time": "2021-09-15T20:28:30.369Z"
   },
   {
    "duration": 60,
    "start_time": "2021-09-15T20:28:31.740Z"
   },
   {
    "duration": 1318,
    "start_time": "2021-09-15T20:28:57.001Z"
   },
   {
    "duration": 71,
    "start_time": "2021-09-15T20:29:04.759Z"
   },
   {
    "duration": 1510,
    "start_time": "2021-09-15T20:29:07.113Z"
   },
   {
    "duration": 7,
    "start_time": "2021-09-15T20:29:12.257Z"
   },
   {
    "duration": 55701,
    "start_time": "2021-09-15T20:29:13.033Z"
   },
   {
    "duration": 278328,
    "start_time": "2021-09-15T20:30:10.866Z"
   },
   {
    "duration": 27142,
    "start_time": "2021-09-15T20:34:53.621Z"
   },
   {
    "duration": 331,
    "start_time": "2021-09-15T20:37:41.049Z"
   },
   {
    "duration": 22,
    "start_time": "2021-09-15T20:38:02.301Z"
   },
   {
    "duration": 1491,
    "start_time": "2021-09-15T20:38:54.824Z"
   },
   {
    "duration": 12175,
    "start_time": "2021-09-15T20:39:35.694Z"
   },
   {
    "duration": 8393,
    "start_time": "2021-09-15T20:40:10.872Z"
   },
   {
    "duration": 10365,
    "start_time": "2021-09-15T20:40:25.709Z"
   },
   {
    "duration": 1004,
    "start_time": "2021-09-16T18:58:08.463Z"
   },
   {
    "duration": 729,
    "start_time": "2021-09-16T18:58:11.729Z"
   },
   {
    "duration": 157,
    "start_time": "2021-09-16T18:58:18.934Z"
   },
   {
    "duration": 91,
    "start_time": "2021-09-16T18:58:20.750Z"
   },
   {
    "duration": 91,
    "start_time": "2021-09-16T19:06:50.470Z"
   },
   {
    "duration": 324,
    "start_time": "2021-09-16T19:06:50.239Z"
   },
   {
    "duration": 322,
    "start_time": "2021-09-16T19:06:50.242Z"
   },
   {
    "duration": 320,
    "start_time": "2021-09-16T19:06:50.245Z"
   },
   {
    "duration": 318,
    "start_time": "2021-09-16T19:06:50.248Z"
   },
   {
    "duration": 317,
    "start_time": "2021-09-16T19:06:50.250Z"
   },
   {
    "duration": 316,
    "start_time": "2021-09-16T19:06:50.252Z"
   },
   {
    "duration": 314,
    "start_time": "2021-09-16T19:06:50.255Z"
   },
   {
    "duration": 312,
    "start_time": "2021-09-16T19:06:50.258Z"
   },
   {
    "duration": 311,
    "start_time": "2021-09-16T19:06:50.260Z"
   },
   {
    "duration": 3,
    "start_time": "2021-09-16T19:07:11.587Z"
   },
   {
    "duration": 724,
    "start_time": "2021-09-16T19:07:11.795Z"
   },
   {
    "duration": 158,
    "start_time": "2021-09-16T19:07:12.521Z"
   },
   {
    "duration": 100,
    "start_time": "2021-09-16T19:07:12.681Z"
   },
   {
    "duration": 144,
    "start_time": "2021-09-16T19:07:13.179Z"
   },
   {
    "duration": 151,
    "start_time": "2021-09-16T19:07:14.643Z"
   },
   {
    "duration": 120,
    "start_time": "2021-09-16T19:07:16.072Z"
   },
   {
    "duration": 23,
    "start_time": "2021-09-16T19:07:20.370Z"
   },
   {
    "duration": 40,
    "start_time": "2021-09-16T19:07:22.403Z"
   },
   {
    "duration": 39,
    "start_time": "2021-09-16T19:07:22.963Z"
   },
   {
    "duration": 19,
    "start_time": "2021-09-16T19:07:49.800Z"
   },
   {
    "duration": 17,
    "start_time": "2021-09-16T19:07:54.227Z"
   },
   {
    "duration": 22,
    "start_time": "2021-09-16T19:08:31.378Z"
   },
   {
    "duration": 91,
    "start_time": "2021-09-16T19:08:49.730Z"
   },
   {
    "duration": 145,
    "start_time": "2021-09-16T19:08:55.131Z"
   },
   {
    "duration": 319,
    "start_time": "2021-09-16T19:08:58.674Z"
   },
   {
    "duration": 327,
    "start_time": "2021-09-16T19:08:59.739Z"
   },
   {
    "duration": 404,
    "start_time": "2021-09-16T19:09:00.547Z"
   },
   {
    "duration": 955,
    "start_time": "2021-09-16T19:10:11.435Z"
   },
   {
    "duration": 279,
    "start_time": "2021-09-16T19:10:36.007Z"
   },
   {
    "duration": 325,
    "start_time": "2021-09-16T19:10:41.522Z"
   },
   {
    "duration": 3,
    "start_time": "2021-09-16T19:10:48.898Z"
   },
   {
    "duration": 80,
    "start_time": "2021-09-16T19:10:49.082Z"
   },
   {
    "duration": 1590,
    "start_time": "2021-09-16T19:10:49.762Z"
   },
   {
    "duration": 3,
    "start_time": "2021-09-16T19:11:02.797Z"
   },
   {
    "duration": 746,
    "start_time": "2021-09-16T19:11:02.802Z"
   },
   {
    "duration": 195,
    "start_time": "2021-09-16T19:11:03.550Z"
   },
   {
    "duration": 116,
    "start_time": "2021-09-16T19:11:03.748Z"
   },
   {
    "duration": 152,
    "start_time": "2021-09-16T19:11:03.866Z"
   },
   {
    "duration": 160,
    "start_time": "2021-09-16T19:11:04.020Z"
   },
   {
    "duration": 188,
    "start_time": "2021-09-16T19:11:04.182Z"
   },
   {
    "duration": 28,
    "start_time": "2021-09-16T19:11:04.372Z"
   },
   {
    "duration": 63,
    "start_time": "2021-09-16T19:11:04.403Z"
   },
   {
    "duration": 55,
    "start_time": "2021-09-16T19:11:04.468Z"
   },
   {
    "duration": 41,
    "start_time": "2021-09-16T19:11:04.525Z"
   },
   {
    "duration": 21,
    "start_time": "2021-09-16T19:11:04.568Z"
   },
   {
    "duration": 97,
    "start_time": "2021-09-16T19:11:04.591Z"
   },
   {
    "duration": 152,
    "start_time": "2021-09-16T19:11:04.689Z"
   },
   {
    "duration": 421,
    "start_time": "2021-09-16T19:11:04.843Z"
   },
   {
    "duration": 497,
    "start_time": "2021-09-16T19:11:05.265Z"
   },
   {
    "duration": 313,
    "start_time": "2021-09-16T19:11:05.764Z"
   },
   {
    "duration": 3,
    "start_time": "2021-09-16T19:11:06.079Z"
   },
   {
    "duration": 1101,
    "start_time": "2021-09-16T19:11:12.426Z"
   },
   {
    "duration": 23,
    "start_time": "2021-09-16T19:11:46.194Z"
   },
   {
    "duration": 9,
    "start_time": "2021-09-16T19:11:47.620Z"
   },
   {
    "duration": 702,
    "start_time": "2021-09-16T19:11:49.985Z"
   },
   {
    "duration": 3,
    "start_time": "2021-09-16T19:12:03.031Z"
   },
   {
    "duration": 791,
    "start_time": "2021-09-16T19:12:03.036Z"
   },
   {
    "duration": 166,
    "start_time": "2021-09-16T19:12:03.830Z"
   },
   {
    "duration": 95,
    "start_time": "2021-09-16T19:12:03.998Z"
   },
   {
    "duration": 153,
    "start_time": "2021-09-16T19:12:04.094Z"
   },
   {
    "duration": 161,
    "start_time": "2021-09-16T19:12:04.248Z"
   },
   {
    "duration": 123,
    "start_time": "2021-09-16T19:12:04.411Z"
   },
   {
    "duration": 20,
    "start_time": "2021-09-16T19:12:04.536Z"
   },
   {
    "duration": 39,
    "start_time": "2021-09-16T19:12:04.558Z"
   },
   {
    "duration": 53,
    "start_time": "2021-09-16T19:12:04.599Z"
   },
   {
    "duration": 20,
    "start_time": "2021-09-16T19:12:04.654Z"
   },
   {
    "duration": 23,
    "start_time": "2021-09-16T19:12:04.676Z"
   },
   {
    "duration": 90,
    "start_time": "2021-09-16T19:12:04.700Z"
   },
   {
    "duration": 149,
    "start_time": "2021-09-16T19:12:04.792Z"
   },
   {
    "duration": 281,
    "start_time": "2021-09-16T19:12:04.943Z"
   },
   {
    "duration": 321,
    "start_time": "2021-09-16T19:12:05.226Z"
   },
   {
    "duration": 287,
    "start_time": "2021-09-16T19:12:05.548Z"
   },
   {
    "duration": 279,
    "start_time": "2021-09-16T19:12:05.836Z"
   },
   {
    "duration": 330,
    "start_time": "2021-09-16T19:12:05.786Z"
   },
   {
    "duration": 328,
    "start_time": "2021-09-16T19:12:05.789Z"
   },
   {
    "duration": 23,
    "start_time": "2021-09-16T19:12:17.298Z"
   },
   {
    "duration": 10,
    "start_time": "2021-09-16T19:12:24.748Z"
   },
   {
    "duration": 4,
    "start_time": "2021-09-16T19:12:29.161Z"
   },
   {
    "duration": 25,
    "start_time": "2021-09-16T19:12:29.522Z"
   },
   {
    "duration": 762,
    "start_time": "2021-09-16T19:12:30.275Z"
   },
   {
    "duration": 14,
    "start_time": "2021-09-16T19:12:31.682Z"
   },
   {
    "duration": 34,
    "start_time": "2021-09-16T19:12:39.890Z"
   },
   {
    "duration": 13,
    "start_time": "2021-09-16T19:12:45.266Z"
   },
   {
    "duration": 14,
    "start_time": "2021-09-16T19:13:06.866Z"
   },
   {
    "duration": 1213,
    "start_time": "2021-09-16T19:21:23.762Z"
   },
   {
    "duration": 885,
    "start_time": "2021-09-16T19:21:27.288Z"
   },
   {
    "duration": 357,
    "start_time": "2021-09-16T19:21:29.402Z"
   },
   {
    "duration": 98,
    "start_time": "2021-09-16T19:21:33.016Z"
   },
   {
    "duration": 303,
    "start_time": "2021-09-16T19:26:33.577Z"
   },
   {
    "duration": 392,
    "start_time": "2021-09-16T19:28:32.958Z"
   },
   {
    "duration": 308,
    "start_time": "2021-09-16T19:29:48.275Z"
   },
   {
    "duration": 291,
    "start_time": "2021-09-16T19:29:58.654Z"
   },
   {
    "duration": 317,
    "start_time": "2021-09-16T19:30:39.998Z"
   },
   {
    "duration": 782,
    "start_time": "2021-09-16T19:30:54.558Z"
   },
   {
    "duration": 467,
    "start_time": "2021-09-16T19:30:59.390Z"
   },
   {
    "duration": 264,
    "start_time": "2021-09-16T19:32:16.293Z"
   },
   {
    "duration": 144336,
    "start_time": "2021-09-16T19:32:17.734Z"
   },
   {
    "duration": 3,
    "start_time": "2021-09-16T19:35:36.610Z"
   },
   {
    "duration": 2596,
    "start_time": "2021-09-16T19:35:37.999Z"
   },
   {
    "duration": 82863,
    "start_time": "2021-09-16T19:35:53.007Z"
   },
   {
    "duration": 3,
    "start_time": "2021-09-16T19:37:52.405Z"
   },
   {
    "duration": 153358,
    "start_time": "2021-09-16T19:37:53.645Z"
   },
   {
    "duration": 3,
    "start_time": "2021-09-16T19:41:19.233Z"
   },
   {
    "duration": 5781,
    "start_time": "2021-09-16T19:42:52.617Z"
   },
   {
    "duration": 5188,
    "start_time": "2021-09-16T19:43:13.946Z"
   },
   {
    "duration": 3,
    "start_time": "2021-09-16T19:43:57.410Z"
   },
   {
    "duration": 90,
    "start_time": "2021-09-16T19:44:07.546Z"
   },
   {
    "duration": 5204,
    "start_time": "2021-09-16T19:44:15.827Z"
   },
   {
    "duration": 83,
    "start_time": "2021-09-16T19:45:41.626Z"
   },
   {
    "duration": 93,
    "start_time": "2021-09-16T19:45:45.298Z"
   },
   {
    "duration": 251,
    "start_time": "2021-09-16T19:45:49.717Z"
   },
   {
    "duration": 5256,
    "start_time": "2021-09-16T19:45:56.606Z"
   },
   {
    "duration": 4,
    "start_time": "2021-09-16T19:51:01.502Z"
   },
   {
    "duration": 3,
    "start_time": "2021-09-16T19:51:13.946Z"
   },
   {
    "duration": 3,
    "start_time": "2021-09-16T19:51:25.786Z"
   },
   {
    "duration": 3,
    "start_time": "2021-09-16T19:51:34.417Z"
   },
   {
    "duration": 3,
    "start_time": "2021-09-16T19:51:43.074Z"
   },
   {
    "duration": 256,
    "start_time": "2021-09-16T19:52:16.865Z"
   },
   {
    "duration": 260,
    "start_time": "2021-09-16T19:52:20.329Z"
   },
   {
    "duration": 271,
    "start_time": "2021-09-16T19:56:28.721Z"
   },
   {
    "duration": 267,
    "start_time": "2021-09-16T19:56:40.880Z"
   },
   {
    "duration": 267,
    "start_time": "2021-09-16T19:56:59.336Z"
   },
   {
    "duration": 4,
    "start_time": "2021-09-16T19:57:20.064Z"
   },
   {
    "duration": 5,
    "start_time": "2021-09-16T19:57:33.904Z"
   },
   {
    "duration": 6,
    "start_time": "2021-09-16T20:02:12.155Z"
   },
   {
    "duration": 152005,
    "start_time": "2021-09-16T20:02:25.411Z"
   },
   {
    "duration": 5218,
    "start_time": "2021-09-16T20:05:05.808Z"
   },
   {
    "duration": 1344456,
    "start_time": "2021-09-16T20:07:27.810Z"
   },
   {
    "duration": 196,
    "start_time": "2021-09-16T20:30:52.946Z"
   },
   {
    "duration": 68076,
    "start_time": "2021-09-16T20:31:14.804Z"
   },
   {
    "duration": 5,
    "start_time": "2021-09-16T20:32:34.510Z"
   },
   {
    "duration": 5,
    "start_time": "2021-09-16T20:32:59.975Z"
   },
   {
    "duration": 5,
    "start_time": "2021-09-16T20:33:11.687Z"
   },
   {
    "duration": 5086,
    "start_time": "2021-09-16T20:33:23.591Z"
   },
   {
    "duration": 165,
    "start_time": "2021-09-16T20:33:49.182Z"
   },
   {
    "duration": 21059,
    "start_time": "2021-09-16T20:33:54.183Z"
   },
   {
    "duration": 335,
    "start_time": "2021-09-17T18:57:16.870Z"
   },
   {
    "duration": 1331,
    "start_time": "2021-09-17T18:57:24.010Z"
   },
   {
    "duration": 1133,
    "start_time": "2021-09-17T18:57:25.344Z"
   },
   {
    "duration": 165,
    "start_time": "2021-09-17T18:57:26.480Z"
   },
   {
    "duration": 136,
    "start_time": "2021-09-17T18:57:26.648Z"
   },
   {
    "duration": 162,
    "start_time": "2021-09-17T18:57:26.787Z"
   },
   {
    "duration": 167,
    "start_time": "2021-09-17T18:57:26.952Z"
   },
   {
    "duration": 180,
    "start_time": "2021-09-17T18:57:27.122Z"
   },
   {
    "duration": 26,
    "start_time": "2021-09-17T18:57:27.305Z"
   },
   {
    "duration": 66,
    "start_time": "2021-09-17T18:57:27.337Z"
   },
   {
    "duration": 49,
    "start_time": "2021-09-17T18:57:27.407Z"
   },
   {
    "duration": 43,
    "start_time": "2021-09-17T18:57:27.459Z"
   },
   {
    "duration": 29,
    "start_time": "2021-09-17T18:57:27.505Z"
   },
   {
    "duration": 180,
    "start_time": "2021-09-17T18:57:27.537Z"
   },
   {
    "duration": 223,
    "start_time": "2021-09-17T18:57:27.720Z"
   },
   {
    "duration": 596,
    "start_time": "2021-09-17T18:57:27.946Z"
   },
   {
    "duration": 605,
    "start_time": "2021-09-17T18:57:28.544Z"
   },
   {
    "duration": 520,
    "start_time": "2021-09-17T18:57:29.151Z"
   },
   {
    "duration": 47,
    "start_time": "2021-09-17T18:57:29.673Z"
   },
   {
    "duration": 16,
    "start_time": "2021-09-17T18:57:29.722Z"
   },
   {
    "duration": 11,
    "start_time": "2021-09-17T18:57:29.741Z"
   },
   {
    "duration": 68,
    "start_time": "2021-09-17T18:57:29.754Z"
   },
   {
    "duration": 1498,
    "start_time": "2021-09-17T18:57:29.824Z"
   },
   {
    "duration": 21,
    "start_time": "2021-09-17T18:57:31.325Z"
   },
   {
    "duration": 1739,
    "start_time": "2021-09-17T18:57:31.348Z"
   },
   {
    "duration": 297,
    "start_time": "2021-09-17T18:57:33.090Z"
   },
   {
    "duration": 3066,
    "start_time": "2021-09-17T18:57:36.850Z"
   },
   {
    "duration": 8411,
    "start_time": "2021-09-17T18:57:45.344Z"
   },
   {
    "duration": 11989,
    "start_time": "2021-09-17T18:57:56.557Z"
   },
   {
    "duration": 35860,
    "start_time": "2021-09-17T18:58:21.493Z"
   },
   {
    "duration": 104511,
    "start_time": "2021-09-17T18:59:00.719Z"
   },
   {
    "duration": 206,
    "start_time": "2021-09-17T19:00:51.610Z"
   },
   {
    "duration": 22475,
    "start_time": "2021-09-17T19:01:08.309Z"
   },
   {
    "duration": 249,
    "start_time": "2021-09-17T19:01:48.833Z"
   },
   {
    "duration": 108359,
    "start_time": "2021-09-17T19:04:00.918Z"
   },
   {
    "duration": 5,
    "start_time": "2021-09-17T19:06:17.352Z"
   },
   {
    "duration": 238,
    "start_time": "2021-09-17T19:06:23.396Z"
   },
   {
    "duration": 5,
    "start_time": "2021-09-17T19:06:26.579Z"
   },
   {
    "duration": 5,
    "start_time": "2021-09-17T19:06:33.707Z"
   },
   {
    "duration": 5,
    "start_time": "2021-09-17T19:06:59.371Z"
   },
   {
    "duration": 5,
    "start_time": "2021-09-17T19:07:11.011Z"
   },
   {
    "duration": 6761,
    "start_time": "2021-09-17T19:07:22.834Z"
   },
   {
    "duration": 245,
    "start_time": "2021-09-17T19:08:10.273Z"
   },
   {
    "duration": 277,
    "start_time": "2021-09-17T19:08:20.459Z"
   },
   {
    "duration": 1070468,
    "start_time": "2021-09-17T19:08:39.523Z"
   },
   {
    "duration": 4,
    "start_time": "2021-09-17T19:26:56.319Z"
   },
   {
    "duration": 262,
    "start_time": "2021-09-17T19:27:03.975Z"
   },
   {
    "duration": 5,
    "start_time": "2021-09-17T19:27:13.271Z"
   },
   {
    "duration": 6,
    "start_time": "2021-09-17T19:27:17.158Z"
   },
   {
    "duration": 5,
    "start_time": "2021-09-17T19:27:22.222Z"
   },
   {
    "duration": 6,
    "start_time": "2021-09-17T19:27:26.614Z"
   },
   {
    "duration": 7,
    "start_time": "2021-09-17T19:27:37.295Z"
   },
   {
    "duration": 6,
    "start_time": "2021-09-17T19:27:40.646Z"
   },
   {
    "duration": 7,
    "start_time": "2021-09-17T19:27:45.816Z"
   },
   {
    "duration": 84005,
    "start_time": "2021-09-17T19:29:04.668Z"
   },
   {
    "duration": 182,
    "start_time": "2021-09-17T19:32:21.147Z"
   },
   {
    "duration": 306,
    "start_time": "2021-09-17T19:32:57.813Z"
   },
   {
    "duration": 318,
    "start_time": "2021-09-17T19:37:22.405Z"
   },
   {
    "duration": 8,
    "start_time": "2021-09-17T19:37:36.619Z"
   },
   {
    "duration": 271,
    "start_time": "2021-09-17T19:37:40.818Z"
   },
   {
    "duration": 422,
    "start_time": "2021-09-17T19:37:43.307Z"
   },
   {
    "duration": 291,
    "start_time": "2021-09-17T19:37:58.997Z"
   },
   {
    "duration": 5,
    "start_time": "2021-09-17T19:38:01.716Z"
   },
   {
    "duration": 1692,
    "start_time": "2021-09-17T19:38:17.076Z"
   },
   {
    "duration": 253,
    "start_time": "2021-09-17T19:38:23.068Z"
   },
   {
    "duration": 251,
    "start_time": "2021-09-17T19:38:49.724Z"
   },
   {
    "duration": 7,
    "start_time": "2021-09-17T19:39:16.587Z"
   },
   {
    "duration": 7,
    "start_time": "2021-09-17T19:39:58.819Z"
   },
   {
    "duration": 287,
    "start_time": "2021-09-17T19:40:04.347Z"
   },
   {
    "duration": 9,
    "start_time": "2021-09-17T19:40:10.850Z"
   },
   {
    "duration": 7,
    "start_time": "2021-09-17T19:40:13.395Z"
   },
   {
    "duration": 8,
    "start_time": "2021-09-17T19:40:16.643Z"
   },
   {
    "duration": 7,
    "start_time": "2021-09-17T19:40:31.099Z"
   },
   {
    "duration": 6,
    "start_time": "2021-09-17T19:40:36.867Z"
   },
   {
    "duration": 4038,
    "start_time": "2021-09-17T19:40:42.356Z"
   },
   {
    "duration": 90,
    "start_time": "2021-09-17T19:40:48.386Z"
   },
   {
    "duration": 127,
    "start_time": "2021-09-17T19:40:51.172Z"
   },
   {
    "duration": 5,
    "start_time": "2021-09-17T19:40:54.019Z"
   },
   {
    "duration": 5,
    "start_time": "2021-09-17T19:40:59.987Z"
   },
   {
    "duration": 7,
    "start_time": "2021-09-17T19:41:15.322Z"
   },
   {
    "duration": 99,
    "start_time": "2021-09-17T19:41:24.355Z"
   },
   {
    "duration": 7,
    "start_time": "2021-09-17T19:41:28.019Z"
   },
   {
    "duration": 8224,
    "start_time": "2021-09-17T19:42:36.011Z"
   },
   {
    "duration": 8,
    "start_time": "2021-09-17T19:42:45.331Z"
   },
   {
    "duration": 7,
    "start_time": "2021-09-17T19:43:03.419Z"
   },
   {
    "duration": 6,
    "start_time": "2021-09-17T19:43:23.738Z"
   },
   {
    "duration": 38,
    "start_time": "2021-09-17T19:43:32.091Z"
   },
   {
    "duration": 43,
    "start_time": "2021-09-17T19:44:12.799Z"
   },
   {
    "duration": 285,
    "start_time": "2021-09-17T19:44:33.656Z"
   },
   {
    "duration": 288,
    "start_time": "2021-09-17T19:44:45.403Z"
   },
   {
    "duration": 303,
    "start_time": "2021-09-17T19:46:20.563Z"
   },
   {
    "duration": 264,
    "start_time": "2021-09-17T19:47:10.394Z"
   },
   {
    "duration": 215,
    "start_time": "2021-09-17T19:47:26.938Z"
   },
   {
    "duration": 1688,
    "start_time": "2021-09-17T19:47:39.857Z"
   },
   {
    "duration": 275,
    "start_time": "2021-09-17T19:49:27.650Z"
   },
   {
    "duration": 195,
    "start_time": "2021-09-17T19:53:57.677Z"
   },
   {
    "duration": 5,
    "start_time": "2021-09-17T19:54:07.456Z"
   },
   {
    "duration": 299,
    "start_time": "2021-09-17T19:54:13.320Z"
   },
   {
    "duration": 10,
    "start_time": "2021-09-17T19:54:22.320Z"
   },
   {
    "duration": 5,
    "start_time": "2021-09-17T19:54:48.544Z"
   },
   {
    "duration": 29,
    "start_time": "2021-09-17T19:55:01.944Z"
   },
   {
    "duration": 228,
    "start_time": "2021-09-17T19:56:54.797Z"
   },
   {
    "duration": 157,
    "start_time": "2021-09-17T19:58:23.650Z"
   },
   {
    "duration": 280,
    "start_time": "2021-09-17T20:00:30.351Z"
   },
   {
    "duration": 200,
    "start_time": "2021-09-17T20:00:49.952Z"
   },
   {
    "duration": 1419,
    "start_time": "2021-09-17T20:01:04.447Z"
   },
   {
    "duration": 222,
    "start_time": "2021-09-17T20:01:08.086Z"
   },
   {
    "duration": 310,
    "start_time": "2021-09-17T20:01:18.550Z"
   },
   {
    "duration": 263,
    "start_time": "2021-09-17T20:01:46.790Z"
   },
   {
    "duration": 279,
    "start_time": "2021-09-17T20:02:13.631Z"
   },
   {
    "duration": 1241,
    "start_time": "2021-09-17T20:02:26.375Z"
   },
   {
    "duration": 23,
    "start_time": "2021-09-17T20:02:33.086Z"
   },
   {
    "duration": 274,
    "start_time": "2021-09-17T20:02:39.767Z"
   },
   {
    "duration": 168,
    "start_time": "2021-09-17T20:03:23.868Z"
   },
   {
    "duration": 317027,
    "start_time": "2021-09-17T20:03:28.957Z"
   },
   {
    "duration": 1159,
    "start_time": "2021-09-18T03:49:04.974Z"
   },
   {
    "duration": 4,
    "start_time": "2021-09-18T03:49:09.693Z"
   },
   {
    "duration": 820,
    "start_time": "2021-09-18T03:49:09.699Z"
   },
   {
    "duration": 128,
    "start_time": "2021-09-18T03:49:10.522Z"
   },
   {
    "duration": 106,
    "start_time": "2021-09-18T03:49:10.652Z"
   },
   {
    "duration": 130,
    "start_time": "2021-09-18T03:49:10.760Z"
   },
   {
    "duration": 119,
    "start_time": "2021-09-18T03:49:10.892Z"
   },
   {
    "duration": 129,
    "start_time": "2021-09-18T03:49:11.013Z"
   },
   {
    "duration": 18,
    "start_time": "2021-09-18T03:49:11.144Z"
   },
   {
    "duration": 43,
    "start_time": "2021-09-18T03:49:11.165Z"
   },
   {
    "duration": 36,
    "start_time": "2021-09-18T03:49:11.210Z"
   },
   {
    "duration": 21,
    "start_time": "2021-09-18T03:49:11.248Z"
   },
   {
    "duration": 19,
    "start_time": "2021-09-18T03:49:11.277Z"
   },
   {
    "duration": 106,
    "start_time": "2021-09-18T03:49:11.298Z"
   },
   {
    "duration": 116,
    "start_time": "2021-09-18T03:49:11.405Z"
   },
   {
    "duration": 342,
    "start_time": "2021-09-18T03:49:11.522Z"
   },
   {
    "duration": 400,
    "start_time": "2021-09-18T03:49:11.866Z"
   },
   {
    "duration": 362,
    "start_time": "2021-09-18T03:49:12.268Z"
   },
   {
    "duration": 26,
    "start_time": "2021-09-18T03:49:12.632Z"
   },
   {
    "duration": 24,
    "start_time": "2021-09-18T03:49:12.660Z"
   },
   {
    "duration": 4,
    "start_time": "2021-09-18T03:49:12.685Z"
   },
   {
    "duration": 28,
    "start_time": "2021-09-18T03:49:12.691Z"
   },
   {
    "duration": 793,
    "start_time": "2021-09-18T03:49:12.721Z"
   },
   {
    "duration": 14,
    "start_time": "2021-09-18T03:49:13.516Z"
   },
   {
    "duration": 1014,
    "start_time": "2021-09-18T03:49:13.532Z"
   },
   {
    "duration": 110,
    "start_time": "2021-09-18T03:49:14.548Z"
   },
   {
    "duration": 40,
    "start_time": "2021-09-18T03:49:14.660Z"
   },
   {
    "duration": 92156,
    "start_time": "2021-09-18T03:49:14.703Z"
   },
   {
    "duration": 3,
    "start_time": "2021-09-18T03:50:46.861Z"
   },
   {
    "duration": 917214,
    "start_time": "2021-09-18T03:50:46.866Z"
   },
   {
    "duration": 3,
    "start_time": "2021-09-18T04:06:04.083Z"
   },
   {
    "duration": 16689,
    "start_time": "2021-09-18T04:06:04.088Z"
   },
   {
    "duration": 227510,
    "start_time": "2021-09-18T04:06:20.779Z"
   },
   {
    "duration": 88,
    "start_time": "2021-09-18T04:10:08.291Z"
   },
   {
    "duration": 5508,
    "start_time": "2021-09-18T04:10:08.381Z"
   },
   {
    "duration": 69808,
    "start_time": "2021-09-18T04:10:13.891Z"
   },
   {
    "duration": 177,
    "start_time": "2021-09-18T04:11:23.701Z"
   },
   {
    "duration": 96,
    "start_time": "2021-09-18T04:11:23.881Z"
   },
   {
    "duration": 353,
    "start_time": "2021-09-18T04:11:23.979Z"
   },
   {
    "duration": 7,
    "start_time": "2021-09-18T04:11:24.334Z"
   },
   {
    "duration": 4700,
    "start_time": "2021-09-18T04:38:28.782Z"
   },
   {
    "duration": 688,
    "start_time": "2021-09-18T04:40:01.358Z"
   },
   {
    "duration": 1131,
    "start_time": "2021-09-18T04:40:14.597Z"
   },
   {
    "duration": 811,
    "start_time": "2021-09-18T04:40:15.730Z"
   },
   {
    "duration": 121,
    "start_time": "2021-09-18T04:40:16.544Z"
   },
   {
    "duration": 110,
    "start_time": "2021-09-18T04:40:16.667Z"
   },
   {
    "duration": 119,
    "start_time": "2021-09-18T04:40:16.779Z"
   },
   {
    "duration": 123,
    "start_time": "2021-09-18T04:40:16.900Z"
   },
   {
    "duration": 132,
    "start_time": "2021-09-18T04:40:17.025Z"
   },
   {
    "duration": 18,
    "start_time": "2021-09-18T04:40:17.160Z"
   },
   {
    "duration": 46,
    "start_time": "2021-09-18T04:40:17.180Z"
   },
   {
    "duration": 72,
    "start_time": "2021-09-18T04:40:17.228Z"
   },
   {
    "duration": 29,
    "start_time": "2021-09-18T04:40:17.302Z"
   },
   {
    "duration": 34,
    "start_time": "2021-09-18T04:40:17.333Z"
   },
   {
    "duration": 120,
    "start_time": "2021-09-18T04:40:17.369Z"
   },
   {
    "duration": 111,
    "start_time": "2021-09-18T04:40:17.490Z"
   },
   {
    "duration": 356,
    "start_time": "2021-09-18T04:40:17.603Z"
   },
   {
    "duration": 388,
    "start_time": "2021-09-18T04:40:17.961Z"
   },
   {
    "duration": 348,
    "start_time": "2021-09-18T04:40:18.351Z"
   },
   {
    "duration": 26,
    "start_time": "2021-09-18T04:40:18.700Z"
   },
   {
    "duration": 10,
    "start_time": "2021-09-18T04:40:18.728Z"
   },
   {
    "duration": 6,
    "start_time": "2021-09-18T04:40:18.739Z"
   },
   {
    "duration": 47,
    "start_time": "2021-09-18T04:40:18.746Z"
   },
   {
    "duration": 709,
    "start_time": "2021-09-18T04:40:18.794Z"
   },
   {
    "duration": 13,
    "start_time": "2021-09-18T04:40:19.506Z"
   },
   {
    "duration": 773,
    "start_time": "2021-09-18T04:40:19.521Z"
   },
   {
    "duration": 111,
    "start_time": "2021-09-18T04:40:20.296Z"
   },
   {
    "duration": 32,
    "start_time": "2021-09-18T04:40:20.408Z"
   },
   {
    "duration": 30380,
    "start_time": "2021-09-18T04:40:20.441Z"
   },
   {
    "duration": 348,
    "start_time": "2021-09-18T04:40:50.823Z"
   },
   {
    "duration": -552,
    "start_time": "2021-09-18T04:40:51.725Z"
   },
   {
    "duration": -555,
    "start_time": "2021-09-18T04:40:51.730Z"
   },
   {
    "duration": -558,
    "start_time": "2021-09-18T04:40:51.734Z"
   },
   {
    "duration": -561,
    "start_time": "2021-09-18T04:40:51.738Z"
   },
   {
    "duration": -565,
    "start_time": "2021-09-18T04:40:51.743Z"
   },
   {
    "duration": -570,
    "start_time": "2021-09-18T04:40:51.749Z"
   },
   {
    "duration": -574,
    "start_time": "2021-09-18T04:40:51.753Z"
   },
   {
    "duration": -577,
    "start_time": "2021-09-18T04:40:51.757Z"
   },
   {
    "duration": -579,
    "start_time": "2021-09-18T04:40:51.760Z"
   },
   {
    "duration": -582,
    "start_time": "2021-09-18T04:40:51.764Z"
   },
   {
    "duration": -585,
    "start_time": "2021-09-18T04:40:51.768Z"
   },
   {
    "duration": 1139,
    "start_time": "2021-09-18T04:40:59.390Z"
   },
   {
    "duration": 834,
    "start_time": "2021-09-18T04:41:00.531Z"
   },
   {
    "duration": 127,
    "start_time": "2021-09-18T04:41:01.367Z"
   },
   {
    "duration": 104,
    "start_time": "2021-09-18T04:41:01.496Z"
   },
   {
    "duration": 124,
    "start_time": "2021-09-18T04:41:01.602Z"
   },
   {
    "duration": 122,
    "start_time": "2021-09-18T04:41:01.728Z"
   },
   {
    "duration": 126,
    "start_time": "2021-09-18T04:41:01.852Z"
   },
   {
    "duration": 18,
    "start_time": "2021-09-18T04:41:01.980Z"
   },
   {
    "duration": 46,
    "start_time": "2021-09-18T04:41:02.000Z"
   },
   {
    "duration": 47,
    "start_time": "2021-09-18T04:41:02.048Z"
   },
   {
    "duration": 29,
    "start_time": "2021-09-18T04:41:02.097Z"
   },
   {
    "duration": 25,
    "start_time": "2021-09-18T04:41:02.128Z"
   },
   {
    "duration": 100,
    "start_time": "2021-09-18T04:41:02.156Z"
   },
   {
    "duration": 147,
    "start_time": "2021-09-18T04:41:02.258Z"
   },
   {
    "duration": 408,
    "start_time": "2021-09-18T04:41:02.407Z"
   },
   {
    "duration": 379,
    "start_time": "2021-09-18T04:41:02.817Z"
   },
   {
    "duration": 344,
    "start_time": "2021-09-18T04:41:03.197Z"
   },
   {
    "duration": 35,
    "start_time": "2021-09-18T04:41:03.542Z"
   },
   {
    "duration": 11,
    "start_time": "2021-09-18T04:41:03.578Z"
   },
   {
    "duration": 5,
    "start_time": "2021-09-18T04:41:03.590Z"
   },
   {
    "duration": 27,
    "start_time": "2021-09-18T04:41:03.596Z"
   },
   {
    "duration": 702,
    "start_time": "2021-09-18T04:41:03.625Z"
   },
   {
    "duration": 14,
    "start_time": "2021-09-18T04:41:04.330Z"
   },
   {
    "duration": 766,
    "start_time": "2021-09-18T04:41:04.345Z"
   },
   {
    "duration": 120,
    "start_time": "2021-09-18T04:41:05.113Z"
   },
   {
    "duration": 42,
    "start_time": "2021-09-18T04:41:05.234Z"
   },
   {
    "duration": 472,
    "start_time": "2021-09-18T04:41:05.278Z"
   },
   {
    "duration": 360,
    "start_time": "2021-09-18T04:41:05.751Z"
   },
   {
    "duration": -548,
    "start_time": "2021-09-18T04:41:06.661Z"
   },
   {
    "duration": -550,
    "start_time": "2021-09-18T04:41:06.664Z"
   },
   {
    "duration": -554,
    "start_time": "2021-09-18T04:41:06.669Z"
   },
   {
    "duration": -557,
    "start_time": "2021-09-18T04:41:06.673Z"
   },
   {
    "duration": -560,
    "start_time": "2021-09-18T04:41:06.677Z"
   },
   {
    "duration": -561,
    "start_time": "2021-09-18T04:41:06.679Z"
   },
   {
    "duration": -564,
    "start_time": "2021-09-18T04:41:06.682Z"
   },
   {
    "duration": -566,
    "start_time": "2021-09-18T04:41:06.685Z"
   },
   {
    "duration": -568,
    "start_time": "2021-09-18T04:41:06.688Z"
   },
   {
    "duration": -569,
    "start_time": "2021-09-18T04:41:06.691Z"
   },
   {
    "duration": -571,
    "start_time": "2021-09-18T04:41:06.694Z"
   },
   {
    "duration": 1096,
    "start_time": "2021-09-18T04:43:00.737Z"
   },
   {
    "duration": 842,
    "start_time": "2021-09-18T04:43:01.835Z"
   },
   {
    "duration": 127,
    "start_time": "2021-09-18T04:43:02.680Z"
   },
   {
    "duration": 188,
    "start_time": "2021-09-18T04:43:02.809Z"
   },
   {
    "duration": 219,
    "start_time": "2021-09-18T04:43:02.998Z"
   },
   {
    "duration": 179,
    "start_time": "2021-09-18T04:43:03.218Z"
   },
   {
    "duration": 126,
    "start_time": "2021-09-18T04:43:03.398Z"
   },
   {
    "duration": 18,
    "start_time": "2021-09-18T04:43:03.526Z"
   },
   {
    "duration": 46,
    "start_time": "2021-09-18T04:43:03.546Z"
   },
   {
    "duration": 34,
    "start_time": "2021-09-18T04:43:03.594Z"
   },
   {
    "duration": 23,
    "start_time": "2021-09-18T04:43:03.629Z"
   },
   {
    "duration": 26,
    "start_time": "2021-09-18T04:43:03.654Z"
   },
   {
    "duration": 105,
    "start_time": "2021-09-18T04:43:03.682Z"
   },
   {
    "duration": 112,
    "start_time": "2021-09-18T04:43:03.788Z"
   },
   {
    "duration": 368,
    "start_time": "2021-09-18T04:43:03.902Z"
   },
   {
    "duration": 376,
    "start_time": "2021-09-18T04:43:04.271Z"
   },
   {
    "duration": 349,
    "start_time": "2021-09-18T04:43:04.649Z"
   },
   {
    "duration": 26,
    "start_time": "2021-09-18T04:43:05.000Z"
   },
   {
    "duration": 11,
    "start_time": "2021-09-18T04:43:05.028Z"
   },
   {
    "duration": 15,
    "start_time": "2021-09-18T04:43:05.040Z"
   },
   {
    "duration": 42,
    "start_time": "2021-09-18T04:43:05.057Z"
   },
   {
    "duration": 791,
    "start_time": "2021-09-18T04:43:05.102Z"
   },
   {
    "duration": 14,
    "start_time": "2021-09-18T04:43:05.894Z"
   },
   {
    "duration": 766,
    "start_time": "2021-09-18T04:43:05.910Z"
   },
   {
    "duration": 23,
    "start_time": "2021-09-18T04:43:06.678Z"
   },
   {
    "duration": 121938,
    "start_time": "2021-09-18T04:43:06.703Z"
   },
   {
    "duration": 3,
    "start_time": "2021-09-18T04:45:08.645Z"
   },
   {
    "duration": 1276845,
    "start_time": "2021-09-18T04:45:08.650Z"
   },
   {
    "duration": 3,
    "start_time": "2021-09-18T05:06:25.497Z"
   },
   {
    "duration": 22182,
    "start_time": "2021-09-18T05:06:25.502Z"
   },
   {
    "duration": 321799,
    "start_time": "2021-09-18T05:06:47.686Z"
   },
   {
    "duration": 4,
    "start_time": "2021-09-18T05:12:09.487Z"
   },
   {
    "duration": 7741,
    "start_time": "2021-09-18T05:12:09.493Z"
   },
   {
    "duration": 97775,
    "start_time": "2021-09-18T05:12:17.236Z"
   },
   {
    "duration": 165,
    "start_time": "2021-09-18T05:13:55.013Z"
   },
   {
    "duration": 5,
    "start_time": "2021-09-18T05:13:55.180Z"
   },
   {
    "duration": 6197,
    "start_time": "2021-09-18T05:13:55.188Z"
   },
   {
    "duration": 7,
    "start_time": "2021-09-18T05:14:01.386Z"
   },
   {
    "duration": 357,
    "start_time": "2021-09-18T14:25:15.794Z"
   },
   {
    "duration": 1376,
    "start_time": "2021-09-18T14:27:15.245Z"
   },
   {
    "duration": 28,
    "start_time": "2021-09-18T14:27:19.088Z"
   },
   {
    "duration": 13,
    "start_time": "2021-09-18T14:27:27.184Z"
   },
   {
    "duration": 354,
    "start_time": "2021-09-18T14:27:41.201Z"
   },
   {
    "duration": 6,
    "start_time": "2021-09-18T14:27:53.432Z"
   },
   {
    "duration": 5550,
    "start_time": "2021-09-18T14:28:04.664Z"
   },
   {
    "duration": -53,
    "start_time": "2021-09-18T14:28:10.271Z"
   },
   {
    "duration": 33,
    "start_time": "2021-09-18T14:28:13.192Z"
   },
   {
    "duration": 5,
    "start_time": "2021-09-18T14:28:13.856Z"
   },
   {
    "duration": 6,
    "start_time": "2021-09-18T14:30:29.704Z"
   },
   {
    "duration": 251,
    "start_time": "2021-09-18T14:30:52.568Z"
   },
   {
    "duration": 3007,
    "start_time": "2021-09-18T14:31:11.456Z"
   },
   {
    "duration": 4,
    "start_time": "2021-09-18T14:31:29.655Z"
   },
   {
    "duration": 4,
    "start_time": "2021-09-18T14:31:57.840Z"
   },
   {
    "duration": 5,
    "start_time": "2021-09-18T14:32:03.088Z"
   },
   {
    "duration": 283,
    "start_time": "2021-09-18T14:32:10.282Z"
   },
   {
    "duration": 6,
    "start_time": "2021-09-18T14:32:14.447Z"
   },
   {
    "duration": 5,
    "start_time": "2021-09-18T14:33:20.432Z"
   },
   {
    "duration": 176,
    "start_time": "2021-09-18T14:36:08.836Z"
   },
   {
    "duration": 102,
    "start_time": "2021-09-18T14:44:22.175Z"
   },
   {
    "duration": 290,
    "start_time": "2021-09-18T14:44:52.462Z"
   },
   {
    "duration": 5,
    "start_time": "2021-09-18T14:45:19.567Z"
   },
   {
    "duration": 1193,
    "start_time": "2021-09-18T14:45:19.575Z"
   },
   {
    "duration": 164,
    "start_time": "2021-09-18T14:45:20.771Z"
   },
   {
    "duration": 136,
    "start_time": "2021-09-18T14:45:20.938Z"
   },
   {
    "duration": 166,
    "start_time": "2021-09-18T14:45:21.076Z"
   },
   {
    "duration": 165,
    "start_time": "2021-09-18T14:45:21.244Z"
   },
   {
    "duration": 179,
    "start_time": "2021-09-18T14:45:21.411Z"
   },
   {
    "duration": 24,
    "start_time": "2021-09-18T14:45:21.593Z"
   },
   {
    "duration": 67,
    "start_time": "2021-09-18T14:45:21.621Z"
   },
   {
    "duration": 45,
    "start_time": "2021-09-18T14:45:21.691Z"
   },
   {
    "duration": 37,
    "start_time": "2021-09-18T14:45:21.739Z"
   },
   {
    "duration": 25,
    "start_time": "2021-09-18T14:45:21.778Z"
   },
   {
    "duration": 172,
    "start_time": "2021-09-18T14:45:21.806Z"
   },
   {
    "duration": 156,
    "start_time": "2021-09-18T14:45:21.981Z"
   },
   {
    "duration": 613,
    "start_time": "2021-09-18T14:45:22.140Z"
   },
   {
    "duration": 682,
    "start_time": "2021-09-18T14:45:22.755Z"
   },
   {
    "duration": 568,
    "start_time": "2021-09-18T14:45:23.440Z"
   },
   {
    "duration": 60,
    "start_time": "2021-09-18T14:45:24.011Z"
   },
   {
    "duration": 19,
    "start_time": "2021-09-18T14:45:24.074Z"
   },
   {
    "duration": 6,
    "start_time": "2021-09-18T14:45:24.096Z"
   },
   {
    "duration": 83,
    "start_time": "2021-09-18T14:45:24.104Z"
   },
   {
    "duration": 1414,
    "start_time": "2021-09-18T14:45:24.189Z"
   },
   {
    "duration": 23,
    "start_time": "2021-09-18T14:45:25.606Z"
   },
   {
    "duration": 1197,
    "start_time": "2021-09-18T14:45:25.632Z"
   },
   {
    "duration": 46,
    "start_time": "2021-09-18T14:45:26.831Z"
   },
   {
    "duration": 2445,
    "start_time": "2021-09-18T14:46:03.878Z"
   },
   {
    "duration": 4490,
    "start_time": "2021-09-18T14:46:22.686Z"
   },
   {
    "duration": 224,
    "start_time": "2021-09-18T14:46:37.407Z"
   },
   {
    "duration": 29170,
    "start_time": "2021-09-18T14:46:48.109Z"
   },
   {
    "duration": 232,
    "start_time": "2021-09-18T14:47:21.237Z"
   },
   {
    "duration": 5375,
    "start_time": "2021-09-18T14:47:29.997Z"
   },
   {
    "duration": 5068,
    "start_time": "2021-09-18T14:48:02.805Z"
   },
   {
    "duration": 15,
    "start_time": "2021-09-18T14:48:16.324Z"
   },
   {
    "duration": 137,
    "start_time": "2021-09-18T14:51:31.683Z"
   },
   {
    "duration": 5,
    "start_time": "2021-09-18T14:51:44.513Z"
   },
   {
    "duration": 6,
    "start_time": "2021-09-18T14:51:55.686Z"
   },
   {
    "duration": 113,
    "start_time": "2021-09-18T14:52:31.704Z"
   },
   {
    "duration": 6,
    "start_time": "2021-09-18T14:52:34.561Z"
   },
   {
    "duration": 372,
    "start_time": "2021-09-18T14:52:42.904Z"
   },
   {
    "duration": 6,
    "start_time": "2021-09-18T14:52:46.930Z"
   },
   {
    "duration": 139,
    "start_time": "2021-09-18T14:54:12.117Z"
   },
   {
    "duration": 5,
    "start_time": "2021-09-18T14:54:36.206Z"
   },
   {
    "duration": 6,
    "start_time": "2021-09-18T14:55:52.943Z"
   },
   {
    "duration": 123,
    "start_time": "2021-09-18T14:56:57.482Z"
   },
   {
    "duration": 9320,
    "start_time": "2021-09-18T14:57:05.164Z"
   },
   {
    "duration": 9321,
    "start_time": "2021-09-18T14:57:22.269Z"
   },
   {
    "duration": 151,
    "start_time": "2021-09-18T14:57:50.228Z"
   },
   {
    "duration": 88246,
    "start_time": "2021-09-18T14:58:35.188Z"
   },
   {
    "duration": 372,
    "start_time": "2021-09-18T15:00:05.732Z"
   },
   {
    "duration": 7,
    "start_time": "2021-09-18T15:00:23.129Z"
   },
   {
    "duration": 226,
    "start_time": "2021-09-18T15:00:36.641Z"
   },
   {
    "duration": 29239,
    "start_time": "2021-09-18T15:01:23.795Z"
   },
   {
    "duration": 31063,
    "start_time": "2021-09-18T15:01:58.905Z"
   },
   {
    "duration": 4846,
    "start_time": "2021-09-18T15:04:14.621Z"
   },
   {
    "duration": 444,
    "start_time": "2021-09-18T15:04:40.631Z"
   },
   {
    "duration": 7,
    "start_time": "2021-09-18T15:04:44.087Z"
   },
   {
    "duration": 13,
    "start_time": "2021-09-18T15:04:48.964Z"
   },
   {
    "duration": 14,
    "start_time": "2021-09-18T15:05:17.720Z"
   },
   {
    "duration": 15,
    "start_time": "2021-09-18T15:05:31.943Z"
   },
   {
    "duration": 17,
    "start_time": "2021-09-18T15:06:03.015Z"
   },
   {
    "duration": 5,
    "start_time": "2021-09-18T15:06:39.727Z"
   },
   {
    "duration": 5,
    "start_time": "2021-09-18T15:07:00.847Z"
   },
   {
    "duration": 111,
    "start_time": "2021-09-18T15:08:26.708Z"
   },
   {
    "duration": 18,
    "start_time": "2021-09-18T15:08:30.870Z"
   },
   {
    "duration": 5,
    "start_time": "2021-09-18T15:08:56.454Z"
   },
   {
    "duration": 7,
    "start_time": "2021-09-18T15:09:29.789Z"
   },
   {
    "duration": 6,
    "start_time": "2021-09-18T15:09:36.741Z"
   },
   {
    "duration": 632,
    "start_time": "2021-09-18T15:09:40.782Z"
   },
   {
    "duration": 5,
    "start_time": "2021-09-18T15:10:40.189Z"
   },
   {
    "duration": 1088,
    "start_time": "2021-09-18T15:10:40.197Z"
   },
   {
    "duration": 166,
    "start_time": "2021-09-18T15:10:41.288Z"
   },
   {
    "duration": 133,
    "start_time": "2021-09-18T15:10:41.457Z"
   },
   {
    "duration": 162,
    "start_time": "2021-09-18T15:10:41.592Z"
   },
   {
    "duration": 165,
    "start_time": "2021-09-18T15:10:41.756Z"
   },
   {
    "duration": 164,
    "start_time": "2021-09-18T15:10:41.923Z"
   },
   {
    "duration": 24,
    "start_time": "2021-09-18T15:10:42.090Z"
   },
   {
    "duration": 73,
    "start_time": "2021-09-18T15:10:42.118Z"
   },
   {
    "duration": 51,
    "start_time": "2021-09-18T15:10:42.194Z"
   },
   {
    "duration": 38,
    "start_time": "2021-09-18T15:10:42.248Z"
   },
   {
    "duration": 31,
    "start_time": "2021-09-18T15:10:42.289Z"
   },
   {
    "duration": 171,
    "start_time": "2021-09-18T15:10:42.323Z"
   },
   {
    "duration": 145,
    "start_time": "2021-09-18T15:10:42.497Z"
   },
   {
    "duration": 542,
    "start_time": "2021-09-18T15:10:42.645Z"
   },
   {
    "duration": 645,
    "start_time": "2021-09-18T15:10:43.189Z"
   },
   {
    "duration": 552,
    "start_time": "2021-09-18T15:10:43.837Z"
   },
   {
    "duration": 44,
    "start_time": "2021-09-18T15:10:44.391Z"
   },
   {
    "duration": 33,
    "start_time": "2021-09-18T15:10:44.438Z"
   },
   {
    "duration": 13,
    "start_time": "2021-09-18T15:10:44.474Z"
   },
   {
    "duration": 57,
    "start_time": "2021-09-18T15:10:44.489Z"
   },
   {
    "duration": 1460,
    "start_time": "2021-09-18T15:10:44.549Z"
   },
   {
    "duration": 24,
    "start_time": "2021-09-18T15:10:46.012Z"
   },
   {
    "duration": 1212,
    "start_time": "2021-09-18T15:10:46.039Z"
   },
   {
    "duration": 44,
    "start_time": "2021-09-18T15:10:47.254Z"
   },
   {
    "duration": 148213,
    "start_time": "2021-09-18T15:10:47.300Z"
   },
   {
    "duration": 5,
    "start_time": "2021-09-18T15:13:15.518Z"
   },
   {
    "duration": 1522324,
    "start_time": "2021-09-18T15:13:15.526Z"
   },
   {
    "duration": 4,
    "start_time": "2021-09-18T15:38:37.852Z"
   },
   {
    "duration": 28805,
    "start_time": "2021-09-18T15:38:37.868Z"
   },
   {
    "duration": 391201,
    "start_time": "2021-09-18T15:39:06.676Z"
   },
   {
    "duration": 90,
    "start_time": "2021-09-18T15:45:37.881Z"
   },
   {
    "duration": 8916,
    "start_time": "2021-09-18T15:45:37.973Z"
   },
   {
    "duration": 166,
    "start_time": "2021-09-18T15:45:46.892Z"
   },
   {
    "duration": 11,
    "start_time": "2021-09-18T15:45:47.061Z"
   },
   {
    "duration": 116039,
    "start_time": "2021-09-18T15:45:47.074Z"
   },
   {
    "duration": 461,
    "start_time": "2021-09-18T15:47:43.116Z"
   },
   {
    "duration": 6,
    "start_time": "2021-09-18T15:47:43.579Z"
   },
   {
    "duration": 188,
    "start_time": "2021-09-18T15:47:43.587Z"
   },
   {
    "duration": 99,
    "start_time": "2021-09-18T15:47:43.869Z"
   },
   {
    "duration": 5,
    "start_time": "2021-09-18T15:47:43.971Z"
   },
   {
    "duration": 7001,
    "start_time": "2021-09-18T15:47:43.978Z"
   },
   {
    "duration": 599,
    "start_time": "2021-09-18T15:47:50.981Z"
   },
   {
    "duration": 6,
    "start_time": "2021-09-18T15:47:51.582Z"
   },
   {
    "duration": 25,
    "start_time": "2021-09-18T15:47:51.590Z"
   },
   {
    "duration": 237,
    "start_time": "2021-09-18T17:37:27.498Z"
   },
   {
    "duration": 5,
    "start_time": "2021-09-18T17:37:33.785Z"
   },
   {
    "duration": 1057,
    "start_time": "2021-09-18T17:37:33.958Z"
   },
   {
    "duration": 280,
    "start_time": "2021-09-18T17:37:37.581Z"
   },
   {
    "duration": 582,
    "start_time": "2021-09-18T17:37:47.542Z"
   },
   {
    "duration": 158,
    "start_time": "2021-09-18T17:42:45.653Z"
   },
   {
    "duration": 332,
    "start_time": "2021-09-18T17:50:55.799Z"
   },
   {
    "duration": -388,
    "start_time": "2021-09-18T17:50:56.524Z"
   },
   {
    "duration": -395,
    "start_time": "2021-09-18T17:50:56.532Z"
   },
   {
    "duration": -398,
    "start_time": "2021-09-18T17:50:56.537Z"
   },
   {
    "duration": -400,
    "start_time": "2021-09-18T17:50:56.540Z"
   },
   {
    "duration": -403,
    "start_time": "2021-09-18T17:50:56.545Z"
   },
   {
    "duration": -407,
    "start_time": "2021-09-18T17:50:56.550Z"
   },
   {
    "duration": -409,
    "start_time": "2021-09-18T17:50:56.554Z"
   },
   {
    "duration": -412,
    "start_time": "2021-09-18T17:50:56.558Z"
   },
   {
    "duration": -415,
    "start_time": "2021-09-18T17:50:56.562Z"
   },
   {
    "duration": -417,
    "start_time": "2021-09-18T17:50:56.566Z"
   },
   {
    "duration": -419,
    "start_time": "2021-09-18T17:50:56.569Z"
   },
   {
    "duration": -422,
    "start_time": "2021-09-18T17:50:56.573Z"
   },
   {
    "duration": -423,
    "start_time": "2021-09-18T17:50:56.576Z"
   },
   {
    "duration": -426,
    "start_time": "2021-09-18T17:50:56.580Z"
   },
   {
    "duration": -430,
    "start_time": "2021-09-18T17:50:56.585Z"
   },
   {
    "duration": -432,
    "start_time": "2021-09-18T17:50:56.589Z"
   },
   {
    "duration": -434,
    "start_time": "2021-09-18T17:50:56.592Z"
   },
   {
    "duration": -437,
    "start_time": "2021-09-18T17:50:56.596Z"
   },
   {
    "duration": -438,
    "start_time": "2021-09-18T17:50:56.599Z"
   },
   {
    "duration": -440,
    "start_time": "2021-09-18T17:50:56.602Z"
   },
   {
    "duration": -443,
    "start_time": "2021-09-18T17:50:56.606Z"
   },
   {
    "duration": -446,
    "start_time": "2021-09-18T17:50:56.611Z"
   },
   {
    "duration": -449,
    "start_time": "2021-09-18T17:50:56.615Z"
   },
   {
    "duration": -452,
    "start_time": "2021-09-18T17:50:56.619Z"
   },
   {
    "duration": -454,
    "start_time": "2021-09-18T17:50:56.622Z"
   },
   {
    "duration": -456,
    "start_time": "2021-09-18T17:50:56.626Z"
   },
   {
    "duration": -460,
    "start_time": "2021-09-18T17:50:56.631Z"
   },
   {
    "duration": -463,
    "start_time": "2021-09-18T17:50:56.635Z"
   },
   {
    "duration": -466,
    "start_time": "2021-09-18T17:50:56.639Z"
   },
   {
    "duration": -468,
    "start_time": "2021-09-18T17:50:56.643Z"
   },
   {
    "duration": -471,
    "start_time": "2021-09-18T17:50:56.647Z"
   },
   {
    "duration": -475,
    "start_time": "2021-09-18T17:50:56.652Z"
   },
   {
    "duration": -477,
    "start_time": "2021-09-18T17:50:56.655Z"
   },
   {
    "duration": -480,
    "start_time": "2021-09-18T17:50:56.659Z"
   },
   {
    "duration": -483,
    "start_time": "2021-09-18T17:50:56.663Z"
   },
   {
    "duration": -485,
    "start_time": "2021-09-18T17:50:56.667Z"
   },
   {
    "duration": -488,
    "start_time": "2021-09-18T17:50:56.671Z"
   },
   {
    "duration": -490,
    "start_time": "2021-09-18T17:50:56.674Z"
   },
   {
    "duration": -513,
    "start_time": "2021-09-18T17:50:56.698Z"
   },
   {
    "duration": -514,
    "start_time": "2021-09-18T17:50:56.700Z"
   },
   {
    "duration": -516,
    "start_time": "2021-09-18T17:50:56.703Z"
   },
   {
    "duration": -518,
    "start_time": "2021-09-18T17:50:56.707Z"
   },
   {
    "duration": -520,
    "start_time": "2021-09-18T17:50:56.710Z"
   },
   {
    "duration": -523,
    "start_time": "2021-09-18T17:50:56.714Z"
   },
   {
    "duration": 1372,
    "start_time": "2021-09-18T17:55:55.752Z"
   },
   {
    "duration": 1179,
    "start_time": "2021-09-18T17:55:57.127Z"
   },
   {
    "duration": 265,
    "start_time": "2021-09-18T17:55:58.308Z"
   },
   {
    "duration": 236,
    "start_time": "2021-09-18T17:55:58.575Z"
   },
   {
    "duration": 302,
    "start_time": "2021-09-18T17:55:58.868Z"
   },
   {
    "duration": 699,
    "start_time": "2021-09-18T17:55:59.173Z"
   },
   {
    "duration": 172,
    "start_time": "2021-09-18T17:55:59.874Z"
   },
   {
    "duration": 23,
    "start_time": "2021-09-18T17:56:00.050Z"
   },
   {
    "duration": 57,
    "start_time": "2021-09-18T17:56:00.077Z"
   },
   {
    "duration": 64,
    "start_time": "2021-09-18T17:56:00.136Z"
   },
   {
    "duration": 36,
    "start_time": "2021-09-18T17:56:00.202Z"
   },
   {
    "duration": 32,
    "start_time": "2021-09-18T17:56:00.241Z"
   },
   {
    "duration": 160,
    "start_time": "2021-09-18T17:56:00.275Z"
   },
   {
    "duration": 229,
    "start_time": "2021-09-18T17:56:00.437Z"
   },
   {
    "duration": 580,
    "start_time": "2021-09-18T17:56:00.669Z"
   },
   {
    "duration": 709,
    "start_time": "2021-09-18T17:56:01.251Z"
   },
   {
    "duration": 587,
    "start_time": "2021-09-18T17:56:01.962Z"
   },
   {
    "duration": 52,
    "start_time": "2021-09-18T17:56:02.551Z"
   },
   {
    "duration": 16,
    "start_time": "2021-09-18T17:56:02.605Z"
   },
   {
    "duration": 10,
    "start_time": "2021-09-18T17:56:02.624Z"
   },
   {
    "duration": 72,
    "start_time": "2021-09-18T17:56:02.636Z"
   },
   {
    "duration": 1432,
    "start_time": "2021-09-18T17:56:02.710Z"
   },
   {
    "duration": 31,
    "start_time": "2021-09-18T17:56:04.147Z"
   },
   {
    "duration": 1189,
    "start_time": "2021-09-18T17:56:04.182Z"
   },
   {
    "duration": 147764,
    "start_time": "2021-09-18T17:56:05.374Z"
   },
   {
    "duration": 4,
    "start_time": "2021-09-18T17:58:33.141Z"
   },
   {
    "duration": 1520151,
    "start_time": "2021-09-18T17:58:33.148Z"
   },
   {
    "duration": 5,
    "start_time": "2021-09-18T18:23:53.301Z"
   },
   {
    "duration": 28569,
    "start_time": "2021-09-18T18:23:53.308Z"
   },
   {
    "duration": 388794,
    "start_time": "2021-09-18T18:24:21.880Z"
   },
   {
    "duration": 5,
    "start_time": "2021-09-18T18:30:50.676Z"
   },
   {
    "duration": 9682,
    "start_time": "2021-09-18T18:30:50.683Z"
   },
   {
    "duration": 161,
    "start_time": "2021-09-18T18:31:00.368Z"
   },
   {
    "duration": 6,
    "start_time": "2021-09-18T18:31:00.532Z"
   },
   {
    "duration": 116399,
    "start_time": "2021-09-18T18:31:00.540Z"
   },
   {
    "duration": 476,
    "start_time": "2021-09-18T18:32:56.942Z"
   },
   {
    "duration": 6,
    "start_time": "2021-09-18T18:32:57.420Z"
   },
   {
    "duration": 241,
    "start_time": "2021-09-18T18:32:57.428Z"
   },
   {
    "duration": 97,
    "start_time": "2021-09-18T18:32:57.674Z"
   },
   {
    "duration": 11,
    "start_time": "2021-09-18T18:32:57.773Z"
   },
   {
    "duration": 5784,
    "start_time": "2021-09-18T18:32:57.786Z"
   },
   {
    "duration": 507,
    "start_time": "2021-09-18T18:33:03.572Z"
   },
   {
    "duration": 86,
    "start_time": "2021-09-18T18:33:04.081Z"
   },
   {
    "duration": 246,
    "start_time": "2021-09-18T18:33:04.170Z"
   },
   {
    "duration": -348,
    "start_time": "2021-09-18T18:33:04.767Z"
   },
   {
    "duration": 268,
    "start_time": "2021-09-18T18:38:11.842Z"
   },
   {
    "duration": 8946,
    "start_time": "2021-09-18T18:39:33.996Z"
   },
   {
    "duration": 163,
    "start_time": "2021-09-18T18:39:42.945Z"
   },
   {
    "duration": 6,
    "start_time": "2021-09-18T18:39:44.688Z"
   },
   {
    "duration": 119659,
    "start_time": "2021-09-18T18:39:45.879Z"
   },
   {
    "duration": 465,
    "start_time": "2021-09-18T18:41:47.744Z"
   },
   {
    "duration": 6,
    "start_time": "2021-09-18T18:41:50.297Z"
   },
   {
    "duration": 156,
    "start_time": "2021-09-18T18:41:52.017Z"
   },
   {
    "duration": 7,
    "start_time": "2021-09-18T18:41:52.930Z"
   },
   {
    "duration": 6,
    "start_time": "2021-09-18T18:41:54.018Z"
   },
   {
    "duration": 5455,
    "start_time": "2021-09-18T18:41:54.618Z"
   },
   {
    "duration": 472,
    "start_time": "2021-09-18T18:42:00.906Z"
   },
   {
    "duration": 6,
    "start_time": "2021-09-18T18:42:01.809Z"
   },
   {
    "duration": 259,
    "start_time": "2021-09-18T18:42:02.850Z"
   },
   {
    "duration": 9016,
    "start_time": "2021-09-18T18:42:28.794Z"
   },
   {
    "duration": 159,
    "start_time": "2021-09-18T18:42:38.564Z"
   },
   {
    "duration": 223,
    "start_time": "2021-09-18T18:42:42.086Z"
   },
   {
    "duration": 120667,
    "start_time": "2021-09-18T18:43:02.708Z"
   },
   {
    "duration": 472,
    "start_time": "2021-09-18T18:45:03.379Z"
   },
   {
    "duration": 13450,
    "start_time": "2021-09-18T18:45:03.854Z"
   },
   {
    "duration": 43377,
    "start_time": "2021-09-18T18:45:44.400Z"
   },
   {
    "duration": 18,
    "start_time": "2021-09-18T18:46:42.780Z"
   },
   {
    "duration": 4,
    "start_time": "2021-09-18T18:47:10.223Z"
   },
   {
    "duration": 13151,
    "start_time": "2021-09-18T18:47:56.241Z"
   },
   {
    "duration": 6,
    "start_time": "2021-09-18T18:48:12.476Z"
   },
   {
    "duration": 1146,
    "start_time": "2021-09-18T18:48:12.485Z"
   },
   {
    "duration": 169,
    "start_time": "2021-09-18T18:48:13.634Z"
   },
   {
    "duration": 128,
    "start_time": "2021-09-18T18:48:13.806Z"
   },
   {
    "duration": 163,
    "start_time": "2021-09-18T18:48:13.936Z"
   },
   {
    "duration": 626,
    "start_time": "2021-09-18T18:48:14.101Z"
   },
   {
    "duration": 170,
    "start_time": "2021-09-18T18:48:14.729Z"
   },
   {
    "duration": 25,
    "start_time": "2021-09-18T18:48:14.901Z"
   },
   {
    "duration": 63,
    "start_time": "2021-09-18T18:48:14.930Z"
   },
   {
    "duration": 50,
    "start_time": "2021-09-18T18:48:14.996Z"
   },
   {
    "duration": 35,
    "start_time": "2021-09-18T18:48:15.048Z"
   },
   {
    "duration": 27,
    "start_time": "2021-09-18T18:48:15.085Z"
   },
   {
    "duration": 166,
    "start_time": "2021-09-18T18:48:15.115Z"
   },
   {
    "duration": 154,
    "start_time": "2021-09-18T18:48:15.284Z"
   },
   {
    "duration": 559,
    "start_time": "2021-09-18T18:48:15.440Z"
   },
   {
    "duration": 641,
    "start_time": "2021-09-18T18:48:16.001Z"
   },
   {
    "duration": 584,
    "start_time": "2021-09-18T18:48:16.646Z"
   },
   {
    "duration": 60,
    "start_time": "2021-09-18T18:48:17.232Z"
   },
   {
    "duration": 29,
    "start_time": "2021-09-18T18:48:17.295Z"
   },
   {
    "duration": 17,
    "start_time": "2021-09-18T18:48:17.327Z"
   },
   {
    "duration": 86,
    "start_time": "2021-09-18T18:48:17.347Z"
   },
   {
    "duration": 1382,
    "start_time": "2021-09-18T18:48:17.436Z"
   },
   {
    "duration": 23,
    "start_time": "2021-09-18T18:48:18.821Z"
   },
   {
    "duration": 1266,
    "start_time": "2021-09-18T18:48:18.846Z"
   },
   {
    "duration": 79153,
    "start_time": "2021-09-18T18:48:20.115Z"
   },
   {
    "duration": 4,
    "start_time": "2021-09-18T18:49:39.271Z"
   },
   {
    "duration": 818318,
    "start_time": "2021-09-18T18:49:39.280Z"
   },
   {
    "duration": 4,
    "start_time": "2021-09-18T19:03:17.601Z"
   },
   {
    "duration": 28772,
    "start_time": "2021-09-18T19:03:17.608Z"
   },
   {
    "duration": 393188,
    "start_time": "2021-09-18T19:03:46.383Z"
   },
   {
    "duration": 6,
    "start_time": "2021-09-18T19:10:19.574Z"
   },
   {
    "duration": 9126,
    "start_time": "2021-09-18T19:10:19.583Z"
   },
   {
    "duration": 168,
    "start_time": "2021-09-18T19:10:28.711Z"
   },
   {
    "duration": 7,
    "start_time": "2021-09-18T19:10:28.882Z"
   },
   {
    "duration": 117790,
    "start_time": "2021-09-18T19:10:28.892Z"
   },
   {
    "duration": 471,
    "start_time": "2021-09-18T19:12:26.684Z"
   },
   {
    "duration": 12,
    "start_time": "2021-09-18T19:12:27.157Z"
   },
   {
    "duration": 201,
    "start_time": "2021-09-18T19:12:27.171Z"
   },
   {
    "duration": 95,
    "start_time": "2021-09-18T19:12:27.375Z"
   },
   {
    "duration": 21,
    "start_time": "2021-09-18T19:12:27.472Z"
   },
   {
    "duration": 6075,
    "start_time": "2021-09-18T19:12:27.495Z"
   },
   {
    "duration": 501,
    "start_time": "2021-09-18T19:12:33.572Z"
   },
   {
    "duration": 6,
    "start_time": "2021-09-18T19:12:34.075Z"
   },
   {
    "duration": 27,
    "start_time": "2021-09-18T19:12:34.083Z"
   },
   {
    "duration": 62,
    "start_time": "2021-09-18T19:12:34.112Z"
   },
   {
    "duration": 3,
    "start_time": "2021-09-18T19:20:41.598Z"
   },
   {
    "duration": 1114,
    "start_time": "2021-09-19T13:51:32.265Z"
   },
   {
    "duration": 799,
    "start_time": "2021-09-19T13:51:33.381Z"
   },
   {
    "duration": 127,
    "start_time": "2021-09-19T13:51:34.182Z"
   },
   {
    "duration": 123,
    "start_time": "2021-09-19T13:51:34.312Z"
   },
   {
    "duration": 130,
    "start_time": "2021-09-19T13:51:34.437Z"
   },
   {
    "duration": 618,
    "start_time": "2021-09-19T13:51:34.569Z"
   },
   {
    "duration": 134,
    "start_time": "2021-09-19T13:51:35.189Z"
   },
   {
    "duration": 16,
    "start_time": "2021-09-19T13:51:35.326Z"
   },
   {
    "duration": 56,
    "start_time": "2021-09-19T13:51:35.350Z"
   },
   {
    "duration": 66,
    "start_time": "2021-09-19T13:51:35.408Z"
   },
   {
    "duration": 16,
    "start_time": "2021-09-19T13:51:35.476Z"
   },
   {
    "duration": 16,
    "start_time": "2021-09-19T13:51:35.494Z"
   },
   {
    "duration": 110,
    "start_time": "2021-09-19T13:51:35.512Z"
   },
   {
    "duration": 128,
    "start_time": "2021-09-19T13:51:35.624Z"
   },
   {
    "duration": 358,
    "start_time": "2021-09-19T13:51:35.754Z"
   },
   {
    "duration": 383,
    "start_time": "2021-09-19T13:51:36.114Z"
   },
   {
    "duration": 335,
    "start_time": "2021-09-19T13:51:36.499Z"
   },
   {
    "duration": 31,
    "start_time": "2021-09-19T13:51:36.835Z"
   },
   {
    "duration": 9,
    "start_time": "2021-09-19T13:51:36.868Z"
   },
   {
    "duration": 5,
    "start_time": "2021-09-19T13:51:36.879Z"
   },
   {
    "duration": 29,
    "start_time": "2021-09-19T13:51:36.886Z"
   },
   {
    "duration": 818,
    "start_time": "2021-09-19T13:51:36.916Z"
   },
   {
    "duration": 21,
    "start_time": "2021-09-19T13:51:37.736Z"
   },
   {
    "duration": 805,
    "start_time": "2021-09-19T13:51:43.754Z"
   },
   {
    "duration": 78,
    "start_time": "2021-09-19T13:52:43.716Z"
   },
   {
    "duration": 17,
    "start_time": "2021-09-19T13:53:12.330Z"
   },
   {
    "duration": 6,
    "start_time": "2021-09-19T13:53:44.410Z"
   },
   {
    "duration": 3,
    "start_time": "2021-09-19T13:53:49.514Z"
   },
   {
    "duration": 341,
    "start_time": "2021-09-19T13:53:58.153Z"
   },
   {
    "duration": 262,
    "start_time": "2021-09-19T13:54:00.482Z"
   },
   {
    "duration": 1644,
    "start_time": "2021-09-19T19:40:32.714Z"
   },
   {
    "duration": 751,
    "start_time": "2021-09-19T19:40:34.359Z"
   },
   {
    "duration": 122,
    "start_time": "2021-09-19T19:40:35.112Z"
   },
   {
    "duration": 100,
    "start_time": "2021-09-19T19:40:35.236Z"
   },
   {
    "duration": 117,
    "start_time": "2021-09-19T19:40:35.337Z"
   },
   {
    "duration": 416,
    "start_time": "2021-09-19T19:40:35.455Z"
   },
   {
    "duration": 121,
    "start_time": "2021-09-19T19:40:35.872Z"
   },
   {
    "duration": 17,
    "start_time": "2021-09-19T19:40:35.999Z"
   },
   {
    "duration": 35,
    "start_time": "2021-09-19T19:40:36.018Z"
   },
   {
    "duration": 46,
    "start_time": "2021-09-19T19:40:36.054Z"
   },
   {
    "duration": 17,
    "start_time": "2021-09-19T19:40:36.102Z"
   },
   {
    "duration": 19,
    "start_time": "2021-09-19T19:40:36.121Z"
   },
   {
    "duration": 108,
    "start_time": "2021-09-19T19:40:36.142Z"
   },
   {
    "duration": 109,
    "start_time": "2021-09-19T19:40:36.252Z"
   },
   {
    "duration": 347,
    "start_time": "2021-09-19T19:40:36.362Z"
   },
   {
    "duration": 360,
    "start_time": "2021-09-19T19:40:36.710Z"
   },
   {
    "duration": 320,
    "start_time": "2021-09-19T19:40:37.071Z"
   },
   {
    "duration": 35,
    "start_time": "2021-09-19T19:40:37.393Z"
   },
   {
    "duration": 10,
    "start_time": "2021-09-19T19:40:37.430Z"
   },
   {
    "duration": 6,
    "start_time": "2021-09-19T19:40:37.441Z"
   },
   {
    "duration": 73,
    "start_time": "2021-09-19T19:40:37.449Z"
   },
   {
    "duration": 680,
    "start_time": "2021-09-19T19:40:37.523Z"
   },
   {
    "duration": 15,
    "start_time": "2021-09-19T19:40:38.206Z"
   },
   {
    "duration": 772,
    "start_time": "2021-09-19T19:40:38.222Z"
   },
   {
    "duration": 60,
    "start_time": "2021-09-19T19:40:38.996Z"
   },
   {
    "duration": 922,
    "start_time": "2021-09-19T19:40:42.351Z"
   },
   {
    "duration": 182,
    "start_time": "2021-09-19T19:41:48.539Z"
   },
   {
    "duration": 274,
    "start_time": "2021-09-19T19:41:54.671Z"
   },
   {
    "duration": 211,
    "start_time": "2021-09-19T19:41:59.319Z"
   },
   {
    "duration": 5,
    "start_time": "2021-09-19T19:42:16.585Z"
   },
   {
    "duration": 6,
    "start_time": "2021-09-19T19:42:39.811Z"
   },
   {
    "duration": 10,
    "start_time": "2021-09-19T19:43:22.172Z"
   },
   {
    "duration": 5,
    "start_time": "2021-09-19T19:43:35.085Z"
   },
   {
    "duration": 7,
    "start_time": "2021-09-19T19:43:39.950Z"
   },
   {
    "duration": 7,
    "start_time": "2021-09-19T19:44:18.077Z"
   },
   {
    "duration": 62,
    "start_time": "2021-09-19T19:44:30.728Z"
   },
   {
    "duration": 204,
    "start_time": "2021-09-19T19:44:58.198Z"
   },
   {
    "duration": 8,
    "start_time": "2021-09-19T19:45:46.642Z"
   },
   {
    "duration": 22,
    "start_time": "2021-09-19T19:46:37.079Z"
   },
   {
    "duration": 181,
    "start_time": "2021-09-19T19:46:58.491Z"
   },
   {
    "duration": 208,
    "start_time": "2021-09-19T19:47:08.230Z"
   },
   {
    "duration": 6,
    "start_time": "2021-09-19T19:47:31.045Z"
   },
   {
    "duration": 52,
    "start_time": "2021-09-19T19:47:59.869Z"
   },
   {
    "duration": 6,
    "start_time": "2021-09-19T19:48:06.165Z"
   },
   {
    "duration": 180,
    "start_time": "2021-09-19T19:48:20.357Z"
   },
   {
    "duration": 61,
    "start_time": "2021-09-19T19:49:00.237Z"
   },
   {
    "duration": 62,
    "start_time": "2021-09-19T19:49:08.104Z"
   },
   {
    "duration": 5,
    "start_time": "2021-09-19T19:49:29.933Z"
   },
   {
    "duration": 218,
    "start_time": "2021-09-19T19:49:47.429Z"
   },
   {
    "duration": 6,
    "start_time": "2021-09-19T19:49:54.389Z"
   },
   {
    "duration": 5,
    "start_time": "2021-09-19T19:49:57.884Z"
   },
   {
    "duration": 20,
    "start_time": "2021-09-19T19:50:12.950Z"
   },
   {
    "duration": 197,
    "start_time": "2021-09-19T19:50:21.338Z"
   },
   {
    "duration": 387,
    "start_time": "2021-09-19T19:50:32.381Z"
   },
   {
    "duration": 95,
    "start_time": "2021-09-19T19:50:58.869Z"
   },
   {
    "duration": 85,
    "start_time": "2021-09-19T19:51:03.763Z"
   },
   {
    "duration": 84,
    "start_time": "2021-09-19T19:51:14.398Z"
   },
   {
    "duration": 134,
    "start_time": "2021-09-19T19:51:24.981Z"
   },
   {
    "duration": 85,
    "start_time": "2021-09-19T19:51:38.308Z"
   },
   {
    "duration": 63,
    "start_time": "2021-09-19T19:52:11.196Z"
   },
   {
    "duration": 57,
    "start_time": "2021-09-19T19:52:20.188Z"
   },
   {
    "duration": 56,
    "start_time": "2021-09-19T19:52:46.500Z"
   },
   {
    "duration": 58,
    "start_time": "2021-09-19T19:53:02.500Z"
   },
   {
    "duration": 6,
    "start_time": "2021-09-19T19:53:07.052Z"
   },
   {
    "duration": 102,
    "start_time": "2021-09-19T19:53:29.220Z"
   },
   {
    "duration": 57,
    "start_time": "2021-09-19T19:53:37.676Z"
   },
   {
    "duration": 127,
    "start_time": "2021-09-19T19:53:44.076Z"
   },
   {
    "duration": 5,
    "start_time": "2021-09-19T19:53:52.379Z"
   },
   {
    "duration": 91078,
    "start_time": "2021-09-19T19:54:02.629Z"
   },
   {
    "duration": 180,
    "start_time": "2021-09-19T20:00:36.631Z"
   },
   {
    "duration": 4,
    "start_time": "2021-09-19T20:00:46.250Z"
   },
   {
    "duration": 4175,
    "start_time": "2021-09-19T20:00:59.931Z"
   },
   {
    "duration": 1264,
    "start_time": "2021-09-19T20:01:17.250Z"
   },
   {
    "duration": 192,
    "start_time": "2021-09-19T20:01:30.730Z"
   },
   {
    "duration": 1436,
    "start_time": "2021-09-19T20:02:41.170Z"
   },
   {
    "duration": 187,
    "start_time": "2021-09-19T20:03:03.626Z"
   },
   {
    "duration": 519,
    "start_time": "2021-09-19T20:10:20.636Z"
   },
   {
    "duration": 180,
    "start_time": "2021-09-19T20:11:39.456Z"
   },
   {
    "duration": 82,
    "start_time": "2021-09-19T20:11:54.940Z"
   },
   {
    "duration": -948,
    "start_time": "2021-09-19T20:11:55.979Z"
   },
   {
    "duration": -952,
    "start_time": "2021-09-19T20:11:55.984Z"
   },
   {
    "duration": -956,
    "start_time": "2021-09-19T20:11:55.989Z"
   },
   {
    "duration": -960,
    "start_time": "2021-09-19T20:11:55.994Z"
   },
   {
    "duration": -962,
    "start_time": "2021-09-19T20:11:55.997Z"
   },
   {
    "duration": -964,
    "start_time": "2021-09-19T20:11:56.000Z"
   },
   {
    "duration": -969,
    "start_time": "2021-09-19T20:11:56.006Z"
   },
   {
    "duration": -972,
    "start_time": "2021-09-19T20:11:56.010Z"
   },
   {
    "duration": -976,
    "start_time": "2021-09-19T20:11:56.015Z"
   },
   {
    "duration": -979,
    "start_time": "2021-09-19T20:11:56.019Z"
   },
   {
    "duration": -983,
    "start_time": "2021-09-19T20:11:56.024Z"
   },
   {
    "duration": -985,
    "start_time": "2021-09-19T20:11:56.027Z"
   },
   {
    "duration": -989,
    "start_time": "2021-09-19T20:11:56.031Z"
   },
   {
    "duration": -992,
    "start_time": "2021-09-19T20:11:56.035Z"
   },
   {
    "duration": -994,
    "start_time": "2021-09-19T20:11:56.038Z"
   },
   {
    "duration": -1013,
    "start_time": "2021-09-19T20:11:56.058Z"
   },
   {
    "duration": -1016,
    "start_time": "2021-09-19T20:11:56.062Z"
   },
   {
    "duration": -1018,
    "start_time": "2021-09-19T20:11:56.065Z"
   },
   {
    "duration": -1021,
    "start_time": "2021-09-19T20:11:56.069Z"
   },
   {
    "duration": -1023,
    "start_time": "2021-09-19T20:11:56.072Z"
   },
   {
    "duration": -1025,
    "start_time": "2021-09-19T20:11:56.075Z"
   },
   {
    "duration": -1028,
    "start_time": "2021-09-19T20:11:56.079Z"
   },
   {
    "duration": -1030,
    "start_time": "2021-09-19T20:11:56.082Z"
   },
   {
    "duration": -1032,
    "start_time": "2021-09-19T20:11:56.085Z"
   },
   {
    "duration": -1034,
    "start_time": "2021-09-19T20:11:56.088Z"
   },
   {
    "duration": -1036,
    "start_time": "2021-09-19T20:11:56.091Z"
   },
   {
    "duration": 4,
    "start_time": "2021-09-19T20:12:15.089Z"
   },
   {
    "duration": 717,
    "start_time": "2021-09-19T20:12:15.095Z"
   },
   {
    "duration": 121,
    "start_time": "2021-09-19T20:12:15.814Z"
   },
   {
    "duration": 105,
    "start_time": "2021-09-19T20:12:15.937Z"
   },
   {
    "duration": 115,
    "start_time": "2021-09-19T20:12:16.044Z"
   },
   {
    "duration": 381,
    "start_time": "2021-09-19T20:12:16.161Z"
   },
   {
    "duration": 113,
    "start_time": "2021-09-19T20:12:16.544Z"
   },
   {
    "duration": 16,
    "start_time": "2021-09-19T20:12:16.659Z"
   },
   {
    "duration": 48,
    "start_time": "2021-09-19T20:12:16.678Z"
   },
   {
    "duration": 35,
    "start_time": "2021-09-19T20:12:16.728Z"
   },
   {
    "duration": 22,
    "start_time": "2021-09-19T20:12:16.764Z"
   },
   {
    "duration": 20,
    "start_time": "2021-09-19T20:12:16.788Z"
   },
   {
    "duration": 106,
    "start_time": "2021-09-19T20:12:16.810Z"
   },
   {
    "duration": 112,
    "start_time": "2021-09-19T20:12:16.918Z"
   },
   {
    "duration": 317,
    "start_time": "2021-09-19T20:12:17.032Z"
   },
   {
    "duration": 364,
    "start_time": "2021-09-19T20:12:17.351Z"
   },
   {
    "duration": 378,
    "start_time": "2021-09-19T20:12:17.716Z"
   },
   {
    "duration": 35,
    "start_time": "2021-09-19T20:12:18.100Z"
   },
   {
    "duration": 10,
    "start_time": "2021-09-19T20:12:18.137Z"
   },
   {
    "duration": 6,
    "start_time": "2021-09-19T20:12:18.149Z"
   },
   {
    "duration": 51,
    "start_time": "2021-09-19T20:12:18.156Z"
   },
   {
    "duration": 742,
    "start_time": "2021-09-19T20:12:18.209Z"
   },
   {
    "duration": 12,
    "start_time": "2021-09-19T20:12:18.953Z"
   },
   {
    "duration": 771,
    "start_time": "2021-09-19T20:12:18.967Z"
   },
   {
    "duration": 60,
    "start_time": "2021-09-19T20:12:20.875Z"
   },
   {
    "duration": 6,
    "start_time": "2021-09-19T20:12:22.343Z"
   },
   {
    "duration": 106,
    "start_time": "2021-09-19T20:12:23.727Z"
   },
   {
    "duration": 5,
    "start_time": "2021-09-19T20:12:27.362Z"
   },
   {
    "duration": 4,
    "start_time": "2021-09-19T20:15:14.812Z"
   },
   {
    "duration": 3599,
    "start_time": "2021-09-19T20:16:46.908Z"
   },
   {
    "duration": 72,
    "start_time": "2021-09-19T20:17:34.740Z"
   },
   {
    "duration": 216,
    "start_time": "2021-09-19T20:18:15.446Z"
   },
   {
    "duration": 6,
    "start_time": "2021-09-19T20:18:31.926Z"
   },
   {
    "duration": 88,
    "start_time": "2021-09-19T20:18:35.896Z"
   },
   {
    "duration": 8,
    "start_time": "2021-09-19T20:18:36.614Z"
   },
   {
    "duration": 6,
    "start_time": "2021-09-19T20:18:41.270Z"
   },
   {
    "duration": 115,
    "start_time": "2021-09-19T20:18:59.070Z"
   },
   {
    "duration": 6,
    "start_time": "2021-09-19T20:19:01.119Z"
   },
   {
    "duration": 163305,
    "start_time": "2021-09-19T20:19:04.911Z"
   },
   {
    "duration": 84,
    "start_time": "2021-09-19T20:21:48.217Z"
   },
   {
    "duration": 4,
    "start_time": "2021-09-19T20:22:41.767Z"
   },
   {
    "duration": 6,
    "start_time": "2021-09-19T20:22:47.297Z"
   },
   {
    "duration": 5,
    "start_time": "2021-09-19T20:22:53.813Z"
   },
   {
    "duration": 4,
    "start_time": "2021-09-19T20:23:10.574Z"
   },
   {
    "duration": 4,
    "start_time": "2021-09-19T20:23:16.461Z"
   },
   {
    "duration": 3,
    "start_time": "2021-09-19T20:23:42.847Z"
   },
   {
    "duration": 4,
    "start_time": "2021-09-19T20:23:50.052Z"
   },
   {
    "duration": 4,
    "start_time": "2021-09-19T20:24:21.085Z"
   },
   {
    "duration": 1760,
    "start_time": "2021-09-19T20:24:41.645Z"
   },
   {
    "duration": 223,
    "start_time": "2021-09-19T20:24:45.149Z"
   },
   {
    "duration": 6,
    "start_time": "2021-09-19T20:25:57.889Z"
   },
   {
    "duration": 5,
    "start_time": "2021-09-19T20:26:02.980Z"
   },
   {
    "duration": 4,
    "start_time": "2021-09-19T20:26:11.622Z"
   },
   {
    "duration": 670,
    "start_time": "2021-09-19T20:26:11.629Z"
   },
   {
    "duration": 119,
    "start_time": "2021-09-19T20:26:12.302Z"
   },
   {
    "duration": 98,
    "start_time": "2021-09-19T20:26:12.423Z"
   },
   {
    "duration": 118,
    "start_time": "2021-09-19T20:26:12.523Z"
   },
   {
    "duration": 369,
    "start_time": "2021-09-19T20:26:12.643Z"
   },
   {
    "duration": 115,
    "start_time": "2021-09-19T20:26:13.013Z"
   },
   {
    "duration": 16,
    "start_time": "2021-09-19T20:26:13.130Z"
   },
   {
    "duration": 34,
    "start_time": "2021-09-19T20:26:13.150Z"
   },
   {
    "duration": 39,
    "start_time": "2021-09-19T20:26:13.187Z"
   },
   {
    "duration": 19,
    "start_time": "2021-09-19T20:26:13.228Z"
   },
   {
    "duration": 17,
    "start_time": "2021-09-19T20:26:13.249Z"
   },
   {
    "duration": 99,
    "start_time": "2021-09-19T20:26:13.268Z"
   },
   {
    "duration": 111,
    "start_time": "2021-09-19T20:26:13.368Z"
   },
   {
    "duration": 296,
    "start_time": "2021-09-19T20:26:13.481Z"
   },
   {
    "duration": 342,
    "start_time": "2021-09-19T20:26:13.779Z"
   },
   {
    "duration": 285,
    "start_time": "2021-09-19T20:26:14.123Z"
   },
   {
    "duration": 24,
    "start_time": "2021-09-19T20:26:14.410Z"
   },
   {
    "duration": 10,
    "start_time": "2021-09-19T20:26:14.435Z"
   },
   {
    "duration": 4,
    "start_time": "2021-09-19T20:26:14.447Z"
   },
   {
    "duration": 48,
    "start_time": "2021-09-19T20:26:14.453Z"
   },
   {
    "duration": 626,
    "start_time": "2021-09-19T20:26:14.503Z"
   },
   {
    "duration": 13,
    "start_time": "2021-09-19T20:26:15.131Z"
   },
   {
    "duration": 774,
    "start_time": "2021-09-19T20:26:15.145Z"
   },
   {
    "duration": 67,
    "start_time": "2021-09-19T20:26:15.921Z"
   },
   {
    "duration": 6,
    "start_time": "2021-09-19T20:26:15.999Z"
   },
   {
    "duration": 110,
    "start_time": "2021-09-19T20:26:16.007Z"
   },
   {
    "duration": 7,
    "start_time": "2021-09-19T20:26:18.236Z"
   },
   {
    "duration": 3,
    "start_time": "2021-09-19T20:26:21.804Z"
   },
   {
    "duration": 677,
    "start_time": "2021-09-19T20:26:21.810Z"
   },
   {
    "duration": 118,
    "start_time": "2021-09-19T20:26:22.489Z"
   },
   {
    "duration": 93,
    "start_time": "2021-09-19T20:26:22.609Z"
   },
   {
    "duration": 120,
    "start_time": "2021-09-19T20:26:22.704Z"
   },
   {
    "duration": 357,
    "start_time": "2021-09-19T20:26:22.825Z"
   },
   {
    "duration": 106,
    "start_time": "2021-09-19T20:26:23.184Z"
   },
   {
    "duration": 20,
    "start_time": "2021-09-19T20:26:23.292Z"
   },
   {
    "duration": 62,
    "start_time": "2021-09-19T20:26:23.314Z"
   },
   {
    "duration": 61,
    "start_time": "2021-09-19T20:26:23.378Z"
   },
   {
    "duration": 47,
    "start_time": "2021-09-19T20:26:23.440Z"
   },
   {
    "duration": 30,
    "start_time": "2021-09-19T20:26:23.489Z"
   },
   {
    "duration": 119,
    "start_time": "2021-09-19T20:26:23.521Z"
   },
   {
    "duration": 113,
    "start_time": "2021-09-19T20:26:23.642Z"
   },
   {
    "duration": 302,
    "start_time": "2021-09-19T20:26:23.758Z"
   },
   {
    "duration": 338,
    "start_time": "2021-09-19T20:26:24.062Z"
   },
   {
    "duration": 296,
    "start_time": "2021-09-19T20:26:24.401Z"
   },
   {
    "duration": 24,
    "start_time": "2021-09-19T20:26:24.699Z"
   },
   {
    "duration": 11,
    "start_time": "2021-09-19T20:26:24.725Z"
   },
   {
    "duration": 30,
    "start_time": "2021-09-19T20:26:24.737Z"
   },
   {
    "duration": 47,
    "start_time": "2021-09-19T20:26:24.768Z"
   },
   {
    "duration": 666,
    "start_time": "2021-09-19T20:26:24.817Z"
   },
   {
    "duration": 21,
    "start_time": "2021-09-19T20:26:25.485Z"
   },
   {
    "duration": 775,
    "start_time": "2021-09-19T20:26:25.509Z"
   },
   {
    "duration": 83,
    "start_time": "2021-09-19T20:26:26.286Z"
   },
   {
    "duration": 6,
    "start_time": "2021-09-19T20:26:28.012Z"
   },
   {
    "duration": 4,
    "start_time": "2021-09-19T20:26:43.251Z"
   },
   {
    "duration": 5,
    "start_time": "2021-09-19T20:26:54.109Z"
   },
   {
    "duration": 6,
    "start_time": "2021-09-19T20:27:44.715Z"
   },
   {
    "duration": 98,
    "start_time": "2021-09-19T20:28:35.548Z"
   },
   {
    "duration": 5,
    "start_time": "2021-09-19T20:28:38.748Z"
   },
   {
    "duration": 39,
    "start_time": "2021-09-19T20:29:25.651Z"
   },
   {
    "duration": 6,
    "start_time": "2021-09-19T20:29:50.259Z"
   },
   {
    "duration": 5,
    "start_time": "2021-09-19T20:30:17.411Z"
   },
   {
    "duration": 5,
    "start_time": "2021-09-19T20:30:30.629Z"
   },
   {
    "duration": 6,
    "start_time": "2021-09-19T20:30:37.826Z"
   },
   {
    "duration": 57,
    "start_time": "2021-09-19T20:31:31.507Z"
   },
   {
    "duration": 4,
    "start_time": "2021-09-19T20:31:38.141Z"
   },
   {
    "duration": 61,
    "start_time": "2021-09-19T20:31:52.571Z"
   },
   {
    "duration": 2064,
    "start_time": "2021-09-19T20:32:00.243Z"
   },
   {
    "duration": 103,
    "start_time": "2021-09-19T20:32:05.002Z"
   },
   {
    "duration": 178,
    "start_time": "2021-09-19T20:32:07.531Z"
   },
   {
    "duration": 42,
    "start_time": "2021-09-19T20:32:30.763Z"
   },
   {
    "duration": 634,
    "start_time": "2021-09-19T20:32:31.983Z"
   },
   {
    "duration": 5,
    "start_time": "2021-09-19T20:32:43.747Z"
   },
   {
    "duration": 4,
    "start_time": "2021-09-19T20:35:08.578Z"
   },
   {
    "duration": 735,
    "start_time": "2021-09-19T20:35:08.585Z"
   },
   {
    "duration": 128,
    "start_time": "2021-09-19T20:35:09.322Z"
   },
   {
    "duration": 101,
    "start_time": "2021-09-19T20:35:09.452Z"
   },
   {
    "duration": 126,
    "start_time": "2021-09-19T20:35:09.555Z"
   },
   {
    "duration": 409,
    "start_time": "2021-09-19T20:35:09.682Z"
   },
   {
    "duration": 125,
    "start_time": "2021-09-19T20:35:10.092Z"
   },
   {
    "duration": 18,
    "start_time": "2021-09-19T20:35:10.220Z"
   },
   {
    "duration": 32,
    "start_time": "2021-09-19T20:35:10.240Z"
   },
   {
    "duration": 55,
    "start_time": "2021-09-19T20:35:10.274Z"
   },
   {
    "duration": 16,
    "start_time": "2021-09-19T20:35:10.330Z"
   },
   {
    "duration": 18,
    "start_time": "2021-09-19T20:35:10.348Z"
   },
   {
    "duration": 117,
    "start_time": "2021-09-19T20:35:10.367Z"
   },
   {
    "duration": 123,
    "start_time": "2021-09-19T20:35:10.486Z"
   },
   {
    "duration": 338,
    "start_time": "2021-09-19T20:35:10.611Z"
   },
   {
    "duration": 385,
    "start_time": "2021-09-19T20:35:10.951Z"
   },
   {
    "duration": 330,
    "start_time": "2021-09-19T20:35:11.338Z"
   },
   {
    "duration": 36,
    "start_time": "2021-09-19T20:35:11.670Z"
   },
   {
    "duration": 13,
    "start_time": "2021-09-19T20:35:11.709Z"
   },
   {
    "duration": 5,
    "start_time": "2021-09-19T20:35:11.724Z"
   },
   {
    "duration": 30,
    "start_time": "2021-09-19T20:35:11.731Z"
   },
   {
    "duration": 778,
    "start_time": "2021-09-19T20:35:11.763Z"
   },
   {
    "duration": 14,
    "start_time": "2021-09-19T20:35:12.545Z"
   },
   {
    "duration": 821,
    "start_time": "2021-09-19T20:35:12.561Z"
   },
   {
    "duration": 79,
    "start_time": "2021-09-19T20:35:13.384Z"
   },
   {
    "duration": 5,
    "start_time": "2021-09-19T20:35:13.465Z"
   },
   {
    "duration": 159,
    "start_time": "2021-09-19T20:35:13.471Z"
   },
   {
    "duration": 5,
    "start_time": "2021-09-19T20:35:13.632Z"
   },
   {
    "duration": 63232,
    "start_time": "2021-09-19T20:35:13.639Z"
   },
   {
    "duration": 3,
    "start_time": "2021-09-19T20:36:16.873Z"
   },
   {
    "duration": 645322,
    "start_time": "2021-09-19T20:36:16.878Z"
   },
   {
    "duration": 6,
    "start_time": "2021-09-19T20:47:02.203Z"
   },
   {
    "duration": 25991,
    "start_time": "2021-09-19T20:47:02.211Z"
   },
   {
    "duration": 286508,
    "start_time": "2021-09-19T20:47:28.206Z"
   },
   {
    "duration": 8,
    "start_time": "2021-09-19T20:52:14.716Z"
   },
   {
    "duration": 3,
    "start_time": "2021-09-19T20:52:14.725Z"
   },
   {
    "duration": 7988,
    "start_time": "2021-09-19T20:52:14.730Z"
   },
   {
    "duration": 140,
    "start_time": "2021-09-19T20:52:22.720Z"
   },
   {
    "duration": 4,
    "start_time": "2021-09-19T20:52:22.862Z"
   },
   {
    "duration": 98205,
    "start_time": "2021-09-19T20:52:22.868Z"
   },
   {
    "duration": 395,
    "start_time": "2021-09-19T20:54:01.075Z"
   },
   {
    "duration": 4,
    "start_time": "2021-09-19T20:54:01.473Z"
   },
   {
    "duration": 225,
    "start_time": "2021-09-19T20:54:01.479Z"
   },
   {
    "duration": 100,
    "start_time": "2021-09-19T20:54:01.707Z"
   },
   {
    "duration": 8791,
    "start_time": "2021-09-19T20:54:01.813Z"
   },
   {
    "duration": 103,
    "start_time": "2021-09-19T20:54:10.610Z"
   },
   {
    "duration": 87,
    "start_time": "2021-09-19T20:54:10.716Z"
   },
   {
    "duration": 16,
    "start_time": "2021-09-19T20:54:10.805Z"
   },
   {
    "duration": 3,
    "start_time": "2021-09-19T20:54:10.822Z"
   },
   {
    "duration": 397,
    "start_time": "2021-09-19T20:56:49.471Z"
   },
   {
    "duration": 12,
    "start_time": "2021-09-19T20:57:23.720Z"
   },
   {
    "duration": 64,
    "start_time": "2021-09-19T20:59:14.977Z"
   },
   {
    "duration": 1423,
    "start_time": "2021-09-19T21:01:25.014Z"
   },
   {
    "duration": 1075,
    "start_time": "2021-09-19T21:04:40.249Z"
   },
   {
    "duration": 744,
    "start_time": "2021-09-19T21:04:41.326Z"
   },
   {
    "duration": 121,
    "start_time": "2021-09-19T21:04:42.072Z"
   },
   {
    "duration": 101,
    "start_time": "2021-09-19T21:04:42.199Z"
   },
   {
    "duration": 119,
    "start_time": "2021-09-19T21:04:42.302Z"
   },
   {
    "duration": 414,
    "start_time": "2021-09-19T21:04:42.422Z"
   },
   {
    "duration": 121,
    "start_time": "2021-09-19T21:04:42.839Z"
   },
   {
    "duration": 17,
    "start_time": "2021-09-19T21:04:42.962Z"
   },
   {
    "duration": 43,
    "start_time": "2021-09-19T21:04:42.981Z"
   },
   {
    "duration": 36,
    "start_time": "2021-09-19T21:04:43.026Z"
   },
   {
    "duration": 19,
    "start_time": "2021-09-19T21:04:43.064Z"
   },
   {
    "duration": 21,
    "start_time": "2021-09-19T21:04:43.084Z"
   },
   {
    "duration": 105,
    "start_time": "2021-09-19T21:04:43.107Z"
   },
   {
    "duration": 108,
    "start_time": "2021-09-19T21:04:43.214Z"
   },
   {
    "duration": 351,
    "start_time": "2021-09-19T21:04:43.324Z"
   },
   {
    "duration": 380,
    "start_time": "2021-09-19T21:04:43.676Z"
   },
   {
    "duration": 342,
    "start_time": "2021-09-19T21:04:44.059Z"
   },
   {
    "duration": 27,
    "start_time": "2021-09-19T21:04:44.402Z"
   },
   {
    "duration": 10,
    "start_time": "2021-09-19T21:04:44.431Z"
   },
   {
    "duration": 10,
    "start_time": "2021-09-19T21:04:44.442Z"
   },
   {
    "duration": 47,
    "start_time": "2021-09-19T21:04:44.454Z"
   },
   {
    "duration": 674,
    "start_time": "2021-09-19T21:04:44.503Z"
   },
   {
    "duration": 20,
    "start_time": "2021-09-19T21:04:45.180Z"
   },
   {
    "duration": 768,
    "start_time": "2021-09-19T21:04:45.202Z"
   },
   {
    "duration": 81,
    "start_time": "2021-09-19T21:04:45.971Z"
   },
   {
    "duration": 4,
    "start_time": "2021-09-19T21:04:46.054Z"
   },
   {
    "duration": 149,
    "start_time": "2021-09-19T21:04:46.060Z"
   },
   {
    "duration": 5,
    "start_time": "2021-09-19T21:04:46.210Z"
   },
   {
    "duration": 62868,
    "start_time": "2021-09-19T21:04:46.216Z"
   },
   {
    "duration": 3,
    "start_time": "2021-09-19T21:05:49.086Z"
   },
   {
    "duration": 640117,
    "start_time": "2021-09-19T21:05:49.091Z"
   },
   {
    "duration": 3,
    "start_time": "2021-09-19T21:16:29.209Z"
   },
   {
    "duration": 22486,
    "start_time": "2021-09-19T21:16:29.214Z"
   },
   {
    "duration": 132402,
    "start_time": "2021-09-19T21:16:51.702Z"
   },
   {
    "duration": 3,
    "start_time": "2021-09-19T21:19:04.105Z"
   },
   {
    "duration": 5,
    "start_time": "2021-09-19T21:19:04.110Z"
   },
   {
    "duration": 7401,
    "start_time": "2021-09-19T21:19:04.116Z"
   },
   {
    "duration": 134,
    "start_time": "2021-09-19T21:19:11.518Z"
   },
   {
    "duration": 4,
    "start_time": "2021-09-19T21:19:11.653Z"
   },
   {
    "duration": 93258,
    "start_time": "2021-09-19T21:19:11.659Z"
   },
   {
    "duration": 364,
    "start_time": "2021-09-19T21:20:44.920Z"
   },
   {
    "duration": 15,
    "start_time": "2021-09-19T21:20:45.287Z"
   },
   {
    "duration": 198,
    "start_time": "2021-09-19T21:20:45.303Z"
   },
   {
    "duration": 6,
    "start_time": "2021-09-19T21:20:45.504Z"
   },
   {
    "duration": 2307,
    "start_time": "2021-09-19T21:20:45.601Z"
   },
   {
    "duration": 194,
    "start_time": "2021-09-19T21:20:47.910Z"
   },
   {
    "duration": 4,
    "start_time": "2021-09-19T21:20:48.106Z"
   },
   {
    "duration": 14,
    "start_time": "2021-09-19T21:20:48.111Z"
   },
   {
    "duration": 7,
    "start_time": "2021-09-19T21:20:48.126Z"
   },
   {
    "duration": 5,
    "start_time": "2021-09-19T21:25:27.637Z"
   },
   {
    "duration": 9,
    "start_time": "2021-09-19T21:25:30.873Z"
   },
   {
    "duration": 8,
    "start_time": "2021-09-19T21:26:04.559Z"
   },
   {
    "duration": 4,
    "start_time": "2021-09-19T21:26:34.230Z"
   }
  ],
  "kernelspec": {
   "display_name": "Python 3",
   "language": "python",
   "name": "python3"
  },
  "language_info": {
   "codemirror_mode": {
    "name": "ipython",
    "version": 3
   },
   "file_extension": ".py",
   "mimetype": "text/x-python",
   "name": "python",
   "nbconvert_exporter": "python",
   "pygments_lexer": "ipython3",
   "version": "3.9.2"
  },
  "toc": {
   "base_numbering": 1,
   "nav_menu": {},
   "number_sections": true,
   "sideBar": true,
   "skip_h1_title": true,
   "title_cell": "Table of Contents",
   "title_sidebar": "Contents",
   "toc_cell": false,
   "toc_position": {
    "height": "calc(100% - 180px)",
    "left": "10px",
    "top": "150px",
    "width": "494.396px"
   },
   "toc_section_display": true,
   "toc_window_display": true
  }
 },
 "nbformat": 4,
 "nbformat_minor": 4
}
