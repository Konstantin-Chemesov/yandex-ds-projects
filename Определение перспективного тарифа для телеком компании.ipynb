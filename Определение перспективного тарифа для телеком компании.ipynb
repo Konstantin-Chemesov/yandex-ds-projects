{
 "cells": [
  {
   "cell_type": "markdown",
   "metadata": {},
   "source": [
    "**Название проекта: Определение перспективного тарифа для телеком компании**\n",
    "\n",
    "\n",
    "Цель проекта: проанализировать поведение клиентов тарифов \"Смарт\" и \"Ультра\" и сделать вывод — какой из них лучше лучше.\n",
    "\n",
    "Основные задачи:\n",
    "1. Изучить общую информацию\n",
    "2. Подготовить данные к работе\n",
    "3. Посчитать для каждого пользователя:\n",
    "    - количество сделанных звонков и израсходованных минут разговора по месяцам;\n",
    "    - количество отправленных сообщений по месяцам;\n",
    "    - объем израсходованного интернет-трафика по месяцам;\n",
    "    - помесячную выручку с каждого пользователя.\n",
    "4. Проанализировать данные \n",
    "5. Проверить гипотезы:\n",
    "    - средняя выручка пользователей тарифов «Ультра» и «Смарт» различается;\n",
    "    - средняя выручка пользователей из Москвы отличается от выручки пользователей из других регионов;"
   ]
  },
  {
   "cell_type": "markdown",
   "metadata": {},
   "source": [
    "**Содержание:**\n",
    "\n",
    "1. Изучение информации об имеющихся наборах данных\n",
    "2. Подготовка данных\n",
    "3. Анализ полученных данных\n",
    "4. Проверка гипотез\n",
    "5. Общий вывод по проекту"
   ]
  },
  {
   "cell_type": "markdown",
   "metadata": {},
   "source": [
    "# Изучение информации об имеющихся наборах данных"
   ]
  },
  {
   "cell_type": "markdown",
   "metadata": {},
   "source": [
    "## Подгрузка требуемых библиотек"
   ]
  },
  {
   "cell_type": "code",
   "execution_count": 1,
   "metadata": {},
   "outputs": [],
   "source": [
    "# Первым делом подгружаем требуемые для работы библиотеки\n",
    "\n",
    "import pandas as pd\n",
    "import math\n",
    "import numpy as np\n",
    "from scipy import stats as st\n",
    "import matplotlib\n",
    "import matplotlib.pyplot as plt"
   ]
  },
  {
   "cell_type": "markdown",
   "metadata": {},
   "source": [
    "## Вызов таблиц с данными"
   ]
  },
  {
   "cell_type": "markdown",
   "metadata": {},
   "source": [
    "### Датасет звонков"
   ]
  },
  {
   "cell_type": "code",
   "execution_count": 2,
   "metadata": {},
   "outputs": [],
   "source": [
    "# Вызываем для работы таблицу с информацией о звонках и сохраняем ее в новом датафрейме\n",
    "\n",
    "try:\n",
    "    data_calls = pd.read_csv('calls.csv')\n",
    "except:\n",
    "    print(\"Невозможно загрузить файл. Попробуй проверить путь к нему\")"
   ]
  },
  {
   "cell_type": "code",
   "execution_count": 3,
   "metadata": {},
   "outputs": [
    {
     "data": {
      "text/html": [
       "<div>\n",
       "<style scoped>\n",
       "    .dataframe tbody tr th:only-of-type {\n",
       "        vertical-align: middle;\n",
       "    }\n",
       "\n",
       "    .dataframe tbody tr th {\n",
       "        vertical-align: top;\n",
       "    }\n",
       "\n",
       "    .dataframe thead th {\n",
       "        text-align: right;\n",
       "    }\n",
       "</style>\n",
       "<table border=\"1\" class=\"dataframe\">\n",
       "  <thead>\n",
       "    <tr style=\"text-align: right;\">\n",
       "      <th></th>\n",
       "      <th>id</th>\n",
       "      <th>call_date</th>\n",
       "      <th>duration</th>\n",
       "      <th>user_id</th>\n",
       "    </tr>\n",
       "  </thead>\n",
       "  <tbody>\n",
       "    <tr>\n",
       "      <th>0</th>\n",
       "      <td>1000_0</td>\n",
       "      <td>2018-07-25</td>\n",
       "      <td>0.00</td>\n",
       "      <td>1000</td>\n",
       "    </tr>\n",
       "    <tr>\n",
       "      <th>1</th>\n",
       "      <td>1000_1</td>\n",
       "      <td>2018-08-17</td>\n",
       "      <td>0.00</td>\n",
       "      <td>1000</td>\n",
       "    </tr>\n",
       "    <tr>\n",
       "      <th>2</th>\n",
       "      <td>1000_2</td>\n",
       "      <td>2018-06-11</td>\n",
       "      <td>2.85</td>\n",
       "      <td>1000</td>\n",
       "    </tr>\n",
       "    <tr>\n",
       "      <th>3</th>\n",
       "      <td>1000_3</td>\n",
       "      <td>2018-09-21</td>\n",
       "      <td>13.80</td>\n",
       "      <td>1000</td>\n",
       "    </tr>\n",
       "    <tr>\n",
       "      <th>4</th>\n",
       "      <td>1000_4</td>\n",
       "      <td>2018-12-15</td>\n",
       "      <td>5.18</td>\n",
       "      <td>1000</td>\n",
       "    </tr>\n",
       "  </tbody>\n",
       "</table>\n",
       "</div>"
      ],
      "text/plain": [
       "       id   call_date  duration  user_id\n",
       "0  1000_0  2018-07-25      0.00     1000\n",
       "1  1000_1  2018-08-17      0.00     1000\n",
       "2  1000_2  2018-06-11      2.85     1000\n",
       "3  1000_3  2018-09-21     13.80     1000\n",
       "4  1000_4  2018-12-15      5.18     1000"
      ]
     },
     "execution_count": 3,
     "metadata": {},
     "output_type": "execute_result"
    }
   ],
   "source": [
    "# Выводим вызванную таблицу для ее визуального осмотра\n",
    "\n",
    "data_calls.head()"
   ]
  },
  {
   "cell_type": "code",
   "execution_count": 4,
   "metadata": {},
   "outputs": [
    {
     "name": "stdout",
     "output_type": "stream",
     "text": [
      "<class 'pandas.core.frame.DataFrame'>\n",
      "RangeIndex: 202607 entries, 0 to 202606\n",
      "Data columns (total 4 columns):\n",
      " #   Column     Non-Null Count   Dtype  \n",
      "---  ------     --------------   -----  \n",
      " 0   id         202607 non-null  object \n",
      " 1   call_date  202607 non-null  object \n",
      " 2   duration   202607 non-null  float64\n",
      " 3   user_id    202607 non-null  int64  \n",
      "dtypes: float64(1), int64(1), object(2)\n",
      "memory usage: 6.2+ MB\n"
     ]
    }
   ],
   "source": [
    "# Применяем метод info() для получения основных параметров датасета\n",
    "\n",
    "data_calls.info()"
   ]
  },
  {
   "cell_type": "code",
   "execution_count": 5,
   "metadata": {},
   "outputs": [
    {
     "data": {
      "text/html": [
       "<div>\n",
       "<style scoped>\n",
       "    .dataframe tbody tr th:only-of-type {\n",
       "        vertical-align: middle;\n",
       "    }\n",
       "\n",
       "    .dataframe tbody tr th {\n",
       "        vertical-align: top;\n",
       "    }\n",
       "\n",
       "    .dataframe thead th {\n",
       "        text-align: right;\n",
       "    }\n",
       "</style>\n",
       "<table border=\"1\" class=\"dataframe\">\n",
       "  <thead>\n",
       "    <tr style=\"text-align: right;\">\n",
       "      <th></th>\n",
       "      <th>duration</th>\n",
       "      <th>user_id</th>\n",
       "    </tr>\n",
       "  </thead>\n",
       "  <tbody>\n",
       "    <tr>\n",
       "      <th>count</th>\n",
       "      <td>202607.000000</td>\n",
       "      <td>202607.000000</td>\n",
       "    </tr>\n",
       "    <tr>\n",
       "      <th>mean</th>\n",
       "      <td>6.755887</td>\n",
       "      <td>1253.940619</td>\n",
       "    </tr>\n",
       "    <tr>\n",
       "      <th>std</th>\n",
       "      <td>5.843365</td>\n",
       "      <td>144.722751</td>\n",
       "    </tr>\n",
       "    <tr>\n",
       "      <th>min</th>\n",
       "      <td>0.000000</td>\n",
       "      <td>1000.000000</td>\n",
       "    </tr>\n",
       "    <tr>\n",
       "      <th>25%</th>\n",
       "      <td>1.300000</td>\n",
       "      <td>1126.000000</td>\n",
       "    </tr>\n",
       "    <tr>\n",
       "      <th>50%</th>\n",
       "      <td>6.000000</td>\n",
       "      <td>1260.000000</td>\n",
       "    </tr>\n",
       "    <tr>\n",
       "      <th>75%</th>\n",
       "      <td>10.700000</td>\n",
       "      <td>1379.000000</td>\n",
       "    </tr>\n",
       "    <tr>\n",
       "      <th>max</th>\n",
       "      <td>38.000000</td>\n",
       "      <td>1499.000000</td>\n",
       "    </tr>\n",
       "  </tbody>\n",
       "</table>\n",
       "</div>"
      ],
      "text/plain": [
       "            duration        user_id\n",
       "count  202607.000000  202607.000000\n",
       "mean        6.755887    1253.940619\n",
       "std         5.843365     144.722751\n",
       "min         0.000000    1000.000000\n",
       "25%         1.300000    1126.000000\n",
       "50%         6.000000    1260.000000\n",
       "75%        10.700000    1379.000000\n",
       "max        38.000000    1499.000000"
      ]
     },
     "execution_count": 5,
     "metadata": {},
     "output_type": "execute_result"
    }
   ],
   "source": [
    "# Ну и describe() даст полезные сведения \n",
    "\n",
    "data_calls.describe()"
   ]
  },
  {
   "cell_type": "markdown",
   "metadata": {},
   "source": [
    "**Выводы по первичному изучению данных о звонках**\n",
    "\n",
    "Указанный датафрейм состоит из 4 столбцов, 202607 строк. Подробнее о каждом столбце можно сказать следующее:\n",
    "\n",
    "1. id - содержит данные об уникальном номере звонка. Пропусков нет. Формат данных object корректировок не требует.\n",
    "2. call_date - дата совершения звонка пользователем. Пропусков нет. Формат данных object требует корректировки и перевода в date/time для последующей работы с данными.\n",
    "3. duration - длительность звонка в минутах. Пропусков нет. Формат данных float64 не требует корректировок. В дальнейшем понадобится создание нового столбца в формате int на основе текущего, в котором исходные значения будут округлены вверх для расчета прибыли компании по имеющимся тарифам (т.к. \"Мегалайн\" всегда производит округление длительности звонка вверх, совершая поминутную тарификацию). \n",
    "\n",
    "    В данном столбце присутствуют нулевые значения (почти 20 % значений), которые могут означать \"недозвон\" или ошибку при записи данных. Такие звонки не облагаются оплатой, а, значит, не повлияют на расчет доходов компаниии, а также не будут учитываться при получении общей продолжительности разговоров для пользователей. Для подсчета общего количества \"успешных\" вызовов можно будет сделать срез по ненулевым значениям. Нули можно оставить.\n",
    "4. user_id - идентификатор пользователя, сделавшего звонок. Пропусков нет. Формат данных int корректировок не требует.\n",
    "</div>"
   ]
  },
  {
   "cell_type": "markdown",
   "metadata": {},
   "source": [
    "### Данные об использовании интернета"
   ]
  },
  {
   "cell_type": "code",
   "execution_count": 6,
   "metadata": {},
   "outputs": [],
   "source": [
    "# Вызываем для работы таблицу с информацией об интернет-трафике и сохраняем ее в новом датафрейме\n",
    "\n",
    "try:\n",
    "    data_internet = pd.read_csv('internet.csv')\n",
    "except:\n",
    "    print(\"Невозможно загрузить файл. Попробуй проверить путь к нему\")"
   ]
  },
  {
   "cell_type": "code",
   "execution_count": 7,
   "metadata": {},
   "outputs": [
    {
     "data": {
      "text/html": [
       "<div>\n",
       "<style scoped>\n",
       "    .dataframe tbody tr th:only-of-type {\n",
       "        vertical-align: middle;\n",
       "    }\n",
       "\n",
       "    .dataframe tbody tr th {\n",
       "        vertical-align: top;\n",
       "    }\n",
       "\n",
       "    .dataframe thead th {\n",
       "        text-align: right;\n",
       "    }\n",
       "</style>\n",
       "<table border=\"1\" class=\"dataframe\">\n",
       "  <thead>\n",
       "    <tr style=\"text-align: right;\">\n",
       "      <th></th>\n",
       "      <th>Unnamed: 0</th>\n",
       "      <th>id</th>\n",
       "      <th>mb_used</th>\n",
       "      <th>session_date</th>\n",
       "      <th>user_id</th>\n",
       "    </tr>\n",
       "  </thead>\n",
       "  <tbody>\n",
       "    <tr>\n",
       "      <th>0</th>\n",
       "      <td>0</td>\n",
       "      <td>1000_0</td>\n",
       "      <td>112.95</td>\n",
       "      <td>2018-11-25</td>\n",
       "      <td>1000</td>\n",
       "    </tr>\n",
       "    <tr>\n",
       "      <th>1</th>\n",
       "      <td>1</td>\n",
       "      <td>1000_1</td>\n",
       "      <td>1052.81</td>\n",
       "      <td>2018-09-07</td>\n",
       "      <td>1000</td>\n",
       "    </tr>\n",
       "    <tr>\n",
       "      <th>2</th>\n",
       "      <td>2</td>\n",
       "      <td>1000_2</td>\n",
       "      <td>1197.26</td>\n",
       "      <td>2018-06-25</td>\n",
       "      <td>1000</td>\n",
       "    </tr>\n",
       "    <tr>\n",
       "      <th>3</th>\n",
       "      <td>3</td>\n",
       "      <td>1000_3</td>\n",
       "      <td>550.27</td>\n",
       "      <td>2018-08-22</td>\n",
       "      <td>1000</td>\n",
       "    </tr>\n",
       "    <tr>\n",
       "      <th>4</th>\n",
       "      <td>4</td>\n",
       "      <td>1000_4</td>\n",
       "      <td>302.56</td>\n",
       "      <td>2018-09-24</td>\n",
       "      <td>1000</td>\n",
       "    </tr>\n",
       "  </tbody>\n",
       "</table>\n",
       "</div>"
      ],
      "text/plain": [
       "   Unnamed: 0      id  mb_used session_date  user_id\n",
       "0           0  1000_0   112.95   2018-11-25     1000\n",
       "1           1  1000_1  1052.81   2018-09-07     1000\n",
       "2           2  1000_2  1197.26   2018-06-25     1000\n",
       "3           3  1000_3   550.27   2018-08-22     1000\n",
       "4           4  1000_4   302.56   2018-09-24     1000"
      ]
     },
     "execution_count": 7,
     "metadata": {},
     "output_type": "execute_result"
    }
   ],
   "source": [
    "# Вызываем таблицу для визуального осмотра\n",
    "\n",
    "data_internet.head()"
   ]
  },
  {
   "cell_type": "code",
   "execution_count": 8,
   "metadata": {},
   "outputs": [
    {
     "data": {
      "text/plain": [
       "0.00      19598\n",
       "335.91        9\n",
       "447.30        9\n",
       "197.56        9\n",
       "199.11        8\n",
       "          ...  \n",
       "182.69        1\n",
       "726.03        1\n",
       "315.12        1\n",
       "898.99        1\n",
       "677.66        1\n",
       "Name: mb_used, Length: 70003, dtype: int64"
      ]
     },
     "execution_count": 8,
     "metadata": {},
     "output_type": "execute_result"
    }
   ],
   "source": [
    "data_internet['mb_used'].value_counts()"
   ]
  },
  {
   "cell_type": "code",
   "execution_count": 9,
   "metadata": {},
   "outputs": [
    {
     "name": "stdout",
     "output_type": "stream",
     "text": [
      "<class 'pandas.core.frame.DataFrame'>\n",
      "RangeIndex: 149396 entries, 0 to 149395\n",
      "Data columns (total 5 columns):\n",
      " #   Column        Non-Null Count   Dtype  \n",
      "---  ------        --------------   -----  \n",
      " 0   Unnamed: 0    149396 non-null  int64  \n",
      " 1   id            149396 non-null  object \n",
      " 2   mb_used       149396 non-null  float64\n",
      " 3   session_date  149396 non-null  object \n",
      " 4   user_id       149396 non-null  int64  \n",
      "dtypes: float64(1), int64(2), object(2)\n",
      "memory usage: 5.7+ MB\n"
     ]
    }
   ],
   "source": [
    "# Применяем метод info() для получения доп. параметров датасета\n",
    "\n",
    "data_internet.info()"
   ]
  },
  {
   "cell_type": "code",
   "execution_count": 10,
   "metadata": {},
   "outputs": [
    {
     "data": {
      "text/html": [
       "<div>\n",
       "<style scoped>\n",
       "    .dataframe tbody tr th:only-of-type {\n",
       "        vertical-align: middle;\n",
       "    }\n",
       "\n",
       "    .dataframe tbody tr th {\n",
       "        vertical-align: top;\n",
       "    }\n",
       "\n",
       "    .dataframe thead th {\n",
       "        text-align: right;\n",
       "    }\n",
       "</style>\n",
       "<table border=\"1\" class=\"dataframe\">\n",
       "  <thead>\n",
       "    <tr style=\"text-align: right;\">\n",
       "      <th></th>\n",
       "      <th>Unnamed: 0</th>\n",
       "      <th>mb_used</th>\n",
       "      <th>user_id</th>\n",
       "    </tr>\n",
       "  </thead>\n",
       "  <tbody>\n",
       "    <tr>\n",
       "      <th>count</th>\n",
       "      <td>149396.000000</td>\n",
       "      <td>149396.000000</td>\n",
       "      <td>149396.000000</td>\n",
       "    </tr>\n",
       "    <tr>\n",
       "      <th>mean</th>\n",
       "      <td>74697.500000</td>\n",
       "      <td>370.192426</td>\n",
       "      <td>1252.099842</td>\n",
       "    </tr>\n",
       "    <tr>\n",
       "      <th>std</th>\n",
       "      <td>43127.054745</td>\n",
       "      <td>278.300951</td>\n",
       "      <td>144.050823</td>\n",
       "    </tr>\n",
       "    <tr>\n",
       "      <th>min</th>\n",
       "      <td>0.000000</td>\n",
       "      <td>0.000000</td>\n",
       "      <td>1000.000000</td>\n",
       "    </tr>\n",
       "    <tr>\n",
       "      <th>25%</th>\n",
       "      <td>37348.750000</td>\n",
       "      <td>138.187500</td>\n",
       "      <td>1130.000000</td>\n",
       "    </tr>\n",
       "    <tr>\n",
       "      <th>50%</th>\n",
       "      <td>74697.500000</td>\n",
       "      <td>348.015000</td>\n",
       "      <td>1251.000000</td>\n",
       "    </tr>\n",
       "    <tr>\n",
       "      <th>75%</th>\n",
       "      <td>112046.250000</td>\n",
       "      <td>559.552500</td>\n",
       "      <td>1380.000000</td>\n",
       "    </tr>\n",
       "    <tr>\n",
       "      <th>max</th>\n",
       "      <td>149395.000000</td>\n",
       "      <td>1724.830000</td>\n",
       "      <td>1499.000000</td>\n",
       "    </tr>\n",
       "  </tbody>\n",
       "</table>\n",
       "</div>"
      ],
      "text/plain": [
       "          Unnamed: 0        mb_used        user_id\n",
       "count  149396.000000  149396.000000  149396.000000\n",
       "mean    74697.500000     370.192426    1252.099842\n",
       "std     43127.054745     278.300951     144.050823\n",
       "min         0.000000       0.000000    1000.000000\n",
       "25%     37348.750000     138.187500    1130.000000\n",
       "50%     74697.500000     348.015000    1251.000000\n",
       "75%    112046.250000     559.552500    1380.000000\n",
       "max    149395.000000    1724.830000    1499.000000"
      ]
     },
     "execution_count": 10,
     "metadata": {},
     "output_type": "execute_result"
    }
   ],
   "source": [
    "# И Describe() не помешает\n",
    "\n",
    "data_internet.describe()"
   ]
  },
  {
   "cell_type": "markdown",
   "metadata": {},
   "source": [
    "**Выводы по первичному изучению данных об использовании интернета**\n",
    "\n",
    "Данный датафрейм содержит 5 столбцов и 149396 строк. Подробнее о столбцах можно сообщить следующее:\n",
    "\n",
    "1. Unnamed: 0 - столбец не отмечен в задании и полностью дублирует индексы датафрейма. Мог быть создан случайно при формировании таблицы. Имеет смысл его жесточайшим образом уничтожить, чтобы не \"путался под ногами\" у серьезных дядек.\n",
    "2. id - уникальный номер сессии. Не содержит пропусков. Формат данных object не требует корректировок.\n",
    "3. mb_used - объем потраченного за сессию интернет-трафика (в мегабайтах). Пропусков не содержит. Формат данных float64 корректировок не требует, однако, учитывая тягу \"Мегалайна\" к округлению трафика вверх, в дальнейшем понадобится новый столбец, содержащий округленные указанным образом значения,  записанные в формате int.\n",
    "    \n",
    "    Данный столбец содержит нулевые значения (прим. 13 %). Самым простым вариантом причины их появления может быть банальное неиспользование интернета. Достаточно часто это происходит у пожилых людей старше 65 лет, которые применяют телефон только для связи с родными и друзьями посредством обычных звонков. Срез по данным о пользователях по критерию \"старше 65 лет\" дает количество в 89 юзеров, что соответствует 13 процентам от общего числа пользователей. Таким образом, делаем предположение о том, что нули действительно означают неиспользование интернет-трафика и оставляем их как есть. На подсчеты прибыли компании они не повлияют.\n",
    "\n",
    "4. session_date - дата интернет-сессии. Пропусков не имеет. Формат данных object требует преобразования в формат date/time.\n",
    "5. user_id - уникальный идентификатор пользователя. Пропусков нет. Формат данных Int64 не требует коррекции.\n",
    "</div>"
   ]
  },
  {
   "cell_type": "markdown",
   "metadata": {},
   "source": [
    "### Таблица с данными об использовании текстовых сообщений"
   ]
  },
  {
   "cell_type": "code",
   "execution_count": 11,
   "metadata": {},
   "outputs": [],
   "source": [
    "# Вызываем для работы таблицу с информацией об использовании СМС и сохраняем ее в новом датафрейме\n",
    "\n",
    "try:\n",
    "    data_messages = pd.read_csv('messages.csv')\n",
    "except:\n",
    "    print(\"Невозможно загрузить файл. Попробуй проверить путь к нему\")"
   ]
  },
  {
   "cell_type": "code",
   "execution_count": 12,
   "metadata": {},
   "outputs": [
    {
     "data": {
      "text/html": [
       "<div>\n",
       "<style scoped>\n",
       "    .dataframe tbody tr th:only-of-type {\n",
       "        vertical-align: middle;\n",
       "    }\n",
       "\n",
       "    .dataframe tbody tr th {\n",
       "        vertical-align: top;\n",
       "    }\n",
       "\n",
       "    .dataframe thead th {\n",
       "        text-align: right;\n",
       "    }\n",
       "</style>\n",
       "<table border=\"1\" class=\"dataframe\">\n",
       "  <thead>\n",
       "    <tr style=\"text-align: right;\">\n",
       "      <th></th>\n",
       "      <th>id</th>\n",
       "      <th>message_date</th>\n",
       "      <th>user_id</th>\n",
       "    </tr>\n",
       "  </thead>\n",
       "  <tbody>\n",
       "    <tr>\n",
       "      <th>0</th>\n",
       "      <td>1000_0</td>\n",
       "      <td>2018-06-27</td>\n",
       "      <td>1000</td>\n",
       "    </tr>\n",
       "    <tr>\n",
       "      <th>1</th>\n",
       "      <td>1000_1</td>\n",
       "      <td>2018-10-08</td>\n",
       "      <td>1000</td>\n",
       "    </tr>\n",
       "    <tr>\n",
       "      <th>2</th>\n",
       "      <td>1000_2</td>\n",
       "      <td>2018-08-04</td>\n",
       "      <td>1000</td>\n",
       "    </tr>\n",
       "    <tr>\n",
       "      <th>3</th>\n",
       "      <td>1000_3</td>\n",
       "      <td>2018-06-16</td>\n",
       "      <td>1000</td>\n",
       "    </tr>\n",
       "    <tr>\n",
       "      <th>4</th>\n",
       "      <td>1000_4</td>\n",
       "      <td>2018-12-05</td>\n",
       "      <td>1000</td>\n",
       "    </tr>\n",
       "  </tbody>\n",
       "</table>\n",
       "</div>"
      ],
      "text/plain": [
       "       id message_date  user_id\n",
       "0  1000_0   2018-06-27     1000\n",
       "1  1000_1   2018-10-08     1000\n",
       "2  1000_2   2018-08-04     1000\n",
       "3  1000_3   2018-06-16     1000\n",
       "4  1000_4   2018-12-05     1000"
      ]
     },
     "execution_count": 12,
     "metadata": {},
     "output_type": "execute_result"
    }
   ],
   "source": [
    "# Выводим таблицу для визуального осмотра\n",
    "\n",
    "data_messages.head()"
   ]
  },
  {
   "cell_type": "code",
   "execution_count": 13,
   "metadata": {},
   "outputs": [
    {
     "name": "stdout",
     "output_type": "stream",
     "text": [
      "<class 'pandas.core.frame.DataFrame'>\n",
      "RangeIndex: 123036 entries, 0 to 123035\n",
      "Data columns (total 3 columns):\n",
      " #   Column        Non-Null Count   Dtype \n",
      "---  ------        --------------   ----- \n",
      " 0   id            123036 non-null  object\n",
      " 1   message_date  123036 non-null  object\n",
      " 2   user_id       123036 non-null  int64 \n",
      "dtypes: int64(1), object(2)\n",
      "memory usage: 2.8+ MB\n"
     ]
    }
   ],
   "source": [
    "# Не упускаем метод info()\n",
    "\n",
    "data_messages.info()"
   ]
  },
  {
   "cell_type": "markdown",
   "metadata": {},
   "source": [
    "**Выводы по первичному изучению данных об использовании текстовых сообщений**\n",
    "\n",
    "Данная таблица содержит 3 столбца, 123036 строк. Побдробнее о каждом столбце можно сообщить следующее:\n",
    "    \n",
    "1. id - уникальный номер сообщения. Пропусков нет. Формат данных object корректировки не требует.\n",
    "2. message_date - дата сообщения. Пропусков нет. Формат данных object требует замены на date/time.\n",
    "3. user_id - идентификатор пользователя, отправившего сообщение. Пропусков не имеется. Формат данных int64 корректировок не просит."
   ]
  },
  {
   "cell_type": "markdown",
   "metadata": {},
   "source": [
    "### Условия использования тарифов"
   ]
  },
  {
   "cell_type": "code",
   "execution_count": 14,
   "metadata": {},
   "outputs": [],
   "source": [
    "# Вызываем для работы таблицу с информацией об условиях тарифа и сохраняем ее в новом датафрейме\n",
    "\n",
    "try:\n",
    "    data_tariffs = pd.read_csv('tariffs.csv')\n",
    "except:\n",
    "    print(\"Невозможно загрузить файл. Попробуй проверить путь к нему\")"
   ]
  },
  {
   "cell_type": "code",
   "execution_count": 15,
   "metadata": {},
   "outputs": [
    {
     "data": {
      "text/html": [
       "<div>\n",
       "<style scoped>\n",
       "    .dataframe tbody tr th:only-of-type {\n",
       "        vertical-align: middle;\n",
       "    }\n",
       "\n",
       "    .dataframe tbody tr th {\n",
       "        vertical-align: top;\n",
       "    }\n",
       "\n",
       "    .dataframe thead th {\n",
       "        text-align: right;\n",
       "    }\n",
       "</style>\n",
       "<table border=\"1\" class=\"dataframe\">\n",
       "  <thead>\n",
       "    <tr style=\"text-align: right;\">\n",
       "      <th></th>\n",
       "      <th>messages_included</th>\n",
       "      <th>mb_per_month_included</th>\n",
       "      <th>minutes_included</th>\n",
       "      <th>rub_monthly_fee</th>\n",
       "      <th>rub_per_gb</th>\n",
       "      <th>rub_per_message</th>\n",
       "      <th>rub_per_minute</th>\n",
       "      <th>tariff_name</th>\n",
       "    </tr>\n",
       "  </thead>\n",
       "  <tbody>\n",
       "    <tr>\n",
       "      <th>0</th>\n",
       "      <td>50</td>\n",
       "      <td>15360</td>\n",
       "      <td>500</td>\n",
       "      <td>550</td>\n",
       "      <td>200</td>\n",
       "      <td>3</td>\n",
       "      <td>3</td>\n",
       "      <td>smart</td>\n",
       "    </tr>\n",
       "    <tr>\n",
       "      <th>1</th>\n",
       "      <td>1000</td>\n",
       "      <td>30720</td>\n",
       "      <td>3000</td>\n",
       "      <td>1950</td>\n",
       "      <td>150</td>\n",
       "      <td>1</td>\n",
       "      <td>1</td>\n",
       "      <td>ultra</td>\n",
       "    </tr>\n",
       "  </tbody>\n",
       "</table>\n",
       "</div>"
      ],
      "text/plain": [
       "   messages_included  mb_per_month_included  minutes_included  \\\n",
       "0                 50                  15360               500   \n",
       "1               1000                  30720              3000   \n",
       "\n",
       "   rub_monthly_fee  rub_per_gb  rub_per_message  rub_per_minute tariff_name  \n",
       "0              550         200                3               3       smart  \n",
       "1             1950         150                1               1       ultra  "
      ]
     },
     "execution_count": 15,
     "metadata": {},
     "output_type": "execute_result"
    }
   ],
   "source": [
    "# Вызываем таблицу для визуального осмотра\n",
    "\n",
    "data_tariffs"
   ]
  },
  {
   "cell_type": "code",
   "execution_count": 16,
   "metadata": {},
   "outputs": [
    {
     "name": "stdout",
     "output_type": "stream",
     "text": [
      "<class 'pandas.core.frame.DataFrame'>\n",
      "RangeIndex: 2 entries, 0 to 1\n",
      "Data columns (total 8 columns):\n",
      " #   Column                 Non-Null Count  Dtype \n",
      "---  ------                 --------------  ----- \n",
      " 0   messages_included      2 non-null      int64 \n",
      " 1   mb_per_month_included  2 non-null      int64 \n",
      " 2   minutes_included       2 non-null      int64 \n",
      " 3   rub_monthly_fee        2 non-null      int64 \n",
      " 4   rub_per_gb             2 non-null      int64 \n",
      " 5   rub_per_message        2 non-null      int64 \n",
      " 6   rub_per_minute         2 non-null      int64 \n",
      " 7   tariff_name            2 non-null      object\n",
      "dtypes: int64(7), object(1)\n",
      "memory usage: 256.0+ bytes\n"
     ]
    }
   ],
   "source": [
    "# Используем метод info()\n",
    "\n",
    "data_tariffs.info()"
   ]
  },
  {
   "cell_type": "markdown",
   "metadata": {},
   "source": [
    "**Выводы по первичному изучению таблицы со сведениями об условиях тарифов**\n",
    "\n",
    "Датасет содержит 8 столбцов и АЖ 2 строки, пропусков нет, форматировать данные не надо (ну чудо, не так ли? LittleBig Data). Пропусков нет. Разберем же содержимое столбцов:\n",
    "\n",
    "1. messages_included - количество сообщений в месяц, включенных в абонентскую плату.\n",
    "2. mb_per_month_included - объем интернет-трафика, включенного в абонентскую плату (в мегабайтах).\n",
    "3. minutes_included - количество минут разговора в месяц, включенных в абонентскую плату.\n",
    "4. rub_monthly_fee - ежемесячная абонентская плата в рублях.\n",
    "5. rub_per_gb -  стоимость дополнительного гигабайта интернет-трафика сверх тарифного пакета (1 гигабайт = 1024 мегабайта).\n",
    "6. rub_per_message - стоимость отправки сообщения сверх тарифного пакета.\n",
    "7. rub_per_minute - стоимость минуты разговора сверх тарифного пакета (например, если в тарифе 100 минут разговора в месяц, то со 101 минуты будет взиматься плата).\n",
    "8. tariff_name - название тарифа. \n",
    "</div>"
   ]
  },
  {
   "cell_type": "markdown",
   "metadata": {},
   "source": [
    "### Таблица с данными о пользователях"
   ]
  },
  {
   "cell_type": "code",
   "execution_count": 17,
   "metadata": {},
   "outputs": [],
   "source": [
    "# Вызываем таблицу с информацией о пользователях и сохраняем ее в новом датафрейме\n",
    "\n",
    "try:\n",
    "    data_users = pd.read_csv('users.csv')\n",
    "except:\n",
    "    print(\"Невозможно загрузить файл. Попробуй проверить путь к нему\")"
   ]
  },
  {
   "cell_type": "code",
   "execution_count": 18,
   "metadata": {},
   "outputs": [
    {
     "data": {
      "text/html": [
       "<div>\n",
       "<style scoped>\n",
       "    .dataframe tbody tr th:only-of-type {\n",
       "        vertical-align: middle;\n",
       "    }\n",
       "\n",
       "    .dataframe tbody tr th {\n",
       "        vertical-align: top;\n",
       "    }\n",
       "\n",
       "    .dataframe thead th {\n",
       "        text-align: right;\n",
       "    }\n",
       "</style>\n",
       "<table border=\"1\" class=\"dataframe\">\n",
       "  <thead>\n",
       "    <tr style=\"text-align: right;\">\n",
       "      <th></th>\n",
       "      <th>user_id</th>\n",
       "      <th>age</th>\n",
       "      <th>churn_date</th>\n",
       "      <th>city</th>\n",
       "      <th>first_name</th>\n",
       "      <th>last_name</th>\n",
       "      <th>reg_date</th>\n",
       "      <th>tariff</th>\n",
       "    </tr>\n",
       "  </thead>\n",
       "  <tbody>\n",
       "    <tr>\n",
       "      <th>0</th>\n",
       "      <td>1000</td>\n",
       "      <td>52</td>\n",
       "      <td>NaN</td>\n",
       "      <td>Краснодар</td>\n",
       "      <td>Рафаил</td>\n",
       "      <td>Верещагин</td>\n",
       "      <td>2018-05-25</td>\n",
       "      <td>ultra</td>\n",
       "    </tr>\n",
       "    <tr>\n",
       "      <th>1</th>\n",
       "      <td>1001</td>\n",
       "      <td>41</td>\n",
       "      <td>NaN</td>\n",
       "      <td>Москва</td>\n",
       "      <td>Иван</td>\n",
       "      <td>Ежов</td>\n",
       "      <td>2018-11-01</td>\n",
       "      <td>smart</td>\n",
       "    </tr>\n",
       "    <tr>\n",
       "      <th>2</th>\n",
       "      <td>1002</td>\n",
       "      <td>59</td>\n",
       "      <td>NaN</td>\n",
       "      <td>Стерлитамак</td>\n",
       "      <td>Евгений</td>\n",
       "      <td>Абрамович</td>\n",
       "      <td>2018-06-17</td>\n",
       "      <td>smart</td>\n",
       "    </tr>\n",
       "    <tr>\n",
       "      <th>3</th>\n",
       "      <td>1003</td>\n",
       "      <td>23</td>\n",
       "      <td>NaN</td>\n",
       "      <td>Москва</td>\n",
       "      <td>Белла</td>\n",
       "      <td>Белякова</td>\n",
       "      <td>2018-08-17</td>\n",
       "      <td>ultra</td>\n",
       "    </tr>\n",
       "    <tr>\n",
       "      <th>4</th>\n",
       "      <td>1004</td>\n",
       "      <td>68</td>\n",
       "      <td>NaN</td>\n",
       "      <td>Новокузнецк</td>\n",
       "      <td>Татьяна</td>\n",
       "      <td>Авдеенко</td>\n",
       "      <td>2018-05-14</td>\n",
       "      <td>ultra</td>\n",
       "    </tr>\n",
       "  </tbody>\n",
       "</table>\n",
       "</div>"
      ],
      "text/plain": [
       "   user_id  age churn_date         city first_name  last_name    reg_date  \\\n",
       "0     1000   52        NaN    Краснодар     Рафаил  Верещагин  2018-05-25   \n",
       "1     1001   41        NaN       Москва       Иван       Ежов  2018-11-01   \n",
       "2     1002   59        NaN  Стерлитамак    Евгений  Абрамович  2018-06-17   \n",
       "3     1003   23        NaN       Москва      Белла   Белякова  2018-08-17   \n",
       "4     1004   68        NaN  Новокузнецк    Татьяна   Авдеенко  2018-05-14   \n",
       "\n",
       "  tariff  \n",
       "0  ultra  \n",
       "1  smart  \n",
       "2  smart  \n",
       "3  ultra  \n",
       "4  ultra  "
      ]
     },
     "execution_count": 18,
     "metadata": {},
     "output_type": "execute_result"
    }
   ],
   "source": [
    "# Производим визуальный осмотр датасета\n",
    "\n",
    "data_users.head()"
   ]
  },
  {
   "cell_type": "code",
   "execution_count": 19,
   "metadata": {},
   "outputs": [
    {
     "name": "stdout",
     "output_type": "stream",
     "text": [
      "<class 'pandas.core.frame.DataFrame'>\n",
      "RangeIndex: 500 entries, 0 to 499\n",
      "Data columns (total 8 columns):\n",
      " #   Column      Non-Null Count  Dtype \n",
      "---  ------      --------------  ----- \n",
      " 0   user_id     500 non-null    int64 \n",
      " 1   age         500 non-null    int64 \n",
      " 2   churn_date  38 non-null     object\n",
      " 3   city        500 non-null    object\n",
      " 4   first_name  500 non-null    object\n",
      " 5   last_name   500 non-null    object\n",
      " 6   reg_date    500 non-null    object\n",
      " 7   tariff      500 non-null    object\n",
      "dtypes: int64(2), object(6)\n",
      "memory usage: 31.4+ KB\n"
     ]
    }
   ],
   "source": [
    "# Дополнительные параметры получаем через метод info()\n",
    "\n",
    "data_users.info()"
   ]
  },
  {
   "cell_type": "code",
   "execution_count": 20,
   "metadata": {},
   "outputs": [
    {
     "data": {
      "text/html": [
       "<div>\n",
       "<style scoped>\n",
       "    .dataframe tbody tr th:only-of-type {\n",
       "        vertical-align: middle;\n",
       "    }\n",
       "\n",
       "    .dataframe tbody tr th {\n",
       "        vertical-align: top;\n",
       "    }\n",
       "\n",
       "    .dataframe thead th {\n",
       "        text-align: right;\n",
       "    }\n",
       "</style>\n",
       "<table border=\"1\" class=\"dataframe\">\n",
       "  <thead>\n",
       "    <tr style=\"text-align: right;\">\n",
       "      <th></th>\n",
       "      <th>user_id</th>\n",
       "      <th>age</th>\n",
       "    </tr>\n",
       "  </thead>\n",
       "  <tbody>\n",
       "    <tr>\n",
       "      <th>count</th>\n",
       "      <td>500.000000</td>\n",
       "      <td>500.00000</td>\n",
       "    </tr>\n",
       "    <tr>\n",
       "      <th>mean</th>\n",
       "      <td>1249.500000</td>\n",
       "      <td>46.58800</td>\n",
       "    </tr>\n",
       "    <tr>\n",
       "      <th>std</th>\n",
       "      <td>144.481833</td>\n",
       "      <td>16.66763</td>\n",
       "    </tr>\n",
       "    <tr>\n",
       "      <th>min</th>\n",
       "      <td>1000.000000</td>\n",
       "      <td>18.00000</td>\n",
       "    </tr>\n",
       "    <tr>\n",
       "      <th>25%</th>\n",
       "      <td>1124.750000</td>\n",
       "      <td>32.00000</td>\n",
       "    </tr>\n",
       "    <tr>\n",
       "      <th>50%</th>\n",
       "      <td>1249.500000</td>\n",
       "      <td>46.00000</td>\n",
       "    </tr>\n",
       "    <tr>\n",
       "      <th>75%</th>\n",
       "      <td>1374.250000</td>\n",
       "      <td>62.00000</td>\n",
       "    </tr>\n",
       "    <tr>\n",
       "      <th>max</th>\n",
       "      <td>1499.000000</td>\n",
       "      <td>75.00000</td>\n",
       "    </tr>\n",
       "  </tbody>\n",
       "</table>\n",
       "</div>"
      ],
      "text/plain": [
       "           user_id        age\n",
       "count   500.000000  500.00000\n",
       "mean   1249.500000   46.58800\n",
       "std     144.481833   16.66763\n",
       "min    1000.000000   18.00000\n",
       "25%    1124.750000   32.00000\n",
       "50%    1249.500000   46.00000\n",
       "75%    1374.250000   62.00000\n",
       "max    1499.000000   75.00000"
      ]
     },
     "execution_count": 20,
     "metadata": {},
     "output_type": "execute_result"
    }
   ],
   "source": [
    "# Не ленимся посмотреть, что покажет метод describe()\n",
    "\n",
    "data_users.describe()"
   ]
  },
  {
   "cell_type": "markdown",
   "metadata": {},
   "source": [
    "**Выводы по первичному изучению данных о пользователях**\n",
    "\n",
    "Данная таблица содержит 8 столбцов и 500 строк. Подробнее о столбцах ниже:\n",
    "\n",
    "1. user_id - уникальный идентификатор пользователя. Пропусков нет. Формат данных int64 корректировок не требует.\n",
    "2. age — возраст пользователя (годы). Пропусков нет. Формат данных int64 корректировок не требует.\n",
    "3. churn_date — дата прекращения пользования тарифом (если значение пропущено, то тариф ещё действовал на момент выгрузки данных). Столбец содержит всего 38 ненулевых значений, но заполнений не требует, так как отсутствие сведений в данном случае не говорит о какой-либо ошибке, а показывает, что пользователь все еще пользуется услугами данного тарифа. Формат данных object требует перевода в тип date/time.\n",
    "4. city — город проживания пользователя. Пропусков нет. Формат данных object не требует корректировок.\n",
    "5. first_name — имя пользователя. Пропусков нет. Формат данных object не требует корректировок.\n",
    "6. last_name — фамилия пользователя. Пропусков нет. Формат данных object не требует корректировок.\n",
    "7. reg_date — дата подключения тарифа (день, месяц, год). Пропусков нет. Формат данных object требует перевода в тип date/time.\n",
    "8. tariff — название тарифного плана. Пропусков нет. Формат данных object не требует корректировок. \n",
    "</div>"
   ]
  },
  {
   "cell_type": "markdown",
   "metadata": {},
   "source": [
    "### Общий вывод по разделу"
   ]
  },
  {
   "cell_type": "markdown",
   "metadata": {},
   "source": [
    "В данном разделе был подготовлен необходимый инструментарий для проведения анализа данных. Вызваны необходимые библиотеки, функции из которых будут использованы далее в расчетах. Загружены требуемые датасеты. Проведен первичный анализ имеющихся данных для получения представлении об их качественном составе, наличии ошибок и пропусков, высказаны предложения по последующей работе по подготовке этих сведений к анализу."
   ]
  },
  {
   "cell_type": "markdown",
   "metadata": {},
   "source": [
    "# Подготовка данных"
   ]
  },
  {
   "cell_type": "markdown",
   "metadata": {},
   "source": [
    "## Изменение типа данных в столбцах, содержащих сведения о датах"
   ]
  },
  {
   "cell_type": "code",
   "execution_count": 21,
   "metadata": {},
   "outputs": [],
   "source": [
    "# Переведем данные столбца call_date в датафрейме с данными о звонках в формат date/time\n",
    "\n",
    "data_calls['call_date'] = pd.to_datetime(data_calls['call_date'], format='%Y.%m.%dT%H:%M:%S')"
   ]
  },
  {
   "cell_type": "code",
   "execution_count": 22,
   "metadata": {},
   "outputs": [
    {
     "data": {
      "text/plain": [
       "0   2018-07-25\n",
       "Name: call_date, dtype: datetime64[ns]"
      ]
     },
     "execution_count": 22,
     "metadata": {},
     "output_type": "execute_result"
    }
   ],
   "source": [
    "# Проверяем результат корректировки формата данных\n",
    "\n",
    "data_calls['call_date'].head(1)"
   ]
  },
  {
   "cell_type": "code",
   "execution_count": 23,
   "metadata": {},
   "outputs": [],
   "source": [
    "# Переведем данные столбца session_date в датафрейме с информацией об интернете в формат date/time\n",
    "\n",
    "data_internet['session_date'] = (pd.to_datetime(data_internet['session_date'],\n",
    "                                                format='%Y.%m.%dT%H:%M:%S'))"
   ]
  },
  {
   "cell_type": "code",
   "execution_count": 24,
   "metadata": {},
   "outputs": [
    {
     "data": {
      "text/plain": [
       "0   2018-11-25\n",
       "Name: session_date, dtype: datetime64[ns]"
      ]
     },
     "execution_count": 24,
     "metadata": {},
     "output_type": "execute_result"
    }
   ],
   "source": [
    "# Проверяем результат корректировки формата данных\n",
    "\n",
    "data_internet['session_date'].head(1)"
   ]
  },
  {
   "cell_type": "code",
   "execution_count": 25,
   "metadata": {},
   "outputs": [],
   "source": [
    "# Переведем данные столбца data_messages в датафрейме о сообщениях в формат date/time\n",
    "\n",
    "data_messages['message_date'] = (pd.to_datetime(data_messages['message_date'], \n",
    "                                                format='%Y.%m.%dT%H:%M:%S'))"
   ]
  },
  {
   "cell_type": "code",
   "execution_count": 26,
   "metadata": {},
   "outputs": [
    {
     "data": {
      "text/plain": [
       "0   2018-06-27\n",
       "Name: message_date, dtype: datetime64[ns]"
      ]
     },
     "execution_count": 26,
     "metadata": {},
     "output_type": "execute_result"
    }
   ],
   "source": [
    "# Проверяем результат корректировки формата данных\n",
    "\n",
    "data_messages['message_date'].head(1)"
   ]
  },
  {
   "cell_type": "code",
   "execution_count": 27,
   "metadata": {},
   "outputs": [],
   "source": [
    "# Переведем данные столбца churn_date в датафрейме о пользователях в формат date/time\n",
    "\n",
    "data_users['churn_date'] = pd.to_datetime(data_users['churn_date'], format='%Y.%m.%dT%H:%M:%S')"
   ]
  },
  {
   "cell_type": "code",
   "execution_count": 28,
   "metadata": {
    "scrolled": true,
    "tags": []
   },
   "outputs": [
    {
     "data": {
      "text/plain": [
       "499   NaT\n",
       "Name: churn_date, dtype: datetime64[ns]"
      ]
     },
     "execution_count": 28,
     "metadata": {},
     "output_type": "execute_result"
    }
   ],
   "source": [
    "# Проверяем результат корректировки формата данных\n",
    "\n",
    "data_users['churn_date'].tail(1)"
   ]
  },
  {
   "cell_type": "code",
   "execution_count": 29,
   "metadata": {},
   "outputs": [],
   "source": [
    "# Переведем данные столбца reg_date в датафрейме о пользователях в формат date/time\n",
    "\n",
    "data_users['reg_date'] = pd.to_datetime(data_users['reg_date'], format='%Y.%m.%dT%H:%M:%S')"
   ]
  },
  {
   "cell_type": "code",
   "execution_count": 30,
   "metadata": {},
   "outputs": [
    {
     "data": {
      "text/plain": [
       "0   2018-05-25\n",
       "Name: reg_date, dtype: datetime64[ns]"
      ]
     },
     "execution_count": 30,
     "metadata": {},
     "output_type": "execute_result"
    }
   ],
   "source": [
    "# Проверяем результат корректировки формата данных\n",
    "\n",
    "data_users['reg_date'].head(1)"
   ]
  },
  {
   "cell_type": "markdown",
   "metadata": {},
   "source": [
    "## Округление данных о длительности звонков и использовании интернет-трафика"
   ]
  },
  {
   "cell_type": "code",
   "execution_count": 31,
   "metadata": {},
   "outputs": [],
   "source": [
    "# Создадим в таблице data_calls новый столбец, который будет содержать \n",
    "# округленные вверх значения длительности звонка\n",
    "\n",
    "data_calls['duration_rounded'] = np.ceil(data_calls['duration'])"
   ]
  },
  {
   "cell_type": "code",
   "execution_count": 32,
   "metadata": {},
   "outputs": [
    {
     "data": {
      "text/html": [
       "<div>\n",
       "<style scoped>\n",
       "    .dataframe tbody tr th:only-of-type {\n",
       "        vertical-align: middle;\n",
       "    }\n",
       "\n",
       "    .dataframe tbody tr th {\n",
       "        vertical-align: top;\n",
       "    }\n",
       "\n",
       "    .dataframe thead th {\n",
       "        text-align: right;\n",
       "    }\n",
       "</style>\n",
       "<table border=\"1\" class=\"dataframe\">\n",
       "  <thead>\n",
       "    <tr style=\"text-align: right;\">\n",
       "      <th></th>\n",
       "      <th>id</th>\n",
       "      <th>call_date</th>\n",
       "      <th>duration</th>\n",
       "      <th>user_id</th>\n",
       "      <th>duration_rounded</th>\n",
       "    </tr>\n",
       "  </thead>\n",
       "  <tbody>\n",
       "    <tr>\n",
       "      <th>0</th>\n",
       "      <td>1000_0</td>\n",
       "      <td>2018-07-25</td>\n",
       "      <td>0.0</td>\n",
       "      <td>1000</td>\n",
       "      <td>0.0</td>\n",
       "    </tr>\n",
       "  </tbody>\n",
       "</table>\n",
       "</div>"
      ],
      "text/plain": [
       "       id  call_date  duration  user_id  duration_rounded\n",
       "0  1000_0 2018-07-25       0.0     1000               0.0"
      ]
     },
     "execution_count": 32,
     "metadata": {},
     "output_type": "execute_result"
    }
   ],
   "source": [
    "# Проверим наличие созданного столбца в таблице\n",
    "\n",
    "data_calls.head(1)"
   ]
  },
  {
   "cell_type": "code",
   "execution_count": 33,
   "metadata": {},
   "outputs": [],
   "source": [
    "# Создадим в таблице data_internet новый столбец, который будет содержать \n",
    "# округленные вверх сведения об использовании трафика\n",
    "\n",
    "data_internet['mb_used_rounded'] = np.ceil(data_internet['mb_used'])"
   ]
  },
  {
   "cell_type": "code",
   "execution_count": 34,
   "metadata": {},
   "outputs": [
    {
     "data": {
      "text/html": [
       "<div>\n",
       "<style scoped>\n",
       "    .dataframe tbody tr th:only-of-type {\n",
       "        vertical-align: middle;\n",
       "    }\n",
       "\n",
       "    .dataframe tbody tr th {\n",
       "        vertical-align: top;\n",
       "    }\n",
       "\n",
       "    .dataframe thead th {\n",
       "        text-align: right;\n",
       "    }\n",
       "</style>\n",
       "<table border=\"1\" class=\"dataframe\">\n",
       "  <thead>\n",
       "    <tr style=\"text-align: right;\">\n",
       "      <th></th>\n",
       "      <th>Unnamed: 0</th>\n",
       "      <th>id</th>\n",
       "      <th>mb_used</th>\n",
       "      <th>session_date</th>\n",
       "      <th>user_id</th>\n",
       "      <th>mb_used_rounded</th>\n",
       "    </tr>\n",
       "  </thead>\n",
       "  <tbody>\n",
       "    <tr>\n",
       "      <th>0</th>\n",
       "      <td>0</td>\n",
       "      <td>1000_0</td>\n",
       "      <td>112.95</td>\n",
       "      <td>2018-11-25</td>\n",
       "      <td>1000</td>\n",
       "      <td>113.0</td>\n",
       "    </tr>\n",
       "  </tbody>\n",
       "</table>\n",
       "</div>"
      ],
      "text/plain": [
       "   Unnamed: 0      id  mb_used session_date  user_id  mb_used_rounded\n",
       "0           0  1000_0   112.95   2018-11-25     1000            113.0"
      ]
     },
     "execution_count": 34,
     "metadata": {},
     "output_type": "execute_result"
    }
   ],
   "source": [
    "# Выведем полученную таблицу для проверки результата\n",
    "\n",
    "data_internet.head(1)"
   ]
  },
  {
   "cell_type": "markdown",
   "metadata": {},
   "source": [
    "## Удаление лишнего столбца из данных об использовании интернет-трафика"
   ]
  },
  {
   "cell_type": "code",
   "execution_count": 35,
   "metadata": {},
   "outputs": [],
   "source": [
    "# Для удаления \"лишнего\" столбца Unnamed: 0 воспользуемся методом drop()\n",
    "\n",
    "data_internet = data_internet.drop(['Unnamed: 0'], axis = 1)"
   ]
  },
  {
   "cell_type": "code",
   "execution_count": 36,
   "metadata": {},
   "outputs": [
    {
     "data": {
      "text/html": [
       "<div>\n",
       "<style scoped>\n",
       "    .dataframe tbody tr th:only-of-type {\n",
       "        vertical-align: middle;\n",
       "    }\n",
       "\n",
       "    .dataframe tbody tr th {\n",
       "        vertical-align: top;\n",
       "    }\n",
       "\n",
       "    .dataframe thead th {\n",
       "        text-align: right;\n",
       "    }\n",
       "</style>\n",
       "<table border=\"1\" class=\"dataframe\">\n",
       "  <thead>\n",
       "    <tr style=\"text-align: right;\">\n",
       "      <th></th>\n",
       "      <th>id</th>\n",
       "      <th>mb_used</th>\n",
       "      <th>session_date</th>\n",
       "      <th>user_id</th>\n",
       "      <th>mb_used_rounded</th>\n",
       "    </tr>\n",
       "  </thead>\n",
       "  <tbody>\n",
       "    <tr>\n",
       "      <th>0</th>\n",
       "      <td>1000_0</td>\n",
       "      <td>112.95</td>\n",
       "      <td>2018-11-25</td>\n",
       "      <td>1000</td>\n",
       "      <td>113.0</td>\n",
       "    </tr>\n",
       "  </tbody>\n",
       "</table>\n",
       "</div>"
      ],
      "text/plain": [
       "       id  mb_used session_date  user_id  mb_used_rounded\n",
       "0  1000_0   112.95   2018-11-25     1000            113.0"
      ]
     },
     "execution_count": 36,
     "metadata": {},
     "output_type": "execute_result"
    }
   ],
   "source": [
    "# Вызываем датасет для проверки результата удаления\n",
    "\n",
    "data_internet.head(1)"
   ]
  },
  {
   "cell_type": "markdown",
   "metadata": {},
   "source": [
    "## Объединение таблиц для дальнейшей работы с ними"
   ]
  },
  {
   "cell_type": "markdown",
   "metadata": {},
   "source": [
    "### Данные о звонках"
   ]
  },
  {
   "cell_type": "code",
   "execution_count": 37,
   "metadata": {},
   "outputs": [],
   "source": [
    "# Для того, чтобы в дальнейшей работе иметь полное представление о каждом пользователе \n",
    "# и совершенных ими звонках, объединим соответствующие таблицы\n",
    "\n",
    "calls_users_merged = data_calls.merge(data_users, on = \"user_id\", how = 'outer')"
   ]
  },
  {
   "cell_type": "code",
   "execution_count": 38,
   "metadata": {},
   "outputs": [
    {
     "data": {
      "text/html": [
       "<div>\n",
       "<style scoped>\n",
       "    .dataframe tbody tr th:only-of-type {\n",
       "        vertical-align: middle;\n",
       "    }\n",
       "\n",
       "    .dataframe tbody tr th {\n",
       "        vertical-align: top;\n",
       "    }\n",
       "\n",
       "    .dataframe thead th {\n",
       "        text-align: right;\n",
       "    }\n",
       "</style>\n",
       "<table border=\"1\" class=\"dataframe\">\n",
       "  <thead>\n",
       "    <tr style=\"text-align: right;\">\n",
       "      <th></th>\n",
       "      <th>id</th>\n",
       "      <th>call_date</th>\n",
       "      <th>duration</th>\n",
       "      <th>user_id</th>\n",
       "      <th>duration_rounded</th>\n",
       "      <th>age</th>\n",
       "      <th>churn_date</th>\n",
       "      <th>city</th>\n",
       "      <th>first_name</th>\n",
       "      <th>last_name</th>\n",
       "      <th>reg_date</th>\n",
       "      <th>tariff</th>\n",
       "    </tr>\n",
       "  </thead>\n",
       "  <tbody>\n",
       "    <tr>\n",
       "      <th>0</th>\n",
       "      <td>1000_0</td>\n",
       "      <td>2018-07-25</td>\n",
       "      <td>0.00</td>\n",
       "      <td>1000</td>\n",
       "      <td>0.0</td>\n",
       "      <td>52</td>\n",
       "      <td>NaT</td>\n",
       "      <td>Краснодар</td>\n",
       "      <td>Рафаил</td>\n",
       "      <td>Верещагин</td>\n",
       "      <td>2018-05-25</td>\n",
       "      <td>ultra</td>\n",
       "    </tr>\n",
       "    <tr>\n",
       "      <th>1</th>\n",
       "      <td>1000_1</td>\n",
       "      <td>2018-08-17</td>\n",
       "      <td>0.00</td>\n",
       "      <td>1000</td>\n",
       "      <td>0.0</td>\n",
       "      <td>52</td>\n",
       "      <td>NaT</td>\n",
       "      <td>Краснодар</td>\n",
       "      <td>Рафаил</td>\n",
       "      <td>Верещагин</td>\n",
       "      <td>2018-05-25</td>\n",
       "      <td>ultra</td>\n",
       "    </tr>\n",
       "    <tr>\n",
       "      <th>2</th>\n",
       "      <td>1000_2</td>\n",
       "      <td>2018-06-11</td>\n",
       "      <td>2.85</td>\n",
       "      <td>1000</td>\n",
       "      <td>3.0</td>\n",
       "      <td>52</td>\n",
       "      <td>NaT</td>\n",
       "      <td>Краснодар</td>\n",
       "      <td>Рафаил</td>\n",
       "      <td>Верещагин</td>\n",
       "      <td>2018-05-25</td>\n",
       "      <td>ultra</td>\n",
       "    </tr>\n",
       "    <tr>\n",
       "      <th>3</th>\n",
       "      <td>1000_3</td>\n",
       "      <td>2018-09-21</td>\n",
       "      <td>13.80</td>\n",
       "      <td>1000</td>\n",
       "      <td>14.0</td>\n",
       "      <td>52</td>\n",
       "      <td>NaT</td>\n",
       "      <td>Краснодар</td>\n",
       "      <td>Рафаил</td>\n",
       "      <td>Верещагин</td>\n",
       "      <td>2018-05-25</td>\n",
       "      <td>ultra</td>\n",
       "    </tr>\n",
       "    <tr>\n",
       "      <th>4</th>\n",
       "      <td>1000_4</td>\n",
       "      <td>2018-12-15</td>\n",
       "      <td>5.18</td>\n",
       "      <td>1000</td>\n",
       "      <td>6.0</td>\n",
       "      <td>52</td>\n",
       "      <td>NaT</td>\n",
       "      <td>Краснодар</td>\n",
       "      <td>Рафаил</td>\n",
       "      <td>Верещагин</td>\n",
       "      <td>2018-05-25</td>\n",
       "      <td>ultra</td>\n",
       "    </tr>\n",
       "  </tbody>\n",
       "</table>\n",
       "</div>"
      ],
      "text/plain": [
       "       id  call_date  duration  user_id  duration_rounded  age churn_date  \\\n",
       "0  1000_0 2018-07-25      0.00     1000               0.0   52        NaT   \n",
       "1  1000_1 2018-08-17      0.00     1000               0.0   52        NaT   \n",
       "2  1000_2 2018-06-11      2.85     1000               3.0   52        NaT   \n",
       "3  1000_3 2018-09-21     13.80     1000              14.0   52        NaT   \n",
       "4  1000_4 2018-12-15      5.18     1000               6.0   52        NaT   \n",
       "\n",
       "        city first_name  last_name   reg_date tariff  \n",
       "0  Краснодар     Рафаил  Верещагин 2018-05-25  ultra  \n",
       "1  Краснодар     Рафаил  Верещагин 2018-05-25  ultra  \n",
       "2  Краснодар     Рафаил  Верещагин 2018-05-25  ultra  \n",
       "3  Краснодар     Рафаил  Верещагин 2018-05-25  ultra  \n",
       "4  Краснодар     Рафаил  Верещагин 2018-05-25  ultra  "
      ]
     },
     "execution_count": 38,
     "metadata": {},
     "output_type": "execute_result"
    }
   ],
   "source": [
    "# Проверяем результаты слияния\n",
    "\n",
    "calls_users_merged.head()"
   ]
  },
  {
   "cell_type": "code",
   "execution_count": 39,
   "metadata": {
    "scrolled": true
   },
   "outputs": [
    {
     "data": {
      "text/plain": [
       "500"
      ]
     },
     "execution_count": 39,
     "metadata": {},
     "output_type": "execute_result"
    }
   ],
   "source": [
    "# Проверяем количество пользователей (должно быть 500)\n",
    "\n",
    "len(calls_users_merged['user_id'].unique())"
   ]
  },
  {
   "cell_type": "markdown",
   "metadata": {},
   "source": [
    "### Данные о сообщениях"
   ]
  },
  {
   "cell_type": "code",
   "execution_count": 40,
   "metadata": {},
   "outputs": [],
   "source": [
    "# С теми же целями объединим датафреймы с данными о пользователях и о сообщениях\n",
    "\n",
    "messages_users_merged = data_messages.merge(data_users, on = \"user_id\", how = 'outer')"
   ]
  },
  {
   "cell_type": "code",
   "execution_count": 41,
   "metadata": {},
   "outputs": [
    {
     "data": {
      "text/html": [
       "<div>\n",
       "<style scoped>\n",
       "    .dataframe tbody tr th:only-of-type {\n",
       "        vertical-align: middle;\n",
       "    }\n",
       "\n",
       "    .dataframe tbody tr th {\n",
       "        vertical-align: top;\n",
       "    }\n",
       "\n",
       "    .dataframe thead th {\n",
       "        text-align: right;\n",
       "    }\n",
       "</style>\n",
       "<table border=\"1\" class=\"dataframe\">\n",
       "  <thead>\n",
       "    <tr style=\"text-align: right;\">\n",
       "      <th></th>\n",
       "      <th>id</th>\n",
       "      <th>message_date</th>\n",
       "      <th>user_id</th>\n",
       "      <th>age</th>\n",
       "      <th>churn_date</th>\n",
       "      <th>city</th>\n",
       "      <th>first_name</th>\n",
       "      <th>last_name</th>\n",
       "      <th>reg_date</th>\n",
       "      <th>tariff</th>\n",
       "    </tr>\n",
       "  </thead>\n",
       "  <tbody>\n",
       "    <tr>\n",
       "      <th>0</th>\n",
       "      <td>1000_0</td>\n",
       "      <td>2018-06-27</td>\n",
       "      <td>1000</td>\n",
       "      <td>52</td>\n",
       "      <td>NaT</td>\n",
       "      <td>Краснодар</td>\n",
       "      <td>Рафаил</td>\n",
       "      <td>Верещагин</td>\n",
       "      <td>2018-05-25</td>\n",
       "      <td>ultra</td>\n",
       "    </tr>\n",
       "    <tr>\n",
       "      <th>1</th>\n",
       "      <td>1000_1</td>\n",
       "      <td>2018-10-08</td>\n",
       "      <td>1000</td>\n",
       "      <td>52</td>\n",
       "      <td>NaT</td>\n",
       "      <td>Краснодар</td>\n",
       "      <td>Рафаил</td>\n",
       "      <td>Верещагин</td>\n",
       "      <td>2018-05-25</td>\n",
       "      <td>ultra</td>\n",
       "    </tr>\n",
       "    <tr>\n",
       "      <th>2</th>\n",
       "      <td>1000_2</td>\n",
       "      <td>2018-08-04</td>\n",
       "      <td>1000</td>\n",
       "      <td>52</td>\n",
       "      <td>NaT</td>\n",
       "      <td>Краснодар</td>\n",
       "      <td>Рафаил</td>\n",
       "      <td>Верещагин</td>\n",
       "      <td>2018-05-25</td>\n",
       "      <td>ultra</td>\n",
       "    </tr>\n",
       "    <tr>\n",
       "      <th>3</th>\n",
       "      <td>1000_3</td>\n",
       "      <td>2018-06-16</td>\n",
       "      <td>1000</td>\n",
       "      <td>52</td>\n",
       "      <td>NaT</td>\n",
       "      <td>Краснодар</td>\n",
       "      <td>Рафаил</td>\n",
       "      <td>Верещагин</td>\n",
       "      <td>2018-05-25</td>\n",
       "      <td>ultra</td>\n",
       "    </tr>\n",
       "    <tr>\n",
       "      <th>4</th>\n",
       "      <td>1000_4</td>\n",
       "      <td>2018-12-05</td>\n",
       "      <td>1000</td>\n",
       "      <td>52</td>\n",
       "      <td>NaT</td>\n",
       "      <td>Краснодар</td>\n",
       "      <td>Рафаил</td>\n",
       "      <td>Верещагин</td>\n",
       "      <td>2018-05-25</td>\n",
       "      <td>ultra</td>\n",
       "    </tr>\n",
       "  </tbody>\n",
       "</table>\n",
       "</div>"
      ],
      "text/plain": [
       "       id message_date  user_id  age churn_date       city first_name  \\\n",
       "0  1000_0   2018-06-27     1000   52        NaT  Краснодар     Рафаил   \n",
       "1  1000_1   2018-10-08     1000   52        NaT  Краснодар     Рафаил   \n",
       "2  1000_2   2018-08-04     1000   52        NaT  Краснодар     Рафаил   \n",
       "3  1000_3   2018-06-16     1000   52        NaT  Краснодар     Рафаил   \n",
       "4  1000_4   2018-12-05     1000   52        NaT  Краснодар     Рафаил   \n",
       "\n",
       "   last_name   reg_date tariff  \n",
       "0  Верещагин 2018-05-25  ultra  \n",
       "1  Верещагин 2018-05-25  ultra  \n",
       "2  Верещагин 2018-05-25  ultra  \n",
       "3  Верещагин 2018-05-25  ultra  \n",
       "4  Верещагин 2018-05-25  ultra  "
      ]
     },
     "execution_count": 41,
     "metadata": {},
     "output_type": "execute_result"
    }
   ],
   "source": [
    "# Проверяем результаты слияния таблиц\n",
    "\n",
    "messages_users_merged.head()"
   ]
  },
  {
   "cell_type": "code",
   "execution_count": 42,
   "metadata": {},
   "outputs": [
    {
     "data": {
      "text/plain": [
       "500"
      ]
     },
     "execution_count": 42,
     "metadata": {},
     "output_type": "execute_result"
    }
   ],
   "source": [
    "# Проверяем количество пользователей (должно быть 500)\n",
    "\n",
    "len(messages_users_merged['user_id'].unique())"
   ]
  },
  {
   "cell_type": "markdown",
   "metadata": {},
   "source": [
    "### Данные об интернет-трафике"
   ]
  },
  {
   "cell_type": "code",
   "execution_count": 43,
   "metadata": {},
   "outputs": [],
   "source": [
    "# Повторяем процедуру для данных об интернет-трафике\n",
    "\n",
    "internet_users_merged = data_internet.merge(data_users, on = \"user_id\", how = 'outer')"
   ]
  },
  {
   "cell_type": "code",
   "execution_count": 44,
   "metadata": {},
   "outputs": [
    {
     "data": {
      "text/html": [
       "<div>\n",
       "<style scoped>\n",
       "    .dataframe tbody tr th:only-of-type {\n",
       "        vertical-align: middle;\n",
       "    }\n",
       "\n",
       "    .dataframe tbody tr th {\n",
       "        vertical-align: top;\n",
       "    }\n",
       "\n",
       "    .dataframe thead th {\n",
       "        text-align: right;\n",
       "    }\n",
       "</style>\n",
       "<table border=\"1\" class=\"dataframe\">\n",
       "  <thead>\n",
       "    <tr style=\"text-align: right;\">\n",
       "      <th></th>\n",
       "      <th>id</th>\n",
       "      <th>mb_used</th>\n",
       "      <th>session_date</th>\n",
       "      <th>user_id</th>\n",
       "      <th>mb_used_rounded</th>\n",
       "      <th>age</th>\n",
       "      <th>churn_date</th>\n",
       "      <th>city</th>\n",
       "      <th>first_name</th>\n",
       "      <th>last_name</th>\n",
       "      <th>reg_date</th>\n",
       "      <th>tariff</th>\n",
       "    </tr>\n",
       "  </thead>\n",
       "  <tbody>\n",
       "    <tr>\n",
       "      <th>0</th>\n",
       "      <td>1000_0</td>\n",
       "      <td>112.95</td>\n",
       "      <td>2018-11-25</td>\n",
       "      <td>1000</td>\n",
       "      <td>113.0</td>\n",
       "      <td>52</td>\n",
       "      <td>NaT</td>\n",
       "      <td>Краснодар</td>\n",
       "      <td>Рафаил</td>\n",
       "      <td>Верещагин</td>\n",
       "      <td>2018-05-25</td>\n",
       "      <td>ultra</td>\n",
       "    </tr>\n",
       "    <tr>\n",
       "      <th>1</th>\n",
       "      <td>1000_1</td>\n",
       "      <td>1052.81</td>\n",
       "      <td>2018-09-07</td>\n",
       "      <td>1000</td>\n",
       "      <td>1053.0</td>\n",
       "      <td>52</td>\n",
       "      <td>NaT</td>\n",
       "      <td>Краснодар</td>\n",
       "      <td>Рафаил</td>\n",
       "      <td>Верещагин</td>\n",
       "      <td>2018-05-25</td>\n",
       "      <td>ultra</td>\n",
       "    </tr>\n",
       "    <tr>\n",
       "      <th>2</th>\n",
       "      <td>1000_2</td>\n",
       "      <td>1197.26</td>\n",
       "      <td>2018-06-25</td>\n",
       "      <td>1000</td>\n",
       "      <td>1198.0</td>\n",
       "      <td>52</td>\n",
       "      <td>NaT</td>\n",
       "      <td>Краснодар</td>\n",
       "      <td>Рафаил</td>\n",
       "      <td>Верещагин</td>\n",
       "      <td>2018-05-25</td>\n",
       "      <td>ultra</td>\n",
       "    </tr>\n",
       "    <tr>\n",
       "      <th>3</th>\n",
       "      <td>1000_3</td>\n",
       "      <td>550.27</td>\n",
       "      <td>2018-08-22</td>\n",
       "      <td>1000</td>\n",
       "      <td>551.0</td>\n",
       "      <td>52</td>\n",
       "      <td>NaT</td>\n",
       "      <td>Краснодар</td>\n",
       "      <td>Рафаил</td>\n",
       "      <td>Верещагин</td>\n",
       "      <td>2018-05-25</td>\n",
       "      <td>ultra</td>\n",
       "    </tr>\n",
       "    <tr>\n",
       "      <th>4</th>\n",
       "      <td>1000_4</td>\n",
       "      <td>302.56</td>\n",
       "      <td>2018-09-24</td>\n",
       "      <td>1000</td>\n",
       "      <td>303.0</td>\n",
       "      <td>52</td>\n",
       "      <td>NaT</td>\n",
       "      <td>Краснодар</td>\n",
       "      <td>Рафаил</td>\n",
       "      <td>Верещагин</td>\n",
       "      <td>2018-05-25</td>\n",
       "      <td>ultra</td>\n",
       "    </tr>\n",
       "  </tbody>\n",
       "</table>\n",
       "</div>"
      ],
      "text/plain": [
       "       id  mb_used session_date  user_id  mb_used_rounded  age churn_date  \\\n",
       "0  1000_0   112.95   2018-11-25     1000            113.0   52        NaT   \n",
       "1  1000_1  1052.81   2018-09-07     1000           1053.0   52        NaT   \n",
       "2  1000_2  1197.26   2018-06-25     1000           1198.0   52        NaT   \n",
       "3  1000_3   550.27   2018-08-22     1000            551.0   52        NaT   \n",
       "4  1000_4   302.56   2018-09-24     1000            303.0   52        NaT   \n",
       "\n",
       "        city first_name  last_name   reg_date tariff  \n",
       "0  Краснодар     Рафаил  Верещагин 2018-05-25  ultra  \n",
       "1  Краснодар     Рафаил  Верещагин 2018-05-25  ultra  \n",
       "2  Краснодар     Рафаил  Верещагин 2018-05-25  ultra  \n",
       "3  Краснодар     Рафаил  Верещагин 2018-05-25  ultra  \n",
       "4  Краснодар     Рафаил  Верещагин 2018-05-25  ultra  "
      ]
     },
     "execution_count": 44,
     "metadata": {},
     "output_type": "execute_result"
    }
   ],
   "source": [
    "# Проверяем результаты слияния таблиц\n",
    "\n",
    "internet_users_merged.head()"
   ]
  },
  {
   "cell_type": "code",
   "execution_count": 45,
   "metadata": {},
   "outputs": [
    {
     "data": {
      "text/plain": [
       "500"
      ]
     },
     "execution_count": 45,
     "metadata": {},
     "output_type": "execute_result"
    }
   ],
   "source": [
    "# Проверяем количество пользователей (должно быть 500)\n",
    "\n",
    "len(internet_users_merged['user_id'].unique())"
   ]
  },
  {
   "cell_type": "markdown",
   "metadata": {},
   "source": [
    "## Добавление в рабочие таблицы информации о месяце совершения действия пользователем"
   ]
  },
  {
   "cell_type": "code",
   "execution_count": 46,
   "metadata": {
    "scrolled": true
   },
   "outputs": [],
   "source": [
    "# Добавим в таблицу с данными о звонках столбец с месяцем совершения вызова\n",
    "\n",
    "calls_users_merged['month'] = pd.DatetimeIndex(calls_users_merged['call_date']).month"
   ]
  },
  {
   "cell_type": "code",
   "execution_count": 47,
   "metadata": {
    "scrolled": true
   },
   "outputs": [
    {
     "data": {
      "text/html": [
       "<div>\n",
       "<style scoped>\n",
       "    .dataframe tbody tr th:only-of-type {\n",
       "        vertical-align: middle;\n",
       "    }\n",
       "\n",
       "    .dataframe tbody tr th {\n",
       "        vertical-align: top;\n",
       "    }\n",
       "\n",
       "    .dataframe thead th {\n",
       "        text-align: right;\n",
       "    }\n",
       "</style>\n",
       "<table border=\"1\" class=\"dataframe\">\n",
       "  <thead>\n",
       "    <tr style=\"text-align: right;\">\n",
       "      <th></th>\n",
       "      <th>id</th>\n",
       "      <th>call_date</th>\n",
       "      <th>duration</th>\n",
       "      <th>user_id</th>\n",
       "      <th>duration_rounded</th>\n",
       "      <th>age</th>\n",
       "      <th>churn_date</th>\n",
       "      <th>city</th>\n",
       "      <th>first_name</th>\n",
       "      <th>last_name</th>\n",
       "      <th>reg_date</th>\n",
       "      <th>tariff</th>\n",
       "      <th>month</th>\n",
       "    </tr>\n",
       "  </thead>\n",
       "  <tbody>\n",
       "    <tr>\n",
       "      <th>0</th>\n",
       "      <td>1000_0</td>\n",
       "      <td>2018-07-25</td>\n",
       "      <td>0.00</td>\n",
       "      <td>1000</td>\n",
       "      <td>0.0</td>\n",
       "      <td>52</td>\n",
       "      <td>NaT</td>\n",
       "      <td>Краснодар</td>\n",
       "      <td>Рафаил</td>\n",
       "      <td>Верещагин</td>\n",
       "      <td>2018-05-25</td>\n",
       "      <td>ultra</td>\n",
       "      <td>7.0</td>\n",
       "    </tr>\n",
       "    <tr>\n",
       "      <th>1</th>\n",
       "      <td>1000_1</td>\n",
       "      <td>2018-08-17</td>\n",
       "      <td>0.00</td>\n",
       "      <td>1000</td>\n",
       "      <td>0.0</td>\n",
       "      <td>52</td>\n",
       "      <td>NaT</td>\n",
       "      <td>Краснодар</td>\n",
       "      <td>Рафаил</td>\n",
       "      <td>Верещагин</td>\n",
       "      <td>2018-05-25</td>\n",
       "      <td>ultra</td>\n",
       "      <td>8.0</td>\n",
       "    </tr>\n",
       "    <tr>\n",
       "      <th>2</th>\n",
       "      <td>1000_2</td>\n",
       "      <td>2018-06-11</td>\n",
       "      <td>2.85</td>\n",
       "      <td>1000</td>\n",
       "      <td>3.0</td>\n",
       "      <td>52</td>\n",
       "      <td>NaT</td>\n",
       "      <td>Краснодар</td>\n",
       "      <td>Рафаил</td>\n",
       "      <td>Верещагин</td>\n",
       "      <td>2018-05-25</td>\n",
       "      <td>ultra</td>\n",
       "      <td>6.0</td>\n",
       "    </tr>\n",
       "    <tr>\n",
       "      <th>3</th>\n",
       "      <td>1000_3</td>\n",
       "      <td>2018-09-21</td>\n",
       "      <td>13.80</td>\n",
       "      <td>1000</td>\n",
       "      <td>14.0</td>\n",
       "      <td>52</td>\n",
       "      <td>NaT</td>\n",
       "      <td>Краснодар</td>\n",
       "      <td>Рафаил</td>\n",
       "      <td>Верещагин</td>\n",
       "      <td>2018-05-25</td>\n",
       "      <td>ultra</td>\n",
       "      <td>9.0</td>\n",
       "    </tr>\n",
       "    <tr>\n",
       "      <th>4</th>\n",
       "      <td>1000_4</td>\n",
       "      <td>2018-12-15</td>\n",
       "      <td>5.18</td>\n",
       "      <td>1000</td>\n",
       "      <td>6.0</td>\n",
       "      <td>52</td>\n",
       "      <td>NaT</td>\n",
       "      <td>Краснодар</td>\n",
       "      <td>Рафаил</td>\n",
       "      <td>Верещагин</td>\n",
       "      <td>2018-05-25</td>\n",
       "      <td>ultra</td>\n",
       "      <td>12.0</td>\n",
       "    </tr>\n",
       "  </tbody>\n",
       "</table>\n",
       "</div>"
      ],
      "text/plain": [
       "       id  call_date  duration  user_id  duration_rounded  age churn_date  \\\n",
       "0  1000_0 2018-07-25      0.00     1000               0.0   52        NaT   \n",
       "1  1000_1 2018-08-17      0.00     1000               0.0   52        NaT   \n",
       "2  1000_2 2018-06-11      2.85     1000               3.0   52        NaT   \n",
       "3  1000_3 2018-09-21     13.80     1000              14.0   52        NaT   \n",
       "4  1000_4 2018-12-15      5.18     1000               6.0   52        NaT   \n",
       "\n",
       "        city first_name  last_name   reg_date tariff  month  \n",
       "0  Краснодар     Рафаил  Верещагин 2018-05-25  ultra    7.0  \n",
       "1  Краснодар     Рафаил  Верещагин 2018-05-25  ultra    8.0  \n",
       "2  Краснодар     Рафаил  Верещагин 2018-05-25  ultra    6.0  \n",
       "3  Краснодар     Рафаил  Верещагин 2018-05-25  ultra    9.0  \n",
       "4  Краснодар     Рафаил  Верещагин 2018-05-25  ultra   12.0  "
      ]
     },
     "execution_count": 47,
     "metadata": {},
     "output_type": "execute_result"
    }
   ],
   "source": [
    "calls_users_merged.head()"
   ]
  },
  {
   "cell_type": "code",
   "execution_count": 48,
   "metadata": {},
   "outputs": [],
   "source": [
    "# Добавляем в датасет с информацией о сообщениях столбец с данными о месяце отправки СМС\n",
    "\n",
    "messages_users_merged['month'] = pd.DatetimeIndex(messages_users_merged['message_date']).month"
   ]
  },
  {
   "cell_type": "code",
   "execution_count": 49,
   "metadata": {
    "scrolled": true
   },
   "outputs": [
    {
     "data": {
      "text/html": [
       "<div>\n",
       "<style scoped>\n",
       "    .dataframe tbody tr th:only-of-type {\n",
       "        vertical-align: middle;\n",
       "    }\n",
       "\n",
       "    .dataframe tbody tr th {\n",
       "        vertical-align: top;\n",
       "    }\n",
       "\n",
       "    .dataframe thead th {\n",
       "        text-align: right;\n",
       "    }\n",
       "</style>\n",
       "<table border=\"1\" class=\"dataframe\">\n",
       "  <thead>\n",
       "    <tr style=\"text-align: right;\">\n",
       "      <th></th>\n",
       "      <th>id</th>\n",
       "      <th>message_date</th>\n",
       "      <th>user_id</th>\n",
       "      <th>age</th>\n",
       "      <th>churn_date</th>\n",
       "      <th>city</th>\n",
       "      <th>first_name</th>\n",
       "      <th>last_name</th>\n",
       "      <th>reg_date</th>\n",
       "      <th>tariff</th>\n",
       "      <th>month</th>\n",
       "    </tr>\n",
       "  </thead>\n",
       "  <tbody>\n",
       "    <tr>\n",
       "      <th>0</th>\n",
       "      <td>1000_0</td>\n",
       "      <td>2018-06-27</td>\n",
       "      <td>1000</td>\n",
       "      <td>52</td>\n",
       "      <td>NaT</td>\n",
       "      <td>Краснодар</td>\n",
       "      <td>Рафаил</td>\n",
       "      <td>Верещагин</td>\n",
       "      <td>2018-05-25</td>\n",
       "      <td>ultra</td>\n",
       "      <td>6.0</td>\n",
       "    </tr>\n",
       "    <tr>\n",
       "      <th>1</th>\n",
       "      <td>1000_1</td>\n",
       "      <td>2018-10-08</td>\n",
       "      <td>1000</td>\n",
       "      <td>52</td>\n",
       "      <td>NaT</td>\n",
       "      <td>Краснодар</td>\n",
       "      <td>Рафаил</td>\n",
       "      <td>Верещагин</td>\n",
       "      <td>2018-05-25</td>\n",
       "      <td>ultra</td>\n",
       "      <td>10.0</td>\n",
       "    </tr>\n",
       "    <tr>\n",
       "      <th>2</th>\n",
       "      <td>1000_2</td>\n",
       "      <td>2018-08-04</td>\n",
       "      <td>1000</td>\n",
       "      <td>52</td>\n",
       "      <td>NaT</td>\n",
       "      <td>Краснодар</td>\n",
       "      <td>Рафаил</td>\n",
       "      <td>Верещагин</td>\n",
       "      <td>2018-05-25</td>\n",
       "      <td>ultra</td>\n",
       "      <td>8.0</td>\n",
       "    </tr>\n",
       "    <tr>\n",
       "      <th>3</th>\n",
       "      <td>1000_3</td>\n",
       "      <td>2018-06-16</td>\n",
       "      <td>1000</td>\n",
       "      <td>52</td>\n",
       "      <td>NaT</td>\n",
       "      <td>Краснодар</td>\n",
       "      <td>Рафаил</td>\n",
       "      <td>Верещагин</td>\n",
       "      <td>2018-05-25</td>\n",
       "      <td>ultra</td>\n",
       "      <td>6.0</td>\n",
       "    </tr>\n",
       "    <tr>\n",
       "      <th>4</th>\n",
       "      <td>1000_4</td>\n",
       "      <td>2018-12-05</td>\n",
       "      <td>1000</td>\n",
       "      <td>52</td>\n",
       "      <td>NaT</td>\n",
       "      <td>Краснодар</td>\n",
       "      <td>Рафаил</td>\n",
       "      <td>Верещагин</td>\n",
       "      <td>2018-05-25</td>\n",
       "      <td>ultra</td>\n",
       "      <td>12.0</td>\n",
       "    </tr>\n",
       "  </tbody>\n",
       "</table>\n",
       "</div>"
      ],
      "text/plain": [
       "       id message_date  user_id  age churn_date       city first_name  \\\n",
       "0  1000_0   2018-06-27     1000   52        NaT  Краснодар     Рафаил   \n",
       "1  1000_1   2018-10-08     1000   52        NaT  Краснодар     Рафаил   \n",
       "2  1000_2   2018-08-04     1000   52        NaT  Краснодар     Рафаил   \n",
       "3  1000_3   2018-06-16     1000   52        NaT  Краснодар     Рафаил   \n",
       "4  1000_4   2018-12-05     1000   52        NaT  Краснодар     Рафаил   \n",
       "\n",
       "   last_name   reg_date tariff  month  \n",
       "0  Верещагин 2018-05-25  ultra    6.0  \n",
       "1  Верещагин 2018-05-25  ultra   10.0  \n",
       "2  Верещагин 2018-05-25  ultra    8.0  \n",
       "3  Верещагин 2018-05-25  ultra    6.0  \n",
       "4  Верещагин 2018-05-25  ultra   12.0  "
      ]
     },
     "execution_count": 49,
     "metadata": {},
     "output_type": "execute_result"
    }
   ],
   "source": [
    "# Выводим таблицу для проверки\n",
    "\n",
    "messages_users_merged.head()"
   ]
  },
  {
   "cell_type": "code",
   "execution_count": 50,
   "metadata": {},
   "outputs": [],
   "source": [
    "# Добавляем в датасет с информацией об интернет-трафике сообщениях столбец с данными о месяце использования интернета\n",
    "\n",
    "internet_users_merged['month'] = pd.DatetimeIndex(internet_users_merged['session_date']).month"
   ]
  },
  {
   "cell_type": "code",
   "execution_count": 51,
   "metadata": {
    "scrolled": true
   },
   "outputs": [
    {
     "data": {
      "text/html": [
       "<div>\n",
       "<style scoped>\n",
       "    .dataframe tbody tr th:only-of-type {\n",
       "        vertical-align: middle;\n",
       "    }\n",
       "\n",
       "    .dataframe tbody tr th {\n",
       "        vertical-align: top;\n",
       "    }\n",
       "\n",
       "    .dataframe thead th {\n",
       "        text-align: right;\n",
       "    }\n",
       "</style>\n",
       "<table border=\"1\" class=\"dataframe\">\n",
       "  <thead>\n",
       "    <tr style=\"text-align: right;\">\n",
       "      <th></th>\n",
       "      <th>id</th>\n",
       "      <th>mb_used</th>\n",
       "      <th>session_date</th>\n",
       "      <th>user_id</th>\n",
       "      <th>mb_used_rounded</th>\n",
       "      <th>age</th>\n",
       "      <th>churn_date</th>\n",
       "      <th>city</th>\n",
       "      <th>first_name</th>\n",
       "      <th>last_name</th>\n",
       "      <th>reg_date</th>\n",
       "      <th>tariff</th>\n",
       "      <th>month</th>\n",
       "    </tr>\n",
       "  </thead>\n",
       "  <tbody>\n",
       "    <tr>\n",
       "      <th>0</th>\n",
       "      <td>1000_0</td>\n",
       "      <td>112.95</td>\n",
       "      <td>2018-11-25</td>\n",
       "      <td>1000</td>\n",
       "      <td>113.0</td>\n",
       "      <td>52</td>\n",
       "      <td>NaT</td>\n",
       "      <td>Краснодар</td>\n",
       "      <td>Рафаил</td>\n",
       "      <td>Верещагин</td>\n",
       "      <td>2018-05-25</td>\n",
       "      <td>ultra</td>\n",
       "      <td>11.0</td>\n",
       "    </tr>\n",
       "    <tr>\n",
       "      <th>1</th>\n",
       "      <td>1000_1</td>\n",
       "      <td>1052.81</td>\n",
       "      <td>2018-09-07</td>\n",
       "      <td>1000</td>\n",
       "      <td>1053.0</td>\n",
       "      <td>52</td>\n",
       "      <td>NaT</td>\n",
       "      <td>Краснодар</td>\n",
       "      <td>Рафаил</td>\n",
       "      <td>Верещагин</td>\n",
       "      <td>2018-05-25</td>\n",
       "      <td>ultra</td>\n",
       "      <td>9.0</td>\n",
       "    </tr>\n",
       "    <tr>\n",
       "      <th>2</th>\n",
       "      <td>1000_2</td>\n",
       "      <td>1197.26</td>\n",
       "      <td>2018-06-25</td>\n",
       "      <td>1000</td>\n",
       "      <td>1198.0</td>\n",
       "      <td>52</td>\n",
       "      <td>NaT</td>\n",
       "      <td>Краснодар</td>\n",
       "      <td>Рафаил</td>\n",
       "      <td>Верещагин</td>\n",
       "      <td>2018-05-25</td>\n",
       "      <td>ultra</td>\n",
       "      <td>6.0</td>\n",
       "    </tr>\n",
       "    <tr>\n",
       "      <th>3</th>\n",
       "      <td>1000_3</td>\n",
       "      <td>550.27</td>\n",
       "      <td>2018-08-22</td>\n",
       "      <td>1000</td>\n",
       "      <td>551.0</td>\n",
       "      <td>52</td>\n",
       "      <td>NaT</td>\n",
       "      <td>Краснодар</td>\n",
       "      <td>Рафаил</td>\n",
       "      <td>Верещагин</td>\n",
       "      <td>2018-05-25</td>\n",
       "      <td>ultra</td>\n",
       "      <td>8.0</td>\n",
       "    </tr>\n",
       "    <tr>\n",
       "      <th>4</th>\n",
       "      <td>1000_4</td>\n",
       "      <td>302.56</td>\n",
       "      <td>2018-09-24</td>\n",
       "      <td>1000</td>\n",
       "      <td>303.0</td>\n",
       "      <td>52</td>\n",
       "      <td>NaT</td>\n",
       "      <td>Краснодар</td>\n",
       "      <td>Рафаил</td>\n",
       "      <td>Верещагин</td>\n",
       "      <td>2018-05-25</td>\n",
       "      <td>ultra</td>\n",
       "      <td>9.0</td>\n",
       "    </tr>\n",
       "  </tbody>\n",
       "</table>\n",
       "</div>"
      ],
      "text/plain": [
       "       id  mb_used session_date  user_id  mb_used_rounded  age churn_date  \\\n",
       "0  1000_0   112.95   2018-11-25     1000            113.0   52        NaT   \n",
       "1  1000_1  1052.81   2018-09-07     1000           1053.0   52        NaT   \n",
       "2  1000_2  1197.26   2018-06-25     1000           1198.0   52        NaT   \n",
       "3  1000_3   550.27   2018-08-22     1000            551.0   52        NaT   \n",
       "4  1000_4   302.56   2018-09-24     1000            303.0   52        NaT   \n",
       "\n",
       "        city first_name  last_name   reg_date tariff  month  \n",
       "0  Краснодар     Рафаил  Верещагин 2018-05-25  ultra   11.0  \n",
       "1  Краснодар     Рафаил  Верещагин 2018-05-25  ultra    9.0  \n",
       "2  Краснодар     Рафаил  Верещагин 2018-05-25  ultra    6.0  \n",
       "3  Краснодар     Рафаил  Верещагин 2018-05-25  ultra    8.0  \n",
       "4  Краснодар     Рафаил  Верещагин 2018-05-25  ultra    9.0  "
      ]
     },
     "execution_count": 51,
     "metadata": {},
     "output_type": "execute_result"
    }
   ],
   "source": [
    "# Вызываем датасет интернет-трафика для проверки результатов\n",
    "\n",
    "internet_users_merged.head()"
   ]
  },
  {
   "cell_type": "markdown",
   "metadata": {},
   "source": [
    "## Статистика тарифа Smart"
   ]
  },
  {
   "cell_type": "markdown",
   "metadata": {},
   "source": [
    "### Звонки"
   ]
  },
  {
   "cell_type": "code",
   "execution_count": 52,
   "metadata": {},
   "outputs": [],
   "source": [
    "# Формируем таблицу, в которой будут записаны данные \n",
    "# о продолжительности разговоров пользователей\n",
    "# тарифа smart по месяцам\n",
    "\n",
    "calls_stats_smart  = (calls_users_merged.query('tariff == \"smart\"')\n",
    "                                   .pivot_table(index = ['user_id',\n",
    "                                                         'month',\n",
    "                                                         'tariff',\n",
    "                                                         'city'],\n",
    "                                                values = ['duration_rounded'], \n",
    "                                                aggfunc = 'sum'))"
   ]
  },
  {
   "cell_type": "code",
   "execution_count": 53,
   "metadata": {},
   "outputs": [],
   "source": [
    "# Переименовываем полученный столбец для наглядности\n",
    "\n",
    "calls_stats_smart.columns = ['minutes_total']"
   ]
  },
  {
   "cell_type": "code",
   "execution_count": 54,
   "metadata": {},
   "outputs": [
    {
     "data": {
      "text/html": [
       "<div>\n",
       "<style scoped>\n",
       "    .dataframe tbody tr th:only-of-type {\n",
       "        vertical-align: middle;\n",
       "    }\n",
       "\n",
       "    .dataframe tbody tr th {\n",
       "        vertical-align: top;\n",
       "    }\n",
       "\n",
       "    .dataframe thead th {\n",
       "        text-align: right;\n",
       "    }\n",
       "</style>\n",
       "<table border=\"1\" class=\"dataframe\">\n",
       "  <thead>\n",
       "    <tr style=\"text-align: right;\">\n",
       "      <th></th>\n",
       "      <th></th>\n",
       "      <th></th>\n",
       "      <th></th>\n",
       "      <th>minutes_total</th>\n",
       "    </tr>\n",
       "    <tr>\n",
       "      <th>user_id</th>\n",
       "      <th>month</th>\n",
       "      <th>tariff</th>\n",
       "      <th>city</th>\n",
       "      <th></th>\n",
       "    </tr>\n",
       "  </thead>\n",
       "  <tbody>\n",
       "    <tr>\n",
       "      <th rowspan=\"2\" valign=\"top\">1001</th>\n",
       "      <th>11.0</th>\n",
       "      <th>smart</th>\n",
       "      <th>Москва</th>\n",
       "      <td>430.0</td>\n",
       "    </tr>\n",
       "    <tr>\n",
       "      <th>12.0</th>\n",
       "      <th>smart</th>\n",
       "      <th>Москва</th>\n",
       "      <td>414.0</td>\n",
       "    </tr>\n",
       "    <tr>\n",
       "      <th rowspan=\"3\" valign=\"top\">1002</th>\n",
       "      <th>6.0</th>\n",
       "      <th>smart</th>\n",
       "      <th>Стерлитамак</th>\n",
       "      <td>117.0</td>\n",
       "    </tr>\n",
       "    <tr>\n",
       "      <th>7.0</th>\n",
       "      <th>smart</th>\n",
       "      <th>Стерлитамак</th>\n",
       "      <td>214.0</td>\n",
       "    </tr>\n",
       "    <tr>\n",
       "      <th>8.0</th>\n",
       "      <th>smart</th>\n",
       "      <th>Стерлитамак</th>\n",
       "      <td>289.0</td>\n",
       "    </tr>\n",
       "  </tbody>\n",
       "</table>\n",
       "</div>"
      ],
      "text/plain": [
       "                                  minutes_total\n",
       "user_id month tariff city                      \n",
       "1001    11.0  smart  Москва               430.0\n",
       "        12.0  smart  Москва               414.0\n",
       "1002    6.0   smart  Стерлитамак          117.0\n",
       "        7.0   smart  Стерлитамак          214.0\n",
       "        8.0   smart  Стерлитамак          289.0"
      ]
     },
     "execution_count": 54,
     "metadata": {},
     "output_type": "execute_result"
    }
   ],
   "source": [
    "# Выводим полученный датасет для контроля качества\n",
    "\n",
    "calls_stats_smart.head()"
   ]
  },
  {
   "cell_type": "code",
   "execution_count": 55,
   "metadata": {},
   "outputs": [],
   "source": [
    "# Из полученных данных получаем те, которые превышают месячный лимит разговоров по тарифу\n",
    "# затем вычитаем из них этот лимит, а результат умножаем на стоимость минуты.\n",
    "# Пропуски заменяем нулями.\n",
    "\n",
    "calls_stats_smart['minutes_revenue'] = (((calls_stats_smart[calls_stats_smart > data_tariffs['minutes_included'][0]])\n",
    "                                         - data_tariffs['minutes_included'][0])\n",
    "                                        * data_tariffs['rub_per_minute'][0]).fillna(0)\n"
   ]
  },
  {
   "cell_type": "code",
   "execution_count": 56,
   "metadata": {},
   "outputs": [],
   "source": [
    "# Формируем таблицу, в которой будут записаны данные \n",
    "# о количестве \"успешных\" звонков пользователей\n",
    "# тарифа smart по месяцам\n",
    "\n",
    "calls_stats_smart['calls_count']  = (calls_users_merged.query('tariff == \"smart\" and duration_rounded > 0')\n",
    "                                   .pivot_table(index = ['user_id',\n",
    "                                                         'month',\n",
    "                                                         'tariff',\n",
    "                                                         'city'],\n",
    "                                                values = ['duration_rounded'], \n",
    "                                                aggfunc = 'count'))"
   ]
  },
  {
   "cell_type": "code",
   "execution_count": 57,
   "metadata": {},
   "outputs": [
    {
     "data": {
      "text/html": [
       "<div>\n",
       "<style scoped>\n",
       "    .dataframe tbody tr th:only-of-type {\n",
       "        vertical-align: middle;\n",
       "    }\n",
       "\n",
       "    .dataframe tbody tr th {\n",
       "        vertical-align: top;\n",
       "    }\n",
       "\n",
       "    .dataframe thead th {\n",
       "        text-align: right;\n",
       "    }\n",
       "</style>\n",
       "<table border=\"1\" class=\"dataframe\">\n",
       "  <thead>\n",
       "    <tr style=\"text-align: right;\">\n",
       "      <th></th>\n",
       "      <th></th>\n",
       "      <th></th>\n",
       "      <th></th>\n",
       "      <th>minutes_total</th>\n",
       "      <th>minutes_revenue</th>\n",
       "      <th>calls_count</th>\n",
       "    </tr>\n",
       "    <tr>\n",
       "      <th>user_id</th>\n",
       "      <th>month</th>\n",
       "      <th>tariff</th>\n",
       "      <th>city</th>\n",
       "      <th></th>\n",
       "      <th></th>\n",
       "      <th></th>\n",
       "    </tr>\n",
       "  </thead>\n",
       "  <tbody>\n",
       "    <tr>\n",
       "      <th>1498</th>\n",
       "      <th>10.0</th>\n",
       "      <th>smart</th>\n",
       "      <th>Владикавказ</th>\n",
       "      <td>247.0</td>\n",
       "      <td>0.0</td>\n",
       "      <td>30.0</td>\n",
       "    </tr>\n",
       "    <tr>\n",
       "      <th rowspan=\"4\" valign=\"top\">1499</th>\n",
       "      <th>9.0</th>\n",
       "      <th>smart</th>\n",
       "      <th>Пермь</th>\n",
       "      <td>70.0</td>\n",
       "      <td>0.0</td>\n",
       "      <td>8.0</td>\n",
       "    </tr>\n",
       "    <tr>\n",
       "      <th>10.0</th>\n",
       "      <th>smart</th>\n",
       "      <th>Пермь</th>\n",
       "      <td>449.0</td>\n",
       "      <td>0.0</td>\n",
       "      <td>44.0</td>\n",
       "    </tr>\n",
       "    <tr>\n",
       "      <th>11.0</th>\n",
       "      <th>smart</th>\n",
       "      <th>Пермь</th>\n",
       "      <td>612.0</td>\n",
       "      <td>336.0</td>\n",
       "      <td>62.0</td>\n",
       "    </tr>\n",
       "    <tr>\n",
       "      <th>12.0</th>\n",
       "      <th>smart</th>\n",
       "      <th>Пермь</th>\n",
       "      <td>492.0</td>\n",
       "      <td>0.0</td>\n",
       "      <td>56.0</td>\n",
       "    </tr>\n",
       "  </tbody>\n",
       "</table>\n",
       "</div>"
      ],
      "text/plain": [
       "                                  minutes_total  minutes_revenue  calls_count\n",
       "user_id month tariff city                                                    \n",
       "1498    10.0  smart  Владикавказ          247.0              0.0         30.0\n",
       "1499    9.0   smart  Пермь                 70.0              0.0          8.0\n",
       "        10.0  smart  Пермь                449.0              0.0         44.0\n",
       "        11.0  smart  Пермь                612.0            336.0         62.0\n",
       "        12.0  smart  Пермь                492.0              0.0         56.0"
      ]
     },
     "execution_count": 57,
     "metadata": {},
     "output_type": "execute_result"
    }
   ],
   "source": [
    "# Выводим результат\n",
    "\n",
    "calls_stats_smart.tail()"
   ]
  },
  {
   "cell_type": "markdown",
   "metadata": {},
   "source": [
    "### СМС"
   ]
  },
  {
   "cell_type": "code",
   "execution_count": 58,
   "metadata": {
    "scrolled": true
   },
   "outputs": [],
   "source": [
    "# Посчитаем количество сообщений каждого пользователя по месяцам\n",
    "\n",
    "messages_stats_smart = (messages_users_merged.query('tariff == \"smart\"')\n",
    "                            .pivot_table(index = ['user_id', \n",
    "                                                  'month',\n",
    "                                                  'tariff',\n",
    "                                                  'city'], \n",
    "                                         values = 'id',\n",
    "                                         aggfunc = 'count'))"
   ]
  },
  {
   "cell_type": "code",
   "execution_count": 59,
   "metadata": {},
   "outputs": [],
   "source": [
    "# Переименовываем полученный столбец для наглядности\n",
    "\n",
    "messages_stats_smart.columns = ['sms_total']"
   ]
  },
  {
   "cell_type": "code",
   "execution_count": 60,
   "metadata": {},
   "outputs": [
    {
     "data": {
      "text/html": [
       "<div>\n",
       "<style scoped>\n",
       "    .dataframe tbody tr th:only-of-type {\n",
       "        vertical-align: middle;\n",
       "    }\n",
       "\n",
       "    .dataframe tbody tr th {\n",
       "        vertical-align: top;\n",
       "    }\n",
       "\n",
       "    .dataframe thead th {\n",
       "        text-align: right;\n",
       "    }\n",
       "</style>\n",
       "<table border=\"1\" class=\"dataframe\">\n",
       "  <thead>\n",
       "    <tr style=\"text-align: right;\">\n",
       "      <th></th>\n",
       "      <th></th>\n",
       "      <th></th>\n",
       "      <th></th>\n",
       "      <th>sms_total</th>\n",
       "    </tr>\n",
       "    <tr>\n",
       "      <th>user_id</th>\n",
       "      <th>month</th>\n",
       "      <th>tariff</th>\n",
       "      <th>city</th>\n",
       "      <th></th>\n",
       "    </tr>\n",
       "  </thead>\n",
       "  <tbody>\n",
       "    <tr>\n",
       "      <th rowspan=\"5\" valign=\"top\">1002</th>\n",
       "      <th>6.0</th>\n",
       "      <th>smart</th>\n",
       "      <th>Стерлитамак</th>\n",
       "      <td>4</td>\n",
       "    </tr>\n",
       "    <tr>\n",
       "      <th>7.0</th>\n",
       "      <th>smart</th>\n",
       "      <th>Стерлитамак</th>\n",
       "      <td>11</td>\n",
       "    </tr>\n",
       "    <tr>\n",
       "      <th>8.0</th>\n",
       "      <th>smart</th>\n",
       "      <th>Стерлитамак</th>\n",
       "      <td>13</td>\n",
       "    </tr>\n",
       "    <tr>\n",
       "      <th>9.0</th>\n",
       "      <th>smart</th>\n",
       "      <th>Стерлитамак</th>\n",
       "      <td>4</td>\n",
       "    </tr>\n",
       "    <tr>\n",
       "      <th>10.0</th>\n",
       "      <th>smart</th>\n",
       "      <th>Стерлитамак</th>\n",
       "      <td>10</td>\n",
       "    </tr>\n",
       "  </tbody>\n",
       "</table>\n",
       "</div>"
      ],
      "text/plain": [
       "                                  sms_total\n",
       "user_id month tariff city                  \n",
       "1002    6.0   smart  Стерлитамак          4\n",
       "        7.0   smart  Стерлитамак         11\n",
       "        8.0   smart  Стерлитамак         13\n",
       "        9.0   smart  Стерлитамак          4\n",
       "        10.0  smart  Стерлитамак         10"
      ]
     },
     "execution_count": 60,
     "metadata": {},
     "output_type": "execute_result"
    }
   ],
   "source": [
    "# Выводим таблицу для проверки результата отбора\n",
    "\n",
    "messages_stats_smart.head()"
   ]
  },
  {
   "cell_type": "code",
   "execution_count": 61,
   "metadata": {},
   "outputs": [],
   "source": [
    "# Из полученных данных получаем те, которые превышают месячный лимит СМС по тарифу\n",
    "# затем вычитаем из них месячный лимит, а результат умножаем на стоимость\n",
    "# сообщения. Пропуски заменяем нулями.\n",
    "\n",
    "messages_stats_smart['sms_revenue'] = (((messages_stats_smart[messages_stats_smart > data_tariffs['messages_included'][0]])\n",
    "                                         - data_tariffs['messages_included'][0])\n",
    "                                        * data_tariffs['rub_per_message'][0]).fillna(0)"
   ]
  },
  {
   "cell_type": "code",
   "execution_count": 62,
   "metadata": {},
   "outputs": [
    {
     "data": {
      "text/html": [
       "<div>\n",
       "<style scoped>\n",
       "    .dataframe tbody tr th:only-of-type {\n",
       "        vertical-align: middle;\n",
       "    }\n",
       "\n",
       "    .dataframe tbody tr th {\n",
       "        vertical-align: top;\n",
       "    }\n",
       "\n",
       "    .dataframe thead th {\n",
       "        text-align: right;\n",
       "    }\n",
       "</style>\n",
       "<table border=\"1\" class=\"dataframe\">\n",
       "  <thead>\n",
       "    <tr style=\"text-align: right;\">\n",
       "      <th></th>\n",
       "      <th></th>\n",
       "      <th></th>\n",
       "      <th></th>\n",
       "      <th>sms_total</th>\n",
       "      <th>sms_revenue</th>\n",
       "    </tr>\n",
       "    <tr>\n",
       "      <th>user_id</th>\n",
       "      <th>month</th>\n",
       "      <th>tariff</th>\n",
       "      <th>city</th>\n",
       "      <th></th>\n",
       "      <th></th>\n",
       "    </tr>\n",
       "  </thead>\n",
       "  <tbody>\n",
       "    <tr>\n",
       "      <th>1498</th>\n",
       "      <th>10.0</th>\n",
       "      <th>smart</th>\n",
       "      <th>Владикавказ</th>\n",
       "      <td>42</td>\n",
       "      <td>0.0</td>\n",
       "    </tr>\n",
       "    <tr>\n",
       "      <th rowspan=\"4\" valign=\"top\">1499</th>\n",
       "      <th>9.0</th>\n",
       "      <th>smart</th>\n",
       "      <th>Пермь</th>\n",
       "      <td>11</td>\n",
       "      <td>0.0</td>\n",
       "    </tr>\n",
       "    <tr>\n",
       "      <th>10.0</th>\n",
       "      <th>smart</th>\n",
       "      <th>Пермь</th>\n",
       "      <td>48</td>\n",
       "      <td>0.0</td>\n",
       "    </tr>\n",
       "    <tr>\n",
       "      <th>11.0</th>\n",
       "      <th>smart</th>\n",
       "      <th>Пермь</th>\n",
       "      <td>59</td>\n",
       "      <td>27.0</td>\n",
       "    </tr>\n",
       "    <tr>\n",
       "      <th>12.0</th>\n",
       "      <th>smart</th>\n",
       "      <th>Пермь</th>\n",
       "      <td>66</td>\n",
       "      <td>48.0</td>\n",
       "    </tr>\n",
       "  </tbody>\n",
       "</table>\n",
       "</div>"
      ],
      "text/plain": [
       "                                  sms_total  sms_revenue\n",
       "user_id month tariff city                               \n",
       "1498    10.0  smart  Владикавказ         42          0.0\n",
       "1499    9.0   smart  Пермь               11          0.0\n",
       "        10.0  smart  Пермь               48          0.0\n",
       "        11.0  smart  Пермь               59         27.0\n",
       "        12.0  smart  Пермь               66         48.0"
      ]
     },
     "execution_count": 62,
     "metadata": {},
     "output_type": "execute_result"
    }
   ],
   "source": [
    "# Смотрим результаты \n",
    "\n",
    "messages_stats_smart.tail()"
   ]
  },
  {
   "cell_type": "markdown",
   "metadata": {},
   "source": [
    "### Интернет"
   ]
  },
  {
   "cell_type": "code",
   "execution_count": 63,
   "metadata": {},
   "outputs": [],
   "source": [
    "# Считаем объем израсходанного интернет-трафика для каждого пользователя по месяцам.\n",
    "# Как и в случае со звонками, используем округленные вверх данные, так как \"Мегалайн\" считает\n",
    "# только мегабайты, а не их доли.\n",
    "\n",
    "internet_stats_smart = (internet_users_merged.query('tariff == \"smart\"')\n",
    "                                    .pivot_table(index = ['user_id', 'month', 'tariff', 'city'], \n",
    "                                    values = 'mb_used_rounded',\n",
    "                                    aggfunc = 'sum'))"
   ]
  },
  {
   "cell_type": "code",
   "execution_count": 64,
   "metadata": {},
   "outputs": [],
   "source": [
    "# Переименовываем полученный столбец для наглядности\n",
    "\n",
    "internet_stats_smart.columns = ['mb_total']"
   ]
  },
  {
   "cell_type": "code",
   "execution_count": 65,
   "metadata": {},
   "outputs": [
    {
     "data": {
      "text/html": [
       "<div>\n",
       "<style scoped>\n",
       "    .dataframe tbody tr th:only-of-type {\n",
       "        vertical-align: middle;\n",
       "    }\n",
       "\n",
       "    .dataframe tbody tr th {\n",
       "        vertical-align: top;\n",
       "    }\n",
       "\n",
       "    .dataframe thead th {\n",
       "        text-align: right;\n",
       "    }\n",
       "</style>\n",
       "<table border=\"1\" class=\"dataframe\">\n",
       "  <thead>\n",
       "    <tr style=\"text-align: right;\">\n",
       "      <th></th>\n",
       "      <th></th>\n",
       "      <th></th>\n",
       "      <th></th>\n",
       "      <th>mb_total</th>\n",
       "    </tr>\n",
       "    <tr>\n",
       "      <th>user_id</th>\n",
       "      <th>month</th>\n",
       "      <th>tariff</th>\n",
       "      <th>city</th>\n",
       "      <th></th>\n",
       "    </tr>\n",
       "  </thead>\n",
       "  <tbody>\n",
       "    <tr>\n",
       "      <th rowspan=\"2\" valign=\"top\">1001</th>\n",
       "      <th>11.0</th>\n",
       "      <th>smart</th>\n",
       "      <th>Москва</th>\n",
       "      <td>18452.0</td>\n",
       "    </tr>\n",
       "    <tr>\n",
       "      <th>12.0</th>\n",
       "      <th>smart</th>\n",
       "      <th>Москва</th>\n",
       "      <td>14053.0</td>\n",
       "    </tr>\n",
       "    <tr>\n",
       "      <th rowspan=\"3\" valign=\"top\">1002</th>\n",
       "      <th>6.0</th>\n",
       "      <th>smart</th>\n",
       "      <th>Стерлитамак</th>\n",
       "      <td>10871.0</td>\n",
       "    </tr>\n",
       "    <tr>\n",
       "      <th>7.0</th>\n",
       "      <th>smart</th>\n",
       "      <th>Стерлитамак</th>\n",
       "      <td>17601.0</td>\n",
       "    </tr>\n",
       "    <tr>\n",
       "      <th>8.0</th>\n",
       "      <th>smart</th>\n",
       "      <th>Стерлитамак</th>\n",
       "      <td>20347.0</td>\n",
       "    </tr>\n",
       "  </tbody>\n",
       "</table>\n",
       "</div>"
      ],
      "text/plain": [
       "                                  mb_total\n",
       "user_id month tariff city                 \n",
       "1001    11.0  smart  Москва        18452.0\n",
       "        12.0  smart  Москва        14053.0\n",
       "1002    6.0   smart  Стерлитамак   10871.0\n",
       "        7.0   smart  Стерлитамак   17601.0\n",
       "        8.0   smart  Стерлитамак   20347.0"
      ]
     },
     "execution_count": 65,
     "metadata": {},
     "output_type": "execute_result"
    }
   ],
   "source": [
    "# Выводим текущий результат\n",
    "\n",
    "internet_stats_smart.head()"
   ]
  },
  {
   "cell_type": "code",
   "execution_count": 66,
   "metadata": {},
   "outputs": [],
   "source": [
    "# Из полученных данных получаем те, которые превышают месячный лимит мегабайт по тарифу\n",
    "# затем вычитаем из них месячный лимит, а результат умножаем на стоимость\n",
    "# 1 Мб. Пропуски заменяем нулями.\n",
    "\n",
    "internet_stats_smart['mb_revenue'] = (((internet_stats_smart[internet_stats_smart > data_tariffs['mb_per_month_included'][0]])\n",
    "                                      - data_tariffs['mb_per_month_included'][0])\n",
    "                                     * data_tariffs['rub_per_gb'][0] / 1024).fillna(0) "
   ]
  },
  {
   "cell_type": "code",
   "execution_count": 67,
   "metadata": {},
   "outputs": [
    {
     "data": {
      "text/html": [
       "<div>\n",
       "<style scoped>\n",
       "    .dataframe tbody tr th:only-of-type {\n",
       "        vertical-align: middle;\n",
       "    }\n",
       "\n",
       "    .dataframe tbody tr th {\n",
       "        vertical-align: top;\n",
       "    }\n",
       "\n",
       "    .dataframe thead th {\n",
       "        text-align: right;\n",
       "    }\n",
       "</style>\n",
       "<table border=\"1\" class=\"dataframe\">\n",
       "  <thead>\n",
       "    <tr style=\"text-align: right;\">\n",
       "      <th></th>\n",
       "      <th></th>\n",
       "      <th></th>\n",
       "      <th></th>\n",
       "      <th>mb_total</th>\n",
       "      <th>mb_revenue</th>\n",
       "    </tr>\n",
       "    <tr>\n",
       "      <th>user_id</th>\n",
       "      <th>month</th>\n",
       "      <th>tariff</th>\n",
       "      <th>city</th>\n",
       "      <th></th>\n",
       "      <th></th>\n",
       "    </tr>\n",
       "  </thead>\n",
       "  <tbody>\n",
       "    <tr>\n",
       "      <th rowspan=\"2\" valign=\"top\">1001</th>\n",
       "      <th>11.0</th>\n",
       "      <th>smart</th>\n",
       "      <th>Москва</th>\n",
       "      <td>18452.0</td>\n",
       "      <td>603.906250</td>\n",
       "    </tr>\n",
       "    <tr>\n",
       "      <th>12.0</th>\n",
       "      <th>smart</th>\n",
       "      <th>Москва</th>\n",
       "      <td>14053.0</td>\n",
       "      <td>0.000000</td>\n",
       "    </tr>\n",
       "    <tr>\n",
       "      <th rowspan=\"3\" valign=\"top\">1002</th>\n",
       "      <th>6.0</th>\n",
       "      <th>smart</th>\n",
       "      <th>Стерлитамак</th>\n",
       "      <td>10871.0</td>\n",
       "      <td>0.000000</td>\n",
       "    </tr>\n",
       "    <tr>\n",
       "      <th>7.0</th>\n",
       "      <th>smart</th>\n",
       "      <th>Стерлитамак</th>\n",
       "      <td>17601.0</td>\n",
       "      <td>437.695312</td>\n",
       "    </tr>\n",
       "    <tr>\n",
       "      <th>8.0</th>\n",
       "      <th>smart</th>\n",
       "      <th>Стерлитамак</th>\n",
       "      <td>20347.0</td>\n",
       "      <td>974.023438</td>\n",
       "    </tr>\n",
       "  </tbody>\n",
       "</table>\n",
       "</div>"
      ],
      "text/plain": [
       "                                  mb_total  mb_revenue\n",
       "user_id month tariff city                             \n",
       "1001    11.0  smart  Москва        18452.0  603.906250\n",
       "        12.0  smart  Москва        14053.0    0.000000\n",
       "1002    6.0   smart  Стерлитамак   10871.0    0.000000\n",
       "        7.0   smart  Стерлитамак   17601.0  437.695312\n",
       "        8.0   smart  Стерлитамак   20347.0  974.023438"
      ]
     },
     "execution_count": 67,
     "metadata": {},
     "output_type": "execute_result"
    }
   ],
   "source": [
    "# Смотрим, что получили\n",
    "\n",
    "internet_stats_smart.head()"
   ]
  },
  {
   "cell_type": "markdown",
   "metadata": {},
   "source": [
    "### Общий доход"
   ]
  },
  {
   "cell_type": "code",
   "execution_count": 68,
   "metadata": {},
   "outputs": [],
   "source": [
    "# Напишем общую функцию для поиска дохода компании по всем видам услуг по каждому \n",
    "# пользователя помесячно. Результат добавляется в качестве нового столбца в таблицу \n",
    "\n",
    "def count_revenue(tariff):\n",
    "    \n",
    "    if tariff == 'smart':\n",
    "        sign = 0\n",
    "        data = smart_stats\n",
    "    \n",
    "    elif tariff == 'ultra':\n",
    "        sign = 1\n",
    "        data = ultra_stats\n",
    "    \n",
    "    else:\n",
    "        print('Некорректно задано название тарифа. Попробуйте написать его строчными латинскими буквами')\n",
    "\n",
    "    return (data['minutes_revenue'] + data['sms_revenue'] \n",
    "                                    + data['mb_revenue'] \n",
    "                                    + data_tariffs['rub_monthly_fee'][sign])"
   ]
  },
  {
   "cell_type": "code",
   "execution_count": 69,
   "metadata": {},
   "outputs": [],
   "source": [
    "# Сводим все данные по тарифу Смарт в одну таблицу путем объединения статистики по звонкам,\n",
    "# СМС и трафику\n",
    "\n",
    "smart_stats = calls_stats_smart.join(messages_stats_smart['sms_revenue'], how='outer')\n",
    "\n",
    "smart_stats = smart_stats.join(internet_stats_smart['mb_revenue'], how='outer')"
   ]
  },
  {
   "cell_type": "code",
   "execution_count": 70,
   "metadata": {},
   "outputs": [],
   "source": [
    "# Пропуски заполняем нулями\n",
    "\n",
    "smart_stats = smart_stats.fillna(0)"
   ]
  },
  {
   "cell_type": "code",
   "execution_count": 71,
   "metadata": {},
   "outputs": [],
   "source": [
    "# Складываем доход по всем видам связи и прибавляем к результату абонентскую плату по тарифу\n",
    "\n",
    "smart_stats['revenue_total'] = count_revenue('smart')"
   ]
  },
  {
   "cell_type": "code",
   "execution_count": 72,
   "metadata": {
    "scrolled": true
   },
   "outputs": [
    {
     "data": {
      "text/html": [
       "<div>\n",
       "<style scoped>\n",
       "    .dataframe tbody tr th:only-of-type {\n",
       "        vertical-align: middle;\n",
       "    }\n",
       "\n",
       "    .dataframe tbody tr th {\n",
       "        vertical-align: top;\n",
       "    }\n",
       "\n",
       "    .dataframe thead th {\n",
       "        text-align: right;\n",
       "    }\n",
       "</style>\n",
       "<table border=\"1\" class=\"dataframe\">\n",
       "  <thead>\n",
       "    <tr style=\"text-align: right;\">\n",
       "      <th></th>\n",
       "      <th></th>\n",
       "      <th></th>\n",
       "      <th></th>\n",
       "      <th>minutes_total</th>\n",
       "      <th>minutes_revenue</th>\n",
       "      <th>calls_count</th>\n",
       "      <th>sms_revenue</th>\n",
       "      <th>mb_revenue</th>\n",
       "      <th>revenue_total</th>\n",
       "    </tr>\n",
       "    <tr>\n",
       "      <th>user_id</th>\n",
       "      <th>month</th>\n",
       "      <th>tariff</th>\n",
       "      <th>city</th>\n",
       "      <th></th>\n",
       "      <th></th>\n",
       "      <th></th>\n",
       "      <th></th>\n",
       "      <th></th>\n",
       "      <th></th>\n",
       "    </tr>\n",
       "  </thead>\n",
       "  <tbody>\n",
       "    <tr>\n",
       "      <th rowspan=\"2\" valign=\"top\">1001</th>\n",
       "      <th>11.0</th>\n",
       "      <th>smart</th>\n",
       "      <th>Москва</th>\n",
       "      <td>430.0</td>\n",
       "      <td>0.0</td>\n",
       "      <td>45.0</td>\n",
       "      <td>0.0</td>\n",
       "      <td>603.906250</td>\n",
       "      <td>1153.906250</td>\n",
       "    </tr>\n",
       "    <tr>\n",
       "      <th>12.0</th>\n",
       "      <th>smart</th>\n",
       "      <th>Москва</th>\n",
       "      <td>414.0</td>\n",
       "      <td>0.0</td>\n",
       "      <td>47.0</td>\n",
       "      <td>0.0</td>\n",
       "      <td>0.000000</td>\n",
       "      <td>550.000000</td>\n",
       "    </tr>\n",
       "    <tr>\n",
       "      <th rowspan=\"3\" valign=\"top\">1002</th>\n",
       "      <th>6.0</th>\n",
       "      <th>smart</th>\n",
       "      <th>Стерлитамак</th>\n",
       "      <td>117.0</td>\n",
       "      <td>0.0</td>\n",
       "      <td>14.0</td>\n",
       "      <td>0.0</td>\n",
       "      <td>0.000000</td>\n",
       "      <td>550.000000</td>\n",
       "    </tr>\n",
       "    <tr>\n",
       "      <th>7.0</th>\n",
       "      <th>smart</th>\n",
       "      <th>Стерлитамак</th>\n",
       "      <td>214.0</td>\n",
       "      <td>0.0</td>\n",
       "      <td>21.0</td>\n",
       "      <td>0.0</td>\n",
       "      <td>437.695312</td>\n",
       "      <td>987.695312</td>\n",
       "    </tr>\n",
       "    <tr>\n",
       "      <th>8.0</th>\n",
       "      <th>smart</th>\n",
       "      <th>Стерлитамак</th>\n",
       "      <td>289.0</td>\n",
       "      <td>0.0</td>\n",
       "      <td>37.0</td>\n",
       "      <td>0.0</td>\n",
       "      <td>974.023438</td>\n",
       "      <td>1524.023438</td>\n",
       "    </tr>\n",
       "  </tbody>\n",
       "</table>\n",
       "</div>"
      ],
      "text/plain": [
       "                                  minutes_total  minutes_revenue  calls_count  \\\n",
       "user_id month tariff city                                                       \n",
       "1001    11.0  smart  Москва               430.0              0.0         45.0   \n",
       "        12.0  smart  Москва               414.0              0.0         47.0   \n",
       "1002    6.0   smart  Стерлитамак          117.0              0.0         14.0   \n",
       "        7.0   smart  Стерлитамак          214.0              0.0         21.0   \n",
       "        8.0   smart  Стерлитамак          289.0              0.0         37.0   \n",
       "\n",
       "                                  sms_revenue  mb_revenue  revenue_total  \n",
       "user_id month tariff city                                                 \n",
       "1001    11.0  smart  Москва               0.0  603.906250    1153.906250  \n",
       "        12.0  smart  Москва               0.0    0.000000     550.000000  \n",
       "1002    6.0   smart  Стерлитамак          0.0    0.000000     550.000000  \n",
       "        7.0   smart  Стерлитамак          0.0  437.695312     987.695312  \n",
       "        8.0   smart  Стерлитамак          0.0  974.023438    1524.023438  "
      ]
     },
     "execution_count": 72,
     "metadata": {},
     "output_type": "execute_result"
    }
   ],
   "source": [
    "# Выводим результат\n",
    "\n",
    "smart_stats.head()"
   ]
  },
  {
   "cell_type": "markdown",
   "metadata": {},
   "source": [
    "## Статистика тарифа Ultra"
   ]
  },
  {
   "cell_type": "markdown",
   "metadata": {},
   "source": [
    "### Звонки"
   ]
  },
  {
   "cell_type": "code",
   "execution_count": 73,
   "metadata": {},
   "outputs": [],
   "source": [
    "# Формируем таблицу, в которой будут записаны данные о продолжительности разговоров \n",
    "# пользователей тарифа Ульра по месяцам\n",
    "\n",
    "calls_stats_ultra  = (calls_users_merged.query('tariff == \"ultra\"')\n",
    "                                   .pivot_table(index = ['user_id', 'month', 'tariff', 'city'],\n",
    "                                                values = ['duration_rounded'], \n",
    "                                                aggfunc = 'sum'))"
   ]
  },
  {
   "cell_type": "code",
   "execution_count": 74,
   "metadata": {},
   "outputs": [],
   "source": [
    "# Переименовываем полученный столбец для наглядности\n",
    "\n",
    "calls_stats_ultra.columns = ['minutes_total']"
   ]
  },
  {
   "cell_type": "code",
   "execution_count": 75,
   "metadata": {},
   "outputs": [
    {
     "data": {
      "text/html": [
       "<div>\n",
       "<style scoped>\n",
       "    .dataframe tbody tr th:only-of-type {\n",
       "        vertical-align: middle;\n",
       "    }\n",
       "\n",
       "    .dataframe tbody tr th {\n",
       "        vertical-align: top;\n",
       "    }\n",
       "\n",
       "    .dataframe thead th {\n",
       "        text-align: right;\n",
       "    }\n",
       "</style>\n",
       "<table border=\"1\" class=\"dataframe\">\n",
       "  <thead>\n",
       "    <tr style=\"text-align: right;\">\n",
       "      <th></th>\n",
       "      <th></th>\n",
       "      <th></th>\n",
       "      <th></th>\n",
       "      <th>minutes_total</th>\n",
       "    </tr>\n",
       "    <tr>\n",
       "      <th>user_id</th>\n",
       "      <th>month</th>\n",
       "      <th>tariff</th>\n",
       "      <th>city</th>\n",
       "      <th></th>\n",
       "    </tr>\n",
       "  </thead>\n",
       "  <tbody>\n",
       "    <tr>\n",
       "      <th rowspan=\"5\" valign=\"top\">1000</th>\n",
       "      <th>5.0</th>\n",
       "      <th>ultra</th>\n",
       "      <th>Краснодар</th>\n",
       "      <td>159.0</td>\n",
       "    </tr>\n",
       "    <tr>\n",
       "      <th>6.0</th>\n",
       "      <th>ultra</th>\n",
       "      <th>Краснодар</th>\n",
       "      <td>172.0</td>\n",
       "    </tr>\n",
       "    <tr>\n",
       "      <th>7.0</th>\n",
       "      <th>ultra</th>\n",
       "      <th>Краснодар</th>\n",
       "      <td>340.0</td>\n",
       "    </tr>\n",
       "    <tr>\n",
       "      <th>8.0</th>\n",
       "      <th>ultra</th>\n",
       "      <th>Краснодар</th>\n",
       "      <td>408.0</td>\n",
       "    </tr>\n",
       "    <tr>\n",
       "      <th>9.0</th>\n",
       "      <th>ultra</th>\n",
       "      <th>Краснодар</th>\n",
       "      <td>466.0</td>\n",
       "    </tr>\n",
       "  </tbody>\n",
       "</table>\n",
       "</div>"
      ],
      "text/plain": [
       "                                minutes_total\n",
       "user_id month tariff city                    \n",
       "1000    5.0   ultra  Краснодар          159.0\n",
       "        6.0   ultra  Краснодар          172.0\n",
       "        7.0   ultra  Краснодар          340.0\n",
       "        8.0   ultra  Краснодар          408.0\n",
       "        9.0   ultra  Краснодар          466.0"
      ]
     },
     "execution_count": 75,
     "metadata": {},
     "output_type": "execute_result"
    }
   ],
   "source": [
    "# Выводим полученный датасет для контроля качества\n",
    "\n",
    "calls_stats_ultra.head()"
   ]
  },
  {
   "cell_type": "code",
   "execution_count": 76,
   "metadata": {},
   "outputs": [],
   "source": [
    "# Из полученных данных получаем те, которые превышают месячный лимит разговоров по тарифу\n",
    "# затем вычитаем из них месячный лимит минут по тарифу, а результат умножаем на стоимость\n",
    "# минуты. Пропуски заменяем нулями.\n",
    "\n",
    "calls_stats_ultra['minutes_revenue'] = (((calls_stats_ultra[calls_stats_ultra > data_tariffs['minutes_included'][1]])\n",
    "                                         - data_tariffs['minutes_included'][1])\n",
    "                                        * data_tariffs['rub_per_minute'][1]).fillna(0)\n"
   ]
  },
  {
   "cell_type": "code",
   "execution_count": 77,
   "metadata": {},
   "outputs": [
    {
     "data": {
      "text/html": [
       "<div>\n",
       "<style scoped>\n",
       "    .dataframe tbody tr th:only-of-type {\n",
       "        vertical-align: middle;\n",
       "    }\n",
       "\n",
       "    .dataframe tbody tr th {\n",
       "        vertical-align: top;\n",
       "    }\n",
       "\n",
       "    .dataframe thead th {\n",
       "        text-align: right;\n",
       "    }\n",
       "</style>\n",
       "<table border=\"1\" class=\"dataframe\">\n",
       "  <thead>\n",
       "    <tr style=\"text-align: right;\">\n",
       "      <th></th>\n",
       "      <th></th>\n",
       "      <th></th>\n",
       "      <th></th>\n",
       "      <th>minutes_total</th>\n",
       "      <th>minutes_revenue</th>\n",
       "    </tr>\n",
       "    <tr>\n",
       "      <th>user_id</th>\n",
       "      <th>month</th>\n",
       "      <th>tariff</th>\n",
       "      <th>city</th>\n",
       "      <th></th>\n",
       "      <th></th>\n",
       "    </tr>\n",
       "  </thead>\n",
       "  <tbody>\n",
       "    <tr>\n",
       "      <th rowspan=\"5\" valign=\"top\">1000</th>\n",
       "      <th>5.0</th>\n",
       "      <th>ultra</th>\n",
       "      <th>Краснодар</th>\n",
       "      <td>159.0</td>\n",
       "      <td>0.0</td>\n",
       "    </tr>\n",
       "    <tr>\n",
       "      <th>6.0</th>\n",
       "      <th>ultra</th>\n",
       "      <th>Краснодар</th>\n",
       "      <td>172.0</td>\n",
       "      <td>0.0</td>\n",
       "    </tr>\n",
       "    <tr>\n",
       "      <th>7.0</th>\n",
       "      <th>ultra</th>\n",
       "      <th>Краснодар</th>\n",
       "      <td>340.0</td>\n",
       "      <td>0.0</td>\n",
       "    </tr>\n",
       "    <tr>\n",
       "      <th>8.0</th>\n",
       "      <th>ultra</th>\n",
       "      <th>Краснодар</th>\n",
       "      <td>408.0</td>\n",
       "      <td>0.0</td>\n",
       "    </tr>\n",
       "    <tr>\n",
       "      <th>9.0</th>\n",
       "      <th>ultra</th>\n",
       "      <th>Краснодар</th>\n",
       "      <td>466.0</td>\n",
       "      <td>0.0</td>\n",
       "    </tr>\n",
       "  </tbody>\n",
       "</table>\n",
       "</div>"
      ],
      "text/plain": [
       "                                minutes_total  minutes_revenue\n",
       "user_id month tariff city                                     \n",
       "1000    5.0   ultra  Краснодар          159.0              0.0\n",
       "        6.0   ultra  Краснодар          172.0              0.0\n",
       "        7.0   ultra  Краснодар          340.0              0.0\n",
       "        8.0   ultra  Краснодар          408.0              0.0\n",
       "        9.0   ultra  Краснодар          466.0              0.0"
      ]
     },
     "execution_count": 77,
     "metadata": {},
     "output_type": "execute_result"
    }
   ],
   "source": [
    "# Выводим результат\n",
    "\n",
    "calls_stats_ultra.head()"
   ]
  },
  {
   "cell_type": "markdown",
   "metadata": {},
   "source": [
    "### СМС"
   ]
  },
  {
   "cell_type": "code",
   "execution_count": 78,
   "metadata": {
    "scrolled": true
   },
   "outputs": [],
   "source": [
    "# Посчитаем количество сообщений каждого пользователя по месяцам\n",
    "\n",
    "messages_stats_ultra = (messages_users_merged.query('tariff == \"ultra\"')\n",
    "                            .pivot_table(index = ['user_id', 'month', 'tariff', 'city'], \n",
    "                             values = 'id',aggfunc = 'count').sort_values(by = 'user_id'))"
   ]
  },
  {
   "cell_type": "code",
   "execution_count": 79,
   "metadata": {},
   "outputs": [],
   "source": [
    "# Переименовываем полученный столбец для наглядности\n",
    "\n",
    "messages_stats_ultra.columns = ['sms_total']"
   ]
  },
  {
   "cell_type": "code",
   "execution_count": 80,
   "metadata": {},
   "outputs": [
    {
     "data": {
      "text/html": [
       "<div>\n",
       "<style scoped>\n",
       "    .dataframe tbody tr th:only-of-type {\n",
       "        vertical-align: middle;\n",
       "    }\n",
       "\n",
       "    .dataframe tbody tr th {\n",
       "        vertical-align: top;\n",
       "    }\n",
       "\n",
       "    .dataframe thead th {\n",
       "        text-align: right;\n",
       "    }\n",
       "</style>\n",
       "<table border=\"1\" class=\"dataframe\">\n",
       "  <thead>\n",
       "    <tr style=\"text-align: right;\">\n",
       "      <th></th>\n",
       "      <th></th>\n",
       "      <th></th>\n",
       "      <th></th>\n",
       "      <th>sms_total</th>\n",
       "    </tr>\n",
       "    <tr>\n",
       "      <th>user_id</th>\n",
       "      <th>month</th>\n",
       "      <th>tariff</th>\n",
       "      <th>city</th>\n",
       "      <th></th>\n",
       "    </tr>\n",
       "  </thead>\n",
       "  <tbody>\n",
       "    <tr>\n",
       "      <th rowspan=\"5\" valign=\"top\">1000</th>\n",
       "      <th>5.0</th>\n",
       "      <th>ultra</th>\n",
       "      <th>Краснодар</th>\n",
       "      <td>22</td>\n",
       "    </tr>\n",
       "    <tr>\n",
       "      <th>6.0</th>\n",
       "      <th>ultra</th>\n",
       "      <th>Краснодар</th>\n",
       "      <td>60</td>\n",
       "    </tr>\n",
       "    <tr>\n",
       "      <th>7.0</th>\n",
       "      <th>ultra</th>\n",
       "      <th>Краснодар</th>\n",
       "      <td>75</td>\n",
       "    </tr>\n",
       "    <tr>\n",
       "      <th>8.0</th>\n",
       "      <th>ultra</th>\n",
       "      <th>Краснодар</th>\n",
       "      <td>81</td>\n",
       "    </tr>\n",
       "    <tr>\n",
       "      <th>9.0</th>\n",
       "      <th>ultra</th>\n",
       "      <th>Краснодар</th>\n",
       "      <td>57</td>\n",
       "    </tr>\n",
       "  </tbody>\n",
       "</table>\n",
       "</div>"
      ],
      "text/plain": [
       "                                sms_total\n",
       "user_id month tariff city                \n",
       "1000    5.0   ultra  Краснодар         22\n",
       "        6.0   ultra  Краснодар         60\n",
       "        7.0   ultra  Краснодар         75\n",
       "        8.0   ultra  Краснодар         81\n",
       "        9.0   ultra  Краснодар         57"
      ]
     },
     "execution_count": 80,
     "metadata": {},
     "output_type": "execute_result"
    }
   ],
   "source": [
    "# Выводим таблицу для проверки результата отбора\n",
    "\n",
    "messages_stats_ultra.head()"
   ]
  },
  {
   "cell_type": "code",
   "execution_count": 81,
   "metadata": {},
   "outputs": [],
   "source": [
    "# Из полученных данных получаем те, которые превышают месячный лимит СМС по тарифу\n",
    "# затем вычитаем из них месячный лимит, а результат умножаем на стоимость\n",
    "# сообщения. Пропуски заменяем нулями.\n",
    "\n",
    "messages_stats_ultra['sms_revenue'] = (((messages_stats_ultra[messages_stats_ultra > data_tariffs['messages_included'][1]])\n",
    "                                         - data_tariffs['messages_included'][1])\n",
    "                                        * data_tariffs['rub_per_message'][1]).fillna(0)"
   ]
  },
  {
   "cell_type": "code",
   "execution_count": 82,
   "metadata": {},
   "outputs": [
    {
     "data": {
      "text/html": [
       "<div>\n",
       "<style scoped>\n",
       "    .dataframe tbody tr th:only-of-type {\n",
       "        vertical-align: middle;\n",
       "    }\n",
       "\n",
       "    .dataframe tbody tr th {\n",
       "        vertical-align: top;\n",
       "    }\n",
       "\n",
       "    .dataframe thead th {\n",
       "        text-align: right;\n",
       "    }\n",
       "</style>\n",
       "<table border=\"1\" class=\"dataframe\">\n",
       "  <thead>\n",
       "    <tr style=\"text-align: right;\">\n",
       "      <th></th>\n",
       "      <th></th>\n",
       "      <th></th>\n",
       "      <th></th>\n",
       "      <th>sms_total</th>\n",
       "      <th>sms_revenue</th>\n",
       "    </tr>\n",
       "    <tr>\n",
       "      <th>user_id</th>\n",
       "      <th>month</th>\n",
       "      <th>tariff</th>\n",
       "      <th>city</th>\n",
       "      <th></th>\n",
       "      <th></th>\n",
       "    </tr>\n",
       "  </thead>\n",
       "  <tbody>\n",
       "    <tr>\n",
       "      <th rowspan=\"5\" valign=\"top\">1495</th>\n",
       "      <th>11.0</th>\n",
       "      <th>ultra</th>\n",
       "      <th>Иркутск</th>\n",
       "      <td>79</td>\n",
       "      <td>0.0</td>\n",
       "    </tr>\n",
       "    <tr>\n",
       "      <th>8.0</th>\n",
       "      <th>ultra</th>\n",
       "      <th>Иркутск</th>\n",
       "      <td>13</td>\n",
       "      <td>0.0</td>\n",
       "    </tr>\n",
       "    <tr>\n",
       "      <th>9.0</th>\n",
       "      <th>ultra</th>\n",
       "      <th>Иркутск</th>\n",
       "      <td>82</td>\n",
       "      <td>0.0</td>\n",
       "    </tr>\n",
       "    <tr>\n",
       "      <th>10.0</th>\n",
       "      <th>ultra</th>\n",
       "      <th>Иркутск</th>\n",
       "      <td>82</td>\n",
       "      <td>0.0</td>\n",
       "    </tr>\n",
       "    <tr>\n",
       "      <th>12.0</th>\n",
       "      <th>ultra</th>\n",
       "      <th>Иркутск</th>\n",
       "      <td>84</td>\n",
       "      <td>0.0</td>\n",
       "    </tr>\n",
       "  </tbody>\n",
       "</table>\n",
       "</div>"
      ],
      "text/plain": [
       "                              sms_total  sms_revenue\n",
       "user_id month tariff city                           \n",
       "1495    11.0  ultra  Иркутск         79          0.0\n",
       "        8.0   ultra  Иркутск         13          0.0\n",
       "        9.0   ultra  Иркутск         82          0.0\n",
       "        10.0  ultra  Иркутск         82          0.0\n",
       "        12.0  ultra  Иркутск         84          0.0"
      ]
     },
     "execution_count": 82,
     "metadata": {},
     "output_type": "execute_result"
    }
   ],
   "source": [
    "# Смотрим результаты \n",
    "\n",
    "messages_stats_ultra.tail()"
   ]
  },
  {
   "cell_type": "markdown",
   "metadata": {},
   "source": [
    "### Интернет"
   ]
  },
  {
   "cell_type": "code",
   "execution_count": 83,
   "metadata": {},
   "outputs": [],
   "source": [
    "# Считаем объем израсходанного интернет-трафика для каждого пользователя по месяцам.\n",
    "# Как и в случае со звонками, используем округленные вверх данные, так как \"Мегалайн\" считает\n",
    "# только мегабайты, а не их доли.\n",
    "\n",
    "internet_stats_ultra = (internet_users_merged.query('tariff == \"ultra\"')\n",
    "                                    .pivot_table(index = ['user_id', 'month', 'tariff', 'city'], \n",
    "                                    values = 'mb_used_rounded',\n",
    "                                    aggfunc = 'sum'))"
   ]
  },
  {
   "cell_type": "code",
   "execution_count": 84,
   "metadata": {},
   "outputs": [],
   "source": [
    "# Переименовываем полученный столбец для наглядности\n",
    "\n",
    "internet_stats_ultra.columns = ['mb_total']"
   ]
  },
  {
   "cell_type": "code",
   "execution_count": 85,
   "metadata": {},
   "outputs": [
    {
     "data": {
      "text/html": [
       "<div>\n",
       "<style scoped>\n",
       "    .dataframe tbody tr th:only-of-type {\n",
       "        vertical-align: middle;\n",
       "    }\n",
       "\n",
       "    .dataframe tbody tr th {\n",
       "        vertical-align: top;\n",
       "    }\n",
       "\n",
       "    .dataframe thead th {\n",
       "        text-align: right;\n",
       "    }\n",
       "</style>\n",
       "<table border=\"1\" class=\"dataframe\">\n",
       "  <thead>\n",
       "    <tr style=\"text-align: right;\">\n",
       "      <th></th>\n",
       "      <th></th>\n",
       "      <th></th>\n",
       "      <th></th>\n",
       "      <th>mb_total</th>\n",
       "    </tr>\n",
       "    <tr>\n",
       "      <th>user_id</th>\n",
       "      <th>month</th>\n",
       "      <th>tariff</th>\n",
       "      <th>city</th>\n",
       "      <th></th>\n",
       "    </tr>\n",
       "  </thead>\n",
       "  <tbody>\n",
       "    <tr>\n",
       "      <th rowspan=\"5\" valign=\"top\">1000</th>\n",
       "      <th>5.0</th>\n",
       "      <th>ultra</th>\n",
       "      <th>Краснодар</th>\n",
       "      <td>2256.0</td>\n",
       "    </tr>\n",
       "    <tr>\n",
       "      <th>6.0</th>\n",
       "      <th>ultra</th>\n",
       "      <th>Краснодар</th>\n",
       "      <td>23257.0</td>\n",
       "    </tr>\n",
       "    <tr>\n",
       "      <th>7.0</th>\n",
       "      <th>ultra</th>\n",
       "      <th>Краснодар</th>\n",
       "      <td>14016.0</td>\n",
       "    </tr>\n",
       "    <tr>\n",
       "      <th>8.0</th>\n",
       "      <th>ultra</th>\n",
       "      <th>Краснодар</th>\n",
       "      <td>14070.0</td>\n",
       "    </tr>\n",
       "    <tr>\n",
       "      <th>9.0</th>\n",
       "      <th>ultra</th>\n",
       "      <th>Краснодар</th>\n",
       "      <td>14581.0</td>\n",
       "    </tr>\n",
       "  </tbody>\n",
       "</table>\n",
       "</div>"
      ],
      "text/plain": [
       "                                mb_total\n",
       "user_id month tariff city               \n",
       "1000    5.0   ultra  Краснодар    2256.0\n",
       "        6.0   ultra  Краснодар   23257.0\n",
       "        7.0   ultra  Краснодар   14016.0\n",
       "        8.0   ultra  Краснодар   14070.0\n",
       "        9.0   ultra  Краснодар   14581.0"
      ]
     },
     "execution_count": 85,
     "metadata": {},
     "output_type": "execute_result"
    }
   ],
   "source": [
    "# Выводим текущий результат\n",
    "\n",
    "internet_stats_ultra.head()"
   ]
  },
  {
   "cell_type": "code",
   "execution_count": 86,
   "metadata": {},
   "outputs": [],
   "source": [
    "# Из полученных данных получаем те, которые превышают месячный лимит мегабайт по тарифу\n",
    "# затем вычитаем из них месячный лимит, а результат умножаем на стоимость\n",
    "# Мб. Пропуски заменяем нулями.\n",
    "\n",
    "internet_stats_ultra['mb_revenue'] = (((internet_stats_ultra[internet_stats_ultra > data_tariffs['mb_per_month_included'][1]])\n",
    "                                      - data_tariffs['mb_per_month_included'][1])\n",
    "                                     * data_tariffs['rub_per_gb'][1] / 1024).fillna(0) "
   ]
  },
  {
   "cell_type": "code",
   "execution_count": 87,
   "metadata": {},
   "outputs": [
    {
     "data": {
      "text/html": [
       "<div>\n",
       "<style scoped>\n",
       "    .dataframe tbody tr th:only-of-type {\n",
       "        vertical-align: middle;\n",
       "    }\n",
       "\n",
       "    .dataframe tbody tr th {\n",
       "        vertical-align: top;\n",
       "    }\n",
       "\n",
       "    .dataframe thead th {\n",
       "        text-align: right;\n",
       "    }\n",
       "</style>\n",
       "<table border=\"1\" class=\"dataframe\">\n",
       "  <thead>\n",
       "    <tr style=\"text-align: right;\">\n",
       "      <th></th>\n",
       "      <th></th>\n",
       "      <th></th>\n",
       "      <th></th>\n",
       "      <th>mb_total</th>\n",
       "      <th>mb_revenue</th>\n",
       "    </tr>\n",
       "    <tr>\n",
       "      <th>user_id</th>\n",
       "      <th>month</th>\n",
       "      <th>tariff</th>\n",
       "      <th>city</th>\n",
       "      <th></th>\n",
       "      <th></th>\n",
       "    </tr>\n",
       "  </thead>\n",
       "  <tbody>\n",
       "    <tr>\n",
       "      <th rowspan=\"5\" valign=\"top\">1000</th>\n",
       "      <th>5.0</th>\n",
       "      <th>ultra</th>\n",
       "      <th>Краснодар</th>\n",
       "      <td>2256.0</td>\n",
       "      <td>0.0</td>\n",
       "    </tr>\n",
       "    <tr>\n",
       "      <th>6.0</th>\n",
       "      <th>ultra</th>\n",
       "      <th>Краснодар</th>\n",
       "      <td>23257.0</td>\n",
       "      <td>0.0</td>\n",
       "    </tr>\n",
       "    <tr>\n",
       "      <th>7.0</th>\n",
       "      <th>ultra</th>\n",
       "      <th>Краснодар</th>\n",
       "      <td>14016.0</td>\n",
       "      <td>0.0</td>\n",
       "    </tr>\n",
       "    <tr>\n",
       "      <th>8.0</th>\n",
       "      <th>ultra</th>\n",
       "      <th>Краснодар</th>\n",
       "      <td>14070.0</td>\n",
       "      <td>0.0</td>\n",
       "    </tr>\n",
       "    <tr>\n",
       "      <th>9.0</th>\n",
       "      <th>ultra</th>\n",
       "      <th>Краснодар</th>\n",
       "      <td>14581.0</td>\n",
       "      <td>0.0</td>\n",
       "    </tr>\n",
       "  </tbody>\n",
       "</table>\n",
       "</div>"
      ],
      "text/plain": [
       "                                mb_total  mb_revenue\n",
       "user_id month tariff city                           \n",
       "1000    5.0   ultra  Краснодар    2256.0         0.0\n",
       "        6.0   ultra  Краснодар   23257.0         0.0\n",
       "        7.0   ultra  Краснодар   14016.0         0.0\n",
       "        8.0   ultra  Краснодар   14070.0         0.0\n",
       "        9.0   ultra  Краснодар   14581.0         0.0"
      ]
     },
     "execution_count": 87,
     "metadata": {},
     "output_type": "execute_result"
    }
   ],
   "source": [
    "# Смотрим, что получили\n",
    "\n",
    "internet_stats_ultra.head()"
   ]
  },
  {
   "cell_type": "markdown",
   "metadata": {},
   "source": [
    "### Общий доход"
   ]
  },
  {
   "cell_type": "code",
   "execution_count": 88,
   "metadata": {},
   "outputs": [],
   "source": [
    "# Сводим все данные по тарифу Смарт в одну таблицу путем объединения статистики по звонкам,\n",
    "# СМС и трафику\n",
    "\n",
    "ultra_stats = calls_stats_ultra.join(messages_stats_ultra['sms_revenue'], how='outer')\n",
    "\n",
    "ultra_stats = ultra_stats.join(internet_stats_ultra['mb_revenue'], how='outer')"
   ]
  },
  {
   "cell_type": "code",
   "execution_count": 89,
   "metadata": {},
   "outputs": [],
   "source": [
    "# Пропуски заполняем нулями\n",
    "\n",
    "ultra_stats = ultra_stats.fillna(0)"
   ]
  },
  {
   "cell_type": "code",
   "execution_count": 90,
   "metadata": {},
   "outputs": [],
   "source": [
    "# Складываем доход по всем видам связи и прибавляем к результату абонентскую плату по тарифу\n",
    "\n",
    "ultra_stats['revenue_total'] = count_revenue('ultra')"
   ]
  },
  {
   "cell_type": "code",
   "execution_count": 91,
   "metadata": {
    "scrolled": true
   },
   "outputs": [
    {
     "data": {
      "text/html": [
       "<div>\n",
       "<style scoped>\n",
       "    .dataframe tbody tr th:only-of-type {\n",
       "        vertical-align: middle;\n",
       "    }\n",
       "\n",
       "    .dataframe tbody tr th {\n",
       "        vertical-align: top;\n",
       "    }\n",
       "\n",
       "    .dataframe thead th {\n",
       "        text-align: right;\n",
       "    }\n",
       "</style>\n",
       "<table border=\"1\" class=\"dataframe\">\n",
       "  <thead>\n",
       "    <tr style=\"text-align: right;\">\n",
       "      <th></th>\n",
       "      <th></th>\n",
       "      <th></th>\n",
       "      <th></th>\n",
       "      <th>minutes_total</th>\n",
       "      <th>minutes_revenue</th>\n",
       "      <th>sms_revenue</th>\n",
       "      <th>mb_revenue</th>\n",
       "      <th>revenue_total</th>\n",
       "    </tr>\n",
       "    <tr>\n",
       "      <th>user_id</th>\n",
       "      <th>month</th>\n",
       "      <th>tariff</th>\n",
       "      <th>city</th>\n",
       "      <th></th>\n",
       "      <th></th>\n",
       "      <th></th>\n",
       "      <th></th>\n",
       "      <th></th>\n",
       "    </tr>\n",
       "  </thead>\n",
       "  <tbody>\n",
       "    <tr>\n",
       "      <th rowspan=\"5\" valign=\"top\">1000</th>\n",
       "      <th>5.0</th>\n",
       "      <th>ultra</th>\n",
       "      <th>Краснодар</th>\n",
       "      <td>159.0</td>\n",
       "      <td>0.0</td>\n",
       "      <td>0.0</td>\n",
       "      <td>0.0</td>\n",
       "      <td>1950.0</td>\n",
       "    </tr>\n",
       "    <tr>\n",
       "      <th>6.0</th>\n",
       "      <th>ultra</th>\n",
       "      <th>Краснодар</th>\n",
       "      <td>172.0</td>\n",
       "      <td>0.0</td>\n",
       "      <td>0.0</td>\n",
       "      <td>0.0</td>\n",
       "      <td>1950.0</td>\n",
       "    </tr>\n",
       "    <tr>\n",
       "      <th>7.0</th>\n",
       "      <th>ultra</th>\n",
       "      <th>Краснодар</th>\n",
       "      <td>340.0</td>\n",
       "      <td>0.0</td>\n",
       "      <td>0.0</td>\n",
       "      <td>0.0</td>\n",
       "      <td>1950.0</td>\n",
       "    </tr>\n",
       "    <tr>\n",
       "      <th>8.0</th>\n",
       "      <th>ultra</th>\n",
       "      <th>Краснодар</th>\n",
       "      <td>408.0</td>\n",
       "      <td>0.0</td>\n",
       "      <td>0.0</td>\n",
       "      <td>0.0</td>\n",
       "      <td>1950.0</td>\n",
       "    </tr>\n",
       "    <tr>\n",
       "      <th>9.0</th>\n",
       "      <th>ultra</th>\n",
       "      <th>Краснодар</th>\n",
       "      <td>466.0</td>\n",
       "      <td>0.0</td>\n",
       "      <td>0.0</td>\n",
       "      <td>0.0</td>\n",
       "      <td>1950.0</td>\n",
       "    </tr>\n",
       "  </tbody>\n",
       "</table>\n",
       "</div>"
      ],
      "text/plain": [
       "                                minutes_total  minutes_revenue  sms_revenue  \\\n",
       "user_id month tariff city                                                     \n",
       "1000    5.0   ultra  Краснодар          159.0              0.0          0.0   \n",
       "        6.0   ultra  Краснодар          172.0              0.0          0.0   \n",
       "        7.0   ultra  Краснодар          340.0              0.0          0.0   \n",
       "        8.0   ultra  Краснодар          408.0              0.0          0.0   \n",
       "        9.0   ultra  Краснодар          466.0              0.0          0.0   \n",
       "\n",
       "                                mb_revenue  revenue_total  \n",
       "user_id month tariff city                                  \n",
       "1000    5.0   ultra  Краснодар         0.0         1950.0  \n",
       "        6.0   ultra  Краснодар         0.0         1950.0  \n",
       "        7.0   ultra  Краснодар         0.0         1950.0  \n",
       "        8.0   ultra  Краснодар         0.0         1950.0  \n",
       "        9.0   ultra  Краснодар         0.0         1950.0  "
      ]
     },
     "execution_count": 91,
     "metadata": {},
     "output_type": "execute_result"
    }
   ],
   "source": [
    "# Выводим результат\n",
    "\n",
    "ultra_stats.head()"
   ]
  },
  {
   "cell_type": "markdown",
   "metadata": {},
   "source": [
    "## Вывод по разделу"
   ]
  },
  {
   "cell_type": "markdown",
   "metadata": {},
   "source": [
    "В данном разделе была проведена работа по подготовке данных к дальнейшему анализу. В частности, осуществлены следующие мероприятия:\n",
    "- коррекция типа данных в столбцах дат осуществления пользователем каких-либо действий;\n",
    "- округлены вверх минуты и мегабайты для перерасчета в дальнейшем в прибыль для компании;\n",
    "- удален лишний столбец из датасета data_internet;\n",
    "- объединены таблицы со сведениями о звонках, использовании интернет-трафика, сообщениях с датасетом информации о пользователях;\n",
    "- из информации о датах совершения действий пользователями сформирован отдельный столбец, в котором эти сведения категоризированы по месяцам;\n",
    "- рассчитаны помесячные показатели использования пользователями услуг компании и их расходы по данным действиям (общая продолжительность разговоров, объем интернет-трафика, количество отправленных СМС);\n",
    "- оценены общие доходы компании по каждому пользователю помесячно."
   ]
  },
  {
   "cell_type": "markdown",
   "metadata": {},
   "source": [
    "# Анализ полученных данных"
   ]
  },
  {
   "cell_type": "markdown",
   "metadata": {},
   "source": [
    "## Тариф СМАРТ"
   ]
  },
  {
   "cell_type": "markdown",
   "metadata": {},
   "source": [
    "### Длительность звонков"
   ]
  },
  {
   "cell_type": "code",
   "execution_count": 92,
   "metadata": {},
   "outputs": [
    {
     "data": {
      "image/png": "[encoded data removed]",
      "text/plain": [
       "<Figure size 648x432 with 1 Axes>"
      ]
     },
     "metadata": {
      "needs_background": "light"
     },
     "output_type": "display_data"
    }
   ],
   "source": [
    "# Построим гистограмму количества потраченных минут звонков пользователей по месяцам\n",
    "\n",
    "smart_stats['minutes_total'].plot(kind = 'hist', \n",
    "                                  bins = 12, \n",
    "                                  figsize = (9, 6)).set_title('Гистограмма ежемесячного расхода минут клиентами, тариф Smart')\n",
    "plt.xlabel('Количество использованных минут, мин.', fontsize=12)\n",
    "plt.ylabel('Количество клиентов, чел.', fontsize=12)\n",
    "plt.show()"
   ]
  },
  {
   "cell_type": "markdown",
   "metadata": {},
   "source": [
    "Данная гистограмма имеет четко выраженное стремление к нормальному виду. Это говорит об адекватности имеющихся данных и позволит в дальнейшем оценивать по данной выборке параметры генеральной совокупности."
   ]
  },
  {
   "cell_type": "code",
   "execution_count": 93,
   "metadata": {},
   "outputs": [
    {
     "data": {
      "text/plain": [
       "417.9349484073576"
      ]
     },
     "execution_count": 93,
     "metadata": {},
     "output_type": "execute_result"
    }
   ],
   "source": [
    "# Посчитаем среднее по длительности звонков\n",
    "\n",
    "smart_stats['minutes_total'].mean()"
   ]
  },
  {
   "cell_type": "code",
   "execution_count": 94,
   "metadata": {},
   "outputs": [
    {
     "data": {
      "text/plain": [
       "36219.31578434428"
      ]
     },
     "execution_count": 94,
     "metadata": {},
     "output_type": "execute_result"
    }
   ],
   "source": [
    "# Сделаем расчет дисперсии средней длительности звонков\n",
    "\n",
    "smart_stats['minutes_total'].var()"
   ]
  },
  {
   "cell_type": "code",
   "execution_count": 95,
   "metadata": {},
   "outputs": [
    {
     "data": {
      "text/plain": [
       "190.31372988921288"
      ]
     },
     "execution_count": 95,
     "metadata": {},
     "output_type": "execute_result"
    }
   ],
   "source": [
    "# Рассчитаем стандартное отклонение длительности звонков тарифа Smart\n",
    "\n",
    "smart_stats['minutes_total'].std()"
   ]
  },
  {
   "cell_type": "markdown",
   "metadata": {},
   "source": [
    "### Количество сообщений"
   ]
  },
  {
   "cell_type": "code",
   "execution_count": 96,
   "metadata": {},
   "outputs": [
    {
     "data": {
      "image/png": "[encoded data removed]",
      "text/plain": [
       "<Figure size 648x432 with 1 Axes>"
      ]
     },
     "metadata": {
      "needs_background": "light"
     },
     "output_type": "display_data"
    }
   ],
   "source": [
    "# Представим полученные данные в виде гистограммы\n",
    "\n",
    "messages_stats_smart['sms_total'].plot(kind = 'hist',\n",
    "                                       bins = 15,\n",
    "                                       figsize = (9, 6)).set_title('Гистограмма ежемесячного расхода СМС клиентами, тариф Smart')\n",
    "plt.xlabel('Количество использованных СМС, шт.', fontsize=12)\n",
    "plt.ylabel('Количество клиентов, чел.', fontsize=12)\n",
    "plt.show()"
   ]
  },
  {
   "cell_type": "code",
   "execution_count": 97,
   "metadata": {},
   "outputs": [
    {
     "data": {
      "text/plain": [
       "38.71644120707596"
      ]
     },
     "execution_count": 97,
     "metadata": {},
     "output_type": "execute_result"
    }
   ],
   "source": [
    "# Посчитаем среднее по использованию СМС\n",
    "\n",
    "messages_stats_smart['sms_total'].mean()"
   ]
  },
  {
   "cell_type": "code",
   "execution_count": 98,
   "metadata": {},
   "outputs": [
    {
     "data": {
      "text/plain": [
       "717.5942011753547"
      ]
     },
     "execution_count": 98,
     "metadata": {},
     "output_type": "execute_result"
    }
   ],
   "source": [
    "# Рассчитаем годовую дисперсию\n",
    "\n",
    "messages_stats_smart['sms_total'].var()"
   ]
  },
  {
   "cell_type": "code",
   "execution_count": 99,
   "metadata": {
    "scrolled": true
   },
   "outputs": [
    {
     "data": {
      "text/plain": [
       "26.787948804926344"
      ]
     },
     "execution_count": 99,
     "metadata": {},
     "output_type": "execute_result"
    }
   ],
   "source": [
    "# Получим годовое стандартное отклонение\n",
    "\n",
    "messages_stats_smart['sms_total'].std()"
   ]
  },
  {
   "cell_type": "markdown",
   "metadata": {},
   "source": [
    "### Интернет-трафик"
   ]
  },
  {
   "cell_type": "code",
   "execution_count": 100,
   "metadata": {},
   "outputs": [
    {
     "data": {
      "image/png": "[encoded data removed]",
      "text/plain": [
       "<Figure size 648x432 with 1 Axes>"
      ]
     },
     "metadata": {
      "needs_background": "light"
     },
     "output_type": "display_data"
    }
   ],
   "source": [
    "# Построим гистограмму помесячного расхода интернет-трафика\n",
    "\n",
    "internet_stats_smart['mb_total'].plot(kind = 'hist',\n",
    "                                      bins = 12,\n",
    "                                      figsize = (9, 6)).set_title('Гистограмма ежемесячного использования интернета клиентами, тариф Smart')\n",
    "plt.xlabel('Количество использованных МБ', fontsize=12)\n",
    "plt.ylabel('Количество клиентов, чел.', fontsize=12)\n",
    "plt.show()"
   ]
  },
  {
   "cell_type": "markdown",
   "metadata": {},
   "source": [
    "Полученная гистограмма стремится по форме к нормальному распределению."
   ]
  },
  {
   "cell_type": "code",
   "execution_count": 101,
   "metadata": {},
   "outputs": [
    {
     "data": {
      "text/plain": [
       "16236.47262118492"
      ]
     },
     "execution_count": 101,
     "metadata": {},
     "output_type": "execute_result"
    }
   ],
   "source": [
    "# Получим среднее количество израсходованного трафика\n",
    "\n",
    "internet_stats_smart['mb_total'].mean()"
   ]
  },
  {
   "cell_type": "code",
   "execution_count": 102,
   "metadata": {},
   "outputs": [
    {
     "data": {
      "text/plain": [
       "34443100.68133359"
      ]
     },
     "execution_count": 102,
     "metadata": {},
     "output_type": "execute_result"
    }
   ],
   "source": [
    "# Рассчитаем дисперсию\n",
    "\n",
    "internet_stats_smart['mb_total'].var()"
   ]
  },
  {
   "cell_type": "code",
   "execution_count": 103,
   "metadata": {},
   "outputs": [
    {
     "data": {
      "text/plain": [
       "5868.824471845583"
      ]
     },
     "execution_count": 103,
     "metadata": {},
     "output_type": "execute_result"
    }
   ],
   "source": [
    "# Получим стандартное отклонение\n",
    "\n",
    "internet_stats_smart['mb_total'].std()"
   ]
  },
  {
   "cell_type": "markdown",
   "metadata": {},
   "source": [
    "### Доход по тарифу"
   ]
  },
  {
   "cell_type": "code",
   "execution_count": 104,
   "metadata": {},
   "outputs": [
    {
     "data": {
      "image/png": "[encoded data removed]",
      "text/plain": [
       "<Figure size 648x432 with 1 Axes>"
      ]
     },
     "metadata": {
      "needs_background": "light"
     },
     "output_type": "display_data"
    }
   ],
   "source": [
    "# Построим гистограмму помесячной прибыли компании по тарифу Смарт\n",
    "\n",
    "smart_stats['revenue_total'].plot(kind = 'hist',\n",
    "                                      bins = 25,\n",
    "                                      figsize = (9, 6)).set_title('Гистограмма распределения месячной прибыли с каждого клиента, тариф Smart')\n",
    "plt.xlabel('Прибыль, руб.', fontsize=12)\n",
    "plt.ylabel('Количество клиентов, чел.', fontsize=12)\n",
    "plt.show()"
   ]
  },
  {
   "cell_type": "markdown",
   "metadata": {},
   "source": [
    "По гистограмме видно, что не менее половины пользователей тарифа значительно выходят за рамки абонентской платы, оплачивая дополнительные услуги по минутам, СМС и интернету, увеличивая доход в два  и более раз.  "
   ]
  },
  {
   "cell_type": "code",
   "execution_count": 105,
   "metadata": {},
   "outputs": [
    {
     "data": {
      "text/plain": [
       "1233.3494665489009"
      ]
     },
     "execution_count": 105,
     "metadata": {},
     "output_type": "execute_result"
    }
   ],
   "source": [
    "# Получим средний размер прибыли\n",
    "\n",
    "smart_stats['revenue_total'].mean()"
   ]
  },
  {
   "cell_type": "code",
   "execution_count": 106,
   "metadata": {},
   "outputs": [
    {
     "data": {
      "text/plain": [
       "620452.6075337975"
      ]
     },
     "execution_count": 106,
     "metadata": {},
     "output_type": "execute_result"
    }
   ],
   "source": [
    "# Рассчитаем дисперсию\n",
    "\n",
    "smart_stats['revenue_total'].var()"
   ]
  },
  {
   "cell_type": "code",
   "execution_count": 107,
   "metadata": {
    "scrolled": true
   },
   "outputs": [
    {
     "data": {
      "text/plain": [
       "787.6881410392043"
      ]
     },
     "execution_count": 107,
     "metadata": {},
     "output_type": "execute_result"
    }
   ],
   "source": [
    "# Получим стандартное отклонение\n",
    "\n",
    "smart_stats['revenue_total'].std()"
   ]
  },
  {
   "cell_type": "markdown",
   "metadata": {},
   "source": [
    "## Тариф УЛЬТРА"
   ]
  },
  {
   "cell_type": "markdown",
   "metadata": {},
   "source": [
    "### Длительность звонков"
   ]
  },
  {
   "cell_type": "code",
   "execution_count": 108,
   "metadata": {},
   "outputs": [
    {
     "data": {
      "image/png": "[encoded data removed]",
      "text/plain": [
       "<Figure size 648x432 with 1 Axes>"
      ]
     },
     "metadata": {
      "needs_background": "light"
     },
     "output_type": "display_data"
    }
   ],
   "source": [
    "# Для наглядности представления данных построим гистограмму по полученным данным\n",
    "\n",
    "ultra_stats['minutes_total'].plot(kind = 'hist', \n",
    "                                                   bins = 15, \n",
    "                                                   figsize = (9, 6)).set_title('Гистограмма использования звонков клиентами, тариф Ultra')\n",
    "plt.xlabel('Количество использованных минут,мин.', fontsize=12)\n",
    "plt.ylabel('Количество клиентов, чел.', fontsize=12)\n",
    "plt.show()"
   ]
  },
  {
   "cell_type": "markdown",
   "metadata": {},
   "source": [
    "Гистограмма по своей форме стремится к виду нормального распределения."
   ]
  },
  {
   "cell_type": "code",
   "execution_count": 109,
   "metadata": {},
   "outputs": [
    {
     "data": {
      "text/plain": [
       "526.6233502538071"
      ]
     },
     "execution_count": 109,
     "metadata": {},
     "output_type": "execute_result"
    }
   ],
   "source": [
    "# Получим среднее количество израсходованных минут\n",
    "\n",
    "ultra_stats['minutes_total'].mean()"
   ]
  },
  {
   "cell_type": "code",
   "execution_count": 110,
   "metadata": {},
   "outputs": [
    {
     "data": {
      "text/plain": [
       "100873.63339730098"
      ]
     },
     "execution_count": 110,
     "metadata": {},
     "output_type": "execute_result"
    }
   ],
   "source": [
    "# Сделаем расчет дисперсии средней длительности звонков\n",
    "\n",
    "ultra_stats['minutes_total'].var()"
   ]
  },
  {
   "cell_type": "code",
   "execution_count": 111,
   "metadata": {},
   "outputs": [
    {
     "data": {
      "text/plain": [
       "317.6060978591264"
      ]
     },
     "execution_count": 111,
     "metadata": {},
     "output_type": "execute_result"
    }
   ],
   "source": [
    "# Рассчитаем стандартное отклонение длительности звонков \n",
    "\n",
    "ultra_stats['minutes_total'].std()"
   ]
  },
  {
   "cell_type": "markdown",
   "metadata": {},
   "source": [
    "### Количество сообщений"
   ]
  },
  {
   "cell_type": "code",
   "execution_count": 112,
   "metadata": {},
   "outputs": [
    {
     "data": {
      "image/png": "[encoded data removed]",
      "text/plain": [
       "<Figure size 648x432 with 1 Axes>"
      ]
     },
     "metadata": {
      "needs_background": "light"
     },
     "output_type": "display_data"
    }
   ],
   "source": [
    "# Представим полученные данные в виде гистограммы\n",
    "\n",
    "messages_stats_ultra['sms_total'].plot(kind = 'hist', \n",
    "                                       bins = 12, \n",
    "                                       figsize = (9, 6)).set_title('Гистограмма использования СМС клиентами, тариф Ultra')\n",
    "plt.xlabel('Количество использованных СМС, шт.', fontsize=12)\n",
    "plt.ylabel('Количество клиентов, чел.', fontsize=12)\n",
    "plt.show()"
   ]
  },
  {
   "cell_type": "markdown",
   "metadata": {},
   "source": [
    "Распределение близко к Пуассоновскому. Нечеткость формы определяется слишком малым количеством данных . При увеличении количества сведений данная гистограмма будет стремиться к нормальному виду."
   ]
  },
  {
   "cell_type": "code",
   "execution_count": 113,
   "metadata": {},
   "outputs": [
    {
     "data": {
      "text/plain": [
       "61.161006289308176"
      ]
     },
     "execution_count": 113,
     "metadata": {},
     "output_type": "execute_result"
    }
   ],
   "source": [
    "# Считаем среднее по количеству СМС\n",
    "\n",
    "messages_stats_ultra['sms_total'].mean()"
   ]
  },
  {
   "cell_type": "code",
   "execution_count": 114,
   "metadata": {},
   "outputs": [
    {
     "data": {
      "text/plain": [
       "2109.6591828652"
      ]
     },
     "execution_count": 114,
     "metadata": {},
     "output_type": "execute_result"
    }
   ],
   "source": [
    "# Рассчитаем годовую дисперсию\n",
    "\n",
    "messages_stats_ultra['sms_total'].var()"
   ]
  },
  {
   "cell_type": "code",
   "execution_count": 115,
   "metadata": {
    "scrolled": true
   },
   "outputs": [
    {
     "data": {
      "text/plain": [
       "45.931026364160424"
      ]
     },
     "execution_count": 115,
     "metadata": {},
     "output_type": "execute_result"
    }
   ],
   "source": [
    "# Получим стандартное отклонение\n",
    "\n",
    "messages_stats_ultra['sms_total'].std()"
   ]
  },
  {
   "cell_type": "markdown",
   "metadata": {},
   "source": [
    "### Интернет-трафик"
   ]
  },
  {
   "cell_type": "code",
   "execution_count": 116,
   "metadata": {},
   "outputs": [
    {
     "data": {
      "image/png": "[encoded data removed]",
      "text/plain": [
       "<Figure size 648x432 with 1 Axes>"
      ]
     },
     "metadata": {
      "needs_background": "light"
     },
     "output_type": "display_data"
    }
   ],
   "source": [
    "# Построим гистограмму\n",
    "\n",
    "internet_stats_ultra['mb_total'].plot(kind = 'hist',\n",
    "                                      bins = 12,\n",
    "                                      figsize = (9, 6)).set_title('Гистограмма использования интернета клиентами, тариф Ultra')\n",
    "plt.xlabel('Количество использованных МБ', fontsize=12)\n",
    "plt.ylabel('Количество клиентов, чел.', fontsize=12)\n",
    "plt.show()"
   ]
  },
  {
   "cell_type": "markdown",
   "metadata": {},
   "source": [
    "Гистограмма имеет выраженное стремление к виду нормального распределения."
   ]
  },
  {
   "cell_type": "code",
   "execution_count": 117,
   "metadata": {},
   "outputs": [
    {
     "data": {
      "text/plain": [
       "19686.76717948718"
      ]
     },
     "execution_count": 117,
     "metadata": {},
     "output_type": "execute_result"
    }
   ],
   "source": [
    "# Считаем среднее по расходу трафика\n",
    "\n",
    "internet_stats_ultra['mb_total'].mean()"
   ]
  },
  {
   "cell_type": "code",
   "execution_count": 118,
   "metadata": {},
   "outputs": [
    {
     "data": {
      "text/plain": [
       "99043439.60795662"
      ]
     },
     "execution_count": 118,
     "metadata": {},
     "output_type": "execute_result"
    }
   ],
   "source": [
    "# Рассчитаем дисперсию\n",
    "\n",
    "internet_stats_ultra['mb_total'].var()"
   ]
  },
  {
   "cell_type": "code",
   "execution_count": 119,
   "metadata": {},
   "outputs": [
    {
     "data": {
      "text/plain": [
       "9952.057054094726"
      ]
     },
     "execution_count": 119,
     "metadata": {},
     "output_type": "execute_result"
    }
   ],
   "source": [
    "# Получим стандартное отклонение\n",
    "\n",
    "internet_stats_ultra['mb_total'].std()"
   ]
  },
  {
   "cell_type": "markdown",
   "metadata": {},
   "source": [
    "### Доход по тарифу"
   ]
  },
  {
   "cell_type": "code",
   "execution_count": 120,
   "metadata": {},
   "outputs": [
    {
     "data": {
      "image/png": "[encoded data removed]",
      "text/plain": [
       "<Figure size 648x432 with 1 Axes>"
      ]
     },
     "metadata": {
      "needs_background": "light"
     },
     "output_type": "display_data"
    }
   ],
   "source": [
    "# Построим гистограмму помесячной прибыли компании по тарифу Ультра\n",
    "\n",
    "ultra_stats['revenue_total'].plot(kind = 'hist',\n",
    "                                      bins = 10,\n",
    "                                      figsize = (9, 6)).set_title('Гистограмма ежемесячного дохода с клиента, тариф Ultra')\n",
    "plt.xlabel('Доход с клиента, руб.', fontsize=12)\n",
    "plt.ylabel('Количество клиентов, чел.', fontsize=12)\n",
    "plt.show()"
   ]
  },
  {
   "cell_type": "markdown",
   "metadata": {},
   "source": [
    "Полученная гистограмма демонстрирует, что доход от тарифа достаточно стабилен и концентрируется вокруг абонентской платы по тарифу."
   ]
  },
  {
   "cell_type": "code",
   "execution_count": 121,
   "metadata": {},
   "outputs": [
    {
     "data": {
      "text/plain": [
       "2060.5299710501267"
      ]
     },
     "execution_count": 121,
     "metadata": {},
     "output_type": "execute_result"
    }
   ],
   "source": [
    "# Получим среднее количество прибыли\n",
    "\n",
    "ultra_stats['revenue_total'].mean()"
   ]
  },
  {
   "cell_type": "code",
   "execution_count": 122,
   "metadata": {},
   "outputs": [
    {
     "data": {
      "text/plain": [
       "126953.2854599396"
      ]
     },
     "execution_count": 122,
     "metadata": {},
     "output_type": "execute_result"
    }
   ],
   "source": [
    "# Рассчитаем дисперсию\n",
    "\n",
    "ultra_stats['revenue_total'].var()"
   ]
  },
  {
   "cell_type": "code",
   "execution_count": 123,
   "metadata": {
    "scrolled": true
   },
   "outputs": [
    {
     "data": {
      "text/plain": [
       "356.30504551569237"
      ]
     },
     "execution_count": 123,
     "metadata": {},
     "output_type": "execute_result"
    }
   ],
   "source": [
    "# Получим стандартное отклонение\n",
    "\n",
    "ultra_stats['revenue_total'].std()"
   ]
  },
  {
   "cell_type": "markdown",
   "metadata": {},
   "source": [
    "## Вывод по разделу"
   ]
  },
  {
   "cell_type": "markdown",
   "metadata": {},
   "source": [
    "На данном этапе были рассчитаны такие показатели, как ежемесячные показатели количества потраченных минут, СМС и объема интернет-трафика для каждого, параметры прибыли по каждому из тарифов. Построенные гистограммы стремятся к нормальному виду, что говорит об адекватности имеющихся данных. Данные наблюдения в дальнейшем позволяют нам делать оценку всей генеральной совокупности и провести проверку гипотез о равенстве средних значений прибыли компании.\n",
    "    \n",
    "Отдельно оценены среднее, дисперсия и стандартное отклонение указанных параметров. "
   ]
  },
  {
   "cell_type": "markdown",
   "metadata": {},
   "source": [
    "# Проверка гипотез"
   ]
  },
  {
   "cell_type": "markdown",
   "metadata": {},
   "source": [
    "## Гипотеза о равенстве средних значений выручки двух тарифов"
   ]
  },
  {
   "cell_type": "code",
   "execution_count": 124,
   "metadata": {},
   "outputs": [
    {
     "name": "stdout",
     "output_type": "stream",
     "text": [
      "P-value = 1.172655564462924e-190. Уровень статистической значимости не достигнут. Есть повод отвергнуть H_0\n"
     ]
    }
   ],
   "source": [
    "# Выбираем нулевую гипотезу: H0 - \"средние значения по прибыли компании по тарифу Smart\n",
    "# и Ultra равны\". Тогда альтернативная гипотеза имеет вид H1 - \"средние значения по прибыли компании \n",
    "# по тарифу Smart и Ultra не равны\". Это сейчас и проверим.\n",
    "\n",
    "alpha = 0.05 # величина уровня статистической значимости p-value\n",
    "\n",
    "results = st.ttest_ind(smart_stats['revenue_total'], ultra_stats['revenue_total'])\n",
    "\n",
    "if results.pvalue < alpha:\n",
    "    print('P-value = {}. Уровень статистической значимости не достигнут. Есть повод отвергнуть H_0'.format(results.pvalue))\n",
    "else:\n",
    "    print('P-value = {}. Уровень статистической значимости выше установленного порога. Не удалось отвергнуть H_0'.format(results.pvalue))"
   ]
  },
  {
   "cell_type": "markdown",
   "metadata": {},
   "source": [
    "**Вывод**\n",
    "\n",
    "Уровень порога для P-value в 5% преодолен не был. Таким образом, мы не можем подтвердить, что средний уровень прибыли по двум тарифам является одинаковым. Из этого делаем вывод о большой вероятности того, что эти показатели будут различными, что соответствует выдвинутой в задании гипотезе. "
   ]
  },
  {
   "cell_type": "markdown",
   "metadata": {},
   "source": [
    "## Гипотеза о равенстве средних значений общей выручки компании в Москве и в других городах"
   ]
  },
  {
   "cell_type": "markdown",
   "metadata": {},
   "source": [
    "### Общий доход"
   ]
  },
  {
   "cell_type": "code",
   "execution_count": 125,
   "metadata": {},
   "outputs": [],
   "source": [
    "# Объединим данные по двум тарифам\n",
    "\n",
    "stats_total = smart_stats.merge(ultra_stats, \n",
    "                                how = 'outer',\n",
    "                                left_index=True, \n",
    "                                right_index=True, \n",
    "                                suffixes=('_smart', '_ultra'))"
   ]
  },
  {
   "cell_type": "code",
   "execution_count": 126,
   "metadata": {},
   "outputs": [],
   "source": [
    "# Создадим новый столбец, который будет содержать доходы по обоим тарифам\n",
    "\n",
    "stats_total['revenue_total'] = stats_total['revenue_total_smart'].fillna(0)+stats_total['revenue_total_ultra'].fillna(0)"
   ]
  },
  {
   "cell_type": "code",
   "execution_count": 127,
   "metadata": {
    "scrolled": true
   },
   "outputs": [
    {
     "data": {
      "text/html": [
       "<div>\n",
       "<style scoped>\n",
       "    .dataframe tbody tr th:only-of-type {\n",
       "        vertical-align: middle;\n",
       "    }\n",
       "\n",
       "    .dataframe tbody tr th {\n",
       "        vertical-align: top;\n",
       "    }\n",
       "\n",
       "    .dataframe thead th {\n",
       "        text-align: right;\n",
       "    }\n",
       "</style>\n",
       "<table border=\"1\" class=\"dataframe\">\n",
       "  <thead>\n",
       "    <tr style=\"text-align: right;\">\n",
       "      <th></th>\n",
       "      <th></th>\n",
       "      <th></th>\n",
       "      <th></th>\n",
       "      <th>minutes_total_smart</th>\n",
       "      <th>minutes_revenue_smart</th>\n",
       "      <th>calls_count</th>\n",
       "      <th>sms_revenue_smart</th>\n",
       "      <th>mb_revenue_smart</th>\n",
       "      <th>revenue_total_smart</th>\n",
       "      <th>minutes_total_ultra</th>\n",
       "      <th>minutes_revenue_ultra</th>\n",
       "      <th>sms_revenue_ultra</th>\n",
       "      <th>mb_revenue_ultra</th>\n",
       "      <th>revenue_total_ultra</th>\n",
       "      <th>revenue_total</th>\n",
       "    </tr>\n",
       "    <tr>\n",
       "      <th>user_id</th>\n",
       "      <th>month</th>\n",
       "      <th>tariff</th>\n",
       "      <th>city</th>\n",
       "      <th></th>\n",
       "      <th></th>\n",
       "      <th></th>\n",
       "      <th></th>\n",
       "      <th></th>\n",
       "      <th></th>\n",
       "      <th></th>\n",
       "      <th></th>\n",
       "      <th></th>\n",
       "      <th></th>\n",
       "      <th></th>\n",
       "      <th></th>\n",
       "    </tr>\n",
       "  </thead>\n",
       "  <tbody>\n",
       "    <tr>\n",
       "      <th rowspan=\"5\" valign=\"top\">1000</th>\n",
       "      <th>5.0</th>\n",
       "      <th>ultra</th>\n",
       "      <th>Краснодар</th>\n",
       "      <td>NaN</td>\n",
       "      <td>NaN</td>\n",
       "      <td>NaN</td>\n",
       "      <td>NaN</td>\n",
       "      <td>NaN</td>\n",
       "      <td>NaN</td>\n",
       "      <td>159.0</td>\n",
       "      <td>0.0</td>\n",
       "      <td>0.0</td>\n",
       "      <td>0.0</td>\n",
       "      <td>1950.0</td>\n",
       "      <td>1950.000000</td>\n",
       "    </tr>\n",
       "    <tr>\n",
       "      <th>6.0</th>\n",
       "      <th>ultra</th>\n",
       "      <th>Краснодар</th>\n",
       "      <td>NaN</td>\n",
       "      <td>NaN</td>\n",
       "      <td>NaN</td>\n",
       "      <td>NaN</td>\n",
       "      <td>NaN</td>\n",
       "      <td>NaN</td>\n",
       "      <td>172.0</td>\n",
       "      <td>0.0</td>\n",
       "      <td>0.0</td>\n",
       "      <td>0.0</td>\n",
       "      <td>1950.0</td>\n",
       "      <td>1950.000000</td>\n",
       "    </tr>\n",
       "    <tr>\n",
       "      <th>7.0</th>\n",
       "      <th>ultra</th>\n",
       "      <th>Краснодар</th>\n",
       "      <td>NaN</td>\n",
       "      <td>NaN</td>\n",
       "      <td>NaN</td>\n",
       "      <td>NaN</td>\n",
       "      <td>NaN</td>\n",
       "      <td>NaN</td>\n",
       "      <td>340.0</td>\n",
       "      <td>0.0</td>\n",
       "      <td>0.0</td>\n",
       "      <td>0.0</td>\n",
       "      <td>1950.0</td>\n",
       "      <td>1950.000000</td>\n",
       "    </tr>\n",
       "    <tr>\n",
       "      <th>8.0</th>\n",
       "      <th>ultra</th>\n",
       "      <th>Краснодар</th>\n",
       "      <td>NaN</td>\n",
       "      <td>NaN</td>\n",
       "      <td>NaN</td>\n",
       "      <td>NaN</td>\n",
       "      <td>NaN</td>\n",
       "      <td>NaN</td>\n",
       "      <td>408.0</td>\n",
       "      <td>0.0</td>\n",
       "      <td>0.0</td>\n",
       "      <td>0.0</td>\n",
       "      <td>1950.0</td>\n",
       "      <td>1950.000000</td>\n",
       "    </tr>\n",
       "    <tr>\n",
       "      <th>9.0</th>\n",
       "      <th>ultra</th>\n",
       "      <th>Краснодар</th>\n",
       "      <td>NaN</td>\n",
       "      <td>NaN</td>\n",
       "      <td>NaN</td>\n",
       "      <td>NaN</td>\n",
       "      <td>NaN</td>\n",
       "      <td>NaN</td>\n",
       "      <td>466.0</td>\n",
       "      <td>0.0</td>\n",
       "      <td>0.0</td>\n",
       "      <td>0.0</td>\n",
       "      <td>1950.0</td>\n",
       "      <td>1950.000000</td>\n",
       "    </tr>\n",
       "    <tr>\n",
       "      <th>...</th>\n",
       "      <th>...</th>\n",
       "      <th>...</th>\n",
       "      <th>...</th>\n",
       "      <td>...</td>\n",
       "      <td>...</td>\n",
       "      <td>...</td>\n",
       "      <td>...</td>\n",
       "      <td>...</td>\n",
       "      <td>...</td>\n",
       "      <td>...</td>\n",
       "      <td>...</td>\n",
       "      <td>...</td>\n",
       "      <td>...</td>\n",
       "      <td>...</td>\n",
       "      <td>...</td>\n",
       "    </tr>\n",
       "    <tr>\n",
       "      <th>1498</th>\n",
       "      <th>10.0</th>\n",
       "      <th>smart</th>\n",
       "      <th>Владикавказ</th>\n",
       "      <td>247.0</td>\n",
       "      <td>0.0</td>\n",
       "      <td>30.0</td>\n",
       "      <td>0.0</td>\n",
       "      <td>1024.218750</td>\n",
       "      <td>1574.218750</td>\n",
       "      <td>NaN</td>\n",
       "      <td>NaN</td>\n",
       "      <td>NaN</td>\n",
       "      <td>NaN</td>\n",
       "      <td>NaN</td>\n",
       "      <td>1574.218750</td>\n",
       "    </tr>\n",
       "    <tr>\n",
       "      <th rowspan=\"4\" valign=\"top\">1499</th>\n",
       "      <th>9.0</th>\n",
       "      <th>smart</th>\n",
       "      <th>Пермь</th>\n",
       "      <td>70.0</td>\n",
       "      <td>0.0</td>\n",
       "      <td>8.0</td>\n",
       "      <td>0.0</td>\n",
       "      <td>0.000000</td>\n",
       "      <td>550.000000</td>\n",
       "      <td>NaN</td>\n",
       "      <td>NaN</td>\n",
       "      <td>NaN</td>\n",
       "      <td>NaN</td>\n",
       "      <td>NaN</td>\n",
       "      <td>550.000000</td>\n",
       "    </tr>\n",
       "    <tr>\n",
       "      <th>10.0</th>\n",
       "      <th>smart</th>\n",
       "      <th>Пермь</th>\n",
       "      <td>449.0</td>\n",
       "      <td>0.0</td>\n",
       "      <td>44.0</td>\n",
       "      <td>0.0</td>\n",
       "      <td>478.320312</td>\n",
       "      <td>1028.320312</td>\n",
       "      <td>NaN</td>\n",
       "      <td>NaN</td>\n",
       "      <td>NaN</td>\n",
       "      <td>NaN</td>\n",
       "      <td>NaN</td>\n",
       "      <td>1028.320312</td>\n",
       "    </tr>\n",
       "    <tr>\n",
       "      <th>11.0</th>\n",
       "      <th>smart</th>\n",
       "      <th>Пермь</th>\n",
       "      <td>612.0</td>\n",
       "      <td>336.0</td>\n",
       "      <td>62.0</td>\n",
       "      <td>27.0</td>\n",
       "      <td>512.500000</td>\n",
       "      <td>1425.500000</td>\n",
       "      <td>NaN</td>\n",
       "      <td>NaN</td>\n",
       "      <td>NaN</td>\n",
       "      <td>NaN</td>\n",
       "      <td>NaN</td>\n",
       "      <td>1425.500000</td>\n",
       "    </tr>\n",
       "    <tr>\n",
       "      <th>12.0</th>\n",
       "      <th>smart</th>\n",
       "      <th>Пермь</th>\n",
       "      <td>492.0</td>\n",
       "      <td>0.0</td>\n",
       "      <td>56.0</td>\n",
       "      <td>48.0</td>\n",
       "      <td>0.000000</td>\n",
       "      <td>598.000000</td>\n",
       "      <td>NaN</td>\n",
       "      <td>NaN</td>\n",
       "      <td>NaN</td>\n",
       "      <td>NaN</td>\n",
       "      <td>NaN</td>\n",
       "      <td>598.000000</td>\n",
       "    </tr>\n",
       "  </tbody>\n",
       "</table>\n",
       "<p>3214 rows × 12 columns</p>\n",
       "</div>"
      ],
      "text/plain": [
       "                                  minutes_total_smart  minutes_revenue_smart  \\\n",
       "user_id month tariff city                                                      \n",
       "1000    5.0   ultra  Краснодар                    NaN                    NaN   \n",
       "        6.0   ultra  Краснодар                    NaN                    NaN   \n",
       "        7.0   ultra  Краснодар                    NaN                    NaN   \n",
       "        8.0   ultra  Краснодар                    NaN                    NaN   \n",
       "        9.0   ultra  Краснодар                    NaN                    NaN   \n",
       "...                                               ...                    ...   \n",
       "1498    10.0  smart  Владикавказ                247.0                    0.0   \n",
       "1499    9.0   smart  Пермь                       70.0                    0.0   \n",
       "        10.0  smart  Пермь                      449.0                    0.0   \n",
       "        11.0  smart  Пермь                      612.0                  336.0   \n",
       "        12.0  smart  Пермь                      492.0                    0.0   \n",
       "\n",
       "                                  calls_count  sms_revenue_smart  \\\n",
       "user_id month tariff city                                          \n",
       "1000    5.0   ultra  Краснодар            NaN                NaN   \n",
       "        6.0   ultra  Краснодар            NaN                NaN   \n",
       "        7.0   ultra  Краснодар            NaN                NaN   \n",
       "        8.0   ultra  Краснодар            NaN                NaN   \n",
       "        9.0   ultra  Краснодар            NaN                NaN   \n",
       "...                                       ...                ...   \n",
       "1498    10.0  smart  Владикавказ         30.0                0.0   \n",
       "1499    9.0   smart  Пермь                8.0                0.0   \n",
       "        10.0  smart  Пермь               44.0                0.0   \n",
       "        11.0  smart  Пермь               62.0               27.0   \n",
       "        12.0  smart  Пермь               56.0               48.0   \n",
       "\n",
       "                                  mb_revenue_smart  revenue_total_smart  \\\n",
       "user_id month tariff city                                                 \n",
       "1000    5.0   ultra  Краснодар                 NaN                  NaN   \n",
       "        6.0   ultra  Краснодар                 NaN                  NaN   \n",
       "        7.0   ultra  Краснодар                 NaN                  NaN   \n",
       "        8.0   ultra  Краснодар                 NaN                  NaN   \n",
       "        9.0   ultra  Краснодар                 NaN                  NaN   \n",
       "...                                            ...                  ...   \n",
       "1498    10.0  smart  Владикавказ       1024.218750          1574.218750   \n",
       "1499    9.0   smart  Пермь                0.000000           550.000000   \n",
       "        10.0  smart  Пермь              478.320312          1028.320312   \n",
       "        11.0  smart  Пермь              512.500000          1425.500000   \n",
       "        12.0  smart  Пермь                0.000000           598.000000   \n",
       "\n",
       "                                  minutes_total_ultra  minutes_revenue_ultra  \\\n",
       "user_id month tariff city                                                      \n",
       "1000    5.0   ultra  Краснодар                  159.0                    0.0   \n",
       "        6.0   ultra  Краснодар                  172.0                    0.0   \n",
       "        7.0   ultra  Краснодар                  340.0                    0.0   \n",
       "        8.0   ultra  Краснодар                  408.0                    0.0   \n",
       "        9.0   ultra  Краснодар                  466.0                    0.0   \n",
       "...                                               ...                    ...   \n",
       "1498    10.0  smart  Владикавказ                  NaN                    NaN   \n",
       "1499    9.0   smart  Пермь                        NaN                    NaN   \n",
       "        10.0  smart  Пермь                        NaN                    NaN   \n",
       "        11.0  smart  Пермь                        NaN                    NaN   \n",
       "        12.0  smart  Пермь                        NaN                    NaN   \n",
       "\n",
       "                                  sms_revenue_ultra  mb_revenue_ultra  \\\n",
       "user_id month tariff city                                               \n",
       "1000    5.0   ultra  Краснодар                  0.0               0.0   \n",
       "        6.0   ultra  Краснодар                  0.0               0.0   \n",
       "        7.0   ultra  Краснодар                  0.0               0.0   \n",
       "        8.0   ultra  Краснодар                  0.0               0.0   \n",
       "        9.0   ultra  Краснодар                  0.0               0.0   \n",
       "...                                             ...               ...   \n",
       "1498    10.0  smart  Владикавказ                NaN               NaN   \n",
       "1499    9.0   smart  Пермь                      NaN               NaN   \n",
       "        10.0  smart  Пермь                      NaN               NaN   \n",
       "        11.0  smart  Пермь                      NaN               NaN   \n",
       "        12.0  smart  Пермь                      NaN               NaN   \n",
       "\n",
       "                                  revenue_total_ultra  revenue_total  \n",
       "user_id month tariff city                                             \n",
       "1000    5.0   ultra  Краснодар                 1950.0    1950.000000  \n",
       "        6.0   ultra  Краснодар                 1950.0    1950.000000  \n",
       "        7.0   ultra  Краснодар                 1950.0    1950.000000  \n",
       "        8.0   ultra  Краснодар                 1950.0    1950.000000  \n",
       "        9.0   ultra  Краснодар                 1950.0    1950.000000  \n",
       "...                                               ...            ...  \n",
       "1498    10.0  smart  Владикавказ                  NaN    1574.218750  \n",
       "1499    9.0   smart  Пермь                        NaN     550.000000  \n",
       "        10.0  smart  Пермь                        NaN    1028.320312  \n",
       "        11.0  smart  Пермь                        NaN    1425.500000  \n",
       "        12.0  smart  Пермь                        NaN     598.000000  \n",
       "\n",
       "[3214 rows x 12 columns]"
      ]
     },
     "execution_count": 127,
     "metadata": {},
     "output_type": "execute_result"
    }
   ],
   "source": [
    "# Проверим результат\n",
    "\n",
    "stats_total"
   ]
  },
  {
   "cell_type": "code",
   "execution_count": 128,
   "metadata": {},
   "outputs": [],
   "source": [
    "# Делаем срез доходов по компании по Москве\n",
    "\n",
    "revenue_moscow = stats_total['revenue_total'][stats_total.index.get_level_values(3) == 'Москва']\n"
   ]
  },
  {
   "cell_type": "code",
   "execution_count": 129,
   "metadata": {},
   "outputs": [
    {
     "data": {
      "text/plain": [
       "user_id  month  tariff  city  \n",
       "1001     11.0   smart   Москва    1153.90625\n",
       "         12.0   smart   Москва     550.00000\n",
       "1003     8.0    ultra   Москва    1950.00000\n",
       "         9.0    ultra   Москва    1950.00000\n",
       "         10.0   ultra   Москва    1950.00000\n",
       "Name: revenue_total, dtype: float64"
      ]
     },
     "execution_count": 129,
     "metadata": {},
     "output_type": "execute_result"
    }
   ],
   "source": [
    "# Проверяем результат\n",
    "\n",
    "revenue_moscow.head()"
   ]
  },
  {
   "cell_type": "code",
   "execution_count": 130,
   "metadata": {},
   "outputs": [],
   "source": [
    "# Делаем срез доходов по компании по другим городам\n",
    "\n",
    "revenue_not_moscow = stats_total['revenue_total'][stats_total.index.get_level_values(3) != 'Москва']"
   ]
  },
  {
   "cell_type": "code",
   "execution_count": 131,
   "metadata": {
    "scrolled": true
   },
   "outputs": [
    {
     "data": {
      "text/plain": [
       "user_id  month  tariff  city     \n",
       "1000     5.0    ultra   Краснодар    1950.0\n",
       "         6.0    ultra   Краснодар    1950.0\n",
       "         7.0    ultra   Краснодар    1950.0\n",
       "         8.0    ultra   Краснодар    1950.0\n",
       "         9.0    ultra   Краснодар    1950.0\n",
       "Name: revenue_total, dtype: float64"
      ]
     },
     "execution_count": 131,
     "metadata": {},
     "output_type": "execute_result"
    }
   ],
   "source": [
    "# Проверяем результат\n",
    "\n",
    "revenue_not_moscow.head()"
   ]
  },
  {
   "cell_type": "code",
   "execution_count": 132,
   "metadata": {},
   "outputs": [
    {
     "name": "stdout",
     "output_type": "stream",
     "text": [
      "P-value = 0.47443187631524797. Уровень статистической значимости выше установленного порога. Не удалось отвергнуть H_0\n"
     ]
    }
   ],
   "source": [
    "# Выбираем нулевую гипотезу H0: \"средние значения прибыли компании в Москве и прибыли\n",
    "# в других городах равны\". \n",
    "# Тогда альтернативная гипотеза H1: \"средние значения прибыли компании \n",
    "# в Москве и в других городах не равны\".\n",
    "\n",
    "alpha = 0.05 # Уровень статистической значимости P-value\n",
    "\n",
    "results = st.ttest_ind(revenue_moscow, revenue_not_moscow)\n",
    "\n",
    "if results.pvalue < alpha:\n",
    "    print('P-value = {}. Уровень статистической значимости не достигнут. Есть повод отвергнуть H_0'.format(results.pvalue))\n",
    "else:\n",
    "    print('P-value = {}. Уровень статистической значимости выше установленного порога. Не удалось отвергнуть H_0'.format(results.pvalue))"
   ]
  },
  {
   "cell_type": "markdown",
   "metadata": {},
   "source": [
    "**Вывод**\n",
    "\n",
    "Вероятность того, что выручка компании в Москве равна прибыли в остальных городах оказалась велика. Таким образом, мы можем предположить, что средний уровень прибыли компании в Москве и в других городах не различается.\n"
   ]
  },
  {
   "cell_type": "markdown",
   "metadata": {},
   "source": [
    "## Вывод по разделу"
   ]
  },
  {
   "cell_type": "markdown",
   "metadata": {},
   "source": [
    "В данном разделе были проверены две гипотезы:\n",
    "- средняя выручка от пользователей тарифов «Ультра» и «Смарт» различается;\n",
    "- средняя выручка от пользователей из Москвы отличается от выручки от пользователей из других регионов.\n",
    "   \n",
    "Эти гипотезы были приняты за альтернативные, а в качестве нулевых выдвинуты следующие:\n",
    "- для первого случая: средние выручки от пользователей тарифов «Ультра» и «Смарт» равны;\n",
    "- для второго случая: средняя выручка от пользователей из Москвы равна выручке от пользователей из других регионов.\n",
    "    \n",
    "В первом случае нулевая гипотеза была отвергнута, а во втором нулевую гипотезу отвергнуть не удалось. Это позволяет строить предположения о том, что:\n",
    "- средняя выручка от пользователей тарифов «Ультра» и «Смарт» различается;\n",
    "- средняя выручка от пользователей из Москвы не отличается от выручки от пользователей из других регионов.\n",
    "    \n",
    "Для оценки гипотез использовался уровень статистической значимости Alpha = 0.05."
   ]
  },
  {
   "cell_type": "markdown",
   "metadata": {},
   "source": [
    "# Общий вывод по проекту"
   ]
  },
  {
   "cell_type": "markdown",
   "metadata": {},
   "source": [
    "В ходе данной работы были проанализированы выборки статистических данных о пользователях телекоммуникационной компании \"Мегалайн\" в 2018 году. В качестве входных данных предоставлялись датасеты об использовании телефонных звонков, СМС-сообщений и интернет-трафика по двум тарифным планам - \"Смарт\" и \"Ультра\". Сведения об условиях данных тарифов предоставлены в отдельной таблице. О каждом из пользователей дана краткая справка (место жительства, фамилия, имя и т.д.) в виде таблицы.\n",
    "    \n",
    "На первом этапе были загружены необходимые инстументы для работы с имеющимися сведениями, сами датасеты, проведен первичный анализ с целью выявления возможных ошибок в данных, даны рекомендации по дальнейшей обработке содержимого таблиц.\n",
    "    \n",
    "Во втором разделе проекта произведена коррекция типов данных для удобства работы с ними в дальнейшем, округлены значения потраченных минут разговоров и интернет-трафика для тарификации и начисления платы по ним. Попарно объединены данные о звонках, СМС и интернете с таблицей о пользователях, что позволило в дальнейшем сопоставить каждого юзера с его действиями. Посчитаны ежемесячные траты клиентов по минутам разговоров, СМС и мегабайт интернет-трафика сверх включенного в тарифы лимита. Рассчитаны итоговые доходы компании по всем услугам связи по обоим тарифам.\n",
    "    \n",
    "В третьем разделе работы проведен расчет средних показателей дохода компании за год с каждого пользователя. Рассчитаны значения дисперсии и стандартного отклонения по каждому из параметров\n",
    "    \n",
    "На финальной стадии проекта проведены оценки гипотез о различии среднего уровня доходов тарифов \"Смарт\" и \"Ультра\", а также о разнице средних доходов компании по Москве и по другим городам. Для этого были выдвинуты следующие \"нулевые гипотезы\":\n",
    "- для первого случая: средние выручки пользователей тарифов «Ультра» и «Смарт» равны;\n",
    "- средняя выручка пользователей из Москвы равна выручке от пользователей из других регионов.\n",
    "\n",
    "В первом случае нулевая гипотеза была отвергнута, что позволяет сказать о высокой вероятности различия средних величин дохода по тарифам. \n",
    "    \n",
    "Во втором случае нулевую гипотезу отвергнуть не удалось, что дает нам право сказать о высокой вероятности опровержения поставленной по заданию второй гипотезы. \n",
    "    \n",
    "        \n",
    "Данное исследование показало, что на тарифе \"Ультра\" пользователи не вырабатывают предоставленный лимит по минутам и СМС, но иногда выходят за пределы лимита по интернет-трафику. Таким образом, доход от тарифа строится, в основном, на абонентской плате, а влияние на него оплаты дополнительных минут, СМС и мегабайтов мал. Средний показатель прибыли по тарифу - 2060.5 руб. при абонентской плате в 1950 руб. и стандартном отклонении 356.3 руб. Это говорит о стабильности данного тарифного плана в принесении достаточно высокого уровня прибыли. \n",
    "    \n",
    "По тарифу \"Смарт\" же совершенно иная информация. Пользователям часто не хватает включенных в тариф бесплатных минут, СМС и мегабайт. Это приводит к тому, что они чаще совершают переплаты, которые достигают 3-4 значений абонентской платы. Среднее значение прибыли по тарицу составляет 1233 руб. при достаточно высоком стандартном отклонении - 787.6 руб., что говорит о нестабильности этого значения. Думаю, что дополнительной рекламы для такого тарифа не потребуется, так как потенциальные клиенты и так будут выбирать подешевле, не вдумываясь в то, что им предстоят значительные дополнительные расходы.\n",
    "    \n",
    "Учитывая изложенное выше, полагаю, что необходимо уделить внимание продвижению тарифа Ультра, так как он стабильно приносит больше денег, чем Смарт. При создании рекламы можно разъяснять пользователям, что на этом тарифном плане они платят один раз и не задумываются о том, что выйдут за пределы предусмотренного лимита, а, значит, будут иметь возможность точно контролировать свои расходы. К тому же, можно предусмотреть возможности для перевода минут в мегабайты или наоборот, чтобы каждый пользователь мог гибко настраивать тариф под себя, что будет дополнительно привлекать клиентов."
   ]
  }
 ],
 "metadata": {
  "kernelspec": {
   "display_name": "Python 3",
   "language": "python",
   "name": "python3"
  },
  "language_info": {
   "codemirror_mode": {
    "name": "ipython",
    "version": 3
   },
   "file_extension": ".py",
   "mimetype": "text/x-python",
   "name": "python",
   "nbconvert_exporter": "python",
   "pygments_lexer": "ipython3",
   "version": "3.9.2"
  },
  "toc": {
   "base_numbering": 1,
   "nav_menu": {},
   "number_sections": true,
   "sideBar": true,
   "skip_h1_title": true,
   "title_cell": "Table of Contents",
   "title_sidebar": "Contents",
   "toc_cell": false,
   "toc_position": {
    "height": "492.593px",
    "left": "65px",
    "top": "211.926px",
    "width": "262.407px"
   },
   "toc_section_display": true,
   "toc_window_display": true
  },
  "toc-autonumbering": true,
  "toc-showcode": false,
  "toc-showmarkdowntxt": false,
  "toc-showtags": false
 },
 "nbformat": 4,
 "nbformat_minor": 4
}
