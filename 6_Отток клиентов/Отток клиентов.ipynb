{
 "cells": [
  {
   "cell_type": "markdown",
   "metadata": {},
   "source": [
    "**Название проекта:** Отток клиентов"
   ]
  },
  {
   "cell_type": "markdown",
   "metadata": {},
   "source": [
    "**Формулировка задачи**"
   ]
  },
  {
   "cell_type": "markdown",
   "metadata": {},
   "source": [
    "Из «Бета-Банка» стали уходить клиенты. Банковские маркетологи посчитали: сохранять текущих клиентов дешевле, чем привлекать новых.\n",
    "\n",
    "Нужно спрогнозировать, уйдёт клиент из банка в ближайшее время или нет. Имеются исторические данные о поведении клиентов и расторжении договоров с банком. \n",
    "\n",
    "Необходимо построить модель с предельно большим значением *F1*- меры, нужно довести метрику до 0.59, проверить *F1*- меру на тестовой выборке .\n",
    "\n",
    "Дополнительно нужно измерять метрику *AUC-ROC*, сравнить её значение с *F1*-мерой.\n",
    "\n",
    "Источник данных: [https://www.kaggle.com/barelydedicated/bank-customer-churn-modeling](https://www.kaggle.com/barelydedicated/bank-customer-churn-modeling)"
   ]
  },
  {
   "cell_type": "markdown",
   "metadata": {
    "toc": true
   },
   "source": [
    "**Содержание**<span class=\"tocSkip\"></span></h1>\n",
    "<div class=\"toc\"><ul class=\"toc-item\"><li><span><a href=\"#Подготовка-данных\" data-toc-modified-id=\"Подготовка-данных-1\"><span class=\"toc-item-num\">1&nbsp;&nbsp;</span>Подготовка данных</a></span><ul class=\"toc-item\"><li><span><a href=\"#Подгрузка-библиотек-и-модулей\" data-toc-modified-id=\"Подгрузка-библиотек-и-модулей-1.1\"><span class=\"toc-item-num\">1.1&nbsp;&nbsp;</span>Подгрузка библиотек и модулей</a></span></li><li><span><a href=\"#Загрузка-и-обзор-датасета\" data-toc-modified-id=\"Загрузка-и-обзор-датасета-1.2\"><span class=\"toc-item-num\">1.2&nbsp;&nbsp;</span>Загрузка и обзор датасета</a></span></li><li><span><a href=\"#Приведение-названий-столбцов-в-приемлемый-вид\" data-toc-modified-id=\"Приведение-названий-столбцов-в-приемлемый-вид-1.3\"><span class=\"toc-item-num\">1.3&nbsp;&nbsp;</span>Приведение названий столбцов в приемлемый вид</a></span></li><li><span><a href=\"#Заполнение-пропусков-в-столбце-Tenure\" data-toc-modified-id=\"Заполнение-пропусков-в-столбце-Tenure-1.4\"><span class=\"toc-item-num\">1.4&nbsp;&nbsp;</span>Заполнение пропусков в столбце Tenure</a></span></li><li><span><a href=\"#Удаление-малоинформативных-признаков\" data-toc-modified-id=\"Удаление-малоинформативных-признаков-1.5\"><span class=\"toc-item-num\">1.5&nbsp;&nbsp;</span>Удаление малоинформативных признаков</a></span></li><li><span><a href=\"#Использование-прямого-кодирования-для-преобразования-категориальных-признаков\" data-toc-modified-id=\"Использование-прямого-кодирования-для-преобразования-категориальных-признаков-1.6\"><span class=\"toc-item-num\">1.6&nbsp;&nbsp;</span>Использование прямого кодирования для преобразования категориальных признаков</a></span></li><li><span><a href=\"#Отделение-целевого-признака-из-датасета\" data-toc-modified-id=\"Отделение-целевого-признака-из-датасета-1.7\"><span class=\"toc-item-num\">1.7&nbsp;&nbsp;</span>Отделение целевого признака из датасета</a></span></li><li><span><a href=\"#Масштабирование-признаков\" data-toc-modified-id=\"Масштабирование-признаков-1.8\"><span class=\"toc-item-num\">1.8&nbsp;&nbsp;</span>Масштабирование признаков</a></span></li><li><span><a href=\"#Разделение-датасета-на-тренировочную,-валидационную-и-тестовую-выборки\" data-toc-modified-id=\"Разделение-датасета-на-тренировочную,-валидационную-и-тестовую-выборки-1.9\"><span class=\"toc-item-num\">1.9&nbsp;&nbsp;</span>Разделение датасета на тренировочную, валидационную и тестовую выборки</a></span></li></ul></li><li><span><a href=\"#Исследование-задачи\" data-toc-modified-id=\"Исследование-задачи-2\"><span class=\"toc-item-num\">2&nbsp;&nbsp;</span>Исследование задачи</a></span><ul class=\"toc-item\"><li><span><a href=\"#Исследование-дисбаланса-классов\" data-toc-modified-id=\"Исследование-дисбаланса-классов-2.1\"><span class=\"toc-item-num\">2.1&nbsp;&nbsp;</span>Исследование дисбаланса классов</a></span></li><li><span><a href=\"#Исследование-моделей-без-учета-дисбаланса-классов\" data-toc-modified-id=\"Исследование-моделей-без-учета-дисбаланса-классов-2.2\"><span class=\"toc-item-num\">2.2&nbsp;&nbsp;</span>Исследование моделей без учета дисбаланса классов</a></span><ul class=\"toc-item\"><li><span><a href=\"#Решающее-древо\" data-toc-modified-id=\"Решающее-древо-2.2.1\"><span class=\"toc-item-num\">2.2.1&nbsp;&nbsp;</span>Решающее древо</a></span></li><li><span><a href=\"#Случайный-лес\" data-toc-modified-id=\"Случайный-лес-2.2.2\"><span class=\"toc-item-num\">2.2.2&nbsp;&nbsp;</span>Случайный лес</a></span></li><li><span><a href=\"#Логистическая-регрессия\" data-toc-modified-id=\"Логистическая-регрессия-2.2.3\"><span class=\"toc-item-num\">2.2.3&nbsp;&nbsp;</span>Логистическая регрессия</a></span></li></ul></li></ul></li><li><span><a href=\"#Борьба-с-дисбалансом\" data-toc-modified-id=\"Борьба-с-дисбалансом-3\"><span class=\"toc-item-num\">3&nbsp;&nbsp;</span>Борьба с дисбалансом</a></span><ul class=\"toc-item\"><li><span><a href=\"#Балансировка-данных\" data-toc-modified-id=\"Балансировка-данных-3.1\"><span class=\"toc-item-num\">3.1&nbsp;&nbsp;</span>Балансировка данных</a></span></li><li><span><a href=\"#Обучение-моделей-на-сбалансированных-объектах\" data-toc-modified-id=\"Обучение-моделей-на-сбалансированных-объектах-3.2\"><span class=\"toc-item-num\">3.2&nbsp;&nbsp;</span>Обучение моделей на сбалансированных объектах</a></span><ul class=\"toc-item\"><li><span><a href=\"#Решающее-дерево\" data-toc-modified-id=\"Решающее-дерево-3.2.1\"><span class=\"toc-item-num\">3.2.1&nbsp;&nbsp;</span>Решающее дерево</a></span></li><li><span><a href=\"#Случайный-лес\" data-toc-modified-id=\"Случайный-лес-3.2.2\"><span class=\"toc-item-num\">3.2.2&nbsp;&nbsp;</span>Случайный лес</a></span></li><li><span><a href=\"#Логистическая-регрессия\" data-toc-modified-id=\"Логистическая-регрессия-3.2.3\"><span class=\"toc-item-num\">3.2.3&nbsp;&nbsp;</span>Логистическая регрессия</a></span></li></ul></li></ul></li><li><span><a href=\"#Тестирование-моделей\" data-toc-modified-id=\"Тестирование-моделей-4\"><span class=\"toc-item-num\">4&nbsp;&nbsp;</span>Тестирование моделей</a></span><ul class=\"toc-item\"><li><span><a href=\"#Решающее-дерево\" data-toc-modified-id=\"Решающее-дерево-4.1\"><span class=\"toc-item-num\">4.1&nbsp;&nbsp;</span>Решающее дерево</a></span></li><li><span><a href=\"#Случайный-лес\" data-toc-modified-id=\"Случайный-лес-4.2\"><span class=\"toc-item-num\">4.2&nbsp;&nbsp;</span>Случайный лес</a></span></li><li><span><a href=\"#Логистическая-регрессия\" data-toc-modified-id=\"Логистическая-регрессия-4.3\"><span class=\"toc-item-num\">4.3&nbsp;&nbsp;</span>Логистическая регрессия</a></span></li></ul></li><li><span><a href=\"#Вывод-по-проекту\" data-toc-modified-id=\"Вывод-по-проекту-5\"><span class=\"toc-item-num\">5&nbsp;&nbsp;</span>Вывод по проекту</a></span></li><li><span><a href=\"#Чек-лист-готовности-проекта\" data-toc-modified-id=\"Чек-лист-готовности-проекта-6\"><span class=\"toc-item-num\">6&nbsp;&nbsp;</span>Чек-лист готовности проекта</a></span></li></ul></div>"
   ]
  },
  {
   "cell_type": "markdown",
   "metadata": {},
   "source": [
    "# Подготовка данных"
   ]
  },
  {
   "cell_type": "markdown",
   "metadata": {},
   "source": [
    "## Подгрузка библиотек и модулей"
   ]
  },
  {
   "cell_type": "code",
   "execution_count": 1,
   "metadata": {},
   "outputs": [],
   "source": [
    "# Загрузим необходимые библиотеки и инструменты\n",
    "\n",
    "import pandas as pd\n",
    "import numpy as np\n",
    "import matplotlib.pyplot as plt\n",
    "\n",
    "# Модели\n",
    "\n",
    "from sklearn.ensemble import RandomForestClassifier\n",
    "from sklearn.linear_model import LogisticRegression\n",
    "from sklearn.tree import DecisionTreeClassifier\n",
    "\n",
    "# Инструменты для подготовки данных\n",
    "\n",
    "from sklearn.model_selection import train_test_split\n",
    "from sklearn.preprocessing import OrdinalEncoder\n",
    "from sklearn.preprocessing import StandardScaler\n",
    "from sklearn.utils import shuffle\n",
    "\n",
    "# Метрики\n",
    "\n",
    "from sklearn.metrics import roc_auc_score\n",
    "from sklearn.metrics import f1_score\n",
    "from sklearn.metrics import roc_curve\n",
    "\n",
    "import warnings\n",
    "warnings.filterwarnings('ignore')"
   ]
  },
  {
   "cell_type": "markdown",
   "metadata": {},
   "source": [
    "## Загрузка и обзор датасета"
   ]
  },
  {
   "cell_type": "code",
   "execution_count": 2,
   "metadata": {},
   "outputs": [],
   "source": [
    "# Загружаем исходный набор данных\n",
    "\n",
    "data = pd.read_csv('Churn.csv')"
   ]
  },
  {
   "cell_type": "code",
   "execution_count": 3,
   "metadata": {},
   "outputs": [
    {
     "data": {
      "text/html": [
       "<div>\n",
       "<style scoped>\n",
       "    .dataframe tbody tr th:only-of-type {\n",
       "        vertical-align: middle;\n",
       "    }\n",
       "\n",
       "    .dataframe tbody tr th {\n",
       "        vertical-align: top;\n",
       "    }\n",
       "\n",
       "    .dataframe thead th {\n",
       "        text-align: right;\n",
       "    }\n",
       "</style>\n",
       "<table border=\"1\" class=\"dataframe\">\n",
       "  <thead>\n",
       "    <tr style=\"text-align: right;\">\n",
       "      <th></th>\n",
       "      <th>RowNumber</th>\n",
       "      <th>CustomerId</th>\n",
       "      <th>Surname</th>\n",
       "      <th>CreditScore</th>\n",
       "      <th>Geography</th>\n",
       "      <th>Gender</th>\n",
       "      <th>Age</th>\n",
       "      <th>Tenure</th>\n",
       "      <th>Balance</th>\n",
       "      <th>NumOfProducts</th>\n",
       "      <th>HasCrCard</th>\n",
       "      <th>IsActiveMember</th>\n",
       "      <th>EstimatedSalary</th>\n",
       "      <th>Exited</th>\n",
       "    </tr>\n",
       "  </thead>\n",
       "  <tbody>\n",
       "    <tr>\n",
       "      <th>0</th>\n",
       "      <td>1</td>\n",
       "      <td>15634602</td>\n",
       "      <td>Hargrave</td>\n",
       "      <td>619</td>\n",
       "      <td>France</td>\n",
       "      <td>Female</td>\n",
       "      <td>42</td>\n",
       "      <td>2.0</td>\n",
       "      <td>0.00</td>\n",
       "      <td>1</td>\n",
       "      <td>1</td>\n",
       "      <td>1</td>\n",
       "      <td>101348.88</td>\n",
       "      <td>1</td>\n",
       "    </tr>\n",
       "    <tr>\n",
       "      <th>1</th>\n",
       "      <td>2</td>\n",
       "      <td>15647311</td>\n",
       "      <td>Hill</td>\n",
       "      <td>608</td>\n",
       "      <td>Spain</td>\n",
       "      <td>Female</td>\n",
       "      <td>41</td>\n",
       "      <td>1.0</td>\n",
       "      <td>83807.86</td>\n",
       "      <td>1</td>\n",
       "      <td>0</td>\n",
       "      <td>1</td>\n",
       "      <td>112542.58</td>\n",
       "      <td>0</td>\n",
       "    </tr>\n",
       "    <tr>\n",
       "      <th>2</th>\n",
       "      <td>3</td>\n",
       "      <td>15619304</td>\n",
       "      <td>Onio</td>\n",
       "      <td>502</td>\n",
       "      <td>France</td>\n",
       "      <td>Female</td>\n",
       "      <td>42</td>\n",
       "      <td>8.0</td>\n",
       "      <td>159660.80</td>\n",
       "      <td>3</td>\n",
       "      <td>1</td>\n",
       "      <td>0</td>\n",
       "      <td>113931.57</td>\n",
       "      <td>1</td>\n",
       "    </tr>\n",
       "    <tr>\n",
       "      <th>3</th>\n",
       "      <td>4</td>\n",
       "      <td>15701354</td>\n",
       "      <td>Boni</td>\n",
       "      <td>699</td>\n",
       "      <td>France</td>\n",
       "      <td>Female</td>\n",
       "      <td>39</td>\n",
       "      <td>1.0</td>\n",
       "      <td>0.00</td>\n",
       "      <td>2</td>\n",
       "      <td>0</td>\n",
       "      <td>0</td>\n",
       "      <td>93826.63</td>\n",
       "      <td>0</td>\n",
       "    </tr>\n",
       "    <tr>\n",
       "      <th>4</th>\n",
       "      <td>5</td>\n",
       "      <td>15737888</td>\n",
       "      <td>Mitchell</td>\n",
       "      <td>850</td>\n",
       "      <td>Spain</td>\n",
       "      <td>Female</td>\n",
       "      <td>43</td>\n",
       "      <td>2.0</td>\n",
       "      <td>125510.82</td>\n",
       "      <td>1</td>\n",
       "      <td>1</td>\n",
       "      <td>1</td>\n",
       "      <td>79084.10</td>\n",
       "      <td>0</td>\n",
       "    </tr>\n",
       "  </tbody>\n",
       "</table>\n",
       "</div>"
      ],
      "text/plain": [
       "   RowNumber  CustomerId   Surname  CreditScore Geography  Gender  Age  \\\n",
       "0          1    15634602  Hargrave          619    France  Female   42   \n",
       "1          2    15647311      Hill          608     Spain  Female   41   \n",
       "2          3    15619304      Onio          502    France  Female   42   \n",
       "3          4    15701354      Boni          699    France  Female   39   \n",
       "4          5    15737888  Mitchell          850     Spain  Female   43   \n",
       "\n",
       "   Tenure    Balance  NumOfProducts  HasCrCard  IsActiveMember  \\\n",
       "0     2.0       0.00              1          1               1   \n",
       "1     1.0   83807.86              1          0               1   \n",
       "2     8.0  159660.80              3          1               0   \n",
       "3     1.0       0.00              2          0               0   \n",
       "4     2.0  125510.82              1          1               1   \n",
       "\n",
       "   EstimatedSalary  Exited  \n",
       "0        101348.88       1  \n",
       "1        112542.58       0  \n",
       "2        113931.57       1  \n",
       "3         93826.63       0  \n",
       "4         79084.10       0  "
      ]
     },
     "execution_count": 3,
     "metadata": {},
     "output_type": "execute_result"
    }
   ],
   "source": [
    "# Осматриваем наш фронт работы\n",
    "\n",
    "data.head()"
   ]
  },
  {
   "cell_type": "code",
   "execution_count": 4,
   "metadata": {},
   "outputs": [
    {
     "data": {
      "text/html": [
       "<div>\n",
       "<style scoped>\n",
       "    .dataframe tbody tr th:only-of-type {\n",
       "        vertical-align: middle;\n",
       "    }\n",
       "\n",
       "    .dataframe tbody tr th {\n",
       "        vertical-align: top;\n",
       "    }\n",
       "\n",
       "    .dataframe thead th {\n",
       "        text-align: right;\n",
       "    }\n",
       "</style>\n",
       "<table border=\"1\" class=\"dataframe\">\n",
       "  <thead>\n",
       "    <tr style=\"text-align: right;\">\n",
       "      <th></th>\n",
       "      <th>RowNumber</th>\n",
       "      <th>CustomerId</th>\n",
       "      <th>CreditScore</th>\n",
       "      <th>Age</th>\n",
       "      <th>Tenure</th>\n",
       "      <th>Balance</th>\n",
       "      <th>NumOfProducts</th>\n",
       "      <th>HasCrCard</th>\n",
       "      <th>IsActiveMember</th>\n",
       "      <th>EstimatedSalary</th>\n",
       "      <th>Exited</th>\n",
       "    </tr>\n",
       "  </thead>\n",
       "  <tbody>\n",
       "    <tr>\n",
       "      <th>count</th>\n",
       "      <td>10000.00000</td>\n",
       "      <td>1.000000e+04</td>\n",
       "      <td>10000.000000</td>\n",
       "      <td>10000.000000</td>\n",
       "      <td>9091.000000</td>\n",
       "      <td>10000.000000</td>\n",
       "      <td>10000.000000</td>\n",
       "      <td>10000.00000</td>\n",
       "      <td>10000.000000</td>\n",
       "      <td>10000.000000</td>\n",
       "      <td>10000.000000</td>\n",
       "    </tr>\n",
       "    <tr>\n",
       "      <th>mean</th>\n",
       "      <td>5000.50000</td>\n",
       "      <td>1.569094e+07</td>\n",
       "      <td>650.528800</td>\n",
       "      <td>38.921800</td>\n",
       "      <td>4.997690</td>\n",
       "      <td>76485.889288</td>\n",
       "      <td>1.530200</td>\n",
       "      <td>0.70550</td>\n",
       "      <td>0.515100</td>\n",
       "      <td>100090.239881</td>\n",
       "      <td>0.203700</td>\n",
       "    </tr>\n",
       "    <tr>\n",
       "      <th>std</th>\n",
       "      <td>2886.89568</td>\n",
       "      <td>7.193619e+04</td>\n",
       "      <td>96.653299</td>\n",
       "      <td>10.487806</td>\n",
       "      <td>2.894723</td>\n",
       "      <td>62397.405202</td>\n",
       "      <td>0.581654</td>\n",
       "      <td>0.45584</td>\n",
       "      <td>0.499797</td>\n",
       "      <td>57510.492818</td>\n",
       "      <td>0.402769</td>\n",
       "    </tr>\n",
       "    <tr>\n",
       "      <th>min</th>\n",
       "      <td>1.00000</td>\n",
       "      <td>1.556570e+07</td>\n",
       "      <td>350.000000</td>\n",
       "      <td>18.000000</td>\n",
       "      <td>0.000000</td>\n",
       "      <td>0.000000</td>\n",
       "      <td>1.000000</td>\n",
       "      <td>0.00000</td>\n",
       "      <td>0.000000</td>\n",
       "      <td>11.580000</td>\n",
       "      <td>0.000000</td>\n",
       "    </tr>\n",
       "    <tr>\n",
       "      <th>25%</th>\n",
       "      <td>2500.75000</td>\n",
       "      <td>1.562853e+07</td>\n",
       "      <td>584.000000</td>\n",
       "      <td>32.000000</td>\n",
       "      <td>2.000000</td>\n",
       "      <td>0.000000</td>\n",
       "      <td>1.000000</td>\n",
       "      <td>0.00000</td>\n",
       "      <td>0.000000</td>\n",
       "      <td>51002.110000</td>\n",
       "      <td>0.000000</td>\n",
       "    </tr>\n",
       "    <tr>\n",
       "      <th>50%</th>\n",
       "      <td>5000.50000</td>\n",
       "      <td>1.569074e+07</td>\n",
       "      <td>652.000000</td>\n",
       "      <td>37.000000</td>\n",
       "      <td>5.000000</td>\n",
       "      <td>97198.540000</td>\n",
       "      <td>1.000000</td>\n",
       "      <td>1.00000</td>\n",
       "      <td>1.000000</td>\n",
       "      <td>100193.915000</td>\n",
       "      <td>0.000000</td>\n",
       "    </tr>\n",
       "    <tr>\n",
       "      <th>75%</th>\n",
       "      <td>7500.25000</td>\n",
       "      <td>1.575323e+07</td>\n",
       "      <td>718.000000</td>\n",
       "      <td>44.000000</td>\n",
       "      <td>7.000000</td>\n",
       "      <td>127644.240000</td>\n",
       "      <td>2.000000</td>\n",
       "      <td>1.00000</td>\n",
       "      <td>1.000000</td>\n",
       "      <td>149388.247500</td>\n",
       "      <td>0.000000</td>\n",
       "    </tr>\n",
       "    <tr>\n",
       "      <th>max</th>\n",
       "      <td>10000.00000</td>\n",
       "      <td>1.581569e+07</td>\n",
       "      <td>850.000000</td>\n",
       "      <td>92.000000</td>\n",
       "      <td>10.000000</td>\n",
       "      <td>250898.090000</td>\n",
       "      <td>4.000000</td>\n",
       "      <td>1.00000</td>\n",
       "      <td>1.000000</td>\n",
       "      <td>199992.480000</td>\n",
       "      <td>1.000000</td>\n",
       "    </tr>\n",
       "  </tbody>\n",
       "</table>\n",
       "</div>"
      ],
      "text/plain": [
       "         RowNumber    CustomerId   CreditScore           Age       Tenure  \\\n",
       "count  10000.00000  1.000000e+04  10000.000000  10000.000000  9091.000000   \n",
       "mean    5000.50000  1.569094e+07    650.528800     38.921800     4.997690   \n",
       "std     2886.89568  7.193619e+04     96.653299     10.487806     2.894723   \n",
       "min        1.00000  1.556570e+07    350.000000     18.000000     0.000000   \n",
       "25%     2500.75000  1.562853e+07    584.000000     32.000000     2.000000   \n",
       "50%     5000.50000  1.569074e+07    652.000000     37.000000     5.000000   \n",
       "75%     7500.25000  1.575323e+07    718.000000     44.000000     7.000000   \n",
       "max    10000.00000  1.581569e+07    850.000000     92.000000    10.000000   \n",
       "\n",
       "             Balance  NumOfProducts    HasCrCard  IsActiveMember  \\\n",
       "count   10000.000000   10000.000000  10000.00000    10000.000000   \n",
       "mean    76485.889288       1.530200      0.70550        0.515100   \n",
       "std     62397.405202       0.581654      0.45584        0.499797   \n",
       "min         0.000000       1.000000      0.00000        0.000000   \n",
       "25%         0.000000       1.000000      0.00000        0.000000   \n",
       "50%     97198.540000       1.000000      1.00000        1.000000   \n",
       "75%    127644.240000       2.000000      1.00000        1.000000   \n",
       "max    250898.090000       4.000000      1.00000        1.000000   \n",
       "\n",
       "       EstimatedSalary        Exited  \n",
       "count     10000.000000  10000.000000  \n",
       "mean     100090.239881      0.203700  \n",
       "std       57510.492818      0.402769  \n",
       "min          11.580000      0.000000  \n",
       "25%       51002.110000      0.000000  \n",
       "50%      100193.915000      0.000000  \n",
       "75%      149388.247500      0.000000  \n",
       "max      199992.480000      1.000000  "
      ]
     },
     "execution_count": 4,
     "metadata": {},
     "output_type": "execute_result"
    }
   ],
   "source": [
    "# Для дополнительного анализа данных вызываем методы describe... \n",
    "\n",
    "data.describe()"
   ]
  },
  {
   "cell_type": "code",
   "execution_count": 5,
   "metadata": {},
   "outputs": [
    {
     "name": "stdout",
     "output_type": "stream",
     "text": [
      "<class 'pandas.core.frame.DataFrame'>\n",
      "RangeIndex: 10000 entries, 0 to 9999\n",
      "Data columns (total 14 columns):\n",
      " #   Column           Non-Null Count  Dtype  \n",
      "---  ------           --------------  -----  \n",
      " 0   RowNumber        10000 non-null  int64  \n",
      " 1   CustomerId       10000 non-null  int64  \n",
      " 2   Surname          10000 non-null  object \n",
      " 3   CreditScore      10000 non-null  int64  \n",
      " 4   Geography        10000 non-null  object \n",
      " 5   Gender           10000 non-null  object \n",
      " 6   Age              10000 non-null  int64  \n",
      " 7   Tenure           9091 non-null   float64\n",
      " 8   Balance          10000 non-null  float64\n",
      " 9   NumOfProducts    10000 non-null  int64  \n",
      " 10  HasCrCard        10000 non-null  int64  \n",
      " 11  IsActiveMember   10000 non-null  int64  \n",
      " 12  EstimatedSalary  10000 non-null  float64\n",
      " 13  Exited           10000 non-null  int64  \n",
      "dtypes: float64(3), int64(8), object(3)\n",
      "memory usage: 1.1+ MB\n"
     ]
    }
   ],
   "source": [
    "# ... и info\n",
    "\n",
    "data.info()"
   ]
  },
  {
   "cell_type": "markdown",
   "metadata": {},
   "source": [
    "## Выводы по первичному изучению данных\n",
    "\n",
    "Датафрейм состоит из 10000 строк и 14 столбцов. Изменений формата данных не требуется. Артефактов не отмечено. \n",
    "    \n",
    "Столбцы содержат следующие сведения:\n",
    "    \n",
    "- RowNumber — индекс строки в данных\n",
    "- CustomerId — уникальный идентификатор клиента\n",
    "- Surname — фамилия\n",
    "- CreditScore — кредитный рейтинг\n",
    "- Geography — страна проживания\n",
    "- Gender — пол\n",
    "- Age — возраст\n",
    "- Tenure — сколько лет человек является клиентом банка. Имеются пропуски, которые можно заполнить медианным значением.\n",
    "- Balance — баланс на счёте\n",
    "- NumOfProducts — количество продуктов банка, используемых клиентом\n",
    "- HasCrCard — наличие кредитной карты\n",
    "- IsActiveMember — активность клиента\n",
    "- EstimatedSalary — предполагаемая зарплата\n",
    "- Exited — факт ухода клиента (данный столбец содержит в себе целевой признак)\n",
    "</div>"
   ]
  },
  {
   "cell_type": "markdown",
   "metadata": {},
   "source": [
    "# Предобработка данных"
   ]
  },
  {
   "cell_type": "markdown",
   "metadata": {},
   "source": [
    "## Приведение названий столбцов в приемлемый вид"
   ]
  },
  {
   "cell_type": "code",
   "execution_count": 6,
   "metadata": {},
   "outputs": [
    {
     "data": {
      "text/plain": [
       "Index(['RowNumber', 'CustomerId', 'Surname', 'CreditScore', 'Geography',\n",
       "       'Gender', 'Age', 'Tenure', 'Balance', 'NumOfProducts', 'HasCrCard',\n",
       "       'IsActiveMember', 'EstimatedSalary', 'Exited'],\n",
       "      dtype='object')"
      ]
     },
     "execution_count": 6,
     "metadata": {},
     "output_type": "execute_result"
    }
   ],
   "source": [
    "# Получим список названий столбцов \n",
    "\n",
    "data.columns"
   ]
  },
  {
   "cell_type": "code",
   "execution_count": 7,
   "metadata": {},
   "outputs": [],
   "source": [
    "# Для удобства работы названия столбцов переведем в нижний регистр, в качестве разделителя слов сделаем нижнее подчеркивание\n",
    "\n",
    "data.columns = ['row_number', 'customer_id', 'surname', 'credit_score', 'geography',\n",
    "       'gender', 'age', 'tenure', 'balance', 'num_of_products', 'has_cr_card',\n",
    "       'is_active_member', 'estimated_salary', 'exited']"
   ]
  },
  {
   "cell_type": "code",
   "execution_count": 8,
   "metadata": {},
   "outputs": [
    {
     "data": {
      "text/html": [
       "<div>\n",
       "<style scoped>\n",
       "    .dataframe tbody tr th:only-of-type {\n",
       "        vertical-align: middle;\n",
       "    }\n",
       "\n",
       "    .dataframe tbody tr th {\n",
       "        vertical-align: top;\n",
       "    }\n",
       "\n",
       "    .dataframe thead th {\n",
       "        text-align: right;\n",
       "    }\n",
       "</style>\n",
       "<table border=\"1\" class=\"dataframe\">\n",
       "  <thead>\n",
       "    <tr style=\"text-align: right;\">\n",
       "      <th></th>\n",
       "      <th>row_number</th>\n",
       "      <th>customer_id</th>\n",
       "      <th>surname</th>\n",
       "      <th>credit_score</th>\n",
       "      <th>geography</th>\n",
       "      <th>gender</th>\n",
       "      <th>age</th>\n",
       "      <th>tenure</th>\n",
       "      <th>balance</th>\n",
       "      <th>num_of_products</th>\n",
       "      <th>has_cr_card</th>\n",
       "      <th>is_active_member</th>\n",
       "      <th>estimated_salary</th>\n",
       "      <th>exited</th>\n",
       "    </tr>\n",
       "  </thead>\n",
       "  <tbody>\n",
       "    <tr>\n",
       "      <th>0</th>\n",
       "      <td>1</td>\n",
       "      <td>15634602</td>\n",
       "      <td>Hargrave</td>\n",
       "      <td>619</td>\n",
       "      <td>France</td>\n",
       "      <td>Female</td>\n",
       "      <td>42</td>\n",
       "      <td>2.0</td>\n",
       "      <td>0.00</td>\n",
       "      <td>1</td>\n",
       "      <td>1</td>\n",
       "      <td>1</td>\n",
       "      <td>101348.88</td>\n",
       "      <td>1</td>\n",
       "    </tr>\n",
       "    <tr>\n",
       "      <th>1</th>\n",
       "      <td>2</td>\n",
       "      <td>15647311</td>\n",
       "      <td>Hill</td>\n",
       "      <td>608</td>\n",
       "      <td>Spain</td>\n",
       "      <td>Female</td>\n",
       "      <td>41</td>\n",
       "      <td>1.0</td>\n",
       "      <td>83807.86</td>\n",
       "      <td>1</td>\n",
       "      <td>0</td>\n",
       "      <td>1</td>\n",
       "      <td>112542.58</td>\n",
       "      <td>0</td>\n",
       "    </tr>\n",
       "    <tr>\n",
       "      <th>2</th>\n",
       "      <td>3</td>\n",
       "      <td>15619304</td>\n",
       "      <td>Onio</td>\n",
       "      <td>502</td>\n",
       "      <td>France</td>\n",
       "      <td>Female</td>\n",
       "      <td>42</td>\n",
       "      <td>8.0</td>\n",
       "      <td>159660.80</td>\n",
       "      <td>3</td>\n",
       "      <td>1</td>\n",
       "      <td>0</td>\n",
       "      <td>113931.57</td>\n",
       "      <td>1</td>\n",
       "    </tr>\n",
       "    <tr>\n",
       "      <th>3</th>\n",
       "      <td>4</td>\n",
       "      <td>15701354</td>\n",
       "      <td>Boni</td>\n",
       "      <td>699</td>\n",
       "      <td>France</td>\n",
       "      <td>Female</td>\n",
       "      <td>39</td>\n",
       "      <td>1.0</td>\n",
       "      <td>0.00</td>\n",
       "      <td>2</td>\n",
       "      <td>0</td>\n",
       "      <td>0</td>\n",
       "      <td>93826.63</td>\n",
       "      <td>0</td>\n",
       "    </tr>\n",
       "    <tr>\n",
       "      <th>4</th>\n",
       "      <td>5</td>\n",
       "      <td>15737888</td>\n",
       "      <td>Mitchell</td>\n",
       "      <td>850</td>\n",
       "      <td>Spain</td>\n",
       "      <td>Female</td>\n",
       "      <td>43</td>\n",
       "      <td>2.0</td>\n",
       "      <td>125510.82</td>\n",
       "      <td>1</td>\n",
       "      <td>1</td>\n",
       "      <td>1</td>\n",
       "      <td>79084.10</td>\n",
       "      <td>0</td>\n",
       "    </tr>\n",
       "  </tbody>\n",
       "</table>\n",
       "</div>"
      ],
      "text/plain": [
       "   row_number  customer_id   surname  credit_score geography  gender  age  \\\n",
       "0           1     15634602  Hargrave           619    France  Female   42   \n",
       "1           2     15647311      Hill           608     Spain  Female   41   \n",
       "2           3     15619304      Onio           502    France  Female   42   \n",
       "3           4     15701354      Boni           699    France  Female   39   \n",
       "4           5     15737888  Mitchell           850     Spain  Female   43   \n",
       "\n",
       "   tenure    balance  num_of_products  has_cr_card  is_active_member  \\\n",
       "0     2.0       0.00                1            1                 1   \n",
       "1     1.0   83807.86                1            0                 1   \n",
       "2     8.0  159660.80                3            1                 0   \n",
       "3     1.0       0.00                2            0                 0   \n",
       "4     2.0  125510.82                1            1                 1   \n",
       "\n",
       "   estimated_salary  exited  \n",
       "0         101348.88       1  \n",
       "1         112542.58       0  \n",
       "2         113931.57       1  \n",
       "3          93826.63       0  \n",
       "4          79084.10       0  "
      ]
     },
     "execution_count": 8,
     "metadata": {},
     "output_type": "execute_result"
    }
   ],
   "source": [
    "# Проверяем результат\n",
    "\n",
    "data.head()"
   ]
  },
  {
   "cell_type": "markdown",
   "metadata": {},
   "source": [
    "## Заполнение пропусков в столбце Tenure"
   ]
  },
  {
   "cell_type": "code",
   "execution_count": 9,
   "metadata": {
    "scrolled": true
   },
   "outputs": [],
   "source": [
    "# Для начала категоризируем объеты по квартилям в столбце estimated_salary с помощью функции pd.qcut()\n",
    "# и создаем новый категориальный признак с категорией дохода\n",
    "\n",
    "data['income_cat'] = pd.qcut(data['estimated_salary'], 4, labels=[\"низкий\", \"средний\", \"выше среднего\", \"высокий\"])"
   ]
  },
  {
   "cell_type": "code",
   "execution_count": 10,
   "metadata": {},
   "outputs": [],
   "source": [
    "# Теперь заполняем пропуски по недвижимости с учетом группировки по категории дохода\n",
    "\n",
    "data['tenure'] = data['tenure'].fillna(data.groupby('income_cat')['estimated_salary'].transform('median'))"
   ]
  },
  {
   "cell_type": "code",
   "execution_count": 11,
   "metadata": {},
   "outputs": [
    {
     "name": "stdout",
     "output_type": "stream",
     "text": [
      "<class 'pandas.core.frame.DataFrame'>\n",
      "RangeIndex: 10000 entries, 0 to 9999\n",
      "Data columns (total 15 columns):\n",
      " #   Column            Non-Null Count  Dtype   \n",
      "---  ------            --------------  -----   \n",
      " 0   row_number        10000 non-null  int64   \n",
      " 1   customer_id       10000 non-null  int64   \n",
      " 2   surname           10000 non-null  object  \n",
      " 3   credit_score      10000 non-null  int64   \n",
      " 4   geography         10000 non-null  object  \n",
      " 5   gender            10000 non-null  object  \n",
      " 6   age               10000 non-null  int64   \n",
      " 7   tenure            10000 non-null  float64 \n",
      " 8   balance           10000 non-null  float64 \n",
      " 9   num_of_products   10000 non-null  int64   \n",
      " 10  has_cr_card       10000 non-null  int64   \n",
      " 11  is_active_member  10000 non-null  int64   \n",
      " 12  estimated_salary  10000 non-null  float64 \n",
      " 13  exited            10000 non-null  int64   \n",
      " 14  income_cat        10000 non-null  category\n",
      "dtypes: category(1), float64(3), int64(8), object(3)\n",
      "memory usage: 1.1+ MB\n"
     ]
    }
   ],
   "source": [
    "# Проверяем наличие пропусков в столбце\n",
    "\n",
    "data.info()"
   ]
  },
  {
   "cell_type": "markdown",
   "metadata": {},
   "source": [
    "## Удаление малоинформативных признаков"
   ]
  },
  {
   "cell_type": "code",
   "execution_count": 12,
   "metadata": {},
   "outputs": [],
   "source": [
    "# Для упрощения задачи моделям машинного обучения уберем из датасета малоинформативные признаки\n",
    "\n",
    "data = data.drop(['row_number', 'customer_id', 'surname'], axis = 1)"
   ]
  },
  {
   "cell_type": "code",
   "execution_count": 13,
   "metadata": {},
   "outputs": [
    {
     "data": {
      "text/html": [
       "<div>\n",
       "<style scoped>\n",
       "    .dataframe tbody tr th:only-of-type {\n",
       "        vertical-align: middle;\n",
       "    }\n",
       "\n",
       "    .dataframe tbody tr th {\n",
       "        vertical-align: top;\n",
       "    }\n",
       "\n",
       "    .dataframe thead th {\n",
       "        text-align: right;\n",
       "    }\n",
       "</style>\n",
       "<table border=\"1\" class=\"dataframe\">\n",
       "  <thead>\n",
       "    <tr style=\"text-align: right;\">\n",
       "      <th></th>\n",
       "      <th>credit_score</th>\n",
       "      <th>geography</th>\n",
       "      <th>gender</th>\n",
       "      <th>age</th>\n",
       "      <th>tenure</th>\n",
       "      <th>balance</th>\n",
       "      <th>num_of_products</th>\n",
       "      <th>has_cr_card</th>\n",
       "      <th>is_active_member</th>\n",
       "      <th>estimated_salary</th>\n",
       "      <th>exited</th>\n",
       "      <th>income_cat</th>\n",
       "    </tr>\n",
       "  </thead>\n",
       "  <tbody>\n",
       "    <tr>\n",
       "      <th>0</th>\n",
       "      <td>619</td>\n",
       "      <td>France</td>\n",
       "      <td>Female</td>\n",
       "      <td>42</td>\n",
       "      <td>2.0</td>\n",
       "      <td>0.00</td>\n",
       "      <td>1</td>\n",
       "      <td>1</td>\n",
       "      <td>1</td>\n",
       "      <td>101348.88</td>\n",
       "      <td>1</td>\n",
       "      <td>выше среднего</td>\n",
       "    </tr>\n",
       "    <tr>\n",
       "      <th>1</th>\n",
       "      <td>608</td>\n",
       "      <td>Spain</td>\n",
       "      <td>Female</td>\n",
       "      <td>41</td>\n",
       "      <td>1.0</td>\n",
       "      <td>83807.86</td>\n",
       "      <td>1</td>\n",
       "      <td>0</td>\n",
       "      <td>1</td>\n",
       "      <td>112542.58</td>\n",
       "      <td>0</td>\n",
       "      <td>выше среднего</td>\n",
       "    </tr>\n",
       "    <tr>\n",
       "      <th>2</th>\n",
       "      <td>502</td>\n",
       "      <td>France</td>\n",
       "      <td>Female</td>\n",
       "      <td>42</td>\n",
       "      <td>8.0</td>\n",
       "      <td>159660.80</td>\n",
       "      <td>3</td>\n",
       "      <td>1</td>\n",
       "      <td>0</td>\n",
       "      <td>113931.57</td>\n",
       "      <td>1</td>\n",
       "      <td>выше среднего</td>\n",
       "    </tr>\n",
       "    <tr>\n",
       "      <th>3</th>\n",
       "      <td>699</td>\n",
       "      <td>France</td>\n",
       "      <td>Female</td>\n",
       "      <td>39</td>\n",
       "      <td>1.0</td>\n",
       "      <td>0.00</td>\n",
       "      <td>2</td>\n",
       "      <td>0</td>\n",
       "      <td>0</td>\n",
       "      <td>93826.63</td>\n",
       "      <td>0</td>\n",
       "      <td>средний</td>\n",
       "    </tr>\n",
       "    <tr>\n",
       "      <th>4</th>\n",
       "      <td>850</td>\n",
       "      <td>Spain</td>\n",
       "      <td>Female</td>\n",
       "      <td>43</td>\n",
       "      <td>2.0</td>\n",
       "      <td>125510.82</td>\n",
       "      <td>1</td>\n",
       "      <td>1</td>\n",
       "      <td>1</td>\n",
       "      <td>79084.10</td>\n",
       "      <td>0</td>\n",
       "      <td>средний</td>\n",
       "    </tr>\n",
       "  </tbody>\n",
       "</table>\n",
       "</div>"
      ],
      "text/plain": [
       "   credit_score geography  gender  age  tenure    balance  num_of_products  \\\n",
       "0           619    France  Female   42     2.0       0.00                1   \n",
       "1           608     Spain  Female   41     1.0   83807.86                1   \n",
       "2           502    France  Female   42     8.0  159660.80                3   \n",
       "3           699    France  Female   39     1.0       0.00                2   \n",
       "4           850     Spain  Female   43     2.0  125510.82                1   \n",
       "\n",
       "   has_cr_card  is_active_member  estimated_salary  exited     income_cat  \n",
       "0            1                 1         101348.88       1  выше среднего  \n",
       "1            0                 1         112542.58       0  выше среднего  \n",
       "2            1                 0         113931.57       1  выше среднего  \n",
       "3            0                 0          93826.63       0        средний  \n",
       "4            1                 1          79084.10       0        средний  "
      ]
     },
     "execution_count": 13,
     "metadata": {},
     "output_type": "execute_result"
    }
   ],
   "source": [
    "# Проверим результат\n",
    "\n",
    "data.head()"
   ]
  },
  {
   "cell_type": "markdown",
   "metadata": {},
   "source": [
    "## Использование прямого кодирования (one-hot encoding) для категориальных признаков"
   ]
  },
  {
   "cell_type": "code",
   "execution_count": 14,
   "metadata": {},
   "outputs": [],
   "source": [
    "# Формируем новый датасет, в котором будет произведено прямое кодирование признаков в столбцах gender и geography\n",
    "\n",
    "data_ohe = pd.get_dummies(data, drop_first=True)"
   ]
  },
  {
   "cell_type": "code",
   "execution_count": 15,
   "metadata": {},
   "outputs": [
    {
     "data": {
      "text/html": [
       "<div>\n",
       "<style scoped>\n",
       "    .dataframe tbody tr th:only-of-type {\n",
       "        vertical-align: middle;\n",
       "    }\n",
       "\n",
       "    .dataframe tbody tr th {\n",
       "        vertical-align: top;\n",
       "    }\n",
       "\n",
       "    .dataframe thead th {\n",
       "        text-align: right;\n",
       "    }\n",
       "</style>\n",
       "<table border=\"1\" class=\"dataframe\">\n",
       "  <thead>\n",
       "    <tr style=\"text-align: right;\">\n",
       "      <th></th>\n",
       "      <th>credit_score</th>\n",
       "      <th>age</th>\n",
       "      <th>tenure</th>\n",
       "      <th>balance</th>\n",
       "      <th>num_of_products</th>\n",
       "      <th>has_cr_card</th>\n",
       "      <th>is_active_member</th>\n",
       "      <th>estimated_salary</th>\n",
       "      <th>exited</th>\n",
       "      <th>geography_Germany</th>\n",
       "      <th>geography_Spain</th>\n",
       "      <th>gender_Male</th>\n",
       "      <th>income_cat_средний</th>\n",
       "      <th>income_cat_выше среднего</th>\n",
       "      <th>income_cat_высокий</th>\n",
       "    </tr>\n",
       "  </thead>\n",
       "  <tbody>\n",
       "    <tr>\n",
       "      <th>0</th>\n",
       "      <td>619</td>\n",
       "      <td>42</td>\n",
       "      <td>2.0</td>\n",
       "      <td>0.00</td>\n",
       "      <td>1</td>\n",
       "      <td>1</td>\n",
       "      <td>1</td>\n",
       "      <td>101348.88</td>\n",
       "      <td>1</td>\n",
       "      <td>0</td>\n",
       "      <td>0</td>\n",
       "      <td>0</td>\n",
       "      <td>0</td>\n",
       "      <td>1</td>\n",
       "      <td>0</td>\n",
       "    </tr>\n",
       "    <tr>\n",
       "      <th>1</th>\n",
       "      <td>608</td>\n",
       "      <td>41</td>\n",
       "      <td>1.0</td>\n",
       "      <td>83807.86</td>\n",
       "      <td>1</td>\n",
       "      <td>0</td>\n",
       "      <td>1</td>\n",
       "      <td>112542.58</td>\n",
       "      <td>0</td>\n",
       "      <td>0</td>\n",
       "      <td>1</td>\n",
       "      <td>0</td>\n",
       "      <td>0</td>\n",
       "      <td>1</td>\n",
       "      <td>0</td>\n",
       "    </tr>\n",
       "    <tr>\n",
       "      <th>2</th>\n",
       "      <td>502</td>\n",
       "      <td>42</td>\n",
       "      <td>8.0</td>\n",
       "      <td>159660.80</td>\n",
       "      <td>3</td>\n",
       "      <td>1</td>\n",
       "      <td>0</td>\n",
       "      <td>113931.57</td>\n",
       "      <td>1</td>\n",
       "      <td>0</td>\n",
       "      <td>0</td>\n",
       "      <td>0</td>\n",
       "      <td>0</td>\n",
       "      <td>1</td>\n",
       "      <td>0</td>\n",
       "    </tr>\n",
       "    <tr>\n",
       "      <th>3</th>\n",
       "      <td>699</td>\n",
       "      <td>39</td>\n",
       "      <td>1.0</td>\n",
       "      <td>0.00</td>\n",
       "      <td>2</td>\n",
       "      <td>0</td>\n",
       "      <td>0</td>\n",
       "      <td>93826.63</td>\n",
       "      <td>0</td>\n",
       "      <td>0</td>\n",
       "      <td>0</td>\n",
       "      <td>0</td>\n",
       "      <td>1</td>\n",
       "      <td>0</td>\n",
       "      <td>0</td>\n",
       "    </tr>\n",
       "    <tr>\n",
       "      <th>4</th>\n",
       "      <td>850</td>\n",
       "      <td>43</td>\n",
       "      <td>2.0</td>\n",
       "      <td>125510.82</td>\n",
       "      <td>1</td>\n",
       "      <td>1</td>\n",
       "      <td>1</td>\n",
       "      <td>79084.10</td>\n",
       "      <td>0</td>\n",
       "      <td>0</td>\n",
       "      <td>1</td>\n",
       "      <td>0</td>\n",
       "      <td>1</td>\n",
       "      <td>0</td>\n",
       "      <td>0</td>\n",
       "    </tr>\n",
       "  </tbody>\n",
       "</table>\n",
       "</div>"
      ],
      "text/plain": [
       "   credit_score  age  tenure    balance  num_of_products  has_cr_card  \\\n",
       "0           619   42     2.0       0.00                1            1   \n",
       "1           608   41     1.0   83807.86                1            0   \n",
       "2           502   42     8.0  159660.80                3            1   \n",
       "3           699   39     1.0       0.00                2            0   \n",
       "4           850   43     2.0  125510.82                1            1   \n",
       "\n",
       "   is_active_member  estimated_salary  exited  geography_Germany  \\\n",
       "0                 1         101348.88       1                  0   \n",
       "1                 1         112542.58       0                  0   \n",
       "2                 0         113931.57       1                  0   \n",
       "3                 0          93826.63       0                  0   \n",
       "4                 1          79084.10       0                  0   \n",
       "\n",
       "   geography_Spain  gender_Male  income_cat_средний  income_cat_выше среднего  \\\n",
       "0                0            0                   0                         1   \n",
       "1                1            0                   0                         1   \n",
       "2                0            0                   0                         1   \n",
       "3                0            0                   1                         0   \n",
       "4                1            0                   1                         0   \n",
       "\n",
       "   income_cat_высокий  \n",
       "0                   0  \n",
       "1                   0  \n",
       "2                   0  \n",
       "3                   0  \n",
       "4                   0  "
      ]
     },
     "execution_count": 15,
     "metadata": {},
     "output_type": "execute_result"
    }
   ],
   "source": [
    "# Проверяем результаты работы\n",
    "\n",
    "data_ohe.head()"
   ]
  },
  {
   "cell_type": "markdown",
   "metadata": {},
   "source": [
    "## Отделение целевого признака"
   ]
  },
  {
   "cell_type": "code",
   "execution_count": 16,
   "metadata": {},
   "outputs": [],
   "source": [
    "# Получаем признаки датасета путем отбрасывания целевого признака в столбце exited\n",
    "\n",
    "features = data_ohe.drop(['exited'], axis = 1)"
   ]
  },
  {
   "cell_type": "code",
   "execution_count": 17,
   "metadata": {},
   "outputs": [
    {
     "data": {
      "text/html": [
       "<div>\n",
       "<style scoped>\n",
       "    .dataframe tbody tr th:only-of-type {\n",
       "        vertical-align: middle;\n",
       "    }\n",
       "\n",
       "    .dataframe tbody tr th {\n",
       "        vertical-align: top;\n",
       "    }\n",
       "\n",
       "    .dataframe thead th {\n",
       "        text-align: right;\n",
       "    }\n",
       "</style>\n",
       "<table border=\"1\" class=\"dataframe\">\n",
       "  <thead>\n",
       "    <tr style=\"text-align: right;\">\n",
       "      <th></th>\n",
       "      <th>credit_score</th>\n",
       "      <th>age</th>\n",
       "      <th>tenure</th>\n",
       "      <th>balance</th>\n",
       "      <th>num_of_products</th>\n",
       "      <th>has_cr_card</th>\n",
       "      <th>is_active_member</th>\n",
       "      <th>estimated_salary</th>\n",
       "      <th>geography_Germany</th>\n",
       "      <th>geography_Spain</th>\n",
       "      <th>gender_Male</th>\n",
       "      <th>income_cat_средний</th>\n",
       "      <th>income_cat_выше среднего</th>\n",
       "      <th>income_cat_высокий</th>\n",
       "    </tr>\n",
       "  </thead>\n",
       "  <tbody>\n",
       "    <tr>\n",
       "      <th>0</th>\n",
       "      <td>619</td>\n",
       "      <td>42</td>\n",
       "      <td>2.0</td>\n",
       "      <td>0.00</td>\n",
       "      <td>1</td>\n",
       "      <td>1</td>\n",
       "      <td>1</td>\n",
       "      <td>101348.88</td>\n",
       "      <td>0</td>\n",
       "      <td>0</td>\n",
       "      <td>0</td>\n",
       "      <td>0</td>\n",
       "      <td>1</td>\n",
       "      <td>0</td>\n",
       "    </tr>\n",
       "    <tr>\n",
       "      <th>1</th>\n",
       "      <td>608</td>\n",
       "      <td>41</td>\n",
       "      <td>1.0</td>\n",
       "      <td>83807.86</td>\n",
       "      <td>1</td>\n",
       "      <td>0</td>\n",
       "      <td>1</td>\n",
       "      <td>112542.58</td>\n",
       "      <td>0</td>\n",
       "      <td>1</td>\n",
       "      <td>0</td>\n",
       "      <td>0</td>\n",
       "      <td>1</td>\n",
       "      <td>0</td>\n",
       "    </tr>\n",
       "    <tr>\n",
       "      <th>2</th>\n",
       "      <td>502</td>\n",
       "      <td>42</td>\n",
       "      <td>8.0</td>\n",
       "      <td>159660.80</td>\n",
       "      <td>3</td>\n",
       "      <td>1</td>\n",
       "      <td>0</td>\n",
       "      <td>113931.57</td>\n",
       "      <td>0</td>\n",
       "      <td>0</td>\n",
       "      <td>0</td>\n",
       "      <td>0</td>\n",
       "      <td>1</td>\n",
       "      <td>0</td>\n",
       "    </tr>\n",
       "    <tr>\n",
       "      <th>3</th>\n",
       "      <td>699</td>\n",
       "      <td>39</td>\n",
       "      <td>1.0</td>\n",
       "      <td>0.00</td>\n",
       "      <td>2</td>\n",
       "      <td>0</td>\n",
       "      <td>0</td>\n",
       "      <td>93826.63</td>\n",
       "      <td>0</td>\n",
       "      <td>0</td>\n",
       "      <td>0</td>\n",
       "      <td>1</td>\n",
       "      <td>0</td>\n",
       "      <td>0</td>\n",
       "    </tr>\n",
       "    <tr>\n",
       "      <th>4</th>\n",
       "      <td>850</td>\n",
       "      <td>43</td>\n",
       "      <td>2.0</td>\n",
       "      <td>125510.82</td>\n",
       "      <td>1</td>\n",
       "      <td>1</td>\n",
       "      <td>1</td>\n",
       "      <td>79084.10</td>\n",
       "      <td>0</td>\n",
       "      <td>1</td>\n",
       "      <td>0</td>\n",
       "      <td>1</td>\n",
       "      <td>0</td>\n",
       "      <td>0</td>\n",
       "    </tr>\n",
       "  </tbody>\n",
       "</table>\n",
       "</div>"
      ],
      "text/plain": [
       "   credit_score  age  tenure    balance  num_of_products  has_cr_card  \\\n",
       "0           619   42     2.0       0.00                1            1   \n",
       "1           608   41     1.0   83807.86                1            0   \n",
       "2           502   42     8.0  159660.80                3            1   \n",
       "3           699   39     1.0       0.00                2            0   \n",
       "4           850   43     2.0  125510.82                1            1   \n",
       "\n",
       "   is_active_member  estimated_salary  geography_Germany  geography_Spain  \\\n",
       "0                 1         101348.88                  0                0   \n",
       "1                 1         112542.58                  0                1   \n",
       "2                 0         113931.57                  0                0   \n",
       "3                 0          93826.63                  0                0   \n",
       "4                 1          79084.10                  0                1   \n",
       "\n",
       "   gender_Male  income_cat_средний  income_cat_выше среднего  \\\n",
       "0            0                   0                         1   \n",
       "1            0                   0                         1   \n",
       "2            0                   0                         1   \n",
       "3            0                   1                         0   \n",
       "4            0                   1                         0   \n",
       "\n",
       "   income_cat_высокий  \n",
       "0                   0  \n",
       "1                   0  \n",
       "2                   0  \n",
       "3                   0  \n",
       "4                   0  "
      ]
     },
     "execution_count": 17,
     "metadata": {},
     "output_type": "execute_result"
    }
   ],
   "source": [
    "# Проверяем результат\n",
    "\n",
    "features.head()"
   ]
  },
  {
   "cell_type": "code",
   "execution_count": 18,
   "metadata": {},
   "outputs": [],
   "source": [
    "# В отдельную переменную выделяем целевой признак\n",
    "\n",
    "target = data_ohe['exited']"
   ]
  },
  {
   "cell_type": "markdown",
   "metadata": {},
   "source": [
    "## Масштабирование признаков"
   ]
  },
  {
   "cell_type": "code",
   "execution_count": 19,
   "metadata": {},
   "outputs": [],
   "source": [
    "# Отдельным объектом сохраняем модуль для масштабирования цифровых признаков\n",
    "\n",
    "scaler = StandardScaler()"
   ]
  },
  {
   "cell_type": "code",
   "execution_count": 20,
   "metadata": {},
   "outputs": [],
   "source": [
    "# Отключаем предупреждения\n",
    "\n",
    "pd.options.mode.chained_assignment = None"
   ]
  },
  {
   "cell_type": "code",
   "execution_count": 21,
   "metadata": {},
   "outputs": [],
   "source": [
    "# Сохраняем в отдельную переменную список названий столбцов, сотдержащих числовые признаки\n",
    "\n",
    "numeric = ['credit_score', 'age', 'tenure', 'balance', 'num_of_products', 'has_cr_card', 'is_active_member', 'estimated_salary']"
   ]
  },
  {
   "cell_type": "code",
   "execution_count": 22,
   "metadata": {},
   "outputs": [
    {
     "data": {
      "text/plain": [
       "StandardScaler()"
      ]
     },
     "execution_count": 22,
     "metadata": {},
     "output_type": "execute_result"
    }
   ],
   "source": [
    "# Обучаем scaler...\n",
    "\n",
    "scaler.fit(features[numeric])"
   ]
  },
  {
   "cell_type": "code",
   "execution_count": 23,
   "metadata": {},
   "outputs": [],
   "source": [
    "# ... и применяем его к датасету с признаками\n",
    "\n",
    "features[numeric]= scaler.transform(features[numeric])"
   ]
  },
  {
   "cell_type": "code",
   "execution_count": 24,
   "metadata": {},
   "outputs": [
    {
     "data": {
      "text/html": [
       "<div>\n",
       "<style scoped>\n",
       "    .dataframe tbody tr th:only-of-type {\n",
       "        vertical-align: middle;\n",
       "    }\n",
       "\n",
       "    .dataframe tbody tr th {\n",
       "        vertical-align: top;\n",
       "    }\n",
       "\n",
       "    .dataframe thead th {\n",
       "        text-align: right;\n",
       "    }\n",
       "</style>\n",
       "<table border=\"1\" class=\"dataframe\">\n",
       "  <thead>\n",
       "    <tr style=\"text-align: right;\">\n",
       "      <th></th>\n",
       "      <th>credit_score</th>\n",
       "      <th>age</th>\n",
       "      <th>tenure</th>\n",
       "      <th>balance</th>\n",
       "      <th>num_of_products</th>\n",
       "      <th>has_cr_card</th>\n",
       "      <th>is_active_member</th>\n",
       "      <th>estimated_salary</th>\n",
       "      <th>geography_Germany</th>\n",
       "      <th>geography_Spain</th>\n",
       "      <th>gender_Male</th>\n",
       "      <th>income_cat_средний</th>\n",
       "      <th>income_cat_выше среднего</th>\n",
       "      <th>income_cat_высокий</th>\n",
       "    </tr>\n",
       "  </thead>\n",
       "  <tbody>\n",
       "    <tr>\n",
       "      <th>0</th>\n",
       "      <td>-0.326221</td>\n",
       "      <td>0.293517</td>\n",
       "      <td>-0.272999</td>\n",
       "      <td>-1.225848</td>\n",
       "      <td>-0.911583</td>\n",
       "      <td>0.646092</td>\n",
       "      <td>0.970243</td>\n",
       "      <td>0.021886</td>\n",
       "      <td>0</td>\n",
       "      <td>0</td>\n",
       "      <td>0</td>\n",
       "      <td>0</td>\n",
       "      <td>1</td>\n",
       "      <td>0</td>\n",
       "    </tr>\n",
       "    <tr>\n",
       "      <th>1</th>\n",
       "      <td>-0.440036</td>\n",
       "      <td>0.198164</td>\n",
       "      <td>-0.273029</td>\n",
       "      <td>0.117350</td>\n",
       "      <td>-0.911583</td>\n",
       "      <td>-1.547768</td>\n",
       "      <td>0.970243</td>\n",
       "      <td>0.216534</td>\n",
       "      <td>0</td>\n",
       "      <td>1</td>\n",
       "      <td>0</td>\n",
       "      <td>0</td>\n",
       "      <td>1</td>\n",
       "      <td>0</td>\n",
       "    </tr>\n",
       "    <tr>\n",
       "      <th>2</th>\n",
       "      <td>-1.536794</td>\n",
       "      <td>0.293517</td>\n",
       "      <td>-0.272817</td>\n",
       "      <td>1.333053</td>\n",
       "      <td>2.527057</td>\n",
       "      <td>0.646092</td>\n",
       "      <td>-1.030670</td>\n",
       "      <td>0.240687</td>\n",
       "      <td>0</td>\n",
       "      <td>0</td>\n",
       "      <td>0</td>\n",
       "      <td>0</td>\n",
       "      <td>1</td>\n",
       "      <td>0</td>\n",
       "    </tr>\n",
       "    <tr>\n",
       "      <th>3</th>\n",
       "      <td>0.501521</td>\n",
       "      <td>0.007457</td>\n",
       "      <td>-0.273029</td>\n",
       "      <td>-1.225848</td>\n",
       "      <td>0.807737</td>\n",
       "      <td>-1.547768</td>\n",
       "      <td>-1.030670</td>\n",
       "      <td>-0.108918</td>\n",
       "      <td>0</td>\n",
       "      <td>0</td>\n",
       "      <td>0</td>\n",
       "      <td>1</td>\n",
       "      <td>0</td>\n",
       "      <td>0</td>\n",
       "    </tr>\n",
       "    <tr>\n",
       "      <th>4</th>\n",
       "      <td>2.063884</td>\n",
       "      <td>0.388871</td>\n",
       "      <td>-0.272999</td>\n",
       "      <td>0.785728</td>\n",
       "      <td>-0.911583</td>\n",
       "      <td>0.646092</td>\n",
       "      <td>0.970243</td>\n",
       "      <td>-0.365276</td>\n",
       "      <td>0</td>\n",
       "      <td>1</td>\n",
       "      <td>0</td>\n",
       "      <td>1</td>\n",
       "      <td>0</td>\n",
       "      <td>0</td>\n",
       "    </tr>\n",
       "  </tbody>\n",
       "</table>\n",
       "</div>"
      ],
      "text/plain": [
       "   credit_score       age    tenure   balance  num_of_products  has_cr_card  \\\n",
       "0     -0.326221  0.293517 -0.272999 -1.225848        -0.911583     0.646092   \n",
       "1     -0.440036  0.198164 -0.273029  0.117350        -0.911583    -1.547768   \n",
       "2     -1.536794  0.293517 -0.272817  1.333053         2.527057     0.646092   \n",
       "3      0.501521  0.007457 -0.273029 -1.225848         0.807737    -1.547768   \n",
       "4      2.063884  0.388871 -0.272999  0.785728        -0.911583     0.646092   \n",
       "\n",
       "   is_active_member  estimated_salary  geography_Germany  geography_Spain  \\\n",
       "0          0.970243          0.021886                  0                0   \n",
       "1          0.970243          0.216534                  0                1   \n",
       "2         -1.030670          0.240687                  0                0   \n",
       "3         -1.030670         -0.108918                  0                0   \n",
       "4          0.970243         -0.365276                  0                1   \n",
       "\n",
       "   gender_Male  income_cat_средний  income_cat_выше среднего  \\\n",
       "0            0                   0                         1   \n",
       "1            0                   0                         1   \n",
       "2            0                   0                         1   \n",
       "3            0                   1                         0   \n",
       "4            0                   1                         0   \n",
       "\n",
       "   income_cat_высокий  \n",
       "0                   0  \n",
       "1                   0  \n",
       "2                   0  \n",
       "3                   0  \n",
       "4                   0  "
      ]
     },
     "execution_count": 24,
     "metadata": {},
     "output_type": "execute_result"
    }
   ],
   "source": [
    "# Проверяем результат\n",
    "\n",
    "features.head()"
   ]
  },
  {
   "cell_type": "markdown",
   "metadata": {},
   "source": [
    "### Разделение датасета на тренировочную, валидационную и тестовую выборки"
   ]
  },
  {
   "cell_type": "code",
   "execution_count": 25,
   "metadata": {},
   "outputs": [],
   "source": [
    "# Разделим исходную совокупность на тренировочную, валидационную и тестовую в соотношении 3:1:1. Сначала отделяем 20 5 для тестовой выборки.\n",
    "\n",
    "features_train, features_test, target_train, target_test = train_test_split(features, target, test_size = 0.4, random_state = 12345)"
   ]
  },
  {
   "cell_type": "code",
   "execution_count": 26,
   "metadata": {},
   "outputs": [],
   "source": [
    "# Теперь датасеты _eighty разбиваем на _train (75 % от _eighty = 60 % от исходного датасета) и _test (25 % от _eigty = 20 % от исходного датасета)\n",
    "\n",
    "features_valid, features_test, target_valid, target_test = train_test_split(features_test, target_test, test_size = 0.5, random_state = 12345)"
   ]
  },
  {
   "cell_type": "code",
   "execution_count": 27,
   "metadata": {},
   "outputs": [
    {
     "data": {
      "text/plain": [
       "(6000, 14)"
      ]
     },
     "execution_count": 27,
     "metadata": {},
     "output_type": "execute_result"
    }
   ],
   "source": [
    "# Проверяем размер обучающего датасета\n",
    "\n",
    "features_train.shape"
   ]
  },
  {
   "cell_type": "code",
   "execution_count": 28,
   "metadata": {},
   "outputs": [
    {
     "data": {
      "text/plain": [
       "(2000, 14)"
      ]
     },
     "execution_count": 28,
     "metadata": {},
     "output_type": "execute_result"
    }
   ],
   "source": [
    "# Валидационный набор \n",
    "\n",
    "features_valid.shape"
   ]
  },
  {
   "cell_type": "code",
   "execution_count": 29,
   "metadata": {},
   "outputs": [
    {
     "data": {
      "text/plain": [
       "(2000, 14)"
      ]
     },
     "execution_count": 29,
     "metadata": {},
     "output_type": "execute_result"
    }
   ],
   "source": [
    "# И проверка тестовой выборки \n",
    "\n",
    "features_test.shape"
   ]
  },
  {
   "cell_type": "markdown",
   "metadata": {},
   "source": [
    "## Вывод по разделу\n",
    "\n",
    "В данном разделе были совершены следующие действия:\n",
    "    \n",
    "- загружены необходимые библиотеки и инструменты для работы с данными. Отключены оповещения системы для \"разгрузки\" рабочего пространства тетрадки;\n",
    "- вызван исходный датасет, исследован его состав, дано описание содержимого;\n",
    "- столбцы датафрейма переназваны с целью приведения наименований к стандартному виду, удобному для работы;\n",
    "- пропуски в столбце tenure заменены медианным значением;\n",
    "- с помощью порядкового кодирования содержимое датасета приведено к единому числовому формату;\n",
    "- данные таблицы разбиты на два датафрейма - признаки и целевой признак;\n",
    "- исходные сведения разделены на тренировочную, валидационную и тестовую выборки в соотношении 3:1:1. Сохранен дополнительно датасет, содержащий в себе и тренировочную, и валидационную части для обучения моделей на большем количестве данных перед тестированием для повышения качества моделей."
   ]
  },
  {
   "cell_type": "markdown",
   "metadata": {},
   "source": [
    "# Исследование данных"
   ]
  },
  {
   "cell_type": "markdown",
   "metadata": {},
   "source": [
    "## Исследование дисбаланса классов"
   ]
  },
  {
   "cell_type": "markdown",
   "metadata": {},
   "source": [
    "Для того, чтобы определить масштабы разбалансированности классов в датасете, выделим \"положительные\" и \"отрицательные\" классы в данных"
   ]
  },
  {
   "cell_type": "code",
   "execution_count": 30,
   "metadata": {},
   "outputs": [
    {
     "data": {
      "text/plain": [
       "(7963, 14)"
      ]
     },
     "execution_count": 30,
     "metadata": {},
     "output_type": "execute_result"
    }
   ],
   "source": [
    "# Отбираем отрицательные объекты в признаках и выводим их количество\n",
    "\n",
    "features_zeros = features[target == 0]\n",
    "features_zeros.shape"
   ]
  },
  {
   "cell_type": "code",
   "execution_count": 31,
   "metadata": {},
   "outputs": [
    {
     "data": {
      "text/plain": [
       "(2037, 14)"
      ]
     },
     "execution_count": 31,
     "metadata": {},
     "output_type": "execute_result"
    }
   ],
   "source": [
    "# То же с положительными\n",
    "\n",
    "features_ones = features[target == 1]\n",
    "features_ones.shape"
   ]
  },
  {
   "cell_type": "code",
   "execution_count": 32,
   "metadata": {},
   "outputs": [
    {
     "data": {
      "image/png": "[encoded data removed]",
      "text/plain": [
       "<Figure size 432x288 with 1 Axes>"
      ]
     },
     "metadata": {
      "needs_background": "light"
     },
     "output_type": "display_data"
    }
   ],
   "source": [
    "# Для удобства восприятия построим bar chart\n",
    "\n",
    "classes = ['0', '1']\n",
    "volume = [features_zeros.shape[0], features_ones.shape[0]]\n",
    "\n",
    "plt.bar(classes, volume)\n",
    "\n",
    "plt.title('Состав положительных и отрицательных классов')\n",
    "plt.xlabel('Класс', fontsize=15)\n",
    "plt.ylabel('Количество объектов', fontsize=15)\n",
    "plt.show()"
   ]
  },
  {
   "cell_type": "code",
   "execution_count": 33,
   "metadata": {},
   "outputs": [
    {
     "data": {
      "text/plain": [
       "3.9091801669121256"
      ]
     },
     "execution_count": 33,
     "metadata": {},
     "output_type": "execute_result"
    }
   ],
   "source": [
    "# Считаем, во сколько раз количество отрицательных признаков больше, чем положительных\n",
    "\n",
    "features_zeros.shape[0]/features_ones.shape[0]"
   ]
  },
  {
   "cell_type": "markdown",
   "metadata": {},
   "source": [
    "**Вывод по проверке баланса данных**\n",
    "    \n",
    "Из результатов видно, что положительных объектов в 3,9 раза меньше, чем отрицательных. Налицо дисбаланс классов. В дальнейшем можно будет применить метод upsampling для балансировки данных.\n",
    "\n",
    "</div>"
   ]
  },
  {
   "cell_type": "markdown",
   "metadata": {},
   "source": [
    "## Исследование моделей без учета дисбаланса классов"
   ]
  },
  {
   "cell_type": "markdown",
   "metadata": {},
   "source": [
    "### Решающее древо"
   ]
  },
  {
   "cell_type": "code",
   "execution_count": 34,
   "metadata": {},
   "outputs": [
    {
     "name": "stdout",
     "output_type": "stream",
     "text": [
      "Best depth = 6, best leafs = 3, best f1 = 0.5770\n"
     ]
    }
   ],
   "source": [
    "# Обучаем и проверяем модель решающего дерева. Для подбора лучших гиперпараметров применим цикл, который будет перебирать \n",
    "# значения max_depth и min_samples_leaf\n",
    "\n",
    "best_f1 = 0\n",
    "\n",
    "for depth in range(1, 20):\n",
    "    for leafs in range(1, 20):\n",
    "\n",
    "            model = DecisionTreeClassifier(random_state=12345, max_depth=depth, min_samples_leaf=leafs) \n",
    "            model.fit(features_train, target_train)\n",
    "            predicted_valid = model.predict(features_valid)\n",
    "           \n",
    "            f1 = f1_score(target_valid, predicted_valid)\n",
    "\n",
    "            if f1 > best_f1:\n",
    "                best_depth = depth\n",
    "                best_leafs =leafs\n",
    "                best_f1 = f1\n",
    "\n",
    "f1_tree_val_unbalanced = best_f1\n",
    "print('Best depth = {}, best leafs = {}, best f1 = {:.4f}'.format(best_depth, best_leafs, best_f1))\n"
   ]
  },
  {
   "cell_type": "code",
   "execution_count": 35,
   "metadata": {},
   "outputs": [
    {
     "data": {
      "image/png": "[encoded data removed]",
      "text/plain": [
       "<Figure size 432x288 with 1 Axes>"
      ]
     },
     "metadata": {
      "needs_background": "light"
     },
     "output_type": "display_data"
    },
    {
     "name": "stdout",
     "output_type": "stream",
     "text": [
      "Значение метрики auc_roc = 0.8059\n"
     ]
    }
   ],
   "source": [
    "# Посчитаем значение метрики AUC-ROC, построим соответствующую кривую в сравнении с той же метрикой для случайной модели\n",
    "\n",
    "probabilities_valid = model.predict_proba(features_valid)\n",
    "probabilities_one_valid = probabilities_valid[:, 1]\n",
    "auc_roc = roc_auc_score(target_valid, probabilities_one_valid)\n",
    "\n",
    "fpr, tpr, thresholds = roc_curve(target_valid, probabilities_one_valid) \n",
    "\n",
    "plt.figure()\n",
    "plt.plot(fpr, tpr, linestyle='--')\n",
    "plt.plot([0, 1], [0, 1], linestyle='--')\n",
    "plt.xlim([0.0, 1.0])\n",
    "plt.ylim([0.0, 1.0])\n",
    "plt.xlabel(\"False Positive Rate\")\n",
    "plt.ylabel(\"True Positive Rate\")\n",
    "plt.title(\"ROC-кривая\")\n",
    "plt.show()\n",
    "\n",
    "auc_roc_tree_val_unbalanced = auc_roc\n",
    "\n",
    "print('Значение метрики auc_roc = {:.4f}'.format(auc_roc))"
   ]
  },
  {
   "cell_type": "markdown",
   "metadata": {},
   "source": [
    "### Случайный лес"
   ]
  },
  {
   "cell_type": "code",
   "execution_count": 36,
   "metadata": {},
   "outputs": [
    {
     "name": "stdout",
     "output_type": "stream",
     "text": [
      "Лучшие показатели: f1 = 0.5719, best_est = 12, best_samples = 9\n"
     ]
    }
   ],
   "source": [
    "# Обучаем и проверяем модель случайного леса. Для подбора лучших гиперпараметров применим цикл, который будет перебирать \n",
    "# значения n_estimators и min_samples_split\n",
    "\n",
    "best_model = None\n",
    "best_f1 = 0\n",
    "\n",
    "for est in range(1, 40):\n",
    "    for samples in range(2,10):\n",
    "        \n",
    "        model = RandomForestClassifier(random_state=12345, n_estimators=est, min_samples_split = samples) \n",
    "\n",
    "        model.fit(features_train, target_train) \n",
    "        predicted_valid = model.predict(features_valid)\n",
    "        f1 = f1_score(target_valid, predicted_valid)\n",
    "\n",
    "\n",
    "        if f1 > best_f1:\n",
    "            best_model = model\n",
    "            best_f1 = f1\n",
    "            best_est = est\n",
    "            best_samples = samples\n",
    "            \n",
    "f1_forest_val_unbalanced = best_f1\n",
    "print('Лучшие показатели: f1 = {:.4f}, best_est = {}, best_samples = {}'.format(f1, best_est, best_samples))"
   ]
  },
  {
   "cell_type": "code",
   "execution_count": 37,
   "metadata": {},
   "outputs": [
    {
     "data": {
      "image/png": "[encoded data removed]",
      "text/plain": [
       "<Figure size 432x288 with 1 Axes>"
      ]
     },
     "metadata": {
      "needs_background": "light"
     },
     "output_type": "display_data"
    },
    {
     "name": "stdout",
     "output_type": "stream",
     "text": [
      "Значение метрики auc_roc = 0.8445\n"
     ]
    }
   ],
   "source": [
    "# Посчитаем значение метрики AUC-ROC, построим соответствующую кривую в сравнении с той же метрикой для случайной модели\n",
    "\n",
    "probabilities_valid = model.predict_proba(features_valid)\n",
    "probabilities_one_valid = probabilities_valid[:, 1]\n",
    "\n",
    "auc_roc = roc_auc_score(target_valid, probabilities_one_valid)\n",
    "\n",
    "fpr, tpr, thresholds = roc_curve(target_valid, probabilities_one_valid)\n",
    "\n",
    "plt.figure()\n",
    "plt.plot(fpr, tpr, linestyle='--')\n",
    "plt.plot([0, 1], [0, 1], linestyle='--')\n",
    "plt.xlim([0.0, 1.0])\n",
    "plt.ylim([0.0, 1.0])\n",
    "\n",
    "plt.xlabel(\"False Positive Rate\")\n",
    "plt.ylabel(\"True Positive Rate\")\n",
    "plt.title(\"ROC-кривая\")\n",
    "plt.show()\n",
    "\n",
    "auc_roc_forest_val_unbalanced = auc_roc\n",
    "\n",
    "print('Значение метрики auc_roc = {:.4f}'.format(auc_roc))"
   ]
  },
  {
   "cell_type": "markdown",
   "metadata": {},
   "source": [
    "### Логистическая регрессия"
   ]
  },
  {
   "cell_type": "code",
   "execution_count": 38,
   "metadata": {},
   "outputs": [
    {
     "name": "stdout",
     "output_type": "stream",
     "text": [
      "Показатель f1 = 0.3367\n"
     ]
    }
   ],
   "source": [
    "# Обучаем и проверяем модель логистической регрессии\n",
    "\n",
    "model = LogisticRegression(random_state = 12345, solver='liblinear')\n",
    "\n",
    "model.fit(features_train, target_train)\n",
    "\n",
    "predicted_valid = model.predict(features_valid)\n",
    "\n",
    "f1 = f1_score(predicted_valid, target_valid)\n",
    "\n",
    "f1_logreg_val_unbalanced = f1\n",
    "print('Показатель f1 = {:.4f}'.format(f1))"
   ]
  },
  {
   "cell_type": "code",
   "execution_count": 39,
   "metadata": {},
   "outputs": [
    {
     "data": {
      "image/png": "[encoded data removed]",
      "text/plain": [
       "<Figure size 432x288 with 1 Axes>"
      ]
     },
     "metadata": {
      "needs_background": "light"
     },
     "output_type": "display_data"
    },
    {
     "name": "stdout",
     "output_type": "stream",
     "text": [
      "Значение метрики auc_roc = 0.7589\n"
     ]
    }
   ],
   "source": [
    "# Посчитаем значение метрики AUC-ROC, построим соответствующую кривую в сравнении с той же метрикой для случайной модели\n",
    "\n",
    "probabilities_valid = model.predict_proba(features_valid)\n",
    "probabilities_one_valid = probabilities_valid[:, 1]\n",
    "\n",
    "auc_roc = roc_auc_score(target_valid, probabilities_one_valid)\n",
    "\n",
    "fpr, tpr, thresholds = roc_curve(target_valid, probabilities_one_valid)\n",
    "\n",
    "plt.figure()\n",
    "plt.plot(fpr, tpr, linestyle='--')\n",
    "plt.plot([0, 1], [0, 1], linestyle='--')\n",
    "plt.xlim([0.0, 1.0])\n",
    "plt.ylim([0.0, 1.0])\n",
    "\n",
    "plt.xlabel(\"False Positive Rate\")\n",
    "plt.ylabel(\"True Positive Rate\")\n",
    "plt.title(\"ROC-кривая\")\n",
    "plt.show()\n",
    "\n",
    "auc_roc_logreg_val_unbalanced = auc_roc\n",
    "\n",
    "print('Значение метрики auc_roc = {:.4f}'.format(auc_roc))"
   ]
  },
  {
   "cell_type": "markdown",
   "metadata": {},
   "source": [
    "### Таблица промежуточных результатов"
   ]
  },
  {
   "cell_type": "code",
   "execution_count": 40,
   "metadata": {},
   "outputs": [
    {
     "data": {
      "text/html": [
       "<div>\n",
       "<style scoped>\n",
       "    .dataframe tbody tr th:only-of-type {\n",
       "        vertical-align: middle;\n",
       "    }\n",
       "\n",
       "    .dataframe tbody tr th {\n",
       "        vertical-align: top;\n",
       "    }\n",
       "\n",
       "    .dataframe thead th {\n",
       "        text-align: right;\n",
       "    }\n",
       "</style>\n",
       "<table border=\"1\" class=\"dataframe\">\n",
       "  <thead>\n",
       "    <tr style=\"text-align: right;\">\n",
       "      <th></th>\n",
       "      <th>ML-модель</th>\n",
       "      <th>F1_valid_unbalanced</th>\n",
       "      <th>ROC-AUC_valid_unbalanced</th>\n",
       "    </tr>\n",
       "  </thead>\n",
       "  <tbody>\n",
       "    <tr>\n",
       "      <th>0</th>\n",
       "      <td>Решающее дерево</td>\n",
       "      <td>0.577039</td>\n",
       "      <td>0.805940</td>\n",
       "    </tr>\n",
       "    <tr>\n",
       "      <th>1</th>\n",
       "      <td>Случайный лес</td>\n",
       "      <td>0.585949</td>\n",
       "      <td>0.844480</td>\n",
       "    </tr>\n",
       "    <tr>\n",
       "      <th>2</th>\n",
       "      <td>Логистическая регрессия</td>\n",
       "      <td>0.336700</td>\n",
       "      <td>0.758913</td>\n",
       "    </tr>\n",
       "  </tbody>\n",
       "</table>\n",
       "</div>"
      ],
      "text/plain": [
       "                 ML-модель  F1_valid_unbalanced  ROC-AUC_valid_unbalanced\n",
       "0          Решающее дерево             0.577039                  0.805940\n",
       "1            Случайный лес             0.585949                  0.844480\n",
       "2  Логистическая регрессия             0.336700                  0.758913"
      ]
     },
     "execution_count": 40,
     "metadata": {},
     "output_type": "execute_result"
    }
   ],
   "source": [
    "table_unbalanced = pd.DataFrame({'ML-модель': ['Решающее дерево', 'Случайный лес', 'Логистическая регрессия'],\n",
    "        'F1_valid_unbalanced': [f1_tree_val_unbalanced, f1_forest_val_unbalanced, f1_logreg_val_unbalanced],\n",
    "        'ROC-AUC_valid_unbalanced': [auc_roc_tree_val_unbalanced, auc_roc_forest_val_unbalanced, auc_roc_logreg_val_unbalanced], \n",
    "})\n",
    "\n",
    "table_unbalanced"
   ]
  },
  {
   "cell_type": "markdown",
   "metadata": {},
   "source": [
    "**Вывод по разделу**\n",
    "\n",
    "\n",
    "На данном этапе проекта было проведено исследование дисбаланса классов в наборе данных. Выявлено, что количество отрицательных объектов приблизительно в 4 раза превышает число положительных. Это говорит о необходимости балансирования данных для получения более высоких показателей качества при работе моделей.\n",
    "\n",
    "Проведена предварительная \"обкатка\" моделей решающего дерева (f1 = 0.577039, auc_roc = 0.805940), случайного леса (f1 = 0.585949,  auc_roc = 0.844480) и логистической регрессии (f1 = 0.336700,  auc_roc = 0.758913) на несбалансированных данных. Результаты получились ожидаемо низкими, особенно чувствительной к дисбалансу оказалась логистическая регрессия. \n",
    "\n",
    "При этом числовые показатели метрики AUC-ROC отличаются не так кардинально, но все же соответсвуют полученному качеству каждой модели. Самой крутой, что говорит о большем количестве TP ответов, является кривая случайного леса, затем идет решающее дерево, потом логистическая регрессия."
   ]
  },
  {
   "cell_type": "markdown",
   "metadata": {},
   "source": [
    "## Балансировка данных"
   ]
  },
  {
   "cell_type": "code",
   "execution_count": 41,
   "metadata": {},
   "outputs": [],
   "source": [
    "# Для балансировки классов создадим функцию upsample, с помощью которого нарастим число положительных объектов\n",
    "\n",
    "def upsample(features, target, repeat):\n",
    "    \n",
    "    features_zeros = features[target == 0]\n",
    "    features_ones = features[target == 1]\n",
    "    target_zeros = target[target == 0]\n",
    "    target_ones = target[target == 1]\n",
    "\n",
    "    features_upsampled = pd.concat([features_zeros] + [features_ones] * repeat)\n",
    "    target_upsampled = pd.concat([target_zeros] + [target_ones] * repeat)\n",
    "\n",
    "    features_upsampled, target_upsampled = shuffle(\n",
    "        features_upsampled, target_upsampled, random_state=12345)\n",
    "\n",
    "    return features_upsampled, target_upsampled"
   ]
  },
  {
   "cell_type": "code",
   "execution_count": 42,
   "metadata": {},
   "outputs": [],
   "source": [
    "# Вызываем полученную функцию и записываем результаты в новые переменные\n",
    "\n",
    "features_upsampled, target_upsampled = upsample(features_train, target_train, 4)"
   ]
  },
  {
   "cell_type": "code",
   "execution_count": 43,
   "metadata": {},
   "outputs": [
    {
     "data": {
      "text/plain": [
       "(4804, 14)"
      ]
     },
     "execution_count": 43,
     "metadata": {},
     "output_type": "execute_result"
    }
   ],
   "source": [
    "# Отбираем отрицательные классы в признаках и выводим их количество для проверки\n",
    "\n",
    "features_zeros = features_upsampled[target == 0]\n",
    "\n",
    "features_zeros.shape"
   ]
  },
  {
   "cell_type": "code",
   "execution_count": 44,
   "metadata": {},
   "outputs": [
    {
     "data": {
      "text/plain": [
       "(4784, 14)"
      ]
     },
     "execution_count": 44,
     "metadata": {},
     "output_type": "execute_result"
    }
   ],
   "source": [
    "# То же с положительными классами \n",
    "\n",
    "features_ones = features_upsampled[target == 1]\n",
    "features_ones.shape"
   ]
  },
  {
   "cell_type": "code",
   "execution_count": 45,
   "metadata": {},
   "outputs": [
    {
     "data": {
      "text/plain": [
       "(4804,)"
      ]
     },
     "execution_count": 45,
     "metadata": {},
     "output_type": "execute_result"
    }
   ],
   "source": [
    "# Повторяем процедуру для отрицительных целевфх признаков\n",
    "\n",
    "target_zeros = target_upsampled[target == 0]\n",
    "target_zeros.shape"
   ]
  },
  {
   "cell_type": "code",
   "execution_count": 46,
   "metadata": {},
   "outputs": [
    {
     "data": {
      "text/plain": [
       "(4784,)"
      ]
     },
     "execution_count": 46,
     "metadata": {},
     "output_type": "execute_result"
    }
   ],
   "source": [
    "# То же для положительных\n",
    "\n",
    "target_ones = target_upsampled[target == 1]\n",
    "target_ones.shape"
   ]
  },
  {
   "cell_type": "code",
   "execution_count": 47,
   "metadata": {},
   "outputs": [
    {
     "data": {
      "image/png": "[encoded data removed]",
      "text/plain": [
       "<Figure size 432x288 with 1 Axes>"
      ]
     },
     "metadata": {
      "needs_background": "light"
     },
     "output_type": "display_data"
    }
   ],
   "source": [
    "# Построим bar chart\n",
    "\n",
    "classes = ['0', '1']\n",
    "volume = [features_zeros.shape[0], features_ones.shape[0]]\n",
    "\n",
    "plt.bar(classes, volume)\n",
    "\n",
    "plt.title('Состав положительных и отрицательных классов')\n",
    "plt.xlabel('Класс', fontsize=15)\n",
    "plt.ylabel('Количество объектов', fontsize=15)\n",
    "plt.show()"
   ]
  },
  {
   "cell_type": "markdown",
   "metadata": {},
   "source": [
    "**Вывод по работе с дисбалансом объектов**\n",
    "    \n",
    "После проведенной балансировки соотношение положительных и отрицательных объектов стало близким к значению 1:1. Теперь модели будут лучше учитывать вес каждого объекта.\n",
    "\n",
    "</div>"
   ]
  },
  {
   "cell_type": "markdown",
   "metadata": {},
   "source": [
    "## Обучение моделей на сбалансированных объектах"
   ]
  },
  {
   "cell_type": "markdown",
   "metadata": {},
   "source": [
    "### Решающее дерево"
   ]
  },
  {
   "cell_type": "code",
   "execution_count": 48,
   "metadata": {},
   "outputs": [
    {
     "name": "stdout",
     "output_type": "stream",
     "text": [
      "Best depth = 5, best leafs = 19, best f1 = 0.6010\n"
     ]
    }
   ],
   "source": [
    "# Обучим решающее дерево на новых тренировочных данных и посмотрим результат\n",
    "\n",
    "best_depth = None\n",
    "best_f1 = 0\n",
    "for depth in range(1, 20):\n",
    "    for leafs in range(1, 20):\n",
    "\n",
    "            model = DecisionTreeClassifier(random_state=12345, max_depth=depth, min_samples_leaf=leafs) \n",
    "            model.fit(features_upsampled, target_upsampled)\n",
    "            predicted_valid = model.predict(features_valid)\n",
    "            \n",
    "            f1 = f1_score(target_valid, predicted_valid)\n",
    "\n",
    "            if f1 > best_f1:\n",
    "                best_depth = depth\n",
    "                best_leafs =leafs\n",
    "                best_f1 = f1\n",
    "                \n",
    "f1_tree_val_balanced = best_f1\n",
    "print('Best depth = {}, best leafs = {}, best f1 = {:.4f}'.format(best_depth, best_leafs, best_f1))\n"
   ]
  },
  {
   "cell_type": "code",
   "execution_count": 49,
   "metadata": {},
   "outputs": [
    {
     "data": {
      "image/png": "[encoded data removed]",
      "text/plain": [
       "<Figure size 432x288 with 1 Axes>"
      ]
     },
     "metadata": {
      "needs_background": "light"
     },
     "output_type": "display_data"
    },
    {
     "name": "stdout",
     "output_type": "stream",
     "text": [
      "Значение метрики auc_roc = 0.7949\n"
     ]
    }
   ],
   "source": [
    "# Посчитаем AUC-ROC\n",
    "\n",
    "probabilities_valid = model.predict_proba(features_valid)\n",
    "probabilities_one_valid = probabilities_valid[:, 1]\n",
    "\n",
    "auc_roc = roc_auc_score(target_valid, probabilities_one_valid)\n",
    "\n",
    "fpr, tpr, thresholds = roc_curve(target_valid, probabilities_one_valid)\n",
    "\n",
    "plt.figure()\n",
    "plt.plot(fpr, tpr, linestyle='--')\n",
    "plt.plot([0, 1], [0, 1], linestyle='--')\n",
    "plt.xlim([0.0, 1.0])\n",
    "plt.ylim([0.0, 1.0])\n",
    "\n",
    "plt.xlabel(\"False Positive Rate\")\n",
    "plt.ylabel(\"True Positive Rate\")\n",
    "plt.title(\"ROC-кривая\")\n",
    "plt.show()\n",
    "\n",
    "auc_roc_tree_val_balanced = auc_roc\n",
    "\n",
    "print('Значение метрики auc_roc = {:.4f}'.format(auc_roc))"
   ]
  },
  {
   "cell_type": "markdown",
   "metadata": {},
   "source": [
    "Видим, что upsampling положительно сказался на модели дерева, удалось снизить глубину и поднять качество\n"
   ]
  },
  {
   "cell_type": "code",
   "execution_count": 50,
   "metadata": {},
   "outputs": [
    {
     "name": "stdout",
     "output_type": "stream",
     "text": [
      "Best depth = 5, best leafs = 10, best f1 = 0.6010\n"
     ]
    }
   ],
   "source": [
    "# Для сравнения проведем обучение модели на несбалансированных тренировочных данных, в параметры дерева \n",
    "# добавим аргумент class_weight со значением balanced\n",
    "\n",
    "best_depth = None\n",
    "best_f1 = 0\n",
    "for depth in range(1, 20):\n",
    "    for leafs in range(1, 20):\n",
    "\n",
    "            model = DecisionTreeClassifier(random_state=12345, max_depth=depth, min_samples_leaf=leafs, class_weight='balanced') \n",
    "            model.fit(features_train, target_train)\n",
    "            predicted_valid = model.predict(features_valid)\n",
    "            \n",
    "            f1 = f1_score(target_valid, predicted_valid)\n",
    "\n",
    "            if f1 > best_f1:\n",
    "                best_depth = depth\n",
    "                best_leafs =leafs\n",
    "                best_f1 = f1\n",
    "print('Best depth = {}, best leafs = {}, best f1 = {:.4f}'.format(best_depth, best_leafs, best_f1))\n"
   ]
  },
  {
   "cell_type": "code",
   "execution_count": 51,
   "metadata": {},
   "outputs": [
    {
     "data": {
      "image/png": "[encoded data removed]",
      "text/plain": [
       "<Figure size 432x288 with 1 Axes>"
      ]
     },
     "metadata": {
      "needs_background": "light"
     },
     "output_type": "display_data"
    },
    {
     "name": "stdout",
     "output_type": "stream",
     "text": [
      "Значение метрики auc_roc = 0.8044\n"
     ]
    }
   ],
   "source": [
    "# Посчитаем AUC-ROC\n",
    "\n",
    "probabilities_valid = model.predict_proba(features_valid)\n",
    "probabilities_one_valid = probabilities_valid[:, 1]\n",
    "\n",
    "auc_roc = roc_auc_score(target_valid, probabilities_one_valid)\n",
    "\n",
    "fpr, tpr, thresholds = roc_curve(target_valid, probabilities_one_valid)\n",
    "\n",
    "plt.figure()\n",
    "plt.plot(fpr, tpr, linestyle='--')\n",
    "plt.plot([0, 1], [0, 1], linestyle='--')\n",
    "plt.xlim([0.0, 1.0])\n",
    "plt.ylim([0.0, 1.0])\n",
    "\n",
    "plt.xlabel(\"False Positive Rate\")\n",
    "plt.ylabel(\"True Positive Rate\")\n",
    "plt.title(\"ROC-кривая\")\n",
    "plt.show()\n",
    "\n",
    "auc_roc_tree_val_balanced = auc_roc\n",
    "\n",
    "print('Значение метрики auc_roc = {:.4f}'.format(auc_roc))"
   ]
  },
  {
   "cell_type": "markdown",
   "metadata": {},
   "source": [
    "**Вывод по работе решающего дерева со сбалансированными данными**\n",
    "    \n",
    "\n",
    "Работа решающего дерева на сбалансированных данных стала значительно эффективнее, показав лучший результат f1 = 0.6010 против f1 = 0.5770 при дисбалансе. Прогресс налицо, уже достигнут целевой показатель. \n",
    "\n",
    "При этом значение AUC-ROC несколько просело по-сравнению с моделью в предыдущем разделе (auc_roc = 0.804364 против auc_roc = 0.805940). Вероятно, это объясняется увеличением положительных ответов за счет наращивания выборки при не таком значительном росте точности модели, что привело к относительному спаду в количестве рейтинга TPR.\n",
    "\n",
    "Работаем дальше."
   ]
  },
  {
   "cell_type": "markdown",
   "metadata": {},
   "source": [
    "### Случайный лес"
   ]
  },
  {
   "cell_type": "code",
   "execution_count": 52,
   "metadata": {},
   "outputs": [
    {
     "name": "stdout",
     "output_type": "stream",
     "text": [
      "Лучшие показатели для данного леса: best_f1 = 0.6225, best_est = 19, best_samples = 16\n"
     ]
    }
   ],
   "source": [
    "# Обучим модель случайного леса  на новых тренировочных данных и посмотрим результат\n",
    "\n",
    "best_model = None\n",
    "best_f1 = 0\n",
    "\n",
    "for est in range(1, 20):\n",
    "    for samples in range(2,20):\n",
    "        \n",
    "        model = RandomForestClassifier(random_state=12345, n_estimators=est, min_samples_split = samples) \n",
    "\n",
    "        model.fit(features_upsampled, target_upsampled) \n",
    "        predicted_valid = model.predict(features_valid)\n",
    "        f1 = f1_score(target_valid, predicted_valid)\n",
    "\n",
    "        if f1 > best_f1:\n",
    "            best_model = model\n",
    "            best_f1 = f1\n",
    "            best_est = est\n",
    "            best_samples = samples\n",
    "\n",
    "f1_forest_val_balanced = best_f1\n",
    "print('Лучшие показатели для данного леса: best_f1 = {:.4f}, best_est = {}, best_samples = {}'.format(best_f1, best_est, best_samples))"
   ]
  },
  {
   "cell_type": "code",
   "execution_count": 53,
   "metadata": {},
   "outputs": [
    {
     "data": {
      "image/png": "[encoded data removed]",
      "text/plain": [
       "<Figure size 432x288 with 1 Axes>"
      ]
     },
     "metadata": {
      "needs_background": "light"
     },
     "output_type": "display_data"
    },
    {
     "name": "stdout",
     "output_type": "stream",
     "text": [
      "Значение метрики auc_roc = 0.8382\n"
     ]
    }
   ],
   "source": [
    "# Посчитаем AUC-ROC\n",
    "\n",
    "probabilities_valid = model.predict_proba(features_valid)\n",
    "probabilities_one_valid = probabilities_valid[:, 1]\n",
    "\n",
    "auc_roc = roc_auc_score(target_valid, probabilities_one_valid)\n",
    "\n",
    "fpr, tpr, thresholds = roc_curve(target_valid, probabilities_one_valid)\n",
    "\n",
    "plt.figure()\n",
    "plt.plot(fpr, tpr, linestyle='--')\n",
    "plt.plot([0, 1], [0, 1], linestyle='--')\n",
    "plt.xlim([0.0, 1.0])\n",
    "plt.ylim([0.0, 1.0])\n",
    "\n",
    "plt.xlabel(\"False Positive Rate\")\n",
    "plt.ylabel(\"True Positive Rate\")\n",
    "plt.title(\"ROC-кривая\")\n",
    "plt.show()\n",
    "\n",
    "auc_roc_forest_val_balanced = auc_roc\n",
    "\n",
    "print('Значение метрики auc_roc = {:.4f}'.format(auc_roc))"
   ]
  },
  {
   "cell_type": "code",
   "execution_count": 54,
   "metadata": {},
   "outputs": [
    {
     "name": "stdout",
     "output_type": "stream",
     "text": [
      "Лучшие показатели для данного леса: best_f1 = 0.6266829865361075, best_est = 16, best_samples = 13\n"
     ]
    }
   ],
   "source": [
    "# Обучим модель случайного леса  на \"старых\" тренировочных данных c показателем гиперпараметра class_weight = 'balanced' и посмотрим результат\n",
    "\n",
    "best_model = None\n",
    "best_f1 = 0\n",
    "\n",
    "for est in range(1, 20):\n",
    "    for samples in range(2,20):\n",
    "        \n",
    "        model = RandomForestClassifier(random_state=12345, n_estimators=est, min_samples_split = samples, class_weight='balanced') \n",
    "\n",
    "        model.fit(features_train, target_train) \n",
    "        predicted_valid = model.predict(features_valid)\n",
    "        f1 = f1_score(target_valid, predicted_valid)\n",
    "\n",
    "        if f1 > best_f1:\n",
    "            best_model = model\n",
    "            best_f1 = f1\n",
    "            best_est = est\n",
    "            best_samples = samples\n",
    "\n",
    "print('Лучшие показатели для данного леса: best_f1 = {}, best_est = {}, best_samples = {}'.format(best_f1, best_est, best_samples))"
   ]
  },
  {
   "cell_type": "code",
   "execution_count": 55,
   "metadata": {},
   "outputs": [
    {
     "data": {
      "image/png": "[encoded data removed]",
      "text/plain": [
       "<Figure size 432x288 with 1 Axes>"
      ]
     },
     "metadata": {
      "needs_background": "light"
     },
     "output_type": "display_data"
    },
    {
     "name": "stdout",
     "output_type": "stream",
     "text": [
      "Значение метрики auc_roc = 0.8432\n"
     ]
    }
   ],
   "source": [
    "# Посчитаем AUC-ROC\n",
    "\n",
    "probabilities_valid = model.predict_proba(features_valid)\n",
    "probabilities_one_valid = probabilities_valid[:, 1]\n",
    "\n",
    "auc_roc = roc_auc_score(target_valid, probabilities_one_valid)\n",
    "\n",
    "fpr, tpr, thresholds = roc_curve(target_valid, probabilities_one_valid)\n",
    "\n",
    "plt.figure()\n",
    "plt.plot(fpr, tpr, linestyle='--')\n",
    "plt.plot([0, 1], [0, 1], linestyle='--')\n",
    "plt.xlim([0.0, 1.0])\n",
    "plt.ylim([0.0, 1.0])\n",
    "\n",
    "plt.xlabel(\"False Positive Rate\")\n",
    "plt.ylabel(\"True Positive Rate\")\n",
    "plt.title(\"ROC-кривая\")\n",
    "plt.show()\n",
    "\n",
    "print('Значение метрики auc_roc = {:.4f}'.format(auc_roc))"
   ]
  },
  {
   "cell_type": "markdown",
   "metadata": {},
   "source": [
    "**Вывод по работе случайного леса со сбалансированными данными**\n",
    "    \n",
    "И снова модель, приготовленная на отборных сбалансированных данных дает значительный прирост в показателях. \n",
    "\n",
    "Метрика f1 = 0.622532 у новой модели случайного леса против f1 = 0.585949 при дисбалансе - отличная работа, товарищи! Сбалансированные данные в каждый дом! УРА!\n",
    "\n",
    "Метрика AUC-ROC осталась на высоком уровне (auc_roc = 0.838193 против auc_roc = 0.844480)."
   ]
  },
  {
   "cell_type": "markdown",
   "metadata": {},
   "source": [
    "### Логистическая регрессия"
   ]
  },
  {
   "cell_type": "code",
   "execution_count": 56,
   "metadata": {},
   "outputs": [
    {
     "name": "stdout",
     "output_type": "stream",
     "text": [
      "F1: 0.49140893470790376\n"
     ]
    }
   ],
   "source": [
    "# Обучим модель случайного леса  на \"старых\" тренировочных данных c показателем гиперпараметра class_weight = 'balanced' и посмотрим результат\n",
    "\n",
    "model = LogisticRegression(random_state=12345, solver='liblinear')\n",
    "model.fit(features_upsampled, target_upsampled)\n",
    "predicted_valid = model.predict(features_valid)\n",
    "print(\"F1:\", f1_score(target_valid, predicted_valid))\n",
    "f1_logreg_val_balanced = f1_score(target_valid, predicted_valid)"
   ]
  },
  {
   "cell_type": "code",
   "execution_count": 57,
   "metadata": {},
   "outputs": [
    {
     "name": "stdout",
     "output_type": "stream",
     "text": [
      "F1: 0.49056603773584906\n"
     ]
    }
   ],
   "source": [
    "# Тестируем модель случайного леса c новыми данными и c показателем гиперпараметра class_weight = 'balanced'\n",
    "\n",
    "model = LogisticRegression(random_state=12345, solver='liblinear', class_weight='balanced')\n",
    "model.fit(features_train, target_train)\n",
    "predicted_valid = model.predict(features_valid)\n",
    "print(\"F1:\", f1_score(target_valid, predicted_valid))"
   ]
  },
  {
   "cell_type": "code",
   "execution_count": 58,
   "metadata": {},
   "outputs": [
    {
     "data": {
      "image/png": "[encoded data removed]",
      "text/plain": [
       "<Figure size 432x288 with 1 Axes>"
      ]
     },
     "metadata": {
      "needs_background": "light"
     },
     "output_type": "display_data"
    },
    {
     "name": "stdout",
     "output_type": "stream",
     "text": [
      "Значение метрики auc_roc = 0.7642\n"
     ]
    }
   ],
   "source": [
    "probabilities_valid = model.predict_proba(features_valid)\n",
    "probabilities_one_valid = probabilities_valid[:, 1]\n",
    "\n",
    "auc_roc = roc_auc_score(target_valid, probabilities_one_valid)\n",
    "\n",
    "fpr, tpr, thresholds = roc_curve(target_valid, probabilities_one_valid)\n",
    "\n",
    "plt.figure()\n",
    "plt.plot(fpr, tpr, linestyle='--')\n",
    "plt.plot([0, 1], [0, 1], linestyle='--')\n",
    "plt.xlim([0.0, 1.0])\n",
    "plt.ylim([0.0, 1.0])\n",
    "\n",
    "plt.xlabel(\"False Positive Rate\")\n",
    "plt.ylabel(\"True Positive Rate\")\n",
    "plt.title(\"ROC-кривая\")\n",
    "plt.show()\n",
    "\n",
    "auc_roc_logreg_val_balanced = auc_roc\n",
    "\n",
    "print('Значение метрики auc_roc = {:.4f}'.format(auc_roc))"
   ]
  },
  {
   "cell_type": "markdown",
   "metadata": {},
   "source": [
    "### Таблица промежуточных результатов"
   ]
  },
  {
   "cell_type": "code",
   "execution_count": 59,
   "metadata": {},
   "outputs": [
    {
     "data": {
      "text/html": [
       "<div>\n",
       "<style scoped>\n",
       "    .dataframe tbody tr th:only-of-type {\n",
       "        vertical-align: middle;\n",
       "    }\n",
       "\n",
       "    .dataframe tbody tr th {\n",
       "        vertical-align: top;\n",
       "    }\n",
       "\n",
       "    .dataframe thead th {\n",
       "        text-align: right;\n",
       "    }\n",
       "</style>\n",
       "<table border=\"1\" class=\"dataframe\">\n",
       "  <thead>\n",
       "    <tr style=\"text-align: right;\">\n",
       "      <th></th>\n",
       "      <th>ML-модель</th>\n",
       "      <th>F1_valid_balanced</th>\n",
       "      <th>ROC-AUC_valid_balanced</th>\n",
       "    </tr>\n",
       "  </thead>\n",
       "  <tbody>\n",
       "    <tr>\n",
       "      <th>0</th>\n",
       "      <td>Решающее дерево</td>\n",
       "      <td>0.601047</td>\n",
       "      <td>0.804364</td>\n",
       "    </tr>\n",
       "    <tr>\n",
       "      <th>1</th>\n",
       "      <td>Случайный лес</td>\n",
       "      <td>0.622532</td>\n",
       "      <td>0.838193</td>\n",
       "    </tr>\n",
       "    <tr>\n",
       "      <th>2</th>\n",
       "      <td>Логистическая регрессия</td>\n",
       "      <td>0.491409</td>\n",
       "      <td>0.764201</td>\n",
       "    </tr>\n",
       "  </tbody>\n",
       "</table>\n",
       "</div>"
      ],
      "text/plain": [
       "                 ML-модель  F1_valid_balanced  ROC-AUC_valid_balanced\n",
       "0          Решающее дерево           0.601047                0.804364\n",
       "1            Случайный лес           0.622532                0.838193\n",
       "2  Логистическая регрессия           0.491409                0.764201"
      ]
     },
     "execution_count": 59,
     "metadata": {},
     "output_type": "execute_result"
    }
   ],
   "source": [
    "table_balanced = pd.DataFrame({'ML-модель': ['Решающее дерево', 'Случайный лес', 'Логистическая регрессия'],\n",
    "        'F1_valid_balanced': [f1_tree_val_balanced, f1_forest_val_balanced, f1_logreg_val_balanced],\n",
    "        'ROC-AUC_valid_balanced': [auc_roc_tree_val_balanced, auc_roc_forest_val_balanced, auc_roc_logreg_val_balanced], \n",
    "})\n",
    "\n",
    "table_balanced"
   ]
  },
  {
   "cell_type": "markdown",
   "metadata": {},
   "source": [
    "**Вывод по работе логистической регрессии со сбалансированными данными**\n",
    "    \n",
    "И только одинокая линейная регрессия тихонько грустит в сторонке. Никак не удается ей набрать даже близкого показателя к ее товарищам. Но она не сдается, улучшив свой результат: f1: 0.491409 на новых данных против f1 = 0.336700 на несбалансированных. Приз зрительских симпатий уходит именно к ней! Но еще есть, над чем работать! При этом показатель AUC-ROC изменился мало: auc_roc = 0.764201 в новом виде против auc_roc = 0.758913 в старом. "
   ]
  },
  {
   "cell_type": "markdown",
   "metadata": {},
   "source": [
    "# Тестирование моделей"
   ]
  },
  {
   "cell_type": "markdown",
   "metadata": {},
   "source": [
    "## Решающее дерево"
   ]
  },
  {
   "cell_type": "code",
   "execution_count": 60,
   "metadata": {},
   "outputs": [
    {
     "name": "stdout",
     "output_type": "stream",
     "text": [
      "Значение метрики f1 = 0.5866666666666667\n"
     ]
    }
   ],
   "source": [
    "# Начинаем с решающего древа. Гиперпараметры забираем у лучшей модели из предыдущего раздела. Обучаем на тестовых данных\n",
    "\n",
    "model = DecisionTreeClassifier(random_state=12345, max_depth=5, min_samples_leaf=19, class_weight='balanced') \n",
    "model.fit(features_train, target_train)\n",
    "predicted_test = model.predict(features_test)\n",
    "f1 = f1_score(target_test, predicted_test)\n",
    "\n",
    "f1_tree_test = f1\n",
    "\n",
    "print('Значение метрики f1 = {}'.format(f1_tree_test))"
   ]
  },
  {
   "cell_type": "code",
   "execution_count": 61,
   "metadata": {},
   "outputs": [
    {
     "data": {
      "image/png": "[encoded data removed]",
      "text/plain": [
       "<Figure size 432x288 with 1 Axes>"
      ]
     },
     "metadata": {
      "needs_background": "light"
     },
     "output_type": "display_data"
    },
    {
     "name": "stdout",
     "output_type": "stream",
     "text": [
      "Значение метрики auc_roc = 0.8391\n"
     ]
    }
   ],
   "source": [
    "probabilities_test = model.predict_proba(features_test)\n",
    "probabilities_one_test = probabilities_test[:, 1]\n",
    "\n",
    "auc_roc = roc_auc_score(target_test, probabilities_one_test)\n",
    "\n",
    "fpr, tpr, thresholds = roc_curve(target_test, probabilities_one_test)\n",
    "\n",
    "plt.figure()\n",
    "plt.plot(fpr, tpr, linestyle='--')\n",
    "plt.plot([0, 1], [0, 1], linestyle='--')\n",
    "plt.xlim([0.0, 1.0])\n",
    "plt.ylim([0.0, 1.0])\n",
    "\n",
    "plt.xlabel(\"False Positive Rate\")\n",
    "plt.ylabel(\"True Positive Rate\")\n",
    "plt.title(\"ROC-кривая\")\n",
    "plt.show()\n",
    "\n",
    "auc_roc_tree_test = auc_roc\n",
    "\n",
    "print('Значение метрики auc_roc = {:.4f}'.format(auc_roc))"
   ]
  },
  {
   "cell_type": "markdown",
   "metadata": {},
   "source": [
    "**Вывод по тестированию решающего дерева**\n",
    "    \n",
    "Результаты тестирования обученной на объединенной выборке показывают результат ниже, чем на валидационнойй выборке. Видимо, есть склонность к переобучению! f1 = 0.586667 против f1 = 0.601047. Целевой показатель не достигнут, хоть и подобрались достаточно близко. \n",
    "\n",
    "Зато AUC-ROC подрос (0.839050 против 0.804364). "
   ]
  },
  {
   "cell_type": "markdown",
   "metadata": {},
   "source": [
    "## Случайный лес"
   ]
  },
  {
   "cell_type": "code",
   "execution_count": 62,
   "metadata": {},
   "outputs": [
    {
     "name": "stdout",
     "output_type": "stream",
     "text": [
      "Значение метрики f1 = 0.6067\n"
     ]
    }
   ],
   "source": [
    "# Теперь на тренировочной выборке\n",
    "\n",
    "model = RandomForestClassifier(random_state=12345, n_estimators=19,  class_weight='balanced', criterion = 'entropy', min_samples_split=16) \n",
    "model.fit(features_train, target_train)\n",
    "predicted_test = model.predict(features_test)\n",
    "\n",
    "f1 = f1_score(target_test, predicted_test)\n",
    "\n",
    "f1_forest_test = f1\n",
    "\n",
    "print('Значение метрики f1 = {:.4f}'.format(f1))"
   ]
  },
  {
   "cell_type": "code",
   "execution_count": 63,
   "metadata": {},
   "outputs": [
    {
     "data": {
      "image/png": "[encoded data removed]",
      "text/plain": [
       "<Figure size 432x288 with 1 Axes>"
      ]
     },
     "metadata": {
      "needs_background": "light"
     },
     "output_type": "display_data"
    },
    {
     "name": "stdout",
     "output_type": "stream",
     "text": [
      "Значение метрики auc_roc = 0.8467\n"
     ]
    }
   ],
   "source": [
    "probabilities_test = model.predict_proba(features_test)\n",
    "probabilities_one_test = probabilities_test[:, 1]\n",
    "\n",
    "auc_roc = roc_auc_score(target_test, probabilities_one_test)\n",
    "\n",
    "fpr, tpr, thresholds = roc_curve(target_test, probabilities_one_test)\n",
    "\n",
    "plt.figure()\n",
    "plt.plot(fpr, tpr, linestyle='--')\n",
    "plt.plot([0, 1], [0, 1], linestyle='--')\n",
    "plt.xlim([0.0, 1.0])\n",
    "plt.ylim([0.0, 1.0])\n",
    "\n",
    "plt.xlabel(\"False Positive Rate\")\n",
    "plt.ylabel(\"True Positive Rate\")\n",
    "plt.title(\"ROC-кривая\")\n",
    "plt.show()\n",
    "\n",
    "auc_roc_forest_test = auc_roc\n",
    "\n",
    "print('Значение метрики auc_roc = {:.4f}'.format(auc_roc))"
   ]
  },
  {
   "cell_type": "markdown",
   "metadata": {},
   "source": [
    "**Вывод по тестированию случайного леса**\n",
    "    \n",
    "Случайный лес продемонстрировал достойный результат, но тоже проявил склонность к переобучению (на тестовой выборке  f1 = 0.606715 против f1 = 0.622535 на валидационной). Целевой показатель достигнут, с этим можно работать. \n",
    "\n",
    "Показатель AUC-ROC остался достаточно высоким и даже несколько подрос (auc_roc = 0.846710 против auc_roc = 0.838193). "
   ]
  },
  {
   "cell_type": "markdown",
   "metadata": {},
   "source": [
    "## Логистическая регрессия"
   ]
  },
  {
   "cell_type": "code",
   "execution_count": 64,
   "metadata": {},
   "outputs": [
    {
     "name": "stdout",
     "output_type": "stream",
     "text": [
      "Значение метрики f1 = 0.4838\n"
     ]
    }
   ],
   "source": [
    "model = LogisticRegression(random_state=12345, solver='liblinear', class_weight='balanced')\n",
    "model.fit(features_train, target_train)\n",
    "predicted_test = model.predict(features_test)\n",
    "\n",
    "f1 = f1_score(target_test, predicted_test)\n",
    "\n",
    "f1_logreg_test = f1\n",
    "\n",
    "print('Значение метрики f1 = {:.4f}'.format(f1))"
   ]
  },
  {
   "cell_type": "code",
   "execution_count": 65,
   "metadata": {},
   "outputs": [
    {
     "data": {
      "image/png": "[encoded data removed]",
      "text/plain": [
       "<Figure size 432x288 with 1 Axes>"
      ]
     },
     "metadata": {
      "needs_background": "light"
     },
     "output_type": "display_data"
    },
    {
     "name": "stdout",
     "output_type": "stream",
     "text": [
      "Значение метрики auc_roc = 0.7400\n"
     ]
    }
   ],
   "source": [
    "probabilities_test = model.predict_proba(features_test)\n",
    "probabilities_one_test = probabilities_test[:, 1]\n",
    "\n",
    "auc_roc = roc_auc_score(target_test, probabilities_one_test)\n",
    "\n",
    "fpr, tpr, thresholds = roc_curve(target_test, probabilities_one_test)\n",
    "\n",
    "plt.figure()\n",
    "plt.plot(fpr, tpr, linestyle='--')\n",
    "plt.plot([0, 1], [0, 1], linestyle='--')\n",
    "plt.xlim([0.0, 1.0])\n",
    "plt.ylim([0.0, 1.0])\n",
    "\n",
    "plt.xlabel(\"False Positive Rate\")\n",
    "plt.ylabel(\"True Positive Rate\")\n",
    "plt.title(\"ROC-кривая\")\n",
    "plt.show()\n",
    "\n",
    "auc_roc_logreg_test = auc_roc\n",
    "\n",
    "print('Значение метрики auc_roc = {:.4f}'.format(auc_roc))"
   ]
  },
  {
   "cell_type": "markdown",
   "metadata": {},
   "source": [
    "**Вывод по тестированию логистической регрессии**\n",
    "    \n",
    "Логистическая регрессия показала несколько сниженный результат (f1=0.483816 против 0.492281). Целевого показателя достигнуть не удалось. Здесь нужно подключать другие методы. \n",
    "\n",
    "Показатель AUC-ROC тоже уменьшился (auc_roc = 0.740049 против auc_roc = 0.764201).\n",
    "</div>"
   ]
  },
  {
   "cell_type": "markdown",
   "metadata": {},
   "source": [
    "## Итоговая таблица"
   ]
  },
  {
   "cell_type": "code",
   "execution_count": 66,
   "metadata": {},
   "outputs": [
    {
     "data": {
      "text/html": [
       "<div>\n",
       "<style scoped>\n",
       "    .dataframe tbody tr th:only-of-type {\n",
       "        vertical-align: middle;\n",
       "    }\n",
       "\n",
       "    .dataframe tbody tr th {\n",
       "        vertical-align: top;\n",
       "    }\n",
       "\n",
       "    .dataframe thead th {\n",
       "        text-align: right;\n",
       "    }\n",
       "</style>\n",
       "<table border=\"1\" class=\"dataframe\">\n",
       "  <thead>\n",
       "    <tr style=\"text-align: right;\">\n",
       "      <th></th>\n",
       "      <th>ML-модель</th>\n",
       "      <th>F1_valid_unbalanced</th>\n",
       "      <th>F1_valid_balanced</th>\n",
       "      <th>F1_test</th>\n",
       "      <th>ROC-AUC_valid_unbalanced</th>\n",
       "      <th>ROC-AUC_valid_balanced</th>\n",
       "      <th>ROC-AUC_test</th>\n",
       "    </tr>\n",
       "  </thead>\n",
       "  <tbody>\n",
       "    <tr>\n",
       "      <th>0</th>\n",
       "      <td>Решающее дерево</td>\n",
       "      <td>0.577039</td>\n",
       "      <td>0.601047</td>\n",
       "      <td>0.586667</td>\n",
       "      <td>0.805940</td>\n",
       "      <td>0.804364</td>\n",
       "      <td>0.839050</td>\n",
       "    </tr>\n",
       "    <tr>\n",
       "      <th>1</th>\n",
       "      <td>Случайный лес</td>\n",
       "      <td>0.585949</td>\n",
       "      <td>0.622532</td>\n",
       "      <td>0.606715</td>\n",
       "      <td>0.844480</td>\n",
       "      <td>0.838193</td>\n",
       "      <td>0.846710</td>\n",
       "    </tr>\n",
       "    <tr>\n",
       "      <th>2</th>\n",
       "      <td>Логистическая регрессия</td>\n",
       "      <td>0.336700</td>\n",
       "      <td>0.491409</td>\n",
       "      <td>0.483816</td>\n",
       "      <td>0.758913</td>\n",
       "      <td>0.764201</td>\n",
       "      <td>0.740049</td>\n",
       "    </tr>\n",
       "  </tbody>\n",
       "</table>\n",
       "</div>"
      ],
      "text/plain": [
       "                 ML-модель  F1_valid_unbalanced  F1_valid_balanced   F1_test  \\\n",
       "0          Решающее дерево             0.577039           0.601047  0.586667   \n",
       "1            Случайный лес             0.585949           0.622532  0.606715   \n",
       "2  Логистическая регрессия             0.336700           0.491409  0.483816   \n",
       "\n",
       "   ROC-AUC_valid_unbalanced  ROC-AUC_valid_balanced  ROC-AUC_test  \n",
       "0                  0.805940                0.804364      0.839050  \n",
       "1                  0.844480                0.838193      0.846710  \n",
       "2                  0.758913                0.764201      0.740049  "
      ]
     },
     "execution_count": 66,
     "metadata": {},
     "output_type": "execute_result"
    }
   ],
   "source": [
    "# Для наглядности представления результатов наших трудов оформим итоговую таблицу\n",
    "\n",
    "final_table = pd.DataFrame({'ML-модель': ['Решающее дерево', 'Случайный лес', 'Логистическая регрессия'],\n",
    "        'F1_valid_unbalanced': [f1_tree_val_unbalanced, f1_forest_val_unbalanced, f1_logreg_val_unbalanced],\n",
    "        'F1_valid_balanced': [f1_tree_val_balanced, f1_forest_val_balanced, f1_logreg_val_balanced],\n",
    "        'F1_test': [f1_tree_test, f1_forest_test, f1_logreg_test],\n",
    "        'ROC-AUC_valid_unbalanced': [auc_roc_tree_val_unbalanced, auc_roc_forest_val_unbalanced, auc_roc_logreg_val_unbalanced], \n",
    "        'ROC-AUC_valid_balanced': [auc_roc_tree_val_balanced, auc_roc_forest_val_balanced, auc_roc_logreg_val_balanced],\n",
    "        'ROC-AUC_test': [auc_roc_tree_test, auc_roc_forest_test, auc_roc_logreg_test]})\n",
    "\n",
    "final_table"
   ]
  },
  {
   "cell_type": "markdown",
   "metadata": {},
   "source": [
    "# Вывод по проекту"
   ]
  },
  {
   "cell_type": "markdown",
   "metadata": {},
   "source": [
    "- В текущем проекте были отработаны навыки загрузки необходимых инструментов обработки данных (библиотеки, метрики, модели машинного обучения), предобработки содержимого датасета (коррекция названий столбцов, заполнение пропусков, использование порядкового кодирования, отделение целевого признака от датасета, масштабирование признаков, разделение данных на тренировочную, валидационную и тестовую выборки).\n",
    "\n",
    "- Исследован датафрейм с точки зрения баланса классов данных. Указано, что в исходном датасете количество положительных объектов в 4 раза меньше, чем отрицательных. Произведено исследование работы моделей на несбалансированных данных. Показатели моделей: \n",
    "        решающее дерево - f1 = 0.577039, auc_roc = 0.805940; \n",
    "        случайный лес -  f1 = 0.585949,  auc_roc = 0.844480; \n",
    "        логистическая регрессия - f1 = 0.336700,  auc_roc = 0.7589130. \n",
    "\n",
    "- Произведена балансировка данных путем наращивания количества положительных классов. Осуществлено обучение моделей на новых данных и их тестирование на валидационной выборке. Показатели полученных моделей:\n",
    "        решающее дерево - f1 = 0.601047, auc_roc = 0.804364; \n",
    "        случайный лес - f1 = 0.622532, auc_roc = 0.838193; \n",
    "        логистическая регрессия - f1: 0.492281, auc_roc = 0.764201.\n",
    "\n",
    "- Модели обучены на объединенных тренировочной выборке, затем проведена проверка на тестовых данных. Показатели моделей:\n",
    "        решающее дерево - f1 = 0.586667, auc-roc = 0.839050; \n",
    "        случайный лес - f1 = 0.606715, auc_roc = 0.846710; \n",
    "        логистическая регрессия -  0.483816, auc_roc = 0.740049.\n",
    "\n",
    "Таким образом, удалось добиться нужных показателей метрики f1 только у случайного леса. Он предпочтительнее для использования в промышленной сфере."
   ]
  }
 ],
 "metadata": {
  "ExecuteTimeLog": [
   {
    "duration": 569,
    "start_time": "2021-07-14T19:42:30.896Z"
   },
   {
    "duration": 38,
    "start_time": "2021-07-14T19:42:45.403Z"
   },
   {
    "duration": 11,
    "start_time": "2021-07-14T19:43:38.428Z"
   },
   {
    "duration": 35,
    "start_time": "2021-07-14T19:43:48.731Z"
   },
   {
    "duration": 8,
    "start_time": "2021-07-14T19:44:03.107Z"
   },
   {
    "duration": 278,
    "start_time": "2021-07-14T19:48:57.205Z"
   },
   {
    "duration": 412,
    "start_time": "2021-07-14T19:49:01.095Z"
   },
   {
    "duration": 35,
    "start_time": "2021-07-14T19:49:01.754Z"
   },
   {
    "duration": 35,
    "start_time": "2021-07-14T19:49:02.315Z"
   },
   {
    "duration": 8,
    "start_time": "2021-07-14T19:49:03.139Z"
   },
   {
    "duration": 8,
    "start_time": "2021-07-14T19:49:04.347Z"
   },
   {
    "duration": 251,
    "start_time": "2021-07-14T19:49:06.515Z"
   },
   {
    "duration": 219,
    "start_time": "2021-07-14T19:50:28.859Z"
   },
   {
    "duration": 2,
    "start_time": "2021-07-14T19:50:33.243Z"
   },
   {
    "duration": 602,
    "start_time": "2021-07-14T19:50:35.146Z"
   },
   {
    "duration": 20,
    "start_time": "2021-07-14T19:51:22.826Z"
   },
   {
    "duration": 7,
    "start_time": "2021-07-14T19:51:41.224Z"
   },
   {
    "duration": 8,
    "start_time": "2021-07-14T19:51:53.666Z"
   },
   {
    "duration": 8,
    "start_time": "2021-07-14T19:52:15.506Z"
   },
   {
    "duration": 7,
    "start_time": "2021-07-14T19:52:28.018Z"
   },
   {
    "duration": 8,
    "start_time": "2021-07-14T19:52:32.706Z"
   },
   {
    "duration": 7,
    "start_time": "2021-07-14T19:52:37.530Z"
   },
   {
    "duration": 87,
    "start_time": "2021-07-14T19:52:49.843Z"
   },
   {
    "duration": 272,
    "start_time": "2021-07-14T19:52:55.145Z"
   },
   {
    "duration": 254,
    "start_time": "2021-07-14T19:53:08.835Z"
   },
   {
    "duration": 6,
    "start_time": "2021-07-14T19:53:27.818Z"
   },
   {
    "duration": 8,
    "start_time": "2021-07-14T19:53:29.506Z"
   },
   {
    "duration": 8,
    "start_time": "2021-07-14T19:53:57.162Z"
   },
   {
    "duration": 10,
    "start_time": "2021-07-14T19:54:11.970Z"
   },
   {
    "duration": 9,
    "start_time": "2021-07-14T19:54:23.641Z"
   },
   {
    "duration": 19,
    "start_time": "2021-07-14T19:54:42.721Z"
   },
   {
    "duration": 4,
    "start_time": "2021-07-14T19:55:15.261Z"
   },
   {
    "duration": 8,
    "start_time": "2021-07-14T19:55:17.616Z"
   },
   {
    "duration": 31,
    "start_time": "2021-07-14T19:55:19.345Z"
   },
   {
    "duration": 8,
    "start_time": "2021-07-14T19:55:22.672Z"
   },
   {
    "duration": 230,
    "start_time": "2021-07-14T19:55:23.808Z"
   },
   {
    "duration": 8,
    "start_time": "2021-07-14T19:56:00.234Z"
   },
   {
    "duration": 61,
    "start_time": "2021-07-14T19:56:00.977Z"
   },
   {
    "duration": 47,
    "start_time": "2021-07-14T19:56:23.449Z"
   },
   {
    "duration": 58,
    "start_time": "2021-07-14T19:56:28.928Z"
   },
   {
    "duration": 2712,
    "start_time": "2021-07-14T19:58:56.808Z"
   },
   {
    "duration": 2877,
    "start_time": "2021-07-14T19:59:39.552Z"
   },
   {
    "duration": 2596,
    "start_time": "2021-07-14T20:00:03.825Z"
   },
   {
    "duration": 2467,
    "start_time": "2021-07-14T20:00:21.576Z"
   },
   {
    "duration": 1062,
    "start_time": "2021-07-14T20:00:35.976Z"
   },
   {
    "duration": 210,
    "start_time": "2021-07-14T20:02:45.549Z"
   },
   {
    "duration": 9,
    "start_time": "2021-07-14T20:03:06.279Z"
   },
   {
    "duration": 34175,
    "start_time": "2021-07-14T20:03:10.047Z"
   },
   {
    "duration": 1901,
    "start_time": "2021-07-14T20:03:49.528Z"
   },
   {
    "duration": 1936,
    "start_time": "2021-07-14T20:04:07.447Z"
   },
   {
    "duration": 1956,
    "start_time": "2021-07-14T20:04:14.415Z"
   },
   {
    "duration": 1915,
    "start_time": "2021-07-14T20:05:30.029Z"
   },
   {
    "duration": 5775,
    "start_time": "2021-07-14T20:05:42.008Z"
   },
   {
    "duration": 1332,
    "start_time": "2021-07-16T05:36:43.336Z"
   },
   {
    "duration": 57,
    "start_time": "2021-07-16T05:36:44.671Z"
   },
   {
    "duration": 66,
    "start_time": "2021-07-16T05:36:44.731Z"
   },
   {
    "duration": 5,
    "start_time": "2021-07-16T05:36:44.800Z"
   },
   {
    "duration": 17,
    "start_time": "2021-07-16T05:36:44.807Z"
   },
   {
    "duration": 64,
    "start_time": "2021-07-16T05:36:44.826Z"
   },
   {
    "duration": 9,
    "start_time": "2021-07-16T05:36:44.892Z"
   },
   {
    "duration": 1558,
    "start_time": "2021-07-16T05:36:44.904Z"
   },
   {
    "duration": 8995,
    "start_time": "2021-07-16T05:36:46.466Z"
   },
   {
    "duration": 1357,
    "start_time": "2021-07-16T05:37:00.623Z"
   },
   {
    "duration": 58,
    "start_time": "2021-07-16T05:37:01.983Z"
   },
   {
    "duration": 66,
    "start_time": "2021-07-16T05:37:02.043Z"
   },
   {
    "duration": 12,
    "start_time": "2021-07-16T05:37:02.112Z"
   },
   {
    "duration": 30,
    "start_time": "2021-07-16T05:37:02.126Z"
   },
   {
    "duration": 48,
    "start_time": "2021-07-16T05:37:02.159Z"
   },
   {
    "duration": 10,
    "start_time": "2021-07-16T05:37:02.210Z"
   },
   {
    "duration": 1628,
    "start_time": "2021-07-16T05:37:02.223Z"
   },
   {
    "duration": 8969,
    "start_time": "2021-07-16T05:37:03.856Z"
   },
   {
    "duration": 12,
    "start_time": "2021-07-16T05:37:50.652Z"
   },
   {
    "duration": 1312,
    "start_time": "2021-07-16T05:37:58.251Z"
   },
   {
    "duration": 57,
    "start_time": "2021-07-16T05:37:59.566Z"
   },
   {
    "duration": 65,
    "start_time": "2021-07-16T05:37:59.625Z"
   },
   {
    "duration": 11,
    "start_time": "2021-07-16T05:37:59.693Z"
   },
   {
    "duration": 51,
    "start_time": "2021-07-16T05:37:59.706Z"
   },
   {
    "duration": 4,
    "start_time": "2021-07-16T05:37:59.759Z"
   },
   {
    "duration": 58,
    "start_time": "2021-07-16T05:37:59.765Z"
   },
   {
    "duration": 10,
    "start_time": "2021-07-16T05:37:59.825Z"
   },
   {
    "duration": 1470,
    "start_time": "2021-07-16T05:37:59.838Z"
   },
   {
    "duration": 8939,
    "start_time": "2021-07-16T05:38:01.310Z"
   },
   {
    "duration": 10,
    "start_time": "2021-07-16T05:40:23.864Z"
   },
   {
    "duration": 1327,
    "start_time": "2021-07-16T05:40:29.462Z"
   },
   {
    "duration": 59,
    "start_time": "2021-07-16T05:40:30.792Z"
   },
   {
    "duration": 61,
    "start_time": "2021-07-16T05:40:30.855Z"
   },
   {
    "duration": 11,
    "start_time": "2021-07-16T05:40:30.919Z"
   },
   {
    "duration": 34,
    "start_time": "2021-07-16T05:40:30.956Z"
   },
   {
    "duration": 11,
    "start_time": "2021-07-16T05:40:30.992Z"
   },
   {
    "duration": 3,
    "start_time": "2021-07-16T05:40:31.005Z"
   },
   {
    "duration": 50,
    "start_time": "2021-07-16T05:40:31.011Z"
   },
   {
    "duration": 55,
    "start_time": "2021-07-16T05:40:31.064Z"
   },
   {
    "duration": 10,
    "start_time": "2021-07-16T05:40:31.121Z"
   },
   {
    "duration": 1451,
    "start_time": "2021-07-16T05:40:31.133Z"
   },
   {
    "duration": 8974,
    "start_time": "2021-07-16T05:40:32.586Z"
   },
   {
    "duration": 1330,
    "start_time": "2021-07-16T05:40:53.233Z"
   },
   {
    "duration": 58,
    "start_time": "2021-07-16T05:40:54.565Z"
   },
   {
    "duration": 62,
    "start_time": "2021-07-16T05:40:54.625Z"
   },
   {
    "duration": 10,
    "start_time": "2021-07-16T05:40:54.690Z"
   },
   {
    "duration": 31,
    "start_time": "2021-07-16T05:40:54.702Z"
   },
   {
    "duration": 55,
    "start_time": "2021-07-16T05:40:54.756Z"
   },
   {
    "duration": 2,
    "start_time": "2021-07-16T05:40:54.813Z"
   },
   {
    "duration": 17,
    "start_time": "2021-07-16T05:40:54.818Z"
   },
   {
    "duration": 58,
    "start_time": "2021-07-16T05:40:54.837Z"
   },
   {
    "duration": 9,
    "start_time": "2021-07-16T05:40:54.897Z"
   },
   {
    "duration": 1507,
    "start_time": "2021-07-16T05:40:54.908Z"
   },
   {
    "duration": 9323,
    "start_time": "2021-07-16T05:40:56.417Z"
   },
   {
    "duration": 413,
    "start_time": "2021-07-16T05:45:21.943Z"
   },
   {
    "duration": 304,
    "start_time": "2021-07-16T05:45:35.142Z"
   },
   {
    "duration": 11,
    "start_time": "2021-07-16T05:45:39.910Z"
   },
   {
    "duration": 1271,
    "start_time": "2021-07-16T05:45:51.512Z"
   },
   {
    "duration": 58,
    "start_time": "2021-07-16T05:45:52.785Z"
   },
   {
    "duration": 57,
    "start_time": "2021-07-16T05:45:52.855Z"
   },
   {
    "duration": 12,
    "start_time": "2021-07-16T05:45:52.916Z"
   },
   {
    "duration": 53,
    "start_time": "2021-07-16T05:45:52.931Z"
   },
   {
    "duration": 80,
    "start_time": "2021-07-16T05:45:52.987Z"
   },
   {
    "duration": 13,
    "start_time": "2021-07-16T05:45:53.069Z"
   },
   {
    "duration": 9,
    "start_time": "2021-07-16T05:45:53.084Z"
   },
   {
    "duration": 429,
    "start_time": "2021-07-16T05:45:53.096Z"
   },
   {
    "duration": 1648,
    "start_time": "2021-07-16T05:45:51.880Z"
   },
   {
    "duration": 1647,
    "start_time": "2021-07-16T05:45:51.882Z"
   },
   {
    "duration": 1645,
    "start_time": "2021-07-16T05:45:51.885Z"
   },
   {
    "duration": 59,
    "start_time": "2021-07-16T05:46:14.381Z"
   },
   {
    "duration": 25,
    "start_time": "2021-07-16T05:46:39.353Z"
   },
   {
    "duration": 34,
    "start_time": "2021-07-16T05:46:52.849Z"
   },
   {
    "duration": 9,
    "start_time": "2021-07-16T05:47:31.304Z"
   },
   {
    "duration": 14,
    "start_time": "2021-07-16T05:47:31.991Z"
   },
   {
    "duration": 12,
    "start_time": "2021-07-16T05:47:35.696Z"
   },
   {
    "duration": 7,
    "start_time": "2021-07-16T06:13:02.583Z"
   },
   {
    "duration": 280,
    "start_time": "2021-07-16T06:13:06.221Z"
   },
   {
    "duration": 9,
    "start_time": "2021-07-16T06:13:10.316Z"
   },
   {
    "duration": 1283,
    "start_time": "2021-07-16T06:14:11.880Z"
   },
   {
    "duration": 58,
    "start_time": "2021-07-16T06:14:13.165Z"
   },
   {
    "duration": 66,
    "start_time": "2021-07-16T06:14:13.226Z"
   },
   {
    "duration": 12,
    "start_time": "2021-07-16T06:14:13.294Z"
   },
   {
    "duration": 9,
    "start_time": "2021-07-16T06:14:13.308Z"
   },
   {
    "duration": 85,
    "start_time": "2021-07-16T06:14:13.320Z"
   },
   {
    "duration": 8,
    "start_time": "2021-07-16T06:14:13.407Z"
   },
   {
    "duration": 13,
    "start_time": "2021-07-16T06:14:13.418Z"
   },
   {
    "duration": 46,
    "start_time": "2021-07-16T06:14:13.458Z"
   },
   {
    "duration": 10,
    "start_time": "2021-07-16T06:14:13.507Z"
   },
   {
    "duration": 1465,
    "start_time": "2021-07-16T06:14:13.519Z"
   },
   {
    "duration": 8850,
    "start_time": "2021-07-16T06:14:14.986Z"
   },
   {
    "duration": 419,
    "start_time": "2021-07-16T06:14:45.095Z"
   },
   {
    "duration": 5,
    "start_time": "2021-07-16T06:14:50.623Z"
   },
   {
    "duration": 13,
    "start_time": "2021-07-16T06:14:53.551Z"
   },
   {
    "duration": 11,
    "start_time": "2021-07-16T06:15:17.303Z"
   },
   {
    "duration": 6,
    "start_time": "2021-07-16T06:15:41.703Z"
   },
   {
    "duration": 7,
    "start_time": "2021-07-16T06:15:51.791Z"
   },
   {
    "duration": 7,
    "start_time": "2021-07-16T06:15:57.726Z"
   },
   {
    "duration": 300,
    "start_time": "2021-07-16T06:16:24.151Z"
   },
   {
    "duration": 7,
    "start_time": "2021-07-16T06:16:40.623Z"
   },
   {
    "duration": 290,
    "start_time": "2021-07-16T06:17:07.854Z"
   },
   {
    "duration": 269,
    "start_time": "2021-07-16T06:17:22.087Z"
   },
   {
    "duration": 322,
    "start_time": "2021-07-16T06:19:13.813Z"
   },
   {
    "duration": 6,
    "start_time": "2021-07-16T06:19:16.102Z"
   },
   {
    "duration": 322,
    "start_time": "2021-07-16T06:19:17.597Z"
   },
   {
    "duration": 7,
    "start_time": "2021-07-16T06:19:21.749Z"
   },
   {
    "duration": 7,
    "start_time": "2021-07-16T06:19:26.974Z"
   },
   {
    "duration": 6,
    "start_time": "2021-07-16T06:19:33.269Z"
   },
   {
    "duration": 7,
    "start_time": "2021-07-16T06:19:35.829Z"
   },
   {
    "duration": 1306,
    "start_time": "2021-07-16T06:19:52.059Z"
   },
   {
    "duration": 59,
    "start_time": "2021-07-16T06:19:53.368Z"
   },
   {
    "duration": 69,
    "start_time": "2021-07-16T06:19:53.430Z"
   },
   {
    "duration": 11,
    "start_time": "2021-07-16T06:19:53.501Z"
   },
   {
    "duration": 43,
    "start_time": "2021-07-16T06:19:53.514Z"
   },
   {
    "duration": 64,
    "start_time": "2021-07-16T06:19:53.559Z"
   },
   {
    "duration": 7,
    "start_time": "2021-07-16T06:19:53.625Z"
   },
   {
    "duration": 31,
    "start_time": "2021-07-16T06:19:53.635Z"
   },
   {
    "duration": 7,
    "start_time": "2021-07-16T06:19:53.668Z"
   },
   {
    "duration": 79,
    "start_time": "2021-07-16T06:19:53.677Z"
   },
   {
    "duration": 9,
    "start_time": "2021-07-16T06:19:53.758Z"
   },
   {
    "duration": 1496,
    "start_time": "2021-07-16T06:19:53.769Z"
   },
   {
    "duration": 9097,
    "start_time": "2021-07-16T06:19:55.268Z"
   },
   {
    "duration": 6,
    "start_time": "2021-07-16T06:20:07.568Z"
   },
   {
    "duration": 7,
    "start_time": "2021-07-16T06:20:10.760Z"
   },
   {
    "duration": 6,
    "start_time": "2021-07-16T06:20:17.448Z"
   },
   {
    "duration": 6,
    "start_time": "2021-07-16T06:20:37.096Z"
   },
   {
    "duration": 32,
    "start_time": "2021-07-16T06:21:42.856Z"
   },
   {
    "duration": 58,
    "start_time": "2021-07-16T06:21:58.312Z"
   },
   {
    "duration": 1288,
    "start_time": "2021-07-16T06:22:04.792Z"
   },
   {
    "duration": 71,
    "start_time": "2021-07-16T06:22:06.082Z"
   },
   {
    "duration": 58,
    "start_time": "2021-07-16T06:22:06.156Z"
   },
   {
    "duration": 11,
    "start_time": "2021-07-16T06:22:06.217Z"
   },
   {
    "duration": 9,
    "start_time": "2021-07-16T06:22:06.256Z"
   },
   {
    "duration": 57,
    "start_time": "2021-07-16T06:22:06.267Z"
   },
   {
    "duration": 29,
    "start_time": "2021-07-16T06:22:06.327Z"
   },
   {
    "duration": 13,
    "start_time": "2021-07-16T06:22:06.358Z"
   },
   {
    "duration": 31,
    "start_time": "2021-07-16T06:22:06.374Z"
   },
   {
    "duration": 5,
    "start_time": "2021-07-16T06:22:06.408Z"
   },
   {
    "duration": 85,
    "start_time": "2021-07-16T06:22:06.415Z"
   },
   {
    "duration": 10,
    "start_time": "2021-07-16T06:22:06.503Z"
   },
   {
    "duration": 1488,
    "start_time": "2021-07-16T06:22:06.515Z"
   },
   {
    "duration": 8864,
    "start_time": "2021-07-16T06:22:08.005Z"
   },
   {
    "duration": 12,
    "start_time": "2021-07-16T06:35:43.734Z"
   },
   {
    "duration": 13,
    "start_time": "2021-07-16T06:35:56.505Z"
   },
   {
    "duration": 1259,
    "start_time": "2021-07-16T06:36:19.011Z"
   },
   {
    "duration": 73,
    "start_time": "2021-07-16T06:36:20.273Z"
   },
   {
    "duration": 60,
    "start_time": "2021-07-16T06:36:20.356Z"
   },
   {
    "duration": 13,
    "start_time": "2021-07-16T06:36:20.420Z"
   },
   {
    "duration": 10,
    "start_time": "2021-07-16T06:36:20.457Z"
   },
   {
    "duration": 61,
    "start_time": "2021-07-16T06:36:20.469Z"
   },
   {
    "duration": 31,
    "start_time": "2021-07-16T06:36:20.532Z"
   },
   {
    "duration": 28,
    "start_time": "2021-07-16T06:36:20.565Z"
   },
   {
    "duration": 40,
    "start_time": "2021-07-16T06:36:20.596Z"
   },
   {
    "duration": 30,
    "start_time": "2021-07-16T06:36:20.638Z"
   },
   {
    "duration": 466,
    "start_time": "2021-07-16T06:36:20.670Z"
   },
   {
    "duration": -28,
    "start_time": "2021-07-16T06:36:21.167Z"
   },
   {
    "duration": -29,
    "start_time": "2021-07-16T06:36:21.170Z"
   },
   {
    "duration": -28,
    "start_time": "2021-07-16T06:36:21.172Z"
   },
   {
    "duration": 359,
    "start_time": "2021-07-16T06:36:58.200Z"
   },
   {
    "duration": 16,
    "start_time": "2021-07-16T06:37:05.208Z"
   },
   {
    "duration": 14,
    "start_time": "2021-07-16T06:37:06.534Z"
   },
   {
    "duration": 8,
    "start_time": "2021-07-16T06:37:20.375Z"
   },
   {
    "duration": 14,
    "start_time": "2021-07-16T06:37:20.719Z"
   },
   {
    "duration": 1338,
    "start_time": "2021-07-16T06:39:37.440Z"
   },
   {
    "duration": 69,
    "start_time": "2021-07-16T06:39:38.781Z"
   },
   {
    "duration": 59,
    "start_time": "2021-07-16T06:39:38.858Z"
   },
   {
    "duration": 38,
    "start_time": "2021-07-16T06:39:38.921Z"
   },
   {
    "duration": 10,
    "start_time": "2021-07-16T06:39:38.962Z"
   },
   {
    "duration": 81,
    "start_time": "2021-07-16T06:39:38.975Z"
   },
   {
    "duration": 9,
    "start_time": "2021-07-16T06:39:39.058Z"
   },
   {
    "duration": 14,
    "start_time": "2021-07-16T06:39:39.069Z"
   },
   {
    "duration": 31,
    "start_time": "2021-07-16T06:39:39.087Z"
   },
   {
    "duration": 37,
    "start_time": "2021-07-16T06:39:39.121Z"
   },
   {
    "duration": 48,
    "start_time": "2021-07-16T06:39:39.160Z"
   },
   {
    "duration": 11,
    "start_time": "2021-07-16T06:39:39.211Z"
   },
   {
    "duration": 1737,
    "start_time": "2021-07-16T06:39:39.224Z"
   },
   {
    "duration": 9543,
    "start_time": "2021-07-16T06:39:40.964Z"
   },
   {
    "duration": 4,
    "start_time": "2021-07-16T06:40:49.055Z"
   },
   {
    "duration": 51,
    "start_time": "2021-07-16T06:40:53.459Z"
   },
   {
    "duration": 389,
    "start_time": "2021-07-16T06:48:44.360Z"
   },
   {
    "duration": 291,
    "start_time": "2021-07-16T06:51:06.369Z"
   },
   {
    "duration": 6,
    "start_time": "2021-07-16T06:51:13.937Z"
   },
   {
    "duration": 4,
    "start_time": "2021-07-16T06:51:34.416Z"
   },
   {
    "duration": 9,
    "start_time": "2021-07-16T06:51:44.665Z"
   },
   {
    "duration": 5,
    "start_time": "2021-07-16T06:51:58.049Z"
   },
   {
    "duration": 33,
    "start_time": "2021-07-16T06:52:15.737Z"
   },
   {
    "duration": 6,
    "start_time": "2021-07-16T06:52:19.653Z"
   },
   {
    "duration": 273,
    "start_time": "2021-07-16T06:57:39.273Z"
   },
   {
    "duration": 10,
    "start_time": "2021-07-16T06:57:42.991Z"
   },
   {
    "duration": 6,
    "start_time": "2021-07-16T06:57:43.670Z"
   },
   {
    "duration": 5,
    "start_time": "2021-07-16T06:57:44.079Z"
   },
   {
    "duration": 292,
    "start_time": "2021-07-16T06:57:44.502Z"
   },
   {
    "duration": 10,
    "start_time": "2021-07-16T06:57:55.927Z"
   },
   {
    "duration": 5,
    "start_time": "2021-07-16T06:57:56.183Z"
   },
   {
    "duration": 5,
    "start_time": "2021-07-16T06:57:56.367Z"
   },
   {
    "duration": 9,
    "start_time": "2021-07-16T06:57:56.670Z"
   },
   {
    "duration": 9,
    "start_time": "2021-07-16T06:57:59.239Z"
   },
   {
    "duration": 295,
    "start_time": "2021-07-16T06:58:24.743Z"
   },
   {
    "duration": 9,
    "start_time": "2021-07-16T06:58:31.247Z"
   },
   {
    "duration": 283,
    "start_time": "2021-07-16T06:58:31.575Z"
   },
   {
    "duration": 5,
    "start_time": "2021-07-16T06:58:42.638Z"
   },
   {
    "duration": 5,
    "start_time": "2021-07-16T06:59:04.335Z"
   },
   {
    "duration": 5,
    "start_time": "2021-07-16T06:59:13.638Z"
   },
   {
    "duration": 292,
    "start_time": "2021-07-16T07:00:11.276Z"
   },
   {
    "duration": 1304,
    "start_time": "2021-07-16T07:02:03.892Z"
   },
   {
    "duration": 62,
    "start_time": "2021-07-16T07:02:05.199Z"
   },
   {
    "duration": 62,
    "start_time": "2021-07-16T07:02:05.267Z"
   },
   {
    "duration": 34,
    "start_time": "2021-07-16T07:02:05.331Z"
   },
   {
    "duration": 11,
    "start_time": "2021-07-16T07:02:05.367Z"
   },
   {
    "duration": 83,
    "start_time": "2021-07-16T07:02:05.380Z"
   },
   {
    "duration": 9,
    "start_time": "2021-07-16T07:02:05.466Z"
   },
   {
    "duration": 22,
    "start_time": "2021-07-16T07:02:05.478Z"
   },
   {
    "duration": 54,
    "start_time": "2021-07-16T07:02:05.502Z"
   },
   {
    "duration": 46,
    "start_time": "2021-07-16T07:02:05.558Z"
   },
   {
    "duration": 5,
    "start_time": "2021-07-16T07:02:05.607Z"
   },
   {
    "duration": 15,
    "start_time": "2021-07-16T07:02:05.615Z"
   },
   {
    "duration": 33,
    "start_time": "2021-07-16T07:02:05.633Z"
   },
   {
    "duration": 6,
    "start_time": "2021-07-16T07:02:05.669Z"
   },
   {
    "duration": 11,
    "start_time": "2021-07-16T07:02:05.677Z"
   },
   {
    "duration": 11,
    "start_time": "2021-07-16T07:02:05.690Z"
   },
   {
    "duration": 12,
    "start_time": "2021-07-16T07:02:05.704Z"
   },
   {
    "duration": 7,
    "start_time": "2021-07-16T07:02:05.719Z"
   },
   {
    "duration": 1203,
    "start_time": "2021-07-16T07:02:05.757Z"
   },
   {
    "duration": 7173,
    "start_time": "2021-07-16T07:02:06.963Z"
   },
   {
    "duration": 5,
    "start_time": "2021-07-16T07:04:23.639Z"
   },
   {
    "duration": 213,
    "start_time": "2021-07-16T07:08:08.247Z"
   },
   {
    "duration": 233,
    "start_time": "2021-07-16T07:08:17.036Z"
   },
   {
    "duration": 379,
    "start_time": "2021-07-16T07:08:57.741Z"
   },
   {
    "duration": 198,
    "start_time": "2021-07-16T07:09:53.060Z"
   },
   {
    "duration": 223,
    "start_time": "2021-07-16T07:24:56.933Z"
   },
   {
    "duration": 219,
    "start_time": "2021-07-16T07:25:06.241Z"
   },
   {
    "duration": 263,
    "start_time": "2021-07-16T07:25:15.696Z"
   },
   {
    "duration": 1184,
    "start_time": "2021-07-16T07:27:54.642Z"
   },
   {
    "duration": 7011,
    "start_time": "2021-07-16T07:27:58.552Z"
   },
   {
    "duration": 1204,
    "start_time": "2021-07-16T07:29:10.468Z"
   },
   {
    "duration": 8,
    "start_time": "2021-07-16T07:30:16.162Z"
   },
   {
    "duration": 16,
    "start_time": "2021-07-16T07:30:37.132Z"
   },
   {
    "duration": 6652,
    "start_time": "2021-07-16T07:31:30.191Z"
   },
   {
    "duration": 7285,
    "start_time": "2021-07-16T07:31:59.702Z"
   },
   {
    "duration": 6671,
    "start_time": "2021-07-16T07:32:10.839Z"
   },
   {
    "duration": 283,
    "start_time": "2021-07-16T07:34:01.624Z"
   },
   {
    "duration": 1170,
    "start_time": "2021-07-16T07:34:06.679Z"
   },
   {
    "duration": 13,
    "start_time": "2021-07-16T07:34:10.878Z"
   },
   {
    "duration": 522,
    "start_time": "2021-07-16T07:38:37.678Z"
   },
   {
    "duration": 4,
    "start_time": "2021-07-16T07:38:54.901Z"
   },
   {
    "duration": 331,
    "start_time": "2021-07-16T07:39:01.134Z"
   },
   {
    "duration": 561,
    "start_time": "2021-07-16T07:39:20.301Z"
   },
   {
    "duration": 70,
    "start_time": "2021-07-16T07:40:24.686Z"
   },
   {
    "duration": 77,
    "start_time": "2021-07-16T07:40:39.405Z"
   },
   {
    "duration": 246,
    "start_time": "2021-07-16T07:41:39.119Z"
   },
   {
    "duration": 236,
    "start_time": "2021-07-16T07:41:47.021Z"
   },
   {
    "duration": 164,
    "start_time": "2021-07-16T07:41:57.005Z"
   },
   {
    "duration": 190,
    "start_time": "2021-07-16T07:42:00.270Z"
   },
   {
    "duration": 253,
    "start_time": "2021-07-16T07:42:04.413Z"
   },
   {
    "duration": 240,
    "start_time": "2021-07-16T07:42:11.120Z"
   },
   {
    "duration": 597,
    "start_time": "2021-07-16T07:42:25.461Z"
   },
   {
    "duration": 807,
    "start_time": "2021-07-16T07:42:40.902Z"
   },
   {
    "duration": 27,
    "start_time": "2021-07-16T07:44:56.473Z"
   },
   {
    "duration": 271,
    "start_time": "2021-07-16T07:48:08.132Z"
   },
   {
    "duration": 274,
    "start_time": "2021-07-16T07:48:10.484Z"
   },
   {
    "duration": 5,
    "start_time": "2021-07-16T07:48:12.055Z"
   },
   {
    "duration": 293,
    "start_time": "2021-07-16T07:48:49.363Z"
   },
   {
    "duration": 6,
    "start_time": "2021-07-16T07:49:04.298Z"
   },
   {
    "duration": 285,
    "start_time": "2021-07-16T07:49:08.803Z"
   },
   {
    "duration": 280,
    "start_time": "2021-07-16T07:49:28.995Z"
   },
   {
    "duration": 281,
    "start_time": "2021-07-16T07:49:39.139Z"
   },
   {
    "duration": 31,
    "start_time": "2021-07-16T07:50:20.227Z"
   },
   {
    "duration": 298,
    "start_time": "2021-07-16T07:50:33.227Z"
   },
   {
    "duration": 306,
    "start_time": "2021-07-16T07:50:57.586Z"
   },
   {
    "duration": 1373,
    "start_time": "2021-07-16T09:40:25.374Z"
   },
   {
    "duration": 60,
    "start_time": "2021-07-16T09:40:26.749Z"
   },
   {
    "duration": 62,
    "start_time": "2021-07-16T09:40:26.812Z"
   },
   {
    "duration": 27,
    "start_time": "2021-07-16T09:40:26.877Z"
   },
   {
    "duration": 11,
    "start_time": "2021-07-16T09:40:26.907Z"
   },
   {
    "duration": 83,
    "start_time": "2021-07-16T09:40:26.920Z"
   },
   {
    "duration": 8,
    "start_time": "2021-07-16T09:40:27.005Z"
   },
   {
    "duration": 13,
    "start_time": "2021-07-16T09:40:27.017Z"
   },
   {
    "duration": 31,
    "start_time": "2021-07-16T09:40:27.033Z"
   },
   {
    "duration": 49,
    "start_time": "2021-07-16T09:40:27.102Z"
   },
   {
    "duration": 54,
    "start_time": "2021-07-16T09:40:27.154Z"
   },
   {
    "duration": 5,
    "start_time": "2021-07-16T09:40:27.212Z"
   },
   {
    "duration": 34,
    "start_time": "2021-07-16T09:40:27.219Z"
   },
   {
    "duration": 5,
    "start_time": "2021-07-16T09:40:27.256Z"
   },
   {
    "duration": 435,
    "start_time": "2021-07-16T09:40:27.264Z"
   },
   {
    "duration": -133,
    "start_time": "2021-07-16T09:40:27.835Z"
   },
   {
    "duration": -135,
    "start_time": "2021-07-16T09:40:27.838Z"
   },
   {
    "duration": -136,
    "start_time": "2021-07-16T09:40:27.841Z"
   },
   {
    "duration": -137,
    "start_time": "2021-07-16T09:40:27.843Z"
   },
   {
    "duration": -138,
    "start_time": "2021-07-16T09:40:27.845Z"
   },
   {
    "duration": -139,
    "start_time": "2021-07-16T09:40:27.848Z"
   },
   {
    "duration": -140,
    "start_time": "2021-07-16T09:40:27.850Z"
   },
   {
    "duration": -141,
    "start_time": "2021-07-16T09:40:27.853Z"
   },
   {
    "duration": -145,
    "start_time": "2021-07-16T09:40:27.858Z"
   },
   {
    "duration": -147,
    "start_time": "2021-07-16T09:40:27.862Z"
   },
   {
    "duration": -149,
    "start_time": "2021-07-16T09:40:27.865Z"
   },
   {
    "duration": -151,
    "start_time": "2021-07-16T09:40:27.868Z"
   },
   {
    "duration": -152,
    "start_time": "2021-07-16T09:40:27.871Z"
   },
   {
    "duration": -153,
    "start_time": "2021-07-16T09:40:27.874Z"
   },
   {
    "duration": -157,
    "start_time": "2021-07-16T09:40:27.879Z"
   },
   {
    "duration": 277,
    "start_time": "2021-07-16T09:43:07.056Z"
   },
   {
    "duration": 23,
    "start_time": "2021-07-16T09:43:26.507Z"
   },
   {
    "duration": 33,
    "start_time": "2021-07-16T09:43:55.724Z"
   },
   {
    "duration": 37,
    "start_time": "2021-07-16T09:44:30.219Z"
   },
   {
    "duration": 12,
    "start_time": "2021-07-16T09:44:31.163Z"
   },
   {
    "duration": 7,
    "start_time": "2021-07-16T09:44:31.651Z"
   },
   {
    "duration": 5,
    "start_time": "2021-07-16T09:44:32.450Z"
   },
   {
    "duration": 8,
    "start_time": "2021-07-16T09:44:32.954Z"
   },
   {
    "duration": 5,
    "start_time": "2021-07-16T09:44:33.299Z"
   },
   {
    "duration": 5,
    "start_time": "2021-07-16T09:44:33.706Z"
   },
   {
    "duration": 1210,
    "start_time": "2021-07-16T09:44:34.531Z"
   },
   {
    "duration": 7271,
    "start_time": "2021-07-16T09:44:42.218Z"
   },
   {
    "duration": 35,
    "start_time": "2021-07-16T09:44:49.492Z"
   },
   {
    "duration": 28,
    "start_time": "2021-07-16T09:44:53.683Z"
   },
   {
    "duration": 1212,
    "start_time": "2021-07-16T09:44:58.802Z"
   },
   {
    "duration": 7013,
    "start_time": "2021-07-16T09:45:00.017Z"
   },
   {
    "duration": 296,
    "start_time": "2021-07-16T09:45:15.155Z"
   },
   {
    "duration": 163,
    "start_time": "2021-07-16T09:45:27.443Z"
   },
   {
    "duration": 25,
    "start_time": "2021-07-16T10:09:04.849Z"
   },
   {
    "duration": 297,
    "start_time": "2021-07-16T10:14:33.966Z"
   },
   {
    "duration": 5,
    "start_time": "2021-07-16T10:14:46.944Z"
   },
   {
    "duration": 9,
    "start_time": "2021-07-16T10:14:51.676Z"
   },
   {
    "duration": 9,
    "start_time": "2021-07-16T10:16:23.589Z"
   },
   {
    "duration": 1245,
    "start_time": "2021-07-16T10:16:36.842Z"
   },
   {
    "duration": 17,
    "start_time": "2021-07-16T10:16:38.089Z"
   },
   {
    "duration": 7622,
    "start_time": "2021-07-16T10:16:39.941Z"
   },
   {
    "duration": 52,
    "start_time": "2021-07-16T10:16:47.567Z"
   },
   {
    "duration": 33,
    "start_time": "2021-07-16T10:16:54.876Z"
   },
   {
    "duration": 38,
    "start_time": "2021-07-16T10:16:55.277Z"
   },
   {
    "duration": 34,
    "start_time": "2021-07-16T10:17:16.054Z"
   },
   {
    "duration": 14,
    "start_time": "2021-07-16T10:17:17.757Z"
   },
   {
    "duration": 1241,
    "start_time": "2021-07-16T10:17:21.005Z"
   },
   {
    "duration": 77,
    "start_time": "2021-07-16T10:17:23.524Z"
   },
   {
    "duration": 7300,
    "start_time": "2021-07-16T10:17:40.717Z"
   },
   {
    "duration": 13,
    "start_time": "2021-07-16T10:17:52.397Z"
   },
   {
    "duration": 14,
    "start_time": "2021-07-16T10:18:17.260Z"
   },
   {
    "duration": 7,
    "start_time": "2021-07-16T10:21:42.414Z"
   },
   {
    "duration": 3,
    "start_time": "2021-07-16T10:22:28.621Z"
   },
   {
    "duration": 34,
    "start_time": "2021-07-16T10:23:15.320Z"
   },
   {
    "duration": 29,
    "start_time": "2021-07-16T10:23:30.501Z"
   },
   {
    "duration": 5,
    "start_time": "2021-07-16T10:23:41.619Z"
   },
   {
    "duration": 40,
    "start_time": "2021-07-16T10:23:42.203Z"
   },
   {
    "duration": 19,
    "start_time": "2021-07-16T10:23:42.947Z"
   },
   {
    "duration": 13,
    "start_time": "2021-07-16T10:25:23.166Z"
   },
   {
    "duration": 61,
    "start_time": "2021-07-16T10:25:25.394Z"
   },
   {
    "duration": 313,
    "start_time": "2021-07-16T10:30:47.395Z"
   },
   {
    "duration": 29,
    "start_time": "2021-07-16T10:30:55.872Z"
   },
   {
    "duration": 28,
    "start_time": "2021-07-16T10:31:00.865Z"
   },
   {
    "duration": 4,
    "start_time": "2021-07-16T10:31:04.735Z"
   },
   {
    "duration": 294,
    "start_time": "2021-07-16T10:31:06.247Z"
   },
   {
    "duration": 26,
    "start_time": "2021-07-16T10:31:15.024Z"
   },
   {
    "duration": 28,
    "start_time": "2021-07-16T10:31:19.776Z"
   },
   {
    "duration": 28,
    "start_time": "2021-07-16T10:31:33.616Z"
   },
   {
    "duration": 494,
    "start_time": "2021-07-16T10:31:56.647Z"
   },
   {
    "duration": 30,
    "start_time": "2021-07-16T10:32:20.519Z"
   },
   {
    "duration": 9,
    "start_time": "2021-07-16T10:32:35.823Z"
   },
   {
    "duration": 6,
    "start_time": "2021-07-16T10:32:36.062Z"
   },
   {
    "duration": 6,
    "start_time": "2021-07-16T10:32:36.310Z"
   },
   {
    "duration": 8,
    "start_time": "2021-07-16T10:32:36.607Z"
   },
   {
    "duration": 6,
    "start_time": "2021-07-16T10:32:36.855Z"
   },
   {
    "duration": 5,
    "start_time": "2021-07-16T10:32:37.174Z"
   },
   {
    "duration": 1065,
    "start_time": "2021-07-16T10:32:38.224Z"
   },
   {
    "duration": 9,
    "start_time": "2021-07-16T10:32:44.118Z"
   },
   {
    "duration": 6986,
    "start_time": "2021-07-16T10:32:46.967Z"
   },
   {
    "duration": 30,
    "start_time": "2021-07-16T10:32:56.654Z"
   },
   {
    "duration": 89,
    "start_time": "2021-07-16T10:32:58.815Z"
   },
   {
    "duration": 12,
    "start_time": "2021-07-16T10:33:00.806Z"
   },
   {
    "duration": 95,
    "start_time": "2021-07-16T10:33:07.206Z"
   },
   {
    "duration": 13,
    "start_time": "2021-07-16T10:33:09.462Z"
   },
   {
    "duration": 1198,
    "start_time": "2021-07-16T10:33:11.191Z"
   },
   {
    "duration": 101,
    "start_time": "2021-07-16T10:33:14.502Z"
   },
   {
    "duration": 7195,
    "start_time": "2021-07-16T10:33:16.104Z"
   },
   {
    "duration": 24,
    "start_time": "2021-07-16T10:33:27.295Z"
   },
   {
    "duration": 283,
    "start_time": "2021-07-16T10:33:29.462Z"
   },
   {
    "duration": 102,
    "start_time": "2021-07-16T10:33:31.207Z"
   },
   {
    "duration": 13,
    "start_time": "2021-07-16T10:33:33.278Z"
   },
   {
    "duration": 8,
    "start_time": "2021-07-16T10:34:09.111Z"
   },
   {
    "duration": 9,
    "start_time": "2021-07-16T10:34:22.542Z"
   },
   {
    "duration": 73978,
    "start_time": "2021-07-16T10:35:12.190Z"
   },
   {
    "duration": 4,
    "start_time": "2021-07-16T10:37:02.714Z"
   },
   {
    "duration": 6,
    "start_time": "2021-07-16T10:37:32.253Z"
   },
   {
    "duration": 4,
    "start_time": "2021-07-16T10:37:55.133Z"
   },
   {
    "duration": 5,
    "start_time": "2021-07-16T10:37:56.685Z"
   },
   {
    "duration": 4,
    "start_time": "2021-07-16T10:39:04.725Z"
   },
   {
    "duration": 6,
    "start_time": "2021-07-16T10:39:06.092Z"
   },
   {
    "duration": 4,
    "start_time": "2021-07-16T10:39:08.533Z"
   },
   {
    "duration": 3,
    "start_time": "2021-07-16T10:39:08.932Z"
   },
   {
    "duration": 7401,
    "start_time": "2021-07-16T10:39:10.170Z"
   },
   {
    "duration": 56,
    "start_time": "2021-07-16T10:39:19.221Z"
   },
   {
    "duration": 8,
    "start_time": "2021-07-16T10:39:33.844Z"
   },
   {
    "duration": 15,
    "start_time": "2021-07-16T10:39:46.301Z"
   },
   {
    "duration": 34,
    "start_time": "2021-07-16T10:39:52.514Z"
   },
   {
    "duration": 48,
    "start_time": "2021-07-16T10:40:00.126Z"
   },
   {
    "duration": 29,
    "start_time": "2021-07-16T10:40:01.757Z"
   },
   {
    "duration": 6,
    "start_time": "2021-07-16T10:40:01.853Z"
   },
   {
    "duration": 330,
    "start_time": "2021-07-16T10:40:02.884Z"
   },
   {
    "duration": 28,
    "start_time": "2021-07-16T10:40:16.476Z"
   },
   {
    "duration": 4,
    "start_time": "2021-07-16T10:40:21.982Z"
   },
   {
    "duration": 3,
    "start_time": "2021-07-16T10:41:14.372Z"
   },
   {
    "duration": 6,
    "start_time": "2021-07-16T10:42:48.933Z"
   },
   {
    "duration": 4,
    "start_time": "2021-07-16T10:42:49.828Z"
   },
   {
    "duration": 19,
    "start_time": "2021-07-16T10:43:12.019Z"
   },
   {
    "duration": 9,
    "start_time": "2021-07-16T10:44:25.688Z"
   },
   {
    "duration": 15,
    "start_time": "2021-07-16T10:44:26.003Z"
   },
   {
    "duration": 20,
    "start_time": "2021-07-16T10:44:39.868Z"
   },
   {
    "duration": 8,
    "start_time": "2021-07-16T10:44:54.268Z"
   },
   {
    "duration": 13,
    "start_time": "2021-07-16T10:45:07.650Z"
   },
   {
    "duration": 3,
    "start_time": "2021-07-16T10:45:54.282Z"
   },
   {
    "duration": 22,
    "start_time": "2021-07-16T10:46:28.374Z"
   },
   {
    "duration": 23,
    "start_time": "2021-07-16T10:46:35.355Z"
   },
   {
    "duration": 1332,
    "start_time": "2021-07-16T10:47:13.910Z"
   },
   {
    "duration": 37,
    "start_time": "2021-07-16T10:47:15.244Z"
   },
   {
    "duration": 28,
    "start_time": "2021-07-16T10:47:15.284Z"
   },
   {
    "duration": 64,
    "start_time": "2021-07-16T10:47:15.314Z"
   },
   {
    "duration": 27,
    "start_time": "2021-07-16T10:47:15.381Z"
   },
   {
    "duration": 5,
    "start_time": "2021-07-16T10:47:15.411Z"
   },
   {
    "duration": 5,
    "start_time": "2021-07-16T10:47:15.419Z"
   },
   {
    "duration": 19,
    "start_time": "2021-07-16T10:47:15.428Z"
   },
   {
    "duration": 50,
    "start_time": "2021-07-16T10:47:15.450Z"
   },
   {
    "duration": 12,
    "start_time": "2021-07-16T10:47:15.503Z"
   },
   {
    "duration": 54,
    "start_time": "2021-07-16T10:47:15.517Z"
   },
   {
    "duration": 38,
    "start_time": "2021-07-16T10:47:15.573Z"
   },
   {
    "duration": 26,
    "start_time": "2021-07-16T10:47:15.613Z"
   },
   {
    "duration": 19,
    "start_time": "2021-07-16T10:47:15.641Z"
   },
   {
    "duration": 420,
    "start_time": "2021-07-16T10:47:15.662Z"
   },
   {
    "duration": -115,
    "start_time": "2021-07-16T10:47:16.200Z"
   },
   {
    "duration": -117,
    "start_time": "2021-07-16T10:47:16.204Z"
   },
   {
    "duration": -118,
    "start_time": "2021-07-16T10:47:16.206Z"
   },
   {
    "duration": -120,
    "start_time": "2021-07-16T10:47:16.209Z"
   },
   {
    "duration": -122,
    "start_time": "2021-07-16T10:47:16.212Z"
   },
   {
    "duration": -134,
    "start_time": "2021-07-16T10:47:16.225Z"
   },
   {
    "duration": -135,
    "start_time": "2021-07-16T10:47:16.228Z"
   },
   {
    "duration": -137,
    "start_time": "2021-07-16T10:47:16.232Z"
   },
   {
    "duration": -138,
    "start_time": "2021-07-16T10:47:16.234Z"
   },
   {
    "duration": -141,
    "start_time": "2021-07-16T10:47:16.238Z"
   },
   {
    "duration": -142,
    "start_time": "2021-07-16T10:47:16.241Z"
   },
   {
    "duration": -143,
    "start_time": "2021-07-16T10:47:16.243Z"
   },
   {
    "duration": -147,
    "start_time": "2021-07-16T10:47:16.248Z"
   },
   {
    "duration": -148,
    "start_time": "2021-07-16T10:47:16.251Z"
   },
   {
    "duration": -150,
    "start_time": "2021-07-16T10:47:16.254Z"
   },
   {
    "duration": -151,
    "start_time": "2021-07-16T10:47:16.257Z"
   },
   {
    "duration": -152,
    "start_time": "2021-07-16T10:47:16.260Z"
   },
   {
    "duration": -154,
    "start_time": "2021-07-16T10:47:16.263Z"
   },
   {
    "duration": -155,
    "start_time": "2021-07-16T10:47:16.266Z"
   },
   {
    "duration": -158,
    "start_time": "2021-07-16T10:47:16.270Z"
   },
   {
    "duration": -160,
    "start_time": "2021-07-16T10:47:16.273Z"
   },
   {
    "duration": 3,
    "start_time": "2021-07-16T10:50:32.810Z"
   },
   {
    "duration": 47,
    "start_time": "2021-07-16T10:51:21.557Z"
   },
   {
    "duration": 23,
    "start_time": "2021-07-16T10:51:30.650Z"
   },
   {
    "duration": 31,
    "start_time": "2021-07-16T10:51:57.190Z"
   },
   {
    "duration": 24,
    "start_time": "2021-07-16T10:52:46.589Z"
   },
   {
    "duration": 4,
    "start_time": "2021-07-16T10:52:49.889Z"
   },
   {
    "duration": 302,
    "start_time": "2021-07-16T10:52:54.476Z"
   },
   {
    "duration": 30,
    "start_time": "2021-07-16T10:53:40.984Z"
   },
   {
    "duration": 4,
    "start_time": "2021-07-16T10:54:39.579Z"
   },
   {
    "duration": 5,
    "start_time": "2021-07-16T10:55:17.530Z"
   },
   {
    "duration": 22,
    "start_time": "2021-07-16T10:55:35.268Z"
   },
   {
    "duration": 4,
    "start_time": "2021-07-16T10:56:03.492Z"
   },
   {
    "duration": 3,
    "start_time": "2021-07-16T10:56:20.276Z"
   },
   {
    "duration": 3,
    "start_time": "2021-07-16T10:57:58.733Z"
   },
   {
    "duration": 3,
    "start_time": "2021-07-16T11:00:58.280Z"
   },
   {
    "duration": 4,
    "start_time": "2021-07-16T11:01:05.831Z"
   },
   {
    "duration": 4,
    "start_time": "2021-07-16T11:02:09.530Z"
   },
   {
    "duration": 4,
    "start_time": "2021-07-16T11:02:09.754Z"
   },
   {
    "duration": 4,
    "start_time": "2021-07-16T11:02:09.930Z"
   },
   {
    "duration": 14,
    "start_time": "2021-07-16T11:02:24.946Z"
   },
   {
    "duration": 17,
    "start_time": "2021-07-16T11:02:27.266Z"
   },
   {
    "duration": 12,
    "start_time": "2021-07-16T11:03:00.447Z"
   },
   {
    "duration": 9,
    "start_time": "2021-07-16T11:03:00.801Z"
   },
   {
    "duration": 14,
    "start_time": "2021-07-16T11:03:11.017Z"
   },
   {
    "duration": 3,
    "start_time": "2021-07-16T11:03:22.571Z"
   },
   {
    "duration": 4,
    "start_time": "2021-07-16T11:03:23.090Z"
   },
   {
    "duration": 4,
    "start_time": "2021-07-16T11:03:23.673Z"
   },
   {
    "duration": 12,
    "start_time": "2021-07-16T11:03:24.562Z"
   },
   {
    "duration": 9,
    "start_time": "2021-07-16T11:03:25.914Z"
   },
   {
    "duration": 13,
    "start_time": "2021-07-16T11:03:26.801Z"
   },
   {
    "duration": 8,
    "start_time": "2021-07-16T11:03:42.377Z"
   },
   {
    "duration": 6,
    "start_time": "2021-07-16T11:03:42.898Z"
   },
   {
    "duration": 5,
    "start_time": "2021-07-16T11:03:43.546Z"
   },
   {
    "duration": 11,
    "start_time": "2021-07-16T11:03:44.754Z"
   },
   {
    "duration": 5,
    "start_time": "2021-07-16T11:03:45.361Z"
   },
   {
    "duration": 5,
    "start_time": "2021-07-16T11:03:45.945Z"
   },
   {
    "duration": 8250,
    "start_time": "2021-07-16T11:03:55.610Z"
   },
   {
    "duration": 15753,
    "start_time": "2021-07-16T11:04:59.092Z"
   },
   {
    "duration": 25,
    "start_time": "2021-07-16T11:06:24.713Z"
   },
   {
    "duration": 5,
    "start_time": "2021-07-16T11:06:28.466Z"
   },
   {
    "duration": 18624,
    "start_time": "2021-07-16T11:08:56.203Z"
   },
   {
    "duration": 16541,
    "start_time": "2021-07-16T11:11:41.363Z"
   },
   {
    "duration": 20691,
    "start_time": "2021-07-16T11:12:09.089Z"
   },
   {
    "duration": 16590,
    "start_time": "2021-07-16T11:13:24.601Z"
   },
   {
    "duration": 8,
    "start_time": "2021-07-16T11:15:50.665Z"
   },
   {
    "duration": 5,
    "start_time": "2021-07-16T11:15:51.054Z"
   },
   {
    "duration": 6,
    "start_time": "2021-07-16T11:15:51.479Z"
   },
   {
    "duration": 8,
    "start_time": "2021-07-16T11:15:52.078Z"
   },
   {
    "duration": 6,
    "start_time": "2021-07-16T11:15:52.622Z"
   },
   {
    "duration": 6,
    "start_time": "2021-07-16T11:15:53.071Z"
   },
   {
    "duration": 17696,
    "start_time": "2021-07-16T11:16:02.287Z"
   },
   {
    "duration": 16447,
    "start_time": "2021-07-16T11:16:35.431Z"
   },
   {
    "duration": 8,
    "start_time": "2021-07-16T11:17:16.748Z"
   },
   {
    "duration": 6,
    "start_time": "2021-07-16T11:17:17.406Z"
   },
   {
    "duration": 6,
    "start_time": "2021-07-16T11:17:18.757Z"
   },
   {
    "duration": 8,
    "start_time": "2021-07-16T11:17:19.526Z"
   },
   {
    "duration": 6,
    "start_time": "2021-07-16T11:17:19.910Z"
   },
   {
    "duration": 6,
    "start_time": "2021-07-16T11:17:21.742Z"
   },
   {
    "duration": 1288,
    "start_time": "2021-07-16T11:17:38.636Z"
   },
   {
    "duration": 36,
    "start_time": "2021-07-16T11:17:39.926Z"
   },
   {
    "duration": 26,
    "start_time": "2021-07-16T11:17:39.965Z"
   },
   {
    "duration": 64,
    "start_time": "2021-07-16T11:17:39.994Z"
   },
   {
    "duration": 11,
    "start_time": "2021-07-16T11:17:40.061Z"
   },
   {
    "duration": 30,
    "start_time": "2021-07-16T11:17:40.075Z"
   },
   {
    "duration": 24,
    "start_time": "2021-07-16T11:17:40.107Z"
   },
   {
    "duration": 43,
    "start_time": "2021-07-16T11:17:40.133Z"
   },
   {
    "duration": 26,
    "start_time": "2021-07-16T11:17:40.180Z"
   },
   {
    "duration": 25,
    "start_time": "2021-07-16T11:17:40.209Z"
   },
   {
    "duration": 19,
    "start_time": "2021-07-16T11:17:40.237Z"
   },
   {
    "duration": 62,
    "start_time": "2021-07-16T11:17:40.258Z"
   },
   {
    "duration": 21,
    "start_time": "2021-07-16T11:17:40.323Z"
   },
   {
    "duration": 25,
    "start_time": "2021-07-16T11:17:40.346Z"
   },
   {
    "duration": 38,
    "start_time": "2021-07-16T11:17:40.374Z"
   },
   {
    "duration": 15,
    "start_time": "2021-07-16T11:17:40.415Z"
   },
   {
    "duration": 10,
    "start_time": "2021-07-16T11:17:40.433Z"
   },
   {
    "duration": 17,
    "start_time": "2021-07-16T11:17:40.445Z"
   },
   {
    "duration": 19,
    "start_time": "2021-07-16T11:17:40.464Z"
   },
   {
    "duration": 36,
    "start_time": "2021-07-16T11:17:40.485Z"
   },
   {
    "duration": 14,
    "start_time": "2021-07-16T11:17:40.524Z"
   },
   {
    "duration": 29,
    "start_time": "2021-07-16T11:17:40.540Z"
   },
   {
    "duration": 15,
    "start_time": "2021-07-16T11:17:40.572Z"
   },
   {
    "duration": 12,
    "start_time": "2021-07-16T11:17:40.589Z"
   },
   {
    "duration": 18,
    "start_time": "2021-07-16T11:17:40.604Z"
   },
   {
    "duration": 24,
    "start_time": "2021-07-16T11:17:40.625Z"
   },
   {
    "duration": 10,
    "start_time": "2021-07-16T11:17:40.656Z"
   },
   {
    "duration": 19,
    "start_time": "2021-07-16T11:17:40.670Z"
   },
   {
    "duration": 431,
    "start_time": "2021-07-16T11:17:40.692Z"
   },
   {
    "duration": -117,
    "start_time": "2021-07-16T11:17:41.244Z"
   },
   {
    "duration": -119,
    "start_time": "2021-07-16T11:17:41.248Z"
   },
   {
    "duration": -121,
    "start_time": "2021-07-16T11:17:41.252Z"
   },
   {
    "duration": -122,
    "start_time": "2021-07-16T11:17:41.256Z"
   },
   {
    "duration": -123,
    "start_time": "2021-07-16T11:17:41.259Z"
   },
   {
    "duration": -124,
    "start_time": "2021-07-16T11:17:41.262Z"
   },
   {
    "duration": -125,
    "start_time": "2021-07-16T11:17:41.265Z"
   },
   {
    "duration": -129,
    "start_time": "2021-07-16T11:17:41.271Z"
   },
   {
    "duration": -132,
    "start_time": "2021-07-16T11:17:41.275Z"
   },
   {
    "duration": -134,
    "start_time": "2021-07-16T11:17:41.278Z"
   },
   {
    "duration": -136,
    "start_time": "2021-07-16T11:17:41.282Z"
   },
   {
    "duration": -139,
    "start_time": "2021-07-16T11:17:41.286Z"
   },
   {
    "duration": -142,
    "start_time": "2021-07-16T11:17:41.290Z"
   },
   {
    "duration": -145,
    "start_time": "2021-07-16T11:17:41.295Z"
   },
   {
    "duration": -146,
    "start_time": "2021-07-16T11:17:41.297Z"
   },
   {
    "duration": 15765,
    "start_time": "2021-07-16T11:18:11.078Z"
   },
   {
    "duration": 9,
    "start_time": "2021-07-16T11:18:35.925Z"
   },
   {
    "duration": 7288,
    "start_time": "2021-07-16T11:18:38.325Z"
   },
   {
    "duration": 7246,
    "start_time": "2021-07-16T11:18:54.831Z"
   },
   {
    "duration": 43,
    "start_time": "2021-07-16T11:19:02.081Z"
   },
   {
    "duration": 77,
    "start_time": "2021-07-16T11:19:02.128Z"
   },
   {
    "duration": 102,
    "start_time": "2021-07-16T11:19:02.209Z"
   },
   {
    "duration": 28,
    "start_time": "2021-07-16T11:19:06.862Z"
   },
   {
    "duration": 94,
    "start_time": "2021-07-16T11:19:17.205Z"
   },
   {
    "duration": 13,
    "start_time": "2021-07-16T11:19:17.814Z"
   },
   {
    "duration": 366,
    "start_time": "2021-07-16T11:19:19.157Z"
   },
   {
    "duration": 16095,
    "start_time": "2021-07-16T11:19:25.293Z"
   },
   {
    "duration": 10,
    "start_time": "2021-07-16T11:19:46.229Z"
   },
   {
    "duration": 6959,
    "start_time": "2021-07-16T11:19:47.070Z"
   },
   {
    "duration": 10,
    "start_time": "2021-07-16T11:20:09.957Z"
   },
   {
    "duration": 286,
    "start_time": "2021-07-16T11:20:14.668Z"
   },
   {
    "duration": 189,
    "start_time": "2021-07-16T11:20:19.517Z"
   },
   {
    "duration": 289,
    "start_time": "2021-07-16T11:20:23.405Z"
   },
   {
    "duration": 67,
    "start_time": "2021-07-16T11:20:27.396Z"
   },
   {
    "duration": 81,
    "start_time": "2021-07-16T11:21:42.129Z"
   },
   {
    "duration": 7120,
    "start_time": "2021-07-16T11:22:39.788Z"
   },
   {
    "duration": 65,
    "start_time": "2021-07-16T11:23:07.945Z"
   },
   {
    "duration": 63,
    "start_time": "2021-07-16T11:23:27.748Z"
   },
   {
    "duration": 65,
    "start_time": "2021-07-16T11:23:28.612Z"
   },
   {
    "duration": 86,
    "start_time": "2021-07-16T11:23:40.260Z"
   },
   {
    "duration": 73,
    "start_time": "2021-07-16T11:23:42.926Z"
   },
   {
    "duration": 66,
    "start_time": "2021-07-16T11:23:49.148Z"
   },
   {
    "duration": 7438,
    "start_time": "2021-07-16T11:24:16.452Z"
   },
   {
    "duration": 6877,
    "start_time": "2021-07-16T11:24:24.796Z"
   },
   {
    "duration": 65,
    "start_time": "2021-07-16T11:24:48.804Z"
   },
   {
    "duration": 66,
    "start_time": "2021-07-16T11:24:59.275Z"
   },
   {
    "duration": 522,
    "start_time": "2021-07-16T11:25:06.883Z"
   },
   {
    "duration": 51,
    "start_time": "2021-07-16T11:25:43.036Z"
   },
   {
    "duration": 66,
    "start_time": "2021-07-16T11:25:47.555Z"
   },
   {
    "duration": 519,
    "start_time": "2021-07-16T11:25:48.098Z"
   },
   {
    "duration": 5,
    "start_time": "2021-07-16T11:26:32.442Z"
   },
   {
    "duration": 5,
    "start_time": "2021-07-16T11:26:33.458Z"
   },
   {
    "duration": 5,
    "start_time": "2021-07-16T11:26:34.483Z"
   },
   {
    "duration": 5,
    "start_time": "2021-07-16T11:26:45.875Z"
   },
   {
    "duration": 6,
    "start_time": "2021-07-16T11:34:52.651Z"
   },
   {
    "duration": 29,
    "start_time": "2021-07-16T11:35:00.841Z"
   },
   {
    "duration": 26,
    "start_time": "2021-07-16T11:35:18.633Z"
   },
   {
    "duration": 238,
    "start_time": "2021-07-16T11:35:40.594Z"
   },
   {
    "duration": 253,
    "start_time": "2021-07-16T11:35:45.801Z"
   },
   {
    "duration": 52,
    "start_time": "2021-07-16T11:37:23.050Z"
   },
   {
    "duration": 35231,
    "start_time": "2021-07-16T11:37:37.929Z"
   },
   {
    "duration": 16335,
    "start_time": "2021-07-16T11:38:30.873Z"
   },
   {
    "duration": 12011,
    "start_time": "2021-07-16T11:39:19.001Z"
   },
   {
    "duration": 1039,
    "start_time": "2021-07-16T11:41:42.210Z"
   },
   {
    "duration": 112873,
    "start_time": "2021-07-16T11:42:01.912Z"
   },
   {
    "duration": 62307,
    "start_time": "2021-07-16T11:44:13.269Z"
   },
   {
    "duration": 61886,
    "start_time": "2021-07-16T11:47:38.064Z"
   },
   {
    "duration": 55,
    "start_time": "2021-07-16T11:52:10.159Z"
   },
   {
    "duration": 129,
    "start_time": "2021-07-16T11:52:20.093Z"
   },
   {
    "duration": 55,
    "start_time": "2021-07-16T11:52:30.182Z"
   },
   {
    "duration": 62029,
    "start_time": "2021-07-16T11:53:26.790Z"
   },
   {
    "duration": 9,
    "start_time": "2021-07-16T11:57:24.589Z"
   },
   {
    "duration": 8,
    "start_time": "2021-07-16T11:57:24.811Z"
   },
   {
    "duration": 5,
    "start_time": "2021-07-16T11:57:25.092Z"
   },
   {
    "duration": 5,
    "start_time": "2021-07-16T11:57:25.372Z"
   },
   {
    "duration": 6,
    "start_time": "2021-07-16T11:57:25.651Z"
   },
   {
    "duration": 5,
    "start_time": "2021-07-16T11:57:26.116Z"
   },
   {
    "duration": 15915,
    "start_time": "2021-07-16T11:57:55.372Z"
   },
   {
    "duration": 15309,
    "start_time": "2021-07-16T11:58:25.084Z"
   },
   {
    "duration": 15608,
    "start_time": "2021-07-16T11:58:57.140Z"
   },
   {
    "duration": 8,
    "start_time": "2021-07-16T11:59:12.750Z"
   },
   {
    "duration": 9,
    "start_time": "2021-07-16T11:59:25.131Z"
   },
   {
    "duration": 7388,
    "start_time": "2021-07-16T11:59:26.020Z"
   },
   {
    "duration": 8857,
    "start_time": "2021-07-16T11:59:37.580Z"
   },
   {
    "duration": 29,
    "start_time": "2021-07-16T11:59:49.011Z"
   },
   {
    "duration": 33,
    "start_time": "2021-07-16T11:59:50.483Z"
   },
   {
    "duration": 13,
    "start_time": "2021-07-16T11:59:51.740Z"
   },
   {
    "duration": 49,
    "start_time": "2021-07-16T12:00:17.476Z"
   },
   {
    "duration": 28,
    "start_time": "2021-07-16T12:00:22.371Z"
   },
   {
    "duration": 29,
    "start_time": "2021-07-16T12:00:23.468Z"
   },
   {
    "duration": 91,
    "start_time": "2021-07-16T12:00:28.611Z"
   },
   {
    "duration": 266,
    "start_time": "2021-07-16T12:00:39.660Z"
   },
   {
    "duration": 70,
    "start_time": "2021-07-16T12:00:44.531Z"
   },
   {
    "duration": 35,
    "start_time": "2021-07-16T12:00:59.868Z"
   },
   {
    "duration": 5408,
    "start_time": "2021-07-16T12:01:42.412Z"
   },
   {
    "duration": 104709,
    "start_time": "2021-07-16T12:02:01.213Z"
   },
   {
    "duration": 21253,
    "start_time": "2021-07-16T12:04:38.426Z"
   },
   {
    "duration": 11444,
    "start_time": "2021-07-16T12:05:12.194Z"
   },
   {
    "duration": 11734,
    "start_time": "2021-07-16T12:05:48.811Z"
   },
   {
    "duration": 22775,
    "start_time": "2021-07-16T12:06:06.026Z"
   },
   {
    "duration": 26,
    "start_time": "2021-07-16T12:06:50.838Z"
   },
   {
    "duration": 225,
    "start_time": "2021-07-16T13:59:06.290Z"
   },
   {
    "duration": 7468,
    "start_time": "2021-07-16T14:01:22.775Z"
   },
   {
    "duration": 9425,
    "start_time": "2021-07-16T14:01:38.167Z"
   },
   {
    "duration": 16756,
    "start_time": "2021-07-16T14:02:49.991Z"
   },
   {
    "duration": 16348,
    "start_time": "2021-07-16T14:03:22.726Z"
   },
   {
    "duration": 867,
    "start_time": "2021-07-16T14:09:28.278Z"
   },
   {
    "duration": 6,
    "start_time": "2021-07-16T14:09:46.270Z"
   },
   {
    "duration": 619,
    "start_time": "2021-07-16T14:09:55.525Z"
   },
   {
    "duration": 431,
    "start_time": "2021-07-16T14:10:29.461Z"
   },
   {
    "duration": 529,
    "start_time": "2021-07-16T14:10:38.453Z"
   },
   {
    "duration": 392,
    "start_time": "2021-07-16T14:10:55.133Z"
   },
   {
    "duration": 17230,
    "start_time": "2021-07-16T14:11:29.685Z"
   },
   {
    "duration": 16965,
    "start_time": "2021-07-16T14:11:59.684Z"
   },
   {
    "duration": 16757,
    "start_time": "2021-07-16T14:12:46.565Z"
   },
   {
    "duration": 22476,
    "start_time": "2021-07-16T14:13:38.037Z"
   },
   {
    "duration": 26239,
    "start_time": "2021-07-16T14:14:21.076Z"
   },
   {
    "duration": 7434,
    "start_time": "2021-07-16T14:15:16.221Z"
   },
   {
    "duration": 7397,
    "start_time": "2021-07-16T14:15:31.484Z"
   },
   {
    "duration": 274,
    "start_time": "2021-07-16T14:16:08.771Z"
   },
   {
    "duration": 11179,
    "start_time": "2021-07-16T14:16:13.188Z"
   },
   {
    "duration": 9949,
    "start_time": "2021-07-16T14:16:35.028Z"
   },
   {
    "duration": 27248,
    "start_time": "2021-07-16T14:16:57.116Z"
   },
   {
    "duration": 34420,
    "start_time": "2021-07-16T14:17:27.387Z"
   },
   {
    "duration": 69041,
    "start_time": "2021-07-16T14:18:19.546Z"
   },
   {
    "duration": 1268,
    "start_time": "2021-07-16T14:19:46.363Z"
   },
   {
    "duration": 1529,
    "start_time": "2021-07-16T14:20:17.642Z"
   },
   {
    "duration": 1249,
    "start_time": "2021-07-16T14:20:27.114Z"
   },
   {
    "duration": 1468,
    "start_time": "2021-07-16T14:22:17.168Z"
   },
   {
    "duration": 101,
    "start_time": "2021-07-16T14:23:37.908Z"
   },
   {
    "duration": 94,
    "start_time": "2021-07-16T14:23:48.569Z"
   },
   {
    "duration": 92,
    "start_time": "2021-07-16T14:24:07.857Z"
   },
   {
    "duration": 516243,
    "start_time": "2021-07-16T14:24:20.178Z"
   },
   {
    "duration": 8682,
    "start_time": "2021-07-16T14:33:02.189Z"
   },
   {
    "duration": 133,
    "start_time": "2021-07-16T14:34:12.895Z"
   },
   {
    "duration": 106,
    "start_time": "2021-07-16T14:34:31.808Z"
   },
   {
    "duration": 155,
    "start_time": "2021-07-16T14:34:42.958Z"
   },
   {
    "duration": 296,
    "start_time": "2021-07-16T14:34:47.414Z"
   },
   {
    "duration": 284,
    "start_time": "2021-07-16T14:34:57.518Z"
   },
   {
    "duration": 291,
    "start_time": "2021-07-16T14:35:00.886Z"
   },
   {
    "duration": 377,
    "start_time": "2021-07-16T14:35:04.406Z"
   },
   {
    "duration": 352,
    "start_time": "2021-07-16T14:35:08.406Z"
   },
   {
    "duration": 2219,
    "start_time": "2021-07-16T14:35:12.247Z"
   },
   {
    "duration": 3245,
    "start_time": "2021-07-16T14:35:21.967Z"
   },
   {
    "duration": 2013,
    "start_time": "2021-07-16T14:35:39.263Z"
   },
   {
    "duration": 7193,
    "start_time": "2021-07-16T14:35:52.614Z"
   },
   {
    "duration": 2264,
    "start_time": "2021-07-16T14:36:04.814Z"
   },
   {
    "duration": 15986,
    "start_time": "2021-07-16T14:38:05.235Z"
   },
   {
    "duration": 15627,
    "start_time": "2021-07-16T14:38:42.615Z"
   },
   {
    "duration": 15455,
    "start_time": "2021-07-16T14:39:10.214Z"
   },
   {
    "duration": 15417,
    "start_time": "2021-07-16T14:39:40.718Z"
   },
   {
    "duration": 312,
    "start_time": "2021-07-16T14:40:43.974Z"
   },
   {
    "duration": 30996,
    "start_time": "2021-07-16T14:42:58.999Z"
   },
   {
    "duration": 15695,
    "start_time": "2021-07-16T14:43:39.722Z"
   },
   {
    "duration": 15306,
    "start_time": "2021-07-16T14:45:33.652Z"
   },
   {
    "duration": 10,
    "start_time": "2021-07-16T14:45:50.020Z"
   },
   {
    "duration": 268,
    "start_time": "2021-07-16T14:48:34.770Z"
   },
   {
    "duration": 282,
    "start_time": "2021-07-16T14:48:51.076Z"
   },
   {
    "duration": 406,
    "start_time": "2021-07-16T14:49:01.219Z"
   },
   {
    "duration": 265,
    "start_time": "2021-07-16T14:49:18.707Z"
   },
   {
    "duration": 6,
    "start_time": "2021-07-16T14:49:53.056Z"
   },
   {
    "duration": 9,
    "start_time": "2021-07-16T14:51:49.691Z"
   },
   {
    "duration": 9,
    "start_time": "2021-07-16T14:53:31.906Z"
   },
   {
    "duration": 7,
    "start_time": "2021-07-16T14:53:46.890Z"
   },
   {
    "duration": 8,
    "start_time": "2021-07-16T14:54:00.234Z"
   },
   {
    "duration": 255,
    "start_time": "2021-07-16T14:54:18.922Z"
   },
   {
    "duration": 5311,
    "start_time": "2021-07-16T14:54:37.554Z"
   },
   {
    "duration": 7,
    "start_time": "2021-07-16T14:54:49.578Z"
   },
   {
    "duration": 7,
    "start_time": "2021-07-16T14:54:52.538Z"
   },
   {
    "duration": 8,
    "start_time": "2021-07-16T14:54:52.992Z"
   },
   {
    "duration": 7,
    "start_time": "2021-07-16T14:54:53.337Z"
   },
   {
    "duration": 15553,
    "start_time": "2021-07-16T14:55:18.466Z"
   },
   {
    "duration": 4,
    "start_time": "2021-07-16T14:55:43.978Z"
   },
   {
    "duration": 92,
    "start_time": "2021-07-16T14:57:16.763Z"
   },
   {
    "duration": 7,
    "start_time": "2021-07-16T14:58:06.258Z"
   },
   {
    "duration": 6,
    "start_time": "2021-07-16T14:58:17.832Z"
   },
   {
    "duration": 5,
    "start_time": "2021-07-16T14:58:18.136Z"
   },
   {
    "duration": 8,
    "start_time": "2021-07-16T15:03:09.232Z"
   },
   {
    "duration": 7,
    "start_time": "2021-07-16T15:03:10.423Z"
   },
   {
    "duration": 8,
    "start_time": "2021-07-16T15:03:10.742Z"
   },
   {
    "duration": 9,
    "start_time": "2021-07-16T15:03:11.112Z"
   },
   {
    "duration": 8,
    "start_time": "2021-07-16T15:03:51.417Z"
   },
   {
    "duration": 97,
    "start_time": "2021-07-16T15:04:29.449Z"
   },
   {
    "duration": 5,
    "start_time": "2021-07-16T15:04:40.680Z"
   },
   {
    "duration": 104,
    "start_time": "2021-07-16T15:05:16.224Z"
   },
   {
    "duration": 4,
    "start_time": "2021-07-16T15:05:48.186Z"
   },
   {
    "duration": 4,
    "start_time": "2021-07-16T15:07:13.924Z"
   },
   {
    "duration": 9,
    "start_time": "2021-07-16T15:07:14.399Z"
   },
   {
    "duration": 34,
    "start_time": "2021-07-16T15:07:18.358Z"
   },
   {
    "duration": 26,
    "start_time": "2021-07-16T15:07:18.687Z"
   },
   {
    "duration": 74,
    "start_time": "2021-07-16T15:07:18.991Z"
   },
   {
    "duration": 11,
    "start_time": "2021-07-16T15:07:19.470Z"
   },
   {
    "duration": 5,
    "start_time": "2021-07-16T15:07:20.574Z"
   },
   {
    "duration": 7,
    "start_time": "2021-07-16T15:07:20.798Z"
   },
   {
    "duration": 19,
    "start_time": "2021-07-16T15:07:20.982Z"
   },
   {
    "duration": 10,
    "start_time": "2021-07-16T15:07:21.422Z"
   },
   {
    "duration": 16,
    "start_time": "2021-07-16T15:07:21.606Z"
   },
   {
    "duration": 3,
    "start_time": "2021-07-16T15:07:21.990Z"
   },
   {
    "duration": 50,
    "start_time": "2021-07-16T15:07:22.166Z"
   },
   {
    "duration": 25,
    "start_time": "2021-07-16T15:07:22.366Z"
   },
   {
    "duration": 9,
    "start_time": "2021-07-16T15:07:23.502Z"
   },
   {
    "duration": 26,
    "start_time": "2021-07-16T15:07:23.711Z"
   },
   {
    "duration": 4,
    "start_time": "2021-07-16T15:07:23.910Z"
   },
   {
    "duration": 3,
    "start_time": "2021-07-16T15:07:24.294Z"
   },
   {
    "duration": 4,
    "start_time": "2021-07-16T15:07:24.494Z"
   },
   {
    "duration": 4,
    "start_time": "2021-07-16T15:07:24.693Z"
   },
   {
    "duration": 26,
    "start_time": "2021-07-16T15:07:24.894Z"
   },
   {
    "duration": 25,
    "start_time": "2021-07-16T15:07:25.086Z"
   },
   {
    "duration": 12,
    "start_time": "2021-07-16T15:07:25.254Z"
   },
   {
    "duration": 10,
    "start_time": "2021-07-16T15:07:26.751Z"
   },
   {
    "duration": 10,
    "start_time": "2021-07-16T15:07:27.150Z"
   },
   {
    "duration": 5,
    "start_time": "2021-07-16T15:07:28.030Z"
   },
   {
    "duration": 6,
    "start_time": "2021-07-16T15:07:28.375Z"
   },
   {
    "duration": 5,
    "start_time": "2021-07-16T15:07:28.589Z"
   },
   {
    "duration": 5,
    "start_time": "2021-07-16T15:07:28.854Z"
   },
   {
    "duration": 9,
    "start_time": "2021-07-16T15:07:30.790Z"
   },
   {
    "duration": 7,
    "start_time": "2021-07-16T15:07:32.479Z"
   },
   {
    "duration": 7,
    "start_time": "2021-07-16T15:07:32.782Z"
   },
   {
    "duration": 9,
    "start_time": "2021-07-16T15:07:33.206Z"
   },
   {
    "duration": 9,
    "start_time": "2021-07-16T15:07:33.606Z"
   },
   {
    "duration": 6,
    "start_time": "2021-07-16T15:07:35.557Z"
   },
   {
    "duration": 16837,
    "start_time": "2021-07-16T15:07:49.414Z"
   },
   {
    "duration": 10,
    "start_time": "2021-07-16T15:08:35.053Z"
   },
   {
    "duration": 283,
    "start_time": "2021-07-16T15:09:04.060Z"
   },
   {
    "duration": 9544,
    "start_time": "2021-07-16T15:10:27.928Z"
   },
   {
    "duration": 7659,
    "start_time": "2021-07-16T15:10:41.717Z"
   },
   {
    "duration": 7494,
    "start_time": "2021-07-16T15:11:22.781Z"
   },
   {
    "duration": 286,
    "start_time": "2021-07-16T15:11:40.525Z"
   },
   {
    "duration": 12170,
    "start_time": "2021-07-16T15:12:09.173Z"
   },
   {
    "duration": 279,
    "start_time": "2021-07-16T15:12:25.365Z"
   },
   {
    "duration": 289,
    "start_time": "2021-07-16T15:13:10.555Z"
   },
   {
    "duration": 3,
    "start_time": "2021-07-16T15:13:54.326Z"
   },
   {
    "duration": 452,
    "start_time": "2021-07-16T15:14:00.176Z"
   },
   {
    "duration": 95,
    "start_time": "2021-07-16T15:14:14.324Z"
   },
   {
    "duration": 302,
    "start_time": "2021-07-16T15:14:22.044Z"
   },
   {
    "duration": 468,
    "start_time": "2021-07-16T15:14:39.588Z"
   },
   {
    "duration": 12,
    "start_time": "2021-07-16T15:15:46.407Z"
   },
   {
    "duration": 584,
    "start_time": "2021-07-16T15:15:47.252Z"
   },
   {
    "duration": 270,
    "start_time": "2021-07-16T15:15:57.068Z"
   },
   {
    "duration": 94,
    "start_time": "2021-07-16T15:16:16.236Z"
   },
   {
    "duration": 218,
    "start_time": "2021-07-16T15:16:25.420Z"
   },
   {
    "duration": 40,
    "start_time": "2021-07-16T15:16:38.988Z"
   },
   {
    "duration": 63,
    "start_time": "2021-07-16T15:16:57.140Z"
   },
   {
    "duration": 196,
    "start_time": "2021-07-16T15:17:01.636Z"
   },
   {
    "duration": 30,
    "start_time": "2021-07-16T15:17:02.972Z"
   },
   {
    "duration": 26,
    "start_time": "2021-07-16T15:17:29.211Z"
   },
   {
    "duration": 6,
    "start_time": "2021-07-16T15:20:06.576Z"
   },
   {
    "duration": 6,
    "start_time": "2021-07-16T15:21:23.355Z"
   },
   {
    "duration": 8,
    "start_time": "2021-07-16T15:21:41.699Z"
   },
   {
    "duration": 5,
    "start_time": "2021-07-16T15:21:45.339Z"
   },
   {
    "duration": 258,
    "start_time": "2021-07-16T15:21:51.667Z"
   },
   {
    "duration": 14,
    "start_time": "2021-07-16T15:22:49.647Z"
   },
   {
    "duration": 5,
    "start_time": "2021-07-16T15:22:54.730Z"
   },
   {
    "duration": 6,
    "start_time": "2021-07-16T15:22:55.073Z"
   },
   {
    "duration": 12,
    "start_time": "2021-07-16T15:22:55.418Z"
   },
   {
    "duration": 112,
    "start_time": "2021-07-16T15:22:57.291Z"
   },
   {
    "duration": 47,
    "start_time": "2021-07-16T15:22:59.498Z"
   },
   {
    "duration": 116,
    "start_time": "2021-07-16T15:23:08.786Z"
   },
   {
    "duration": 16468,
    "start_time": "2021-07-16T15:23:52.512Z"
   },
   {
    "duration": 24286,
    "start_time": "2021-07-16T15:24:31.599Z"
   },
   {
    "duration": 23387,
    "start_time": "2021-07-16T15:25:05.139Z"
   },
   {
    "duration": 24068,
    "start_time": "2021-07-16T15:25:46.506Z"
   },
   {
    "duration": 3,
    "start_time": "2021-07-16T15:27:06.763Z"
   },
   {
    "duration": 9468,
    "start_time": "2021-07-16T15:28:58.027Z"
   },
   {
    "duration": 14352,
    "start_time": "2021-07-16T15:29:08.969Z"
   },
   {
    "duration": 13919,
    "start_time": "2021-07-16T15:29:24.569Z"
   },
   {
    "duration": 1397,
    "start_time": "2021-07-16T15:31:07.549Z"
   },
   {
    "duration": 2344,
    "start_time": "2021-07-16T15:31:13.738Z"
   },
   {
    "duration": 2477,
    "start_time": "2021-07-16T15:31:23.616Z"
   },
   {
    "duration": 4,
    "start_time": "2021-07-16T16:04:47.826Z"
   },
   {
    "duration": 336,
    "start_time": "2021-07-16T16:05:39.708Z"
   },
   {
    "duration": 5,
    "start_time": "2021-07-16T16:06:00.609Z"
   },
   {
    "duration": 286,
    "start_time": "2021-07-16T16:06:22.450Z"
   },
   {
    "duration": 67,
    "start_time": "2021-07-16T16:06:33.095Z"
   },
   {
    "duration": 61,
    "start_time": "2021-07-16T16:06:52.927Z"
   },
   {
    "duration": 2944,
    "start_time": "2021-07-16T16:06:53.849Z"
   },
   {
    "duration": 62,
    "start_time": "2021-07-16T16:07:10.280Z"
   },
   {
    "duration": 24864,
    "start_time": "2021-07-16T16:07:28.687Z"
   },
   {
    "duration": 81,
    "start_time": "2021-07-16T16:08:12.064Z"
   },
   {
    "duration": 85,
    "start_time": "2021-07-16T16:08:16.904Z"
   },
   {
    "duration": 58,
    "start_time": "2021-07-16T16:08:20.423Z"
   },
   {
    "duration": 75,
    "start_time": "2021-07-16T16:08:24.375Z"
   },
   {
    "duration": 4,
    "start_time": "2021-07-16T16:13:05.563Z"
   },
   {
    "duration": 4,
    "start_time": "2021-07-16T16:13:17.797Z"
   },
   {
    "duration": 119,
    "start_time": "2021-07-16T16:14:14.087Z"
   },
   {
    "duration": 78,
    "start_time": "2021-07-16T16:14:33.035Z"
   },
   {
    "duration": 100,
    "start_time": "2021-07-16T16:14:35.703Z"
   },
   {
    "duration": 38,
    "start_time": "2021-07-16T16:14:36.430Z"
   },
   {
    "duration": 116,
    "start_time": "2021-07-16T16:15:18.422Z"
   },
   {
    "duration": 75,
    "start_time": "2021-07-16T16:15:23.261Z"
   },
   {
    "duration": 19894,
    "start_time": "2021-07-16T16:15:31.614Z"
   },
   {
    "duration": 13471,
    "start_time": "2021-07-16T17:03:54.931Z"
   },
   {
    "duration": 9247,
    "start_time": "2021-07-16T17:04:44.978Z"
   },
   {
    "duration": 407,
    "start_time": "2021-07-16T17:04:57.097Z"
   },
   {
    "duration": 5581,
    "start_time": "2021-07-16T17:05:08.521Z"
   },
   {
    "duration": 289,
    "start_time": "2021-07-16T17:05:18.450Z"
   },
   {
    "duration": 31,
    "start_time": "2021-07-16T17:06:53.670Z"
   },
   {
    "duration": 443,
    "start_time": "2021-07-16T17:07:01.713Z"
   },
   {
    "duration": 93,
    "start_time": "2021-07-16T17:08:34.744Z"
   },
   {
    "duration": 465,
    "start_time": "2021-07-16T17:08:41.192Z"
   },
   {
    "duration": 465,
    "start_time": "2021-07-16T17:09:00.402Z"
   },
   {
    "duration": 411,
    "start_time": "2021-07-16T17:09:27.345Z"
   },
   {
    "duration": 32,
    "start_time": "2021-07-16T17:09:30.168Z"
   },
   {
    "duration": 420,
    "start_time": "2021-07-16T17:09:30.528Z"
   },
   {
    "duration": 7,
    "start_time": "2021-07-16T17:11:10.606Z"
   },
   {
    "duration": 1547,
    "start_time": "2021-07-16T17:11:10.616Z"
   },
   {
    "duration": 45,
    "start_time": "2021-07-16T17:11:12.166Z"
   },
   {
    "duration": 25,
    "start_time": "2021-07-16T17:11:12.215Z"
   },
   {
    "duration": 92,
    "start_time": "2021-07-16T17:11:12.243Z"
   },
   {
    "duration": 12,
    "start_time": "2021-07-16T17:11:12.338Z"
   },
   {
    "duration": 6,
    "start_time": "2021-07-16T17:11:12.352Z"
   },
   {
    "duration": 6,
    "start_time": "2021-07-16T17:11:12.361Z"
   },
   {
    "duration": 24,
    "start_time": "2021-07-16T17:11:12.399Z"
   },
   {
    "duration": 8,
    "start_time": "2021-07-16T17:11:12.427Z"
   },
   {
    "duration": 17,
    "start_time": "2021-07-16T17:11:12.438Z"
   },
   {
    "duration": 4,
    "start_time": "2021-07-16T17:11:12.458Z"
   },
   {
    "duration": 86,
    "start_time": "2021-07-16T17:11:12.465Z"
   },
   {
    "duration": 24,
    "start_time": "2021-07-16T17:11:12.553Z"
   },
   {
    "duration": 7,
    "start_time": "2021-07-16T17:11:12.603Z"
   },
   {
    "duration": 23,
    "start_time": "2021-07-16T17:11:12.614Z"
   },
   {
    "duration": 3,
    "start_time": "2021-07-16T17:11:12.640Z"
   },
   {
    "duration": 5,
    "start_time": "2021-07-16T17:11:12.646Z"
   },
   {
    "duration": 5,
    "start_time": "2021-07-16T17:11:12.654Z"
   },
   {
    "duration": 7,
    "start_time": "2021-07-16T17:11:12.702Z"
   },
   {
    "duration": 22,
    "start_time": "2021-07-16T17:11:12.714Z"
   },
   {
    "duration": 10,
    "start_time": "2021-07-16T17:11:12.738Z"
   },
   {
    "duration": 54,
    "start_time": "2021-07-16T17:11:12.750Z"
   },
   {
    "duration": 11,
    "start_time": "2021-07-16T17:11:12.808Z"
   },
   {
    "duration": 8,
    "start_time": "2021-07-16T17:11:12.822Z"
   },
   {
    "duration": 6,
    "start_time": "2021-07-16T17:11:12.832Z"
   },
   {
    "duration": 5,
    "start_time": "2021-07-16T17:11:12.844Z"
   },
   {
    "duration": 50,
    "start_time": "2021-07-16T17:11:12.852Z"
   },
   {
    "duration": 9,
    "start_time": "2021-07-16T17:11:12.907Z"
   },
   {
    "duration": 9,
    "start_time": "2021-07-16T17:11:12.920Z"
   },
   {
    "duration": 6,
    "start_time": "2021-07-16T17:11:12.932Z"
   },
   {
    "duration": 7,
    "start_time": "2021-07-16T17:11:12.941Z"
   },
   {
    "duration": 6,
    "start_time": "2021-07-16T17:11:12.951Z"
   },
   {
    "duration": 10,
    "start_time": "2021-07-16T17:11:13.004Z"
   },
   {
    "duration": 16273,
    "start_time": "2021-07-16T17:11:13.017Z"
   },
   {
    "duration": 299,
    "start_time": "2021-07-16T17:11:29.293Z"
   },
   {
    "duration": 449,
    "start_time": "2021-07-16T17:11:29.595Z"
   },
   {
    "duration": -505,
    "start_time": "2021-07-16T17:11:30.551Z"
   },
   {
    "duration": -509,
    "start_time": "2021-07-16T17:11:30.557Z"
   },
   {
    "duration": -511,
    "start_time": "2021-07-16T17:11:30.561Z"
   },
   {
    "duration": -514,
    "start_time": "2021-07-16T17:11:30.565Z"
   },
   {
    "duration": -517,
    "start_time": "2021-07-16T17:11:30.570Z"
   },
   {
    "duration": -520,
    "start_time": "2021-07-16T17:11:30.574Z"
   },
   {
    "duration": -524,
    "start_time": "2021-07-16T17:11:30.580Z"
   },
   {
    "duration": -528,
    "start_time": "2021-07-16T17:11:30.585Z"
   },
   {
    "duration": -532,
    "start_time": "2021-07-16T17:11:30.590Z"
   },
   {
    "duration": -534,
    "start_time": "2021-07-16T17:11:30.594Z"
   },
   {
    "duration": -538,
    "start_time": "2021-07-16T17:11:30.599Z"
   },
   {
    "duration": -541,
    "start_time": "2021-07-16T17:11:30.604Z"
   },
   {
    "duration": -545,
    "start_time": "2021-07-16T17:11:30.609Z"
   },
   {
    "duration": -549,
    "start_time": "2021-07-16T17:11:30.614Z"
   },
   {
    "duration": -552,
    "start_time": "2021-07-16T17:11:30.619Z"
   },
   {
    "duration": -556,
    "start_time": "2021-07-16T17:11:30.624Z"
   },
   {
    "duration": -559,
    "start_time": "2021-07-16T17:11:30.629Z"
   },
   {
    "duration": -562,
    "start_time": "2021-07-16T17:11:30.633Z"
   },
   {
    "duration": -566,
    "start_time": "2021-07-16T17:11:30.638Z"
   },
   {
    "duration": -568,
    "start_time": "2021-07-16T17:11:30.642Z"
   },
   {
    "duration": -571,
    "start_time": "2021-07-16T17:11:30.646Z"
   },
   {
    "duration": -573,
    "start_time": "2021-07-16T17:11:30.650Z"
   },
   {
    "duration": -576,
    "start_time": "2021-07-16T17:11:30.654Z"
   },
   {
    "duration": 279,
    "start_time": "2021-07-16T17:21:14.155Z"
   },
   {
    "duration": 5759,
    "start_time": "2021-07-16T17:21:53.237Z"
   },
   {
    "duration": 286,
    "start_time": "2021-07-16T17:23:22.044Z"
   },
   {
    "duration": 106,
    "start_time": "2021-07-16T17:23:28.100Z"
   },
   {
    "duration": 451,
    "start_time": "2021-07-16T17:23:29.916Z"
   },
   {
    "duration": 5,
    "start_time": "2021-07-16T17:23:35.284Z"
   },
   {
    "duration": 275,
    "start_time": "2021-07-16T17:23:37.644Z"
   },
   {
    "duration": 385,
    "start_time": "2021-07-16T17:23:58.021Z"
   },
   {
    "duration": 16,
    "start_time": "2021-07-16T17:23:59.172Z"
   },
   {
    "duration": 5,
    "start_time": "2021-07-16T17:24:07.124Z"
   },
   {
    "duration": 67,
    "start_time": "2021-07-16T17:24:09.540Z"
   },
   {
    "duration": 29,
    "start_time": "2021-07-16T17:24:10.228Z"
   },
   {
    "duration": 5,
    "start_time": "2021-07-16T17:24:27.636Z"
   },
   {
    "duration": 22230,
    "start_time": "2021-07-16T17:24:29.788Z"
   },
   {
    "duration": 16405,
    "start_time": "2021-07-16T17:25:13.332Z"
   },
   {
    "duration": 23734,
    "start_time": "2021-07-16T17:25:29.740Z"
   },
   {
    "duration": 282,
    "start_time": "2021-07-16T17:25:53.476Z"
   },
   {
    "duration": 285,
    "start_time": "2021-07-16T17:30:58.171Z"
   },
   {
    "duration": 307,
    "start_time": "2021-07-16T17:31:55.442Z"
   },
   {
    "duration": 5376,
    "start_time": "2021-07-16T17:32:05.426Z"
   },
   {
    "duration": 314,
    "start_time": "2021-07-16T17:34:43.241Z"
   },
   {
    "duration": 5749,
    "start_time": "2021-07-16T17:35:16.674Z"
   },
   {
    "duration": 6046,
    "start_time": "2021-07-16T17:35:48.073Z"
   },
   {
    "duration": 5839,
    "start_time": "2021-07-16T17:36:50.863Z"
   },
   {
    "duration": 282,
    "start_time": "2021-07-16T17:38:07.571Z"
   },
   {
    "duration": 8369,
    "start_time": "2021-07-16T17:38:16.116Z"
   },
   {
    "duration": 8653,
    "start_time": "2021-07-16T17:38:51.288Z"
   },
   {
    "duration": 303,
    "start_time": "2021-07-16T17:39:04.416Z"
   },
   {
    "duration": 44,
    "start_time": "2021-07-16T17:39:39.792Z"
   },
   {
    "duration": 29,
    "start_time": "2021-07-16T17:39:40.536Z"
   },
   {
    "duration": 36,
    "start_time": "2021-07-16T17:39:41.424Z"
   },
   {
    "duration": 516,
    "start_time": "2021-07-16T17:39:42.352Z"
   },
   {
    "duration": 4,
    "start_time": "2021-07-16T17:40:04.984Z"
   },
   {
    "duration": 93,
    "start_time": "2021-07-16T17:40:09.449Z"
   },
   {
    "duration": 302,
    "start_time": "2021-07-16T17:40:18.489Z"
   },
   {
    "duration": 2712,
    "start_time": "2021-07-16T17:40:30.336Z"
   },
   {
    "duration": 387,
    "start_time": "2021-07-16T17:40:33.052Z"
   },
   {
    "duration": 105,
    "start_time": "2021-07-16T17:42:50.397Z"
   },
   {
    "duration": 140,
    "start_time": "2021-07-16T17:43:38.781Z"
   },
   {
    "duration": 452,
    "start_time": "2021-07-16T17:43:48.624Z"
   },
   {
    "duration": 4,
    "start_time": "2021-07-16T17:45:06.744Z"
   },
   {
    "duration": 3,
    "start_time": "2021-07-16T19:38:34.151Z"
   },
   {
    "duration": 1054,
    "start_time": "2021-07-16T19:38:34.155Z"
   },
   {
    "duration": 27,
    "start_time": "2021-07-16T19:38:35.211Z"
   },
   {
    "duration": 12,
    "start_time": "2021-07-16T19:38:35.240Z"
   },
   {
    "duration": 40,
    "start_time": "2021-07-16T19:38:35.254Z"
   },
   {
    "duration": 7,
    "start_time": "2021-07-16T19:38:35.295Z"
   },
   {
    "duration": 3,
    "start_time": "2021-07-16T19:38:35.304Z"
   },
   {
    "duration": 5,
    "start_time": "2021-07-16T19:38:35.309Z"
   },
   {
    "duration": 12,
    "start_time": "2021-07-16T19:38:35.315Z"
   },
   {
    "duration": 182,
    "start_time": "2021-07-16T19:38:35.328Z"
   },
   {
    "duration": 7,
    "start_time": "2021-07-16T19:38:35.512Z"
   },
   {
    "duration": 10,
    "start_time": "2021-07-16T19:38:35.520Z"
   },
   {
    "duration": 3,
    "start_time": "2021-07-16T19:38:35.532Z"
   },
   {
    "duration": 31,
    "start_time": "2021-07-16T19:38:35.536Z"
   },
   {
    "duration": 29,
    "start_time": "2021-07-16T19:38:35.568Z"
   },
   {
    "duration": 4,
    "start_time": "2021-07-16T19:38:35.598Z"
   },
   {
    "duration": 13,
    "start_time": "2021-07-16T19:38:35.603Z"
   },
   {
    "duration": 4,
    "start_time": "2021-07-16T19:38:35.618Z"
   },
   {
    "duration": 6,
    "start_time": "2021-07-16T19:38:35.625Z"
   },
   {
    "duration": 8,
    "start_time": "2021-07-16T19:38:35.633Z"
   },
   {
    "duration": 7,
    "start_time": "2021-07-16T19:38:35.642Z"
   },
   {
    "duration": 17,
    "start_time": "2021-07-16T19:38:35.650Z"
   },
   {
    "duration": 23,
    "start_time": "2021-07-16T19:38:35.669Z"
   },
   {
    "duration": 7,
    "start_time": "2021-07-16T19:38:35.694Z"
   },
   {
    "duration": 9,
    "start_time": "2021-07-16T19:38:35.702Z"
   },
   {
    "duration": 11,
    "start_time": "2021-07-16T19:38:35.712Z"
   },
   {
    "duration": 12,
    "start_time": "2021-07-16T19:38:35.725Z"
   },
   {
    "duration": 10,
    "start_time": "2021-07-16T19:38:35.738Z"
   },
   {
    "duration": 8,
    "start_time": "2021-07-16T19:38:35.749Z"
   },
   {
    "duration": 10,
    "start_time": "2021-07-16T19:38:35.758Z"
   },
   {
    "duration": 11,
    "start_time": "2021-07-16T19:38:35.769Z"
   },
   {
    "duration": 10,
    "start_time": "2021-07-16T19:38:35.782Z"
   },
   {
    "duration": 8,
    "start_time": "2021-07-16T19:38:35.793Z"
   },
   {
    "duration": 9,
    "start_time": "2021-07-16T19:38:35.803Z"
   },
   {
    "duration": 10,
    "start_time": "2021-07-16T19:38:35.813Z"
   },
   {
    "duration": 10335,
    "start_time": "2021-07-16T19:38:35.824Z"
   },
   {
    "duration": 149,
    "start_time": "2021-07-16T19:38:46.160Z"
   },
   {
    "duration": 3536,
    "start_time": "2021-07-16T19:38:46.311Z"
   },
   {
    "duration": 153,
    "start_time": "2021-07-16T19:38:49.848Z"
   },
   {
    "duration": 93,
    "start_time": "2021-07-16T19:38:50.002Z"
   },
   {
    "duration": 427,
    "start_time": "2021-07-16T19:38:50.097Z"
   },
   {
    "duration": 4,
    "start_time": "2021-07-16T19:38:50.525Z"
   },
   {
    "duration": 14,
    "start_time": "2021-07-16T19:38:50.530Z"
   },
   {
    "duration": 3,
    "start_time": "2021-07-16T19:38:50.546Z"
   },
   {
    "duration": 14502,
    "start_time": "2021-07-16T19:38:50.551Z"
   },
   {
    "duration": 10283,
    "start_time": "2021-07-16T19:39:05.055Z"
   },
   {
    "duration": 14485,
    "start_time": "2021-07-16T19:39:15.339Z"
   },
   {
    "duration": 155,
    "start_time": "2021-07-16T19:39:29.826Z"
   },
   {
    "duration": 3268,
    "start_time": "2021-07-16T19:39:29.983Z"
   },
   {
    "duration": 4680,
    "start_time": "2021-07-16T19:39:33.253Z"
   },
   {
    "duration": 2825,
    "start_time": "2021-07-16T19:39:37.935Z"
   },
   {
    "duration": -115,
    "start_time": "2021-07-16T19:39:40.877Z"
   },
   {
    "duration": -118,
    "start_time": "2021-07-16T19:39:40.882Z"
   },
   {
    "duration": -121,
    "start_time": "2021-07-16T19:39:40.886Z"
   },
   {
    "duration": -123,
    "start_time": "2021-07-16T19:39:40.890Z"
   },
   {
    "duration": -126,
    "start_time": "2021-07-16T19:39:40.894Z"
   },
   {
    "duration": -129,
    "start_time": "2021-07-16T19:39:40.898Z"
   },
   {
    "duration": -131,
    "start_time": "2021-07-16T19:39:40.902Z"
   },
   {
    "duration": -134,
    "start_time": "2021-07-16T19:39:40.906Z"
   },
   {
    "duration": -142,
    "start_time": "2021-07-16T19:39:40.915Z"
   },
   {
    "duration": -148,
    "start_time": "2021-07-16T19:39:40.923Z"
   },
   {
    "duration": -153,
    "start_time": "2021-07-16T19:39:40.929Z"
   },
   {
    "duration": -156,
    "start_time": "2021-07-16T19:39:40.933Z"
   },
   {
    "duration": -160,
    "start_time": "2021-07-16T19:39:40.939Z"
   },
   {
    "duration": 213,
    "start_time": "2021-07-16T19:39:42.707Z"
   },
   {
    "duration": 7,
    "start_time": "2021-07-16T19:41:31.999Z"
   },
   {
    "duration": 221,
    "start_time": "2021-07-16T19:47:03.349Z"
   },
   {
    "duration": 4,
    "start_time": "2021-07-16T19:47:21.033Z"
   },
   {
    "duration": 5,
    "start_time": "2021-07-16T19:47:26.560Z"
   },
   {
    "duration": 11,
    "start_time": "2021-07-16T19:47:29.125Z"
   },
   {
    "duration": 2,
    "start_time": "2021-07-16T19:47:32.840Z"
   },
   {
    "duration": 3,
    "start_time": "2021-07-16T19:47:49.641Z"
   },
   {
    "duration": 3,
    "start_time": "2021-07-16T19:47:49.840Z"
   },
   {
    "duration": 2,
    "start_time": "2021-07-16T19:47:50.049Z"
   },
   {
    "duration": 9,
    "start_time": "2021-07-16T19:47:50.304Z"
   },
   {
    "duration": 7,
    "start_time": "2021-07-16T19:47:50.912Z"
   },
   {
    "duration": 7,
    "start_time": "2021-07-16T19:47:51.296Z"
   },
   {
    "duration": 6,
    "start_time": "2021-07-16T19:47:53.480Z"
   },
   {
    "duration": 6,
    "start_time": "2021-07-16T19:47:53.743Z"
   },
   {
    "duration": 4,
    "start_time": "2021-07-16T19:47:53.985Z"
   },
   {
    "duration": 3,
    "start_time": "2021-07-16T19:47:54.344Z"
   },
   {
    "duration": 4,
    "start_time": "2021-07-16T19:47:54.648Z"
   },
   {
    "duration": 4,
    "start_time": "2021-07-16T19:47:55.016Z"
   },
   {
    "duration": 6,
    "start_time": "2021-07-16T19:47:58.184Z"
   },
   {
    "duration": 5,
    "start_time": "2021-07-16T19:47:58.624Z"
   },
   {
    "duration": 5,
    "start_time": "2021-07-16T19:47:59.048Z"
   },
   {
    "duration": 6,
    "start_time": "2021-07-16T19:48:00.201Z"
   },
   {
    "duration": 5,
    "start_time": "2021-07-16T19:48:04.568Z"
   },
   {
    "duration": 4,
    "start_time": "2021-07-16T19:48:06.536Z"
   },
   {
    "duration": 6051,
    "start_time": "2021-07-16T19:48:11.304Z"
   },
   {
    "duration": 140,
    "start_time": "2021-07-16T19:48:26.744Z"
   },
   {
    "duration": 2611,
    "start_time": "2021-07-16T19:48:31.801Z"
   },
   {
    "duration": 143,
    "start_time": "2021-07-16T19:48:40.336Z"
   },
   {
    "duration": 19,
    "start_time": "2021-07-16T19:48:44.696Z"
   },
   {
    "duration": 276,
    "start_time": "2021-07-16T19:48:47.841Z"
   },
   {
    "duration": 4,
    "start_time": "2021-07-16T19:48:51.456Z"
   },
   {
    "duration": 8,
    "start_time": "2021-07-16T19:48:51.920Z"
   },
   {
    "duration": 4,
    "start_time": "2021-07-16T19:48:52.208Z"
   },
   {
    "duration": 8805,
    "start_time": "2021-07-16T19:48:56.232Z"
   },
   {
    "duration": 6491,
    "start_time": "2021-07-16T19:49:13.424Z"
   },
   {
    "duration": 9079,
    "start_time": "2021-07-16T19:49:22.783Z"
   },
   {
    "duration": 2771,
    "start_time": "2021-07-16T19:49:40.440Z"
   },
   {
    "duration": 3,
    "start_time": "2021-07-16T19:49:58.608Z"
   },
   {
    "duration": 4,
    "start_time": "2021-07-16T19:49:58.826Z"
   },
   {
    "duration": 26,
    "start_time": "2021-07-16T19:49:59.191Z"
   },
   {
    "duration": 11,
    "start_time": "2021-07-16T19:49:59.375Z"
   },
   {
    "duration": 35,
    "start_time": "2021-07-16T19:49:59.520Z"
   },
   {
    "duration": 8,
    "start_time": "2021-07-16T19:49:59.778Z"
   },
   {
    "duration": 4,
    "start_time": "2021-07-16T19:50:01.008Z"
   },
   {
    "duration": 3,
    "start_time": "2021-07-16T19:50:01.272Z"
   },
   {
    "duration": 12,
    "start_time": "2021-07-16T19:50:01.632Z"
   },
   {
    "duration": 6,
    "start_time": "2021-07-16T19:50:03.320Z"
   },
   {
    "duration": 8,
    "start_time": "2021-07-16T19:50:03.536Z"
   },
   {
    "duration": 3,
    "start_time": "2021-07-16T19:50:04.047Z"
   },
   {
    "duration": 32,
    "start_time": "2021-07-16T19:50:04.247Z"
   },
   {
    "duration": 14,
    "start_time": "2021-07-16T19:50:04.631Z"
   },
   {
    "duration": 4,
    "start_time": "2021-07-16T19:50:05.552Z"
   },
   {
    "duration": 4,
    "start_time": "2021-07-16T19:50:06.015Z"
   },
   {
    "duration": 11,
    "start_time": "2021-07-16T19:50:06.239Z"
   },
   {
    "duration": 3,
    "start_time": "2021-07-16T19:50:06.674Z"
   },
   {
    "duration": 11,
    "start_time": "2021-07-16T19:50:19.632Z"
   },
   {
    "duration": 2,
    "start_time": "2021-07-16T19:50:26.972Z"
   },
   {
    "duration": 7,
    "start_time": "2021-07-16T19:50:26.976Z"
   },
   {
    "duration": 28,
    "start_time": "2021-07-16T19:50:26.985Z"
   },
   {
    "duration": 11,
    "start_time": "2021-07-16T19:50:27.014Z"
   },
   {
    "duration": 37,
    "start_time": "2021-07-16T19:50:27.027Z"
   },
   {
    "duration": 8,
    "start_time": "2021-07-16T19:50:27.066Z"
   },
   {
    "duration": 17,
    "start_time": "2021-07-16T19:50:27.075Z"
   },
   {
    "duration": 3,
    "start_time": "2021-07-16T19:50:27.094Z"
   },
   {
    "duration": 12,
    "start_time": "2021-07-16T19:50:27.100Z"
   },
   {
    "duration": 6,
    "start_time": "2021-07-16T19:50:27.114Z"
   },
   {
    "duration": 14,
    "start_time": "2021-07-16T19:50:27.121Z"
   },
   {
    "duration": 3,
    "start_time": "2021-07-16T19:50:27.136Z"
   },
   {
    "duration": 67,
    "start_time": "2021-07-16T19:50:27.141Z"
   },
   {
    "duration": 18,
    "start_time": "2021-07-16T19:50:27.210Z"
   },
   {
    "duration": 7,
    "start_time": "2021-07-16T19:50:27.230Z"
   },
   {
    "duration": 11,
    "start_time": "2021-07-16T19:50:27.239Z"
   },
   {
    "duration": 16,
    "start_time": "2021-07-16T19:50:27.251Z"
   },
   {
    "duration": 5,
    "start_time": "2021-07-16T19:50:27.268Z"
   },
   {
    "duration": 18,
    "start_time": "2021-07-16T19:50:27.274Z"
   },
   {
    "duration": 9,
    "start_time": "2021-07-16T19:50:27.293Z"
   },
   {
    "duration": 8,
    "start_time": "2021-07-16T19:50:27.303Z"
   },
   {
    "duration": 15,
    "start_time": "2021-07-16T19:50:27.313Z"
   },
   {
    "duration": 9,
    "start_time": "2021-07-16T19:50:27.329Z"
   },
   {
    "duration": 4,
    "start_time": "2021-07-16T19:50:53.384Z"
   },
   {
    "duration": 4,
    "start_time": "2021-07-16T19:50:53.823Z"
   },
   {
    "duration": 11,
    "start_time": "2021-07-16T19:50:54.063Z"
   },
   {
    "duration": 3,
    "start_time": "2021-07-16T19:50:57.547Z"
   },
   {
    "duration": 6,
    "start_time": "2021-07-16T19:50:57.552Z"
   },
   {
    "duration": 31,
    "start_time": "2021-07-16T19:50:57.560Z"
   },
   {
    "duration": 12,
    "start_time": "2021-07-16T19:50:57.593Z"
   },
   {
    "duration": 37,
    "start_time": "2021-07-16T19:50:57.607Z"
   },
   {
    "duration": 8,
    "start_time": "2021-07-16T19:50:57.646Z"
   },
   {
    "duration": 7,
    "start_time": "2021-07-16T19:50:57.655Z"
   },
   {
    "duration": 27,
    "start_time": "2021-07-16T19:50:57.664Z"
   },
   {
    "duration": 16,
    "start_time": "2021-07-16T19:50:57.694Z"
   },
   {
    "duration": 6,
    "start_time": "2021-07-16T19:50:57.712Z"
   },
   {
    "duration": 8,
    "start_time": "2021-07-16T19:50:57.720Z"
   },
   {
    "duration": 2,
    "start_time": "2021-07-16T19:50:57.730Z"
   },
   {
    "duration": 62,
    "start_time": "2021-07-16T19:50:57.734Z"
   },
   {
    "duration": 13,
    "start_time": "2021-07-16T19:50:57.798Z"
   },
   {
    "duration": 6,
    "start_time": "2021-07-16T19:50:57.812Z"
   },
   {
    "duration": 6,
    "start_time": "2021-07-16T19:50:57.819Z"
   },
   {
    "duration": 15,
    "start_time": "2021-07-16T19:50:57.827Z"
   },
   {
    "duration": 12,
    "start_time": "2021-07-16T19:51:01.215Z"
   },
   {
    "duration": 3,
    "start_time": "2021-07-16T19:51:01.438Z"
   },
   {
    "duration": 4,
    "start_time": "2021-07-16T19:51:02.087Z"
   },
   {
    "duration": 3,
    "start_time": "2021-07-16T19:51:02.230Z"
   },
   {
    "duration": 2,
    "start_time": "2021-07-16T19:51:02.672Z"
   },
   {
    "duration": 8,
    "start_time": "2021-07-16T19:51:02.871Z"
   },
   {
    "duration": 7,
    "start_time": "2021-07-16T19:51:03.015Z"
   },
   {
    "duration": 7,
    "start_time": "2021-07-16T19:51:03.559Z"
   },
   {
    "duration": 6,
    "start_time": "2021-07-16T19:51:04.023Z"
   },
   {
    "duration": 6,
    "start_time": "2021-07-16T19:51:04.367Z"
   },
   {
    "duration": 3,
    "start_time": "2021-07-16T19:51:04.727Z"
   },
   {
    "duration": 3,
    "start_time": "2021-07-16T19:51:06.399Z"
   },
   {
    "duration": 3,
    "start_time": "2021-07-16T19:51:06.599Z"
   },
   {
    "duration": 4,
    "start_time": "2021-07-16T19:51:06.777Z"
   },
   {
    "duration": 6,
    "start_time": "2021-07-16T19:51:07.550Z"
   },
   {
    "duration": 6,
    "start_time": "2021-07-16T19:51:07.726Z"
   },
   {
    "duration": 5,
    "start_time": "2021-07-16T19:51:07.911Z"
   },
   {
    "duration": 6,
    "start_time": "2021-07-16T19:51:08.094Z"
   },
   {
    "duration": 4,
    "start_time": "2021-07-16T19:51:08.766Z"
   },
   {
    "duration": 8984,
    "start_time": "2021-07-16T19:51:13.463Z"
   },
   {
    "duration": 3,
    "start_time": "2021-07-16T19:53:40.727Z"
   },
   {
    "duration": 4,
    "start_time": "2021-07-16T19:53:40.732Z"
   },
   {
    "duration": 27,
    "start_time": "2021-07-16T19:53:40.738Z"
   },
   {
    "duration": 10,
    "start_time": "2021-07-16T19:53:40.766Z"
   },
   {
    "duration": 38,
    "start_time": "2021-07-16T19:53:40.778Z"
   },
   {
    "duration": 6,
    "start_time": "2021-07-16T19:53:40.817Z"
   },
   {
    "duration": 3,
    "start_time": "2021-07-16T19:53:40.825Z"
   },
   {
    "duration": 4,
    "start_time": "2021-07-16T19:53:40.830Z"
   },
   {
    "duration": 16,
    "start_time": "2021-07-16T19:53:40.836Z"
   },
   {
    "duration": 9,
    "start_time": "2021-07-16T19:53:40.853Z"
   },
   {
    "duration": 11,
    "start_time": "2021-07-16T19:53:40.863Z"
   },
   {
    "duration": 10,
    "start_time": "2021-07-16T19:53:40.875Z"
   },
   {
    "duration": 33,
    "start_time": "2021-07-16T19:53:40.891Z"
   },
   {
    "duration": 12,
    "start_time": "2021-07-16T19:53:40.925Z"
   },
   {
    "duration": 6,
    "start_time": "2021-07-16T19:53:40.939Z"
   },
   {
    "duration": 15,
    "start_time": "2021-07-16T19:53:40.947Z"
   },
   {
    "duration": 7,
    "start_time": "2021-07-16T19:53:40.964Z"
   },
   {
    "duration": 7,
    "start_time": "2021-07-16T19:53:42.115Z"
   },
   {
    "duration": 7,
    "start_time": "2021-07-16T19:53:42.123Z"
   },
   {
    "duration": 7,
    "start_time": "2021-07-16T19:53:42.132Z"
   },
   {
    "duration": 4,
    "start_time": "2021-07-16T19:53:42.141Z"
   },
   {
    "duration": 6,
    "start_time": "2021-07-16T19:53:42.146Z"
   },
   {
    "duration": 6,
    "start_time": "2021-07-16T19:53:42.153Z"
   },
   {
    "duration": 11,
    "start_time": "2021-07-16T19:53:42.160Z"
   },
   {
    "duration": 14,
    "start_time": "2021-07-16T19:53:42.173Z"
   },
   {
    "duration": 9,
    "start_time": "2021-07-16T19:53:42.189Z"
   },
   {
    "duration": 8,
    "start_time": "2021-07-16T19:53:42.199Z"
   },
   {
    "duration": 9,
    "start_time": "2021-07-16T19:53:42.208Z"
   },
   {
    "duration": 10185,
    "start_time": "2021-07-16T19:53:46.775Z"
   },
   {
    "duration": 2,
    "start_time": "2021-07-16T19:54:08.524Z"
   },
   {
    "duration": 3,
    "start_time": "2021-07-16T19:54:08.758Z"
   },
   {
    "duration": 2,
    "start_time": "2021-07-16T19:54:08.942Z"
   },
   {
    "duration": 10,
    "start_time": "2021-07-16T19:54:09.126Z"
   },
   {
    "duration": 8,
    "start_time": "2021-07-16T19:54:09.326Z"
   },
   {
    "duration": 7,
    "start_time": "2021-07-16T19:54:09.755Z"
   },
   {
    "duration": 6,
    "start_time": "2021-07-16T19:54:11.975Z"
   },
   {
    "duration": 7,
    "start_time": "2021-07-16T19:54:12.150Z"
   },
   {
    "duration": 3,
    "start_time": "2021-07-16T19:54:12.335Z"
   },
   {
    "duration": 4,
    "start_time": "2021-07-16T19:54:12.534Z"
   },
   {
    "duration": 3,
    "start_time": "2021-07-16T19:54:12.718Z"
   },
   {
    "duration": 4,
    "start_time": "2021-07-16T19:54:12.974Z"
   },
   {
    "duration": 5,
    "start_time": "2021-07-16T19:54:14.438Z"
   },
   {
    "duration": 6,
    "start_time": "2021-07-16T19:54:14.598Z"
   },
   {
    "duration": 5,
    "start_time": "2021-07-16T19:54:14.798Z"
   },
   {
    "duration": 5,
    "start_time": "2021-07-16T19:54:15.022Z"
   },
   {
    "duration": 4,
    "start_time": "2021-07-16T19:54:15.198Z"
   },
   {
    "duration": 10384,
    "start_time": "2021-07-16T19:54:17.446Z"
   },
   {
    "duration": 3,
    "start_time": "2021-07-16T19:54:49.070Z"
   },
   {
    "duration": 9,
    "start_time": "2021-07-16T19:54:49.075Z"
   },
   {
    "duration": 28,
    "start_time": "2021-07-16T19:54:49.086Z"
   },
   {
    "duration": 10,
    "start_time": "2021-07-16T19:54:49.116Z"
   },
   {
    "duration": 51,
    "start_time": "2021-07-16T19:54:49.128Z"
   },
   {
    "duration": 7,
    "start_time": "2021-07-16T19:54:49.191Z"
   },
   {
    "duration": 4,
    "start_time": "2021-07-16T19:54:49.200Z"
   },
   {
    "duration": 4,
    "start_time": "2021-07-16T19:54:49.206Z"
   },
   {
    "duration": 11,
    "start_time": "2021-07-16T19:54:49.212Z"
   },
   {
    "duration": 9,
    "start_time": "2021-07-16T19:54:49.225Z"
   },
   {
    "duration": 9,
    "start_time": "2021-07-16T19:54:49.235Z"
   },
   {
    "duration": 5,
    "start_time": "2021-07-16T19:54:49.245Z"
   },
   {
    "duration": 57,
    "start_time": "2021-07-16T19:54:49.251Z"
   },
   {
    "duration": 12,
    "start_time": "2021-07-16T19:54:49.310Z"
   },
   {
    "duration": 6,
    "start_time": "2021-07-16T19:54:49.324Z"
   },
   {
    "duration": 14,
    "start_time": "2021-07-16T19:54:49.331Z"
   },
   {
    "duration": 4,
    "start_time": "2021-07-16T19:54:49.346Z"
   },
   {
    "duration": 9,
    "start_time": "2021-07-16T19:54:49.351Z"
   },
   {
    "duration": 11,
    "start_time": "2021-07-16T19:54:49.361Z"
   },
   {
    "duration": 8,
    "start_time": "2021-07-16T19:54:49.374Z"
   },
   {
    "duration": 15,
    "start_time": "2021-07-16T19:54:49.384Z"
   },
   {
    "duration": 9,
    "start_time": "2021-07-16T19:54:49.401Z"
   },
   {
    "duration": 8,
    "start_time": "2021-07-16T19:54:49.413Z"
   },
   {
    "duration": 9,
    "start_time": "2021-07-16T19:54:49.423Z"
   },
   {
    "duration": 8,
    "start_time": "2021-07-16T19:54:49.433Z"
   },
   {
    "duration": 7,
    "start_time": "2021-07-16T19:54:49.443Z"
   },
   {
    "duration": 7,
    "start_time": "2021-07-16T19:54:49.452Z"
   },
   {
    "duration": 9,
    "start_time": "2021-07-16T19:54:49.460Z"
   },
   {
    "duration": 23,
    "start_time": "2021-07-16T19:54:49.470Z"
   },
   {
    "duration": 6,
    "start_time": "2021-07-16T19:54:49.494Z"
   },
   {
    "duration": 7,
    "start_time": "2021-07-16T19:54:49.502Z"
   },
   {
    "duration": 8,
    "start_time": "2021-07-16T19:54:49.510Z"
   },
   {
    "duration": 11,
    "start_time": "2021-07-16T19:54:49.520Z"
   },
   {
    "duration": 7,
    "start_time": "2021-07-16T19:54:49.532Z"
   },
   {
    "duration": 10377,
    "start_time": "2021-07-16T19:54:49.540Z"
   },
   {
    "duration": 11,
    "start_time": "2021-07-16T19:55:16.863Z"
   },
   {
    "duration": 6,
    "start_time": "2021-07-16T20:03:33.509Z"
   },
   {
    "duration": 3,
    "start_time": "2021-07-16T20:06:16.519Z"
   },
   {
    "duration": 5,
    "start_time": "2021-07-16T20:06:16.524Z"
   },
   {
    "duration": 29,
    "start_time": "2021-07-16T20:06:16.531Z"
   },
   {
    "duration": 10,
    "start_time": "2021-07-16T20:06:16.561Z"
   },
   {
    "duration": 35,
    "start_time": "2021-07-16T20:06:16.572Z"
   },
   {
    "duration": 6,
    "start_time": "2021-07-16T20:06:16.609Z"
   },
   {
    "duration": 5,
    "start_time": "2021-07-16T20:06:16.616Z"
   },
   {
    "duration": 4,
    "start_time": "2021-07-16T20:06:16.623Z"
   },
   {
    "duration": 15,
    "start_time": "2021-07-16T20:06:16.629Z"
   },
   {
    "duration": 9,
    "start_time": "2021-07-16T20:06:16.645Z"
   },
   {
    "duration": 10,
    "start_time": "2021-07-16T20:06:16.655Z"
   },
   {
    "duration": 7,
    "start_time": "2021-07-16T20:06:16.666Z"
   },
   {
    "duration": 42,
    "start_time": "2021-07-16T20:06:16.674Z"
   },
   {
    "duration": 12,
    "start_time": "2021-07-16T20:06:16.718Z"
   },
   {
    "duration": 7,
    "start_time": "2021-07-16T20:06:16.732Z"
   },
   {
    "duration": 15,
    "start_time": "2021-07-16T20:06:16.741Z"
   },
   {
    "duration": 7,
    "start_time": "2021-07-16T20:06:16.757Z"
   },
   {
    "duration": 9,
    "start_time": "2021-07-16T20:06:16.765Z"
   },
   {
    "duration": 15,
    "start_time": "2021-07-16T20:06:16.776Z"
   },
   {
    "duration": 8,
    "start_time": "2021-07-16T20:06:16.793Z"
   },
   {
    "duration": 15,
    "start_time": "2021-07-16T20:06:16.802Z"
   },
   {
    "duration": 12,
    "start_time": "2021-07-16T20:06:16.819Z"
   },
   {
    "duration": 11,
    "start_time": "2021-07-16T20:06:16.833Z"
   },
   {
    "duration": 9,
    "start_time": "2021-07-16T20:06:16.846Z"
   },
   {
    "duration": 11,
    "start_time": "2021-07-16T20:06:16.857Z"
   },
   {
    "duration": 12,
    "start_time": "2021-07-16T20:06:16.869Z"
   },
   {
    "duration": 8,
    "start_time": "2021-07-16T20:06:16.882Z"
   },
   {
    "duration": 8,
    "start_time": "2021-07-16T20:06:16.892Z"
   },
   {
    "duration": 10,
    "start_time": "2021-07-16T20:06:16.901Z"
   },
   {
    "duration": 9,
    "start_time": "2021-07-16T20:06:16.912Z"
   },
   {
    "duration": 9,
    "start_time": "2021-07-16T20:06:16.922Z"
   },
   {
    "duration": 8,
    "start_time": "2021-07-16T20:06:16.932Z"
   },
   {
    "duration": 13,
    "start_time": "2021-07-16T20:06:16.941Z"
   },
   {
    "duration": 9,
    "start_time": "2021-07-16T20:06:16.955Z"
   },
   {
    "duration": 10350,
    "start_time": "2021-07-16T20:06:16.965Z"
   },
   {
    "duration": 79,
    "start_time": "2021-07-16T20:07:20.723Z"
   },
   {
    "duration": 10360,
    "start_time": "2021-07-16T20:07:29.251Z"
   },
   {
    "duration": 10234,
    "start_time": "2021-07-16T20:07:45.067Z"
   },
   {
    "duration": 20,
    "start_time": "2021-07-16T20:08:36.935Z"
   },
   {
    "duration": 11,
    "start_time": "2021-07-16T20:08:51.889Z"
   },
   {
    "duration": 17,
    "start_time": "2021-07-16T20:08:57.579Z"
   },
   {
    "duration": 151,
    "start_time": "2021-07-16T20:10:00.476Z"
   },
   {
    "duration": 3530,
    "start_time": "2021-07-16T20:10:04.691Z"
   },
   {
    "duration": 145,
    "start_time": "2021-07-16T20:10:11.066Z"
   },
   {
    "duration": 21,
    "start_time": "2021-07-16T20:10:18.483Z"
   },
   {
    "duration": 342,
    "start_time": "2021-07-16T20:10:22.082Z"
   },
   {
    "duration": 27290,
    "start_time": "2021-07-16T20:11:39.300Z"
   },
   {
    "duration": 146,
    "start_time": "2021-07-16T20:12:12.794Z"
   },
   {
    "duration": 22,
    "start_time": "2021-07-16T20:12:34.746Z"
   },
   {
    "duration": 312,
    "start_time": "2021-07-16T20:12:36.410Z"
   },
   {
    "duration": 333,
    "start_time": "2021-07-16T20:12:59.273Z"
   },
   {
    "duration": 10,
    "start_time": "2021-07-16T20:14:50.538Z"
   },
   {
    "duration": 7,
    "start_time": "2021-07-16T20:15:51.846Z"
   },
   {
    "duration": 7,
    "start_time": "2021-07-16T20:15:52.969Z"
   },
   {
    "duration": 6,
    "start_time": "2021-07-16T20:16:20.534Z"
   },
   {
    "duration": 6,
    "start_time": "2021-07-16T20:16:21.232Z"
   },
   {
    "duration": 6,
    "start_time": "2021-07-16T20:16:23.049Z"
   },
   {
    "duration": 4,
    "start_time": "2021-07-16T20:16:43.719Z"
   },
   {
    "duration": 12,
    "start_time": "2021-07-16T20:16:44.113Z"
   },
   {
    "duration": 7,
    "start_time": "2021-07-16T20:16:44.648Z"
   },
   {
    "duration": 7,
    "start_time": "2021-07-16T20:16:45.280Z"
   },
   {
    "duration": 6,
    "start_time": "2021-07-16T20:16:45.912Z"
   },
   {
    "duration": 6,
    "start_time": "2021-07-16T20:16:46.384Z"
   },
   {
    "duration": 4,
    "start_time": "2021-07-16T20:16:51.249Z"
   },
   {
    "duration": 9,
    "start_time": "2021-07-16T20:16:51.464Z"
   },
   {
    "duration": 6,
    "start_time": "2021-07-16T20:16:51.680Z"
   },
   {
    "duration": 7,
    "start_time": "2021-07-16T20:16:52.057Z"
   },
   {
    "duration": 6,
    "start_time": "2021-07-16T20:16:52.600Z"
   },
   {
    "duration": 6,
    "start_time": "2021-07-16T20:16:53.121Z"
   },
   {
    "duration": 14002,
    "start_time": "2021-07-16T20:20:49.681Z"
   },
   {
    "duration": 10480,
    "start_time": "2021-07-16T20:23:05.492Z"
   },
   {
    "duration": 14597,
    "start_time": "2021-07-16T20:23:23.087Z"
   },
   {
    "duration": 142,
    "start_time": "2021-07-16T20:24:47.368Z"
   },
   {
    "duration": 19363,
    "start_time": "2021-07-16T20:30:16.216Z"
   },
   {
    "duration": 20156,
    "start_time": "2021-07-16T20:31:42.583Z"
   },
   {
    "duration": 12929,
    "start_time": "2021-07-16T20:32:10.094Z"
   },
   {
    "duration": 5032,
    "start_time": "2021-07-16T20:32:32.227Z"
   },
   {
    "duration": 19712,
    "start_time": "2021-07-16T20:32:41.717Z"
   },
   {
    "duration": 25388,
    "start_time": "2021-07-16T20:33:04.037Z"
   },
   {
    "duration": 39979,
    "start_time": "2021-07-16T20:33:33.612Z"
   },
   {
    "duration": 146,
    "start_time": "2021-07-16T20:34:19.245Z"
   },
   {
    "duration": 21,
    "start_time": "2021-07-16T20:40:15.428Z"
   },
   {
    "duration": 17,
    "start_time": "2021-07-16T20:40:16.546Z"
   },
   {
    "duration": 21,
    "start_time": "2021-07-16T20:40:17.371Z"
   },
   {
    "duration": 335,
    "start_time": "2021-07-16T20:40:27.378Z"
   },
   {
    "duration": 2,
    "start_time": "2021-07-16T20:46:43.572Z"
   },
   {
    "duration": 37,
    "start_time": "2021-07-16T20:48:12.614Z"
   },
   {
    "duration": 37,
    "start_time": "2021-07-16T20:48:20.545Z"
   },
   {
    "duration": 9,
    "start_time": "2021-07-16T20:50:19.889Z"
   },
   {
    "duration": 52,
    "start_time": "2021-07-16T20:50:40.452Z"
   },
   {
    "duration": 52083,
    "start_time": "2021-07-16T20:50:54.001Z"
   },
   {
    "duration": 52040,
    "start_time": "2021-07-16T20:51:50.032Z"
   },
   {
    "duration": 49,
    "start_time": "2021-07-16T20:53:11.704Z"
   },
   {
    "duration": 49,
    "start_time": "2021-07-16T20:53:15.520Z"
   },
   {
    "duration": 50,
    "start_time": "2021-07-16T20:53:18.128Z"
   },
   {
    "duration": 51,
    "start_time": "2021-07-16T20:53:21.367Z"
   },
   {
    "duration": 50,
    "start_time": "2021-07-16T20:53:25.464Z"
   },
   {
    "duration": 51,
    "start_time": "2021-07-16T20:53:28.743Z"
   },
   {
    "duration": 49,
    "start_time": "2021-07-16T20:53:32.471Z"
   },
   {
    "duration": 49,
    "start_time": "2021-07-16T20:53:35.191Z"
   },
   {
    "duration": 49,
    "start_time": "2021-07-16T20:54:16.376Z"
   },
   {
    "duration": 49,
    "start_time": "2021-07-16T20:54:27.215Z"
   },
   {
    "duration": 149,
    "start_time": "2021-07-16T20:54:27.455Z"
   },
   {
    "duration": 36,
    "start_time": "2021-07-16T20:55:17.303Z"
   },
   {
    "duration": 142,
    "start_time": "2021-07-16T20:55:20.791Z"
   },
   {
    "duration": 7,
    "start_time": "2021-07-16T20:57:04.716Z"
   },
   {
    "duration": 7,
    "start_time": "2021-07-16T20:57:05.719Z"
   },
   {
    "duration": 49,
    "start_time": "2021-07-16T20:57:45.076Z"
   },
   {
    "duration": 38,
    "start_time": "2021-07-16T20:57:52.471Z"
   },
   {
    "duration": 50,
    "start_time": "2021-07-16T20:58:03.126Z"
   },
   {
    "duration": 49,
    "start_time": "2021-07-16T20:58:06.621Z"
   },
   {
    "duration": 37,
    "start_time": "2021-07-16T20:58:14.222Z"
   },
   {
    "duration": 7715,
    "start_time": "2021-07-16T20:58:16.526Z"
   },
   {
    "duration": 227,
    "start_time": "2021-07-16T20:58:29.398Z"
   },
   {
    "duration": 37,
    "start_time": "2021-07-16T20:58:35.359Z"
   },
   {
    "duration": 142,
    "start_time": "2021-07-16T20:58:37.095Z"
   },
   {
    "duration": 41,
    "start_time": "2021-07-16T20:58:42.525Z"
   },
   {
    "duration": 37,
    "start_time": "2021-07-16T20:58:45.518Z"
   },
   {
    "duration": 1381,
    "start_time": "2021-07-16T20:59:00.766Z"
   },
   {
    "duration": 53295,
    "start_time": "2021-07-16T20:59:55.540Z"
   },
   {
    "duration": 117,
    "start_time": "2021-07-16T21:01:34.555Z"
   },
   {
    "duration": 287,
    "start_time": "2021-07-16T21:01:38.837Z"
   },
   {
    "duration": 1359,
    "start_time": "2021-07-16T21:01:41.670Z"
   },
   {
    "duration": 2366,
    "start_time": "2021-07-16T21:01:46.398Z"
   },
   {
    "duration": 1374,
    "start_time": "2021-07-16T21:01:51.725Z"
   },
   {
    "duration": 1355,
    "start_time": "2021-07-16T21:03:26.493Z"
   },
   {
    "duration": 181,
    "start_time": "2021-07-16T21:03:30.405Z"
   },
   {
    "duration": 23,
    "start_time": "2021-07-16T21:03:43.310Z"
   },
   {
    "duration": 295,
    "start_time": "2021-07-16T21:03:45.020Z"
   },
   {
    "duration": 4,
    "start_time": "2021-07-17T05:06:45.134Z"
   },
   {
    "duration": 1591,
    "start_time": "2021-07-17T05:06:45.141Z"
   },
   {
    "duration": 39,
    "start_time": "2021-07-17T05:06:46.736Z"
   },
   {
    "duration": 25,
    "start_time": "2021-07-17T05:06:46.779Z"
   },
   {
    "duration": 84,
    "start_time": "2021-07-17T05:06:46.807Z"
   },
   {
    "duration": 15,
    "start_time": "2021-07-17T05:06:46.894Z"
   },
   {
    "duration": 6,
    "start_time": "2021-07-17T05:06:46.911Z"
   },
   {
    "duration": 7,
    "start_time": "2021-07-17T05:06:46.920Z"
   },
   {
    "duration": 60,
    "start_time": "2021-07-17T05:06:46.931Z"
   },
   {
    "duration": 8,
    "start_time": "2021-07-17T05:06:46.994Z"
   },
   {
    "duration": 14,
    "start_time": "2021-07-17T05:06:47.005Z"
   },
   {
    "duration": 4,
    "start_time": "2021-07-17T05:06:47.022Z"
   },
   {
    "duration": 82,
    "start_time": "2021-07-17T05:06:47.028Z"
   },
   {
    "duration": 22,
    "start_time": "2021-07-17T05:06:47.112Z"
   },
   {
    "duration": 5,
    "start_time": "2021-07-17T05:06:47.136Z"
   },
   {
    "duration": 44,
    "start_time": "2021-07-17T05:06:47.143Z"
   },
   {
    "duration": 3,
    "start_time": "2021-07-17T05:06:47.190Z"
   },
   {
    "duration": 7,
    "start_time": "2021-07-17T05:06:47.195Z"
   },
   {
    "duration": 8,
    "start_time": "2021-07-17T05:06:47.204Z"
   },
   {
    "duration": 6,
    "start_time": "2021-07-17T05:06:47.214Z"
   },
   {
    "duration": 16,
    "start_time": "2021-07-17T05:06:47.223Z"
   },
   {
    "duration": 44,
    "start_time": "2021-07-17T05:06:47.241Z"
   },
   {
    "duration": 20,
    "start_time": "2021-07-17T05:06:47.288Z"
   },
   {
    "duration": 20,
    "start_time": "2021-07-17T05:06:47.310Z"
   },
   {
    "duration": 13,
    "start_time": "2021-07-17T05:06:47.333Z"
   },
   {
    "duration": 9,
    "start_time": "2021-07-17T05:06:47.348Z"
   },
   {
    "duration": 21,
    "start_time": "2021-07-17T05:06:47.365Z"
   },
   {
    "duration": 7,
    "start_time": "2021-07-17T05:06:47.390Z"
   },
   {
    "duration": 10,
    "start_time": "2021-07-17T05:06:47.400Z"
   },
   {
    "duration": 17,
    "start_time": "2021-07-17T05:06:47.413Z"
   },
   {
    "duration": 8,
    "start_time": "2021-07-17T05:06:47.432Z"
   },
   {
    "duration": 10,
    "start_time": "2021-07-17T05:06:47.442Z"
   },
   {
    "duration": 31,
    "start_time": "2021-07-17T05:06:47.455Z"
   },
   {
    "duration": 4,
    "start_time": "2021-07-17T05:06:47.489Z"
   },
   {
    "duration": 17698,
    "start_time": "2021-07-17T05:06:47.495Z"
   },
   {
    "duration": 289,
    "start_time": "2021-07-17T05:07:05.196Z"
   },
   {
    "duration": 44675,
    "start_time": "2021-07-17T05:07:05.488Z"
   },
   {
    "duration": 279,
    "start_time": "2021-07-17T05:07:50.165Z"
   },
   {
    "duration": 42,
    "start_time": "2021-07-17T05:07:50.447Z"
   },
   {
    "duration": 548,
    "start_time": "2021-07-17T05:07:50.492Z"
   },
   {
    "duration": 5,
    "start_time": "2021-07-17T05:07:51.042Z"
   },
   {
    "duration": 15,
    "start_time": "2021-07-17T05:07:51.050Z"
   },
   {
    "duration": 8,
    "start_time": "2021-07-17T05:07:51.086Z"
   },
   {
    "duration": 8,
    "start_time": "2021-07-17T05:07:51.097Z"
   },
   {
    "duration": 10,
    "start_time": "2021-07-17T05:07:51.107Z"
   },
   {
    "duration": 7,
    "start_time": "2021-07-17T05:07:51.120Z"
   },
   {
    "duration": 23148,
    "start_time": "2021-07-17T05:07:51.130Z"
   },
   {
    "duration": 17486,
    "start_time": "2021-07-17T05:08:14.284Z"
   },
   {
    "duration": 24214,
    "start_time": "2021-07-17T05:08:31.772Z"
   },
   {
    "duration": 262,
    "start_time": "2021-07-17T05:08:55.989Z"
   },
   {
    "duration": 64261,
    "start_time": "2021-07-17T05:08:56.255Z"
   },
   {
    "duration": -857,
    "start_time": "2021-07-17T05:10:01.377Z"
   },
   {
    "duration": -863,
    "start_time": "2021-07-17T05:10:01.385Z"
   },
   {
    "duration": -865,
    "start_time": "2021-07-17T05:10:01.389Z"
   },
   {
    "duration": -873,
    "start_time": "2021-07-17T05:10:01.399Z"
   },
   {
    "duration": -875,
    "start_time": "2021-07-17T05:10:01.403Z"
   },
   {
    "duration": -876,
    "start_time": "2021-07-17T05:10:01.406Z"
   },
   {
    "duration": -884,
    "start_time": "2021-07-17T05:10:01.416Z"
   },
   {
    "duration": -885,
    "start_time": "2021-07-17T05:10:01.420Z"
   },
   {
    "duration": -886,
    "start_time": "2021-07-17T05:10:01.423Z"
   },
   {
    "duration": -894,
    "start_time": "2021-07-17T05:10:01.433Z"
   },
   {
    "duration": -896,
    "start_time": "2021-07-17T05:10:01.437Z"
   },
   {
    "duration": -898,
    "start_time": "2021-07-17T05:10:01.441Z"
   },
   {
    "duration": -906,
    "start_time": "2021-07-17T05:10:01.451Z"
   },
   {
    "duration": -908,
    "start_time": "2021-07-17T05:10:01.455Z"
   },
   {
    "duration": 4,
    "start_time": "2021-07-17T05:10:52.951Z"
   },
   {
    "duration": 4,
    "start_time": "2021-07-17T05:12:45.475Z"
   },
   {
    "duration": 4,
    "start_time": "2021-07-17T05:12:46.305Z"
   },
   {
    "duration": 14,
    "start_time": "2021-07-17T05:12:47.998Z"
   },
   {
    "duration": 12,
    "start_time": "2021-07-17T05:12:48.478Z"
   },
   {
    "duration": 19,
    "start_time": "2021-07-17T05:12:48.662Z"
   },
   {
    "duration": 6,
    "start_time": "2021-07-17T05:15:23.475Z"
   },
   {
    "duration": 6,
    "start_time": "2021-07-17T05:15:37.413Z"
   },
   {
    "duration": 5,
    "start_time": "2021-07-17T05:15:51.077Z"
   },
   {
    "duration": 6,
    "start_time": "2021-07-17T05:16:04.685Z"
   },
   {
    "duration": 6,
    "start_time": "2021-07-17T05:20:17.442Z"
   },
   {
    "duration": 340,
    "start_time": "2021-07-17T05:21:09.922Z"
   },
   {
    "duration": 325,
    "start_time": "2021-07-17T05:21:15.349Z"
   },
   {
    "duration": 315,
    "start_time": "2021-07-17T05:21:19.037Z"
   },
   {
    "duration": 257,
    "start_time": "2021-07-17T05:21:22.413Z"
   },
   {
    "duration": 16201,
    "start_time": "2021-07-17T05:21:25.973Z"
   },
   {
    "duration": 284,
    "start_time": "2021-07-17T05:21:42.177Z"
   },
   {
    "duration": 92644,
    "start_time": "2021-07-17T06:00:29.304Z"
   },
   {
    "duration": 8,
    "start_time": "2021-07-17T06:02:09.992Z"
   },
   {
    "duration": 6,
    "start_time": "2021-07-17T06:02:24.676Z"
   },
   {
    "duration": 7,
    "start_time": "2021-07-17T06:02:30.874Z"
   },
   {
    "duration": 7,
    "start_time": "2021-07-17T06:02:40.747Z"
   },
   {
    "duration": 81091,
    "start_time": "2021-07-17T06:03:00.258Z"
   },
   {
    "duration": 14,
    "start_time": "2021-07-17T06:06:15.534Z"
   },
   {
    "duration": 3,
    "start_time": "2021-07-17T06:06:51.778Z"
   },
   {
    "duration": 4,
    "start_time": "2021-07-17T06:07:24.530Z"
   },
   {
    "duration": 24900,
    "start_time": "2021-07-17T06:08:01.486Z"
   },
   {
    "duration": 21347,
    "start_time": "2021-07-17T06:08:39.881Z"
   },
   {
    "duration": 22744,
    "start_time": "2021-07-17T06:09:41.429Z"
   },
   {
    "duration": 248,
    "start_time": "2021-07-17T06:10:11.568Z"
   },
   {
    "duration": 65684,
    "start_time": "2021-07-17T06:16:22.672Z"
   },
   {
    "duration": 65389,
    "start_time": "2021-07-17T06:17:56.920Z"
   },
   {
    "duration": 42921,
    "start_time": "2021-07-17T06:19:02.312Z"
   },
   {
    "duration": 66597,
    "start_time": "2021-07-17T06:19:45.237Z"
   },
   {
    "duration": 290,
    "start_time": "2021-07-17T06:20:51.837Z"
   },
   {
    "duration": 65,
    "start_time": "2021-07-17T06:20:52.129Z"
   },
   {
    "duration": 189,
    "start_time": "2021-07-17T06:20:52.198Z"
   },
   {
    "duration": 196,
    "start_time": "2021-07-17T06:20:52.391Z"
   },
   {
    "duration": 545,
    "start_time": "2021-07-17T06:20:52.591Z"
   },
   {
    "duration": 4,
    "start_time": "2021-07-17T06:20:53.139Z"
   },
   {
    "duration": 74,
    "start_time": "2021-07-17T06:20:53.146Z"
   },
   {
    "duration": 282,
    "start_time": "2021-07-17T06:20:53.222Z"
   },
   {
    "duration": 2257,
    "start_time": "2021-07-17T06:20:53.507Z"
   },
   {
    "duration": 323,
    "start_time": "2021-07-17T06:20:55.767Z"
   },
   {
    "duration": 97,
    "start_time": "2021-07-17T06:20:56.093Z"
   },
   {
    "duration": 537,
    "start_time": "2021-07-17T06:20:56.193Z"
   },
   {
    "duration": 2421,
    "start_time": "2021-07-17T06:26:52.977Z"
   },
   {
    "duration": 59,
    "start_time": "2021-07-17T06:27:26.137Z"
   },
   {
    "duration": 34,
    "start_time": "2021-07-17T06:27:49.852Z"
   },
   {
    "duration": 111,
    "start_time": "2021-07-17T07:21:21.607Z"
   },
   {
    "duration": 4,
    "start_time": "2021-07-17T07:48:41.244Z"
   },
   {
    "duration": 1584,
    "start_time": "2021-07-17T07:48:41.251Z"
   },
   {
    "duration": 39,
    "start_time": "2021-07-17T07:48:42.838Z"
   },
   {
    "duration": 22,
    "start_time": "2021-07-17T07:48:42.880Z"
   },
   {
    "duration": 65,
    "start_time": "2021-07-17T07:48:42.904Z"
   },
   {
    "duration": 24,
    "start_time": "2021-07-17T07:48:42.971Z"
   },
   {
    "duration": 6,
    "start_time": "2021-07-17T07:48:42.998Z"
   },
   {
    "duration": 6,
    "start_time": "2021-07-17T07:48:43.007Z"
   },
   {
    "duration": 19,
    "start_time": "2021-07-17T07:48:43.016Z"
   },
   {
    "duration": 49,
    "start_time": "2021-07-17T07:48:43.037Z"
   },
   {
    "duration": 12,
    "start_time": "2021-07-17T07:48:43.089Z"
   },
   {
    "duration": 5,
    "start_time": "2021-07-17T07:48:43.104Z"
   },
   {
    "duration": 79,
    "start_time": "2021-07-17T07:48:43.111Z"
   },
   {
    "duration": 22,
    "start_time": "2021-07-17T07:48:43.193Z"
   },
   {
    "duration": 8,
    "start_time": "2021-07-17T07:48:43.217Z"
   },
   {
    "duration": 25,
    "start_time": "2021-07-17T07:48:43.228Z"
   },
   {
    "duration": 29,
    "start_time": "2021-07-17T07:48:43.256Z"
   },
   {
    "duration": 6,
    "start_time": "2021-07-17T07:48:43.288Z"
   },
   {
    "duration": 8,
    "start_time": "2021-07-17T07:48:43.297Z"
   },
   {
    "duration": 5,
    "start_time": "2021-07-17T07:48:43.308Z"
   },
   {
    "duration": 19,
    "start_time": "2021-07-17T07:48:43.315Z"
   },
   {
    "duration": 13,
    "start_time": "2021-07-17T07:48:43.337Z"
   },
   {
    "duration": 22,
    "start_time": "2021-07-17T07:48:43.391Z"
   },
   {
    "duration": 10,
    "start_time": "2021-07-17T07:48:43.417Z"
   },
   {
    "duration": 9,
    "start_time": "2021-07-17T07:48:43.430Z"
   },
   {
    "duration": 47,
    "start_time": "2021-07-17T07:48:43.441Z"
   },
   {
    "duration": 7,
    "start_time": "2021-07-17T07:48:43.491Z"
   },
   {
    "duration": 6,
    "start_time": "2021-07-17T07:48:43.500Z"
   },
   {
    "duration": 6,
    "start_time": "2021-07-17T07:48:43.508Z"
   },
   {
    "duration": 14,
    "start_time": "2021-07-17T07:48:43.517Z"
   },
   {
    "duration": 56,
    "start_time": "2021-07-17T07:48:43.534Z"
   },
   {
    "duration": 8,
    "start_time": "2021-07-17T07:48:43.592Z"
   },
   {
    "duration": 7,
    "start_time": "2021-07-17T07:48:43.602Z"
   },
   {
    "duration": 13,
    "start_time": "2021-07-17T07:48:43.612Z"
   },
   {
    "duration": 15840,
    "start_time": "2021-07-17T07:48:43.627Z"
   },
   {
    "duration": 288,
    "start_time": "2021-07-17T07:48:59.470Z"
   },
   {
    "duration": 80926,
    "start_time": "2021-07-17T07:48:59.760Z"
   },
   {
    "duration": 305,
    "start_time": "2021-07-17T07:50:20.688Z"
   },
   {
    "duration": 90,
    "start_time": "2021-07-17T07:50:20.996Z"
   },
   {
    "duration": 549,
    "start_time": "2021-07-17T07:50:21.090Z"
   },
   {
    "duration": 6,
    "start_time": "2021-07-17T07:50:21.641Z"
   },
   {
    "duration": 21,
    "start_time": "2021-07-17T07:50:21.649Z"
   },
   {
    "duration": 9,
    "start_time": "2021-07-17T07:50:21.684Z"
   },
   {
    "duration": 8,
    "start_time": "2021-07-17T07:50:21.695Z"
   },
   {
    "duration": 10,
    "start_time": "2021-07-17T07:50:21.705Z"
   },
   {
    "duration": 8,
    "start_time": "2021-07-17T07:50:21.717Z"
   },
   {
    "duration": 22658,
    "start_time": "2021-07-17T07:50:21.727Z"
   },
   {
    "duration": 16642,
    "start_time": "2021-07-17T07:50:44.388Z"
   },
   {
    "duration": 23625,
    "start_time": "2021-07-17T07:51:01.032Z"
   },
   {
    "duration": 287,
    "start_time": "2021-07-17T07:51:24.660Z"
   },
   {
    "duration": 64654,
    "start_time": "2021-07-17T07:51:24.950Z"
   },
   {
    "duration": 42946,
    "start_time": "2021-07-17T07:52:29.606Z"
   },
   {
    "duration": 62385,
    "start_time": "2021-07-17T07:53:12.554Z"
   },
   {
    "duration": 279,
    "start_time": "2021-07-17T07:54:14.941Z"
   },
   {
    "duration": 162,
    "start_time": "2021-07-17T07:54:15.223Z"
   },
   {
    "duration": 97,
    "start_time": "2021-07-17T07:54:15.389Z"
   },
   {
    "duration": 196,
    "start_time": "2021-07-17T07:54:15.490Z"
   },
   {
    "duration": 533,
    "start_time": "2021-07-17T07:54:15.690Z"
   },
   {
    "duration": 70,
    "start_time": "2021-07-17T07:54:16.226Z"
   },
   {
    "duration": 269,
    "start_time": "2021-07-17T07:54:16.299Z"
   },
   {
    "duration": 2167,
    "start_time": "2021-07-17T07:54:16.570Z"
   },
   {
    "duration": 315,
    "start_time": "2021-07-17T07:54:18.739Z"
   },
   {
    "duration": 52,
    "start_time": "2021-07-17T07:54:19.056Z"
   },
   {
    "duration": 439,
    "start_time": "2021-07-17T07:54:19.186Z"
   },
   {
    "duration": 93,
    "start_time": "2021-07-18T08:17:20.705Z"
   },
   {
    "duration": 88,
    "start_time": "2021-07-18T08:33:27.637Z"
   },
   {
    "duration": 4,
    "start_time": "2021-07-18T09:09:07.536Z"
   },
   {
    "duration": 1219,
    "start_time": "2021-07-18T09:09:07.541Z"
   },
   {
    "duration": 28,
    "start_time": "2021-07-18T09:09:08.762Z"
   },
   {
    "duration": 14,
    "start_time": "2021-07-18T09:09:08.792Z"
   },
   {
    "duration": 41,
    "start_time": "2021-07-18T09:09:08.808Z"
   },
   {
    "duration": 11,
    "start_time": "2021-07-18T09:09:08.851Z"
   },
   {
    "duration": 5,
    "start_time": "2021-07-18T09:09:08.864Z"
   },
   {
    "duration": 5,
    "start_time": "2021-07-18T09:09:08.873Z"
   },
   {
    "duration": 20,
    "start_time": "2021-07-18T09:09:08.880Z"
   },
   {
    "duration": 8,
    "start_time": "2021-07-18T09:09:08.902Z"
   },
   {
    "duration": 12,
    "start_time": "2021-07-18T09:09:08.940Z"
   },
   {
    "duration": 402,
    "start_time": "2021-07-18T09:09:22.929Z"
   },
   {
    "duration": 4,
    "start_time": "2021-07-18T09:09:31.517Z"
   },
   {
    "duration": 3,
    "start_time": "2021-07-18T09:09:34.657Z"
   },
   {
    "duration": 33,
    "start_time": "2021-07-18T09:09:35.921Z"
   },
   {
    "duration": 18,
    "start_time": "2021-07-18T09:09:36.209Z"
   },
   {
    "duration": 5,
    "start_time": "2021-07-18T09:09:41.857Z"
   },
   {
    "duration": 11,
    "start_time": "2021-07-18T09:09:42.569Z"
   },
   {
    "duration": 3,
    "start_time": "2021-07-18T09:09:43.552Z"
   },
   {
    "duration": 2,
    "start_time": "2021-07-18T09:09:44.928Z"
   },
   {
    "duration": 2,
    "start_time": "2021-07-18T09:09:45.096Z"
   },
   {
    "duration": 2,
    "start_time": "2021-07-18T09:09:45.298Z"
   },
   {
    "duration": 10,
    "start_time": "2021-07-18T09:09:45.473Z"
   },
   {
    "duration": 6,
    "start_time": "2021-07-18T09:09:45.640Z"
   },
   {
    "duration": 10,
    "start_time": "2021-07-18T09:09:46.489Z"
   },
   {
    "duration": 6,
    "start_time": "2021-07-18T09:09:48.256Z"
   },
   {
    "duration": 6,
    "start_time": "2021-07-18T09:09:48.480Z"
   },
   {
    "duration": 4,
    "start_time": "2021-07-18T09:09:48.680Z"
   },
   {
    "duration": 4,
    "start_time": "2021-07-18T09:09:48.903Z"
   },
   {
    "duration": 4,
    "start_time": "2021-07-18T09:09:49.808Z"
   },
   {
    "duration": 4,
    "start_time": "2021-07-18T09:09:49.983Z"
   },
   {
    "duration": 5,
    "start_time": "2021-07-18T09:09:52.144Z"
   },
   {
    "duration": 5,
    "start_time": "2021-07-18T09:09:52.343Z"
   },
   {
    "duration": 5,
    "start_time": "2021-07-18T09:09:52.551Z"
   },
   {
    "duration": 4,
    "start_time": "2021-07-18T09:09:52.727Z"
   },
   {
    "duration": 4,
    "start_time": "2021-07-18T09:09:52.928Z"
   },
   {
    "duration": 6733,
    "start_time": "2021-07-18T09:09:55.112Z"
   },
   {
    "duration": 159,
    "start_time": "2021-07-18T09:10:01.847Z"
   },
   {
    "duration": 4,
    "start_time": "2021-07-18T09:34:29.066Z"
   },
   {
    "duration": 1110,
    "start_time": "2021-07-18T09:34:29.072Z"
   },
   {
    "duration": 29,
    "start_time": "2021-07-18T09:34:30.184Z"
   },
   {
    "duration": 15,
    "start_time": "2021-07-18T09:34:30.214Z"
   },
   {
    "duration": 41,
    "start_time": "2021-07-18T09:34:30.231Z"
   },
   {
    "duration": 8,
    "start_time": "2021-07-18T09:34:30.275Z"
   },
   {
    "duration": 9,
    "start_time": "2021-07-18T09:34:30.285Z"
   },
   {
    "duration": 5,
    "start_time": "2021-07-18T09:34:30.296Z"
   },
   {
    "duration": 14,
    "start_time": "2021-07-18T09:34:30.303Z"
   },
   {
    "duration": 28,
    "start_time": "2021-07-18T09:34:30.319Z"
   },
   {
    "duration": 14,
    "start_time": "2021-07-18T09:34:30.349Z"
   },
   {
    "duration": 9,
    "start_time": "2021-07-18T09:34:30.365Z"
   },
   {
    "duration": 15,
    "start_time": "2021-07-18T09:34:30.376Z"
   },
   {
    "duration": 26,
    "start_time": "2021-07-18T09:34:30.393Z"
   },
   {
    "duration": 29,
    "start_time": "2021-07-18T09:34:30.421Z"
   },
   {
    "duration": 13,
    "start_time": "2021-07-18T09:34:30.452Z"
   },
   {
    "duration": 24,
    "start_time": "2021-07-18T09:34:30.467Z"
   },
   {
    "duration": 16,
    "start_time": "2021-07-18T09:34:30.492Z"
   },
   {
    "duration": 13,
    "start_time": "2021-07-18T09:34:30.509Z"
   },
   {
    "duration": 23,
    "start_time": "2021-07-18T09:34:30.524Z"
   },
   {
    "duration": 21,
    "start_time": "2021-07-18T09:34:30.549Z"
   },
   {
    "duration": 34,
    "start_time": "2021-07-18T09:34:30.571Z"
   },
   {
    "duration": 13,
    "start_time": "2021-07-18T09:34:30.607Z"
   },
   {
    "duration": 27,
    "start_time": "2021-07-18T09:34:30.623Z"
   },
   {
    "duration": 10,
    "start_time": "2021-07-18T09:34:30.653Z"
   },
   {
    "duration": 22,
    "start_time": "2021-07-18T09:34:30.664Z"
   },
   {
    "duration": 4,
    "start_time": "2021-07-18T09:34:30.691Z"
   },
   {
    "duration": 15,
    "start_time": "2021-07-18T09:34:30.697Z"
   },
   {
    "duration": 13,
    "start_time": "2021-07-18T09:34:30.714Z"
   },
   {
    "duration": 13,
    "start_time": "2021-07-18T09:34:30.729Z"
   },
   {
    "duration": 19,
    "start_time": "2021-07-18T09:34:30.744Z"
   },
   {
    "duration": 18,
    "start_time": "2021-07-18T09:34:30.764Z"
   },
   {
    "duration": 15,
    "start_time": "2021-07-18T09:34:30.784Z"
   },
   {
    "duration": 12,
    "start_time": "2021-07-18T09:34:30.801Z"
   },
   {
    "duration": 9,
    "start_time": "2021-07-18T09:34:30.814Z"
   },
   {
    "duration": 6974,
    "start_time": "2021-07-18T09:34:30.825Z"
   },
   {
    "duration": 164,
    "start_time": "2021-07-18T09:34:37.801Z"
   },
   {
    "duration": 43099,
    "start_time": "2021-07-18T09:34:37.966Z"
   },
   {
    "duration": 175,
    "start_time": "2021-07-18T09:35:21.067Z"
   },
   {
    "duration": 22,
    "start_time": "2021-07-18T09:35:21.244Z"
   },
   {
    "duration": 340,
    "start_time": "2021-07-18T09:35:21.342Z"
   },
   {
    "duration": 4,
    "start_time": "2021-07-18T09:35:21.684Z"
   },
   {
    "duration": 12,
    "start_time": "2021-07-18T09:35:21.689Z"
   },
   {
    "duration": 5,
    "start_time": "2021-07-18T09:35:21.703Z"
   },
   {
    "duration": 6,
    "start_time": "2021-07-18T09:35:21.710Z"
   },
   {
    "duration": 26,
    "start_time": "2021-07-18T09:35:21.717Z"
   },
   {
    "duration": 6,
    "start_time": "2021-07-18T09:35:21.745Z"
   },
   {
    "duration": 9044,
    "start_time": "2021-07-18T09:35:21.752Z"
   },
   {
    "duration": 6857,
    "start_time": "2021-07-18T09:35:30.798Z"
   },
   {
    "duration": 9920,
    "start_time": "2021-07-18T09:35:37.657Z"
   },
   {
    "duration": 162,
    "start_time": "2021-07-18T09:35:47.579Z"
   },
   {
    "duration": 33672,
    "start_time": "2021-07-18T09:35:47.743Z"
   },
   {
    "duration": 31601,
    "start_time": "2021-07-18T09:36:21.417Z"
   },
   {
    "duration": 46982,
    "start_time": "2021-07-18T09:36:53.021Z"
   },
   {
    "duration": 252,
    "start_time": "2021-07-18T09:37:40.005Z"
   },
   {
    "duration": 80,
    "start_time": "2021-07-18T09:37:40.260Z"
   },
   {
    "duration": 202,
    "start_time": "2021-07-18T09:37:40.343Z"
   },
   {
    "duration": 197,
    "start_time": "2021-07-18T09:37:40.549Z"
   },
   {
    "duration": 507,
    "start_time": "2021-07-18T09:37:40.749Z"
   },
   {
    "duration": 34,
    "start_time": "2021-07-18T09:37:41.258Z"
   },
   {
    "duration": 259,
    "start_time": "2021-07-18T09:37:41.294Z"
   },
   {
    "duration": 1548,
    "start_time": "2021-07-18T09:37:41.555Z"
   },
   {
    "duration": 299,
    "start_time": "2021-07-18T09:37:43.105Z"
   },
   {
    "duration": 136,
    "start_time": "2021-07-18T09:37:43.406Z"
   },
   {
    "duration": 427,
    "start_time": "2021-07-18T09:37:43.545Z"
   },
   {
    "duration": 108,
    "start_time": "2021-07-18T14:40:22.884Z"
   },
   {
    "duration": 349,
    "start_time": "2021-07-18T14:41:33.204Z"
   },
   {
    "duration": 4,
    "start_time": "2021-07-18T14:41:41.315Z"
   },
   {
    "duration": 1403,
    "start_time": "2021-07-18T14:41:41.322Z"
   },
   {
    "duration": 38,
    "start_time": "2021-07-18T14:41:42.729Z"
   },
   {
    "duration": 25,
    "start_time": "2021-07-18T14:41:42.770Z"
   },
   {
    "duration": 62,
    "start_time": "2021-07-18T14:41:42.798Z"
   },
   {
    "duration": 34,
    "start_time": "2021-07-18T14:41:42.863Z"
   },
   {
    "duration": 7,
    "start_time": "2021-07-18T14:41:42.900Z"
   },
   {
    "duration": 5,
    "start_time": "2021-07-18T14:41:42.910Z"
   },
   {
    "duration": 21,
    "start_time": "2021-07-18T14:41:42.919Z"
   },
   {
    "duration": 49,
    "start_time": "2021-07-18T14:41:42.943Z"
   },
   {
    "duration": 17,
    "start_time": "2021-07-18T14:41:42.994Z"
   },
   {
    "duration": 7,
    "start_time": "2021-07-18T14:41:43.013Z"
   },
   {
    "duration": 18,
    "start_time": "2021-07-18T14:41:44.925Z"
   },
   {
    "duration": 4,
    "start_time": "2021-07-18T14:43:48.384Z"
   },
   {
    "duration": 7,
    "start_time": "2021-07-18T14:43:48.391Z"
   },
   {
    "duration": 40,
    "start_time": "2021-07-18T14:43:48.401Z"
   },
   {
    "duration": 55,
    "start_time": "2021-07-18T14:43:48.444Z"
   },
   {
    "duration": 60,
    "start_time": "2021-07-18T14:43:48.501Z"
   },
   {
    "duration": 31,
    "start_time": "2021-07-18T14:43:48.563Z"
   },
   {
    "duration": 5,
    "start_time": "2021-07-18T14:43:48.596Z"
   },
   {
    "duration": 6,
    "start_time": "2021-07-18T14:43:48.603Z"
   },
   {
    "duration": 21,
    "start_time": "2021-07-18T14:43:48.613Z"
   },
   {
    "duration": 52,
    "start_time": "2021-07-18T14:43:48.637Z"
   },
   {
    "duration": 12,
    "start_time": "2021-07-18T14:43:48.691Z"
   },
   {
    "duration": 7,
    "start_time": "2021-07-18T14:43:48.707Z"
   },
   {
    "duration": 18,
    "start_time": "2021-07-18T14:43:48.717Z"
   },
   {
    "duration": 7,
    "start_time": "2021-07-18T14:43:48.738Z"
   },
   {
    "duration": 77,
    "start_time": "2021-07-18T14:43:48.747Z"
   },
   {
    "duration": 22,
    "start_time": "2021-07-18T14:43:48.827Z"
   },
   {
    "duration": 5,
    "start_time": "2021-07-18T14:43:48.853Z"
   },
   {
    "duration": 40,
    "start_time": "2021-07-18T14:43:48.860Z"
   },
   {
    "duration": 5,
    "start_time": "2021-07-18T14:43:48.903Z"
   },
   {
    "duration": 8,
    "start_time": "2021-07-18T14:43:48.911Z"
   },
   {
    "duration": 5,
    "start_time": "2021-07-18T14:43:48.922Z"
   },
   {
    "duration": 6,
    "start_time": "2021-07-18T14:43:48.930Z"
   },
   {
    "duration": 54,
    "start_time": "2021-07-18T14:43:48.938Z"
   },
   {
    "duration": 9,
    "start_time": "2021-07-18T14:43:48.994Z"
   },
   {
    "duration": 18,
    "start_time": "2021-07-18T14:43:49.006Z"
   },
   {
    "duration": 10,
    "start_time": "2021-07-18T14:43:49.027Z"
   },
   {
    "duration": 44,
    "start_time": "2021-07-18T14:43:49.044Z"
   },
   {
    "duration": 7,
    "start_time": "2021-07-18T14:43:49.091Z"
   },
   {
    "duration": 6,
    "start_time": "2021-07-18T14:43:49.100Z"
   },
   {
    "duration": 11,
    "start_time": "2021-07-18T14:43:49.108Z"
   },
   {
    "duration": 10,
    "start_time": "2021-07-18T14:43:49.122Z"
   },
   {
    "duration": 12,
    "start_time": "2021-07-18T14:43:49.135Z"
   },
   {
    "duration": 37,
    "start_time": "2021-07-18T14:43:49.150Z"
   },
   {
    "duration": 10,
    "start_time": "2021-07-18T14:43:49.189Z"
   },
   {
    "duration": 8,
    "start_time": "2021-07-18T14:43:49.202Z"
   },
   {
    "duration": 6,
    "start_time": "2021-07-18T14:43:49.212Z"
   },
   {
    "duration": 898,
    "start_time": "2021-07-18T14:43:49.220Z"
   },
   {
    "duration": -179,
    "start_time": "2021-07-18T14:43:50.300Z"
   },
   {
    "duration": -183,
    "start_time": "2021-07-18T14:43:50.305Z"
   },
   {
    "duration": -187,
    "start_time": "2021-07-18T14:43:50.310Z"
   },
   {
    "duration": -189,
    "start_time": "2021-07-18T14:43:50.314Z"
   },
   {
    "duration": -192,
    "start_time": "2021-07-18T14:43:50.318Z"
   },
   {
    "duration": -194,
    "start_time": "2021-07-18T14:43:50.322Z"
   },
   {
    "duration": -196,
    "start_time": "2021-07-18T14:43:50.326Z"
   },
   {
    "duration": -199,
    "start_time": "2021-07-18T14:43:50.330Z"
   },
   {
    "duration": -200,
    "start_time": "2021-07-18T14:43:50.333Z"
   },
   {
    "duration": -203,
    "start_time": "2021-07-18T14:43:50.337Z"
   },
   {
    "duration": -209,
    "start_time": "2021-07-18T14:43:50.344Z"
   },
   {
    "duration": -212,
    "start_time": "2021-07-18T14:43:50.349Z"
   },
   {
    "duration": -216,
    "start_time": "2021-07-18T14:43:50.354Z"
   },
   {
    "duration": -220,
    "start_time": "2021-07-18T14:43:50.359Z"
   },
   {
    "duration": -222,
    "start_time": "2021-07-18T14:43:50.363Z"
   },
   {
    "duration": -226,
    "start_time": "2021-07-18T14:43:50.368Z"
   },
   {
    "duration": -229,
    "start_time": "2021-07-18T14:43:50.372Z"
   },
   {
    "duration": -233,
    "start_time": "2021-07-18T14:43:50.377Z"
   },
   {
    "duration": -236,
    "start_time": "2021-07-18T14:43:50.382Z"
   },
   {
    "duration": -241,
    "start_time": "2021-07-18T14:43:50.388Z"
   },
   {
    "duration": -244,
    "start_time": "2021-07-18T14:43:50.392Z"
   },
   {
    "duration": -251,
    "start_time": "2021-07-18T14:43:50.401Z"
   },
   {
    "duration": -254,
    "start_time": "2021-07-18T14:43:50.405Z"
   },
   {
    "duration": -258,
    "start_time": "2021-07-18T14:43:50.410Z"
   },
   {
    "duration": -261,
    "start_time": "2021-07-18T14:43:50.414Z"
   },
   {
    "duration": -264,
    "start_time": "2021-07-18T14:43:50.419Z"
   },
   {
    "duration": -267,
    "start_time": "2021-07-18T14:43:50.423Z"
   },
   {
    "duration": -271,
    "start_time": "2021-07-18T14:43:50.428Z"
   },
   {
    "duration": -274,
    "start_time": "2021-07-18T14:43:50.432Z"
   },
   {
    "duration": 7,
    "start_time": "2021-07-18T14:44:29.600Z"
   },
   {
    "duration": 13,
    "start_time": "2021-07-18T14:44:30.002Z"
   },
   {
    "duration": 9,
    "start_time": "2021-07-18T14:44:31.587Z"
   },
   {
    "duration": 20,
    "start_time": "2021-07-18T14:44:34.747Z"
   },
   {
    "duration": 125,
    "start_time": "2021-07-18T14:45:15.860Z"
   },
   {
    "duration": 5,
    "start_time": "2021-07-18T14:49:16.074Z"
   },
   {
    "duration": 1548,
    "start_time": "2021-07-18T14:49:16.081Z"
   },
   {
    "duration": 38,
    "start_time": "2021-07-18T14:49:17.632Z"
   },
   {
    "duration": 23,
    "start_time": "2021-07-18T14:49:17.672Z"
   },
   {
    "duration": 62,
    "start_time": "2021-07-18T14:49:17.697Z"
   },
   {
    "duration": 31,
    "start_time": "2021-07-18T14:49:17.761Z"
   },
   {
    "duration": 5,
    "start_time": "2021-07-18T14:49:17.795Z"
   },
   {
    "duration": 5,
    "start_time": "2021-07-18T14:49:17.804Z"
   },
   {
    "duration": 20,
    "start_time": "2021-07-18T14:49:17.812Z"
   },
   {
    "duration": 51,
    "start_time": "2021-07-18T14:49:17.835Z"
   },
   {
    "duration": 13,
    "start_time": "2021-07-18T14:49:17.888Z"
   },
   {
    "duration": 9,
    "start_time": "2021-07-18T14:49:17.903Z"
   },
   {
    "duration": 19,
    "start_time": "2021-07-18T14:49:17.914Z"
   },
   {
    "duration": 5,
    "start_time": "2021-07-18T14:49:17.936Z"
   },
   {
    "duration": 73,
    "start_time": "2021-07-18T14:49:17.944Z"
   },
   {
    "duration": 22,
    "start_time": "2021-07-18T14:49:18.020Z"
   },
   {
    "duration": 9,
    "start_time": "2021-07-18T14:49:18.044Z"
   },
   {
    "duration": 42,
    "start_time": "2021-07-18T14:49:18.056Z"
   },
   {
    "duration": 12,
    "start_time": "2021-07-18T14:49:18.100Z"
   },
   {
    "duration": 7,
    "start_time": "2021-07-18T14:49:18.115Z"
   },
   {
    "duration": 6,
    "start_time": "2021-07-18T14:49:18.125Z"
   },
   {
    "duration": 8,
    "start_time": "2021-07-18T14:49:18.134Z"
   },
   {
    "duration": 41,
    "start_time": "2021-07-18T14:49:18.148Z"
   },
   {
    "duration": 8,
    "start_time": "2021-07-18T14:49:18.193Z"
   },
   {
    "duration": 19,
    "start_time": "2021-07-18T14:49:18.203Z"
   },
   {
    "duration": 18,
    "start_time": "2021-07-18T14:49:18.224Z"
   },
   {
    "duration": 10,
    "start_time": "2021-07-18T14:49:18.245Z"
   },
   {
    "duration": 30,
    "start_time": "2021-07-18T14:49:18.257Z"
   },
   {
    "duration": 6,
    "start_time": "2021-07-18T14:49:18.290Z"
   },
   {
    "duration": 65,
    "start_time": "2021-07-18T14:49:18.299Z"
   },
   {
    "duration": 10,
    "start_time": "2021-07-18T14:49:18.367Z"
   },
   {
    "duration": 12,
    "start_time": "2021-07-18T14:49:18.379Z"
   },
   {
    "duration": 11,
    "start_time": "2021-07-18T14:49:18.393Z"
   },
   {
    "duration": 12,
    "start_time": "2021-07-18T14:49:18.406Z"
   },
   {
    "duration": 9,
    "start_time": "2021-07-18T14:49:18.420Z"
   },
   {
    "duration": 9,
    "start_time": "2021-07-18T14:49:18.432Z"
   },
   {
    "duration": 10898,
    "start_time": "2021-07-18T14:49:18.443Z"
   },
   {
    "duration": 312,
    "start_time": "2021-07-18T14:49:29.344Z"
   },
   {
    "duration": 67165,
    "start_time": "2021-07-18T14:49:29.658Z"
   },
   {
    "duration": 291,
    "start_time": "2021-07-18T14:50:36.825Z"
   },
   {
    "duration": 71,
    "start_time": "2021-07-18T14:50:37.119Z"
   },
   {
    "duration": 532,
    "start_time": "2021-07-18T14:50:37.193Z"
   },
   {
    "duration": 5,
    "start_time": "2021-07-18T14:50:37.728Z"
   },
   {
    "duration": 17,
    "start_time": "2021-07-18T14:50:37.736Z"
   },
   {
    "duration": 34,
    "start_time": "2021-07-18T14:50:37.756Z"
   },
   {
    "duration": 9,
    "start_time": "2021-07-18T14:50:37.792Z"
   },
   {
    "duration": 7,
    "start_time": "2021-07-18T14:50:37.803Z"
   },
   {
    "duration": 7,
    "start_time": "2021-07-18T14:50:37.813Z"
   },
   {
    "duration": 13590,
    "start_time": "2021-07-18T14:50:37.823Z"
   },
   {
    "duration": 10283,
    "start_time": "2021-07-18T14:50:51.416Z"
   },
   {
    "duration": 14895,
    "start_time": "2021-07-18T14:51:01.702Z"
   },
   {
    "duration": 261,
    "start_time": "2021-07-18T14:51:16.599Z"
   },
   {
    "duration": 51389,
    "start_time": "2021-07-18T14:51:16.863Z"
   },
   {
    "duration": 34136,
    "start_time": "2021-07-18T14:52:08.254Z"
   },
   {
    "duration": 51489,
    "start_time": "2021-07-18T14:52:42.392Z"
   },
   {
    "duration": 288,
    "start_time": "2021-07-18T14:53:33.883Z"
   },
   {
    "duration": 122,
    "start_time": "2021-07-18T14:53:34.173Z"
   },
   {
    "duration": 99,
    "start_time": "2021-07-18T14:53:34.387Z"
   },
   {
    "duration": 199,
    "start_time": "2021-07-18T14:53:34.490Z"
   },
   {
    "duration": 565,
    "start_time": "2021-07-18T14:53:34.692Z"
   },
   {
    "duration": 59,
    "start_time": "2021-07-18T14:53:35.259Z"
   },
   {
    "duration": 292,
    "start_time": "2021-07-18T14:53:35.320Z"
   },
   {
    "duration": 1764,
    "start_time": "2021-07-18T14:53:35.615Z"
   },
   {
    "duration": 365,
    "start_time": "2021-07-18T14:53:37.382Z"
   },
   {
    "duration": 136,
    "start_time": "2021-07-18T14:53:37.750Z"
   },
   {
    "duration": 553,
    "start_time": "2021-07-18T14:53:37.891Z"
   },
   {
    "duration": 178,
    "start_time": "2021-07-18T14:53:38.449Z"
   },
   {
    "duration": 432,
    "start_time": "2021-07-18T14:55:22.541Z"
   },
   {
    "duration": 306,
    "start_time": "2021-07-18T14:55:43.952Z"
   },
   {
    "duration": 309,
    "start_time": "2021-07-18T14:56:58.616Z"
   },
   {
    "duration": 330,
    "start_time": "2021-07-18T14:59:12.401Z"
   },
   {
    "duration": 7,
    "start_time": "2021-07-18T14:59:34.712Z"
   },
   {
    "duration": 19,
    "start_time": "2021-07-18T15:00:52.573Z"
   },
   {
    "duration": 324,
    "start_time": "2021-07-18T15:01:15.440Z"
   },
   {
    "duration": 18,
    "start_time": "2021-07-18T15:01:33.289Z"
   },
   {
    "duration": 9,
    "start_time": "2021-07-18T15:02:31.968Z"
   },
   {
    "duration": 14,
    "start_time": "2021-07-18T15:02:47.152Z"
   },
   {
    "duration": 30,
    "start_time": "2021-07-18T15:03:13.540Z"
   },
   {
    "duration": 325,
    "start_time": "2021-07-18T15:03:50.105Z"
   },
   {
    "duration": 18,
    "start_time": "2021-07-18T15:04:03.929Z"
   },
   {
    "duration": 3,
    "start_time": "2021-07-18T15:04:25.604Z"
   },
   {
    "duration": 11,
    "start_time": "2021-07-18T15:04:25.609Z"
   },
   {
    "duration": 41,
    "start_time": "2021-07-18T15:04:25.623Z"
   },
   {
    "duration": 18,
    "start_time": "2021-07-18T15:04:25.667Z"
   },
   {
    "duration": 64,
    "start_time": "2021-07-18T15:04:25.687Z"
   },
   {
    "duration": 11,
    "start_time": "2021-07-18T15:04:25.753Z"
   },
   {
    "duration": 24,
    "start_time": "2021-07-18T15:04:25.766Z"
   },
   {
    "duration": 10,
    "start_time": "2021-07-18T15:04:25.792Z"
   },
   {
    "duration": 31,
    "start_time": "2021-07-18T15:04:25.805Z"
   },
   {
    "duration": 18,
    "start_time": "2021-07-18T15:04:30.320Z"
   },
   {
    "duration": 33,
    "start_time": "2021-07-18T15:04:31.088Z"
   },
   {
    "duration": 111,
    "start_time": "2021-07-18T15:05:32.817Z"
   },
   {
    "duration": 404,
    "start_time": "2021-07-18T15:06:20.856Z"
   },
   {
    "duration": 21,
    "start_time": "2021-07-18T15:06:32.977Z"
   },
   {
    "duration": 21,
    "start_time": "2021-07-18T15:07:29.261Z"
   },
   {
    "duration": 19,
    "start_time": "2021-07-18T15:07:31.249Z"
   },
   {
    "duration": 20,
    "start_time": "2021-07-18T15:08:25.113Z"
   },
   {
    "duration": 19,
    "start_time": "2021-07-18T15:08:25.728Z"
   },
   {
    "duration": 21,
    "start_time": "2021-07-18T15:08:26.207Z"
   },
   {
    "duration": 19,
    "start_time": "2021-07-18T15:08:26.856Z"
   },
   {
    "duration": 34,
    "start_time": "2021-07-18T15:08:35.049Z"
   },
   {
    "duration": 21,
    "start_time": "2021-07-18T15:08:55.700Z"
   },
   {
    "duration": 35,
    "start_time": "2021-07-18T15:09:08.120Z"
   },
   {
    "duration": 12,
    "start_time": "2021-07-18T15:09:21.265Z"
   },
   {
    "duration": 10,
    "start_time": "2021-07-18T15:09:29.087Z"
   },
   {
    "duration": 4,
    "start_time": "2021-07-18T15:09:48.578Z"
   },
   {
    "duration": 7,
    "start_time": "2021-07-18T15:09:48.585Z"
   },
   {
    "duration": 36,
    "start_time": "2021-07-18T15:09:48.595Z"
   },
   {
    "duration": 17,
    "start_time": "2021-07-18T15:09:48.634Z"
   },
   {
    "duration": 83,
    "start_time": "2021-07-18T15:09:48.654Z"
   },
   {
    "duration": 11,
    "start_time": "2021-07-18T15:09:48.739Z"
   },
   {
    "duration": 6,
    "start_time": "2021-07-18T15:09:48.753Z"
   },
   {
    "duration": 4,
    "start_time": "2021-07-18T15:09:48.787Z"
   },
   {
    "duration": 11,
    "start_time": "2021-07-18T15:10:02.272Z"
   },
   {
    "duration": 11,
    "start_time": "2021-07-18T15:10:10.895Z"
   },
   {
    "duration": 24,
    "start_time": "2021-07-18T15:10:59.479Z"
   },
   {
    "duration": 26,
    "start_time": "2021-07-18T15:11:01.023Z"
   },
   {
    "duration": 26,
    "start_time": "2021-07-18T15:11:02.312Z"
   },
   {
    "duration": 24,
    "start_time": "2021-07-18T15:11:03.679Z"
   },
   {
    "duration": 33,
    "start_time": "2021-07-18T15:11:05.545Z"
   },
   {
    "duration": 36,
    "start_time": "2021-07-18T15:11:32.424Z"
   },
   {
    "duration": 8,
    "start_time": "2021-07-18T15:12:00.157Z"
   },
   {
    "duration": 10,
    "start_time": "2021-07-18T15:12:00.351Z"
   },
   {
    "duration": 9,
    "start_time": "2021-07-18T15:12:00.616Z"
   },
   {
    "duration": 8,
    "start_time": "2021-07-18T15:12:00.911Z"
   },
   {
    "duration": 12,
    "start_time": "2021-07-18T15:12:02.233Z"
   },
   {
    "duration": 6,
    "start_time": "2021-07-18T15:12:13.495Z"
   },
   {
    "duration": 16,
    "start_time": "2021-07-18T15:12:13.712Z"
   },
   {
    "duration": 3,
    "start_time": "2021-07-18T15:12:16.287Z"
   },
   {
    "duration": 33,
    "start_time": "2021-07-18T15:12:16.567Z"
   },
   {
    "duration": 19,
    "start_time": "2021-07-18T15:12:16.831Z"
   },
   {
    "duration": 5,
    "start_time": "2021-07-18T15:12:19.687Z"
   },
   {
    "duration": 19,
    "start_time": "2021-07-18T15:12:19.927Z"
   },
   {
    "duration": 4,
    "start_time": "2021-07-18T15:12:20.287Z"
   },
   {
    "duration": 4,
    "start_time": "2021-07-18T15:12:21.279Z"
   },
   {
    "duration": 3,
    "start_time": "2021-07-18T15:12:21.479Z"
   },
   {
    "duration": 5,
    "start_time": "2021-07-18T15:12:21.727Z"
   },
   {
    "duration": 16,
    "start_time": "2021-07-18T15:12:21.872Z"
   },
   {
    "duration": 9,
    "start_time": "2021-07-18T15:12:22.078Z"
   },
   {
    "duration": 18,
    "start_time": "2021-07-18T15:12:22.279Z"
   },
   {
    "duration": 9,
    "start_time": "2021-07-18T15:12:23.751Z"
   },
   {
    "duration": 8,
    "start_time": "2021-07-18T15:12:23.926Z"
   },
   {
    "duration": 6,
    "start_time": "2021-07-18T15:12:24.110Z"
   },
   {
    "duration": 5,
    "start_time": "2021-07-18T15:12:24.319Z"
   },
   {
    "duration": 7,
    "start_time": "2021-07-18T15:12:24.518Z"
   },
   {
    "duration": 6,
    "start_time": "2021-07-18T15:12:24.727Z"
   },
   {
    "duration": 8,
    "start_time": "2021-07-18T15:12:26.967Z"
   },
   {
    "duration": 8,
    "start_time": "2021-07-18T15:12:27.150Z"
   },
   {
    "duration": 7,
    "start_time": "2021-07-18T15:12:27.351Z"
   },
   {
    "duration": 7,
    "start_time": "2021-07-18T15:12:27.535Z"
   },
   {
    "duration": 5,
    "start_time": "2021-07-18T15:12:27.703Z"
   },
   {
    "duration": 10016,
    "start_time": "2021-07-18T15:12:29.847Z"
   },
   {
    "duration": 18,
    "start_time": "2021-07-18T15:14:42.949Z"
   },
   {
    "duration": 18,
    "start_time": "2021-07-18T15:15:39.668Z"
   },
   {
    "duration": 19,
    "start_time": "2021-07-18T15:15:47.967Z"
   },
   {
    "duration": 18,
    "start_time": "2021-07-18T15:15:51.135Z"
   },
   {
    "duration": 12,
    "start_time": "2021-07-18T15:15:51.620Z"
   },
   {
    "duration": 34,
    "start_time": "2021-07-18T15:23:08.199Z"
   },
   {
    "duration": 4,
    "start_time": "2021-07-18T15:23:26.605Z"
   },
   {
    "duration": 12,
    "start_time": "2021-07-18T15:23:26.612Z"
   },
   {
    "duration": 39,
    "start_time": "2021-07-18T15:23:26.627Z"
   },
   {
    "duration": 18,
    "start_time": "2021-07-18T15:23:26.669Z"
   },
   {
    "duration": 68,
    "start_time": "2021-07-18T15:23:26.690Z"
   },
   {
    "duration": 27,
    "start_time": "2021-07-18T15:23:26.761Z"
   },
   {
    "duration": 5,
    "start_time": "2021-07-18T15:23:26.791Z"
   },
   {
    "duration": 7,
    "start_time": "2021-07-18T15:23:26.799Z"
   },
   {
    "duration": 25,
    "start_time": "2021-07-18T15:23:26.809Z"
   },
   {
    "duration": 33,
    "start_time": "2021-07-18T15:23:26.837Z"
   },
   {
    "duration": 32,
    "start_time": "2021-07-18T15:23:26.872Z"
   },
   {
    "duration": 11,
    "start_time": "2021-07-18T15:23:26.907Z"
   },
   {
    "duration": 15,
    "start_time": "2021-07-18T15:23:26.920Z"
   },
   {
    "duration": 47,
    "start_time": "2021-07-18T15:23:26.937Z"
   },
   {
    "duration": 33,
    "start_time": "2021-07-18T15:23:32.558Z"
   },
   {
    "duration": 44,
    "start_time": "2021-07-18T15:23:41.709Z"
   },
   {
    "duration": 42,
    "start_time": "2021-07-18T15:24:49.072Z"
   },
   {
    "duration": 19,
    "start_time": "2021-07-18T15:25:20.326Z"
   },
   {
    "duration": 18,
    "start_time": "2021-07-18T15:25:22.078Z"
   },
   {
    "duration": 8,
    "start_time": "2021-07-18T15:25:27.822Z"
   },
   {
    "duration": 18,
    "start_time": "2021-07-18T15:25:28.533Z"
   },
   {
    "duration": 4,
    "start_time": "2021-07-18T15:25:33.269Z"
   },
   {
    "duration": 3,
    "start_time": "2021-07-18T15:25:35.941Z"
   },
   {
    "duration": 3,
    "start_time": "2021-07-18T15:25:36.645Z"
   },
   {
    "duration": 4,
    "start_time": "2021-07-18T15:25:36.925Z"
   },
   {
    "duration": 10,
    "start_time": "2021-07-18T15:25:37.333Z"
   },
   {
    "duration": 25,
    "start_time": "2021-07-18T15:25:38.357Z"
   },
   {
    "duration": 19,
    "start_time": "2021-07-18T15:25:41.286Z"
   },
   {
    "duration": 8,
    "start_time": "2021-07-18T15:25:57.133Z"
   },
   {
    "duration": 8,
    "start_time": "2021-07-18T15:25:57.860Z"
   },
   {
    "duration": 6,
    "start_time": "2021-07-18T15:25:58.245Z"
   },
   {
    "duration": 5,
    "start_time": "2021-07-18T15:25:58.484Z"
   },
   {
    "duration": 5,
    "start_time": "2021-07-18T15:25:58.869Z"
   },
   {
    "duration": 6,
    "start_time": "2021-07-18T15:25:59.229Z"
   },
   {
    "duration": 8,
    "start_time": "2021-07-18T15:26:02.949Z"
   },
   {
    "duration": 8,
    "start_time": "2021-07-18T15:26:03.373Z"
   },
   {
    "duration": 8,
    "start_time": "2021-07-18T15:26:03.774Z"
   },
   {
    "duration": 7,
    "start_time": "2021-07-18T15:26:04.301Z"
   },
   {
    "duration": 6,
    "start_time": "2021-07-18T15:26:04.661Z"
   },
   {
    "duration": 337,
    "start_time": "2021-07-18T15:26:22.301Z"
   },
   {
    "duration": 319,
    "start_time": "2021-07-18T15:26:46.822Z"
   },
   {
    "duration": 4,
    "start_time": "2021-07-18T15:26:57.176Z"
   },
   {
    "duration": 9,
    "start_time": "2021-07-18T15:26:57.183Z"
   },
   {
    "duration": 46,
    "start_time": "2021-07-18T15:26:57.195Z"
   },
   {
    "duration": 17,
    "start_time": "2021-07-18T15:26:57.244Z"
   },
   {
    "duration": 74,
    "start_time": "2021-07-18T15:26:57.263Z"
   },
   {
    "duration": 11,
    "start_time": "2021-07-18T15:26:57.340Z"
   },
   {
    "duration": 6,
    "start_time": "2021-07-18T15:26:57.353Z"
   },
   {
    "duration": 26,
    "start_time": "2021-07-18T15:26:57.362Z"
   },
   {
    "duration": 27,
    "start_time": "2021-07-18T15:26:57.391Z"
   },
   {
    "duration": 21,
    "start_time": "2021-07-18T15:26:57.421Z"
   },
   {
    "duration": 48,
    "start_time": "2021-07-18T15:26:57.444Z"
   },
   {
    "duration": 12,
    "start_time": "2021-07-18T15:26:57.495Z"
   },
   {
    "duration": 6,
    "start_time": "2021-07-18T15:26:57.510Z"
   },
   {
    "duration": 18,
    "start_time": "2021-07-18T15:26:57.519Z"
   },
   {
    "duration": 47,
    "start_time": "2021-07-18T15:26:57.539Z"
   },
   {
    "duration": 19,
    "start_time": "2021-07-18T15:26:57.589Z"
   },
   {
    "duration": 16,
    "start_time": "2021-07-18T15:26:57.612Z"
   },
   {
    "duration": 8,
    "start_time": "2021-07-18T15:26:57.631Z"
   },
   {
    "duration": 45,
    "start_time": "2021-07-18T15:26:57.642Z"
   },
   {
    "duration": 22,
    "start_time": "2021-07-18T15:26:57.690Z"
   },
   {
    "duration": 8,
    "start_time": "2021-07-18T15:26:57.714Z"
   },
   {
    "duration": 9,
    "start_time": "2021-07-18T15:26:57.725Z"
   },
   {
    "duration": 7,
    "start_time": "2021-07-18T15:26:57.736Z"
   },
   {
    "duration": 13,
    "start_time": "2021-07-18T15:26:57.746Z"
   },
   {
    "duration": 35,
    "start_time": "2021-07-18T15:26:57.761Z"
   },
   {
    "duration": 19,
    "start_time": "2021-07-18T15:26:57.799Z"
   },
   {
    "duration": 10,
    "start_time": "2021-07-18T15:26:57.821Z"
   },
   {
    "duration": 8,
    "start_time": "2021-07-18T15:26:57.833Z"
   },
   {
    "duration": 40,
    "start_time": "2021-07-18T15:26:57.845Z"
   },
   {
    "duration": 5,
    "start_time": "2021-07-18T15:26:57.888Z"
   },
   {
    "duration": 8,
    "start_time": "2021-07-18T15:26:57.896Z"
   },
   {
    "duration": 8,
    "start_time": "2021-07-18T15:26:57.906Z"
   },
   {
    "duration": 11,
    "start_time": "2021-07-18T15:26:57.917Z"
   },
   {
    "duration": 16,
    "start_time": "2021-07-18T15:26:57.930Z"
   },
   {
    "duration": 39,
    "start_time": "2021-07-18T15:26:57.948Z"
   },
   {
    "duration": 7,
    "start_time": "2021-07-18T15:26:57.989Z"
   },
   {
    "duration": 8,
    "start_time": "2021-07-18T15:26:59.661Z"
   },
   {
    "duration": 5,
    "start_time": "2021-07-18T15:27:00.045Z"
   },
   {
    "duration": 9616,
    "start_time": "2021-07-18T15:27:01.901Z"
   },
   {
    "duration": 252,
    "start_time": "2021-07-18T15:27:14.805Z"
   },
   {
    "duration": 62233,
    "start_time": "2021-07-18T15:27:18.877Z"
   },
   {
    "duration": 303,
    "start_time": "2021-07-18T15:28:24.966Z"
   },
   {
    "duration": 41,
    "start_time": "2021-07-18T15:28:29.045Z"
   },
   {
    "duration": 407,
    "start_time": "2021-07-18T15:28:32.052Z"
   },
   {
    "duration": 5,
    "start_time": "2021-07-18T15:28:36.764Z"
   },
   {
    "duration": 14,
    "start_time": "2021-07-18T15:28:37.581Z"
   },
   {
    "duration": 9,
    "start_time": "2021-07-18T15:28:38.156Z"
   },
   {
    "duration": 8,
    "start_time": "2021-07-18T15:28:38.581Z"
   },
   {
    "duration": 7,
    "start_time": "2021-07-18T15:28:38.948Z"
   },
   {
    "duration": 8,
    "start_time": "2021-07-18T15:28:39.644Z"
   },
   {
    "duration": 13500,
    "start_time": "2021-07-18T15:28:42.252Z"
   },
   {
    "duration": 14539,
    "start_time": "2021-07-18T15:29:04.277Z"
   },
   {
    "duration": 248,
    "start_time": "2021-07-18T15:29:21.525Z"
   },
   {
    "duration": 49460,
    "start_time": "2021-07-18T15:29:27.772Z"
   },
   {
    "duration": 281,
    "start_time": "2021-07-18T15:30:30.372Z"
   },
   {
    "duration": 85,
    "start_time": "2021-07-18T15:30:35.004Z"
   },
   {
    "duration": 31,
    "start_time": "2021-07-18T15:30:36.580Z"
   },
   {
    "duration": 94,
    "start_time": "2021-07-18T15:30:37.492Z"
   },
   {
    "duration": 532,
    "start_time": "2021-07-18T15:30:39.980Z"
   },
   {
    "duration": 39,
    "start_time": "2021-07-18T15:30:45.948Z"
   },
   {
    "duration": 266,
    "start_time": "2021-07-18T15:30:48.213Z"
   },
   {
    "duration": 1615,
    "start_time": "2021-07-18T15:30:51.844Z"
   },
   {
    "duration": 319,
    "start_time": "2021-07-18T15:31:02.423Z"
   },
   {
    "duration": 89,
    "start_time": "2021-07-18T15:31:05.300Z"
   },
   {
    "duration": 420,
    "start_time": "2021-07-18T15:31:07.124Z"
   },
   {
    "duration": 29,
    "start_time": "2021-07-18T15:34:33.049Z"
   },
   {
    "duration": 97,
    "start_time": "2021-07-18T15:40:35.095Z"
   },
   {
    "duration": 5,
    "start_time": "2021-07-18T15:40:49.647Z"
   },
   {
    "duration": 14,
    "start_time": "2021-07-18T15:40:49.654Z"
   },
   {
    "duration": 40,
    "start_time": "2021-07-18T15:40:49.671Z"
   },
   {
    "duration": 19,
    "start_time": "2021-07-18T15:40:49.713Z"
   },
   {
    "duration": 74,
    "start_time": "2021-07-18T15:40:49.735Z"
   },
   {
    "duration": 11,
    "start_time": "2021-07-18T15:40:49.812Z"
   },
   {
    "duration": 5,
    "start_time": "2021-07-18T15:40:49.825Z"
   },
   {
    "duration": 7,
    "start_time": "2021-07-18T15:40:49.834Z"
   },
   {
    "duration": 52,
    "start_time": "2021-07-18T15:40:49.844Z"
   },
   {
    "duration": 19,
    "start_time": "2021-07-18T15:40:49.899Z"
   },
   {
    "duration": 18,
    "start_time": "2021-07-18T15:40:49.921Z"
   },
   {
    "duration": 46,
    "start_time": "2021-07-18T15:40:49.941Z"
   },
   {
    "duration": 11,
    "start_time": "2021-07-18T15:40:49.990Z"
   },
   {
    "duration": 22,
    "start_time": "2021-07-18T15:40:50.003Z"
   },
   {
    "duration": 38,
    "start_time": "2021-07-18T15:40:50.029Z"
   },
   {
    "duration": 26,
    "start_time": "2021-07-18T15:40:50.070Z"
   },
   {
    "duration": 15,
    "start_time": "2021-07-18T15:40:50.099Z"
   },
   {
    "duration": 30,
    "start_time": "2021-07-18T15:40:50.117Z"
   },
   {
    "duration": 8,
    "start_time": "2021-07-18T15:40:50.150Z"
   },
   {
    "duration": 15,
    "start_time": "2021-07-18T15:40:50.160Z"
   },
   {
    "duration": 10,
    "start_time": "2021-07-18T15:40:50.178Z"
   },
   {
    "duration": 16,
    "start_time": "2021-07-18T15:40:50.191Z"
   },
   {
    "duration": 25,
    "start_time": "2021-07-18T15:40:50.209Z"
   },
   {
    "duration": 33,
    "start_time": "2021-07-18T15:40:50.237Z"
   },
   {
    "duration": 8,
    "start_time": "2021-07-18T15:43:35.483Z"
   },
   {
    "duration": 4,
    "start_time": "2021-07-18T15:43:43.800Z"
   },
   {
    "duration": 12,
    "start_time": "2021-07-18T15:43:43.807Z"
   },
   {
    "duration": 41,
    "start_time": "2021-07-18T15:43:43.823Z"
   },
   {
    "duration": 21,
    "start_time": "2021-07-18T15:43:43.867Z"
   },
   {
    "duration": 62,
    "start_time": "2021-07-18T15:43:43.891Z"
   },
   {
    "duration": 31,
    "start_time": "2021-07-18T15:43:43.956Z"
   },
   {
    "duration": 5,
    "start_time": "2021-07-18T15:43:43.990Z"
   },
   {
    "duration": 5,
    "start_time": "2021-07-18T15:43:43.999Z"
   },
   {
    "duration": 27,
    "start_time": "2021-07-18T15:43:44.007Z"
   },
   {
    "duration": 57,
    "start_time": "2021-07-18T15:43:44.037Z"
   },
   {
    "duration": 20,
    "start_time": "2021-07-18T15:43:44.097Z"
   },
   {
    "duration": 11,
    "start_time": "2021-07-18T15:43:44.119Z"
   },
   {
    "duration": 14,
    "start_time": "2021-07-18T15:43:44.133Z"
   },
   {
    "duration": 43,
    "start_time": "2021-07-18T15:43:44.150Z"
   },
   {
    "duration": 20,
    "start_time": "2021-07-18T15:43:44.196Z"
   },
   {
    "duration": 18,
    "start_time": "2021-07-18T15:43:44.219Z"
   },
   {
    "duration": 7,
    "start_time": "2021-07-18T15:43:44.239Z"
   },
   {
    "duration": 50,
    "start_time": "2021-07-18T15:43:44.248Z"
   },
   {
    "duration": 6,
    "start_time": "2021-07-18T15:43:44.301Z"
   },
   {
    "duration": 9,
    "start_time": "2021-07-18T15:43:44.310Z"
   },
   {
    "duration": 14,
    "start_time": "2021-07-18T15:43:44.321Z"
   },
   {
    "duration": 10,
    "start_time": "2021-07-18T15:43:44.338Z"
   },
   {
    "duration": 33,
    "start_time": "2021-07-18T15:43:44.352Z"
   },
   {
    "duration": 24,
    "start_time": "2021-07-18T15:43:44.388Z"
   },
   {
    "duration": 21,
    "start_time": "2021-07-18T15:43:44.415Z"
   },
   {
    "duration": 46,
    "start_time": "2021-07-18T15:43:44.439Z"
   },
   {
    "duration": 8,
    "start_time": "2021-07-18T15:43:44.488Z"
   },
   {
    "duration": 6,
    "start_time": "2021-07-18T15:43:57.065Z"
   },
   {
    "duration": 9,
    "start_time": "2021-07-18T15:43:59.211Z"
   },
   {
    "duration": 6,
    "start_time": "2021-07-18T15:43:59.712Z"
   },
   {
    "duration": 5,
    "start_time": "2021-07-18T15:44:00.240Z"
   },
   {
    "duration": 5,
    "start_time": "2021-07-18T15:44:01.025Z"
   },
   {
    "duration": 5,
    "start_time": "2021-07-18T15:44:01.560Z"
   },
   {
    "duration": 5,
    "start_time": "2021-07-18T15:44:58.513Z"
   },
   {
    "duration": 14,
    "start_time": "2021-07-18T15:44:58.521Z"
   },
   {
    "duration": 45,
    "start_time": "2021-07-18T15:44:58.538Z"
   },
   {
    "duration": 16,
    "start_time": "2021-07-18T15:44:58.586Z"
   },
   {
    "duration": 66,
    "start_time": "2021-07-18T15:44:58.604Z"
   },
   {
    "duration": 24,
    "start_time": "2021-07-18T15:44:58.672Z"
   },
   {
    "duration": 6,
    "start_time": "2021-07-18T15:44:58.698Z"
   },
   {
    "duration": 4,
    "start_time": "2021-07-18T15:44:58.708Z"
   },
   {
    "duration": 20,
    "start_time": "2021-07-18T15:44:58.716Z"
   },
   {
    "duration": 60,
    "start_time": "2021-07-18T15:44:58.739Z"
   },
   {
    "duration": 18,
    "start_time": "2021-07-18T15:44:58.802Z"
   },
   {
    "duration": 12,
    "start_time": "2021-07-18T15:44:58.823Z"
   },
   {
    "duration": 17,
    "start_time": "2021-07-18T15:44:58.837Z"
   },
   {
    "duration": 40,
    "start_time": "2021-07-18T15:44:58.856Z"
   },
   {
    "duration": 25,
    "start_time": "2021-07-18T15:44:58.899Z"
   },
   {
    "duration": 32,
    "start_time": "2021-07-18T15:44:58.927Z"
   },
   {
    "duration": 7,
    "start_time": "2021-07-18T15:44:58.962Z"
   },
   {
    "duration": 28,
    "start_time": "2021-07-18T15:44:58.971Z"
   },
   {
    "duration": 11,
    "start_time": "2021-07-18T15:44:59.002Z"
   },
   {
    "duration": 7,
    "start_time": "2021-07-18T15:44:59.016Z"
   },
   {
    "duration": 12,
    "start_time": "2021-07-18T15:44:59.026Z"
   },
   {
    "duration": 6,
    "start_time": "2021-07-18T15:44:59.040Z"
   },
   {
    "duration": 38,
    "start_time": "2021-07-18T15:44:59.050Z"
   },
   {
    "duration": 23,
    "start_time": "2021-07-18T15:44:59.091Z"
   },
   {
    "duration": 19,
    "start_time": "2021-07-18T15:44:59.116Z"
   },
   {
    "duration": 10,
    "start_time": "2021-07-18T15:45:01.913Z"
   },
   {
    "duration": 5,
    "start_time": "2021-07-18T15:45:03.841Z"
   },
   {
    "duration": 5,
    "start_time": "2021-07-18T15:45:04.545Z"
   },
   {
    "duration": 5,
    "start_time": "2021-07-18T15:45:05.416Z"
   },
   {
    "duration": 5,
    "start_time": "2021-07-18T15:45:05.856Z"
   },
   {
    "duration": 8,
    "start_time": "2021-07-18T15:45:08.305Z"
   },
   {
    "duration": 6,
    "start_time": "2021-07-18T15:45:08.848Z"
   },
   {
    "duration": 5,
    "start_time": "2021-07-18T15:45:09.288Z"
   },
   {
    "duration": 6,
    "start_time": "2021-07-18T15:45:09.728Z"
   },
   {
    "duration": 6,
    "start_time": "2021-07-18T15:45:10.215Z"
   },
   {
    "duration": 8,
    "start_time": "2021-07-18T15:46:06.760Z"
   },
   {
    "duration": 6,
    "start_time": "2021-07-18T15:46:06.975Z"
   },
   {
    "duration": 5,
    "start_time": "2021-07-18T15:46:07.784Z"
   },
   {
    "duration": 4,
    "start_time": "2021-07-18T15:46:08.393Z"
   },
   {
    "duration": 6,
    "start_time": "2021-07-18T15:46:09.440Z"
   },
   {
    "duration": 7,
    "start_time": "2021-07-18T15:46:13.313Z"
   },
   {
    "duration": 5,
    "start_time": "2021-07-18T15:46:13.529Z"
   },
   {
    "duration": 5,
    "start_time": "2021-07-18T15:46:13.688Z"
   },
   {
    "duration": 6,
    "start_time": "2021-07-18T15:46:13.871Z"
   },
   {
    "duration": 5,
    "start_time": "2021-07-18T15:46:14.272Z"
   },
   {
    "duration": 9,
    "start_time": "2021-07-18T15:46:17.168Z"
   },
   {
    "duration": 8,
    "start_time": "2021-07-18T15:46:17.711Z"
   },
   {
    "duration": 5,
    "start_time": "2021-07-18T15:46:17.895Z"
   },
   {
    "duration": 6,
    "start_time": "2021-07-18T15:46:18.072Z"
   },
   {
    "duration": 5,
    "start_time": "2021-07-18T15:46:18.520Z"
   },
   {
    "duration": 5,
    "start_time": "2021-07-18T15:46:19.064Z"
   },
   {
    "duration": 8,
    "start_time": "2021-07-18T15:52:37.136Z"
   },
   {
    "duration": 8,
    "start_time": "2021-07-18T15:52:37.510Z"
   },
   {
    "duration": 5,
    "start_time": "2021-07-18T15:52:37.879Z"
   },
   {
    "duration": 5,
    "start_time": "2021-07-18T15:52:38.382Z"
   },
   {
    "duration": 6,
    "start_time": "2021-07-18T15:52:38.830Z"
   },
   {
    "duration": 6,
    "start_time": "2021-07-18T15:52:39.454Z"
   },
   {
    "duration": 8,
    "start_time": "2021-07-18T15:52:49.911Z"
   },
   {
    "duration": 7,
    "start_time": "2021-07-18T15:52:50.073Z"
   },
   {
    "duration": 6,
    "start_time": "2021-07-18T15:52:50.358Z"
   },
   {
    "duration": 8,
    "start_time": "2021-07-18T15:52:57.438Z"
   },
   {
    "duration": 7,
    "start_time": "2021-07-18T15:52:58.231Z"
   },
   {
    "duration": 5,
    "start_time": "2021-07-18T15:52:59.662Z"
   },
   {
    "duration": 5,
    "start_time": "2021-07-18T15:53:00.430Z"
   },
   {
    "duration": 6,
    "start_time": "2021-07-18T15:53:01.126Z"
   },
   {
    "duration": 8,
    "start_time": "2021-07-18T15:53:10.845Z"
   },
   {
    "duration": 8,
    "start_time": "2021-07-18T15:53:11.222Z"
   },
   {
    "duration": 7,
    "start_time": "2021-07-18T15:53:11.429Z"
   },
   {
    "duration": 7,
    "start_time": "2021-07-18T15:53:11.629Z"
   },
   {
    "duration": 6,
    "start_time": "2021-07-18T15:53:12.222Z"
   },
   {
    "duration": 9343,
    "start_time": "2021-07-18T15:53:16.342Z"
   },
   {
    "duration": 271,
    "start_time": "2021-07-18T15:53:28.190Z"
   },
   {
    "duration": 60809,
    "start_time": "2021-07-18T15:53:33.910Z"
   },
   {
    "duration": 32,
    "start_time": "2021-07-18T15:54:57.387Z"
   },
   {
    "duration": 30,
    "start_time": "2021-07-18T15:55:16.350Z"
   },
   {
    "duration": 32,
    "start_time": "2021-07-18T15:55:21.694Z"
   },
   {
    "duration": 305,
    "start_time": "2021-07-18T15:55:57.358Z"
   },
   {
    "duration": 39,
    "start_time": "2021-07-18T15:57:07.595Z"
   },
   {
    "duration": 5,
    "start_time": "2021-07-18T15:57:29.515Z"
   },
   {
    "duration": 6,
    "start_time": "2021-07-18T15:57:59.126Z"
   },
   {
    "duration": 41,
    "start_time": "2021-07-18T15:58:04.247Z"
   },
   {
    "duration": 38,
    "start_time": "2021-07-18T15:58:11.965Z"
   },
   {
    "duration": 39,
    "start_time": "2021-07-18T15:58:17.837Z"
   },
   {
    "duration": 39,
    "start_time": "2021-07-18T15:58:21.126Z"
   },
   {
    "duration": 1496,
    "start_time": "2021-07-18T15:58:45.133Z"
   },
   {
    "duration": 59,
    "start_time": "2021-07-18T15:58:51.726Z"
   },
   {
    "duration": 376,
    "start_time": "2021-07-18T15:58:54.445Z"
   },
   {
    "duration": 1476,
    "start_time": "2021-07-18T15:58:59.501Z"
   },
   {
    "duration": 312,
    "start_time": "2021-07-18T15:59:01.973Z"
   },
   {
    "duration": 6,
    "start_time": "2021-07-18T15:59:14.954Z"
   },
   {
    "duration": 1458,
    "start_time": "2021-07-18T15:59:14.962Z"
   },
   {
    "duration": 37,
    "start_time": "2021-07-18T15:59:16.424Z"
   },
   {
    "duration": 29,
    "start_time": "2021-07-18T15:59:16.467Z"
   },
   {
    "duration": 61,
    "start_time": "2021-07-18T15:59:16.498Z"
   },
   {
    "duration": 30,
    "start_time": "2021-07-18T15:59:16.562Z"
   },
   {
    "duration": 6,
    "start_time": "2021-07-18T15:59:16.596Z"
   },
   {
    "duration": 5,
    "start_time": "2021-07-18T15:59:16.605Z"
   },
   {
    "duration": 27,
    "start_time": "2021-07-18T15:59:16.612Z"
   },
   {
    "duration": 52,
    "start_time": "2021-07-18T15:59:16.642Z"
   },
   {
    "duration": 19,
    "start_time": "2021-07-18T15:59:16.697Z"
   },
   {
    "duration": 11,
    "start_time": "2021-07-18T15:59:16.718Z"
   },
   {
    "duration": 10,
    "start_time": "2021-07-18T15:59:16.732Z"
   },
   {
    "duration": 42,
    "start_time": "2021-07-18T15:59:16.745Z"
   },
   {
    "duration": 24,
    "start_time": "2021-07-18T15:59:16.790Z"
   },
   {
    "duration": 19,
    "start_time": "2021-07-18T15:59:16.816Z"
   },
   {
    "duration": 11,
    "start_time": "2021-07-18T15:59:16.837Z"
   },
   {
    "duration": 38,
    "start_time": "2021-07-18T15:59:16.850Z"
   },
   {
    "duration": 8,
    "start_time": "2021-07-18T15:59:16.890Z"
   },
   {
    "duration": 8,
    "start_time": "2021-07-18T15:59:16.901Z"
   },
   {
    "duration": 9,
    "start_time": "2021-07-18T15:59:16.911Z"
   },
   {
    "duration": 6,
    "start_time": "2021-07-18T15:59:16.926Z"
   },
   {
    "duration": 15,
    "start_time": "2021-07-18T15:59:16.935Z"
   },
   {
    "duration": 48,
    "start_time": "2021-07-18T15:59:16.952Z"
   },
   {
    "duration": 18,
    "start_time": "2021-07-18T15:59:17.003Z"
   },
   {
    "duration": 11,
    "start_time": "2021-07-18T15:59:17.024Z"
   },
   {
    "duration": 11,
    "start_time": "2021-07-18T15:59:17.037Z"
   },
   {
    "duration": 37,
    "start_time": "2021-07-18T15:59:17.050Z"
   },
   {
    "duration": 12,
    "start_time": "2021-07-18T15:59:17.090Z"
   },
   {
    "duration": 7,
    "start_time": "2021-07-18T15:59:17.105Z"
   },
   {
    "duration": 16,
    "start_time": "2021-07-18T15:59:17.114Z"
   },
   {
    "duration": 11,
    "start_time": "2021-07-18T15:59:17.132Z"
   },
   {
    "duration": 10,
    "start_time": "2021-07-18T15:59:17.145Z"
   },
   {
    "duration": 33,
    "start_time": "2021-07-18T15:59:17.158Z"
   },
   {
    "duration": 9,
    "start_time": "2021-07-18T15:59:17.194Z"
   },
   {
    "duration": 9681,
    "start_time": "2021-07-18T15:59:17.205Z"
   },
   {
    "duration": 291,
    "start_time": "2021-07-18T15:59:26.888Z"
   },
   {
    "duration": 61960,
    "start_time": "2021-07-18T15:59:27.186Z"
   },
   {
    "duration": 307,
    "start_time": "2021-07-18T16:00:29.149Z"
   },
   {
    "duration": 48,
    "start_time": "2021-07-18T16:00:29.458Z"
   },
   {
    "duration": 496,
    "start_time": "2021-07-18T16:00:29.585Z"
   },
   {
    "duration": 6,
    "start_time": "2021-07-18T16:00:30.086Z"
   },
   {
    "duration": 27,
    "start_time": "2021-07-18T16:00:30.095Z"
   },
   {
    "duration": 20,
    "start_time": "2021-07-18T16:00:30.125Z"
   },
   {
    "duration": 24,
    "start_time": "2021-07-18T16:00:30.147Z"
   },
   {
    "duration": 15,
    "start_time": "2021-07-18T16:00:30.174Z"
   },
   {
    "duration": 25,
    "start_time": "2021-07-18T16:00:30.192Z"
   },
   {
    "duration": 13819,
    "start_time": "2021-07-18T16:00:30.220Z"
   },
   {
    "duration": 10109,
    "start_time": "2021-07-18T16:00:44.043Z"
   },
   {
    "duration": 14815,
    "start_time": "2021-07-18T16:00:54.155Z"
   },
   {
    "duration": 265,
    "start_time": "2021-07-18T16:01:08.972Z"
   },
   {
    "duration": 50741,
    "start_time": "2021-07-18T16:01:09.239Z"
   },
   {
    "duration": 36429,
    "start_time": "2021-07-18T16:01:59.987Z"
   },
   {
    "duration": 52895,
    "start_time": "2021-07-18T16:02:36.418Z"
   },
   {
    "duration": 282,
    "start_time": "2021-07-18T16:03:29.315Z"
   },
   {
    "duration": 185,
    "start_time": "2021-07-18T16:03:29.599Z"
   },
   {
    "duration": 100,
    "start_time": "2021-07-18T16:03:29.787Z"
   },
   {
    "duration": 194,
    "start_time": "2021-07-18T16:03:29.891Z"
   },
   {
    "duration": 534,
    "start_time": "2021-07-18T16:03:30.089Z"
   },
   {
    "duration": 7,
    "start_time": "2021-07-18T16:03:30.627Z"
   },
   {
    "duration": 270,
    "start_time": "2021-07-18T16:03:30.702Z"
   },
   {
    "duration": 1581,
    "start_time": "2021-07-18T16:03:30.975Z"
   },
   {
    "duration": 338,
    "start_time": "2021-07-18T16:03:32.559Z"
   },
   {
    "duration": 95,
    "start_time": "2021-07-18T16:03:32.900Z"
   },
   {
    "duration": 436,
    "start_time": "2021-07-18T16:03:33.086Z"
   },
   {
    "duration": 38,
    "start_time": "2021-07-18T16:03:33.529Z"
   },
   {
    "duration": 4,
    "start_time": "2021-07-18T18:46:35.113Z"
   },
   {
    "duration": 1096,
    "start_time": "2021-07-18T18:46:35.118Z"
   },
   {
    "duration": 28,
    "start_time": "2021-07-18T18:46:36.216Z"
   },
   {
    "duration": 16,
    "start_time": "2021-07-18T18:46:36.246Z"
   },
   {
    "duration": 50,
    "start_time": "2021-07-18T18:46:36.263Z"
   },
   {
    "duration": 8,
    "start_time": "2021-07-18T18:46:36.314Z"
   },
   {
    "duration": 4,
    "start_time": "2021-07-18T18:46:36.324Z"
   },
   {
    "duration": 5,
    "start_time": "2021-07-18T18:46:36.329Z"
   },
   {
    "duration": 16,
    "start_time": "2021-07-18T18:46:36.337Z"
   },
   {
    "duration": 36,
    "start_time": "2021-07-18T18:46:36.355Z"
   },
   {
    "duration": 12,
    "start_time": "2021-07-18T18:46:36.393Z"
   },
   {
    "duration": 7,
    "start_time": "2021-07-18T18:46:36.407Z"
   },
   {
    "duration": 6,
    "start_time": "2021-07-18T18:46:36.416Z"
   },
   {
    "duration": 12,
    "start_time": "2021-07-18T18:46:36.423Z"
   },
   {
    "duration": 13,
    "start_time": "2021-07-18T18:46:36.437Z"
   },
   {
    "duration": 34,
    "start_time": "2021-07-18T18:46:36.451Z"
   },
   {
    "duration": 5,
    "start_time": "2021-07-18T18:46:36.487Z"
   },
   {
    "duration": 10,
    "start_time": "2021-07-18T18:46:36.493Z"
   },
   {
    "duration": 3,
    "start_time": "2021-07-18T18:46:36.505Z"
   },
   {
    "duration": 5,
    "start_time": "2021-07-18T18:46:36.509Z"
   },
   {
    "duration": 7,
    "start_time": "2021-07-18T18:46:36.515Z"
   },
   {
    "duration": 4,
    "start_time": "2021-07-18T18:46:36.524Z"
   },
   {
    "duration": 11,
    "start_time": "2021-07-18T18:46:36.530Z"
   },
   {
    "duration": 41,
    "start_time": "2021-07-18T18:46:36.543Z"
   },
   {
    "duration": 12,
    "start_time": "2021-07-18T18:46:36.586Z"
   },
   {
    "duration": 6,
    "start_time": "2021-07-18T18:46:36.599Z"
   },
   {
    "duration": 4,
    "start_time": "2021-07-18T18:46:36.609Z"
   },
   {
    "duration": 4,
    "start_time": "2021-07-18T18:46:36.615Z"
   },
   {
    "duration": 4,
    "start_time": "2021-07-18T18:46:36.621Z"
   },
   {
    "duration": 4,
    "start_time": "2021-07-18T18:46:36.627Z"
   },
   {
    "duration": 5,
    "start_time": "2021-07-18T18:46:36.632Z"
   },
   {
    "duration": 5,
    "start_time": "2021-07-18T18:46:36.639Z"
   },
   {
    "duration": 5,
    "start_time": "2021-07-18T18:46:36.685Z"
   },
   {
    "duration": 5,
    "start_time": "2021-07-18T18:46:36.691Z"
   },
   {
    "duration": 4,
    "start_time": "2021-07-18T18:46:36.698Z"
   },
   {
    "duration": 6403,
    "start_time": "2021-07-18T18:46:36.703Z"
   },
   {
    "duration": 172,
    "start_time": "2021-07-18T18:46:43.108Z"
   },
   {
    "duration": 38862,
    "start_time": "2021-07-18T18:46:43.285Z"
   },
   {
    "duration": 193,
    "start_time": "2021-07-18T18:47:22.149Z"
   },
   {
    "duration": 47,
    "start_time": "2021-07-18T18:47:22.344Z"
   },
   {
    "duration": 462,
    "start_time": "2021-07-18T18:47:22.393Z"
   },
   {
    "duration": 3,
    "start_time": "2021-07-18T18:47:22.857Z"
   },
   {
    "duration": 22,
    "start_time": "2021-07-18T18:47:22.862Z"
   },
   {
    "duration": 6,
    "start_time": "2021-07-18T18:47:22.886Z"
   },
   {
    "duration": 9,
    "start_time": "2021-07-18T18:47:22.893Z"
   },
   {
    "duration": 11,
    "start_time": "2021-07-18T18:47:22.904Z"
   },
   {
    "duration": 9,
    "start_time": "2021-07-18T18:47:22.916Z"
   },
   {
    "duration": 8951,
    "start_time": "2021-07-18T18:47:22.927Z"
   },
   {
    "duration": 6826,
    "start_time": "2021-07-18T18:47:31.884Z"
   },
   {
    "duration": 9304,
    "start_time": "2021-07-18T18:47:38.712Z"
   },
   {
    "duration": 169,
    "start_time": "2021-07-18T18:47:48.018Z"
   },
   {
    "duration": 29986,
    "start_time": "2021-07-18T18:47:48.188Z"
   },
   {
    "duration": 21261,
    "start_time": "2021-07-18T18:48:18.175Z"
   },
   {
    "duration": 30357,
    "start_time": "2021-07-18T18:48:39.438Z"
   },
   {
    "duration": 173,
    "start_time": "2021-07-18T18:49:09.797Z"
   },
   {
    "duration": 34,
    "start_time": "2021-07-18T18:49:09.972Z"
   },
   {
    "duration": 185,
    "start_time": "2021-07-18T18:49:10.008Z"
   },
   {
    "duration": 198,
    "start_time": "2021-07-18T18:49:10.195Z"
   },
   {
    "duration": 423,
    "start_time": "2021-07-18T18:49:10.395Z"
   },
   {
    "duration": 4,
    "start_time": "2021-07-18T18:49:10.820Z"
   },
   {
    "duration": 25,
    "start_time": "2021-07-18T18:49:10.825Z"
   },
   {
    "duration": 173,
    "start_time": "2021-07-18T18:49:10.852Z"
   },
   {
    "duration": 972,
    "start_time": "2021-07-18T18:49:11.027Z"
   },
   {
    "duration": 208,
    "start_time": "2021-07-18T18:49:12.001Z"
   },
   {
    "duration": 22,
    "start_time": "2021-07-18T18:49:12.211Z"
   },
   {
    "duration": 379,
    "start_time": "2021-07-18T18:49:12.286Z"
   },
   {
    "duration": 30538,
    "start_time": "2021-07-18T18:59:29.191Z"
   },
   {
    "duration": 21784,
    "start_time": "2021-07-18T19:00:07.554Z"
   },
   {
    "duration": 170,
    "start_time": "2021-07-18T19:00:33.448Z"
   },
   {
    "duration": 25,
    "start_time": "2021-07-18T19:04:14.340Z"
   },
   {
    "duration": 25,
    "start_time": "2021-07-18T19:04:21.039Z"
   },
   {
    "duration": 24,
    "start_time": "2021-07-18T19:05:06.110Z"
   },
   {
    "duration": 20,
    "start_time": "2021-07-18T19:05:24.857Z"
   },
   {
    "duration": 24,
    "start_time": "2021-07-18T19:05:32.822Z"
   },
   {
    "duration": 8709,
    "start_time": "2021-07-18T19:06:04.798Z"
   },
   {
    "duration": 8414,
    "start_time": "2021-07-18T19:06:42.750Z"
   },
   {
    "duration": 6504,
    "start_time": "2021-07-18T19:07:06.406Z"
   },
   {
    "duration": 5,
    "start_time": "2021-07-18T19:08:41.438Z"
   },
   {
    "duration": 263,
    "start_time": "2021-07-18T19:08:55.341Z"
   },
   {
    "duration": 6,
    "start_time": "2021-07-18T19:08:58.112Z"
   },
   {
    "duration": 7,
    "start_time": "2021-07-18T19:09:41.949Z"
   },
   {
    "duration": 23,
    "start_time": "2021-07-18T19:09:43.061Z"
   },
   {
    "duration": 7,
    "start_time": "2021-07-18T19:09:49.397Z"
   },
   {
    "duration": 25,
    "start_time": "2021-07-18T19:09:51.047Z"
   },
   {
    "duration": 25,
    "start_time": "2021-07-18T19:09:54.374Z"
   },
   {
    "duration": 24,
    "start_time": "2021-07-18T19:09:58.261Z"
   },
   {
    "duration": 24,
    "start_time": "2021-07-18T19:10:02.157Z"
   },
   {
    "duration": 24,
    "start_time": "2021-07-18T19:10:05.917Z"
   },
   {
    "duration": 4,
    "start_time": "2021-07-18T19:10:25.093Z"
   },
   {
    "duration": 25,
    "start_time": "2021-07-18T19:10:26.229Z"
   },
   {
    "duration": 20,
    "start_time": "2021-07-18T19:10:50.845Z"
   },
   {
    "duration": 4,
    "start_time": "2021-07-18T19:12:30.777Z"
   },
   {
    "duration": 20,
    "start_time": "2021-07-18T19:12:54.182Z"
   },
   {
    "duration": 21,
    "start_time": "2021-07-18T19:13:13.148Z"
   },
   {
    "duration": 24,
    "start_time": "2021-07-18T19:13:14.580Z"
   },
   {
    "duration": 21,
    "start_time": "2021-07-18T19:13:24.388Z"
   },
   {
    "duration": 167,
    "start_time": "2021-07-18T19:13:30.404Z"
   },
   {
    "duration": 182,
    "start_time": "2021-07-18T19:14:37.121Z"
   },
   {
    "duration": 140,
    "start_time": "2021-07-18T19:14:43.748Z"
   },
   {
    "duration": 180,
    "start_time": "2021-07-18T19:14:53.845Z"
   },
   {
    "duration": 175,
    "start_time": "2021-07-18T19:14:55.556Z"
   },
   {
    "duration": 3,
    "start_time": "2021-07-18T19:23:34.033Z"
   },
   {
    "duration": 1047,
    "start_time": "2021-07-18T19:23:34.037Z"
   },
   {
    "duration": 29,
    "start_time": "2021-07-18T19:23:35.086Z"
   },
   {
    "duration": 14,
    "start_time": "2021-07-18T19:23:35.117Z"
   },
   {
    "duration": 38,
    "start_time": "2021-07-18T19:23:35.133Z"
   },
   {
    "duration": 16,
    "start_time": "2021-07-18T19:23:35.173Z"
   },
   {
    "duration": 4,
    "start_time": "2021-07-18T19:23:35.192Z"
   },
   {
    "duration": 4,
    "start_time": "2021-07-18T19:23:35.198Z"
   },
   {
    "duration": 17,
    "start_time": "2021-07-18T19:23:35.203Z"
   },
   {
    "duration": 13,
    "start_time": "2021-07-18T19:23:35.222Z"
   },
   {
    "duration": 14,
    "start_time": "2021-07-18T19:23:35.236Z"
   },
   {
    "duration": 41,
    "start_time": "2021-07-18T19:23:35.251Z"
   },
   {
    "duration": 6,
    "start_time": "2021-07-18T19:23:35.294Z"
   },
   {
    "duration": 11,
    "start_time": "2021-07-18T19:23:35.302Z"
   },
   {
    "duration": 14,
    "start_time": "2021-07-18T19:23:35.315Z"
   },
   {
    "duration": 11,
    "start_time": "2021-07-18T19:23:35.330Z"
   },
   {
    "duration": 42,
    "start_time": "2021-07-18T19:23:35.343Z"
   },
   {
    "duration": 10,
    "start_time": "2021-07-18T19:23:35.386Z"
   },
   {
    "duration": 2,
    "start_time": "2021-07-18T19:23:35.400Z"
   },
   {
    "duration": 4,
    "start_time": "2021-07-18T19:23:35.405Z"
   },
   {
    "duration": 4,
    "start_time": "2021-07-18T19:23:35.410Z"
   },
   {
    "duration": 6,
    "start_time": "2021-07-18T19:23:35.415Z"
   },
   {
    "duration": 11,
    "start_time": "2021-07-18T19:23:35.422Z"
   },
   {
    "duration": 16,
    "start_time": "2021-07-18T19:23:35.434Z"
   },
   {
    "duration": 39,
    "start_time": "2021-07-18T19:23:35.451Z"
   },
   {
    "duration": 7,
    "start_time": "2021-07-18T19:23:35.492Z"
   },
   {
    "duration": 4,
    "start_time": "2021-07-18T19:23:35.501Z"
   },
   {
    "duration": 5,
    "start_time": "2021-07-18T19:23:35.507Z"
   },
   {
    "duration": 5,
    "start_time": "2021-07-18T19:23:35.513Z"
   },
   {
    "duration": 5,
    "start_time": "2021-07-18T19:23:35.519Z"
   },
   {
    "duration": 5,
    "start_time": "2021-07-18T19:23:35.526Z"
   },
   {
    "duration": 5,
    "start_time": "2021-07-18T19:23:35.533Z"
   },
   {
    "duration": 5,
    "start_time": "2021-07-18T19:23:35.539Z"
   },
   {
    "duration": 40,
    "start_time": "2021-07-18T19:23:35.545Z"
   },
   {
    "duration": 3,
    "start_time": "2021-07-18T19:23:35.587Z"
   },
   {
    "duration": 6395,
    "start_time": "2021-07-18T19:23:35.592Z"
   },
   {
    "duration": 175,
    "start_time": "2021-07-18T19:23:41.988Z"
   },
   {
    "duration": 39074,
    "start_time": "2021-07-18T19:23:42.165Z"
   },
   {
    "duration": 188,
    "start_time": "2021-07-18T19:24:21.241Z"
   },
   {
    "duration": 61,
    "start_time": "2021-07-18T19:24:21.432Z"
   },
   {
    "duration": 438,
    "start_time": "2021-07-18T19:24:21.495Z"
   },
   {
    "duration": 4,
    "start_time": "2021-07-18T19:24:21.934Z"
   },
   {
    "duration": 11,
    "start_time": "2021-07-18T19:24:21.940Z"
   },
   {
    "duration": 5,
    "start_time": "2021-07-18T19:24:21.953Z"
   },
   {
    "duration": 25,
    "start_time": "2021-07-18T19:24:21.960Z"
   },
   {
    "duration": 5,
    "start_time": "2021-07-18T19:24:21.987Z"
   },
   {
    "duration": 5,
    "start_time": "2021-07-18T19:24:21.993Z"
   },
   {
    "duration": 9173,
    "start_time": "2021-07-18T19:24:22.000Z"
   },
   {
    "duration": 179,
    "start_time": "2021-07-18T19:24:31.175Z"
   },
   {
    "duration": 6743,
    "start_time": "2021-07-18T19:24:31.356Z"
   },
   {
    "duration": 247,
    "start_time": "2021-07-18T19:24:38.100Z"
   },
   {
    "duration": 9400,
    "start_time": "2021-07-18T19:24:38.350Z"
   },
   {
    "duration": 175,
    "start_time": "2021-07-18T19:24:47.752Z"
   },
   {
    "duration": 29955,
    "start_time": "2021-07-18T19:24:47.929Z"
   },
   {
    "duration": 175,
    "start_time": "2021-07-18T19:25:17.888Z"
   },
   {
    "duration": 21035,
    "start_time": "2021-07-18T19:25:18.065Z"
   },
   {
    "duration": 176,
    "start_time": "2021-07-18T19:25:39.102Z"
   },
   {
    "duration": 30425,
    "start_time": "2021-07-18T19:25:39.280Z"
   },
   {
    "duration": 189,
    "start_time": "2021-07-18T19:26:09.706Z"
   },
   {
    "duration": 90,
    "start_time": "2021-07-18T19:26:09.897Z"
   },
   {
    "duration": 111,
    "start_time": "2021-07-18T19:26:09.989Z"
   },
   {
    "duration": 193,
    "start_time": "2021-07-18T19:26:10.102Z"
   },
   {
    "duration": 436,
    "start_time": "2021-07-18T19:26:10.297Z"
   },
   {
    "duration": 4,
    "start_time": "2021-07-18T19:26:10.735Z"
   },
   {
    "duration": 21,
    "start_time": "2021-07-18T19:26:10.740Z"
   },
   {
    "duration": 172,
    "start_time": "2021-07-18T19:26:10.763Z"
   },
   {
    "duration": 23,
    "start_time": "2021-07-18T19:26:10.936Z"
   },
   {
    "duration": 179,
    "start_time": "2021-07-18T19:26:10.961Z"
   },
   {
    "duration": 186,
    "start_time": "2021-07-18T19:26:11.142Z"
   },
   {
    "duration": 174,
    "start_time": "2021-07-18T19:26:11.329Z"
   },
   {
    "duration": 147,
    "start_time": "2021-07-18T19:26:11.505Z"
   },
   {
    "duration": 183,
    "start_time": "2021-07-18T19:26:11.654Z"
   },
   {
    "duration": 54,
    "start_time": "2021-07-18T19:26:11.838Z"
   },
   {
    "duration": 434,
    "start_time": "2021-07-18T19:26:11.894Z"
   },
   {
    "duration": 57,
    "start_time": "2021-07-18T19:31:51.682Z"
   },
   {
    "duration": 108,
    "start_time": "2021-07-18T19:32:23.721Z"
   },
   {
    "duration": 20,
    "start_time": "2021-07-18T19:33:11.666Z"
   },
   {
    "duration": 359,
    "start_time": "2021-07-18T19:33:13.253Z"
   },
   {
    "duration": 61,
    "start_time": "2021-07-18T19:34:35.220Z"
   },
   {
    "duration": 78,
    "start_time": "2021-07-18T19:34:38.684Z"
   },
   {
    "duration": 268,
    "start_time": "2021-07-18T19:34:44.188Z"
   },
   {
    "duration": 183,
    "start_time": "2021-07-18T19:34:47.572Z"
   },
   {
    "duration": 215,
    "start_time": "2021-07-18T19:34:56.956Z"
   },
   {
    "duration": 201,
    "start_time": "2021-07-18T19:35:01.252Z"
   },
   {
    "duration": 182,
    "start_time": "2021-07-18T19:35:11.332Z"
   },
   {
    "duration": 8,
    "start_time": "2021-07-18T19:35:15.172Z"
   },
   {
    "duration": 443,
    "start_time": "2021-07-18T19:39:06.488Z"
   },
   {
    "duration": 445,
    "start_time": "2021-07-18T19:39:26.167Z"
   },
   {
    "duration": 319,
    "start_time": "2021-07-18T19:39:39.731Z"
   },
   {
    "duration": 294,
    "start_time": "2021-07-18T19:39:59.756Z"
   },
   {
    "duration": 21,
    "start_time": "2021-07-18T19:48:03.429Z"
   },
   {
    "duration": 29,
    "start_time": "2021-07-18T19:48:09.768Z"
   },
   {
    "duration": 19,
    "start_time": "2021-07-18T19:48:13.552Z"
   },
   {
    "duration": 21,
    "start_time": "2021-07-18T19:48:16.248Z"
   },
   {
    "duration": 131,
    "start_time": "2021-07-18T19:49:40.829Z"
   },
   {
    "duration": 119,
    "start_time": "2021-07-18T19:49:47.857Z"
   },
   {
    "duration": 133,
    "start_time": "2021-07-18T19:49:53.224Z"
   },
   {
    "duration": 133,
    "start_time": "2021-07-18T19:49:58.152Z"
   },
   {
    "duration": 23,
    "start_time": "2021-07-18T19:54:09.138Z"
   },
   {
    "duration": 22,
    "start_time": "2021-07-18T19:54:54.367Z"
   },
   {
    "duration": 21,
    "start_time": "2021-07-18T19:55:27.302Z"
   },
   {
    "duration": 324,
    "start_time": "2021-07-18T19:55:27.710Z"
   },
   {
    "duration": 20,
    "start_time": "2021-07-18T19:56:00.327Z"
   },
   {
    "duration": 3,
    "start_time": "2021-07-18T20:04:02.860Z"
   },
   {
    "duration": 1116,
    "start_time": "2021-07-18T20:04:02.865Z"
   },
   {
    "duration": 31,
    "start_time": "2021-07-18T20:04:03.983Z"
   },
   {
    "duration": 15,
    "start_time": "2021-07-18T20:04:04.016Z"
   },
   {
    "duration": 53,
    "start_time": "2021-07-18T20:04:04.033Z"
   },
   {
    "duration": 7,
    "start_time": "2021-07-18T20:04:04.088Z"
   },
   {
    "duration": 4,
    "start_time": "2021-07-18T20:04:04.097Z"
   },
   {
    "duration": 6,
    "start_time": "2021-07-18T20:04:04.103Z"
   },
   {
    "duration": 18,
    "start_time": "2021-07-18T20:04:04.112Z"
   },
   {
    "duration": 13,
    "start_time": "2021-07-18T20:04:04.133Z"
   },
   {
    "duration": 42,
    "start_time": "2021-07-18T20:04:04.148Z"
   },
   {
    "duration": 7,
    "start_time": "2021-07-18T20:04:04.191Z"
   },
   {
    "duration": 7,
    "start_time": "2021-07-18T20:04:04.200Z"
   },
   {
    "duration": 19,
    "start_time": "2021-07-18T20:04:04.209Z"
   },
   {
    "duration": 21,
    "start_time": "2021-07-18T20:04:04.229Z"
   },
   {
    "duration": 13,
    "start_time": "2021-07-18T20:04:04.252Z"
   },
   {
    "duration": 18,
    "start_time": "2021-07-18T20:04:04.266Z"
   },
   {
    "duration": 10,
    "start_time": "2021-07-18T20:04:04.286Z"
   },
   {
    "duration": 5,
    "start_time": "2021-07-18T20:04:04.298Z"
   },
   {
    "duration": 9,
    "start_time": "2021-07-18T20:04:04.305Z"
   },
   {
    "duration": 11,
    "start_time": "2021-07-18T20:04:04.315Z"
   },
   {
    "duration": 12,
    "start_time": "2021-07-18T20:04:04.327Z"
   },
   {
    "duration": 16,
    "start_time": "2021-07-18T20:04:04.340Z"
   },
   {
    "duration": 20,
    "start_time": "2021-07-18T20:04:04.358Z"
   },
   {
    "duration": 13,
    "start_time": "2021-07-18T20:04:04.380Z"
   },
   {
    "duration": 9,
    "start_time": "2021-07-18T20:04:04.394Z"
   },
   {
    "duration": 10,
    "start_time": "2021-07-18T20:04:04.406Z"
   },
   {
    "duration": 20,
    "start_time": "2021-07-18T20:04:04.418Z"
   },
   {
    "duration": 5,
    "start_time": "2021-07-18T20:04:04.440Z"
   },
   {
    "duration": 6,
    "start_time": "2021-07-18T20:04:04.447Z"
   },
   {
    "duration": 7,
    "start_time": "2021-07-18T20:04:04.454Z"
   },
   {
    "duration": 7,
    "start_time": "2021-07-18T20:04:04.462Z"
   },
   {
    "duration": 14,
    "start_time": "2021-07-18T20:04:04.471Z"
   },
   {
    "duration": 5,
    "start_time": "2021-07-18T20:04:04.487Z"
   },
   {
    "duration": 6,
    "start_time": "2021-07-18T20:04:04.494Z"
   },
   {
    "duration": 6695,
    "start_time": "2021-07-18T20:04:04.501Z"
   },
   {
    "duration": 180,
    "start_time": "2021-07-18T20:04:11.198Z"
   },
   {
    "duration": 39597,
    "start_time": "2021-07-18T20:04:11.379Z"
   },
   {
    "duration": 184,
    "start_time": "2021-07-18T20:04:50.978Z"
   },
   {
    "duration": 31,
    "start_time": "2021-07-18T20:04:51.164Z"
   },
   {
    "duration": 437,
    "start_time": "2021-07-18T20:04:51.197Z"
   },
   {
    "duration": 4,
    "start_time": "2021-07-18T20:04:51.636Z"
   },
   {
    "duration": 11,
    "start_time": "2021-07-18T20:04:51.641Z"
   },
   {
    "duration": 5,
    "start_time": "2021-07-18T20:04:51.654Z"
   },
   {
    "duration": 25,
    "start_time": "2021-07-18T20:04:51.661Z"
   },
   {
    "duration": 5,
    "start_time": "2021-07-18T20:04:51.687Z"
   },
   {
    "duration": 5,
    "start_time": "2021-07-18T20:04:51.694Z"
   },
   {
    "duration": 8703,
    "start_time": "2021-07-18T20:04:51.701Z"
   },
   {
    "duration": 173,
    "start_time": "2021-07-18T20:05:00.405Z"
   },
   {
    "duration": 6762,
    "start_time": "2021-07-18T20:05:00.584Z"
   },
   {
    "duration": 223,
    "start_time": "2021-07-18T20:05:07.348Z"
   },
   {
    "duration": 9427,
    "start_time": "2021-07-18T20:05:07.572Z"
   },
   {
    "duration": 164,
    "start_time": "2021-07-18T20:05:17.000Z"
   },
   {
    "duration": 29863,
    "start_time": "2021-07-18T20:05:17.165Z"
   },
   {
    "duration": 175,
    "start_time": "2021-07-18T20:05:47.029Z"
   },
   {
    "duration": 20922,
    "start_time": "2021-07-18T20:05:47.206Z"
   },
   {
    "duration": 188,
    "start_time": "2021-07-18T20:06:08.129Z"
   },
   {
    "duration": 31274,
    "start_time": "2021-07-18T20:06:08.319Z"
   },
   {
    "duration": 175,
    "start_time": "2021-07-18T20:06:39.595Z"
   },
   {
    "duration": 35,
    "start_time": "2021-07-18T20:06:39.771Z"
   },
   {
    "duration": 182,
    "start_time": "2021-07-18T20:06:39.808Z"
   },
   {
    "duration": 193,
    "start_time": "2021-07-18T20:06:39.993Z"
   },
   {
    "duration": 411,
    "start_time": "2021-07-18T20:06:40.188Z"
   },
   {
    "duration": 19,
    "start_time": "2021-07-18T20:06:40.600Z"
   },
   {
    "duration": 167,
    "start_time": "2021-07-18T20:06:40.621Z"
   },
   {
    "duration": 138,
    "start_time": "2021-07-18T20:06:40.789Z"
   },
   {
    "duration": 180,
    "start_time": "2021-07-18T20:06:40.929Z"
   },
   {
    "duration": 73,
    "start_time": "2021-07-18T20:06:41.111Z"
   },
   {
    "duration": 446,
    "start_time": "2021-07-18T20:06:41.187Z"
   }
  ],
  "kernelspec": {
   "display_name": "Python 3",
   "language": "python",
   "name": "python3"
  },
  "language_info": {
   "codemirror_mode": {
    "name": "ipython",
    "version": 3
   },
   "file_extension": ".py",
   "mimetype": "text/x-python",
   "name": "python",
   "nbconvert_exporter": "python",
   "pygments_lexer": "ipython3",
   "version": "3.9.2"
  },
  "toc": {
   "base_numbering": 1,
   "nav_menu": {},
   "number_sections": true,
   "sideBar": true,
   "skip_h1_title": true,
   "title_cell": "Содержание",
   "title_sidebar": "Contents",
   "toc_cell": true,
   "toc_position": {
    "height": "calc(100% - 180px)",
    "left": "10px",
    "top": "150px",
    "width": "615px"
   },
   "toc_section_display": true,
   "toc_window_display": true
  }
 },
 "nbformat": 4,
 "nbformat_minor": 4
}
